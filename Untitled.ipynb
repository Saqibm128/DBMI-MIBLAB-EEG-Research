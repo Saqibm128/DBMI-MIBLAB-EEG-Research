{
 "cells": [
  {
   "cell_type": "code",
   "execution_count": 1,
   "metadata": {},
   "outputs": [],
   "source": [
    "import util_funcs\n",
    "import data_reader as read\n",
    "import pyedflib as edf"
   ]
  },
  {
   "cell_type": "code",
   "execution_count": 6,
   "metadata": {},
   "outputs": [
    {
     "data": {
      "text/plain": [
       "[\"b'\\\\n'\",\n",
       " \"b'CLINICAL HISTORY: 47 year old male found unresponsive with blood sugar at 900. Bilateral\\\\n'\",\n",
       " 'b\"CVA\\'s.\\\\n\"',\n",
       " \"b'\\\\n'\",\n",
       " \"b'MEDICATIONS: Protonix, Ativan, Insulin, Zosyn\\\\n'\",\n",
       " \"b'\\\\n'\",\n",
       " \"b'INTRODUCTION: Continuous digital video EEG was performed in at bedside using standard\\\\n'\",\n",
       " \"b'10-20 system of electrode placement with 1 channel of EKG. Hyperventilation and photic\\\\n'\",\n",
       " \"b'simulation are performed.\\\\n'\",\n",
       " \"b'\\\\n'\",\n",
       " \"b'DESCRIPTION OF THE RECORD: This EEG demonstrates primarily a rhythmically slow\\\\n'\",\n",
       " \"b'pattern with intermittent asymmetries particularly with attenuation in the right. There is a variable\\\\n'\",\n",
       " \"b'pattern and, at times, there is rhythmic theta frequency activity a bit more so on the left than the\\\\n'\",\n",
       " \"b'right. Throughout this, when unstimulated, the patient remains with his head turned to the right.\\\\n'\",\n",
       " \"b'The patient receives midazolam and then phenobarbital which produce an increase in slowing.\\\\n'\",\n",
       " \"b'There are sections of the record with sharp waves picked up on the right and other sections with\\\\n'\",\n",
       " \"b'rhythmic theta on the left. At the close of the record, there Is prominent fast activity. The patient\\\\n'\",\n",
       " \"b'\\\\n'\",\n",
       " \"b'was to receive phenobarbital and it appears that the phenobarbital was administered at the\\\\n'\",\n",
       " \"b'\\\\n'\",\n",
       " \"b'close of the record.\\\\n'\",\n",
       " \"b'\\\\n'\",\n",
       " \"b'HR: 60 bpm\\\\n'\",\n",
       " \"b'\\\\n'\",\n",
       " \"b'IMPRESSION: EEG is remarkable for:\\\\n'\",\n",
       " \"b'\\\\n'\",\n",
       " \"b'1.\\\\n'\",\n",
       " \"b'Subclinical and some clinical seizures.\\\\n'\",\n",
       " \"b'2.\\\\n'\",\n",
       " \"b'Epileptiform activity from either hemisphere.\\\\n'\",\n",
       " \"b'3.\\\\n'\",\n",
       " \"b'Intermittent asymmetries with, at times, more significant suppression from the left\\\\n'\",\n",
       " \"b'hemisphere.\\\\n'\",\n",
       " \"b'CLINICAL CORRELATION: This EEG supports a severe disturbance of cerebral function.\\\\n'\",\n",
       " \"b'Correlation with imaging Is strongly\\\\xe1 advised.\\\\n'\",\n",
       " \"b'\\\\n'\"]"
      ]
     },
     "execution_count": 6,
     "metadata": {},
     "output_type": "execute_result"
    }
   ],
   "source": [
    "\n",
    "with open(\"/home/ms994/v1.5.0/edf/train/01_tcp_ar/064/00006440/s005_2010_04_19/00006440_s005.txt\", 'rb') as r:\n",
    "    lines = r.readlines()\n",
    "    \n",
    "[str(line) for line in lines]"
   ]
  },
  {
   "cell_type": "markdown",
   "metadata": {},
   "source": [
    "# Reviewing data exposed by pyedflib\n",
    "## All fields exposed by edfReader"
   ]
  },
  {
   "cell_type": "code",
   "execution_count": 15,
   "metadata": {},
   "outputs": [
    {
     "name": "stdout",
     "output_type": "stream",
     "text": [
      "['__class__', '__del__', '__delattr__', '__dict__', '__dir__', '__doc__', '__enter__', '__eq__', '__exit__', '__format__', '__ge__', '__getattribute__', '__gt__', '__hash__', '__init__', '__init_subclass__', '__le__', '__lt__', '__module__', '__ne__', '__new__', '__reduce__', '__reduce_ex__', '__repr__', '__setattr__', '__setstate__', '__sizeof__', '__str__', '__subclasshook__', '__weakref__', '_close', '_convert_string', '_get_float', 'admincode', 'annotations_in_file', 'birthdate', 'check_open_ok', 'datarecord_duration', 'datarecords_in_file', 'digital_max', 'digital_min', 'equipment', 'file_duration', 'file_info', 'file_info_long', 'file_name', 'gender', 'getAdmincode', 'getBirthdate', 'getDigitalMaximum', 'getDigitalMinimum', 'getEquipment', 'getFileDuration', 'getGender', 'getHeader', 'getLabel', 'getNSamples', 'getPatientAdditional', 'getPatientCode', 'getPatientName', 'getPhysicalDimension', 'getPhysicalMaximum', 'getPhysicalMinimum', 'getPrefilter', 'getRecordingAdditional', 'getSampleFrequencies', 'getSampleFrequency', 'getSignalHeader', 'getSignalHeaders', 'getSignalLabels', 'getStartdatetime', 'getTechnician', 'getTransducer', 'handle', 'load_datarecord', 'make_buffer', 'open', 'patient', 'patient_additional', 'patientcode', 'patientname', 'physical_dimension', 'physical_max', 'physical_min', 'prefilter', 'readAnnotations', 'readSignal', 'read_annotation', 'read_digital_signal', 'readsignal', 'recording_additional', 'samplefrequency', 'samples_in_datarecord', 'samples_in_file', 'signal_label', 'signals_in_file', 'startdate_day', 'startdate_month', 'startdate_year', 'starttime_hour', 'starttime_minute', 'starttime_second', 'technician', 'transducer']\n",
      "gender:  b''\n",
      "birthdate:  \n"
     ]
    }
   ],
   "source": [
    "testfile = \"/home/ms994/v1.5.0/edf/dev_test/01_tcp_ar/002/00000258/s002_2003_07_21/00000258_s002_t000.edf\"\n",
    "exampleReader = edf.EdfReader(testfile, check_file_size=edf.DO_NOT_CHECK_FILE_SIZE)\n",
    "#All fields exposed by a normal EdfReader, with the library I'm using\n",
    "# https://www.edfplus.info/specs/edfplus.html#additionalspecs\n",
    "print(dir(exampleReader))\n",
    "print('gender: ', exampleReader.gender)\n",
    "print('birthdate: ', exampleReader.getBirthdate())\n",
    "exampleReader._close()"
   ]
  },
  {
   "cell_type": "markdown",
   "metadata": {},
   "source": [
    "## Going through all the edf files to see if any data is set"
   ]
  },
  {
   "cell_type": "code",
   "execution_count": 10,
   "metadata": {},
   "outputs": [
    {
     "name": "stdout",
     "output_type": "stream",
     "text": [
      "{''}\n"
     ]
    }
   ],
   "source": [
    "#Go through all edf files and check and see the unique/distinc machines among all\n",
    "all_token_fns = read.get_all_token_file_names(\"train\", \"01_tcp_ar\")\n",
    "uniqueMachines = set()\n",
    "for token_fn in all_token_fns:\n",
    "    with edf.EdfReader(token_fn, check_file_size=edf.DO_NOT_CHECK_FILE_SIZE) as reader:\n",
    "        uniqueMachines.add(reader.getEquipment())\n",
    "print(uniqueMachines)"
   ]
  },
  {
   "cell_type": "code",
   "execution_count": 8,
   "metadata": {},
   "outputs": [],
   "source": [
    "#Go through all edf files and check and see the unique/distinc technicians among all\n",
    "all_token_fns = read.get_all_token_file_names(\"train\", \"01_tcp_ar\")\n",
    "uniqueTechs = set()\n",
    "for token_fn in all_token_fns:\n",
    "    with edf.EdfReader(token_fn, check_file_size=edf.DO_NOT_CHECK_FILE_SIZE) as reader:\n",
    "        uniqueTechs.add(reader.getTechnician())\n",
    "print(uniqueTechs)"
   ]
  },
  {
   "cell_type": "markdown",
   "metadata": {},
   "source": [
    "# Get clinical notes\n",
    "## Getting the ages"
   ]
  },
  {
   "cell_type": "code",
   "execution_count": 22,
   "metadata": {},
   "outputs": [],
   "source": [
    "from importlib import reload\n",
    "reload(read)\n",
    "import re"
   ]
  },
  {
   "cell_type": "code",
   "execution_count": 24,
   "metadata": {},
   "outputs": [
    {
     "data": {
      "text/plain": [
       "'CLINICAL HISTORY: This is a 41-year-old male with a history of seizures secondary to astrocytoma with a resection x 2, admitted for increasing seizures.\\nMEDICATIONS: Dilantin, Phenobarbital, and Baclofen.\\nINTRODUCTION: Digital video EEG is performed at the bedside in the long-term monitoring unit using standard 10-20 system of electrode placement with one channel of EKG.\\nDESCRIPTION OF THE RECORD: The background EEG is low voltage.  There is nearly continuous T4 spike wave activity. Soon after the recording begins, at 17:13, the patient has his first seizure.  It starts with his right hand rubbing his nose and staying there for about 10 to 15 seconds.  He then began to shake in his left hand, going up to his shoulder, then involving the right hand and both legs.  At that time, his face is turned to the right. Subsequently, his right hand stops shaking and only his left arm and right leg are still shaking.  At that time, his face turns to the left with both eyes deviated to the left. On the video, the rhythm of the left arm shaking is different from that of the right leg shaking.  It seems that the right leg shakes faster than the left arm for about 10 seconds and then the shaking is synchronized (left arm and right leg).  This spell lasts for about three minutes and the patient stopped seizing without a postictal phase and was moving spontaneously his left arm and could talk.  These types of spells occurred quite frequently, anywhere from several minutes to 30 minutes. During the spell, he can hold some objects in his right hand without dropping them.  After the seizure, the patient can put the objects by the bedside himself.  On the tracing, we counted a total number of spells to be 76. More than 40 occurred prior to midnight and about 30 after midnight.  Some high amplitude spike waves emanating from the C4 leads were seen in about half of the patient’s spells.  All of the patient’s spells had a similar course, lasting about 2 to 3 minutes. They started at the left arm, going to the right arm and then generalized tonic-clonic jerking. There was right shaking first and then asymmetric shaking of the left arm and right leg.  From the video, the patient seems to be unresponsive during his spells, but he responds normally immediately after the spells stop.\\nHR:  84 BPM.\\nIMPRESSION: Abnormal EEG due to:\\n1.  More than 100 seizures\\nFrequent epileptiform discharges, which were well correlated with clinical seizures.\\nNearly continuous T4 spike waves.\\nLow voltage recording.\\nCLINICAL CORRELATION: This video EEG demonstrates frequent epileptiform discharges and is well correlated with clinical seizure activity.  The nearly continuous right temporal spike waves may be suggestive of a local pathology for epilepsy.\\n\\n\\n\\n\\n'"
      ]
     },
     "execution_count": 24,
     "metadata": {},
     "output_type": "execute_result"
    }
   ],
   "source": [
    "#sample clinical notes\n",
    "txt = read.get_all_clinical_notes(testfile)\n",
    "txt"
   ]
  },
  {
   "cell_type": "code",
   "execution_count": 107,
   "metadata": {},
   "outputs": [
    {
     "name": "stdout",
     "output_type": "stream",
     "text": [
      "Could not read /home/ms994/v1.5.0/edf/train/01_tcp_ar/114/00011455/s001_2014_05_09/00011455_s001_t001.edf\n",
      "Could not read /home/ms994/v1.5.0/edf/train/01_tcp_ar/064/00006440/s005_2010_04_19/00006440_s005_t001.edf\n",
      "Could not read /home/ms994/v1.5.0/edf/train/01_tcp_ar/064/00006440/s001_2010_04_17/00006440_s001_t001.edf\n",
      "Could not read /home/ms994/v1.5.0/edf/train/01_tcp_ar/064/00006440/s002_2010_04_17/00006440_s002_t003.edf\n",
      "Could not read /home/ms994/v1.5.0/edf/train/01_tcp_ar/064/00006440/s003_2010_04_18/00006440_s003_t000.edf\n",
      "Could not read /home/ms994/v1.5.0/edf/train/01_tcp_ar/115/00011562/s001_2014_05_31/00011562_s001_t000.edf\n",
      "Could not read /home/ms994/v1.5.0/edf/train/01_tcp_ar/115/00011562/s005_2014_06_10/00011562_s005_t000.edf\n"
     ]
    }
   ],
   "source": [
    "num_hits = []\n",
    "ages = {}\n",
    "for token_fn in all_token_fns:\n",
    "    clinical_fn = read.convert_edf_path_to_txt(token_fn)\n",
    "    if clinical_fn in ages:\n",
    "        continue\n",
    "    else:\n",
    "        ages[clinical_fn] = None\n",
    "    try:\n",
    "        txt = read.get_all_clinical_notes(token_fn)\n",
    "        match = re.search(r'(\\d+)\\s*-\\s*year\\s*-\\s*old', txt)\n",
    "        if match is None:\n",
    "            match = re.search(r'(\\d+)\\s*year\\s*old', txt)\n",
    "            if match is None:\n",
    "                match = re.search(r'(\\d+)\\s*y\\.\\s*o\\.', txt)\n",
    "                if match is None:\n",
    "                    match = re.match(r'(\\d+)\\s*(yr|YR)', txt)\n",
    "                    if match is None:\n",
    "                        num_hits.append(0)\n",
    "#                         print(txt)\n",
    "                        continue\n",
    "        num_hits.append(len(match.groups()))\n",
    "        if len(match.groups()) != 0:\n",
    "            ages[clinical_fn] = (match.group(1))\n",
    "    except:\n",
    "        print(\"Could not read {}\".format(token_fn))\n",
    "    \n",
    "\n"
   ]
  },
  {
   "cell_type": "code",
   "execution_count": 179,
   "metadata": {},
   "outputs": [
    {
     "name": "stdout",
     "output_type": "stream",
     "text": [
      "Could not read clinical txt for /home/ms994/v1.5.0/edf/train/01_tcp_ar/114/00011455/s001_2014_05_09/00011455_s001_t001.edf\n",
      "Could not read clinical txt for /home/ms994/v1.5.0/edf/train/01_tcp_ar/064/00006440/s005_2010_04_19/00006440_s005_t001.edf\n",
      "Could not read clinical txt for /home/ms994/v1.5.0/edf/train/01_tcp_ar/064/00006440/s001_2010_04_17/00006440_s001_t001.edf\n",
      "Could not read clinical txt for /home/ms994/v1.5.0/edf/train/01_tcp_ar/064/00006440/s002_2010_04_17/00006440_s002_t003.edf\n",
      "Could not read clinical txt for /home/ms994/v1.5.0/edf/train/01_tcp_ar/064/00006440/s003_2010_04_18/00006440_s003_t000.edf\n",
      "Could not read clinical txt for /home/ms994/v1.5.0/edf/train/01_tcp_ar/115/00011562/s001_2014_05_31/00011562_s001_t000.edf\n",
      "Could not read clinical txt for /home/ms994/v1.5.0/edf/train/01_tcp_ar/115/00011562/s005_2014_06_10/00011562_s005_t000.edf\n"
     ]
    }
   ],
   "source": [
    "reload(read)\n",
    "ages = read.getAgesAndFileNames(\"train\", \"01_tcp_ar\")\n",
    "ages = [ageFn[1] for ageFn in ages]\n"
   ]
  },
  {
   "cell_type": "code",
   "execution_count": 180,
   "metadata": {},
   "outputs": [
    {
     "data": {
      "text/plain": [
       "581"
      ]
     },
     "execution_count": 180,
     "metadata": {},
     "output_type": "execute_result"
    }
   ],
   "source": [
    "len(ages)"
   ]
  },
  {
   "cell_type": "code",
   "execution_count": 114,
   "metadata": {},
   "outputs": [
    {
     "data": {
      "text/plain": [
       "120"
      ]
     },
     "execution_count": 114,
     "metadata": {},
     "output_type": "execute_result"
    }
   ],
   "source": [
    "sum([val is None for val in ages.values()])"
   ]
  },
  {
   "cell_type": "code",
   "execution_count": 116,
   "metadata": {},
   "outputs": [
    {
     "data": {
      "text/plain": [
       "0.8288159771754636"
      ]
     },
     "execution_count": 116,
     "metadata": {},
     "output_type": "execute_result"
    }
   ],
   "source": [
    "581/len(ages)"
   ]
  },
  {
   "cell_type": "code",
   "execution_count": 165,
   "metadata": {},
   "outputs": [
    {
     "data": {
      "image/png": "[encoded data removed]",
      "text/plain": [
       "<Figure size 432x288 with 1 Axes>"
      ]
     },
     "metadata": {
      "needs_background": "light"
     },
     "output_type": "display_data"
    }
   ],
   "source": [
    "import matplotlib.pyplot as plt\n",
    "plt.hist([int(age) for age in ages])\n",
    "plt.title(\"Distribution of Ages\")\n",
    "plt.xlabel(\"Age (years)\")\n",
    "plt.ylabel(\"Frequency (number of Patients)\")\n",
    "plt.show()"
   ]
  },
  {
   "cell_type": "markdown",
   "metadata": {},
   "source": [
    "## Heart Rate"
   ]
  },
  {
   "cell_type": "code",
   "execution_count": 25,
   "metadata": {},
   "outputs": [],
   "source": [
    "import re\n",
    "from importlib import reload\n",
    "reload(read)\n",
    "num_hits = []\n",
    "bpm = {}\n",
    "for token_fn in all_token_fns:\n",
    "    clinical_fn = read.convert_edf_path_to_txt(token_fn)\n",
    "    if clinical_fn in bpm:\n",
    "        continue\n",
    "    else:\n",
    "        bpm[clinical_fn] = None\n",
    "    txt = read.get_all_clinical_notes(token_fn)\n",
    "    txt = txt.lower()\n",
    "    match = re.search(r'(\\d+)\\s*b\\W*p\\W*m', txt)\n",
    "    if match is None:\n",
    "        match = re.search(r'(\\d+)\\s*h\\W*r(\\W+\\s+)', txt)\n",
    "        if match is None:\n",
    "            match = re.search(r'heart\\s*rate\\s*\\W*\\s*(\\d+)', txt)\n",
    "            if match is None:\n",
    "#                 print(txt)\n",
    "                continue\n",
    "    num_hits.append(len(match.groups()))\n",
    "    if len(match.groups()) != 0:\n",
    "        bpm[clinical_fn] = int(match.group(1))\n",
    "\n",
    "    \n",
    "\n"
   ]
  },
  {
   "cell_type": "code",
   "execution_count": 27,
   "metadata": {},
   "outputs": [],
   "source": [
    "toDels = []\n",
    "for key,val in bpm.items():\n",
    "            if val is None:\n",
    "                toDels.append(key)\n",
    "for toDel in toDels:\n",
    "            del bpm[toDel]"
   ]
  },
  {
   "cell_type": "code",
   "execution_count": 26,
   "metadata": {},
   "outputs": [
    {
     "data": {
      "text/plain": [
       "701"
      ]
     },
     "execution_count": 26,
     "metadata": {},
     "output_type": "execute_result"
    }
   ],
   "source": [
    "len(bpm)"
   ]
  },
  {
   "cell_type": "code",
   "execution_count": 29,
   "metadata": {},
   "outputs": [
    {
     "data": {
      "text/plain": [
       "0.5306704707560628"
      ]
     },
     "execution_count": 29,
     "metadata": {},
     "output_type": "execute_result"
    }
   ],
   "source": [
    "len(bpm) / 701"
   ]
  },
  {
   "cell_type": "code",
   "execution_count": 100,
   "metadata": {},
   "outputs": [
    {
     "data": {
      "text/plain": [
       "0.02675480012590494"
      ]
     },
     "execution_count": 100,
     "metadata": {},
     "output_type": "execute_result"
    }
   ],
   "source": [
    "len(bpm)/len(all_token_fns)\n",
    "# print(read.get_all_clinical_notes(\"/home/ms994/v1.5.0/edf/train/01_tcp_ar/103/00010301/s001_2013_05_20/00010301_s001_t000.edf\").lower())"
   ]
  },
  {
   "cell_type": "code",
   "execution_count": 170,
   "metadata": {},
   "outputs": [
    {
     "data": {
      "text/plain": [
       "<module 'data_reader' from '/home/ms994/dbmi_eeg_clustering/data_reader.py'>"
      ]
     },
     "execution_count": 170,
     "metadata": {},
     "output_type": "execute_result"
    }
   ],
   "source": [
    "import predictAgeExp as p\n",
    "reload(read)"
   ]
  },
  {
   "cell_type": "code",
   "execution_count": 171,
   "metadata": {},
   "outputs": [
    {
     "name": "stdout",
     "output_type": "stream",
     "text": [
      "Could not read /home/ms994/v1.5.0/edf/train/01_tcp_ar/114/00011455/s001_2014_05_09/00011455_s001_t001.edf\n",
      "Could not read /home/ms994/v1.5.0/edf/train/01_tcp_ar/064/00006440/s005_2010_04_19/00006440_s005_t001.edf\n",
      "Could not read /home/ms994/v1.5.0/edf/train/01_tcp_ar/064/00006440/s001_2010_04_17/00006440_s001_t001.edf\n",
      "Could not read /home/ms994/v1.5.0/edf/train/01_tcp_ar/064/00006440/s002_2010_04_17/00006440_s002_t003.edf\n",
      "Could not read /home/ms994/v1.5.0/edf/train/01_tcp_ar/064/00006440/s003_2010_04_18/00006440_s003_t000.edf\n",
      "Could not read /home/ms994/v1.5.0/edf/train/01_tcp_ar/115/00011562/s001_2014_05_31/00011562_s001_t000.edf\n",
      "Could not read /home/ms994/v1.5.0/edf/train/01_tcp_ar/115/00011562/s005_2014_06_10/00011562_s005_t000.edf\n",
      "starting precache job with: 4 processes\n",
      "Starting 4 processes\n",
      "retrieving: 0\n",
      "retrieving: 1\n",
      "retrieving: 2\n",
      "retrieving: 3\n",
      "retrieving: 4\n",
      "retrieving: 5\n",
      "retrieving: 6\n",
      "retrieving: 7\n",
      "retrieving: 8\n",
      "retrieving: 9\n"
     ]
    }
   ],
   "source": [
    "data, ages = p.get_data(\"train\", \"01_tcp_ar\", 4, True, num_files=10, window=None, non_overlapping=True)"
   ]
  },
  {
   "cell_type": "code",
   "execution_count": 178,
   "metadata": {},
   "outputs": [
    {
     "data": {
      "text/plain": [
       "(10, 1659)"
      ]
     },
     "execution_count": 178,
     "metadata": {},
     "output_type": "execute_result"
    }
   ],
   "source": [
    "import numpy as np\n",
    "np.stack(data).reshape(len(data), -1).shape"
   ]
  },
  {
   "cell_type": "code",
   "execution_count": null,
   "metadata": {},
   "outputs": [],
   "source": [
    "age"
   ]
  }
 ],
 "metadata": {
  "kernelspec": {
   "display_name": "Python 3",
   "language": "python",
   "name": "python3"
  },
  "language_info": {
   "codemirror_mode": {
    "name": "ipython",
    "version": 3
   },
   "file_extension": ".py",
   "mimetype": "text/x-python",
   "name": "python",
   "nbconvert_exporter": "python",
   "pygments_lexer": "ipython3",
   "version": "3.7.3"
  }
 },
 "nbformat": 4,
 "nbformat_minor": 2
}

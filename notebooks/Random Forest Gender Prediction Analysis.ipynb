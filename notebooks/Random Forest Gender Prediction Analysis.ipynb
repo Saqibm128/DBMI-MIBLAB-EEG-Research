{
 "cells": [
  {
   "cell_type": "code",
   "execution_count": 1,
   "metadata": {},
   "outputs": [],
   "source": [
    "import sys, os\n",
    "sys.path.append(os.path.realpath(\"..\"))\n",
    "\n",
    "import util_funcs\n",
    "from importlib import reload\n",
    "reload(util_funcs)\n",
    "from copy import deepcopy as cp\n",
    "\n",
    "import data_reader as read\n",
    "import pandas as pd\n",
    "import numpy as np\n",
    "import pickle as pkl\n",
    "import matplotlib.pyplot as plt\n",
    "import pywt\n",
    "import tsfresh.feature_extraction.feature_calculators as feats\n",
    "import constants\n",
    "import clinical_text_analysis as cta\n",
    "reload(cta)\n",
    "import tsfresh\n",
    "\n",
    "from os import path\n",
    "\n",
    "reload(read)\n",
    "import wf_analysis.datasets as wfdata"
   ]
  },
  {
   "cell_type": "code",
   "execution_count": 15,
   "metadata": {},
   "outputs": [],
   "source": [
    "from sklearn.ensemble import RandomForestClassifier\n",
    "from sklearn.metrics import roc_auc_score, roc_curve"
   ]
  },
  {
   "cell_type": "code",
   "execution_count": 2,
   "metadata": {},
   "outputs": [
    {
     "name": "stdout",
     "output_type": "stream",
     "text": [
      "3d_positions.csv\n",
      "Neuroscan_locs_orig.mat\n",
      "README.md\n",
      "__pycache__\n",
      "channel_names.csv\n",
      "clinical_text_analysis.py\n",
      "config.json\n",
      "constants.py\n",
      "data_labels.csv\n",
      "data_reader.py\n",
      "env.yaml\n",
      "environmentSetup.sh\n",
      "initial_clustering.py\n",
      "keras_models\n",
      "notebooks\n",
      "out\n",
      "predictAgeExp.py\n",
      "predictBPMExp.py\n",
      "predictBPMlr.pkl\n",
      "predictBPMrf.pkl\n",
      "predictGenderExp.py\n",
      "predictGenderlr.pkl\n",
      "predictGenderrf.pkl\n",
      "run.sh\n",
      "script_runner.py\n",
      "seq_2_seq_exp.py\n",
      "slurm-45351253.out\n",
      "slurm-45351255.out\n",
      "slurm-45384748.out\n",
      "slurm-45384749.out\n",
      "slurm-45384753.out\n",
      "slurm-45390379.out\n",
      "slurm-45390632.out\n",
      "slurm-45390919.out\n",
      "slurm-45390921.out\n",
      "slurm-45390967.out\n",
      "slurm-45390970.out\n",
      "slurm-45392639.out\n",
      "slurm-45392685.out\n",
      "slurm-45403885.out\n",
      "slurm-45480028.out\n",
      "slurm-45492368.out\n",
      "slurm-45509105.out\n",
      "slurm-45512388.out\n",
      "testBPMData.pkl\n",
      "testGenderData.pkl\n",
      "trainBPMData.pkl\n",
      "trainGenderData.pkl\n",
      "util_funcs.py\n",
      "wf_analysis\n"
     ]
    }
   ],
   "source": [
    "%%bash\n",
    "ls .."
   ]
  },
  {
   "cell_type": "code",
   "execution_count": 4,
   "metadata": {},
   "outputs": [],
   "source": [
    "trainData, trainGenders = pkl.load(open(\"../trainGenderData.pkl\", 'rb'))\n",
    "testData, testGenders = pkl.load(open(\"../testGenderData.pkl\", 'rb'))"
   ]
  },
  {
   "cell_type": "markdown",
   "metadata": {},
   "source": [
    "# Setting up RF using the best hyperparameters from CV\n",
    "#### MongoDB run 2695"
   ]
  },
  {
   "cell_type": "code",
   "execution_count": 9,
   "metadata": {},
   "outputs": [],
   "source": [
    "rf = RandomForestClassifier(criterion='gini', max_depth=None, max_features=0.1, \n",
    "                            min_samples_split=0.1,\n",
    "                           min_weight_fraction_leaf=0.2,\n",
    "                           n_estimators=50)"
   ]
  },
  {
   "cell_type": "code",
   "execution_count": 10,
   "metadata": {},
   "outputs": [
    {
     "name": "stderr",
     "output_type": "stream",
     "text": [
      "/home/ms994/miniconda3/envs/keras-redo/lib/python3.7/site-packages/ipykernel_launcher.py:1: DataConversionWarning: A column-vector y was passed when a 1d array was expected. Please change the shape of y to (n_samples,), for example using ravel().\n",
      "  \"\"\"Entry point for launching an IPython kernel.\n"
     ]
    },
    {
     "data": {
      "text/plain": [
       "RandomForestClassifier(bootstrap=True, class_weight=None, criterion='gini',\n",
       "                       max_depth=None, max_features=0.1, max_leaf_nodes=None,\n",
       "                       min_impurity_decrease=0.0, min_impurity_split=None,\n",
       "                       min_samples_leaf=1, min_samples_split=0.1,\n",
       "                       min_weight_fraction_leaf=0.2, n_estimators=50,\n",
       "                       n_jobs=None, oob_score=False, random_state=None,\n",
       "                       verbose=0, warm_start=False)"
      ]
     },
     "execution_count": 10,
     "metadata": {},
     "output_type": "execute_result"
    }
   ],
   "source": [
    "rf.fit(trainData, trainGenders)"
   ]
  },
  {
   "cell_type": "code",
   "execution_count": null,
   "metadata": {},
   "outputs": [],
   "source": []
  },
  {
   "cell_type": "code",
   "execution_count": 26,
   "metadata": {},
   "outputs": [],
   "source": [
    "y_pred = rf.predict_proba(testData)"
   ]
  },
  {
   "cell_type": "code",
   "execution_count": 49,
   "metadata": {},
   "outputs": [
    {
     "data": {
      "text/plain": [
       "True"
      ]
     },
     "execution_count": 49,
     "metadata": {},
     "output_type": "execute_result"
    }
   ],
   "source": [
    "(y_pred[:, 1].round() == rf.predict(testData)).all()"
   ]
  },
  {
   "cell_type": "code",
   "execution_count": 45,
   "metadata": {},
   "outputs": [
    {
     "data": {
      "text/plain": [
       "array([0, 0, 0, 1, 0, 1, 1, 1, 0, 0, 1, 1, 1, 1, 1, 0, 0, 0, 0, 1, 0, 0,\n",
       "       1, 1, 0, 1, 0, 0, 0, 0, 0, 0, 1, 0, 0, 0, 1, 0, 0, 0, 0, 0, 0, 0,\n",
       "       0, 0, 0, 1, 0, 0, 0, 0, 0, 0, 1, 0, 0, 0, 0, 0, 1, 1, 1, 0, 0, 0,\n",
       "       0, 1, 0, 0, 0, 1, 0, 0, 0, 1, 1, 0, 0, 0, 0, 0, 0, 0, 0, 0, 1, 1,\n",
       "       1, 1, 1, 1, 1, 1, 1, 0, 0, 0, 0, 1, 0, 1, 0, 1, 0, 1, 0, 0, 0, 1,\n",
       "       1, 0, 0, 1, 1, 0, 1, 1, 1, 1, 0, 0, 0, 0, 0, 1, 1, 0, 0, 1, 1, 0,\n",
       "       0, 0, 0, 0, 0, 0, 0, 0, 0, 0, 0, 0, 1, 0, 1, 1, 1, 1, 1, 1, 1, 1,\n",
       "       1, 0, 0, 1, 1, 1, 1, 0, 1, 0, 0, 1, 0, 1, 0, 1, 1, 1, 1, 1, 1, 0,\n",
       "       0, 0, 0, 0, 1, 1, 0, 0, 0, 0, 0, 0, 0, 0, 0, 1, 0, 0, 1, 0, 1, 1,\n",
       "       1, 1, 1, 1, 1, 0, 1, 1, 1, 1, 1, 1, 1, 1, 1, 1, 1, 1, 0, 0, 0, 1,\n",
       "       1, 1, 1, 1, 1, 1, 1, 1, 1, 1, 1, 1, 1, 1, 1, 1, 1, 1, 1, 1, 1, 1,\n",
       "       1, 0, 1, 0, 0, 0, 0, 0, 0, 1, 1, 0, 0, 0, 0, 0, 0, 0, 1, 0, 0, 1,\n",
       "       0, 0, 0, 0, 0, 0, 0, 0, 0, 0, 0, 1, 1, 1, 1, 1, 1, 1, 1, 1, 1, 1,\n",
       "       0, 1, 1, 1, 1, 1, 1, 1, 1, 1, 1, 0, 1, 1, 1, 1, 1, 1, 1, 1, 1, 1,\n",
       "       1, 0, 0, 1, 0, 0, 1, 0, 1, 1, 0, 1, 1, 1, 1, 1, 1, 1, 0, 0, 1, 1,\n",
       "       1, 1, 1, 1, 1, 0, 0, 0, 1, 1, 0, 0, 1, 0, 0, 0, 0, 0, 0, 1, 0, 1,\n",
       "       1, 0, 0, 0, 1, 0, 1, 0, 1, 0, 0, 0, 1, 1, 0, 0, 1, 0, 1, 0, 0, 0,\n",
       "       0, 1, 1, 1, 1, 1, 0, 1, 1, 1, 1, 1, 0, 0, 0, 0, 0, 0, 0, 1, 0, 0,\n",
       "       0, 0, 0, 0, 1, 0, 0, 1, 1, 1, 0, 1, 1, 1, 1, 1, 1, 1, 1, 1, 1, 1,\n",
       "       0, 1, 1, 1, 1, 1, 1, 1, 0, 0, 1, 1, 1, 1, 1, 1, 1, 1, 0, 0, 0, 1,\n",
       "       1, 0, 1, 1, 1, 0, 1, 1, 0, 1, 1, 0, 1, 1, 1, 0, 0, 1, 0, 1, 1, 1,\n",
       "       1, 1, 0, 1, 1, 0, 1, 1, 1, 0, 0, 1, 0, 0, 0, 1, 0, 0, 0, 0, 0, 0,\n",
       "       0, 0, 0, 0, 0, 0, 0, 0, 0, 0, 0, 0, 0, 0, 0, 0, 0, 0, 1, 0, 0, 0,\n",
       "       0, 0, 0, 0, 0, 0, 0, 0, 0, 0, 0, 0, 0, 0, 0, 0, 0, 0, 0, 0, 0, 0,\n",
       "       0, 0, 0, 0, 0, 0, 0, 0, 0, 0, 0, 0, 0, 0, 1, 1, 1, 1, 1, 1, 1, 0,\n",
       "       0, 0, 1, 1, 1, 1, 1, 1, 1, 1, 1, 1, 0, 0, 1, 0, 1, 0, 1, 0, 1, 1,\n",
       "       0, 1, 0, 1, 1, 1, 1, 0, 1, 1, 0, 1, 1, 0, 1, 0, 1, 1, 0, 1, 1, 0,\n",
       "       0, 0, 1, 1, 1, 1, 1, 0, 1, 0, 0, 1, 1, 0, 1, 1, 0, 1, 1, 0, 1, 1,\n",
       "       0, 1, 0, 1, 0, 1, 0, 0, 0, 0, 0, 0, 0, 1, 0, 0, 0, 1, 1, 1, 1, 1,\n",
       "       1, 1, 1, 1, 1, 1, 1, 1, 1, 1, 1, 1, 1, 0, 1, 1, 0, 1, 1, 1, 1, 1,\n",
       "       1, 1, 1, 1, 1, 1, 0, 0, 0, 0, 0, 1, 0, 1, 0, 1, 0, 0, 0, 1, 0, 0,\n",
       "       1, 1, 0, 1, 1, 1, 0, 0, 1, 0, 1, 1, 0, 1, 0, 0, 0, 0, 0, 0, 0, 1,\n",
       "       1, 0, 0, 1, 1, 1, 1, 1, 1, 1, 0, 1, 1, 0, 1, 0, 1, 1, 1, 1, 1, 0,\n",
       "       1, 1, 1, 1, 1, 0, 0, 0, 1, 1, 1, 1, 0, 1, 1, 0, 1, 1, 1, 1, 1, 1,\n",
       "       1, 0, 1, 1, 1, 0, 1, 0, 0, 0, 0, 0, 0, 0, 0, 0])"
      ]
     },
     "execution_count": 45,
     "metadata": {},
     "output_type": "execute_result"
    }
   ],
   "source": [
    "rf.predict(testData)"
   ]
  },
  {
   "cell_type": "code",
   "execution_count": 14,
   "metadata": {},
   "outputs": [
    {
     "data": {
      "text/plain": [
       "0.5117801047120419"
      ]
     },
     "execution_count": 14,
     "metadata": {},
     "output_type": "execute_result"
    }
   ],
   "source": [
    "y_pred.sum()/len(y_pred)"
   ]
  },
  {
   "cell_type": "code",
   "execution_count": 50,
   "metadata": {},
   "outputs": [
    {
     "data": {
      "text/plain": [
       "0.6864623685666851"
      ]
     },
     "execution_count": 50,
     "metadata": {},
     "output_type": "execute_result"
    }
   ],
   "source": [
    "roc_auc_score(testGenders, y_pred[:, 1].round())"
   ]
  },
  {
   "cell_type": "code",
   "execution_count": 51,
   "metadata": {},
   "outputs": [],
   "source": [
    "fpr, tpr, z = roc_curve(testGenders, y_pred[:, 1])"
   ]
  },
  {
   "cell_type": "code",
   "execution_count": 59,
   "metadata": {},
   "outputs": [
    {
     "data": {
      "text/plain": [
       "Text(0, 0.5, 'TPR')"
      ]
     },
     "execution_count": 59,
     "metadata": {},
     "output_type": "execute_result"
    },
    {
     "data": {
      "image/png": "[encoded data removed]",
      "text/plain": [
       "<Figure size 432x288 with 1 Axes>"
      ]
     },
     "metadata": {
      "needs_background": "light"
     },
     "output_type": "display_data"
    }
   ],
   "source": [
    "plt.title(\"ROC-AUC for RF, Best Hyperparameters\")\n",
    "plt.plot(fpr, tpr)\n",
    "plt.xlabel(\"FPR\")\n",
    "plt.ylabel(\"TPR\")"
   ]
  },
  {
   "cell_type": "code",
   "execution_count": 54,
   "metadata": {},
   "outputs": [],
   "source": [
    "from sklearn.metrics import confusion_matrix"
   ]
  },
  {
   "cell_type": "code",
   "execution_count": 119,
   "metadata": {},
   "outputs": [
    {
     "data": {
      "text/html": [
       "<div>\n",
       "<style scoped>\n",
       "    .dataframe tbody tr th:only-of-type {\n",
       "        vertical-align: middle;\n",
       "    }\n",
       "\n",
       "    .dataframe tbody tr th {\n",
       "        vertical-align: top;\n",
       "    }\n",
       "\n",
       "    .dataframe thead th {\n",
       "        text-align: right;\n",
       "    }\n",
       "</style>\n",
       "<table border=\"1\" class=\"dataframe\">\n",
       "  <thead>\n",
       "    <tr style=\"text-align: right;\">\n",
       "      <th></th>\n",
       "      <th>Predict female</th>\n",
       "      <th>Predict male</th>\n",
       "    </tr>\n",
       "  </thead>\n",
       "  <tbody>\n",
       "    <tr>\n",
       "      <th>female</th>\n",
       "      <td>158</td>\n",
       "      <td>50</td>\n",
       "    </tr>\n",
       "    <tr>\n",
       "      <th>male</th>\n",
       "      <td>215</td>\n",
       "      <td>341</td>\n",
       "    </tr>\n",
       "  </tbody>\n",
       "</table>\n",
       "</div>"
      ],
      "text/plain": [
       "        Predict female  Predict male\n",
       "female             158            50\n",
       "male               215           341"
      ]
     },
     "execution_count": 119,
     "metadata": {},
     "output_type": "execute_result"
    }
   ],
   "source": [
    "cm = confusion_matrix(testGenders, y_pred[:,1].round())\n",
    "cm = pd.DataFrame(cm, index=[\"female\", \"male\"], columns=[\"Predict female\", \"Predict male\"])\n",
    "cm"
   ]
  },
  {
   "cell_type": "code",
   "execution_count": 63,
   "metadata": {},
   "outputs": [
    {
     "data": {
      "text/plain": [
       "(69,)"
      ]
     },
     "execution_count": 63,
     "metadata": {},
     "output_type": "execute_result"
    }
   ],
   "source": [
    "feat_imp = rf.feature_importances_\n",
    "feat_imp.shape"
   ]
  },
  {
   "cell_type": "code",
   "execution_count": 105,
   "metadata": {},
   "outputs": [],
   "source": [
    "#From MongoDB Run 2695, just get the labels back and reassemble a 1-d list of features that corresponds to original data\n",
    "channels = [\"f4\", \"c4\", \"o2\", \"f3\", \"c3\", \"o1\"]\n",
    "freq_bins = [0, 3.5, 7.5, 14,20,21,22,23,24,25]\n",
    "named_freq_bins = [\"{}-{}\".format(freq, freq_bins[freq_i + 1]) for freq_i, freq in enumerate(freq_bins[:-1])]\n",
    "channel_freqs = [channel+\"_freq_bin_{}-{}\".format(freq, freq_bins[freq_i+1]) for freq_i, freq in enumerate(freq_bins[:-1]) for channel in channels ]\n",
    "coherences = []\n",
    "for k in range(len(channels) - 1):\n",
    "    for j in range(k + 1, len(channels)):\n",
    "        coherences.append(\"coherence_{}_{}\".format(channels[k], channels[j]))\n",
    "feats = channel_freqs + coherences"
   ]
  },
  {
   "cell_type": "code",
   "execution_count": 96,
   "metadata": {},
   "outputs": [
    {
     "name": "stdout",
     "output_type": "stream",
     "text": [
      "f4_freq_bin_3.5-7.5    0.097227\n",
      "coherence_c4_o2        0.089752\n",
      "f4_freq_bin_7.5-14     0.071503\n",
      "coherence_c4_o1        0.063287\n",
      "coherence_c4_f3        0.052280\n",
      "coherence_f3_c3        0.049923\n",
      "coherence_f4_f3        0.038176\n",
      "coherence_f4_c4        0.037007\n",
      "o1_freq_bin_22-23      0.030522\n",
      "coherence_o2_f3        0.028975\n",
      "o1_freq_bin_3.5-7.5    0.027956\n",
      "o2_freq_bin_3.5-7.5    0.026073\n",
      "o2_freq_bin_7.5-14     0.021890\n",
      "f3_freq_bin_0-3.5      0.020586\n",
      "coherence_c3_o1        0.020531\n",
      "o1_freq_bin_7.5-14     0.020137\n",
      "c4_freq_bin_3.5-7.5    0.018824\n",
      "o1_freq_bin_20-21      0.018385\n",
      "o1_freq_bin_23-24      0.018200\n",
      "c3_freq_bin_21-22      0.016730\n",
      "f4_freq_bin_0-3.5      0.016494\n",
      "c4_freq_bin_7.5-14     0.016140\n",
      "o1_freq_bin_21-22      0.015889\n",
      "coherence_f4_c3        0.015464\n",
      "c4_freq_bin_22-23      0.013443\n",
      "o1_freq_bin_0-3.5      0.013351\n",
      "c4_freq_bin_0-3.5      0.011816\n",
      "f4_freq_bin_20-21      0.011595\n",
      "o2_freq_bin_24-25      0.011468\n",
      "o2_freq_bin_23-24      0.011386\n",
      "                         ...   \n",
      "coherence_f4_o1        0.004929\n",
      "f3_freq_bin_24-25      0.004800\n",
      "c3_freq_bin_0-3.5      0.004745\n",
      "f4_freq_bin_22-23      0.003871\n",
      "o2_freq_bin_14-20      0.002704\n",
      "c3_freq_bin_23-24      0.002499\n",
      "f3_freq_bin_3.5-7.5    0.002343\n",
      "o2_freq_bin_22-23      0.002082\n",
      "f3_freq_bin_14-20      0.001217\n",
      "c4_freq_bin_14-20      0.000861\n",
      "o1_freq_bin_14-20      0.000713\n",
      "c4_freq_bin_24-25      0.000000\n",
      "c3_freq_bin_3.5-7.5    0.000000\n",
      "f4_freq_bin_23-24      0.000000\n",
      "coherence_f3_o1        0.000000\n",
      "f3_freq_bin_23-24      0.000000\n",
      "f3_freq_bin_21-22      0.000000\n",
      "coherence_c4_c3        0.000000\n",
      "c3_freq_bin_20-21      0.000000\n",
      "coherence_f4_o2        0.000000\n",
      "f3_freq_bin_20-21      0.000000\n",
      "c4_freq_bin_23-24      0.000000\n",
      "c4_freq_bin_20-21      0.000000\n",
      "f3_freq_bin_7.5-14     0.000000\n",
      "c3_freq_bin_7.5-14     0.000000\n",
      "c3_freq_bin_24-25      0.000000\n",
      "f4_freq_bin_14-20      0.000000\n",
      "f3_freq_bin_22-23      0.000000\n",
      "c3_freq_bin_14-20      0.000000\n",
      "f4_freq_bin_24-25      0.000000\n",
      "Length: 69, dtype: float64\n"
     ]
    }
   ],
   "source": [
    "print(pd.Series(feat_imp, index=feats).sort_values(ascending=False))"
   ]
  },
  {
   "cell_type": "code",
   "execution_count": 118,
   "metadata": {},
   "outputs": [
    {
     "data": {
      "text/plain": [
       "(        Predict Male  Predict Female\n",
       " Male             158              50\n",
       " Female           215             341, array([158,  50, 215, 341]))"
      ]
     },
     "execution_count": 118,
     "metadata": {},
     "output_type": "execute_result"
    }
   ],
   "source": [
    "cm, cm.values.reshape(-1)"
   ]
  },
  {
   "cell_type": "code",
   "execution_count": 113,
   "metadata": {},
   "outputs": [
    {
     "data": {
      "text/html": [
       "<div>\n",
       "<style scoped>\n",
       "    .dataframe tbody tr th:only-of-type {\n",
       "        vertical-align: middle;\n",
       "    }\n",
       "\n",
       "    .dataframe tbody tr th {\n",
       "        vertical-align: top;\n",
       "    }\n",
       "\n",
       "    .dataframe thead th {\n",
       "        text-align: right;\n",
       "    }\n",
       "</style>\n",
       "<table border=\"1\" class=\"dataframe\">\n",
       "  <thead>\n",
       "    <tr style=\"text-align: right;\">\n",
       "      <th></th>\n",
       "      <th>0-3.5</th>\n",
       "      <th>3.5-7.5</th>\n",
       "      <th>7.5-14</th>\n",
       "      <th>14-20</th>\n",
       "      <th>20-21</th>\n",
       "      <th>21-22</th>\n",
       "      <th>22-23</th>\n",
       "      <th>23-24</th>\n",
       "      <th>24-25</th>\n",
       "    </tr>\n",
       "  </thead>\n",
       "  <tbody>\n",
       "    <tr>\n",
       "      <th>f4</th>\n",
       "      <td>0.016494</td>\n",
       "      <td>0.097227</td>\n",
       "      <td>0.071503</td>\n",
       "      <td>0.000000</td>\n",
       "      <td>0.011595</td>\n",
       "      <td>0.004983</td>\n",
       "      <td>0.003871</td>\n",
       "      <td>0.000000</td>\n",
       "      <td>0.000000</td>\n",
       "    </tr>\n",
       "    <tr>\n",
       "      <th>c4</th>\n",
       "      <td>0.011816</td>\n",
       "      <td>0.018824</td>\n",
       "      <td>0.016140</td>\n",
       "      <td>0.000861</td>\n",
       "      <td>0.000000</td>\n",
       "      <td>0.006937</td>\n",
       "      <td>0.013443</td>\n",
       "      <td>0.000000</td>\n",
       "      <td>0.000000</td>\n",
       "    </tr>\n",
       "    <tr>\n",
       "      <th>o2</th>\n",
       "      <td>0.006430</td>\n",
       "      <td>0.026073</td>\n",
       "      <td>0.021890</td>\n",
       "      <td>0.002704</td>\n",
       "      <td>0.009092</td>\n",
       "      <td>0.008661</td>\n",
       "      <td>0.002082</td>\n",
       "      <td>0.011386</td>\n",
       "      <td>0.011468</td>\n",
       "    </tr>\n",
       "    <tr>\n",
       "      <th>f3</th>\n",
       "      <td>0.020586</td>\n",
       "      <td>0.002343</td>\n",
       "      <td>0.000000</td>\n",
       "      <td>0.001217</td>\n",
       "      <td>0.000000</td>\n",
       "      <td>0.000000</td>\n",
       "      <td>0.000000</td>\n",
       "      <td>0.000000</td>\n",
       "      <td>0.004800</td>\n",
       "    </tr>\n",
       "    <tr>\n",
       "      <th>c3</th>\n",
       "      <td>0.004745</td>\n",
       "      <td>0.000000</td>\n",
       "      <td>0.000000</td>\n",
       "      <td>0.000000</td>\n",
       "      <td>0.000000</td>\n",
       "      <td>0.016730</td>\n",
       "      <td>0.005568</td>\n",
       "      <td>0.002499</td>\n",
       "      <td>0.000000</td>\n",
       "    </tr>\n",
       "    <tr>\n",
       "      <th>o1</th>\n",
       "      <td>0.013351</td>\n",
       "      <td>0.027956</td>\n",
       "      <td>0.020137</td>\n",
       "      <td>0.000713</td>\n",
       "      <td>0.018385</td>\n",
       "      <td>0.015889</td>\n",
       "      <td>0.030522</td>\n",
       "      <td>0.018200</td>\n",
       "      <td>0.006456</td>\n",
       "    </tr>\n",
       "  </tbody>\n",
       "</table>\n",
       "</div>"
      ],
      "text/plain": [
       "       0-3.5   3.5-7.5    7.5-14     14-20     20-21     21-22     22-23  \\\n",
       "f4  0.016494  0.097227  0.071503  0.000000  0.011595  0.004983  0.003871   \n",
       "c4  0.011816  0.018824  0.016140  0.000861  0.000000  0.006937  0.013443   \n",
       "o2  0.006430  0.026073  0.021890  0.002704  0.009092  0.008661  0.002082   \n",
       "f3  0.020586  0.002343  0.000000  0.001217  0.000000  0.000000  0.000000   \n",
       "c3  0.004745  0.000000  0.000000  0.000000  0.000000  0.016730  0.005568   \n",
       "o1  0.013351  0.027956  0.020137  0.000713  0.018385  0.015889  0.030522   \n",
       "\n",
       "       23-24     24-25  \n",
       "f4  0.000000  0.000000  \n",
       "c4  0.000000  0.000000  \n",
       "o2  0.011386  0.011468  \n",
       "f3  0.000000  0.004800  \n",
       "c3  0.002499  0.000000  \n",
       "o1  0.018200  0.006456  "
      ]
     },
     "execution_count": 113,
     "metadata": {},
     "output_type": "execute_result"
    }
   ],
   "source": [
    "channel_feat_imp = pd.DataFrame(feat_imp[:len(channel_freqs)].reshape(9, 6), columns=channels, index=named_freq_bins).T\n",
    "channel_feat_imp"
   ]
  },
  {
   "cell_type": "code",
   "execution_count": 114,
   "metadata": {},
   "outputs": [
    {
     "data": {
      "text/plain": [
       "f4    0.020448\n",
       "c4    0.020380\n",
       "o2    0.042690\n",
       "f3    0.004800\n",
       "c3    0.024797\n",
       "o1    0.089452\n",
       "dtype: float64"
      ]
     },
     "execution_count": 114,
     "metadata": {},
     "output_type": "execute_result"
    }
   ],
   "source": [
    "channel_feat_imp[named_freq_bins[4:]].sum(axis=1)"
   ]
  }
 ],
 "metadata": {
  "kernelspec": {
   "display_name": "Python 3",
   "language": "python",
   "name": "python3"
  },
  "language_info": {
   "codemirror_mode": {
    "name": "ipython",
    "version": 3
   },
   "file_extension": ".py",
   "mimetype": "text/x-python",
   "name": "python",
   "nbconvert_exporter": "python",
   "pygments_lexer": "ipython3",
   "version": "3.7.3"
  }
 },
 "nbformat": 4,
 "nbformat_minor": 2
}

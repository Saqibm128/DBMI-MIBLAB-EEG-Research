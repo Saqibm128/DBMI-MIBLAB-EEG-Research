{
 "cells": [
  {
   "cell_type": "code",
   "execution_count": 10,
   "metadata": {},
   "outputs": [
    {
     "data": {
      "text/plain": [
       "<module 'clinical_text_analysis' from '/home/ms994/second_dbmi_eeg_clustering/clinical_text_analysis.py'>"
      ]
     },
     "execution_count": 10,
     "metadata": {},
     "output_type": "execute_result"
    }
   ],
   "source": [
    "import pandas as pd\n",
    "import sys, os\n",
    "sys.path.append(os.path.realpath(\"..\"))\n",
    "import numpy as np\n",
    "import util_funcs\n",
    "from importlib import reload\n",
    "import constants\n",
    "reload(util_funcs)\n",
    "import clinical_text_analysis as cta\n",
    "reload(cta)"
   ]
  },
  {
   "cell_type": "code",
   "execution_count": 11,
   "metadata": {},
   "outputs": [
    {
     "data": {
      "text/plain": [
       "<module 'data_reader' from '/home/ms994/second_dbmi_eeg_clustering/data_reader.py'>"
      ]
     },
     "execution_count": 11,
     "metadata": {},
     "output_type": "execute_result"
    }
   ],
   "source": [
    "import data_reader as read\n",
    "reload(read)"
   ]
  },
  {
   "cell_type": "code",
   "execution_count": 12,
   "metadata": {},
   "outputs": [],
   "source": [
    "edfPaths, genders = cta.demux_to_tokens(cta.getGenderAndFileNames(\"train\", \"01_tcp_ar\", convert_gender_to_num=True))"
   ]
  },
  {
   "cell_type": "code",
   "execution_count": 23,
   "metadata": {},
   "outputs": [],
   "source": [
    "# import pdb; pdb.set_trace();\n",
    "data = read.EdfDatasetEnsembler(\"train\", \"01_tcp_ar\", max_num_samples=20, edf_tokens=edfPaths, labels=genders)"
   ]
  },
  {
   "cell_type": "code",
   "execution_count": 24,
   "metadata": {},
   "outputs": [
    {
     "data": {
      "text/plain": [
       "51323"
      ]
     },
     "execution_count": 24,
     "metadata": {},
     "output_type": "execute_result"
    }
   ],
   "source": [
    "len(data)"
   ]
  },
  {
   "cell_type": "code",
   "execution_count": 25,
   "metadata": {},
   "outputs": [
    {
     "data": {
      "text/plain": [
       "(array([[ -47.375004 ,  -22.541344 ,  -48.977173 , ...,  -40.947243 ,\n",
       "          -27.51952  ,  115.15005  ],\n",
       "        [ -34.99632  ,  -21.339714 ,  -40.298744 , ...,  -33.928207 ,\n",
       "          -23.95278  ,  112.74679  ],\n",
       "        [ -22.922813 ,  -13.881988 ,  -32.421402 , ...,  -26.890095 ,\n",
       "          -26.184376 ,  108.34082  ],\n",
       "        ...,\n",
       "        [  -7.3779335,    5.7636886,   -1.8275533, ...,  -14.797514 ,\n",
       "          -28.62578  , -221.59209  ],\n",
       "        [   4.4285455,    7.2704926,    8.453048 , ...,   -8.255313 ,\n",
       "          -28.18709  , -281.1204   ],\n",
       "        [  22.872593 ,    9.940779 ,   26.401184 , ...,    1.6819655,\n",
       "          -13.767547 , -269.1041   ]], dtype=float32), 0)"
      ]
     },
     "execution_count": 25,
     "metadata": {},
     "output_type": "execute_result"
    }
   ],
   "source": [
    "data[0]"
   ]
  },
  {
   "cell_type": "code",
   "execution_count": 16,
   "metadata": {},
   "outputs": [],
   "source": [
    "from keras_models.dataGen import EdfDataGenerator\n",
    "from keras_models.vanPutten import vp_conv2d"
   ]
  },
  {
   "cell_type": "code",
   "execution_count": null,
   "metadata": {},
   "outputs": [
    {
     "name": "stdout",
     "output_type": "stream",
     "text": [
      "Starting 28 processes\n",
      "retrieving: 0\n",
      "retrieving: 10\n",
      "retrieving: 20\n",
      "retrieving: 30\n",
      "retrieving: 40\n",
      "retrieving: 50\n",
      "retrieving: 60\n",
      "retrieving: 70\n",
      "read 1020, less than 1030 requested!!!\n",
      "read 1020, less than 1030 requested!!!\n",
      "retrieving: 80\n",
      "read 1020, less than 1030 requested!!!\n",
      "read 1020, less than 1030 requested!!!\n",
      "read 1020, less than 1030 requested!!!\n",
      "retrieving: 90\n",
      "read 1020, less than 1030 requested!!!\n",
      "read 1020, less than 1030 requested!!!\n",
      "read 1020, less than 1030 requested!!!\n",
      "read 1020, less than 1030 requested!!!\n",
      "read 1020, less than 1030 requested!!!\n",
      "retrieving: 100\n",
      "read 1020, less than 1030 requested!!!\n",
      "retrieving: 110\n",
      "read 1020, less than 1030 requested!!!\n",
      "read 1020, less than 1030 requested!!!\n",
      "retrieving: 120\n",
      "read 1020, less than 1030 requested!!!\n",
      "read 1020, less than 1030 requested!!!\n",
      "read 1020, less than 1030 requested!!!\n",
      "retrieving: 130\n",
      "read 1020, less than 1030 requested!!!\n",
      "retrieving: 140\n",
      "read 1020, less than 1030 requested!!!\n",
      "read 8, less than 9 requested!!!\n",
      "read 1020, less than 1030 requested!!!\n",
      "read 8, less than 9 requested!!!\n",
      "read 1020, less than 1030 requested!!!\n",
      "retrieving: 150\n",
      "read 1020, less than 1030 requested!!!\n",
      "read 8, less than 9 requested!!!\n",
      "retrieving: 160\n",
      "read 1020, less than 1030 requested!!!\n",
      "read 1020, less than 1030 requested!!!\n",
      "retrieving: 170\n",
      "read 1020, less than 1030 requested!!!\n",
      "read 8, less than 9 requested!!!\n",
      "read 1020, less than 1030 requested!!!\n",
      "read 1020, less than 1030 requested!!!\n",
      "retrieving: 180\n",
      "read 8, less than 9 requested!!!\n",
      "read 4, less than 9 requested!!!\n",
      "read 8, less than 9 requested!!!\n",
      "retrieving: 190\n",
      "read 4, less than 9 requested!!!\n",
      "read 4, less than 9 requested!!!\n",
      "read 1020, less than 1030 requested!!!\n",
      "retrieving: 200\n",
      "read 1020, less than 1030 requested!!!\n",
      "retrieving: 210\n",
      "read 8, less than 9 requested!!!\n",
      "read 1020, less than 1030 requested!!!\n",
      "retrieving: 220\n",
      "read 1020, less than 1030 requested!!!\n",
      "read 8, less than 9 requested!!!\n",
      "read 8, less than 9 requested!!!\n",
      "read 1020, less than 1030 requested!!!\n",
      "read 1020, less than 1030 requested!!!\n",
      "retrieving: 230\n",
      "read 1020, less than 1030 requested!!!\n",
      "retrieving: 240\n",
      "read 1020, less than 1030 requested!!!\n",
      "read 1020, less than 1030 requested!!!\n",
      "read 1020, less than 1030 requested!!!\n",
      "read 5, less than 9 requested!!!\n",
      "retrieving: 250\n",
      "read 5, less than 9 requested!!!\n",
      "read 1020, less than 1030 requested!!!\n",
      "read 5, less than 9 requested!!!\n",
      "retrieving: 260\n",
      "read 1020, less than 1030 requested!!!\n",
      "read 1020, less than 1030 requested!!!\n",
      "retrieving: 270\n",
      "read 1020, less than 1030 requested!!!\n",
      "read 1020, less than 1030 requested!!!\n",
      "read 5, less than 9 requested!!!\n",
      "retrieving: 280\n",
      "read 1020, less than 1030 requested!!!\n",
      "read 5, less than 9 requested!!!\n",
      "retrieving: 290\n",
      "read 5, less than 9 requested!!!\n",
      "read 1020, less than 1030 requested!!!\n",
      "read 1020, less than 1030 requested!!!\n",
      "retrieving: 300\n",
      "read 1020, less than 1030 requested!!!\n",
      "read 1020, less than 1030 requested!!!\n",
      "read 1020, less than 1030 requested!!!\n",
      "retrieving: 310\n",
      "read 1020, less than 1030 requested!!!\n",
      "retrieving: 320\n",
      "read 1020, less than 1030 requested!!!\n",
      "read 8, less than 9 requested!!!\n",
      "read 8, less than 9 requested!!!\n",
      "read 1020, less than 1030 requested!!!\n",
      "read 8, less than 9 requested!!!\n",
      "retrieving: 330\n",
      "read 1020, less than 1030 requested!!!\n",
      "read 1020, less than 1030 requested!!!\n",
      "retrieving: 340\n",
      "read 4, less than 9 requested!!!\n",
      "read 1020, less than 1030 requested!!!\n",
      "read 1020, less than 1030 requested!!!\n",
      "read 1020, less than 1030 requested!!!\n",
      "retrieving: 350\n",
      "read 4, less than 9 requested!!!\n",
      "read 1020, less than 1030 requested!!!\n",
      "read 1020, less than 1030 requested!!!\n",
      "read 4, less than 9 requested!!!\n",
      "read 1020, less than 1030 requested!!!\n",
      "retrieving: 360\n",
      "read 1020, less than 1030 requested!!!\n",
      "read 1020, less than 1030 requested!!!\n",
      "retrieving: 370\n",
      "read 5, less than 9 requested!!!\n",
      "read 1020, less than 1030 requested!!!\n",
      "read 5, less than 9 requested!!!\n",
      "read 1020, less than 1030 requested!!!\n",
      "retrieving: 380\n",
      "read 5, less than 9 requested!!!\n",
      "read 1020, less than 1030 requested!!!\n",
      "retrieving: 390\n",
      "read 1020, less than 1030 requested!!!\n",
      "read 1020, less than 1030 requested!!!\n",
      "read 1020, less than 1030 requested!!!\n",
      "retrieving: 400\n",
      "read 1020, less than 1030 requested!!!\n",
      "read 8, less than 9 requested!!!\n",
      "retrieving: 410\n",
      "read 1020, less than 1030 requested!!!\n",
      "read 8, less than 9 requested!!!\n",
      "read 1020, less than 1030 requested!!!\n",
      "read 8, less than 9 requested!!!\n",
      "retrieving: 420\n",
      "read 1020, less than 1030 requested!!!\n",
      "retrieving: 430\n",
      "read 1020, less than 1030 requested!!!\n",
      "read 1020, less than 1030 requested!!!\n",
      "retrieving: 440\n",
      "read 1020, less than 1030 requested!!!\n",
      "read 1020, less than 1030 requested!!!\n",
      "retrieving: 450\n",
      "read 1020, less than 1030 requested!!!\n",
      "read 1020, less than 1030 requested!!!\n",
      "retrieving: 460\n",
      "read 1020, less than 1030 requested!!!\n"
     ]
    }
   ],
   "source": [
    "dataGen = EdfDataGenerator(data, precache=True, batch_size=256, n_classes=2)"
   ]
  },
  {
   "cell_type": "code",
   "execution_count": 19,
   "metadata": {},
   "outputs": [
    {
     "data": {
      "text/plain": [
       "array([[1., 0., 0., 0., 0., 0., 0., 0., 0., 0.],\n",
       "       [1., 0., 0., 0., 0., 0., 0., 0., 0., 0.],\n",
       "       [1., 0., 0., 0., 0., 0., 0., 0., 0., 0.],\n",
       "       [1., 0., 0., 0., 0., 0., 0., 0., 0., 0.],\n",
       "       [0., 1., 0., 0., 0., 0., 0., 0., 0., 0.],\n",
       "       [1., 0., 0., 0., 0., 0., 0., 0., 0., 0.],\n",
       "       [1., 0., 0., 0., 0., 0., 0., 0., 0., 0.],\n",
       "       [1., 0., 0., 0., 0., 0., 0., 0., 0., 0.],\n",
       "       [0., 1., 0., 0., 0., 0., 0., 0., 0., 0.],\n",
       "       [1., 0., 0., 0., 0., 0., 0., 0., 0., 0.],\n",
       "       [1., 0., 0., 0., 0., 0., 0., 0., 0., 0.],\n",
       "       [0., 1., 0., 0., 0., 0., 0., 0., 0., 0.],\n",
       "       [1., 0., 0., 0., 0., 0., 0., 0., 0., 0.],\n",
       "       [1., 0., 0., 0., 0., 0., 0., 0., 0., 0.],\n",
       "       [1., 0., 0., 0., 0., 0., 0., 0., 0., 0.],\n",
       "       [1., 0., 0., 0., 0., 0., 0., 0., 0., 0.],\n",
       "       [1., 0., 0., 0., 0., 0., 0., 0., 0., 0.],\n",
       "       [1., 0., 0., 0., 0., 0., 0., 0., 0., 0.],\n",
       "       [1., 0., 0., 0., 0., 0., 0., 0., 0., 0.],\n",
       "       [1., 0., 0., 0., 0., 0., 0., 0., 0., 0.],\n",
       "       [1., 0., 0., 0., 0., 0., 0., 0., 0., 0.],\n",
       "       [0., 1., 0., 0., 0., 0., 0., 0., 0., 0.],\n",
       "       [0., 1., 0., 0., 0., 0., 0., 0., 0., 0.],\n",
       "       [1., 0., 0., 0., 0., 0., 0., 0., 0., 0.],\n",
       "       [1., 0., 0., 0., 0., 0., 0., 0., 0., 0.],\n",
       "       [1., 0., 0., 0., 0., 0., 0., 0., 0., 0.],\n",
       "       [0., 1., 0., 0., 0., 0., 0., 0., 0., 0.],\n",
       "       [1., 0., 0., 0., 0., 0., 0., 0., 0., 0.],\n",
       "       [1., 0., 0., 0., 0., 0., 0., 0., 0., 0.],\n",
       "       [1., 0., 0., 0., 0., 0., 0., 0., 0., 0.],\n",
       "       [1., 0., 0., 0., 0., 0., 0., 0., 0., 0.],\n",
       "       [1., 0., 0., 0., 0., 0., 0., 0., 0., 0.]], dtype=float32)"
      ]
     },
     "execution_count": 19,
     "metadata": {},
     "output_type": "execute_result"
    }
   ],
   "source": [
    "dataGen[0][1]"
   ]
  },
  {
   "cell_type": "code",
   "execution_count": null,
   "metadata": {},
   "outputs": [],
   "source": []
  }
 ],
 "metadata": {
  "kernelspec": {
   "display_name": "Python 3",
   "language": "python",
   "name": "python3"
  },
  "language_info": {
   "codemirror_mode": {
    "name": "ipython",
    "version": 3
   },
   "file_extension": ".py",
   "mimetype": "text/x-python",
   "name": "python",
   "nbconvert_exporter": "python",
   "pygments_lexer": "ipython3",
   "version": "3.7.3"
  }
 },
 "nbformat": 4,
 "nbformat_minor": 2
}

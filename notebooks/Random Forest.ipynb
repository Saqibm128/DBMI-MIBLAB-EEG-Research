{
 "cells": [
  {
   "cell_type": "code",
   "execution_count": 19,
   "metadata": {},
   "outputs": [],
   "source": [
    "import pandas as pd\n",
    "import numpy as np\n",
    "import sys, os\n",
    "sys.path.append(os.path.realpath(\"..\"))\n",
    "import data_reader as read\n",
    "import clinical_text_analysis as cta\n",
    "import time\n",
    "from sklearn.ensemble import RandomForestClassifier"
   ]
  },
  {
   "cell_type": "code",
   "execution_count": 2,
   "metadata": {},
   "outputs": [],
   "source": [
    "import pickle as pkl"
   ]
  },
  {
   "cell_type": "code",
   "execution_count": 4,
   "metadata": {},
   "outputs": [
    {
     "name": "stdout",
     "output_type": "stream",
     "text": [
      "AHBUECFIGZKBDIJZ.h5\n",
      "CFGBAITZXXOKDPDZ.h5\n",
      "CMXUKNWJVFRTKXNG.h5\n",
      "HJAVOELVYEDIRXLY.h5\n",
      "JOFSNWKYIQXQXVIA.h5\n",
      "KHNQOVHXFYJWKWPN.h5\n",
      "NWQOURXAWOWPYHBO.h5\n",
      "PEDBQLBZADRWSIOL.h5\n",
      "QQXFPIYMDIAVWVQL.h5\n",
      "README.md\n",
      "RNVZMCQJBDFXIRVP.h5\n",
      "UCYJLUDKAVBYYGQZ.h5\n",
      "UYLGBAFUBVWWFGLJ.h5\n",
      "VMZVTJOBSQNRLNWH.h5\n",
      "VSIGAOGNTVTDJDNG.h5\n",
      "WIDUGLOHTFLGVGMA.h5\n",
      "XMPIKYZHBWVPBCMY.h5\n",
      "YBZQCIYNROPJPCDG.h5\n",
      "YCAHHKVWETSQUVBE.h5\n",
      "__pycache__\n",
      "assets\n",
      "bin_acc_AHBUECFIGZKBDIJZ.h5\n",
      "bin_acc_NWQOURXAWOWPYHBO.h5\n",
      "bin_acc_PEDBQLBZADRWSIOL.h5\n",
      "bin_acc_QQXFPIYMDIAVWVQL.h5\n",
      "bin_acc_RNVZMCQJBDFXIRVP.h5\n",
      "bin_acc_UCYJLUDKAVBYYGQZ.h5\n",
      "bin_acc_YBZQCIYNROPJPCDG.h5\n",
      "clinical_text_analysis.py\n",
      "cnnInception.py\n",
      "config.json\n",
      "constants.py\n",
      "data_reader.py\n",
      "edf_ensemble_path.pkl\n",
      "ensembleReader.py\n",
      "env.yaml\n",
      "environmentSetup.sh\n",
      "initial_clustering.py\n",
      "keras_models\n",
      "native_edf_ensemble_path.pkl\n",
      "notebooks\n",
      "organize_files.py\n",
      "out\n",
      "output.err\n",
      "predictAgeConvExp.py\n",
      "predictAgeExp.py\n",
      "predictBPMExp.py\n",
      "predictGenderConvExp.py\n",
      "predictGenderExp.py\n",
      "predictGenderrf.pkl\n",
      "predictSeizureConvExp.py\n",
      "rf_fft_data.pkl\n",
      "run.sh\n",
      "run_multiple_slurm_jobs.sh\n",
      "script_runner.py\n",
      "slurm-47608851.out\n",
      "slurm-47608880.out\n",
      "standardized_combined_simple_ensemble_test_data.pkl\n",
      "standardized_combined_simple_ensemble_train_data.pkl\n",
      "standardized_edf_ensemble_sample_info.pkl\n",
      "testGenderData.pkl\n",
      "test_edf_ensemble_path.pkl\n",
      "test_native_edf_ensemble_path.pkl\n",
      "test_rf_fft_data.pkl\n",
      "test_standardized_edf_ensemble_sample_info.pkl\n",
      "trainGenderData.pkl\n",
      "train_test_split_info.pkl\n",
      "util_funcs.py\n",
      "valid_edf_ensemble_path.pkl\n",
      "valid_standardized_combined_simple_ensemble_train_data.pkl\n",
      "valid_standardized_edf_ensemble_sample_info.pkl\n",
      "wf_analysis\n"
     ]
    }
   ],
   "source": [
    "%%bash\n",
    "ls .."
   ]
  },
  {
   "cell_type": "code",
   "execution_count": 6,
   "metadata": {},
   "outputs": [],
   "source": [
    "rf = pkl.load(open(\"../predictGenderrf.pkl\",\"rb\"))"
   ]
  },
  {
   "cell_type": "code",
   "execution_count": 33,
   "metadata": {},
   "outputs": [],
   "source": [
    "testDataY = pkl.load(open(\"../trainGenderData.pkl\", \"rb\"))"
   ]
  },
  {
   "cell_type": "code",
   "execution_count": 42,
   "metadata": {},
   "outputs": [],
   "source": [
    "trainDataY = pkl.load(open(\"../testGenderData.pkl\", \"rb\"))"
   ]
  },
  {
   "cell_type": "code",
   "execution_count": 31,
   "metadata": {},
   "outputs": [],
   "source": [
    "from predictGenderExp import get_data"
   ]
  },
  {
   "cell_type": "code",
   "execution_count": 43,
   "metadata": {},
   "outputs": [],
   "source": [
    "trainDataX = trainDataY[0]\n",
    "trainDataY = trainDataY[1]"
   ]
  },
  {
   "cell_type": "code",
   "execution_count": 38,
   "metadata": {},
   "outputs": [],
   "source": [
    "testDataX = testDataY[0]\n",
    "testDataY = testDataY[1]"
   ]
  },
  {
   "cell_type": "code",
   "execution_count": 8,
   "metadata": {},
   "outputs": [
    {
     "data": {
      "text/plain": [
       "tuple"
      ]
     },
     "execution_count": 8,
     "metadata": {},
     "output_type": "execute_result"
    }
   ],
   "source": [
    "type(testDataY)"
   ]
  },
  {
   "cell_type": "code",
   "execution_count": 44,
   "metadata": {},
   "outputs": [
    {
     "data": {
      "text/plain": [
       "array([[1.04598912e+08, 1.02078656e+08, 8.46691840e+07, ...,\n",
       "        7.87795007e-01, 2.86783040e-01, 3.62780541e-01],\n",
       "       [5.24517120e+07, 4.39620160e+07, 7.18198560e+07, ...,\n",
       "        2.67438233e-01, 1.14555307e-01, 2.14164048e-01],\n",
       "       [5.35738880e+07, 5.17958560e+07, 1.12696960e+08, ...,\n",
       "        5.20541966e-01, 1.49909005e-01, 3.65883261e-01],\n",
       "       ...,\n",
       "       [4.55952256e+08, 3.89453696e+08, 4.11091840e+08, ...,\n",
       "        4.90530252e-01, 1.28083890e-02, 1.15014100e-02],\n",
       "       [2.71083648e+08, 9.03186688e+08, 9.72134528e+08, ...,\n",
       "        1.35354593e-01, 8.32748190e-02, 5.47178760e-02],\n",
       "       [1.76751296e+08, 1.36424128e+08, 1.23917504e+08, ...,\n",
       "        5.99283516e-01, 6.34430289e-01, 4.94296879e-01]])"
      ]
     },
     "execution_count": 44,
     "metadata": {},
     "output_type": "execute_result"
    }
   ],
   "source": [
    "trainDataX"
   ]
  },
  {
   "cell_type": "code",
   "execution_count": 10,
   "metadata": {},
   "outputs": [
    {
     "data": {
      "text/plain": [
       "28764"
      ]
     },
     "execution_count": 10,
     "metadata": {},
     "output_type": "execute_result"
    }
   ],
   "source": [
    "len(testDataY[0])"
   ]
  },
  {
   "cell_type": "code",
   "execution_count": 11,
   "metadata": {},
   "outputs": [
    {
     "data": {
      "text/plain": [
       "(28764,)"
      ]
     },
     "execution_count": 11,
     "metadata": {},
     "output_type": "execute_result"
    }
   ],
   "source": [
    "testDataY[1].shape"
   ]
  },
  {
   "cell_type": "code",
   "execution_count": 14,
   "metadata": {},
   "outputs": [],
   "source": [
    "testDataX = np.stack(testDataY[0]).reshape(28764, 5*21)"
   ]
  },
  {
   "cell_type": "code",
   "execution_count": 15,
   "metadata": {},
   "outputs": [],
   "source": [
    "testDataY = testDataY[1]"
   ]
  },
  {
   "cell_type": "code",
   "execution_count": 17,
   "metadata": {},
   "outputs": [
    {
     "data": {
      "text/plain": [
       "dict_keys(['getFeatureScores', 'best_params_'])"
      ]
     },
     "execution_count": 17,
     "metadata": {},
     "output_type": "execute_result"
    }
   ],
   "source": [
    "rf.keys()"
   ]
  },
  {
   "cell_type": "code",
   "execution_count": 18,
   "metadata": {},
   "outputs": [
    {
     "data": {
      "text/plain": [
       "{'rf__criterion': 'gini',\n",
       " 'rf__max_depth': 8,\n",
       " 'rf__max_features': 0.1,\n",
       " 'rf__min_samples_split': 8,\n",
       " 'rf__min_weight_fraction_leaf': 0.2,\n",
       " 'rf__n_estimators': 50,\n",
       " 'rf__n_jobs': 1}"
      ]
     },
     "execution_count": 18,
     "metadata": {},
     "output_type": "execute_result"
    }
   ],
   "source": [
    "rf.best_params_"
   ]
  },
  {
   "cell_type": "code",
   "execution_count": 57,
   "metadata": {},
   "outputs": [],
   "source": [
    "rfClf = RandomForestClassifier(criterion='gini', max_depth=8, max_features=0.1, min_samples_split=8, min_weight_fraction_leaf=0.2, n_estimators=50, n_jobs=1)"
   ]
  },
  {
   "cell_type": "code",
   "execution_count": 58,
   "metadata": {},
   "outputs": [
    {
     "name": "stderr",
     "output_type": "stream",
     "text": [
      "/home/ms994/miniconda3/envs/keras-redo/lib/python3.7/site-packages/ipykernel_launcher.py:1: DataConversionWarning: A column-vector y was passed when a 1d array was expected. Please change the shape of y to (n_samples,), for example using ravel().\n",
      "  \"\"\"Entry point for launching an IPython kernel.\n"
     ]
    }
   ],
   "source": [
    "rfClf = rfClf.fit(trainDataX, trainDataY)"
   ]
  },
  {
   "cell_type": "code",
   "execution_count": 59,
   "metadata": {},
   "outputs": [],
   "source": [
    "y_pred = rfClf.predict(testDataX)"
   ]
  },
  {
   "cell_type": "code",
   "execution_count": 73,
   "metadata": {},
   "outputs": [],
   "source": [
    "y_pred_prob = rfClf.predict_proba(testDataX)"
   ]
  },
  {
   "cell_type": "code",
   "execution_count": 74,
   "metadata": {},
   "outputs": [],
   "source": [
    "from sklearn.metrics import roc_auc_score, accuracy_score, confusion_matrix, roc_curve"
   ]
  },
  {
   "cell_type": "code",
   "execution_count": 76,
   "metadata": {},
   "outputs": [
    {
     "data": {
      "text/plain": [
       "(2618, 1)"
      ]
     },
     "execution_count": 76,
     "metadata": {},
     "output_type": "execute_result"
    }
   ],
   "source": [
    "testDataY.shape"
   ]
  },
  {
   "cell_type": "code",
   "execution_count": 80,
   "metadata": {},
   "outputs": [],
   "source": [
    "y_pred_p = y_pred_prob[:,1]/ y_pred_prob.sum(1)"
   ]
  },
  {
   "cell_type": "code",
   "execution_count": 82,
   "metadata": {},
   "outputs": [],
   "source": [
    "rc = roc_curve(testDataY, y_pred_p,)"
   ]
  },
  {
   "cell_type": "code",
   "execution_count": 86,
   "metadata": {},
   "outputs": [],
   "source": [
    "import matplotlib.pyplot as plt"
   ]
  },
  {
   "cell_type": "code",
   "execution_count": 90,
   "metadata": {},
   "outputs": [
    {
     "data": {
      "text/plain": [
       "[<matplotlib.lines.Line2D at 0x7f3a93bb5ba8>]"
      ]
     },
     "execution_count": 90,
     "metadata": {},
     "output_type": "execute_result"
    },
    {
     "data": {
      "image/png": "[encoded data removed]",
      "text/plain": [
       "<Figure size 576x576 with 1 Axes>"
      ]
     },
     "metadata": {
      "needs_background": "light"
     },
     "output_type": "display_data"
    }
   ],
   "source": [
    "plt.figure(figsize=(8,8))\n",
    "plt.title(\"AUC Curve\")\n",
    "plt.xlabel(\"FPR\")\n",
    "plt.ylabel(\"TPR\")\n",
    "plt.plot(rc[0], rc[1])"
   ]
  },
  {
   "cell_type": "code",
   "execution_count": 64,
   "metadata": {},
   "outputs": [
    {
     "data": {
      "text/plain": [
       "0.5416348357524828"
      ]
     },
     "execution_count": 64,
     "metadata": {},
     "output_type": "execute_result"
    }
   ],
   "source": [
    "accuracy_score(testDataY, y_pred)"
   ]
  },
  {
   "cell_type": "code",
   "execution_count": 67,
   "metadata": {},
   "outputs": [],
   "source": [
    "cm = confusion_matrix(testDataY, y_pred)"
   ]
  },
  {
   "cell_type": "code",
   "execution_count": 94,
   "metadata": {},
   "outputs": [],
   "source": [
    "truY = [1,1,1,1,1,1,1,1]\n",
    "predY =[0,0,0,0,0,0,0,0]"
   ]
  },
  {
   "cell_type": "code",
   "execution_count": 99,
   "metadata": {},
   "outputs": [
    {
     "data": {
      "text/plain": [
       "array([[0, 0],\n",
       "       [8, 0]])"
      ]
     },
     "execution_count": 99,
     "metadata": {},
     "output_type": "execute_result"
    }
   ],
   "source": [
    "confusion_matrix(truY, predY)"
   ]
  },
  {
   "cell_type": "code",
   "execution_count": 71,
   "metadata": {},
   "outputs": [],
   "source": [
    "import seaborn as sns"
   ]
  },
  {
   "cell_type": "code",
   "execution_count": 102,
   "metadata": {},
   "outputs": [
    {
     "data": {
      "text/plain": [
       "Text(0.5, 1.0, 'Confusion Matrix')"
      ]
     },
     "execution_count": 102,
     "metadata": {},
     "output_type": "execute_result"
    },
    {
     "data": {
      "image/png": "[encoded data removed]",
      "text/plain": [
       "<Figure size 432x288 with 2 Axes>"
      ]
     },
     "metadata": {
      "needs_background": "light"
     },
     "output_type": "display_data"
    }
   ],
   "source": [
    "sns.heatmap(cm, yticklabels=[\"True Female.\", \"True Male.\"], xticklabels=[\"Pred Female.\", \"Pred Male.\"])\n",
    "plt.title(\"Confusion Matrix\")"
   ]
  },
  {
   "cell_type": "code",
   "execution_count": null,
   "metadata": {},
   "outputs": [],
   "source": [
    "sns."
   ]
  }
 ],
 "metadata": {
  "kernelspec": {
   "display_name": "Python 3",
   "language": "python",
   "name": "python3"
  },
  "language_info": {
   "codemirror_mode": {
    "name": "ipython",
    "version": 3
   },
   "file_extension": ".py",
   "mimetype": "text/x-python",
   "name": "python",
   "nbconvert_exporter": "python",
   "pygments_lexer": "ipython3",
   "version": "3.7.3"
  }
 },
 "nbformat": 4,
 "nbformat_minor": 2
}

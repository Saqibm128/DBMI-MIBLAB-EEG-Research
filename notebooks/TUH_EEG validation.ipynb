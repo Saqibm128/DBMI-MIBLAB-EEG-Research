{
 "cells": [
  {
   "cell_type": "code",
   "execution_count": 12,
   "metadata": {},
   "outputs": [],
   "source": [
    "import sys, os\n",
    "sys.path.append(os.path.realpath(\"..\"))\n",
    "\n",
    "import util_funcs\n",
    "from importlib import reload\n",
    "reload(util_funcs)\n",
    "from copy import deepcopy as cp\n",
    "\n",
    "import data_reader as read\n",
    "import pandas as pd\n",
    "import numpy as np\n",
    "import pickle as pkl\n",
    "import matplotlib.pyplot as plt\n",
    "import pywt\n",
    "import tsfresh.feature_extraction.feature_calculators as feats\n",
    "import constants\n",
    "import clinical_text_analysis as cta\n",
    "reload(cta)\n",
    "import tsfresh\n",
    "from sklearn.metrics import roc_auc_score, accuracy_score, confusion_matrix, roc_curve, r2_score\n",
    "from os import path\n",
    "\n",
    "reload(read)\n",
    "import wf_analysis.datasets as wfdata\n",
    "import wf_analysis.filters as filt\n",
    "reload(filt)\n",
    "import time"
   ]
  },
  {
   "cell_type": "code",
   "execution_count": 29,
   "metadata": {},
   "outputs": [],
   "source": [
    "#v1.1 of tuh_eeg data subset\n",
    "util_funcs.read_config()\n",
    "util_funcs.config[\"data_dir_root\"] = \"/n/scratch2/ms994/tuh_files/tuh_eeg/v1.1.0/edf\"\n",
    "util_funcs.config['train_01_tcp_ar'] ='/n/scratch2/ms994/tuh_files/tuh_eeg/v1.1.0/edf/train/01_tcp_ar/'\n",
    "util_funcs.config['combined_01_tcp_ar'] ='/n/scratch2/ms994/tuh_files/tuh_eeg/v1.1.0/edf/combined/01_tcp_ar/'\n",
    "util_funcs.config['dev_test_01_tcp_ar'] ='/n/scratch2/ms994/tuh_files/tuh_eeg/v1.1.0/edf/dev_test/01_tcp_ar/'\n",
    "util_funcs.config['train_02_tcp_le'] ='/n/scratch2/ms994/tuh_files/tuh_eeg/v1.1.0/edf/train/02_tcp_le/'\n",
    "util_funcs.config['dev_test_02_tcp_le'] ='/n/scratch2/ms994/tuh_files/tuh_eeg/v1.1.0/edf/dev_test/02_tcp_le/'\n",
    "util_funcs.config['train_03_tcp_ar_a'] ='/n/scratch2/ms994/tuh_files/tuh_eeg/v1.1.0/edf/dev_test/03_tcp_ar_a/'\n",
    "util_funcs.config['dev_test_03_tcp_ar_a'] ='/n/scratch2/ms994/tuh_files/tuh_eeg/v1.1.0/edf/train/03_tcp_ar_a/'"
   ]
  },
  {
   "cell_type": "code",
   "execution_count": 33,
   "metadata": {},
   "outputs": [
    {
     "data": {
      "text/plain": [
       "1932"
      ]
     },
     "execution_count": 33,
     "metadata": {},
     "output_type": "execute_result"
    }
   ],
   "source": [
    "reload(read)\n",
    "all_patients_v1 = read.get_patient_dir_names(None, \"01_tcp_ar\", full_path=False)\n",
    "len(all_patients_v1)"
   ]
  },
  {
   "cell_type": "code",
   "execution_count": 31,
   "metadata": {},
   "outputs": [],
   "source": [
    "#v1.2 of tuh_eeg data subset\n",
    "util_funcs.read_config()\n",
    "util_funcs.config[\"data_dir_root\"] = \"/n/scratch2/ms994/tuh_files/tuh_eeg/v1.2.0/edf\"\n",
    "util_funcs.config['train_01_tcp_ar'] ='/n/scratch2/ms994/tuh_files/tuh_eeg/v1.2.0/edf/train/01_tcp_ar/'\n",
    "util_funcs.config['combined_01_tcp_ar'] ='/n/scratch2/ms994/tuh_files/tuh_eeg/v1.2.0/edf/combined/01_tcp_ar/'\n",
    "util_funcs.config['dev_test_01_tcp_ar'] ='/n/scratch2/ms994/tuh_files/tuh_eeg/v1.2.0/edf/dev_test/01_tcp_ar/'\n",
    "util_funcs.config['train_02_tcp_le'] ='/n/scratch2/ms994/tuh_files/tuh_eeg/v1.2.0/edf/train/02_tcp_le/'\n",
    "util_funcs.config['dev_test_02_tcp_le'] ='/n/scratch2/ms994/tuh_files/tuh_eeg/v1.2.0/edf/dev_test/02_tcp_le/'\n",
    "util_funcs.config['train_03_tcp_ar_a'] ='/n/scratch2/ms994/tuh_files/tuh_eeg/v1.2.0/edf/dev_test/03_tcp_ar_a/'\n",
    "util_funcs.config['dev_test_03_tcp_ar_a'] ='/n/scratch2/ms994/tuh_files/tuh_eeg/v1.2.0/edf/train/03_tcp_ar_a/'"
   ]
  },
  {
   "cell_type": "code",
   "execution_count": 32,
   "metadata": {},
   "outputs": [
    {
     "data": {
      "text/plain": [
       "1932"
      ]
     },
     "execution_count": 32,
     "metadata": {},
     "output_type": "execute_result"
    }
   ],
   "source": [
    "reload(read)\n",
    "all_patients_v2= read.get_patient_dir_names(None, \"01_tcp_ar\", full_path=False)\n",
    "len(all_patients_v2)"
   ]
  }
 ],
 "metadata": {
  "kernelspec": {
   "display_name": "Python 3",
   "language": "python",
   "name": "python3"
  },
  "language_info": {
   "codemirror_mode": {
    "name": "ipython",
    "version": 3
   },
   "file_extension": ".py",
   "mimetype": "text/x-python",
   "name": "python",
   "nbconvert_exporter": "python",
   "pygments_lexer": "ipython3",
   "version": "3.7.3"
  }
 },
 "nbformat": 4,
 "nbformat_minor": 2
}

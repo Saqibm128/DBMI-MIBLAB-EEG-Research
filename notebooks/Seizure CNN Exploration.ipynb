{
 "cells": [
  {
   "cell_type": "code",
   "execution_count": 12,
   "metadata": {},
   "outputs": [],
   "source": [
    "import sys, os\n",
    "sys.path.append(os.path.realpath(\"..\"))\n",
    "\n",
    "import util_funcs\n",
    "from importlib import reload\n",
    "reload(util_funcs)\n",
    "from copy import deepcopy as cp\n",
    "\n",
    "import data_reader as read\n",
    "import pandas as pd\n",
    "import numpy as np\n",
    "import pickle as pkl\n",
    "import matplotlib.pyplot as plt\n",
    "import pywt\n",
    "import tsfresh.feature_extraction.feature_calculators as feats\n",
    "import constants\n",
    "import clinical_text_analysis as cta\n",
    "reload(cta)\n",
    "import tsfresh\n",
    "import ensembleReader as er\n",
    "from sklearn.metrics import roc_auc_score, accuracy_score, confusion_matrix, roc_curve, r2_score\n",
    "from os import path\n",
    "\n",
    "reload(read)\n",
    "import wf_analysis.datasets as wfdata\n",
    "import wf_analysis.filters as filt\n",
    "reload(filt)\n",
    "from addict import Dict\n",
    "import time\n",
    "import pickle as pkl\n",
    "import tsfresh.feature_extraction.feature_calculators as tsf\n",
    "import pyedflib as edf\n",
    "import keras_models.dataGen as dg "
   ]
  },
  {
   "cell_type": "code",
   "execution_count": 2,
   "metadata": {},
   "outputs": [
    {
     "data": {
      "text/plain": [
       "<module 'predictSeizureMultipleLabels' from '/home/ms994/dbmi_eeg_clustering/predictSeizureMultipleLabels.py'>"
      ]
     },
     "execution_count": 2,
     "metadata": {},
     "output_type": "execute_result"
    }
   ],
   "source": [
    "import predictSeizureMultipleLabels as sml\n",
    "reload(sml)"
   ]
  },
  {
   "cell_type": "code",
   "execution_count": 3,
   "metadata": {},
   "outputs": [
    {
     "name": "stdout",
     "output_type": "stream",
     "text": [
      "Starting 12 processes\n",
      "retrieving: 0\n",
      "Starting 12 processes\n",
      "retrieving: 0\n",
      "retrieving: 1000\n",
      "retrieving: 2000\n",
      "retrieving: 3000\n"
     ]
    }
   ],
   "source": [
    "eds = sml.getDataSampleGenerator(4,4,4,4,12)"
   ]
  },
  {
   "cell_type": "code",
   "execution_count": 4,
   "metadata": {},
   "outputs": [
    {
     "name": "stdout",
     "output_type": "stream",
     "text": [
      "starting custom_annotater\n",
      "Starting 20 processes\n",
      "retrieving: 0\n",
      "retrieving: 1000\n",
      "retrieving: 2000\n"
     ]
    }
   ],
   "source": [
    "train_label_files_segs = eds.get_train_split()"
   ]
  },
  {
   "cell_type": "code",
   "execution_count": 5,
   "metadata": {},
   "outputs": [],
   "source": [
    "train_edss = er.EdfDatasetSegmentedSampler(segment_file_tuples=train_label_files_segs, num_samples=4, max_bckg_samps_per_file=4, n_process=8, gap=4*pd.Timedelta(seconds=1))\n",
    "train_tkn_file_paths = [train_edss.sampleInfo[key].token_file_path for key in train_edss.sampleInfo.keys()]\n",
    "train_patients = [read.parse_edf_token_path_structure(tkn_file_path)[1] for tkn_file_path in train_tkn_file_paths]"
   ]
  },
  {
   "cell_type": "code",
   "execution_count": 6,
   "metadata": {},
   "outputs": [
    {
     "ename": "TypeError",
     "evalue": "get_data is missing value(s) for ['max_bckg_samps_per_file_test']",
     "output_type": "error",
     "traceback": [
      "\u001b[0;31m---------------------------------------------------------------------------\u001b[0m",
      "\u001b[0;31mTypeError\u001b[0m                                 Traceback (most recent call last)",
      "\u001b[0;32m<ipython-input-6-26e2973dae47>\u001b[0m in \u001b[0;36m<module>\u001b[0;34m\u001b[0m\n\u001b[0;32m----> 1\u001b[0;31m \u001b[0msml\u001b[0m\u001b[0;34m.\u001b[0m\u001b[0mget_data\u001b[0m\u001b[0;34m(\u001b[0m\u001b[0mer\u001b[0m\u001b[0;34m.\u001b[0m\u001b[0mEdfDatasetSegmentedSampler\u001b[0m\u001b[0;34m.\u001b[0m\u001b[0mDETECT_MODE\u001b[0m\u001b[0;34m,\u001b[0m \u001b[0mmax_samples\u001b[0m\u001b[0;34m=\u001b[0m\u001b[0;36m10\u001b[0m\u001b[0;34m,\u001b[0m \u001b[0mn_process\u001b[0m\u001b[0;34m=\u001b[0m\u001b[0;36m10\u001b[0m\u001b[0;34m,\u001b[0m \u001b[0mmax_bckg_samps_per_file\u001b[0m\u001b[0;34m=\u001b[0m\u001b[0;36m1\u001b[0m\u001b[0;34m,\u001b[0m \u001b[0mnum_seconds\u001b[0m\u001b[0;34m=\u001b[0m\u001b[0;36m4\u001b[0m\u001b[0;34m)\u001b[0m\u001b[0;34m\u001b[0m\u001b[0;34m\u001b[0m\u001b[0m\n\u001b[0m",
      "\u001b[0;32m~/miniconda3/envs/keras-redo/lib/python3.7/site-packages/sacred/config/captured_function.py\u001b[0m in \u001b[0;36mcaptured_function\u001b[0;34m(wrapped, instance, args, kwargs)\u001b[0m\n\u001b[1;32m     39\u001b[0m     \u001b[0mbound\u001b[0m \u001b[0;34m=\u001b[0m \u001b[0;34m(\u001b[0m\u001b[0minstance\u001b[0m \u001b[0;32mis\u001b[0m \u001b[0;32mnot\u001b[0m \u001b[0;32mNone\u001b[0m\u001b[0;34m)\u001b[0m\u001b[0;34m\u001b[0m\u001b[0;34m\u001b[0m\u001b[0m\n\u001b[1;32m     40\u001b[0m     args, kwargs = wrapped.signature.construct_arguments(args, kwargs, options,\n\u001b[0;32m---> 41\u001b[0;31m                                                          bound)\n\u001b[0m\u001b[1;32m     42\u001b[0m     \u001b[0;32mif\u001b[0m \u001b[0mwrapped\u001b[0m\u001b[0;34m.\u001b[0m\u001b[0mlogger\u001b[0m \u001b[0;32mis\u001b[0m \u001b[0;32mnot\u001b[0m \u001b[0;32mNone\u001b[0m\u001b[0;34m:\u001b[0m\u001b[0;34m\u001b[0m\u001b[0;34m\u001b[0m\u001b[0m\n\u001b[1;32m     43\u001b[0m         \u001b[0mwrapped\u001b[0m\u001b[0;34m.\u001b[0m\u001b[0mlogger\u001b[0m\u001b[0;34m.\u001b[0m\u001b[0mdebug\u001b[0m\u001b[0;34m(\u001b[0m\u001b[0;34m\"Started\"\u001b[0m\u001b[0;34m)\u001b[0m\u001b[0;34m\u001b[0m\u001b[0;34m\u001b[0m\u001b[0m\n",
      "\u001b[0;32m~/miniconda3/envs/keras-redo/lib/python3.7/site-packages/sacred/config/signature.py\u001b[0m in \u001b[0;36mconstruct_arguments\u001b[0;34m(self, args, kwargs, options, bound)\u001b[0m\n\u001b[1;32m    100\u001b[0m         \u001b[0margs\u001b[0m\u001b[0;34m,\u001b[0m \u001b[0mkwargs\u001b[0m \u001b[0;34m=\u001b[0m \u001b[0mself\u001b[0m\u001b[0;34m.\u001b[0m\u001b[0m_fill_in_options\u001b[0m\u001b[0;34m(\u001b[0m\u001b[0margs\u001b[0m\u001b[0;34m,\u001b[0m \u001b[0mkwargs\u001b[0m\u001b[0;34m,\u001b[0m \u001b[0moptions\u001b[0m\u001b[0;34m,\u001b[0m \u001b[0mbound\u001b[0m\u001b[0;34m)\u001b[0m\u001b[0;34m\u001b[0m\u001b[0;34m\u001b[0m\u001b[0m\n\u001b[1;32m    101\u001b[0m \u001b[0;34m\u001b[0m\u001b[0m\n\u001b[0;32m--> 102\u001b[0;31m         \u001b[0mself\u001b[0m\u001b[0;34m.\u001b[0m\u001b[0m_assert_no_missing_args\u001b[0m\u001b[0;34m(\u001b[0m\u001b[0margs\u001b[0m\u001b[0;34m,\u001b[0m \u001b[0mkwargs\u001b[0m\u001b[0;34m,\u001b[0m \u001b[0mbound\u001b[0m\u001b[0;34m)\u001b[0m\u001b[0;34m\u001b[0m\u001b[0;34m\u001b[0m\u001b[0m\n\u001b[0m\u001b[1;32m    103\u001b[0m         \u001b[0;32mreturn\u001b[0m \u001b[0margs\u001b[0m\u001b[0;34m,\u001b[0m \u001b[0mkwargs\u001b[0m\u001b[0;34m\u001b[0m\u001b[0;34m\u001b[0m\u001b[0m\n\u001b[1;32m    104\u001b[0m \u001b[0;34m\u001b[0m\u001b[0m\n",
      "\u001b[0;32m~/miniconda3/envs/keras-redo/lib/python3.7/site-packages/sacred/config/signature.py\u001b[0m in \u001b[0;36m_assert_no_missing_args\u001b[0;34m(self, args, kwargs, bound)\u001b[0m\n\u001b[1;32m    158\u001b[0m         \u001b[0;32mif\u001b[0m \u001b[0mmissing_args\u001b[0m\u001b[0;34m:\u001b[0m\u001b[0;34m\u001b[0m\u001b[0;34m\u001b[0m\u001b[0m\n\u001b[1;32m    159\u001b[0m             raise TypeError(\"{} is missing value(s) for {}\".format(\n\u001b[0;32m--> 160\u001b[0;31m                 self.name, missing_args))\n\u001b[0m",
      "\u001b[0;31mTypeError\u001b[0m: get_data is missing value(s) for ['max_bckg_samps_per_file_test']"
     ]
    }
   ],
   "source": [
    "sml.get_data(er.EdfDatasetSegmentedSampler.DETECT_MODE, max_samples=10, n_process=10, max_bckg_samps_per_file=1, num_seconds=4)"
   ]
  },
  {
   "cell_type": "markdown",
   "metadata": {},
   "source": [
    "# Try debugging the neural network from predictSeizureConvExp.py"
   ]
  },
  {
   "cell_type": "code",
   "execution_count": 2,
   "metadata": {},
   "outputs": [],
   "source": [
    "from keras.models import load_model"
   ]
  },
  {
   "cell_type": "code",
   "execution_count": 136,
   "metadata": {},
   "outputs": [],
   "source": [
    "model = load_model(\"/n/scratch2/ms994/out/GLDHPNWDDAYFBHAZ_retry.h5\")"
   ]
  },
  {
   "cell_type": "code",
   "execution_count": 4,
   "metadata": {},
   "outputs": [
    {
     "name": "stdout",
     "output_type": "stream",
     "text": [
      "_________________________________________________________________\n",
      "Layer (type)                 Output Shape              Param #   \n",
      "=================================================================\n",
      "input_1 (InputLayer)         (None, 1000, 21, 1)       0         \n",
      "_________________________________________________________________\n",
      "reshape_1 (Reshape)          (None, 1000, 21)          0         \n",
      "_________________________________________________________________\n",
      "time_distributed_1 (TimeDist (None, 1000, 32)          704       \n",
      "_________________________________________________________________\n",
      "time_distributed_2 (TimeDist (None, 1000, 32)          0         \n",
      "_________________________________________________________________\n",
      "reshape_2 (Reshape)          (None, 1000, 32, 1)       0         \n",
      "_________________________________________________________________\n",
      "batch_normalization_1 (Batch (None, 1000, 32, 1)       4         \n",
      "_________________________________________________________________\n",
      "conv2d_1 (Conv2D)            (None, 1000, 32, 5)       85        \n",
      "_________________________________________________________________\n",
      "max_pooling2d_1 (MaxPooling2 (None, 500, 16, 5)        0         \n",
      "_________________________________________________________________\n",
      "dropout_2 (Dropout)          (None, 500, 16, 5)        0         \n",
      "_________________________________________________________________\n",
      "batch_normalization_2 (Batch (None, 500, 16, 5)        20        \n",
      "_________________________________________________________________\n",
      "conv2d_2 (Conv2D)            (None, 500, 16, 5)        405       \n",
      "_________________________________________________________________\n",
      "max_pooling2d_2 (MaxPooling2 (None, 250, 8, 5)         0         \n",
      "_________________________________________________________________\n",
      "dropout_3 (Dropout)          (None, 250, 8, 5)         0         \n",
      "_________________________________________________________________\n",
      "batch_normalization_3 (Batch (None, 250, 8, 5)         20        \n",
      "_________________________________________________________________\n",
      "conv2d_3 (Conv2D)            (None, 250, 8, 5)         405       \n",
      "_________________________________________________________________\n",
      "max_pooling2d_3 (MaxPooling2 (None, 125, 4, 5)         0         \n",
      "_________________________________________________________________\n",
      "dropout_4 (Dropout)          (None, 125, 4, 5)         0         \n",
      "_________________________________________________________________\n",
      "flatten_1 (Flatten)          (None, 2500)              0         \n",
      "_________________________________________________________________\n",
      "seizure (Dense)              (None, 2)                 5002      \n",
      "=================================================================\n",
      "Total params: 6,645\n",
      "Trainable params: 6,623\n",
      "Non-trainable params: 22\n",
      "_________________________________________________________________\n"
     ]
    }
   ],
   "source": [
    "model.summary()"
   ]
  },
  {
   "cell_type": "code",
   "execution_count": 5,
   "metadata": {},
   "outputs": [],
   "source": [
    "input_layer = model.layers[0]"
   ]
  },
  {
   "cell_type": "code",
   "execution_count": 73,
   "metadata": {},
   "outputs": [
    {
     "data": {
      "text/plain": [
       "<keras.layers.core.Flatten at 0x7f8d29b9b470>"
      ]
     },
     "execution_count": 73,
     "metadata": {},
     "output_type": "execute_result"
    }
   ],
   "source": []
  },
  {
   "cell_type": "code",
   "execution_count": 7,
   "metadata": {},
   "outputs": [
    {
     "data": {
      "text/plain": [
       "'flatten_1'"
      ]
     },
     "execution_count": 7,
     "metadata": {},
     "output_type": "execute_result"
    }
   ],
   "source": [
    "flatten_layer.name"
   ]
  },
  {
   "cell_type": "code",
   "execution_count": 8,
   "metadata": {},
   "outputs": [],
   "source": [
    "for layer in model.layers:\n",
    "    layer.trainable = False"
   ]
  },
  {
   "cell_type": "code",
   "execution_count": 9,
   "metadata": {},
   "outputs": [],
   "source": [
    "from keras_models.cnn_models import conv2d_gridsearch_pre_layers\n",
    "from keras.layers import Input, Reshape, Dense, TimeDistributed, Dropout\n",
    "from keras import Model\n",
    "from keras.optimizers import Adam"
   ]
  },
  {
   "cell_type": "markdown",
   "metadata": {},
   "source": [
    "## Data setup"
   ]
  },
  {
   "cell_type": "code",
   "execution_count": 2,
   "metadata": {},
   "outputs": [
    {
     "name": "stdout",
     "output_type": "stream",
     "text": [
      "Starting 16 processes\n",
      "retrieving: 0\n",
      "Starting 16 processes\n",
      "retrieving: 0\n",
      "retrieving: 1000\n",
      "retrieving: 2000\n",
      "retrieving: 3000\n"
     ]
    }
   ],
   "source": [
    "edss = er.EdfDatasetSegments(pre_cooldown=4, post_cooldown=4, sample_time=4, num_seconds=1, n_process=16)"
   ]
  },
  {
   "cell_type": "code",
   "execution_count": 3,
   "metadata": {},
   "outputs": [
    {
     "name": "stdout",
     "output_type": "stream",
     "text": [
      "starting custom_annotater\n",
      "Starting 20 processes\n",
      "retrieving: 0\n",
      "retrieving: 1000\n",
      "retrieving: 2000\n"
     ]
    }
   ],
   "source": [
    "train_label_files_segs = edss.get_train_split()"
   ]
  },
  {
   "cell_type": "code",
   "execution_count": 4,
   "metadata": {},
   "outputs": [
    {
     "name": "stdout",
     "output_type": "stream",
     "text": [
      "starting custom_annotater\n",
      "Starting 20 processes\n",
      "retrieving: 0\n"
     ]
    }
   ],
   "source": [
    "valid_file_segs = edss.get_valid_split() #since I can't actually replicate the split, i'm gonna try to use this split instead"
   ]
  },
  {
   "cell_type": "code",
   "execution_count": 5,
   "metadata": {},
   "outputs": [],
   "source": [
    "train_valid_file_segs = train_label_files_segs + valid_file_segs"
   ]
  },
  {
   "cell_type": "code",
   "execution_count": 6,
   "metadata": {},
   "outputs": [
    {
     "data": {
      "text/plain": [
       "3177"
      ]
     },
     "execution_count": 6,
     "metadata": {},
     "output_type": "execute_result"
    }
   ],
   "source": [
    "len(train_valid_file_segs)"
   ]
  },
  {
   "cell_type": "code",
   "execution_count": 7,
   "metadata": {},
   "outputs": [
    {
     "name": "stdout",
     "output_type": "stream",
     "text": [
      "starting custom_annotater\n",
      "Starting 20 processes\n",
      "retrieving: 0\n"
     ]
    }
   ],
   "source": [
    "test_label_files_segs = edss.get_test_split()"
   ]
  },
  {
   "cell_type": "code",
   "execution_count": 8,
   "metadata": {},
   "outputs": [
    {
     "name": "stdout",
     "output_type": "stream",
     "text": [
      "starting custom_annotater\n",
      "Starting 20 processes\n",
      "retrieving: 0\n"
     ]
    }
   ],
   "source": [
    "mode = er.EdfDatasetSegmentedSampler.DETECT_MODE\n",
    "reload(er)\n",
    "train_edss = er.EdfDatasetSegmentedSampler(segment_file_tuples=train_label_files_segs, mode=mode, max_bckg_samps_per_file=5, n_process=8, gap=pd.Timedelta(seconds=4), overlapping_augmentation=False)\n",
    "train_edss.verbose = False\n",
    "valid_edss = er.EdfDatasetSegmentedSampler(segment_file_tuples=edss.get_valid_split(), mode=mode, max_bckg_samps_per_file=5, n_process=8, gap=pd.Timedelta(seconds=4), overlapping_augmentation=False)\n",
    "valid_edss.verbose = False"
   ]
  },
  {
   "cell_type": "code",
   "execution_count": 9,
   "metadata": {},
   "outputs": [],
   "source": [
    "test_edss = er.EdfDatasetSegmentedSampler(segment_file_tuples=test_label_files_segs,  max_bckg_samps_per_file=5, mode=mode, n_process=8, gap=pd.Timedelta(seconds=1), overlapping_augmentation=False)\n",
    "test_edss.verbose = False"
   ]
  },
  {
   "cell_type": "code",
   "execution_count": 100,
   "metadata": {},
   "outputs": [],
   "source": [
    "train_edss.n_process = 1\n",
    "train_edss.use_mp = False"
   ]
  },
  {
   "cell_type": "code",
   "execution_count": 101,
   "metadata": {},
   "outputs": [
    {
     "data": {
      "text/plain": [
       "{'label': False,\n",
       " 'token_file_path': '/home/ms994/v1.5.0/edf/train/01_tcp_ar/131/00013182/s001_2015_10_07/00013182_s001_t000.edf',\n",
       " 'sample_num': 16.0,\n",
       " 'sample_width': Timedelta('0 days 00:00:04')}"
      ]
     },
     "execution_count": 101,
     "metadata": {},
     "output_type": "execute_result"
    }
   ],
   "source": [
    "train_edss.sampleInfo[114]"
   ]
  },
  {
   "cell_type": "code",
   "execution_count": 102,
   "metadata": {},
   "outputs": [
    {
     "data": {
      "text/plain": [
       "[<matplotlib.lines.Line2D at 0x7f8b676a6cc0>]"
      ]
     },
     "execution_count": 102,
     "metadata": {},
     "output_type": "execute_result"
    },
    {
     "data": {
      "image/png": "[encoded data removed]",
      "text/plain": [
       "<Figure size 432x288 with 1 Axes>"
      ]
     },
     "metadata": {
      "needs_background": "light"
     },
     "output_type": "display_data"
    }
   ],
   "source": [
    "plt.plot(train_edss[113][0].T[0])"
   ]
  },
  {
   "cell_type": "code",
   "execution_count": 10,
   "metadata": {},
   "outputs": [],
   "source": [
    "# train_edss_scaled = read.EdfStandardScaler(train_edss)\n",
    "# valid_edss_scaled = read.EdfStandardScaler(valid_edss)"
   ]
  },
  {
   "cell_type": "code",
   "execution_count": 16,
   "metadata": {},
   "outputs": [
    {
     "data": {
      "text/plain": [
       "<module 'keras_models.dataGen' from '/home/ms994/dbmi_eeg_clustering/keras_models/dataGen.py'>"
      ]
     },
     "execution_count": 16,
     "metadata": {},
     "output_type": "execute_result"
    }
   ],
   "source": [
    "from keras_models.dataGen import EdfDataGenerator, RULEdfDataGenerator\n",
    "import keras_models.dataGen as dg\n",
    "reload(dg)"
   ]
  },
  {
   "cell_type": "code",
   "execution_count": 19,
   "metadata": {},
   "outputs": [],
   "source": [
    "edg = dg.DataGenMultipleLabels(train_edss, num_labels=1, n_classes=[2], precache=False, batch_size=2, labels=[train_edss.sampleInfo[key].label for key in train_edss.sampleInfo.keys()])"
   ]
  },
  {
   "cell_type": "code",
   "execution_count": 192,
   "metadata": {},
   "outputs": [],
   "source": [
    "train_edss.use_mp = False\n",
    "valid_edss.use_mp = False\n",
    "edg = dg.RULEdfDataGenerator(train_edss, n_classes=2, precache=False, batch_size=16, labels=[train_edss.sampleInfo[key].label for key in train_edss.sampleInfo.keys()])\n",
    "valid_edg = dg.RULEdfDataGenerator(valid_edss, n_classes=2, precache=False, batch_size=16, labels=[valid_edss.sampleInfo[key].label for key in valid_edss.sampleInfo.keys()])"
   ]
  },
  {
   "cell_type": "code",
   "execution_count": 193,
   "metadata": {},
   "outputs": [],
   "source": [
    "test_edss.use_mp = False\n",
    "test_edg = dg.EdfDataGenerator(test_edss, n_classes=2, precache=False, batch_size=32, shuffle=False)\n",
    "test_labels = [test_edss.sampleInfo[key].label for key in test_edss.sampleInfo.keys()]"
   ]
  },
  {
   "cell_type": "code",
   "execution_count": 106,
   "metadata": {},
   "outputs": [],
   "source": [
    "seizureLabels = [train_edss.sampleInfo[key].label for key in train_edss.sampleInfo.keys()]"
   ]
  },
  {
   "cell_type": "markdown",
   "metadata": {},
   "source": [
    "## Try and see if the weights of the last layer of flatten can be used to predict for session"
   ]
  },
  {
   "cell_type": "markdown",
   "metadata": {},
   "source": [
    "### Parse the session ids of all the EEGs for a combined train_valid split\n",
    "We do this because I can't actually replicate the random split of patients between train and valid"
   ]
  },
  {
   "cell_type": "code",
   "execution_count": null,
   "metadata": {},
   "outputs": [],
   "source": []
  },
  {
   "cell_type": "code",
   "execution_count": 194,
   "metadata": {},
   "outputs": [],
   "source": [
    "tkn_file_paths = [train_edss.sampleInfo[key].token_file_path for key in train_edss.sampleInfo.keys()]"
   ]
  },
  {
   "cell_type": "code",
   "execution_count": 195,
   "metadata": {},
   "outputs": [],
   "source": [
    "patients = [read.parse_edf_token_path_structure(tkn_file_path)[1] for tkn_file_path in tkn_file_paths]"
   ]
  },
  {
   "cell_type": "code",
   "execution_count": 196,
   "metadata": {},
   "outputs": [],
   "source": [
    "allPatients = list(set(patients + [read.parse_edf_token_path_structure(valid_edss.sampleInfo[key].token_file_path)[1] for key in valid_edss.sampleInfo.keys()]))"
   ]
  },
  {
   "cell_type": "code",
   "execution_count": 197,
   "metadata": {},
   "outputs": [],
   "source": [
    "patientInd = [allPatients.index(patient) for patient in patients]"
   ]
  },
  {
   "cell_type": "code",
   "execution_count": 198,
   "metadata": {},
   "outputs": [],
   "source": [
    "validPatientInd = [allPatients.index(read.parse_edf_token_path_structure(valid_edss.sampleInfo[key].token_file_path)[1]) for key in valid_edss.sampleInfo.keys()]"
   ]
  },
  {
   "cell_type": "code",
   "execution_count": 199,
   "metadata": {},
   "outputs": [],
   "source": [
    "seizureLabels = [train_edss.sampleInfo[key].label for key in train_edss.sampleInfo.keys()]\n",
    "validSeizureLabels = [valid_edss.sampleInfo[key].label for key in valid_edss.sampleInfo.keys()]"
   ]
  },
  {
   "cell_type": "code",
   "execution_count": 200,
   "metadata": {},
   "outputs": [],
   "source": [
    "for i in range(len(seizureLabels)):\n",
    "    train_edss.sampleInfo[i].label = (patientInd[i])"
   ]
  },
  {
   "cell_type": "code",
   "execution_count": 201,
   "metadata": {},
   "outputs": [],
   "source": [
    "for i in range(len(validSeizureLabels)):\n",
    "    valid_edss.sampleInfo[i].label = (validPatientInd[i])"
   ]
  },
  {
   "cell_type": "code",
   "execution_count": 202,
   "metadata": {},
   "outputs": [],
   "source": [
    "edg = dg.EdfDataGenerator(train_edss, n_classes=len(allPatients))"
   ]
  },
  {
   "cell_type": "code",
   "execution_count": 203,
   "metadata": {},
   "outputs": [
    {
     "data": {
      "text/plain": [
       "308"
      ]
     },
     "execution_count": 203,
     "metadata": {},
     "output_type": "execute_result"
    }
   ],
   "source": [
    "len(allPatients)"
   ]
  },
  {
   "cell_type": "markdown",
   "metadata": {},
   "source": [
    "### Try to make a new model to predict patients using frozen weights of old model"
   ]
  },
  {
   "cell_type": "code",
   "execution_count": 204,
   "metadata": {},
   "outputs": [
    {
     "name": "stdout",
     "output_type": "stream",
     "text": [
      "_________________________________________________________________\n",
      "Layer (type)                 Output Shape              Param #   \n",
      "=================================================================\n",
      "input_1 (InputLayer)         (None, 1000, 21, 1)       0         \n",
      "_________________________________________________________________\n",
      "reshape_1 (Reshape)          (None, 1000, 21)          0         \n",
      "_________________________________________________________________\n",
      "time_distributed_1 (TimeDist (None, 1000, 32)          704       \n",
      "_________________________________________________________________\n",
      "time_distributed_2 (TimeDist (None, 1000, 32)          0         \n",
      "_________________________________________________________________\n",
      "reshape_2 (Reshape)          (None, 1000, 32, 1)       0         \n",
      "_________________________________________________________________\n",
      "batch_normalization_1 (Batch (None, 1000, 32, 1)       4         \n",
      "_________________________________________________________________\n",
      "conv2d_1 (Conv2D)            (None, 1000, 32, 5)       85        \n",
      "_________________________________________________________________\n",
      "max_pooling2d_1 (MaxPooling2 (None, 500, 16, 5)        0         \n",
      "_________________________________________________________________\n",
      "dropout_2 (Dropout)          (None, 500, 16, 5)        0         \n",
      "_________________________________________________________________\n",
      "batch_normalization_2 (Batch (None, 500, 16, 5)        20        \n",
      "_________________________________________________________________\n",
      "conv2d_2 (Conv2D)            (None, 500, 16, 5)        405       \n",
      "_________________________________________________________________\n",
      "max_pooling2d_2 (MaxPooling2 (None, 250, 8, 5)         0         \n",
      "_________________________________________________________________\n",
      "dropout_3 (Dropout)          (None, 250, 8, 5)         0         \n",
      "_________________________________________________________________\n",
      "batch_normalization_3 (Batch (None, 250, 8, 5)         20        \n",
      "_________________________________________________________________\n",
      "conv2d_3 (Conv2D)            (None, 250, 8, 5)         405       \n",
      "_________________________________________________________________\n",
      "max_pooling2d_3 (MaxPooling2 (None, 125, 4, 5)         0         \n",
      "_________________________________________________________________\n",
      "dropout_4 (Dropout)          (None, 125, 4, 5)         0         \n",
      "_________________________________________________________________\n",
      "flatten_1 (Flatten)          (None, 2500)              0         \n",
      "_________________________________________________________________\n",
      "seizure (Dense)              (None, 2)                 5002      \n",
      "=================================================================\n",
      "Total params: 6,645\n",
      "Trainable params: 6,623\n",
      "Non-trainable params: 22\n",
      "_________________________________________________________________\n"
     ]
    }
   ],
   "source": [
    "model.summary()"
   ]
  },
  {
   "cell_type": "code",
   "execution_count": 223,
   "metadata": {},
   "outputs": [],
   "source": [
    "from keras_models.cnn_models import conv2d_gridsearch_pre_layers\n",
    "from keras.layers import Input, Reshape, Dense, TimeDistributed, Dropout, Flatten\n",
    "from keras import Model\n",
    "from keras.optimizers import Adam"
   ]
  },
  {
   "cell_type": "code",
   "execution_count": 224,
   "metadata": {},
   "outputs": [],
   "source": [
    "x = Flatten()(Input((2500, 1)))"
   ]
  },
  {
   "cell_type": "code",
   "execution_count": 225,
   "metadata": {},
   "outputs": [
    {
     "data": {
      "text/plain": [
       "keras.layers.core.Flatten"
      ]
     },
     "execution_count": 225,
     "metadata": {},
     "output_type": "execute_result"
    }
   ],
   "source": [
    "type(model.layers[-2])"
   ]
  },
  {
   "cell_type": "code",
   "execution_count": 226,
   "metadata": {},
   "outputs": [],
   "source": [
    "layers = model.layers"
   ]
  },
  {
   "cell_type": "code",
   "execution_count": 227,
   "metadata": {},
   "outputs": [],
   "source": [
    "model.compile(\"adam\", loss=\"binary_crossentropy\")"
   ]
  },
  {
   "cell_type": "code",
   "execution_count": 228,
   "metadata": {},
   "outputs": [
    {
     "data": {
      "text/plain": [
       "array([[0.11256514, 0.8874349 ],\n",
       "       [0.09915216, 0.90084785],\n",
       "       [0.34179637, 0.65820366],\n",
       "       [0.09279723, 0.9072027 ],\n",
       "       [0.41577742, 0.5842226 ],\n",
       "       [0.68701404, 0.31298593],\n",
       "       [0.07215863, 0.92784137],\n",
       "       [0.46514803, 0.53485197],\n",
       "       [0.38456786, 0.6154321 ],\n",
       "       [0.53150284, 0.46849722],\n",
       "       [0.42891306, 0.57108694],\n",
       "       [0.47414163, 0.52585834],\n",
       "       [0.15038739, 0.84961265],\n",
       "       [0.31747624, 0.6825237 ],\n",
       "       [0.28208312, 0.71791685],\n",
       "       [0.23012173, 0.76987827],\n",
       "       [0.771629  , 0.22837098],\n",
       "       [0.59495705, 0.40504292],\n",
       "       [0.49519077, 0.50480926],\n",
       "       [0.63490844, 0.36509156],\n",
       "       [0.4299274 , 0.5700726 ],\n",
       "       [0.5211234 , 0.47887662],\n",
       "       [0.1424913 , 0.8575087 ],\n",
       "       [0.10356405, 0.8964359 ],\n",
       "       [0.55604786, 0.44395214],\n",
       "       [0.02748519, 0.97251475],\n",
       "       [0.5065532 , 0.49344683],\n",
       "       [0.62998104, 0.37001893],\n",
       "       [0.9927834 , 0.00721655],\n",
       "       [0.38881397, 0.611186  ],\n",
       "       [0.46833655, 0.5316634 ],\n",
       "       [0.5322411 , 0.4677589 ]], dtype=float32)"
      ]
     },
     "execution_count": 228,
     "metadata": {},
     "output_type": "execute_result"
    }
   ],
   "source": [
    "model.predict_generator(edg, steps=1)"
   ]
  },
  {
   "cell_type": "code",
   "execution_count": 229,
   "metadata": {},
   "outputs": [],
   "source": [
    "from keras_models.cnn_models import conv2d_gridsearch_pre_layers, inception_like_pre_layers\n",
    "import keras.optimizers as optimizers\n",
    "def get_model(num_seconds, lr, pre_layer_h, num_lin_layer, num_post_cnn_layers, num_post_lin_h, num_layers, num_filters, max_pool_stride, use_inception, cnn_dropout, linear_dropout, num_gpus, max_pool_size, conv_spatial_filter, conv_temporal_filter, num_conv_temporal_layers, num_temporal_filter, use_batch_normalization):\n",
    "    input_time_size = num_seconds * constants.COMMON_FREQ\n",
    "    x = Input((input_time_size, 21, 1)) #time, ecg channel, cnn channel\n",
    "    if num_lin_layer != 0:\n",
    "        y = Reshape((input_time_size, 21))(x) #remove channel dim\n",
    "\n",
    "\n",
    "\n",
    "        for i in range(num_lin_layer):\n",
    "            y = TimeDistributed(Dense(pre_layer_h, activation=\"relu\"))(y)\n",
    "            y = TimeDistributed(Dropout(linear_dropout))(y)\n",
    "\n",
    "        y = Reshape((input_time_size, pre_layer_h, 1))(y) #add back in channel dim\n",
    "    else:\n",
    "        y = x\n",
    "    if use_inception:\n",
    "        _, y = inception_like_pre_layers(input_shape=(input_time_size,21,1), x=y, dropout=cnn_dropout, max_pool_size=max_pool_size, max_pool_stride=max_pool_stride, num_layers=num_layers, num_filters=num_filters)\n",
    "    else:\n",
    "        _, y = conv2d_gridsearch_pre_layers(input_shape=(input_time_size,21,1), x=y, conv_spatial_filter=conv_spatial_filter, conv_temporal_filter=conv_temporal_filter, num_conv_temporal_layers=num_conv_temporal_layers, max_pool_size=max_pool_size, max_pool_stride=max_pool_stride, dropout=cnn_dropout, num_conv_spatial_layers=num_layers, num_spatial_filter=num_filters, num_temporal_filter=num_temporal_filter, use_batch_normalization=use_batch_normalization)\n",
    "    # y = Dropout(0.5)(y)\n",
    "    y_flatten = y\n",
    "    for i in range(num_post_cnn_layers):\n",
    "        y = Dense(num_post_lin_h, activation='relu')(y)\n",
    "        y = Dropout(linear_dropout)(y)\n",
    "        \n",
    "    y_seizure = Dense(2, activation=\"softmax\", name=\"seizure\")(y)\n",
    "    model = Model(inputs=x, outputs=[y_seizure])\n",
    "    print(model.summary())\n",
    "    if num_gpus > 1:\n",
    "        model = multi_gpu_model(model, num_gpus)\n",
    "    model.compile(optimizers.Adam(lr=lr), loss=[\"binary_crossentropy\"], metrics=[\"binary_accuracy\"])\n",
    "\n",
    "    return model, y_flatten, x\n",
    "\n"
   ]
  },
  {
   "cell_type": "code",
   "execution_count": 230,
   "metadata": {},
   "outputs": [
    {
     "name": "stdout",
     "output_type": "stream",
     "text": [
      "_________________________________________________________________\n",
      "Layer (type)                 Output Shape              Param #   \n",
      "=================================================================\n",
      "input_14 (InputLayer)        (None, 1000, 21, 1)       0         \n",
      "_________________________________________________________________\n",
      "reshape_17 (Reshape)         (None, 1000, 21)          0         \n",
      "_________________________________________________________________\n",
      "time_distributed_19 (TimeDis (None, 1000, 32)          704       \n",
      "_________________________________________________________________\n",
      "time_distributed_20 (TimeDis (None, 1000, 32)          0         \n",
      "_________________________________________________________________\n",
      "reshape_18 (Reshape)         (None, 1000, 32, 1)       0         \n",
      "_________________________________________________________________\n",
      "batch_normalization_28 (Batc (None, 1000, 32, 1)       4         \n",
      "_________________________________________________________________\n",
      "conv2d_28 (Conv2D)           (None, 1000, 32, 5)       85        \n",
      "_________________________________________________________________\n",
      "max_pooling2d_28 (MaxPooling (None, 500, 16, 5)        0         \n",
      "_________________________________________________________________\n",
      "dropout_38 (Dropout)         (None, 500, 16, 5)        0         \n",
      "_________________________________________________________________\n",
      "batch_normalization_29 (Batc (None, 500, 16, 5)        20        \n",
      "_________________________________________________________________\n",
      "conv2d_29 (Conv2D)           (None, 500, 16, 5)        405       \n",
      "_________________________________________________________________\n",
      "max_pooling2d_29 (MaxPooling (None, 250, 8, 5)         0         \n",
      "_________________________________________________________________\n",
      "dropout_39 (Dropout)         (None, 250, 8, 5)         0         \n",
      "_________________________________________________________________\n",
      "batch_normalization_30 (Batc (None, 250, 8, 5)         20        \n",
      "_________________________________________________________________\n",
      "conv2d_30 (Conv2D)           (None, 250, 8, 5)         405       \n",
      "_________________________________________________________________\n",
      "max_pooling2d_30 (MaxPooling (None, 125, 4, 5)         0         \n",
      "_________________________________________________________________\n",
      "dropout_40 (Dropout)         (None, 125, 4, 5)         0         \n",
      "_________________________________________________________________\n",
      "flatten_15 (Flatten)         (None, 2500)              0         \n",
      "_________________________________________________________________\n",
      "seizure (Dense)              (None, 2)                 5002      \n",
      "=================================================================\n",
      "Total params: 6,645\n",
      "Trainable params: 6,623\n",
      "Non-trainable params: 22\n",
      "_________________________________________________________________\n",
      "None\n"
     ]
    }
   ],
   "source": [
    "duplicate_model, duplicated_flatten, x = get_model(4, 0.0001, 32, num_lin_layer=1, num_post_cnn_layers=0, num_conv_temporal_layers=0, num_layers=3, num_filters=5, num_post_lin_h=0, max_pool_stride=(2,2), num_gpus=1, conv_temporal_filter=(0,0), num_temporal_filter=0, use_inception=0, cnn_dropout=0.25, linear_dropout=0.25, max_pool_size=(2,2), conv_spatial_filter=(4,4), use_batch_normalization=True)"
   ]
  },
  {
   "cell_type": "code",
   "execution_count": 231,
   "metadata": {},
   "outputs": [],
   "source": [
    "for i in range(len(model.layers)):\n",
    "    duplicate_model.layers[i].set_weights(model.layers[i].get_weights())\n",
    "    duplicate_model.layers[i].trainable = False\n",
    "duplicate_model.compile(\"adam\", loss=\"binary_crossentropy\")"
   ]
  },
  {
   "cell_type": "code",
   "execution_count": 232,
   "metadata": {},
   "outputs": [
    {
     "name": "stdout",
     "output_type": "stream",
     "text": [
      "_________________________________________________________________\n",
      "Layer (type)                 Output Shape              Param #   \n",
      "=================================================================\n",
      "input_14 (InputLayer)        (None, 1000, 21, 1)       0         \n",
      "_________________________________________________________________\n",
      "reshape_17 (Reshape)         (None, 1000, 21)          0         \n",
      "_________________________________________________________________\n",
      "time_distributed_19 (TimeDis (None, 1000, 32)          704       \n",
      "_________________________________________________________________\n",
      "time_distributed_20 (TimeDis (None, 1000, 32)          0         \n",
      "_________________________________________________________________\n",
      "reshape_18 (Reshape)         (None, 1000, 32, 1)       0         \n",
      "_________________________________________________________________\n",
      "batch_normalization_28 (Batc (None, 1000, 32, 1)       4         \n",
      "_________________________________________________________________\n",
      "conv2d_28 (Conv2D)           (None, 1000, 32, 5)       85        \n",
      "_________________________________________________________________\n",
      "max_pooling2d_28 (MaxPooling (None, 500, 16, 5)        0         \n",
      "_________________________________________________________________\n",
      "dropout_38 (Dropout)         (None, 500, 16, 5)        0         \n",
      "_________________________________________________________________\n",
      "batch_normalization_29 (Batc (None, 500, 16, 5)        20        \n",
      "_________________________________________________________________\n",
      "conv2d_29 (Conv2D)           (None, 500, 16, 5)        405       \n",
      "_________________________________________________________________\n",
      "max_pooling2d_29 (MaxPooling (None, 250, 8, 5)         0         \n",
      "_________________________________________________________________\n",
      "dropout_39 (Dropout)         (None, 250, 8, 5)         0         \n",
      "_________________________________________________________________\n",
      "batch_normalization_30 (Batc (None, 250, 8, 5)         20        \n",
      "_________________________________________________________________\n",
      "conv2d_30 (Conv2D)           (None, 250, 8, 5)         405       \n",
      "_________________________________________________________________\n",
      "max_pooling2d_30 (MaxPooling (None, 125, 4, 5)         0         \n",
      "_________________________________________________________________\n",
      "dropout_40 (Dropout)         (None, 125, 4, 5)         0         \n",
      "_________________________________________________________________\n",
      "flatten_15 (Flatten)         (None, 2500)              0         \n",
      "_________________________________________________________________\n",
      "seizure (Dense)              (None, 2)                 5002      \n",
      "=================================================================\n",
      "Total params: 6,645\n",
      "Trainable params: 0\n",
      "Non-trainable params: 6,645\n",
      "_________________________________________________________________\n"
     ]
    }
   ],
   "source": [
    "duplicate_model.summary()"
   ]
  },
  {
   "cell_type": "code",
   "execution_count": 233,
   "metadata": {},
   "outputs": [],
   "source": [
    "y_session = Dense(len(allPatients), input_shape=(2500,))(duplicated_flatten)"
   ]
  },
  {
   "cell_type": "code",
   "execution_count": 234,
   "metadata": {},
   "outputs": [],
   "source": [
    "session_predictor = Model(inputs=x, outputs=[y_session])"
   ]
  },
  {
   "cell_type": "code",
   "execution_count": 235,
   "metadata": {},
   "outputs": [
    {
     "name": "stdout",
     "output_type": "stream",
     "text": [
      "_________________________________________________________________\n",
      "Layer (type)                 Output Shape              Param #   \n",
      "=================================================================\n",
      "input_14 (InputLayer)        (None, 1000, 21, 1)       0         \n",
      "_________________________________________________________________\n",
      "reshape_17 (Reshape)         (None, 1000, 21)          0         \n",
      "_________________________________________________________________\n",
      "time_distributed_19 (TimeDis (None, 1000, 32)          704       \n",
      "_________________________________________________________________\n",
      "time_distributed_20 (TimeDis (None, 1000, 32)          0         \n",
      "_________________________________________________________________\n",
      "reshape_18 (Reshape)         (None, 1000, 32, 1)       0         \n",
      "_________________________________________________________________\n",
      "batch_normalization_28 (Batc (None, 1000, 32, 1)       4         \n",
      "_________________________________________________________________\n",
      "conv2d_28 (Conv2D)           (None, 1000, 32, 5)       85        \n",
      "_________________________________________________________________\n",
      "max_pooling2d_28 (MaxPooling (None, 500, 16, 5)        0         \n",
      "_________________________________________________________________\n",
      "dropout_38 (Dropout)         (None, 500, 16, 5)        0         \n",
      "_________________________________________________________________\n",
      "batch_normalization_29 (Batc (None, 500, 16, 5)        20        \n",
      "_________________________________________________________________\n",
      "conv2d_29 (Conv2D)           (None, 500, 16, 5)        405       \n",
      "_________________________________________________________________\n",
      "max_pooling2d_29 (MaxPooling (None, 250, 8, 5)         0         \n",
      "_________________________________________________________________\n",
      "dropout_39 (Dropout)         (None, 250, 8, 5)         0         \n",
      "_________________________________________________________________\n",
      "batch_normalization_30 (Batc (None, 250, 8, 5)         20        \n",
      "_________________________________________________________________\n",
      "conv2d_30 (Conv2D)           (None, 250, 8, 5)         405       \n",
      "_________________________________________________________________\n",
      "max_pooling2d_30 (MaxPooling (None, 125, 4, 5)         0         \n",
      "_________________________________________________________________\n",
      "dropout_40 (Dropout)         (None, 125, 4, 5)         0         \n",
      "_________________________________________________________________\n",
      "flatten_15 (Flatten)         (None, 2500)              0         \n",
      "_________________________________________________________________\n",
      "dense_24 (Dense)             (None, 308)               770308    \n",
      "=================================================================\n",
      "Total params: 771,951\n",
      "Trainable params: 770,308\n",
      "Non-trainable params: 1,643\n",
      "_________________________________________________________________\n"
     ]
    }
   ],
   "source": [
    "session_predictor.summary()"
   ]
  },
  {
   "cell_type": "code",
   "execution_count": 236,
   "metadata": {},
   "outputs": [
    {
     "data": {
      "text/plain": [
       "[array([[[[ 2.92031579e-02, -1.33755967e-01,  8.48313347e-02,\n",
       "           -8.25162008e-02,  4.44013067e-02],\n",
       "          [ 2.18419209e-02,  2.32938468e-01,  1.98451187e-02,\n",
       "           -9.66600627e-02, -1.98449552e-01],\n",
       "          [-5.47439326e-04, -9.08689499e-02, -3.15738656e-02,\n",
       "            9.94027928e-02,  1.62121370e-01],\n",
       "          [-4.52166677e-01, -2.88692862e-01, -7.79951215e-02,\n",
       "           -3.03270698e-01,  3.00865591e-01],\n",
       "          [-4.05828804e-02, -1.43611953e-01, -3.29162329e-01,\n",
       "            3.16960402e-02,  1.92355141e-01]],\n",
       " \n",
       "         [[-8.49942118e-03,  3.81572470e-02,  1.45907253e-01,\n",
       "           -2.27678657e-01, -1.68651536e-01],\n",
       "          [ 1.51199196e-02, -2.58488178e-01, -3.08936592e-02,\n",
       "           -2.39343047e-01, -2.21141770e-01],\n",
       "          [ 1.14622883e-01, -8.44342355e-03, -4.89641465e-02,\n",
       "           -2.43409723e-01, -2.70235598e-01],\n",
       "          [-3.27754766e-01, -2.95222700e-01, -1.46640418e-03,\n",
       "           -8.04771781e-02, -1.69788554e-01],\n",
       "          [-2.63098013e-02, -2.49706283e-01, -1.86109826e-01,\n",
       "           -6.13500513e-02,  2.30091766e-01]],\n",
       " \n",
       "         [[ 4.07372527e-02, -1.20788887e-01, -1.58228919e-01,\n",
       "           -2.45937064e-01, -5.18597923e-02],\n",
       "          [ 4.22218144e-02,  3.49180371e-01, -2.07332462e-01,\n",
       "            5.11169992e-03,  5.81907248e-03],\n",
       "          [ 1.05682768e-01,  6.61970079e-02, -1.46413326e-01,\n",
       "           -2.81933904e-01, -2.67983526e-01],\n",
       "          [-5.24104595e-01,  7.23690167e-02,  4.63816822e-02,\n",
       "            2.21711770e-01,  1.11903967e-02],\n",
       "          [-8.66003409e-02,  2.60751069e-01,  8.31663758e-02,\n",
       "           -1.09841339e-01, -9.31370854e-02]],\n",
       " \n",
       "         [[ 8.45618453e-03, -1.58999264e-01, -9.56786796e-02,\n",
       "           -7.49070644e-02, -3.25931497e-02],\n",
       "          [ 1.18495956e-01,  6.10930361e-02,  3.70448753e-02,\n",
       "           -1.57629743e-01,  9.45947245e-02],\n",
       "          [ 8.33819807e-02,  1.74547091e-01, -8.61597359e-02,\n",
       "            9.32046399e-02,  1.66940577e-02],\n",
       "          [-4.12089914e-01, -1.54315531e-02,  5.92168681e-02,\n",
       "           -2.27311060e-01,  4.85008731e-02],\n",
       "          [-1.16631135e-01,  7.19873756e-02, -1.27325401e-01,\n",
       "           -1.94476899e-02, -1.61693126e-01]]],\n",
       " \n",
       " \n",
       "        [[[-9.02117863e-02, -4.65907482e-03,  5.28409071e-02,\n",
       "           -5.67006990e-02,  7.39792138e-02],\n",
       "          [-2.38953859e-01,  8.82967934e-02, -3.92427146e-02,\n",
       "           -7.83817843e-02, -1.83384657e-01],\n",
       "          [-4.05671224e-02,  4.06152941e-02,  6.73397705e-02,\n",
       "            1.38180599e-01, -1.10893168e-01],\n",
       "          [-2.39381790e-01, -8.53096917e-02, -1.88017771e-01,\n",
       "           -3.15098345e-01,  1.27962887e-01],\n",
       "          [-1.29313365e-01,  5.67356423e-02, -7.27404878e-02,\n",
       "            1.10288686e-03, -4.79174778e-02]],\n",
       " \n",
       "         [[-2.89726395e-05, -1.24752492e-01, -5.23941517e-02,\n",
       "           -2.41943777e-01, -1.54058725e-01],\n",
       "          [-2.38678813e-01, -4.36986715e-01,  3.42502333e-02,\n",
       "           -2.17208952e-01, -1.59913152e-01],\n",
       "          [-1.22545980e-01, -2.67184135e-02,  9.64690372e-02,\n",
       "           -2.75525481e-01, -2.45928735e-01],\n",
       "          [-3.77205223e-01, -7.42661655e-02,  2.49256924e-01,\n",
       "            2.05860622e-02, -2.07580864e-01],\n",
       "          [ 1.29920840e-01, -3.28516245e-01, -2.79206522e-02,\n",
       "            3.16299498e-02,  1.24827102e-01]],\n",
       " \n",
       "         [[ 8.03124085e-02,  2.10073050e-02, -1.40566647e-01,\n",
       "           -2.07710296e-01, -6.01849928e-02],\n",
       "          [-2.36632049e-01,  7.06225559e-02, -2.06813976e-01,\n",
       "            4.45620343e-02,  1.12253018e-02],\n",
       "          [-7.14774127e-04, -7.37753287e-02, -4.66573611e-02,\n",
       "           -1.45486355e-01, -2.45204970e-01],\n",
       "          [-3.01510423e-01, -3.80430333e-02,  1.71965752e-02,\n",
       "            1.89507231e-01,  2.21124701e-02],\n",
       "          [-1.59296710e-02, -1.40026375e-03,  1.23740658e-01,\n",
       "            5.22237644e-02,  5.22285476e-02]],\n",
       " \n",
       "         [[-5.96449897e-02, -1.81641862e-01, -1.05010875e-01,\n",
       "           -1.83300842e-02, -2.25472450e-02],\n",
       "          [-1.98961303e-01, -1.19645543e-01,  8.69126394e-02,\n",
       "           -1.31808579e-01,  8.34871829e-02],\n",
       "          [ 1.07140288e-01, -9.94198546e-02, -1.38714105e-01,\n",
       "           -9.63794719e-03,  2.19442267e-02],\n",
       "          [-1.68971375e-01,  2.47896556e-03, -4.41669933e-02,\n",
       "           -3.26954573e-01, -4.11901884e-02],\n",
       "          [-2.82216761e-02, -1.80797592e-01, -3.53924721e-03,\n",
       "            8.63914788e-02, -1.45377576e-01]]],\n",
       " \n",
       " \n",
       "        [[[-5.19549623e-02, -9.22348574e-02, -2.75268052e-02,\n",
       "           -6.60303757e-02, -9.63041857e-02],\n",
       "          [-1.35080889e-01,  1.10086866e-01,  8.01747143e-02,\n",
       "           -9.99251083e-02, -1.40495554e-01],\n",
       "          [ 1.38662472e-01, -4.19680804e-01, -3.37832198e-02,\n",
       "            4.59530056e-02, -6.03919178e-02],\n",
       "          [-2.37324461e-01, -1.77101746e-01, -1.18586428e-01,\n",
       "           -4.00830746e-01,  8.78462493e-02],\n",
       "          [-1.94650531e-01, -1.77939553e-02, -3.61653678e-02,\n",
       "            1.66227706e-02, -1.03227168e-01]],\n",
       " \n",
       "         [[ 4.39862460e-02,  9.21506733e-02,  8.57710168e-02,\n",
       "           -2.18500942e-01, -1.90130815e-01],\n",
       "          [-3.79391201e-02, -4.57809687e-01, -8.34412314e-03,\n",
       "           -2.16581121e-01, -2.06842899e-01],\n",
       "          [-7.57108629e-02, -2.59157181e-01,  7.38396123e-02,\n",
       "           -3.25424582e-01, -2.54647672e-01],\n",
       "          [-2.67574131e-01, -2.96829522e-01,  1.06334813e-01,\n",
       "           -6.54662475e-02, -1.88894719e-01],\n",
       "          [-7.01745078e-02,  6.73516989e-02, -1.42781325e-02,\n",
       "            1.05042204e-01,  1.36482686e-01]],\n",
       " \n",
       "         [[-4.65770299e-03, -9.68473852e-02, -1.54778406e-01,\n",
       "           -2.08977327e-01, -7.53383413e-02],\n",
       "          [-7.48990029e-02, -2.63974428e-01, -1.88678399e-01,\n",
       "            7.12969601e-02,  5.94404787e-02],\n",
       "          [-9.54030529e-02, -3.70185047e-01, -1.61942765e-01,\n",
       "           -2.15628654e-01, -2.72767127e-01],\n",
       "          [-2.68569589e-01, -8.48256350e-02,  6.33459166e-02,\n",
       "            8.82933289e-02,  5.58584072e-02],\n",
       "          [-7.41456524e-02, -2.03867674e-01,  1.94834650e-01,\n",
       "            8.00660327e-02,  1.12250045e-01]],\n",
       " \n",
       "         [[ 2.14214236e-01,  4.45248634e-02, -1.14466928e-01,\n",
       "           -5.09234965e-02, -1.49752973e-02],\n",
       "          [-1.22281678e-01, -9.59784016e-02,  7.44800642e-03,\n",
       "           -9.57751945e-02,  5.63892201e-02],\n",
       "          [-4.71834615e-02, -1.90268546e-01, -1.46661699e-01,\n",
       "            4.96869832e-02,  6.40947446e-02],\n",
       "          [-2.53426731e-01, -2.97871023e-01, -3.71573418e-02,\n",
       "           -3.00868869e-01, -2.47765463e-02],\n",
       "          [-4.77845408e-02, -2.50218779e-01, -6.59151822e-02,\n",
       "           -3.93811315e-02, -1.07837461e-01]]],\n",
       " \n",
       " \n",
       "        [[[-1.06782064e-01,  4.03344743e-02,  1.51454553e-01,\n",
       "           -5.33749647e-02,  7.91851357e-02],\n",
       "          [-4.81306352e-02, -2.10502818e-01,  3.59561332e-02,\n",
       "           -1.15004338e-01, -1.19694531e-01],\n",
       "          [ 8.35917071e-02,  2.23661331e-03, -7.18243793e-02,\n",
       "            5.41220754e-02, -2.13675611e-02],\n",
       "          [-2.37510368e-01, -3.62134933e-01, -1.53018281e-01,\n",
       "           -3.10298443e-01,  2.23782018e-01],\n",
       "          [-1.98784351e-01, -1.99720785e-01, -1.10460676e-01,\n",
       "            5.82533255e-02, -9.61120725e-02]],\n",
       " \n",
       "         [[ 1.07221276e-01,  1.74074583e-02,  5.91619126e-02,\n",
       "           -2.05123141e-01, -1.54498383e-01],\n",
       "          [-1.11298427e-01, -3.26024517e-02, -2.73563117e-02,\n",
       "           -2.80415237e-01, -1.96865499e-01],\n",
       "          [ 2.21375097e-02,  5.82947358e-02,  3.62278670e-02,\n",
       "           -3.36863369e-01, -2.25602195e-01],\n",
       "          [-2.13172212e-01, -3.05021614e-01,  2.11348906e-02,\n",
       "           -1.39831724e-02, -1.92039177e-01],\n",
       "          [-1.51074067e-01, -3.65484431e-02,  2.21613999e-02,\n",
       "            1.26038268e-01, -4.32536053e-03]],\n",
       " \n",
       "         [[-2.27825274e-03,  1.35279268e-01, -1.28562629e-01,\n",
       "           -1.73652634e-01, -8.08337256e-02],\n",
       "          [-4.36824709e-02, -9.44097787e-02, -1.81986764e-01,\n",
       "            1.98442712e-02,  9.52930003e-03],\n",
       "          [ 6.23422749e-02, -7.31675252e-02, -2.09363788e-01,\n",
       "           -2.41461486e-01, -2.82179445e-01],\n",
       "          [-2.69539356e-01, -6.02683015e-02, -7.89700001e-02,\n",
       "            1.33141890e-01,  8.51218030e-02],\n",
       "          [-2.47538984e-01, -2.65491098e-01,  2.23195031e-01,\n",
       "            6.77137375e-02,  6.15675673e-02]],\n",
       " \n",
       "         [[ 1.32704705e-01, -7.86642730e-02, -8.20207372e-02,\n",
       "           -3.08677126e-02, -5.08219376e-02],\n",
       "          [ 6.57741874e-02, -9.74743441e-02,  9.12471861e-02,\n",
       "           -2.23899141e-01,  7.56001547e-02],\n",
       "          [ 9.33203697e-02, -8.92516971e-02,  1.45255355e-02,\n",
       "            2.55135801e-02,  5.90049252e-02],\n",
       "          [-3.14904362e-01, -2.85379648e-01, -8.86561200e-02,\n",
       "           -2.97885060e-01, -9.26512256e-02],\n",
       "          [ 2.52956271e-01, -2.74333298e-01, -1.52413875e-01,\n",
       "            3.35280150e-02, -1.24140583e-01]]]], dtype=float32),\n",
       " array([-0.5185843 , -0.29127643, -0.02679143, -0.08723959, -0.07241043],\n",
       "       dtype=float32)]"
      ]
     },
     "execution_count": 236,
     "metadata": {},
     "output_type": "execute_result"
    }
   ],
   "source": [
    "session_predictor.layers[-5].get_weights() "
   ]
  },
  {
   "cell_type": "code",
   "execution_count": 237,
   "metadata": {},
   "outputs": [
    {
     "data": {
      "text/plain": [
       "[array([[[[ 2.92031579e-02, -1.33755967e-01,  8.48313347e-02,\n",
       "           -8.25162008e-02,  4.44013067e-02],\n",
       "          [ 2.18419209e-02,  2.32938468e-01,  1.98451187e-02,\n",
       "           -9.66600627e-02, -1.98449552e-01],\n",
       "          [-5.47439326e-04, -9.08689499e-02, -3.15738656e-02,\n",
       "            9.94027928e-02,  1.62121370e-01],\n",
       "          [-4.52166677e-01, -2.88692862e-01, -7.79951215e-02,\n",
       "           -3.03270698e-01,  3.00865591e-01],\n",
       "          [-4.05828804e-02, -1.43611953e-01, -3.29162329e-01,\n",
       "            3.16960402e-02,  1.92355141e-01]],\n",
       " \n",
       "         [[-8.49942118e-03,  3.81572470e-02,  1.45907253e-01,\n",
       "           -2.27678657e-01, -1.68651536e-01],\n",
       "          [ 1.51199196e-02, -2.58488178e-01, -3.08936592e-02,\n",
       "           -2.39343047e-01, -2.21141770e-01],\n",
       "          [ 1.14622883e-01, -8.44342355e-03, -4.89641465e-02,\n",
       "           -2.43409723e-01, -2.70235598e-01],\n",
       "          [-3.27754766e-01, -2.95222700e-01, -1.46640418e-03,\n",
       "           -8.04771781e-02, -1.69788554e-01],\n",
       "          [-2.63098013e-02, -2.49706283e-01, -1.86109826e-01,\n",
       "           -6.13500513e-02,  2.30091766e-01]],\n",
       " \n",
       "         [[ 4.07372527e-02, -1.20788887e-01, -1.58228919e-01,\n",
       "           -2.45937064e-01, -5.18597923e-02],\n",
       "          [ 4.22218144e-02,  3.49180371e-01, -2.07332462e-01,\n",
       "            5.11169992e-03,  5.81907248e-03],\n",
       "          [ 1.05682768e-01,  6.61970079e-02, -1.46413326e-01,\n",
       "           -2.81933904e-01, -2.67983526e-01],\n",
       "          [-5.24104595e-01,  7.23690167e-02,  4.63816822e-02,\n",
       "            2.21711770e-01,  1.11903967e-02],\n",
       "          [-8.66003409e-02,  2.60751069e-01,  8.31663758e-02,\n",
       "           -1.09841339e-01, -9.31370854e-02]],\n",
       " \n",
       "         [[ 8.45618453e-03, -1.58999264e-01, -9.56786796e-02,\n",
       "           -7.49070644e-02, -3.25931497e-02],\n",
       "          [ 1.18495956e-01,  6.10930361e-02,  3.70448753e-02,\n",
       "           -1.57629743e-01,  9.45947245e-02],\n",
       "          [ 8.33819807e-02,  1.74547091e-01, -8.61597359e-02,\n",
       "            9.32046399e-02,  1.66940577e-02],\n",
       "          [-4.12089914e-01, -1.54315531e-02,  5.92168681e-02,\n",
       "           -2.27311060e-01,  4.85008731e-02],\n",
       "          [-1.16631135e-01,  7.19873756e-02, -1.27325401e-01,\n",
       "           -1.94476899e-02, -1.61693126e-01]]],\n",
       " \n",
       " \n",
       "        [[[-9.02117863e-02, -4.65907482e-03,  5.28409071e-02,\n",
       "           -5.67006990e-02,  7.39792138e-02],\n",
       "          [-2.38953859e-01,  8.82967934e-02, -3.92427146e-02,\n",
       "           -7.83817843e-02, -1.83384657e-01],\n",
       "          [-4.05671224e-02,  4.06152941e-02,  6.73397705e-02,\n",
       "            1.38180599e-01, -1.10893168e-01],\n",
       "          [-2.39381790e-01, -8.53096917e-02, -1.88017771e-01,\n",
       "           -3.15098345e-01,  1.27962887e-01],\n",
       "          [-1.29313365e-01,  5.67356423e-02, -7.27404878e-02,\n",
       "            1.10288686e-03, -4.79174778e-02]],\n",
       " \n",
       "         [[-2.89726395e-05, -1.24752492e-01, -5.23941517e-02,\n",
       "           -2.41943777e-01, -1.54058725e-01],\n",
       "          [-2.38678813e-01, -4.36986715e-01,  3.42502333e-02,\n",
       "           -2.17208952e-01, -1.59913152e-01],\n",
       "          [-1.22545980e-01, -2.67184135e-02,  9.64690372e-02,\n",
       "           -2.75525481e-01, -2.45928735e-01],\n",
       "          [-3.77205223e-01, -7.42661655e-02,  2.49256924e-01,\n",
       "            2.05860622e-02, -2.07580864e-01],\n",
       "          [ 1.29920840e-01, -3.28516245e-01, -2.79206522e-02,\n",
       "            3.16299498e-02,  1.24827102e-01]],\n",
       " \n",
       "         [[ 8.03124085e-02,  2.10073050e-02, -1.40566647e-01,\n",
       "           -2.07710296e-01, -6.01849928e-02],\n",
       "          [-2.36632049e-01,  7.06225559e-02, -2.06813976e-01,\n",
       "            4.45620343e-02,  1.12253018e-02],\n",
       "          [-7.14774127e-04, -7.37753287e-02, -4.66573611e-02,\n",
       "           -1.45486355e-01, -2.45204970e-01],\n",
       "          [-3.01510423e-01, -3.80430333e-02,  1.71965752e-02,\n",
       "            1.89507231e-01,  2.21124701e-02],\n",
       "          [-1.59296710e-02, -1.40026375e-03,  1.23740658e-01,\n",
       "            5.22237644e-02,  5.22285476e-02]],\n",
       " \n",
       "         [[-5.96449897e-02, -1.81641862e-01, -1.05010875e-01,\n",
       "           -1.83300842e-02, -2.25472450e-02],\n",
       "          [-1.98961303e-01, -1.19645543e-01,  8.69126394e-02,\n",
       "           -1.31808579e-01,  8.34871829e-02],\n",
       "          [ 1.07140288e-01, -9.94198546e-02, -1.38714105e-01,\n",
       "           -9.63794719e-03,  2.19442267e-02],\n",
       "          [-1.68971375e-01,  2.47896556e-03, -4.41669933e-02,\n",
       "           -3.26954573e-01, -4.11901884e-02],\n",
       "          [-2.82216761e-02, -1.80797592e-01, -3.53924721e-03,\n",
       "            8.63914788e-02, -1.45377576e-01]]],\n",
       " \n",
       " \n",
       "        [[[-5.19549623e-02, -9.22348574e-02, -2.75268052e-02,\n",
       "           -6.60303757e-02, -9.63041857e-02],\n",
       "          [-1.35080889e-01,  1.10086866e-01,  8.01747143e-02,\n",
       "           -9.99251083e-02, -1.40495554e-01],\n",
       "          [ 1.38662472e-01, -4.19680804e-01, -3.37832198e-02,\n",
       "            4.59530056e-02, -6.03919178e-02],\n",
       "          [-2.37324461e-01, -1.77101746e-01, -1.18586428e-01,\n",
       "           -4.00830746e-01,  8.78462493e-02],\n",
       "          [-1.94650531e-01, -1.77939553e-02, -3.61653678e-02,\n",
       "            1.66227706e-02, -1.03227168e-01]],\n",
       " \n",
       "         [[ 4.39862460e-02,  9.21506733e-02,  8.57710168e-02,\n",
       "           -2.18500942e-01, -1.90130815e-01],\n",
       "          [-3.79391201e-02, -4.57809687e-01, -8.34412314e-03,\n",
       "           -2.16581121e-01, -2.06842899e-01],\n",
       "          [-7.57108629e-02, -2.59157181e-01,  7.38396123e-02,\n",
       "           -3.25424582e-01, -2.54647672e-01],\n",
       "          [-2.67574131e-01, -2.96829522e-01,  1.06334813e-01,\n",
       "           -6.54662475e-02, -1.88894719e-01],\n",
       "          [-7.01745078e-02,  6.73516989e-02, -1.42781325e-02,\n",
       "            1.05042204e-01,  1.36482686e-01]],\n",
       " \n",
       "         [[-4.65770299e-03, -9.68473852e-02, -1.54778406e-01,\n",
       "           -2.08977327e-01, -7.53383413e-02],\n",
       "          [-7.48990029e-02, -2.63974428e-01, -1.88678399e-01,\n",
       "            7.12969601e-02,  5.94404787e-02],\n",
       "          [-9.54030529e-02, -3.70185047e-01, -1.61942765e-01,\n",
       "           -2.15628654e-01, -2.72767127e-01],\n",
       "          [-2.68569589e-01, -8.48256350e-02,  6.33459166e-02,\n",
       "            8.82933289e-02,  5.58584072e-02],\n",
       "          [-7.41456524e-02, -2.03867674e-01,  1.94834650e-01,\n",
       "            8.00660327e-02,  1.12250045e-01]],\n",
       " \n",
       "         [[ 2.14214236e-01,  4.45248634e-02, -1.14466928e-01,\n",
       "           -5.09234965e-02, -1.49752973e-02],\n",
       "          [-1.22281678e-01, -9.59784016e-02,  7.44800642e-03,\n",
       "           -9.57751945e-02,  5.63892201e-02],\n",
       "          [-4.71834615e-02, -1.90268546e-01, -1.46661699e-01,\n",
       "            4.96869832e-02,  6.40947446e-02],\n",
       "          [-2.53426731e-01, -2.97871023e-01, -3.71573418e-02,\n",
       "           -3.00868869e-01, -2.47765463e-02],\n",
       "          [-4.77845408e-02, -2.50218779e-01, -6.59151822e-02,\n",
       "           -3.93811315e-02, -1.07837461e-01]]],\n",
       " \n",
       " \n",
       "        [[[-1.06782064e-01,  4.03344743e-02,  1.51454553e-01,\n",
       "           -5.33749647e-02,  7.91851357e-02],\n",
       "          [-4.81306352e-02, -2.10502818e-01,  3.59561332e-02,\n",
       "           -1.15004338e-01, -1.19694531e-01],\n",
       "          [ 8.35917071e-02,  2.23661331e-03, -7.18243793e-02,\n",
       "            5.41220754e-02, -2.13675611e-02],\n",
       "          [-2.37510368e-01, -3.62134933e-01, -1.53018281e-01,\n",
       "           -3.10298443e-01,  2.23782018e-01],\n",
       "          [-1.98784351e-01, -1.99720785e-01, -1.10460676e-01,\n",
       "            5.82533255e-02, -9.61120725e-02]],\n",
       " \n",
       "         [[ 1.07221276e-01,  1.74074583e-02,  5.91619126e-02,\n",
       "           -2.05123141e-01, -1.54498383e-01],\n",
       "          [-1.11298427e-01, -3.26024517e-02, -2.73563117e-02,\n",
       "           -2.80415237e-01, -1.96865499e-01],\n",
       "          [ 2.21375097e-02,  5.82947358e-02,  3.62278670e-02,\n",
       "           -3.36863369e-01, -2.25602195e-01],\n",
       "          [-2.13172212e-01, -3.05021614e-01,  2.11348906e-02,\n",
       "           -1.39831724e-02, -1.92039177e-01],\n",
       "          [-1.51074067e-01, -3.65484431e-02,  2.21613999e-02,\n",
       "            1.26038268e-01, -4.32536053e-03]],\n",
       " \n",
       "         [[-2.27825274e-03,  1.35279268e-01, -1.28562629e-01,\n",
       "           -1.73652634e-01, -8.08337256e-02],\n",
       "          [-4.36824709e-02, -9.44097787e-02, -1.81986764e-01,\n",
       "            1.98442712e-02,  9.52930003e-03],\n",
       "          [ 6.23422749e-02, -7.31675252e-02, -2.09363788e-01,\n",
       "           -2.41461486e-01, -2.82179445e-01],\n",
       "          [-2.69539356e-01, -6.02683015e-02, -7.89700001e-02,\n",
       "            1.33141890e-01,  8.51218030e-02],\n",
       "          [-2.47538984e-01, -2.65491098e-01,  2.23195031e-01,\n",
       "            6.77137375e-02,  6.15675673e-02]],\n",
       " \n",
       "         [[ 1.32704705e-01, -7.86642730e-02, -8.20207372e-02,\n",
       "           -3.08677126e-02, -5.08219376e-02],\n",
       "          [ 6.57741874e-02, -9.74743441e-02,  9.12471861e-02,\n",
       "           -2.23899141e-01,  7.56001547e-02],\n",
       "          [ 9.33203697e-02, -8.92516971e-02,  1.45255355e-02,\n",
       "            2.55135801e-02,  5.90049252e-02],\n",
       "          [-3.14904362e-01, -2.85379648e-01, -8.86561200e-02,\n",
       "           -2.97885060e-01, -9.26512256e-02],\n",
       "          [ 2.52956271e-01, -2.74333298e-01, -1.52413875e-01,\n",
       "            3.35280150e-02, -1.24140583e-01]]]], dtype=float32),\n",
       " array([-0.5185843 , -0.29127643, -0.02679143, -0.08723959, -0.07241043],\n",
       "       dtype=float32)]"
      ]
     },
     "execution_count": 237,
     "metadata": {},
     "output_type": "execute_result"
    }
   ],
   "source": [
    " duplicate_model.layers[-5].get_weights()"
   ]
  },
  {
   "cell_type": "code",
   "execution_count": 238,
   "metadata": {},
   "outputs": [],
   "source": [
    "from keras.callbacks import EarlyStopping\n",
    "ea = EarlyStopping(\"val_loss\")"
   ]
  },
  {
   "cell_type": "code",
   "execution_count": 239,
   "metadata": {},
   "outputs": [
    {
     "name": "stdout",
     "output_type": "stream",
     "text": [
      "Epoch 1/10\n",
      "3771/3771 [==============================] - 598s 159ms/step - loss: 9.2319 - categorical_accuracy: 0.0430\n",
      "Epoch 2/10\n"
     ]
    },
    {
     "name": "stderr",
     "output_type": "stream",
     "text": [
      "/home/ms994/miniconda3/envs/keras-redo/lib/python3.7/site-packages/keras/callbacks.py:569: RuntimeWarning: Early stopping conditioned on metric `val_loss` which is not available. Available metrics are: loss,categorical_accuracy\n",
      "  (self.monitor, ','.join(list(logs.keys()))), RuntimeWarning\n"
     ]
    },
    {
     "name": "stdout",
     "output_type": "stream",
     "text": [
      "3771/3771 [==============================] - 606s 161ms/step - loss: 8.7776 - categorical_accuracy: 0.0747\n",
      "Epoch 3/10\n",
      "3771/3771 [==============================] - 601s 159ms/step - loss: 8.6882 - categorical_accuracy: 0.0777\n",
      "Epoch 4/10\n",
      "3771/3771 [==============================] - 589s 156ms/step - loss: 8.5633 - categorical_accuracy: 0.0779\n",
      "Epoch 5/10\n",
      "2807/3771 [=====================>........] - ETA: 2:30 - loss: 8.5914 - categorical_accuracy: 0.0823"
     ]
    },
    {
     "name": "stderr",
     "output_type": "stream",
     "text": [
      "Process ForkPoolWorker-2797:\n",
      "Process ForkPoolWorker-2792:\n",
      "Process ForkPoolWorker-2796:\n",
      "Process ForkPoolWorker-2793:\n",
      "Process ForkPoolWorker-2795:\n",
      "Process ForkPoolWorker-2786:\n",
      "Process ForkPoolWorker-2788:\n",
      "Process ForkPoolWorker-2794:\n",
      "Process ForkPoolWorker-2789:\n",
      "Process ForkPoolWorker-2790:\n",
      "Process ForkPoolWorker-2787:\n",
      "Process ForkPoolWorker-2791:\n",
      "Traceback (most recent call last):\n",
      "Traceback (most recent call last):\n",
      "Traceback (most recent call last):\n",
      "Traceback (most recent call last):\n",
      "  File \"/home/ms994/miniconda3/envs/keras-redo/lib/python3.7/multiprocessing/process.py\", line 297, in _bootstrap\n",
      "    self.run()\n",
      "  File \"/home/ms994/miniconda3/envs/keras-redo/lib/python3.7/multiprocessing/process.py\", line 297, in _bootstrap\n",
      "    self.run()\n",
      "  File \"/home/ms994/miniconda3/envs/keras-redo/lib/python3.7/multiprocessing/process.py\", line 297, in _bootstrap\n",
      "    self.run()\n",
      "  File \"/home/ms994/miniconda3/envs/keras-redo/lib/python3.7/multiprocessing/process.py\", line 99, in run\n",
      "    self._target(*self._args, **self._kwargs)\n",
      "  File \"/home/ms994/miniconda3/envs/keras-redo/lib/python3.7/multiprocessing/process.py\", line 99, in run\n",
      "    self._target(*self._args, **self._kwargs)\n",
      "  File \"/home/ms994/miniconda3/envs/keras-redo/lib/python3.7/multiprocessing/process.py\", line 297, in _bootstrap\n",
      "    self.run()\n",
      "  File \"/home/ms994/miniconda3/envs/keras-redo/lib/python3.7/multiprocessing/pool.py\", line 121, in worker\n",
      "    result = (True, func(*args, **kwds))\n",
      "  File \"/home/ms994/miniconda3/envs/keras-redo/lib/python3.7/multiprocessing/process.py\", line 99, in run\n",
      "    self._target(*self._args, **self._kwargs)\n",
      "  File \"/home/ms994/miniconda3/envs/keras-redo/lib/python3.7/multiprocessing/pool.py\", line 121, in worker\n",
      "    result = (True, func(*args, **kwds))\n",
      "  File \"/home/ms994/miniconda3/envs/keras-redo/lib/python3.7/multiprocessing/process.py\", line 99, in run\n",
      "    self._target(*self._args, **self._kwargs)\n",
      "  File \"/home/ms994/miniconda3/envs/keras-redo/lib/python3.7/site-packages/keras/utils/data_utils.py\", line 401, in get_index\n",
      "    return _SHARED_SEQUENCES[uid][i]\n",
      "  File \"/home/ms994/miniconda3/envs/keras-redo/lib/python3.7/multiprocessing/pool.py\", line 121, in worker\n",
      "    result = (True, func(*args, **kwds))\n",
      "  File \"/home/ms994/dbmi_eeg_clustering/keras_models/dataGen.py\", line 191, in __getitem__\n",
      "    X, y = self.__data_generation(list_IDs_temp)\n",
      "Traceback (most recent call last):\n",
      "  File \"/home/ms994/miniconda3/envs/keras-redo/lib/python3.7/multiprocessing/pool.py\", line 121, in worker\n",
      "    result = (True, func(*args, **kwds))\n",
      "Traceback (most recent call last):\n",
      "Traceback (most recent call last):\n",
      "Traceback (most recent call last):\n",
      "  File \"/home/ms994/miniconda3/envs/keras-redo/lib/python3.7/site-packages/keras/utils/data_utils.py\", line 401, in get_index\n",
      "    return _SHARED_SEQUENCES[uid][i]\n",
      "  File \"/home/ms994/miniconda3/envs/keras-redo/lib/python3.7/multiprocessing/process.py\", line 297, in _bootstrap\n",
      "    self.run()\n",
      "  File \"/home/ms994/miniconda3/envs/keras-redo/lib/python3.7/multiprocessing/process.py\", line 297, in _bootstrap\n",
      "    self.run()\n",
      "Traceback (most recent call last):\n",
      "  File \"/home/ms994/miniconda3/envs/keras-redo/lib/python3.7/multiprocessing/process.py\", line 297, in _bootstrap\n",
      "    self.run()\n",
      "Traceback (most recent call last):\n",
      "  File \"/home/ms994/miniconda3/envs/keras-redo/lib/python3.7/multiprocessing/process.py\", line 99, in run\n",
      "    self._target(*self._args, **self._kwargs)\n",
      "  File \"/home/ms994/miniconda3/envs/keras-redo/lib/python3.7/multiprocessing/process.py\", line 297, in _bootstrap\n",
      "    self.run()\n",
      "  File \"/home/ms994/miniconda3/envs/keras-redo/lib/python3.7/site-packages/keras/utils/data_utils.py\", line 401, in get_index\n",
      "    return _SHARED_SEQUENCES[uid][i]\n",
      "  File \"/home/ms994/dbmi_eeg_clustering/keras_models/dataGen.py\", line 191, in __getitem__\n",
      "    X, y = self.__data_generation(list_IDs_temp)\n",
      "  File \"/home/ms994/miniconda3/envs/keras-redo/lib/python3.7/multiprocessing/process.py\", line 99, in run\n",
      "    self._target(*self._args, **self._kwargs)\n",
      "  File \"/home/ms994/miniconda3/envs/keras-redo/lib/python3.7/multiprocessing/process.py\", line 297, in _bootstrap\n",
      "    self.run()\n",
      "Traceback (most recent call last):\n",
      "  File \"/home/ms994/miniconda3/envs/keras-redo/lib/python3.7/site-packages/keras/utils/data_utils.py\", line 401, in get_index\n",
      "    return _SHARED_SEQUENCES[uid][i]\n",
      "Traceback (most recent call last):\n",
      "  File \"/home/ms994/miniconda3/envs/keras-redo/lib/python3.7/multiprocessing/process.py\", line 99, in run\n",
      "    self._target(*self._args, **self._kwargs)\n",
      "  File \"/home/ms994/dbmi_eeg_clustering/keras_models/dataGen.py\", line 191, in __getitem__\n",
      "    X, y = self.__data_generation(list_IDs_temp)\n",
      "  File \"/home/ms994/dbmi_eeg_clustering/keras_models/dataGen.py\", line 199, in __data_generation\n",
      "    x, y = self.get_x_y(list_IDs_temp)\n",
      "  File \"/home/ms994/miniconda3/envs/keras-redo/lib/python3.7/multiprocessing/pool.py\", line 121, in worker\n",
      "    result = (True, func(*args, **kwds))\n",
      "  File \"/home/ms994/miniconda3/envs/keras-redo/lib/python3.7/multiprocessing/process.py\", line 99, in run\n",
      "    self._target(*self._args, **self._kwargs)\n",
      "  File \"/home/ms994/dbmi_eeg_clustering/keras_models/dataGen.py\", line 199, in __data_generation\n",
      "    x, y = self.get_x_y(list_IDs_temp)\n",
      "  File \"/home/ms994/miniconda3/envs/keras-redo/lib/python3.7/multiprocessing/process.py\", line 297, in _bootstrap\n",
      "    self.run()\n",
      "  File \"/home/ms994/dbmi_eeg_clustering/keras_models/dataGen.py\", line 166, in get_x_y\n",
      "    data = self.dataset[i]\n",
      "  File \"/home/ms994/miniconda3/envs/keras-redo/lib/python3.7/site-packages/keras/utils/data_utils.py\", line 401, in get_index\n",
      "    return _SHARED_SEQUENCES[uid][i]\n",
      "  File \"/home/ms994/miniconda3/envs/keras-redo/lib/python3.7/multiprocessing/pool.py\", line 121, in worker\n",
      "    result = (True, func(*args, **kwds))\n",
      "  File \"/home/ms994/miniconda3/envs/keras-redo/lib/python3.7/multiprocessing/process.py\", line 99, in run\n",
      "    self._target(*self._args, **self._kwargs)\n",
      "  File \"/home/ms994/miniconda3/envs/keras-redo/lib/python3.7/multiprocessing/process.py\", line 297, in _bootstrap\n",
      "    self.run()\n",
      "  File \"/home/ms994/miniconda3/envs/keras-redo/lib/python3.7/multiprocessing/process.py\", line 297, in _bootstrap\n",
      "    self.run()\n",
      "  File \"/home/ms994/miniconda3/envs/keras-redo/lib/python3.7/multiprocessing/process.py\", line 99, in run\n",
      "    self._target(*self._args, **self._kwargs)\n",
      "  File \"/home/ms994/dbmi_eeg_clustering/keras_models/dataGen.py\", line 199, in __data_generation\n",
      "    x, y = self.get_x_y(list_IDs_temp)\n",
      "  File \"/home/ms994/dbmi_eeg_clustering/keras_models/dataGen.py\", line 191, in __getitem__\n",
      "    X, y = self.__data_generation(list_IDs_temp)\n",
      "  File \"/home/ms994/dbmi_eeg_clustering/keras_models/dataGen.py\", line 191, in __getitem__\n",
      "    X, y = self.__data_generation(list_IDs_temp)\n",
      "  File \"/home/ms994/dbmi_eeg_clustering/keras_models/dataGen.py\", line 166, in get_x_y\n",
      "    data = self.dataset[i]\n",
      "  File \"/home/ms994/miniconda3/envs/keras-redo/lib/python3.7/multiprocessing/pool.py\", line 121, in worker\n",
      "    result = (True, func(*args, **kwds))\n"
     ]
    },
    {
     "ename": "KeyboardInterrupt",
     "evalue": "",
     "output_type": "error",
     "traceback": [
      "\u001b[0;31m---------------------------------------------------------------------------\u001b[0m",
      "\u001b[0;31mKeyboardInterrupt\u001b[0m                         Traceback (most recent call last)",
      "\u001b[0;32m<ipython-input-239-a3747482ebcb>\u001b[0m in \u001b[0;36m<module>\u001b[0;34m\u001b[0m\n\u001b[1;32m      1\u001b[0m \u001b[0msession_predictor\u001b[0m\u001b[0;34m.\u001b[0m\u001b[0mcompile\u001b[0m\u001b[0;34m(\u001b[0m\u001b[0;34m\"adam\"\u001b[0m\u001b[0;34m,\u001b[0m \u001b[0mloss\u001b[0m\u001b[0;34m=\u001b[0m\u001b[0;34m\"categorical_crossentropy\"\u001b[0m\u001b[0;34m,\u001b[0m \u001b[0mmetrics\u001b[0m\u001b[0;34m=\u001b[0m\u001b[0;34m[\u001b[0m\u001b[0;34m\"categorical_accuracy\"\u001b[0m\u001b[0;34m]\u001b[0m\u001b[0;34m)\u001b[0m\u001b[0;34m\u001b[0m\u001b[0;34m\u001b[0m\u001b[0m\n\u001b[0;32m----> 2\u001b[0;31m \u001b[0mhistory\u001b[0m \u001b[0;34m=\u001b[0m \u001b[0msession_predictor\u001b[0m\u001b[0;34m.\u001b[0m\u001b[0mfit_generator\u001b[0m\u001b[0;34m(\u001b[0m\u001b[0medg\u001b[0m\u001b[0;34m,\u001b[0m \u001b[0mepochs\u001b[0m\u001b[0;34m=\u001b[0m\u001b[0;36m10\u001b[0m\u001b[0;34m,\u001b[0m \u001b[0mcallbacks\u001b[0m\u001b[0;34m=\u001b[0m\u001b[0;34m[\u001b[0m\u001b[0mea\u001b[0m\u001b[0;34m]\u001b[0m\u001b[0;34m,\u001b[0m \u001b[0muse_multiprocessing\u001b[0m\u001b[0;34m=\u001b[0m\u001b[0;32mTrue\u001b[0m\u001b[0;34m,\u001b[0m \u001b[0mworkers\u001b[0m\u001b[0;34m=\u001b[0m\u001b[0;36m12\u001b[0m\u001b[0;34m,\u001b[0m \u001b[0mmax_queue_size\u001b[0m\u001b[0;34m=\u001b[0m\u001b[0;36m1000\u001b[0m\u001b[0;34m)\u001b[0m\u001b[0;34m\u001b[0m\u001b[0;34m\u001b[0m\u001b[0m\n\u001b[0m",
      "\u001b[0;32m~/miniconda3/envs/keras-redo/lib/python3.7/site-packages/keras/legacy/interfaces.py\u001b[0m in \u001b[0;36mwrapper\u001b[0;34m(*args, **kwargs)\u001b[0m\n\u001b[1;32m     89\u001b[0m                 warnings.warn('Update your `' + object_name + '` call to the ' +\n\u001b[1;32m     90\u001b[0m                               'Keras 2 API: ' + signature, stacklevel=2)\n\u001b[0;32m---> 91\u001b[0;31m             \u001b[0;32mreturn\u001b[0m \u001b[0mfunc\u001b[0m\u001b[0;34m(\u001b[0m\u001b[0;34m*\u001b[0m\u001b[0margs\u001b[0m\u001b[0;34m,\u001b[0m \u001b[0;34m**\u001b[0m\u001b[0mkwargs\u001b[0m\u001b[0;34m)\u001b[0m\u001b[0;34m\u001b[0m\u001b[0;34m\u001b[0m\u001b[0m\n\u001b[0m\u001b[1;32m     92\u001b[0m         \u001b[0mwrapper\u001b[0m\u001b[0;34m.\u001b[0m\u001b[0m_original_function\u001b[0m \u001b[0;34m=\u001b[0m \u001b[0mfunc\u001b[0m\u001b[0;34m\u001b[0m\u001b[0;34m\u001b[0m\u001b[0m\n\u001b[1;32m     93\u001b[0m         \u001b[0;32mreturn\u001b[0m \u001b[0mwrapper\u001b[0m\u001b[0;34m\u001b[0m\u001b[0;34m\u001b[0m\u001b[0m\n",
      "\u001b[0;32m~/miniconda3/envs/keras-redo/lib/python3.7/site-packages/keras/engine/training.py\u001b[0m in \u001b[0;36mfit_generator\u001b[0;34m(self, generator, steps_per_epoch, epochs, verbose, callbacks, validation_data, validation_steps, class_weight, max_queue_size, workers, use_multiprocessing, shuffle, initial_epoch)\u001b[0m\n\u001b[1;32m   1416\u001b[0m             \u001b[0muse_multiprocessing\u001b[0m\u001b[0;34m=\u001b[0m\u001b[0muse_multiprocessing\u001b[0m\u001b[0;34m,\u001b[0m\u001b[0;34m\u001b[0m\u001b[0;34m\u001b[0m\u001b[0m\n\u001b[1;32m   1417\u001b[0m             \u001b[0mshuffle\u001b[0m\u001b[0;34m=\u001b[0m\u001b[0mshuffle\u001b[0m\u001b[0;34m,\u001b[0m\u001b[0;34m\u001b[0m\u001b[0;34m\u001b[0m\u001b[0m\n\u001b[0;32m-> 1418\u001b[0;31m             initial_epoch=initial_epoch)\n\u001b[0m\u001b[1;32m   1419\u001b[0m \u001b[0;34m\u001b[0m\u001b[0m\n\u001b[1;32m   1420\u001b[0m     \u001b[0;34m@\u001b[0m\u001b[0minterfaces\u001b[0m\u001b[0;34m.\u001b[0m\u001b[0mlegacy_generator_methods_support\u001b[0m\u001b[0;34m\u001b[0m\u001b[0;34m\u001b[0m\u001b[0m\n",
      "\u001b[0;32m~/miniconda3/envs/keras-redo/lib/python3.7/site-packages/keras/engine/training_generator.py\u001b[0m in \u001b[0;36mfit_generator\u001b[0;34m(model, generator, steps_per_epoch, epochs, verbose, callbacks, validation_data, validation_steps, class_weight, max_queue_size, workers, use_multiprocessing, shuffle, initial_epoch)\u001b[0m\n\u001b[1;32m    179\u001b[0m             \u001b[0mbatch_index\u001b[0m \u001b[0;34m=\u001b[0m \u001b[0;36m0\u001b[0m\u001b[0;34m\u001b[0m\u001b[0;34m\u001b[0m\u001b[0m\n\u001b[1;32m    180\u001b[0m             \u001b[0;32mwhile\u001b[0m \u001b[0msteps_done\u001b[0m \u001b[0;34m<\u001b[0m \u001b[0msteps_per_epoch\u001b[0m\u001b[0;34m:\u001b[0m\u001b[0;34m\u001b[0m\u001b[0;34m\u001b[0m\u001b[0m\n\u001b[0;32m--> 181\u001b[0;31m                 \u001b[0mgenerator_output\u001b[0m \u001b[0;34m=\u001b[0m \u001b[0mnext\u001b[0m\u001b[0;34m(\u001b[0m\u001b[0moutput_generator\u001b[0m\u001b[0;34m)\u001b[0m\u001b[0;34m\u001b[0m\u001b[0;34m\u001b[0m\u001b[0m\n\u001b[0m\u001b[1;32m    182\u001b[0m \u001b[0;34m\u001b[0m\u001b[0m\n\u001b[1;32m    183\u001b[0m                 \u001b[0;32mif\u001b[0m \u001b[0;32mnot\u001b[0m \u001b[0mhasattr\u001b[0m\u001b[0;34m(\u001b[0m\u001b[0mgenerator_output\u001b[0m\u001b[0;34m,\u001b[0m \u001b[0;34m'__len__'\u001b[0m\u001b[0;34m)\u001b[0m\u001b[0;34m:\u001b[0m\u001b[0;34m\u001b[0m\u001b[0;34m\u001b[0m\u001b[0m\n",
      "\u001b[0;32m~/miniconda3/envs/keras-redo/lib/python3.7/site-packages/keras/utils/data_utils.py\u001b[0m in \u001b[0;36mget\u001b[0;34m(self)\u001b[0m\n\u001b[1;32m    593\u001b[0m         \u001b[0;32mtry\u001b[0m\u001b[0;34m:\u001b[0m\u001b[0;34m\u001b[0m\u001b[0;34m\u001b[0m\u001b[0m\n\u001b[1;32m    594\u001b[0m             \u001b[0;32mwhile\u001b[0m \u001b[0mself\u001b[0m\u001b[0;34m.\u001b[0m\u001b[0mis_running\u001b[0m\u001b[0;34m(\u001b[0m\u001b[0;34m)\u001b[0m\u001b[0;34m:\u001b[0m\u001b[0;34m\u001b[0m\u001b[0;34m\u001b[0m\u001b[0m\n\u001b[0;32m--> 595\u001b[0;31m                 \u001b[0minputs\u001b[0m \u001b[0;34m=\u001b[0m \u001b[0mself\u001b[0m\u001b[0;34m.\u001b[0m\u001b[0mqueue\u001b[0m\u001b[0;34m.\u001b[0m\u001b[0mget\u001b[0m\u001b[0;34m(\u001b[0m\u001b[0mblock\u001b[0m\u001b[0;34m=\u001b[0m\u001b[0;32mTrue\u001b[0m\u001b[0;34m)\u001b[0m\u001b[0;34m.\u001b[0m\u001b[0mget\u001b[0m\u001b[0;34m(\u001b[0m\u001b[0;34m)\u001b[0m\u001b[0;34m\u001b[0m\u001b[0;34m\u001b[0m\u001b[0m\n\u001b[0m\u001b[1;32m    596\u001b[0m                 \u001b[0mself\u001b[0m\u001b[0;34m.\u001b[0m\u001b[0mqueue\u001b[0m\u001b[0;34m.\u001b[0m\u001b[0mtask_done\u001b[0m\u001b[0;34m(\u001b[0m\u001b[0;34m)\u001b[0m\u001b[0;34m\u001b[0m\u001b[0;34m\u001b[0m\u001b[0m\n\u001b[1;32m    597\u001b[0m                 \u001b[0;32mif\u001b[0m \u001b[0minputs\u001b[0m \u001b[0;32mis\u001b[0m \u001b[0;32mnot\u001b[0m \u001b[0;32mNone\u001b[0m\u001b[0;34m:\u001b[0m\u001b[0;34m\u001b[0m\u001b[0;34m\u001b[0m\u001b[0m\n",
      "\u001b[0;32m~/miniconda3/envs/keras-redo/lib/python3.7/multiprocessing/pool.py\u001b[0m in \u001b[0;36mget\u001b[0;34m(self, timeout)\u001b[0m\n\u001b[1;32m    649\u001b[0m \u001b[0;34m\u001b[0m\u001b[0m\n\u001b[1;32m    650\u001b[0m     \u001b[0;32mdef\u001b[0m \u001b[0mget\u001b[0m\u001b[0;34m(\u001b[0m\u001b[0mself\u001b[0m\u001b[0;34m,\u001b[0m \u001b[0mtimeout\u001b[0m\u001b[0;34m=\u001b[0m\u001b[0;32mNone\u001b[0m\u001b[0;34m)\u001b[0m\u001b[0;34m:\u001b[0m\u001b[0;34m\u001b[0m\u001b[0;34m\u001b[0m\u001b[0m\n\u001b[0;32m--> 651\u001b[0;31m         \u001b[0mself\u001b[0m\u001b[0;34m.\u001b[0m\u001b[0mwait\u001b[0m\u001b[0;34m(\u001b[0m\u001b[0mtimeout\u001b[0m\u001b[0;34m)\u001b[0m\u001b[0;34m\u001b[0m\u001b[0;34m\u001b[0m\u001b[0m\n\u001b[0m\u001b[1;32m    652\u001b[0m         \u001b[0;32mif\u001b[0m \u001b[0;32mnot\u001b[0m \u001b[0mself\u001b[0m\u001b[0;34m.\u001b[0m\u001b[0mready\u001b[0m\u001b[0;34m(\u001b[0m\u001b[0;34m)\u001b[0m\u001b[0;34m:\u001b[0m\u001b[0;34m\u001b[0m\u001b[0;34m\u001b[0m\u001b[0m\n\u001b[1;32m    653\u001b[0m             \u001b[0;32mraise\u001b[0m \u001b[0mTimeoutError\u001b[0m\u001b[0;34m\u001b[0m\u001b[0;34m\u001b[0m\u001b[0m\n",
      "\u001b[0;32m~/miniconda3/envs/keras-redo/lib/python3.7/multiprocessing/pool.py\u001b[0m in \u001b[0;36mwait\u001b[0;34m(self, timeout)\u001b[0m\n\u001b[1;32m    646\u001b[0m \u001b[0;34m\u001b[0m\u001b[0m\n\u001b[1;32m    647\u001b[0m     \u001b[0;32mdef\u001b[0m \u001b[0mwait\u001b[0m\u001b[0;34m(\u001b[0m\u001b[0mself\u001b[0m\u001b[0;34m,\u001b[0m \u001b[0mtimeout\u001b[0m\u001b[0;34m=\u001b[0m\u001b[0;32mNone\u001b[0m\u001b[0;34m)\u001b[0m\u001b[0;34m:\u001b[0m\u001b[0;34m\u001b[0m\u001b[0;34m\u001b[0m\u001b[0m\n\u001b[0;32m--> 648\u001b[0;31m         \u001b[0mself\u001b[0m\u001b[0;34m.\u001b[0m\u001b[0m_event\u001b[0m\u001b[0;34m.\u001b[0m\u001b[0mwait\u001b[0m\u001b[0;34m(\u001b[0m\u001b[0mtimeout\u001b[0m\u001b[0;34m)\u001b[0m\u001b[0;34m\u001b[0m\u001b[0;34m\u001b[0m\u001b[0m\n\u001b[0m\u001b[1;32m    649\u001b[0m \u001b[0;34m\u001b[0m\u001b[0m\n\u001b[1;32m    650\u001b[0m     \u001b[0;32mdef\u001b[0m \u001b[0mget\u001b[0m\u001b[0;34m(\u001b[0m\u001b[0mself\u001b[0m\u001b[0;34m,\u001b[0m \u001b[0mtimeout\u001b[0m\u001b[0;34m=\u001b[0m\u001b[0;32mNone\u001b[0m\u001b[0;34m)\u001b[0m\u001b[0;34m:\u001b[0m\u001b[0;34m\u001b[0m\u001b[0;34m\u001b[0m\u001b[0m\n",
      "\u001b[0;32m~/miniconda3/envs/keras-redo/lib/python3.7/threading.py\u001b[0m in \u001b[0;36mwait\u001b[0;34m(self, timeout)\u001b[0m\n\u001b[1;32m    550\u001b[0m             \u001b[0msignaled\u001b[0m \u001b[0;34m=\u001b[0m \u001b[0mself\u001b[0m\u001b[0;34m.\u001b[0m\u001b[0m_flag\u001b[0m\u001b[0;34m\u001b[0m\u001b[0;34m\u001b[0m\u001b[0m\n\u001b[1;32m    551\u001b[0m             \u001b[0;32mif\u001b[0m \u001b[0;32mnot\u001b[0m \u001b[0msignaled\u001b[0m\u001b[0;34m:\u001b[0m\u001b[0;34m\u001b[0m\u001b[0;34m\u001b[0m\u001b[0m\n\u001b[0;32m--> 552\u001b[0;31m                 \u001b[0msignaled\u001b[0m \u001b[0;34m=\u001b[0m \u001b[0mself\u001b[0m\u001b[0;34m.\u001b[0m\u001b[0m_cond\u001b[0m\u001b[0;34m.\u001b[0m\u001b[0mwait\u001b[0m\u001b[0;34m(\u001b[0m\u001b[0mtimeout\u001b[0m\u001b[0;34m)\u001b[0m\u001b[0;34m\u001b[0m\u001b[0;34m\u001b[0m\u001b[0m\n\u001b[0m\u001b[1;32m    553\u001b[0m             \u001b[0;32mreturn\u001b[0m \u001b[0msignaled\u001b[0m\u001b[0;34m\u001b[0m\u001b[0;34m\u001b[0m\u001b[0m\n\u001b[1;32m    554\u001b[0m \u001b[0;34m\u001b[0m\u001b[0m\n",
      "\u001b[0;32m~/miniconda3/envs/keras-redo/lib/python3.7/threading.py\u001b[0m in \u001b[0;36mwait\u001b[0;34m(self, timeout)\u001b[0m\n\u001b[1;32m    294\u001b[0m         \u001b[0;32mtry\u001b[0m\u001b[0;34m:\u001b[0m    \u001b[0;31m# restore state no matter what (e.g., KeyboardInterrupt)\u001b[0m\u001b[0;34m\u001b[0m\u001b[0;34m\u001b[0m\u001b[0m\n\u001b[1;32m    295\u001b[0m             \u001b[0;32mif\u001b[0m \u001b[0mtimeout\u001b[0m \u001b[0;32mis\u001b[0m \u001b[0;32mNone\u001b[0m\u001b[0;34m:\u001b[0m\u001b[0;34m\u001b[0m\u001b[0;34m\u001b[0m\u001b[0m\n\u001b[0;32m--> 296\u001b[0;31m                 \u001b[0mwaiter\u001b[0m\u001b[0;34m.\u001b[0m\u001b[0macquire\u001b[0m\u001b[0;34m(\u001b[0m\u001b[0;34m)\u001b[0m\u001b[0;34m\u001b[0m\u001b[0;34m\u001b[0m\u001b[0m\n\u001b[0m\u001b[1;32m    297\u001b[0m                 \u001b[0mgotit\u001b[0m \u001b[0;34m=\u001b[0m \u001b[0;32mTrue\u001b[0m\u001b[0;34m\u001b[0m\u001b[0;34m\u001b[0m\u001b[0m\n\u001b[1;32m    298\u001b[0m             \u001b[0;32melse\u001b[0m\u001b[0;34m:\u001b[0m\u001b[0;34m\u001b[0m\u001b[0;34m\u001b[0m\u001b[0m\n",
      "\u001b[0;31mKeyboardInterrupt\u001b[0m: "
     ]
    },
    {
     "name": "stderr",
     "output_type": "stream",
     "text": [
      "  File \"/home/ms994/miniconda3/envs/keras-redo/lib/python3.7/multiprocessing/process.py\", line 99, in run\n",
      "    self._target(*self._args, **self._kwargs)\n",
      "  File \"/home/ms994/miniconda3/envs/keras-redo/lib/python3.7/site-packages/keras/utils/data_utils.py\", line 401, in get_index\n",
      "    return _SHARED_SEQUENCES[uid][i]\n",
      "  File \"/home/ms994/dbmi_eeg_clustering/keras_models/dataGen.py\", line 199, in __data_generation\n",
      "    x, y = self.get_x_y(list_IDs_temp)\n",
      "  File \"/home/ms994/miniconda3/envs/keras-redo/lib/python3.7/multiprocessing/process.py\", line 99, in run\n",
      "    self._target(*self._args, **self._kwargs)\n",
      "  File \"/home/ms994/miniconda3/envs/keras-redo/lib/python3.7/multiprocessing/pool.py\", line 121, in worker\n",
      "    result = (True, func(*args, **kwds))\n",
      "  File \"/home/ms994/miniconda3/envs/keras-redo/lib/python3.7/multiprocessing/pool.py\", line 121, in worker\n",
      "    result = (True, func(*args, **kwds))\n",
      "  File \"/home/ms994/dbmi_eeg_clustering/ensembleReader.py\", line 274, in __getitem__\n",
      "    return self.getItemSlice(i)\n",
      "  File \"/home/ms994/dbmi_eeg_clustering/keras_models/dataGen.py\", line 166, in get_x_y\n",
      "    data = self.dataset[i]\n",
      "  File \"/home/ms994/miniconda3/envs/keras-redo/lib/python3.7/site-packages/keras/utils/data_utils.py\", line 401, in get_index\n",
      "    return _SHARED_SEQUENCES[uid][i]\n",
      "  File \"/home/ms994/dbmi_eeg_clustering/keras_models/dataGen.py\", line 199, in __data_generation\n",
      "    x, y = self.get_x_y(list_IDs_temp)\n",
      "  File \"/home/ms994/miniconda3/envs/keras-redo/lib/python3.7/multiprocessing/pool.py\", line 121, in worker\n",
      "    result = (True, func(*args, **kwds))\n",
      "  File \"/home/ms994/miniconda3/envs/keras-redo/lib/python3.7/site-packages/keras/utils/data_utils.py\", line 401, in get_index\n",
      "    return _SHARED_SEQUENCES[uid][i]\n",
      "  File \"/home/ms994/miniconda3/envs/keras-redo/lib/python3.7/site-packages/keras/utils/data_utils.py\", line 401, in get_index\n",
      "    return _SHARED_SEQUENCES[uid][i]\n",
      "  File \"/home/ms994/dbmi_eeg_clustering/ensembleReader.py\", line 274, in __getitem__\n",
      "    return self.getItemSlice(i)\n",
      "  File \"/home/ms994/dbmi_eeg_clustering/ensembleReader.py\", line 274, in __getitem__\n",
      "    return self.getItemSlice(i)\n",
      "  File \"/home/ms994/dbmi_eeg_clustering/keras_models/dataGen.py\", line 166, in get_x_y\n",
      "    data = self.dataset[i]\n",
      "  File \"/home/ms994/miniconda3/envs/keras-redo/lib/python3.7/multiprocessing/pool.py\", line 121, in worker\n",
      "    result = (True, func(*args, **kwds))\n",
      "  File \"/home/ms994/dbmi_eeg_clustering/keras_models/dataGen.py\", line 191, in __getitem__\n",
      "    X, y = self.__data_generation(list_IDs_temp)\n",
      "  File \"/home/ms994/dbmi_eeg_clustering/keras_models/dataGen.py\", line 191, in __getitem__\n",
      "    X, y = self.__data_generation(list_IDs_temp)\n",
      "  File \"/home/ms994/dbmi_eeg_clustering/util_funcs.py\", line 98, in getItemSlice\n",
      "    toReturn[i] = self[j]\n",
      "  File \"/home/ms994/miniconda3/envs/keras-redo/lib/python3.7/site-packages/keras/utils/data_utils.py\", line 401, in get_index\n",
      "    return _SHARED_SEQUENCES[uid][i]\n",
      "  File \"/home/ms994/dbmi_eeg_clustering/util_funcs.py\", line 98, in getItemSlice\n",
      "    toReturn[i] = self[j]\n",
      "  File \"/home/ms994/dbmi_eeg_clustering/keras_models/dataGen.py\", line 166, in get_x_y\n",
      "    data = self.dataset[i]\n",
      "  File \"/home/ms994/dbmi_eeg_clustering/util_funcs.py\", line 98, in getItemSlice\n",
      "    toReturn[i] = self[j]\n",
      "  File \"/home/ms994/dbmi_eeg_clustering/ensembleReader.py\", line 274, in __getitem__\n",
      "    return self.getItemSlice(i)\n",
      "  File \"/home/ms994/dbmi_eeg_clustering/keras_models/dataGen.py\", line 199, in __data_generation\n",
      "    x, y = self.get_x_y(list_IDs_temp)\n",
      "  File \"/home/ms994/dbmi_eeg_clustering/ensembleReader.py\", line 296, in __getitem__\n",
      "    axis=0)\n",
      "  File \"/home/ms994/dbmi_eeg_clustering/ensembleReader.py\", line 296, in __getitem__\n",
      "    axis=0)\n",
      "  File \"/home/ms994/dbmi_eeg_clustering/ensembleReader.py\", line 274, in __getitem__\n",
      "    return self.getItemSlice(i)\n",
      "  File \"/home/ms994/dbmi_eeg_clustering/keras_models/dataGen.py\", line 191, in __getitem__\n",
      "    X, y = self.__data_generation(list_IDs_temp)\n",
      "  File \"/home/ms994/dbmi_eeg_clustering/ensembleReader.py\", line 282, in __getitem__\n",
      "    max_length=self.gap)\n",
      "  File \"/home/ms994/dbmi_eeg_clustering/util_funcs.py\", line 98, in getItemSlice\n",
      "    toReturn[i] = self[j]\n",
      "  File \"/home/ms994/dbmi_eeg_clustering/keras_models/dataGen.py\", line 166, in get_x_y\n",
      "    data = self.dataset[i]\n",
      "  File \"/home/ms994/miniconda3/envs/keras-redo/lib/python3.7/site-packages/pandas/core/frame.py\", line 6487, in apply\n",
      "    return op.get_result()\n",
      "  File \"/home/ms994/miniconda3/envs/keras-redo/lib/python3.7/site-packages/keras/utils/data_utils.py\", line 401, in get_index\n",
      "    return _SHARED_SEQUENCES[uid][i]\n",
      "  File \"/home/ms994/dbmi_eeg_clustering/keras_models/dataGen.py\", line 199, in __data_generation\n",
      "    x, y = self.get_x_y(list_IDs_temp)\n",
      "  File \"/home/ms994/dbmi_eeg_clustering/util_funcs.py\", line 98, in getItemSlice\n",
      "    toReturn[i] = self[j]\n",
      "  File \"/home/ms994/miniconda3/envs/keras-redo/lib/python3.7/site-packages/pandas/core/frame.py\", line 6487, in apply\n",
      "    return op.get_result()\n",
      "  File \"/home/ms994/dbmi_eeg_clustering/keras_models/dataGen.py\", line 199, in __data_generation\n",
      "    x, y = self.get_x_y(list_IDs_temp)\n",
      "  File \"/home/ms994/dbmi_eeg_clustering/ensembleReader.py\", line 296, in __getitem__\n",
      "    axis=0)\n",
      "  File \"/home/ms994/miniconda3/envs/keras-redo/lib/python3.7/site-packages/pandas/core/apply.py\", line 151, in get_result\n",
      "    return self.apply_standard()\n",
      "  File \"/home/ms994/dbmi_eeg_clustering/data_reader.py\", line 611, in edf_eeg_2_df\n",
      "    with pyedflib.EdfReader(path, check_file_size=pyedflib.CHECK_FILE_SIZE) as reader:\n",
      "  File \"/home/ms994/miniconda3/envs/keras-redo/lib/python3.7/site-packages/pandas/core/apply.py\", line 151, in get_result\n",
      "    return self.apply_standard()\n",
      "  File \"/home/ms994/dbmi_eeg_clustering/ensembleReader.py\", line 274, in __getitem__\n",
      "    return self.getItemSlice(i)\n",
      "  File \"/home/ms994/dbmi_eeg_clustering/keras_models/dataGen.py\", line 166, in get_x_y\n",
      "    data = self.dataset[i]\n",
      "  File \"/home/ms994/dbmi_eeg_clustering/keras_models/dataGen.py\", line 191, in __getitem__\n",
      "    X, y = self.__data_generation(list_IDs_temp)\n",
      "  File \"/home/ms994/miniconda3/envs/keras-redo/lib/python3.7/site-packages/pandas/core/frame.py\", line 6487, in apply\n",
      "    return op.get_result()\n",
      "  File \"/home/ms994/dbmi_eeg_clustering/keras_models/dataGen.py\", line 166, in get_x_y\n",
      "    data = self.dataset[i]\n",
      "  File \"/home/ms994/dbmi_eeg_clustering/ensembleReader.py\", line 282, in __getitem__\n",
      "    max_length=self.gap)\n",
      "KeyboardInterrupt\n",
      "  File \"/home/ms994/miniconda3/envs/keras-redo/lib/python3.7/site-packages/pandas/core/apply.py\", line 257, in apply_standard\n",
      "    self.apply_series_generator()\n",
      "  File \"/home/ms994/miniconda3/envs/keras-redo/lib/python3.7/site-packages/pandas/core/apply.py\", line 260, in apply_standard\n",
      "    return self.wrap_results()\n",
      "  File \"/home/ms994/dbmi_eeg_clustering/util_funcs.py\", line 98, in getItemSlice\n",
      "    toReturn[i] = self[j]\n",
      "  File \"/home/ms994/dbmi_eeg_clustering/ensembleReader.py\", line 274, in __getitem__\n",
      "    return self.getItemSlice(i)\n",
      "  File \"/home/ms994/dbmi_eeg_clustering/keras_models/dataGen.py\", line 199, in __data_generation\n",
      "    x, y = self.get_x_y(list_IDs_temp)\n",
      "  File \"/home/ms994/miniconda3/envs/keras-redo/lib/python3.7/site-packages/pandas/core/apply.py\", line 151, in get_result\n",
      "    return self.apply_standard()\n",
      "  File \"/home/ms994/dbmi_eeg_clustering/data_reader.py\", line 640, in edf_eeg_2_df\n",
      "    name=channel_name\n",
      "  File \"/home/ms994/dbmi_eeg_clustering/ensembleReader.py\", line 274, in __getitem__\n",
      "    return self.getItemSlice(i)\n",
      "  File \"/home/ms994/dbmi_eeg_clustering/ensembleReader.py\", line 282, in __getitem__\n",
      "    max_length=self.gap)\n",
      "  File \"/home/ms994/miniconda3/envs/keras-redo/lib/python3.7/site-packages/pandas/core/apply.py\", line 285, in apply_series_generator\n",
      "    for i, v in enumerate(series_gen):\n",
      "  File \"/home/ms994/dbmi_eeg_clustering/keras_models/dataGen.py\", line 166, in get_x_y\n",
      "    data = self.dataset[i]\n",
      "  File \"/home/ms994/miniconda3/envs/keras-redo/lib/python3.7/site-packages/pandas/core/apply.py\", line 257, in apply_standard\n",
      "    self.apply_series_generator()\n",
      "  File \"/home/ms994/miniconda3/envs/keras-redo/lib/python3.7/site-packages/pandas/core/apply.py\", line 308, in wrap_results\n",
      "    return self.wrap_results_for_axis()\n"
     ]
    },
    {
     "name": "stderr",
     "output_type": "stream",
     "text": [
      "  File \"/home/ms994/dbmi_eeg_clustering/util_funcs.py\", line 98, in getItemSlice\n",
      "    toReturn[i] = self[j]\n",
      "  File \"/home/ms994/dbmi_eeg_clustering/data_reader.py\", line 643, in edf_eeg_2_df\n",
      "    data = pd.concat(all_channels, axis=1)\n",
      "  File \"/home/ms994/dbmi_eeg_clustering/util_funcs.py\", line 98, in getItemSlice\n",
      "    toReturn[i] = self[j]\n",
      "  File \"/home/ms994/miniconda3/envs/keras-redo/lib/python3.7/site-packages/pandas/core/apply.py\", line 286, in apply_series_generator\n",
      "    results[i] = self.f(v)\n",
      "  File \"/home/ms994/miniconda3/envs/keras-redo/lib/python3.7/site-packages/pandas/core/apply.py\", line 340, in wrap_results_for_axis\n",
      "    result = self.obj._constructor(data=results)\n",
      "  File \"/home/ms994/dbmi_eeg_clustering/ensembleReader.py\", line 296, in __getitem__\n",
      "    axis=0)\n",
      "  File \"/home/ms994/miniconda3/envs/keras-redo/lib/python3.7/site-packages/pandas/core/series.py\", line 266, in __init__\n",
      "    generic.NDFrame.__init__(self, data, fastpath=True)\n",
      "  File \"/home/ms994/dbmi_eeg_clustering/ensembleReader.py\", line 274, in __getitem__\n",
      "    return self.getItemSlice(i)\n",
      "  File \"/home/ms994/miniconda3/envs/keras-redo/lib/python3.7/site-packages/pandas/core/apply.py\", line 326, in <genexpr>\n",
      "    for i in range(len(self.columns)))\n",
      "  File \"/home/ms994/miniconda3/envs/keras-redo/lib/python3.7/site-packages/pandas/core/reshape/concat.py\", line 228, in concat\n",
      "    copy=copy, sort=sort)\n",
      "  File \"/home/ms994/miniconda3/envs/keras-redo/lib/python3.7/site-packages/pandas/core/frame.py\", line 392, in __init__\n",
      "    mgr = init_dict(data, index, columns, dtype=dtype)\n",
      "  File \"/home/ms994/miniconda3/envs/keras-redo/lib/python3.7/site-packages/pandas/core/frame.py\", line 6487, in apply\n",
      "    return op.get_result()\n",
      "  File \"/home/ms994/miniconda3/envs/keras-redo/lib/python3.7/site-packages/pandas/core/generic.py\", line 127, in __init__\n",
      "    def __init__(self, data, axes=None, copy=False, dtype=None,\n",
      "  File \"/home/ms994/miniconda3/envs/keras-redo/lib/python3.7/site-packages/pandas/core/frame.py\", line 2882, in _ixs\n",
      "    values = self._data.iget(i)\n",
      "  File \"/home/ms994/dbmi_eeg_clustering/ensembleReader.py\", line 295, in <lambda>\n",
      "    order=self.order_filt),\n",
      "  File \"/home/ms994/dbmi_eeg_clustering/ensembleReader.py\", line 296, in __getitem__\n",
      "    axis=0)\n",
      "  File \"/home/ms994/miniconda3/envs/keras-redo/lib/python3.7/site-packages/pandas/core/reshape/concat.py\", line 381, in __init__\n",
      "    self.new_axes = self._get_new_axes()\n",
      "  File \"/home/ms994/miniconda3/envs/keras-redo/lib/python3.7/site-packages/pandas/core/apply.py\", line 151, in get_result\n",
      "    return self.apply_standard()\n",
      "  File \"/home/ms994/dbmi_eeg_clustering/util_funcs.py\", line 98, in getItemSlice\n",
      "    toReturn[i] = self[j]\n",
      "KeyboardInterrupt\n",
      "  File \"/home/ms994/miniconda3/envs/keras-redo/lib/python3.7/site-packages/pandas/core/internals/managers.py\", line 969, in iget\n",
      "    block = self.blocks[self._blknos[i]]\n",
      "  File \"/home/ms994/dbmi_eeg_clustering/wf_analysis/filters.py\", line 15, in butter_bandpass_filter\n",
      "    b, a = butter_bandpass(lowcut, highcut, fs, order=order)\n",
      "  File \"/home/ms994/miniconda3/envs/keras-redo/lib/python3.7/site-packages/pandas/core/internals/construction.py\", line 209, in init_dict\n",
      "    columns = data_names = Index(keys)\n",
      "  File \"/home/ms994/dbmi_eeg_clustering/ensembleReader.py\", line 296, in __getitem__\n",
      "    axis=0)\n",
      "  File \"/home/ms994/miniconda3/envs/keras-redo/lib/python3.7/site-packages/pandas/core/frame.py\", line 6487, in apply\n",
      "    return op.get_result()\n",
      "  File \"/home/ms994/miniconda3/envs/keras-redo/lib/python3.7/site-packages/pandas/core/reshape/concat.py\", line 448, in _get_new_axes\n",
      "    new_axes[i] = self._get_comb_axis(i)\n",
      "  File \"/home/ms994/miniconda3/envs/keras-redo/lib/python3.7/site-packages/pandas/core/apply.py\", line 260, in apply_standard\n",
      "    return self.wrap_results()\n",
      "KeyboardInterrupt\n",
      "  File \"/home/ms994/miniconda3/envs/keras-redo/lib/python3.7/site-packages/pandas/core/frame.py\", line 6487, in apply\n",
      "    return op.get_result()\n",
      "  File \"/home/ms994/miniconda3/envs/keras-redo/lib/python3.7/site-packages/pandas/core/apply.py\", line 151, in get_result\n",
      "    return self.apply_standard()\n",
      "  File \"/home/ms994/miniconda3/envs/keras-redo/lib/python3.7/site-packages/pandas/core/apply.py\", line 308, in wrap_results\n",
      "    return self.wrap_results_for_axis()\n",
      "  File \"/home/ms994/miniconda3/envs/keras-redo/lib/python3.7/site-packages/pandas/core/reshape/concat.py\", line 469, in _get_comb_axis\n",
      "    sort=self.sort)\n",
      "  File \"/home/ms994/miniconda3/envs/keras-redo/lib/python3.7/site-packages/pandas/core/apply.py\", line 151, in get_result\n",
      "    return self.apply_standard()\n",
      "  File \"/home/ms994/miniconda3/envs/keras-redo/lib/python3.7/site-packages/pandas/core/apply.py\", line 257, in apply_standard\n",
      "    self.apply_series_generator()\n",
      "  File \"/home/ms994/miniconda3/envs/keras-redo/lib/python3.7/multiprocessing/pool.py\", line 121, in worker\n",
      "    result = (True, func(*args, **kwds))\n",
      "  File \"/home/ms994/miniconda3/envs/keras-redo/lib/python3.7/site-packages/pandas/core/apply.py\", line 340, in wrap_results_for_axis\n",
      "    result = self.obj._constructor(data=results)\n",
      "  File \"/home/ms994/miniconda3/envs/keras-redo/lib/python3.7/site-packages/pandas/core/indexes/api.py\", line 70, in _get_objs_combined_axis\n",
      "    return _get_combined_index(obs_idxes, intersect=intersect, sort=sort)\n",
      "  File \"/home/ms994/miniconda3/envs/keras-redo/lib/python3.7/site-packages/pandas/core/apply.py\", line 257, in apply_standard\n",
      "    self.apply_series_generator()\n",
      "  File \"/home/ms994/miniconda3/envs/keras-redo/lib/python3.7/site-packages/pandas/core/frame.py\", line 392, in __init__\n",
      "    mgr = init_dict(data, index, columns, dtype=dtype)\n",
      "  File \"/home/ms994/miniconda3/envs/keras-redo/lib/python3.7/site-packages/keras/utils/data_utils.py\", line 401, in get_index\n",
      "    return _SHARED_SEQUENCES[uid][i]\n",
      "  File \"/home/ms994/miniconda3/envs/keras-redo/lib/python3.7/site-packages/pandas/core/indexes/api.py\", line 117, in _get_combined_index\n",
      "    index = _union_indexes(indexes, sort=sort)\n",
      "  File \"/home/ms994/miniconda3/envs/keras-redo/lib/python3.7/site-packages/pandas/core/internals/construction.py\", line 212, in init_dict\n",
      "    return arrays_to_mgr(arrays, data_names, index, columns, dtype=dtype)\n",
      "  File \"/home/ms994/miniconda3/envs/keras-redo/lib/python3.7/site-packages/pandas/core/apply.py\", line 286, in apply_series_generator\n",
      "    results[i] = self.f(v)\n",
      "  File \"/home/ms994/dbmi_eeg_clustering/keras_models/dataGen.py\", line 191, in __getitem__\n",
      "    X, y = self.__data_generation(list_IDs_temp)\n",
      "  File \"/home/ms994/miniconda3/envs/keras-redo/lib/python3.7/site-packages/pandas/core/indexes/api.py\", line 180, in _union_indexes\n",
      "    return result.union_many(indexes[1:])\n",
      "  File \"/home/ms994/dbmi_eeg_clustering/ensembleReader.py\", line 295, in <lambda>\n",
      "    order=self.order_filt),\n",
      "  File \"/home/ms994/miniconda3/envs/keras-redo/lib/python3.7/site-packages/pandas/core/internals/construction.py\", line 61, in arrays_to_mgr\n",
      "    return create_block_manager_from_arrays(arrays, arr_names, axes)\n",
      "  File \"/home/ms994/dbmi_eeg_clustering/keras_models/dataGen.py\", line 199, in __data_generation\n",
      "    x, y = self.get_x_y(list_IDs_temp)\n",
      "  File \"/home/ms994/miniconda3/envs/keras-redo/lib/python3.7/site-packages/pandas/core/indexes/datetimes.py\", line 523, in union_many\n",
      "    this = this._fast_union(other)\n",
      "  File \"/home/ms994/miniconda3/envs/keras-redo/lib/python3.7/site-packages/pandas/core/internals/managers.py\", line 1666, in create_block_manager_from_arrays\n",
      "    blocks = form_blocks(arrays, names, axes)\n",
      "  File \"/home/ms994/dbmi_eeg_clustering/wf_analysis/filters.py\", line 15, in butter_bandpass_filter\n",
      "    b, a = butter_bandpass(lowcut, highcut, fs, order=order)\n",
      "  File \"/home/ms994/dbmi_eeg_clustering/keras_models/dataGen.py\", line 166, in get_x_y\n",
      "    data = self.dataset[i]\n",
      "  File \"/home/ms994/miniconda3/envs/keras-redo/lib/python3.7/site-packages/pandas/core/indexes/datetimes.py\", line 580, in _fast_union\n",
      "    right_end = right[-1]\n",
      "  File \"/home/ms994/miniconda3/envs/keras-redo/lib/python3.7/site-packages/pandas/core/internals/managers.py\", line 1717, in form_blocks\n",
      "    block_type = get_block_type(v)\n",
      "  File \"/home/ms994/dbmi_eeg_clustering/wf_analysis/filters.py\", line 10, in butter_bandpass\n",
      "    b, a = butter(order, [low, high], btype='band')\n"
     ]
    },
    {
     "name": "stderr",
     "output_type": "stream",
     "text": [
      "  File \"/home/ms994/dbmi_eeg_clustering/ensembleReader.py\", line 274, in __getitem__\n",
      "    return self.getItemSlice(i)\n",
      "  File \"/home/ms994/miniconda3/envs/keras-redo/lib/python3.7/site-packages/pandas/core/indexes/datetimes.py\", line 1170, in __getitem__\n",
      "    result = self._data.__getitem__(key)\n",
      "  File \"/home/ms994/miniconda3/envs/keras-redo/lib/python3.7/site-packages/pandas/core/internals/blocks.py\", line 3058, in get_block_type\n",
      "    elif is_datetime64tz_dtype(values):\n",
      "  File \"/home/ms994/miniconda3/envs/keras-redo/lib/python3.7/site-packages/pandas/core/arrays/datetimelike.py\", line 427, in __getitem__\n",
      "    return self._box_func(val)\n",
      "  File \"/home/ms994/miniconda3/envs/keras-redo/lib/python3.7/site-packages/pandas/core/dtypes/common.py\", line 469, in is_datetime64tz_dtype\n",
      "    return DatetimeTZDtype.is_dtype(arr_or_dtype)\n",
      "  File \"/home/ms994/miniconda3/envs/keras-redo/lib/python3.7/site-packages/scipy/signal/filter_design.py\", line 2591, in butter\n",
      "    output=output, ftype='butter', fs=fs)\n",
      "  File \"/home/ms994/dbmi_eeg_clustering/util_funcs.py\", line 98, in getItemSlice\n",
      "    toReturn[i] = self[j]\n",
      "  File \"/home/ms994/miniconda3/envs/keras-redo/lib/python3.7/site-packages/pandas/core/arrays/datetimes.py\", line 513, in <lambda>\n",
      "    return lambda x: Timestamp(x, freq=self.freq, tz=self.tz)\n",
      "  File \"/home/ms994/miniconda3/envs/keras-redo/lib/python3.7/site-packages/pandas/core/dtypes/base.py\", line 101, in is_dtype\n",
      "    ABCDataFrame, np.dtype)):\n",
      "  File \"/home/ms994/miniconda3/envs/keras-redo/lib/python3.7/site-packages/scipy/signal/filter_design.py\", line 2115, in iirfilter\n",
      "    z, p, k = lp2bp_zpk(z, p, k, wo=wo, bw=bw)\n",
      "  File \"/home/ms994/dbmi_eeg_clustering/ensembleReader.py\", line 282, in __getitem__\n",
      "    max_length=self.gap)\n",
      "  File \"/home/ms994/miniconda3/envs/keras-redo/lib/python3.7/site-packages/pandas/core/dtypes/generic.py\", line 7, in _check\n",
      "    @classmethod\n",
      "KeyboardInterrupt\n",
      "  File \"/home/ms994/dbmi_eeg_clustering/data_reader.py\", line 643, in edf_eeg_2_df\n",
      "    data = pd.concat(all_channels, axis=1)\n",
      "  File \"/home/ms994/miniconda3/envs/keras-redo/lib/python3.7/site-packages/scipy/signal/filter_design.py\", line 2402, in lp2bp_zpk\n",
      "    z_bp = append(z_bp, zeros(degree))\n",
      "  File \"/home/ms994/miniconda3/envs/keras-redo/lib/python3.7/site-packages/pandas/core/reshape/concat.py\", line 229, in concat\n",
      "    return op.get_result()\n",
      "KeyboardInterrupt\n",
      "  File \"/home/ms994/miniconda3/envs/keras-redo/lib/python3.7/site-packages/numpy/lib/function_base.py\", line 4694, in append\n",
      "    return concatenate((arr, values), axis=axis)\n",
      "  File \"/home/ms994/miniconda3/envs/keras-redo/lib/python3.7/site-packages/pandas/core/reshape/concat.py\", line 403, in get_result\n",
      "    df = cons(data, index=index)\n",
      "  File \"/home/ms994/miniconda3/envs/keras-redo/lib/python3.7/site-packages/pandas/core/frame.py\", line 392, in __init__\n",
      "    mgr = init_dict(data, index, columns, dtype=dtype)\n",
      "  File \"/home/ms994/miniconda3/envs/keras-redo/lib/python3.7/site-packages/pandas/core/internals/construction.py\", line 209, in init_dict\n",
      "    columns = data_names = Index(keys)\n",
      "  File \"/home/ms994/miniconda3/envs/keras-redo/lib/python3.7/site-packages/pandas/core/indexes/base.py\", line 483, in __new__\n",
      "    return Index(subarr, dtype=dtype, copy=copy, name=name, **kwargs)\n",
      "  File \"/home/ms994/dbmi_eeg_clustering/keras_models/dataGen.py\", line 191, in __getitem__\n",
      "    X, y = self.__data_generation(list_IDs_temp)\n",
      "  File \"/home/ms994/miniconda3/envs/keras-redo/lib/python3.7/site-packages/pandas/core/indexes/base.py\", line 426, in __new__\n",
      "    subarr, copy, name, dtype)\n",
      "  File \"/home/ms994/dbmi_eeg_clustering/wf_analysis/filters.py\", line 10, in butter_bandpass\n",
      "    b, a = butter(order, [low, high], btype='band')\n",
      "  File \"/home/ms994/dbmi_eeg_clustering/keras_models/dataGen.py\", line 191, in __getitem__\n",
      "    X, y = self.__data_generation(list_IDs_temp)\n",
      "  File \"/home/ms994/miniconda3/envs/keras-redo/lib/python3.7/site-packages/scipy/signal/filter_design.py\", line 2591, in butter\n",
      "    output=output, ftype='butter', fs=fs)\n",
      "  File \"/home/ms994/dbmi_eeg_clustering/keras_models/dataGen.py\", line 199, in __data_generation\n",
      "    x, y = self.get_x_y(list_IDs_temp)\n",
      "  File \"/home/ms994/dbmi_eeg_clustering/keras_models/dataGen.py\", line 166, in get_x_y\n",
      "    data = self.dataset[i]\n",
      "  File \"/home/ms994/miniconda3/envs/keras-redo/lib/python3.7/site-packages/scipy/signal/filter_design.py\", line 2129, in iirfilter\n",
      "    return zpk2tf(z, p, k)\n",
      "  File \"/home/ms994/dbmi_eeg_clustering/ensembleReader.py\", line 274, in __getitem__\n",
      "    return self.getItemSlice(i)\n",
      "  File \"/home/ms994/miniconda3/envs/keras-redo/lib/python3.7/site-packages/scipy/signal/filter_design.py\", line 1105, in zpk2tf\n",
      "    b = k * poly(z)\n",
      "  File \"/home/ms994/dbmi_eeg_clustering/util_funcs.py\", line 98, in getItemSlice\n",
      "    toReturn[i] = self[j]\n",
      "  File \"/home/ms994/miniconda3/envs/keras-redo/lib/python3.7/site-packages/numpy/lib/polynomial.py\", line 150, in poly\n",
      "    a = ones((1,), dtype=dt)\n",
      "  File \"/home/ms994/dbmi_eeg_clustering/ensembleReader.py\", line 282, in __getitem__\n",
      "    max_length=self.gap)\n",
      "  File \"/home/ms994/dbmi_eeg_clustering/data_reader.py\", line 644, in edf_eeg_2_df\n",
      "    data.index = data.index - data.index[0]\n",
      "  File \"/home/ms994/miniconda3/envs/keras-redo/lib/python3.7/site-packages/numpy/core/numeric.py\", line 224, in ones\n",
      "    multiarray.copyto(a, 1, casting='unsafe')\n",
      "  File \"/home/ms994/miniconda3/envs/keras-redo/lib/python3.7/site-packages/pandas/core/indexes/datetimelike.py\", line 501, in __sub__\n",
      "    result = self._data.__sub__(maybe_unwrap_index(other))\n",
      "KeyboardInterrupt\n",
      "  File \"/home/ms994/miniconda3/envs/keras-redo/lib/python3.7/site-packages/pandas/core/arrays/datetimelike.py\", line 1255, in __sub__\n",
      "    result = self._sub_datetimelike_scalar(other)\n",
      "  File \"/home/ms994/miniconda3/envs/keras-redo/lib/python3.7/site-packages/pandas/core/arrays/datetimes.py\", line 765, in _sub_datetimelike_scalar\n",
      "    return result.view('timedelta64[ns]')\n",
      "  File \"/home/ms994/miniconda3/envs/keras-redo/lib/python3.7/site-packages/pandas/core/apply.py\", line 286, in apply_series_generator\n",
      "    results[i] = self.f(v)\n",
      "KeyboardInterrupt\n",
      "  File \"/home/ms994/miniconda3/envs/keras-redo/lib/python3.7/site-packages/pandas/core/indexes/base.py\", line 3779, in _try_convert_to_int_index\n",
      "    if (res == data).all():\n",
      "  File \"/home/ms994/miniconda3/envs/keras-redo/lib/python3.7/site-packages/numpy/core/_methods.py\", line 46, in _all\n",
      "    return umr_all(a, axis, dtype, out, keepdims)\n",
      "KeyboardInterrupt\n",
      "  File \"/home/ms994/miniconda3/envs/keras-redo/lib/python3.7/site-packages/pandas/core/indexes/base.py\", line 464, in __new__\n",
      "    elif hasattr(data, '__array__'):\n",
      "  File \"/home/ms994/dbmi_eeg_clustering/ensembleReader.py\", line 295, in <lambda>\n",
      "    order=self.order_filt),\n",
      "  File \"/home/ms994/dbmi_eeg_clustering/keras_models/dataGen.py\", line 199, in __data_generation\n",
      "    x, y = self.get_x_y(list_IDs_temp)\n",
      "  File \"/home/ms994/dbmi_eeg_clustering/wf_analysis/filters.py\", line 15, in butter_bandpass_filter\n",
      "    b, a = butter_bandpass(lowcut, highcut, fs, order=order)\n",
      "  File \"/home/ms994/dbmi_eeg_clustering/wf_analysis/filters.py\", line 10, in butter_bandpass\n",
      "    b, a = butter(order, [low, high], btype='band')\n",
      "  File \"/home/ms994/miniconda3/envs/keras-redo/lib/python3.7/site-packages/scipy/signal/filter_design.py\", line 2591, in butter\n",
      "    output=output, ftype='butter', fs=fs)\n",
      "KeyboardInterrupt\n",
      "  File \"/home/ms994/dbmi_eeg_clustering/keras_models/dataGen.py\", line 166, in get_x_y\n",
      "    data = self.dataset[i]\n",
      "KeyboardInterrupt\n",
      "  File \"/home/ms994/dbmi_eeg_clustering/ensembleReader.py\", line 274, in __getitem__\n",
      "    return self.getItemSlice(i)\n",
      "  File \"/home/ms994/miniconda3/envs/keras-redo/lib/python3.7/site-packages/scipy/signal/filter_design.py\", line 2129, in iirfilter\n",
      "    return zpk2tf(z, p, k)\n",
      "  File \"/home/ms994/dbmi_eeg_clustering/util_funcs.py\", line 98, in getItemSlice\n",
      "    toReturn[i] = self[j]\n",
      "  File \"/home/ms994/miniconda3/envs/keras-redo/lib/python3.7/site-packages/scipy/signal/filter_design.py\", line 1105, in zpk2tf\n",
      "    b = k * poly(z)\n",
      "  File \"/home/ms994/miniconda3/envs/keras-redo/lib/python3.7/site-packages/numpy/lib/polynomial.py\", line 158, in poly\n",
      "    if NX.all(NX.sort(roots) == NX.sort(roots.conjugate())):\n"
     ]
    },
    {
     "name": "stderr",
     "output_type": "stream",
     "text": [
      "  File \"/home/ms994/miniconda3/envs/keras-redo/lib/python3.7/site-packages/numpy/core/fromnumeric.py\", line 934, in sort\n",
      "    a.sort(axis=axis, kind=kind, order=order)\n",
      "KeyboardInterrupt\n",
      "  File \"/home/ms994/dbmi_eeg_clustering/ensembleReader.py\", line 282, in __getitem__\n",
      "    max_length=self.gap)\n",
      "  File \"/home/ms994/dbmi_eeg_clustering/data_reader.py\", line 643, in edf_eeg_2_df\n",
      "    data = pd.concat(all_channels, axis=1)\n",
      "  File \"/home/ms994/miniconda3/envs/keras-redo/lib/python3.7/site-packages/pandas/core/reshape/concat.py\", line 228, in concat\n",
      "    copy=copy, sort=sort)\n",
      "  File \"/home/ms994/miniconda3/envs/keras-redo/lib/python3.7/site-packages/pandas/core/reshape/concat.py\", line 381, in __init__\n",
      "    self.new_axes = self._get_new_axes()\n",
      "  File \"/home/ms994/miniconda3/envs/keras-redo/lib/python3.7/site-packages/pandas/core/reshape/concat.py\", line 448, in _get_new_axes\n",
      "    new_axes[i] = self._get_comb_axis(i)\n",
      "  File \"/home/ms994/miniconda3/envs/keras-redo/lib/python3.7/site-packages/pandas/core/reshape/concat.py\", line 469, in _get_comb_axis\n",
      "    sort=self.sort)\n",
      "  File \"/home/ms994/miniconda3/envs/keras-redo/lib/python3.7/site-packages/pandas/core/indexes/api.py\", line 70, in _get_objs_combined_axis\n",
      "    return _get_combined_index(obs_idxes, intersect=intersect, sort=sort)\n",
      "  File \"/home/ms994/miniconda3/envs/keras-redo/lib/python3.7/site-packages/pandas/core/indexes/api.py\", line 117, in _get_combined_index\n",
      "    index = _union_indexes(indexes, sort=sort)\n",
      "  File \"/home/ms994/miniconda3/envs/keras-redo/lib/python3.7/site-packages/pandas/core/indexes/api.py\", line 180, in _union_indexes\n",
      "    return result.union_many(indexes[1:])\n",
      "  File \"/home/ms994/miniconda3/envs/keras-redo/lib/python3.7/site-packages/pandas/core/indexes/datetimes.py\", line 522, in union_many\n",
      "    if this._can_fast_union(other):\n",
      "  File \"/home/ms994/miniconda3/envs/keras-redo/lib/python3.7/site-packages/pandas/core/indexes/datetimes.py\", line 539, in _can_fast_union\n",
      "    if freq is None or freq != other.freq:\n",
      "  File \"/home/ms994/miniconda3/envs/keras-redo/lib/python3.7/site-packages/pandas/tseries/offsets.py\", line 2304, in __ne__\n",
      "    return self.delta != other.delta\n",
      "KeyboardInterrupt\n",
      "  File \"/home/ms994/miniconda3/envs/keras-redo/lib/python3.7/site-packages/pandas/tseries/offsets.py\", line 2310, in delta\n",
      "    return self.n * self._inc\n"
     ]
    }
   ],
   "source": [
    "session_predictor.compile(\"adam\", loss=\"categorical_crossentropy\", metrics=[\"categorical_accuracy\"])\n",
    "history = session_predictor.fit_generator(edg, epochs=10, callbacks=[ea], use_multiprocessing=True, workers=12, max_queue_size=1000)"
   ]
  },
  {
   "cell_type": "markdown",
   "metadata": {},
   "source": [
    "# Simple NN single Label Approach"
   ]
  },
  {
   "cell_type": "markdown",
   "metadata": {},
   "source": [
    "## Data setup"
   ]
  },
  {
   "cell_type": "code",
   "execution_count": 10,
   "metadata": {},
   "outputs": [
    {
     "name": "stdout",
     "output_type": "stream",
     "text": [
      "Starting 16 processes\n",
      "retrieving: 0\n",
      "Starting 16 processes\n",
      "retrieving: 0\n",
      "retrieving: 1000\n",
      "retrieving: 2000\n",
      "retrieving: 3000\n"
     ]
    }
   ],
   "source": [
    "edss = er.EdfDatasetSegments(pre_cooldown=4, post_cooldown=4, sample_time=4, num_seconds=1, n_process=16)"
   ]
  },
  {
   "cell_type": "code",
   "execution_count": 11,
   "metadata": {},
   "outputs": [
    {
     "name": "stdout",
     "output_type": "stream",
     "text": [
      "starting custom_annotater\n",
      "Starting 20 processes\n",
      "retrieving: 0\n",
      "retrieving: 1000\n",
      "retrieving: 2000\n"
     ]
    }
   ],
   "source": [
    "train_label_files_segs = edss.get_train_split()"
   ]
  },
  {
   "cell_type": "code",
   "execution_count": 12,
   "metadata": {},
   "outputs": [
    {
     "name": "stdout",
     "output_type": "stream",
     "text": [
      "starting custom_annotater\n",
      "Starting 20 processes\n",
      "retrieving: 0\n"
     ]
    }
   ],
   "source": [
    "test_label_files_segs = edss.get_test_split()"
   ]
  },
  {
   "cell_type": "code",
   "execution_count": null,
   "metadata": {},
   "outputs": [
    {
     "name": "stdout",
     "output_type": "stream",
     "text": [
      "starting custom_annotater\n",
      "Starting 20 processes\n",
      "retrieving: 0\n"
     ]
    }
   ],
   "source": [
    "mode = er.EdfDatasetSegmentedSampler.DETECT_MODE\n",
    "reload(er)\n",
    "train_edss = er.EdfDatasetSegmentedSampler(segment_file_tuples=train_label_files_segs, mode=mode, n_process=8, gap=pd.Timedelta(seconds=1), overlapping_augmentation=True)\n",
    "train_edss.verbose = False\n",
    "valid_edss = er.EdfDatasetSegmentedSampler(segment_file_tuples=edss.get_valid_split(), mode=mode, n_process=8, gap=pd.Timedelta(seconds=1), overlapping_augmentation=True)\n",
    "valid_edss.verbose = False"
   ]
  },
  {
   "cell_type": "code",
   "execution_count": null,
   "metadata": {},
   "outputs": [],
   "source": [
    "test_edss = er.EdfDatasetSegmentedSampler(segment_file_tuples=test_label_files_segs, mode=mode, n_process=8, gap=pd.Timedelta(seconds=1), overlapping_augmentation=False)\n",
    "test_edss.verbose = False"
   ]
  },
  {
   "cell_type": "code",
   "execution_count": null,
   "metadata": {},
   "outputs": [],
   "source": [
    "train_edss.n_process = 1\n",
    "train_edss.use_mp = False"
   ]
  },
  {
   "cell_type": "code",
   "execution_count": null,
   "metadata": {},
   "outputs": [],
   "source": [
    "train_edss.sampleInfo[114]"
   ]
  },
  {
   "cell_type": "code",
   "execution_count": 9,
   "metadata": {},
   "outputs": [
    {
     "data": {
      "text/plain": [
       "[<matplotlib.lines.Line2D at 0x7fbbcaebfb38>]"
      ]
     },
     "execution_count": 9,
     "metadata": {},
     "output_type": "execute_result"
    },
    {
     "data": {
      "image/png": "[encoded data removed]",
      "text/plain": [
       "<Figure size 432x288 with 1 Axes>"
      ]
     },
     "metadata": {
      "needs_background": "light"
     },
     "output_type": "display_data"
    }
   ],
   "source": [
    "plt.plot(train_edss[113][0].T[0])"
   ]
  },
  {
   "cell_type": "code",
   "execution_count": 10,
   "metadata": {},
   "outputs": [],
   "source": [
    "# train_edss_scaled = read.EdfStandardScaler(train_edss)\n",
    "# valid_edss_scaled = read.EdfStandardScaler(valid_edss)"
   ]
  },
  {
   "cell_type": "code",
   "execution_count": null,
   "metadata": {},
   "outputs": [],
   "source": [
    "%%bash\n",
    "ls /home/ms994/v1.5.0/edf/train/01_tcp_ar/131/00013182/s001_2015_10_07/\n",
    "cat /home/ms994/v1.5.0/edf/train/01_tcp_ar/131/00013182/s001_2015_10_07/00013182_s001.txt"
   ]
  },
  {
   "cell_type": "code",
   "execution_count": null,
   "metadata": {},
   "outputs": [],
   "source": [
    "from keras_models.dataGen import EdfDataGenerator, RULEdfDataGenerator\n",
    "import keras_models.dataGen as dg\n",
    "reload(dg)"
   ]
  },
  {
   "cell_type": "code",
   "execution_count": null,
   "metadata": {},
   "outputs": [],
   "source": [
    "train_edss.use_mp = False\n",
    "valid_edss.use_mp = False\n",
    "edg = dg.RULEdfDataGenerator(train_edss, n_classes=2, precache=False, batch_size=16, labels=[train_edss.sampleInfo[key].label for key in train_edss.sampleInfo.keys()])\n",
    "valid_edg = dg.RULEdfDataGenerator(valid_edss, n_classes=2, precache=False, batch_size=16, labels=[valid_edss.sampleInfo[key].label for key in valid_edss.sampleInfo.keys()])"
   ]
  },
  {
   "cell_type": "code",
   "execution_count": null,
   "metadata": {},
   "outputs": [],
   "source": [
    "test_edss.use_mp = False\n",
    "test_edg = dg.EdfDataGenerator(test_edss, n_classes=2, precache=False, batch_size=32, shuffle=False)\n",
    "test_labels = [test_edss.sampleInfo[key].label for key in test_edss.sampleInfo.keys()]"
   ]
  },
  {
   "cell_type": "code",
   "execution_count": null,
   "metadata": {},
   "outputs": [],
   "source": [
    "seizureLabels = [train_edss.sampleInfo[key].label for key in train_edss.sampleInfo.keys()]"
   ]
  },
  {
   "cell_type": "code",
   "execution_count": null,
   "metadata": {},
   "outputs": [],
   "source": [
    "train_edss.sampleInfo"
   ]
  },
  {
   "cell_type": "markdown",
   "metadata": {},
   "source": [
    "## Simple NN setup"
   ]
  },
  {
   "cell_type": "code",
   "execution_count": 21,
   "metadata": {},
   "outputs": [],
   "source": [
    "from keras_models.cnn_models import conv2d_gridsearch_pre_layers\n",
    "from keras.layers import Input, Reshape, Dense, TimeDistributed, Dropout\n",
    "from keras import Model\n",
    "from keras.optimizers import Adam\n",
    "pre_layer_h = 32\n",
    "x = Input((1000, 21, 1)) #time, ecg channel, cnn channel\n",
    "# y = x\n",
    "y = Reshape((1000, 21))(x) #remove channel dim\n",
    "y = TimeDistributed(Dense(pre_layer_h, activation=\"relu\"))(y)\n",
    "y = Reshape((1000, pre_layer_h, 1))(y) #add back in channel dim\n",
    "_, y = conv2d_gridsearch_pre_layers(input_shape=(1000,21,1), dropout=0.25, x=y, num_conv_spatial_layers=2, num_spatial_filter=2, num_temporal_filter=0, num_conv_temporal_layers=0, max_pool_stride=(2,2), max_pool_size=(2,2), use_batch_normalization=True)\n",
    "# y = Dense(30, activation=\"relu\")(y)\n",
    "y = Dropout(0.25)(y)\n",
    "y_seizure = Dense(2, activation=\"softmax\", name=\"seizure\")(y)\n",
    "model = Model(inputs=x, outputs=[y_seizure])\n"
   ]
  },
  {
   "cell_type": "code",
   "execution_count": 22,
   "metadata": {},
   "outputs": [
    {
     "name": "stdout",
     "output_type": "stream",
     "text": [
      "_________________________________________________________________\n",
      "Layer (type)                 Output Shape              Param #   \n",
      "=================================================================\n",
      "input_1 (InputLayer)         (None, 1000, 21, 1)       0         \n",
      "_________________________________________________________________\n",
      "reshape_1 (Reshape)          (None, 1000, 21)          0         \n",
      "_________________________________________________________________\n",
      "time_distributed_1 (TimeDist (None, 1000, 32)          704       \n",
      "_________________________________________________________________\n",
      "reshape_2 (Reshape)          (None, 1000, 32, 1)       0         \n",
      "_________________________________________________________________\n",
      "batch_normalization_1 (Batch (None, 1000, 32, 1)       4         \n",
      "_________________________________________________________________\n",
      "conv2d_1 (Conv2D)            (None, 1000, 32, 2)       20        \n",
      "_________________________________________________________________\n",
      "max_pooling2d_1 (MaxPooling2 (None, 500, 16, 2)        0         \n",
      "_________________________________________________________________\n",
      "dropout_1 (Dropout)          (None, 500, 16, 2)        0         \n",
      "_________________________________________________________________\n",
      "batch_normalization_2 (Batch (None, 500, 16, 2)        8         \n",
      "_________________________________________________________________\n",
      "conv2d_2 (Conv2D)            (None, 500, 16, 2)        38        \n",
      "_________________________________________________________________\n",
      "max_pooling2d_2 (MaxPooling2 (None, 250, 8, 2)         0         \n",
      "_________________________________________________________________\n",
      "dropout_2 (Dropout)          (None, 250, 8, 2)         0         \n",
      "_________________________________________________________________\n",
      "flatten_1 (Flatten)          (None, 4000)              0         \n",
      "_________________________________________________________________\n",
      "dropout_3 (Dropout)          (None, 4000)              0         \n",
      "_________________________________________________________________\n",
      "seizure (Dense)              (None, 2)                 8002      \n",
      "=================================================================\n",
      "Total params: 8,776\n",
      "Trainable params: 8,770\n",
      "Non-trainable params: 6\n",
      "_________________________________________________________________\n"
     ]
    }
   ],
   "source": [
    "model.summary()"
   ]
  },
  {
   "cell_type": "code",
   "execution_count": 23,
   "metadata": {},
   "outputs": [
    {
     "data": {
      "text/plain": [
       "<module 'data_reader' from '/home/ms994/dbmi_eeg_clustering/data_reader.py'>"
      ]
     },
     "execution_count": 23,
     "metadata": {},
     "output_type": "execute_result"
    }
   ],
   "source": [
    "import pyedflib\n",
    "reload(pyedflib)\n",
    "reload(er)\n",
    "reload(read)"
   ]
  },
  {
   "cell_type": "code",
   "execution_count": 25,
   "metadata": {},
   "outputs": [],
   "source": [
    "from keras.callbacks import ModelCheckpoint, EarlyStopping\n",
    "mc = ModelCheckpoint(\"/n/scratch2/ms994/single_label.h5\", monitor=\"val_binary_accuracy\", save_best_only=True, verbose=True)\n",
    "stopping = EarlyStopping(\"val_binary_accuracy\", patience=50, verbose=True)"
   ]
  },
  {
   "cell_type": "code",
   "execution_count": 97,
   "metadata": {
    "scrolled": true
   },
   "outputs": [
    {
     "name": "stdout",
     "output_type": "stream",
     "text": [
      "Miniconda3-latest-Linux-x86_64.sh\n",
      "_about.txt\n",
      "condaenv.7ds8vi6f.requirements.txt\n",
      "dbmi_eeg_clustering\n",
      "echo\n",
      "env.yaml\n",
      "filelist.out\n",
      "get_files.sh\n",
      "google-cloud-sdk\n",
      "keras-cpu.err\n",
      "miniconda3\n",
      "multilabel.h5\n",
      "nedc_pwd\n",
      "ngrok\n",
      "pyedflib\n",
      "runtime_dir\n",
      "sacred\n",
      "secondDbmi\n",
      "setup_env.sh\n",
      "startJupyterNotebook.sh\n",
      "test\n",
      "test.py\n",
      "testPredictSeizureData_4.pkl\n",
      "testSeizureData.pkl\n",
      "testSeizureData_4.pkl\n",
      "trainPredictSeizureData_4.pkl\n",
      "trainSeizureData.pkl\n",
      "trainSeizureData_4.pkl\n",
      "train_eeg_lengths.csv\n",
      "tsfresh\n",
      "v1.5.0\n",
      "validPredictSeizureData_4.pkl\n",
      "validSeizureData.pkl\n",
      "validSeizureData_4.pkl\n",
      "watch\n",
      "~.bashrc\n"
     ]
    }
   ],
   "source": [
    "%%bash\n",
    "ls /home/ms994"
   ]
  },
  {
   "cell_type": "code",
   "execution_count": 27,
   "metadata": {
    "scrolled": true
   },
   "outputs": [],
   "source": [
    "edg.dataset.use_mp = False\n",
    "valid_edg.dataset.use_mp = False\n",
    "\n",
    "model.compile(\"adam\", loss=[\"binary_crossentropy\"], metrics=[\"binary_accuracy\"])\n",
    "history = model.fit_generator(edg, validation_data=valid_edg, use_multiprocessing=True, max_queue_size=500000, workers=7, epochs=300, callbacks=[stopping])"
   ]
  },
  {
   "cell_type": "code",
   "execution_count": 6,
   "metadata": {},
   "outputs": [],
   "source": [
    "from keras.models import load_model"
   ]
  },
  {
   "cell_type": "code",
   "execution_count": 18,
   "metadata": {},
   "outputs": [],
   "source": [
    "model = load_model(\"/n/scratch2/ms994/single_label.h5\")"
   ]
  },
  {
   "cell_type": "code",
   "execution_count": 20,
   "metadata": {},
   "outputs": [],
   "source": [
    "len(test_edg.dataset)\n",
    "test_edg.batch_size = 64"
   ]
  },
  {
   "cell_type": "code",
   "execution_count": 21,
   "metadata": {},
   "outputs": [],
   "source": [
    "predictions = model.predict_generator(test_edg, use_multiprocessing=True, workers=8, max_queue_size=100000)"
   ]
  },
  {
   "cell_type": "code",
   "execution_count": 26,
   "metadata": {},
   "outputs": [],
   "source": [
    "from sklearn.metrics import accuracy_score, roc_auc_score, f1_score, classification_report"
   ]
  },
  {
   "cell_type": "code",
   "execution_count": 23,
   "metadata": {},
   "outputs": [
    {
     "data": {
      "text/plain": [
       "0.41893136630845845"
      ]
     },
     "execution_count": 23,
     "metadata": {},
     "output_type": "execute_result"
    }
   ],
   "source": [
    "accuracy_score(predictions.argmax(1), test_labels)"
   ]
  },
  {
   "cell_type": "code",
   "execution_count": 24,
   "metadata": {},
   "outputs": [
    {
     "data": {
      "text/plain": [
       "0.24708656374627633"
      ]
     },
     "execution_count": 24,
     "metadata": {},
     "output_type": "execute_result"
    }
   ],
   "source": [
    "f1_score(predictions.argmax(1), test_labels)"
   ]
  },
  {
   "cell_type": "code",
   "execution_count": 25,
   "metadata": {},
   "outputs": [
    {
     "data": {
      "text/plain": [
       "0.5552546074766065"
      ]
     },
     "execution_count": 25,
     "metadata": {},
     "output_type": "execute_result"
    }
   ],
   "source": [
    "roc_auc_score(predictions.argmax(1), test_labels)"
   ]
  },
  {
   "cell_type": "code",
   "execution_count": 30,
   "metadata": {},
   "outputs": [
    {
     "data": {
      "text/plain": [
       "0.10630920732392257"
      ]
     },
     "execution_count": 30,
     "metadata": {},
     "output_type": "execute_result"
    }
   ],
   "source": [
    "sum(test_labels)/ len(test_labels)"
   ]
  },
  {
   "cell_type": "code",
   "execution_count": 28,
   "metadata": {},
   "outputs": [
    {
     "name": "stdout",
     "output_type": "stream",
     "text": [
      "              precision    recall  f1-score   support\n",
      "\n",
      "           0       0.36      0.97      0.53     44674\n",
      "           1       0.90      0.14      0.25     88861\n",
      "\n",
      "    accuracy                           0.42    133535\n",
      "   macro avg       0.63      0.56      0.39    133535\n",
      "weighted avg       0.72      0.42      0.34    133535\n",
      "\n"
     ]
    }
   ],
   "source": [
    "print(classification_report(predictions.argmax(1), test_labels))"
   ]
  },
  {
   "cell_type": "code",
   "execution_count": null,
   "metadata": {},
   "outputs": [],
   "source": [
    "plt.plot(history.history[\"binary_accuracy\"])\n",
    "plt.plot(history.history[\"val_binary_accuracy\"])\n",
    "plt.legend([\"train\", \"validation\"])\n",
    "plt.show()"
   ]
  },
  {
   "cell_type": "code",
   "execution_count": null,
   "metadata": {},
   "outputs": [],
   "source": [
    "valid_edg = dg.EdfDataGenerator(valid_edss, n_classes=2, precache=False, batch_size=16, shuffle=False, labels=[valid_edss.sampleInfo[key].label for key in valid_edss.sampleInfo.keys()])"
   ]
  },
  {
   "cell_type": "code",
   "execution_count": null,
   "metadata": {},
   "outputs": [],
   "source": [
    "prediction = model.predict_generator(valid_edg, use_multiprocessing=True, workers=6, max_queue_size=100000,)"
   ]
  },
  {
   "cell_type": "code",
   "execution_count": null,
   "metadata": {},
   "outputs": [],
   "source": [
    "prediction.sum(0)"
   ]
  },
  {
   "cell_type": "code",
   "execution_count": null,
   "metadata": {},
   "outputs": [],
   "source": [
    "labels = valid_edg.labels"
   ]
  },
  {
   "cell_type": "code",
   "execution_count": null,
   "metadata": {},
   "outputs": [],
   "source": [
    "predictionMax = prediction.argmax(1)"
   ]
  },
  {
   "cell_type": "code",
   "execution_count": null,
   "metadata": {},
   "outputs": [],
   "source": [
    "from sklearn.metrics import f1_score, roc_auc_score, accuracy_score, classification_report"
   ]
  },
  {
   "cell_type": "code",
   "execution_count": null,
   "metadata": {},
   "outputs": [],
   "source": [
    "f1_score(predictionMax, labels)"
   ]
  },
  {
   "cell_type": "code",
   "execution_count": null,
   "metadata": {},
   "outputs": [],
   "source": [
    "roc_auc_score(predictionMax, labels)"
   ]
  },
  {
   "cell_type": "code",
   "execution_count": null,
   "metadata": {},
   "outputs": [],
   "source": [
    "accuracy_score(predictionMax, labels)"
   ]
  },
  {
   "cell_type": "code",
   "execution_count": null,
   "metadata": {},
   "outputs": [],
   "source": [
    "print(classification_report(predictionMax, labels))"
   ]
  },
  {
   "cell_type": "code",
   "execution_count": null,
   "metadata": {},
   "outputs": [],
   "source": [
    "len(labels) / 16"
   ]
  },
  {
   "cell_type": "code",
   "execution_count": null,
   "metadata": {},
   "outputs": [],
   "source": [
    "labels[-5]"
   ]
  },
  {
   "cell_type": "code",
   "execution_count": null,
   "metadata": {},
   "outputs": [],
   "source": [
    "valid_edg[3124][1]"
   ]
  },
  {
   "cell_type": "markdown",
   "metadata": {},
   "source": [
    "# Try multi label approach?"
   ]
  },
  {
   "cell_type": "code",
   "execution_count": null,
   "metadata": {},
   "outputs": [],
   "source": [
    "tkn_file_paths = [train_edss.sampleInfo[key].token_file_path for key in train_edss.sampleInfo.keys()]"
   ]
  },
  {
   "cell_type": "code",
   "execution_count": null,
   "metadata": {},
   "outputs": [],
   "source": [
    "patients = [read.parse_edf_token_path_structure(tkn_file_path)[1] for tkn_file_path in tkn_file_paths]"
   ]
  },
  {
   "cell_type": "code",
   "execution_count": 33,
   "metadata": {},
   "outputs": [],
   "source": [
    "allPatients = list(set(patients + [read.parse_edf_token_path_structure(valid_edss.sampleInfo[key].token_file_path)[1] for key in valid_edss.sampleInfo.keys()]))"
   ]
  },
  {
   "cell_type": "code",
   "execution_count": 34,
   "metadata": {},
   "outputs": [],
   "source": [
    "patientInd = [allPatients.index(patient) for patient in patients]"
   ]
  },
  {
   "cell_type": "code",
   "execution_count": 35,
   "metadata": {},
   "outputs": [],
   "source": [
    "validPatientInd = [allPatients.index(read.parse_edf_token_path_structure(valid_edss.sampleInfo[key].token_file_path)[1]) for key in valid_edss.sampleInfo.keys()]"
   ]
  },
  {
   "cell_type": "code",
   "execution_count": 36,
   "metadata": {},
   "outputs": [],
   "source": [
    "seizureLabels = [train_edss.sampleInfo[key].label for key in train_edss.sampleInfo.keys()]\n",
    "validSeizureLabels = [valid_edss.sampleInfo[key].label for key in valid_edss.sampleInfo.keys()]"
   ]
  },
  {
   "cell_type": "code",
   "execution_count": 37,
   "metadata": {},
   "outputs": [],
   "source": [
    "for i in range(len(seizureLabels)):\n",
    "    train_edss.sampleInfo[i].label = (seizureLabels[i], patientInd[i])"
   ]
  },
  {
   "cell_type": "code",
   "execution_count": 38,
   "metadata": {},
   "outputs": [],
   "source": [
    "for i in range(len(validSeizureLabels)):\n",
    "    valid_edss.sampleInfo[i].label = (validSeizureLabels[i], validPatientInd[i])"
   ]
  },
  {
   "cell_type": "markdown",
   "metadata": {},
   "source": [
    "## Load cached multilabeled data"
   ]
  },
  {
   "cell_type": "code",
   "execution_count": 13,
   "metadata": {},
   "outputs": [],
   "source": [
    "train_edss = pkl.load(open(\"/n/scratch2/ms994/train_multiple_labels_seizure_data_4.pkl\", \"rb\"))\n",
    "test_edss = pkl.load(open(\"/n/scratch2/ms994/test_multiple_labels_seizure_data_4.pkl\", \"rb\"))"
   ]
  },
  {
   "cell_type": "code",
   "execution_count": 14,
   "metadata": {},
   "outputs": [],
   "source": [
    "valid_edss = pkl.load(open(\"/n/scratch2/ms994/valid_multiple_labels_seizure_data_4.pkl\", \"rb\"))\n"
   ]
  },
  {
   "cell_type": "code",
   "execution_count": 15,
   "metadata": {},
   "outputs": [],
   "source": [
    "seizureLabels = [train_edss_datum[1][0] for train_edss_datum in train_edss]\n",
    "patientInd = [train_edss_datum[1][1] for train_edss_datum in train_edss]\n",
    "allPatients = list(set(patientInd))"
   ]
  },
  {
   "cell_type": "code",
   "execution_count": 16,
   "metadata": {},
   "outputs": [],
   "source": [
    "validSeizureLabels = [valid_edss_datum[1][0] for valid_edss_datum in valid_edss]\n",
    "validPatientInd = [valid_edss_datum[1][1] for valid_edss_datum in valid_edss]"
   ]
  },
  {
   "cell_type": "code",
   "execution_count": 17,
   "metadata": {},
   "outputs": [],
   "source": [
    "train_edg = dg.RULEdfDataGenerator(train_edss, labels=seizureLabels, n_classes=2, precache=True)"
   ]
  },
  {
   "cell_type": "code",
   "execution_count": 18,
   "metadata": {},
   "outputs": [],
   "source": [
    "valid_edg = dg.EdfDataGenerator(valid_edss, labels=validSeizureLabels, n_classes=2, precache=True)"
   ]
  },
  {
   "cell_type": "code",
   "execution_count": 108,
   "metadata": {},
   "outputs": [],
   "source": [
    "testSeizureLabels = [test_edss_datum[1][0] for test_edss_datum in test_edss]\n",
    "testPatientInd = [test_edss_datum[1][1] for test_edss_datum in test_edss]\n",
    "test_edg = dg.EdfDataGenerator(test_edss, labels=testSeizureLabels, n_classes=2, precache=True)"
   ]
  },
  {
   "cell_type": "code",
   "execution_count": 4,
   "metadata": {},
   "outputs": [],
   "source": [
    "reload(dg)\n",
    "edg = dg.RULDataGenMultipleLabels(train_edss, num_labels=2, precache=True, labels=[seizureLabels, patientInd], xy_tuple_form=False, n_classes=(2, len(allPatients)), use_background_process=False)\n",
    "# valid_edg = dg.RULDataGenMultipleLabels(valid_edss, num_labels=2, precache=True, labels=[validSeizureLabels, validPatientInd], xy_tuple_form=False, n_classes=(2, len(allPatients)), use_background_process=False)"
   ]
  },
  {
   "cell_type": "markdown",
   "metadata": {},
   "source": [
    "## set up nn"
   ]
  },
  {
   "cell_type": "code",
   "execution_count": 5,
   "metadata": {},
   "outputs": [
    {
     "name": "stdout",
     "output_type": "stream",
     "text": [
      "WARNING:tensorflow:From /home/ms994/miniconda3/envs/keras-redo/lib/python3.7/site-packages/tensorflow/python/framework/op_def_library.py:263: colocate_with (from tensorflow.python.framework.ops) is deprecated and will be removed in a future version.\n",
      "Instructions for updating:\n",
      "Colocations handled automatically by placer.\n"
     ]
    },
    {
     "name": "stderr",
     "output_type": "stream",
     "text": [
      "WARNING:tensorflow:From /home/ms994/miniconda3/envs/keras-redo/lib/python3.7/site-packages/tensorflow/python/framework/op_def_library.py:263: colocate_with (from tensorflow.python.framework.ops) is deprecated and will be removed in a future version.\n",
      "Instructions for updating:\n",
      "Colocations handled automatically by placer.\n"
     ]
    },
    {
     "name": "stdout",
     "output_type": "stream",
     "text": [
      "WARNING:tensorflow:From /home/ms994/miniconda3/envs/keras-redo/lib/python3.7/site-packages/keras/backend/tensorflow_backend.py:3445: calling dropout (from tensorflow.python.ops.nn_ops) with keep_prob is deprecated and will be removed in a future version.\n",
      "Instructions for updating:\n",
      "Please use `rate` instead of `keep_prob`. Rate should be set to `rate = 1 - keep_prob`.\n"
     ]
    },
    {
     "name": "stderr",
     "output_type": "stream",
     "text": [
      "WARNING:tensorflow:From /home/ms994/miniconda3/envs/keras-redo/lib/python3.7/site-packages/keras/backend/tensorflow_backend.py:3445: calling dropout (from tensorflow.python.ops.nn_ops) with keep_prob is deprecated and will be removed in a future version.\n",
      "Instructions for updating:\n",
      "Please use `rate` instead of `keep_prob`. Rate should be set to `rate = 1 - keep_prob`.\n"
     ]
    }
   ],
   "source": [
    "from keras_models.cnn_models import conv2d_gridsearch_pre_layers\n",
    "from keras.layers import Input, Reshape, Dense, TimeDistributed, Dropout\n",
    "from keras import Model\n",
    "from keras.optimizers import Adam\n",
    "pre_layer_h = 512\n",
    "x = Input((1000, 21, 1)) #time, ecg channel, cnn channel\n",
    "y = Reshape((1000, 21))(x) #remove channel dim\n",
    "y = TimeDistributed(Dense(pre_layer_h, activation=\"relu\"))(y)\n",
    "y = Reshape((1000, pre_layer_h, 1))(y) #add back in channel dim\n",
    "_, y = conv2d_gridsearch_pre_layers(input_shape=(1000,21,1), dropout=0, x=y, num_conv_spatial_layers=3, num_conv_temporal_layers=3, num_spatial_filter=40, num_temporal_filter=80, max_pool_stride=(2,2), use_batch_normalization=True)\n",
    "y = Dense(30, activation=\"relu\")(y)\n",
    "y = Dropout(0.5)(y)\n",
    "y_seizure = Dense(2, activation=\"softmax\", name=\"seizure\")(y)\n",
    "y_patient = Dense(len(allPatients), activation=\"softmax\", name=\"patientId\")(y)\n",
    "model = Model(inputs=x, outputs=[y_seizure, y_patient])\n"
   ]
  },
  {
   "cell_type": "code",
   "execution_count": 6,
   "metadata": {},
   "outputs": [
    {
     "name": "stdout",
     "output_type": "stream",
     "text": [
      "__________________________________________________________________________________________________\n",
      "Layer (type)                    Output Shape         Param #     Connected to                     \n",
      "==================================================================================================\n",
      "input_1 (InputLayer)            (None, 1000, 21, 1)  0                                            \n",
      "__________________________________________________________________________________________________\n",
      "reshape_1 (Reshape)             (None, 1000, 21)     0           input_1[0][0]                    \n",
      "__________________________________________________________________________________________________\n",
      "time_distributed_1 (TimeDistrib (None, 1000, 512)    11264       reshape_1[0][0]                  \n",
      "__________________________________________________________________________________________________\n",
      "reshape_2 (Reshape)             (None, 1000, 512, 1) 0           time_distributed_1[0][0]         \n",
      "__________________________________________________________________________________________________\n",
      "conv2d_1 (Conv2D)               (None, 1000, 512, 40 400         reshape_2[0][0]                  \n",
      "__________________________________________________________________________________________________\n",
      "max_pooling2d_1 (MaxPooling2D)  (None, 500, 256, 40) 0           conv2d_1[0][0]                   \n",
      "__________________________________________________________________________________________________\n",
      "batch_normalization_1 (BatchNor (None, 500, 256, 40) 160         max_pooling2d_1[0][0]            \n",
      "__________________________________________________________________________________________________\n",
      "conv2d_2 (Conv2D)               (None, 500, 256, 40) 14440       batch_normalization_1[0][0]      \n",
      "__________________________________________________________________________________________________\n",
      "max_pooling2d_2 (MaxPooling2D)  (None, 250, 128, 40) 0           conv2d_2[0][0]                   \n",
      "__________________________________________________________________________________________________\n",
      "batch_normalization_2 (BatchNor (None, 250, 128, 40) 160         max_pooling2d_2[0][0]            \n",
      "__________________________________________________________________________________________________\n",
      "conv2d_3 (Conv2D)               (None, 250, 128, 40) 14440       batch_normalization_2[0][0]      \n",
      "__________________________________________________________________________________________________\n",
      "max_pooling2d_3 (MaxPooling2D)  (None, 125, 64, 40)  0           conv2d_3[0][0]                   \n",
      "__________________________________________________________________________________________________\n",
      "batch_normalization_3 (BatchNor (None, 125, 64, 40)  160         max_pooling2d_3[0][0]            \n",
      "__________________________________________________________________________________________________\n",
      "batch_normalization_4 (BatchNor (None, 125, 64, 40)  160         batch_normalization_3[0][0]      \n",
      "__________________________________________________________________________________________________\n",
      "conv2d_4 (Conv2D)               (None, 125, 64, 80)  9680        batch_normalization_4[0][0]      \n",
      "__________________________________________________________________________________________________\n",
      "max_pooling2d_4 (MaxPooling2D)  (None, 62, 32, 80)   0           conv2d_4[0][0]                   \n",
      "__________________________________________________________________________________________________\n",
      "dropout_1 (Dropout)             (None, 62, 32, 80)   0           max_pooling2d_4[0][0]            \n",
      "__________________________________________________________________________________________________\n",
      "batch_normalization_5 (BatchNor (None, 62, 32, 80)   320         dropout_1[0][0]                  \n",
      "__________________________________________________________________________________________________\n",
      "conv2d_5 (Conv2D)               (None, 62, 32, 80)   19280       batch_normalization_5[0][0]      \n",
      "__________________________________________________________________________________________________\n",
      "max_pooling2d_5 (MaxPooling2D)  (None, 31, 16, 80)   0           conv2d_5[0][0]                   \n",
      "__________________________________________________________________________________________________\n",
      "dropout_2 (Dropout)             (None, 31, 16, 80)   0           max_pooling2d_5[0][0]            \n",
      "__________________________________________________________________________________________________\n",
      "batch_normalization_6 (BatchNor (None, 31, 16, 80)   320         dropout_2[0][0]                  \n",
      "__________________________________________________________________________________________________\n",
      "conv2d_6 (Conv2D)               (None, 31, 16, 80)   19280       batch_normalization_6[0][0]      \n",
      "__________________________________________________________________________________________________\n",
      "max_pooling2d_6 (MaxPooling2D)  (None, 15, 8, 80)    0           conv2d_6[0][0]                   \n",
      "__________________________________________________________________________________________________\n",
      "dropout_3 (Dropout)             (None, 15, 8, 80)    0           max_pooling2d_6[0][0]            \n",
      "__________________________________________________________________________________________________\n",
      "dense_2 (Dense)                 (None, 15, 8, 30)    2430        dropout_3[0][0]                  \n",
      "__________________________________________________________________________________________________\n",
      "dropout_4 (Dropout)             (None, 15, 8, 30)    0           dense_2[0][0]                    \n",
      "__________________________________________________________________________________________________\n",
      "seizure (Dense)                 (None, 15, 8, 2)     62          dropout_4[0][0]                  \n",
      "__________________________________________________________________________________________________\n",
      "patientId (Dense)               (None, 15, 8, 246)   7626        dropout_4[0][0]                  \n",
      "==================================================================================================\n",
      "Total params: 100,182\n",
      "Trainable params: 99,542\n",
      "Non-trainable params: 640\n",
      "__________________________________________________________________________________________________\n"
     ]
    }
   ],
   "source": [
    "model.summary()"
   ]
  },
  {
   "cell_type": "code",
   "execution_count": 20,
   "metadata": {},
   "outputs": [],
   "source": [
    "model.compile(\"adam\", loss=[\"categorical_crossentropy\", \"categorical_crossentropy\"], metrics=[\"categorical_accuracy\"], loss_weights=[1,-1])"
   ]
  },
  {
   "cell_type": "code",
   "execution_count": 21,
   "metadata": {},
   "outputs": [],
   "source": [
    "from keras.callbacks import ModelCheckpoint, EarlyStopping\n",
    "mc = ModelCheckpoint(\"/home/ms994/multilabel.h5\", monitor=\"val_seizure_categorical_accuracy\", save_best_only=True, verbose=True)\n",
    "stopping = EarlyStopping(\"val_seizure_categorical_accuracy\", patience=50, verbose=True)"
   ]
  },
  {
   "cell_type": "code",
   "execution_count": null,
   "metadata": {},
   "outputs": [],
   "source": [
    "valid_batch = valid_edg[0]"
   ]
  },
  {
   "cell_type": "code",
   "execution_count": null,
   "metadata": {},
   "outputs": [],
   "source": [
    "valid_batch"
   ]
  },
  {
   "cell_type": "code",
   "execution_count": null,
   "metadata": {},
   "outputs": [],
   "source": [
    "edg.batch_size= 32"
   ]
  },
  {
   "cell_type": "code",
   "execution_count": 44,
   "metadata": {},
   "outputs": [
    {
     "name": "stdout",
     "output_type": "stream",
     "text": [
      "Epoch 1/100\n",
      "152/152 [==============================] - 176s 1s/step - loss: -13.2937 - seizure_loss: 2.0742 - patientId_loss: 15.3678 - seizure_categorical_accuracy: 0.6660 - patientId_categorical_accuracy: 0.0025 - val_loss: -11.3747 - val_seizure_loss: 1.8646 - val_patientId_loss: 13.2394 - val_seizure_categorical_accuracy: 0.5969 - val_patientId_categorical_accuracy: 0.0258\n",
      "\n",
      "Epoch 00001: val_seizure_categorical_accuracy improved from -inf to 0.59688, saving model to /home/ms994/multilabel.h5\n",
      "Epoch 2/100\n",
      "152/152 [==============================] - 162s 1s/step - loss: -14.7981 - seizure_loss: 1.1160 - patientId_loss: 15.9141 - seizure_categorical_accuracy: 0.7046 - patientId_categorical_accuracy: 6.1679e-04 - val_loss: -13.1635 - val_seizure_loss: 1.2240 - val_patientId_loss: 14.3875 - val_seizure_categorical_accuracy: 0.6181 - val_patientId_categorical_accuracy: 0.0035\n",
      "\n",
      "Epoch 00002: val_seizure_categorical_accuracy improved from 0.59688 to 0.61806, saving model to /home/ms994/multilabel.h5\n",
      "Epoch 3/100\n",
      "152/152 [==============================] - 165s 1s/step - loss: -15.2750 - seizure_loss: 0.7510 - patientId_loss: 16.0259 - seizure_categorical_accuracy: 0.7935 - patientId_categorical_accuracy: 6.1679e-04 - val_loss: -9.4895 - val_seizure_loss: 4.8829 - val_patientId_loss: 14.3725 - val_seizure_categorical_accuracy: 0.5098 - val_patientId_categorical_accuracy: 0.0601\n",
      "\n",
      "Epoch 00003: val_seizure_categorical_accuracy did not improve from 0.61806\n",
      "Epoch 4/100\n",
      "152/152 [==============================] - 165s 1s/step - loss: -15.3073 - seizure_loss: 0.7488 - patientId_loss: 16.0561 - seizure_categorical_accuracy: 0.8366 - patientId_categorical_accuracy: 6.1679e-04 - val_loss: -10.7645 - val_seizure_loss: 3.1336 - val_patientId_loss: 13.8980 - val_seizure_categorical_accuracy: 0.5066 - val_patientId_categorical_accuracy: 0.0502\n",
      "\n",
      "Epoch 00004: val_seizure_categorical_accuracy did not improve from 0.61806\n",
      "Epoch 5/100\n",
      " 37/152 [======>.......................] - ETA: 1:20 - loss: -15.5243 - seizure_loss: 0.5595 - patientId_loss: 16.0838 - seizure_categorical_accuracy: 0.8640 - patientId_categorical_accuracy: 8.4459e-04"
     ]
    },
    {
     "name": "stderr",
     "output_type": "stream",
     "text": [
      "Process ForkPoolWorker-236:\n",
      "Process ForkPoolWorker-237:\n",
      "Process ForkPoolWorker-238:\n",
      "Process ForkPoolWorker-230:\n",
      "Process ForkPoolWorker-231:\n",
      "Process ForkPoolWorker-229:\n",
      "Process ForkPoolWorker-227:\n",
      "Process ForkPoolWorker-225:\n",
      "Process ForkPoolWorker-228:\n",
      "Process ForkPoolWorker-232:\n",
      "Process ForkPoolWorker-226:\n",
      "Process ForkPoolWorker-233:\n",
      "Process ForkPoolWorker-234:\n",
      "Traceback (most recent call last):\n",
      "Traceback (most recent call last):\n",
      "Traceback (most recent call last):\n",
      "Traceback (most recent call last):\n",
      "Traceback (most recent call last):\n",
      "  File \"/home/ms994/miniconda3/envs/keras-redo/lib/python3.7/multiprocessing/process.py\", line 297, in _bootstrap\n",
      "    self.run()\n",
      "Traceback (most recent call last):\n",
      "  File \"/home/ms994/miniconda3/envs/keras-redo/lib/python3.7/multiprocessing/process.py\", line 297, in _bootstrap\n",
      "    self.run()\n",
      "  File \"/home/ms994/miniconda3/envs/keras-redo/lib/python3.7/multiprocessing/process.py\", line 297, in _bootstrap\n",
      "    self.run()\n",
      "  File \"/home/ms994/miniconda3/envs/keras-redo/lib/python3.7/multiprocessing/process.py\", line 297, in _bootstrap\n",
      "    self.run()\n",
      "  File \"/home/ms994/miniconda3/envs/keras-redo/lib/python3.7/multiprocessing/process.py\", line 99, in run\n",
      "    self._target(*self._args, **self._kwargs)\n",
      "  File \"/home/ms994/miniconda3/envs/keras-redo/lib/python3.7/multiprocessing/process.py\", line 99, in run\n",
      "    self._target(*self._args, **self._kwargs)\n",
      "  File \"/home/ms994/miniconda3/envs/keras-redo/lib/python3.7/multiprocessing/process.py\", line 99, in run\n",
      "    self._target(*self._args, **self._kwargs)\n",
      "  File \"/home/ms994/miniconda3/envs/keras-redo/lib/python3.7/multiprocessing/process.py\", line 297, in _bootstrap\n",
      "    self.run()\n",
      "  File \"/home/ms994/miniconda3/envs/keras-redo/lib/python3.7/multiprocessing/pool.py\", line 110, in worker\n",
      "    task = get()\n",
      "  File \"/home/ms994/miniconda3/envs/keras-redo/lib/python3.7/multiprocessing/pool.py\", line 110, in worker\n",
      "    task = get()\n",
      "  File \"/home/ms994/miniconda3/envs/keras-redo/lib/python3.7/multiprocessing/process.py\", line 99, in run\n",
      "    self._target(*self._args, **self._kwargs)\n",
      "  File \"/home/ms994/miniconda3/envs/keras-redo/lib/python3.7/multiprocessing/pool.py\", line 110, in worker\n",
      "    task = get()\n",
      "  File \"/home/ms994/miniconda3/envs/keras-redo/lib/python3.7/multiprocessing/pool.py\", line 110, in worker\n",
      "    task = get()\n",
      "  File \"/home/ms994/miniconda3/envs/keras-redo/lib/python3.7/multiprocessing/queues.py\", line 351, in get\n",
      "    with self._rlock:\n",
      "  File \"/home/ms994/miniconda3/envs/keras-redo/lib/python3.7/multiprocessing/queues.py\", line 351, in get\n",
      "    with self._rlock:\n",
      "  File \"/home/ms994/miniconda3/envs/keras-redo/lib/python3.7/multiprocessing/queues.py\", line 352, in get\n",
      "    res = self._reader.recv_bytes()\n",
      "  File \"/home/ms994/miniconda3/envs/keras-redo/lib/python3.7/multiprocessing/synchronize.py\", line 95, in __enter__\n",
      "    return self._semlock.__enter__()\n",
      "  File \"/home/ms994/miniconda3/envs/keras-redo/lib/python3.7/multiprocessing/process.py\", line 99, in run\n",
      "    self._target(*self._args, **self._kwargs)\n",
      "  File \"/home/ms994/miniconda3/envs/keras-redo/lib/python3.7/multiprocessing/queues.py\", line 351, in get\n",
      "    with self._rlock:\n",
      "  File \"/home/ms994/miniconda3/envs/keras-redo/lib/python3.7/multiprocessing/connection.py\", line 216, in recv_bytes\n",
      "    buf = self._recv_bytes(maxlength)\n",
      "  File \"/home/ms994/miniconda3/envs/keras-redo/lib/python3.7/multiprocessing/synchronize.py\", line 95, in __enter__\n",
      "    return self._semlock.__enter__()\n",
      "KeyboardInterrupt\n",
      "  File \"/home/ms994/miniconda3/envs/keras-redo/lib/python3.7/multiprocessing/pool.py\", line 110, in worker\n",
      "    task = get()\n",
      "Process ForkPoolWorker-235:\n",
      "  File \"/home/ms994/miniconda3/envs/keras-redo/lib/python3.7/multiprocessing/connection.py\", line 407, in _recv_bytes\n",
      "    buf = self._recv(4)\n",
      "Traceback (most recent call last):\n",
      "  File \"/home/ms994/miniconda3/envs/keras-redo/lib/python3.7/multiprocessing/queues.py\", line 351, in get\n",
      "    with self._rlock:\n",
      "KeyboardInterrupt\n",
      "Traceback (most recent call last):\n",
      "  File \"/home/ms994/miniconda3/envs/keras-redo/lib/python3.7/multiprocessing/synchronize.py\", line 95, in __enter__\n",
      "    return self._semlock.__enter__()\n",
      "  File \"/home/ms994/miniconda3/envs/keras-redo/lib/python3.7/multiprocessing/process.py\", line 297, in _bootstrap\n",
      "    self.run()\n",
      "  File \"/home/ms994/miniconda3/envs/keras-redo/lib/python3.7/multiprocessing/process.py\", line 297, in _bootstrap\n",
      "    self.run()\n",
      "KeyboardInterrupt\n",
      "Traceback (most recent call last):\n",
      "  File \"/home/ms994/miniconda3/envs/keras-redo/lib/python3.7/multiprocessing/synchronize.py\", line 95, in __enter__\n",
      "    return self._semlock.__enter__()\n",
      "Traceback (most recent call last):\n",
      "  File \"/home/ms994/miniconda3/envs/keras-redo/lib/python3.7/multiprocessing/process.py\", line 99, in run\n",
      "    self._target(*self._args, **self._kwargs)\n",
      "  File \"/home/ms994/miniconda3/envs/keras-redo/lib/python3.7/multiprocessing/process.py\", line 297, in _bootstrap\n",
      "    self.run()\n",
      "KeyboardInterrupt\n",
      "  File \"/home/ms994/miniconda3/envs/keras-redo/lib/python3.7/multiprocessing/process.py\", line 297, in _bootstrap\n",
      "    self.run()\n",
      "  File \"/home/ms994/miniconda3/envs/keras-redo/lib/python3.7/multiprocessing/connection.py\", line 379, in _recv\n",
      "    chunk = read(handle, remaining)\n",
      "Traceback (most recent call last):\n",
      "Traceback (most recent call last):\n",
      "  File \"/home/ms994/miniconda3/envs/keras-redo/lib/python3.7/multiprocessing/process.py\", line 297, in _bootstrap\n",
      "    self.run()\n",
      "  File \"/home/ms994/miniconda3/envs/keras-redo/lib/python3.7/multiprocessing/pool.py\", line 110, in worker\n",
      "    task = get()\n",
      "Traceback (most recent call last):\n",
      "  File \"/home/ms994/miniconda3/envs/keras-redo/lib/python3.7/multiprocessing/process.py\", line 297, in _bootstrap\n",
      "    self.run()\n",
      "  File \"/home/ms994/miniconda3/envs/keras-redo/lib/python3.7/multiprocessing/process.py\", line 99, in run\n",
      "    self._target(*self._args, **self._kwargs)\n",
      "  File \"/home/ms994/miniconda3/envs/keras-redo/lib/python3.7/multiprocessing/process.py\", line 99, in run\n",
      "    self._target(*self._args, **self._kwargs)\n",
      "Traceback (most recent call last):\n",
      "  File \"/home/ms994/miniconda3/envs/keras-redo/lib/python3.7/multiprocessing/pool.py\", line 110, in worker\n",
      "    task = get()\n",
      "  File \"/home/ms994/miniconda3/envs/keras-redo/lib/python3.7/multiprocessing/process.py\", line 99, in run\n",
      "    self._target(*self._args, **self._kwargs)\n",
      "  File \"/home/ms994/miniconda3/envs/keras-redo/lib/python3.7/multiprocessing/queues.py\", line 351, in get\n",
      "    with self._rlock:\n",
      "  File \"/home/ms994/miniconda3/envs/keras-redo/lib/python3.7/multiprocessing/pool.py\", line 121, in worker\n",
      "    result = (True, func(*args, **kwds))\n",
      "  File \"/home/ms994/miniconda3/envs/keras-redo/lib/python3.7/multiprocessing/pool.py\", line 121, in worker\n",
      "    result = (True, func(*args, **kwds))\n",
      "  File \"/home/ms994/miniconda3/envs/keras-redo/lib/python3.7/multiprocessing/process.py\", line 297, in _bootstrap\n",
      "    self.run()\n",
      "  File \"/home/ms994/miniconda3/envs/keras-redo/lib/python3.7/multiprocessing/process.py\", line 297, in _bootstrap\n",
      "    self.run()\n",
      "  File \"/home/ms994/miniconda3/envs/keras-redo/lib/python3.7/site-packages/keras/utils/data_utils.py\", line 401, in get_index\n",
      "    return _SHARED_SEQUENCES[uid][i]\n",
      "  File \"/home/ms994/miniconda3/envs/keras-redo/lib/python3.7/multiprocessing/process.py\", line 99, in run\n",
      "    self._target(*self._args, **self._kwargs)\n",
      "  File \"/home/ms994/miniconda3/envs/keras-redo/lib/python3.7/multiprocessing/synchronize.py\", line 95, in __enter__\n",
      "    return self._semlock.__enter__()\n",
      "  File \"/home/ms994/miniconda3/envs/keras-redo/lib/python3.7/multiprocessing/process.py\", line 297, in _bootstrap\n",
      "    self.run()\n",
      "KeyboardInterrupt\n",
      "  File \"/home/ms994/miniconda3/envs/keras-redo/lib/python3.7/multiprocessing/queues.py\", line 351, in get\n",
      "    with self._rlock:\n",
      "KeyboardInterrupt\n",
      "  File \"/home/ms994/miniconda3/envs/keras-redo/lib/python3.7/multiprocessing/process.py\", line 99, in run\n",
      "    self._target(*self._args, **self._kwargs)\n",
      "  File \"/home/ms994/miniconda3/envs/keras-redo/lib/python3.7/site-packages/keras/utils/data_utils.py\", line 401, in get_index\n",
      "    return _SHARED_SEQUENCES[uid][i]\n",
      "  File \"/home/ms994/miniconda3/envs/keras-redo/lib/python3.7/multiprocessing/process.py\", line 99, in run\n",
      "    self._target(*self._args, **self._kwargs)\n"
     ]
    },
    {
     "name": "stderr",
     "output_type": "stream",
     "text": [
      "  File \"/home/ms994/miniconda3/envs/keras-redo/lib/python3.7/multiprocessing/process.py\", line 99, in run\n",
      "    self._target(*self._args, **self._kwargs)\n",
      "  File \"/home/ms994/dbmi_eeg_clustering/keras_models/dataGen.py\", line 250, in __getitem__\n",
      "    X, y = self.__data_generation(list_IDs_temp)\n",
      "  File \"/home/ms994/miniconda3/envs/keras-redo/lib/python3.7/multiprocessing/pool.py\", line 121, in worker\n",
      "    result = (True, func(*args, **kwds))\n",
      "  File \"/home/ms994/dbmi_eeg_clustering/keras_models/dataGen.py\", line 250, in __getitem__\n",
      "    X, y = self.__data_generation(list_IDs_temp)\n",
      "  File \"/home/ms994/miniconda3/envs/keras-redo/lib/python3.7/multiprocessing/pool.py\", line 121, in worker\n",
      "    result = (True, func(*args, **kwds))\n",
      "  File \"/home/ms994/miniconda3/envs/keras-redo/lib/python3.7/multiprocessing/synchronize.py\", line 95, in __enter__\n",
      "    return self._semlock.__enter__()\n",
      "  File \"/home/ms994/dbmi_eeg_clustering/keras_models/dataGen.py\", line 291, in __data_generation\n",
      "    x, labels = self.get_x_y(list_IDs_temp)\n",
      "KeyboardInterrupt\n",
      "  File \"/home/ms994/miniconda3/envs/keras-redo/lib/python3.7/multiprocessing/pool.py\", line 121, in worker\n",
      "    result = (True, func(*args, **kwds))\n",
      "  File \"/home/ms994/miniconda3/envs/keras-redo/lib/python3.7/site-packages/keras/utils/data_utils.py\", line 401, in get_index\n",
      "    return _SHARED_SEQUENCES[uid][i]\n",
      "  File \"/home/ms994/dbmi_eeg_clustering/keras_models/dataGen.py\", line 250, in __getitem__\n",
      "    X, y = self.__data_generation(list_IDs_temp)\n",
      "  File \"/home/ms994/dbmi_eeg_clustering/keras_models/dataGen.py\", line 291, in __data_generation\n",
      "    x, labels = self.get_x_y(list_IDs_temp)\n",
      "  File \"/home/ms994/dbmi_eeg_clustering/keras_models/dataGen.py\", line 273, in get_x_y\n",
      "    data = [self.dataset[j] for j in i]\n",
      "  File \"/home/ms994/dbmi_eeg_clustering/keras_models/dataGen.py\", line 291, in __data_generation\n",
      "    x, labels = self.get_x_y(list_IDs_temp)\n",
      "  File \"/home/ms994/dbmi_eeg_clustering/keras_models/dataGen.py\", line 273, in get_x_y\n",
      "    data = [self.dataset[j] for j in i]\n",
      "  File \"/home/ms994/miniconda3/envs/keras-redo/lib/python3.7/site-packages/keras/utils/data_utils.py\", line 401, in get_index\n",
      "    return _SHARED_SEQUENCES[uid][i]\n",
      "  File \"/home/ms994/miniconda3/envs/keras-redo/lib/python3.7/site-packages/keras/utils/data_utils.py\", line 401, in get_index\n",
      "    return _SHARED_SEQUENCES[uid][i]\n",
      "  File \"/home/ms994/dbmi_eeg_clustering/keras_models/dataGen.py\", line 273, in get_x_y\n",
      "    data = [self.dataset[j] for j in i]\n",
      "  File \"/home/ms994/dbmi_eeg_clustering/keras_models/dataGen.py\", line 250, in __getitem__\n",
      "    X, y = self.__data_generation(list_IDs_temp)\n",
      "  File \"/home/ms994/dbmi_eeg_clustering/keras_models/dataGen.py\", line 291, in __data_generation\n",
      "    x, labels = self.get_x_y(list_IDs_temp)\n",
      "  File \"/home/ms994/dbmi_eeg_clustering/keras_models/dataGen.py\", line 273, in get_x_y\n",
      "    data = [self.dataset[j] for j in i]\n",
      "  File \"/home/ms994/dbmi_eeg_clustering/keras_models/dataGen.py\", line 273, in <listcomp>\n",
      "    data = [self.dataset[j] for j in i]\n",
      "  File \"/home/ms994/dbmi_eeg_clustering/keras_models/dataGen.py\", line 250, in __getitem__\n",
      "    X, y = self.__data_generation(list_IDs_temp)\n",
      "  File \"/home/ms994/miniconda3/envs/keras-redo/lib/python3.7/multiprocessing/pool.py\", line 121, in worker\n",
      "    result = (True, func(*args, **kwds))\n",
      "  File \"/home/ms994/dbmi_eeg_clustering/keras_models/dataGen.py\", line 291, in __data_generation\n",
      "    x, labels = self.get_x_y(list_IDs_temp)\n",
      "  File \"/home/ms994/dbmi_eeg_clustering/ensembleReader.py\", line 282, in __getitem__\n",
      "    max_length=self.gap)\n",
      "  File \"/home/ms994/miniconda3/envs/keras-redo/lib/python3.7/site-packages/keras/utils/data_utils.py\", line 401, in get_index\n",
      "    return _SHARED_SEQUENCES[uid][i]\n",
      "  File \"/home/ms994/dbmi_eeg_clustering/data_reader.py\", line 643, in edf_eeg_2_df\n",
      "    data = pd.concat(all_channels, axis=1)\n",
      "  File \"/home/ms994/dbmi_eeg_clustering/keras_models/dataGen.py\", line 250, in __getitem__\n",
      "    X, y = self.__data_generation(list_IDs_temp)\n",
      "  File \"/home/ms994/miniconda3/envs/keras-redo/lib/python3.7/site-packages/pandas/core/reshape/concat.py\", line 229, in concat\n",
      "    return op.get_result()\n",
      "  File \"/home/ms994/miniconda3/envs/keras-redo/lib/python3.7/site-packages/pandas/core/reshape/concat.py\", line 403, in get_result\n",
      "    df = cons(data, index=index)\n",
      "  File \"/home/ms994/dbmi_eeg_clustering/keras_models/dataGen.py\", line 291, in __data_generation\n",
      "    x, labels = self.get_x_y(list_IDs_temp)\n",
      "  File \"/home/ms994/dbmi_eeg_clustering/keras_models/dataGen.py\", line 273, in get_x_y\n",
      "    data = [self.dataset[j] for j in i]\n",
      "  File \"/home/ms994/dbmi_eeg_clustering/keras_models/dataGen.py\", line 273, in <listcomp>\n",
      "    data = [self.dataset[j] for j in i]\n",
      "  File \"/home/ms994/dbmi_eeg_clustering/ensembleReader.py\", line 282, in __getitem__\n",
      "    max_length=self.gap)\n",
      "  File \"/home/ms994/dbmi_eeg_clustering/data_reader.py\", line 640, in edf_eeg_2_df\n",
      "    name=channel_name\n",
      "  File \"/home/ms994/miniconda3/envs/keras-redo/lib/python3.7/site-packages/pandas/core/series.py\", line 264, in __init__\n",
      "    data = SingleBlockManager(data, index, fastpath=True)\n",
      "  File \"/home/ms994/miniconda3/envs/keras-redo/lib/python3.7/site-packages/pandas/core/internals/managers.py\", line 1481, in __init__\n",
      "    block = make_block(block, placement=slice(0, len(axis)), ndim=1)\n",
      "  File \"/home/ms994/dbmi_eeg_clustering/keras_models/dataGen.py\", line 273, in <listcomp>\n",
      "    data = [self.dataset[j] for j in i]\n",
      "  File \"/home/ms994/dbmi_eeg_clustering/ensembleReader.py\", line 282, in __getitem__\n",
      "    max_length=self.gap)\n",
      "  File \"/home/ms994/dbmi_eeg_clustering/data_reader.py\", line 620, in edf_eeg_2_df\n",
      "    start_count_native_freq = start/pd.Timedelta(seconds=1/sample_rates[i])\n",
      "KeyboardInterrupt\n",
      "  File \"/home/ms994/miniconda3/envs/keras-redo/lib/python3.7/site-packages/pandas/core/internals/blocks.py\", line 3088, in make_block\n",
      "    klass = get_block_type(values, dtype)\n",
      "  File \"/home/ms994/dbmi_eeg_clustering/keras_models/dataGen.py\", line 273, in <listcomp>\n",
      "    data = [self.dataset[j] for j in i]\n",
      "  File \"/home/ms994/dbmi_eeg_clustering/keras_models/dataGen.py\", line 273, in get_x_y\n",
      "    data = [self.dataset[j] for j in i]\n",
      "  File \"/home/ms994/miniconda3/envs/keras-redo/lib/python3.7/site-packages/pandas/core/frame.py\", line 392, in __init__\n",
      "    mgr = init_dict(data, index, columns, dtype=dtype)\n",
      "  File \"/home/ms994/miniconda3/envs/keras-redo/lib/python3.7/site-packages/pandas/core/internals/blocks.py\", line 3053, in get_block_type\n",
      "    elif is_categorical(values):\n",
      "  File \"/home/ms994/dbmi_eeg_clustering/keras_models/dataGen.py\", line 273, in <listcomp>\n",
      "    data = [self.dataset[j] for j in i]\n",
      "  File \"/home/ms994/dbmi_eeg_clustering/ensembleReader.py\", line 296, in __getitem__\n",
      "    axis=0)\n",
      "  File \"/home/ms994/dbmi_eeg_clustering/keras_models/dataGen.py\", line 273, in <listcomp>\n",
      "    data = [self.dataset[j] for j in i]\n",
      "  File \"/home/ms994/dbmi_eeg_clustering/ensembleReader.py\", line 296, in __getitem__\n",
      "    axis=0)\n",
      "  File \"/home/ms994/miniconda3/envs/keras-redo/lib/python3.7/site-packages/pandas/core/dtypes/common.py\", line 262, in is_categorical\n",
      "    def is_categorical(arr):\n",
      "  File \"/home/ms994/dbmi_eeg_clustering/ensembleReader.py\", line 282, in __getitem__\n",
      "    max_length=self.gap)\n",
      "  File \"/home/ms994/dbmi_eeg_clustering/data_reader.py\", line 643, in edf_eeg_2_df\n",
      "    data = pd.concat(all_channels, axis=1)\n",
      "  File \"/home/ms994/miniconda3/envs/keras-redo/lib/python3.7/site-packages/pandas/core/reshape/concat.py\", line 229, in concat\n",
      "    return op.get_result()\n",
      "  File \"/home/ms994/miniconda3/envs/keras-redo/lib/python3.7/site-packages/pandas/core/reshape/concat.py\", line 403, in get_result\n",
      "    df = cons(data, index=index)\n",
      "  File \"/home/ms994/miniconda3/envs/keras-redo/lib/python3.7/site-packages/pandas/core/frame.py\", line 392, in __init__\n",
      "    mgr = init_dict(data, index, columns, dtype=dtype)\n",
      "  File \"/home/ms994/miniconda3/envs/keras-redo/lib/python3.7/site-packages/pandas/core/internals/construction.py\", line 212, in init_dict\n",
      "    return arrays_to_mgr(arrays, data_names, index, columns, dtype=dtype)\n",
      "  File \"/home/ms994/miniconda3/envs/keras-redo/lib/python3.7/site-packages/pandas/core/internals/construction.py\", line 56, in arrays_to_mgr\n",
      "    arrays = _homogenize(arrays, index, dtype)\n"
     ]
    },
    {
     "name": "stderr",
     "output_type": "stream",
     "text": [
      "  File \"/home/ms994/miniconda3/envs/keras-redo/lib/python3.7/site-packages/pandas/core/internals/construction.py\", line 265, in _homogenize\n",
      "    val = val.reindex(index, copy=False)\n",
      "  File \"/home/ms994/miniconda3/envs/keras-redo/lib/python3.7/site-packages/pandas/core/frame.py\", line 6487, in apply\n",
      "    return op.get_result()\n",
      "  File \"/home/ms994/miniconda3/envs/keras-redo/lib/python3.7/site-packages/pandas/core/frame.py\", line 6487, in apply\n",
      "    return op.get_result()\n",
      "KeyboardInterrupt\n",
      "  File \"/home/ms994/miniconda3/envs/keras-redo/lib/python3.7/site-packages/pandas/core/apply.py\", line 151, in get_result\n",
      "    return self.apply_standard()\n",
      "  File \"/home/ms994/miniconda3/envs/keras-redo/lib/python3.7/site-packages/pandas/core/apply.py\", line 151, in get_result\n",
      "    return self.apply_standard()\n",
      "  File \"/home/ms994/miniconda3/envs/keras-redo/lib/python3.7/site-packages/pandas/core/apply.py\", line 257, in apply_standard\n",
      "    self.apply_series_generator()\n",
      "  File \"/home/ms994/miniconda3/envs/keras-redo/lib/python3.7/site-packages/pandas/core/apply.py\", line 286, in apply_series_generator\n",
      "    results[i] = self.f(v)\n",
      "  File \"/home/ms994/dbmi_eeg_clustering/ensembleReader.py\", line 293, in <lambda>\n",
      "    seconds=1) /\n",
      "KeyboardInterrupt\n",
      "  File \"/home/ms994/miniconda3/envs/keras-redo/lib/python3.7/site-packages/pandas/core/internals/construction.py\", line 212, in init_dict\n",
      "    return arrays_to_mgr(arrays, data_names, index, columns, dtype=dtype)\n",
      "  File \"/home/ms994/miniconda3/envs/keras-redo/lib/python3.7/site-packages/pandas/core/series.py\", line 3738, in reindex\n",
      "    return super(Series, self).reindex(index=index, **kwargs)\n",
      "  File \"/home/ms994/miniconda3/envs/keras-redo/lib/python3.7/site-packages/pandas/core/generic.py\", line 4356, in reindex\n",
      "    fill_value, copy).__finalize__(self)\n",
      "  File \"/home/ms994/miniconda3/envs/keras-redo/lib/python3.7/multiprocessing/process.py\", line 99, in run\n",
      "    self._target(*self._args, **self._kwargs)\n",
      "  File \"/home/ms994/miniconda3/envs/keras-redo/lib/python3.7/site-packages/pandas/core/generic.py\", line 4374, in _reindex_axes\n",
      "    copy=copy, allow_dups=False)\n",
      "  File \"/home/ms994/miniconda3/envs/keras-redo/lib/python3.7/site-packages/pandas/core/generic.py\", line 4490, in _reindex_with_indexers\n",
      "    copy=copy)\n",
      "  File \"/home/ms994/miniconda3/envs/keras-redo/lib/python3.7/site-packages/pandas/core/internals/managers.py\", line 1231, in reindex_indexer\n",
      "    fill_tuple=(fill_value,))\n",
      "  File \"/home/ms994/miniconda3/envs/keras-redo/lib/python3.7/site-packages/pandas/core/internals/managers.py\", line 1256, in _slice_take_blocks_ax0\n",
      "    slice_or_indexer, self.shape[0], allow_fill=allow_fill)\n",
      "  File \"/home/ms994/miniconda3/envs/keras-redo/lib/python3.7/site-packages/pandas/core/internals/managers.py\", line 2023, in _preprocess_slice_or_indexer\n",
      "    indexer = np.asanyarray(slice_or_indexer, dtype=np.int64)\n",
      "  File \"/home/ms994/miniconda3/envs/keras-redo/lib/python3.7/site-packages/numpy/core/numeric.py\", line 591, in asanyarray\n",
      "    return array(a, dtype, copy=False, order=order, subok=True)\n",
      "KeyboardInterrupt\n",
      "  File \"/home/ms994/miniconda3/envs/keras-redo/lib/python3.7/site-packages/pandas/core/internals/construction.py\", line 56, in arrays_to_mgr\n",
      "    arrays = _homogenize(arrays, index, dtype)\n",
      "  File \"/home/ms994/miniconda3/envs/keras-redo/lib/python3.7/site-packages/pandas/core/apply.py\", line 257, in apply_standard\n",
      "    self.apply_series_generator()\n",
      "  File \"/home/ms994/dbmi_eeg_clustering/wf_analysis/filters.py\", line 15, in butter_bandpass_filter\n",
      "    b, a = butter_bandpass(lowcut, highcut, fs, order=order)\n",
      "  File \"/home/ms994/miniconda3/envs/keras-redo/lib/python3.7/site-packages/pandas/core/apply.py\", line 286, in apply_series_generator\n",
      "    results[i] = self.f(v)\n",
      "KeyboardInterrupt\n",
      "  File \"/home/ms994/miniconda3/envs/keras-redo/lib/python3.7/multiprocessing/pool.py\", line 121, in worker\n",
      "    result = (True, func(*args, **kwds))\n",
      "  File \"/home/ms994/miniconda3/envs/keras-redo/lib/python3.7/site-packages/pandas/core/internals/construction.py\", line 265, in _homogenize\n",
      "    val = val.reindex(index, copy=False)\n",
      "  File \"/home/ms994/miniconda3/envs/keras-redo/lib/python3.7/site-packages/keras/utils/data_utils.py\", line 401, in get_index\n",
      "    return _SHARED_SEQUENCES[uid][i]\n",
      "  File \"/home/ms994/miniconda3/envs/keras-redo/lib/python3.7/site-packages/pandas/core/series.py\", line 3738, in reindex\n",
      "    return super(Series, self).reindex(index=index, **kwargs)\n",
      "  File \"/home/ms994/dbmi_eeg_clustering/keras_models/dataGen.py\", line 250, in __getitem__\n",
      "    X, y = self.__data_generation(list_IDs_temp)\n",
      "  File \"/home/ms994/dbmi_eeg_clustering/ensembleReader.py\", line 295, in <lambda>\n",
      "    order=self.order_filt),\n",
      "  File \"/home/ms994/miniconda3/envs/keras-redo/lib/python3.7/site-packages/pandas/core/generic.py\", line 4356, in reindex\n",
      "    fill_value, copy).__finalize__(self)\n",
      "  File \"/home/ms994/dbmi_eeg_clustering/keras_models/dataGen.py\", line 291, in __data_generation\n",
      "    x, labels = self.get_x_y(list_IDs_temp)\n",
      "  File \"/home/ms994/miniconda3/envs/keras-redo/lib/python3.7/site-packages/pandas/core/generic.py\", line 4374, in _reindex_axes\n",
      "    copy=copy, allow_dups=False)\n",
      "  File \"/home/ms994/dbmi_eeg_clustering/keras_models/dataGen.py\", line 273, in get_x_y\n",
      "    data = [self.dataset[j] for j in i]\n",
      "  File \"/home/ms994/dbmi_eeg_clustering/keras_models/dataGen.py\", line 273, in <listcomp>\n",
      "    data = [self.dataset[j] for j in i]\n",
      "  File \"/home/ms994/dbmi_eeg_clustering/wf_analysis/filters.py\", line 10, in butter_bandpass\n",
      "    b, a = butter(order, [low, high], btype='band')\n",
      "  File \"/home/ms994/miniconda3/envs/keras-redo/lib/python3.7/site-packages/scipy/signal/filter_design.py\", line 2591, in butter\n",
      "    output=output, ftype='butter', fs=fs)\n",
      "  File \"/home/ms994/miniconda3/envs/keras-redo/lib/python3.7/site-packages/scipy/signal/filter_design.py\", line 2129, in iirfilter\n",
      "    return zpk2tf(z, p, k)\n",
      "  File \"/home/ms994/miniconda3/envs/keras-redo/lib/python3.7/site-packages/pandas/core/generic.py\", line 4495, in _reindex_with_indexers\n",
      "    return self._constructor(new_data).__finalize__(self)\n",
      "  File \"/home/ms994/dbmi_eeg_clustering/ensembleReader.py\", line 282, in __getitem__\n",
      "    max_length=self.gap)\n",
      "  File \"/home/ms994/miniconda3/envs/keras-redo/lib/python3.7/site-packages/scipy/signal/filter_design.py\", line 1106, in zpk2tf\n",
      "    a = atleast_1d(poly(p))\n",
      "  File \"/home/ms994/dbmi_eeg_clustering/data_reader.py\", line 638, in edf_eeg_2_df\n",
      "    periods=len(signal_data)\n",
      "  File \"/home/ms994/miniconda3/envs/keras-redo/lib/python3.7/site-packages/pandas/core/series.py\", line 152, in __init__\n",
      "    def __init__(self, data=None, index=None, dtype=None, name=None,\n",
      "  File \"/home/ms994/miniconda3/envs/keras-redo/lib/python3.7/site-packages/numpy/lib/polynomial.py\", line 143, in poly\n",
      "    seq_of_zeros = seq_of_zeros.astype(mintypecode(dt.char))\n",
      "  File \"/home/ms994/miniconda3/envs/keras-redo/lib/python3.7/site-packages/pandas/core/indexes/datetimes.py\", line 1524, in date_range\n",
      "    closed=closed, **kwargs)\n",
      "  File \"/home/ms994/miniconda3/envs/keras-redo/lib/python3.7/site-packages/numpy/lib/type_check.py\", line 79, in mintypecode\n",
      "    l.sort()\n",
      "KeyboardInterrupt\n",
      "  File \"/home/ms994/miniconda3/envs/keras-redo/lib/python3.7/site-packages/pandas/core/arrays/datetimes.py\", line 448, in _generate_range\n",
      "    values, _tz = generate_regular_range(start, end, periods, freq)\n",
      "KeyboardInterrupt\n",
      "  File \"/home/ms994/miniconda3/envs/keras-redo/lib/python3.7/site-packages/pandas/core/arrays/_ranges.py\", line 60, in generate_regular_range\n",
      "    values = np.arange(b, e, stride, dtype=np.int64)\n"
     ]
    },
    {
     "ename": "KeyboardInterrupt",
     "evalue": "",
     "output_type": "error",
     "traceback": [
      "\u001b[0;31m---------------------------------------------------------------------------\u001b[0m",
      "\u001b[0;31mKeyboardInterrupt\u001b[0m                         Traceback (most recent call last)",
      "\u001b[0;32m<ipython-input-44-a14006db6bdc>\u001b[0m in \u001b[0;36m<module>\u001b[0;34m\u001b[0m\n\u001b[0;32m----> 1\u001b[0;31m \u001b[0mmulti_label_history\u001b[0m \u001b[0;34m=\u001b[0m \u001b[0mmodel\u001b[0m\u001b[0;34m.\u001b[0m\u001b[0mfit_generator\u001b[0m\u001b[0;34m(\u001b[0m\u001b[0medg\u001b[0m\u001b[0;34m,\u001b[0m \u001b[0mvalidation_data\u001b[0m\u001b[0;34m=\u001b[0m\u001b[0mvalidEdg\u001b[0m\u001b[0;34m,\u001b[0m \u001b[0muse_multiprocessing\u001b[0m\u001b[0;34m=\u001b[0m\u001b[0;32mTrue\u001b[0m\u001b[0;34m,\u001b[0m \u001b[0mmax_queue_size\u001b[0m\u001b[0;34m=\u001b[0m\u001b[0;36m500000\u001b[0m\u001b[0;34m,\u001b[0m \u001b[0mworkers\u001b[0m\u001b[0;34m=\u001b[0m\u001b[0;36m7\u001b[0m\u001b[0;34m,\u001b[0m \u001b[0mepochs\u001b[0m\u001b[0;34m=\u001b[0m\u001b[0;36m100\u001b[0m\u001b[0;34m,\u001b[0m \u001b[0mcallbacks\u001b[0m\u001b[0;34m=\u001b[0m\u001b[0;34m[\u001b[0m\u001b[0mmc\u001b[0m\u001b[0;34m,\u001b[0m \u001b[0mstopping\u001b[0m\u001b[0;34m]\u001b[0m\u001b[0;34m)\u001b[0m\u001b[0;34m\u001b[0m\u001b[0;34m\u001b[0m\u001b[0m\n\u001b[0m",
      "\u001b[0;32m~/miniconda3/envs/keras-redo/lib/python3.7/site-packages/keras/legacy/interfaces.py\u001b[0m in \u001b[0;36mwrapper\u001b[0;34m(*args, **kwargs)\u001b[0m\n\u001b[1;32m     89\u001b[0m                 warnings.warn('Update your `' + object_name + '` call to the ' +\n\u001b[1;32m     90\u001b[0m                               'Keras 2 API: ' + signature, stacklevel=2)\n\u001b[0;32m---> 91\u001b[0;31m             \u001b[0;32mreturn\u001b[0m \u001b[0mfunc\u001b[0m\u001b[0;34m(\u001b[0m\u001b[0;34m*\u001b[0m\u001b[0margs\u001b[0m\u001b[0;34m,\u001b[0m \u001b[0;34m**\u001b[0m\u001b[0mkwargs\u001b[0m\u001b[0;34m)\u001b[0m\u001b[0;34m\u001b[0m\u001b[0;34m\u001b[0m\u001b[0m\n\u001b[0m\u001b[1;32m     92\u001b[0m         \u001b[0mwrapper\u001b[0m\u001b[0;34m.\u001b[0m\u001b[0m_original_function\u001b[0m \u001b[0;34m=\u001b[0m \u001b[0mfunc\u001b[0m\u001b[0;34m\u001b[0m\u001b[0;34m\u001b[0m\u001b[0m\n\u001b[1;32m     93\u001b[0m         \u001b[0;32mreturn\u001b[0m \u001b[0mwrapper\u001b[0m\u001b[0;34m\u001b[0m\u001b[0;34m\u001b[0m\u001b[0m\n",
      "\u001b[0;32m~/miniconda3/envs/keras-redo/lib/python3.7/site-packages/keras/engine/training.py\u001b[0m in \u001b[0;36mfit_generator\u001b[0;34m(self, generator, steps_per_epoch, epochs, verbose, callbacks, validation_data, validation_steps, class_weight, max_queue_size, workers, use_multiprocessing, shuffle, initial_epoch)\u001b[0m\n\u001b[1;32m   1416\u001b[0m             \u001b[0muse_multiprocessing\u001b[0m\u001b[0;34m=\u001b[0m\u001b[0muse_multiprocessing\u001b[0m\u001b[0;34m,\u001b[0m\u001b[0;34m\u001b[0m\u001b[0;34m\u001b[0m\u001b[0m\n\u001b[1;32m   1417\u001b[0m             \u001b[0mshuffle\u001b[0m\u001b[0;34m=\u001b[0m\u001b[0mshuffle\u001b[0m\u001b[0;34m,\u001b[0m\u001b[0;34m\u001b[0m\u001b[0;34m\u001b[0m\u001b[0m\n\u001b[0;32m-> 1418\u001b[0;31m             initial_epoch=initial_epoch)\n\u001b[0m\u001b[1;32m   1419\u001b[0m \u001b[0;34m\u001b[0m\u001b[0m\n\u001b[1;32m   1420\u001b[0m     \u001b[0;34m@\u001b[0m\u001b[0minterfaces\u001b[0m\u001b[0;34m.\u001b[0m\u001b[0mlegacy_generator_methods_support\u001b[0m\u001b[0;34m\u001b[0m\u001b[0;34m\u001b[0m\u001b[0m\n",
      "\u001b[0;32m~/miniconda3/envs/keras-redo/lib/python3.7/site-packages/keras/engine/training_generator.py\u001b[0m in \u001b[0;36mfit_generator\u001b[0;34m(model, generator, steps_per_epoch, epochs, verbose, callbacks, validation_data, validation_steps, class_weight, max_queue_size, workers, use_multiprocessing, shuffle, initial_epoch)\u001b[0m\n\u001b[1;32m    215\u001b[0m                 outs = model.train_on_batch(x, y,\n\u001b[1;32m    216\u001b[0m                                             \u001b[0msample_weight\u001b[0m\u001b[0;34m=\u001b[0m\u001b[0msample_weight\u001b[0m\u001b[0;34m,\u001b[0m\u001b[0;34m\u001b[0m\u001b[0;34m\u001b[0m\u001b[0m\n\u001b[0;32m--> 217\u001b[0;31m                                             class_weight=class_weight)\n\u001b[0m\u001b[1;32m    218\u001b[0m \u001b[0;34m\u001b[0m\u001b[0m\n\u001b[1;32m    219\u001b[0m                 \u001b[0mouts\u001b[0m \u001b[0;34m=\u001b[0m \u001b[0mto_list\u001b[0m\u001b[0;34m(\u001b[0m\u001b[0mouts\u001b[0m\u001b[0;34m)\u001b[0m\u001b[0;34m\u001b[0m\u001b[0;34m\u001b[0m\u001b[0m\n",
      "\u001b[0;32m~/miniconda3/envs/keras-redo/lib/python3.7/site-packages/keras/engine/training.py\u001b[0m in \u001b[0;36mtrain_on_batch\u001b[0;34m(self, x, y, sample_weight, class_weight)\u001b[0m\n\u001b[1;32m   1215\u001b[0m             \u001b[0mins\u001b[0m \u001b[0;34m=\u001b[0m \u001b[0mx\u001b[0m \u001b[0;34m+\u001b[0m \u001b[0my\u001b[0m \u001b[0;34m+\u001b[0m \u001b[0msample_weights\u001b[0m\u001b[0;34m\u001b[0m\u001b[0;34m\u001b[0m\u001b[0m\n\u001b[1;32m   1216\u001b[0m         \u001b[0mself\u001b[0m\u001b[0;34m.\u001b[0m\u001b[0m_make_train_function\u001b[0m\u001b[0;34m(\u001b[0m\u001b[0;34m)\u001b[0m\u001b[0;34m\u001b[0m\u001b[0;34m\u001b[0m\u001b[0m\n\u001b[0;32m-> 1217\u001b[0;31m         \u001b[0moutputs\u001b[0m \u001b[0;34m=\u001b[0m \u001b[0mself\u001b[0m\u001b[0;34m.\u001b[0m\u001b[0mtrain_function\u001b[0m\u001b[0;34m(\u001b[0m\u001b[0mins\u001b[0m\u001b[0;34m)\u001b[0m\u001b[0;34m\u001b[0m\u001b[0;34m\u001b[0m\u001b[0m\n\u001b[0m\u001b[1;32m   1218\u001b[0m         \u001b[0;32mreturn\u001b[0m \u001b[0munpack_singleton\u001b[0m\u001b[0;34m(\u001b[0m\u001b[0moutputs\u001b[0m\u001b[0;34m)\u001b[0m\u001b[0;34m\u001b[0m\u001b[0;34m\u001b[0m\u001b[0m\n\u001b[1;32m   1219\u001b[0m \u001b[0;34m\u001b[0m\u001b[0m\n",
      "\u001b[0;32m~/miniconda3/envs/keras-redo/lib/python3.7/site-packages/keras/backend/tensorflow_backend.py\u001b[0m in \u001b[0;36m__call__\u001b[0;34m(self, inputs)\u001b[0m\n\u001b[1;32m   2713\u001b[0m                 \u001b[0;32mreturn\u001b[0m \u001b[0mself\u001b[0m\u001b[0;34m.\u001b[0m\u001b[0m_legacy_call\u001b[0m\u001b[0;34m(\u001b[0m\u001b[0minputs\u001b[0m\u001b[0;34m)\u001b[0m\u001b[0;34m\u001b[0m\u001b[0;34m\u001b[0m\u001b[0m\n\u001b[1;32m   2714\u001b[0m \u001b[0;34m\u001b[0m\u001b[0m\n\u001b[0;32m-> 2715\u001b[0;31m             \u001b[0;32mreturn\u001b[0m \u001b[0mself\u001b[0m\u001b[0;34m.\u001b[0m\u001b[0m_call\u001b[0m\u001b[0;34m(\u001b[0m\u001b[0minputs\u001b[0m\u001b[0;34m)\u001b[0m\u001b[0;34m\u001b[0m\u001b[0;34m\u001b[0m\u001b[0m\n\u001b[0m\u001b[1;32m   2716\u001b[0m         \u001b[0;32melse\u001b[0m\u001b[0;34m:\u001b[0m\u001b[0;34m\u001b[0m\u001b[0;34m\u001b[0m\u001b[0m\n\u001b[1;32m   2717\u001b[0m             \u001b[0;32mif\u001b[0m \u001b[0mpy_any\u001b[0m\u001b[0;34m(\u001b[0m\u001b[0mis_tensor\u001b[0m\u001b[0;34m(\u001b[0m\u001b[0mx\u001b[0m\u001b[0;34m)\u001b[0m \u001b[0;32mfor\u001b[0m \u001b[0mx\u001b[0m \u001b[0;32min\u001b[0m \u001b[0minputs\u001b[0m\u001b[0;34m)\u001b[0m\u001b[0;34m:\u001b[0m\u001b[0;34m\u001b[0m\u001b[0;34m\u001b[0m\u001b[0m\n",
      "\u001b[0;32m~/miniconda3/envs/keras-redo/lib/python3.7/site-packages/keras/backend/tensorflow_backend.py\u001b[0m in \u001b[0;36m_call\u001b[0;34m(self, inputs)\u001b[0m\n\u001b[1;32m   2673\u001b[0m             \u001b[0mfetched\u001b[0m \u001b[0;34m=\u001b[0m \u001b[0mself\u001b[0m\u001b[0;34m.\u001b[0m\u001b[0m_callable_fn\u001b[0m\u001b[0;34m(\u001b[0m\u001b[0;34m*\u001b[0m\u001b[0marray_vals\u001b[0m\u001b[0;34m,\u001b[0m \u001b[0mrun_metadata\u001b[0m\u001b[0;34m=\u001b[0m\u001b[0mself\u001b[0m\u001b[0;34m.\u001b[0m\u001b[0mrun_metadata\u001b[0m\u001b[0;34m)\u001b[0m\u001b[0;34m\u001b[0m\u001b[0;34m\u001b[0m\u001b[0m\n\u001b[1;32m   2674\u001b[0m         \u001b[0;32melse\u001b[0m\u001b[0;34m:\u001b[0m\u001b[0;34m\u001b[0m\u001b[0;34m\u001b[0m\u001b[0m\n\u001b[0;32m-> 2675\u001b[0;31m             \u001b[0mfetched\u001b[0m \u001b[0;34m=\u001b[0m \u001b[0mself\u001b[0m\u001b[0;34m.\u001b[0m\u001b[0m_callable_fn\u001b[0m\u001b[0;34m(\u001b[0m\u001b[0;34m*\u001b[0m\u001b[0marray_vals\u001b[0m\u001b[0;34m)\u001b[0m\u001b[0;34m\u001b[0m\u001b[0;34m\u001b[0m\u001b[0m\n\u001b[0m\u001b[1;32m   2676\u001b[0m         \u001b[0;32mreturn\u001b[0m \u001b[0mfetched\u001b[0m\u001b[0;34m[\u001b[0m\u001b[0;34m:\u001b[0m\u001b[0mlen\u001b[0m\u001b[0;34m(\u001b[0m\u001b[0mself\u001b[0m\u001b[0;34m.\u001b[0m\u001b[0moutputs\u001b[0m\u001b[0;34m)\u001b[0m\u001b[0;34m]\u001b[0m\u001b[0;34m\u001b[0m\u001b[0;34m\u001b[0m\u001b[0m\n\u001b[1;32m   2677\u001b[0m \u001b[0;34m\u001b[0m\u001b[0m\n",
      "\u001b[0;32m~/miniconda3/envs/keras-redo/lib/python3.7/site-packages/tensorflow/python/client/session.py\u001b[0m in \u001b[0;36m__call__\u001b[0;34m(self, *args, **kwargs)\u001b[0m\n\u001b[1;32m   1437\u001b[0m           ret = tf_session.TF_SessionRunCallable(\n\u001b[1;32m   1438\u001b[0m               \u001b[0mself\u001b[0m\u001b[0;34m.\u001b[0m\u001b[0m_session\u001b[0m\u001b[0;34m.\u001b[0m\u001b[0m_session\u001b[0m\u001b[0;34m,\u001b[0m \u001b[0mself\u001b[0m\u001b[0;34m.\u001b[0m\u001b[0m_handle\u001b[0m\u001b[0;34m,\u001b[0m \u001b[0margs\u001b[0m\u001b[0;34m,\u001b[0m \u001b[0mstatus\u001b[0m\u001b[0;34m,\u001b[0m\u001b[0;34m\u001b[0m\u001b[0;34m\u001b[0m\u001b[0m\n\u001b[0;32m-> 1439\u001b[0;31m               run_metadata_ptr)\n\u001b[0m\u001b[1;32m   1440\u001b[0m         \u001b[0;32mif\u001b[0m \u001b[0mrun_metadata\u001b[0m\u001b[0;34m:\u001b[0m\u001b[0;34m\u001b[0m\u001b[0;34m\u001b[0m\u001b[0m\n\u001b[1;32m   1441\u001b[0m           \u001b[0mproto_data\u001b[0m \u001b[0;34m=\u001b[0m \u001b[0mtf_session\u001b[0m\u001b[0;34m.\u001b[0m\u001b[0mTF_GetBuffer\u001b[0m\u001b[0;34m(\u001b[0m\u001b[0mrun_metadata_ptr\u001b[0m\u001b[0;34m)\u001b[0m\u001b[0;34m\u001b[0m\u001b[0;34m\u001b[0m\u001b[0m\n",
      "\u001b[0;31mKeyboardInterrupt\u001b[0m: "
     ]
    }
   ],
   "source": [
    "multi_label_history = model.fit_generator(edg, validation_data=valid_edg, use_multiprocessing=True, max_queue_size=500000, workers=7, epochs=100, callbacks=[mc, stopping])"
   ]
  },
  {
   "cell_type": "code",
   "execution_count": 45,
   "metadata": {},
   "outputs": [],
   "source": [
    "model = load_model(\"/home/ms994/multilabel.h5\")"
   ]
  },
  {
   "cell_type": "code",
   "execution_count": 46,
   "metadata": {},
   "outputs": [],
   "source": [
    "predictions = model.predict_generator(test_edg, use_multiprocessing=True, workers=8, max_queue_size=100000)"
   ]
  },
  {
   "cell_type": "code",
   "execution_count": 53,
   "metadata": {},
   "outputs": [
    {
     "data": {
      "text/plain": [
       "0.10630920732392257"
      ]
     },
     "execution_count": 53,
     "metadata": {},
     "output_type": "execute_result"
    }
   ],
   "source": [
    "sum(test_labels)/len(test_labels)"
   ]
  },
  {
   "cell_type": "code",
   "execution_count": 56,
   "metadata": {},
   "outputs": [
    {
     "name": "stdout",
     "output_type": "stream",
     "text": [
      "              precision    recall  f1-score   support\n",
      "\n",
      "           0       0.28      0.97      0.43     34174\n",
      "           1       0.92      0.13      0.23     99361\n",
      "\n",
      "    accuracy                           0.35    133535\n",
      "   macro avg       0.60      0.55      0.33    133535\n",
      "weighted avg       0.75      0.35      0.28    133535\n",
      "\n"
     ]
    }
   ],
   "source": [
    "print(classification_report(predictions[0].argmax(1), test_labels))"
   ]
  },
  {
   "cell_type": "code",
   "execution_count": 57,
   "metadata": {},
   "outputs": [
    {
     "data": {
      "text/plain": [
       "0.34507806942000224"
      ]
     },
     "execution_count": 57,
     "metadata": {},
     "output_type": "execute_result"
    }
   ],
   "source": [
    "accuracy_score(predictions[0].argmax(1), test_labels)"
   ]
  },
  {
   "cell_type": "code",
   "execution_count": 58,
   "metadata": {},
   "outputs": [
    {
     "data": {
      "text/plain": [
       "0.22985813292003135"
      ]
     },
     "execution_count": 58,
     "metadata": {},
     "output_type": "execute_result"
    }
   ],
   "source": [
    "f1_score(predictions[0].argmax(1), test_labels)"
   ]
  },
  {
   "cell_type": "code",
   "execution_count": 59,
   "metadata": {},
   "outputs": [
    {
     "data": {
      "text/plain": [
       "99361"
      ]
     },
     "execution_count": 59,
     "metadata": {},
     "output_type": "execute_result"
    }
   ],
   "source": [
    "sum(predictions[0].argmax(1))"
   ]
  },
  {
   "cell_type": "code",
   "execution_count": 60,
   "metadata": {},
   "outputs": [
    {
     "data": {
      "text/plain": [
       "0.7440820758602613"
      ]
     },
     "execution_count": 60,
     "metadata": {},
     "output_type": "execute_result"
    }
   ],
   "source": [
    "sum(predictions[0].argmax(1))/len(predictions[0].argmax(1))"
   ]
  },
  {
   "cell_type": "markdown",
   "metadata": {},
   "source": [
    "# Try 3d cnn?"
   ]
  },
  {
   "cell_type": "code",
   "execution_count": 15,
   "metadata": {},
   "outputs": [
    {
     "data": {
      "text/plain": [
       "512"
      ]
     },
     "execution_count": 15,
     "metadata": {},
     "output_type": "execute_result"
    }
   ],
   "source": [
    "8**3"
   ]
  },
  {
   "cell_type": "code",
   "execution_count": 32,
   "metadata": {
    "scrolled": true
   },
   "outputs": [],
   "source": [
    "from keras_models.cnn_models import conv2d_gridsearch_pre_layers\n",
    "from keras.layers import Input, Reshape, Dense, TimeDistributed, Dropout, Conv3D, BatchNormalization, MaxPool3D, Flatten\n",
    "from keras import Model\n",
    "from keras.optimizers import Adam\n",
    "pre_layer_h = 24\n",
    "x = Input((1000, 21, 1)) #time, ecg channel, cnn channel\n",
    "y = Reshape((1000, 21))(x) #remove channel dim\n",
    "y = TimeDistributed(Dense(pre_layer_h**2, activation=\"relu\"))(y)\n",
    "y = Reshape((1000, pre_layer_h,pre_layer_h, 1))(y) #add back in channel dim\n"
   ]
  },
  {
   "cell_type": "code",
   "execution_count": 33,
   "metadata": {},
   "outputs": [],
   "source": [
    "for i in range(2):\n",
    "    y = BatchNormalization()(y)\n",
    "    y = Conv3D(10, (3,3,3), activation=\"relu\")(y)\n",
    "    y = MaxPool3D()(y)"
   ]
  },
  {
   "cell_type": "code",
   "execution_count": 34,
   "metadata": {},
   "outputs": [],
   "source": [
    "y = Flatten()(y)\n",
    "y_seizure = Dense(2, activation=\"softmax\", name=\"seizure\")(y)\n",
    "model = Model(inputs=x, outputs=[y_seizure])"
   ]
  },
  {
   "cell_type": "code",
   "execution_count": 35,
   "metadata": {
    "scrolled": true
   },
   "outputs": [
    {
     "name": "stdout",
     "output_type": "stream",
     "text": [
      "_________________________________________________________________\n",
      "Layer (type)                 Output Shape              Param #   \n",
      "=================================================================\n",
      "input_3 (InputLayer)         (None, 1000, 21, 1)       0         \n",
      "_________________________________________________________________\n",
      "reshape_5 (Reshape)          (None, 1000, 21)          0         \n",
      "_________________________________________________________________\n",
      "time_distributed_3 (TimeDist (None, 1000, 576)         12672     \n",
      "_________________________________________________________________\n",
      "reshape_6 (Reshape)          (None, 1000, 24, 24, 1)   0         \n",
      "_________________________________________________________________\n",
      "batch_normalization_6 (Batch (None, 1000, 24, 24, 1)   4         \n",
      "_________________________________________________________________\n",
      "conv3d_6 (Conv3D)            (None, 998, 22, 22, 10)   280       \n",
      "_________________________________________________________________\n",
      "max_pooling3d_6 (MaxPooling3 (None, 499, 11, 11, 10)   0         \n",
      "_________________________________________________________________\n",
      "batch_normalization_7 (Batch (None, 499, 11, 11, 10)   40        \n",
      "_________________________________________________________________\n",
      "conv3d_7 (Conv3D)            (None, 497, 9, 9, 10)     2710      \n",
      "_________________________________________________________________\n",
      "max_pooling3d_7 (MaxPooling3 (None, 248, 4, 4, 10)     0         \n",
      "_________________________________________________________________\n",
      "flatten_3 (Flatten)          (None, 39680)             0         \n",
      "_________________________________________________________________\n",
      "seizure (Dense)              (None, 2)                 79362     \n",
      "=================================================================\n",
      "Total params: 95,068\n",
      "Trainable params: 95,046\n",
      "Non-trainable params: 22\n",
      "_________________________________________________________________\n"
     ]
    }
   ],
   "source": [
    "model.summary()"
   ]
  },
  {
   "cell_type": "code",
   "execution_count": 36,
   "metadata": {},
   "outputs": [],
   "source": [
    "from keras.callbacks import ModelCheckpoint, EarlyStopping\n",
    "mc = ModelCheckpoint(\"/n/scratch2/ms994/3d_test.h5\", monitor=\"val_binary_accuracy\", save_best_only=True, verbose=True)\n",
    "stopping = EarlyStopping(\"val_binary_accuracy\", patience=50, verbose=True)\n"
   ]
  },
  {
   "cell_type": "code",
   "execution_count": 37,
   "metadata": {},
   "outputs": [],
   "source": [
    "from keras.optimizers import Adam"
   ]
  },
  {
   "cell_type": "code",
   "execution_count": 38,
   "metadata": {
    "scrolled": false
   },
   "outputs": [
    {
     "name": "stdout",
     "output_type": "stream",
     "text": [
      "Epoch 1/30\n",
      "310/310 [==============================] - 84s 271ms/step - loss: 4.2705 - binary_accuracy: 0.5790 - val_loss: 8.0151 - val_binary_accuracy: 0.5000\n",
      "\n",
      "Epoch 00001: val_binary_accuracy improved from -inf to 0.50000, saving model to /n/scratch2/ms994/3d_test.h5\n"
     ]
    },
    {
     "name": "stderr",
     "output_type": "stream",
     "text": [
      "Process ForkPoolWorker-229:\n",
      "Process ForkPoolWorker-226:\n",
      "Process ForkPoolWorker-236:\n",
      "Process ForkPoolWorker-235:\n",
      "Process ForkPoolWorker-238:\n",
      "Process ForkPoolWorker-232:\n",
      "Process ForkPoolWorker-230:\n",
      "Process ForkPoolWorker-225:\n",
      "Process ForkPoolWorker-239:\n",
      "Process ForkPoolWorker-231:\n",
      "Process ForkPoolWorker-227:\n",
      "Process ForkPoolWorker-234:\n",
      "Process ForkPoolWorker-237:\n",
      "Process ForkPoolWorker-233:\n",
      "Traceback (most recent call last):\n",
      "Process ForkPoolWorker-228:\n",
      "Traceback (most recent call last):\n",
      "  File \"/home/ms994/miniconda3/envs/keras-redo/lib/python3.7/multiprocessing/process.py\", line 297, in _bootstrap\n",
      "    self.run()\n",
      "  File \"/home/ms994/miniconda3/envs/keras-redo/lib/python3.7/multiprocessing/process.py\", line 297, in _bootstrap\n",
      "    self.run()\n",
      "  File \"/home/ms994/miniconda3/envs/keras-redo/lib/python3.7/multiprocessing/process.py\", line 99, in run\n",
      "    self._target(*self._args, **self._kwargs)\n",
      "  File \"/home/ms994/miniconda3/envs/keras-redo/lib/python3.7/multiprocessing/process.py\", line 99, in run\n",
      "    self._target(*self._args, **self._kwargs)\n",
      "  File \"/home/ms994/miniconda3/envs/keras-redo/lib/python3.7/multiprocessing/pool.py\", line 121, in worker\n",
      "    result = (True, func(*args, **kwds))\n",
      "  File \"/home/ms994/miniconda3/envs/keras-redo/lib/python3.7/site-packages/keras/utils/data_utils.py\", line 401, in get_index\n",
      "    return _SHARED_SEQUENCES[uid][i]\n",
      "Process ForkPoolWorker-240:\n",
      "  File \"/home/ms994/dbmi_eeg_clustering/keras_models/dataGen.py\", line 167, in __getitem__\n",
      "    X, y = self.__data_generation(list_IDs_temp)\n",
      "Traceback (most recent call last):\n",
      "Traceback (most recent call last):\n",
      "Traceback (most recent call last):\n",
      "  File \"/home/ms994/dbmi_eeg_clustering/keras_models/dataGen.py\", line 175, in __data_generation\n",
      "    x, y = self.get_x_y(list_IDs_temp)\n",
      "  File \"/home/ms994/miniconda3/envs/keras-redo/lib/python3.7/multiprocessing/process.py\", line 297, in _bootstrap\n",
      "    self.run()\n",
      "Traceback (most recent call last):\n",
      "Traceback (most recent call last):\n",
      "Traceback (most recent call last):\n",
      "Traceback (most recent call last):\n",
      "Traceback (most recent call last):\n",
      "  File \"/home/ms994/miniconda3/envs/keras-redo/lib/python3.7/multiprocessing/process.py\", line 99, in run\n",
      "    self._target(*self._args, **self._kwargs)\n",
      "  File \"/home/ms994/miniconda3/envs/keras-redo/lib/python3.7/multiprocessing/process.py\", line 297, in _bootstrap\n",
      "    self.run()\n",
      "  File \"/home/ms994/miniconda3/envs/keras-redo/lib/python3.7/multiprocessing/process.py\", line 297, in _bootstrap\n",
      "    self.run()\n",
      "Traceback (most recent call last):\n",
      "Traceback (most recent call last):\n",
      "Traceback (most recent call last):\n",
      "  File \"/home/ms994/dbmi_eeg_clustering/keras_models/dataGen.py\", line 147, in get_x_y\n",
      "    data = self.dataset[i]\n",
      "  File \"/home/ms994/miniconda3/envs/keras-redo/lib/python3.7/multiprocessing/pool.py\", line 121, in worker\n",
      "    result = (True, func(*args, **kwds))\n",
      "Traceback (most recent call last):\n",
      "  File \"/home/ms994/miniconda3/envs/keras-redo/lib/python3.7/multiprocessing/process.py\", line 297, in _bootstrap\n",
      "    self.run()\n",
      "  File \"/home/ms994/miniconda3/envs/keras-redo/lib/python3.7/multiprocessing/process.py\", line 99, in run\n",
      "    self._target(*self._args, **self._kwargs)\n",
      "  File \"/home/ms994/dbmi_eeg_clustering/ensembleReader.py\", line 274, in __getitem__\n",
      "    return self.getItemSlice(i)\n",
      "  File \"/home/ms994/miniconda3/envs/keras-redo/lib/python3.7/multiprocessing/process.py\", line 297, in _bootstrap\n",
      "    self.run()\n",
      "  File \"/home/ms994/miniconda3/envs/keras-redo/lib/python3.7/multiprocessing/process.py\", line 297, in _bootstrap\n",
      "    self.run()\n",
      "  File \"/home/ms994/miniconda3/envs/keras-redo/lib/python3.7/multiprocessing/process.py\", line 99, in run\n",
      "    self._target(*self._args, **self._kwargs)\n",
      "Traceback (most recent call last):\n",
      "  File \"/home/ms994/miniconda3/envs/keras-redo/lib/python3.7/multiprocessing/process.py\", line 297, in _bootstrap\n",
      "    self.run()\n",
      "  File \"/home/ms994/miniconda3/envs/keras-redo/lib/python3.7/site-packages/keras/utils/data_utils.py\", line 401, in get_index\n",
      "    return _SHARED_SEQUENCES[uid][i]\n",
      "Traceback (most recent call last):\n",
      "  File \"/home/ms994/miniconda3/envs/keras-redo/lib/python3.7/multiprocessing/process.py\", line 99, in run\n",
      "    self._target(*self._args, **self._kwargs)\n",
      "  File \"/home/ms994/miniconda3/envs/keras-redo/lib/python3.7/multiprocessing/process.py\", line 297, in _bootstrap\n",
      "    self.run()\n",
      "  File \"/home/ms994/miniconda3/envs/keras-redo/lib/python3.7/multiprocessing/process.py\", line 99, in run\n",
      "    self._target(*self._args, **self._kwargs)\n",
      "  File \"/home/ms994/miniconda3/envs/keras-redo/lib/python3.7/multiprocessing/pool.py\", line 121, in worker\n",
      "    result = (True, func(*args, **kwds))\n",
      "  File \"/home/ms994/dbmi_eeg_clustering/keras_models/dataGen.py\", line 167, in __getitem__\n",
      "    X, y = self.__data_generation(list_IDs_temp)\n",
      "  File \"/home/ms994/miniconda3/envs/keras-redo/lib/python3.7/multiprocessing/process.py\", line 297, in _bootstrap\n",
      "    self.run()\n",
      "  File \"/home/ms994/miniconda3/envs/keras-redo/lib/python3.7/multiprocessing/process.py\", line 297, in _bootstrap\n",
      "    self.run()\n",
      "  File \"/home/ms994/miniconda3/envs/keras-redo/lib/python3.7/multiprocessing/pool.py\", line 121, in worker\n",
      "    result = (True, func(*args, **kwds))\n",
      "  File \"/home/ms994/dbmi_eeg_clustering/keras_models/dataGen.py\", line 175, in __data_generation\n",
      "    x, y = self.get_x_y(list_IDs_temp)\n",
      "  File \"/home/ms994/miniconda3/envs/keras-redo/lib/python3.7/multiprocessing/process.py\", line 99, in run\n",
      "    self._target(*self._args, **self._kwargs)\n",
      "  File \"/home/ms994/dbmi_eeg_clustering/util_funcs.py\", line 91, in getItemSlice\n",
      "    toReturn[i] = self[j]\n",
      "  File \"/home/ms994/miniconda3/envs/keras-redo/lib/python3.7/multiprocessing/pool.py\", line 121, in worker\n",
      "    result = (True, func(*args, **kwds))\n",
      "  File \"/home/ms994/miniconda3/envs/keras-redo/lib/python3.7/multiprocessing/pool.py\", line 121, in worker\n",
      "    result = (True, func(*args, **kwds))\n",
      "  File \"/home/ms994/miniconda3/envs/keras-redo/lib/python3.7/multiprocessing/process.py\", line 297, in _bootstrap\n",
      "    self.run()\n",
      "  File \"/home/ms994/miniconda3/envs/keras-redo/lib/python3.7/multiprocessing/pool.py\", line 121, in worker\n",
      "    result = (True, func(*args, **kwds))\n",
      "  File \"/home/ms994/miniconda3/envs/keras-redo/lib/python3.7/multiprocessing/process.py\", line 99, in run\n",
      "    self._target(*self._args, **self._kwargs)\n",
      "  File \"/home/ms994/miniconda3/envs/keras-redo/lib/python3.7/multiprocessing/process.py\", line 297, in _bootstrap\n",
      "    self.run()\n",
      "  File \"/home/ms994/miniconda3/envs/keras-redo/lib/python3.7/multiprocessing/process.py\", line 99, in run\n",
      "    self._target(*self._args, **self._kwargs)\n",
      "  File \"/home/ms994/miniconda3/envs/keras-redo/lib/python3.7/multiprocessing/process.py\", line 297, in _bootstrap\n",
      "    self.run()\n",
      "  File \"/home/ms994/miniconda3/envs/keras-redo/lib/python3.7/multiprocessing/process.py\", line 297, in _bootstrap\n",
      "    self.run()\n",
      "  File \"/home/ms994/miniconda3/envs/keras-redo/lib/python3.7/multiprocessing/pool.py\", line 121, in worker\n",
      "    result = (True, func(*args, **kwds))\n",
      "  File \"/home/ms994/miniconda3/envs/keras-redo/lib/python3.7/site-packages/keras/utils/data_utils.py\", line 401, in get_index\n",
      "    return _SHARED_SEQUENCES[uid][i]\n",
      "  File \"/home/ms994/miniconda3/envs/keras-redo/lib/python3.7/multiprocessing/pool.py\", line 121, in worker\n",
      "    result = (True, func(*args, **kwds))\n",
      "  File \"/home/ms994/miniconda3/envs/keras-redo/lib/python3.7/site-packages/keras/utils/data_utils.py\", line 401, in get_index\n",
      "    return _SHARED_SEQUENCES[uid][i]\n",
      "  File \"/home/ms994/miniconda3/envs/keras-redo/lib/python3.7/multiprocessing/process.py\", line 99, in run\n",
      "    self._target(*self._args, **self._kwargs)\n",
      "  File \"/home/ms994/miniconda3/envs/keras-redo/lib/python3.7/multiprocessing/process.py\", line 99, in run\n",
      "    self._target(*self._args, **self._kwargs)\n",
      "  File \"/home/ms994/miniconda3/envs/keras-redo/lib/python3.7/site-packages/keras/utils/data_utils.py\", line 401, in get_index\n",
      "    return _SHARED_SEQUENCES[uid][i]\n",
      "  File \"/home/ms994/miniconda3/envs/keras-redo/lib/python3.7/multiprocessing/process.py\", line 99, in run\n",
      "    self._target(*self._args, **self._kwargs)\n",
      "  File \"/home/ms994/miniconda3/envs/keras-redo/lib/python3.7/site-packages/keras/utils/data_utils.py\", line 401, in get_index\n",
      "    return _SHARED_SEQUENCES[uid][i]\n"
     ]
    },
    {
     "name": "stderr",
     "output_type": "stream",
     "text": [
      "  File \"/home/ms994/dbmi_eeg_clustering/ensembleReader.py\", line 282, in __getitem__\n",
      "    max_length=self.gap)\n",
      "  File \"/home/ms994/miniconda3/envs/keras-redo/lib/python3.7/multiprocessing/process.py\", line 99, in run\n",
      "    self._target(*self._args, **self._kwargs)\n",
      "  File \"/home/ms994/dbmi_eeg_clustering/keras_models/dataGen.py\", line 147, in get_x_y\n",
      "    data = self.dataset[i]\n",
      "  File \"/home/ms994/miniconda3/envs/keras-redo/lib/python3.7/site-packages/keras/utils/data_utils.py\", line 401, in get_index\n",
      "    return _SHARED_SEQUENCES[uid][i]\n",
      "  File \"/home/ms994/miniconda3/envs/keras-redo/lib/python3.7/multiprocessing/pool.py\", line 121, in worker\n",
      "    result = (True, func(*args, **kwds))\n",
      "  File \"/home/ms994/miniconda3/envs/keras-redo/lib/python3.7/site-packages/keras/utils/data_utils.py\", line 401, in get_index\n",
      "    return _SHARED_SEQUENCES[uid][i]\n",
      "  File \"/home/ms994/miniconda3/envs/keras-redo/lib/python3.7/multiprocessing/process.py\", line 99, in run\n",
      "    self._target(*self._args, **self._kwargs)\n",
      "  File \"/home/ms994/dbmi_eeg_clustering/keras_models/dataGen.py\", line 167, in __getitem__\n",
      "    X, y = self.__data_generation(list_IDs_temp)\n",
      "  File \"/home/ms994/dbmi_eeg_clustering/ensembleReader.py\", line 274, in __getitem__\n",
      "    return self.getItemSlice(i)\n",
      "  File \"/home/ms994/miniconda3/envs/keras-redo/lib/python3.7/multiprocessing/process.py\", line 99, in run\n",
      "    self._target(*self._args, **self._kwargs)\n",
      "  File \"/home/ms994/dbmi_eeg_clustering/keras_models/dataGen.py\", line 167, in __getitem__\n",
      "    X, y = self.__data_generation(list_IDs_temp)\n",
      "  File \"/home/ms994/dbmi_eeg_clustering/keras_models/dataGen.py\", line 167, in __getitem__\n",
      "    X, y = self.__data_generation(list_IDs_temp)\n",
      "  File \"/home/ms994/miniconda3/envs/keras-redo/lib/python3.7/multiprocessing/pool.py\", line 121, in worker\n",
      "    result = (True, func(*args, **kwds))\n",
      "  File \"/home/ms994/dbmi_eeg_clustering/keras_models/dataGen.py\", line 167, in __getitem__\n",
      "    X, y = self.__data_generation(list_IDs_temp)\n",
      "  File \"/home/ms994/dbmi_eeg_clustering/keras_models/dataGen.py\", line 167, in __getitem__\n",
      "    X, y = self.__data_generation(list_IDs_temp)\n",
      "  File \"/home/ms994/dbmi_eeg_clustering/keras_models/dataGen.py\", line 175, in __data_generation\n",
      "    x, y = self.get_x_y(list_IDs_temp)\n",
      "  File \"/home/ms994/miniconda3/envs/keras-redo/lib/python3.7/multiprocessing/pool.py\", line 121, in worker\n",
      "    result = (True, func(*args, **kwds))\n",
      "  File \"/home/ms994/dbmi_eeg_clustering/keras_models/dataGen.py\", line 175, in __data_generation\n",
      "    x, y = self.get_x_y(list_IDs_temp)\n",
      "  File \"/home/ms994/dbmi_eeg_clustering/keras_models/dataGen.py\", line 167, in __getitem__\n",
      "    X, y = self.__data_generation(list_IDs_temp)\n",
      "  File \"/home/ms994/dbmi_eeg_clustering/data_reader.py\", line 611, in edf_eeg_2_df\n",
      "    with pyedflib.EdfReader(path, check_file_size=pyedflib.CHECK_FILE_SIZE) as reader:\n",
      "  File \"/home/ms994/miniconda3/envs/keras-redo/lib/python3.7/multiprocessing/pool.py\", line 121, in worker\n",
      "    result = (True, func(*args, **kwds))\n",
      "  File \"/home/ms994/miniconda3/envs/keras-redo/lib/python3.7/site-packages/keras/utils/data_utils.py\", line 401, in get_index\n",
      "    return _SHARED_SEQUENCES[uid][i]\n",
      "  File \"/home/ms994/dbmi_eeg_clustering/keras_models/dataGen.py\", line 175, in __data_generation\n",
      "    x, y = self.get_x_y(list_IDs_temp)\n",
      "  File \"/home/ms994/miniconda3/envs/keras-redo/lib/python3.7/multiprocessing/pool.py\", line 121, in worker\n",
      "    result = (True, func(*args, **kwds))\n",
      "  File \"/home/ms994/miniconda3/envs/keras-redo/lib/python3.7/site-packages/keras/utils/data_utils.py\", line 401, in get_index\n",
      "    return _SHARED_SEQUENCES[uid][i]\n",
      "  File \"/home/ms994/miniconda3/envs/keras-redo/lib/python3.7/site-packages/keras/utils/data_utils.py\", line 401, in get_index\n",
      "    return _SHARED_SEQUENCES[uid][i]\n",
      "  File \"/home/ms994/dbmi_eeg_clustering/keras_models/dataGen.py\", line 175, in __data_generation\n",
      "    x, y = self.get_x_y(list_IDs_temp)\n",
      "  File \"/home/ms994/dbmi_eeg_clustering/util_funcs.py\", line 91, in getItemSlice\n",
      "    toReturn[i] = self[j]\n",
      "  File \"/home/ms994/dbmi_eeg_clustering/keras_models/dataGen.py\", line 175, in __data_generation\n",
      "    x, y = self.get_x_y(list_IDs_temp)\n",
      "  File \"/home/ms994/miniconda3/envs/keras-redo/lib/python3.7/multiprocessing/pool.py\", line 121, in worker\n",
      "    result = (True, func(*args, **kwds))\n",
      "  File \"/home/ms994/dbmi_eeg_clustering/keras_models/dataGen.py\", line 175, in __data_generation\n",
      "    x, y = self.get_x_y(list_IDs_temp)\n",
      "  File \"/home/ms994/dbmi_eeg_clustering/keras_models/dataGen.py\", line 147, in get_x_y\n",
      "    data = self.dataset[i]\n",
      "  File \"/home/ms994/miniconda3/envs/keras-redo/lib/python3.7/site-packages/keras/utils/data_utils.py\", line 401, in get_index\n",
      "    return _SHARED_SEQUENCES[uid][i]\n",
      "KeyboardInterrupt\n",
      "  File \"/home/ms994/dbmi_eeg_clustering/keras_models/dataGen.py\", line 167, in __getitem__\n",
      "    X, y = self.__data_generation(list_IDs_temp)\n",
      "  File \"/home/ms994/dbmi_eeg_clustering/keras_models/dataGen.py\", line 147, in get_x_y\n",
      "    data = self.dataset[i]\n",
      "  File \"/home/ms994/miniconda3/envs/keras-redo/lib/python3.7/site-packages/keras/utils/data_utils.py\", line 401, in get_index\n",
      "    return _SHARED_SEQUENCES[uid][i]\n",
      "  File \"/home/ms994/dbmi_eeg_clustering/keras_models/dataGen.py\", line 167, in __getitem__\n",
      "    X, y = self.__data_generation(list_IDs_temp)\n",
      "  File \"/home/ms994/dbmi_eeg_clustering/ensembleReader.py\", line 282, in __getitem__\n",
      "    max_length=self.gap)\n",
      "  File \"/home/ms994/miniconda3/envs/keras-redo/lib/python3.7/site-packages/keras/utils/data_utils.py\", line 401, in get_index\n",
      "    return _SHARED_SEQUENCES[uid][i]\n",
      "  File \"/home/ms994/dbmi_eeg_clustering/keras_models/dataGen.py\", line 147, in get_x_y\n",
      "    data = self.dataset[i]\n",
      "  File \"/home/ms994/dbmi_eeg_clustering/keras_models/dataGen.py\", line 167, in __getitem__\n",
      "    X, y = self.__data_generation(list_IDs_temp)\n",
      "  File \"/home/ms994/miniconda3/envs/keras-redo/lib/python3.7/multiprocessing/pool.py\", line 121, in worker\n",
      "    result = (True, func(*args, **kwds))\n",
      "  File \"/home/ms994/dbmi_eeg_clustering/ensembleReader.py\", line 274, in __getitem__\n",
      "    return self.getItemSlice(i)\n",
      "  File \"/home/ms994/dbmi_eeg_clustering/keras_models/dataGen.py\", line 175, in __data_generation\n",
      "    x, y = self.get_x_y(list_IDs_temp)\n",
      "  File \"/home/ms994/dbmi_eeg_clustering/keras_models/dataGen.py\", line 147, in get_x_y\n",
      "    data = self.dataset[i]\n",
      "  File \"/home/ms994/dbmi_eeg_clustering/keras_models/dataGen.py\", line 167, in __getitem__\n",
      "    X, y = self.__data_generation(list_IDs_temp)\n",
      "  File \"/home/ms994/miniconda3/envs/keras-redo/lib/python3.7/site-packages/keras/utils/data_utils.py\", line 401, in get_index\n",
      "    return _SHARED_SEQUENCES[uid][i]\n",
      "  File \"/home/ms994/dbmi_eeg_clustering/keras_models/dataGen.py\", line 175, in __data_generation\n",
      "    x, y = self.get_x_y(list_IDs_temp)\n",
      "  File \"/home/ms994/dbmi_eeg_clustering/data_reader.py\", line 619, in edf_eeg_2_df\n",
      "    if type(start) == pd.Timedelta: #we ask for time t=1 s, then we take into account sample rate\n",
      "  File \"/home/ms994/miniconda3/envs/keras-redo/lib/python3.7/site-packages/keras/utils/data_utils.py\", line 401, in get_index\n",
      "    return _SHARED_SEQUENCES[uid][i]\n",
      "  File \"/home/ms994/dbmi_eeg_clustering/util_funcs.py\", line 91, in getItemSlice\n",
      "    toReturn[i] = self[j]\n",
      "  File \"/home/ms994/dbmi_eeg_clustering/util_funcs.py\", line 91, in getItemSlice\n",
      "    toReturn[i] = self[j]\n",
      "  File \"/home/ms994/dbmi_eeg_clustering/keras_models/dataGen.py\", line 167, in __getitem__\n",
      "    X, y = self.__data_generation(list_IDs_temp)\n",
      "  File \"/home/ms994/dbmi_eeg_clustering/ensembleReader.py\", line 274, in __getitem__\n",
      "    return self.getItemSlice(i)\n",
      "  File \"/home/ms994/dbmi_eeg_clustering/keras_models/dataGen.py\", line 147, in get_x_y\n",
      "    data = self.dataset[i]\n",
      "  File \"/home/ms994/dbmi_eeg_clustering/ensembleReader.py\", line 284, in __getitem__\n",
      "    data = data.loc[pd.Timedelta(seconds=0):self.gap].iloc[0:-1]\n",
      "  File \"/home/ms994/dbmi_eeg_clustering/keras_models/dataGen.py\", line 175, in __data_generation\n",
      "    x, y = self.get_x_y(list_IDs_temp)\n",
      "  File \"/home/ms994/dbmi_eeg_clustering/keras_models/dataGen.py\", line 147, in get_x_y\n",
      "    data = self.dataset[i]\n",
      "  File \"/home/ms994/dbmi_eeg_clustering/ensembleReader.py\", line 274, in __getitem__\n",
      "    return self.getItemSlice(i)\n"
     ]
    },
    {
     "name": "stderr",
     "output_type": "stream",
     "text": [
      "  File \"/home/ms994/dbmi_eeg_clustering/util_funcs.py\", line 91, in getItemSlice\n",
      "    toReturn[i] = self[j]\n",
      "KeyboardInterrupt\n",
      "  File \"/home/ms994/dbmi_eeg_clustering/util_funcs.py\", line 91, in getItemSlice\n",
      "    toReturn[i] = self[j]\n",
      "  File \"/home/ms994/dbmi_eeg_clustering/keras_models/dataGen.py\", line 147, in get_x_y\n",
      "    data = self.dataset[i]\n",
      "  File \"/home/ms994/dbmi_eeg_clustering/ensembleReader.py\", line 274, in __getitem__\n",
      "    return self.getItemSlice(i)\n",
      "  File \"/home/ms994/dbmi_eeg_clustering/keras_models/dataGen.py\", line 167, in __getitem__\n",
      "    X, y = self.__data_generation(list_IDs_temp)\n",
      "  File \"/home/ms994/dbmi_eeg_clustering/keras_models/dataGen.py\", line 147, in get_x_y\n",
      "    data = self.dataset[i]\n",
      "  File \"/home/ms994/dbmi_eeg_clustering/keras_models/dataGen.py\", line 175, in __data_generation\n",
      "    x, y = self.get_x_y(list_IDs_temp)\n",
      "  File \"/home/ms994/dbmi_eeg_clustering/keras_models/dataGen.py\", line 175, in __data_generation\n",
      "    x, y = self.get_x_y(list_IDs_temp)\n",
      "  File \"/home/ms994/dbmi_eeg_clustering/ensembleReader.py\", line 282, in __getitem__\n",
      "    max_length=self.gap)\n",
      "  File \"/home/ms994/dbmi_eeg_clustering/keras_models/dataGen.py\", line 147, in get_x_y\n",
      "    data = self.dataset[i]\n",
      "  File \"/home/ms994/dbmi_eeg_clustering/data_reader.py\", line 643, in edf_eeg_2_df\n",
      "    data = pd.concat(all_channels, axis=1)\n",
      "  File \"/home/ms994/dbmi_eeg_clustering/keras_models/dataGen.py\", line 175, in __data_generation\n",
      "    x, y = self.get_x_y(list_IDs_temp)\n",
      "  File \"/home/ms994/dbmi_eeg_clustering/ensembleReader.py\", line 274, in __getitem__\n",
      "    return self.getItemSlice(i)\n",
      "  File \"/home/ms994/dbmi_eeg_clustering/ensembleReader.py\", line 296, in __getitem__\n",
      "    axis=0)\n",
      "  File \"/home/ms994/dbmi_eeg_clustering/keras_models/dataGen.py\", line 147, in get_x_y\n",
      "    data = self.dataset[i]\n",
      "  File \"/home/ms994/dbmi_eeg_clustering/util_funcs.py\", line 91, in getItemSlice\n",
      "    toReturn[i] = self[j]\n",
      "  File \"/home/ms994/miniconda3/envs/keras-redo/lib/python3.7/site-packages/pandas/core/frame.py\", line 6487, in apply\n",
      "    return op.get_result()\n",
      "  File \"/home/ms994/miniconda3/envs/keras-redo/lib/python3.7/site-packages/pandas/core/apply.py\", line 151, in get_result\n",
      "    return self.apply_standard()\n",
      "  File \"/home/ms994/dbmi_eeg_clustering/ensembleReader.py\", line 286, in __getitem__\n",
      "    data = data[self.columns_to_use]\n",
      "  File \"/home/ms994/dbmi_eeg_clustering/ensembleReader.py\", line 274, in __getitem__\n",
      "    return self.getItemSlice(i)\n",
      "  File \"/home/ms994/dbmi_eeg_clustering/util_funcs.py\", line 91, in getItemSlice\n",
      "    toReturn[i] = self[j]\n",
      "  File \"/home/ms994/miniconda3/envs/keras-redo/lib/python3.7/site-packages/pandas/core/apply.py\", line 257, in apply_standard\n",
      "    self.apply_series_generator()\n",
      "  File \"/home/ms994/miniconda3/envs/keras-redo/lib/python3.7/site-packages/pandas/core/apply.py\", line 285, in apply_series_generator\n",
      "    for i, v in enumerate(series_gen):\n",
      "  File \"/home/ms994/dbmi_eeg_clustering/ensembleReader.py\", line 282, in __getitem__\n",
      "    max_length=self.gap)\n",
      "  File \"/home/ms994/dbmi_eeg_clustering/data_reader.py\", line 620, in edf_eeg_2_df\n",
      "    start_count_native_freq = start/pd.Timedelta(seconds=1/sample_rates[i])\n",
      "  File \"/home/ms994/miniconda3/envs/keras-redo/lib/python3.7/site-packages/pandas/core/apply.py\", line 326, in <genexpr>\n",
      "    for i in range(len(self.columns)))\n",
      "  File \"/home/ms994/dbmi_eeg_clustering/keras_models/dataGen.py\", line 167, in __getitem__\n",
      "    X, y = self.__data_generation(list_IDs_temp)\n",
      "  File \"/home/ms994/miniconda3/envs/keras-redo/lib/python3.7/site-packages/pandas/core/reshape/concat.py\", line 229, in concat\n",
      "    return op.get_result()\n",
      "  File \"/home/ms994/dbmi_eeg_clustering/ensembleReader.py\", line 274, in __getitem__\n",
      "    return self.getItemSlice(i)\n",
      "  File \"/home/ms994/dbmi_eeg_clustering/keras_models/dataGen.py\", line 167, in __getitem__\n",
      "    X, y = self.__data_generation(list_IDs_temp)\n",
      "KeyboardInterrupt\n",
      "KeyboardInterrupt\n",
      "  File \"/home/ms994/miniconda3/envs/keras-redo/lib/python3.7/site-packages/pandas/core/reshape/concat.py\", line 403, in get_result\n",
      "    df = cons(data, index=index)\n",
      "  File \"/home/ms994/dbmi_eeg_clustering/util_funcs.py\", line 91, in getItemSlice\n",
      "    toReturn[i] = self[j]\n",
      "  File \"/home/ms994/dbmi_eeg_clustering/ensembleReader.py\", line 282, in __getitem__\n",
      "    max_length=self.gap)\n",
      "  File \"/home/ms994/dbmi_eeg_clustering/data_reader.py\", line 640, in edf_eeg_2_df\n",
      "    name=channel_name\n",
      "  File \"/home/ms994/miniconda3/envs/keras-redo/lib/python3.7/site-packages/pandas/core/series.py\", line 262, in __init__\n",
      "    raise_cast_failure=True)\n",
      "  File \"/home/ms994/miniconda3/envs/keras-redo/lib/python3.7/site-packages/pandas/core/internals/construction.py\", line 555, in sanitize_array\n",
      "    data = extract_array(data, extract_numpy=True)\n",
      "  File \"/home/ms994/dbmi_eeg_clustering/keras_models/dataGen.py\", line 147, in get_x_y\n",
      "    data = self.dataset[i]\n",
      "  File \"/home/ms994/dbmi_eeg_clustering/ensembleReader.py\", line 274, in __getitem__\n",
      "    return self.getItemSlice(i)\n",
      "  File \"/home/ms994/dbmi_eeg_clustering/ensembleReader.py\", line 274, in __getitem__\n",
      "    return self.getItemSlice(i)\n",
      "  File \"/home/ms994/dbmi_eeg_clustering/keras_models/dataGen.py\", line 147, in get_x_y\n",
      "    data = self.dataset[i]\n",
      "  File \"/home/ms994/miniconda3/envs/keras-redo/lib/python3.7/site-packages/pandas/core/frame.py\", line 2934, in __getitem__\n",
      "    raise_missing=True)\n",
      "  File \"/home/ms994/dbmi_eeg_clustering/ensembleReader.py\", line 274, in __getitem__\n",
      "    return self.getItemSlice(i)\n",
      "  File \"/home/ms994/dbmi_eeg_clustering/ensembleReader.py\", line 282, in __getitem__\n",
      "    max_length=self.gap)\n",
      "  File \"/home/ms994/dbmi_eeg_clustering/ensembleReader.py\", line 274, in __getitem__\n",
      "    return self.getItemSlice(i)\n",
      "  File \"/home/ms994/dbmi_eeg_clustering/keras_models/dataGen.py\", line 175, in __data_generation\n",
      "    x, y = self.get_x_y(list_IDs_temp)\n",
      "  File \"/home/ms994/dbmi_eeg_clustering/util_funcs.py\", line 91, in getItemSlice\n",
      "    toReturn[i] = self[j]\n",
      "  File \"/home/ms994/miniconda3/envs/keras-redo/lib/python3.7/site-packages/pandas/core/indexing.py\", line 1354, in _convert_to_indexer\n",
      "    return self._get_listlike_indexer(obj, axis, **kwargs)[1]\n",
      "  File \"/home/ms994/dbmi_eeg_clustering/data_reader.py\", line 643, in edf_eeg_2_df\n",
      "    data = pd.concat(all_channels, axis=1)\n",
      "  File \"/home/ms994/dbmi_eeg_clustering/ensembleReader.py\", line 274, in __getitem__\n",
      "    return self.getItemSlice(i)\n",
      "  File \"/home/ms994/miniconda3/envs/keras-redo/lib/python3.7/site-packages/pandas/core/indexing.py\", line 1154, in _get_listlike_indexer\n",
      "    indexer = ax.get_indexer_for(key)\n",
      "  File \"/home/ms994/dbmi_eeg_clustering/util_funcs.py\", line 91, in getItemSlice\n",
      "    toReturn[i] = self[j]\n",
      "  File \"/home/ms994/dbmi_eeg_clustering/util_funcs.py\", line 91, in getItemSlice\n",
      "    toReturn[i] = self[j]\n",
      "  File \"/home/ms994/dbmi_eeg_clustering/ensembleReader.py\", line 296, in __getitem__\n",
      "    axis=0)\n",
      "KeyboardInterrupt\n",
      "  File \"/home/ms994/dbmi_eeg_clustering/keras_models/dataGen.py\", line 175, in __data_generation\n",
      "    x, y = self.get_x_y(list_IDs_temp)\n",
      "  File \"/home/ms994/dbmi_eeg_clustering/util_funcs.py\", line 91, in getItemSlice\n",
      "    toReturn[i] = self[j]\n",
      "  File \"/home/ms994/dbmi_eeg_clustering/util_funcs.py\", line 91, in getItemSlice\n",
      "    toReturn[i] = self[j]\n",
      "  File \"/home/ms994/dbmi_eeg_clustering/keras_models/dataGen.py\", line 147, in get_x_y\n",
      "    data = self.dataset[i]\n",
      "  File \"/home/ms994/miniconda3/envs/keras-redo/lib/python3.7/site-packages/pandas/core/frame.py\", line 392, in __init__\n",
      "    mgr = init_dict(data, index, columns, dtype=dtype)\n",
      "  File \"/home/ms994/dbmi_eeg_clustering/ensembleReader.py\", line 296, in __getitem__\n",
      "    axis=0)\n",
      "  File \"/home/ms994/dbmi_eeg_clustering/keras_models/dataGen.py\", line 147, in get_x_y\n",
      "    data = self.dataset[i]\n",
      "  File \"/home/ms994/miniconda3/envs/keras-redo/lib/python3.7/site-packages/pandas/core/frame.py\", line 6487, in apply\n",
      "    return op.get_result()\n",
      "  File \"/home/ms994/dbmi_eeg_clustering/ensembleReader.py\", line 282, in __getitem__\n",
      "    max_length=self.gap)\n",
      "  File \"/home/ms994/miniconda3/envs/keras-redo/lib/python3.7/site-packages/pandas/core/frame.py\", line 6487, in apply\n",
      "    return op.get_result()\n",
      "  File \"/home/ms994/dbmi_eeg_clustering/ensembleReader.py\", line 282, in __getitem__\n",
      "    max_length=self.gap)\n"
     ]
    },
    {
     "name": "stderr",
     "output_type": "stream",
     "text": [
      "  File \"/home/ms994/miniconda3/envs/keras-redo/lib/python3.7/site-packages/pandas/core/reshape/concat.py\", line 229, in concat\n",
      "    return op.get_result()\n",
      "  File \"/home/ms994/miniconda3/envs/keras-redo/lib/python3.7/site-packages/pandas/core/apply.py\", line 151, in get_result\n",
      "    return self.apply_standard()\n"
     ]
    },
    {
     "ename": "KeyboardInterrupt",
     "evalue": "",
     "output_type": "error",
     "traceback": [
      "\u001b[0;31m---------------------------------------------------------------------------\u001b[0m",
      "\u001b[0;31mKeyboardInterrupt\u001b[0m                         Traceback (most recent call last)",
      "\u001b[0;32m<ipython-input-38-2c04acadbb65>\u001b[0m in \u001b[0;36m<module>\u001b[0;34m\u001b[0m\n\u001b[1;32m      2\u001b[0m \u001b[0mmodel\u001b[0m \u001b[0;34m=\u001b[0m \u001b[0mmulti_gpu_model\u001b[0m\u001b[0;34m(\u001b[0m\u001b[0mmodel\u001b[0m\u001b[0;34m,\u001b[0m \u001b[0;36m2\u001b[0m\u001b[0;34m)\u001b[0m\u001b[0;34m\u001b[0m\u001b[0;34m\u001b[0m\u001b[0m\n\u001b[1;32m      3\u001b[0m \u001b[0mmodel\u001b[0m\u001b[0;34m.\u001b[0m\u001b[0mcompile\u001b[0m\u001b[0;34m(\u001b[0m\u001b[0;34m\"adam\"\u001b[0m\u001b[0;34m,\u001b[0m \u001b[0mloss\u001b[0m\u001b[0;34m=\u001b[0m\u001b[0;34m[\u001b[0m\u001b[0;34m\"binary_crossentropy\"\u001b[0m\u001b[0;34m]\u001b[0m\u001b[0;34m,\u001b[0m \u001b[0mmetrics\u001b[0m\u001b[0;34m=\u001b[0m\u001b[0;34m[\u001b[0m\u001b[0;34m\"binary_accuracy\"\u001b[0m\u001b[0;34m]\u001b[0m\u001b[0;34m)\u001b[0m\u001b[0;34m\u001b[0m\u001b[0;34m\u001b[0m\u001b[0m\n\u001b[0;32m----> 4\u001b[0;31m \u001b[0mhistory\u001b[0m \u001b[0;34m=\u001b[0m \u001b[0mmodel\u001b[0m\u001b[0;34m.\u001b[0m\u001b[0mfit_generator\u001b[0m\u001b[0;34m(\u001b[0m\u001b[0medg\u001b[0m\u001b[0;34m,\u001b[0m \u001b[0mvalidation_data\u001b[0m\u001b[0;34m=\u001b[0m\u001b[0mvalid_edg\u001b[0m\u001b[0;34m,\u001b[0m \u001b[0muse_multiprocessing\u001b[0m\u001b[0;34m=\u001b[0m\u001b[0;32mTrue\u001b[0m\u001b[0;34m,\u001b[0m \u001b[0mmax_queue_size\u001b[0m\u001b[0;34m=\u001b[0m\u001b[0;36m500000\u001b[0m\u001b[0;34m,\u001b[0m \u001b[0mworkers\u001b[0m\u001b[0;34m=\u001b[0m\u001b[0;36m8\u001b[0m\u001b[0;34m,\u001b[0m \u001b[0mepochs\u001b[0m\u001b[0;34m=\u001b[0m\u001b[0;36m30\u001b[0m\u001b[0;34m,\u001b[0m \u001b[0mcallbacks\u001b[0m\u001b[0;34m=\u001b[0m\u001b[0;34m[\u001b[0m\u001b[0mstopping\u001b[0m\u001b[0;34m,\u001b[0m \u001b[0mmc\u001b[0m\u001b[0;34m]\u001b[0m\u001b[0;34m)\u001b[0m\u001b[0;34m\u001b[0m\u001b[0;34m\u001b[0m\u001b[0m\n\u001b[0m",
      "\u001b[0;32m~/miniconda3/envs/keras-redo/lib/python3.7/site-packages/keras/legacy/interfaces.py\u001b[0m in \u001b[0;36mwrapper\u001b[0;34m(*args, **kwargs)\u001b[0m\n\u001b[1;32m     89\u001b[0m                 warnings.warn('Update your `' + object_name + '` call to the ' +\n\u001b[1;32m     90\u001b[0m                               'Keras 2 API: ' + signature, stacklevel=2)\n\u001b[0;32m---> 91\u001b[0;31m             \u001b[0;32mreturn\u001b[0m \u001b[0mfunc\u001b[0m\u001b[0;34m(\u001b[0m\u001b[0;34m*\u001b[0m\u001b[0margs\u001b[0m\u001b[0;34m,\u001b[0m \u001b[0;34m**\u001b[0m\u001b[0mkwargs\u001b[0m\u001b[0;34m)\u001b[0m\u001b[0;34m\u001b[0m\u001b[0;34m\u001b[0m\u001b[0m\n\u001b[0m\u001b[1;32m     92\u001b[0m         \u001b[0mwrapper\u001b[0m\u001b[0;34m.\u001b[0m\u001b[0m_original_function\u001b[0m \u001b[0;34m=\u001b[0m \u001b[0mfunc\u001b[0m\u001b[0;34m\u001b[0m\u001b[0;34m\u001b[0m\u001b[0m\n\u001b[1;32m     93\u001b[0m         \u001b[0;32mreturn\u001b[0m \u001b[0mwrapper\u001b[0m\u001b[0;34m\u001b[0m\u001b[0;34m\u001b[0m\u001b[0m\n",
      "\u001b[0;32m~/miniconda3/envs/keras-redo/lib/python3.7/site-packages/keras/engine/training.py\u001b[0m in \u001b[0;36mfit_generator\u001b[0;34m(self, generator, steps_per_epoch, epochs, verbose, callbacks, validation_data, validation_steps, class_weight, max_queue_size, workers, use_multiprocessing, shuffle, initial_epoch)\u001b[0m\n\u001b[1;32m   1416\u001b[0m             \u001b[0muse_multiprocessing\u001b[0m\u001b[0;34m=\u001b[0m\u001b[0muse_multiprocessing\u001b[0m\u001b[0;34m,\u001b[0m\u001b[0;34m\u001b[0m\u001b[0;34m\u001b[0m\u001b[0m\n\u001b[1;32m   1417\u001b[0m             \u001b[0mshuffle\u001b[0m\u001b[0;34m=\u001b[0m\u001b[0mshuffle\u001b[0m\u001b[0;34m,\u001b[0m\u001b[0;34m\u001b[0m\u001b[0;34m\u001b[0m\u001b[0m\n\u001b[0;32m-> 1418\u001b[0;31m             initial_epoch=initial_epoch)\n\u001b[0m\u001b[1;32m   1419\u001b[0m \u001b[0;34m\u001b[0m\u001b[0m\n\u001b[1;32m   1420\u001b[0m     \u001b[0;34m@\u001b[0m\u001b[0minterfaces\u001b[0m\u001b[0;34m.\u001b[0m\u001b[0mlegacy_generator_methods_support\u001b[0m\u001b[0;34m\u001b[0m\u001b[0;34m\u001b[0m\u001b[0m\n",
      "\u001b[0;32m~/miniconda3/envs/keras-redo/lib/python3.7/site-packages/keras/engine/training_generator.py\u001b[0m in \u001b[0;36mfit_generator\u001b[0;34m(model, generator, steps_per_epoch, epochs, verbose, callbacks, validation_data, validation_steps, class_weight, max_queue_size, workers, use_multiprocessing, shuffle, initial_epoch)\u001b[0m\n\u001b[1;32m    249\u001b[0m                     \u001b[0;32mbreak\u001b[0m\u001b[0;34m\u001b[0m\u001b[0;34m\u001b[0m\u001b[0m\n\u001b[1;32m    250\u001b[0m \u001b[0;34m\u001b[0m\u001b[0m\n\u001b[0;32m--> 251\u001b[0;31m             \u001b[0mcallbacks\u001b[0m\u001b[0;34m.\u001b[0m\u001b[0mon_epoch_end\u001b[0m\u001b[0;34m(\u001b[0m\u001b[0mepoch\u001b[0m\u001b[0;34m,\u001b[0m \u001b[0mepoch_logs\u001b[0m\u001b[0;34m)\u001b[0m\u001b[0;34m\u001b[0m\u001b[0;34m\u001b[0m\u001b[0m\n\u001b[0m\u001b[1;32m    252\u001b[0m             \u001b[0mepoch\u001b[0m \u001b[0;34m+=\u001b[0m \u001b[0;36m1\u001b[0m\u001b[0;34m\u001b[0m\u001b[0;34m\u001b[0m\u001b[0m\n\u001b[1;32m    253\u001b[0m             \u001b[0;32mif\u001b[0m \u001b[0mcallback_model\u001b[0m\u001b[0;34m.\u001b[0m\u001b[0mstop_training\u001b[0m\u001b[0;34m:\u001b[0m\u001b[0;34m\u001b[0m\u001b[0;34m\u001b[0m\u001b[0m\n",
      "\u001b[0;32m~/miniconda3/envs/keras-redo/lib/python3.7/site-packages/keras/callbacks.py\u001b[0m in \u001b[0;36mon_epoch_end\u001b[0;34m(self, epoch, logs)\u001b[0m\n\u001b[1;32m     77\u001b[0m         \u001b[0mlogs\u001b[0m \u001b[0;34m=\u001b[0m \u001b[0mlogs\u001b[0m \u001b[0;32mor\u001b[0m \u001b[0;34m{\u001b[0m\u001b[0;34m}\u001b[0m\u001b[0;34m\u001b[0m\u001b[0;34m\u001b[0m\u001b[0m\n\u001b[1;32m     78\u001b[0m         \u001b[0;32mfor\u001b[0m \u001b[0mcallback\u001b[0m \u001b[0;32min\u001b[0m \u001b[0mself\u001b[0m\u001b[0;34m.\u001b[0m\u001b[0mcallbacks\u001b[0m\u001b[0;34m:\u001b[0m\u001b[0;34m\u001b[0m\u001b[0;34m\u001b[0m\u001b[0m\n\u001b[0;32m---> 79\u001b[0;31m             \u001b[0mcallback\u001b[0m\u001b[0;34m.\u001b[0m\u001b[0mon_epoch_end\u001b[0m\u001b[0;34m(\u001b[0m\u001b[0mepoch\u001b[0m\u001b[0;34m,\u001b[0m \u001b[0mlogs\u001b[0m\u001b[0;34m)\u001b[0m\u001b[0;34m\u001b[0m\u001b[0;34m\u001b[0m\u001b[0m\n\u001b[0m\u001b[1;32m     80\u001b[0m \u001b[0;34m\u001b[0m\u001b[0m\n\u001b[1;32m     81\u001b[0m     \u001b[0;32mdef\u001b[0m \u001b[0mon_batch_begin\u001b[0m\u001b[0;34m(\u001b[0m\u001b[0mself\u001b[0m\u001b[0;34m,\u001b[0m \u001b[0mbatch\u001b[0m\u001b[0;34m,\u001b[0m \u001b[0mlogs\u001b[0m\u001b[0;34m=\u001b[0m\u001b[0;32mNone\u001b[0m\u001b[0;34m)\u001b[0m\u001b[0;34m:\u001b[0m\u001b[0;34m\u001b[0m\u001b[0;34m\u001b[0m\u001b[0m\n",
      "\u001b[0;32m~/miniconda3/envs/keras-redo/lib/python3.7/site-packages/keras/callbacks.py\u001b[0m in \u001b[0;36mon_epoch_end\u001b[0;34m(self, epoch, logs)\u001b[0m\n\u001b[1;32m    444\u001b[0m                             \u001b[0mself\u001b[0m\u001b[0;34m.\u001b[0m\u001b[0mmodel\u001b[0m\u001b[0;34m.\u001b[0m\u001b[0msave_weights\u001b[0m\u001b[0;34m(\u001b[0m\u001b[0mfilepath\u001b[0m\u001b[0;34m,\u001b[0m \u001b[0moverwrite\u001b[0m\u001b[0;34m=\u001b[0m\u001b[0;32mTrue\u001b[0m\u001b[0;34m)\u001b[0m\u001b[0;34m\u001b[0m\u001b[0;34m\u001b[0m\u001b[0m\n\u001b[1;32m    445\u001b[0m                         \u001b[0;32melse\u001b[0m\u001b[0;34m:\u001b[0m\u001b[0;34m\u001b[0m\u001b[0;34m\u001b[0m\u001b[0m\n\u001b[0;32m--> 446\u001b[0;31m                             \u001b[0mself\u001b[0m\u001b[0;34m.\u001b[0m\u001b[0mmodel\u001b[0m\u001b[0;34m.\u001b[0m\u001b[0msave\u001b[0m\u001b[0;34m(\u001b[0m\u001b[0mfilepath\u001b[0m\u001b[0;34m,\u001b[0m \u001b[0moverwrite\u001b[0m\u001b[0;34m=\u001b[0m\u001b[0;32mTrue\u001b[0m\u001b[0;34m)\u001b[0m\u001b[0;34m\u001b[0m\u001b[0;34m\u001b[0m\u001b[0m\n\u001b[0m\u001b[1;32m    447\u001b[0m                     \u001b[0;32melse\u001b[0m\u001b[0;34m:\u001b[0m\u001b[0;34m\u001b[0m\u001b[0;34m\u001b[0m\u001b[0m\n\u001b[1;32m    448\u001b[0m                         \u001b[0;32mif\u001b[0m \u001b[0mself\u001b[0m\u001b[0;34m.\u001b[0m\u001b[0mverbose\u001b[0m \u001b[0;34m>\u001b[0m \u001b[0;36m0\u001b[0m\u001b[0;34m:\u001b[0m\u001b[0;34m\u001b[0m\u001b[0;34m\u001b[0m\u001b[0m\n",
      "\u001b[0;32m~/miniconda3/envs/keras-redo/lib/python3.7/site-packages/keras/engine/network.py\u001b[0m in \u001b[0;36msave\u001b[0;34m(self, filepath, overwrite, include_optimizer)\u001b[0m\n\u001b[1;32m   1088\u001b[0m             \u001b[0;32mraise\u001b[0m \u001b[0mNotImplementedError\u001b[0m\u001b[0;34m\u001b[0m\u001b[0;34m\u001b[0m\u001b[0m\n\u001b[1;32m   1089\u001b[0m         \u001b[0;32mfrom\u001b[0m \u001b[0;34m.\u001b[0m\u001b[0;34m.\u001b[0m\u001b[0mmodels\u001b[0m \u001b[0;32mimport\u001b[0m \u001b[0msave_model\u001b[0m\u001b[0;34m\u001b[0m\u001b[0;34m\u001b[0m\u001b[0m\n\u001b[0;32m-> 1090\u001b[0;31m         \u001b[0msave_model\u001b[0m\u001b[0;34m(\u001b[0m\u001b[0mself\u001b[0m\u001b[0;34m,\u001b[0m \u001b[0mfilepath\u001b[0m\u001b[0;34m,\u001b[0m \u001b[0moverwrite\u001b[0m\u001b[0;34m,\u001b[0m \u001b[0minclude_optimizer\u001b[0m\u001b[0;34m)\u001b[0m\u001b[0;34m\u001b[0m\u001b[0;34m\u001b[0m\u001b[0m\n\u001b[0m\u001b[1;32m   1091\u001b[0m \u001b[0;34m\u001b[0m\u001b[0m\n\u001b[1;32m   1092\u001b[0m     \u001b[0;32mdef\u001b[0m \u001b[0msave_weights\u001b[0m\u001b[0;34m(\u001b[0m\u001b[0mself\u001b[0m\u001b[0;34m,\u001b[0m \u001b[0mfilepath\u001b[0m\u001b[0;34m,\u001b[0m \u001b[0moverwrite\u001b[0m\u001b[0;34m=\u001b[0m\u001b[0;32mTrue\u001b[0m\u001b[0;34m)\u001b[0m\u001b[0;34m:\u001b[0m\u001b[0;34m\u001b[0m\u001b[0;34m\u001b[0m\u001b[0m\n",
      "\u001b[0;32m~/miniconda3/envs/keras-redo/lib/python3.7/site-packages/keras/engine/saving.py\u001b[0m in \u001b[0;36msave_model\u001b[0;34m(model, filepath, overwrite, include_optimizer)\u001b[0m\n\u001b[1;32m    380\u001b[0m \u001b[0;34m\u001b[0m\u001b[0m\n\u001b[1;32m    381\u001b[0m     \u001b[0;32mtry\u001b[0m\u001b[0;34m:\u001b[0m\u001b[0;34m\u001b[0m\u001b[0;34m\u001b[0m\u001b[0m\n\u001b[0;32m--> 382\u001b[0;31m         \u001b[0m_serialize_model\u001b[0m\u001b[0;34m(\u001b[0m\u001b[0mmodel\u001b[0m\u001b[0;34m,\u001b[0m \u001b[0mf\u001b[0m\u001b[0;34m,\u001b[0m \u001b[0minclude_optimizer\u001b[0m\u001b[0;34m)\u001b[0m\u001b[0;34m\u001b[0m\u001b[0;34m\u001b[0m\u001b[0m\n\u001b[0m\u001b[1;32m    383\u001b[0m     \u001b[0;32mfinally\u001b[0m\u001b[0;34m:\u001b[0m\u001b[0;34m\u001b[0m\u001b[0;34m\u001b[0m\u001b[0m\n\u001b[1;32m    384\u001b[0m         \u001b[0;32mif\u001b[0m \u001b[0mopened_new_file\u001b[0m\u001b[0;34m:\u001b[0m\u001b[0;34m\u001b[0m\u001b[0;34m\u001b[0m\u001b[0m\n",
      "\u001b[0;32m~/miniconda3/envs/keras-redo/lib/python3.7/site-packages/keras/engine/saving.py\u001b[0m in \u001b[0;36m_serialize_model\u001b[0;34m(model, f, include_optimizer)\u001b[0m\n\u001b[1;32m    140\u001b[0m             \u001b[0;32mif\u001b[0m \u001b[0msymbolic_weights\u001b[0m\u001b[0;34m:\u001b[0m\u001b[0;34m\u001b[0m\u001b[0;34m\u001b[0m\u001b[0m\n\u001b[1;32m    141\u001b[0m                 \u001b[0moptimizer_weights_group\u001b[0m \u001b[0;34m=\u001b[0m \u001b[0mf\u001b[0m\u001b[0;34m[\u001b[0m\u001b[0;34m'optimizer_weights'\u001b[0m\u001b[0;34m]\u001b[0m\u001b[0;34m\u001b[0m\u001b[0;34m\u001b[0m\u001b[0m\n\u001b[0;32m--> 142\u001b[0;31m                 \u001b[0mweight_values\u001b[0m \u001b[0;34m=\u001b[0m \u001b[0mK\u001b[0m\u001b[0;34m.\u001b[0m\u001b[0mbatch_get_value\u001b[0m\u001b[0;34m(\u001b[0m\u001b[0msymbolic_weights\u001b[0m\u001b[0;34m)\u001b[0m\u001b[0;34m\u001b[0m\u001b[0;34m\u001b[0m\u001b[0m\n\u001b[0m\u001b[1;32m    143\u001b[0m                 \u001b[0mweight_names\u001b[0m \u001b[0;34m=\u001b[0m \u001b[0;34m[\u001b[0m\u001b[0;34m]\u001b[0m\u001b[0;34m\u001b[0m\u001b[0;34m\u001b[0m\u001b[0m\n\u001b[1;32m    144\u001b[0m                 for i, (w, val) in enumerate(zip(symbolic_weights,\n",
      "\u001b[0;32m~/miniconda3/envs/keras-redo/lib/python3.7/site-packages/keras/backend/tensorflow_backend.py\u001b[0m in \u001b[0;36mbatch_get_value\u001b[0;34m(ops)\u001b[0m\n\u001b[1;32m   2418\u001b[0m     \"\"\"\n\u001b[1;32m   2419\u001b[0m     \u001b[0;32mif\u001b[0m \u001b[0mops\u001b[0m\u001b[0;34m:\u001b[0m\u001b[0;34m\u001b[0m\u001b[0;34m\u001b[0m\u001b[0m\n\u001b[0;32m-> 2420\u001b[0;31m         \u001b[0;32mreturn\u001b[0m \u001b[0mget_session\u001b[0m\u001b[0;34m(\u001b[0m\u001b[0;34m)\u001b[0m\u001b[0;34m.\u001b[0m\u001b[0mrun\u001b[0m\u001b[0;34m(\u001b[0m\u001b[0mops\u001b[0m\u001b[0;34m)\u001b[0m\u001b[0;34m\u001b[0m\u001b[0;34m\u001b[0m\u001b[0m\n\u001b[0m\u001b[1;32m   2421\u001b[0m     \u001b[0;32melse\u001b[0m\u001b[0;34m:\u001b[0m\u001b[0;34m\u001b[0m\u001b[0;34m\u001b[0m\u001b[0m\n\u001b[1;32m   2422\u001b[0m         \u001b[0;32mreturn\u001b[0m \u001b[0;34m[\u001b[0m\u001b[0;34m]\u001b[0m\u001b[0;34m\u001b[0m\u001b[0;34m\u001b[0m\u001b[0m\n",
      "\u001b[0;32m~/miniconda3/envs/keras-redo/lib/python3.7/site-packages/tensorflow/python/client/session.py\u001b[0m in \u001b[0;36mrun\u001b[0;34m(self, fetches, feed_dict, options, run_metadata)\u001b[0m\n\u001b[1;32m    927\u001b[0m     \u001b[0;32mtry\u001b[0m\u001b[0;34m:\u001b[0m\u001b[0;34m\u001b[0m\u001b[0;34m\u001b[0m\u001b[0m\n\u001b[1;32m    928\u001b[0m       result = self._run(None, fetches, feed_dict, options_ptr,\n\u001b[0;32m--> 929\u001b[0;31m                          run_metadata_ptr)\n\u001b[0m\u001b[1;32m    930\u001b[0m       \u001b[0;32mif\u001b[0m \u001b[0mrun_metadata\u001b[0m\u001b[0;34m:\u001b[0m\u001b[0;34m\u001b[0m\u001b[0;34m\u001b[0m\u001b[0m\n\u001b[1;32m    931\u001b[0m         \u001b[0mproto_data\u001b[0m \u001b[0;34m=\u001b[0m \u001b[0mtf_session\u001b[0m\u001b[0;34m.\u001b[0m\u001b[0mTF_GetBuffer\u001b[0m\u001b[0;34m(\u001b[0m\u001b[0mrun_metadata_ptr\u001b[0m\u001b[0;34m)\u001b[0m\u001b[0;34m\u001b[0m\u001b[0;34m\u001b[0m\u001b[0m\n",
      "\u001b[0;32m~/miniconda3/envs/keras-redo/lib/python3.7/site-packages/tensorflow/python/client/session.py\u001b[0m in \u001b[0;36m_run\u001b[0;34m(self, handle, fetches, feed_dict, options, run_metadata)\u001b[0m\n\u001b[1;32m   1150\u001b[0m     \u001b[0;32mif\u001b[0m \u001b[0mfinal_fetches\u001b[0m \u001b[0;32mor\u001b[0m \u001b[0mfinal_targets\u001b[0m \u001b[0;32mor\u001b[0m \u001b[0;34m(\u001b[0m\u001b[0mhandle\u001b[0m \u001b[0;32mand\u001b[0m \u001b[0mfeed_dict_tensor\u001b[0m\u001b[0;34m)\u001b[0m\u001b[0;34m:\u001b[0m\u001b[0;34m\u001b[0m\u001b[0;34m\u001b[0m\u001b[0m\n\u001b[1;32m   1151\u001b[0m       results = self._do_run(handle, final_targets, final_fetches,\n\u001b[0;32m-> 1152\u001b[0;31m                              feed_dict_tensor, options, run_metadata)\n\u001b[0m\u001b[1;32m   1153\u001b[0m     \u001b[0;32melse\u001b[0m\u001b[0;34m:\u001b[0m\u001b[0;34m\u001b[0m\u001b[0;34m\u001b[0m\u001b[0m\n\u001b[1;32m   1154\u001b[0m       \u001b[0mresults\u001b[0m \u001b[0;34m=\u001b[0m \u001b[0;34m[\u001b[0m\u001b[0;34m]\u001b[0m\u001b[0;34m\u001b[0m\u001b[0;34m\u001b[0m\u001b[0m\n",
      "\u001b[0;32m~/miniconda3/envs/keras-redo/lib/python3.7/site-packages/tensorflow/python/client/session.py\u001b[0m in \u001b[0;36m_do_run\u001b[0;34m(self, handle, target_list, fetch_list, feed_dict, options, run_metadata)\u001b[0m\n\u001b[1;32m   1326\u001b[0m     \u001b[0;32mif\u001b[0m \u001b[0mhandle\u001b[0m \u001b[0;32mis\u001b[0m \u001b[0;32mNone\u001b[0m\u001b[0;34m:\u001b[0m\u001b[0;34m\u001b[0m\u001b[0;34m\u001b[0m\u001b[0m\n\u001b[1;32m   1327\u001b[0m       return self._do_call(_run_fn, feeds, fetches, targets, options,\n\u001b[0;32m-> 1328\u001b[0;31m                            run_metadata)\n\u001b[0m\u001b[1;32m   1329\u001b[0m     \u001b[0;32melse\u001b[0m\u001b[0;34m:\u001b[0m\u001b[0;34m\u001b[0m\u001b[0;34m\u001b[0m\u001b[0m\n\u001b[1;32m   1330\u001b[0m       \u001b[0;32mreturn\u001b[0m \u001b[0mself\u001b[0m\u001b[0;34m.\u001b[0m\u001b[0m_do_call\u001b[0m\u001b[0;34m(\u001b[0m\u001b[0m_prun_fn\u001b[0m\u001b[0;34m,\u001b[0m \u001b[0mhandle\u001b[0m\u001b[0;34m,\u001b[0m \u001b[0mfeeds\u001b[0m\u001b[0;34m,\u001b[0m \u001b[0mfetches\u001b[0m\u001b[0;34m)\u001b[0m\u001b[0;34m\u001b[0m\u001b[0;34m\u001b[0m\u001b[0m\n",
      "\u001b[0;32m~/miniconda3/envs/keras-redo/lib/python3.7/site-packages/tensorflow/python/client/session.py\u001b[0m in \u001b[0;36m_do_call\u001b[0;34m(self, fn, *args)\u001b[0m\n\u001b[1;32m   1332\u001b[0m   \u001b[0;32mdef\u001b[0m \u001b[0m_do_call\u001b[0m\u001b[0;34m(\u001b[0m\u001b[0mself\u001b[0m\u001b[0;34m,\u001b[0m \u001b[0mfn\u001b[0m\u001b[0;34m,\u001b[0m \u001b[0;34m*\u001b[0m\u001b[0margs\u001b[0m\u001b[0;34m)\u001b[0m\u001b[0;34m:\u001b[0m\u001b[0;34m\u001b[0m\u001b[0;34m\u001b[0m\u001b[0m\n\u001b[1;32m   1333\u001b[0m     \u001b[0;32mtry\u001b[0m\u001b[0;34m:\u001b[0m\u001b[0;34m\u001b[0m\u001b[0;34m\u001b[0m\u001b[0m\n\u001b[0;32m-> 1334\u001b[0;31m       \u001b[0;32mreturn\u001b[0m \u001b[0mfn\u001b[0m\u001b[0;34m(\u001b[0m\u001b[0;34m*\u001b[0m\u001b[0margs\u001b[0m\u001b[0;34m)\u001b[0m\u001b[0;34m\u001b[0m\u001b[0;34m\u001b[0m\u001b[0m\n\u001b[0m\u001b[1;32m   1335\u001b[0m     \u001b[0;32mexcept\u001b[0m \u001b[0merrors\u001b[0m\u001b[0;34m.\u001b[0m\u001b[0mOpError\u001b[0m \u001b[0;32mas\u001b[0m \u001b[0me\u001b[0m\u001b[0;34m:\u001b[0m\u001b[0;34m\u001b[0m\u001b[0;34m\u001b[0m\u001b[0m\n\u001b[1;32m   1336\u001b[0m       \u001b[0mmessage\u001b[0m \u001b[0;34m=\u001b[0m \u001b[0mcompat\u001b[0m\u001b[0;34m.\u001b[0m\u001b[0mas_text\u001b[0m\u001b[0;34m(\u001b[0m\u001b[0me\u001b[0m\u001b[0;34m.\u001b[0m\u001b[0mmessage\u001b[0m\u001b[0;34m)\u001b[0m\u001b[0;34m\u001b[0m\u001b[0;34m\u001b[0m\u001b[0m\n",
      "\u001b[0;32m~/miniconda3/envs/keras-redo/lib/python3.7/site-packages/tensorflow/python/client/session.py\u001b[0m in \u001b[0;36m_run_fn\u001b[0;34m(feed_dict, fetch_list, target_list, options, run_metadata)\u001b[0m\n\u001b[1;32m   1317\u001b[0m       \u001b[0mself\u001b[0m\u001b[0;34m.\u001b[0m\u001b[0m_extend_graph\u001b[0m\u001b[0;34m(\u001b[0m\u001b[0;34m)\u001b[0m\u001b[0;34m\u001b[0m\u001b[0;34m\u001b[0m\u001b[0m\n\u001b[1;32m   1318\u001b[0m       return self._call_tf_sessionrun(\n\u001b[0;32m-> 1319\u001b[0;31m           options, feed_dict, fetch_list, target_list, run_metadata)\n\u001b[0m\u001b[1;32m   1320\u001b[0m \u001b[0;34m\u001b[0m\u001b[0m\n\u001b[1;32m   1321\u001b[0m     \u001b[0;32mdef\u001b[0m \u001b[0m_prun_fn\u001b[0m\u001b[0;34m(\u001b[0m\u001b[0mhandle\u001b[0m\u001b[0;34m,\u001b[0m \u001b[0mfeed_dict\u001b[0m\u001b[0;34m,\u001b[0m \u001b[0mfetch_list\u001b[0m\u001b[0;34m)\u001b[0m\u001b[0;34m:\u001b[0m\u001b[0;34m\u001b[0m\u001b[0;34m\u001b[0m\u001b[0m\n",
      "\u001b[0;32m~/miniconda3/envs/keras-redo/lib/python3.7/site-packages/tensorflow/python/client/session.py\u001b[0m in \u001b[0;36m_call_tf_sessionrun\u001b[0;34m(self, options, feed_dict, fetch_list, target_list, run_metadata)\u001b[0m\n\u001b[1;32m   1405\u001b[0m     return tf_session.TF_SessionRun_wrapper(\n\u001b[1;32m   1406\u001b[0m         \u001b[0mself\u001b[0m\u001b[0;34m.\u001b[0m\u001b[0m_session\u001b[0m\u001b[0;34m,\u001b[0m \u001b[0moptions\u001b[0m\u001b[0;34m,\u001b[0m \u001b[0mfeed_dict\u001b[0m\u001b[0;34m,\u001b[0m \u001b[0mfetch_list\u001b[0m\u001b[0;34m,\u001b[0m \u001b[0mtarget_list\u001b[0m\u001b[0;34m,\u001b[0m\u001b[0;34m\u001b[0m\u001b[0;34m\u001b[0m\u001b[0m\n\u001b[0;32m-> 1407\u001b[0;31m         run_metadata)\n\u001b[0m\u001b[1;32m   1408\u001b[0m \u001b[0;34m\u001b[0m\u001b[0m\n\u001b[1;32m   1409\u001b[0m   \u001b[0;32mdef\u001b[0m \u001b[0m_call_tf_sessionprun\u001b[0m\u001b[0;34m(\u001b[0m\u001b[0mself\u001b[0m\u001b[0;34m,\u001b[0m \u001b[0mhandle\u001b[0m\u001b[0;34m,\u001b[0m \u001b[0mfeed_dict\u001b[0m\u001b[0;34m,\u001b[0m \u001b[0mfetch_list\u001b[0m\u001b[0;34m)\u001b[0m\u001b[0;34m:\u001b[0m\u001b[0;34m\u001b[0m\u001b[0;34m\u001b[0m\u001b[0m\n",
      "\u001b[0;31mKeyboardInterrupt\u001b[0m: "
     ]
    },
    {
     "name": "stderr",
     "output_type": "stream",
     "text": [
      "  File \"/home/ms994/dbmi_eeg_clustering/ensembleReader.py\", line 296, in __getitem__\n",
      "    axis=0)\n",
      "  File \"/home/ms994/miniconda3/envs/keras-redo/lib/python3.7/site-packages/pandas/core/indexes/base.py\", line 4455, in get_indexer_for\n",
      "    return self.get_indexer(target, **kwargs)\n",
      "  File \"/home/ms994/dbmi_eeg_clustering/ensembleReader.py\", line 274, in __getitem__\n",
      "    return self.getItemSlice(i)\n",
      "  File \"/home/ms994/miniconda3/envs/keras-redo/lib/python3.7/site-packages/pandas/core/frame.py\", line 2867, in _ixs\n",
      "    label = self.columns[i]\n",
      "  File \"/home/ms994/dbmi_eeg_clustering/ensembleReader.py\", line 274, in __getitem__\n",
      "    return self.getItemSlice(i)\n",
      "  File \"/home/ms994/dbmi_eeg_clustering/data_reader.py\", line 638, in edf_eeg_2_df\n",
      "    periods=len(signal_data)\n",
      "  File \"/home/ms994/miniconda3/envs/keras-redo/lib/python3.7/site-packages/pandas/core/apply.py\", line 257, in apply_standard\n",
      "    self.apply_series_generator()\n",
      "  File \"/home/ms994/miniconda3/envs/keras-redo/lib/python3.7/site-packages/pandas/core/reshape/concat.py\", line 403, in get_result\n",
      "    df = cons(data, index=index)\n",
      "  File \"/home/ms994/miniconda3/envs/keras-redo/lib/python3.7/site-packages/pandas/core/apply.py\", line 151, in get_result\n",
      "    return self.apply_standard()\n",
      "  File \"/home/ms994/dbmi_eeg_clustering/util_funcs.py\", line 91, in getItemSlice\n",
      "    toReturn[i] = self[j]\n",
      "  File \"/home/ms994/miniconda3/envs/keras-redo/lib/python3.7/site-packages/pandas/core/apply.py\", line 286, in apply_series_generator\n",
      "    results[i] = self.f(v)\n",
      "  File \"/home/ms994/dbmi_eeg_clustering/ensembleReader.py\", line 295, in <lambda>\n",
      "    order=self.order_filt),\n",
      "  File \"/home/ms994/miniconda3/envs/keras-redo/lib/python3.7/site-packages/pandas/core/indexes/base.py\", line 2718, in get_indexer\n",
      "    target = ensure_index(target)\n",
      "  File \"/home/ms994/miniconda3/envs/keras-redo/lib/python3.7/site-packages/pandas/core/frame.py\", line 6487, in apply\n",
      "    return op.get_result()\n",
      "  File \"/home/ms994/miniconda3/envs/keras-redo/lib/python3.7/site-packages/pandas/core/indexes/base.py\", line 3957, in __getitem__\n",
      "    key = com.cast_scalar_indexer(key)\n",
      "  File \"/home/ms994/miniconda3/envs/keras-redo/lib/python3.7/site-packages/pandas/core/apply.py\", line 260, in apply_standard\n",
      "    return self.wrap_results()\n",
      "  File \"/home/ms994/miniconda3/envs/keras-redo/lib/python3.7/site-packages/pandas/core/indexes/datetimes.py\", line 1524, in date_range\n",
      "    closed=closed, **kwargs)\n",
      "  File \"/home/ms994/dbmi_eeg_clustering/ensembleReader.py\", line 296, in __getitem__\n",
      "    axis=0)\n",
      "  File \"/home/ms994/dbmi_eeg_clustering/data_reader.py\", line 643, in edf_eeg_2_df\n",
      "    data = pd.concat(all_channels, axis=1)\n",
      "  File \"/home/ms994/miniconda3/envs/keras-redo/lib/python3.7/site-packages/pandas/core/indexes/base.py\", line 5364, in ensure_index\n",
      "    converted, all_arrays = lib.clean_index_list(index_like)\n",
      "  File \"/home/ms994/miniconda3/envs/keras-redo/lib/python3.7/site-packages/pandas/core/internals/construction.py\", line 212, in init_dict\n",
      "    return arrays_to_mgr(arrays, data_names, index, columns, dtype=dtype)\n",
      "  File \"/home/ms994/miniconda3/envs/keras-redo/lib/python3.7/site-packages/pandas/core/common.py\", line 157, in cast_scalar_indexer\n",
      "    if lib.is_float(val) and val == int(val):\n",
      "  File \"/home/ms994/dbmi_eeg_clustering/wf_analysis/filters.py\", line 15, in butter_bandpass_filter\n",
      "    b, a = butter_bandpass(lowcut, highcut, fs, order=order)\n",
      "  File \"/home/ms994/miniconda3/envs/keras-redo/lib/python3.7/site-packages/pandas/core/arrays/datetimes.py\", line 408, in _generate_range\n",
      "    freq = to_offset(freq)\n",
      "  File \"/home/ms994/dbmi_eeg_clustering/util_funcs.py\", line 91, in getItemSlice\n",
      "    toReturn[i] = self[j]\n",
      "  File \"/home/ms994/miniconda3/envs/keras-redo/lib/python3.7/site-packages/pandas/core/frame.py\", line 392, in __init__\n",
      "    mgr = init_dict(data, index, columns, dtype=dtype)\n",
      "  File \"/home/ms994/miniconda3/envs/keras-redo/lib/python3.7/site-packages/pandas/core/apply.py\", line 308, in wrap_results\n",
      "    return self.wrap_results_for_axis()\n",
      "  File \"/home/ms994/miniconda3/envs/keras-redo/lib/python3.7/site-packages/pandas/core/frame.py\", line 6487, in apply\n",
      "    return op.get_result()\n",
      "  File \"/home/ms994/miniconda3/envs/keras-redo/lib/python3.7/site-packages/pandas/core/reshape/concat.py\", line 229, in concat\n",
      "    return op.get_result()\n",
      "  File \"/home/ms994/dbmi_eeg_clustering/wf_analysis/filters.py\", line 10, in butter_bandpass\n",
      "    b, a = butter(order, [low, high], btype='band')\n",
      "  File \"/home/ms994/miniconda3/envs/keras-redo/lib/python3.7/site-packages/pandas/core/apply.py\", line 340, in wrap_results_for_axis\n",
      "    result = self.obj._constructor(data=results)\n",
      "  File \"/home/ms994/miniconda3/envs/keras-redo/lib/python3.7/site-packages/pandas/core/internals/construction.py\", line 56, in arrays_to_mgr\n",
      "    arrays = _homogenize(arrays, index, dtype)\n",
      "  File \"pandas/_libs/lib.pyx\", line 643, in pandas._libs.lib.clean_index_list\n",
      "  File \"/home/ms994/miniconda3/envs/keras-redo/lib/python3.7/site-packages/pandas/core/frame.py\", line 392, in __init__\n",
      "    mgr = init_dict(data, index, columns, dtype=dtype)\n",
      "  File \"/home/ms994/miniconda3/envs/keras-redo/lib/python3.7/site-packages/pandas/core/internals/construction.py\", line 212, in init_dict\n",
      "    return arrays_to_mgr(arrays, data_names, index, columns, dtype=dtype)\n",
      "  File \"/home/ms994/miniconda3/envs/keras-redo/lib/python3.7/site-packages/pandas/core/frame.py\", line 392, in __init__\n",
      "    mgr = init_dict(data, index, columns, dtype=dtype)\n",
      "  File \"/home/ms994/miniconda3/envs/keras-redo/lib/python3.7/site-packages/pandas/core/apply.py\", line 151, in get_result\n",
      "    return self.apply_standard()\n",
      "  File \"/home/ms994/miniconda3/envs/keras-redo/lib/python3.7/site-packages/scipy/signal/filter_design.py\", line 2591, in butter\n",
      "    output=output, ftype='butter', fs=fs)\n",
      "  File \"/home/ms994/miniconda3/envs/keras-redo/lib/python3.7/site-packages/pandas/tseries/frequencies.py\", line 128, in to_offset\n",
      "    delta = delta + offset\n",
      "KeyboardInterrupt\n",
      "  File \"/home/ms994/dbmi_eeg_clustering/ensembleReader.py\", line 296, in __getitem__\n",
      "    axis=0)\n",
      "  File \"/home/ms994/miniconda3/envs/keras-redo/lib/python3.7/site-packages/pandas/core/apply.py\", line 151, in get_result\n",
      "    return self.apply_standard()\n",
      "  File \"/home/ms994/miniconda3/envs/keras-redo/lib/python3.7/site-packages/pandas/core/reshape/concat.py\", line 403, in get_result\n",
      "    df = cons(data, index=index)\n",
      "  File \"/home/ms994/miniconda3/envs/keras-redo/lib/python3.7/site-packages/pandas/core/apply.py\", line 257, in apply_standard\n",
      "    self.apply_series_generator()\n",
      "  File \"/home/ms994/miniconda3/envs/keras-redo/lib/python3.7/site-packages/pandas/tseries/offsets.py\", line 2260, in __add__\n",
      "    return _delta_to_tick(self.delta + other.delta)\n",
      "  File \"pandas/_libs/lib.pyx\", line 1230, in pandas._libs.lib.infer_dtype\n",
      "  File \"/home/ms994/miniconda3/envs/keras-redo/lib/python3.7/site-packages/pandas/core/internals/construction.py\", line 212, in init_dict\n",
      "    return arrays_to_mgr(arrays, data_names, index, columns, dtype=dtype)\n",
      "  File \"/home/ms994/miniconda3/envs/keras-redo/lib/python3.7/site-packages/pandas/core/internals/construction.py\", line 265, in _homogenize\n",
      "    val = val.reindex(index, copy=False)\n",
      "  File \"/home/ms994/miniconda3/envs/keras-redo/lib/python3.7/site-packages/pandas/core/internals/construction.py\", line 56, in arrays_to_mgr\n",
      "    arrays = _homogenize(arrays, index, dtype)\n",
      "  File \"/home/ms994/miniconda3/envs/keras-redo/lib/python3.7/site-packages/scipy/signal/filter_design.py\", line 2129, in iirfilter\n",
      "    return zpk2tf(z, p, k)\n",
      "  File \"/home/ms994/miniconda3/envs/keras-redo/lib/python3.7/site-packages/pandas/core/internals/construction.py\", line 61, in arrays_to_mgr\n",
      "    return create_block_manager_from_arrays(arrays, arr_names, axes)\n",
      "  File \"/home/ms994/miniconda3/envs/keras-redo/lib/python3.7/site-packages/pandas/core/internals/construction.py\", line 265, in _homogenize\n",
      "    val = val.reindex(index, copy=False)\n",
      "  File \"<frozen importlib._bootstrap>\", line 980, in _find_and_load\n",
      "  File \"/home/ms994/miniconda3/envs/keras-redo/lib/python3.7/site-packages/pandas/core/series.py\", line 3738, in reindex\n",
      "    return super(Series, self).reindex(index=index, **kwargs)\n",
      "  File \"/home/ms994/miniconda3/envs/keras-redo/lib/python3.7/site-packages/pandas/core/apply.py\", line 257, in apply_standard\n",
      "    self.apply_series_generator()\n"
     ]
    },
    {
     "name": "stderr",
     "output_type": "stream",
     "text": [
      "  File \"/home/ms994/miniconda3/envs/keras-redo/lib/python3.7/site-packages/pandas/tseries/offsets.py\", line 2310, in delta\n",
      "    return self.n * self._inc\n",
      "  File \"/home/ms994/miniconda3/envs/keras-redo/lib/python3.7/site-packages/pandas/core/series.py\", line 3738, in reindex\n",
      "    return super(Series, self).reindex(index=index, **kwargs)\n",
      "  File \"/home/ms994/miniconda3/envs/keras-redo/lib/python3.7/site-packages/pandas/core/internals/construction.py\", line 212, in init_dict\n",
      "    return arrays_to_mgr(arrays, data_names, index, columns, dtype=dtype)\n",
      "  File \"/home/ms994/miniconda3/envs/keras-redo/lib/python3.7/site-packages/pandas/core/apply.py\", line 286, in apply_series_generator\n",
      "    results[i] = self.f(v)\n",
      "  File \"/home/ms994/miniconda3/envs/keras-redo/lib/python3.7/site-packages/scipy/signal/filter_design.py\", line 1105, in zpk2tf\n",
      "    b = k * poly(z)\n",
      "  File \"/home/ms994/miniconda3/envs/keras-redo/lib/python3.7/site-packages/pandas/core/internals/managers.py\", line 1666, in create_block_manager_from_arrays\n",
      "    blocks = form_blocks(arrays, names, axes)\n",
      "  File \"/home/ms994/miniconda3/envs/keras-redo/lib/python3.7/site-packages/pandas/core/frame.py\", line 6487, in apply\n",
      "    return op.get_result()\n",
      "KeyboardInterrupt\n",
      "  File \"<frozen importlib._bootstrap>\", line 143, in __init__\n",
      "  File \"/home/ms994/miniconda3/envs/keras-redo/lib/python3.7/site-packages/pandas/core/apply.py\", line 286, in apply_series_generator\n",
      "    results[i] = self.f(v)\n",
      "KeyboardInterrupt\n",
      "  File \"/home/ms994/miniconda3/envs/keras-redo/lib/python3.7/site-packages/pandas/core/generic.py\", line 4356, in reindex\n",
      "    fill_value, copy).__finalize__(self)\n",
      "  File \"/home/ms994/miniconda3/envs/keras-redo/lib/python3.7/site-packages/pandas/core/internals/managers.py\", line 1717, in form_blocks\n",
      "    block_type = get_block_type(v)\n",
      "  File \"/home/ms994/miniconda3/envs/keras-redo/lib/python3.7/site-packages/numpy/lib/polynomial.py\", line 153, in poly\n",
      "    mode='full')\n",
      "  File \"/home/ms994/miniconda3/envs/keras-redo/lib/python3.7/site-packages/pandas/core/internals/construction.py\", line 56, in arrays_to_mgr\n",
      "    arrays = _homogenize(arrays, index, dtype)\n",
      "KeyboardInterrupt\n",
      "  File \"/home/ms994/dbmi_eeg_clustering/ensembleReader.py\", line 293, in <lambda>\n",
      "    seconds=1) /\n",
      "  File \"/home/ms994/miniconda3/envs/keras-redo/lib/python3.7/site-packages/pandas/core/apply.py\", line 151, in get_result\n",
      "    return self.apply_standard()\n",
      "  File \"/home/ms994/dbmi_eeg_clustering/ensembleReader.py\", line 295, in <lambda>\n",
      "    order=self.order_filt),\n",
      "  File \"/home/ms994/miniconda3/envs/keras-redo/lib/python3.7/site-packages/pandas/core/generic.py\", line 4374, in _reindex_axes\n",
      "    copy=copy, allow_dups=False)\n",
      "  File \"/home/ms994/miniconda3/envs/keras-redo/lib/python3.7/site-packages/pandas/core/internals/blocks.py\", line 3062, in get_block_type\n",
      "    elif is_extension_array_dtype(values):\n",
      "  File \"/home/ms994/miniconda3/envs/keras-redo/lib/python3.7/site-packages/numpy/core/numeric.py\", line 1114, in convolve\n",
      "    return multiarray.correlate(a, v[::-1], mode)\n",
      "  File \"/home/ms994/dbmi_eeg_clustering/wf_analysis/filters.py\", line 15, in butter_bandpass_filter\n",
      "    b, a = butter_bandpass(lowcut, highcut, fs, order=order)\n",
      "  File \"/home/ms994/miniconda3/envs/keras-redo/lib/python3.7/site-packages/pandas/core/internals/construction.py\", line 265, in _homogenize\n",
      "    val = val.reindex(index, copy=False)\n",
      "  File \"/home/ms994/miniconda3/envs/keras-redo/lib/python3.7/site-packages/pandas/core/generic.py\", line 4490, in _reindex_with_indexers\n",
      "    copy=copy)\n",
      "KeyboardInterrupt\n",
      "  File \"/home/ms994/miniconda3/envs/keras-redo/lib/python3.7/site-packages/pandas/core/apply.py\", line 257, in apply_standard\n",
      "    self.apply_series_generator()\n",
      "  File \"/home/ms994/dbmi_eeg_clustering/wf_analysis/filters.py\", line 10, in butter_bandpass\n",
      "    b, a = butter(order, [low, high], btype='band')\n",
      "  File \"/home/ms994/miniconda3/envs/keras-redo/lib/python3.7/site-packages/pandas/core/internals/managers.py\", line 1231, in reindex_indexer\n",
      "    fill_tuple=(fill_value,))\n",
      "  File \"/home/ms994/miniconda3/envs/keras-redo/lib/python3.7/site-packages/pandas/core/apply.py\", line 286, in apply_series_generator\n",
      "    results[i] = self.f(v)\n",
      "  File \"/home/ms994/miniconda3/envs/keras-redo/lib/python3.7/site-packages/pandas/core/internals/managers.py\", line 1270, in _slice_take_blocks_ax0\n",
      "    fill_tuple=fill_tuple)]\n",
      "  File \"/home/ms994/dbmi_eeg_clustering/ensembleReader.py\", line 295, in <lambda>\n",
      "    order=self.order_filt),\n",
      "  File \"/home/ms994/dbmi_eeg_clustering/wf_analysis/filters.py\", line 15, in butter_bandpass_filter\n",
      "    b, a = butter_bandpass(lowcut, highcut, fs, order=order)\n",
      "  File \"/home/ms994/dbmi_eeg_clustering/wf_analysis/filters.py\", line 10, in butter_bandpass\n",
      "    b, a = butter(order, [low, high], btype='band')\n",
      "  File \"/home/ms994/miniconda3/envs/keras-redo/lib/python3.7/site-packages/scipy/signal/filter_design.py\", line 2591, in butter\n",
      "    output=output, ftype='butter', fs=fs)\n",
      "  File \"/home/ms994/miniconda3/envs/keras-redo/lib/python3.7/site-packages/scipy/signal/filter_design.py\", line 2591, in butter\n",
      "    output=output, ftype='butter', fs=fs)\n",
      "  File \"/home/ms994/miniconda3/envs/keras-redo/lib/python3.7/site-packages/scipy/signal/filter_design.py\", line 2129, in iirfilter\n",
      "    return zpk2tf(z, p, k)\n",
      "  File \"/home/ms994/miniconda3/envs/keras-redo/lib/python3.7/site-packages/pandas/core/internals/blocks.py\", line 1238, in take_nd\n",
      "    allow_fill=True, fill_value=fill_value)\n",
      "  File \"/home/ms994/miniconda3/envs/keras-redo/lib/python3.7/site-packages/scipy/signal/filter_design.py\", line 2129, in iirfilter\n",
      "    return zpk2tf(z, p, k)\n",
      "KeyboardInterrupt\n",
      "  File \"/home/ms994/miniconda3/envs/keras-redo/lib/python3.7/site-packages/scipy/signal/filter_design.py\", line 1106, in zpk2tf\n",
      "    a = atleast_1d(poly(p))\n",
      "  File \"/home/ms994/miniconda3/envs/keras-redo/lib/python3.7/site-packages/pandas/core/algorithms.py\", line 1654, in take_nd\n",
      "    mask_info=mask_info)\n",
      "  File \"/home/ms994/miniconda3/envs/keras-redo/lib/python3.7/site-packages/numpy/lib/polynomial.py\", line 153, in poly\n",
      "    mode='full')\n",
      "  File \"/home/ms994/miniconda3/envs/keras-redo/lib/python3.7/site-packages/pandas/core/algorithms.py\", line 1427, in _get_take_nd_function\n",
      "    if func is not None:\n",
      "  File \"/home/ms994/miniconda3/envs/keras-redo/lib/python3.7/site-packages/numpy/core/numeric.py\", line 1114, in convolve\n",
      "    return multiarray.correlate(a, v[::-1], mode)\n",
      "KeyboardInterrupt\n",
      "KeyboardInterrupt\n",
      "  File \"/home/ms994/miniconda3/envs/keras-redo/lib/python3.7/site-packages/pandas/core/series.py\", line 3738, in reindex\n",
      "    return super(Series, self).reindex(index=index, **kwargs)\n",
      "  File \"/home/ms994/miniconda3/envs/keras-redo/lib/python3.7/site-packages/scipy/signal/filter_design.py\", line 1105, in zpk2tf\n",
      "    b = k * poly(z)\n",
      "  File \"/home/ms994/miniconda3/envs/keras-redo/lib/python3.7/site-packages/pandas/core/dtypes/common.py\", line 1749, in is_extension_array_dtype\n",
      "    registry.find(dtype) is not None)\n",
      "  File \"/home/ms994/miniconda3/envs/keras-redo/lib/python3.7/site-packages/numpy/lib/polynomial.py\", line 158, in poly\n",
      "    if NX.all(NX.sort(roots) == NX.sort(roots.conjugate())):\n",
      "  File \"/home/ms994/miniconda3/envs/keras-redo/lib/python3.7/site-packages/pandas/core/generic.py\", line 4337, in reindex\n",
      "    self._consolidate_inplace()\n",
      "  File \"/home/ms994/miniconda3/envs/keras-redo/lib/python3.7/site-packages/pandas/core/dtypes/dtypes.py\", line 78, in find\n",
      "    if not isinstance(dtype, compat.string_types):\n",
      "KeyboardInterrupt\n",
      "KeyboardInterrupt\n",
      "KeyboardInterrupt\n"
     ]
    }
   ],
   "source": [
    "from keras.utils import multi_gpu_model\n",
    "model = multi_gpu_model(model, 2)\n",
    "model.compile(\"adam\", loss=[\"binary_crossentropy\"], metrics=[\"binary_accuracy\"])\n",
    "history = model.fit_generator(edg, validation_data=valid_edg, use_multiprocessing=True, max_queue_size=500000, workers=8, epochs=30, callbacks=[stopping, mc])"
   ]
  },
  {
   "cell_type": "markdown",
   "metadata": {},
   "source": [
    "# Try 2d cnn with domain adaptation"
   ]
  },
  {
   "cell_type": "code",
   "execution_count": 16,
   "metadata": {},
   "outputs": [
    {
     "ename": "NameError",
     "evalue": "name 'tkn_file_paths' is not defined",
     "output_type": "error",
     "traceback": [
      "\u001b[0;31m---------------------------------------------------------------------------\u001b[0m",
      "\u001b[0;31mNameError\u001b[0m                                 Traceback (most recent call last)",
      "\u001b[0;32m<ipython-input-16-8ae91708bc91>\u001b[0m in \u001b[0;36m<module>\u001b[0;34m\u001b[0m\n\u001b[0;32m----> 1\u001b[0;31m \u001b[0mread\u001b[0m\u001b[0;34m.\u001b[0m\u001b[0mparse_edf_token_path_structure\u001b[0m\u001b[0;34m(\u001b[0m\u001b[0mtkn_file_paths\u001b[0m\u001b[0;34m[\u001b[0m\u001b[0;36m0\u001b[0m\u001b[0;34m]\u001b[0m\u001b[0;34m)\u001b[0m\u001b[0;34m\u001b[0m\u001b[0;34m\u001b[0m\u001b[0m\n\u001b[0m",
      "\u001b[0;31mNameError\u001b[0m: name 'tkn_file_paths' is not defined"
     ]
    }
   ],
   "source": [
    "read.parse_edf_token_path_structure(tkn_file_paths[0])"
   ]
  },
  {
   "cell_type": "code",
   "execution_count": 125,
   "metadata": {},
   "outputs": [],
   "source": [
    "tkn_file_paths = [train_edss.sampleInfo[key].token_file_path for key in train_edss.sampleInfo.keys()]"
   ]
  },
  {
   "cell_type": "code",
   "execution_count": 126,
   "metadata": {},
   "outputs": [],
   "source": [
    "patients = [read.parse_edf_token_path_structure(tkn_file_path)[1] + \"/\" + read.parse_edf_token_path_structure(tkn_file_path)[2]  for tkn_file_path in tkn_file_paths]"
   ]
  },
  {
   "cell_type": "code",
   "execution_count": 127,
   "metadata": {},
   "outputs": [],
   "source": [
    "allPatients = list(set(patients))"
   ]
  },
  {
   "cell_type": "code",
   "execution_count": 128,
   "metadata": {},
   "outputs": [],
   "source": [
    "patientInd = [allPatients.index(patient) for patient in patients]"
   ]
  },
  {
   "cell_type": "code",
   "execution_count": 129,
   "metadata": {},
   "outputs": [],
   "source": [
    "# validPatientInd = [allPatients.index(read.parse_edf_token_path_structure(valid_edss.sampleInfo[key].token_file_path)[1]) for key in valid_edss.sampleInfo.keys()]"
   ]
  },
  {
   "cell_type": "code",
   "execution_count": 130,
   "metadata": {},
   "outputs": [],
   "source": [
    "validPatientInd = [1 for i in valid_edss.sampleInfo.keys()] #set to 1, this should never be accurate anyways"
   ]
  },
  {
   "cell_type": "code",
   "execution_count": 131,
   "metadata": {},
   "outputs": [],
   "source": [
    "seizureLabels = [train_edss.sampleInfo[key].label for key in train_edss.sampleInfo.keys()]\n",
    "validSeizureLabels = [valid_edss.sampleInfo[key].label for key in valid_edss.sampleInfo.keys()]"
   ]
  },
  {
   "cell_type": "code",
   "execution_count": 132,
   "metadata": {},
   "outputs": [],
   "source": [
    "for i in range(len(seizureLabels)):\n",
    "    train_edss.sampleInfo[i].label = (seizureLabels[i], patientInd[i])"
   ]
  },
  {
   "cell_type": "code",
   "execution_count": 133,
   "metadata": {},
   "outputs": [],
   "source": [
    "for i in range(len(validSeizureLabels)):\n",
    "    valid_edss.sampleInfo[i].label = (validSeizureLabels[i], validPatientInd[i])"
   ]
  },
  {
   "cell_type": "code",
   "execution_count": 134,
   "metadata": {},
   "outputs": [
    {
     "data": {
      "text/plain": [
       "559"
      ]
     },
     "execution_count": 134,
     "metadata": {},
     "output_type": "execute_result"
    }
   ],
   "source": [
    "len(allPatients)"
   ]
  },
  {
   "cell_type": "markdown",
   "metadata": {},
   "source": [
    "## Set up the data generators"
   ]
  },
  {
   "cell_type": "code",
   "execution_count": 92,
   "metadata": {},
   "outputs": [
    {
     "ename": "AttributeError",
     "evalue": "'list' object has no attribute 'use_mp'",
     "output_type": "error",
     "traceback": [
      "\u001b[0;31m---------------------------------------------------------------------------\u001b[0m",
      "\u001b[0;31mAttributeError\u001b[0m                            Traceback (most recent call last)",
      "\u001b[0;32m<ipython-input-92-b639ae77710c>\u001b[0m in \u001b[0;36m<module>\u001b[0;34m\u001b[0m\n\u001b[0;32m----> 1\u001b[0;31m \u001b[0mtrain_edss\u001b[0m\u001b[0;34m.\u001b[0m\u001b[0muse_mp\u001b[0m\u001b[0;34m\u001b[0m\u001b[0;34m\u001b[0m\u001b[0m\n\u001b[0m\u001b[1;32m      2\u001b[0m \u001b[0mvalid_edss\u001b[0m\u001b[0;34m.\u001b[0m\u001b[0muse_mp\u001b[0m\u001b[0;34m\u001b[0m\u001b[0;34m\u001b[0m\u001b[0m\n",
      "\u001b[0;31mAttributeError\u001b[0m: 'list' object has no attribute 'use_mp'"
     ]
    }
   ],
   "source": [
    "train_edss.use_mp\n",
    "valid_edss.use_mp"
   ]
  },
  {
   "cell_type": "code",
   "execution_count": 26,
   "metadata": {},
   "outputs": [],
   "source": [
    "reload(dg)\n",
    "edg = dg.RULDataGenMultipleLabels(train_edss, num_labels=2, labels=[seizureLabels, patientInd], xy_tuple_form=True, n_classes=(2, len(allPatients)), use_background_process=False, precache=True, batch_size=32)\n",
    "valid_edg = dg.RULDataGenMultipleLabels(valid_edss, num_labels=2, labels=[validSeizureLabels, validPatientInd], xy_tuple_form=True, n_classes=(2, len(allPatients)), shuffle=False, use_background_process=False, precache=True, batch_size=64)"
   ]
  },
  {
   "cell_type": "code",
   "execution_count": 108,
   "metadata": {},
   "outputs": [
    {
     "data": {
      "text/plain": [
       "[(False, 10),\n",
       " (False, 10),\n",
       " (False, 10),\n",
       " (False, 10),\n",
       " (False, 10),\n",
       " (False, 10),\n",
       " (False, 10),\n",
       " (False, 10),\n",
       " (False, 10),\n",
       " (False, 10),\n",
       " (False, 10),\n",
       " (False, 10),\n",
       " (False, 10),\n",
       " (False, 10),\n",
       " (False, 10),\n",
       " (False, 10),\n",
       " (False, 10),\n",
       " (False, 10),\n",
       " (False, 10),\n",
       " (False, 10),\n",
       " (False, 10),\n",
       " (False, 10),\n",
       " (False, 10),\n",
       " (False, 10),\n",
       " (False, 10),\n",
       " (False, 10),\n",
       " (False, 10),\n",
       " (False, 10),\n",
       " (False, 10),\n",
       " (False, 10),\n",
       " (False, 10),\n",
       " (False, 10),\n",
       " (False, 10),\n",
       " (False, 10),\n",
       " (False, 10),\n",
       " (False, 10),\n",
       " (False, 10),\n",
       " (False, 10),\n",
       " (False, 10),\n",
       " (False, 10),\n",
       " (False, 10),\n",
       " (False, 10),\n",
       " (False, 10),\n",
       " (False, 10),\n",
       " (False, 10),\n",
       " (False, 10),\n",
       " (False, 10),\n",
       " (False, 10),\n",
       " (False, 10),\n",
       " (False, 10),\n",
       " (False, 10),\n",
       " (False, 10),\n",
       " (False, 10),\n",
       " (False, 10),\n",
       " (False, 10),\n",
       " (False, 10),\n",
       " (False, 10),\n",
       " (False, 10),\n",
       " (False, 10),\n",
       " (False, 10),\n",
       " (False, 10),\n",
       " (False, 10),\n",
       " (False, 10),\n",
       " (False, 10),\n",
       " (False, 10),\n",
       " (False, 10),\n",
       " (False, 10),\n",
       " (False, 10),\n",
       " (False, 10),\n",
       " (False, 10),\n",
       " (False, 10),\n",
       " (False, 10),\n",
       " (False, 10),\n",
       " (False, 10),\n",
       " (False, 10),\n",
       " (False, 10),\n",
       " (False, 10),\n",
       " (False, 10),\n",
       " (False, 10),\n",
       " (False, 10),\n",
       " (False, 10),\n",
       " (False, 10),\n",
       " (False, 10),\n",
       " (False, 10),\n",
       " (False, 10),\n",
       " (False, 10),\n",
       " (False, 10),\n",
       " (False, 10),\n",
       " (False, 10),\n",
       " (False, 10),\n",
       " (False, 10),\n",
       " (False, 10),\n",
       " (False, 10),\n",
       " (False, 10),\n",
       " (False, 10),\n",
       " (False, 10),\n",
       " (False, 10),\n",
       " (False, 10),\n",
       " (False, 10),\n",
       " (False, 10),\n",
       " (False, 10),\n",
       " (False, 10),\n",
       " (False, 10),\n",
       " (False, 10),\n",
       " (False, 10),\n",
       " (False, 10),\n",
       " (False, 10),\n",
       " (False, 10),\n",
       " (False, 10),\n",
       " (False, 10),\n",
       " (False, 10),\n",
       " (False, 10),\n",
       " (False, 10),\n",
       " (False, 10),\n",
       " (False, 10),\n",
       " (False, 10),\n",
       " (False, 10),\n",
       " (False, 10),\n",
       " (False, 10),\n",
       " (False, 10),\n",
       " (False, 10),\n",
       " (False, 10),\n",
       " (False, 10),\n",
       " (False, 10),\n",
       " (False, 10),\n",
       " (False, 10),\n",
       " (False, 10),\n",
       " (False, 10),\n",
       " (False, 10),\n",
       " (False, 10),\n",
       " (False, 10),\n",
       " (False, 10),\n",
       " (False, 10),\n",
       " (False, 10),\n",
       " (False, 10),\n",
       " (False, 10),\n",
       " (False, 10),\n",
       " (False, 10),\n",
       " (False, 10),\n",
       " (False, 10),\n",
       " (False, 10),\n",
       " (False, 10),\n",
       " (False, 10),\n",
       " (False, 10),\n",
       " (False, 10),\n",
       " (False, 10),\n",
       " (False, 10),\n",
       " (False, 10),\n",
       " (False, 10),\n",
       " (False, 10),\n",
       " (False, 10),\n",
       " (False, 10),\n",
       " (False, 10),\n",
       " (False, 10),\n",
       " (False, 10),\n",
       " (False, 10),\n",
       " (False, 10),\n",
       " (False, 10),\n",
       " (False, 10),\n",
       " (False, 10),\n",
       " (False, 10),\n",
       " (False, 10),\n",
       " (False, 10),\n",
       " (False, 10),\n",
       " (False, 10),\n",
       " (False, 10),\n",
       " (False, 10),\n",
       " (False, 10),\n",
       " (False, 10),\n",
       " (False, 10),\n",
       " (False, 10),\n",
       " (False, 10),\n",
       " (False, 10),\n",
       " (False, 10),\n",
       " (False, 10),\n",
       " (False, 10),\n",
       " (False, 10),\n",
       " (False, 10),\n",
       " (False, 10),\n",
       " (False, 10),\n",
       " (False, 10),\n",
       " (False, 10),\n",
       " (False, 10),\n",
       " (False, 10),\n",
       " (False, 10),\n",
       " (False, 10),\n",
       " (False, 10),\n",
       " (False, 10),\n",
       " (False, 10),\n",
       " (False, 10),\n",
       " (False, 10),\n",
       " (False, 10),\n",
       " (False, 10),\n",
       " (False, 10),\n",
       " (False, 10),\n",
       " (False, 10),\n",
       " (False, 10),\n",
       " (False, 10),\n",
       " (False, 10),\n",
       " (False, 10),\n",
       " (False, 10),\n",
       " (False, 10),\n",
       " (False, 10),\n",
       " (False, 10),\n",
       " (False, 10),\n",
       " (False, 10),\n",
       " (False, 10),\n",
       " (False, 10),\n",
       " (False, 10),\n",
       " (False, 10),\n",
       " (False, 10),\n",
       " (False, 10),\n",
       " (False, 10),\n",
       " (False, 10),\n",
       " (False, 10),\n",
       " (False, 10),\n",
       " (False, 10),\n",
       " (False, 10),\n",
       " (False, 10),\n",
       " (False, 10),\n",
       " (False, 10),\n",
       " (False, 10),\n",
       " (False, 10),\n",
       " (False, 10),\n",
       " (False, 10),\n",
       " (False, 10),\n",
       " (False, 10),\n",
       " (False, 10),\n",
       " (False, 10),\n",
       " (False, 10),\n",
       " (False, 10),\n",
       " (False, 10),\n",
       " (False, 10),\n",
       " (False, 10),\n",
       " (False, 10),\n",
       " (False, 10),\n",
       " (False, 10),\n",
       " (False, 10),\n",
       " (False, 10),\n",
       " (False, 10),\n",
       " (False, 10),\n",
       " (False, 10),\n",
       " (False, 10),\n",
       " (False, 10),\n",
       " (False, 10),\n",
       " (False, 10),\n",
       " (False, 10),\n",
       " (False, 10),\n",
       " (False, 10),\n",
       " (False, 10),\n",
       " (False, 10),\n",
       " (False, 10),\n",
       " (False, 10),\n",
       " (False, 10),\n",
       " (False, 10),\n",
       " (False, 10),\n",
       " (False, 10),\n",
       " (False, 10),\n",
       " (False, 10),\n",
       " (False, 10),\n",
       " (False, 10),\n",
       " (False, 10),\n",
       " (False, 10),\n",
       " (False, 10),\n",
       " (False, 10),\n",
       " (False, 10),\n",
       " (False, 10),\n",
       " (False, 10),\n",
       " (False, 10),\n",
       " (False, 10),\n",
       " (False, 10),\n",
       " (False, 10),\n",
       " (False, 10),\n",
       " (False, 10),\n",
       " (False, 10),\n",
       " (False, 10),\n",
       " (False, 10),\n",
       " (False, 10),\n",
       " (False, 10),\n",
       " (False, 10),\n",
       " (False, 10),\n",
       " (False, 10),\n",
       " (False, 10),\n",
       " (False, 10),\n",
       " (False, 10),\n",
       " (False, 10),\n",
       " (False, 10),\n",
       " (False, 10),\n",
       " (False, 10),\n",
       " (False, 10),\n",
       " (False, 10),\n",
       " (False, 10),\n",
       " (False, 10),\n",
       " (False, 10),\n",
       " (False, 10),\n",
       " (False, 10),\n",
       " (False, 10),\n",
       " (False, 10),\n",
       " (False, 10),\n",
       " (False, 10),\n",
       " (False, 10),\n",
       " (False, 10),\n",
       " (False, 10),\n",
       " (False, 10),\n",
       " (False, 10),\n",
       " (False, 10),\n",
       " (False, 10),\n",
       " (False, 10),\n",
       " (False, 10),\n",
       " (False, 10),\n",
       " (False, 10),\n",
       " (False, 10),\n",
       " (False, 10),\n",
       " (False, 10),\n",
       " (False, 10),\n",
       " (False, 10),\n",
       " (False, 10),\n",
       " (False, 10),\n",
       " (False, 10),\n",
       " (False, 10),\n",
       " (False, 10),\n",
       " (False, 10),\n",
       " (False, 10),\n",
       " (False, 10),\n",
       " (False, 10),\n",
       " (False, 10),\n",
       " (False, 10),\n",
       " (False, 10),\n",
       " (False, 10),\n",
       " (False, 10),\n",
       " (False, 10),\n",
       " (False, 10),\n",
       " (False, 10),\n",
       " (False, 10),\n",
       " (False, 10),\n",
       " (False, 10),\n",
       " (False, 10),\n",
       " (False, 10),\n",
       " (False, 10),\n",
       " (False, 10),\n",
       " (False, 10),\n",
       " (False, 10),\n",
       " (False, 10),\n",
       " (False, 10),\n",
       " (False, 10),\n",
       " (False, 10),\n",
       " (False, 10),\n",
       " (False, 10),\n",
       " (False, 10),\n",
       " (False, 10),\n",
       " (False, 10),\n",
       " (False, 10),\n",
       " (False, 10),\n",
       " (False, 10),\n",
       " (False, 10),\n",
       " (False, 10),\n",
       " (False, 10),\n",
       " (False, 10),\n",
       " (False, 10),\n",
       " (False, 10),\n",
       " (False, 10),\n",
       " (False, 10),\n",
       " (False, 10),\n",
       " (False, 10),\n",
       " (False, 10),\n",
       " (False, 10),\n",
       " (False, 10),\n",
       " (False, 10),\n",
       " (False, 10),\n",
       " (False, 10),\n",
       " (False, 10),\n",
       " (False, 10),\n",
       " (False, 10),\n",
       " (False, 10),\n",
       " (False, 10),\n",
       " (False, 10),\n",
       " (False, 10),\n",
       " (False, 10),\n",
       " (False, 10),\n",
       " (False, 10),\n",
       " (False, 10),\n",
       " (False, 10),\n",
       " (False, 10),\n",
       " (False, 10),\n",
       " (False, 10),\n",
       " (False, 10),\n",
       " (False, 10),\n",
       " (False, 10),\n",
       " (False, 10),\n",
       " (False, 10),\n",
       " (False, 10),\n",
       " (False, 10),\n",
       " (False, 10),\n",
       " (False, 10),\n",
       " (False, 10),\n",
       " (False, 10),\n",
       " (False, 10),\n",
       " (False, 10),\n",
       " (False, 10),\n",
       " (False, 10),\n",
       " (False, 10),\n",
       " (False, 10),\n",
       " (False, 10),\n",
       " (False, 10),\n",
       " (False, 10),\n",
       " (False, 10),\n",
       " (False, 10),\n",
       " (False, 10),\n",
       " (False, 10),\n",
       " (False, 10),\n",
       " (False, 10),\n",
       " (False, 10),\n",
       " (False, 10),\n",
       " (False, 10),\n",
       " (False, 10),\n",
       " (False, 10),\n",
       " (False, 10),\n",
       " (False, 10),\n",
       " (False, 10),\n",
       " (False, 10),\n",
       " (False, 10),\n",
       " (False, 10),\n",
       " (False, 10),\n",
       " (False, 10),\n",
       " (False, 10),\n",
       " (False, 10),\n",
       " (False, 10),\n",
       " (False, 10),\n",
       " (False, 10),\n",
       " (False, 10),\n",
       " (False, 10),\n",
       " (False, 10),\n",
       " (False, 10),\n",
       " (False, 10),\n",
       " (False, 10),\n",
       " (False, 10),\n",
       " (False, 10),\n",
       " (False, 10),\n",
       " (False, 10),\n",
       " (False, 10),\n",
       " (False, 10),\n",
       " (False, 10),\n",
       " (False, 10),\n",
       " (False, 10),\n",
       " (False, 10),\n",
       " (False, 10),\n",
       " (False, 10),\n",
       " (False, 10),\n",
       " (False, 10),\n",
       " (False, 10),\n",
       " (False, 10),\n",
       " (False, 10),\n",
       " (False, 10),\n",
       " (False, 10),\n",
       " (False, 10),\n",
       " (False, 10),\n",
       " (False, 10),\n",
       " (False, 10),\n",
       " (False, 10),\n",
       " (False, 10),\n",
       " (False, 10),\n",
       " (False, 10),\n",
       " (False, 10),\n",
       " (False, 10),\n",
       " (False, 10),\n",
       " (False, 10),\n",
       " (False, 10),\n",
       " (False, 10),\n",
       " (False, 10),\n",
       " (False, 10),\n",
       " (False, 10),\n",
       " (False, 10),\n",
       " (False, 10),\n",
       " (False, 10),\n",
       " (False, 10),\n",
       " (False, 10),\n",
       " (False, 10),\n",
       " (False, 10),\n",
       " (False, 10),\n",
       " (False, 10),\n",
       " (False, 10),\n",
       " (False, 10),\n",
       " (False, 10),\n",
       " (False, 10),\n",
       " (False, 10),\n",
       " (False, 10),\n",
       " (False, 10),\n",
       " (False, 10),\n",
       " (False, 10),\n",
       " (False, 10),\n",
       " (False, 10),\n",
       " (False, 10),\n",
       " (False, 10),\n",
       " (False, 10),\n",
       " (False, 10),\n",
       " (False, 10),\n",
       " (False, 10),\n",
       " (False, 10),\n",
       " (False, 10),\n",
       " (False, 10),\n",
       " (False, 10),\n",
       " (False, 10),\n",
       " (False, 10),\n",
       " (False, 10),\n",
       " (False, 10),\n",
       " (False, 10),\n",
       " (False, 10),\n",
       " (False, 10),\n",
       " (False, 10),\n",
       " (False, 10),\n",
       " (False, 10),\n",
       " (False, 10),\n",
       " (False, 10),\n",
       " (False, 10),\n",
       " (False, 10),\n",
       " (False, 10),\n",
       " (False, 10),\n",
       " (False, 10),\n",
       " (False, 10),\n",
       " (False, 10),\n",
       " (False, 10),\n",
       " (False, 10),\n",
       " (False, 10),\n",
       " (False, 10),\n",
       " (False, 10),\n",
       " (False, 10),\n",
       " (False, 10),\n",
       " (False, 10),\n",
       " (False, 10),\n",
       " (False, 10),\n",
       " (False, 10),\n",
       " (False, 10),\n",
       " (False, 10),\n",
       " (False, 10),\n",
       " (False, 10),\n",
       " (False, 10),\n",
       " (False, 10),\n",
       " (False, 10),\n",
       " (False, 10),\n",
       " (False, 10),\n",
       " (False, 10),\n",
       " (False, 10),\n",
       " (False, 10),\n",
       " (False, 10),\n",
       " (False, 10),\n",
       " (False, 10),\n",
       " (False, 10),\n",
       " (False, 10),\n",
       " (False, 10),\n",
       " (False, 10),\n",
       " (False, 10),\n",
       " (False, 10),\n",
       " (False, 10),\n",
       " (False, 10),\n",
       " (False, 10),\n",
       " (False, 10),\n",
       " (False, 10),\n",
       " (False, 10),\n",
       " (False, 10),\n",
       " (False, 10),\n",
       " (False, 10),\n",
       " (False, 10),\n",
       " (False, 10),\n",
       " (False, 10),\n",
       " (False, 10),\n",
       " (False, 10),\n",
       " (False, 10),\n",
       " (False, 10),\n",
       " (False, 10),\n",
       " (False, 10),\n",
       " (False, 10),\n",
       " (False, 10),\n",
       " (False, 10),\n",
       " (False, 10),\n",
       " (False, 10),\n",
       " (False, 10),\n",
       " (False, 10),\n",
       " (False, 10),\n",
       " (False, 10),\n",
       " (False, 10),\n",
       " (False, 10),\n",
       " (False, 10),\n",
       " (False, 10),\n",
       " (False, 10),\n",
       " (False, 10),\n",
       " (False, 10),\n",
       " (False, 10),\n",
       " (False, 10),\n",
       " (False, 10),\n",
       " (False, 10),\n",
       " (False, 10),\n",
       " (False, 10),\n",
       " (False, 10),\n",
       " (False, 10),\n",
       " (False, 10),\n",
       " (False, 10),\n",
       " (False, 10),\n",
       " (False, 10),\n",
       " (False, 10),\n",
       " (False, 10),\n",
       " (False, 10),\n",
       " (False, 10),\n",
       " (False, 10),\n",
       " (False, 10),\n",
       " (False, 10),\n",
       " (False, 10),\n",
       " (False, 10),\n",
       " (False, 10),\n",
       " (False, 10),\n",
       " (False, 10),\n",
       " (False, 10),\n",
       " (False, 10),\n",
       " (False, 10),\n",
       " (False, 10),\n",
       " (False, 10),\n",
       " (False, 10),\n",
       " (False, 10),\n",
       " (False, 10),\n",
       " (False, 10),\n",
       " (False, 10),\n",
       " (False, 10),\n",
       " (False, 10),\n",
       " (False, 10),\n",
       " (False, 10),\n",
       " (False, 10),\n",
       " (False, 10),\n",
       " (False, 10),\n",
       " (False, 10),\n",
       " (False, 10),\n",
       " (False, 10),\n",
       " (False, 10),\n",
       " (False, 10),\n",
       " (False, 10),\n",
       " (False, 10),\n",
       " (False, 10),\n",
       " (False, 10),\n",
       " (False, 10),\n",
       " (False, 10),\n",
       " (False, 10),\n",
       " (False, 10),\n",
       " (False, 10),\n",
       " (False, 10),\n",
       " (False, 10),\n",
       " (False, 10),\n",
       " (False, 10),\n",
       " (False, 10),\n",
       " (False, 10),\n",
       " (False, 10),\n",
       " (False, 10),\n",
       " (False, 10),\n",
       " (False, 10),\n",
       " (False, 10),\n",
       " (False, 10),\n",
       " (False, 10),\n",
       " (False, 10),\n",
       " (False, 10),\n",
       " (False, 10),\n",
       " (False, 10),\n",
       " (False, 10),\n",
       " (False, 10),\n",
       " (False, 10),\n",
       " (False, 10),\n",
       " (False, 10),\n",
       " (False, 10),\n",
       " (False, 10),\n",
       " (False, 10),\n",
       " (False, 10),\n",
       " (False, 10),\n",
       " (False, 10),\n",
       " (False, 10),\n",
       " (False, 10),\n",
       " (False, 10),\n",
       " (False, 10),\n",
       " (False, 10),\n",
       " (False, 10),\n",
       " (False, 10),\n",
       " (False, 10),\n",
       " (False, 10),\n",
       " (False, 10),\n",
       " (False, 10),\n",
       " (False, 10),\n",
       " (False, 10),\n",
       " (False, 10),\n",
       " (False, 10),\n",
       " (False, 10),\n",
       " (False, 10),\n",
       " (False, 10),\n",
       " (False, 10),\n",
       " (False, 10),\n",
       " (False, 10),\n",
       " (False, 10),\n",
       " (False, 10),\n",
       " (False, 10),\n",
       " (False, 10),\n",
       " (False, 10),\n",
       " (False, 10),\n",
       " (False, 10),\n",
       " (False, 10),\n",
       " (False, 10),\n",
       " (False, 10),\n",
       " (False, 10),\n",
       " (False, 10),\n",
       " (False, 10),\n",
       " (False, 10),\n",
       " (False, 10),\n",
       " (False, 10),\n",
       " (False, 10),\n",
       " (False, 10),\n",
       " (False, 10),\n",
       " (False, 10),\n",
       " (False, 10),\n",
       " (False, 10),\n",
       " (False, 10),\n",
       " (False, 10),\n",
       " (False, 10),\n",
       " (False, 10),\n",
       " (False, 10),\n",
       " (False, 10),\n",
       " (False, 10),\n",
       " (False, 10),\n",
       " (False, 10),\n",
       " (False, 10),\n",
       " (False, 10),\n",
       " (False, 10),\n",
       " (False, 10),\n",
       " (False, 10),\n",
       " (False, 10),\n",
       " (False, 10),\n",
       " (False, 10),\n",
       " (False, 10),\n",
       " (False, 10),\n",
       " (False, 10),\n",
       " (False, 10),\n",
       " (False, 10),\n",
       " (False, 10),\n",
       " (False, 10),\n",
       " (False, 10),\n",
       " (False, 10),\n",
       " (False, 10),\n",
       " (False, 10),\n",
       " (False, 10),\n",
       " (False, 10),\n",
       " (False, 10),\n",
       " (False, 10),\n",
       " (False, 10),\n",
       " (False, 10),\n",
       " (False, 10),\n",
       " (False, 10),\n",
       " (False, 10),\n",
       " (False, 10),\n",
       " (False, 10),\n",
       " (False, 10),\n",
       " (False, 10),\n",
       " (False, 10),\n",
       " (False, 10),\n",
       " (False, 10),\n",
       " (False, 10),\n",
       " (False, 10),\n",
       " (False, 10),\n",
       " (False, 10),\n",
       " (False, 10),\n",
       " (False, 10),\n",
       " (False, 10),\n",
       " (False, 10),\n",
       " (False, 10),\n",
       " (False, 10),\n",
       " (False, 10),\n",
       " (False, 10),\n",
       " (False, 10),\n",
       " (False, 10),\n",
       " (False, 10),\n",
       " (False, 10),\n",
       " (False, 10),\n",
       " (False, 10),\n",
       " (False, 10),\n",
       " (False, 10),\n",
       " (False, 10),\n",
       " (False, 10),\n",
       " (False, 10),\n",
       " (False, 10),\n",
       " (False, 10),\n",
       " (False, 10),\n",
       " (False, 10),\n",
       " (False, 10),\n",
       " (False, 10),\n",
       " (False, 10),\n",
       " (False, 10),\n",
       " (False, 10),\n",
       " (False, 10),\n",
       " (False, 10),\n",
       " (False, 10),\n",
       " (False, 10),\n",
       " (False, 10),\n",
       " (False, 10),\n",
       " (False, 10),\n",
       " (False, 10),\n",
       " (False, 10),\n",
       " (False, 10),\n",
       " (False, 10),\n",
       " (False, 10),\n",
       " (False, 10),\n",
       " (False, 10),\n",
       " (False, 10),\n",
       " (False, 10),\n",
       " (False, 10),\n",
       " (False, 10),\n",
       " (False, 10),\n",
       " (False, 10),\n",
       " (False, 10),\n",
       " (False, 10),\n",
       " (False, 10),\n",
       " (False, 10),\n",
       " (False, 10),\n",
       " (False, 10),\n",
       " (False, 10),\n",
       " (False, 10),\n",
       " (False, 10),\n",
       " (False, 10),\n",
       " (False, 10),\n",
       " (False, 10),\n",
       " (False, 10),\n",
       " (False, 10),\n",
       " (False, 10),\n",
       " (False, 10),\n",
       " (False, 10),\n",
       " (False, 10),\n",
       " (False, 10),\n",
       " (False, 10),\n",
       " (False, 10),\n",
       " (False, 10),\n",
       " (False, 10),\n",
       " (False, 10),\n",
       " (False, 10),\n",
       " (False, 10),\n",
       " (False, 10),\n",
       " (False, 10),\n",
       " (False, 10),\n",
       " (False, 10),\n",
       " (False, 10),\n",
       " (False, 10),\n",
       " (False, 10),\n",
       " (False, 10),\n",
       " (False, 10),\n",
       " (False, 10),\n",
       " (False, 10),\n",
       " (False, 10),\n",
       " (False, 10),\n",
       " (False, 10),\n",
       " (False, 10),\n",
       " (False, 10),\n",
       " (False, 10),\n",
       " (False, 10),\n",
       " (False, 10),\n",
       " (False, 10),\n",
       " (False, 10),\n",
       " (False, 10),\n",
       " (False, 10),\n",
       " (False, 10),\n",
       " (False, 10),\n",
       " (False, 10),\n",
       " (False, 10),\n",
       " (False, 10),\n",
       " (False, 10),\n",
       " (False, 10),\n",
       " (False, 10),\n",
       " (False, 10),\n",
       " (False, 10),\n",
       " (False, 10),\n",
       " (False, 10),\n",
       " (False, 10),\n",
       " (False, 10),\n",
       " (False, 10),\n",
       " (False, 10),\n",
       " (False, 10),\n",
       " (False, 10),\n",
       " (False, 10),\n",
       " (False, 10),\n",
       " (False, 10),\n",
       " (False, 10),\n",
       " (False, 10),\n",
       " (False, 10),\n",
       " (False, 10),\n",
       " (False, 10),\n",
       " (False, 10),\n",
       " (False, 10),\n",
       " (False, 10),\n",
       " (False, 10),\n",
       " (False, 10),\n",
       " (False, 10),\n",
       " (False, 10),\n",
       " (False, 10),\n",
       " (False, 10),\n",
       " (False, 10),\n",
       " (False, 10),\n",
       " (False, 10),\n",
       " (False, 10),\n",
       " (False, 10),\n",
       " (False, 10),\n",
       " (False, 10),\n",
       " (False, 10),\n",
       " (False, 10),\n",
       " (False, 10),\n",
       " (False, 10),\n",
       " (False, 10),\n",
       " (False, 10),\n",
       " (False, 10),\n",
       " (False, 10),\n",
       " (False, 10),\n",
       " (False, 10),\n",
       " (False, 10),\n",
       " (False, 10),\n",
       " (False, 10),\n",
       " (False, 10),\n",
       " (False, 10),\n",
       " (False, 10),\n",
       " (False, 10),\n",
       " (False, 10),\n",
       " (False, 10),\n",
       " (False, 10),\n",
       " (False, 10),\n",
       " (False, 10),\n",
       " (False, 10),\n",
       " (False, 10),\n",
       " (False, 10),\n",
       " (False, 10),\n",
       " (False, 10),\n",
       " (False, 10),\n",
       " (False, 10),\n",
       " (False, 10),\n",
       " (False, 10),\n",
       " (False, 10),\n",
       " (False, 10),\n",
       " (False, 10),\n",
       " (False, 10),\n",
       " (False, 10),\n",
       " (False, 10),\n",
       " (False, 10),\n",
       " (False, 10),\n",
       " (False, 10),\n",
       " (False, 10),\n",
       " (False, 10),\n",
       " (False, 10),\n",
       " (False, 10),\n",
       " (False, 10),\n",
       " (False, 10),\n",
       " (False, 10),\n",
       " (False, 10),\n",
       " (False, 10),\n",
       " (False, 10),\n",
       " (False, 10),\n",
       " (False, 10),\n",
       " (False, 10),\n",
       " (False, 10),\n",
       " (False, 10),\n",
       " (False, 10),\n",
       " (False, 10),\n",
       " (False, 10),\n",
       " (False, 10),\n",
       " (False, 10),\n",
       " (False, 10),\n",
       " (False, 10),\n",
       " (False, 10),\n",
       " (False, 10),\n",
       " (False, 10),\n",
       " (False, 10),\n",
       " (False, 10),\n",
       " (False, 10),\n",
       " (False, 10),\n",
       " (False, 10),\n",
       " (False, 10),\n",
       " (False, 10),\n",
       " (False, 10),\n",
       " (False, 10),\n",
       " (False, 10),\n",
       " (False, 10),\n",
       " (False, 10),\n",
       " (False, 10),\n",
       " (False, 10),\n",
       " (False, 10),\n",
       " (False, 10),\n",
       " (False, 10),\n",
       " (False, 10),\n",
       " (False, 10),\n",
       " (False, 10),\n",
       " (False, 10),\n",
       " (False, 10),\n",
       " (False, 10),\n",
       " (False, 10),\n",
       " (False, 10),\n",
       " (False, 10),\n",
       " (False, 10),\n",
       " (False, 10),\n",
       " (False, 10),\n",
       " (False, 10),\n",
       " (False, 10),\n",
       " (False, 10),\n",
       " (False, 10),\n",
       " (False, 10),\n",
       " (False, 10),\n",
       " (False, 10),\n",
       " ...]"
      ]
     },
     "execution_count": 108,
     "metadata": {},
     "output_type": "execute_result"
    }
   ],
   "source": [
    "seizureLabels"
   ]
  },
  {
   "cell_type": "code",
   "execution_count": 6,
   "metadata": {},
   "outputs": [],
   "source": [
    "test_edg = dg.EdfDataGenerator(test_edss)"
   ]
  },
  {
   "cell_type": "code",
   "execution_count": 138,
   "metadata": {},
   "outputs": [
    {
     "data": {
      "text/plain": [
       "set()"
      ]
     },
     "execution_count": 138,
     "metadata": {},
     "output_type": "execute_result"
    }
   ],
   "source": [
    "read.file_list"
   ]
  },
  {
   "cell_type": "code",
   "execution_count": 7,
   "metadata": {},
   "outputs": [],
   "source": [
    "from keras.utils import GeneratorEnqueuer, OrderedEnqueuer"
   ]
  },
  {
   "cell_type": "code",
   "execution_count": 8,
   "metadata": {},
   "outputs": [],
   "source": [
    "train_ordered_enqueuer = OrderedEnqueuer(edg, True)\n",
    "valid_ordered_enqueuer = OrderedEnqueuer(valid_edg, True)"
   ]
  },
  {
   "cell_type": "markdown",
   "metadata": {},
   "source": [
    "## set up 2d nn"
   ]
  },
  {
   "cell_type": "code",
   "execution_count": 9,
   "metadata": {
    "scrolled": true
   },
   "outputs": [
    {
     "name": "stdout",
     "output_type": "stream",
     "text": [
      "WARNING:tensorflow:From /home/ms994/miniconda3/envs/keras-redo/lib/python3.7/site-packages/tensorflow/python/framework/op_def_library.py:263: colocate_with (from tensorflow.python.framework.ops) is deprecated and will be removed in a future version.\n",
      "Instructions for updating:\n",
      "Colocations handled automatically by placer.\n"
     ]
    },
    {
     "name": "stderr",
     "output_type": "stream",
     "text": [
      "WARNING:tensorflow:From /home/ms994/miniconda3/envs/keras-redo/lib/python3.7/site-packages/tensorflow/python/framework/op_def_library.py:263: colocate_with (from tensorflow.python.framework.ops) is deprecated and will be removed in a future version.\n",
      "Instructions for updating:\n",
      "Colocations handled automatically by placer.\n"
     ]
    }
   ],
   "source": [
    "from keras_models.cnn_models import conv2d_gridsearch_pre_layers\n",
    "from keras.layers import Input, Reshape, Dense, MaxPool2D, TimeDistributed, Dropout, Conv3D, Conv2D, BatchNormalization, MaxPool3D, Flatten\n",
    "from keras import Model\n",
    "from keras.optimizers import Adam\n",
    "pre_layer_h = 64\n",
    "x = Input((1000, 21, 1)) #time, ecg channel, cnn channel\n",
    "y = Reshape((1000, 21))(x) #remove channel dim\n",
    "y = TimeDistributed(Dense(pre_layer_h, activation=\"relu\"))(y)\n",
    "y = Reshape((1000, pre_layer_h, 1))(y) #add back in channel dim\n"
   ]
  },
  {
   "cell_type": "code",
   "execution_count": 10,
   "metadata": {},
   "outputs": [],
   "source": [
    "y = BatchNormalization()(y)\n",
    "y = Conv2D(3, (4,2), activation=\"relu\")(y)\n",
    "y = MaxPool2D((2,1))(y)\n",
    "y = BatchNormalization()(y)\n",
    "y = Conv2D(3, (4,2), activation=\"relu\")(y)\n",
    "y = MaxPool2D((2,1))(y)\n",
    "y = BatchNormalization()(y)\n",
    "y = Conv2D(3, (4,2), activation=\"relu\")(y)\n",
    "y = MaxPool2D((2,1))(y)\n",
    "y = BatchNormalization()(y)\n",
    "y = Conv2D(3, (3,3), activation=\"relu\")(y)\n",
    "y = MaxPool2D()(y)\n",
    "y = BatchNormalization()(y)\n",
    "y = Conv2D(3, (3,3), activation=\"relu\")(y)\n",
    "y = MaxPool2D()(y)\n",
    "y = BatchNormalization()(y)\n",
    "y = Conv2D(3, (3,3), activation=\"relu\")(y)\n",
    "y = MaxPool2D()(y)\n",
    "y = BatchNormalization()(y)\n",
    "y = Flatten()(y)\n"
   ]
  },
  {
   "cell_type": "code",
   "execution_count": 11,
   "metadata": {},
   "outputs": [],
   "source": [
    "y_seizure = Dense(2, activation=\"softmax\", name=\"seizure\")(y)\n",
    "y_patient = Dense(len(allPatients), activation=\"softmax\", name=\"patient\")(y)\n",
    "model = Model(inputs=x, outputs=[y_seizure, y_patient])"
   ]
  },
  {
   "cell_type": "code",
   "execution_count": 12,
   "metadata": {},
   "outputs": [],
   "source": [
    "seizure_model = Model(inputs=x, outputs=[y_seizure])"
   ]
  },
  {
   "cell_type": "code",
   "execution_count": 13,
   "metadata": {},
   "outputs": [
    {
     "name": "stdout",
     "output_type": "stream",
     "text": [
      "__________________________________________________________________________________________________\n",
      "Layer (type)                    Output Shape         Param #     Connected to                     \n",
      "==================================================================================================\n",
      "input_1 (InputLayer)            (None, 1000, 21, 1)  0                                            \n",
      "__________________________________________________________________________________________________\n",
      "reshape_1 (Reshape)             (None, 1000, 21)     0           input_1[0][0]                    \n",
      "__________________________________________________________________________________________________\n",
      "time_distributed_1 (TimeDistrib (None, 1000, 64)     1408        reshape_1[0][0]                  \n",
      "__________________________________________________________________________________________________\n",
      "reshape_2 (Reshape)             (None, 1000, 64, 1)  0           time_distributed_1[0][0]         \n",
      "__________________________________________________________________________________________________\n",
      "batch_normalization_1 (BatchNor (None, 1000, 64, 1)  4           reshape_2[0][0]                  \n",
      "__________________________________________________________________________________________________\n",
      "conv2d_1 (Conv2D)               (None, 997, 63, 3)   27          batch_normalization_1[0][0]      \n",
      "__________________________________________________________________________________________________\n",
      "max_pooling2d_1 (MaxPooling2D)  (None, 498, 63, 3)   0           conv2d_1[0][0]                   \n",
      "__________________________________________________________________________________________________\n",
      "batch_normalization_2 (BatchNor (None, 498, 63, 3)   12          max_pooling2d_1[0][0]            \n",
      "__________________________________________________________________________________________________\n",
      "conv2d_2 (Conv2D)               (None, 495, 62, 3)   75          batch_normalization_2[0][0]      \n",
      "__________________________________________________________________________________________________\n",
      "max_pooling2d_2 (MaxPooling2D)  (None, 247, 62, 3)   0           conv2d_2[0][0]                   \n",
      "__________________________________________________________________________________________________\n",
      "batch_normalization_3 (BatchNor (None, 247, 62, 3)   12          max_pooling2d_2[0][0]            \n",
      "__________________________________________________________________________________________________\n",
      "conv2d_3 (Conv2D)               (None, 244, 61, 3)   75          batch_normalization_3[0][0]      \n",
      "__________________________________________________________________________________________________\n",
      "max_pooling2d_3 (MaxPooling2D)  (None, 122, 61, 3)   0           conv2d_3[0][0]                   \n",
      "__________________________________________________________________________________________________\n",
      "batch_normalization_4 (BatchNor (None, 122, 61, 3)   12          max_pooling2d_3[0][0]            \n",
      "__________________________________________________________________________________________________\n",
      "conv2d_4 (Conv2D)               (None, 120, 59, 3)   84          batch_normalization_4[0][0]      \n",
      "__________________________________________________________________________________________________\n",
      "max_pooling2d_4 (MaxPooling2D)  (None, 60, 29, 3)    0           conv2d_4[0][0]                   \n",
      "__________________________________________________________________________________________________\n",
      "batch_normalization_5 (BatchNor (None, 60, 29, 3)    12          max_pooling2d_4[0][0]            \n",
      "__________________________________________________________________________________________________\n",
      "conv2d_5 (Conv2D)               (None, 58, 27, 3)    84          batch_normalization_5[0][0]      \n",
      "__________________________________________________________________________________________________\n",
      "max_pooling2d_5 (MaxPooling2D)  (None, 29, 13, 3)    0           conv2d_5[0][0]                   \n",
      "__________________________________________________________________________________________________\n",
      "batch_normalization_6 (BatchNor (None, 29, 13, 3)    12          max_pooling2d_5[0][0]            \n",
      "__________________________________________________________________________________________________\n",
      "conv2d_6 (Conv2D)               (None, 27, 11, 3)    84          batch_normalization_6[0][0]      \n",
      "__________________________________________________________________________________________________\n",
      "max_pooling2d_6 (MaxPooling2D)  (None, 13, 5, 3)     0           conv2d_6[0][0]                   \n",
      "__________________________________________________________________________________________________\n",
      "batch_normalization_7 (BatchNor (None, 13, 5, 3)     12          max_pooling2d_6[0][0]            \n",
      "__________________________________________________________________________________________________\n",
      "flatten_1 (Flatten)             (None, 195)          0           batch_normalization_7[0][0]      \n",
      "__________________________________________________________________________________________________\n",
      "seizure (Dense)                 (None, 2)            392         flatten_1[0][0]                  \n",
      "__________________________________________________________________________________________________\n",
      "patient (Dense)                 (None, 246)          48216       flatten_1[0][0]                  \n",
      "==================================================================================================\n",
      "Total params: 50,521\n",
      "Trainable params: 50,483\n",
      "Non-trainable params: 38\n",
      "__________________________________________________________________________________________________\n"
     ]
    }
   ],
   "source": [
    "model.summary()"
   ]
  },
  {
   "cell_type": "code",
   "execution_count": 17,
   "metadata": {},
   "outputs": [],
   "source": [
    "from keras.callbacks import ModelCheckpoint, EarlyStopping\n",
    "mc = ModelCheckpoint(\"/n/scratch2/ms994/3d_test.h5\", monitor=\"val_binary_accuracy\", save_best_only=True, verbose=True)\n",
    "stopping = EarlyStopping(\"val_binary_accuracy\", patience=50, verbose=True)\n"
   ]
  },
  {
   "cell_type": "code",
   "execution_count": 18,
   "metadata": {},
   "outputs": [],
   "source": [
    "from keras.optimizers import Adam"
   ]
  },
  {
   "cell_type": "code",
   "execution_count": 14,
   "metadata": {
    "scrolled": false
   },
   "outputs": [],
   "source": [
    "from keras.utils import multi_gpu_model\n",
    "# model = multi_gpu_model(model, 2)\n",
    "model.compile(Adam(lr=0.005), loss=[\"binary_crossentropy\", \"categorical_crossentropy\"], loss_weights=[5,0], metrics=[\"categorical_accuracy\"])\n",
    "# history = model.fit_generator(edg, validation_data=validEdg, use_multiprocessing=True, max_queue_size=500000, workers=7, epochs=300, callbacks=[stopping, mc])"
   ]
  },
  {
   "cell_type": "code",
   "execution_count": 15,
   "metadata": {},
   "outputs": [],
   "source": [
    "patient_model = Model(inputs=x, outputs=[y_patient])\n",
    "patient_model.compile(Adam(lr=0.005), loss=[\"binary_crossentropy\"], metrics=[\"categorical_accuracy\"])"
   ]
  },
  {
   "cell_type": "code",
   "execution_count": 21,
   "metadata": {},
   "outputs": [],
   "source": [
    "layers = patient_model.layers[-1].weights"
   ]
  },
  {
   "cell_type": "code",
   "execution_count": 86,
   "metadata": {},
   "outputs": [
    {
     "data": {
      "text/plain": [
       "'patient'"
      ]
     },
     "execution_count": 86,
     "metadata": {},
     "output_type": "execute_result"
    }
   ],
   "source": [
    "model.layers[-1].name"
   ]
  },
  {
   "cell_type": "code",
   "execution_count": 16,
   "metadata": {},
   "outputs": [],
   "source": [
    "from sklearn.metrics import f1_score, accuracy_score, roc_auc_score, classification_report"
   ]
  },
  {
   "cell_type": "code",
   "execution_count": 17,
   "metadata": {},
   "outputs": [
    {
     "data": {
      "text/plain": [
       "(['loss',\n",
       "  'seizure_loss',\n",
       "  'patient_loss',\n",
       "  'seizure_categorical_accuracy',\n",
       "  'patient_categorical_accuracy'],\n",
       " ['loss', 'categorical_accuracy'])"
      ]
     },
     "execution_count": 17,
     "metadata": {},
     "output_type": "execute_result"
    }
   ],
   "source": [
    "model.metrics_names, patient_model.metrics_names"
   ]
  },
  {
   "cell_type": "markdown",
   "metadata": {},
   "source": [
    "## Run the batches"
   ]
  },
  {
   "cell_type": "code",
   "execution_count": 154,
   "metadata": {},
   "outputs": [
    {
     "data": {
      "text/plain": [
       "<Lock(owner=None)>"
      ]
     },
     "execution_count": 154,
     "metadata": {},
     "output_type": "execute_result"
    }
   ],
   "source": [
    "read.file_list_lock"
   ]
  },
  {
   "cell_type": "code",
   "execution_count": 155,
   "metadata": {},
   "outputs": [
    {
     "data": {
      "text/plain": [
       "set()"
      ]
     },
     "execution_count": 155,
     "metadata": {},
     "output_type": "execute_result"
    }
   ],
   "source": [
    "read.file_list"
   ]
  },
  {
   "cell_type": "code",
   "execution_count": 156,
   "metadata": {},
   "outputs": [
    {
     "data": {
      "text/plain": [
       "False"
      ]
     },
     "execution_count": 156,
     "metadata": {},
     "output_type": "execute_result"
    }
   ],
   "source": [
    "edg.dataset.use_mp"
   ]
  },
  {
   "cell_type": "code",
   "execution_count": 24,
   "metadata": {},
   "outputs": [],
   "source": [
    "train_ordered_enqueuer.start(workers=2, max_queue_size=10)\n",
    "train_ordered_enqueuer.stop()"
   ]
  },
  {
   "cell_type": "code",
   "execution_count": 21,
   "metadata": {},
   "outputs": [],
   "source": [
    "generator = train_ordered_enqueuer.get()"
   ]
  },
  {
   "cell_type": "code",
   "execution_count": 159,
   "metadata": {},
   "outputs": [
    {
     "data": {
      "text/plain": [
       "<keras_models.dataGen.RULDataGenMultipleLabels at 0x7fe52d0aa4a8>"
      ]
     },
     "execution_count": 159,
     "metadata": {},
     "output_type": "execute_result"
    }
   ],
   "source": [
    "valid_edg"
   ]
  },
  {
   "cell_type": "code",
   "execution_count": null,
   "metadata": {},
   "outputs": [
    {
     "name": "stdout",
     "output_type": "stream",
     "text": [
      "end epoch: 0, f1: 0.6714034470629617, auc: 0.615090537557392, acc: 0.530316742081448\n",
      "improved val score from 0.530316742081448end epoch: 1, f1: 0.6966790750554711, auc: 0.6865733486366148, acc: 0.5841880341880342\n",
      "improved val score from 0.5841880341880342end epoch: 2, f1: 0.6497576805653408, auc: 0.6002029516997429, acc: 0.5876068376068376\n",
      "improved val score from 0.5876068376068376end epoch: 3, f1: 0.7210094046555172, auc: 0.6963794362993664, acc: 0.6703871292106586\n",
      "improved val score from 0.6703871292106586\n",
      "epoch: 4 batch: 45/1245, seizure acc: 0.86548912525177, patient acc: 0.348505437374115\n"
     ]
    }
   ],
   "source": [
    "from IPython.display import clear_output\n",
    "toKeep = \"\"\n",
    "num_epochs = 10\n",
    "training_seizure_accs = []\n",
    "test_seizure_accs = []\n",
    "oldPatientWeights = model.layers[-1].get_weights()\n",
    "oldNonPatientWeights = [layer.get_weights() for layer in model.layers[:-1]]\n",
    "best_model_acc = -100\n",
    "\n",
    "for i in range(num_epochs):\n",
    "#     edg.start_background()\n",
    "    \n",
    "\n",
    "    valid_labels = []\n",
    "    valid_predictions = []\n",
    "\n",
    "    seizure_accs = []\n",
    "    patient_accs = []\n",
    "    train_ordered_enqueuer.start(workers=8, max_queue_size=1000)\n",
    "    train_generator = train_ordered_enqueuer.get()\n",
    "    for j in range(len(edg)):\n",
    "        train_batch = next(train_generator)\n",
    "        loss, seizure_loss, patient_loss, seizure_acc, patient_acc = model.train_on_batch(train_batch[0], train_batch[1])\n",
    "        seizure_accs.append(seizure_acc)\n",
    "        #old patient weights are trying to predict for patient, try to do the prediction!\n",
    "        model.layers[-1].set_weights(oldPatientWeights)\n",
    "        #keep the other nonpatient weights which try not to predict for patient!\n",
    "        oldNonPatientWeights = [layer.get_weights() for layer in model.layers[:-1]]\n",
    "        patient_loss, patient_acc = patient_model.train_on_batch(train_batch[0], train_batch[1][1])\n",
    "        patient_accs.append(patient_acc)\n",
    "\n",
    "        #get weights that try to predict for patient\n",
    "        oldPatientWeights = patient_model.layers[-1].get_weights()\n",
    "\n",
    "        #set weights that don't ruin seizure prediction\n",
    "        for layer_num, layer in enumerate(model.layers[:-1]):\n",
    "            model.layers[layer_num].set_weights(oldNonPatientWeights[layer_num])\n",
    "        if (j % 5) == 0:\n",
    "            clear_output()\n",
    "            print(toKeep)\n",
    "            print(\"epoch: {} batch: {}/{}, seizure acc: {}, patient acc: {}\".format(i, j, len(edg), np.mean(seizure_accs), np.mean(patient_accs)))\n",
    "#     valid_edg.start_background()\n",
    "    valid_ordered_enqueuer.start(workers=8, max_queue_size=100000)\n",
    "    valid_generator = valid_ordered_enqueuer.get()\n",
    "\n",
    "    for j in range(len(edg)):\n",
    "        valid_batch = next(valid_generator)\n",
    "        val_batch_predictions = model.predict_on_batch(valid_batch[0])\n",
    "        valid_labels.append(valid_batch[1][0].argmax(1))\n",
    "        valid_predictions.append(val_batch_predictions[0].argmax(1))\n",
    "    valid_ordered_enqueuer.stop()\n",
    "    valid_labels = np.hstack(valid_labels)\n",
    "    val_predictions = np.hstack(valid_predictions)\n",
    "    try:\n",
    "        auc = roc_auc_score(val_predictions, valid_labels)\n",
    "    except Exception:\n",
    "        auc = \"undefined\"\n",
    "    test_acc =  accuracy_score(val_predictions, valid_labels)\n",
    "    test_seizure_accs.append(test_acc)\n",
    "    toKeep += (\"end epoch: {}, f1: {}, auc: {}, acc: {}\\n\".format(i, f1_score(val_predictions, valid_labels), auc, test_acc))\n",
    "    if (test_acc > best_model_acc):\n",
    "        best_model_acc = test_acc\n",
    "        try:\n",
    "            model.save(\"/n/scratch2/ms994/best_domain_adapt.h5\")\n",
    "            toKeep += (\"improved val score from {}\".format(best_model_acc))\n",
    "        except Exception as e:\n",
    "            toKeep += (\"{}\\n\".format(e))\n",
    "            toKeep += (\"failed saving\\n\")\n",
    "    print(toKeep)\n",
    "\n",
    "\n",
    "\n",
    "    training_seizure_accs.append(np.mean(seizure_accs))\n",
    "    train_ordered_enqueuer.stop()\n",
    "\n",
    "    edg.on_epoch_end()\n",
    "plt.plot(training_seizure_accs)\n",
    "plt.plot(test_seizure_accs)\n",
    "plt.legend([\"train\", \"valid\"])\n",
    "plt.xlabel(\"num epochs\")\n",
    "plt.ylabel(\"acc\")\n",
    "plt.show()\n",
    "train_ordered_enqueuer.stop()\n",
    "valid_ordered_enqueuer.stop()"
   ]
  },
  {
   "cell_type": "code",
   "execution_count": null,
   "metadata": {},
   "outputs": [],
   "source": [
    "train_ordered_enqueuer.stop()\n",
    "valid_ordered_enqueuer.stop()"
   ]
  },
  {
   "cell_type": "code",
   "execution_count": null,
   "metadata": {},
   "outputs": [],
   "source": [
    "toKeep"
   ]
  },
  {
   "cell_type": "code",
   "execution_count": null,
   "metadata": {},
   "outputs": [],
   "source": [
    "next(generator.get())"
   ]
  },
  {
   "cell_type": "code",
   "execution_count": null,
   "metadata": {},
   "outputs": [],
   "source": [
    "for j in range(len(valid_edg)):\n",
    "        valid_batch = valid_edg[j]\n",
    "        val_batch_predictions = model.predict_on_batch(valid_batch[0])\n",
    "        valid_labels.append(valid_batch[1][0].argmax(1))\n",
    "        valid_predictions.append(val_batch_predictions[0].argmax(1))\n",
    "valid_labels = np.hstack(valid_labels)\n",
    "val_predictions = np.hstack(valid_predictions)\n",
    "try:\n",
    "    auc = roc_auc_score(val_predictions, valid_labels)\n",
    "except Exception:\n",
    "    auc = \"undefined\"\n",
    "test_acc =  accuracy_score(val_predictions, valid_labels)\n",
    "test_seizure_accs.append(test_acc)\n",
    "toKeep += (\"end epoch: {}, f1: {}, auc: {}, acc: {}\\n\".format(i, f1_score(val_predictions, valid_labels), auc, test_acc))\n",
    "print(toKeep)\n",
    "training_seizure_accs.append(np.mean(seizure_accs))\n",
    "edg.on_epoch_end()"
   ]
  },
  {
   "cell_type": "code",
   "execution_count": null,
   "metadata": {},
   "outputs": [],
   "source": [
    "model.save(\"/n/scratch2/ms994/domain_adapt.h5\")"
   ]
  },
  {
   "cell_type": "markdown",
   "metadata": {},
   "source": [
    "## Pull the best model and test it"
   ]
  },
  {
   "cell_type": "code",
   "execution_count": 16,
   "metadata": {},
   "outputs": [],
   "source": [
    "from keras.models import load_model"
   ]
  },
  {
   "cell_type": "code",
   "execution_count": 17,
   "metadata": {},
   "outputs": [
    {
     "name": "stdout",
     "output_type": "stream",
     "text": [
      "WARNING:tensorflow:From /home/ms994/miniconda3/envs/keras-redo/lib/python3.7/site-packages/tensorflow/python/framework/op_def_library.py:263: colocate_with (from tensorflow.python.framework.ops) is deprecated and will be removed in a future version.\n",
      "Instructions for updating:\n",
      "Colocations handled automatically by placer.\n"
     ]
    },
    {
     "name": "stderr",
     "output_type": "stream",
     "text": [
      "WARNING:tensorflow:From /home/ms994/miniconda3/envs/keras-redo/lib/python3.7/site-packages/tensorflow/python/framework/op_def_library.py:263: colocate_with (from tensorflow.python.framework.ops) is deprecated and will be removed in a future version.\n",
      "Instructions for updating:\n",
      "Colocations handled automatically by placer.\n"
     ]
    },
    {
     "name": "stdout",
     "output_type": "stream",
     "text": [
      "WARNING:tensorflow:From /home/ms994/miniconda3/envs/keras-redo/lib/python3.7/site-packages/tensorflow/python/ops/math_ops.py:3066: to_int32 (from tensorflow.python.ops.math_ops) is deprecated and will be removed in a future version.\n",
      "Instructions for updating:\n",
      "Use tf.cast instead.\n"
     ]
    },
    {
     "name": "stderr",
     "output_type": "stream",
     "text": [
      "WARNING:tensorflow:From /home/ms994/miniconda3/envs/keras-redo/lib/python3.7/site-packages/tensorflow/python/ops/math_ops.py:3066: to_int32 (from tensorflow.python.ops.math_ops) is deprecated and will be removed in a future version.\n",
      "Instructions for updating:\n",
      "Use tf.cast instead.\n"
     ]
    }
   ],
   "source": [
    "model = load_model(\"/n/scratch2/ms994/domain_adapt.h5\")"
   ]
  },
  {
   "cell_type": "code",
   "execution_count": 18,
   "metadata": {},
   "outputs": [],
   "source": [
    "test_edss.use_mp = False\n",
    "test_edss.n_workers = 1\n",
    "test_edg = dg.EdfDataGenerator(test_edss, n_classes=2, precache=False, batch_size=32, shuffle=False)\n",
    "test_labels = [test_edss.sampleInfo[key].label for key in test_edss.sampleInfo.keys()]"
   ]
  },
  {
   "cell_type": "code",
   "execution_count": 19,
   "metadata": {},
   "outputs": [
    {
     "data": {
      "text/plain": [
       "16634"
      ]
     },
     "execution_count": 19,
     "metadata": {},
     "output_type": "execute_result"
    }
   ],
   "source": [
    "len(test_edg)"
   ]
  },
  {
   "cell_type": "code",
   "execution_count": 20,
   "metadata": {},
   "outputs": [],
   "source": [
    "predictions = model.predict_generator(test_edg, use_multiprocessing=True, workers=12, max_queue_size=100000)"
   ]
  },
  {
   "cell_type": "code",
   "execution_count": 25,
   "metadata": {},
   "outputs": [
    {
     "data": {
      "text/plain": [
       "[array([[0.9940692 , 0.00593086],\n",
       "        [0.98968   , 0.01031997],\n",
       "        [0.98416704, 0.01583293],\n",
       "        ...,\n",
       "        [0.9847438 , 0.01525624],\n",
       "        [0.98753256, 0.01246743],\n",
       "        [0.97807455, 0.02192545]], dtype=float32),\n",
       " array([[0., 0., 0., ..., 0., 0., 0.],\n",
       "        [0., 0., 0., ..., 0., 0., 0.],\n",
       "        [0., 0., 0., ..., 0., 0., 0.],\n",
       "        ...,\n",
       "        [0., 0., 0., ..., 0., 0., 0.],\n",
       "        [0., 0., 0., ..., 0., 0., 0.],\n",
       "        [0., 0., 0., ..., 0., 0., 0.]], dtype=float32)]"
      ]
     },
     "execution_count": 25,
     "metadata": {},
     "output_type": "execute_result"
    }
   ],
   "source": [
    "predictions"
   ]
  },
  {
   "cell_type": "code",
   "execution_count": 26,
   "metadata": {},
   "outputs": [
    {
     "name": "stdout",
     "output_type": "stream",
     "text": [
      "0.06366831054543307\n"
     ]
    }
   ],
   "source": [
    "print(f1_score(predictions[0].argmax(1), test_labels))"
   ]
  },
  {
   "cell_type": "code",
   "execution_count": 27,
   "metadata": {},
   "outputs": [
    {
     "name": "stdout",
     "output_type": "stream",
     "text": [
      "0.8808625600252501\n"
     ]
    }
   ],
   "source": [
    "print(accuracy_score(predictions[0].argmax(1), test_labels))"
   ]
  },
  {
   "cell_type": "code",
   "execution_count": 28,
   "metadata": {},
   "outputs": [
    {
     "name": "stdout",
     "output_type": "stream",
     "text": [
      "              precision    recall  f1-score   support\n",
      "\n",
      "           0       0.98      0.90      0.94    521271\n",
      "           1       0.04      0.20      0.06     11005\n",
      "\n",
      "    accuracy                           0.88    532276\n",
      "   macro avg       0.51      0.55      0.50    532276\n",
      "weighted avg       0.96      0.88      0.92    532276\n",
      "\n"
     ]
    }
   ],
   "source": [
    "print(classification_report(predictions[0].argmax(1), test_labels))"
   ]
  },
  {
   "cell_type": "code",
   "execution_count": 29,
   "metadata": {},
   "outputs": [
    {
     "name": "stdout",
     "output_type": "stream",
     "text": [
      "0.545617055804426\n"
     ]
    }
   ],
   "source": [
    "print(roc_auc_score(predictions[0].argmax(1), test_labels))"
   ]
  },
  {
   "cell_type": "code",
   "execution_count": 31,
   "metadata": {},
   "outputs": [
    {
     "data": {
      "text/plain": [
       "0.02067536390894949"
      ]
     },
     "execution_count": 31,
     "metadata": {},
     "output_type": "execute_result"
    }
   ],
   "source": [
    "predictions[0].argmax(1).sum() / len(predictions[0])"
   ]
  },
  {
   "cell_type": "markdown",
   "metadata": {},
   "source": [
    "# set up another nn with dense between cnn"
   ]
  },
  {
   "cell_type": "code",
   "execution_count": 77,
   "metadata": {},
   "outputs": [],
   "source": [
    "from keras import backend as K\n",
    "\n",
    "def recall_m(y_true, y_pred):\n",
    "        true_positives = K.sum(K.round(K.clip(y_true * y_pred, 0, 1)))\n",
    "        possible_positives = K.sum(K.round(K.clip(y_true, 0, 1)))\n",
    "        recall = true_positives / (possible_positives + K.epsilon())\n",
    "        return recall\n",
    "\n",
    "def precision_m(y_true, y_pred):\n",
    "        true_positives = K.sum(K.round(K.clip(y_true * y_pred, 0, 1)))\n",
    "        predicted_positives = K.sum(K.round(K.clip(y_pred, 0, 1)))\n",
    "        precision = true_positives / (predicted_positives + K.epsilon())\n",
    "        return precision\n",
    "\n",
    "def f1_m(y_true, y_pred):\n",
    "    precision = precision_m(y_true, y_pred)\n",
    "    recall = recall_m(y_true, y_pred)\n",
    "    return 2*((precision*recall)/(precision+recall+K.epsilon()))"
   ]
  },
  {
   "cell_type": "code",
   "execution_count": 91,
   "metadata": {},
   "outputs": [],
   "source": [
    "from keras_models.cnn_models import conv2d_gridsearch_pre_layers, inception_like_layer\n",
    "from keras.layers import Input, Reshape, Dense, TimeDistributed, Dropout, MaxPool2D, Conv2D, Flatten, GaussianNoise\n",
    "from keras import Model\n",
    "from keras.optimizers import Adam\n",
    "pre_layer_h = 21\n",
    "x = Input((1000, 21, 1)) #time, ecg channel, cnn channel\n",
    "y = GaussianNoise(0.5)(x)\n",
    "y = Reshape((1000, 21))(y) #remove channel dim\n",
    "y = TimeDistributed(Dense(pre_layer_h, activation=\"relu\"))(y)\n",
    "y = Reshape((1000, pre_layer_h, 1))(y) #add back in channel dim"
   ]
  },
  {
   "cell_type": "code",
   "execution_count": 92,
   "metadata": {},
   "outputs": [],
   "source": [
    "for i in range(2):\n",
    "    y = Conv2D(1, (4,4), activation=\"relu\")(y)\n",
    "    y = MaxPool2D((2,1))(y)\n",
    "    \n",
    "for i in range(2):\n",
    "    y = Conv2D(1, (4,4), activation=\"relu\")(y)\n",
    "    y = MaxPool2D((2,1))(y)    \n",
    "    y = TimeDistributed(Dense(y.get_shape()[2].value, activation=\"relu\"))(y)\n",
    "    y = TimeDistributed(Dense(y.get_shape()[2].value, activation=\"relu\"))(y)\n",
    "#     y = TimeDistributed(Dense(y.get_shape()[2].value, activation=\"relu\"))(y)\n",
    "\n",
    "#     y = TimeDistributed(Dropout(0.25))(y)\n",
    "#     y = TimeDistributed(Dense(pre_layer_h, activation=\"relu\"))(y)\n",
    "# for i in range(3):\n",
    "#     y = inception_like_layer(y, 1)\n",
    "#     y = MaxPool2D((2,2))(y)\n",
    "#     y = TimeDistributed(Dense(pre_layer_h, activation=\"relu\"))(y)\n",
    "#     y = TimeDistributed(Dropout(0.25))(y)\n",
    "#     y = TimeDistributed(Dense(pre_layer_h, activation=\"relu\"))(y)\n",
    "y = Flatten()(y)\n",
    "y = Dense(2)(y)"
   ]
  },
  {
   "cell_type": "code",
   "execution_count": 46,
   "metadata": {},
   "outputs": [
    {
     "data": {
      "text/plain": [
       "2"
      ]
     },
     "execution_count": 46,
     "metadata": {},
     "output_type": "execute_result"
    }
   ],
   "source": []
  },
  {
   "cell_type": "code",
   "execution_count": 93,
   "metadata": {},
   "outputs": [
    {
     "name": "stderr",
     "output_type": "stream",
     "text": [
      "/home/ms994/miniconda3/envs/keras-redo/lib/python3.7/site-packages/ipykernel_launcher.py:1: UserWarning: Update your `Model` call to the Keras 2 API: `Model(outputs=[<tf.Tenso..., inputs=Tensor(\"in...)`\n",
      "  \"\"\"Entry point for launching an IPython kernel.\n"
     ]
    }
   ],
   "source": [
    "model = Model(input=x, outputs=[y])"
   ]
  },
  {
   "cell_type": "code",
   "execution_count": 94,
   "metadata": {},
   "outputs": [],
   "source": [
    "model.compile(\"adam\", loss=\"binary_crossentropy\", metrics=[\"binary_accuracy\", f1_m,precision_m, recall_m],)"
   ]
  },
  {
   "cell_type": "code",
   "execution_count": 95,
   "metadata": {},
   "outputs": [
    {
     "name": "stdout",
     "output_type": "stream",
     "text": [
      "_________________________________________________________________\n",
      "Layer (type)                 Output Shape              Param #   \n",
      "=================================================================\n",
      "input_11 (InputLayer)        (None, 1000, 21, 1)       0         \n",
      "_________________________________________________________________\n",
      "gaussian_noise_11 (GaussianN (None, 1000, 21, 1)       0         \n",
      "_________________________________________________________________\n",
      "reshape_21 (Reshape)         (None, 1000, 21)          0         \n",
      "_________________________________________________________________\n",
      "time_distributed_113 (TimeDi (None, 1000, 21)          462       \n",
      "_________________________________________________________________\n",
      "reshape_22 (Reshape)         (None, 1000, 21, 1)       0         \n",
      "_________________________________________________________________\n",
      "conv2d_207 (Conv2D)          (None, 997, 18, 1)        17        \n",
      "_________________________________________________________________\n",
      "max_pooling2d_85 (MaxPooling (None, 498, 18, 1)        0         \n",
      "_________________________________________________________________\n",
      "conv2d_208 (Conv2D)          (None, 495, 15, 1)        17        \n",
      "_________________________________________________________________\n",
      "max_pooling2d_86 (MaxPooling (None, 247, 15, 1)        0         \n",
      "_________________________________________________________________\n",
      "conv2d_209 (Conv2D)          (None, 244, 12, 1)        17        \n",
      "_________________________________________________________________\n",
      "max_pooling2d_87 (MaxPooling (None, 122, 12, 1)        0         \n",
      "_________________________________________________________________\n",
      "time_distributed_114 (TimeDi (None, 122, 12, 12)       24        \n",
      "_________________________________________________________________\n",
      "time_distributed_115 (TimeDi (None, 122, 12, 12)       156       \n",
      "_________________________________________________________________\n",
      "conv2d_210 (Conv2D)          (None, 119, 9, 1)         193       \n",
      "_________________________________________________________________\n",
      "max_pooling2d_88 (MaxPooling (None, 59, 9, 1)          0         \n",
      "_________________________________________________________________\n",
      "time_distributed_116 (TimeDi (None, 59, 9, 9)          18        \n",
      "_________________________________________________________________\n",
      "time_distributed_117 (TimeDi (None, 59, 9, 9)          90        \n",
      "_________________________________________________________________\n",
      "flatten_10 (Flatten)         (None, 4779)              0         \n",
      "_________________________________________________________________\n",
      "dense_111 (Dense)            (None, 2)                 9560      \n",
      "=================================================================\n",
      "Total params: 10,554\n",
      "Trainable params: 10,554\n",
      "Non-trainable params: 0\n",
      "_________________________________________________________________\n"
     ]
    }
   ],
   "source": [
    "model.summary()"
   ]
  },
  {
   "cell_type": "code",
   "execution_count": 96,
   "metadata": {},
   "outputs": [],
   "source": [
    "from keras.callbacks import ModelCheckpoint, EarlyStopping, ReduceLROnPlateau\n",
    "mc = ModelCheckpoint(\"/home/ms994/test.h5\", monitor=\"val_f1_m\", mode=\"max\", save_best_only=True, verbose=True)\n",
    "stopping = EarlyStopping(\"val_loss\", patience=10, verbose=True,)\n",
    "reduceLR = ReduceLROnPlateau(cooldown=1, patience=5)"
   ]
  },
  {
   "cell_type": "code",
   "execution_count": 58,
   "metadata": {},
   "outputs": [],
   "source": [
    "valid_batch = valid_edg[0]"
   ]
  },
  {
   "cell_type": "code",
   "execution_count": 99,
   "metadata": {},
   "outputs": [
    {
     "data": {
      "text/plain": [
       "array([[1., 0.],\n",
       "       [0., 1.],\n",
       "       [1., 0.],\n",
       "       [1., 0.],\n",
       "       [1., 0.],\n",
       "       [1., 0.],\n",
       "       [1., 0.],\n",
       "       [1., 0.],\n",
       "       [0., 1.],\n",
       "       [1., 0.],\n",
       "       [0., 1.],\n",
       "       [1., 0.],\n",
       "       [1., 0.],\n",
       "       [1., 0.],\n",
       "       [1., 0.],\n",
       "       [1., 0.],\n",
       "       [1., 0.],\n",
       "       [1., 0.],\n",
       "       [1., 0.],\n",
       "       [1., 0.],\n",
       "       [1., 0.],\n",
       "       [1., 0.],\n",
       "       [1., 0.],\n",
       "       [1., 0.],\n",
       "       [1., 0.],\n",
       "       [1., 0.],\n",
       "       [0., 1.],\n",
       "       [1., 0.],\n",
       "       [1., 0.],\n",
       "       [1., 0.],\n",
       "       [1., 0.],\n",
       "       [1., 0.]], dtype=float32)"
      ]
     },
     "execution_count": 99,
     "metadata": {},
     "output_type": "execute_result"
    }
   ],
   "source": [
    "valid_batch[1]."
   ]
  },
  {
   "cell_type": "code",
   "execution_count": 100,
   "metadata": {},
   "outputs": [],
   "source": [
    "train_edg.batch_size= 128"
   ]
  },
  {
   "cell_type": "code",
   "execution_count": 101,
   "metadata": {},
   "outputs": [
    {
     "name": "stdout",
     "output_type": "stream",
     "text": [
      "Epoch 1/1000\n",
      "293/293 [==============================] - 33s 114ms/step - loss: 0.7760 - binary_accuracy: 0.5643 - f1_m: 0.5359 - precision_m: 0.5661 - recall_m: 0.5555 - val_loss: 0.5413 - val_binary_accuracy: 0.6874 - val_f1_m: 0.6723 - val_precision_m: 0.7052 - val_recall_m: 0.6433\n",
      "\n",
      "Epoch 00001: val_f1_m improved from -inf to 0.67229, saving model to /home/ms994/test.h5\n",
      "Epoch 2/1000\n",
      "293/293 [==============================] - 29s 99ms/step - loss: 0.6042 - binary_accuracy: 0.6979 - f1_m: 0.6992 - precision_m: 0.6980 - recall_m: 0.7123 - val_loss: 0.4924 - val_binary_accuracy: 0.7715 - val_f1_m: 0.7671 - val_precision_m: 0.7818 - val_recall_m: 0.7535\n",
      "\n",
      "Epoch 00002: val_f1_m improved from 0.67229 to 0.76710, saving model to /home/ms994/test.h5\n",
      "Epoch 3/1000\n",
      "293/293 [==============================] - 30s 101ms/step - loss: 0.5613 - binary_accuracy: 0.7286 - f1_m: 0.7204 - precision_m: 0.7392 - recall_m: 0.7101 - val_loss: 0.5122 - val_binary_accuracy: 0.7804 - val_f1_m: 0.7842 - val_precision_m: 0.7729 - val_recall_m: 0.7992\n",
      "\n",
      "Epoch 00003: val_f1_m improved from 0.76710 to 0.78422, saving model to /home/ms994/test.h5\n",
      "Epoch 4/1000\n",
      "293/293 [==============================] - 30s 101ms/step - loss: 0.5205 - binary_accuracy: 0.7628 - f1_m: 0.7625 - precision_m: 0.7647 - recall_m: 0.7616 - val_loss: 0.5706 - val_binary_accuracy: 0.6789 - val_f1_m: 0.6816 - val_precision_m: 0.6761 - val_recall_m: 0.6875\n",
      "\n",
      "Epoch 00004: val_f1_m did not improve from 0.78422\n",
      "Epoch 5/1000\n",
      "293/293 [==============================] - 30s 101ms/step - loss: 0.5127 - binary_accuracy: 0.7686 - f1_m: 0.7668 - precision_m: 0.7729 - recall_m: 0.7621 - val_loss: 0.4224 - val_binary_accuracy: 0.8209 - val_f1_m: 0.8150 - val_precision_m: 0.8412 - val_recall_m: 0.7912\n",
      "\n",
      "Epoch 00005: val_f1_m improved from 0.78422 to 0.81500, saving model to /home/ms994/test.h5\n",
      "Epoch 6/1000\n",
      "293/293 [==============================] - 29s 99ms/step - loss: 0.5323 - binary_accuracy: 0.7475 - f1_m: 0.7445 - precision_m: 0.7552 - recall_m: 0.7390 - val_loss: 0.5164 - val_binary_accuracy: 0.7244 - val_f1_m: 0.7257 - val_precision_m: 0.7227 - val_recall_m: 0.7293\n",
      "\n",
      "Epoch 00006: val_f1_m did not improve from 0.81500\n",
      "Epoch 7/1000\n",
      "293/293 [==============================] - 29s 100ms/step - loss: 0.6858 - binary_accuracy: 0.5407 - f1_m: 0.5448 - precision_m: 0.5368 - recall_m: 0.5820 - val_loss: 0.6908 - val_binary_accuracy: 0.6467 - val_f1_m: 0.5337 - val_precision_m: 0.7785 - val_recall_m: 0.4100\n",
      "\n",
      "Epoch 00007: val_f1_m did not improve from 0.81500\n",
      "Epoch 8/1000\n",
      "293/293 [==============================] - 30s 102ms/step - loss: 0.6906 - binary_accuracy: 0.5261 - f1_m: 0.5493 - precision_m: 0.5254 - recall_m: 0.5999 - val_loss: 0.7082 - val_binary_accuracy: 0.2845 - val_f1_m: 0.2501 - val_precision_m: 0.2623 - val_recall_m: 0.2398\n",
      "\n",
      "Epoch 00008: val_f1_m did not improve from 0.81500\n",
      "Epoch 9/1000\n",
      "293/293 [==============================] - 29s 99ms/step - loss: 0.6789 - binary_accuracy: 0.5686 - f1_m: 0.5988 - precision_m: 0.5657 - recall_m: 0.6582 - val_loss: 0.6542 - val_binary_accuracy: 0.6195 - val_f1_m: 0.6254 - val_precision_m: 0.6166 - val_recall_m: 0.6384\n",
      "\n",
      "Epoch 00009: val_f1_m did not improve from 0.81500\n",
      "Epoch 10/1000\n",
      "293/293 [==============================] - 29s 99ms/step - loss: 0.5558 - binary_accuracy: 0.7455 - f1_m: 0.7418 - precision_m: 0.7520 - recall_m: 0.7387 - val_loss: 0.6498 - val_binary_accuracy: 0.6984 - val_f1_m: 0.7008 - val_precision_m: 0.6956 - val_recall_m: 0.7072\n",
      "\n",
      "Epoch 00010: val_f1_m did not improve from 0.81500\n",
      "Epoch 11/1000\n",
      "293/293 [==============================] - 30s 101ms/step - loss: 0.5111 - binary_accuracy: 0.7690 - f1_m: 0.7701 - precision_m: 0.7669 - recall_m: 0.7736 - val_loss: 0.5020 - val_binary_accuracy: 0.7866 - val_f1_m: 0.7719 - val_precision_m: 0.8252 - val_recall_m: 0.7266\n",
      "\n",
      "Epoch 00011: val_f1_m did not improve from 0.81500\n",
      "Epoch 12/1000\n",
      "293/293 [==============================] - 30s 101ms/step - loss: 0.5139 - binary_accuracy: 0.7711 - f1_m: 0.7691 - precision_m: 0.7762 - recall_m: 0.7626 - val_loss: 0.5374 - val_binary_accuracy: 0.7553 - val_f1_m: 0.7480 - val_precision_m: 0.7707 - val_recall_m: 0.7277\n",
      "\n",
      "Epoch 00012: val_f1_m did not improve from 0.81500\n",
      "Epoch 13/1000\n",
      "293/293 [==============================] - 29s 99ms/step - loss: 0.5058 - binary_accuracy: 0.7716 - f1_m: 0.7742 - precision_m: 0.7657 - recall_m: 0.7832 - val_loss: 0.5018 - val_binary_accuracy: 0.7683 - val_f1_m: 0.7670 - val_precision_m: 0.7716 - val_recall_m: 0.7636\n",
      "\n",
      "Epoch 00013: val_f1_m did not improve from 0.81500\n",
      "Epoch 14/1000\n",
      "293/293 [==============================] - 29s 98ms/step - loss: 0.5016 - binary_accuracy: 0.7695 - f1_m: 0.7693 - precision_m: 0.7697 - recall_m: 0.7691 - val_loss: 0.5308 - val_binary_accuracy: 0.7430 - val_f1_m: 0.7402 - val_precision_m: 0.7482 - val_recall_m: 0.7334\n",
      "\n",
      "Epoch 00014: val_f1_m did not improve from 0.81500\n",
      "Epoch 15/1000\n",
      "293/293 [==============================] - 29s 98ms/step - loss: 0.4981 - binary_accuracy: 0.7742 - f1_m: 0.7756 - precision_m: 0.7712 - recall_m: 0.7801 - val_loss: 0.5121 - val_binary_accuracy: 0.7618 - val_f1_m: 0.7580 - val_precision_m: 0.7699 - val_recall_m: 0.7476\n",
      "\n",
      "Epoch 00015: val_f1_m did not improve from 0.81500\n",
      "Epoch 00015: early stopping\n"
     ]
    }
   ],
   "source": [
    "multi_label_history = model.fit_generator(train_edg, validation_data=valid_edg, epochs=1000, callbacks=[mc, stopping, reduceLR])"
   ]
  },
  {
   "cell_type": "code",
   "execution_count": 106,
   "metadata": {},
   "outputs": [],
   "source": [
    "from keras.models import load_model\n",
    "model = load_model(\"/home/ms994/test.h5\", compile=False)"
   ]
  },
  {
   "cell_type": "code",
   "execution_count": 109,
   "metadata": {},
   "outputs": [],
   "source": [
    "predictions = model.predict_generator(test_edg)"
   ]
  },
  {
   "cell_type": "code",
   "execution_count": 111,
   "metadata": {},
   "outputs": [
    {
     "data": {
      "text/plain": [
       "0.1475078273190575"
      ]
     },
     "execution_count": 111,
     "metadata": {},
     "output_type": "execute_result"
    }
   ],
   "source": [
    "sum(testSeizureLabels)/len(testSeizureLabels)"
   ]
  },
  {
   "cell_type": "code",
   "execution_count": 114,
   "metadata": {},
   "outputs": [
    {
     "name": "stdout",
     "output_type": "stream",
     "text": [
      "              precision    recall  f1-score   support\n",
      "\n",
      "           0       0.60      0.85      0.70     52238\n",
      "           1       0.40      0.15      0.21     35276\n",
      "\n",
      "    accuracy                           0.57     87514\n",
      "   macro avg       0.50      0.50      0.46     87514\n",
      "weighted avg       0.52      0.57      0.51     87514\n",
      "\n"
     ]
    }
   ],
   "source": [
    "from sklearn.metrics import classification_report, accuracy_score, f1_score\n",
    "print(classification_report(predictions.argmax(1), testSeizureLabels))"
   ]
  },
  {
   "cell_type": "code",
   "execution_count": null,
   "metadata": {},
   "outputs": [],
   "source": [
    "predictions[0].argmax(1).shape"
   ]
  },
  {
   "cell_type": "code",
   "execution_count": null,
   "metadata": {},
   "outputs": [],
   "source": [
    "accuracy_score(predictions[0].argmax(1), test_labels)"
   ]
  },
  {
   "cell_type": "code",
   "execution_count": 58,
   "metadata": {},
   "outputs": [
    {
     "data": {
      "text/plain": [
       "0.22985813292003135"
      ]
     },
     "execution_count": 58,
     "metadata": {},
     "output_type": "execute_result"
    }
   ],
   "source": [
    "f1_score(predictions[0].argmax(1), test_labels)"
   ]
  },
  {
   "cell_type": "code",
   "execution_count": 59,
   "metadata": {},
   "outputs": [
    {
     "data": {
      "text/plain": [
       "99361"
      ]
     },
     "execution_count": 59,
     "metadata": {},
     "output_type": "execute_result"
    }
   ],
   "source": [
    "sum(predictions[0].argmax(1))"
   ]
  },
  {
   "cell_type": "code",
   "execution_count": 60,
   "metadata": {},
   "outputs": [
    {
     "data": {
      "text/plain": [
       "0.7440820758602613"
      ]
     },
     "execution_count": 60,
     "metadata": {},
     "output_type": "execute_result"
    }
   ],
   "source": [
    "sum(predictions[0].argmax(1))/len(predictions[0].argmax(1))"
   ]
  },
  {
   "cell_type": "markdown",
   "metadata": {},
   "source": [
    "# Compare 2d CNN vs 3D cnn autoencoder"
   ]
  },
  {
   "cell_type": "code",
   "execution_count": 3,
   "metadata": {},
   "outputs": [
    {
     "name": "stdout",
     "output_type": "stream",
     "text": [
      "total 150G\n",
      "drwxrwxr-x    6 ms994 ms994  12K Dec 25 12:58 .\n",
      "drwxrwxrwx 1759 root  root  2.6M Dec 26 15:57 ..\n",
      "drwxrwxr-x    2 ms994 ms994 4.0K Dec 13 03:50 bak\n",
      "-rw-rw-r--    1 ms994 ms994 802M Nov 24 13:29 debug_test_multiple_labels_seizure_data_4.pkl\n",
      "-rw-rw-r--    1 ms994 ms994 802M Nov 24 13:29 debug_train_multiple_labels_seizure_data_4.pkl\n",
      "-rw-rw-r--    1 ms994 ms994 802M Nov 24 13:29 debug_valid_multiple_labels_seizure_data_4.pkl\n",
      "-rw-rw-r--    1 ms994 ms994  21G Dec 25 13:46 gnfncp_test_multiple_labels_sessions_seizure_data_4.pkl\n",
      "-rw-rw-r--    1 ms994 ms994  33G Dec 25 13:44 gnfncp_train_multiple_labels_sessions_seizure_data_4.pkl\n",
      "-rw-rw-r--    1 ms994 ms994  18G Dec 25 13:45 gnfncp_valid_multiple_labels_sessions_seizure_data_4.pkl\n",
      "drwxrwxr-x    2 ms994 ms994 356K Dec 26 03:14 out\n",
      "-rw-rw-r--    1 ms994 ms994  86M Dec 25 13:01 seizure_multi_labels_edss_info.pkl\n",
      "-rw-rw-r--    1 ms994 ms994 1.7M Nov 24 12:17 test_model\n",
      "-rw-rw-r--    1 ms994 ms994  14G Nov 20 11:43 test_multiple_labels_seizure_data_4.pkl\n",
      "-rw-r--r--    1 ms994 ms994 8.7G Dec 15 00:56 test_multiple_labels_sessions_seizure_data_4.pkl\n",
      "-rw-rw-r--    1 ms994 ms994  22G Nov 20 14:24 train_multiple_labels_seizure_data_4.pkl\n",
      "-rw-r--r--    1 ms994 ms994  21G Dec 15 00:56 train_multiple_labels_sessions_seizure_data_4.pkl\n",
      "drwxrwxr-x    9 ms994 ms994 4.0K Sep  3 21:10 tuh_files\n",
      "drwxrwxr-x    3 ms994 ms994 4.0K Jul 31 11:40 v1.5.0\n",
      "-rw-rw-r--    1 ms994 ms994 5.4G Nov 20 15:10 valid_multiple_labels_seizure_data_4.pkl\n",
      "-rw-r--r--    1 ms994 ms994 6.2G Dec 15 00:56 valid_multiple_labels_sessions_seizure_data_4.pkl\n"
     ]
    }
   ],
   "source": [
    "%%bash\n",
    "ls -lah /n/scratch2/ms994"
   ]
  },
  {
   "cell_type": "code",
   "execution_count": 4,
   "metadata": {},
   "outputs": [
    {
     "data": {
      "text/plain": [
       "137903"
      ]
     },
     "execution_count": 4,
     "metadata": {},
     "output_type": "execute_result"
    }
   ],
   "source": [
    "len(train_edss)"
   ]
  },
  {
   "cell_type": "code",
   "execution_count": 3,
   "metadata": {},
   "outputs": [],
   "source": [
    "data_x = np.array([train_edss[i][0] for i in range(5000)])\n",
    "# data_x = np.concatenate(data_x, np.array([train_edss[i][0] for i in range(70000)]))\n"
   ]
  },
  {
   "cell_type": "code",
   "execution_count": 4,
   "metadata": {},
   "outputs": [],
   "source": [
    "del train_edss"
   ]
  },
  {
   "cell_type": "code",
   "execution_count": 11,
   "metadata": {},
   "outputs": [
    {
     "data": {
      "text/plain": [
       "(70000, 1000, 21)"
      ]
     },
     "execution_count": 11,
     "metadata": {},
     "output_type": "execute_result"
    }
   ],
   "source": [
    "data_x.shape"
   ]
  },
  {
   "cell_type": "markdown",
   "metadata": {},
   "source": [
    "## Try 3d CNN"
   ]
  },
  {
   "cell_type": "code",
   "execution_count": 130,
   "metadata": {},
   "outputs": [],
   "source": [
    "from keras_models.cnn_models import conv2d_gridsearch_pre_layers\n",
    "from keras.layers import Input, Reshape, Dense, TimeDistributed, Dropout, Conv3D, BatchNormalization, MaxPool3D, Flatten, GaussianNoise, UpSampling3D, Lambda\n",
    "from keras import Model\n",
    "from keras.optimizers import Adam\n",
    "pre_layer_h = 16\n",
    "x = Input((1000, 21)) #time, ecg channel, \n",
    "# y = GaussianNoise(5)(x)\n",
    "y = TimeDistributed(Dense(pre_layer_h**2, activation=\"linear\"))(x)\n",
    "y = Reshape((1000, pre_layer_h,pre_layer_h, 1))(y) #add back in channel dim"
   ]
  },
  {
   "cell_type": "code",
   "execution_count": 131,
   "metadata": {},
   "outputs": [],
   "source": [
    "for i in range(4):\n",
    "    y = BatchNormalization()(y)\n",
    "    y = Conv3D(2**i, (4,4,4), activation=\"relu\", padding=\"same\")(y)\n",
    "    y = MaxPool3D((2, 1, 1), padding=\"same\")(y)\n",
    "    \n",
    "for i in range(2):\n",
    "    y = BatchNormalization()(y)\n",
    "    y = Conv3D(2**(i+4), (3,3,3), activation=\"relu\", padding=\"same\")(y)\n",
    "    y = MaxPool3D((2, 2, 2), padding=\"same\")(y)"
   ]
  },
  {
   "cell_type": "code",
   "execution_count": 64,
   "metadata": {},
   "outputs": [],
   "source": [
    "# encoded = Dense(8**3)(Flatten()(y))\n",
    "# y = Reshape((8, 8, 8))(encoded)"
   ]
  },
  {
   "cell_type": "code",
   "execution_count": 132,
   "metadata": {},
   "outputs": [],
   "source": [
    "for i in range(2):\n",
    "    y = BatchNormalization()(y)\n",
    "    y = Conv3D(2**(5 - i), (3,3,3), activation=\"relu\", padding=\"same\")(y)\n",
    "    y = UpSampling3D((2, 2, 2))(y)\n",
    "    \n",
    "for i in range(4):\n",
    "    y = BatchNormalization()(y)\n",
    "    y = Conv3D(2**(3-i), (4,4,4), activation=\"relu\", padding=\"same\")(y)\n",
    "    y = UpSampling3D((2, 1, 1))(y)"
   ]
  },
  {
   "cell_type": "code",
   "execution_count": 133,
   "metadata": {},
   "outputs": [],
   "source": [
    "y = Reshape((1024, pre_layer_h **2))(y)\n",
    "y = TimeDistributed(Dense(21, activation=\"linear\"))(y)"
   ]
  },
  {
   "cell_type": "code",
   "execution_count": 134,
   "metadata": {},
   "outputs": [],
   "source": [
    "y = Lambda(lambda x: x[:, 12:1012], output_shape=(1000,21))(y)"
   ]
  },
  {
   "cell_type": "code",
   "execution_count": 135,
   "metadata": {},
   "outputs": [
    {
     "name": "stdout",
     "output_type": "stream",
     "text": [
      "_________________________________________________________________\n",
      "Layer (type)                 Output Shape              Param #   \n",
      "=================================================================\n",
      "input_10 (InputLayer)        (None, 1000, 21)          0         \n",
      "_________________________________________________________________\n",
      "time_distributed_15 (TimeDis (None, 1000, 256)         5632      \n",
      "_________________________________________________________________\n",
      "reshape_17 (Reshape)         (None, 1000, 16, 16, 1)   0         \n",
      "_________________________________________________________________\n",
      "batch_normalization_71 (Batc (None, 1000, 16, 16, 1)   4         \n",
      "_________________________________________________________________\n",
      "conv3d_71 (Conv3D)           (None, 1000, 16, 16, 1)   65        \n",
      "_________________________________________________________________\n",
      "max_pooling3d_36 (MaxPooling (None, 500, 16, 16, 1)    0         \n",
      "_________________________________________________________________\n",
      "batch_normalization_72 (Batc (None, 500, 16, 16, 1)    4         \n",
      "_________________________________________________________________\n",
      "conv3d_72 (Conv3D)           (None, 500, 16, 16, 2)    130       \n",
      "_________________________________________________________________\n",
      "max_pooling3d_37 (MaxPooling (None, 250, 16, 16, 2)    0         \n",
      "_________________________________________________________________\n",
      "batch_normalization_73 (Batc (None, 250, 16, 16, 2)    8         \n",
      "_________________________________________________________________\n",
      "conv3d_73 (Conv3D)           (None, 250, 16, 16, 4)    516       \n",
      "_________________________________________________________________\n",
      "max_pooling3d_38 (MaxPooling (None, 125, 16, 16, 4)    0         \n",
      "_________________________________________________________________\n",
      "batch_normalization_74 (Batc (None, 125, 16, 16, 4)    16        \n",
      "_________________________________________________________________\n",
      "conv3d_74 (Conv3D)           (None, 125, 16, 16, 8)    2056      \n",
      "_________________________________________________________________\n",
      "max_pooling3d_39 (MaxPooling (None, 63, 16, 16, 8)     0         \n",
      "_________________________________________________________________\n",
      "batch_normalization_75 (Batc (None, 63, 16, 16, 8)     32        \n",
      "_________________________________________________________________\n",
      "conv3d_75 (Conv3D)           (None, 63, 16, 16, 16)    3472      \n",
      "_________________________________________________________________\n",
      "max_pooling3d_40 (MaxPooling (None, 32, 8, 8, 16)      0         \n",
      "_________________________________________________________________\n",
      "batch_normalization_76 (Batc (None, 32, 8, 8, 16)      64        \n",
      "_________________________________________________________________\n",
      "conv3d_76 (Conv3D)           (None, 32, 8, 8, 32)      13856     \n",
      "_________________________________________________________________\n",
      "max_pooling3d_41 (MaxPooling (None, 16, 4, 4, 32)      0         \n",
      "_________________________________________________________________\n",
      "batch_normalization_77 (Batc (None, 16, 4, 4, 32)      128       \n",
      "_________________________________________________________________\n",
      "conv3d_77 (Conv3D)           (None, 16, 4, 4, 32)      27680     \n",
      "_________________________________________________________________\n",
      "up_sampling3d_36 (UpSampling (None, 32, 8, 8, 32)      0         \n",
      "_________________________________________________________________\n",
      "batch_normalization_78 (Batc (None, 32, 8, 8, 32)      128       \n",
      "_________________________________________________________________\n",
      "conv3d_78 (Conv3D)           (None, 32, 8, 8, 16)      13840     \n",
      "_________________________________________________________________\n",
      "up_sampling3d_37 (UpSampling (None, 64, 16, 16, 16)    0         \n",
      "_________________________________________________________________\n",
      "batch_normalization_79 (Batc (None, 64, 16, 16, 16)    64        \n",
      "_________________________________________________________________\n",
      "conv3d_79 (Conv3D)           (None, 64, 16, 16, 8)     8200      \n",
      "_________________________________________________________________\n",
      "up_sampling3d_38 (UpSampling (None, 128, 16, 16, 8)    0         \n",
      "_________________________________________________________________\n",
      "batch_normalization_80 (Batc (None, 128, 16, 16, 8)    32        \n",
      "_________________________________________________________________\n",
      "conv3d_80 (Conv3D)           (None, 128, 16, 16, 4)    2052      \n",
      "_________________________________________________________________\n",
      "up_sampling3d_39 (UpSampling (None, 256, 16, 16, 4)    0         \n",
      "_________________________________________________________________\n",
      "batch_normalization_81 (Batc (None, 256, 16, 16, 4)    16        \n",
      "_________________________________________________________________\n",
      "conv3d_81 (Conv3D)           (None, 256, 16, 16, 2)    514       \n",
      "_________________________________________________________________\n",
      "up_sampling3d_40 (UpSampling (None, 512, 16, 16, 2)    0         \n",
      "_________________________________________________________________\n",
      "batch_normalization_82 (Batc (None, 512, 16, 16, 2)    8         \n",
      "_________________________________________________________________\n",
      "conv3d_82 (Conv3D)           (None, 512, 16, 16, 1)    129       \n",
      "_________________________________________________________________\n",
      "up_sampling3d_41 (UpSampling (None, 1024, 16, 16, 1)   0         \n",
      "_________________________________________________________________\n",
      "reshape_18 (Reshape)         (None, 1024, 256)         0         \n",
      "_________________________________________________________________\n",
      "time_distributed_16 (TimeDis (None, 1024, 21)          5397      \n",
      "_________________________________________________________________\n",
      "lambda_6 (Lambda)            (None, 1000, 21)          0         \n",
      "=================================================================\n",
      "Total params: 84,043\n",
      "Trainable params: 83,791\n",
      "Non-trainable params: 252\n",
      "_________________________________________________________________\n"
     ]
    }
   ],
   "source": [
    "model = Model(inputs=x, outputs=y)\n",
    "model.summary()"
   ]
  },
  {
   "cell_type": "code",
   "execution_count": 136,
   "metadata": {},
   "outputs": [],
   "source": [
    "from keras import optimizers"
   ]
  },
  {
   "cell_type": "code",
   "execution_count": 142,
   "metadata": {},
   "outputs": [],
   "source": [
    "model.compile(optimizer=optimizers.Adam(lr=0.001), loss=\"mean_squared_error\",)"
   ]
  },
  {
   "cell_type": "code",
   "execution_count": 144,
   "metadata": {},
   "outputs": [
    {
     "name": "stdout",
     "output_type": "stream",
     "text": [
      "Epoch 1/100\n",
      "1000/1000 [==============================] - 38s 38ms/step - loss: 12519.8997\n",
      "Epoch 2/100\n",
      "1000/1000 [==============================] - 38s 38ms/step - loss: 12519.8856\n",
      "Epoch 3/100\n",
      "1000/1000 [==============================] - 38s 38ms/step - loss: 12519.7073\n",
      "Epoch 4/100\n",
      "1000/1000 [==============================] - 38s 38ms/step - loss: 12519.7488\n",
      "Epoch 5/100\n",
      "1000/1000 [==============================] - 38s 38ms/step - loss: 12520.1589\n",
      "Epoch 6/100\n",
      "1000/1000 [==============================] - 38s 38ms/step - loss: 12519.7731\n",
      "Epoch 7/100\n",
      "1000/1000 [==============================] - 38s 38ms/step - loss: 12519.9092\n",
      "Epoch 8/100\n",
      "1000/1000 [==============================] - 38s 38ms/step - loss: 12519.8076\n",
      "Epoch 9/100\n",
      "1000/1000 [==============================] - 38s 38ms/step - loss: 12520.0714\n",
      "Epoch 10/100\n",
      "1000/1000 [==============================] - 38s 38ms/step - loss: 12520.1430\n",
      "Epoch 11/100\n",
      "1000/1000 [==============================] - 38s 38ms/step - loss: 12519.9874\n",
      "Epoch 12/100\n",
      "1000/1000 [==============================] - 38s 38ms/step - loss: 12520.0849\n",
      "Epoch 13/100\n",
      "1000/1000 [==============================] - 38s 38ms/step - loss: 12519.9060\n",
      "Epoch 14/100\n",
      "1000/1000 [==============================] - 38s 38ms/step - loss: 12520.1758\n",
      "Epoch 15/100\n",
      "1000/1000 [==============================] - 38s 38ms/step - loss: 12520.5837\n",
      "Epoch 16/100\n",
      "1000/1000 [==============================] - 38s 38ms/step - loss: 12520.5726\n",
      "Epoch 17/100\n",
      "1000/1000 [==============================] - 38s 38ms/step - loss: 12520.3014\n",
      "Epoch 18/100\n",
      "1000/1000 [==============================] - 38s 38ms/step - loss: 12520.4781\n",
      "Epoch 19/100\n",
      "1000/1000 [==============================] - 38s 38ms/step - loss: 12520.4923\n",
      "Epoch 20/100\n",
      "1000/1000 [==============================] - 38s 38ms/step - loss: 12520.4148\n",
      "Epoch 21/100\n",
      "1000/1000 [==============================] - 38s 38ms/step - loss: 12520.4451\n",
      "Epoch 22/100\n",
      "1000/1000 [==============================] - 38s 38ms/step - loss: 12520.8424\n",
      "Epoch 23/100\n",
      "1000/1000 [==============================] - 38s 38ms/step - loss: 12520.5399\n",
      "Epoch 24/100\n",
      "1000/1000 [==============================] - 38s 38ms/step - loss: 12520.6056\n",
      "Epoch 25/100\n",
      "1000/1000 [==============================] - 38s 38ms/step - loss: 12520.6990\n",
      "Epoch 26/100\n",
      "1000/1000 [==============================] - 38s 38ms/step - loss: 12520.3752\n",
      "Epoch 27/100\n",
      "1000/1000 [==============================] - 38s 38ms/step - loss: 12521.2392\n",
      "Epoch 28/100\n",
      "1000/1000 [==============================] - 38s 38ms/step - loss: 12521.3095\n",
      "Epoch 29/100\n",
      "1000/1000 [==============================] - 38s 38ms/step - loss: 12520.9681\n",
      "Epoch 30/100\n",
      "1000/1000 [==============================] - 38s 38ms/step - loss: 12521.0395\n",
      "Epoch 31/100\n",
      "  32/1000 [..............................] - ETA: 36s - loss: 2527.2139"
     ]
    },
    {
     "ename": "KeyboardInterrupt",
     "evalue": "",
     "output_type": "error",
     "traceback": [
      "\u001b[0;31m---------------------------------------------------------------------------\u001b[0m",
      "\u001b[0;31mKeyboardInterrupt\u001b[0m                         Traceback (most recent call last)",
      "\u001b[0;32m<ipython-input-144-fe0a51e1cb43>\u001b[0m in \u001b[0;36m<module>\u001b[0;34m\u001b[0m\n\u001b[1;32m      1\u001b[0m \u001b[0;32mimport\u001b[0m \u001b[0mkeras\u001b[0m\u001b[0;34m.\u001b[0m\u001b[0mcallbacks\u001b[0m \u001b[0;32mas\u001b[0m \u001b[0mcb\u001b[0m\u001b[0;34m\u001b[0m\u001b[0;34m\u001b[0m\u001b[0m\n\u001b[0;32m----> 2\u001b[0;31m \u001b[0mmodel\u001b[0m\u001b[0;34m.\u001b[0m\u001b[0mfit\u001b[0m\u001b[0;34m(\u001b[0m\u001b[0mdata_x\u001b[0m\u001b[0;34m[\u001b[0m\u001b[0;36m0\u001b[0m\u001b[0;34m:\u001b[0m\u001b[0;36m1000\u001b[0m\u001b[0;34m]\u001b[0m\u001b[0;34m,\u001b[0m \u001b[0mdata_x\u001b[0m\u001b[0;34m[\u001b[0m\u001b[0;36m0\u001b[0m\u001b[0;34m:\u001b[0m\u001b[0;36m1000\u001b[0m\u001b[0;34m]\u001b[0m\u001b[0;34m,\u001b[0m \u001b[0mbatch_size\u001b[0m\u001b[0;34m=\u001b[0m\u001b[0;36m32\u001b[0m\u001b[0;34m,\u001b[0m \u001b[0mepochs\u001b[0m\u001b[0;34m=\u001b[0m\u001b[0;36m100\u001b[0m\u001b[0;34m,\u001b[0m \u001b[0mcallbacks\u001b[0m\u001b[0;34m=\u001b[0m\u001b[0;34m[\u001b[0m\u001b[0mcb\u001b[0m\u001b[0;34m.\u001b[0m\u001b[0mLearningRateScheduler\u001b[0m\u001b[0;34m(\u001b[0m\u001b[0;32mlambda\u001b[0m \u001b[0mlr\u001b[0m\u001b[0;34m:\u001b[0m \u001b[0mlr\u001b[0m\u001b[0;34m*\u001b[0m\u001b[0;36m0.5\u001b[0m\u001b[0;34m)\u001b[0m\u001b[0;34m]\u001b[0m\u001b[0;34m)\u001b[0m\u001b[0;34m\u001b[0m\u001b[0;34m\u001b[0m\u001b[0m\n\u001b[0m",
      "\u001b[0;32m~/miniconda3/envs/keras-redo/lib/python3.7/site-packages/keras/engine/training.py\u001b[0m in \u001b[0;36mfit\u001b[0;34m(self, x, y, batch_size, epochs, verbose, callbacks, validation_split, validation_data, shuffle, class_weight, sample_weight, initial_epoch, steps_per_epoch, validation_steps, **kwargs)\u001b[0m\n\u001b[1;32m   1037\u001b[0m                                         \u001b[0minitial_epoch\u001b[0m\u001b[0;34m=\u001b[0m\u001b[0minitial_epoch\u001b[0m\u001b[0;34m,\u001b[0m\u001b[0;34m\u001b[0m\u001b[0;34m\u001b[0m\u001b[0m\n\u001b[1;32m   1038\u001b[0m                                         \u001b[0msteps_per_epoch\u001b[0m\u001b[0;34m=\u001b[0m\u001b[0msteps_per_epoch\u001b[0m\u001b[0;34m,\u001b[0m\u001b[0;34m\u001b[0m\u001b[0;34m\u001b[0m\u001b[0m\n\u001b[0;32m-> 1039\u001b[0;31m                                         validation_steps=validation_steps)\n\u001b[0m\u001b[1;32m   1040\u001b[0m \u001b[0;34m\u001b[0m\u001b[0m\n\u001b[1;32m   1041\u001b[0m     def evaluate(self, x=None, y=None,\n",
      "\u001b[0;32m~/miniconda3/envs/keras-redo/lib/python3.7/site-packages/keras/engine/training_arrays.py\u001b[0m in \u001b[0;36mfit_loop\u001b[0;34m(model, f, ins, out_labels, batch_size, epochs, verbose, callbacks, val_f, val_ins, shuffle, callback_metrics, initial_epoch, steps_per_epoch, validation_steps)\u001b[0m\n\u001b[1;32m    197\u001b[0m                     \u001b[0mins_batch\u001b[0m\u001b[0;34m[\u001b[0m\u001b[0mi\u001b[0m\u001b[0;34m]\u001b[0m \u001b[0;34m=\u001b[0m \u001b[0mins_batch\u001b[0m\u001b[0;34m[\u001b[0m\u001b[0mi\u001b[0m\u001b[0;34m]\u001b[0m\u001b[0;34m.\u001b[0m\u001b[0mtoarray\u001b[0m\u001b[0;34m(\u001b[0m\u001b[0;34m)\u001b[0m\u001b[0;34m\u001b[0m\u001b[0;34m\u001b[0m\u001b[0m\n\u001b[1;32m    198\u001b[0m \u001b[0;34m\u001b[0m\u001b[0m\n\u001b[0;32m--> 199\u001b[0;31m                 \u001b[0mouts\u001b[0m \u001b[0;34m=\u001b[0m \u001b[0mf\u001b[0m\u001b[0;34m(\u001b[0m\u001b[0mins_batch\u001b[0m\u001b[0;34m)\u001b[0m\u001b[0;34m\u001b[0m\u001b[0;34m\u001b[0m\u001b[0m\n\u001b[0m\u001b[1;32m    200\u001b[0m                 \u001b[0mouts\u001b[0m \u001b[0;34m=\u001b[0m \u001b[0mto_list\u001b[0m\u001b[0;34m(\u001b[0m\u001b[0mouts\u001b[0m\u001b[0;34m)\u001b[0m\u001b[0;34m\u001b[0m\u001b[0;34m\u001b[0m\u001b[0m\n\u001b[1;32m    201\u001b[0m                 \u001b[0;32mfor\u001b[0m \u001b[0ml\u001b[0m\u001b[0;34m,\u001b[0m \u001b[0mo\u001b[0m \u001b[0;32min\u001b[0m \u001b[0mzip\u001b[0m\u001b[0;34m(\u001b[0m\u001b[0mout_labels\u001b[0m\u001b[0;34m,\u001b[0m \u001b[0mouts\u001b[0m\u001b[0;34m)\u001b[0m\u001b[0;34m:\u001b[0m\u001b[0;34m\u001b[0m\u001b[0;34m\u001b[0m\u001b[0m\n",
      "\u001b[0;32m~/miniconda3/envs/keras-redo/lib/python3.7/site-packages/keras/backend/tensorflow_backend.py\u001b[0m in \u001b[0;36m__call__\u001b[0;34m(self, inputs)\u001b[0m\n\u001b[1;32m   2713\u001b[0m                 \u001b[0;32mreturn\u001b[0m \u001b[0mself\u001b[0m\u001b[0;34m.\u001b[0m\u001b[0m_legacy_call\u001b[0m\u001b[0;34m(\u001b[0m\u001b[0minputs\u001b[0m\u001b[0;34m)\u001b[0m\u001b[0;34m\u001b[0m\u001b[0;34m\u001b[0m\u001b[0m\n\u001b[1;32m   2714\u001b[0m \u001b[0;34m\u001b[0m\u001b[0m\n\u001b[0;32m-> 2715\u001b[0;31m             \u001b[0;32mreturn\u001b[0m \u001b[0mself\u001b[0m\u001b[0;34m.\u001b[0m\u001b[0m_call\u001b[0m\u001b[0;34m(\u001b[0m\u001b[0minputs\u001b[0m\u001b[0;34m)\u001b[0m\u001b[0;34m\u001b[0m\u001b[0;34m\u001b[0m\u001b[0m\n\u001b[0m\u001b[1;32m   2716\u001b[0m         \u001b[0;32melse\u001b[0m\u001b[0;34m:\u001b[0m\u001b[0;34m\u001b[0m\u001b[0;34m\u001b[0m\u001b[0m\n\u001b[1;32m   2717\u001b[0m             \u001b[0;32mif\u001b[0m \u001b[0mpy_any\u001b[0m\u001b[0;34m(\u001b[0m\u001b[0mis_tensor\u001b[0m\u001b[0;34m(\u001b[0m\u001b[0mx\u001b[0m\u001b[0;34m)\u001b[0m \u001b[0;32mfor\u001b[0m \u001b[0mx\u001b[0m \u001b[0;32min\u001b[0m \u001b[0minputs\u001b[0m\u001b[0;34m)\u001b[0m\u001b[0;34m:\u001b[0m\u001b[0;34m\u001b[0m\u001b[0;34m\u001b[0m\u001b[0m\n",
      "\u001b[0;32m~/miniconda3/envs/keras-redo/lib/python3.7/site-packages/keras/backend/tensorflow_backend.py\u001b[0m in \u001b[0;36m_call\u001b[0;34m(self, inputs)\u001b[0m\n\u001b[1;32m   2673\u001b[0m             \u001b[0mfetched\u001b[0m \u001b[0;34m=\u001b[0m \u001b[0mself\u001b[0m\u001b[0;34m.\u001b[0m\u001b[0m_callable_fn\u001b[0m\u001b[0;34m(\u001b[0m\u001b[0;34m*\u001b[0m\u001b[0marray_vals\u001b[0m\u001b[0;34m,\u001b[0m \u001b[0mrun_metadata\u001b[0m\u001b[0;34m=\u001b[0m\u001b[0mself\u001b[0m\u001b[0;34m.\u001b[0m\u001b[0mrun_metadata\u001b[0m\u001b[0;34m)\u001b[0m\u001b[0;34m\u001b[0m\u001b[0;34m\u001b[0m\u001b[0m\n\u001b[1;32m   2674\u001b[0m         \u001b[0;32melse\u001b[0m\u001b[0;34m:\u001b[0m\u001b[0;34m\u001b[0m\u001b[0;34m\u001b[0m\u001b[0m\n\u001b[0;32m-> 2675\u001b[0;31m             \u001b[0mfetched\u001b[0m \u001b[0;34m=\u001b[0m \u001b[0mself\u001b[0m\u001b[0;34m.\u001b[0m\u001b[0m_callable_fn\u001b[0m\u001b[0;34m(\u001b[0m\u001b[0;34m*\u001b[0m\u001b[0marray_vals\u001b[0m\u001b[0;34m)\u001b[0m\u001b[0;34m\u001b[0m\u001b[0;34m\u001b[0m\u001b[0m\n\u001b[0m\u001b[1;32m   2676\u001b[0m         \u001b[0;32mreturn\u001b[0m \u001b[0mfetched\u001b[0m\u001b[0;34m[\u001b[0m\u001b[0;34m:\u001b[0m\u001b[0mlen\u001b[0m\u001b[0;34m(\u001b[0m\u001b[0mself\u001b[0m\u001b[0;34m.\u001b[0m\u001b[0moutputs\u001b[0m\u001b[0;34m)\u001b[0m\u001b[0;34m]\u001b[0m\u001b[0;34m\u001b[0m\u001b[0;34m\u001b[0m\u001b[0m\n\u001b[1;32m   2677\u001b[0m \u001b[0;34m\u001b[0m\u001b[0m\n",
      "\u001b[0;32m~/miniconda3/envs/keras-redo/lib/python3.7/site-packages/tensorflow/python/client/session.py\u001b[0m in \u001b[0;36m__call__\u001b[0;34m(self, *args, **kwargs)\u001b[0m\n\u001b[1;32m   1437\u001b[0m           ret = tf_session.TF_SessionRunCallable(\n\u001b[1;32m   1438\u001b[0m               \u001b[0mself\u001b[0m\u001b[0;34m.\u001b[0m\u001b[0m_session\u001b[0m\u001b[0;34m.\u001b[0m\u001b[0m_session\u001b[0m\u001b[0;34m,\u001b[0m \u001b[0mself\u001b[0m\u001b[0;34m.\u001b[0m\u001b[0m_handle\u001b[0m\u001b[0;34m,\u001b[0m \u001b[0margs\u001b[0m\u001b[0;34m,\u001b[0m \u001b[0mstatus\u001b[0m\u001b[0;34m,\u001b[0m\u001b[0;34m\u001b[0m\u001b[0;34m\u001b[0m\u001b[0m\n\u001b[0;32m-> 1439\u001b[0;31m               run_metadata_ptr)\n\u001b[0m\u001b[1;32m   1440\u001b[0m         \u001b[0;32mif\u001b[0m \u001b[0mrun_metadata\u001b[0m\u001b[0;34m:\u001b[0m\u001b[0;34m\u001b[0m\u001b[0;34m\u001b[0m\u001b[0m\n\u001b[1;32m   1441\u001b[0m           \u001b[0mproto_data\u001b[0m \u001b[0;34m=\u001b[0m \u001b[0mtf_session\u001b[0m\u001b[0;34m.\u001b[0m\u001b[0mTF_GetBuffer\u001b[0m\u001b[0;34m(\u001b[0m\u001b[0mrun_metadata_ptr\u001b[0m\u001b[0;34m)\u001b[0m\u001b[0;34m\u001b[0m\u001b[0;34m\u001b[0m\u001b[0m\n",
      "\u001b[0;31mKeyboardInterrupt\u001b[0m: "
     ]
    }
   ],
   "source": [
    "import keras.callbacks as cb\n",
    "model.fit(data_x[0:1000], data_x[0:1000], batch_size=32, epochs=100, callbacks=[cb.LearningRateScheduler(lambda lr: lr*0.5)])"
   ]
  },
  {
   "cell_type": "code",
   "execution_count": 95,
   "metadata": {},
   "outputs": [
    {
     "name": "stdout",
     "output_type": "stream",
     "text": [
      "Epoch 1/10\n",
      "1000/1000 [==============================] - 30s 30ms/step - loss: 10252.0820\n",
      "Epoch 2/10\n",
      "1000/1000 [==============================] - 18s 18ms/step - loss: 9804.8523\n",
      "Epoch 3/10\n",
      "1000/1000 [==============================] - 18s 18ms/step - loss: 9860.0697\n",
      "Epoch 4/10\n",
      "1000/1000 [==============================] - 18s 18ms/step - loss: 9945.9150\n",
      "Epoch 5/10\n",
      "1000/1000 [==============================] - 18s 18ms/step - loss: 9819.6136\n",
      "Epoch 6/10\n",
      "1000/1000 [==============================] - 18s 18ms/step - loss: 9945.9986\n",
      "Epoch 7/10\n",
      "1000/1000 [==============================] - 18s 18ms/step - loss: 9698.5559\n",
      "Epoch 8/10\n",
      "1000/1000 [==============================] - 18s 18ms/step - loss: 9568.8256\n",
      "Epoch 9/10\n",
      "1000/1000 [==============================] - 18s 18ms/step - loss: 9779.8956\n",
      "Epoch 10/10\n",
      "1000/1000 [==============================] - 18s 18ms/step - loss: 9935.3519\n"
     ]
    },
    {
     "data": {
      "text/plain": [
       "<keras.callbacks.History at 0x7fbbe24bfdd8>"
      ]
     },
     "execution_count": 95,
     "metadata": {},
     "output_type": "execute_result"
    }
   ],
   "source": [
    "model.compile(optimizer=optimizers.Adam(lr=0.001), loss=\"mean_squared_error\")\n",
    "model.fit(data_x[0:1000], data_x[0:1000], batch_size=64, epochs=10)"
   ]
  },
  {
   "cell_type": "code",
   "execution_count": 96,
   "metadata": {},
   "outputs": [],
   "source": [
    "from keras import backend as K\n",
    "sess = K.get_session()\n",
    "with sess.as_default():\n",
    "    translate = model.layers[2].layer.weights[0].eval()"
   ]
  },
  {
   "cell_type": "code",
   "execution_count": 97,
   "metadata": {},
   "outputs": [],
   "source": [
    "mapping = translate.reshape((21, 16, 16)).argmax(axis=0)"
   ]
  },
  {
   "cell_type": "code",
   "execution_count": 98,
   "metadata": {},
   "outputs": [
    {
     "data": {
      "text/plain": [
       "array([[16, 16,  9,  1, 18,  9,  9, 16, 16,  9,  6,  8,  8,  1,  1, 16],\n",
       "       [16, 20,  1,  9,  1,  9,  2,  1,  9,  9,  8,  8,  1,  1, 14, 16],\n",
       "       [16,  6,  6, 17, 15,  6,  9,  9,  6,  9,  3,  6,  1, 16, 16,  1],\n",
       "       [ 6,  6,  3,  4,  6,  8,  9,  6, 18,  9,  3,  4, 15,  3,  1,  1],\n",
       "       [ 6, 15,  1,  4,  4, 13,  6,  9, 20,  6,  9, 16,  6,  8,  7, 16],\n",
       "       [16, 17,  8,  8, 18,  9, 16,  8,  8,  4, 16, 16,  4,  8, 19,  4],\n",
       "       [10,  9,  8, 12,  4,  4,  4,  8,  4,  4, 16,  4,  4, 10,  0, 16],\n",
       "       [ 9,  1, 15,  8,  8,  4, 14, 19,  8, 13,  6,  4,  4, 16, 16,  6],\n",
       "       [ 6,  4,  3,  6,  3,  1,  5,  9, 19,  0, 20, 20, 20,  4, 20, 15],\n",
       "       [16,  3,  3,  6,  6,  3,  6,  0,  3,  0,  9,  1, 16, 20,  6,  4],\n",
       "       [ 2, 20,  8,  8,  6, 12, 15,  3,  3,  9, 15,  2,  3,  1,  9,  9],\n",
       "       [ 4, 17,  8, 20,  6,  2, 17, 15,  9,  9, 20,  2,  7,  5, 16,  8],\n",
       "       [16, 17,  4,  2,  9,  8,  6,  9,  3, 10, 16, 16,  8,  7,  4,  8],\n",
       "       [ 4,  4, 11, 17,  2,  6, 12,  9,  6,  1,  2,  2,  3, 10,  6, 15],\n",
       "       [ 6, 15,  9,  4,  8, 17, 16,  6,  3,  6,  6, 19,  8,  9,  3,  4],\n",
       "       [15, 19,  4,  8,  6,  8, 17, 20,  4,  4,  4, 16,  2,  7,  6,  8]])"
      ]
     },
     "execution_count": 98,
     "metadata": {},
     "output_type": "execute_result"
    }
   ],
   "source": [
    "mapping"
   ]
  },
  {
   "cell_type": "code",
   "execution_count": 99,
   "metadata": {},
   "outputs": [],
   "source": [
    "from seaborn import heatmap"
   ]
  },
  {
   "cell_type": "code",
   "execution_count": 102,
   "metadata": {},
   "outputs": [
    {
     "data": {
      "text/plain": [
       "'EEG CZ-REF'"
      ]
     },
     "execution_count": 102,
     "metadata": {},
     "output_type": "execute_result"
    }
   ],
   "source": [
    "util_funcs.get_common_channel_names()[6]"
   ]
  },
  {
   "cell_type": "code",
   "execution_count": 103,
   "metadata": {},
   "outputs": [
    {
     "data": {
      "text/plain": [
       "<matplotlib.axes._subplots.AxesSubplot at 0x7fbbdf52d198>"
      ]
     },
     "execution_count": 103,
     "metadata": {},
     "output_type": "execute_result"
    },
    {
     "data": {
      "image/png": "[encoded data removed]",
      "text/plain": [
       "<Figure size 432x288 with 2 Axes>"
      ]
     },
     "metadata": {
      "needs_background": "light"
     },
     "output_type": "display_data"
    }
   ],
   "source": [
    "heatmap(translate[6].reshape(16, 16))"
   ]
  },
  {
   "cell_type": "code",
   "execution_count": 145,
   "metadata": {},
   "outputs": [
    {
     "data": {
      "text/plain": [
       "[<matplotlib.lines.Line2D at 0x7fbbd335f470>,\n",
       " <matplotlib.lines.Line2D at 0x7fbbd335f5c0>,\n",
       " <matplotlib.lines.Line2D at 0x7fbbd335f710>,\n",
       " <matplotlib.lines.Line2D at 0x7fbbd335f860>,\n",
       " <matplotlib.lines.Line2D at 0x7fbbd335f9b0>,\n",
       " <matplotlib.lines.Line2D at 0x7fbbd335fb00>,\n",
       " <matplotlib.lines.Line2D at 0x7fbbd335fc50>,\n",
       " <matplotlib.lines.Line2D at 0x7fbbd335fda0>,\n",
       " <matplotlib.lines.Line2D at 0x7fbbd335fef0>,\n",
       " <matplotlib.lines.Line2D at 0x7fbbd3377080>,\n",
       " <matplotlib.lines.Line2D at 0x7fbbd34c5278>,\n",
       " <matplotlib.lines.Line2D at 0x7fbbd33772e8>,\n",
       " <matplotlib.lines.Line2D at 0x7fbbd3377438>,\n",
       " <matplotlib.lines.Line2D at 0x7fbbd3377588>,\n",
       " <matplotlib.lines.Line2D at 0x7fbbd33776d8>,\n",
       " <matplotlib.lines.Line2D at 0x7fbbd3377828>,\n",
       " <matplotlib.lines.Line2D at 0x7fbbd3377978>,\n",
       " <matplotlib.lines.Line2D at 0x7fbbd3377ac8>,\n",
       " <matplotlib.lines.Line2D at 0x7fbbd3377c18>,\n",
       " <matplotlib.lines.Line2D at 0x7fbbd3377d68>,\n",
       " <matplotlib.lines.Line2D at 0x7fbbd3377eb8>]"
      ]
     },
     "execution_count": 145,
     "metadata": {},
     "output_type": "execute_result"
    },
    {
     "data": {
      "image/png": "[encoded data removed]",
      "text/plain": [
       "<Figure size 432x288 with 1 Axes>"
      ]
     },
     "metadata": {
      "needs_background": "light"
     },
     "output_type": "display_data"
    }
   ],
   "source": [
    "plt.plot(data_x[2])"
   ]
  },
  {
   "cell_type": "code",
   "execution_count": 146,
   "metadata": {},
   "outputs": [
    {
     "data": {
      "text/plain": [
       "[<matplotlib.lines.Line2D at 0x7fbbd3300908>,\n",
       " <matplotlib.lines.Line2D at 0x7fbbd3300a58>,\n",
       " <matplotlib.lines.Line2D at 0x7fbbd3300ba8>,\n",
       " <matplotlib.lines.Line2D at 0x7fbbd3300cf8>,\n",
       " <matplotlib.lines.Line2D at 0x7fbbd3300e48>,\n",
       " <matplotlib.lines.Line2D at 0x7fbbd3300f98>,\n",
       " <matplotlib.lines.Line2D at 0x7fbbd330a128>,\n",
       " <matplotlib.lines.Line2D at 0x7fbbd330a278>,\n",
       " <matplotlib.lines.Line2D at 0x7fbbd330a3c8>,\n",
       " <matplotlib.lines.Line2D at 0x7fbbd330a518>,\n",
       " <matplotlib.lines.Line2D at 0x7fbbd334f9e8>,\n",
       " <matplotlib.lines.Line2D at 0x7fbbd330a780>,\n",
       " <matplotlib.lines.Line2D at 0x7fbbd330a8d0>,\n",
       " <matplotlib.lines.Line2D at 0x7fbbd330aa20>,\n",
       " <matplotlib.lines.Line2D at 0x7fbbd330ab70>,\n",
       " <matplotlib.lines.Line2D at 0x7fbbd330acc0>,\n",
       " <matplotlib.lines.Line2D at 0x7fbbd330ae10>,\n",
       " <matplotlib.lines.Line2D at 0x7fbbd330af60>,\n",
       " <matplotlib.lines.Line2D at 0x7fbbd330e0f0>,\n",
       " <matplotlib.lines.Line2D at 0x7fbbd330e240>,\n",
       " <matplotlib.lines.Line2D at 0x7fbbd330e390>]"
      ]
     },
     "execution_count": 146,
     "metadata": {},
     "output_type": "execute_result"
    },
    {
     "data": {
      "image/png": "[encoded data removed]",
      "text/plain": [
       "<Figure size 432x288 with 1 Axes>"
      ]
     },
     "metadata": {
      "needs_background": "light"
     },
     "output_type": "display_data"
    }
   ],
   "source": [
    "plt.plot(model.predict(data_x[2].reshape(1,1000,21)).reshape(1000,21))"
   ]
  },
  {
   "cell_type": "code",
   "execution_count": 25,
   "metadata": {
    "scrolled": true
   },
   "outputs": [
    {
     "name": "stdout",
     "output_type": "stream",
     "text": [
      "_________________________________________________________________\n",
      "Layer (type)                 Output Shape              Param #   \n",
      "=================================================================\n",
      "input_2 (InputLayer)         (None, 1000, 21)          0         \n",
      "_________________________________________________________________\n",
      "gaussian_noise_2 (GaussianNo (None, 1000, 21)          0         \n",
      "_________________________________________________________________\n",
      "time_distributed_3 (TimeDist (None, 1000, 256)         5632      \n",
      "_________________________________________________________________\n",
      "reshape_3 (Reshape)          (None, 1000, 16, 16, 1)   0         \n",
      "_________________________________________________________________\n",
      "batch_normalization_11 (Batc (None, 1000, 16, 16, 1)   4         \n",
      "_________________________________________________________________\n",
      "conv3d_11 (Conv3D)           (None, 1000, 16, 16, 1)   28        \n",
      "_________________________________________________________________\n",
      "max_pooling3d_6 (MaxPooling3 (None, 500, 16, 16, 1)    0         \n",
      "_________________________________________________________________\n",
      "batch_normalization_12 (Batc (None, 500, 16, 16, 1)    4         \n",
      "_________________________________________________________________\n",
      "conv3d_12 (Conv3D)           (None, 500, 16, 16, 2)    56        \n",
      "_________________________________________________________________\n",
      "max_pooling3d_7 (MaxPooling3 (None, 250, 16, 16, 2)    0         \n",
      "_________________________________________________________________\n",
      "batch_normalization_13 (Batc (None, 250, 16, 16, 2)    8         \n",
      "_________________________________________________________________\n",
      "conv3d_13 (Conv3D)           (None, 250, 16, 16, 4)    220       \n",
      "_________________________________________________________________\n",
      "max_pooling3d_8 (MaxPooling3 (None, 125, 16, 16, 4)    0         \n",
      "_________________________________________________________________\n",
      "batch_normalization_14 (Batc (None, 125, 16, 16, 4)    16        \n",
      "_________________________________________________________________\n",
      "conv3d_14 (Conv3D)           (None, 125, 16, 16, 4)    436       \n",
      "_________________________________________________________________\n",
      "max_pooling3d_9 (MaxPooling3 (None, 63, 8, 8, 4)       0         \n",
      "_________________________________________________________________\n",
      "batch_normalization_15 (Batc (None, 63, 8, 8, 4)       16        \n",
      "_________________________________________________________________\n",
      "conv3d_15 (Conv3D)           (None, 63, 8, 8, 8)       872       \n",
      "_________________________________________________________________\n",
      "max_pooling3d_10 (MaxPooling (None, 32, 4, 4, 8)       0         \n",
      "_________________________________________________________________\n",
      "batch_normalization_16 (Batc (None, 32, 4, 4, 8)       32        \n",
      "_________________________________________________________________\n",
      "conv3d_16 (Conv3D)           (None, 32, 4, 4, 8)       1736      \n",
      "_________________________________________________________________\n",
      "up_sampling3d_6 (UpSampling3 (None, 64, 8, 8, 8)       0         \n",
      "_________________________________________________________________\n",
      "batch_normalization_17 (Batc (None, 64, 8, 8, 8)       32        \n",
      "_________________________________________________________________\n",
      "conv3d_17 (Conv3D)           (None, 64, 8, 8, 4)       868       \n",
      "_________________________________________________________________\n",
      "up_sampling3d_7 (UpSampling3 (None, 128, 16, 16, 4)    0         \n",
      "_________________________________________________________________\n",
      "batch_normalization_18 (Batc (None, 128, 16, 16, 4)    16        \n",
      "_________________________________________________________________\n",
      "conv3d_18 (Conv3D)           (None, 128, 16, 16, 4)    436       \n",
      "_________________________________________________________________\n",
      "up_sampling3d_8 (UpSampling3 (None, 256, 16, 16, 4)    0         \n",
      "_________________________________________________________________\n",
      "batch_normalization_19 (Batc (None, 256, 16, 16, 4)    16        \n",
      "_________________________________________________________________\n",
      "conv3d_19 (Conv3D)           (None, 256, 16, 16, 2)    218       \n",
      "_________________________________________________________________\n",
      "up_sampling3d_9 (UpSampling3 (None, 512, 16, 16, 2)    0         \n",
      "_________________________________________________________________\n",
      "batch_normalization_20 (Batc (None, 512, 16, 16, 2)    8         \n",
      "_________________________________________________________________\n",
      "conv3d_20 (Conv3D)           (None, 512, 16, 16, 1)    55        \n",
      "_________________________________________________________________\n",
      "up_sampling3d_10 (UpSampling (None, 1024, 16, 16, 1)   0         \n",
      "_________________________________________________________________\n",
      "reshape_4 (Reshape)          (None, 1024, 256)         0         \n",
      "_________________________________________________________________\n",
      "time_distributed_4 (TimeDist (None, 1024, 21)          5397      \n",
      "_________________________________________________________________\n",
      "lambda_2 (Lambda)            (None, 1000, 21)          0         \n",
      "=================================================================\n",
      "Total params: 16,106\n",
      "Trainable params: 16,030\n",
      "Non-trainable params: 76\n",
      "_________________________________________________________________\n"
     ]
    }
   ],
   "source": [
    "model.summary()"
   ]
  },
  {
   "cell_type": "markdown",
   "metadata": {},
   "source": [
    "## Try 2d without any fancy layering magic"
   ]
  },
  {
   "cell_type": "code",
   "execution_count": null,
   "metadata": {},
   "outputs": [],
   "source": []
  },
  {
   "cell_type": "code",
   "execution_count": 21,
   "metadata": {},
   "outputs": [],
   "source": [
    "from keras_models.cnn_models import conv2d_gridsearch_pre_layers\n",
    "from keras.layers import Input, Reshape, Dense, TimeDistributed, Dropout, Conv2D, BatchNormalization, MaxPool2D, Flatten, GaussianNoise, UpSampling2D, Lambda\n",
    "from keras import Model\n",
    "from keras.optimizers import Adam\n",
    "# pre_layer_h = 16\n",
    "x = Input((1000, 21)) #time, ecg channel, \n",
    "# y = GaussianNoise(5)(x)\n",
    "# y = TimeDistributed(Dense(pre_layer_h**2, activation=\"linear\"))(x)\n",
    "y = Reshape((1000, 21, 1))(x) #add back in channel dim"
   ]
  },
  {
   "cell_type": "code",
   "execution_count": 15,
   "metadata": {},
   "outputs": [],
   "source": [
    "# y = Conv2D(1, (4,4), padding=\"same\")(y)\n",
    "# y = MaxPool2D((2,1), padding=\"same\")(y)\n",
    "# y = Conv2D(1, (4,4), padding=\"same\")(y)\n",
    "# y = UpSampling2D((2,1),)(y)\n",
    "# y = Reshape((1000, 21))(y)"
   ]
  },
  {
   "cell_type": "code",
   "execution_count": 22,
   "metadata": {},
   "outputs": [],
   "source": [
    "for i in range(4):\n",
    "    y = BatchNormalization()(y)\n",
    "    y = Conv2D(2**i, (4,4), activation=\"relu\", padding=\"same\")(y)\n",
    "    y = MaxPool2D((2, 1), padding=\"same\")(y)\n",
    "    \n",
    "for i in range(2):\n",
    "    y = BatchNormalization()(y)\n",
    "    y = Conv2D(2**(i+4), (4,4), activation=\"relu\", padding=\"same\")(y)\n",
    "    y = MaxPool2D((2, 2), padding=\"same\")(y)"
   ]
  },
  {
   "cell_type": "code",
   "execution_count": 64,
   "metadata": {},
   "outputs": [],
   "source": [
    "# encoded = Dense(8**3)(Flatten()(y))\n",
    "# y = Reshape((8, 8, 8))(encoded)"
   ]
  },
  {
   "cell_type": "code",
   "execution_count": 23,
   "metadata": {},
   "outputs": [],
   "source": [
    "for i in range(2):\n",
    "    y = BatchNormalization()(y)\n",
    "    y = Conv2D(2**(5 - i), (4,4), activation=\"relu\", padding=\"same\")(y)\n",
    "    y = UpSampling2D((2, 2))(y)\n",
    "    \n",
    "for i in range(4):\n",
    "    y = BatchNormalization()(y)\n",
    "    y = Conv2D(2**(3-i), (4,4), activation=\"relu\", padding=\"same\")(y)\n",
    "    y = UpSampling2D((2, 1))(y)"
   ]
  },
  {
   "cell_type": "code",
   "execution_count": 24,
   "metadata": {},
   "outputs": [],
   "source": [
    "y = Reshape((1024, 24))(y)\n",
    "y = TimeDistributed(Dense(21, activation=\"linear\"))(y)"
   ]
  },
  {
   "cell_type": "code",
   "execution_count": 25,
   "metadata": {},
   "outputs": [],
   "source": [
    "y = Lambda(lambda x: x[:, 12:1012, 0:21], output_shape=(1000,21))(y)"
   ]
  },
  {
   "cell_type": "code",
   "execution_count": 26,
   "metadata": {},
   "outputs": [
    {
     "name": "stdout",
     "output_type": "stream",
     "text": [
      "_________________________________________________________________\n",
      "Layer (type)                 Output Shape              Param #   \n",
      "=================================================================\n",
      "input_4 (InputLayer)         (None, 1000, 21)          0         \n",
      "_________________________________________________________________\n",
      "reshape_6 (Reshape)          (None, 1000, 21, 1)       0         \n",
      "_________________________________________________________________\n",
      "batch_normalization_1 (Batch (None, 1000, 21, 1)       4         \n",
      "_________________________________________________________________\n",
      "conv2d_7 (Conv2D)            (None, 1000, 21, 1)       17        \n",
      "_________________________________________________________________\n",
      "max_pooling2d_4 (MaxPooling2 (None, 500, 21, 1)        0         \n",
      "_________________________________________________________________\n",
      "batch_normalization_2 (Batch (None, 500, 21, 1)        4         \n",
      "_________________________________________________________________\n",
      "conv2d_8 (Conv2D)            (None, 500, 21, 2)        34        \n",
      "_________________________________________________________________\n",
      "max_pooling2d_5 (MaxPooling2 (None, 250, 21, 2)        0         \n",
      "_________________________________________________________________\n",
      "batch_normalization_3 (Batch (None, 250, 21, 2)        8         \n",
      "_________________________________________________________________\n",
      "conv2d_9 (Conv2D)            (None, 250, 21, 4)        132       \n",
      "_________________________________________________________________\n",
      "max_pooling2d_6 (MaxPooling2 (None, 125, 21, 4)        0         \n",
      "_________________________________________________________________\n",
      "batch_normalization_4 (Batch (None, 125, 21, 4)        16        \n",
      "_________________________________________________________________\n",
      "conv2d_10 (Conv2D)           (None, 125, 21, 8)        520       \n",
      "_________________________________________________________________\n",
      "max_pooling2d_7 (MaxPooling2 (None, 63, 21, 8)         0         \n",
      "_________________________________________________________________\n",
      "batch_normalization_5 (Batch (None, 63, 21, 8)         32        \n",
      "_________________________________________________________________\n",
      "conv2d_11 (Conv2D)           (None, 63, 21, 16)        2064      \n",
      "_________________________________________________________________\n",
      "max_pooling2d_8 (MaxPooling2 (None, 32, 11, 16)        0         \n",
      "_________________________________________________________________\n",
      "batch_normalization_6 (Batch (None, 32, 11, 16)        64        \n",
      "_________________________________________________________________\n",
      "conv2d_12 (Conv2D)           (None, 32, 11, 32)        8224      \n",
      "_________________________________________________________________\n",
      "max_pooling2d_9 (MaxPooling2 (None, 16, 6, 32)         0         \n",
      "_________________________________________________________________\n",
      "batch_normalization_7 (Batch (None, 16, 6, 32)         128       \n",
      "_________________________________________________________________\n",
      "conv2d_13 (Conv2D)           (None, 16, 6, 32)         16416     \n",
      "_________________________________________________________________\n",
      "up_sampling2d_4 (UpSampling2 (None, 32, 12, 32)        0         \n",
      "_________________________________________________________________\n",
      "batch_normalization_8 (Batch (None, 32, 12, 32)        128       \n",
      "_________________________________________________________________\n",
      "conv2d_14 (Conv2D)           (None, 32, 12, 16)        8208      \n",
      "_________________________________________________________________\n",
      "up_sampling2d_5 (UpSampling2 (None, 64, 24, 16)        0         \n",
      "_________________________________________________________________\n",
      "batch_normalization_9 (Batch (None, 64, 24, 16)        64        \n",
      "_________________________________________________________________\n",
      "conv2d_15 (Conv2D)           (None, 64, 24, 8)         2056      \n",
      "_________________________________________________________________\n",
      "up_sampling2d_6 (UpSampling2 (None, 128, 24, 8)        0         \n",
      "_________________________________________________________________\n",
      "batch_normalization_10 (Batc (None, 128, 24, 8)        32        \n",
      "_________________________________________________________________\n",
      "conv2d_16 (Conv2D)           (None, 128, 24, 4)        516       \n",
      "_________________________________________________________________\n",
      "up_sampling2d_7 (UpSampling2 (None, 256, 24, 4)        0         \n",
      "_________________________________________________________________\n",
      "batch_normalization_11 (Batc (None, 256, 24, 4)        16        \n",
      "_________________________________________________________________\n",
      "conv2d_17 (Conv2D)           (None, 256, 24, 2)        130       \n",
      "_________________________________________________________________\n",
      "up_sampling2d_8 (UpSampling2 (None, 512, 24, 2)        0         \n",
      "_________________________________________________________________\n",
      "batch_normalization_12 (Batc (None, 512, 24, 2)        8         \n",
      "_________________________________________________________________\n",
      "conv2d_18 (Conv2D)           (None, 512, 24, 1)        33        \n",
      "_________________________________________________________________\n",
      "up_sampling2d_9 (UpSampling2 (None, 1024, 24, 1)       0         \n",
      "_________________________________________________________________\n",
      "reshape_7 (Reshape)          (None, 1024, 24)          0         \n",
      "_________________________________________________________________\n",
      "time_distributed_1 (TimeDist (None, 1024, 21)          525       \n",
      "_________________________________________________________________\n",
      "lambda_1 (Lambda)            (None, 1000, 21)          0         \n",
      "=================================================================\n",
      "Total params: 39,379\n",
      "Trainable params: 39,127\n",
      "Non-trainable params: 252\n",
      "_________________________________________________________________\n"
     ]
    }
   ],
   "source": [
    "model = Model(inputs=x, outputs=y)\n",
    "model.summary()"
   ]
  },
  {
   "cell_type": "code",
   "execution_count": 8,
   "metadata": {},
   "outputs": [],
   "source": [
    "from keras import optimizers"
   ]
  },
  {
   "cell_type": "code",
   "execution_count": 31,
   "metadata": {},
   "outputs": [],
   "source": [
    "model.compile(optimizer=optimizers.Adam(lr=0.0005), loss=\"mean_squared_error\",)"
   ]
  },
  {
   "cell_type": "code",
   "execution_count": 34,
   "metadata": {},
   "outputs": [
    {
     "name": "stdout",
     "output_type": "stream",
     "text": [
      "Epoch 1/300\n",
      "5000/5000 [==============================] - 3s 613us/step - loss: 4406.5943\n",
      "Epoch 2/300\n",
      "5000/5000 [==============================] - 3s 626us/step - loss: 4360.5599\n",
      "Epoch 3/300\n",
      "5000/5000 [==============================] - 3s 606us/step - loss: 4418.8165\n",
      "Epoch 4/300\n",
      "5000/5000 [==============================] - 3s 605us/step - loss: 4400.6291\n",
      "Epoch 5/300\n",
      "5000/5000 [==============================] - 3s 609us/step - loss: 4400.1321\n",
      "Epoch 6/300\n",
      "5000/5000 [==============================] - 3s 624us/step - loss: 4495.1779\n",
      "Epoch 7/300\n",
      "5000/5000 [==============================] - 3s 607us/step - loss: 4340.2770\n",
      "Epoch 8/300\n",
      "5000/5000 [==============================] - 3s 604us/step - loss: 4330.4303\n",
      "Epoch 9/300\n",
      "5000/5000 [==============================] - 3s 612us/step - loss: 4278.0607\n",
      "Epoch 10/300\n",
      "5000/5000 [==============================] - 3s 622us/step - loss: 4343.4438\n",
      "Epoch 11/300\n",
      "5000/5000 [==============================] - 3s 607us/step - loss: 4323.1741\n",
      "Epoch 12/300\n",
      "5000/5000 [==============================] - 3s 603us/step - loss: 4385.0579\n",
      "Epoch 13/300\n",
      "5000/5000 [==============================] - 3s 628us/step - loss: 4376.5874\n",
      "Epoch 14/300\n",
      "5000/5000 [==============================] - 3s 610us/step - loss: 4305.5386\n",
      "\n",
      "Epoch 00014: ReduceLROnPlateau reducing learning rate to 0.00010000000474974513.\n",
      "Epoch 15/300\n",
      "5000/5000 [==============================] - 3s 604us/step - loss: 4254.5969\n",
      "Epoch 16/300\n",
      "5000/5000 [==============================] - 3s 620us/step - loss: 4231.7086\n",
      "Epoch 17/300\n",
      "5000/5000 [==============================] - 3s 614us/step - loss: 4197.0305\n",
      "Epoch 18/300\n",
      "5000/5000 [==============================] - 3s 604us/step - loss: 4222.1528\n",
      "Epoch 19/300\n",
      "5000/5000 [==============================] - 3s 612us/step - loss: 4202.0491\n",
      "Epoch 20/300\n",
      "5000/5000 [==============================] - 3s 625us/step - loss: 4243.9537\n",
      "Epoch 21/300\n",
      "5000/5000 [==============================] - 3s 607us/step - loss: 4214.3662\n",
      "Epoch 22/300\n",
      "5000/5000 [==============================] - 3s 602us/step - loss: 4215.1739\n",
      "Epoch 23/300\n",
      "5000/5000 [==============================] - 3s 625us/step - loss: 4191.5347\n",
      "Epoch 24/300\n",
      "5000/5000 [==============================] - 3s 607us/step - loss: 4184.9562\n",
      "Epoch 25/300\n",
      "5000/5000 [==============================] - 3s 604us/step - loss: 4169.0453\n",
      "Epoch 26/300\n",
      "5000/5000 [==============================] - 3s 616us/step - loss: 4170.6779\n",
      "Epoch 27/300\n",
      "5000/5000 [==============================] - 3s 620us/step - loss: 4281.4993\n",
      "Epoch 28/300\n",
      "5000/5000 [==============================] - 3s 607us/step - loss: 4273.5249\n",
      "Epoch 29/300\n",
      "5000/5000 [==============================] - 3s 602us/step - loss: 4167.7063\n",
      "Epoch 30/300\n",
      "5000/5000 [==============================] - 3s 625us/step - loss: 4158.4777\n",
      "Epoch 31/300\n",
      "5000/5000 [==============================] - 3s 605us/step - loss: 4138.3345\n",
      "Epoch 32/300\n",
      "5000/5000 [==============================] - 3s 605us/step - loss: 4159.7947\n",
      "Epoch 33/300\n",
      "5000/5000 [==============================] - 3s 614us/step - loss: 4158.7736\n",
      "Epoch 34/300\n",
      "5000/5000 [==============================] - 3s 624us/step - loss: 4320.1137\n",
      "Epoch 35/300\n",
      "5000/5000 [==============================] - 3s 606us/step - loss: 4190.1060\n",
      "Epoch 36/300\n",
      "5000/5000 [==============================] - 3s 616us/step - loss: 4156.1821\n",
      "\n",
      "Epoch 00036: ReduceLROnPlateau reducing learning rate to 2.0000000949949027e-05.\n",
      "Epoch 37/300\n",
      "5000/5000 [==============================] - 3s 620us/step - loss: 4150.9825\n",
      "Epoch 38/300\n",
      "5000/5000 [==============================] - 3s 646us/step - loss: 4137.4097\n",
      "Epoch 39/300\n",
      "5000/5000 [==============================] - 3s 612us/step - loss: 4150.3800\n",
      "Epoch 40/300\n",
      "5000/5000 [==============================] - 3s 624us/step - loss: 4140.7181\n",
      "Epoch 41/300\n",
      "5000/5000 [==============================] - 3s 606us/step - loss: 4133.4091\n",
      "Epoch 42/300\n",
      "5000/5000 [==============================] - 3s 622us/step - loss: 4121.0394\n",
      "Epoch 43/300\n",
      "5000/5000 [==============================] - 3s 615us/step - loss: 4123.1732\n",
      "Epoch 44/300\n",
      "5000/5000 [==============================] - 3s 605us/step - loss: 4139.1048\n",
      "Epoch 45/300\n",
      "5000/5000 [==============================] - 3s 628us/step - loss: 4158.7197\n",
      "Epoch 46/300\n",
      "5000/5000 [==============================] - 3s 608us/step - loss: 4142.2459\n",
      "Epoch 47/300\n",
      "5000/5000 [==============================] - 3s 609us/step - loss: 4134.3279\n",
      "\n",
      "Epoch 00047: ReduceLROnPlateau reducing learning rate to 4.000000262749381e-06.\n",
      "Epoch 48/300\n",
      "5000/5000 [==============================] - 3s 626us/step - loss: 4233.4603\n",
      "Epoch 49/300\n",
      "5000/5000 [==============================] - 3s 607us/step - loss: 4277.3866\n",
      "Epoch 50/300\n",
      "5000/5000 [==============================] - 3s 623us/step - loss: 4168.8735\n",
      "Epoch 51/300\n",
      "5000/5000 [==============================] - 3s 614us/step - loss: 4126.0496\n",
      "Epoch 52/300\n",
      "5000/5000 [==============================] - 3s 605us/step - loss: 4142.8973\n",
      "Epoch 53/300\n",
      "5000/5000 [==============================] - 3s 624us/step - loss: 4127.1440\n",
      "Epoch 54/300\n",
      "5000/5000 [==============================] - 3s 607us/step - loss: 4119.9073\n",
      "Epoch 55/300\n",
      "5000/5000 [==============================] - 3s 622us/step - loss: 4120.8890\n",
      "Epoch 56/300\n",
      "5000/5000 [==============================] - 3s 615us/step - loss: 4131.3456\n",
      "Epoch 57/300\n",
      "5000/5000 [==============================] - 3s 606us/step - loss: 4142.8576\n",
      "Epoch 58/300\n",
      "5000/5000 [==============================] - 3s 629us/step - loss: 4161.2219\n",
      "Epoch 59/300\n",
      "5000/5000 [==============================] - 3s 610us/step - loss: 4202.4638\n",
      "\n",
      "Epoch 00059: ReduceLROnPlateau reducing learning rate to 8.000000889296644e-07.\n",
      "Epoch 60/300\n",
      "5000/5000 [==============================] - 3s 616us/step - loss: 4144.4123\n",
      "Epoch 61/300\n",
      "5000/5000 [==============================] - 3s 620us/step - loss: 4142.9816\n",
      "Epoch 62/300\n",
      "5000/5000 [==============================] - 3s 606us/step - loss: 4172.3268\n",
      "Epoch 63/300\n",
      "5000/5000 [==============================] - 3s 623us/step - loss: 4158.4268\n",
      "Epoch 64/300\n",
      "5000/5000 [==============================] - 3s 615us/step - loss: 4200.2549\n",
      "Epoch 65/300\n",
      "5000/5000 [==============================] - 3s 620us/step - loss: 4273.9820\n",
      "Epoch 66/300\n",
      "5000/5000 [==============================] - 3s 618us/step - loss: 4127.2113\n",
      "Epoch 67/300\n",
      "5000/5000 [==============================] - 3s 608us/step - loss: 4140.5946\n",
      "Epoch 68/300\n",
      "5000/5000 [==============================] - 3s 627us/step - loss: 4125.8194\n",
      "\n",
      "Epoch 00068: ReduceLROnPlateau reducing learning rate to 1.6000001323845936e-07.\n",
      "Epoch 69/300\n",
      "5000/5000 [==============================] - 3s 606us/step - loss: 4163.6641\n",
      "Epoch 70/300\n",
      "5000/5000 [==============================] - 3s 613us/step - loss: 4117.4488\n",
      "Epoch 71/300\n",
      "5000/5000 [==============================] - 3s 625us/step - loss: 4132.6346\n",
      "Epoch 72/300\n",
      "5000/5000 [==============================] - 3s 612us/step - loss: 4160.3883\n",
      "Epoch 73/300\n",
      "5000/5000 [==============================] - 3s 627us/step - loss: 4351.9204\n",
      "Epoch 74/300\n",
      "5000/5000 [==============================] - 3s 610us/step - loss: 4238.9163\n",
      "Epoch 75/300\n",
      "5000/5000 [==============================] - 3s 626us/step - loss: 4186.1257\n",
      "Epoch 76/300\n",
      "5000/5000 [==============================] - 3s 635us/step - loss: 4119.4270\n",
      "Epoch 77/300\n",
      "5000/5000 [==============================] - 3s 638us/step - loss: 4149.1309\n",
      "\n",
      "Epoch 00077: ReduceLROnPlateau reducing learning rate to 3.200000264769187e-08.\n",
      "Epoch 78/300\n",
      "5000/5000 [==============================] - 3s 620us/step - loss: 4129.2565\n",
      "Epoch 79/300\n",
      "5000/5000 [==============================] - 3s 614us/step - loss: 4114.3421\n",
      "Epoch 80/300\n",
      "5000/5000 [==============================] - 3s 626us/step - loss: 4195.5567\n",
      "Epoch 81/300\n",
      "5000/5000 [==============================] - 3s 615us/step - loss: 4133.2415\n",
      "Epoch 82/300\n",
      "5000/5000 [==============================] - 3s 623us/step - loss: 4168.7813\n",
      "Epoch 83/300\n",
      "5000/5000 [==============================] - 3s 616us/step - loss: 4123.6073\n",
      "Epoch 84/300\n",
      "5000/5000 [==============================] - 3s 623us/step - loss: 4138.0135\n",
      "Epoch 85/300\n",
      "5000/5000 [==============================] - 3s 606us/step - loss: 4145.9377\n",
      "Epoch 86/300\n",
      "5000/5000 [==============================] - 3s 629us/step - loss: 4132.0954\n",
      "\n",
      "Epoch 00086: ReduceLROnPlateau reducing learning rate to 6.400000529538374e-09.\n",
      "Epoch 87/300\n",
      "5000/5000 [==============================] - 3s 608us/step - loss: 4169.2896\n",
      "Epoch 88/300\n",
      "5000/5000 [==============================] - 3s 623us/step - loss: 4167.0097\n",
      "Epoch 89/300\n",
      "5000/5000 [==============================] - 3s 618us/step - loss: 4133.5476\n",
      "Epoch 90/300\n",
      "5000/5000 [==============================] - 3s 608us/step - loss: 4132.0559\n",
      "Epoch 91/300\n",
      "5000/5000 [==============================] - 3s 628us/step - loss: 4140.0614\n",
      "Epoch 92/300\n",
      "5000/5000 [==============================] - 3s 609us/step - loss: 4119.6988\n",
      "Epoch 93/300\n",
      "5000/5000 [==============================] - 3s 627us/step - loss: 4138.7862\n",
      "Epoch 94/300\n",
      "5000/5000 [==============================] - 3s 610us/step - loss: 4117.1046\n",
      "Epoch 95/300\n",
      "5000/5000 [==============================] - 3s 625us/step - loss: 4114.9545\n",
      "\n",
      "Epoch 00095: ReduceLROnPlateau reducing learning rate to 1.2800001059076749e-09.\n",
      "Epoch 96/300\n",
      "5000/5000 [==============================] - 3s 618us/step - loss: 4148.0262\n",
      "Epoch 97/300\n",
      "5000/5000 [==============================] - 3s 617us/step - loss: 4169.1658\n",
      "Epoch 98/300\n",
      "5000/5000 [==============================] - 3s 620us/step - loss: 4125.8232\n",
      "Epoch 99/300\n",
      "5000/5000 [==============================] - 3s 615us/step - loss: 4209.6440\n",
      "Epoch 100/300\n",
      "5000/5000 [==============================] - 3s 623us/step - loss: 4162.6107\n",
      "Epoch 101/300\n",
      "5000/5000 [==============================] - 3s 613us/step - loss: 4137.2357\n",
      "Epoch 102/300\n",
      "5000/5000 [==============================] - 3s 625us/step - loss: 4122.9143\n",
      "Epoch 103/300\n",
      "5000/5000 [==============================] - 3s 614us/step - loss: 4153.8176\n",
      "Epoch 104/300\n",
      "5000/5000 [==============================] - 3s 623us/step - loss: 4131.7420\n",
      "\n",
      "Epoch 00104: ReduceLROnPlateau reducing learning rate to 2.56000021181535e-10.\n",
      "Epoch 105/300\n",
      "5000/5000 [==============================] - 3s 612us/step - loss: 4145.9394\n",
      "Epoch 106/300\n",
      "5000/5000 [==============================] - 3s 622us/step - loss: 4120.7587\n",
      "Epoch 107/300\n",
      "5000/5000 [==============================] - 3s 614us/step - loss: 4126.8041\n",
      "Epoch 108/300\n",
      "5000/5000 [==============================] - 3s 625us/step - loss: 4138.7515\n",
      "Epoch 109/300\n",
      "5000/5000 [==============================] - 3s 607us/step - loss: 4124.5213\n",
      "Epoch 110/300\n",
      "5000/5000 [==============================] - 3s 625us/step - loss: 4143.3869\n",
      "Epoch 111/300\n",
      "5000/5000 [==============================] - 3s 614us/step - loss: 4136.2650\n",
      "Epoch 112/300\n",
      "5000/5000 [==============================] - 3s 625us/step - loss: 4128.7785\n",
      "Epoch 113/300\n",
      "5000/5000 [==============================] - 3s 616us/step - loss: 4119.3517\n",
      "\n",
      "Epoch 00113: ReduceLROnPlateau reducing learning rate to 5.120000534653002e-11.\n",
      "Epoch 114/300\n",
      "5000/5000 [==============================] - 3s 606us/step - loss: 4126.8917\n",
      "Epoch 115/300\n",
      "5000/5000 [==============================] - 3s 671us/step - loss: 4124.4464\n",
      "Epoch 116/300\n",
      "5000/5000 [==============================] - 3s 606us/step - loss: 4154.0412\n",
      "Epoch 117/300\n",
      "5000/5000 [==============================] - 3s 623us/step - loss: 4113.8676\n",
      "Epoch 118/300\n",
      "5000/5000 [==============================] - 3s 616us/step - loss: 4128.8937\n",
      "Epoch 119/300\n",
      "5000/5000 [==============================] - 3s 607us/step - loss: 4119.7304\n",
      "Epoch 120/300\n",
      "5000/5000 [==============================] - 3s 626us/step - loss: 4131.3906\n",
      "Epoch 121/300\n",
      "5000/5000 [==============================] - 3s 608us/step - loss: 4392.5849\n",
      "Epoch 122/300\n",
      "5000/5000 [==============================] - 3s 611us/step - loss: 4184.0008\n",
      "\n",
      "Epoch 00122: ReduceLROnPlateau reducing learning rate to 1.0240001208083883e-11.\n",
      "Epoch 123/300\n",
      "5000/5000 [==============================] - 3s 629us/step - loss: 4130.3485\n",
      "Epoch 124/300\n",
      "5000/5000 [==============================] - 3s 610us/step - loss: 4125.1347\n",
      "Epoch 125/300\n",
      "5000/5000 [==============================] - 3s 619us/step - loss: 4128.9298\n",
      "Epoch 126/300\n",
      "5000/5000 [==============================] - 3s 618us/step - loss: 4147.9822\n",
      "Epoch 127/300\n",
      "5000/5000 [==============================] - 3s 607us/step - loss: 4112.0881\n",
      "Epoch 128/300\n",
      "5000/5000 [==============================] - 3s 616us/step - loss: 4163.6211\n",
      "Epoch 129/300\n",
      "5000/5000 [==============================] - 3s 622us/step - loss: 4115.3847\n",
      "Epoch 130/300\n",
      "5000/5000 [==============================] - 3s 616us/step - loss: 4153.1782\n",
      "Epoch 131/300\n",
      "5000/5000 [==============================] - 3s 623us/step - loss: 4149.2411\n",
      "Epoch 132/300\n",
      "5000/5000 [==============================] - 3s 616us/step - loss: 4129.7366\n",
      "\n",
      "Epoch 00132: ReduceLROnPlateau reducing learning rate to 2.0480003110057155e-12.\n",
      "Epoch 133/300\n",
      "5000/5000 [==============================] - 3s 622us/step - loss: 4129.1156\n",
      "Epoch 134/300\n",
      "5000/5000 [==============================] - 3s 607us/step - loss: 4132.1690\n",
      "Epoch 135/300\n",
      "5000/5000 [==============================] - 3s 628us/step - loss: 4144.4946\n",
      "Epoch 136/300\n",
      "5000/5000 [==============================] - 3s 610us/step - loss: 4152.1513\n",
      "Epoch 137/300\n",
      "5000/5000 [==============================] - 3s 616us/step - loss: 4134.0545\n",
      "Epoch 138/300\n",
      "5000/5000 [==============================] - 3s 619us/step - loss: 4176.4999\n",
      "Epoch 139/300\n",
      "5000/5000 [==============================] - 3s 606us/step - loss: 4121.4363\n",
      "Epoch 140/300\n",
      "5000/5000 [==============================] - 3s 625us/step - loss: 4152.6663\n",
      "Epoch 141/300\n",
      "5000/5000 [==============================] - 3s 615us/step - loss: 4130.0027\n",
      "\n",
      "Epoch 00141: ReduceLROnPlateau reducing learning rate to 4.0960004485390834e-13.\n",
      "Epoch 142/300\n",
      "5000/5000 [==============================] - 3s 618us/step - loss: 4173.8970\n",
      "Epoch 143/300\n",
      "5000/5000 [==============================] - 3s 621us/step - loss: 4120.9317\n",
      "Epoch 144/300\n",
      "5000/5000 [==============================] - 3s 607us/step - loss: 4178.7348\n",
      "Epoch 145/300\n",
      "5000/5000 [==============================] - 3s 628us/step - loss: 4127.7351\n",
      "Epoch 146/300\n",
      "5000/5000 [==============================] - 3s 611us/step - loss: 4202.6899\n",
      "Epoch 147/300\n",
      "5000/5000 [==============================] - 3s 620us/step - loss: 4195.3476\n",
      "Epoch 148/300\n",
      "5000/5000 [==============================] - 3s 618us/step - loss: 4151.5561\n",
      "Epoch 149/300\n",
      "5000/5000 [==============================] - 3s 616us/step - loss: 4115.2727\n",
      "Epoch 150/300\n",
      "5000/5000 [==============================] - 3s 623us/step - loss: 4179.6004\n",
      "\n",
      "Epoch 00150: ReduceLROnPlateau reducing learning rate to 8.192000680237733e-14.\n",
      "Epoch 151/300\n",
      "5000/5000 [==============================] - 3s 608us/step - loss: 4121.9945\n",
      "Epoch 152/300\n",
      "5000/5000 [==============================] - 3s 629us/step - loss: 4113.7479\n",
      "Epoch 153/300\n",
      "5000/5000 [==============================] - 3s 609us/step - loss: 4124.8036\n",
      "Epoch 154/300\n",
      "5000/5000 [==============================] - 3s 658us/step - loss: 4150.3004\n",
      "Epoch 155/300\n",
      "5000/5000 [==============================] - 3s 621us/step - loss: 4129.9931\n",
      "Epoch 156/300\n",
      "5000/5000 [==============================] - 3s 611us/step - loss: 4308.3526\n",
      "Epoch 157/300\n",
      "5000/5000 [==============================] - 3s 625us/step - loss: 4118.0476\n",
      "Epoch 158/300\n",
      "5000/5000 [==============================] - 3s 610us/step - loss: 4145.8011\n",
      "Epoch 159/300\n",
      "5000/5000 [==============================] - 3s 627us/step - loss: 4116.2644\n",
      "\n",
      "Epoch 00159: ReduceLROnPlateau reducing learning rate to 1.6384001089424923e-14.\n",
      "Epoch 160/300\n",
      "5000/5000 [==============================] - 3s 607us/step - loss: 4179.2539\n",
      "Epoch 161/300\n",
      "5000/5000 [==============================] - 3s 623us/step - loss: 4134.9813\n",
      "Epoch 162/300\n",
      "5000/5000 [==============================] - 3s 616us/step - loss: 4119.7861\n",
      "Epoch 163/300\n",
      "5000/5000 [==============================] - 3s 616us/step - loss: 4135.4173\n",
      "Epoch 164/300\n",
      "5000/5000 [==============================] - 3s 622us/step - loss: 4126.6855\n",
      "Epoch 165/300\n",
      "5000/5000 [==============================] - 3s 611us/step - loss: 4143.0038\n",
      "Epoch 166/300\n",
      "5000/5000 [==============================] - 3s 627us/step - loss: 4165.7102\n",
      "Epoch 167/300\n",
      "5000/5000 [==============================] - 3s 608us/step - loss: 4225.4649\n",
      "Epoch 168/300\n"
     ]
    },
    {
     "name": "stdout",
     "output_type": "stream",
     "text": [
      "5000/5000 [==============================] - 3s 627us/step - loss: 4131.6232\n",
      "\n",
      "Epoch 00168: ReduceLROnPlateau reducing learning rate to 3.2768001501223487e-15.\n",
      "Epoch 169/300\n",
      "5000/5000 [==============================] - 3s 609us/step - loss: 4136.8206\n",
      "Epoch 170/300\n",
      "5000/5000 [==============================] - 3s 620us/step - loss: 4291.3625\n",
      "Epoch 171/300\n",
      "5000/5000 [==============================] - 3s 619us/step - loss: 4112.4546\n",
      "Epoch 172/300\n",
      "5000/5000 [==============================] - 3s 616us/step - loss: 4133.7831\n",
      "Epoch 173/300\n",
      "5000/5000 [==============================] - 3s 623us/step - loss: 4126.0154\n",
      "Epoch 174/300\n",
      "5000/5000 [==============================] - 3s 607us/step - loss: 4173.2845\n",
      "Epoch 175/300\n",
      "5000/5000 [==============================] - 3s 629us/step - loss: 4175.9573\n",
      "Epoch 176/300\n",
      "5000/5000 [==============================] - 3s 608us/step - loss: 4131.6483\n",
      "Epoch 177/300\n",
      "5000/5000 [==============================] - 3s 629us/step - loss: 4303.2908\n",
      "\n",
      "Epoch 00177: ReduceLROnPlateau reducing learning rate to 6.553600215541403e-16.\n",
      "Epoch 178/300\n",
      "5000/5000 [==============================] - 3s 613us/step - loss: 4187.8440\n",
      "Epoch 179/300\n",
      "5000/5000 [==============================] - 3s 620us/step - loss: 4189.0285\n",
      "Epoch 180/300\n",
      "5000/5000 [==============================] - 3s 620us/step - loss: 4117.9423\n",
      "Epoch 181/300\n",
      "5000/5000 [==============================] - 3s 619us/step - loss: 4151.9576\n",
      "Epoch 182/300\n",
      "5000/5000 [==============================] - 3s 621us/step - loss: 4140.5723\n",
      "Epoch 183/300\n",
      "5000/5000 [==============================] - 3s 608us/step - loss: 4121.9782\n",
      "Epoch 184/300\n",
      "5000/5000 [==============================] - 3s 627us/step - loss: 4118.0200\n",
      "Epoch 185/300\n",
      "5000/5000 [==============================] - 3s 608us/step - loss: 4155.3546\n",
      "Epoch 186/300\n",
      "5000/5000 [==============================] - 3s 619us/step - loss: 4204.2012\n",
      "\n",
      "Epoch 00186: ReduceLROnPlateau reducing learning rate to 1.3107200642841042e-16.\n",
      "Epoch 187/300\n",
      "5000/5000 [==============================] - 3s 622us/step - loss: 4143.8749\n",
      "Epoch 188/300\n",
      "5000/5000 [==============================] - 3s 613us/step - loss: 4337.2352\n",
      "Epoch 189/300\n",
      "5000/5000 [==============================] - 3s 626us/step - loss: 4142.7686\n",
      "Epoch 190/300\n",
      "5000/5000 [==============================] - 3s 609us/step - loss: 4335.4978\n",
      "Epoch 191/300\n",
      "5000/5000 [==============================] - 3s 630us/step - loss: 4153.3341\n",
      "Epoch 192/300\n",
      "5000/5000 [==============================] - 3s 608us/step - loss: 4140.4157\n",
      "Epoch 193/300\n",
      "5000/5000 [==============================] - 3s 654us/step - loss: 4163.4337\n",
      "Epoch 194/300\n",
      "5000/5000 [==============================] - 3s 624us/step - loss: 4127.4296\n",
      "Epoch 195/300\n",
      "5000/5000 [==============================] - 3s 611us/step - loss: 4123.9842\n",
      "\n",
      "Epoch 00195: ReduceLROnPlateau reducing learning rate to 2.6214401815077677e-17.\n",
      "Epoch 196/300\n",
      "5000/5000 [==============================] - 3s 628us/step - loss: 4143.5502\n",
      "Epoch 197/300\n",
      "5000/5000 [==============================] - 3s 610us/step - loss: 4147.7593\n",
      "Epoch 198/300\n",
      "5000/5000 [==============================] - 3s 625us/step - loss: 4141.6302\n",
      "Epoch 199/300\n",
      "5000/5000 [==============================] - 3s 613us/step - loss: 4207.7497\n",
      "Epoch 200/300\n",
      "5000/5000 [==============================] - 3s 625us/step - loss: 4161.1725\n",
      "Epoch 201/300\n",
      "5000/5000 [==============================] - 3s 616us/step - loss: 4156.9208\n",
      "Epoch 202/300\n",
      "5000/5000 [==============================] - 3s 611us/step - loss: 4186.5072\n",
      "Epoch 203/300\n",
      "5000/5000 [==============================] - 3s 627us/step - loss: 4122.1386\n",
      "Epoch 204/300\n",
      "5000/5000 [==============================] - 3s 608us/step - loss: 4176.2991\n",
      "\n",
      "Epoch 00204: ReduceLROnPlateau reducing learning rate to 5.242880495364433e-18.\n",
      "Epoch 205/300\n",
      "5000/5000 [==============================] - 3s 627us/step - loss: 4125.2789\n",
      "Epoch 206/300\n",
      "5000/5000 [==============================] - 3s 608us/step - loss: 4120.1777\n",
      "Epoch 207/300\n",
      "5000/5000 [==============================] - 3s 626us/step - loss: 4312.6637\n",
      "Epoch 208/300\n",
      "5000/5000 [==============================] - 3s 612us/step - loss: 4162.8424\n",
      "Epoch 209/300\n",
      "5000/5000 [==============================] - 3s 618us/step - loss: 4125.3370\n",
      "Epoch 210/300\n",
      "5000/5000 [==============================] - 3s 619us/step - loss: 4162.3721\n",
      "Epoch 211/300\n",
      "5000/5000 [==============================] - 3s 608us/step - loss: 4141.8877\n",
      "Epoch 212/300\n",
      "5000/5000 [==============================] - 3s 626us/step - loss: 4148.2766\n",
      "Epoch 213/300\n",
      "5000/5000 [==============================] - 3s 614us/step - loss: 4120.2795\n",
      "\n",
      "Epoch 00213: ReduceLROnPlateau reducing learning rate to 1.0485760825292745e-18.\n",
      "Epoch 214/300\n",
      "5000/5000 [==============================] - 3s 622us/step - loss: 4115.0562\n",
      "Epoch 215/300\n",
      "5000/5000 [==============================] - 3s 616us/step - loss: 4163.8518\n",
      "Epoch 216/300\n",
      "5000/5000 [==============================] - 3s 613us/step - loss: 4114.5476\n",
      "Epoch 217/300\n",
      "5000/5000 [==============================] - 3s 624us/step - loss: 4189.3181\n",
      "Epoch 218/300\n",
      "5000/5000 [==============================] - 3s 613us/step - loss: 4147.0494\n",
      "Epoch 219/300\n",
      "5000/5000 [==============================] - 3s 624us/step - loss: 4129.1354\n",
      "Epoch 220/300\n",
      "5000/5000 [==============================] - 3s 614us/step - loss: 4143.9429\n",
      "Epoch 221/300\n",
      "5000/5000 [==============================] - 3s 624us/step - loss: 4120.6223\n",
      "Epoch 222/300\n",
      "5000/5000 [==============================] - 3s 612us/step - loss: 4119.8390\n",
      "\n",
      "Epoch 00222: ReduceLROnPlateau reducing learning rate to 2.09715224777661e-19.\n",
      "Epoch 223/300\n",
      "5000/5000 [==============================] - 3s 626us/step - loss: 4153.8847\n",
      "Epoch 224/300\n",
      "5000/5000 [==============================] - 3s 614us/step - loss: 4146.3370\n",
      "Epoch 225/300\n",
      "5000/5000 [==============================] - 3s 625us/step - loss: 4187.6507\n",
      "Epoch 226/300\n",
      "5000/5000 [==============================] - 3s 613us/step - loss: 4155.5204\n",
      "Epoch 227/300\n",
      "5000/5000 [==============================] - 3s 624us/step - loss: 4121.0766\n",
      "Epoch 228/300\n",
      "5000/5000 [==============================] - 3s 612us/step - loss: 4127.9130\n",
      "Epoch 229/300\n",
      "5000/5000 [==============================] - 3s 624us/step - loss: 4254.4523\n",
      "Epoch 230/300\n",
      "5000/5000 [==============================] - 3s 606us/step - loss: 4177.4283\n",
      "Epoch 231/300\n",
      "5000/5000 [==============================] - 3s 648us/step - loss: 4154.6316\n",
      "\n",
      "Epoch 00231: ReduceLROnPlateau reducing learning rate to 4.1943045989507964e-20.\n",
      "Epoch 232/300\n",
      "5000/5000 [==============================] - 3s 637us/step - loss: 4122.4535\n",
      "Epoch 233/300\n",
      "5000/5000 [==============================] - 3s 631us/step - loss: 4148.3203\n",
      "Epoch 234/300\n",
      "5000/5000 [==============================] - 3s 608us/step - loss: 4132.3879\n",
      "Epoch 235/300\n",
      "5000/5000 [==============================] - 3s 625us/step - loss: 4156.4334\n",
      "Epoch 236/300\n",
      "5000/5000 [==============================] - 3s 616us/step - loss: 4122.5948\n",
      "Epoch 237/300\n",
      "5000/5000 [==============================] - 3s 617us/step - loss: 4158.3179\n",
      "Epoch 238/300\n",
      "5000/5000 [==============================] - 3s 623us/step - loss: 4224.8966\n",
      "Epoch 239/300\n",
      "5000/5000 [==============================] - 3s 615us/step - loss: 4141.5126\n",
      "Epoch 240/300\n",
      "5000/5000 [==============================] - 3s 624us/step - loss: 4134.7710\n",
      "\n",
      "Epoch 00240: ReduceLROnPlateau reducing learning rate to 8.388609197901594e-21.\n",
      "Epoch 241/300\n",
      "5000/5000 [==============================] - 3s 608us/step - loss: 4214.5740\n",
      "Epoch 242/300\n",
      "5000/5000 [==============================] - 3s 630us/step - loss: 4171.1073\n",
      "Epoch 243/300\n",
      "5000/5000 [==============================] - 3s 609us/step - loss: 4121.0924\n",
      "Epoch 244/300\n",
      "5000/5000 [==============================] - 3s 611us/step - loss: 4256.9458\n",
      "Epoch 245/300\n",
      "5000/5000 [==============================] - 3s 625us/step - loss: 4149.7741\n",
      "Epoch 246/300\n",
      "5000/5000 [==============================] - 3s 607us/step - loss: 4217.4578\n",
      "Epoch 247/300\n",
      "5000/5000 [==============================] - 3s 627us/step - loss: 4127.8520\n",
      "Epoch 248/300\n",
      "5000/5000 [==============================] - 3s 607us/step - loss: 4143.6541\n",
      "Epoch 249/300\n",
      "5000/5000 [==============================] - 3s 619us/step - loss: 4143.8348\n",
      "\n",
      "Epoch 00249: ReduceLROnPlateau reducing learning rate to 1.6777218072685759e-21.\n",
      "Epoch 250/300\n"
     ]
    },
    {
     "name": "stdout",
     "output_type": "stream",
     "text": [
      "5000/5000 [==============================] - 3s 622us/step - loss: 4149.2380\n",
      "Epoch 251/300\n",
      "5000/5000 [==============================] - 3s 621us/step - loss: 4193.1434\n",
      "Epoch 252/300\n",
      "5000/5000 [==============================] - 3s 619us/step - loss: 4124.9931\n",
      "Epoch 253/300\n",
      "5000/5000 [==============================] - 3s 613us/step - loss: 4138.4051\n",
      "Epoch 254/300\n",
      "5000/5000 [==============================] - 3s 623us/step - loss: 4133.9203\n",
      "Epoch 255/300\n",
      "5000/5000 [==============================] - 3s 610us/step - loss: 4126.7462\n",
      "Epoch 256/300\n",
      "5000/5000 [==============================] - 3s 628us/step - loss: 4149.7935\n",
      "Epoch 257/300\n",
      "5000/5000 [==============================] - 3s 608us/step - loss: 4147.8869\n",
      "Epoch 258/300\n",
      "5000/5000 [==============================] - 3s 608us/step - loss: 4228.0933\n",
      "\n",
      "Epoch 00258: ReduceLROnPlateau reducing learning rate to 3.355443614537152e-22.\n",
      "Epoch 259/300\n",
      "5000/5000 [==============================] - 3s 627us/step - loss: 4247.2491\n",
      "Epoch 260/300\n",
      "5000/5000 [==============================] - 3s 608us/step - loss: 4118.5682\n",
      "Epoch 261/300\n",
      "5000/5000 [==============================] - 3s 611us/step - loss: 4121.5281\n",
      "Epoch 262/300\n",
      "5000/5000 [==============================] - 3s 627us/step - loss: 4146.3015\n",
      "Epoch 263/300\n",
      "5000/5000 [==============================] - 3s 613us/step - loss: 4141.2042\n",
      "Epoch 264/300\n",
      "5000/5000 [==============================] - 3s 625us/step - loss: 4167.9399\n",
      "Epoch 265/300\n",
      "5000/5000 [==============================] - 3s 613us/step - loss: 4161.8193\n",
      "Epoch 266/300\n",
      "5000/5000 [==============================] - 3s 630us/step - loss: 4117.3060\n",
      "Epoch 267/300\n",
      "5000/5000 [==============================] - 3s 610us/step - loss: 4178.9974\n",
      "\n",
      "Epoch 00267: ReduceLROnPlateau reducing learning rate to 6.710887431022696e-23.\n",
      "Epoch 268/300\n",
      "5000/5000 [==============================] - 3s 628us/step - loss: 4243.4022\n",
      "Epoch 269/300\n",
      "5000/5000 [==============================] - 3s 607us/step - loss: 4132.7937\n",
      "Epoch 270/300\n",
      "5000/5000 [==============================] - 3s 666us/step - loss: 4155.5631\n",
      "Epoch 271/300\n",
      "5000/5000 [==============================] - 3s 620us/step - loss: 4161.0383\n",
      "Epoch 272/300\n",
      "5000/5000 [==============================] - 3s 628us/step - loss: 4154.1394\n",
      "Epoch 273/300\n",
      "5000/5000 [==============================] - 3s 608us/step - loss: 4138.8365\n",
      "Epoch 274/300\n",
      "5000/5000 [==============================] - 3s 625us/step - loss: 4164.4211\n",
      "Epoch 275/300\n",
      "5000/5000 [==============================] - 3s 614us/step - loss: 4125.7175\n",
      "Epoch 276/300\n",
      "5000/5000 [==============================] - 3s 606us/step - loss: 4126.0379\n",
      "\n",
      "Epoch 00276: ReduceLROnPlateau reducing learning rate to 1.342177536691637e-23.\n",
      "Epoch 277/300\n",
      "5000/5000 [==============================] - 3s 623us/step - loss: 4148.9240\n",
      "Epoch 278/300\n",
      "5000/5000 [==============================] - 3s 614us/step - loss: 4154.3796\n",
      "Epoch 279/300\n",
      "5000/5000 [==============================] - 3s 607us/step - loss: 4125.3368\n",
      "Epoch 280/300\n",
      "5000/5000 [==============================] - 3s 625us/step - loss: 4115.3126\n",
      "Epoch 281/300\n",
      "5000/5000 [==============================] - 3s 612us/step - loss: 4135.1454\n",
      "Epoch 282/300\n",
      "5000/5000 [==============================] - 3s 621us/step - loss: 4154.5053\n",
      "Epoch 283/300\n",
      "5000/5000 [==============================] - 3s 617us/step - loss: 4159.3348\n",
      "Epoch 284/300\n",
      "5000/5000 [==============================] - 3s 614us/step - loss: 4162.4040\n",
      "Epoch 285/300\n",
      "5000/5000 [==============================] - 3s 625us/step - loss: 4150.1693\n",
      "\n",
      "Epoch 00285: ReduceLROnPlateau reducing learning rate to 2.6843551364921467e-24.\n",
      "Epoch 286/300\n",
      "5000/5000 [==============================] - 3s 618us/step - loss: 4157.8173\n",
      "Epoch 287/300\n",
      "5000/5000 [==============================] - 3s 619us/step - loss: 4137.7314\n",
      "Epoch 288/300\n",
      "5000/5000 [==============================] - 3s 624us/step - loss: 4211.7687\n",
      "Epoch 289/300\n",
      "5000/5000 [==============================] - 3s 615us/step - loss: 4123.3861\n",
      "Epoch 290/300\n",
      "5000/5000 [==============================] - 3s 616us/step - loss: 4167.4554\n",
      "Epoch 291/300\n",
      "5000/5000 [==============================] - 3s 626us/step - loss: 4125.2642\n",
      "Epoch 292/300\n",
      "5000/5000 [==============================] - 3s 610us/step - loss: 4323.7761\n",
      "Epoch 293/300\n",
      "5000/5000 [==============================] - 3s 626us/step - loss: 4168.7900\n",
      "Epoch 294/300\n",
      "5000/5000 [==============================] - 3s 609us/step - loss: 4149.8663\n",
      "\n",
      "Epoch 00294: ReduceLROnPlateau reducing learning rate to 5.368710430756474e-25.\n",
      "Epoch 295/300\n",
      "5000/5000 [==============================] - 3s 627us/step - loss: 4119.4692\n",
      "Epoch 296/300\n",
      "5000/5000 [==============================] - 3s 605us/step - loss: 4135.2057\n",
      "Epoch 297/300\n",
      "5000/5000 [==============================] - 3s 625us/step - loss: 4134.5608\n",
      "Epoch 298/300\n",
      "5000/5000 [==============================] - 3s 613us/step - loss: 4161.8427\n",
      "Epoch 299/300\n",
      "5000/5000 [==============================] - 3s 621us/step - loss: 4201.5643\n",
      "Epoch 300/300\n",
      "5000/5000 [==============================] - 3s 617us/step - loss: 4151.2457\n"
     ]
    }
   ],
   "source": [
    "import keras.callbacks as cb\n",
    "history = model.fit(data_x, data_x, batch_size=64, epochs=300, callbacks=[cb.ReduceLROnPlateau(monitor=\"loss\", factor=0.2, patience=5, verbose=True, cooldown=5)])"
   ]
  },
  {
   "cell_type": "code",
   "execution_count": 95,
   "metadata": {},
   "outputs": [
    {
     "name": "stdout",
     "output_type": "stream",
     "text": [
      "Epoch 1/10\n",
      "1000/1000 [==============================] - 30s 30ms/step - loss: 10252.0820\n",
      "Epoch 2/10\n",
      "1000/1000 [==============================] - 18s 18ms/step - loss: 9804.8523\n",
      "Epoch 3/10\n",
      "1000/1000 [==============================] - 18s 18ms/step - loss: 9860.0697\n",
      "Epoch 4/10\n",
      "1000/1000 [==============================] - 18s 18ms/step - loss: 9945.9150\n",
      "Epoch 5/10\n",
      "1000/1000 [==============================] - 18s 18ms/step - loss: 9819.6136\n",
      "Epoch 6/10\n",
      "1000/1000 [==============================] - 18s 18ms/step - loss: 9945.9986\n",
      "Epoch 7/10\n",
      "1000/1000 [==============================] - 18s 18ms/step - loss: 9698.5559\n",
      "Epoch 8/10\n",
      "1000/1000 [==============================] - 18s 18ms/step - loss: 9568.8256\n",
      "Epoch 9/10\n",
      "1000/1000 [==============================] - 18s 18ms/step - loss: 9779.8956\n",
      "Epoch 10/10\n",
      "1000/1000 [==============================] - 18s 18ms/step - loss: 9935.3519\n"
     ]
    },
    {
     "data": {
      "text/plain": [
       "<keras.callbacks.History at 0x7fbbe24bfdd8>"
      ]
     },
     "execution_count": 95,
     "metadata": {},
     "output_type": "execute_result"
    }
   ],
   "source": [
    "model.compile(optimizer=optimizers.Adam(lr=0.001), loss=\"mean_squared_error\")\n",
    "model.fit(data_x[0:1000], data_x[0:1000], batch_size=64, epochs=10)"
   ]
  },
  {
   "cell_type": "code",
   "execution_count": 96,
   "metadata": {},
   "outputs": [],
   "source": [
    "from keras import backend as K\n",
    "sess = K.get_session()\n",
    "with sess.as_default():\n",
    "    translate = model.layers[2].layer.weights[0].eval()"
   ]
  },
  {
   "cell_type": "code",
   "execution_count": 97,
   "metadata": {},
   "outputs": [],
   "source": [
    "mapping = translate.reshape((21, 16, 16)).argmax(axis=0)"
   ]
  },
  {
   "cell_type": "code",
   "execution_count": 98,
   "metadata": {},
   "outputs": [
    {
     "data": {
      "text/plain": [
       "array([[16, 16,  9,  1, 18,  9,  9, 16, 16,  9,  6,  8,  8,  1,  1, 16],\n",
       "       [16, 20,  1,  9,  1,  9,  2,  1,  9,  9,  8,  8,  1,  1, 14, 16],\n",
       "       [16,  6,  6, 17, 15,  6,  9,  9,  6,  9,  3,  6,  1, 16, 16,  1],\n",
       "       [ 6,  6,  3,  4,  6,  8,  9,  6, 18,  9,  3,  4, 15,  3,  1,  1],\n",
       "       [ 6, 15,  1,  4,  4, 13,  6,  9, 20,  6,  9, 16,  6,  8,  7, 16],\n",
       "       [16, 17,  8,  8, 18,  9, 16,  8,  8,  4, 16, 16,  4,  8, 19,  4],\n",
       "       [10,  9,  8, 12,  4,  4,  4,  8,  4,  4, 16,  4,  4, 10,  0, 16],\n",
       "       [ 9,  1, 15,  8,  8,  4, 14, 19,  8, 13,  6,  4,  4, 16, 16,  6],\n",
       "       [ 6,  4,  3,  6,  3,  1,  5,  9, 19,  0, 20, 20, 20,  4, 20, 15],\n",
       "       [16,  3,  3,  6,  6,  3,  6,  0,  3,  0,  9,  1, 16, 20,  6,  4],\n",
       "       [ 2, 20,  8,  8,  6, 12, 15,  3,  3,  9, 15,  2,  3,  1,  9,  9],\n",
       "       [ 4, 17,  8, 20,  6,  2, 17, 15,  9,  9, 20,  2,  7,  5, 16,  8],\n",
       "       [16, 17,  4,  2,  9,  8,  6,  9,  3, 10, 16, 16,  8,  7,  4,  8],\n",
       "       [ 4,  4, 11, 17,  2,  6, 12,  9,  6,  1,  2,  2,  3, 10,  6, 15],\n",
       "       [ 6, 15,  9,  4,  8, 17, 16,  6,  3,  6,  6, 19,  8,  9,  3,  4],\n",
       "       [15, 19,  4,  8,  6,  8, 17, 20,  4,  4,  4, 16,  2,  7,  6,  8]])"
      ]
     },
     "execution_count": 98,
     "metadata": {},
     "output_type": "execute_result"
    }
   ],
   "source": [
    "mapping"
   ]
  },
  {
   "cell_type": "code",
   "execution_count": 99,
   "metadata": {},
   "outputs": [],
   "source": [
    "from seaborn import heatmap"
   ]
  },
  {
   "cell_type": "code",
   "execution_count": 102,
   "metadata": {},
   "outputs": [
    {
     "data": {
      "text/plain": [
       "'EEG CZ-REF'"
      ]
     },
     "execution_count": 102,
     "metadata": {},
     "output_type": "execute_result"
    }
   ],
   "source": [
    "util_funcs.get_common_channel_names()[6]"
   ]
  },
  {
   "cell_type": "code",
   "execution_count": 103,
   "metadata": {},
   "outputs": [
    {
     "data": {
      "text/plain": [
       "<matplotlib.axes._subplots.AxesSubplot at 0x7fbbdf52d198>"
      ]
     },
     "execution_count": 103,
     "metadata": {},
     "output_type": "execute_result"
    },
    {
     "data": {
      "image/png": "[encoded data removed]",
      "text/plain": [
       "<Figure size 432x288 with 2 Axes>"
      ]
     },
     "metadata": {
      "needs_background": "light"
     },
     "output_type": "display_data"
    }
   ],
   "source": [
    "heatmap(translate[6].reshape(16, 16))"
   ]
  },
  {
   "cell_type": "code",
   "execution_count": 19,
   "metadata": {},
   "outputs": [
    {
     "data": {
      "text/plain": [
       "[<matplotlib.lines.Line2D at 0x7fcd750fe908>,\n",
       " <matplotlib.lines.Line2D at 0x7fcd750fea58>,\n",
       " <matplotlib.lines.Line2D at 0x7fcd750feba8>,\n",
       " <matplotlib.lines.Line2D at 0x7fcd750fecf8>,\n",
       " <matplotlib.lines.Line2D at 0x7fcd750fee48>,\n",
       " <matplotlib.lines.Line2D at 0x7fcd750fef98>,\n",
       " <matplotlib.lines.Line2D at 0x7fcd75109128>,\n",
       " <matplotlib.lines.Line2D at 0x7fcd75109278>,\n",
       " <matplotlib.lines.Line2D at 0x7fcd751093c8>,\n",
       " <matplotlib.lines.Line2D at 0x7fcd75109518>,\n",
       " <matplotlib.lines.Line2D at 0x7fcd75c00470>,\n",
       " <matplotlib.lines.Line2D at 0x7fcd75109780>,\n",
       " <matplotlib.lines.Line2D at 0x7fcd751098d0>,\n",
       " <matplotlib.lines.Line2D at 0x7fcd75109a20>,\n",
       " <matplotlib.lines.Line2D at 0x7fcd75109b70>,\n",
       " <matplotlib.lines.Line2D at 0x7fcd75109cc0>,\n",
       " <matplotlib.lines.Line2D at 0x7fcd75109e10>,\n",
       " <matplotlib.lines.Line2D at 0x7fcd75109f60>,\n",
       " <matplotlib.lines.Line2D at 0x7fcd7510f0f0>,\n",
       " <matplotlib.lines.Line2D at 0x7fcd7510f240>,\n",
       " <matplotlib.lines.Line2D at 0x7fcd7510f390>]"
      ]
     },
     "execution_count": 19,
     "metadata": {},
     "output_type": "execute_result"
    },
    {
     "data": {
      "image/png": "[encoded data removed]",
      "text/plain": [
       "<Figure size 432x288 with 1 Axes>"
      ]
     },
     "metadata": {
      "needs_background": "light"
     },
     "output_type": "display_data"
    }
   ],
   "source": [
    "plt.plot(data_x[0])"
   ]
  },
  {
   "cell_type": "code",
   "execution_count": 35,
   "metadata": {},
   "outputs": [
    {
     "data": {
      "text/plain": [
       "[<matplotlib.lines.Line2D at 0x7fc9105f31d0>,\n",
       " <matplotlib.lines.Line2D at 0x7fc9105f3438>,\n",
       " <matplotlib.lines.Line2D at 0x7fc9105f35f8>,\n",
       " <matplotlib.lines.Line2D at 0x7fc9105f37f0>,\n",
       " <matplotlib.lines.Line2D at 0x7fc9105f3a58>,\n",
       " <matplotlib.lines.Line2D at 0x7fc9105f3ba8>,\n",
       " <matplotlib.lines.Line2D at 0x7fc910d64400>,\n",
       " <matplotlib.lines.Line2D at 0x7fc910d64438>,\n",
       " <matplotlib.lines.Line2D at 0x7fc910d644e0>,\n",
       " <matplotlib.lines.Line2D at 0x7fc910513c88>,\n",
       " <matplotlib.lines.Line2D at 0x7fc910ba7588>,\n",
       " <matplotlib.lines.Line2D at 0x7fc910513e48>,\n",
       " <matplotlib.lines.Line2D at 0x7fc910513f98>,\n",
       " <matplotlib.lines.Line2D at 0x7fc9103c7160>,\n",
       " <matplotlib.lines.Line2D at 0x7fc9103c72b0>,\n",
       " <matplotlib.lines.Line2D at 0x7fc9103c7400>,\n",
       " <matplotlib.lines.Line2D at 0x7fc9103c7550>,\n",
       " <matplotlib.lines.Line2D at 0x7fc9103c76a0>,\n",
       " <matplotlib.lines.Line2D at 0x7fc9103c77f0>,\n",
       " <matplotlib.lines.Line2D at 0x7fc9103c7940>,\n",
       " <matplotlib.lines.Line2D at 0x7fc9103c7a90>]"
      ]
     },
     "execution_count": 35,
     "metadata": {},
     "output_type": "execute_result"
    },
    {
     "data": {
      "image/png": "[encoded data removed]",
      "text/plain": [
       "<Figure size 432x288 with 1 Axes>"
      ]
     },
     "metadata": {
      "needs_background": "light"
     },
     "output_type": "display_data"
    }
   ],
   "source": [
    "plt.plot(model.predict(data_x[0].reshape(1,1000,21)).reshape(1000,21))"
   ]
  },
  {
   "cell_type": "code",
   "execution_count": 25,
   "metadata": {
    "scrolled": true
   },
   "outputs": [
    {
     "name": "stdout",
     "output_type": "stream",
     "text": [
      "_________________________________________________________________\n",
      "Layer (type)                 Output Shape              Param #   \n",
      "=================================================================\n",
      "input_2 (InputLayer)         (None, 1000, 21)          0         \n",
      "_________________________________________________________________\n",
      "gaussian_noise_2 (GaussianNo (None, 1000, 21)          0         \n",
      "_________________________________________________________________\n",
      "time_distributed_3 (TimeDist (None, 1000, 256)         5632      \n",
      "_________________________________________________________________\n",
      "reshape_3 (Reshape)          (None, 1000, 16, 16, 1)   0         \n",
      "_________________________________________________________________\n",
      "batch_normalization_11 (Batc (None, 1000, 16, 16, 1)   4         \n",
      "_________________________________________________________________\n",
      "conv3d_11 (Conv3D)           (None, 1000, 16, 16, 1)   28        \n",
      "_________________________________________________________________\n",
      "max_pooling3d_6 (MaxPooling3 (None, 500, 16, 16, 1)    0         \n",
      "_________________________________________________________________\n",
      "batch_normalization_12 (Batc (None, 500, 16, 16, 1)    4         \n",
      "_________________________________________________________________\n",
      "conv3d_12 (Conv3D)           (None, 500, 16, 16, 2)    56        \n",
      "_________________________________________________________________\n",
      "max_pooling3d_7 (MaxPooling3 (None, 250, 16, 16, 2)    0         \n",
      "_________________________________________________________________\n",
      "batch_normalization_13 (Batc (None, 250, 16, 16, 2)    8         \n",
      "_________________________________________________________________\n",
      "conv3d_13 (Conv3D)           (None, 250, 16, 16, 4)    220       \n",
      "_________________________________________________________________\n",
      "max_pooling3d_8 (MaxPooling3 (None, 125, 16, 16, 4)    0         \n",
      "_________________________________________________________________\n",
      "batch_normalization_14 (Batc (None, 125, 16, 16, 4)    16        \n",
      "_________________________________________________________________\n",
      "conv3d_14 (Conv3D)           (None, 125, 16, 16, 4)    436       \n",
      "_________________________________________________________________\n",
      "max_pooling3d_9 (MaxPooling3 (None, 63, 8, 8, 4)       0         \n",
      "_________________________________________________________________\n",
      "batch_normalization_15 (Batc (None, 63, 8, 8, 4)       16        \n",
      "_________________________________________________________________\n",
      "conv3d_15 (Conv3D)           (None, 63, 8, 8, 8)       872       \n",
      "_________________________________________________________________\n",
      "max_pooling3d_10 (MaxPooling (None, 32, 4, 4, 8)       0         \n",
      "_________________________________________________________________\n",
      "batch_normalization_16 (Batc (None, 32, 4, 4, 8)       32        \n",
      "_________________________________________________________________\n",
      "conv3d_16 (Conv3D)           (None, 32, 4, 4, 8)       1736      \n",
      "_________________________________________________________________\n",
      "up_sampling3d_6 (UpSampling3 (None, 64, 8, 8, 8)       0         \n",
      "_________________________________________________________________\n",
      "batch_normalization_17 (Batc (None, 64, 8, 8, 8)       32        \n",
      "_________________________________________________________________\n",
      "conv3d_17 (Conv3D)           (None, 64, 8, 8, 4)       868       \n",
      "_________________________________________________________________\n",
      "up_sampling3d_7 (UpSampling3 (None, 128, 16, 16, 4)    0         \n",
      "_________________________________________________________________\n",
      "batch_normalization_18 (Batc (None, 128, 16, 16, 4)    16        \n",
      "_________________________________________________________________\n",
      "conv3d_18 (Conv3D)           (None, 128, 16, 16, 4)    436       \n",
      "_________________________________________________________________\n",
      "up_sampling3d_8 (UpSampling3 (None, 256, 16, 16, 4)    0         \n",
      "_________________________________________________________________\n",
      "batch_normalization_19 (Batc (None, 256, 16, 16, 4)    16        \n",
      "_________________________________________________________________\n",
      "conv3d_19 (Conv3D)           (None, 256, 16, 16, 2)    218       \n",
      "_________________________________________________________________\n",
      "up_sampling3d_9 (UpSampling3 (None, 512, 16, 16, 2)    0         \n",
      "_________________________________________________________________\n",
      "batch_normalization_20 (Batc (None, 512, 16, 16, 2)    8         \n",
      "_________________________________________________________________\n",
      "conv3d_20 (Conv3D)           (None, 512, 16, 16, 1)    55        \n",
      "_________________________________________________________________\n",
      "up_sampling3d_10 (UpSampling (None, 1024, 16, 16, 1)   0         \n",
      "_________________________________________________________________\n",
      "reshape_4 (Reshape)          (None, 1024, 256)         0         \n",
      "_________________________________________________________________\n",
      "time_distributed_4 (TimeDist (None, 1024, 21)          5397      \n",
      "_________________________________________________________________\n",
      "lambda_2 (Lambda)            (None, 1000, 21)          0         \n",
      "=================================================================\n",
      "Total params: 16,106\n",
      "Trainable params: 16,030\n",
      "Non-trainable params: 76\n",
      "_________________________________________________________________\n"
     ]
    }
   ],
   "source": [
    "model.summary()"
   ]
  }
 ],
 "metadata": {
  "kernelspec": {
   "display_name": "Python 3",
   "language": "python",
   "name": "python3"
  },
  "language_info": {
   "codemirror_mode": {
    "name": "ipython",
    "version": 3
   },
   "file_extension": ".py",
   "mimetype": "text/x-python",
   "name": "python",
   "nbconvert_exporter": "python",
   "pygments_lexer": "ipython3",
   "version": "3.7.3"
  },
  "toc": {
   "base_numbering": 1,
   "nav_menu": {},
   "number_sections": true,
   "sideBar": true,
   "skip_h1_title": false,
   "title_cell": "Table of Contents",
   "title_sidebar": "Contents",
   "toc_cell": false,
   "toc_position": {},
   "toc_section_display": true,
   "toc_window_display": true
  }
 },
 "nbformat": 4,
 "nbformat_minor": 2
}

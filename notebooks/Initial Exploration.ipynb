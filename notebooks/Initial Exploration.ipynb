{
 "cells": [
  {
   "cell_type": "code",
   "execution_count": 1,
   "metadata": {},
   "outputs": [],
   "source": [
    "#https://pypi.org/project/pyEDFlib/\n",
    "import sys, os\n",
    "import data_reader as read\n",
    "import util_funcs\n",
    "import numpy as np"
   ]
  },
  {
   "cell_type": "code",
   "execution_count": 2,
   "metadata": {},
   "outputs": [],
   "source": [
    "edf_tokens = read.get_all_token_file_names(\"train\", \"01_tcp_ar\")"
   ]
  },
  {
   "cell_type": "code",
   "execution_count": 6,
   "metadata": {},
   "outputs": [],
   "source": [
    "edfReader = read.EdfDataset(\"train\", \"01_tcp_ar\", n_process=8, expand_tse=False)"
   ]
  },
  {
   "cell_type": "code",
   "execution_count": 10,
   "metadata": {},
   "outputs": [
    {
     "name": "stdout",
     "output_type": "stream",
     "text": [
      "EEG T5-REF     0.000001\n",
      "EEG C3-REF     0.000001\n",
      "EEG A1-REF     0.000001\n",
      "EEG P4-REF     0.000001\n",
      "EEG F8-REF     0.000001\n",
      "EEG F3-REF     0.000001\n",
      "EEG CZ-REF     0.000001\n",
      "EEG O2-REF     0.000001\n",
      "EEG A2-REF     0.000001\n",
      "EEG P3-REF     0.000001\n",
      "EEG C4-REF     0.000001\n",
      "EEG O1-REF     0.000001\n",
      "EEG T4-REF     0.000001\n",
      "EEG F4-REF     0.000001\n",
      "EEG F7-REF     0.000001\n",
      "EEG PZ-REF     0.000001\n",
      "EEG FP1-REF    0.000001\n",
      "EEG FZ-REF     0.000001\n",
      "EEG T3-REF     0.000001\n",
      "EEG T6-REF     0.000001\n",
      "EEG FP2-REF    0.000001\n",
      "dtype: float64\n",
      "EEG T5-REF     0.000002\n",
      "EEG C3-REF     0.000002\n",
      "EEG A1-REF     0.000002\n",
      "EEG P4-REF     0.000002\n",
      "EEG F8-REF     0.000002\n",
      "EEG F3-REF     0.000002\n",
      "EEG CZ-REF     0.000002\n",
      "EEG O2-REF     0.000002\n",
      "EEG A2-REF     0.000002\n",
      "EEG P3-REF     0.000002\n",
      "EEG C4-REF     0.000002\n",
      "EEG O1-REF     0.000002\n",
      "EEG T4-REF     0.000002\n",
      "EEG F4-REF     0.000002\n",
      "EEG F7-REF     0.000002\n",
      "EEG PZ-REF     0.000002\n",
      "EEG FP1-REF    0.000002\n",
      "EEG FZ-REF     0.000002\n",
      "EEG T3-REF     0.000002\n",
      "EEG T6-REF     0.000002\n",
      "EEG FP2-REF    0.000002\n",
      "dtype: float64\n"
     ]
    }
   ],
   "source": [
    "for data, ann in edfReader:\n",
    "    if np.isnan(data).any().any():\n",
    "        print(np.isnan(data).sum()/(data.shape[0] * data.shape[1]))"
   ]
  },
  {
   "cell_type": "code",
   "execution_count": null,
   "metadata": {},
   "outputs": [],
   "source": [
    "nan_tokens = []\n",
    "for token in edf_tokens:\n",
    "    data = read.edf_eeg_2_df(token)\n",
    "    if (np.isnan(data).any().any()):\n",
    "        nan_tokens.append(token)\n",
    "len(nan_tokens)"
   ]
  },
  {
   "cell_type": "code",
   "execution_count": null,
   "metadata": {},
   "outputs": [],
   "source": [
    "nan_tokens_resample = []\n",
    "for token in edf_tokens:\n",
    "    data = read.edf_eeg_2_df(token, resample=pd.Timedelta(seconds=util_funcs.COMMON_DELTA))\n",
    "    if (np.isnan(data).any().any()):\n",
    "        nan_tokens_resample.append(token)\n",
    "len(nan_tokens_resample)"
   ]
  },
  {
   "cell_type": "code",
   "execution_count": 2,
   "metadata": {},
   "outputs": [],
   "source": [
    "sys.path.append(os.path.realpath(\"/home/saqibm128/miniconda3/envs/keras/lib/python3.7/site-packages\"))"
   ]
  },
  {
   "cell_type": "code",
   "execution_count": 2,
   "metadata": {},
   "outputs": [],
   "source": [
    "import pandas as pd\n",
    "import numpy as np\n",
    "import pyedflib as edf\n",
    "import matplotlib.pyplot as plt\n",
    "import time"
   ]
  },
  {
   "cell_type": "markdown",
   "metadata": {},
   "source": [
    "# Sample files\n",
    "Mostly looking at what names of signals are, what data is exposed, etc."
   ]
  },
  {
   "cell_type": "markdown",
   "metadata": {},
   "source": [
    "## 01_tcp_ar\n",
    "Average ref. The label names are showing that it is the name of the electrode with respect to a REF voltage."
   ]
  },
  {
   "cell_type": "code",
   "execution_count": 8,
   "metadata": {},
   "outputs": [],
   "source": [
    "testfile = \"/mnt/c/Users/sawer/src/dbmi/tuh/v1.5.0/edf/dev_test/01_tcp_ar/002/00000258/s002_2003_07_21/00000258_s002_t000.edf\""
   ]
  },
  {
   "cell_type": "code",
   "execution_count": 9,
   "metadata": {},
   "outputs": [],
   "source": [
    "reader0 = edf.EdfReader(testfile)"
   ]
  },
  {
   "cell_type": "code",
   "execution_count": 10,
   "metadata": {},
   "outputs": [
    {
     "data": {
      "text/plain": [
       "[{'label': 'EEG FP1-REF',\n",
       "  'dimension': 'uV',\n",
       "  'sample_rate': 400,\n",
       "  'physical_max': 29483.12,\n",
       "  'physical_min': -29483.1,\n",
       "  'digital_max': 32767,\n",
       "  'digital_min': -32767,\n",
       "  'prefilter': 'HP:-1.000 Hz LP:-2.0 Hz N:0.0',\n",
       "  'transducer': 'EEG'},\n",
       " {'label': 'EEG FP2-REF',\n",
       "  'dimension': 'uV',\n",
       "  'sample_rate': 400,\n",
       "  'physical_max': 29483.12,\n",
       "  'physical_min': -29483.1,\n",
       "  'digital_max': 32767,\n",
       "  'digital_min': -32767,\n",
       "  'prefilter': 'HP:-1.000 Hz LP:-2.0 Hz N:0.0',\n",
       "  'transducer': 'EEG'},\n",
       " {'label': 'EEG F3-REF',\n",
       "  'dimension': 'uV',\n",
       "  'sample_rate': 400,\n",
       "  'physical_max': 29483.12,\n",
       "  'physical_min': -29483.1,\n",
       "  'digital_max': 32767,\n",
       "  'digital_min': -32767,\n",
       "  'prefilter': 'HP:-1.000 Hz LP:-2.0 Hz N:0.0',\n",
       "  'transducer': 'EEG'},\n",
       " {'label': 'EEG F4-REF',\n",
       "  'dimension': 'uV',\n",
       "  'sample_rate': 400,\n",
       "  'physical_max': 29483.12,\n",
       "  'physical_min': -29483.1,\n",
       "  'digital_max': 32767,\n",
       "  'digital_min': -32767,\n",
       "  'prefilter': 'HP:-1.000 Hz LP:-2.0 Hz N:0.0',\n",
       "  'transducer': 'EEG'},\n",
       " {'label': 'EEG C3-REF',\n",
       "  'dimension': 'uV',\n",
       "  'sample_rate': 400,\n",
       "  'physical_max': 29483.12,\n",
       "  'physical_min': -29483.1,\n",
       "  'digital_max': 32767,\n",
       "  'digital_min': -32767,\n",
       "  'prefilter': 'HP:-1.000 Hz LP:-2.0 Hz N:0.0',\n",
       "  'transducer': 'EEG'},\n",
       " {'label': 'EEG C4-REF',\n",
       "  'dimension': 'uV',\n",
       "  'sample_rate': 400,\n",
       "  'physical_max': 29483.12,\n",
       "  'physical_min': -29483.1,\n",
       "  'digital_max': 32767,\n",
       "  'digital_min': -32767,\n",
       "  'prefilter': 'HP:-1.000 Hz LP:-2.0 Hz N:0.0',\n",
       "  'transducer': 'EEG'},\n",
       " {'label': 'EEG P3-REF',\n",
       "  'dimension': 'uV',\n",
       "  'sample_rate': 400,\n",
       "  'physical_max': 29483.12,\n",
       "  'physical_min': -29483.1,\n",
       "  'digital_max': 32767,\n",
       "  'digital_min': -32767,\n",
       "  'prefilter': 'HP:-1.000 Hz LP:-2.0 Hz N:0.0',\n",
       "  'transducer': 'EEG'},\n",
       " {'label': 'EEG P4-REF',\n",
       "  'dimension': 'uV',\n",
       "  'sample_rate': 400,\n",
       "  'physical_max': 29483.12,\n",
       "  'physical_min': -29483.1,\n",
       "  'digital_max': 32767,\n",
       "  'digital_min': -32767,\n",
       "  'prefilter': 'HP:-1.000 Hz LP:-2.0 Hz N:0.0',\n",
       "  'transducer': 'EEG'},\n",
       " {'label': 'EEG O1-REF',\n",
       "  'dimension': 'uV',\n",
       "  'sample_rate': 400,\n",
       "  'physical_max': 29483.12,\n",
       "  'physical_min': -29483.1,\n",
       "  'digital_max': 32767,\n",
       "  'digital_min': -32767,\n",
       "  'prefilter': 'HP:-1.000 Hz LP:-2.0 Hz N:0.0',\n",
       "  'transducer': 'EEG'},\n",
       " {'label': 'EEG O2-REF',\n",
       "  'dimension': 'uV',\n",
       "  'sample_rate': 400,\n",
       "  'physical_max': 29483.12,\n",
       "  'physical_min': -29483.1,\n",
       "  'digital_max': 32767,\n",
       "  'digital_min': -32767,\n",
       "  'prefilter': 'HP:-1.000 Hz LP:-2.0 Hz N:0.0',\n",
       "  'transducer': 'EEG'},\n",
       " {'label': 'EEG F7-REF',\n",
       "  'dimension': 'uV',\n",
       "  'sample_rate': 400,\n",
       "  'physical_max': 29483.12,\n",
       "  'physical_min': -29483.1,\n",
       "  'digital_max': 32767,\n",
       "  'digital_min': -32767,\n",
       "  'prefilter': 'HP:-1.000 Hz LP:-2.0 Hz N:0.0',\n",
       "  'transducer': 'EEG'},\n",
       " {'label': 'EEG F8-REF',\n",
       "  'dimension': 'uV',\n",
       "  'sample_rate': 400,\n",
       "  'physical_max': 29483.12,\n",
       "  'physical_min': -29483.1,\n",
       "  'digital_max': 32767,\n",
       "  'digital_min': -32767,\n",
       "  'prefilter': 'HP:-1.000 Hz LP:-2.0 Hz N:0.0',\n",
       "  'transducer': 'EEG'},\n",
       " {'label': 'EEG T3-REF',\n",
       "  'dimension': 'uV',\n",
       "  'sample_rate': 400,\n",
       "  'physical_max': 29483.12,\n",
       "  'physical_min': -29483.1,\n",
       "  'digital_max': 32767,\n",
       "  'digital_min': -32767,\n",
       "  'prefilter': 'HP:-1.000 Hz LP:-2.0 Hz N:0.0',\n",
       "  'transducer': 'EEG'},\n",
       " {'label': 'EEG T4-REF',\n",
       "  'dimension': 'uV',\n",
       "  'sample_rate': 400,\n",
       "  'physical_max': 29483.12,\n",
       "  'physical_min': -29483.1,\n",
       "  'digital_max': 32767,\n",
       "  'digital_min': -32767,\n",
       "  'prefilter': 'HP:-1.000 Hz LP:-2.0 Hz N:0.0',\n",
       "  'transducer': 'EEG'},\n",
       " {'label': 'EEG T5-REF',\n",
       "  'dimension': 'uV',\n",
       "  'sample_rate': 400,\n",
       "  'physical_max': 29483.12,\n",
       "  'physical_min': -29483.1,\n",
       "  'digital_max': 32767,\n",
       "  'digital_min': -32767,\n",
       "  'prefilter': 'HP:-1.000 Hz LP:-2.0 Hz N:0.0',\n",
       "  'transducer': 'EEG'},\n",
       " {'label': 'EEG T6-REF',\n",
       "  'dimension': 'uV',\n",
       "  'sample_rate': 400,\n",
       "  'physical_max': 29483.12,\n",
       "  'physical_min': -29483.1,\n",
       "  'digital_max': 32767,\n",
       "  'digital_min': -32767,\n",
       "  'prefilter': 'HP:-1.000 Hz LP:-2.0 Hz N:0.0',\n",
       "  'transducer': 'EEG'},\n",
       " {'label': 'EEG FZ-REF',\n",
       "  'dimension': 'uV',\n",
       "  'sample_rate': 400,\n",
       "  'physical_max': 29483.12,\n",
       "  'physical_min': -29483.1,\n",
       "  'digital_max': 32767,\n",
       "  'digital_min': -32767,\n",
       "  'prefilter': 'HP:-1.000 Hz LP:-2.0 Hz N:0.0',\n",
       "  'transducer': 'EEG'},\n",
       " {'label': 'EEG CZ-REF',\n",
       "  'dimension': 'uV',\n",
       "  'sample_rate': 400,\n",
       "  'physical_max': 29483.12,\n",
       "  'physical_min': -29483.1,\n",
       "  'digital_max': 32767,\n",
       "  'digital_min': -32767,\n",
       "  'prefilter': 'HP:-1.000 Hz LP:-2.0 Hz N:0.0',\n",
       "  'transducer': 'EEG'},\n",
       " {'label': 'EEG PZ-REF',\n",
       "  'dimension': 'uV',\n",
       "  'sample_rate': 400,\n",
       "  'physical_max': 29483.12,\n",
       "  'physical_min': -29483.1,\n",
       "  'digital_max': 32767,\n",
       "  'digital_min': -32767,\n",
       "  'prefilter': 'HP:-1.000 Hz LP:-2.0 Hz N:0.0',\n",
       "  'transducer': 'EEG'},\n",
       " {'label': 'EEG EKG-REF',\n",
       "  'dimension': 'uV',\n",
       "  'sample_rate': 400,\n",
       "  'physical_max': 29483.12,\n",
       "  'physical_min': -29483.1,\n",
       "  'digital_max': 32767,\n",
       "  'digital_min': -32767,\n",
       "  'prefilter': 'HP:-1.000 Hz LP:-2.0 Hz N:0.0',\n",
       "  'transducer': 'EEG'},\n",
       " {'label': 'EEG A1-REF',\n",
       "  'dimension': 'uV',\n",
       "  'sample_rate': 400,\n",
       "  'physical_max': 29483.12,\n",
       "  'physical_min': -29483.1,\n",
       "  'digital_max': 32767,\n",
       "  'digital_min': -32767,\n",
       "  'prefilter': 'HP:-1.000 Hz LP:-2.0 Hz N:0.0',\n",
       "  'transducer': 'EEG'},\n",
       " {'label': 'EEG A2-REF',\n",
       "  'dimension': 'uV',\n",
       "  'sample_rate': 400,\n",
       "  'physical_max': 29483.12,\n",
       "  'physical_min': -29483.1,\n",
       "  'digital_max': 32767,\n",
       "  'digital_min': -32767,\n",
       "  'prefilter': 'HP:-1.000 Hz LP:-2.0 Hz N:0.0',\n",
       "  'transducer': 'EEG'},\n",
       " {'label': 'EEG T1-REF',\n",
       "  'dimension': 'uV',\n",
       "  'sample_rate': 400,\n",
       "  'physical_max': 29483.12,\n",
       "  'physical_min': -29483.1,\n",
       "  'digital_max': 32767,\n",
       "  'digital_min': -32767,\n",
       "  'prefilter': 'HP:-1.000 Hz LP:-2.0 Hz N:0.0',\n",
       "  'transducer': 'EEG'},\n",
       " {'label': 'EEG T2-REF',\n",
       "  'dimension': 'uV',\n",
       "  'sample_rate': 400,\n",
       "  'physical_max': 29483.12,\n",
       "  'physical_min': -29483.1,\n",
       "  'digital_max': 32767,\n",
       "  'digital_min': -32767,\n",
       "  'prefilter': 'HP:-1.000 Hz LP:-2.0 Hz N:0.0',\n",
       "  'transducer': 'EEG'},\n",
       " {'label': 'EEG SP1-REF',\n",
       "  'dimension': 'uV',\n",
       "  'sample_rate': 400,\n",
       "  'physical_max': 29483.12,\n",
       "  'physical_min': -29483.1,\n",
       "  'digital_max': 32767,\n",
       "  'digital_min': -32767,\n",
       "  'prefilter': 'HP:-1.000 Hz LP:-2.0 Hz N:0.0',\n",
       "  'transducer': 'EEG'},\n",
       " {'label': 'EEG SP2-REF',\n",
       "  'dimension': 'uV',\n",
       "  'sample_rate': 400,\n",
       "  'physical_max': 29483.12,\n",
       "  'physical_min': -29483.1,\n",
       "  'digital_max': 32767,\n",
       "  'digital_min': -32767,\n",
       "  'prefilter': 'HP:-1.000 Hz LP:-2.0 Hz N:0.0',\n",
       "  'transducer': 'EEG'},\n",
       " {'label': 'EEG LUC-REF',\n",
       "  'dimension': 'uV',\n",
       "  'sample_rate': 400,\n",
       "  'physical_max': 29483.12,\n",
       "  'physical_min': -29483.1,\n",
       "  'digital_max': 32767,\n",
       "  'digital_min': -32767,\n",
       "  'prefilter': 'HP:-1.000 Hz LP:-2.0 Hz N:0.0',\n",
       "  'transducer': 'EEG'},\n",
       " {'label': 'EEG RLC-REF',\n",
       "  'dimension': 'uV',\n",
       "  'sample_rate': 400,\n",
       "  'physical_max': 29483.12,\n",
       "  'physical_min': -29483.1,\n",
       "  'digital_max': 32767,\n",
       "  'digital_min': -32767,\n",
       "  'prefilter': 'HP:-1.000 Hz LP:-2.0 Hz N:0.0',\n",
       "  'transducer': 'EEG'},\n",
       " {'label': 'EEG RESP1-REF',\n",
       "  'dimension': 'uV',\n",
       "  'sample_rate': 400,\n",
       "  'physical_max': 29483.12,\n",
       "  'physical_min': -29483.1,\n",
       "  'digital_max': 32767,\n",
       "  'digital_min': -32767,\n",
       "  'prefilter': 'HP:-1.000 Hz LP:-2.0 Hz N:0.0',\n",
       "  'transducer': 'EEG'},\n",
       " {'label': 'EEG RESP2-REF',\n",
       "  'dimension': 'uV',\n",
       "  'sample_rate': 400,\n",
       "  'physical_max': 29483.12,\n",
       "  'physical_min': -29483.1,\n",
       "  'digital_max': 32767,\n",
       "  'digital_min': -32767,\n",
       "  'prefilter': 'HP:-1.000 Hz LP:-2.0 Hz N:0.0',\n",
       "  'transducer': 'EEG'},\n",
       " {'label': 'EEG 31-REF',\n",
       "  'dimension': 'uV',\n",
       "  'sample_rate': 400,\n",
       "  'physical_max': 29483.12,\n",
       "  'physical_min': -29483.1,\n",
       "  'digital_max': 32767,\n",
       "  'digital_min': -32767,\n",
       "  'prefilter': 'HP:-1.000 Hz LP:-2.0 Hz N:0.0',\n",
       "  'transducer': 'EEG'},\n",
       " {'label': 'EEG 32-REF',\n",
       "  'dimension': 'uV',\n",
       "  'sample_rate': 400,\n",
       "  'physical_max': 29483.12,\n",
       "  'physical_min': -29483.1,\n",
       "  'digital_max': 32767,\n",
       "  'digital_min': -32767,\n",
       "  'prefilter': 'HP:-1.000 Hz LP:-2.0 Hz N:0.0',\n",
       "  'transducer': 'EEG'}]"
      ]
     },
     "execution_count": 10,
     "metadata": {},
     "output_type": "execute_result"
    }
   ],
   "source": [
    "labels = reader0.getSignalHeaders()\n",
    "labels"
   ]
  },
  {
   "cell_type": "markdown",
   "metadata": {},
   "source": [
    "## 02_tcp_le\n",
    "Linked Ear Reference. The label names show that the voltage is with respect to the linked ear electrodes."
   ]
  },
  {
   "cell_type": "code",
   "execution_count": 11,
   "metadata": {},
   "outputs": [],
   "source": [
    "testfile = \"/mnt/c/Users/sawer/src/dbmi/tuh/v1.5.0/edf/train/02_tcp_le/000/00000002/s001_2002_12_23/00000002_s001_t000.edf\""
   ]
  },
  {
   "cell_type": "code",
   "execution_count": 12,
   "metadata": {},
   "outputs": [],
   "source": [
    "reader = edf.EdfReader(testfile)"
   ]
  },
  {
   "cell_type": "code",
   "execution_count": 13,
   "metadata": {},
   "outputs": [
    {
     "data": {
      "text/plain": [
       "[{'label': 'EEG FP1-LE',\n",
       "  'dimension': 'uV',\n",
       "  'sample_rate': 250,\n",
       "  'physical_max': 4999.85,\n",
       "  'physical_min': -4999.85,\n",
       "  'digital_max': 32767,\n",
       "  'digital_min': -32767,\n",
       "  'prefilter': 'HP:-1.000 Hz LP:-2.0 Hz N:0.0',\n",
       "  'transducer': ''},\n",
       " {'label': 'EEG FP2-LE',\n",
       "  'dimension': 'uV',\n",
       "  'sample_rate': 250,\n",
       "  'physical_max': 4999.85,\n",
       "  'physical_min': -4999.85,\n",
       "  'digital_max': 32767,\n",
       "  'digital_min': -32767,\n",
       "  'prefilter': 'HP:-1.000 Hz LP:-2.0 Hz N:0.0',\n",
       "  'transducer': ''},\n",
       " {'label': 'EEG F3-LE',\n",
       "  'dimension': 'uV',\n",
       "  'sample_rate': 250,\n",
       "  'physical_max': 4999.85,\n",
       "  'physical_min': -4999.85,\n",
       "  'digital_max': 32767,\n",
       "  'digital_min': -32767,\n",
       "  'prefilter': 'HP:-1.000 Hz LP:-2.0 Hz N:0.0',\n",
       "  'transducer': ''},\n",
       " {'label': 'EEG F4-LE',\n",
       "  'dimension': 'uV',\n",
       "  'sample_rate': 250,\n",
       "  'physical_max': 4999.85,\n",
       "  'physical_min': -4999.85,\n",
       "  'digital_max': 32767,\n",
       "  'digital_min': -32767,\n",
       "  'prefilter': 'HP:-1.000 Hz LP:-2.0 Hz N:0.0',\n",
       "  'transducer': ''},\n",
       " {'label': 'EEG C3-LE',\n",
       "  'dimension': 'uV',\n",
       "  'sample_rate': 250,\n",
       "  'physical_max': 4999.85,\n",
       "  'physical_min': -4999.85,\n",
       "  'digital_max': 32767,\n",
       "  'digital_min': -32767,\n",
       "  'prefilter': 'HP:-1.000 Hz LP:-2.0 Hz N:0.0',\n",
       "  'transducer': ''},\n",
       " {'label': 'EEG C4-LE',\n",
       "  'dimension': 'uV',\n",
       "  'sample_rate': 250,\n",
       "  'physical_max': 4999.85,\n",
       "  'physical_min': -4999.85,\n",
       "  'digital_max': 32767,\n",
       "  'digital_min': -32767,\n",
       "  'prefilter': 'HP:-1.000 Hz LP:-2.0 Hz N:0.0',\n",
       "  'transducer': ''},\n",
       " {'label': 'EEG A1-LE',\n",
       "  'dimension': 'uV',\n",
       "  'sample_rate': 250,\n",
       "  'physical_max': 4999.85,\n",
       "  'physical_min': -4999.85,\n",
       "  'digital_max': 32767,\n",
       "  'digital_min': -32767,\n",
       "  'prefilter': 'HP:-1.000 Hz LP:-2.0 Hz N:0.0',\n",
       "  'transducer': ''},\n",
       " {'label': 'EEG A2-LE',\n",
       "  'dimension': 'uV',\n",
       "  'sample_rate': 250,\n",
       "  'physical_max': 4999.85,\n",
       "  'physical_min': -4999.85,\n",
       "  'digital_max': 32767,\n",
       "  'digital_min': -32767,\n",
       "  'prefilter': 'HP:-1.000 Hz LP:-2.0 Hz N:0.0',\n",
       "  'transducer': ''},\n",
       " {'label': 'EEG P3-LE',\n",
       "  'dimension': 'uV',\n",
       "  'sample_rate': 250,\n",
       "  'physical_max': 4999.85,\n",
       "  'physical_min': -4999.85,\n",
       "  'digital_max': 32767,\n",
       "  'digital_min': -32767,\n",
       "  'prefilter': 'HP:-1.000 Hz LP:-2.0 Hz N:0.0',\n",
       "  'transducer': ''},\n",
       " {'label': 'EEG P4-LE',\n",
       "  'dimension': 'uV',\n",
       "  'sample_rate': 250,\n",
       "  'physical_max': 4999.85,\n",
       "  'physical_min': -4999.85,\n",
       "  'digital_max': 32767,\n",
       "  'digital_min': -32767,\n",
       "  'prefilter': 'HP:-1.000 Hz LP:-2.0 Hz N:0.0',\n",
       "  'transducer': ''},\n",
       " {'label': 'EEG O1-LE',\n",
       "  'dimension': 'uV',\n",
       "  'sample_rate': 250,\n",
       "  'physical_max': 4999.85,\n",
       "  'physical_min': -4999.85,\n",
       "  'digital_max': 32767,\n",
       "  'digital_min': -32767,\n",
       "  'prefilter': 'HP:-1.000 Hz LP:-2.0 Hz N:0.0',\n",
       "  'transducer': ''},\n",
       " {'label': 'EEG O2-LE',\n",
       "  'dimension': 'uV',\n",
       "  'sample_rate': 250,\n",
       "  'physical_max': 4999.85,\n",
       "  'physical_min': -4999.85,\n",
       "  'digital_max': 32767,\n",
       "  'digital_min': -32767,\n",
       "  'prefilter': 'HP:-1.000 Hz LP:-2.0 Hz N:0.0',\n",
       "  'transducer': ''},\n",
       " {'label': 'EEG F7-LE',\n",
       "  'dimension': 'uV',\n",
       "  'sample_rate': 250,\n",
       "  'physical_max': 4999.85,\n",
       "  'physical_min': -4999.85,\n",
       "  'digital_max': 32767,\n",
       "  'digital_min': -32767,\n",
       "  'prefilter': 'HP:-1.000 Hz LP:-2.0 Hz N:0.0',\n",
       "  'transducer': ''},\n",
       " {'label': 'EEG F8-LE',\n",
       "  'dimension': 'uV',\n",
       "  'sample_rate': 250,\n",
       "  'physical_max': 4999.85,\n",
       "  'physical_min': -4999.85,\n",
       "  'digital_max': 32767,\n",
       "  'digital_min': -32767,\n",
       "  'prefilter': 'HP:-1.000 Hz LP:-2.0 Hz N:0.0',\n",
       "  'transducer': ''},\n",
       " {'label': 'EEG T3-LE',\n",
       "  'dimension': 'uV',\n",
       "  'sample_rate': 250,\n",
       "  'physical_max': 4999.85,\n",
       "  'physical_min': -4999.85,\n",
       "  'digital_max': 32767,\n",
       "  'digital_min': -32767,\n",
       "  'prefilter': 'HP:-1.000 Hz LP:-2.0 Hz N:0.0',\n",
       "  'transducer': ''},\n",
       " {'label': 'EEG T4-LE',\n",
       "  'dimension': 'uV',\n",
       "  'sample_rate': 250,\n",
       "  'physical_max': 4999.85,\n",
       "  'physical_min': -4999.85,\n",
       "  'digital_max': 32767,\n",
       "  'digital_min': -32767,\n",
       "  'prefilter': 'HP:-1.000 Hz LP:-2.0 Hz N:0.0',\n",
       "  'transducer': ''},\n",
       " {'label': 'EEG T5-LE',\n",
       "  'dimension': 'uV',\n",
       "  'sample_rate': 250,\n",
       "  'physical_max': 4999.85,\n",
       "  'physical_min': -4999.85,\n",
       "  'digital_max': 32767,\n",
       "  'digital_min': -32767,\n",
       "  'prefilter': 'HP:-1.000 Hz LP:-2.0 Hz N:0.0',\n",
       "  'transducer': ''},\n",
       " {'label': 'EEG T6-LE',\n",
       "  'dimension': 'uV',\n",
       "  'sample_rate': 250,\n",
       "  'physical_max': 4999.85,\n",
       "  'physical_min': -4999.85,\n",
       "  'digital_max': 32767,\n",
       "  'digital_min': -32767,\n",
       "  'prefilter': 'HP:-1.000 Hz LP:-2.0 Hz N:0.0',\n",
       "  'transducer': ''},\n",
       " {'label': 'EEG FZ-LE',\n",
       "  'dimension': 'uV',\n",
       "  'sample_rate': 250,\n",
       "  'physical_max': 4999.85,\n",
       "  'physical_min': -4999.85,\n",
       "  'digital_max': 32767,\n",
       "  'digital_min': -32767,\n",
       "  'prefilter': 'HP:-1.000 Hz LP:-2.0 Hz N:0.0',\n",
       "  'transducer': ''},\n",
       " {'label': 'EEG CZ-LE',\n",
       "  'dimension': 'uV',\n",
       "  'sample_rate': 250,\n",
       "  'physical_max': 4999.85,\n",
       "  'physical_min': -4999.85,\n",
       "  'digital_max': 32767,\n",
       "  'digital_min': -32767,\n",
       "  'prefilter': 'HP:-1.000 Hz LP:-2.0 Hz N:0.0',\n",
       "  'transducer': ''},\n",
       " {'label': 'EEG PZ-LE',\n",
       "  'dimension': 'uV',\n",
       "  'sample_rate': 250,\n",
       "  'physical_max': 4999.85,\n",
       "  'physical_min': -4999.85,\n",
       "  'digital_max': 32767,\n",
       "  'digital_min': -32767,\n",
       "  'prefilter': 'HP:-1.000 Hz LP:-2.0 Hz N:0.0',\n",
       "  'transducer': ''},\n",
       " {'label': 'EEG OZ-LE',\n",
       "  'dimension': 'uV',\n",
       "  'sample_rate': 250,\n",
       "  'physical_max': 4999.85,\n",
       "  'physical_min': -4999.85,\n",
       "  'digital_max': 32767,\n",
       "  'digital_min': -32767,\n",
       "  'prefilter': 'HP:-1.000 Hz LP:-2.0 Hz N:0.0',\n",
       "  'transducer': ''},\n",
       " {'label': 'EEG PG1-LE',\n",
       "  'dimension': 'uV',\n",
       "  'sample_rate': 250,\n",
       "  'physical_max': 4999.85,\n",
       "  'physical_min': -4999.85,\n",
       "  'digital_max': 32767,\n",
       "  'digital_min': -32767,\n",
       "  'prefilter': 'HP:-1.000 Hz LP:-2.0 Hz N:0.0',\n",
       "  'transducer': ''},\n",
       " {'label': 'EEG PG2-LE',\n",
       "  'dimension': 'uV',\n",
       "  'sample_rate': 250,\n",
       "  'physical_max': 4999.85,\n",
       "  'physical_min': -4999.85,\n",
       "  'digital_max': 32767,\n",
       "  'digital_min': -32767,\n",
       "  'prefilter': 'HP:-1.000 Hz LP:-2.0 Hz N:0.0',\n",
       "  'transducer': ''},\n",
       " {'label': 'EEG EKG-LE',\n",
       "  'dimension': 'uV',\n",
       "  'sample_rate': 250,\n",
       "  'physical_max': 4999.85,\n",
       "  'physical_min': -4999.85,\n",
       "  'digital_max': 32767,\n",
       "  'digital_min': -32767,\n",
       "  'prefilter': 'HP:-1.000 Hz LP:-2.0 Hz N:0.0',\n",
       "  'transducer': ''},\n",
       " {'label': 'EEG SP2-LE',\n",
       "  'dimension': 'uV',\n",
       "  'sample_rate': 250,\n",
       "  'physical_max': 4999.85,\n",
       "  'physical_min': -4999.85,\n",
       "  'digital_max': 32767,\n",
       "  'digital_min': -32767,\n",
       "  'prefilter': 'HP:-1.000 Hz LP:-2.0 Hz N:0.0',\n",
       "  'transducer': ''},\n",
       " {'label': 'EEG SP1-LE',\n",
       "  'dimension': 'uV',\n",
       "  'sample_rate': 250,\n",
       "  'physical_max': 4999.85,\n",
       "  'physical_min': -4999.85,\n",
       "  'digital_max': 32767,\n",
       "  'digital_min': -32767,\n",
       "  'prefilter': 'HP:-1.000 Hz LP:-2.0 Hz N:0.0',\n",
       "  'transducer': ''},\n",
       " {'label': 'EEG RLC-LE',\n",
       "  'dimension': 'uV',\n",
       "  'sample_rate': 250,\n",
       "  'physical_max': 4999.85,\n",
       "  'physical_min': -4999.85,\n",
       "  'digital_max': 32767,\n",
       "  'digital_min': -32767,\n",
       "  'prefilter': 'HP:-1.000 Hz LP:-2.0 Hz N:0.0',\n",
       "  'transducer': ''},\n",
       " {'label': 'EEG LUC-LE',\n",
       "  'dimension': 'uV',\n",
       "  'sample_rate': 250,\n",
       "  'physical_max': 4999.85,\n",
       "  'physical_min': -4999.85,\n",
       "  'digital_max': 32767,\n",
       "  'digital_min': -32767,\n",
       "  'prefilter': 'HP:-1.000 Hz LP:-2.0 Hz N:0.0',\n",
       "  'transducer': ''},\n",
       " {'label': 'EEG 30-LE',\n",
       "  'dimension': 'uV',\n",
       "  'sample_rate': 250,\n",
       "  'physical_max': 4999.85,\n",
       "  'physical_min': -4999.85,\n",
       "  'digital_max': 32767,\n",
       "  'digital_min': -32767,\n",
       "  'prefilter': 'HP:-1.000 Hz LP:-2.0 Hz N:0.0',\n",
       "  'transducer': ''},\n",
       " {'label': 'EEG T1-LE',\n",
       "  'dimension': 'uV',\n",
       "  'sample_rate': 250,\n",
       "  'physical_max': 4999.85,\n",
       "  'physical_min': -4999.85,\n",
       "  'digital_max': 32767,\n",
       "  'digital_min': -32767,\n",
       "  'prefilter': 'HP:-1.000 Hz LP:-2.0 Hz N:0.0',\n",
       "  'transducer': ''},\n",
       " {'label': 'EEG T2-LE',\n",
       "  'dimension': 'uV',\n",
       "  'sample_rate': 250,\n",
       "  'physical_max': 4999.85,\n",
       "  'physical_min': -4999.85,\n",
       "  'digital_max': 32767,\n",
       "  'digital_min': -32767,\n",
       "  'prefilter': 'HP:-1.000 Hz LP:-2.0 Hz N:0.0',\n",
       "  'transducer': ''},\n",
       " {'label': 'PHOTIC PH',\n",
       "  'dimension': 'mm',\n",
       "  'sample_rate': 250,\n",
       "  'physical_max': 32767.0,\n",
       "  'physical_min': -32767.0,\n",
       "  'digital_max': 32767,\n",
       "  'digital_min': -32767,\n",
       "  'prefilter': 'HP:-1.000 Hz LP:-2.0 Hz N:0.0',\n",
       "  'transducer': 'EEG'}]"
      ]
     },
     "execution_count": 13,
     "metadata": {},
     "output_type": "execute_result"
    }
   ],
   "source": [
    "labels = reader.getSignalHeaders()\n",
    "labels"
   ]
  },
  {
   "cell_type": "code",
   "execution_count": 14,
   "metadata": {},
   "outputs": [
    {
     "data": {
      "text/plain": [
       "33"
      ]
     },
     "execution_count": 14,
     "metadata": {},
     "output_type": "execute_result"
    }
   ],
   "source": [
    "len(labels)"
   ]
  },
  {
   "cell_type": "code",
   "execution_count": 15,
   "metadata": {},
   "outputs": [
    {
     "data": {
      "text/plain": [
       "33"
      ]
     },
     "execution_count": 15,
     "metadata": {},
     "output_type": "execute_result"
    }
   ],
   "source": [
    "n = reader.signals_in_file\n",
    "n"
   ]
  },
  {
   "cell_type": "code",
   "execution_count": 16,
   "metadata": {},
   "outputs": [
    {
     "data": {
      "text/plain": [
       "False"
      ]
     },
     "execution_count": 16,
     "metadata": {},
     "output_type": "execute_result"
    }
   ],
   "source": [
    "np.isnan(reader.readSignal(1).shape).any()"
   ]
  },
  {
   "cell_type": "code",
   "execution_count": 17,
   "metadata": {},
   "outputs": [
    {
     "data": {
      "text/plain": [
       "array([ 26.85548265,  16.78467666,  22.88819544, ..., -44.86086306,\n",
       "       -36.6211127 , -19.83643605])"
      ]
     },
     "execution_count": 17,
     "metadata": {},
     "output_type": "execute_result"
    }
   ],
   "source": [
    "reader.readSignal(2)"
   ]
  },
  {
   "cell_type": "code",
   "execution_count": 18,
   "metadata": {},
   "outputs": [
    {
     "data": {
      "text/plain": [
       "False"
      ]
     },
     "execution_count": 18,
     "metadata": {},
     "output_type": "execute_result"
    }
   ],
   "source": [
    "np.isnan(reader.readSignal(3)).any()"
   ]
  },
  {
   "cell_type": "markdown",
   "metadata": {},
   "source": [
    "## 03_tcp_ar_a\n",
    "Appears similar to 01_tcp_ar but is in different directory for some reason?\n",
    "May need to investigate"
   ]
  },
  {
   "cell_type": "code",
   "execution_count": 19,
   "metadata": {},
   "outputs": [],
   "source": [
    "testfile = \"/mnt/c/Users/sawer/src/dbmi/tuh/v1.5.0/edf/dev_test/03_tcp_ar_a/022/00002297/s003_2007_10_23/00002297_s003_t000.edf\""
   ]
  },
  {
   "cell_type": "code",
   "execution_count": 20,
   "metadata": {},
   "outputs": [],
   "source": [
    "reader1 = edf.EdfReader(testfile)"
   ]
  },
  {
   "cell_type": "code",
   "execution_count": 21,
   "metadata": {},
   "outputs": [
    {
     "data": {
      "text/plain": [
       "[{'label': 'EEG FP1-REF',\n",
       "  'dimension': 'uV',\n",
       "  'sample_rate': 400,\n",
       "  'physical_max': 29483.12,\n",
       "  'physical_min': -29483.1,\n",
       "  'digital_max': 32767,\n",
       "  'digital_min': -32767,\n",
       "  'prefilter': 'HP:-1.000 Hz LP:-2.0 Hz N:0.0',\n",
       "  'transducer': 'EEG'},\n",
       " {'label': 'EEG FP2-REF',\n",
       "  'dimension': 'uV',\n",
       "  'sample_rate': 400,\n",
       "  'physical_max': 29483.12,\n",
       "  'physical_min': -29483.1,\n",
       "  'digital_max': 32767,\n",
       "  'digital_min': -32767,\n",
       "  'prefilter': 'HP:-1.000 Hz LP:-2.0 Hz N:0.0',\n",
       "  'transducer': 'EEG'},\n",
       " {'label': 'EEG F3-REF',\n",
       "  'dimension': 'uV',\n",
       "  'sample_rate': 400,\n",
       "  'physical_max': 29483.12,\n",
       "  'physical_min': -29483.1,\n",
       "  'digital_max': 32767,\n",
       "  'digital_min': -32767,\n",
       "  'prefilter': 'HP:-1.000 Hz LP:-2.0 Hz N:0.0',\n",
       "  'transducer': 'EEG'},\n",
       " {'label': 'EEG F4-REF',\n",
       "  'dimension': 'uV',\n",
       "  'sample_rate': 400,\n",
       "  'physical_max': 29483.12,\n",
       "  'physical_min': -29483.1,\n",
       "  'digital_max': 32767,\n",
       "  'digital_min': -32767,\n",
       "  'prefilter': 'HP:-1.000 Hz LP:-2.0 Hz N:0.0',\n",
       "  'transducer': 'EEG'},\n",
       " {'label': 'EEG C3-REF',\n",
       "  'dimension': 'uV',\n",
       "  'sample_rate': 400,\n",
       "  'physical_max': 29483.12,\n",
       "  'physical_min': -29483.1,\n",
       "  'digital_max': 32767,\n",
       "  'digital_min': -32767,\n",
       "  'prefilter': 'HP:-1.000 Hz LP:-2.0 Hz N:0.0',\n",
       "  'transducer': 'EEG'},\n",
       " {'label': 'EEG C4-REF',\n",
       "  'dimension': 'uV',\n",
       "  'sample_rate': 400,\n",
       "  'physical_max': 29483.12,\n",
       "  'physical_min': -29483.1,\n",
       "  'digital_max': 32767,\n",
       "  'digital_min': -32767,\n",
       "  'prefilter': 'HP:-1.000 Hz LP:-2.0 Hz N:0.0',\n",
       "  'transducer': 'EEG'},\n",
       " {'label': 'EEG P3-REF',\n",
       "  'dimension': 'uV',\n",
       "  'sample_rate': 400,\n",
       "  'physical_max': 29483.12,\n",
       "  'physical_min': -29483.1,\n",
       "  'digital_max': 32767,\n",
       "  'digital_min': -32767,\n",
       "  'prefilter': 'HP:-1.000 Hz LP:-2.0 Hz N:0.0',\n",
       "  'transducer': 'EEG'},\n",
       " {'label': 'EEG P4-REF',\n",
       "  'dimension': 'uV',\n",
       "  'sample_rate': 400,\n",
       "  'physical_max': 29483.12,\n",
       "  'physical_min': -29483.1,\n",
       "  'digital_max': 32767,\n",
       "  'digital_min': -32767,\n",
       "  'prefilter': 'HP:-1.000 Hz LP:-2.0 Hz N:0.0',\n",
       "  'transducer': 'EEG'},\n",
       " {'label': 'EEG O1-REF',\n",
       "  'dimension': 'uV',\n",
       "  'sample_rate': 400,\n",
       "  'physical_max': 29483.12,\n",
       "  'physical_min': -29483.1,\n",
       "  'digital_max': 32767,\n",
       "  'digital_min': -32767,\n",
       "  'prefilter': 'HP:-1.000 Hz LP:-2.0 Hz N:0.0',\n",
       "  'transducer': 'EEG'},\n",
       " {'label': 'EEG O2-REF',\n",
       "  'dimension': 'uV',\n",
       "  'sample_rate': 400,\n",
       "  'physical_max': 29483.12,\n",
       "  'physical_min': -29483.1,\n",
       "  'digital_max': 32767,\n",
       "  'digital_min': -32767,\n",
       "  'prefilter': 'HP:-1.000 Hz LP:-2.0 Hz N:0.0',\n",
       "  'transducer': 'EEG'},\n",
       " {'label': 'EEG F7-REF',\n",
       "  'dimension': 'uV',\n",
       "  'sample_rate': 400,\n",
       "  'physical_max': 29483.12,\n",
       "  'physical_min': -29483.1,\n",
       "  'digital_max': 32767,\n",
       "  'digital_min': -32767,\n",
       "  'prefilter': 'HP:-1.000 Hz LP:-2.0 Hz N:0.0',\n",
       "  'transducer': 'EEG'},\n",
       " {'label': 'EEG F8-REF',\n",
       "  'dimension': 'uV',\n",
       "  'sample_rate': 400,\n",
       "  'physical_max': 29483.12,\n",
       "  'physical_min': -29483.1,\n",
       "  'digital_max': 32767,\n",
       "  'digital_min': -32767,\n",
       "  'prefilter': 'HP:-1.000 Hz LP:-2.0 Hz N:0.0',\n",
       "  'transducer': 'EEG'},\n",
       " {'label': 'EEG T3-REF',\n",
       "  'dimension': 'uV',\n",
       "  'sample_rate': 400,\n",
       "  'physical_max': 29483.12,\n",
       "  'physical_min': -29483.1,\n",
       "  'digital_max': 32767,\n",
       "  'digital_min': -32767,\n",
       "  'prefilter': 'HP:-1.000 Hz LP:-2.0 Hz N:0.0',\n",
       "  'transducer': 'EEG'},\n",
       " {'label': 'EEG T4-REF',\n",
       "  'dimension': 'uV',\n",
       "  'sample_rate': 400,\n",
       "  'physical_max': 29483.12,\n",
       "  'physical_min': -29483.1,\n",
       "  'digital_max': 32767,\n",
       "  'digital_min': -32767,\n",
       "  'prefilter': 'HP:-1.000 Hz LP:-2.0 Hz N:0.0',\n",
       "  'transducer': 'EEG'},\n",
       " {'label': 'EEG T5-REF',\n",
       "  'dimension': 'uV',\n",
       "  'sample_rate': 400,\n",
       "  'physical_max': 29483.12,\n",
       "  'physical_min': -29483.1,\n",
       "  'digital_max': 32767,\n",
       "  'digital_min': -32767,\n",
       "  'prefilter': 'HP:-1.000 Hz LP:-2.0 Hz N:0.0',\n",
       "  'transducer': 'EEG'},\n",
       " {'label': 'EEG T6-REF',\n",
       "  'dimension': 'uV',\n",
       "  'sample_rate': 400,\n",
       "  'physical_max': 29483.12,\n",
       "  'physical_min': -29483.1,\n",
       "  'digital_max': 32767,\n",
       "  'digital_min': -32767,\n",
       "  'prefilter': 'HP:-1.000 Hz LP:-2.0 Hz N:0.0',\n",
       "  'transducer': 'EEG'},\n",
       " {'label': 'EEG FZ-REF',\n",
       "  'dimension': 'uV',\n",
       "  'sample_rate': 400,\n",
       "  'physical_max': 29483.12,\n",
       "  'physical_min': -29483.1,\n",
       "  'digital_max': 32767,\n",
       "  'digital_min': -32767,\n",
       "  'prefilter': 'HP:-1.000 Hz LP:-2.0 Hz N:0.0',\n",
       "  'transducer': 'EEG'},\n",
       " {'label': 'EEG CZ-REF',\n",
       "  'dimension': 'uV',\n",
       "  'sample_rate': 400,\n",
       "  'physical_max': 29483.12,\n",
       "  'physical_min': -29483.1,\n",
       "  'digital_max': 32767,\n",
       "  'digital_min': -32767,\n",
       "  'prefilter': 'HP:-1.000 Hz LP:-2.0 Hz N:0.0',\n",
       "  'transducer': 'EEG'},\n",
       " {'label': 'EEG PZ-REF',\n",
       "  'dimension': 'uV',\n",
       "  'sample_rate': 400,\n",
       "  'physical_max': 29483.12,\n",
       "  'physical_min': -29483.1,\n",
       "  'digital_max': 32767,\n",
       "  'digital_min': -32767,\n",
       "  'prefilter': 'HP:-1.000 Hz LP:-2.0 Hz N:0.0',\n",
       "  'transducer': 'EEG'},\n",
       " {'label': 'EEG 20-REF',\n",
       "  'dimension': 'uV',\n",
       "  'sample_rate': 400,\n",
       "  'physical_max': 29483.12,\n",
       "  'physical_min': -29483.1,\n",
       "  'digital_max': 32767,\n",
       "  'digital_min': -32767,\n",
       "  'prefilter': 'HP:-1.000 Hz LP:-2.0 Hz N:0.0',\n",
       "  'transducer': 'EEG'},\n",
       " {'label': 'EEG 21-REF',\n",
       "  'dimension': 'uV',\n",
       "  'sample_rate': 400,\n",
       "  'physical_max': 29483.12,\n",
       "  'physical_min': -29483.1,\n",
       "  'digital_max': 32767,\n",
       "  'digital_min': -32767,\n",
       "  'prefilter': 'HP:-1.000 Hz LP:-2.0 Hz N:0.0',\n",
       "  'transducer': 'EEG'},\n",
       " {'label': 'EEG 22-REF',\n",
       "  'dimension': 'uV',\n",
       "  'sample_rate': 400,\n",
       "  'physical_max': 29483.12,\n",
       "  'physical_min': -29483.1,\n",
       "  'digital_max': 32767,\n",
       "  'digital_min': -32767,\n",
       "  'prefilter': 'HP:-1.000 Hz LP:-2.0 Hz N:0.0',\n",
       "  'transducer': 'EEG'},\n",
       " {'label': 'EEG 23-REF',\n",
       "  'dimension': 'uV',\n",
       "  'sample_rate': 400,\n",
       "  'physical_max': 29483.12,\n",
       "  'physical_min': -29483.1,\n",
       "  'digital_max': 32767,\n",
       "  'digital_min': -32767,\n",
       "  'prefilter': 'HP:-1.000 Hz LP:-2.0 Hz N:0.0',\n",
       "  'transducer': 'EEG'},\n",
       " {'label': 'EEG 24-REF',\n",
       "  'dimension': 'uV',\n",
       "  'sample_rate': 400,\n",
       "  'physical_max': 29483.12,\n",
       "  'physical_min': -29483.1,\n",
       "  'digital_max': 32767,\n",
       "  'digital_min': -32767,\n",
       "  'prefilter': 'HP:-1.000 Hz LP:-2.0 Hz N:0.0',\n",
       "  'transducer': 'EEG'},\n",
       " {'label': 'EEG 25-REF',\n",
       "  'dimension': 'uV',\n",
       "  'sample_rate': 400,\n",
       "  'physical_max': 29483.12,\n",
       "  'physical_min': -29483.1,\n",
       "  'digital_max': 32767,\n",
       "  'digital_min': -32767,\n",
       "  'prefilter': 'HP:-1.000 Hz LP:-2.0 Hz N:0.0',\n",
       "  'transducer': 'EEG'},\n",
       " {'label': 'EEG 26-REF',\n",
       "  'dimension': 'uV',\n",
       "  'sample_rate': 400,\n",
       "  'physical_max': 29483.12,\n",
       "  'physical_min': -29483.1,\n",
       "  'digital_max': 32767,\n",
       "  'digital_min': -32767,\n",
       "  'prefilter': 'HP:-1.000 Hz LP:-2.0 Hz N:0.0',\n",
       "  'transducer': 'EEG'},\n",
       " {'label': 'EEG 27-REF',\n",
       "  'dimension': 'uV',\n",
       "  'sample_rate': 400,\n",
       "  'physical_max': 29483.12,\n",
       "  'physical_min': -29483.1,\n",
       "  'digital_max': 32767,\n",
       "  'digital_min': -32767,\n",
       "  'prefilter': 'HP:-1.000 Hz LP:-2.0 Hz N:0.0',\n",
       "  'transducer': 'EEG'},\n",
       " {'label': 'EEG 28-REF',\n",
       "  'dimension': 'uV',\n",
       "  'sample_rate': 400,\n",
       "  'physical_max': 29483.12,\n",
       "  'physical_min': -29483.1,\n",
       "  'digital_max': 32767,\n",
       "  'digital_min': -32767,\n",
       "  'prefilter': 'HP:-1.000 Hz LP:-2.0 Hz N:0.0',\n",
       "  'transducer': 'EEG'},\n",
       " {'label': 'EEG 29-REF',\n",
       "  'dimension': 'uV',\n",
       "  'sample_rate': 400,\n",
       "  'physical_max': 29483.12,\n",
       "  'physical_min': -29483.1,\n",
       "  'digital_max': 32767,\n",
       "  'digital_min': -32767,\n",
       "  'prefilter': 'HP:-1.000 Hz LP:-2.0 Hz N:0.0',\n",
       "  'transducer': 'EEG'},\n",
       " {'label': 'EEG 30-REF',\n",
       "  'dimension': 'uV',\n",
       "  'sample_rate': 400,\n",
       "  'physical_max': 29483.12,\n",
       "  'physical_min': -29483.1,\n",
       "  'digital_max': 32767,\n",
       "  'digital_min': -32767,\n",
       "  'prefilter': 'HP:-1.000 Hz LP:-2.0 Hz N:0.0',\n",
       "  'transducer': 'EEG'},\n",
       " {'label': 'EEG 31-REF',\n",
       "  'dimension': 'uV',\n",
       "  'sample_rate': 400,\n",
       "  'physical_max': 29483.12,\n",
       "  'physical_min': -29483.1,\n",
       "  'digital_max': 32767,\n",
       "  'digital_min': -32767,\n",
       "  'prefilter': 'HP:-1.000 Hz LP:-2.0 Hz N:0.0',\n",
       "  'transducer': 'EEG'},\n",
       " {'label': 'EEG 32-REF',\n",
       "  'dimension': 'uV',\n",
       "  'sample_rate': 400,\n",
       "  'physical_max': 29483.12,\n",
       "  'physical_min': -29483.1,\n",
       "  'digital_max': 32767,\n",
       "  'digital_min': -32767,\n",
       "  'prefilter': 'HP:-1.000 Hz LP:-2.0 Hz N:0.0',\n",
       "  'transducer': 'EEG'}]"
      ]
     },
     "execution_count": 21,
     "metadata": {},
     "output_type": "execute_result"
    }
   ],
   "source": [
    "labels = reader1.getSignalHeaders()\n",
    "labels"
   ]
  },
  {
   "cell_type": "code",
   "execution_count": 22,
   "metadata": {},
   "outputs": [
    {
     "data": {
      "text/plain": [
       "32"
      ]
     },
     "execution_count": 22,
     "metadata": {},
     "output_type": "execute_result"
    }
   ],
   "source": [
    "len(labels)"
   ]
  },
  {
   "cell_type": "markdown",
   "metadata": {},
   "source": [
    "# Setting up read function"
   ]
  },
  {
   "cell_type": "code",
   "execution_count": 23,
   "metadata": {},
   "outputs": [],
   "source": [
    "root_dir_path = \"/mnt/c/Users/sawer/src/dbmi/tuh/v1.5.0/edf/train/02_tcp_le/\""
   ]
  },
  {
   "cell_type": "code",
   "execution_count": 24,
   "metadata": {},
   "outputs": [
    {
     "data": {
      "text/plain": [
       "['/mnt/c/Users/sawer/src/dbmi/tuh/v1.5.0/edf/train/02_tcp_le/000',\n",
       " '/mnt/c/Users/sawer/src/dbmi/tuh/v1.5.0/edf/train/02_tcp_le/001',\n",
       " '/mnt/c/Users/sawer/src/dbmi/tuh/v1.5.0/edf/train/02_tcp_le/002',\n",
       " '/mnt/c/Users/sawer/src/dbmi/tuh/v1.5.0/edf/train/02_tcp_le/003',\n",
       " '/mnt/c/Users/sawer/src/dbmi/tuh/v1.5.0/edf/train/02_tcp_le/004']"
      ]
     },
     "execution_count": 24,
     "metadata": {},
     "output_type": "execute_result"
    }
   ],
   "source": [
    "import os.path as path\n",
    "subdirs = os.listdir(root_dir_path)\n",
    "subdirs = [path.join(root_dir_path, subdir) for subdir in subdirs]\n",
    "subdirs[0:5]"
   ]
  },
  {
   "cell_type": "code",
   "execution_count": 25,
   "metadata": {},
   "outputs": [],
   "source": [
    "def get_abs_files(root_dir_path):\n",
    "    \"\"\"\n",
    "    helper func to return full path names. helps with nested structure of\n",
    "        extracted files\n",
    "    \"\"\"\n",
    "    subdirs = os.listdir(root_dir_path)\n",
    "    subdirs = [path.join(root_dir_path, subdir) for subdir in subdirs]\n",
    "    return subdirs"
   ]
  },
  {
   "cell_type": "code",
   "execution_count": 26,
   "metadata": {},
   "outputs": [],
   "source": [
    "subdirs = get_abs_files(root_dir_path)"
   ]
  },
  {
   "cell_type": "code",
   "execution_count": 27,
   "metadata": {},
   "outputs": [
    {
     "data": {
      "text/plain": [
       "['/mnt/c/Users/sawer/src/dbmi/tuh/v1.5.0/edf/train/02_tcp_le/000/00000002',\n",
       " '/mnt/c/Users/sawer/src/dbmi/tuh/v1.5.0/edf/train/02_tcp_le/000/00000017',\n",
       " '/mnt/c/Users/sawer/src/dbmi/tuh/v1.5.0/edf/train/02_tcp_le/000/00000021',\n",
       " '/mnt/c/Users/sawer/src/dbmi/tuh/v1.5.0/edf/train/02_tcp_le/000/00000032',\n",
       " '/mnt/c/Users/sawer/src/dbmi/tuh/v1.5.0/edf/train/02_tcp_le/000/00000054',\n",
       " '/mnt/c/Users/sawer/src/dbmi/tuh/v1.5.0/edf/train/02_tcp_le/000/00000077']"
      ]
     },
     "execution_count": 27,
     "metadata": {},
     "output_type": "execute_result"
    }
   ],
   "source": [
    "subsubdirs = get_abs_files(subdirs[0])\n",
    "subsubdirs"
   ]
  },
  {
   "cell_type": "code",
   "execution_count": 28,
   "metadata": {},
   "outputs": [
    {
     "data": {
      "text/plain": [
       "['/mnt/c/Users/sawer/src/dbmi/tuh/v1.5.0/edf/train/02_tcp_le/000/00000002/s001_2002_12_23',\n",
       " '/mnt/c/Users/sawer/src/dbmi/tuh/v1.5.0/edf/train/02_tcp_le/000/00000002/s002_2002_12_23',\n",
       " '/mnt/c/Users/sawer/src/dbmi/tuh/v1.5.0/edf/train/02_tcp_le/000/00000002/s004_2002_12_26',\n",
       " '/mnt/c/Users/sawer/src/dbmi/tuh/v1.5.0/edf/train/02_tcp_le/000/00000002/s005_2002_12_27']"
      ]
     },
     "execution_count": 28,
     "metadata": {},
     "output_type": "execute_result"
    }
   ],
   "source": [
    "get_abs_files(subsubdirs[0])"
   ]
  },
  {
   "cell_type": "code",
   "execution_count": 29,
   "metadata": {},
   "outputs": [],
   "source": [
    "import itertools\n",
    "import os.path as path\n",
    "\n",
    "subpaths = list(itertools.chain.from_iterable([os.listdir(path.join(root_dir_path, subdir)) for subdir in subdirs]))\n",
    "fullpaths = list([root_dir_path])"
   ]
  },
  {
   "cell_type": "code",
   "execution_count": 30,
   "metadata": {},
   "outputs": [],
   "source": [
    "from importlib import reload"
   ]
  },
  {
   "cell_type": "code",
   "execution_count": 7,
   "metadata": {},
   "outputs": [
    {
     "data": {
      "text/plain": [
       "<module 'data_reader' from '/home/ms994/dbmi_eeg_clustering/data_reader.py'>"
      ]
     },
     "execution_count": 7,
     "metadata": {},
     "output_type": "execute_result"
    }
   ],
   "source": [
    "import util_funcs\n",
    "import itertools\n",
    "reload(util_funcs)\n",
    "import data_reader as read\n",
    "reload(read)"
   ]
  },
  {
   "cell_type": "code",
   "execution_count": 32,
   "metadata": {},
   "outputs": [
    {
     "data": {
      "text/plain": [
       "['00000258', '00000629', '00001027', '00001278', '00002289']"
      ]
     },
     "execution_count": 32,
     "metadata": {},
     "output_type": "execute_result"
    }
   ],
   "source": [
    "pat_dir_names = read.get_patient_dir_names(\"dev_test\", \"01_tcp_ar\", full_path=False)\n",
    "pat_dir_names[0:5]"
   ]
  },
  {
   "cell_type": "code",
   "execution_count": 33,
   "metadata": {},
   "outputs": [
    {
     "data": {
      "text/plain": [
       "['/mnt/c/Users/sawer/src/dbmi/tuh/v1.5.0/edf/dev_test/01_tcp_ar/002/00000258/s002_2003_07_21',\n",
       " '/mnt/c/Users/sawer/src/dbmi/tuh/v1.5.0/edf/dev_test/01_tcp_ar/002/00000258/s003_2003_07_22',\n",
       " '/mnt/c/Users/sawer/src/dbmi/tuh/v1.5.0/edf/dev_test/01_tcp_ar/006/00000629/s003_2003_07_23',\n",
       " '/mnt/c/Users/sawer/src/dbmi/tuh/v1.5.0/edf/dev_test/01_tcp_ar/006/00000629/s004_2003_07_24',\n",
       " '/mnt/c/Users/sawer/src/dbmi/tuh/v1.5.0/edf/dev_test/01_tcp_ar/010/00001027/s003_2004_01_29']"
      ]
     },
     "execution_count": 33,
     "metadata": {},
     "output_type": "execute_result"
    }
   ],
   "source": [
    "session_dir_names = read.get_session_dir_names(\"dev_test\", \"01_tcp_ar\")\n",
    "session_dir_names[0:5]"
   ]
  },
  {
   "cell_type": "code",
   "execution_count": 34,
   "metadata": {},
   "outputs": [
    {
     "data": {
      "text/plain": [
       "['/mnt/c/Users/sawer/src/dbmi/tuh/v1.5.0/edf/dev_test/01_tcp_ar/002/00000258/s002_2003_07_21/00000258_s002.txt',\n",
       " '/mnt/c/Users/sawer/src/dbmi/tuh/v1.5.0/edf/dev_test/01_tcp_ar/002/00000258/s002_2003_07_21/00000258_s002_t000.edf',\n",
       " '/mnt/c/Users/sawer/src/dbmi/tuh/v1.5.0/edf/dev_test/01_tcp_ar/002/00000258/s002_2003_07_21/00000258_s002_t000.lbl',\n",
       " '/mnt/c/Users/sawer/src/dbmi/tuh/v1.5.0/edf/dev_test/01_tcp_ar/002/00000258/s002_2003_07_21/00000258_s002_t000.lbl_bi',\n",
       " '/mnt/c/Users/sawer/src/dbmi/tuh/v1.5.0/edf/dev_test/01_tcp_ar/002/00000258/s002_2003_07_21/00000258_s002_t000.tse',\n",
       " '/mnt/c/Users/sawer/src/dbmi/tuh/v1.5.0/edf/dev_test/01_tcp_ar/002/00000258/s002_2003_07_21/00000258_s002_t000.tse_bi',\n",
       " '/mnt/c/Users/sawer/src/dbmi/tuh/v1.5.0/edf/dev_test/01_tcp_ar/002/00000258/s002_2003_07_21/00000258_s002_t002.edf',\n",
       " '/mnt/c/Users/sawer/src/dbmi/tuh/v1.5.0/edf/dev_test/01_tcp_ar/002/00000258/s002_2003_07_21/00000258_s002_t002.lbl',\n",
       " '/mnt/c/Users/sawer/src/dbmi/tuh/v1.5.0/edf/dev_test/01_tcp_ar/002/00000258/s002_2003_07_21/00000258_s002_t002.lbl_bi',\n",
       " '/mnt/c/Users/sawer/src/dbmi/tuh/v1.5.0/edf/dev_test/01_tcp_ar/002/00000258/s002_2003_07_21/00000258_s002_t002.tse',\n",
       " '/mnt/c/Users/sawer/src/dbmi/tuh/v1.5.0/edf/dev_test/01_tcp_ar/002/00000258/s002_2003_07_21/00000258_s002_t002.tse_bi']"
      ]
     },
     "execution_count": 34,
     "metadata": {},
     "output_type": "execute_result"
    }
   ],
   "source": [
    "filepaths = util_funcs.get_abs_files(session_dir_names[0])\n",
    "filepaths"
   ]
  },
  {
   "cell_type": "code",
   "execution_count": 32,
   "metadata": {},
   "outputs": [],
   "source": [
    "token_fns = read.get_all_token_file_names(\"train\", \"02_tcp_le\")"
   ]
  },
  {
   "cell_type": "code",
   "execution_count": 36,
   "metadata": {},
   "outputs": [],
   "source": [
    "machines  = set()\n",
    "for fn in token_fns:\n",
    "    with edf.EdfReader(fn, check_file_size=edf.DO_NOT_CHECK_FILE_SIZE) as reader:\n",
    "        machines.add(reader.getEquipment())"
   ]
  },
  {
   "cell_type": "code",
   "execution_count": 37,
   "metadata": {},
   "outputs": [
    {
     "data": {
      "text/plain": [
       "{''}"
      ]
     },
     "execution_count": 37,
     "metadata": {},
     "output_type": "execute_result"
    }
   ],
   "source": [
    "machines"
   ]
  },
  {
   "cell_type": "code",
   "execution_count": 22,
   "metadata": {},
   "outputs": [],
   "source": [
    "reader = edf.EdfReader(token_fns[0], check_file_size=edf.DO_NOT_CHECK_FILE_SIZE) "
   ]
  },
  {
   "cell_type": "code",
   "execution_count": 29,
   "metadata": {},
   "outputs": [
    {
     "name": "stdout",
     "output_type": "stream",
     "text": [
      "\n"
     ]
    }
   ],
   "source": [
    "print(reader.getTechnician())\n",
    "reader._close()"
   ]
  },
  {
   "cell_type": "code",
   "execution_count": 6,
   "metadata": {},
   "outputs": [
    {
     "data": {
      "text/plain": [
       "b''"
      ]
     },
     "execution_count": 6,
     "metadata": {},
     "output_type": "execute_result"
    }
   ],
   "source": [
    "reader.equipment"
   ]
  },
  {
   "cell_type": "code",
   "execution_count": 36,
   "metadata": {},
   "outputs": [
    {
     "data": {
      "text/plain": [
       "[{'label': 'EEG FP1-REF',\n",
       "  'dimension': 'uV',\n",
       "  'sample_rate': 400,\n",
       "  'physical_max': 29483.12,\n",
       "  'physical_min': -29483.1,\n",
       "  'digital_max': 32767,\n",
       "  'digital_min': -32767,\n",
       "  'prefilter': 'HP:-1.000 Hz LP:-2.0 Hz N:0.0',\n",
       "  'transducer': 'EEG'},\n",
       " {'label': 'EEG FP2-REF',\n",
       "  'dimension': 'uV',\n",
       "  'sample_rate': 400,\n",
       "  'physical_max': 29483.12,\n",
       "  'physical_min': -29483.1,\n",
       "  'digital_max': 32767,\n",
       "  'digital_min': -32767,\n",
       "  'prefilter': 'HP:-1.000 Hz LP:-2.0 Hz N:0.0',\n",
       "  'transducer': 'EEG'},\n",
       " {'label': 'EEG F3-REF',\n",
       "  'dimension': 'uV',\n",
       "  'sample_rate': 400,\n",
       "  'physical_max': 29483.12,\n",
       "  'physical_min': -29483.1,\n",
       "  'digital_max': 32767,\n",
       "  'digital_min': -32767,\n",
       "  'prefilter': 'HP:-1.000 Hz LP:-2.0 Hz N:0.0',\n",
       "  'transducer': 'EEG'},\n",
       " {'label': 'EEG F4-REF',\n",
       "  'dimension': 'uV',\n",
       "  'sample_rate': 400,\n",
       "  'physical_max': 29483.12,\n",
       "  'physical_min': -29483.1,\n",
       "  'digital_max': 32767,\n",
       "  'digital_min': -32767,\n",
       "  'prefilter': 'HP:-1.000 Hz LP:-2.0 Hz N:0.0',\n",
       "  'transducer': 'EEG'},\n",
       " {'label': 'EEG C3-REF',\n",
       "  'dimension': 'uV',\n",
       "  'sample_rate': 400,\n",
       "  'physical_max': 29483.12,\n",
       "  'physical_min': -29483.1,\n",
       "  'digital_max': 32767,\n",
       "  'digital_min': -32767,\n",
       "  'prefilter': 'HP:-1.000 Hz LP:-2.0 Hz N:0.0',\n",
       "  'transducer': 'EEG'},\n",
       " {'label': 'EEG C4-REF',\n",
       "  'dimension': 'uV',\n",
       "  'sample_rate': 400,\n",
       "  'physical_max': 29483.12,\n",
       "  'physical_min': -29483.1,\n",
       "  'digital_max': 32767,\n",
       "  'digital_min': -32767,\n",
       "  'prefilter': 'HP:-1.000 Hz LP:-2.0 Hz N:0.0',\n",
       "  'transducer': 'EEG'},\n",
       " {'label': 'EEG P3-REF',\n",
       "  'dimension': 'uV',\n",
       "  'sample_rate': 400,\n",
       "  'physical_max': 29483.12,\n",
       "  'physical_min': -29483.1,\n",
       "  'digital_max': 32767,\n",
       "  'digital_min': -32767,\n",
       "  'prefilter': 'HP:-1.000 Hz LP:-2.0 Hz N:0.0',\n",
       "  'transducer': 'EEG'},\n",
       " {'label': 'EEG P4-REF',\n",
       "  'dimension': 'uV',\n",
       "  'sample_rate': 400,\n",
       "  'physical_max': 29483.12,\n",
       "  'physical_min': -29483.1,\n",
       "  'digital_max': 32767,\n",
       "  'digital_min': -32767,\n",
       "  'prefilter': 'HP:-1.000 Hz LP:-2.0 Hz N:0.0',\n",
       "  'transducer': 'EEG'},\n",
       " {'label': 'EEG O1-REF',\n",
       "  'dimension': 'uV',\n",
       "  'sample_rate': 400,\n",
       "  'physical_max': 29483.12,\n",
       "  'physical_min': -29483.1,\n",
       "  'digital_max': 32767,\n",
       "  'digital_min': -32767,\n",
       "  'prefilter': 'HP:-1.000 Hz LP:-2.0 Hz N:0.0',\n",
       "  'transducer': 'EEG'},\n",
       " {'label': 'EEG O2-REF',\n",
       "  'dimension': 'uV',\n",
       "  'sample_rate': 400,\n",
       "  'physical_max': 29483.12,\n",
       "  'physical_min': -29483.1,\n",
       "  'digital_max': 32767,\n",
       "  'digital_min': -32767,\n",
       "  'prefilter': 'HP:-1.000 Hz LP:-2.0 Hz N:0.0',\n",
       "  'transducer': 'EEG'},\n",
       " {'label': 'EEG F7-REF',\n",
       "  'dimension': 'uV',\n",
       "  'sample_rate': 400,\n",
       "  'physical_max': 29483.12,\n",
       "  'physical_min': -29483.1,\n",
       "  'digital_max': 32767,\n",
       "  'digital_min': -32767,\n",
       "  'prefilter': 'HP:-1.000 Hz LP:-2.0 Hz N:0.0',\n",
       "  'transducer': 'EEG'},\n",
       " {'label': 'EEG F8-REF',\n",
       "  'dimension': 'uV',\n",
       "  'sample_rate': 400,\n",
       "  'physical_max': 29483.12,\n",
       "  'physical_min': -29483.1,\n",
       "  'digital_max': 32767,\n",
       "  'digital_min': -32767,\n",
       "  'prefilter': 'HP:-1.000 Hz LP:-2.0 Hz N:0.0',\n",
       "  'transducer': 'EEG'},\n",
       " {'label': 'EEG T3-REF',\n",
       "  'dimension': 'uV',\n",
       "  'sample_rate': 400,\n",
       "  'physical_max': 29483.12,\n",
       "  'physical_min': -29483.1,\n",
       "  'digital_max': 32767,\n",
       "  'digital_min': -32767,\n",
       "  'prefilter': 'HP:-1.000 Hz LP:-2.0 Hz N:0.0',\n",
       "  'transducer': 'EEG'},\n",
       " {'label': 'EEG T4-REF',\n",
       "  'dimension': 'uV',\n",
       "  'sample_rate': 400,\n",
       "  'physical_max': 29483.12,\n",
       "  'physical_min': -29483.1,\n",
       "  'digital_max': 32767,\n",
       "  'digital_min': -32767,\n",
       "  'prefilter': 'HP:-1.000 Hz LP:-2.0 Hz N:0.0',\n",
       "  'transducer': 'EEG'},\n",
       " {'label': 'EEG T5-REF',\n",
       "  'dimension': 'uV',\n",
       "  'sample_rate': 400,\n",
       "  'physical_max': 29483.12,\n",
       "  'physical_min': -29483.1,\n",
       "  'digital_max': 32767,\n",
       "  'digital_min': -32767,\n",
       "  'prefilter': 'HP:-1.000 Hz LP:-2.0 Hz N:0.0',\n",
       "  'transducer': 'EEG'},\n",
       " {'label': 'EEG T6-REF',\n",
       "  'dimension': 'uV',\n",
       "  'sample_rate': 400,\n",
       "  'physical_max': 29483.12,\n",
       "  'physical_min': -29483.1,\n",
       "  'digital_max': 32767,\n",
       "  'digital_min': -32767,\n",
       "  'prefilter': 'HP:-1.000 Hz LP:-2.0 Hz N:0.0',\n",
       "  'transducer': 'EEG'},\n",
       " {'label': 'EEG FZ-REF',\n",
       "  'dimension': 'uV',\n",
       "  'sample_rate': 400,\n",
       "  'physical_max': 29483.12,\n",
       "  'physical_min': -29483.1,\n",
       "  'digital_max': 32767,\n",
       "  'digital_min': -32767,\n",
       "  'prefilter': 'HP:-1.000 Hz LP:-2.0 Hz N:0.0',\n",
       "  'transducer': 'EEG'},\n",
       " {'label': 'EEG CZ-REF',\n",
       "  'dimension': 'uV',\n",
       "  'sample_rate': 400,\n",
       "  'physical_max': 29483.12,\n",
       "  'physical_min': -29483.1,\n",
       "  'digital_max': 32767,\n",
       "  'digital_min': -32767,\n",
       "  'prefilter': 'HP:-1.000 Hz LP:-2.0 Hz N:0.0',\n",
       "  'transducer': 'EEG'},\n",
       " {'label': 'EEG PZ-REF',\n",
       "  'dimension': 'uV',\n",
       "  'sample_rate': 400,\n",
       "  'physical_max': 29483.12,\n",
       "  'physical_min': -29483.1,\n",
       "  'digital_max': 32767,\n",
       "  'digital_min': -32767,\n",
       "  'prefilter': 'HP:-1.000 Hz LP:-2.0 Hz N:0.0',\n",
       "  'transducer': 'EEG'},\n",
       " {'label': 'EEG EKG-REF',\n",
       "  'dimension': 'uV',\n",
       "  'sample_rate': 400,\n",
       "  'physical_max': 29483.12,\n",
       "  'physical_min': -29483.1,\n",
       "  'digital_max': 32767,\n",
       "  'digital_min': -32767,\n",
       "  'prefilter': 'HP:-1.000 Hz LP:-2.0 Hz N:0.0',\n",
       "  'transducer': 'EEG'},\n",
       " {'label': 'EEG A1-REF',\n",
       "  'dimension': 'uV',\n",
       "  'sample_rate': 400,\n",
       "  'physical_max': 29483.12,\n",
       "  'physical_min': -29483.1,\n",
       "  'digital_max': 32767,\n",
       "  'digital_min': -32767,\n",
       "  'prefilter': 'HP:-1.000 Hz LP:-2.0 Hz N:0.0',\n",
       "  'transducer': 'EEG'},\n",
       " {'label': 'EEG A2-REF',\n",
       "  'dimension': 'uV',\n",
       "  'sample_rate': 400,\n",
       "  'physical_max': 29483.12,\n",
       "  'physical_min': -29483.1,\n",
       "  'digital_max': 32767,\n",
       "  'digital_min': -32767,\n",
       "  'prefilter': 'HP:-1.000 Hz LP:-2.0 Hz N:0.0',\n",
       "  'transducer': 'EEG'},\n",
       " {'label': 'EEG T1-REF',\n",
       "  'dimension': 'uV',\n",
       "  'sample_rate': 400,\n",
       "  'physical_max': 29483.12,\n",
       "  'physical_min': -29483.1,\n",
       "  'digital_max': 32767,\n",
       "  'digital_min': -32767,\n",
       "  'prefilter': 'HP:-1.000 Hz LP:-2.0 Hz N:0.0',\n",
       "  'transducer': 'EEG'},\n",
       " {'label': 'EEG T2-REF',\n",
       "  'dimension': 'uV',\n",
       "  'sample_rate': 400,\n",
       "  'physical_max': 29483.12,\n",
       "  'physical_min': -29483.1,\n",
       "  'digital_max': 32767,\n",
       "  'digital_min': -32767,\n",
       "  'prefilter': 'HP:-1.000 Hz LP:-2.0 Hz N:0.0',\n",
       "  'transducer': 'EEG'},\n",
       " {'label': 'EEG SP1-REF',\n",
       "  'dimension': 'uV',\n",
       "  'sample_rate': 400,\n",
       "  'physical_max': 29483.12,\n",
       "  'physical_min': -29483.1,\n",
       "  'digital_max': 32767,\n",
       "  'digital_min': -32767,\n",
       "  'prefilter': 'HP:-1.000 Hz LP:-2.0 Hz N:0.0',\n",
       "  'transducer': 'EEG'},\n",
       " {'label': 'EEG SP2-REF',\n",
       "  'dimension': 'uV',\n",
       "  'sample_rate': 400,\n",
       "  'physical_max': 29483.12,\n",
       "  'physical_min': -29483.1,\n",
       "  'digital_max': 32767,\n",
       "  'digital_min': -32767,\n",
       "  'prefilter': 'HP:-1.000 Hz LP:-2.0 Hz N:0.0',\n",
       "  'transducer': 'EEG'},\n",
       " {'label': 'EEG LUC-REF',\n",
       "  'dimension': 'uV',\n",
       "  'sample_rate': 400,\n",
       "  'physical_max': 29483.12,\n",
       "  'physical_min': -29483.1,\n",
       "  'digital_max': 32767,\n",
       "  'digital_min': -32767,\n",
       "  'prefilter': 'HP:-1.000 Hz LP:-2.0 Hz N:0.0',\n",
       "  'transducer': 'EEG'},\n",
       " {'label': 'EEG RLC-REF',\n",
       "  'dimension': 'uV',\n",
       "  'sample_rate': 400,\n",
       "  'physical_max': 29483.12,\n",
       "  'physical_min': -29483.1,\n",
       "  'digital_max': 32767,\n",
       "  'digital_min': -32767,\n",
       "  'prefilter': 'HP:-1.000 Hz LP:-2.0 Hz N:0.0',\n",
       "  'transducer': 'EEG'},\n",
       " {'label': 'EEG RESP1-REF',\n",
       "  'dimension': 'uV',\n",
       "  'sample_rate': 400,\n",
       "  'physical_max': 29483.12,\n",
       "  'physical_min': -29483.1,\n",
       "  'digital_max': 32767,\n",
       "  'digital_min': -32767,\n",
       "  'prefilter': 'HP:-1.000 Hz LP:-2.0 Hz N:0.0',\n",
       "  'transducer': 'EEG'},\n",
       " {'label': 'EEG RESP2-REF',\n",
       "  'dimension': 'uV',\n",
       "  'sample_rate': 400,\n",
       "  'physical_max': 29483.12,\n",
       "  'physical_min': -29483.1,\n",
       "  'digital_max': 32767,\n",
       "  'digital_min': -32767,\n",
       "  'prefilter': 'HP:-1.000 Hz LP:-2.0 Hz N:0.0',\n",
       "  'transducer': 'EEG'},\n",
       " {'label': 'EEG 31-REF',\n",
       "  'dimension': 'uV',\n",
       "  'sample_rate': 400,\n",
       "  'physical_max': 29483.12,\n",
       "  'physical_min': -29483.1,\n",
       "  'digital_max': 32767,\n",
       "  'digital_min': -32767,\n",
       "  'prefilter': 'HP:-1.000 Hz LP:-2.0 Hz N:0.0',\n",
       "  'transducer': 'EEG'},\n",
       " {'label': 'EEG 32-REF',\n",
       "  'dimension': 'uV',\n",
       "  'sample_rate': 400,\n",
       "  'physical_max': 29483.12,\n",
       "  'physical_min': -29483.1,\n",
       "  'digital_max': 32767,\n",
       "  'digital_min': -32767,\n",
       "  'prefilter': 'HP:-1.000 Hz LP:-2.0 Hz N:0.0',\n",
       "  'transducer': 'EEG'}]"
      ]
     },
     "execution_count": 36,
     "metadata": {},
     "output_type": "execute_result"
    }
   ],
   "source": [
    "reader2.getSignalHeaders()"
   ]
  },
  {
   "cell_type": "code",
   "execution_count": 37,
   "metadata": {},
   "outputs": [
    {
     "data": {
      "text/plain": [
       "datetime.datetime(2003, 7, 21, 17, 13, 15)"
      ]
     },
     "execution_count": 37,
     "metadata": {},
     "output_type": "execute_result"
    }
   ],
   "source": [
    "reader2.getStartdatetime()"
   ]
  },
  {
   "cell_type": "code",
   "execution_count": 38,
   "metadata": {},
   "outputs": [
    {
     "data": {
      "text/plain": [
       "[{'label': 'EEG FP1-REF',\n",
       "  'dimension': 'uV',\n",
       "  'sample_rate': 400,\n",
       "  'physical_max': 29483.12,\n",
       "  'physical_min': -29483.1,\n",
       "  'digital_max': 32767,\n",
       "  'digital_min': -32767,\n",
       "  'prefilter': 'HP:-1.000 Hz LP:-2.0 Hz N:0.0',\n",
       "  'transducer': 'EEG'},\n",
       " {'label': 'EEG FP2-REF',\n",
       "  'dimension': 'uV',\n",
       "  'sample_rate': 400,\n",
       "  'physical_max': 29483.12,\n",
       "  'physical_min': -29483.1,\n",
       "  'digital_max': 32767,\n",
       "  'digital_min': -32767,\n",
       "  'prefilter': 'HP:-1.000 Hz LP:-2.0 Hz N:0.0',\n",
       "  'transducer': 'EEG'},\n",
       " {'label': 'EEG F3-REF',\n",
       "  'dimension': 'uV',\n",
       "  'sample_rate': 400,\n",
       "  'physical_max': 29483.12,\n",
       "  'physical_min': -29483.1,\n",
       "  'digital_max': 32767,\n",
       "  'digital_min': -32767,\n",
       "  'prefilter': 'HP:-1.000 Hz LP:-2.0 Hz N:0.0',\n",
       "  'transducer': 'EEG'},\n",
       " {'label': 'EEG F4-REF',\n",
       "  'dimension': 'uV',\n",
       "  'sample_rate': 400,\n",
       "  'physical_max': 29483.12,\n",
       "  'physical_min': -29483.1,\n",
       "  'digital_max': 32767,\n",
       "  'digital_min': -32767,\n",
       "  'prefilter': 'HP:-1.000 Hz LP:-2.0 Hz N:0.0',\n",
       "  'transducer': 'EEG'},\n",
       " {'label': 'EEG C3-REF',\n",
       "  'dimension': 'uV',\n",
       "  'sample_rate': 400,\n",
       "  'physical_max': 29483.12,\n",
       "  'physical_min': -29483.1,\n",
       "  'digital_max': 32767,\n",
       "  'digital_min': -32767,\n",
       "  'prefilter': 'HP:-1.000 Hz LP:-2.0 Hz N:0.0',\n",
       "  'transducer': 'EEG'},\n",
       " {'label': 'EEG C4-REF',\n",
       "  'dimension': 'uV',\n",
       "  'sample_rate': 400,\n",
       "  'physical_max': 29483.12,\n",
       "  'physical_min': -29483.1,\n",
       "  'digital_max': 32767,\n",
       "  'digital_min': -32767,\n",
       "  'prefilter': 'HP:-1.000 Hz LP:-2.0 Hz N:0.0',\n",
       "  'transducer': 'EEG'},\n",
       " {'label': 'EEG P3-REF',\n",
       "  'dimension': 'uV',\n",
       "  'sample_rate': 400,\n",
       "  'physical_max': 29483.12,\n",
       "  'physical_min': -29483.1,\n",
       "  'digital_max': 32767,\n",
       "  'digital_min': -32767,\n",
       "  'prefilter': 'HP:-1.000 Hz LP:-2.0 Hz N:0.0',\n",
       "  'transducer': 'EEG'},\n",
       " {'label': 'EEG P4-REF',\n",
       "  'dimension': 'uV',\n",
       "  'sample_rate': 400,\n",
       "  'physical_max': 29483.12,\n",
       "  'physical_min': -29483.1,\n",
       "  'digital_max': 32767,\n",
       "  'digital_min': -32767,\n",
       "  'prefilter': 'HP:-1.000 Hz LP:-2.0 Hz N:0.0',\n",
       "  'transducer': 'EEG'},\n",
       " {'label': 'EEG O1-REF',\n",
       "  'dimension': 'uV',\n",
       "  'sample_rate': 400,\n",
       "  'physical_max': 29483.12,\n",
       "  'physical_min': -29483.1,\n",
       "  'digital_max': 32767,\n",
       "  'digital_min': -32767,\n",
       "  'prefilter': 'HP:-1.000 Hz LP:-2.0 Hz N:0.0',\n",
       "  'transducer': 'EEG'},\n",
       " {'label': 'EEG O2-REF',\n",
       "  'dimension': 'uV',\n",
       "  'sample_rate': 400,\n",
       "  'physical_max': 29483.12,\n",
       "  'physical_min': -29483.1,\n",
       "  'digital_max': 32767,\n",
       "  'digital_min': -32767,\n",
       "  'prefilter': 'HP:-1.000 Hz LP:-2.0 Hz N:0.0',\n",
       "  'transducer': 'EEG'},\n",
       " {'label': 'EEG F7-REF',\n",
       "  'dimension': 'uV',\n",
       "  'sample_rate': 400,\n",
       "  'physical_max': 29483.12,\n",
       "  'physical_min': -29483.1,\n",
       "  'digital_max': 32767,\n",
       "  'digital_min': -32767,\n",
       "  'prefilter': 'HP:-1.000 Hz LP:-2.0 Hz N:0.0',\n",
       "  'transducer': 'EEG'},\n",
       " {'label': 'EEG F8-REF',\n",
       "  'dimension': 'uV',\n",
       "  'sample_rate': 400,\n",
       "  'physical_max': 29483.12,\n",
       "  'physical_min': -29483.1,\n",
       "  'digital_max': 32767,\n",
       "  'digital_min': -32767,\n",
       "  'prefilter': 'HP:-1.000 Hz LP:-2.0 Hz N:0.0',\n",
       "  'transducer': 'EEG'},\n",
       " {'label': 'EEG T3-REF',\n",
       "  'dimension': 'uV',\n",
       "  'sample_rate': 400,\n",
       "  'physical_max': 29483.12,\n",
       "  'physical_min': -29483.1,\n",
       "  'digital_max': 32767,\n",
       "  'digital_min': -32767,\n",
       "  'prefilter': 'HP:-1.000 Hz LP:-2.0 Hz N:0.0',\n",
       "  'transducer': 'EEG'},\n",
       " {'label': 'EEG T4-REF',\n",
       "  'dimension': 'uV',\n",
       "  'sample_rate': 400,\n",
       "  'physical_max': 29483.12,\n",
       "  'physical_min': -29483.1,\n",
       "  'digital_max': 32767,\n",
       "  'digital_min': -32767,\n",
       "  'prefilter': 'HP:-1.000 Hz LP:-2.0 Hz N:0.0',\n",
       "  'transducer': 'EEG'},\n",
       " {'label': 'EEG T5-REF',\n",
       "  'dimension': 'uV',\n",
       "  'sample_rate': 400,\n",
       "  'physical_max': 29483.12,\n",
       "  'physical_min': -29483.1,\n",
       "  'digital_max': 32767,\n",
       "  'digital_min': -32767,\n",
       "  'prefilter': 'HP:-1.000 Hz LP:-2.0 Hz N:0.0',\n",
       "  'transducer': 'EEG'},\n",
       " {'label': 'EEG T6-REF',\n",
       "  'dimension': 'uV',\n",
       "  'sample_rate': 400,\n",
       "  'physical_max': 29483.12,\n",
       "  'physical_min': -29483.1,\n",
       "  'digital_max': 32767,\n",
       "  'digital_min': -32767,\n",
       "  'prefilter': 'HP:-1.000 Hz LP:-2.0 Hz N:0.0',\n",
       "  'transducer': 'EEG'},\n",
       " {'label': 'EEG FZ-REF',\n",
       "  'dimension': 'uV',\n",
       "  'sample_rate': 400,\n",
       "  'physical_max': 29483.12,\n",
       "  'physical_min': -29483.1,\n",
       "  'digital_max': 32767,\n",
       "  'digital_min': -32767,\n",
       "  'prefilter': 'HP:-1.000 Hz LP:-2.0 Hz N:0.0',\n",
       "  'transducer': 'EEG'},\n",
       " {'label': 'EEG CZ-REF',\n",
       "  'dimension': 'uV',\n",
       "  'sample_rate': 400,\n",
       "  'physical_max': 29483.12,\n",
       "  'physical_min': -29483.1,\n",
       "  'digital_max': 32767,\n",
       "  'digital_min': -32767,\n",
       "  'prefilter': 'HP:-1.000 Hz LP:-2.0 Hz N:0.0',\n",
       "  'transducer': 'EEG'},\n",
       " {'label': 'EEG PZ-REF',\n",
       "  'dimension': 'uV',\n",
       "  'sample_rate': 400,\n",
       "  'physical_max': 29483.12,\n",
       "  'physical_min': -29483.1,\n",
       "  'digital_max': 32767,\n",
       "  'digital_min': -32767,\n",
       "  'prefilter': 'HP:-1.000 Hz LP:-2.0 Hz N:0.0',\n",
       "  'transducer': 'EEG'},\n",
       " {'label': 'EEG EKG-REF',\n",
       "  'dimension': 'uV',\n",
       "  'sample_rate': 400,\n",
       "  'physical_max': 29483.12,\n",
       "  'physical_min': -29483.1,\n",
       "  'digital_max': 32767,\n",
       "  'digital_min': -32767,\n",
       "  'prefilter': 'HP:-1.000 Hz LP:-2.0 Hz N:0.0',\n",
       "  'transducer': 'EEG'},\n",
       " {'label': 'EEG A1-REF',\n",
       "  'dimension': 'uV',\n",
       "  'sample_rate': 400,\n",
       "  'physical_max': 29483.12,\n",
       "  'physical_min': -29483.1,\n",
       "  'digital_max': 32767,\n",
       "  'digital_min': -32767,\n",
       "  'prefilter': 'HP:-1.000 Hz LP:-2.0 Hz N:0.0',\n",
       "  'transducer': 'EEG'},\n",
       " {'label': 'EEG A2-REF',\n",
       "  'dimension': 'uV',\n",
       "  'sample_rate': 400,\n",
       "  'physical_max': 29483.12,\n",
       "  'physical_min': -29483.1,\n",
       "  'digital_max': 32767,\n",
       "  'digital_min': -32767,\n",
       "  'prefilter': 'HP:-1.000 Hz LP:-2.0 Hz N:0.0',\n",
       "  'transducer': 'EEG'},\n",
       " {'label': 'EEG T1-REF',\n",
       "  'dimension': 'uV',\n",
       "  'sample_rate': 400,\n",
       "  'physical_max': 29483.12,\n",
       "  'physical_min': -29483.1,\n",
       "  'digital_max': 32767,\n",
       "  'digital_min': -32767,\n",
       "  'prefilter': 'HP:-1.000 Hz LP:-2.0 Hz N:0.0',\n",
       "  'transducer': 'EEG'},\n",
       " {'label': 'EEG T2-REF',\n",
       "  'dimension': 'uV',\n",
       "  'sample_rate': 400,\n",
       "  'physical_max': 29483.12,\n",
       "  'physical_min': -29483.1,\n",
       "  'digital_max': 32767,\n",
       "  'digital_min': -32767,\n",
       "  'prefilter': 'HP:-1.000 Hz LP:-2.0 Hz N:0.0',\n",
       "  'transducer': 'EEG'},\n",
       " {'label': 'EEG SP1-REF',\n",
       "  'dimension': 'uV',\n",
       "  'sample_rate': 400,\n",
       "  'physical_max': 29483.12,\n",
       "  'physical_min': -29483.1,\n",
       "  'digital_max': 32767,\n",
       "  'digital_min': -32767,\n",
       "  'prefilter': 'HP:-1.000 Hz LP:-2.0 Hz N:0.0',\n",
       "  'transducer': 'EEG'},\n",
       " {'label': 'EEG SP2-REF',\n",
       "  'dimension': 'uV',\n",
       "  'sample_rate': 400,\n",
       "  'physical_max': 29483.12,\n",
       "  'physical_min': -29483.1,\n",
       "  'digital_max': 32767,\n",
       "  'digital_min': -32767,\n",
       "  'prefilter': 'HP:-1.000 Hz LP:-2.0 Hz N:0.0',\n",
       "  'transducer': 'EEG'},\n",
       " {'label': 'EEG LUC-REF',\n",
       "  'dimension': 'uV',\n",
       "  'sample_rate': 400,\n",
       "  'physical_max': 29483.12,\n",
       "  'physical_min': -29483.1,\n",
       "  'digital_max': 32767,\n",
       "  'digital_min': -32767,\n",
       "  'prefilter': 'HP:-1.000 Hz LP:-2.0 Hz N:0.0',\n",
       "  'transducer': 'EEG'},\n",
       " {'label': 'EEG RLC-REF',\n",
       "  'dimension': 'uV',\n",
       "  'sample_rate': 400,\n",
       "  'physical_max': 29483.12,\n",
       "  'physical_min': -29483.1,\n",
       "  'digital_max': 32767,\n",
       "  'digital_min': -32767,\n",
       "  'prefilter': 'HP:-1.000 Hz LP:-2.0 Hz N:0.0',\n",
       "  'transducer': 'EEG'},\n",
       " {'label': 'EEG RESP1-REF',\n",
       "  'dimension': 'uV',\n",
       "  'sample_rate': 400,\n",
       "  'physical_max': 29483.12,\n",
       "  'physical_min': -29483.1,\n",
       "  'digital_max': 32767,\n",
       "  'digital_min': -32767,\n",
       "  'prefilter': 'HP:-1.000 Hz LP:-2.0 Hz N:0.0',\n",
       "  'transducer': 'EEG'},\n",
       " {'label': 'EEG RESP2-REF',\n",
       "  'dimension': 'uV',\n",
       "  'sample_rate': 400,\n",
       "  'physical_max': 29483.12,\n",
       "  'physical_min': -29483.1,\n",
       "  'digital_max': 32767,\n",
       "  'digital_min': -32767,\n",
       "  'prefilter': 'HP:-1.000 Hz LP:-2.0 Hz N:0.0',\n",
       "  'transducer': 'EEG'},\n",
       " {'label': 'EEG 31-REF',\n",
       "  'dimension': 'uV',\n",
       "  'sample_rate': 400,\n",
       "  'physical_max': 29483.12,\n",
       "  'physical_min': -29483.1,\n",
       "  'digital_max': 32767,\n",
       "  'digital_min': -32767,\n",
       "  'prefilter': 'HP:-1.000 Hz LP:-2.0 Hz N:0.0',\n",
       "  'transducer': 'EEG'},\n",
       " {'label': 'EEG 32-REF',\n",
       "  'dimension': 'uV',\n",
       "  'sample_rate': 400,\n",
       "  'physical_max': 29483.12,\n",
       "  'physical_min': -29483.1,\n",
       "  'digital_max': 32767,\n",
       "  'digital_min': -32767,\n",
       "  'prefilter': 'HP:-1.000 Hz LP:-2.0 Hz N:0.0',\n",
       "  'transducer': 'EEG'}]"
      ]
     },
     "execution_count": 38,
     "metadata": {},
     "output_type": "execute_result"
    }
   ],
   "source": [
    "reader0.getSignalHeaders()"
   ]
  },
  {
   "cell_type": "code",
   "execution_count": 39,
   "metadata": {},
   "outputs": [
    {
     "data": {
      "text/plain": [
       "datetime.datetime(2003, 7, 21, 17, 12, 54)"
      ]
     },
     "execution_count": 39,
     "metadata": {},
     "output_type": "execute_result"
    }
   ],
   "source": [
    "reader0.getStartdatetime()"
   ]
  },
  {
   "cell_type": "code",
   "execution_count": 40,
   "metadata": {},
   "outputs": [
    {
     "data": {
      "text/plain": [
       "['/mnt/c/Users/sawer/src/dbmi/tuh/v1.5.0/edf/dev_test/01_tcp_ar/002/00000258/s002_2003_07_21/00000258_s002_t000.edf',\n",
       " '/mnt/c/Users/sawer/src/dbmi/tuh/v1.5.0/edf/dev_test/01_tcp_ar/002/00000258/s002_2003_07_21/00000258_s002_t002.edf']"
      ]
     },
     "execution_count": 40,
     "metadata": {},
     "output_type": "execute_result"
    }
   ],
   "source": [
    "read.get_token_file_names(\"/mnt/c/Users/sawer/src/dbmi/tuh/v1.5.0/edf/dev_test/01_tcp_ar/002/00000258/s002_2003_07_21/\")"
   ]
  },
  {
   "cell_type": "code",
   "execution_count": 41,
   "metadata": {},
   "outputs": [
    {
     "name": "stdout",
     "output_type": "stream",
     "text": [
      "s002_2003_07_21\n",
      "s003_2003_07_22\n"
     ]
    }
   ],
   "source": [
    "%%bash\n",
    "ls /mnt/c/Users/sawer/src/dbmi/tuh/v1.5.0/edf/dev_test/01_tcp_ar/002/00000258/"
   ]
  },
  {
   "cell_type": "code",
   "execution_count": 42,
   "metadata": {},
   "outputs": [],
   "source": [
    "session_dir = '/mnt/c/Users/sawer/src/dbmi/tuh/v1.5.0/edf/dev_test/01_tcp_ar/002/00000258/s003_2003_07_22'"
   ]
  },
  {
   "cell_type": "code",
   "execution_count": 43,
   "metadata": {},
   "outputs": [],
   "source": [
    "readers = [edf.EdfReader(fn) for fn in read.get_token_file_names(session_dir)]"
   ]
  },
  {
   "cell_type": "code",
   "execution_count": 44,
   "metadata": {},
   "outputs": [
    {
     "data": {
      "text/plain": [
       "[234, 224, 203, 205, 175, 309]"
      ]
     },
     "execution_count": 44,
     "metadata": {},
     "output_type": "execute_result"
    }
   ],
   "source": [
    "[reader.file_duration for reader in readers]"
   ]
  },
  {
   "cell_type": "code",
   "execution_count": 45,
   "metadata": {},
   "outputs": [
    {
     "data": {
      "text/plain": [
       "[datetime.datetime(2003, 7, 22, 6, 46, 8),\n",
       " datetime.datetime(2003, 8, 12, 0, 0),\n",
       " datetime.datetime(2003, 8, 12, 0, 0),\n",
       " datetime.datetime(2003, 8, 12, 0, 0),\n",
       " datetime.datetime(2003, 8, 12, 0, 0),\n",
       " datetime.datetime(2003, 8, 12, 0, 0)]"
      ]
     },
     "execution_count": 45,
     "metadata": {},
     "output_type": "execute_result"
    }
   ],
   "source": [
    "[reader.getStartdatetime() for reader in readers]"
   ]
  },
  {
   "cell_type": "code",
   "execution_count": 46,
   "metadata": {},
   "outputs": [],
   "source": [
    "session_dirs = read.get_session_dir_names(data_split='train', ref='02_tcp_le')"
   ]
  },
  {
   "cell_type": "code",
   "execution_count": 47,
   "metadata": {},
   "outputs": [
    {
     "name": "stdout",
     "output_type": "stream",
     "text": [
      "['/mnt/c/Users/sawer/src/dbmi/tuh/v1.5.0/edf/train/02_tcp_le/028/00002881/s001_2006_04_21/00002881_s001_t000.edf']\n",
      "[1262]\n",
      "[5.048]\n",
      "[datetime.datetime(2006, 4, 21, 10, 35, 9)]\n"
     ]
    }
   ],
   "source": [
    "session_dir_random = session_dirs[160]\n",
    "print(read.get_token_file_names(session_dir_random))\n",
    "readers = [edf.EdfReader(fn) for fn in read.get_token_file_names(session_dir_random)]\n",
    "print([reader.file_duration for reader in readers])\n",
    "print([reader.file_duration/reader.getSignalHeader(0)['sample_rate'] for reader in readers])\n",
    "print([reader.getStartdatetime() for reader in readers])"
   ]
  },
  {
   "cell_type": "code",
   "execution_count": 48,
   "metadata": {},
   "outputs": [],
   "source": [
    "readers = [] #closes the file resource by removing the reference"
   ]
  },
  {
   "cell_type": "code",
   "execution_count": 49,
   "metadata": {},
   "outputs": [
    {
     "data": {
      "text/plain": [
       "1     254\n",
       "2      36\n",
       "3       8\n",
       "4       6\n",
       "7       4\n",
       "8       3\n",
       "19      1\n",
       "11      1\n",
       "10      1\n",
       "9       1\n",
       "6       1\n",
       "5       1\n",
       "dtype: int64"
      ]
     },
     "execution_count": 49,
     "metadata": {},
     "output_type": "execute_result"
    }
   ],
   "source": [
    "pd.Series([len(read.get_token_file_names(session_dir)) for session_dir in session_dirs]).value_counts()"
   ]
  },
  {
   "cell_type": "code",
   "execution_count": 50,
   "metadata": {},
   "outputs": [
    {
     "ename": "OSError",
     "evalue": "file has already been opened",
     "output_type": "error",
     "traceback": [
      "\u001b[0;31m---------------------------------------------------------------------------\u001b[0m",
      "\u001b[0;31mOSError\u001b[0m                                   Traceback (most recent call last)",
      "\u001b[0;32m<ipython-input-50-7ed66992094b>\u001b[0m in \u001b[0;36m<module>\u001b[0;34m\u001b[0m\n\u001b[1;32m      6\u001b[0m \u001b[0;32mfor\u001b[0m \u001b[0msession_dir\u001b[0m \u001b[0;32min\u001b[0m \u001b[0msession_dirs\u001b[0m\u001b[0;34m:\u001b[0m\u001b[0;34m\u001b[0m\u001b[0;34m\u001b[0m\u001b[0m\n\u001b[1;32m      7\u001b[0m     \u001b[0;32mfor\u001b[0m \u001b[0mtoken_fn\u001b[0m \u001b[0;32min\u001b[0m \u001b[0mread\u001b[0m\u001b[0;34m.\u001b[0m\u001b[0mget_token_file_names\u001b[0m\u001b[0;34m(\u001b[0m\u001b[0msession_dir\u001b[0m\u001b[0;34m)\u001b[0m\u001b[0;34m:\u001b[0m\u001b[0;34m\u001b[0m\u001b[0;34m\u001b[0m\u001b[0m\n\u001b[0;32m----> 8\u001b[0;31m         \u001b[0mreader\u001b[0m \u001b[0;34m=\u001b[0m \u001b[0medf\u001b[0m\u001b[0;34m.\u001b[0m\u001b[0mEdfReader\u001b[0m\u001b[0;34m(\u001b[0m\u001b[0mtoken_fn\u001b[0m\u001b[0;34m)\u001b[0m\u001b[0;34m\u001b[0m\u001b[0;34m\u001b[0m\u001b[0m\n\u001b[0m\u001b[1;32m      9\u001b[0m         \u001b[0msample_rates\u001b[0m\u001b[0;34m.\u001b[0m\u001b[0mappend\u001b[0m\u001b[0;34m(\u001b[0m\u001b[0mreader\u001b[0m\u001b[0;34m.\u001b[0m\u001b[0mgetSignalHeader\u001b[0m\u001b[0;34m(\u001b[0m\u001b[0;36m0\u001b[0m\u001b[0;34m)\u001b[0m\u001b[0;34m[\u001b[0m\u001b[0;34m'sample_rate'\u001b[0m\u001b[0;34m]\u001b[0m\u001b[0;34m)\u001b[0m\u001b[0;34m\u001b[0m\u001b[0;34m\u001b[0m\u001b[0m\n\u001b[1;32m     10\u001b[0m         \u001b[0meeg_lengths\u001b[0m\u001b[0;34m.\u001b[0m\u001b[0mappend\u001b[0m\u001b[0;34m(\u001b[0m\u001b[0mreader\u001b[0m\u001b[0;34m.\u001b[0m\u001b[0mreadSignal\u001b[0m\u001b[0;34m(\u001b[0m\u001b[0;36m0\u001b[0m\u001b[0;34m)\u001b[0m\u001b[0;34m.\u001b[0m\u001b[0mshape\u001b[0m\u001b[0;34m[\u001b[0m\u001b[0;36m0\u001b[0m\u001b[0;34m]\u001b[0m\u001b[0;34m/\u001b[0m \u001b[0mreader\u001b[0m\u001b[0;34m.\u001b[0m\u001b[0mgetSignalHeader\u001b[0m\u001b[0;34m(\u001b[0m\u001b[0;36m0\u001b[0m\u001b[0;34m)\u001b[0m\u001b[0;34m[\u001b[0m\u001b[0;34m'sample_rate'\u001b[0m\u001b[0;34m]\u001b[0m\u001b[0;34m)\u001b[0m\u001b[0;34m\u001b[0m\u001b[0;34m\u001b[0m\u001b[0m\n",
      "\u001b[0;32mpyedflib\\_extensions\\_pyedflib.pyx\u001b[0m in \u001b[0;36mpyedflib._extensions._pyedflib.CyEdfReader.__init__\u001b[0;34m()\u001b[0m\n",
      "\u001b[0;32mpyedflib\\_extensions\\_pyedflib.pyx\u001b[0m in \u001b[0;36mpyedflib._extensions._pyedflib.CyEdfReader.open\u001b[0;34m()\u001b[0m\n",
      "\u001b[0;32mpyedflib\\_extensions\\_pyedflib.pyx\u001b[0m in \u001b[0;36mpyedflib._extensions._pyedflib.CyEdfReader.check_open_ok\u001b[0;34m()\u001b[0m\n",
      "\u001b[0;31mOSError\u001b[0m: file has already been opened"
     ]
    }
   ],
   "source": [
    "session_dirs = read.get_session_dir_names(data_split='dev_test', ref='01_tcp_ar')\n",
    "reader = None #closes files\n",
    "readers = []\n",
    "sample_rates = []\n",
    "eeg_lengths = []\n",
    "for session_dir in session_dirs:\n",
    "    for token_fn in read.get_token_file_names(session_dir):\n",
    "        reader = edf.EdfReader(token_fn)\n",
    "        sample_rates.append(reader.getSignalHeader(0)['sample_rate'])\n",
    "        eeg_lengths.append(reader.readSignal(0).shape[0]/ reader.getSignalHeader(0)['sample_rate'])\n",
    "sample_rates"
   ]
  },
  {
   "cell_type": "code",
   "execution_count": null,
   "metadata": {},
   "outputs": [],
   "source": [
    "plt.hist(pd.Series(eeg_lengths)/60)\n",
    "plt.title(\"Distribution of Token File Length (dev_test fold, 01_tcp_ar)\")\n",
    "plt.xlabel(\"t (minutes)\")\n",
    "plt.ylabel(\"Number of EEGs\")"
   ]
  },
  {
   "cell_type": "code",
   "execution_count": null,
   "metadata": {},
   "outputs": [],
   "source": [
    "reader.readSignal(0).shape[0]"
   ]
  },
  {
   "cell_type": "code",
   "execution_count": null,
   "metadata": {},
   "outputs": [],
   "source": [
    "token_fns = read.get_all_token_file_names('dev_test', '01_tcp_ar')"
   ]
  },
  {
   "cell_type": "code",
   "execution_count": null,
   "metadata": {},
   "outputs": [],
   "source": [
    "token_fns[0]"
   ]
  },
  {
   "cell_type": "code",
   "execution_count": null,
   "metadata": {},
   "outputs": [],
   "source": [
    "len(token_fns)"
   ]
  },
  {
   "cell_type": "code",
   "execution_count": null,
   "metadata": {},
   "outputs": [],
   "source": [
    "%%bash\n",
    "ls /mnt/c/Users/sawer/src/dbmi/tuh/v1.5.0/edf/dev_test/01_tcp_ar/002/00000258/s002_2003_07_21/"
   ]
  },
  {
   "cell_type": "code",
   "execution_count": null,
   "metadata": {},
   "outputs": [],
   "source": [
    "reload(util_funcs)\n",
    "ann_y = read.read_tse_file(token_fns[0][:-4] + \".tse\")\n",
    "data_x = read.edf_eeg_2_df(token_fns[0])"
   ]
  },
  {
   "cell_type": "code",
   "execution_count": null,
   "metadata": {},
   "outputs": [],
   "source": [
    "data_x.index = data_x.index -  data_x.index[0] \n",
    "data_x.resample(pd.Timedelta(seconds=1/250)).ffill()"
   ]
  },
  {
   "cell_type": "code",
   "execution_count": null,
   "metadata": {},
   "outputs": [],
   "source": [
    "ann_y_t.loc[pd.Timedelta(seconds=0)]"
   ]
  },
  {
   "cell_type": "code",
   "execution_count": null,
   "metadata": {},
   "outputs": [],
   "source": [
    "ann_y_t = pd.DataFrame(columns=util_funcs.get_annotation_types(), index=data_x.index)\n",
    "ann_y.apply(lambda row: ann_y_t[row['label']].loc[pd.Timedelta(seconds=row['start']):pd.Timedelta(seconds=row['end'])].fillna(row['p'], inplace=True), axis=1)\n",
    "ann_y_t.fillna(0, inplace=True)"
   ]
  },
  {
   "cell_type": "markdown",
   "metadata": {},
   "source": [
    "# FFT and Numpy"
   ]
  },
  {
   "cell_type": "code",
   "execution_count": 51,
   "metadata": {},
   "outputs": [],
   "source": [
    "import numpy as np\n"
   ]
  },
  {
   "cell_type": "code",
   "execution_count": 52,
   "metadata": {},
   "outputs": [],
   "source": [
    "sp = np.fft.fft([np.sin(i * 2 * np.pi * 0.1) for i in range(1000)] + [np.sin(i * 4 * np.pi * 0.1) for i in range(1000)] + [np.sin(i * 6 * np.pi * 0.1) for i in range(1000)])\n",
    "freq = np.fft.fftfreq(sp.shape[-1], d=0.1)"
   ]
  },
  {
   "cell_type": "code",
   "execution_count": 53,
   "metadata": {},
   "outputs": [
    {
     "data": {
      "text/plain": [
       "[<matplotlib.lines.Line2D at 0x7fc5c016f208>,\n",
       " <matplotlib.lines.Line2D at 0x7fc5c016f358>]"
      ]
     },
     "execution_count": 53,
     "metadata": {},
     "output_type": "execute_result"
    },
    {
     "data": {
      "image/png": "[encoded data removed]",
      "text/plain": [
       "<Figure size 432x288 with 1 Axes>"
      ]
     },
     "metadata": {
      "needs_background": "light"
     },
     "output_type": "display_data"
    }
   ],
   "source": [
    "plt.plot(freq, sp.real, freq, sp.imag)"
   ]
  },
  {
   "cell_type": "code",
   "execution_count": 54,
   "metadata": {},
   "outputs": [
    {
     "data": {
      "text/plain": [
       "[<matplotlib.lines.Line2D at 0x7fc5c00f4860>]"
      ]
     },
     "execution_count": 54,
     "metadata": {},
     "output_type": "execute_result"
    },
    {
     "data": {
      "image/png": "[encoded data removed]",
      "text/plain": [
       "<Figure size 432x288 with 1 Axes>"
      ]
     },
     "metadata": {
      "needs_background": "light"
     },
     "output_type": "display_data"
    }
   ],
   "source": [
    "plt.plot(freq, np.abs(sp))"
   ]
  },
  {
   "cell_type": "code",
   "execution_count": null,
   "metadata": {},
   "outputs": [],
   "source": [
    "fft = pd.Series(sp.imag, index=freq)"
   ]
  },
  {
   "cell_type": "code",
   "execution_count": null,
   "metadata": {},
   "outputs": [],
   "source": [
    "fft[fft == fft.max()]"
   ]
  },
  {
   "cell_type": "code",
   "execution_count": null,
   "metadata": {},
   "outputs": [],
   "source": [
    "sp.real.max()"
   ]
  },
  {
   "cell_type": "markdown",
   "metadata": {},
   "source": [
    "# Running some sample code with data_reader and util_funcs"
   ]
  },
  {
   "cell_type": "code",
   "execution_count": 1,
   "metadata": {},
   "outputs": [
    {
     "data": {
      "text/plain": [
       "<module 'data_reader' from '/home/ms994/dbmi_eeg_clustering/data_reader.py'>"
      ]
     },
     "execution_count": 1,
     "metadata": {},
     "output_type": "execute_result"
    }
   ],
   "source": [
    "import data_reader as read\n",
    "import util_funcs\n",
    "from importlib import reload\n",
    "reload(util_funcs)\n",
    "reload(read)"
   ]
  },
  {
   "cell_type": "code",
   "execution_count": 139,
   "metadata": {},
   "outputs": [],
   "source": [
    "edfData = read.EdfDataset(\"dev_test\", \"01_tcp_ar\", num_files=20)"
   ]
  },
  {
   "cell_type": "code",
   "execution_count": null,
   "metadata": {},
   "outputs": [],
   "source": [
    "import numpy as np"
   ]
  },
  {
   "cell_type": "code",
   "execution_count": 141,
   "metadata": {},
   "outputs": [],
   "source": [
    "edfFFTData = read.EdfFFTDatasetTransformer(edfData, window_size=pd.Timedelta(seconds=0.5))"
   ]
  },
  {
   "cell_type": "code",
   "execution_count": 142,
   "metadata": {
    "scrolled": true
   },
   "outputs": [],
   "source": [
    "data0 = edfFFTData[0]"
   ]
  },
  {
   "cell_type": "code",
   "execution_count": 145,
   "metadata": {},
   "outputs": [
    {
     "data": {
      "text/plain": [
       "(32, 4993, 99)"
      ]
     },
     "execution_count": 145,
     "metadata": {},
     "output_type": "execute_result"
    }
   ],
   "source": [
    "data0[0].shape"
   ]
  },
  {
   "cell_type": "code",
   "execution_count": 131,
   "metadata": {},
   "outputs": [
    {
     "data": {
      "text/plain": [
       "127"
      ]
     },
     "execution_count": 131,
     "metadata": {},
     "output_type": "execute_result"
    }
   ],
   "source": [
    "5120-4993"
   ]
  },
  {
   "cell_type": "code",
   "execution_count": 56,
   "metadata": {},
   "outputs": [],
   "source": [
    "def np_rolling_window(a, window):\n",
    "    shape = a.shape[:-1] + (a.shape[-1] - window + 1, window)\n",
    "    strides = a.strides + (a.strides[-1],)\n",
    "    return np.lib.stride_tricks.as_strided(a, shape=shape, strides=strides)"
   ]
  },
  {
   "cell_type": "code",
   "execution_count": 62,
   "metadata": {},
   "outputs": [
    {
     "data": {
      "text/plain": [
       "256.0163850486431"
      ]
     },
     "execution_count": 62,
     "metadata": {},
     "output_type": "execute_result"
    }
   ],
   "source": [
    "pd.Timedelta(seconds=1) / pd.Timedelta(seconds=1/256)"
   ]
  },
  {
   "cell_type": "code",
   "execution_count": 91,
   "metadata": {},
   "outputs": [],
   "source": [
    "COMMON_FREQ=1/256\n",
    "fft_data = np.abs(np.fft.fft(np_rolling_window(np.array(edfData[0][0].T), 20), axis=2))\n",
    "fft_freq_bins = list(range(100))\n",
    "\n"
   ]
  },
  {
   "cell_type": "code",
   "execution_count": 92,
   "metadata": {},
   "outputs": [
    {
     "data": {
      "text/plain": [
       "(32, 5101, 20)"
      ]
     },
     "execution_count": 92,
     "metadata": {},
     "output_type": "execute_result"
    }
   ],
   "source": [
    "fft_freq = np.fft.fftfreq(fft_data.shape[2], d=COMMON_FREQ)\n",
    "fft_data.shape"
   ]
  },
  {
   "cell_type": "code",
   "execution_count": 94,
   "metadata": {
    "scrolled": false
   },
   "outputs": [],
   "source": [
    "new_hist_bins = np.zeros((fft_data.shape[0], fft_data.shape[1], len(fft_freq_bins) - 1))\n",
    "for i, channel in enumerate(fft_data):\n",
    "    for j, window_channel in enumerate(channel):\n",
    "        new_hist_bins[i, j, :] = np.histogram(fft_freq, bins=fft_freq_bins, weights=window_channel)[0]\n",
    "        "
   ]
  },
  {
   "cell_type": "code",
   "execution_count": 97,
   "metadata": {},
   "outputs": [
    {
     "data": {
      "text/plain": [
       "array([[[ 269.234391  ,    0.        ,    0.        , ...,\n",
       "            0.        ,    0.        ,    0.        ],\n",
       "        [ 244.04053499,    0.        ,    0.        , ...,\n",
       "            0.        ,    0.        ,    0.        ],\n",
       "        [ 235.94250984,    0.        ,    0.        , ...,\n",
       "            0.        ,    0.        ,    0.        ],\n",
       "        ...,\n",
       "        [ 279.63175787,    0.        ,    0.        , ...,\n",
       "            0.        ,    0.        ,    0.        ],\n",
       "        [ 272.43351329,    0.        ,    0.        , ...,\n",
       "            0.        ,    0.        ,    0.        ],\n",
       "        [ 263.43570757,    0.        ,    0.        , ...,\n",
       "            0.        ,    0.        ,    0.        ]],\n",
       "\n",
       "       [[1031.34853542,    0.        ,    0.        , ...,\n",
       "            0.        ,    0.        ,    0.        ],\n",
       "        [ 982.76038453,    0.        ,    0.        , ...,\n",
       "            0.        ,    0.        ,    0.        ],\n",
       "        [ 947.66894223,    0.        ,    0.        , ...,\n",
       "            0.        ,    0.        ,    0.        ],\n",
       "        ...,\n",
       "        [ 163.56006409,    0.        ,    0.        , ...,\n",
       "            0.        ,    0.        ,    0.        ],\n",
       "        [ 173.45765038,    0.        ,    0.        , ...,\n",
       "            0.        ,    0.        ,    0.        ],\n",
       "        [ 177.05677267,    0.        ,    0.        , ...,\n",
       "            0.        ,    0.        ,    0.        ]],\n",
       "\n",
       "       [[ 144.16489151,    0.        ,    0.        , ...,\n",
       "            0.        ,    0.        ,    0.        ],\n",
       "        [ 127.96884121,    0.        ,    0.        , ...,\n",
       "            0.        ,    0.        ,    0.        ],\n",
       "        [ 128.86862178,    0.        ,    0.        , ...,\n",
       "            0.        ,    0.        ,    0.        ],\n",
       "        ...,\n",
       "        [  52.88705374,    0.        ,    0.        , ...,\n",
       "            0.        ,    0.        ,    0.        ],\n",
       "        [  52.88705374,    0.        ,    0.        , ...,\n",
       "            0.        ,    0.        ,    0.        ],\n",
       "        [  51.98727317,    0.        ,    0.        , ...,\n",
       "            0.        ,    0.        ,    0.        ]],\n",
       "\n",
       "       ...,\n",
       "\n",
       "       [[  39.39034516,    0.        ,    0.        , ...,\n",
       "            0.        ,    0.        ,    0.        ],\n",
       "        [  38.49056459,    0.        ,    0.        , ...,\n",
       "            0.        ,    0.        ,    0.        ],\n",
       "        [  22.2945143 ,    0.        ,    0.        , ...,\n",
       "            0.        ,    0.        ,    0.        ],\n",
       "        ...,\n",
       "        [ 784.80865871,    0.        ,    0.        , ...,\n",
       "            0.        ,    0.        ,    0.        ],\n",
       "        [ 782.109317  ,    0.        ,    0.        , ...,\n",
       "            0.        ,    0.        ,    0.        ],\n",
       "        [ 787.50800043,    0.        ,    0.        , ...,\n",
       "            0.        ,    0.        ,    0.        ]],\n",
       "\n",
       "       [[  22.2945143 ,    0.        ,    0.        , ...,\n",
       "            0.        ,    0.        ,    0.        ],\n",
       "        [  33.99166173,    0.        ,    0.        , ...,\n",
       "            0.        ,    0.        ,    0.        ],\n",
       "        [  28.5929783 ,    0.        ,    0.        , ...,\n",
       "            0.        ,    0.        ,    0.        ],\n",
       "        ...,\n",
       "        [ 701.12906552,    0.        ,    0.        , ...,\n",
       "            0.        ,    0.        ,    0.        ],\n",
       "        [ 693.93082095,    0.        ,    0.        , ...,\n",
       "            0.        ,    0.        ,    0.        ],\n",
       "        [ 684.93301523,    0.        ,    0.        , ...,\n",
       "            0.        ,    0.        ,    0.        ]],\n",
       "\n",
       "       [[  22.2945143 ,    0.        ,    0.        , ...,\n",
       "            0.        ,    0.        ,    0.        ],\n",
       "        [  17.79561144,    0.        ,    0.        , ...,\n",
       "            0.        ,    0.        ,    0.        ],\n",
       "        [  14.19648915,    0.        ,    0.        , ...,\n",
       "            0.        ,    0.        ,    0.        ],\n",
       "        ...,\n",
       "        [   9.69758629,    0.        ,    0.        , ...,\n",
       "            0.        ,    0.        ,    0.        ],\n",
       "        [   7.89802515,    0.        ,    0.        , ...,\n",
       "            0.        ,    0.        ,    0.        ],\n",
       "        [   8.79780572,    0.        ,    0.        , ...,\n",
       "            0.        ,    0.        ,    0.        ]]])"
      ]
     },
     "execution_count": 97,
     "metadata": {},
     "output_type": "execute_result"
    }
   ],
   "source": [
    "new_hist_bins"
   ]
  },
  {
   "cell_type": "code",
   "execution_count": 2,
   "metadata": {},
   "outputs": [
    {
     "data": {
      "image/png": "[encoded data removed]",
      "text/plain": [
       "<Figure size 432x288 with 11 Axes>"
      ]
     },
     "metadata": {
      "needs_background": "light"
     },
     "output_type": "display_data"
    },
    {
     "data": {
      "image/png": "[encoded data removed]",
      "text/plain": [
       "<Figure size 432x288 with 11 Axes>"
      ]
     },
     "metadata": {
      "needs_background": "light"
     },
     "output_type": "display_data"
    },
    {
     "data": {
      "image/png": "[encoded data removed]",
      "text/plain": [
       "<Figure size 432x288 with 11 Axes>"
      ]
     },
     "metadata": {
      "needs_background": "light"
     },
     "output_type": "display_data"
    }
   ],
   "source": [
    "#!/usr/bin/env python\n",
    "# -*- coding: utf-8 -*-\n",
    "\n",
    "import numpy as np\n",
    "import matplotlib.pyplot as plt\n",
    "\n",
    "import pywt\n",
    "import pywt.data\n",
    "\n",
    "\n",
    "ecg = pywt.data.ecg()\n",
    "\n",
    "data1 = np.concatenate((np.arange(1, 400),\n",
    "                        np.arange(398, 600),\n",
    "                        np.arange(601, 1024)))\n",
    "x = np.linspace(0.082, 2.128, num=1024)[::-1]\n",
    "data2 = np.sin(40 * np.log(x)) * np.sign((np.log(x)))\n",
    "\n",
    "mode = pywt.Modes.smooth\n",
    "\n",
    "\n",
    "def plot_signal_decomp(data, w, title):\n",
    "    \"\"\"Decompose and plot a signal S.\n",
    "    S = An + Dn + Dn-1 + ... + D1\n",
    "    \"\"\"\n",
    "    w = pywt.Wavelet(w)\n",
    "    a = data\n",
    "    ca = []\n",
    "    cd = []\n",
    "    for i in range(5):\n",
    "        (a, d) = pywt.dwt(a, w, mode)\n",
    "        ca.append(a)\n",
    "        cd.append(d)\n",
    "\n",
    "    rec_a = []\n",
    "    rec_d = []\n",
    "\n",
    "    for i, coeff in enumerate(ca):\n",
    "        coeff_list = [coeff, None] + [None] * i\n",
    "        rec_a.append(pywt.waverec(coeff_list, w))\n",
    "\n",
    "    for i, coeff in enumerate(cd):\n",
    "        coeff_list = [None, coeff] + [None] * i\n",
    "        rec_d.append(pywt.waverec(coeff_list, w))\n",
    "\n",
    "    fig = plt.figure()\n",
    "    ax_main = fig.add_subplot(len(rec_a) + 1, 1, 1)\n",
    "    ax_main.set_title(title)\n",
    "    ax_main.plot(data)\n",
    "    ax_main.set_xlim(0, len(data) - 1)\n",
    "\n",
    "    for i, y in enumerate(rec_a):\n",
    "        ax = fig.add_subplot(len(rec_a) + 1, 2, 3 + i * 2)\n",
    "        ax.plot(y, 'r')\n",
    "        ax.set_xlim(0, len(y) - 1)\n",
    "        ax.set_ylabel(\"A%d\" % (i + 1))\n",
    "\n",
    "    for i, y in enumerate(rec_d):\n",
    "        ax = fig.add_subplot(len(rec_d) + 1, 2, 4 + i * 2)\n",
    "        ax.plot(y, 'g')\n",
    "        ax.set_xlim(0, len(y) - 1)\n",
    "        ax.set_ylabel(\"D%d\" % (i + 1))\n",
    "\n",
    "\n",
    "plot_signal_decomp(data1, 'coif5', \"DWT: Signal irregularity\")\n",
    "plot_signal_decomp(data2, 'sym5',\n",
    "                   \"DWT: Frequency and phase change - Symmlets5\")\n",
    "plot_signal_decomp(ecg, 'sym5', \"DWT: Ecg sample - Symmlets5\")\n",
    "\n",
    "# plt.show()"
   ]
  }
 ],
 "metadata": {
  "kernelspec": {
   "display_name": "Python 3",
   "language": "python",
   "name": "python3"
  },
  "language_info": {
   "codemirror_mode": {
    "name": "ipython",
    "version": 3
   },
   "file_extension": ".py",
   "mimetype": "text/x-python",
   "name": "python",
   "nbconvert_exporter": "python",
   "pygments_lexer": "ipython3",
   "version": "3.7.3"
  }
 },
 "nbformat": 4,
 "nbformat_minor": 2
}

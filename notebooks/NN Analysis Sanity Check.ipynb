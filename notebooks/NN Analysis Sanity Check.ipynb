{
 "cells": [
  {
   "cell_type": "markdown",
   "metadata": {},
   "source": [
    "# import stuff"
   ]
  },
  {
   "cell_type": "code",
   "execution_count": 1,
   "metadata": {},
   "outputs": [
    {
     "name": "stderr",
     "output_type": "stream",
     "text": [
      "Using Theano backend.\n"
     ]
    }
   ],
   "source": [
    "import sys, os\n",
    "sys.path.append(os.path.realpath(\"..\"))\n",
    "\n",
    "import util_funcs\n",
    "from importlib import reload\n",
    "reload(util_funcs)\n",
    "from copy import deepcopy as cp\n",
    "\n",
    "import data_reader as read\n",
    "import pandas as pd\n",
    "import numpy as np\n",
    "import pickle as pkl\n",
    "import matplotlib.pyplot as plt\n",
    "import pywt\n",
    "import tsfresh.feature_extraction.feature_calculators as feats\n",
    "import constants\n",
    "import clinical_text_analysis as cta\n",
    "reload(cta)\n",
    "import tsfresh\n",
    "import ensembleReader as er\n",
    "from sklearn.metrics import roc_auc_score, accuracy_score, confusion_matrix, roc_curve, r2_score, classification_report\n",
    "from os import path\n",
    "\n",
    "reload(read)\n",
    "import wf_analysis.datasets as wfdata\n",
    "import wf_analysis.filters as filt\n",
    "reload(filt)\n",
    "from addict import Dict\n",
    "import time\n",
    "import pickle as pkl\n",
    "import tsfresh.feature_extraction.feature_calculators as tsf\n",
    "import pyedflib as edf\n",
    "import keras_models.dataGen as dg "
   ]
  },
  {
   "cell_type": "markdown",
   "metadata": {},
   "source": [
    "## Pull in data"
   ]
  },
  {
   "cell_type": "code",
   "execution_count": 2,
   "metadata": {},
   "outputs": [],
   "source": [
    "train_edss = pkl.load(open(\"/n/scratch2/ms994/train_multiple_labels_sessions_seizure_data_4.pkl\", \"rb\"))"
   ]
  },
  {
   "cell_type": "code",
   "execution_count": 3,
   "metadata": {},
   "outputs": [],
   "source": [
    "train_seizure_labels = [datum[1][0] for datum in train_edss]\n",
    "train_session_labels = [datum[1][1] for datum in train_edss]\n",
    "train_subtype_labels = [datum[1][2] for datum in train_edss]"
   ]
  },
  {
   "cell_type": "code",
   "execution_count": 4,
   "metadata": {},
   "outputs": [],
   "source": [
    "train_edg = dg.EdfDataGenerator(train_edss, precache=True, labels=train_seizure_labels, shuffle=False, batch_size=512, n_classes=2)"
   ]
  },
  {
   "cell_type": "code",
   "execution_count": 5,
   "metadata": {},
   "outputs": [],
   "source": [
    "valid_edss = pkl.load(open(\"/n/scratch2/ms994/valid_multiple_labels_sessions_seizure_data_4.pkl\", \"rb\"))"
   ]
  },
  {
   "cell_type": "code",
   "execution_count": 6,
   "metadata": {},
   "outputs": [],
   "source": [
    "valid_seizure_labels = [datum[1][0] for datum in valid_edss]\n",
    "valid_session_labels = [datum[1][1] for datum in valid_edss]\n",
    "valid_subtype_labels = [datum[1][2] for datum in valid_edss]"
   ]
  },
  {
   "cell_type": "code",
   "execution_count": 7,
   "metadata": {},
   "outputs": [],
   "source": [
    "valid_edg = dg.EdfDataGenerator(valid_edss, precache=True, labels=valid_seizure_labels, shuffle=False, batch_size=512)"
   ]
  },
  {
   "cell_type": "code",
   "execution_count": 8,
   "metadata": {},
   "outputs": [],
   "source": [
    "from keras.models import load_model"
   ]
  },
  {
   "cell_type": "code",
   "execution_count": 9,
   "metadata": {},
   "outputs": [
    {
     "name": "stdout",
     "output_type": "stream",
     "text": [
      "WARNING:tensorflow:From /home/ms994/miniconda3/envs/keras-redo/lib/python3.7/site-packages/tensorflow/python/framework/op_def_library.py:263: colocate_with (from tensorflow.python.framework.ops) is deprecated and will be removed in a future version.\n",
      "Instructions for updating:\n",
      "Colocations handled automatically by placer.\n"
     ]
    },
    {
     "name": "stderr",
     "output_type": "stream",
     "text": [
      "WARNING:tensorflow:From /home/ms994/miniconda3/envs/keras-redo/lib/python3.7/site-packages/tensorflow/python/framework/op_def_library.py:263: colocate_with (from tensorflow.python.framework.ops) is deprecated and will be removed in a future version.\n",
      "Instructions for updating:\n",
      "Colocations handled automatically by placer.\n"
     ]
    },
    {
     "name": "stdout",
     "output_type": "stream",
     "text": [
      "WARNING:tensorflow:From /home/ms994/miniconda3/envs/keras-redo/lib/python3.7/site-packages/keras/backend/tensorflow_backend.py:3445: calling dropout (from tensorflow.python.ops.nn_ops) with keep_prob is deprecated and will be removed in a future version.\n",
      "Instructions for updating:\n",
      "Please use `rate` instead of `keep_prob`. Rate should be set to `rate = 1 - keep_prob`.\n"
     ]
    },
    {
     "name": "stderr",
     "output_type": "stream",
     "text": [
      "WARNING:tensorflow:From /home/ms994/miniconda3/envs/keras-redo/lib/python3.7/site-packages/keras/backend/tensorflow_backend.py:3445: calling dropout (from tensorflow.python.ops.nn_ops) with keep_prob is deprecated and will be removed in a future version.\n",
      "Instructions for updating:\n",
      "Please use `rate` instead of `keep_prob`. Rate should be set to `rate = 1 - keep_prob`.\n",
      "/home/ms994/miniconda3/envs/keras-redo/lib/python3.7/site-packages/keras/engine/saving.py:292: UserWarning: No training configuration found in save file: the model was *not* compiled. Compile it manually.\n",
      "  warnings.warn('No training configuration found in save file: '\n"
     ]
    }
   ],
   "source": [
    "model = load_model(\"/n/scratch2/ms994/out/UMEPVXFQHNWCHTKS.h5\")"
   ]
  },
  {
   "cell_type": "code",
   "execution_count": 10,
   "metadata": {},
   "outputs": [
    {
     "name": "stdout",
     "output_type": "stream",
     "text": [
      "__________________________________________________________________________________________________\n",
      "Layer (type)                    Output Shape         Param #     Connected to                     \n",
      "==================================================================================================\n",
      "input_1 (InputLayer)            (None, 1000, 21, 1)  0                                            \n",
      "__________________________________________________________________________________________________\n",
      "conv2d_1 (Conv2D)               (None, 1000, 21, 4)  20          input_1[0][0]                    \n",
      "__________________________________________________________________________________________________\n",
      "max_pooling2d_1 (MaxPooling2D)  (None, 500, 21, 4)   0           conv2d_1[0][0]                   \n",
      "__________________________________________________________________________________________________\n",
      "batch_normalization_1 (BatchNor (None, 500, 21, 4)   16          max_pooling2d_1[0][0]            \n",
      "__________________________________________________________________________________________________\n",
      "conv2d_2 (Conv2D)               (None, 500, 21, 4)   68          batch_normalization_1[0][0]      \n",
      "__________________________________________________________________________________________________\n",
      "max_pooling2d_2 (MaxPooling2D)  (None, 250, 21, 4)   0           conv2d_2[0][0]                   \n",
      "__________________________________________________________________________________________________\n",
      "batch_normalization_2 (BatchNor (None, 250, 21, 4)   16          max_pooling2d_2[0][0]            \n",
      "__________________________________________________________________________________________________\n",
      "conv2d_3 (Conv2D)               (None, 250, 21, 4)   68          batch_normalization_2[0][0]      \n",
      "__________________________________________________________________________________________________\n",
      "max_pooling2d_3 (MaxPooling2D)  (None, 125, 21, 4)   0           conv2d_3[0][0]                   \n",
      "__________________________________________________________________________________________________\n",
      "batch_normalization_3 (BatchNor (None, 125, 21, 4)   16          max_pooling2d_3[0][0]            \n",
      "__________________________________________________________________________________________________\n",
      "conv2d_4 (Conv2D)               (None, 125, 21, 4)   68          batch_normalization_3[0][0]      \n",
      "__________________________________________________________________________________________________\n",
      "max_pooling2d_4 (MaxPooling2D)  (None, 62, 21, 4)    0           conv2d_4[0][0]                   \n",
      "__________________________________________________________________________________________________\n",
      "batch_normalization_4 (BatchNor (None, 62, 21, 4)    16          max_pooling2d_4[0][0]            \n",
      "__________________________________________________________________________________________________\n",
      "conv2d_5 (Conv2D)               (None, 62, 21, 4)    68          batch_normalization_4[0][0]      \n",
      "__________________________________________________________________________________________________\n",
      "max_pooling2d_5 (MaxPooling2D)  (None, 31, 21, 4)    0           conv2d_5[0][0]                   \n",
      "__________________________________________________________________________________________________\n",
      "batch_normalization_5 (BatchNor (None, 31, 21, 4)    16          max_pooling2d_5[0][0]            \n",
      "__________________________________________________________________________________________________\n",
      "conv2d_6 (Conv2D)               (None, 31, 21, 4)    68          batch_normalization_5[0][0]      \n",
      "__________________________________________________________________________________________________\n",
      "max_pooling2d_6 (MaxPooling2D)  (None, 15, 21, 4)    0           conv2d_6[0][0]                   \n",
      "__________________________________________________________________________________________________\n",
      "batch_normalization_6 (BatchNor (None, 15, 21, 4)    16          max_pooling2d_6[0][0]            \n",
      "__________________________________________________________________________________________________\n",
      "conv2d_7 (Conv2D)               (None, 15, 21, 4)    68          batch_normalization_6[0][0]      \n",
      "__________________________________________________________________________________________________\n",
      "max_pooling2d_7 (MaxPooling2D)  (None, 7, 21, 4)     0           conv2d_7[0][0]                   \n",
      "__________________________________________________________________________________________________\n",
      "batch_normalization_7 (BatchNor (None, 7, 21, 4)     16          max_pooling2d_7[0][0]            \n",
      "__________________________________________________________________________________________________\n",
      "flatten_1 (Flatten)             (None, 588)          0           batch_normalization_7[0][0]      \n",
      "__________________________________________________________________________________________________\n",
      "dense_1 (Dense)                 (None, 200)          117800      flatten_1[0][0]                  \n",
      "__________________________________________________________________________________________________\n",
      "dropout_1 (Dropout)             (None, 200)          0           dense_1[0][0]                    \n",
      "__________________________________________________________________________________________________\n",
      "dense_2 (Dense)                 (None, 200)          40200       dropout_1[0][0]                  \n",
      "__________________________________________________________________________________________________\n",
      "dropout_2 (Dropout)             (None, 200)          0           dense_2[0][0]                    \n",
      "__________________________________________________________________________________________________\n",
      "seizure (Dense)                 (None, 2)            402         dropout_2[0][0]                  \n",
      "__________________________________________________________________________________________________\n",
      "seizure_subtype (Dense)         (None, 11)           2211        dropout_2[0][0]                  \n",
      "==================================================================================================\n",
      "Total params: 161,153\n",
      "Trainable params: 161,097\n",
      "Non-trainable params: 56\n",
      "__________________________________________________________________________________________________\n"
     ]
    }
   ],
   "source": [
    "model.summary()"
   ]
  },
  {
   "cell_type": "markdown",
   "metadata": {},
   "source": [
    "# Predict train and try to correlate that with different metrics we see in the data it predicts from"
   ]
  },
  {
   "cell_type": "markdown",
   "metadata": {},
   "source": [
    "## predict here (exp 6538)"
   ]
  },
  {
   "cell_type": "code",
   "execution_count": 11,
   "metadata": {},
   "outputs": [],
   "source": [
    "pred = model.predict_generator(train_edg)"
   ]
  },
  {
   "cell_type": "code",
   "execution_count": 12,
   "metadata": {},
   "outputs": [],
   "source": [
    "val_pred = model.predict_generator(valid_edg)"
   ]
  },
  {
   "cell_type": "code",
   "execution_count": 13,
   "metadata": {},
   "outputs": [],
   "source": [
    "from addict import Dict"
   ]
  },
  {
   "cell_type": "code",
   "execution_count": 14,
   "metadata": {},
   "outputs": [],
   "source": [
    "cachedAnalysisResults = Dict()"
   ]
  },
  {
   "cell_type": "code",
   "execution_count": 15,
   "metadata": {},
   "outputs": [],
   "source": [
    "cachedAnalysisResults.trainMaxPerSegment = [datum[0].max() for datum in train_edss]\n",
    "cachedAnalysisResults.trainMinPerSegment = [datum[0].min() for datum in train_edss]\n",
    "cachedAnalysisResults.trainStdPerSegment = [datum[0].std() for datum in train_edss]\n",
    "cachedAnalysisResults.trainMeanPerSegment = [datum[0].mean() for datum in train_edss]\n",
    "\n",
    "cachedAnalysisResults.validMaxPerSegment = [datum[0].max() for datum in valid_edss]\n",
    "cachedAnalysisResults.validMinPerSegment = [datum[0].min() for datum in valid_edss]\n",
    "cachedAnalysisResults.validStdPerSegment = [datum[0].std() for datum in valid_edss]\n",
    "cachedAnalysisResults.validMeanPerSegment = [datum[0].mean() for datum in valid_edss]"
   ]
  },
  {
   "cell_type": "code",
   "execution_count": 16,
   "metadata": {},
   "outputs": [],
   "source": [
    "cachedAnalysisResults.train_seizure_labels = train_seizure_labels\n",
    "cachedAnalysisResults.train_session_labels = train_session_labels\n",
    "cachedAnalysisResults.train_subtype_labels = train_subtype_labels\n"
   ]
  },
  {
   "cell_type": "code",
   "execution_count": 17,
   "metadata": {},
   "outputs": [],
   "source": [
    "cachedAnalysisResults.valid_seizure_labels = valid_seizure_labels\n",
    "cachedAnalysisResults.valid_session_labels = valid_session_labels\n",
    "cachedAnalysisResults.valid_subtype_labels = valid_subtype_labels\n"
   ]
  },
  {
   "cell_type": "code",
   "execution_count": 18,
   "metadata": {},
   "outputs": [],
   "source": [
    "cachedAnalysisResults.pred = pred\n",
    "cachedAnalysisResults.val_pred = val_pred"
   ]
  },
  {
   "cell_type": "code",
   "execution_count": 33,
   "metadata": {},
   "outputs": [],
   "source": [
    "def save_cached():\n",
    "    global cachedAnalysisResults\n",
    "    pkl.dump(cachedAnalysisResults, open(\"/n/scratch2/ms994/exp6538Analysis.pkl\", \"wb\"))"
   ]
  },
  {
   "cell_type": "code",
   "execution_count": 44,
   "metadata": {},
   "outputs": [],
   "source": [
    "save_cached()"
   ]
  },
  {
   "cell_type": "code",
   "execution_count": 2,
   "metadata": {},
   "outputs": [],
   "source": [
    "cachedAnalysisResults = pkl.load(open(\"/n/scratch2/ms994/exp6538Analysis.pkl\", \"rb\"))"
   ]
  },
  {
   "cell_type": "code",
   "execution_count": 3,
   "metadata": {},
   "outputs": [
    {
     "data": {
      "text/plain": [
       "dict_keys(['trainMaxPerSegment', 'trainMinPerSegment', 'trainStdPerSegment', 'trainMeanPerSegment', 'validMaxPerSegment', 'validMinPerSegment', 'validStdPerSegment', 'validMeanPerSegment', 'train_seizure_labels', 'train_session_labels', 'train_subtype_labels', 'valid_seizure_labels', 'valid_session_labels', 'valid_subtype_labels', 'pred', 'val_pred'])"
      ]
     },
     "execution_count": 3,
     "metadata": {},
     "output_type": "execute_result"
    }
   ],
   "source": [
    "cachedAnalysisResults.keys()"
   ]
  },
  {
   "cell_type": "code",
   "execution_count": 22,
   "metadata": {},
   "outputs": [],
   "source": [
    "seizDetectPred = cachedAnalysisResults.pred[0].argmax(1)"
   ]
  },
  {
   "cell_type": "code",
   "execution_count": 23,
   "metadata": {},
   "outputs": [
    {
     "name": "stdout",
     "output_type": "stream",
     "text": [
      "              precision    recall  f1-score   support\n",
      "\n",
      "           0       0.94      0.98      0.96    108175\n",
      "           1       0.89      0.75      0.81     24608\n",
      "\n",
      "    accuracy                           0.94    132783\n",
      "   macro avg       0.92      0.86      0.89    132783\n",
      "weighted avg       0.93      0.94      0.93    132783\n",
      "\n"
     ]
    }
   ],
   "source": [
    "print(classification_report(seizDetectPred, train_seizure_labels, output_dict=False))"
   ]
  },
  {
   "cell_type": "markdown",
   "metadata": {},
   "source": [
    "## see the error rate per session"
   ]
  },
  {
   "cell_type": "code",
   "execution_count": 24,
   "metadata": {},
   "outputs": [],
   "source": [
    "train_pred_errors_per_session = pd.Series(train_session_labels)[train_seizure_labels!=pred[0].argmax(1)].value_counts()\n",
    "train_false_alarms_per_session = pd.Series(train_session_labels)[(train_seizure_labels!=pred[0].argmax(1)) & (np.array(train_seizure_labels) == False)].value_counts()\n",
    "train_missed_seizures_per_session = pd.Series(train_session_labels)[(train_seizure_labels!=pred[0].argmax(1)) & (np.array(train_seizure_labels) == True)].value_counts()"
   ]
  },
  {
   "cell_type": "code",
   "execution_count": 28,
   "metadata": {},
   "outputs": [],
   "source": [
    "train_fail_per_session_rate = (pd.Series(train_session_labels)[train_seizure_labels!=pred[0].argmax(1)].value_counts()/pd.Series(train_session_labels).value_counts()).sort_values(ascending=False).fillna(0)\n",
    "train_false_alarms_per_session_rate = (pd.Series(train_session_labels)[train_seizure_labels!=pred[0].argmax(1) & (np.array(train_seizure_labels) == False)].value_counts()/pd.Series(train_session_labels).value_counts()).sort_values(ascending=False).fillna(0)\n",
    "train_missed_seizures_per_session_rate = (pd.Series(train_session_labels)[train_seizure_labels!=pred[0].argmax(1) & (np.array(train_seizure_labels) == True)].value_counts()/pd.Series(train_session_labels).value_counts()).sort_values(ascending=False).fillna(0)"
   ]
  },
  {
   "cell_type": "code",
   "execution_count": 31,
   "metadata": {},
   "outputs": [],
   "source": [
    "valid_pred_errors_per_session = pd.Series(valid_session_labels)[valid_seizure_labels!=val_pred[0].argmax(1)].value_counts()\n",
    "valid_false_alarms_per_session = pd.Series(valid_session_labels)[(valid_seizure_labels!=val_pred[0].argmax(1)) & (np.array(valid_seizure_labels) == False)].value_counts()\n",
    "valid_missed_seizures_per_session = pd.Series(valid_session_labels)[(valid_seizure_labels!=val_pred[0].argmax(1)) & (np.array(valid_seizure_labels) == True)].value_counts()"
   ]
  },
  {
   "cell_type": "code",
   "execution_count": 32,
   "metadata": {},
   "outputs": [],
   "source": [
    "valid_fail_per_session_rate = (pd.Series(valid_session_labels)[valid_seizure_labels!=val_pred[0].argmax(1)].value_counts()/pd.Series(valid_session_labels).value_counts()).sort_values(ascending=False).fillna(0)\n",
    "valid_false_alarms_per_session_rate = (pd.Series(valid_session_labels)[valid_seizure_labels!=val_pred[0].argmax(1) & (np.array(valid_seizure_labels) == False)].value_counts()/pd.Series(valid_session_labels).value_counts()).sort_values(ascending=False).fillna(0)\n",
    "valid_missed_seizures_per_session_rate = (pd.Series(valid_session_labels)[valid_seizure_labels!=val_pred[0].argmax(1) & (np.array(valid_seizure_labels) == True)].value_counts()/pd.Series(valid_session_labels).value_counts()).sort_values(ascending=False).fillna(0)"
   ]
  },
  {
   "cell_type": "markdown",
   "metadata": {},
   "source": [
    "### Compare to seizure rate per session"
   ]
  },
  {
   "cell_type": "code",
   "execution_count": 90,
   "metadata": {},
   "outputs": [],
   "source": [
    "bins_fail = [0. , 0.1, 0.2, 0.3, 0.4, 0.5, 0.6, 0.7, 0.8, 0.9, 1. ]\n",
    "seizure_label_bins = []\n",
    "for i in range(len(bins_fail)-1):\n",
    "    sliced_sessions = (valid_fail_per_session_rate > bins_fail[i]) & (valid_fail_per_session_rate < bins_fail[i+1])\n",
    "    \n",
    "#     seizure_label_bins.append(sliced_sessions)\n",
    "\n",
    "    seizure_label_bins.append(pd.Series(valid_seizure_labels)[pd.Series(valid_session_labels).apply(lambda session_label: sliced_sessions[session_label])])"
   ]
  },
  {
   "cell_type": "code",
   "execution_count": 59,
   "metadata": {},
   "outputs": [
    {
     "data": {
      "text/plain": [
       "10"
      ]
     },
     "execution_count": 59,
     "metadata": {},
     "output_type": "execute_result"
    }
   ],
   "source": [
    "len([seizure_label_bins[i].sum()/seizure_label_bins[i].shape[0] for i in range(len(seizure_label_bins))])"
   ]
  },
  {
   "cell_type": "code",
   "execution_count": 85,
   "metadata": {},
   "outputs": [],
   "source": [
    "import matplotlib.colors as mcolors\n",
    "import numpy as np\n",
    "\n",
    "clist = [(0, \"red\"), (1, \"blue\")]\n",
    "rvb = mcolors.LinearSegmentedColormap.from_list(\"\", clist)\n",
    "\n",
    "N = 60\n",
    "x = np.arange(N).astype(float)\n",
    "y = np.random.uniform(0, 5, size=(N,))"
   ]
  },
  {
   "cell_type": "code",
   "execution_count": 91,
   "metadata": {},
   "outputs": [
    {
     "name": "stderr",
     "output_type": "stream",
     "text": [
      "/home/ms994/miniconda3/envs/keras-redo/lib/python3.7/site-packages/ipykernel_launcher.py:12: RuntimeWarning: invalid value encountered in long_scalars\n",
      "  if sys.path[0] == '':\n"
     ]
    },
    {
     "data": {
      "text/plain": [
       "Text(0, 0.5, 'Seizure Rate for Each Session')"
      ]
     },
     "execution_count": 91,
     "metadata": {},
     "output_type": "execute_result"
    },
    {
     "data": {
      "image/png": "[encoded data removed]",
      "text/plain": [
       "<Figure size 864x864 with 2 Axes>"
      ]
     },
     "metadata": {
      "needs_background": "light"
     },
     "output_type": "display_data"
    }
   ],
   "source": [
    "figure = plt.figure(figsize=(12,12))\n",
    "ax = plt.subplot(2, 1, 1)\n",
    "ax.set_title( \"Distribution of Sessions and Overall Error Rate\")\n",
    "\n",
    "ax.set_xlabel(\"Incorrect Prediction Rate for Each Session\")\n",
    "ax.set_ylabel(\"Number of Sessions\")\n",
    "histogram = plt.hist(valid_fail_per_session_rate)\n",
    "\n",
    "\n",
    "\n",
    "ax = plt.subplot(2, 1, 2)\n",
    "plt.bar(height=pd.Series([seizure_label_bins[i].sum()/seizure_label_bins[i].shape[0] for i in range(len(seizure_label_bins))]).fillna(0), x=[0. , 0.1, 0.2, 0.3, 0.4, 0.5, 0.6, 0.7, 0.8, 0.9,], width=0.1)\n",
    "ax.set_title(\"Proportion Seizure Annotation of Each Session Compared to Fail Rate\")\n",
    "ax.set_xlabel(\"Incorrect Prediction Rate for Each Session\")\n",
    "ax.set_ylabel(\"Seizure Rate for Each Session\")"
   ]
  },
  {
   "cell_type": "code",
   "execution_count": 75,
   "metadata": {},
   "outputs": [],
   "source": [
    "bins_fail = [0. , 0.1, 0.2, 0.3, 0.4, 0.5, 0.6, 0.7, 0.8, 0.9, 1. ]\n",
    "seizure_label_bins = []\n",
    "for i in range(len(bins_fail)-1):\n",
    "    sliced_sessions = (train_fail_per_session_rate > bins_fail[i]) & (train_fail_per_session_rate < bins_fail[i+1])\n",
    "#     seizure_label_bins.append(sliced_sessions)\n",
    "\n",
    "    seizure_label_bins.append(pd.Series(train_seizure_labels)[pd.Series(train_session_labels).apply(lambda session_label: sliced_sessions[session_label])])"
   ]
  },
  {
   "cell_type": "code",
   "execution_count": 79,
   "metadata": {},
   "outputs": [
    {
     "name": "stderr",
     "output_type": "stream",
     "text": [
      "/home/ms994/miniconda3/envs/keras-redo/lib/python3.7/site-packages/ipykernel_launcher.py:12: RuntimeWarning: invalid value encountered in long_scalars\n",
      "  if sys.path[0] == '':\n"
     ]
    },
    {
     "data": {
      "text/plain": [
       "Text(0, 0.5, 'Seizure Rate for Each Session')"
      ]
     },
     "execution_count": 79,
     "metadata": {},
     "output_type": "execute_result"
    },
    {
     "data": {
      "image/png": "[encoded data removed]",
      "text/plain": [
       "<Figure size 864x864 with 2 Axes>"
      ]
     },
     "metadata": {
      "needs_background": "light"
     },
     "output_type": "display_data"
    }
   ],
   "source": [
    "figure = plt.figure(figsize=(12,12))\n",
    "ax = plt.subplot(2, 1, 1)\n",
    "ax.set_title( \"Distribution of Sessions and Overall Fail Rate\")\n",
    "\n",
    "ax.set_xlabel(\"Incorrect Prediction Rate for Each Session\")\n",
    "ax.set_ylabel(\"Number of Sessions\")\n",
    "histogram = plt.hist(train_fail_per_session_rate)\n",
    "\n",
    "\n",
    "\n",
    "ax = plt.subplot(2, 1, 2)\n",
    "plt.bar(height=pd.Series([seizure_label_bins[i].sum()/seizure_label_bins[i].shape[0] for i in range(len(seizure_label_bins))]).fillna(0), x=[0. , 0.1, 0.2, 0.3, 0.4, 0.5, 0.6, 0.7, 0.8, 0.9,], width=0.1)\n",
    "ax.set_title(\"Proportion Seizure Annotation of Each Session Compared to Fail Rate\")\n",
    "ax.set_xlabel(\"Incorrect Prediction Rate for Each Session\")\n",
    "ax.set_ylabel(\"Seizure Rate for Each Session\")"
   ]
  },
  {
   "cell_type": "code",
   "execution_count": 93,
   "metadata": {},
   "outputs": [
    {
     "name": "stderr",
     "output_type": "stream",
     "text": [
      "/home/ms994/miniconda3/envs/keras-redo/lib/python3.7/site-packages/ipykernel_launcher.py:20: RuntimeWarning: invalid value encountered in double_scalars\n"
     ]
    },
    {
     "data": {
      "text/plain": [
       "Text(0, 0.5, 'Seizure Rate for Each Session')"
      ]
     },
     "execution_count": 93,
     "metadata": {},
     "output_type": "execute_result"
    },
    {
     "data": {
      "image/png": "[encoded data removed]",
      "text/plain": [
       "<Figure size 864x864 with 2 Axes>"
      ]
     },
     "metadata": {
      "needs_background": "light"
     },
     "output_type": "display_data"
    }
   ],
   "source": [
    "bins_fail = [0. , 0.1, 0.2, 0.3, 0.4, 0.5, 0.6, 0.7, 0.8, 0.9, 1. ]\n",
    "seizure_label_bins = []\n",
    "for i in range(len(bins_fail)-1):\n",
    "    sliced_sessions = (train_fail_per_session_rate > bins_fail[i]) & (train_fail_per_session_rate < bins_fail[i+1])\n",
    "#     seizure_label_bins.append(sliced_sessions)\n",
    "\n",
    "    seizure_label_bins.append(pd.Series(cachedAnalysisResults.trainStdPerSegment)[pd.Series(train_session_labels).apply(lambda session_label: sliced_sessions[session_label])])\n",
    "    \n",
    "figure = plt.figure(figsize=(12,12))\n",
    "ax = plt.subplot(2, 1, 1)\n",
    "ax.set_title( \"Distribution of Sessions and Overall Fail Rate\")\n",
    "\n",
    "ax.set_xlabel(\"Incorrect Prediction Rate for Each Session\")\n",
    "ax.set_ylabel(\"Number of Sessions\")\n",
    "histogram = plt.hist(train_fail_per_session_rate)\n",
    "\n",
    "\n",
    "\n",
    "ax = plt.subplot(2, 1, 2)\n",
    "plt.bar(height=pd.Series([seizure_label_bins[i].sum()/seizure_label_bins[i].shape[0] for i in range(len(seizure_label_bins))]).fillna(0), x=[0. , 0.1, 0.2, 0.3, 0.4, 0.5, 0.6, 0.7, 0.8, 0.9,], width=0.1)\n",
    "ax.set_title(\"Proportion Seizure Annotation of Each Session Compared to Fail Rate\")\n",
    "ax.set_xlabel(\"Incorrect Prediction Rate for Each Session\")\n",
    "ax.set_ylabel(\"Seizure Rate for Each Session\")"
   ]
  },
  {
   "cell_type": "code",
   "execution_count": 94,
   "metadata": {},
   "outputs": [
    {
     "name": "stderr",
     "output_type": "stream",
     "text": [
      "/home/ms994/miniconda3/envs/keras-redo/lib/python3.7/site-packages/ipykernel_launcher.py:20: RuntimeWarning: invalid value encountered in double_scalars\n"
     ]
    },
    {
     "data": {
      "text/plain": [
       "Text(0, 0.5, 'Seizure Rate for Each Session')"
      ]
     },
     "execution_count": 94,
     "metadata": {},
     "output_type": "execute_result"
    },
    {
     "data": {
      "image/png": "[encoded data removed]",
      "text/plain": [
       "<Figure size 864x864 with 2 Axes>"
      ]
     },
     "metadata": {
      "needs_background": "light"
     },
     "output_type": "display_data"
    }
   ],
   "source": [
    "bins_fail = [0. , 0.1, 0.2, 0.3, 0.4, 0.5, 0.6, 0.7, 0.8, 0.9, 1. ]\n",
    "seizure_label_bins = []\n",
    "for i in range(len(bins_fail)-1):\n",
    "    sliced_sessions = (valid_fail_per_session_rate > bins_fail[i]) & (valid_fail_per_session_rate < bins_fail[i+1])\n",
    "#     seizure_label_bins.append(sliced_sessions)\n",
    "\n",
    "    seizure_label_bins.append(pd.Series(cachedAnalysisResults.validStdPerSegment)[pd.Series(valid_session_labels).apply(lambda session_label: sliced_sessions[session_label])])\n",
    "    \n",
    "figure = plt.figure(figsize=(12,12))\n",
    "ax = plt.subplot(2, 1, 1)\n",
    "ax.set_title( \"Distribution of Sessions and Overall Fail Rate\")\n",
    "\n",
    "ax.set_xlabel(\"Incorrect Prediction Rate for Each Session\")\n",
    "ax.set_ylabel(\"Number of Sessions\")\n",
    "histogram = plt.hist(valid_fail_per_session_rate)\n",
    "\n",
    "\n",
    "\n",
    "ax = plt.subplot(2, 1, 2)\n",
    "plt.bar(height=pd.Series([seizure_label_bins[i].sum()/seizure_label_bins[i].shape[0] for i in range(len(seizure_label_bins))]).fillna(0), x=[0. , 0.1, 0.2, 0.3, 0.4, 0.5, 0.6, 0.7, 0.8, 0.9,], width=0.1)\n",
    "ax.set_title(\"Proportion Seizure Annotation of Each Session Compared to Fail Rate\")\n",
    "ax.set_xlabel(\"Incorrect Prediction Rate for Each Session\")\n",
    "ax.set_ylabel(\"Seizure Rate for Each Session\")"
   ]
  },
  {
   "cell_type": "code",
   "execution_count": 99,
   "metadata": {},
   "outputs": [
    {
     "data": {
      "text/plain": [
       "(array([15763., 12698.,  4486.,  1278.,   610.,   450.,   412.,   324.,\n",
       "          220.,   184.,   287.,   165.,   111.,    70.,    79.,    86.,\n",
       "          146.,    69.,    51.]),\n",
       " array([  0,  10,  20,  30,  40,  50,  60,  70,  80,  90, 100, 110, 120,\n",
       "        130, 140, 150, 160, 170, 180, 190]),\n",
       " <a list of 19 Patch objects>)"
      ]
     },
     "execution_count": 99,
     "metadata": {},
     "output_type": "execute_result"
    },
    {
     "data": {
      "image/png": "[encoded data removed]",
      "text/plain": [
       "<Figure size 432x288 with 1 Axes>"
      ]
     },
     "metadata": {
      "needs_background": "light"
     },
     "output_type": "display_data"
    }
   ],
   "source": [
    "plt.title(\"Valid Standard Deviation (µV) Distribution for each 4s segment\")\n",
    "plt.hist(cachedAnalysisResults.validStdPerSegment, bins=[10*i for i in range(20)])"
   ]
  },
  {
   "cell_type": "code",
   "execution_count": 100,
   "metadata": {},
   "outputs": [
    {
     "data": {
      "text/plain": [
       "(array([41511., 50780., 15659.,  5093.,  2120.,  1394.,  1363.,  1483.,\n",
       "         1075.,   616.,   610.,   623.,   358.,   474.,   628.,   365.,\n",
       "          433.,   254.,   238.]),\n",
       " array([  0,  10,  20,  30,  40,  50,  60,  70,  80,  90, 100, 110, 120,\n",
       "        130, 140, 150, 160, 170, 180, 190]),\n",
       " <a list of 19 Patch objects>)"
      ]
     },
     "execution_count": 100,
     "metadata": {},
     "output_type": "execute_result"
    },
    {
     "data": {
      "image/png": "[encoded data removed]",
      "text/plain": [
       "<Figure size 432x288 with 1 Axes>"
      ]
     },
     "metadata": {
      "needs_background": "light"
     },
     "output_type": "display_data"
    }
   ],
   "source": [
    "plt.title(\"Train Standard Deviation (µV) Distribution for each 4s segment\")\n",
    "plt.hist(cachedAnalysisResults.trainStdPerSegment, bins=[10*i for i in range(20)])"
   ]
  },
  {
   "cell_type": "code",
   "execution_count": 9,
   "metadata": {},
   "outputs": [],
   "source": [
    "full_df = pd.DataFrame([cachedAnalysisResults.trainStdPerSegment, cachedAnalysisResults.train_seizure_labels, cachedAnalysisResults.train_session_labels], index=[\"std\", \"seiz\", \"sess\"]).T"
   ]
  },
  {
   "cell_type": "code",
   "execution_count": 28,
   "metadata": {},
   "outputs": [],
   "source": [
    "full_df[\"std\"] = full_df[\"std\"].astype(np.float)"
   ]
  },
  {
   "cell_type": "code",
   "execution_count": 31,
   "metadata": {},
   "outputs": [],
   "source": [
    "sbs = pd.DataFrame([full_df.groupby(\"sess\")[\"std\"].mean(), full_df.groupby(\"sess\")[\"seiz\"].sum()/full_df.groupby(\"sess\")[\"seiz\"].count()]).T"
   ]
  },
  {
   "cell_type": "code",
   "execution_count": null,
   "metadata": {},
   "outputs": [],
   "source": []
  },
  {
   "cell_type": "code",
   "execution_count": 33,
   "metadata": {},
   "outputs": [
    {
     "data": {
      "text/html": [
       "<div>\n",
       "<style scoped>\n",
       "    .dataframe tbody tr th:only-of-type {\n",
       "        vertical-align: middle;\n",
       "    }\n",
       "\n",
       "    .dataframe tbody tr th {\n",
       "        vertical-align: top;\n",
       "    }\n",
       "\n",
       "    .dataframe thead th {\n",
       "        text-align: right;\n",
       "    }\n",
       "</style>\n",
       "<table border=\"1\" class=\"dataframe\">\n",
       "  <thead>\n",
       "    <tr style=\"text-align: right;\">\n",
       "      <th></th>\n",
       "      <th>std</th>\n",
       "      <th>seiz</th>\n",
       "    </tr>\n",
       "    <tr>\n",
       "      <th>sess</th>\n",
       "      <th></th>\n",
       "      <th></th>\n",
       "    </tr>\n",
       "  </thead>\n",
       "  <tbody>\n",
       "    <tr>\n",
       "      <th>00000077/s003_2010_01_21</th>\n",
       "      <td>29.194767</td>\n",
       "      <td>0.000000</td>\n",
       "    </tr>\n",
       "    <tr>\n",
       "      <th>00000254/s005_2010_11_15</th>\n",
       "      <td>6.273648</td>\n",
       "      <td>0.000000</td>\n",
       "    </tr>\n",
       "    <tr>\n",
       "      <th>00000254/s006_2011_07_01</th>\n",
       "      <td>5.377775</td>\n",
       "      <td>0.000000</td>\n",
       "    </tr>\n",
       "    <tr>\n",
       "      <th>00000254/s007_2013_03_25</th>\n",
       "      <td>26.027723</td>\n",
       "      <td>0.000000</td>\n",
       "    </tr>\n",
       "    <tr>\n",
       "      <th>00000458/s005_2003_02_12</th>\n",
       "      <td>23.536660</td>\n",
       "      <td>0.000000</td>\n",
       "    </tr>\n",
       "    <tr>\n",
       "      <th>00000458/s011_2014_06_24</th>\n",
       "      <td>15.545072</td>\n",
       "      <td>0.000000</td>\n",
       "    </tr>\n",
       "    <tr>\n",
       "      <th>00000458/s012_2014_06_25</th>\n",
       "      <td>19.902327</td>\n",
       "      <td>0.000000</td>\n",
       "    </tr>\n",
       "    <tr>\n",
       "      <th>00000492/s003_2003_07_18</th>\n",
       "      <td>17.604735</td>\n",
       "      <td>0.187935</td>\n",
       "    </tr>\n",
       "    <tr>\n",
       "      <th>00000529/s004_2012_06_05</th>\n",
       "      <td>9.701745</td>\n",
       "      <td>0.000000</td>\n",
       "    </tr>\n",
       "    <tr>\n",
       "      <th>00000598/s006_2013_09_09</th>\n",
       "      <td>31.465229</td>\n",
       "      <td>0.000000</td>\n",
       "    </tr>\n",
       "    <tr>\n",
       "      <th>00000630/s002_2003_05_28</th>\n",
       "      <td>136.044465</td>\n",
       "      <td>0.139665</td>\n",
       "    </tr>\n",
       "    <tr>\n",
       "      <th>00000659/s003_2013_06_07</th>\n",
       "      <td>15.112537</td>\n",
       "      <td>0.000000</td>\n",
       "    </tr>\n",
       "    <tr>\n",
       "      <th>00000850/s002_2013_05_15</th>\n",
       "      <td>17.696793</td>\n",
       "      <td>0.000000</td>\n",
       "    </tr>\n",
       "    <tr>\n",
       "      <th>00000906/s001_2003_04_23</th>\n",
       "      <td>15.401209</td>\n",
       "      <td>0.000000</td>\n",
       "    </tr>\n",
       "    <tr>\n",
       "      <th>00000906/s002_2003_04_24</th>\n",
       "      <td>19.602100</td>\n",
       "      <td>0.000000</td>\n",
       "    </tr>\n",
       "    <tr>\n",
       "      <th>00000906/s004_2003_04_26</th>\n",
       "      <td>27.977386</td>\n",
       "      <td>0.000000</td>\n",
       "    </tr>\n",
       "    <tr>\n",
       "      <th>00000906/s005_2003_04_27</th>\n",
       "      <td>33.692398</td>\n",
       "      <td>0.045198</td>\n",
       "    </tr>\n",
       "    <tr>\n",
       "      <th>00000906/s007_2003_04_28</th>\n",
       "      <td>20.435095</td>\n",
       "      <td>0.000000</td>\n",
       "    </tr>\n",
       "    <tr>\n",
       "      <th>00000906/s014_2012_02_28</th>\n",
       "      <td>32.484733</td>\n",
       "      <td>0.000000</td>\n",
       "    </tr>\n",
       "    <tr>\n",
       "      <th>00000906/s015_2012_03_01</th>\n",
       "      <td>23.405269</td>\n",
       "      <td>0.000000</td>\n",
       "    </tr>\n",
       "    <tr>\n",
       "      <th>00000906/s016_2012_03_01</th>\n",
       "      <td>33.534465</td>\n",
       "      <td>0.000000</td>\n",
       "    </tr>\n",
       "    <tr>\n",
       "      <th>00000906/s017_2012_03_02</th>\n",
       "      <td>16.157611</td>\n",
       "      <td>0.000000</td>\n",
       "    </tr>\n",
       "    <tr>\n",
       "      <th>00000906/s018_2013_01_22</th>\n",
       "      <td>22.267441</td>\n",
       "      <td>0.000000</td>\n",
       "    </tr>\n",
       "    <tr>\n",
       "      <th>00000924/s002_2003_07_15</th>\n",
       "      <td>39.129792</td>\n",
       "      <td>0.000000</td>\n",
       "    </tr>\n",
       "    <tr>\n",
       "      <th>00001030/s004_2015_06_24</th>\n",
       "      <td>9.267417</td>\n",
       "      <td>0.000000</td>\n",
       "    </tr>\n",
       "    <tr>\n",
       "      <th>00001034/s002_2004_04_21</th>\n",
       "      <td>9.871288</td>\n",
       "      <td>0.000000</td>\n",
       "    </tr>\n",
       "    <tr>\n",
       "      <th>00001204/s002_2004_09_29</th>\n",
       "      <td>113.293494</td>\n",
       "      <td>0.000000</td>\n",
       "    </tr>\n",
       "    <tr>\n",
       "      <th>00001482/s004_2014_03_28</th>\n",
       "      <td>40.327145</td>\n",
       "      <td>0.000000</td>\n",
       "    </tr>\n",
       "    <tr>\n",
       "      <th>00001820/s003_2010_04_05</th>\n",
       "      <td>12.195948</td>\n",
       "      <td>0.000000</td>\n",
       "    </tr>\n",
       "    <tr>\n",
       "      <th>00002322/s005_2013_09_19</th>\n",
       "      <td>15.416462</td>\n",
       "      <td>0.000000</td>\n",
       "    </tr>\n",
       "    <tr>\n",
       "      <th>...</th>\n",
       "      <td>...</td>\n",
       "      <td>...</td>\n",
       "    </tr>\n",
       "    <tr>\n",
       "      <th>00012742/s008_2015_04_08</th>\n",
       "      <td>15.968755</td>\n",
       "      <td>0.000000</td>\n",
       "    </tr>\n",
       "    <tr>\n",
       "      <th>00012742/s010_2015_06_17</th>\n",
       "      <td>24.503752</td>\n",
       "      <td>0.313725</td>\n",
       "    </tr>\n",
       "    <tr>\n",
       "      <th>00012751/s001_2015_04_08</th>\n",
       "      <td>14.590801</td>\n",
       "      <td>0.000000</td>\n",
       "    </tr>\n",
       "    <tr>\n",
       "      <th>00012759/s001_2015_04_08</th>\n",
       "      <td>11.791189</td>\n",
       "      <td>0.278846</td>\n",
       "    </tr>\n",
       "    <tr>\n",
       "      <th>00012887/s001_2015_07_09</th>\n",
       "      <td>5.782634</td>\n",
       "      <td>0.000000</td>\n",
       "    </tr>\n",
       "    <tr>\n",
       "      <th>00012940/s001_2015_04_26</th>\n",
       "      <td>289.083495</td>\n",
       "      <td>0.820988</td>\n",
       "    </tr>\n",
       "    <tr>\n",
       "      <th>00012940/s002_2015_04_26</th>\n",
       "      <td>78.989342</td>\n",
       "      <td>0.746835</td>\n",
       "    </tr>\n",
       "    <tr>\n",
       "      <th>00012940/s003_2015_04_27</th>\n",
       "      <td>190.666664</td>\n",
       "      <td>0.635922</td>\n",
       "    </tr>\n",
       "    <tr>\n",
       "      <th>00012940/s004_2015_04_28</th>\n",
       "      <td>156.819743</td>\n",
       "      <td>0.000000</td>\n",
       "    </tr>\n",
       "    <tr>\n",
       "      <th>00012941/s002_2015_04_19</th>\n",
       "      <td>14.906439</td>\n",
       "      <td>0.561453</td>\n",
       "    </tr>\n",
       "    <tr>\n",
       "      <th>00012960/s001_2015_06_17</th>\n",
       "      <td>21.861553</td>\n",
       "      <td>0.000000</td>\n",
       "    </tr>\n",
       "    <tr>\n",
       "      <th>00012960/s002_2015_06_17</th>\n",
       "      <td>12.176789</td>\n",
       "      <td>0.000000</td>\n",
       "    </tr>\n",
       "    <tr>\n",
       "      <th>00012960/s003_2015_06_18</th>\n",
       "      <td>55.695233</td>\n",
       "      <td>0.000000</td>\n",
       "    </tr>\n",
       "    <tr>\n",
       "      <th>00012964/s001_2015_04_27</th>\n",
       "      <td>21.827234</td>\n",
       "      <td>0.000000</td>\n",
       "    </tr>\n",
       "    <tr>\n",
       "      <th>00012964/s002_2015_04_27</th>\n",
       "      <td>14.668388</td>\n",
       "      <td>0.000000</td>\n",
       "    </tr>\n",
       "    <tr>\n",
       "      <th>00012966/s001_2015_09_02</th>\n",
       "      <td>14.348587</td>\n",
       "      <td>0.687500</td>\n",
       "    </tr>\n",
       "    <tr>\n",
       "      <th>00012966/s002_2015_09_02</th>\n",
       "      <td>184.106090</td>\n",
       "      <td>0.309342</td>\n",
       "    </tr>\n",
       "    <tr>\n",
       "      <th>00012966/s003_2015_09_03</th>\n",
       "      <td>16.182307</td>\n",
       "      <td>0.109415</td>\n",
       "    </tr>\n",
       "    <tr>\n",
       "      <th>00012966/s004_2015_09_03</th>\n",
       "      <td>8.913393</td>\n",
       "      <td>0.000000</td>\n",
       "    </tr>\n",
       "    <tr>\n",
       "      <th>00012966/s005_2015_09_04</th>\n",
       "      <td>10.106416</td>\n",
       "      <td>0.000000</td>\n",
       "    </tr>\n",
       "    <tr>\n",
       "      <th>00012966/s007_2015_09_05</th>\n",
       "      <td>100.218990</td>\n",
       "      <td>0.000000</td>\n",
       "    </tr>\n",
       "    <tr>\n",
       "      <th>00012966/s009_2015_09_06</th>\n",
       "      <td>57.689582</td>\n",
       "      <td>0.252717</td>\n",
       "    </tr>\n",
       "    <tr>\n",
       "      <th>00012973/s001_2015_07_13</th>\n",
       "      <td>13.257652</td>\n",
       "      <td>0.687500</td>\n",
       "    </tr>\n",
       "    <tr>\n",
       "      <th>00012973/s006_2015_07_14</th>\n",
       "      <td>80.264249</td>\n",
       "      <td>0.313622</td>\n",
       "    </tr>\n",
       "    <tr>\n",
       "      <th>00012973/s007_2015_07_15</th>\n",
       "      <td>130.203282</td>\n",
       "      <td>0.244444</td>\n",
       "    </tr>\n",
       "    <tr>\n",
       "      <th>00012978/s001_2015_08_23</th>\n",
       "      <td>12.987563</td>\n",
       "      <td>0.000000</td>\n",
       "    </tr>\n",
       "    <tr>\n",
       "      <th>00013011/s001_2015_07_16</th>\n",
       "      <td>22.932461</td>\n",
       "      <td>0.000000</td>\n",
       "    </tr>\n",
       "    <tr>\n",
       "      <th>00013345/s001_2015_09_08</th>\n",
       "      <td>6.384354</td>\n",
       "      <td>0.000000</td>\n",
       "    </tr>\n",
       "    <tr>\n",
       "      <th>00013400/s001_2015_06_21</th>\n",
       "      <td>13.988627</td>\n",
       "      <td>0.000000</td>\n",
       "    </tr>\n",
       "    <tr>\n",
       "      <th>00013400/s002_2015_06_21</th>\n",
       "      <td>11.854106</td>\n",
       "      <td>0.000000</td>\n",
       "    </tr>\n",
       "  </tbody>\n",
       "</table>\n",
       "<p>550 rows × 2 columns</p>\n",
       "</div>"
      ],
      "text/plain": [
       "                                 std      seiz\n",
       "sess                                          \n",
       "00000077/s003_2010_01_21   29.194767  0.000000\n",
       "00000254/s005_2010_11_15    6.273648  0.000000\n",
       "00000254/s006_2011_07_01    5.377775  0.000000\n",
       "00000254/s007_2013_03_25   26.027723  0.000000\n",
       "00000458/s005_2003_02_12   23.536660  0.000000\n",
       "00000458/s011_2014_06_24   15.545072  0.000000\n",
       "00000458/s012_2014_06_25   19.902327  0.000000\n",
       "00000492/s003_2003_07_18   17.604735  0.187935\n",
       "00000529/s004_2012_06_05    9.701745  0.000000\n",
       "00000598/s006_2013_09_09   31.465229  0.000000\n",
       "00000630/s002_2003_05_28  136.044465  0.139665\n",
       "00000659/s003_2013_06_07   15.112537  0.000000\n",
       "00000850/s002_2013_05_15   17.696793  0.000000\n",
       "00000906/s001_2003_04_23   15.401209  0.000000\n",
       "00000906/s002_2003_04_24   19.602100  0.000000\n",
       "00000906/s004_2003_04_26   27.977386  0.000000\n",
       "00000906/s005_2003_04_27   33.692398  0.045198\n",
       "00000906/s007_2003_04_28   20.435095  0.000000\n",
       "00000906/s014_2012_02_28   32.484733  0.000000\n",
       "00000906/s015_2012_03_01   23.405269  0.000000\n",
       "00000906/s016_2012_03_01   33.534465  0.000000\n",
       "00000906/s017_2012_03_02   16.157611  0.000000\n",
       "00000906/s018_2013_01_22   22.267441  0.000000\n",
       "00000924/s002_2003_07_15   39.129792  0.000000\n",
       "00001030/s004_2015_06_24    9.267417  0.000000\n",
       "00001034/s002_2004_04_21    9.871288  0.000000\n",
       "00001204/s002_2004_09_29  113.293494  0.000000\n",
       "00001482/s004_2014_03_28   40.327145  0.000000\n",
       "00001820/s003_2010_04_05   12.195948  0.000000\n",
       "00002322/s005_2013_09_19   15.416462  0.000000\n",
       "...                              ...       ...\n",
       "00012742/s008_2015_04_08   15.968755  0.000000\n",
       "00012742/s010_2015_06_17   24.503752  0.313725\n",
       "00012751/s001_2015_04_08   14.590801  0.000000\n",
       "00012759/s001_2015_04_08   11.791189  0.278846\n",
       "00012887/s001_2015_07_09    5.782634  0.000000\n",
       "00012940/s001_2015_04_26  289.083495  0.820988\n",
       "00012940/s002_2015_04_26   78.989342  0.746835\n",
       "00012940/s003_2015_04_27  190.666664  0.635922\n",
       "00012940/s004_2015_04_28  156.819743  0.000000\n",
       "00012941/s002_2015_04_19   14.906439  0.561453\n",
       "00012960/s001_2015_06_17   21.861553  0.000000\n",
       "00012960/s002_2015_06_17   12.176789  0.000000\n",
       "00012960/s003_2015_06_18   55.695233  0.000000\n",
       "00012964/s001_2015_04_27   21.827234  0.000000\n",
       "00012964/s002_2015_04_27   14.668388  0.000000\n",
       "00012966/s001_2015_09_02   14.348587  0.687500\n",
       "00012966/s002_2015_09_02  184.106090  0.309342\n",
       "00012966/s003_2015_09_03   16.182307  0.109415\n",
       "00012966/s004_2015_09_03    8.913393  0.000000\n",
       "00012966/s005_2015_09_04   10.106416  0.000000\n",
       "00012966/s007_2015_09_05  100.218990  0.000000\n",
       "00012966/s009_2015_09_06   57.689582  0.252717\n",
       "00012973/s001_2015_07_13   13.257652  0.687500\n",
       "00012973/s006_2015_07_14   80.264249  0.313622\n",
       "00012973/s007_2015_07_15  130.203282  0.244444\n",
       "00012978/s001_2015_08_23   12.987563  0.000000\n",
       "00013011/s001_2015_07_16   22.932461  0.000000\n",
       "00013345/s001_2015_09_08    6.384354  0.000000\n",
       "00013400/s001_2015_06_21   13.988627  0.000000\n",
       "00013400/s002_2015_06_21   11.854106  0.000000\n",
       "\n",
       "[550 rows x 2 columns]"
      ]
     },
     "execution_count": 33,
     "metadata": {},
     "output_type": "execute_result"
    }
   ],
   "source": [
    "sbs"
   ]
  },
  {
   "cell_type": "code",
   "execution_count": null,
   "metadata": {},
   "outputs": [],
   "source": []
  },
  {
   "cell_type": "code",
   "execution_count": 40,
   "metadata": {},
   "outputs": [
    {
     "data": {
      "text/plain": [
       "[<matplotlib.lines.Line2D at 0x7f42f8449be0>]"
      ]
     },
     "execution_count": 40,
     "metadata": {},
     "output_type": "execute_result"
    },
    {
     "data": {
      "image/png": "[encoded data removed]",
      "text/plain": [
       "<Figure size 432x288 with 1 Axes>"
      ]
     },
     "metadata": {
      "needs_background": "light"
     },
     "output_type": "display_data"
    }
   ],
   "source": [
    "plt.title(\"Standard Deviation vs. Percent Seizure\")\n",
    "plt.xlabel(\"Standard Deviation (µV)\")\n",
    "plt.ylabel(\"Percent Session Seizure\")\n",
    "plt.plot(sbs[\"std\"], sbs.seiz, \".\")"
   ]
  },
  {
   "cell_type": "code",
   "execution_count": 24,
   "metadata": {},
   "outputs": [
    {
     "data": {
      "text/plain": [
       "dtype('O')"
      ]
     },
     "execution_count": 24,
     "metadata": {},
     "output_type": "execute_result"
    }
   ],
   "source": [
    "full_df.head()[\"std\"].dtype"
   ]
  }
 ],
 "metadata": {
  "kernelspec": {
   "display_name": "Python 3",
   "language": "python",
   "name": "python3"
  },
  "language_info": {
   "codemirror_mode": {
    "name": "ipython",
    "version": 3
   },
   "file_extension": ".py",
   "mimetype": "text/x-python",
   "name": "python",
   "nbconvert_exporter": "python",
   "pygments_lexer": "ipython3",
   "version": "3.7.3"
  },
  "toc": {
   "base_numbering": 1,
   "nav_menu": {},
   "number_sections": true,
   "sideBar": true,
   "skip_h1_title": false,
   "title_cell": "Table of Contents",
   "title_sidebar": "Contents",
   "toc_cell": false,
   "toc_position": {},
   "toc_section_display": true,
   "toc_window_display": false
  }
 },
 "nbformat": 4,
 "nbformat_minor": 2
}

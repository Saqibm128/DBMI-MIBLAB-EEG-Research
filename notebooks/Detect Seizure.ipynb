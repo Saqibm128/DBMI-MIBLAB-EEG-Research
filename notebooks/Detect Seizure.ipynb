{
 "cells": [
  {
   "cell_type": "code",
   "execution_count": 1,
   "metadata": {},
   "outputs": [
    {
     "name": "stderr",
     "output_type": "stream",
     "text": [
      "Using TensorFlow backend.\n"
     ]
    }
   ],
   "source": [
    "import sys, os\n",
    "sys.path.append(os.path.realpath(\"..\"))\n",
    "os.environ[\"TF_XLA_FLAGS\"]=\"--tf_xla_cpu_global_jit\"\n",
    "\n",
    "import util_funcs\n",
    "from importlib import reload\n",
    "import data_reader as read\n",
    "import pandas as pd\n",
    "import numpy as np\n",
    "import pickle as pkl\n",
    "import matplotlib.pyplot as plt\n",
    "import constants\n",
    "import clinical_text_analysis as cta\n",
    "import tsfresh\n",
    "from sklearn.metrics import roc_auc_score, accuracy_score, confusion_matrix, roc_curve\n",
    "from os import path\n",
    "import predictSeizureConvExp as psce\n",
    "import keras_models.dataGen as dg\n",
    "from addict import Dict\n",
    "reload(psce)\n",
    "from keras.utils import multi_gpu_model\n",
    "import keras.optimizers\n",
    "import time\n",
    "from sklearn.metrics import confusion_matrix, roc_auc_score, accuracy_score, log_loss"
   ]
  },
  {
   "cell_type": "code",
   "execution_count": 2,
   "metadata": {},
   "outputs": [
    {
     "data": {
      "text/plain": [
       "dict_keys(['use_random_ensemble', 'precached_pkl', 'precached_test_pkl', 'ensemble_sample_info_path', 'max_num_samples', 'use_standard_scaler', 'use_filtering'])"
      ]
     },
     "execution_count": 2,
     "metadata": {},
     "output_type": "execute_result"
    }
   ],
   "source": [
    "config = Dict(psce.standardized_ensemble())\n",
    "config.keys()"
   ]
  },
  {
   "cell_type": "code",
   "execution_count": 3,
   "metadata": {},
   "outputs": [],
   "source": [
    "precached_pkl = \"/n/scratch2/ms994/standardized_simple_ensemble_train_data_seizure.pkl\""
   ]
  },
  {
   "cell_type": "code",
   "execution_count": 3,
   "metadata": {},
   "outputs": [],
   "source": [
    "trainDataGen = psce.get_data_generator(\"train\", config.precached_pkl)"
   ]
  },
  {
   "cell_type": "code",
   "execution_count": 4,
   "metadata": {},
   "outputs": [],
   "source": [
    "testDataGen = psce.get_data_generator(\"dev_test\", config.precached_test_pkl, is_test=True)"
   ]
  },
  {
   "cell_type": "code",
   "execution_count": 6,
   "metadata": {},
   "outputs": [],
   "source": [
    "trainDataGen, validDataGen = trainDataGen"
   ]
  },
  {
   "cell_type": "code",
   "execution_count": 30,
   "metadata": {},
   "outputs": [
    {
     "data": {
      "text/plain": [
       "1093"
      ]
     },
     "execution_count": 30,
     "metadata": {},
     "output_type": "execute_result"
    }
   ],
   "source": [
    "len(testDataGen)"
   ]
  },
  {
   "cell_type": "code",
   "execution_count": 7,
   "metadata": {},
   "outputs": [],
   "source": [
    "testX = np.stack([datum[0] for datum in testDataGen.dataset])\n",
    "testY = np.stack([datum[1] for datum in testDataGen.dataset])"
   ]
  },
  {
   "cell_type": "code",
   "execution_count": 39,
   "metadata": {},
   "outputs": [
    {
     "data": {
      "text/plain": [
       "((34998, 500, 21), (34998,))"
      ]
     },
     "execution_count": 39,
     "metadata": {},
     "output_type": "execute_result"
    }
   ],
   "source": [
    "testX.shape, testY.shape"
   ]
  },
  {
   "cell_type": "code",
   "execution_count": 86,
   "metadata": {},
   "outputs": [
    {
     "data": {
      "text/plain": [
       "(5018, 500, 21)"
      ]
     },
     "execution_count": 86,
     "metadata": {},
     "output_type": "execute_result"
    }
   ],
   "source": [
    "seizureX = np.vstack([testX[testY == 1], testX[0:2500]])\n",
    "seizureX.shape"
   ]
  },
  {
   "cell_type": "code",
   "execution_count": 87,
   "metadata": {},
   "outputs": [
    {
     "data": {
      "text/plain": [
       "((5018,), 0.5245117576723795)"
      ]
     },
     "execution_count": 87,
     "metadata": {},
     "output_type": "execute_result"
    }
   ],
   "source": [
    "seizureY = np.hstack([testY[testY == 1], testY[0:2500]])\n",
    "seizureY.shape, seizureY.mean()"
   ]
  },
  {
   "cell_type": "code",
   "execution_count": null,
   "metadata": {},
   "outputs": [],
   "source": [
    "seizy"
   ]
  },
  {
   "cell_type": "code",
   "execution_count": 8,
   "metadata": {},
   "outputs": [],
   "source": [
    "import keras_models.vanPutten as vp"
   ]
  },
  {
   "cell_type": "code",
   "execution_count": 9,
   "metadata": {},
   "outputs": [
    {
     "name": "stderr",
     "output_type": "stream",
     "text": [
      "WARNING:tensorflow:From /home/ms994/miniconda3/envs/keras-redo/lib/python3.7/site-packages/tensorflow/python/framework/op_def_library.py:263: colocate_with (from tensorflow.python.framework.ops) is deprecated and will be removed in a future version.\n",
      "Instructions for updating:\n",
      "Colocations handled automatically by placer.\n",
      "WARNING:tensorflow:From /home/ms994/miniconda3/envs/keras-redo/lib/python3.7/site-packages/keras/backend/tensorflow_backend.py:3445: calling dropout (from tensorflow.python.ops.nn_ops) with keep_prob is deprecated and will be removed in a future version.\n",
      "Instructions for updating:\n",
      "Please use `rate` instead of `keep_prob`. Rate should be set to `rate = 1 - keep_prob`.\n"
     ]
    }
   ],
   "source": [
    "reload(vp)\n",
    "model = vp.inception_like((21,500,1), num_layers=4, num_filters=10)"
   ]
  },
  {
   "cell_type": "code",
   "execution_count": 10,
   "metadata": {},
   "outputs": [
    {
     "name": "stdout",
     "output_type": "stream",
     "text": [
      "__________________________________________________________________________________________________\n",
      "Layer (type)                    Output Shape         Param #     Connected to                     \n",
      "==================================================================================================\n",
      "input_1 (InputLayer)            (None, 21, 500, 1)   0                                            \n",
      "__________________________________________________________________________________________________\n",
      "conv2d_1 (Conv2D)               (None, 20, 499, 10)  50          input_1[0][0]                    \n",
      "__________________________________________________________________________________________________\n",
      "conv2d_5 (Conv2D)               (None, 19, 498, 10)  100         input_1[0][0]                    \n",
      "__________________________________________________________________________________________________\n",
      "conv2d_9 (Conv2D)               (None, 18, 497, 10)  170         input_1[0][0]                    \n",
      "__________________________________________________________________________________________________\n",
      "conv2d_13 (Conv2D)              (None, 17, 496, 10)  260         input_1[0][0]                    \n",
      "__________________________________________________________________________________________________\n",
      "conv2d_17 (Conv2D)              (None, 16, 495, 10)  370         input_1[0][0]                    \n",
      "__________________________________________________________________________________________________\n",
      "max_pooling2d_1 (MaxPooling2D)  (None, 20, 249, 10)  0           conv2d_1[0][0]                   \n",
      "__________________________________________________________________________________________________\n",
      "max_pooling2d_5 (MaxPooling2D)  (None, 19, 249, 10)  0           conv2d_5[0][0]                   \n",
      "__________________________________________________________________________________________________\n",
      "max_pooling2d_9 (MaxPooling2D)  (None, 18, 248, 10)  0           conv2d_9[0][0]                   \n",
      "__________________________________________________________________________________________________\n",
      "max_pooling2d_13 (MaxPooling2D) (None, 17, 248, 10)  0           conv2d_13[0][0]                  \n",
      "__________________________________________________________________________________________________\n",
      "max_pooling2d_17 (MaxPooling2D) (None, 16, 247, 10)  0           conv2d_17[0][0]                  \n",
      "__________________________________________________________________________________________________\n",
      "dropout_1 (Dropout)             (None, 20, 249, 10)  0           max_pooling2d_1[0][0]            \n",
      "__________________________________________________________________________________________________\n",
      "dropout_5 (Dropout)             (None, 19, 249, 10)  0           max_pooling2d_5[0][0]            \n",
      "__________________________________________________________________________________________________\n",
      "dropout_9 (Dropout)             (None, 18, 248, 10)  0           max_pooling2d_9[0][0]            \n",
      "__________________________________________________________________________________________________\n",
      "dropout_13 (Dropout)            (None, 17, 248, 10)  0           max_pooling2d_13[0][0]           \n",
      "__________________________________________________________________________________________________\n",
      "dropout_17 (Dropout)            (None, 16, 247, 10)  0           max_pooling2d_17[0][0]           \n",
      "__________________________________________________________________________________________________\n",
      "batch_normalization_1 (BatchNor (None, 20, 249, 10)  40          dropout_1[0][0]                  \n",
      "__________________________________________________________________________________________________\n",
      "batch_normalization_5 (BatchNor (None, 19, 249, 10)  40          dropout_5[0][0]                  \n",
      "__________________________________________________________________________________________________\n",
      "batch_normalization_9 (BatchNor (None, 18, 248, 10)  40          dropout_9[0][0]                  \n",
      "__________________________________________________________________________________________________\n",
      "batch_normalization_13 (BatchNo (None, 17, 248, 10)  40          dropout_13[0][0]                 \n",
      "__________________________________________________________________________________________________\n",
      "batch_normalization_17 (BatchNo (None, 16, 247, 10)  40          dropout_17[0][0]                 \n",
      "__________________________________________________________________________________________________\n",
      "conv2d_2 (Conv2D)               (None, 19, 248, 20)  820         batch_normalization_1[0][0]      \n",
      "__________________________________________________________________________________________________\n",
      "conv2d_6 (Conv2D)               (None, 17, 247, 20)  1820        batch_normalization_5[0][0]      \n",
      "__________________________________________________________________________________________________\n",
      "conv2d_10 (Conv2D)              (None, 18, 248, 20)  3220        batch_normalization_9[0][0]      \n",
      "__________________________________________________________________________________________________\n",
      "conv2d_14 (Conv2D)              (None, 17, 248, 20)  5020        batch_normalization_13[0][0]     \n",
      "__________________________________________________________________________________________________\n",
      "conv2d_18 (Conv2D)              (None, 16, 247, 20)  7220        batch_normalization_17[0][0]     \n",
      "__________________________________________________________________________________________________\n",
      "max_pooling2d_2 (MaxPooling2D)  (None, 19, 124, 20)  0           conv2d_2[0][0]                   \n",
      "__________________________________________________________________________________________________\n",
      "max_pooling2d_6 (MaxPooling2D)  (None, 17, 123, 20)  0           conv2d_6[0][0]                   \n",
      "__________________________________________________________________________________________________\n",
      "max_pooling2d_10 (MaxPooling2D) (None, 18, 124, 20)  0           conv2d_10[0][0]                  \n",
      "__________________________________________________________________________________________________\n",
      "max_pooling2d_14 (MaxPooling2D) (None, 17, 124, 20)  0           conv2d_14[0][0]                  \n",
      "__________________________________________________________________________________________________\n",
      "max_pooling2d_18 (MaxPooling2D) (None, 16, 123, 20)  0           conv2d_18[0][0]                  \n",
      "__________________________________________________________________________________________________\n",
      "dropout_2 (Dropout)             (None, 19, 124, 20)  0           max_pooling2d_2[0][0]            \n",
      "__________________________________________________________________________________________________\n",
      "dropout_6 (Dropout)             (None, 17, 123, 20)  0           max_pooling2d_6[0][0]            \n",
      "__________________________________________________________________________________________________\n",
      "dropout_10 (Dropout)            (None, 18, 124, 20)  0           max_pooling2d_10[0][0]           \n",
      "__________________________________________________________________________________________________\n",
      "dropout_14 (Dropout)            (None, 17, 124, 20)  0           max_pooling2d_14[0][0]           \n",
      "__________________________________________________________________________________________________\n",
      "dropout_18 (Dropout)            (None, 16, 123, 20)  0           max_pooling2d_18[0][0]           \n",
      "__________________________________________________________________________________________________\n",
      "batch_normalization_2 (BatchNor (None, 19, 124, 20)  80          dropout_2[0][0]                  \n",
      "__________________________________________________________________________________________________\n",
      "batch_normalization_6 (BatchNor (None, 17, 123, 20)  80          dropout_6[0][0]                  \n",
      "__________________________________________________________________________________________________\n",
      "batch_normalization_10 (BatchNo (None, 18, 124, 20)  80          dropout_10[0][0]                 \n",
      "__________________________________________________________________________________________________\n",
      "batch_normalization_14 (BatchNo (None, 17, 124, 20)  80          dropout_14[0][0]                 \n",
      "__________________________________________________________________________________________________\n",
      "batch_normalization_18 (BatchNo (None, 16, 123, 20)  80          dropout_18[0][0]                 \n",
      "__________________________________________________________________________________________________\n",
      "conv2d_3 (Conv2D)               (None, 18, 123, 20)  1620        batch_normalization_2[0][0]      \n",
      "__________________________________________________________________________________________________\n",
      "conv2d_7 (Conv2D)               (None, 15, 121, 20)  3620        batch_normalization_6[0][0]      \n",
      "__________________________________________________________________________________________________\n",
      "conv2d_11 (Conv2D)              (None, 18, 124, 20)  6420        batch_normalization_10[0][0]     \n",
      "__________________________________________________________________________________________________\n",
      "conv2d_15 (Conv2D)              (None, 17, 124, 20)  10020       batch_normalization_14[0][0]     \n",
      "__________________________________________________________________________________________________\n",
      "conv2d_19 (Conv2D)              (None, 16, 123, 20)  14420       batch_normalization_18[0][0]     \n",
      "__________________________________________________________________________________________________\n",
      "max_pooling2d_3 (MaxPooling2D)  (None, 18, 61, 20)   0           conv2d_3[0][0]                   \n",
      "__________________________________________________________________________________________________\n",
      "max_pooling2d_7 (MaxPooling2D)  (None, 15, 60, 20)   0           conv2d_7[0][0]                   \n",
      "__________________________________________________________________________________________________\n",
      "max_pooling2d_11 (MaxPooling2D) (None, 18, 62, 20)   0           conv2d_11[0][0]                  \n",
      "__________________________________________________________________________________________________\n",
      "max_pooling2d_15 (MaxPooling2D) (None, 17, 62, 20)   0           conv2d_15[0][0]                  \n",
      "__________________________________________________________________________________________________\n",
      "max_pooling2d_19 (MaxPooling2D) (None, 16, 61, 20)   0           conv2d_19[0][0]                  \n",
      "__________________________________________________________________________________________________\n",
      "dropout_3 (Dropout)             (None, 18, 61, 20)   0           max_pooling2d_3[0][0]            \n",
      "__________________________________________________________________________________________________\n",
      "dropout_7 (Dropout)             (None, 15, 60, 20)   0           max_pooling2d_7[0][0]            \n",
      "__________________________________________________________________________________________________\n",
      "dropout_11 (Dropout)            (None, 18, 62, 20)   0           max_pooling2d_11[0][0]           \n",
      "__________________________________________________________________________________________________\n",
      "dropout_15 (Dropout)            (None, 17, 62, 20)   0           max_pooling2d_15[0][0]           \n",
      "__________________________________________________________________________________________________\n",
      "dropout_19 (Dropout)            (None, 16, 61, 20)   0           max_pooling2d_19[0][0]           \n",
      "__________________________________________________________________________________________________\n",
      "batch_normalization_3 (BatchNor (None, 18, 61, 20)   80          dropout_3[0][0]                  \n",
      "__________________________________________________________________________________________________\n",
      "batch_normalization_7 (BatchNor (None, 15, 60, 20)   80          dropout_7[0][0]                  \n",
      "__________________________________________________________________________________________________\n",
      "batch_normalization_11 (BatchNo (None, 18, 62, 20)   80          dropout_11[0][0]                 \n",
      "__________________________________________________________________________________________________\n",
      "batch_normalization_15 (BatchNo (None, 17, 62, 20)   80          dropout_15[0][0]                 \n",
      "__________________________________________________________________________________________________\n",
      "batch_normalization_19 (BatchNo (None, 16, 61, 20)   80          dropout_19[0][0]                 \n",
      "__________________________________________________________________________________________________\n",
      "conv2d_4 (Conv2D)               (None, 17, 60, 20)   1620        batch_normalization_3[0][0]      \n",
      "__________________________________________________________________________________________________\n",
      "conv2d_8 (Conv2D)               (None, 13, 58, 20)   3620        batch_normalization_7[0][0]      \n",
      "__________________________________________________________________________________________________\n",
      "conv2d_12 (Conv2D)              (None, 18, 62, 20)   6420        batch_normalization_11[0][0]     \n",
      "__________________________________________________________________________________________________\n",
      "conv2d_16 (Conv2D)              (None, 17, 62, 20)   10020       batch_normalization_15[0][0]     \n",
      "__________________________________________________________________________________________________\n",
      "conv2d_20 (Conv2D)              (None, 16, 61, 20)   14420       batch_normalization_19[0][0]     \n",
      "__________________________________________________________________________________________________\n",
      "max_pooling2d_4 (MaxPooling2D)  (None, 17, 30, 20)   0           conv2d_4[0][0]                   \n",
      "__________________________________________________________________________________________________\n",
      "max_pooling2d_8 (MaxPooling2D)  (None, 13, 29, 20)   0           conv2d_8[0][0]                   \n",
      "__________________________________________________________________________________________________\n",
      "max_pooling2d_12 (MaxPooling2D) (None, 18, 31, 20)   0           conv2d_12[0][0]                  \n",
      "__________________________________________________________________________________________________\n",
      "max_pooling2d_16 (MaxPooling2D) (None, 17, 31, 20)   0           conv2d_16[0][0]                  \n",
      "__________________________________________________________________________________________________\n",
      "max_pooling2d_20 (MaxPooling2D) (None, 16, 30, 20)   0           conv2d_20[0][0]                  \n",
      "__________________________________________________________________________________________________\n",
      "dropout_4 (Dropout)             (None, 17, 30, 20)   0           max_pooling2d_4[0][0]            \n",
      "__________________________________________________________________________________________________\n",
      "dropout_8 (Dropout)             (None, 13, 29, 20)   0           max_pooling2d_8[0][0]            \n",
      "__________________________________________________________________________________________________\n",
      "dropout_12 (Dropout)            (None, 18, 31, 20)   0           max_pooling2d_12[0][0]           \n",
      "__________________________________________________________________________________________________\n",
      "dropout_16 (Dropout)            (None, 17, 31, 20)   0           max_pooling2d_16[0][0]           \n",
      "__________________________________________________________________________________________________\n",
      "dropout_20 (Dropout)            (None, 16, 30, 20)   0           max_pooling2d_20[0][0]           \n",
      "__________________________________________________________________________________________________\n",
      "batch_normalization_4 (BatchNor (None, 17, 30, 20)   80          dropout_4[0][0]                  \n",
      "__________________________________________________________________________________________________\n",
      "batch_normalization_8 (BatchNor (None, 13, 29, 20)   80          dropout_8[0][0]                  \n",
      "__________________________________________________________________________________________________\n",
      "batch_normalization_12 (BatchNo (None, 18, 31, 20)   80          dropout_12[0][0]                 \n",
      "__________________________________________________________________________________________________\n",
      "batch_normalization_16 (BatchNo (None, 17, 31, 20)   80          dropout_16[0][0]                 \n",
      "__________________________________________________________________________________________________\n",
      "batch_normalization_20 (BatchNo (None, 16, 30, 20)   80          dropout_20[0][0]                 \n",
      "__________________________________________________________________________________________________\n",
      "flatten_1 (Flatten)             (None, 10200)        0           batch_normalization_4[0][0]      \n",
      "__________________________________________________________________________________________________\n",
      "flatten_2 (Flatten)             (None, 7540)         0           batch_normalization_8[0][0]      \n",
      "__________________________________________________________________________________________________\n",
      "flatten_3 (Flatten)             (None, 11160)        0           batch_normalization_12[0][0]     \n",
      "__________________________________________________________________________________________________\n",
      "flatten_4 (Flatten)             (None, 10540)        0           batch_normalization_16[0][0]     \n",
      "__________________________________________________________________________________________________\n",
      "flatten_5 (Flatten)             (None, 9600)         0           batch_normalization_20[0][0]     \n",
      "__________________________________________________________________________________________________\n",
      "concatenate_1 (Concatenate)     (None, 49040)        0           flatten_1[0][0]                  \n",
      "                                                                 flatten_2[0][0]                  \n",
      "                                                                 flatten_3[0][0]                  \n",
      "                                                                 flatten_4[0][0]                  \n",
      "                                                                 flatten_5[0][0]                  \n",
      "__________________________________________________________________________________________________\n",
      "dense_1 (Dense)                 (None, 2)            98082       concatenate_1[0][0]              \n",
      "==================================================================================================\n",
      "Total params: 190,732\n",
      "Trainable params: 190,032\n",
      "Non-trainable params: 700\n",
      "__________________________________________________________________________________________________\n"
     ]
    }
   ],
   "source": [
    "model.summary()"
   ]
  },
  {
   "cell_type": "code",
   "execution_count": 11,
   "metadata": {},
   "outputs": [],
   "source": [
    "model = multi_gpu_model(model, 4)"
   ]
  },
  {
   "cell_type": "code",
   "execution_count": 12,
   "metadata": {},
   "outputs": [],
   "source": [
    "adam = keras.optimizers.Adam(lr=0.001)\n",
    "model.compile(adam, loss=\"categorical_crossentropy\")"
   ]
  },
  {
   "cell_type": "code",
   "execution_count": 13,
   "metadata": {},
   "outputs": [],
   "source": [
    "from keras_models import util"
   ]
  },
  {
   "cell_type": "code",
   "execution_count": 15,
   "metadata": {},
   "outputs": [],
   "source": [
    "validData = validDataGen.dataset"
   ]
  },
  {
   "cell_type": "code",
   "execution_count": 18,
   "metadata": {},
   "outputs": [
    {
     "data": {
      "text/plain": [
       "(500, 21)"
      ]
     },
     "execution_count": 18,
     "metadata": {},
     "output_type": "execute_result"
    }
   ],
   "source": [
    "validDataX = np.stack([datum[0] for datum in validData])\n",
    "validDataY = np.stack([datum[1] for datum in validData])"
   ]
  },
  {
   "cell_type": "code",
   "execution_count": 24,
   "metadata": {},
   "outputs": [],
   "source": [
    "y_true_a = []\n",
    "for i in range(len(validDataGen)):\n",
    "    _, y_true_add = validDataGen[i]\n",
    "    y_true.append(y_true_add)"
   ]
  },
  {
   "cell_type": "code",
   "execution_count": 29,
   "metadata": {},
   "outputs": [
    {
     "data": {
      "text/plain": [
       "array([[1., 0.],\n",
       "       [1., 0.],\n",
       "       [1., 0.],\n",
       "       ...,\n",
       "       [1., 0.],\n",
       "       [1., 0.],\n",
       "       [1., 0.]], dtype=float32)"
      ]
     },
     "execution_count": 29,
     "metadata": {},
     "output_type": "execute_result"
    }
   ],
   "source": [
    "np.concatenate(y_true)"
   ]
  },
  {
   "cell_type": "code",
   "execution_count": 25,
   "metadata": {},
   "outputs": [
    {
     "data": {
      "text/plain": [
       "False"
      ]
     },
     "execution_count": 25,
     "metadata": {},
     "output_type": "execute_result"
    }
   ],
   "source": [
    "y_true == y_true_a"
   ]
  },
  {
   "cell_type": "code",
   "execution_count": 20,
   "metadata": {},
   "outputs": [],
   "source": [
    "y_pred = model.predict_generator(validDataGen)"
   ]
  },
  {
   "cell_type": "code",
   "execution_count": 21,
   "metadata": {},
   "outputs": [
    {
     "data": {
      "text/plain": [
       "(17952, 2)"
      ]
     },
     "execution_count": 21,
     "metadata": {},
     "output_type": "execute_result"
    }
   ],
   "source": [
    "y_pred.shape"
   ]
  },
  {
   "cell_type": "code",
   "execution_count": 30,
   "metadata": {},
   "outputs": [
    {
     "data": {
      "text/plain": [
       "<module 'keras_models.util' from '/home/ms994/dbmi_eeg_clustering/keras_models/util.py'>"
      ]
     },
     "execution_count": 30,
     "metadata": {},
     "output_type": "execute_result"
    }
   ],
   "source": []
  },
  {
   "cell_type": "code",
   "execution_count": 54,
   "metadata": {},
   "outputs": [
    {
     "name": "stdout",
     "output_type": "stream",
     "text": [
      "Progress: 1/3267\n",
      "Epoch: 0, Step: 1/256, Loss: 1.1920930376163597e-07\n",
      "Progress: 2/3267\n",
      "Epoch: 0, Step: 2/256, Loss: 0.11542464047670364\n",
      "Progress: 3/3267\n",
      "Epoch: 0, Step: 3/256, Loss: 1.5646222095710982e-07\n",
      "Progress: 4/3267\n",
      "Epoch: 0, Step: 4/256, Loss: 1.5127218961715698\n",
      "Progress: 5/3267\n",
      "Epoch: 0, Step: 5/256, Loss: 1.528052806854248\n",
      "Epoch 1/1: loss: 0.6312398910522461\n",
      "Progress: 1/3267\n",
      "Epoch: 1, Step: 1/256, Loss: 1.1920930376163597e-07\n",
      "Progress: 2/3267\n",
      "Epoch: 1, Step: 2/256, Loss: 1.5110714435577393\n",
      "Progress: 3/3267\n",
      "Epoch: 1, Step: 3/256, Loss: 1.0073812007904053\n",
      "Progress: 4/3267\n",
      "Epoch: 1, Step: 4/256, Loss: 5.476194928633049e-07\n",
      "Progress: 5/3267\n",
      "Epoch: 1, Step: 5/256, Loss: 1.1230889558792114\n",
      "Epoch 2/1: loss: 0.728308379650116\n",
      "Progress: 1/3267\n",
      "Epoch: 2, Step: 1/256, Loss: 0.000744776742067188\n",
      "1.2294352054595947\n"
     ]
    }
   ],
   "source": [
    "from keras_models import util as util_run\n",
    "reload(util_run)\n",
    "history = util_run.model_run(model=model, patience=10, class_weights=[1,30], model_name=\"yolo1.h5\", epochs=1, trainDataGen=trainDataGen, validDataGen=validDataGen, )"
   ]
  },
  {
   "cell_type": "code",
   "execution_count": 56,
   "metadata": {},
   "outputs": [
    {
     "data": {
      "text/plain": [
       "2"
      ]
     },
     "execution_count": 56,
     "metadata": {},
     "output_type": "execute_result"
    }
   ],
   "source": [
    "len(history.history.loss)"
   ]
  },
  {
   "cell_type": "code",
   "execution_count": 102,
   "metadata": {},
   "outputs": [],
   "source": [
    "trainDataGen.batch_size = 1280"
   ]
  },
  {
   "cell_type": "code",
   "execution_count": 103,
   "metadata": {},
   "outputs": [],
   "source": [
    "start = time.time()\n",
    "lossHist = []\n",
    "callback_check = 10\n",
    "epochs=1\n",
    "# seizureX = seizureX.reshape((*seizureX.shape, 1)).transpose((0,2,1,3))\n",
    "num_steps = len(trainDataGen)\n",
    "# num_steps = 10\n",
    "validX = []\n",
    "validY = []"
   ]
  },
  {
   "cell_type": "code",
   "execution_count": 106,
   "metadata": {},
   "outputs": [
    {
     "name": "stdout",
     "output_type": "stream",
     "text": [
      "Epoch: 0, Step: 0/95, Loss: 0.2845654785633087\n",
      "predicted all 0\n",
      "Updating Class Weight to: [ 0.9        22.22222222]\n",
      "Epoch: 0, Step: 1/95, Loss: 0.26884907484054565\n",
      "Epoch: 0, Step: 2/95, Loss: 0.3087906539440155\n",
      "Epoch: 0, Step: 3/95, Loss: 0.30356794595718384\n",
      "Epoch: 0, Step: 4/95, Loss: 0.24307191371917725\n",
      "Epoch: 0, Step: 5/95, Loss: 0.29212602972984314\n",
      "predicted all 0\n",
      "Updating Class Weight to: [ 0.81       24.69135802]\n",
      "Epoch: 0, Step: 6/95, Loss: 0.2752738893032074\n",
      "Epoch: 0, Step: 7/95, Loss: 0.255071759223938\n",
      "Epoch: 0, Step: 8/95, Loss: 0.25660499930381775\n",
      "Epoch: 0, Step: 9/95, Loss: 0.2733497619628906\n",
      "Epoch: 0, Step: 10/95, Loss: 0.19150973856449127\n",
      "predicted all 0\n",
      "Updating Class Weight to: [ 0.729      27.43484225]\n",
      "Epoch: 0, Step: 11/95, Loss: 0.2439744919538498\n",
      "Epoch: 0, Step: 12/95, Loss: 0.247213214635849\n",
      "Epoch: 0, Step: 13/95, Loss: 0.2706335186958313\n",
      "Epoch: 0, Step: 14/95, Loss: 0.3031953275203705\n",
      "Epoch: 0, Step: 15/95, Loss: 0.28288760781288147\n",
      "predicted all 0\n",
      "Updating Class Weight to: [ 0.6561     30.48315806]\n",
      "Epoch: 0, Step: 16/95, Loss: 0.30947843194007874\n",
      "Epoch: 0, Step: 17/95, Loss: 0.2660514712333679\n",
      "Epoch: 0, Step: 18/95, Loss: 0.27393585443496704\n",
      "Epoch: 0, Step: 19/95, Loss: 0.35112226009368896\n",
      "Epoch: 0, Step: 20/95, Loss: 0.2794857323169708\n",
      "predicted all 0\n",
      "Updating Class Weight to: [ 0.59049    33.87017562]\n",
      "Epoch: 0, Step: 21/95, Loss: 0.31390419602394104\n",
      "Epoch: 0, Step: 22/95, Loss: 0.24401409924030304\n",
      "Epoch: 0, Step: 23/95, Loss: 0.25774675607681274\n",
      "Epoch: 0, Step: 24/95, Loss: 0.3173445165157318\n",
      "Epoch: 0, Step: 25/95, Loss: 0.2274889200925827\n",
      "predicted all 0\n",
      "Updating Class Weight to: [ 0.531441   37.63352846]\n",
      "Epoch: 0, Step: 26/95, Loss: 0.24843955039978027\n",
      "Epoch: 0, Step: 27/95, Loss: 0.28177493810653687\n",
      "Epoch: 0, Step: 28/95, Loss: 0.22293588519096375\n",
      "Epoch: 0, Step: 29/95, Loss: 0.2427888810634613\n",
      "Epoch: 0, Step: 30/95, Loss: 0.24577951431274414\n",
      "predicted all 0\n",
      "Updating Class Weight to: [ 0.4782969  41.81503163]\n",
      "Epoch: 0, Step: 31/95, Loss: 0.26342639327049255\n",
      "Epoch: 0, Step: 32/95, Loss: 0.22513413429260254\n",
      "Epoch: 0, Step: 33/95, Loss: 0.2791145443916321\n",
      "Epoch: 0, Step: 34/95, Loss: 0.23263339698314667\n",
      "Epoch: 0, Step: 35/95, Loss: 0.3040443956851959\n",
      "predicted all 0\n",
      "Updating Class Weight to: [ 0.43046721 46.46114625]\n",
      "Epoch: 0, Step: 36/95, Loss: 0.2234598845243454\n",
      "Epoch: 0, Step: 37/95, Loss: 0.26690202951431274\n",
      "Epoch: 0, Step: 38/95, Loss: 0.262792706489563\n",
      "Epoch: 0, Step: 39/95, Loss: 0.286276638507843\n",
      "Epoch: 0, Step: 40/95, Loss: 0.3300442099571228\n",
      "predicted all 0\n",
      "Updating Class Weight to: [ 0.38742049 51.62349583]\n",
      "Epoch: 0, Step: 41/95, Loss: 0.282301664352417\n",
      "Epoch: 0, Step: 42/95, Loss: 0.27297690510749817\n",
      "Epoch: 0, Step: 43/95, Loss: 0.23264575004577637\n",
      "Epoch: 0, Step: 44/95, Loss: 0.19731196761131287\n",
      "Epoch: 0, Step: 45/95, Loss: 0.2389138638973236\n",
      "predicted all 0\n",
      "Updating Class Weight to: [ 0.34867844 57.35943982]\n",
      "Epoch: 0, Step: 46/95, Loss: 0.2654201090335846\n",
      "Epoch: 0, Step: 47/95, Loss: 0.2827643156051636\n",
      "Epoch: 0, Step: 48/95, Loss: 0.2638232409954071\n",
      "Epoch: 0, Step: 49/95, Loss: 0.2702478766441345\n",
      "Epoch: 0, Step: 50/95, Loss: 0.2735169529914856\n",
      "Epoch: 0, Step: 51/95, Loss: 0.24675896763801575\n",
      "Epoch: 0, Step: 52/95, Loss: 0.25374704599380493\n",
      "Epoch: 0, Step: 53/95, Loss: 0.26545900106430054\n",
      "Epoch: 0, Step: 54/95, Loss: 0.2887461483478546\n",
      "Epoch: 0, Step: 55/95, Loss: 0.211560919880867\n",
      "Epoch: 0, Step: 56/95, Loss: 0.24516411125659943\n",
      "Epoch: 0, Step: 57/95, Loss: 0.21016685664653778\n",
      "Epoch: 0, Step: 58/95, Loss: 0.20871183276176453\n",
      "Epoch: 0, Step: 59/95, Loss: 0.26410454511642456\n",
      "Epoch: 0, Step: 60/95, Loss: 0.28257864713668823\n",
      "predicted all 0\n",
      "Updating Class Weight to: [ 0.3138106  63.73271091]\n",
      "Epoch: 0, Step: 61/95, Loss: 0.24318769574165344\n",
      "Epoch: 0, Step: 62/95, Loss: 0.28754723072052\n",
      "Epoch: 0, Step: 63/95, Loss: 0.23846784234046936\n",
      "Epoch: 0, Step: 64/95, Loss: 0.26207980513572693\n",
      "Epoch: 0, Step: 65/95, Loss: 0.20438852906227112\n",
      "predicted all 0\n",
      "Updating Class Weight to: [ 0.28242954 70.81412323]\n",
      "Epoch: 0, Step: 66/95, Loss: 0.2341880351305008\n",
      "Epoch: 0, Step: 67/95, Loss: 0.24703200161457062\n",
      "Epoch: 0, Step: 68/95, Loss: 0.25180408358573914\n",
      "Epoch: 0, Step: 69/95, Loss: 0.21927139163017273\n",
      "Epoch: 0, Step: 70/95, Loss: 0.20682016015052795\n",
      "predicted all 0\n",
      "Updating Class Weight to: [ 0.25418658 78.68235914]\n",
      "Epoch: 0, Step: 71/95, Loss: 0.1475873589515686\n",
      "Epoch: 0, Step: 72/95, Loss: 0.279693067073822\n",
      "Epoch: 0, Step: 73/95, Loss: 0.27712130546569824\n",
      "Epoch: 0, Step: 74/95, Loss: 0.2513698637485504\n",
      "Epoch: 0, Step: 75/95, Loss: 0.23888203501701355\n",
      "Epoch: 0, Step: 76/95, Loss: 0.2650281488895416\n",
      "Epoch: 0, Step: 77/95, Loss: 0.1968589425086975\n",
      "Epoch: 0, Step: 78/95, Loss: 0.22317957878112793\n",
      "Epoch: 0, Step: 79/95, Loss: 0.24228131771087646\n",
      "Epoch: 0, Step: 80/95, Loss: 0.226009339094162\n",
      "Epoch: 0, Step: 81/95, Loss: 0.2715327739715576\n",
      "Epoch: 0, Step: 82/95, Loss: 0.23505167663097382\n",
      "Epoch: 0, Step: 83/95, Loss: 0.2295423448085785\n",
      "Epoch: 0, Step: 84/95, Loss: 0.1957966387271881\n",
      "Epoch: 0, Step: 85/95, Loss: 0.3165128827095032\n",
      "predicted all 0\n",
      "Updating Class Weight to: [ 0.22876792 87.42484349]\n",
      "Epoch: 0, Step: 86/95, Loss: 0.21723127365112305\n",
      "Epoch: 0, Step: 87/95, Loss: 0.23694851994514465\n",
      "Epoch: 0, Step: 88/95, Loss: 0.2545182406902313\n",
      "Epoch: 0, Step: 89/95, Loss: 0.2942122519016266\n",
      "Epoch: 0, Step: 90/95, Loss: 0.24426111578941345\n",
      "predicted all 0\n",
      "Updating Class Weight to: [ 0.20589113 97.13871499]\n",
      "Epoch: 0, Step: 91/95, Loss: 0.24569138884544373\n",
      "Epoch: 0, Step: 92/95, Loss: 0.27942752838134766\n",
      "Epoch: 0, Step: 93/95, Loss: 0.25440043210983276\n",
      "Epoch: 0, Step: 94/95, Loss: 0.25464779138565063\n",
      "119.90500378608704\n"
     ]
    }
   ],
   "source": [
    "callback_check = 5\n",
    "start = time.time()\n",
    "class_weight = np.array([1,20])\n",
    "update_amount = 0.9\n",
    "for i in range((epochs)):\n",
    "    for j in range(num_steps):\n",
    "        loss = model.train_on_batch(trainDataGen[j][0], trainDataGen[j][1], class_weight=class_weight)\n",
    "        lossHist.append(loss)\n",
    "        print(\"Epoch: {}, Step: {}/{}, Loss: {}\".format(i,j, num_steps, loss))\n",
    "        if j % callback_check == 0:\n",
    "            valid_index = np.random.choice(list(range(len(seizureX))), 1000)\n",
    "            validX = seizureX[valid_index]\n",
    "            validY = seizureY[valid_index]\n",
    "            y_pred = model.predict(validX)\n",
    "            y_pred = y_pred.argmax(1)\n",
    "            if y_pred.mean() == int(y_pred.mean()):\n",
    "                problem_class = int(y_pred.mean())\n",
    "                class_weight = class_weight / update_amount\n",
    "                class_weight[problem_class] = class_weight[problem_class] * update_amount ** 2\n",
    "                print(\"predicted all {}\".format(problem_class))\n",
    "                print(\"Updating Class Weight to: {}\".format(class_weight))\n",
    "\n",
    "print(time.time()-start)"
   ]
  },
  {
   "cell_type": "code",
   "execution_count": 107,
   "metadata": {},
   "outputs": [
    {
     "data": {
      "text/plain": [
       "array([0, 0, 0, 0, 0, 0, 0, 0, 0, 0, 0, 0, 0, 0, 0, 0, 0, 0, 0, 0, 0, 0,\n",
       "       0, 0, 0, 0, 0, 0, 0, 0, 0, 0, 0, 0, 0, 0, 0, 0, 0, 0, 0, 0, 0, 0,\n",
       "       0, 0, 0, 0, 0, 0, 0, 0, 0, 0, 0, 0, 0, 0, 0, 0, 0, 0, 0, 0, 0, 0,\n",
       "       0, 0, 0, 0, 0, 0, 0, 0, 0, 0, 0, 0, 0, 0, 0, 0, 0, 0, 0, 0, 0, 0,\n",
       "       0, 0, 0, 0, 0, 0, 0, 0, 0, 0, 0, 0, 0, 0, 0, 0, 0, 0, 0, 0, 0, 0,\n",
       "       0, 0, 0, 0, 0, 0, 0, 0, 0, 0, 0, 0, 0, 0, 0, 0, 0, 0, 0, 0, 0, 0,\n",
       "       0, 0, 0, 0, 0, 0, 0, 0, 0, 0, 0, 0, 0, 0, 0, 0, 0, 0, 0, 0, 0, 0,\n",
       "       0, 0, 0, 0, 0, 0, 0, 0, 0, 0, 0, 0, 0, 0, 0, 0, 0, 0, 0, 0, 0, 0,\n",
       "       0, 0, 0, 0, 0, 0, 0, 0, 0, 0, 0, 0, 0, 0, 0, 0, 0, 0, 0, 0, 0, 0,\n",
       "       0, 0, 0, 0, 0, 0, 0, 0, 0, 0, 0, 0, 0, 0, 0, 0, 0, 0, 0, 0, 0, 0,\n",
       "       0, 0, 0, 0, 0, 0, 0, 0, 0, 0, 0, 0, 0, 0, 0, 0, 0, 0, 0, 0, 0, 0,\n",
       "       0, 0, 0, 0, 0, 0, 0, 0, 0, 0, 0, 0, 0, 0, 0, 0, 0, 0, 0, 0, 0, 0,\n",
       "       0, 0, 0, 0, 0, 0, 0, 0, 0, 0, 0, 0, 0, 0, 0, 0, 0, 0, 0, 0, 0, 0,\n",
       "       0, 0, 0, 0, 0, 0, 0, 0, 0, 0, 0, 0, 0, 0, 0, 0, 0, 0, 0, 0, 0, 0,\n",
       "       0, 0, 0, 0, 0, 0, 0, 0, 0, 0, 0, 0, 0, 0, 0, 0, 0, 0, 0, 0, 0, 0,\n",
       "       0, 0, 0, 0, 0, 0, 0, 0, 0, 0, 0, 0, 0, 0, 0, 0, 0, 0, 0, 0, 0, 0,\n",
       "       0, 0, 0, 0, 0, 0, 0, 0, 0, 0, 0, 0, 0, 0, 0, 0, 0, 0, 0, 0, 0, 0,\n",
       "       0, 0, 0, 0, 0, 0, 0, 0, 0, 0, 0, 0, 0, 0, 0, 0, 0, 0, 0, 0, 0, 0,\n",
       "       0, 0, 0, 0, 0, 0, 0, 0, 0, 0, 0, 0, 0, 0, 0, 0, 0, 0, 0, 0, 0, 0,\n",
       "       0, 0, 0, 0, 0, 0, 0, 0, 0, 0, 0, 0, 0, 0, 0, 0, 0, 0, 0, 0, 0, 0,\n",
       "       0, 0, 0, 0, 0, 0, 0, 0, 0, 0, 0, 0, 0, 0, 0, 0, 0, 0, 0, 0, 0, 0,\n",
       "       0, 0, 0, 0, 0, 0, 0, 0, 0, 0, 0, 0, 0, 0, 0, 0, 0, 0, 0, 0, 0, 0,\n",
       "       0, 0, 0, 0, 0, 0, 0, 0, 0, 0, 0, 0, 0, 0, 0, 0, 0, 0, 0, 0, 0, 0,\n",
       "       0, 0, 0, 0, 0, 0, 0, 0, 0, 0, 0, 0, 0, 0, 0, 0, 0, 0, 0, 0, 0, 0,\n",
       "       0, 0, 0, 0, 0, 0, 0, 0, 0, 0, 0, 0, 0, 0, 0, 0, 0, 0, 0, 0, 0, 0,\n",
       "       0, 0, 0, 0, 0, 0, 0, 0, 0, 0, 0, 0, 0, 0, 0, 0, 0, 0, 0, 0, 0, 0,\n",
       "       0, 0, 0, 0, 0, 0, 0, 0, 0, 0, 0, 0, 0, 0, 0, 0, 0, 0, 0, 0, 0, 0,\n",
       "       0, 0, 0, 0, 0, 0, 0, 0, 0, 0, 0, 0, 0, 0, 0, 0, 0, 0, 0, 0, 0, 0,\n",
       "       0, 0, 0, 0, 0, 0, 0, 0, 0, 0, 0, 0, 0, 0, 0, 0, 0, 0, 0, 0, 0, 0,\n",
       "       0, 0, 0, 0, 0, 0, 0, 0, 0, 0, 0, 0, 0, 0, 0, 0, 0, 0, 0, 0, 0, 0,\n",
       "       0, 0, 0, 0, 0, 0, 0, 0, 0, 0, 0, 0, 0, 0, 0, 0, 0, 0, 0, 0, 0, 0,\n",
       "       0, 0, 0, 0, 0, 0, 0, 0, 0, 0, 0, 0, 0, 0, 0, 0, 0, 0, 0, 0, 0, 0,\n",
       "       0, 0, 0, 0, 0, 0, 0, 0, 0, 0, 0, 0, 0, 0, 0, 0, 0, 0, 0, 0, 0, 0,\n",
       "       0, 0, 0, 0, 0, 0, 0, 0, 0, 0, 0, 0, 0, 0, 0, 0, 0, 0, 0, 0, 0, 0,\n",
       "       0, 0, 0, 0, 0, 0, 0, 0, 0, 0, 0, 0, 0, 0, 0, 0, 0, 0, 0, 0, 0, 0,\n",
       "       0, 0, 0, 0, 0, 0, 0, 0, 0, 0, 0, 0, 0, 0, 0, 0, 0, 0, 0, 0, 0, 0,\n",
       "       0, 0, 0, 0, 0, 0, 0, 0, 0, 0, 0, 0, 0, 0, 0, 0, 0, 0, 0, 0, 0, 0,\n",
       "       0, 0, 0, 0, 0, 0, 0, 0, 0, 0, 0, 0, 0, 0, 0, 0, 0, 0, 0, 0, 0, 0,\n",
       "       0, 0, 0, 0, 0, 0, 0, 0, 0, 0, 0, 0, 0, 0, 0, 0, 0, 0, 0, 0, 0, 0,\n",
       "       0, 0, 0, 0, 0, 0, 0, 0, 0, 0, 0, 0, 0, 0, 0, 0, 0, 0, 0, 0, 0, 0,\n",
       "       0, 0, 0, 0, 0, 0, 0, 0, 0, 0, 0, 0, 0, 0, 0, 0, 0, 0, 0, 0, 0, 0,\n",
       "       0, 0, 0, 0, 0, 0, 0, 0, 0, 0, 0, 0, 0, 0, 0, 0, 0, 0, 0, 0, 0, 0,\n",
       "       0, 0, 0, 0, 0, 0, 0, 0, 0, 0, 0, 0, 0, 0, 0, 0, 0, 0, 0, 0, 0, 0,\n",
       "       0, 0, 0, 0, 0, 0, 0, 0, 0, 0, 0, 0, 0, 0, 0, 0, 0, 0, 0, 0, 0, 0,\n",
       "       0, 0, 0, 0, 0, 0, 0, 0, 0, 0, 0, 0, 0, 0, 0, 0, 0, 0, 0, 0, 0, 0,\n",
       "       0, 0, 0, 0, 0, 0, 0, 0, 0, 0])"
      ]
     },
     "execution_count": 107,
     "metadata": {},
     "output_type": "execute_result"
    }
   ],
   "source": [
    "y_pred"
   ]
  },
  {
   "cell_type": "code",
   "execution_count": 84,
   "metadata": {},
   "outputs": [],
   "source": [
    "class_weight = class_weight / 0.75"
   ]
  },
  {
   "cell_type": "code",
   "execution_count": 78,
   "metadata": {},
   "outputs": [
    {
     "data": {
      "text/plain": [
       "True"
      ]
     },
     "execution_count": 78,
     "metadata": {},
     "output_type": "execute_result"
    }
   ],
   "source": [
    "1.0 == int(1)"
   ]
  },
  {
   "cell_type": "code",
   "execution_count": 109,
   "metadata": {},
   "outputs": [],
   "source": [
    "y_pred = model.predict(seizureX)"
   ]
  },
  {
   "cell_type": "code",
   "execution_count": 114,
   "metadata": {},
   "outputs": [
    {
     "data": {
      "text/plain": [
       "array([[2386,    0],\n",
       "       [2629,    3]])"
      ]
     },
     "execution_count": 114,
     "metadata": {},
     "output_type": "execute_result"
    }
   ],
   "source": [
    "confusion_matrix(seizureY, y_pred.argmax(1),)"
   ]
  },
  {
   "cell_type": "code",
   "execution_count": 117,
   "metadata": {},
   "outputs": [
    {
     "ename": "AttributeError",
     "evalue": "'numpy.ndarray' object has no attribute 'get_shape'",
     "output_type": "error",
     "traceback": [
      "\u001b[0;31m---------------------------------------------------------------------------\u001b[0m",
      "\u001b[0;31mAttributeError\u001b[0m                            Traceback (most recent call last)",
      "\u001b[0;32m<ipython-input-117-ca70a4e5bc53>\u001b[0m in \u001b[0;36m<module>\u001b[0;34m\u001b[0m\n\u001b[0;32m----> 1\u001b[0;31m \u001b[0mkeras\u001b[0m\u001b[0;34m.\u001b[0m\u001b[0mlosses\u001b[0m\u001b[0;34m.\u001b[0m\u001b[0mcategorical_crossentropy\u001b[0m\u001b[0;34m(\u001b[0m\u001b[0mkeras\u001b[0m\u001b[0;34m.\u001b[0m\u001b[0mutils\u001b[0m\u001b[0;34m.\u001b[0m\u001b[0mto_categorical\u001b[0m\u001b[0;34m(\u001b[0m\u001b[0mseizureY\u001b[0m\u001b[0;34m,\u001b[0m \u001b[0;36m2\u001b[0m\u001b[0;34m)\u001b[0m\u001b[0;34m,\u001b[0m \u001b[0my_pred\u001b[0m\u001b[0;34m)\u001b[0m\u001b[0;34m\u001b[0m\u001b[0;34m\u001b[0m\u001b[0m\n\u001b[0m",
      "\u001b[0;32m~/miniconda3/envs/keras-redo/lib/python3.7/site-packages/keras/losses.py\u001b[0m in \u001b[0;36mcategorical_crossentropy\u001b[0;34m(y_true, y_pred)\u001b[0m\n\u001b[1;32m     67\u001b[0m \u001b[0;34m\u001b[0m\u001b[0m\n\u001b[1;32m     68\u001b[0m \u001b[0;32mdef\u001b[0m \u001b[0mcategorical_crossentropy\u001b[0m\u001b[0;34m(\u001b[0m\u001b[0my_true\u001b[0m\u001b[0;34m,\u001b[0m \u001b[0my_pred\u001b[0m\u001b[0;34m)\u001b[0m\u001b[0;34m:\u001b[0m\u001b[0;34m\u001b[0m\u001b[0;34m\u001b[0m\u001b[0m\n\u001b[0;32m---> 69\u001b[0;31m     \u001b[0;32mreturn\u001b[0m \u001b[0mK\u001b[0m\u001b[0;34m.\u001b[0m\u001b[0mcategorical_crossentropy\u001b[0m\u001b[0;34m(\u001b[0m\u001b[0my_true\u001b[0m\u001b[0;34m,\u001b[0m \u001b[0my_pred\u001b[0m\u001b[0;34m)\u001b[0m\u001b[0;34m\u001b[0m\u001b[0;34m\u001b[0m\u001b[0m\n\u001b[0m\u001b[1;32m     70\u001b[0m \u001b[0;34m\u001b[0m\u001b[0m\n\u001b[1;32m     71\u001b[0m \u001b[0;34m\u001b[0m\u001b[0m\n",
      "\u001b[0;32m~/miniconda3/envs/keras-redo/lib/python3.7/site-packages/keras/backend/tensorflow_backend.py\u001b[0m in \u001b[0;36mcategorical_crossentropy\u001b[0;34m(target, output, from_logits, axis)\u001b[0m\n\u001b[1;32m   3278\u001b[0m             \u001b[0mthe\u001b[0m \u001b[0maxes\u001b[0m \u001b[0mof\u001b[0m\u001b[0;31m \u001b[0m\u001b[0;31m`\u001b[0m\u001b[0moutput\u001b[0m\u001b[0;31m`\u001b[0m\u001b[0;34m.\u001b[0m\u001b[0;34m\u001b[0m\u001b[0;34m\u001b[0m\u001b[0m\n\u001b[1;32m   3279\u001b[0m     \"\"\"\n\u001b[0;32m-> 3280\u001b[0;31m     \u001b[0moutput_dimensions\u001b[0m \u001b[0;34m=\u001b[0m \u001b[0mlist\u001b[0m\u001b[0;34m(\u001b[0m\u001b[0mrange\u001b[0m\u001b[0;34m(\u001b[0m\u001b[0mlen\u001b[0m\u001b[0;34m(\u001b[0m\u001b[0moutput\u001b[0m\u001b[0;34m.\u001b[0m\u001b[0mget_shape\u001b[0m\u001b[0;34m(\u001b[0m\u001b[0;34m)\u001b[0m\u001b[0;34m)\u001b[0m\u001b[0;34m)\u001b[0m\u001b[0;34m)\u001b[0m\u001b[0;34m\u001b[0m\u001b[0;34m\u001b[0m\u001b[0m\n\u001b[0m\u001b[1;32m   3281\u001b[0m     \u001b[0;32mif\u001b[0m \u001b[0maxis\u001b[0m \u001b[0;34m!=\u001b[0m \u001b[0;34m-\u001b[0m\u001b[0;36m1\u001b[0m \u001b[0;32mand\u001b[0m \u001b[0maxis\u001b[0m \u001b[0;32mnot\u001b[0m \u001b[0;32min\u001b[0m \u001b[0moutput_dimensions\u001b[0m\u001b[0;34m:\u001b[0m\u001b[0;34m\u001b[0m\u001b[0;34m\u001b[0m\u001b[0m\n\u001b[1;32m   3282\u001b[0m         raise ValueError(\n",
      "\u001b[0;31mAttributeError\u001b[0m: 'numpy.ndarray' object has no attribute 'get_shape'"
     ]
    }
   ],
   "source": []
  },
  {
   "cell_type": "code",
   "execution_count": null,
   "metadata": {},
   "outputs": [],
   "source": []
  }
 ],
 "metadata": {
  "kernelspec": {
   "display_name": "Python 3",
   "language": "python",
   "name": "python3"
  },
  "language_info": {
   "codemirror_mode": {
    "name": "ipython",
    "version": 3
   },
   "file_extension": ".py",
   "mimetype": "text/x-python",
   "name": "python",
   "nbconvert_exporter": "python",
   "pygments_lexer": "ipython3",
   "version": "3.7.3"
  }
 },
 "nbformat": 4,
 "nbformat_minor": 2
}

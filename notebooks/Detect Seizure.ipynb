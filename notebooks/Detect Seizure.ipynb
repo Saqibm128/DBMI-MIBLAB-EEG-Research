{
 "cells": [
  {
   "cell_type": "code",
   "execution_count": 1,
   "metadata": {},
   "outputs": [
    {
     "name": "stderr",
     "output_type": "stream",
     "text": [
      "Using TensorFlow backend.\n"
     ]
    }
   ],
   "source": [
    "import sys, os\n",
    "sys.path.append(os.path.realpath(\"..\"))\n",
    "os.environ[\"TF_XLA_FLAGS\"]=\"--tf_xla_cpu_global_jit\"\n",
    "\n",
    "import util_funcs\n",
    "from importlib import reload\n",
    "import data_reader as read\n",
    "import pandas as pd\n",
    "import numpy as np\n",
    "import pickle as pkl\n",
    "import matplotlib.pyplot as plt\n",
    "import constants\n",
    "import clinical_text_analysis as cta\n",
    "import tsfresh\n",
    "from sklearn.metrics import roc_auc_score, accuracy_score, confusion_matrix, roc_curve\n",
    "from os import path\n",
    "import predictSeizureConvExp as psce\n",
    "import keras_models.dataGen as dg\n",
    "from addict import Dict\n",
    "reload(psce)\n",
    "from keras.utils import multi_gpu_model\n",
    "import keras.optimizers\n",
    "import time\n",
    "from sklearn.metrics import confusion_matrix, roc_auc_score, accuracy_score, log_loss"
   ]
  },
  {
   "cell_type": "code",
   "execution_count": 2,
   "metadata": {},
   "outputs": [
    {
     "data": {
      "text/plain": [
       "dict_keys(['use_random_ensemble', 'precached_pkl', 'precached_test_pkl', 'ensemble_sample_info_path', 'max_num_samples', 'use_standard_scaler', 'use_filtering'])"
      ]
     },
     "execution_count": 2,
     "metadata": {},
     "output_type": "execute_result"
    }
   ],
   "source": [
    "config = Dict(psce.standardized_ensemble())\n",
    "config.keys()"
   ]
  },
  {
   "cell_type": "code",
   "execution_count": 3,
   "metadata": {},
   "outputs": [],
   "source": [
    "precached_pkl = \"/n/scratch2/ms994/standardized_simple_ensemble_train_data_seizure.pkl\""
   ]
  },
  {
   "cell_type": "code",
   "execution_count": 4,
   "metadata": {},
   "outputs": [],
   "source": [
    "trainDataGen = psce.get_data_generator(\"train\", config.precached_pkl)"
   ]
  },
  {
   "cell_type": "code",
   "execution_count": 5,
   "metadata": {},
   "outputs": [],
   "source": [
    "testDataGen = psce.get_data_generator(\"dev_test\", config.precached_test_pkl, is_test=True)"
   ]
  },
  {
   "cell_type": "code",
   "execution_count": 6,
   "metadata": {},
   "outputs": [],
   "source": [
    "trainDataGen, validDataGen = trainDataGen"
   ]
  },
  {
   "cell_type": "code",
   "execution_count": 30,
   "metadata": {},
   "outputs": [
    {
     "data": {
      "text/plain": [
       "1093"
      ]
     },
     "execution_count": 30,
     "metadata": {},
     "output_type": "execute_result"
    }
   ],
   "source": [
    "len(testDataGen)"
   ]
  },
  {
   "cell_type": "code",
   "execution_count": 7,
   "metadata": {},
   "outputs": [],
   "source": [
    "testX = np.stack([datum[0] for datum in testDataGen.dataset])\n",
    "testY = np.stack([datum[1] for datum in testDataGen.dataset])"
   ]
  },
  {
   "cell_type": "code",
   "execution_count": 39,
   "metadata": {},
   "outputs": [
    {
     "data": {
      "text/plain": [
       "((34998, 500, 21), (34998,))"
      ]
     },
     "execution_count": 39,
     "metadata": {},
     "output_type": "execute_result"
    }
   ],
   "source": [
    "testX.shape, testY.shape"
   ]
  },
  {
   "cell_type": "code",
   "execution_count": 8,
   "metadata": {},
   "outputs": [
    {
     "data": {
      "text/plain": [
       "(4984, 500, 21)"
      ]
     },
     "execution_count": 8,
     "metadata": {},
     "output_type": "execute_result"
    }
   ],
   "source": [
    "seizureX = np.vstack([testX[testY == 1], testX[0:2500]])\n",
    "seizureX.shape"
   ]
  },
  {
   "cell_type": "code",
   "execution_count": 87,
   "metadata": {},
   "outputs": [
    {
     "data": {
      "text/plain": [
       "((5018,), 0.5245117576723795)"
      ]
     },
     "execution_count": 87,
     "metadata": {},
     "output_type": "execute_result"
    }
   ],
   "source": [
    "seizureY = np.hstack([testY[testY == 1], testY[0:2500]])\n",
    "seizureY.shape, seizureY.mean()"
   ]
  },
  {
   "cell_type": "code",
   "execution_count": null,
   "metadata": {},
   "outputs": [],
   "source": [
    "seizy"
   ]
  },
  {
   "cell_type": "code",
   "execution_count": 9,
   "metadata": {},
   "outputs": [],
   "source": [
    "import keras_models.vanPutten as vp"
   ]
  },
  {
   "cell_type": "code",
   "execution_count": 21,
   "metadata": {},
   "outputs": [],
   "source": [
    "reload(vp)\n",
    "model = vp.inception_like((21,500,1), num_layers=4, num_filters=30, dropout=0.75)"
   ]
  },
  {
   "cell_type": "code",
   "execution_count": 22,
   "metadata": {},
   "outputs": [
    {
     "name": "stdout",
     "output_type": "stream",
     "text": [
      "__________________________________________________________________________________________________\n",
      "Layer (type)                    Output Shape         Param #     Connected to                     \n",
      "==================================================================================================\n",
      "input_2 (InputLayer)            (None, 21, 500, 1)   0                                            \n",
      "__________________________________________________________________________________________________\n",
      "conv2d_21 (Conv2D)              (None, 20, 499, 30)  150         input_2[0][0]                    \n",
      "__________________________________________________________________________________________________\n",
      "conv2d_25 (Conv2D)              (None, 19, 498, 30)  300         input_2[0][0]                    \n",
      "__________________________________________________________________________________________________\n",
      "conv2d_29 (Conv2D)              (None, 18, 497, 30)  510         input_2[0][0]                    \n",
      "__________________________________________________________________________________________________\n",
      "conv2d_33 (Conv2D)              (None, 17, 496, 30)  780         input_2[0][0]                    \n",
      "__________________________________________________________________________________________________\n",
      "conv2d_37 (Conv2D)              (None, 16, 495, 30)  1110        input_2[0][0]                    \n",
      "__________________________________________________________________________________________________\n",
      "max_pooling2d_21 (MaxPooling2D) (None, 20, 249, 30)  0           conv2d_21[0][0]                  \n",
      "__________________________________________________________________________________________________\n",
      "max_pooling2d_25 (MaxPooling2D) (None, 19, 249, 30)  0           conv2d_25[0][0]                  \n",
      "__________________________________________________________________________________________________\n",
      "max_pooling2d_29 (MaxPooling2D) (None, 18, 248, 30)  0           conv2d_29[0][0]                  \n",
      "__________________________________________________________________________________________________\n",
      "max_pooling2d_33 (MaxPooling2D) (None, 17, 248, 30)  0           conv2d_33[0][0]                  \n",
      "__________________________________________________________________________________________________\n",
      "max_pooling2d_37 (MaxPooling2D) (None, 16, 247, 30)  0           conv2d_37[0][0]                  \n",
      "__________________________________________________________________________________________________\n",
      "dropout_21 (Dropout)            (None, 20, 249, 30)  0           max_pooling2d_21[0][0]           \n",
      "__________________________________________________________________________________________________\n",
      "dropout_25 (Dropout)            (None, 19, 249, 30)  0           max_pooling2d_25[0][0]           \n",
      "__________________________________________________________________________________________________\n",
      "dropout_29 (Dropout)            (None, 18, 248, 30)  0           max_pooling2d_29[0][0]           \n",
      "__________________________________________________________________________________________________\n",
      "dropout_33 (Dropout)            (None, 17, 248, 30)  0           max_pooling2d_33[0][0]           \n",
      "__________________________________________________________________________________________________\n",
      "dropout_37 (Dropout)            (None, 16, 247, 30)  0           max_pooling2d_37[0][0]           \n",
      "__________________________________________________________________________________________________\n",
      "batch_normalization_21 (BatchNo (None, 20, 249, 30)  120         dropout_21[0][0]                 \n",
      "__________________________________________________________________________________________________\n",
      "batch_normalization_25 (BatchNo (None, 19, 249, 30)  120         dropout_25[0][0]                 \n",
      "__________________________________________________________________________________________________\n",
      "batch_normalization_29 (BatchNo (None, 18, 248, 30)  120         dropout_29[0][0]                 \n",
      "__________________________________________________________________________________________________\n",
      "batch_normalization_33 (BatchNo (None, 17, 248, 30)  120         dropout_33[0][0]                 \n",
      "__________________________________________________________________________________________________\n",
      "batch_normalization_37 (BatchNo (None, 16, 247, 30)  120         dropout_37[0][0]                 \n",
      "__________________________________________________________________________________________________\n",
      "conv2d_22 (Conv2D)              (None, 19, 248, 60)  7260        batch_normalization_21[0][0]     \n",
      "__________________________________________________________________________________________________\n",
      "conv2d_26 (Conv2D)              (None, 17, 247, 60)  16260       batch_normalization_25[0][0]     \n",
      "__________________________________________________________________________________________________\n",
      "conv2d_30 (Conv2D)              (None, 18, 248, 60)  28860       batch_normalization_29[0][0]     \n",
      "__________________________________________________________________________________________________\n",
      "conv2d_34 (Conv2D)              (None, 17, 248, 60)  45060       batch_normalization_33[0][0]     \n",
      "__________________________________________________________________________________________________\n",
      "conv2d_38 (Conv2D)              (None, 16, 247, 60)  64860       batch_normalization_37[0][0]     \n",
      "__________________________________________________________________________________________________\n",
      "max_pooling2d_22 (MaxPooling2D) (None, 19, 124, 60)  0           conv2d_22[0][0]                  \n",
      "__________________________________________________________________________________________________\n",
      "max_pooling2d_26 (MaxPooling2D) (None, 17, 123, 60)  0           conv2d_26[0][0]                  \n",
      "__________________________________________________________________________________________________\n",
      "max_pooling2d_30 (MaxPooling2D) (None, 18, 124, 60)  0           conv2d_30[0][0]                  \n",
      "__________________________________________________________________________________________________\n",
      "max_pooling2d_34 (MaxPooling2D) (None, 17, 124, 60)  0           conv2d_34[0][0]                  \n",
      "__________________________________________________________________________________________________\n",
      "max_pooling2d_38 (MaxPooling2D) (None, 16, 123, 60)  0           conv2d_38[0][0]                  \n",
      "__________________________________________________________________________________________________\n",
      "dropout_22 (Dropout)            (None, 19, 124, 60)  0           max_pooling2d_22[0][0]           \n",
      "__________________________________________________________________________________________________\n",
      "dropout_26 (Dropout)            (None, 17, 123, 60)  0           max_pooling2d_26[0][0]           \n",
      "__________________________________________________________________________________________________\n",
      "dropout_30 (Dropout)            (None, 18, 124, 60)  0           max_pooling2d_30[0][0]           \n",
      "__________________________________________________________________________________________________\n",
      "dropout_34 (Dropout)            (None, 17, 124, 60)  0           max_pooling2d_34[0][0]           \n",
      "__________________________________________________________________________________________________\n",
      "dropout_38 (Dropout)            (None, 16, 123, 60)  0           max_pooling2d_38[0][0]           \n",
      "__________________________________________________________________________________________________\n",
      "batch_normalization_22 (BatchNo (None, 19, 124, 60)  240         dropout_22[0][0]                 \n",
      "__________________________________________________________________________________________________\n",
      "batch_normalization_26 (BatchNo (None, 17, 123, 60)  240         dropout_26[0][0]                 \n",
      "__________________________________________________________________________________________________\n",
      "batch_normalization_30 (BatchNo (None, 18, 124, 60)  240         dropout_30[0][0]                 \n",
      "__________________________________________________________________________________________________\n",
      "batch_normalization_34 (BatchNo (None, 17, 124, 60)  240         dropout_34[0][0]                 \n",
      "__________________________________________________________________________________________________\n",
      "batch_normalization_38 (BatchNo (None, 16, 123, 60)  240         dropout_38[0][0]                 \n",
      "__________________________________________________________________________________________________\n",
      "conv2d_23 (Conv2D)              (None, 18, 123, 60)  14460       batch_normalization_22[0][0]     \n",
      "__________________________________________________________________________________________________\n",
      "conv2d_27 (Conv2D)              (None, 15, 121, 60)  32460       batch_normalization_26[0][0]     \n",
      "__________________________________________________________________________________________________\n",
      "conv2d_31 (Conv2D)              (None, 18, 124, 60)  57660       batch_normalization_30[0][0]     \n",
      "__________________________________________________________________________________________________\n",
      "conv2d_35 (Conv2D)              (None, 17, 124, 60)  90060       batch_normalization_34[0][0]     \n",
      "__________________________________________________________________________________________________\n",
      "conv2d_39 (Conv2D)              (None, 16, 123, 60)  129660      batch_normalization_38[0][0]     \n",
      "__________________________________________________________________________________________________\n",
      "max_pooling2d_23 (MaxPooling2D) (None, 18, 61, 60)   0           conv2d_23[0][0]                  \n",
      "__________________________________________________________________________________________________\n",
      "max_pooling2d_27 (MaxPooling2D) (None, 15, 60, 60)   0           conv2d_27[0][0]                  \n",
      "__________________________________________________________________________________________________\n",
      "max_pooling2d_31 (MaxPooling2D) (None, 18, 62, 60)   0           conv2d_31[0][0]                  \n",
      "__________________________________________________________________________________________________\n",
      "max_pooling2d_35 (MaxPooling2D) (None, 17, 62, 60)   0           conv2d_35[0][0]                  \n",
      "__________________________________________________________________________________________________\n",
      "max_pooling2d_39 (MaxPooling2D) (None, 16, 61, 60)   0           conv2d_39[0][0]                  \n",
      "__________________________________________________________________________________________________\n",
      "dropout_23 (Dropout)            (None, 18, 61, 60)   0           max_pooling2d_23[0][0]           \n",
      "__________________________________________________________________________________________________\n",
      "dropout_27 (Dropout)            (None, 15, 60, 60)   0           max_pooling2d_27[0][0]           \n",
      "__________________________________________________________________________________________________\n",
      "dropout_31 (Dropout)            (None, 18, 62, 60)   0           max_pooling2d_31[0][0]           \n",
      "__________________________________________________________________________________________________\n",
      "dropout_35 (Dropout)            (None, 17, 62, 60)   0           max_pooling2d_35[0][0]           \n",
      "__________________________________________________________________________________________________\n",
      "dropout_39 (Dropout)            (None, 16, 61, 60)   0           max_pooling2d_39[0][0]           \n",
      "__________________________________________________________________________________________________\n",
      "batch_normalization_23 (BatchNo (None, 18, 61, 60)   240         dropout_23[0][0]                 \n",
      "__________________________________________________________________________________________________\n",
      "batch_normalization_27 (BatchNo (None, 15, 60, 60)   240         dropout_27[0][0]                 \n",
      "__________________________________________________________________________________________________\n",
      "batch_normalization_31 (BatchNo (None, 18, 62, 60)   240         dropout_31[0][0]                 \n",
      "__________________________________________________________________________________________________\n",
      "batch_normalization_35 (BatchNo (None, 17, 62, 60)   240         dropout_35[0][0]                 \n",
      "__________________________________________________________________________________________________\n",
      "batch_normalization_39 (BatchNo (None, 16, 61, 60)   240         dropout_39[0][0]                 \n",
      "__________________________________________________________________________________________________\n",
      "conv2d_24 (Conv2D)              (None, 17, 60, 60)   14460       batch_normalization_23[0][0]     \n",
      "__________________________________________________________________________________________________\n",
      "conv2d_28 (Conv2D)              (None, 13, 58, 60)   32460       batch_normalization_27[0][0]     \n",
      "__________________________________________________________________________________________________\n",
      "conv2d_32 (Conv2D)              (None, 18, 62, 60)   57660       batch_normalization_31[0][0]     \n",
      "__________________________________________________________________________________________________\n",
      "conv2d_36 (Conv2D)              (None, 17, 62, 60)   90060       batch_normalization_35[0][0]     \n",
      "__________________________________________________________________________________________________\n",
      "conv2d_40 (Conv2D)              (None, 16, 61, 60)   129660      batch_normalization_39[0][0]     \n",
      "__________________________________________________________________________________________________\n",
      "max_pooling2d_24 (MaxPooling2D) (None, 17, 30, 60)   0           conv2d_24[0][0]                  \n",
      "__________________________________________________________________________________________________\n",
      "max_pooling2d_28 (MaxPooling2D) (None, 13, 29, 60)   0           conv2d_28[0][0]                  \n",
      "__________________________________________________________________________________________________\n",
      "max_pooling2d_32 (MaxPooling2D) (None, 18, 31, 60)   0           conv2d_32[0][0]                  \n",
      "__________________________________________________________________________________________________\n",
      "max_pooling2d_36 (MaxPooling2D) (None, 17, 31, 60)   0           conv2d_36[0][0]                  \n",
      "__________________________________________________________________________________________________\n",
      "max_pooling2d_40 (MaxPooling2D) (None, 16, 30, 60)   0           conv2d_40[0][0]                  \n",
      "__________________________________________________________________________________________________\n",
      "dropout_24 (Dropout)            (None, 17, 30, 60)   0           max_pooling2d_24[0][0]           \n",
      "__________________________________________________________________________________________________\n",
      "dropout_28 (Dropout)            (None, 13, 29, 60)   0           max_pooling2d_28[0][0]           \n",
      "__________________________________________________________________________________________________\n",
      "dropout_32 (Dropout)            (None, 18, 31, 60)   0           max_pooling2d_32[0][0]           \n",
      "__________________________________________________________________________________________________\n",
      "dropout_36 (Dropout)            (None, 17, 31, 60)   0           max_pooling2d_36[0][0]           \n",
      "__________________________________________________________________________________________________\n",
      "dropout_40 (Dropout)            (None, 16, 30, 60)   0           max_pooling2d_40[0][0]           \n",
      "__________________________________________________________________________________________________\n",
      "batch_normalization_24 (BatchNo (None, 17, 30, 60)   240         dropout_24[0][0]                 \n",
      "__________________________________________________________________________________________________\n",
      "batch_normalization_28 (BatchNo (None, 13, 29, 60)   240         dropout_28[0][0]                 \n",
      "__________________________________________________________________________________________________\n",
      "batch_normalization_32 (BatchNo (None, 18, 31, 60)   240         dropout_32[0][0]                 \n",
      "__________________________________________________________________________________________________\n",
      "batch_normalization_36 (BatchNo (None, 17, 31, 60)   240         dropout_36[0][0]                 \n",
      "__________________________________________________________________________________________________\n",
      "batch_normalization_40 (BatchNo (None, 16, 30, 60)   240         dropout_40[0][0]                 \n",
      "__________________________________________________________________________________________________\n",
      "flatten_6 (Flatten)             (None, 30600)        0           batch_normalization_24[0][0]     \n",
      "__________________________________________________________________________________________________\n",
      "flatten_7 (Flatten)             (None, 22620)        0           batch_normalization_28[0][0]     \n",
      "__________________________________________________________________________________________________\n",
      "flatten_8 (Flatten)             (None, 33480)        0           batch_normalization_32[0][0]     \n",
      "__________________________________________________________________________________________________\n",
      "flatten_9 (Flatten)             (None, 31620)        0           batch_normalization_36[0][0]     \n",
      "__________________________________________________________________________________________________\n",
      "flatten_10 (Flatten)            (None, 28800)        0           batch_normalization_40[0][0]     \n",
      "__________________________________________________________________________________________________\n",
      "concatenate_2 (Concatenate)     (None, 147120)       0           flatten_6[0][0]                  \n",
      "                                                                 flatten_7[0][0]                  \n",
      "                                                                 flatten_8[0][0]                  \n",
      "                                                                 flatten_9[0][0]                  \n",
      "                                                                 flatten_10[0][0]                 \n",
      "__________________________________________________________________________________________________\n",
      "dense_2 (Dense)                 (None, 2)            294242      concatenate_2[0][0]              \n",
      "==================================================================================================\n",
      "Total params: 1,112,192\n",
      "Trainable params: 1,110,092\n",
      "Non-trainable params: 2,100\n",
      "__________________________________________________________________________________________________\n"
     ]
    }
   ],
   "source": [
    "model.summary()"
   ]
  },
  {
   "cell_type": "code",
   "execution_count": 23,
   "metadata": {},
   "outputs": [],
   "source": [
    "model = multi_gpu_model(model, 8)"
   ]
  },
  {
   "cell_type": "code",
   "execution_count": 24,
   "metadata": {},
   "outputs": [],
   "source": [
    "adam = keras.optimizers.Adam(lr=0.002)\n",
    "model.compile(adam, loss=\"categorical_crossentropy\")"
   ]
  },
  {
   "cell_type": "code",
   "execution_count": null,
   "metadata": {},
   "outputs": [],
   "source": [
    "validData = validDataGen.dataset"
   ]
  },
  {
   "cell_type": "code",
   "execution_count": null,
   "metadata": {},
   "outputs": [],
   "source": [
    "validDataX = np.stack([datum[0] for datum in validData])\n",
    "validDataY = np.stack([datum[1] for datum in validData])"
   ]
  },
  {
   "cell_type": "code",
   "execution_count": 27,
   "metadata": {},
   "outputs": [
    {
     "data": {
      "text/plain": [
       "17965"
      ]
     },
     "execution_count": 27,
     "metadata": {},
     "output_type": "execute_result"
    }
   ],
   "source": [
    "len(validDataGen.dataset)"
   ]
  },
  {
   "cell_type": "code",
   "execution_count": 28,
   "metadata": {},
   "outputs": [],
   "source": [
    "validDataGen.batch_size = 256*8"
   ]
  },
  {
   "cell_type": "code",
   "execution_count": null,
   "metadata": {},
   "outputs": [
    {
     "name": "stdout",
     "output_type": "stream",
     "text": [
      "Progress: 0/3267\n",
      "Epoch: 0, Step: 0/32, Loss: 1.0073810815811157\n",
      "predicted all 0\n",
      "Updating Class Weight to: [9.00000000e-01 4.44444444e+04]\n",
      "f1 increased from -1 to 0.0\n"
     ]
    },
    {
     "name": "stderr",
     "output_type": "stream",
     "text": [
      "/home/ms994/miniconda3/envs/keras-redo/lib/python3.7/site-packages/sklearn/metrics/classification.py:1143: UndefinedMetricWarning: F-score is ill-defined and being set to 0.0 due to no predicted samples.\n",
      "  'precision', 'predicted', average, warn_for)\n"
     ]
    },
    {
     "name": "stdout",
     "output_type": "stream",
     "text": [
      "Progress: 1/3267\n",
      "Epoch: 0, Step: 1/32, Loss: 1.0073810815811157\n",
      "Progress: 2/3267\n",
      "Epoch: 0, Step: 2/32, Loss: 1.1920930376163597e-07\n",
      "Progress: 3/3267\n",
      "Epoch: 0, Step: 3/32, Loss: 1.0073810815811157\n",
      "Progress: 4/3267\n",
      "Epoch: 0, Step: 4/32, Loss: 0.5036906003952026\n",
      "Progress: 5/3267\n",
      "Epoch: 0, Step: 5/32, Loss: 1.1920930376163597e-07\n",
      "Progress: 6/3267\n",
      "Epoch: 0, Step: 6/32, Loss: 0.5036906003952026\n",
      "Progress: 7/3267\n",
      "Epoch: 0, Step: 7/32, Loss: 0.5036906003952026\n",
      "Progress: 8/3267\n",
      "Epoch: 0, Step: 8/32, Loss: 0.5036906003952026\n",
      "Progress: 9/3267\n",
      "Epoch: 0, Step: 9/32, Loss: 1.0073810815811157\n",
      "Progress: 10/3267\n",
      "Epoch: 0, Step: 10/32, Loss: 1.5110714435577393\n",
      "Progress: 11/3267\n",
      "Epoch: 0, Step: 11/32, Loss: 1.1920930376163597e-07\n",
      "Progress: 12/3267\n",
      "Epoch: 0, Step: 12/32, Loss: 1.5110714435577393\n",
      "Progress: 13/3267\n",
      "Epoch: 0, Step: 13/32, Loss: 1.0073810815811157\n",
      "Progress: 14/3267\n",
      "Epoch: 0, Step: 14/32, Loss: 0.5036906003952026\n",
      "Progress: 15/3267\n",
      "Epoch: 0, Step: 15/32, Loss: 1.1920930376163597e-07\n",
      "Progress: 16/3267\n",
      "Epoch: 0, Step: 16/32, Loss: 3.0221428871154785\n",
      "Progress: 17/3267\n",
      "Epoch: 0, Step: 17/32, Loss: 1.5110715627670288\n",
      "Progress: 18/3267\n",
      "Epoch: 0, Step: 18/32, Loss: 0.5036906003952026\n",
      "Progress: 19/3267\n",
      "Epoch: 0, Step: 19/32, Loss: 1.0073810815811157\n",
      "Progress: 20/3267\n",
      "Epoch: 0, Step: 20/32, Loss: 0.5036906003952026\n",
      "Progress: 21/3267\n",
      "Epoch: 0, Step: 21/32, Loss: 0.5036906003952026\n",
      "Progress: 22/3267\n",
      "Epoch: 0, Step: 22/32, Loss: 0.5036906003952026\n",
      "Progress: 23/3267\n",
      "Epoch: 0, Step: 23/32, Loss: 1.1920930376163597e-07\n",
      "Progress: 24/3267\n",
      "Epoch: 0, Step: 24/32, Loss: 0.5036906003952026\n",
      "Progress: 25/3267\n",
      "Epoch: 0, Step: 25/32, Loss: 1.0073810815811157\n",
      "Progress: 26/3267\n",
      "Epoch: 0, Step: 26/32, Loss: 1.5110714435577393\n",
      "Progress: 27/3267\n",
      "Epoch: 0, Step: 27/32, Loss: 1.0073810815811157\n",
      "Progress: 28/3267\n",
      "Epoch: 0, Step: 28/32, Loss: 0.5036906003952026\n",
      "Progress: 29/3267\n",
      "Epoch: 0, Step: 29/32, Loss: 1.0073810815811157\n",
      "Progress: 30/3267\n",
      "Epoch: 0, Step: 30/32, Loss: 0.5036906003952026\n",
      "Progress: 31/3267\n",
      "Epoch: 0, Step: 31/32, Loss: 0.5036906003952026\n",
      "Progress: 32/3267\n",
      "Epoch: 0, Step: 32/32, Loss: 1.0073810815811157\n",
      "predicted all 0\n",
      "Updating Class Weight to: [8.1000000e-01 4.9382716e+04]\n"
     ]
    },
    {
     "name": "stderr",
     "output_type": "stream",
     "text": [
      "/home/ms994/miniconda3/envs/keras-redo/lib/python3.7/site-packages/sklearn/metrics/classification.py:1143: UndefinedMetricWarning: F-score is ill-defined and being set to 0.0 due to no predicted samples.\n",
      "  'precision', 'predicted', average, warn_for)\n"
     ]
    },
    {
     "name": "stdout",
     "output_type": "stream",
     "text": [
      "Progress: 33/3267\n",
      "Epoch: 0, Step: 33/32, Loss: 0.5036906003952026\n",
      "Progress: 34/3267\n",
      "Epoch: 0, Step: 34/32, Loss: 2.0147619247436523\n",
      "Progress: 35/3267\n",
      "Epoch: 0, Step: 35/32, Loss: 0.5036906003952026\n",
      "Progress: 36/3267\n",
      "Epoch: 0, Step: 36/32, Loss: 1.0073810815811157\n",
      "Progress: 37/3267\n",
      "Epoch: 0, Step: 37/32, Loss: 0.5036906003952026\n",
      "Progress: 38/3267\n",
      "Epoch: 0, Step: 38/32, Loss: 1.0073810815811157\n",
      "Progress: 39/3267\n",
      "Epoch: 0, Step: 39/32, Loss: 1.1920930376163597e-07\n",
      "Progress: 40/3267\n",
      "Epoch: 0, Step: 40/32, Loss: 1.0073810815811157\n",
      "Progress: 41/3267\n",
      "Epoch: 0, Step: 41/32, Loss: 1.0073810815811157\n",
      "Progress: 42/3267\n",
      "Epoch: 0, Step: 42/32, Loss: 1.0073810815811157\n",
      "Progress: 43/3267\n",
      "Epoch: 0, Step: 43/32, Loss: 1.0073810815811157\n",
      "Progress: 44/3267\n",
      "Epoch: 0, Step: 44/32, Loss: 1.5110715627670288\n",
      "Progress: 45/3267\n",
      "Epoch: 0, Step: 45/32, Loss: 1.5110714435577393\n",
      "Progress: 46/3267\n",
      "Epoch: 0, Step: 46/32, Loss: 1.1920930376163597e-07\n",
      "Progress: 47/3267\n",
      "Epoch: 0, Step: 47/32, Loss: 0.5036906003952026\n",
      "Progress: 48/3267\n",
      "Epoch: 0, Step: 48/32, Loss: 1.0073810815811157\n",
      "Progress: 49/3267\n",
      "Epoch: 0, Step: 49/32, Loss: 1.1920930376163597e-07\n",
      "Progress: 50/3267\n",
      "Epoch: 0, Step: 50/32, Loss: 0.5036906003952026\n",
      "Progress: 51/3267\n",
      "Epoch: 0, Step: 51/32, Loss: 1.1920930376163597e-07\n",
      "Progress: 52/3267\n",
      "Epoch: 0, Step: 52/32, Loss: 1.0073810815811157\n",
      "Progress: 53/3267\n",
      "Epoch: 0, Step: 53/32, Loss: 1.0073810815811157\n",
      "Progress: 54/3267\n",
      "Epoch: 0, Step: 54/32, Loss: 1.5110714435577393\n",
      "Progress: 55/3267\n",
      "Epoch: 0, Step: 55/32, Loss: 0.5036906003952026\n",
      "Progress: 56/3267\n",
      "Epoch: 0, Step: 56/32, Loss: 2.0147619247436523\n",
      "Progress: 57/3267\n",
      "Epoch: 0, Step: 57/32, Loss: 0.5036906003952026\n",
      "Progress: 58/3267\n",
      "Epoch: 0, Step: 58/32, Loss: 1.0073810815811157\n",
      "Progress: 59/3267\n",
      "Epoch: 0, Step: 59/32, Loss: 1.0073810815811157\n",
      "Progress: 60/3267\n",
      "Epoch: 0, Step: 60/32, Loss: 1.1920930376163597e-07\n",
      "Progress: 61/3267\n",
      "Epoch: 0, Step: 61/32, Loss: 0.5036906003952026\n",
      "Progress: 62/3267\n",
      "Epoch: 0, Step: 62/32, Loss: 0.5036906003952026\n",
      "Progress: 63/3267\n",
      "Epoch: 0, Step: 63/32, Loss: 1.0073810815811157\n",
      "Progress: 64/3267\n",
      "Epoch: 0, Step: 64/32, Loss: 0.5036906003952026\n"
     ]
    }
   ],
   "source": [
    "from keras_models import train as util_run\n",
    "reload(util_run)\n",
    "history = util_run.model_run(model=model,\n",
    "                             patience=10,\n",
    "                             num_steps_each_eval=32,\n",
    "                             class_weights=[1,40000],\n",
    "                             model_name=\"yolo1.h5\",\n",
    "                             epochs=100,\n",
    "                             trainDataGen=trainDataGen,\n",
    "                             validDataGen=validDataGen, \n",
    "                             verbosity=True,\n",
    "                             update_amount=0.97\n",
    "                            )"
   ]
  },
  {
   "cell_type": "code",
   "execution_count": 56,
   "metadata": {},
   "outputs": [
    {
     "data": {
      "text/plain": [
       "2"
      ]
     },
     "execution_count": 56,
     "metadata": {},
     "output_type": "execute_result"
    }
   ],
   "source": [
    "len(history.history.loss)"
   ]
  },
  {
   "cell_type": "code",
   "execution_count": 102,
   "metadata": {},
   "outputs": [],
   "source": [
    "trainDataGen.batch_size = 1280"
   ]
  },
  {
   "cell_type": "code",
   "execution_count": 103,
   "metadata": {},
   "outputs": [],
   "source": [
    "start = time.time()\n",
    "lossHist = []\n",
    "callback_check = 10\n",
    "epochs=1\n",
    "# seizureX = seizureX.reshape((*seizureX.shape, 1)).transpose((0,2,1,3))\n",
    "num_steps = len(trainDataGen)\n",
    "# num_steps = 10\n",
    "validX = []\n",
    "validY = []"
   ]
  },
  {
   "cell_type": "code",
   "execution_count": 106,
   "metadata": {},
   "outputs": [
    {
     "name": "stdout",
     "output_type": "stream",
     "text": [
      "Epoch: 0, Step: 0/95, Loss: 0.2845654785633087\n",
      "predicted all 0\n",
      "Updating Class Weight to: [ 0.9        22.22222222]\n",
      "Epoch: 0, Step: 1/95, Loss: 0.26884907484054565\n",
      "Epoch: 0, Step: 2/95, Loss: 0.3087906539440155\n",
      "Epoch: 0, Step: 3/95, Loss: 0.30356794595718384\n",
      "Epoch: 0, Step: 4/95, Loss: 0.24307191371917725\n",
      "Epoch: 0, Step: 5/95, Loss: 0.29212602972984314\n",
      "predicted all 0\n",
      "Updating Class Weight to: [ 0.81       24.69135802]\n",
      "Epoch: 0, Step: 6/95, Loss: 0.2752738893032074\n",
      "Epoch: 0, Step: 7/95, Loss: 0.255071759223938\n",
      "Epoch: 0, Step: 8/95, Loss: 0.25660499930381775\n",
      "Epoch: 0, Step: 9/95, Loss: 0.2733497619628906\n",
      "Epoch: 0, Step: 10/95, Loss: 0.19150973856449127\n",
      "predicted all 0\n",
      "Updating Class Weight to: [ 0.729      27.43484225]\n",
      "Epoch: 0, Step: 11/95, Loss: 0.2439744919538498\n",
      "Epoch: 0, Step: 12/95, Loss: 0.247213214635849\n",
      "Epoch: 0, Step: 13/95, Loss: 0.2706335186958313\n",
      "Epoch: 0, Step: 14/95, Loss: 0.3031953275203705\n",
      "Epoch: 0, Step: 15/95, Loss: 0.28288760781288147\n",
      "predicted all 0\n",
      "Updating Class Weight to: [ 0.6561     30.48315806]\n",
      "Epoch: 0, Step: 16/95, Loss: 0.30947843194007874\n",
      "Epoch: 0, Step: 17/95, Loss: 0.2660514712333679\n",
      "Epoch: 0, Step: 18/95, Loss: 0.27393585443496704\n",
      "Epoch: 0, Step: 19/95, Loss: 0.35112226009368896\n",
      "Epoch: 0, Step: 20/95, Loss: 0.2794857323169708\n",
      "predicted all 0\n",
      "Updating Class Weight to: [ 0.59049    33.87017562]\n",
      "Epoch: 0, Step: 21/95, Loss: 0.31390419602394104\n",
      "Epoch: 0, Step: 22/95, Loss: 0.24401409924030304\n",
      "Epoch: 0, Step: 23/95, Loss: 0.25774675607681274\n",
      "Epoch: 0, Step: 24/95, Loss: 0.3173445165157318\n",
      "Epoch: 0, Step: 25/95, Loss: 0.2274889200925827\n",
      "predicted all 0\n",
      "Updating Class Weight to: [ 0.531441   37.63352846]\n",
      "Epoch: 0, Step: 26/95, Loss: 0.24843955039978027\n",
      "Epoch: 0, Step: 27/95, Loss: 0.28177493810653687\n",
      "Epoch: 0, Step: 28/95, Loss: 0.22293588519096375\n",
      "Epoch: 0, Step: 29/95, Loss: 0.2427888810634613\n",
      "Epoch: 0, Step: 30/95, Loss: 0.24577951431274414\n",
      "predicted all 0\n",
      "Updating Class Weight to: [ 0.4782969  41.81503163]\n",
      "Epoch: 0, Step: 31/95, Loss: 0.26342639327049255\n",
      "Epoch: 0, Step: 32/95, Loss: 0.22513413429260254\n",
      "Epoch: 0, Step: 33/95, Loss: 0.2791145443916321\n",
      "Epoch: 0, Step: 34/95, Loss: 0.23263339698314667\n",
      "Epoch: 0, Step: 35/95, Loss: 0.3040443956851959\n",
      "predicted all 0\n",
      "Updating Class Weight to: [ 0.43046721 46.46114625]\n",
      "Epoch: 0, Step: 36/95, Loss: 0.2234598845243454\n",
      "Epoch: 0, Step: 37/95, Loss: 0.26690202951431274\n",
      "Epoch: 0, Step: 38/95, Loss: 0.262792706489563\n",
      "Epoch: 0, Step: 39/95, Loss: 0.286276638507843\n",
      "Epoch: 0, Step: 40/95, Loss: 0.3300442099571228\n",
      "predicted all 0\n",
      "Updating Class Weight to: [ 0.38742049 51.62349583]\n",
      "Epoch: 0, Step: 41/95, Loss: 0.282301664352417\n",
      "Epoch: 0, Step: 42/95, Loss: 0.27297690510749817\n",
      "Epoch: 0, Step: 43/95, Loss: 0.23264575004577637\n",
      "Epoch: 0, Step: 44/95, Loss: 0.19731196761131287\n",
      "Epoch: 0, Step: 45/95, Loss: 0.2389138638973236\n",
      "predicted all 0\n",
      "Updating Class Weight to: [ 0.34867844 57.35943982]\n",
      "Epoch: 0, Step: 46/95, Loss: 0.2654201090335846\n",
      "Epoch: 0, Step: 47/95, Loss: 0.2827643156051636\n",
      "Epoch: 0, Step: 48/95, Loss: 0.2638232409954071\n",
      "Epoch: 0, Step: 49/95, Loss: 0.2702478766441345\n",
      "Epoch: 0, Step: 50/95, Loss: 0.2735169529914856\n",
      "Epoch: 0, Step: 51/95, Loss: 0.24675896763801575\n",
      "Epoch: 0, Step: 52/95, Loss: 0.25374704599380493\n",
      "Epoch: 0, Step: 53/95, Loss: 0.26545900106430054\n",
      "Epoch: 0, Step: 54/95, Loss: 0.2887461483478546\n",
      "Epoch: 0, Step: 55/95, Loss: 0.211560919880867\n",
      "Epoch: 0, Step: 56/95, Loss: 0.24516411125659943\n",
      "Epoch: 0, Step: 57/95, Loss: 0.21016685664653778\n",
      "Epoch: 0, Step: 58/95, Loss: 0.20871183276176453\n",
      "Epoch: 0, Step: 59/95, Loss: 0.26410454511642456\n",
      "Epoch: 0, Step: 60/95, Loss: 0.28257864713668823\n",
      "predicted all 0\n",
      "Updating Class Weight to: [ 0.3138106  63.73271091]\n",
      "Epoch: 0, Step: 61/95, Loss: 0.24318769574165344\n",
      "Epoch: 0, Step: 62/95, Loss: 0.28754723072052\n",
      "Epoch: 0, Step: 63/95, Loss: 0.23846784234046936\n",
      "Epoch: 0, Step: 64/95, Loss: 0.26207980513572693\n",
      "Epoch: 0, Step: 65/95, Loss: 0.20438852906227112\n",
      "predicted all 0\n",
      "Updating Class Weight to: [ 0.28242954 70.81412323]\n",
      "Epoch: 0, Step: 66/95, Loss: 0.2341880351305008\n",
      "Epoch: 0, Step: 67/95, Loss: 0.24703200161457062\n",
      "Epoch: 0, Step: 68/95, Loss: 0.25180408358573914\n",
      "Epoch: 0, Step: 69/95, Loss: 0.21927139163017273\n",
      "Epoch: 0, Step: 70/95, Loss: 0.20682016015052795\n",
      "predicted all 0\n",
      "Updating Class Weight to: [ 0.25418658 78.68235914]\n",
      "Epoch: 0, Step: 71/95, Loss: 0.1475873589515686\n",
      "Epoch: 0, Step: 72/95, Loss: 0.279693067073822\n",
      "Epoch: 0, Step: 73/95, Loss: 0.27712130546569824\n",
      "Epoch: 0, Step: 74/95, Loss: 0.2513698637485504\n",
      "Epoch: 0, Step: 75/95, Loss: 0.23888203501701355\n",
      "Epoch: 0, Step: 76/95, Loss: 0.2650281488895416\n",
      "Epoch: 0, Step: 77/95, Loss: 0.1968589425086975\n",
      "Epoch: 0, Step: 78/95, Loss: 0.22317957878112793\n",
      "Epoch: 0, Step: 79/95, Loss: 0.24228131771087646\n",
      "Epoch: 0, Step: 80/95, Loss: 0.226009339094162\n",
      "Epoch: 0, Step: 81/95, Loss: 0.2715327739715576\n",
      "Epoch: 0, Step: 82/95, Loss: 0.23505167663097382\n",
      "Epoch: 0, Step: 83/95, Loss: 0.2295423448085785\n",
      "Epoch: 0, Step: 84/95, Loss: 0.1957966387271881\n",
      "Epoch: 0, Step: 85/95, Loss: 0.3165128827095032\n",
      "predicted all 0\n",
      "Updating Class Weight to: [ 0.22876792 87.42484349]\n",
      "Epoch: 0, Step: 86/95, Loss: 0.21723127365112305\n",
      "Epoch: 0, Step: 87/95, Loss: 0.23694851994514465\n",
      "Epoch: 0, Step: 88/95, Loss: 0.2545182406902313\n",
      "Epoch: 0, Step: 89/95, Loss: 0.2942122519016266\n",
      "Epoch: 0, Step: 90/95, Loss: 0.24426111578941345\n",
      "predicted all 0\n",
      "Updating Class Weight to: [ 0.20589113 97.13871499]\n",
      "Epoch: 0, Step: 91/95, Loss: 0.24569138884544373\n",
      "Epoch: 0, Step: 92/95, Loss: 0.27942752838134766\n",
      "Epoch: 0, Step: 93/95, Loss: 0.25440043210983276\n",
      "Epoch: 0, Step: 94/95, Loss: 0.25464779138565063\n",
      "119.90500378608704\n"
     ]
    }
   ],
   "source": [
    "callback_check = 5\n",
    "start = time.time()\n",
    "class_weight = np.array([1,20])\n",
    "update_amount = 0.9\n",
    "for i in range((epochs)):\n",
    "    for j in range(num_steps):\n",
    "        loss = model.train_on_batch(trainDataGen[j][0], trainDataGen[j][1], class_weight=class_weight)\n",
    "        lossHist.append(loss)\n",
    "        print(\"Epoch: {}, Step: {}/{}, Loss: {}\".format(i,j, num_steps, loss))\n",
    "        if j % callback_check == 0:\n",
    "            valid_index = np.random.choice(list(range(len(seizureX))), 1000)\n",
    "            validX = seizureX[valid_index]\n",
    "            validY = seizureY[valid_index]\n",
    "            y_pred = model.predict(validX)\n",
    "            y_pred = y_pred.argmax(1)\n",
    "            if y_pred.mean() == int(y_pred.mean()):\n",
    "                problem_class = int(y_pred.mean())\n",
    "                class_weight = class_weight / update_amount\n",
    "                class_weight[problem_class] = class_weight[problem_class] * update_amount ** 2\n",
    "                print(\"predicted all {}\".format(problem_class))\n",
    "                print(\"Updating Class Weight to: {}\".format(class_weight))\n",
    "\n",
    "print(time.time()-start)"
   ]
  },
  {
   "cell_type": "code",
   "execution_count": 107,
   "metadata": {},
   "outputs": [
    {
     "data": {
      "text/plain": [
       "array([0, 0, 0, 0, 0, 0, 0, 0, 0, 0, 0, 0, 0, 0, 0, 0, 0, 0, 0, 0, 0, 0,\n",
       "       0, 0, 0, 0, 0, 0, 0, 0, 0, 0, 0, 0, 0, 0, 0, 0, 0, 0, 0, 0, 0, 0,\n",
       "       0, 0, 0, 0, 0, 0, 0, 0, 0, 0, 0, 0, 0, 0, 0, 0, 0, 0, 0, 0, 0, 0,\n",
       "       0, 0, 0, 0, 0, 0, 0, 0, 0, 0, 0, 0, 0, 0, 0, 0, 0, 0, 0, 0, 0, 0,\n",
       "       0, 0, 0, 0, 0, 0, 0, 0, 0, 0, 0, 0, 0, 0, 0, 0, 0, 0, 0, 0, 0, 0,\n",
       "       0, 0, 0, 0, 0, 0, 0, 0, 0, 0, 0, 0, 0, 0, 0, 0, 0, 0, 0, 0, 0, 0,\n",
       "       0, 0, 0, 0, 0, 0, 0, 0, 0, 0, 0, 0, 0, 0, 0, 0, 0, 0, 0, 0, 0, 0,\n",
       "       0, 0, 0, 0, 0, 0, 0, 0, 0, 0, 0, 0, 0, 0, 0, 0, 0, 0, 0, 0, 0, 0,\n",
       "       0, 0, 0, 0, 0, 0, 0, 0, 0, 0, 0, 0, 0, 0, 0, 0, 0, 0, 0, 0, 0, 0,\n",
       "       0, 0, 0, 0, 0, 0, 0, 0, 0, 0, 0, 0, 0, 0, 0, 0, 0, 0, 0, 0, 0, 0,\n",
       "       0, 0, 0, 0, 0, 0, 0, 0, 0, 0, 0, 0, 0, 0, 0, 0, 0, 0, 0, 0, 0, 0,\n",
       "       0, 0, 0, 0, 0, 0, 0, 0, 0, 0, 0, 0, 0, 0, 0, 0, 0, 0, 0, 0, 0, 0,\n",
       "       0, 0, 0, 0, 0, 0, 0, 0, 0, 0, 0, 0, 0, 0, 0, 0, 0, 0, 0, 0, 0, 0,\n",
       "       0, 0, 0, 0, 0, 0, 0, 0, 0, 0, 0, 0, 0, 0, 0, 0, 0, 0, 0, 0, 0, 0,\n",
       "       0, 0, 0, 0, 0, 0, 0, 0, 0, 0, 0, 0, 0, 0, 0, 0, 0, 0, 0, 0, 0, 0,\n",
       "       0, 0, 0, 0, 0, 0, 0, 0, 0, 0, 0, 0, 0, 0, 0, 0, 0, 0, 0, 0, 0, 0,\n",
       "       0, 0, 0, 0, 0, 0, 0, 0, 0, 0, 0, 0, 0, 0, 0, 0, 0, 0, 0, 0, 0, 0,\n",
       "       0, 0, 0, 0, 0, 0, 0, 0, 0, 0, 0, 0, 0, 0, 0, 0, 0, 0, 0, 0, 0, 0,\n",
       "       0, 0, 0, 0, 0, 0, 0, 0, 0, 0, 0, 0, 0, 0, 0, 0, 0, 0, 0, 0, 0, 0,\n",
       "       0, 0, 0, 0, 0, 0, 0, 0, 0, 0, 0, 0, 0, 0, 0, 0, 0, 0, 0, 0, 0, 0,\n",
       "       0, 0, 0, 0, 0, 0, 0, 0, 0, 0, 0, 0, 0, 0, 0, 0, 0, 0, 0, 0, 0, 0,\n",
       "       0, 0, 0, 0, 0, 0, 0, 0, 0, 0, 0, 0, 0, 0, 0, 0, 0, 0, 0, 0, 0, 0,\n",
       "       0, 0, 0, 0, 0, 0, 0, 0, 0, 0, 0, 0, 0, 0, 0, 0, 0, 0, 0, 0, 0, 0,\n",
       "       0, 0, 0, 0, 0, 0, 0, 0, 0, 0, 0, 0, 0, 0, 0, 0, 0, 0, 0, 0, 0, 0,\n",
       "       0, 0, 0, 0, 0, 0, 0, 0, 0, 0, 0, 0, 0, 0, 0, 0, 0, 0, 0, 0, 0, 0,\n",
       "       0, 0, 0, 0, 0, 0, 0, 0, 0, 0, 0, 0, 0, 0, 0, 0, 0, 0, 0, 0, 0, 0,\n",
       "       0, 0, 0, 0, 0, 0, 0, 0, 0, 0, 0, 0, 0, 0, 0, 0, 0, 0, 0, 0, 0, 0,\n",
       "       0, 0, 0, 0, 0, 0, 0, 0, 0, 0, 0, 0, 0, 0, 0, 0, 0, 0, 0, 0, 0, 0,\n",
       "       0, 0, 0, 0, 0, 0, 0, 0, 0, 0, 0, 0, 0, 0, 0, 0, 0, 0, 0, 0, 0, 0,\n",
       "       0, 0, 0, 0, 0, 0, 0, 0, 0, 0, 0, 0, 0, 0, 0, 0, 0, 0, 0, 0, 0, 0,\n",
       "       0, 0, 0, 0, 0, 0, 0, 0, 0, 0, 0, 0, 0, 0, 0, 0, 0, 0, 0, 0, 0, 0,\n",
       "       0, 0, 0, 0, 0, 0, 0, 0, 0, 0, 0, 0, 0, 0, 0, 0, 0, 0, 0, 0, 0, 0,\n",
       "       0, 0, 0, 0, 0, 0, 0, 0, 0, 0, 0, 0, 0, 0, 0, 0, 0, 0, 0, 0, 0, 0,\n",
       "       0, 0, 0, 0, 0, 0, 0, 0, 0, 0, 0, 0, 0, 0, 0, 0, 0, 0, 0, 0, 0, 0,\n",
       "       0, 0, 0, 0, 0, 0, 0, 0, 0, 0, 0, 0, 0, 0, 0, 0, 0, 0, 0, 0, 0, 0,\n",
       "       0, 0, 0, 0, 0, 0, 0, 0, 0, 0, 0, 0, 0, 0, 0, 0, 0, 0, 0, 0, 0, 0,\n",
       "       0, 0, 0, 0, 0, 0, 0, 0, 0, 0, 0, 0, 0, 0, 0, 0, 0, 0, 0, 0, 0, 0,\n",
       "       0, 0, 0, 0, 0, 0, 0, 0, 0, 0, 0, 0, 0, 0, 0, 0, 0, 0, 0, 0, 0, 0,\n",
       "       0, 0, 0, 0, 0, 0, 0, 0, 0, 0, 0, 0, 0, 0, 0, 0, 0, 0, 0, 0, 0, 0,\n",
       "       0, 0, 0, 0, 0, 0, 0, 0, 0, 0, 0, 0, 0, 0, 0, 0, 0, 0, 0, 0, 0, 0,\n",
       "       0, 0, 0, 0, 0, 0, 0, 0, 0, 0, 0, 0, 0, 0, 0, 0, 0, 0, 0, 0, 0, 0,\n",
       "       0, 0, 0, 0, 0, 0, 0, 0, 0, 0, 0, 0, 0, 0, 0, 0, 0, 0, 0, 0, 0, 0,\n",
       "       0, 0, 0, 0, 0, 0, 0, 0, 0, 0, 0, 0, 0, 0, 0, 0, 0, 0, 0, 0, 0, 0,\n",
       "       0, 0, 0, 0, 0, 0, 0, 0, 0, 0, 0, 0, 0, 0, 0, 0, 0, 0, 0, 0, 0, 0,\n",
       "       0, 0, 0, 0, 0, 0, 0, 0, 0, 0, 0, 0, 0, 0, 0, 0, 0, 0, 0, 0, 0, 0,\n",
       "       0, 0, 0, 0, 0, 0, 0, 0, 0, 0])"
      ]
     },
     "execution_count": 107,
     "metadata": {},
     "output_type": "execute_result"
    }
   ],
   "source": [
    "y_pred"
   ]
  },
  {
   "cell_type": "code",
   "execution_count": 84,
   "metadata": {},
   "outputs": [],
   "source": [
    "class_weight = class_weight / 0.75"
   ]
  },
  {
   "cell_type": "code",
   "execution_count": 78,
   "metadata": {},
   "outputs": [
    {
     "data": {
      "text/plain": [
       "True"
      ]
     },
     "execution_count": 78,
     "metadata": {},
     "output_type": "execute_result"
    }
   ],
   "source": [
    "1.0 == int(1)"
   ]
  },
  {
   "cell_type": "code",
   "execution_count": 109,
   "metadata": {},
   "outputs": [],
   "source": [
    "y_pred = model.predict(seizureX)"
   ]
  },
  {
   "cell_type": "code",
   "execution_count": 114,
   "metadata": {},
   "outputs": [
    {
     "data": {
      "text/plain": [
       "array([[2386,    0],\n",
       "       [2629,    3]])"
      ]
     },
     "execution_count": 114,
     "metadata": {},
     "output_type": "execute_result"
    }
   ],
   "source": [
    "confusion_matrix(seizureY, y_pred.argmax(1),)"
   ]
  },
  {
   "cell_type": "code",
   "execution_count": 117,
   "metadata": {},
   "outputs": [
    {
     "ename": "AttributeError",
     "evalue": "'numpy.ndarray' object has no attribute 'get_shape'",
     "output_type": "error",
     "traceback": [
      "\u001b[0;31m---------------------------------------------------------------------------\u001b[0m",
      "\u001b[0;31mAttributeError\u001b[0m                            Traceback (most recent call last)",
      "\u001b[0;32m<ipython-input-117-ca70a4e5bc53>\u001b[0m in \u001b[0;36m<module>\u001b[0;34m\u001b[0m\n\u001b[0;32m----> 1\u001b[0;31m \u001b[0mkeras\u001b[0m\u001b[0;34m.\u001b[0m\u001b[0mlosses\u001b[0m\u001b[0;34m.\u001b[0m\u001b[0mcategorical_crossentropy\u001b[0m\u001b[0;34m(\u001b[0m\u001b[0mkeras\u001b[0m\u001b[0;34m.\u001b[0m\u001b[0mutils\u001b[0m\u001b[0;34m.\u001b[0m\u001b[0mto_categorical\u001b[0m\u001b[0;34m(\u001b[0m\u001b[0mseizureY\u001b[0m\u001b[0;34m,\u001b[0m \u001b[0;36m2\u001b[0m\u001b[0;34m)\u001b[0m\u001b[0;34m,\u001b[0m \u001b[0my_pred\u001b[0m\u001b[0;34m)\u001b[0m\u001b[0;34m\u001b[0m\u001b[0;34m\u001b[0m\u001b[0m\n\u001b[0m",
      "\u001b[0;32m~/miniconda3/envs/keras-redo/lib/python3.7/site-packages/keras/losses.py\u001b[0m in \u001b[0;36mcategorical_crossentropy\u001b[0;34m(y_true, y_pred)\u001b[0m\n\u001b[1;32m     67\u001b[0m \u001b[0;34m\u001b[0m\u001b[0m\n\u001b[1;32m     68\u001b[0m \u001b[0;32mdef\u001b[0m \u001b[0mcategorical_crossentropy\u001b[0m\u001b[0;34m(\u001b[0m\u001b[0my_true\u001b[0m\u001b[0;34m,\u001b[0m \u001b[0my_pred\u001b[0m\u001b[0;34m)\u001b[0m\u001b[0;34m:\u001b[0m\u001b[0;34m\u001b[0m\u001b[0;34m\u001b[0m\u001b[0m\n\u001b[0;32m---> 69\u001b[0;31m     \u001b[0;32mreturn\u001b[0m \u001b[0mK\u001b[0m\u001b[0;34m.\u001b[0m\u001b[0mcategorical_crossentropy\u001b[0m\u001b[0;34m(\u001b[0m\u001b[0my_true\u001b[0m\u001b[0;34m,\u001b[0m \u001b[0my_pred\u001b[0m\u001b[0;34m)\u001b[0m\u001b[0;34m\u001b[0m\u001b[0;34m\u001b[0m\u001b[0m\n\u001b[0m\u001b[1;32m     70\u001b[0m \u001b[0;34m\u001b[0m\u001b[0m\n\u001b[1;32m     71\u001b[0m \u001b[0;34m\u001b[0m\u001b[0m\n",
      "\u001b[0;32m~/miniconda3/envs/keras-redo/lib/python3.7/site-packages/keras/backend/tensorflow_backend.py\u001b[0m in \u001b[0;36mcategorical_crossentropy\u001b[0;34m(target, output, from_logits, axis)\u001b[0m\n\u001b[1;32m   3278\u001b[0m             \u001b[0mthe\u001b[0m \u001b[0maxes\u001b[0m \u001b[0mof\u001b[0m\u001b[0;31m \u001b[0m\u001b[0;31m`\u001b[0m\u001b[0moutput\u001b[0m\u001b[0;31m`\u001b[0m\u001b[0;34m.\u001b[0m\u001b[0;34m\u001b[0m\u001b[0;34m\u001b[0m\u001b[0m\n\u001b[1;32m   3279\u001b[0m     \"\"\"\n\u001b[0;32m-> 3280\u001b[0;31m     \u001b[0moutput_dimensions\u001b[0m \u001b[0;34m=\u001b[0m \u001b[0mlist\u001b[0m\u001b[0;34m(\u001b[0m\u001b[0mrange\u001b[0m\u001b[0;34m(\u001b[0m\u001b[0mlen\u001b[0m\u001b[0;34m(\u001b[0m\u001b[0moutput\u001b[0m\u001b[0;34m.\u001b[0m\u001b[0mget_shape\u001b[0m\u001b[0;34m(\u001b[0m\u001b[0;34m)\u001b[0m\u001b[0;34m)\u001b[0m\u001b[0;34m)\u001b[0m\u001b[0;34m)\u001b[0m\u001b[0;34m\u001b[0m\u001b[0;34m\u001b[0m\u001b[0m\n\u001b[0m\u001b[1;32m   3281\u001b[0m     \u001b[0;32mif\u001b[0m \u001b[0maxis\u001b[0m \u001b[0;34m!=\u001b[0m \u001b[0;34m-\u001b[0m\u001b[0;36m1\u001b[0m \u001b[0;32mand\u001b[0m \u001b[0maxis\u001b[0m \u001b[0;32mnot\u001b[0m \u001b[0;32min\u001b[0m \u001b[0moutput_dimensions\u001b[0m\u001b[0;34m:\u001b[0m\u001b[0;34m\u001b[0m\u001b[0;34m\u001b[0m\u001b[0m\n\u001b[1;32m   3282\u001b[0m         raise ValueError(\n",
      "\u001b[0;31mAttributeError\u001b[0m: 'numpy.ndarray' object has no attribute 'get_shape'"
     ]
    }
   ],
   "source": []
  },
  {
   "cell_type": "code",
   "execution_count": null,
   "metadata": {},
   "outputs": [],
   "source": []
  }
 ],
 "metadata": {
  "kernelspec": {
   "display_name": "Python 3",
   "language": "python",
   "name": "python3"
  },
  "language_info": {
   "codemirror_mode": {
    "name": "ipython",
    "version": 3
   },
   "file_extension": ".py",
   "mimetype": "text/x-python",
   "name": "python",
   "nbconvert_exporter": "python",
   "pygments_lexer": "ipython3",
   "version": "3.7.3"
  }
 },
 "nbformat": 4,
 "nbformat_minor": 2
}

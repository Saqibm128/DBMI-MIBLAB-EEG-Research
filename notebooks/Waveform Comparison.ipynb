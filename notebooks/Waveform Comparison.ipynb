{
 "cells": [
  {
   "cell_type": "code",
   "execution_count": 1,
   "metadata": {},
   "outputs": [],
   "source": [
    "import sys, os\n",
    "sys.path.append(os.path.realpath(\"..\"))\n",
    "\n",
    "import util_funcs\n",
    "from importlib import reload\n",
    "reload(util_funcs)\n",
    "from copy import deepcopy as cp\n",
    "\n",
    "import data_reader as read\n",
    "import pandas as pd\n",
    "import numpy as np\n",
    "import pickle as pkl\n",
    "import matplotlib.pyplot as plt\n",
    "import pywt\n",
    "import tsfresh.feature_extraction.feature_calculators as feats\n",
    "import constants\n",
    "import clinical_text_analysis as cta\n",
    "reload(cta)\n",
    "import tsfresh\n",
    "from sklearn.metrics import roc_auc_score, accuracy_score, confusion_matrix, roc_curve, r2_score\n",
    "from os import path\n",
    "\n",
    "reload(read)\n",
    "import wf_analysis.datasets as wfdata\n",
    "import wf_analysis.filters as filt\n",
    "reload(filt)\n",
    "from addict import Dict\n",
    "import time\n",
    "import pickle as pkl\n",
    "import pyedflib as edf"
   ]
  },
  {
   "cell_type": "markdown",
   "metadata": {},
   "source": [
    "# Gender, 5 samples per individual"
   ]
  },
  {
   "cell_type": "code",
   "execution_count": 2,
   "metadata": {},
   "outputs": [],
   "source": [
    "trainData = pkl.load(open(\"/n/scratch2/ms994/standardized_combined_simple_ensemble_train_data_5.pkl\", 'rb'))\n",
    "testData = pkl.load(open(\"/n/scratch2/ms994/standardized_combined_simple_ensemble_test_data_5.pkl\", 'rb'))\n",
    "validData = pkl.load(open(\"/n/scratch2/ms994/valid_standardized_combined_simple_ensemble_train_data_5.pkl\", 'rb'))"
   ]
  },
  {
   "cell_type": "code",
   "execution_count": 3,
   "metadata": {},
   "outputs": [
    {
     "data": {
      "text/plain": [
       "(76016, 27932, 20821)"
      ]
     },
     "execution_count": 3,
     "metadata": {},
     "output_type": "execute_result"
    }
   ],
   "source": [
    "len(trainData), len(testData), len(validData)"
   ]
  },
  {
   "cell_type": "code",
   "execution_count": 4,
   "metadata": {},
   "outputs": [],
   "source": [
    "allData = trainData + testData + validData\n",
    "allRawData = np.stack([datum[0][0:500] for datum in allData])"
   ]
  },
  {
   "cell_type": "code",
   "execution_count": 6,
   "metadata": {},
   "outputs": [
    {
     "data": {
      "text/plain": [
       "(124769, 500, 21)"
      ]
     },
     "execution_count": 6,
     "metadata": {},
     "output_type": "execute_result"
    }
   ],
   "source": [
    "allRawData.shape"
   ]
  },
  {
   "cell_type": "code",
   "execution_count": 7,
   "metadata": {},
   "outputs": [],
   "source": [
    "allLabels = np.array([datum[1] for datum in allData])"
   ]
  },
  {
   "cell_type": "code",
   "execution_count": 8,
   "metadata": {},
   "outputs": [
    {
     "data": {
      "text/plain": [
       "0.46073143168575525"
      ]
     },
     "execution_count": 8,
     "metadata": {},
     "output_type": "execute_result"
    }
   ],
   "source": [
    "(allLabels == 1).sum() / len(allLabels)"
   ]
  },
  {
   "cell_type": "code",
   "execution_count": 9,
   "metadata": {},
   "outputs": [],
   "source": [
    "allLabels = np.array([datum[1] for datum in allData])\n",
    "maleInputData = allRawData[allLabels == 1]\n",
    "femaleInputData = allRawData[allLabels != 1]"
   ]
  },
  {
   "cell_type": "markdown",
   "metadata": {},
   "source": [
    "## Freq bins, 5 Hz bins"
   ]
  },
  {
   "cell_type": "code",
   "execution_count": 10,
   "metadata": {
    "scrolled": true
   },
   "outputs": [
    {
     "name": "stdout",
     "output_type": "stream",
     "text": [
      "Starting 20 processes\n",
      "retrieving: 0\n",
      "retrieving: 500\n",
      "retrieving: 1000\n",
      "retrieving: 1500\n",
      "retrieving: 2000\n",
      "retrieving: 2500\n",
      "retrieving: 3000\n",
      "retrieving: 3500\n",
      "retrieving: 4000\n",
      "retrieving: 4500\n",
      "retrieving: 5000\n",
      "retrieving: 5500\n",
      "retrieving: 6000\n",
      "retrieving: 6500\n",
      "retrieving: 7000\n",
      "retrieving: 7500\n",
      "retrieving: 8000\n",
      "retrieving: 8500\n",
      "retrieving: 9000\n",
      "retrieving: 9500\n",
      "retrieving: 10000\n",
      "retrieving: 10500\n",
      "retrieving: 11000\n",
      "retrieving: 11500\n",
      "retrieving: 12000\n",
      "retrieving: 12500\n",
      "retrieving: 13000\n",
      "retrieving: 13500\n",
      "retrieving: 14000\n",
      "retrieving: 14500\n",
      "retrieving: 15000\n",
      "retrieving: 15500\n",
      "retrieving: 16000\n",
      "retrieving: 16500\n",
      "retrieving: 17000\n",
      "retrieving: 17500\n",
      "retrieving: 18000\n",
      "retrieving: 18500\n",
      "retrieving: 19000\n",
      "retrieving: 19500\n",
      "retrieving: 20000\n",
      "retrieving: 20500\n",
      "retrieving: 21000\n",
      "retrieving: 21500\n",
      "retrieving: 22000\n",
      "retrieving: 22500\n",
      "retrieving: 23000\n",
      "retrieving: 23500\n",
      "retrieving: 24000\n",
      "retrieving: 24500\n",
      "retrieving: 25000\n",
      "retrieving: 25500\n",
      "retrieving: 26000\n",
      "retrieving: 26500\n",
      "retrieving: 27000\n",
      "retrieving: 27500\n",
      "retrieving: 28000\n",
      "retrieving: 28500\n",
      "retrieving: 29000\n",
      "retrieving: 29500\n",
      "retrieving: 30000\n",
      "retrieving: 30500\n",
      "retrieving: 31000\n",
      "retrieving: 31500\n",
      "retrieving: 32000\n",
      "retrieving: 32500\n",
      "retrieving: 33000\n",
      "retrieving: 33500\n",
      "retrieving: 34000\n",
      "retrieving: 34500\n",
      "retrieving: 35000\n",
      "retrieving: 35500\n",
      "retrieving: 36000\n",
      "retrieving: 36500\n",
      "retrieving: 37000\n",
      "retrieving: 37500\n",
      "retrieving: 38000\n",
      "retrieving: 38500\n",
      "retrieving: 39000\n",
      "retrieving: 39500\n",
      "retrieving: 40000\n",
      "retrieving: 40500\n",
      "retrieving: 41000\n",
      "retrieving: 41500\n",
      "retrieving: 42000\n",
      "retrieving: 42500\n",
      "retrieving: 43000\n",
      "retrieving: 43500\n",
      "retrieving: 44000\n",
      "retrieving: 44500\n",
      "retrieving: 45000\n",
      "retrieving: 45500\n",
      "retrieving: 46000\n",
      "retrieving: 46500\n",
      "retrieving: 47000\n",
      "retrieving: 47500\n",
      "retrieving: 48000\n",
      "retrieving: 48500\n",
      "retrieving: 49000\n",
      "retrieving: 49500\n",
      "retrieving: 50000\n",
      "retrieving: 50500\n",
      "retrieving: 51000\n",
      "retrieving: 51500\n",
      "retrieving: 52000\n",
      "retrieving: 52500\n",
      "retrieving: 53000\n",
      "retrieving: 53500\n",
      "retrieving: 54000\n",
      "retrieving: 54500\n",
      "retrieving: 55000\n",
      "retrieving: 55500\n",
      "retrieving: 56000\n",
      "retrieving: 56500\n",
      "retrieving: 57000\n"
     ]
    }
   ],
   "source": [
    "freq_bins=[0,5,10,15,20,25,30]\n",
    "maleFFTInputData = read.EdfFFTDatasetTransformer(maleInputData, n_process=20, is_tuple_data=False, is_pandas_data=False, freq_bins=freq_bins)\n",
    "maleFFTInputData.verbosity = 500\n",
    "maleFFTInputFullData = maleFFTInputData[:]"
   ]
  },
  {
   "cell_type": "code",
   "execution_count": 11,
   "metadata": {},
   "outputs": [
    {
     "name": "stdout",
     "output_type": "stream",
     "text": [
      "Starting 20 processes\n",
      "retrieving: 0\n",
      "retrieving: 500\n",
      "retrieving: 1000\n",
      "retrieving: 1500\n",
      "retrieving: 2000\n",
      "retrieving: 2500\n",
      "retrieving: 3000\n",
      "retrieving: 3500\n",
      "retrieving: 4000\n",
      "retrieving: 4500\n",
      "retrieving: 5000\n",
      "retrieving: 5500\n",
      "retrieving: 6000\n",
      "retrieving: 6500\n",
      "retrieving: 7000\n",
      "retrieving: 7500\n",
      "retrieving: 8000\n",
      "retrieving: 8500\n",
      "retrieving: 9000\n",
      "retrieving: 9500\n",
      "retrieving: 10000\n",
      "retrieving: 10500\n",
      "retrieving: 11000\n",
      "retrieving: 11500\n",
      "retrieving: 12000\n",
      "retrieving: 12500\n",
      "retrieving: 13000\n",
      "retrieving: 13500\n",
      "retrieving: 14000\n",
      "retrieving: 14500\n",
      "retrieving: 15000\n",
      "retrieving: 15500\n",
      "retrieving: 16000\n",
      "retrieving: 16500\n",
      "retrieving: 17000\n",
      "retrieving: 17500\n",
      "retrieving: 18000\n",
      "retrieving: 18500\n",
      "retrieving: 19000\n",
      "retrieving: 19500\n",
      "retrieving: 20000\n",
      "retrieving: 20500\n",
      "retrieving: 21000\n",
      "retrieving: 21500\n",
      "retrieving: 22000\n",
      "retrieving: 22500\n",
      "retrieving: 23000\n",
      "retrieving: 23500\n",
      "retrieving: 24000\n",
      "retrieving: 24500\n",
      "retrieving: 25000\n",
      "retrieving: 25500\n",
      "retrieving: 26000\n",
      "retrieving: 26500\n",
      "retrieving: 27000\n",
      "retrieving: 27500\n",
      "retrieving: 28000\n",
      "retrieving: 28500\n",
      "retrieving: 29000\n",
      "retrieving: 29500\n",
      "retrieving: 30000\n",
      "retrieving: 30500\n",
      "retrieving: 31000\n",
      "retrieving: 31500\n",
      "retrieving: 32000\n",
      "retrieving: 32500\n",
      "retrieving: 33000\n",
      "retrieving: 33500\n",
      "retrieving: 34000\n",
      "retrieving: 34500\n",
      "retrieving: 35000\n",
      "retrieving: 35500\n",
      "retrieving: 36000\n",
      "retrieving: 36500\n",
      "retrieving: 37000\n",
      "retrieving: 37500\n",
      "retrieving: 38000\n",
      "retrieving: 38500\n",
      "retrieving: 39000\n",
      "retrieving: 39500\n",
      "retrieving: 40000\n",
      "retrieving: 40500\n",
      "retrieving: 41000\n",
      "retrieving: 41500\n",
      "retrieving: 42000\n",
      "retrieving: 42500\n",
      "retrieving: 43000\n",
      "retrieving: 43500\n",
      "retrieving: 44000\n",
      "retrieving: 44500\n",
      "retrieving: 45000\n",
      "retrieving: 45500\n",
      "retrieving: 46000\n",
      "retrieving: 46500\n",
      "retrieving: 47000\n",
      "retrieving: 47500\n",
      "retrieving: 48000\n",
      "retrieving: 48500\n",
      "retrieving: 49000\n",
      "retrieving: 49500\n",
      "retrieving: 50000\n",
      "retrieving: 50500\n",
      "retrieving: 51000\n",
      "retrieving: 51500\n",
      "retrieving: 52000\n",
      "retrieving: 52500\n",
      "retrieving: 53000\n",
      "retrieving: 53500\n",
      "retrieving: 54000\n",
      "retrieving: 54500\n",
      "retrieving: 55000\n",
      "retrieving: 55500\n",
      "retrieving: 56000\n",
      "retrieving: 56500\n",
      "retrieving: 57000\n",
      "retrieving: 57500\n",
      "retrieving: 58000\n",
      "retrieving: 58500\n",
      "retrieving: 59000\n",
      "retrieving: 59500\n",
      "retrieving: 60000\n",
      "retrieving: 60500\n",
      "retrieving: 61000\n",
      "retrieving: 61500\n",
      "retrieving: 62000\n",
      "retrieving: 62500\n",
      "retrieving: 63000\n",
      "retrieving: 63500\n",
      "retrieving: 64000\n",
      "retrieving: 64500\n",
      "retrieving: 65000\n",
      "retrieving: 65500\n",
      "retrieving: 66000\n",
      "retrieving: 66500\n",
      "retrieving: 67000\n"
     ]
    }
   ],
   "source": [
    "freq_bins=[0,5,10,15,20,25,30]\n",
    "femaleFFTInputData = read.EdfFFTDatasetTransformer(femaleInputData, n_process=20, is_tuple_data=False, is_pandas_data=False, freq_bins=freq_bins)\n",
    "femaleFFTInputData.verbosity = 500\n",
    "femaleFFTInputFullData = femaleFFTInputData[:]"
   ]
  },
  {
   "cell_type": "code",
   "execution_count": 12,
   "metadata": {},
   "outputs": [],
   "source": [
    "datum = maleFFTInputFullData[0]\n",
    "maleFFTPropData = [datum.sum(1)/datum.sum().sum() for datum in maleFFTInputFullData]"
   ]
  },
  {
   "cell_type": "code",
   "execution_count": 13,
   "metadata": {},
   "outputs": [
    {
     "data": {
      "image/png": "[encoded data removed]",
      "text/plain": [
       "<Figure size 648x648 with 1 Axes>"
      ]
     },
     "metadata": {
      "needs_background": "light"
     },
     "output_type": "display_data"
    }
   ],
   "source": [
    "fig = plt.figure(figsize=(9,9))\n",
    "plt.title(\"Male Freq. Bins using Pipeline Training Data\")\n",
    "plt.xlabel(\"Frequency Bins Across All Channels\")\n",
    "plt.ylabel(\"Proportion\")\n",
    "plt.bar(datum.sum(1).index, np.mean(maleFFTPropData, axis=0))\n",
    "plt.savefig(\"male_freq_big_bins.png\", dpi=300)"
   ]
  },
  {
   "cell_type": "code",
   "execution_count": 14,
   "metadata": {},
   "outputs": [],
   "source": [
    "femaleFFTPropData = [datum.sum(1)/datum.sum().sum() for datum in femaleFFTInputFullData]"
   ]
  },
  {
   "cell_type": "code",
   "execution_count": 15,
   "metadata": {},
   "outputs": [
    {
     "data": {
      "image/png": "[encoded data removed]",
      "text/plain": [
       "<Figure size 648x648 with 1 Axes>"
      ]
     },
     "metadata": {
      "needs_background": "light"
     },
     "output_type": "display_data"
    }
   ],
   "source": [
    "fig = plt.figure(figsize=(9,9))\n",
    "plt.title(\"Female Freq. Bins using Pipeline Training Data\")\n",
    "plt.xlabel(\"Frequency Bins Across All Channels\")\n",
    "plt.ylabel(\"Proportion\")\n",
    "plt.bar(datum.sum(1).index, np.mean(femaleFFTPropData, axis=0))\n",
    "plt.savefig(\"female_freq_big_bins.png\", dpi=300)"
   ]
  },
  {
   "cell_type": "code",
   "execution_count": 16,
   "metadata": {},
   "outputs": [],
   "source": [
    "femaleFFTnpArray = np.stack([femaleFFTInputFullData[i].values.flatten() for i in range(len(femaleFFTInputFullData))])\n",
    "maleFFTnpArray = np.stack([maleFFTInputFullData[i].values.flatten() for i in range(len(maleFFTInputFullData))])"
   ]
  },
  {
   "cell_type": "code",
   "execution_count": 17,
   "metadata": {},
   "outputs": [],
   "source": [
    "allFFT = np.vstack([femaleFFTnpArray, maleFFTnpArray])\n",
    "del femaleFFTnpArray, maleFFTnpArray"
   ]
  },
  {
   "cell_type": "code",
   "execution_count": 18,
   "metadata": {},
   "outputs": [
    {
     "data": {
      "text/plain": [
       "(124769, 126)"
      ]
     },
     "execution_count": 18,
     "metadata": {},
     "output_type": "execute_result"
    }
   ],
   "source": [
    "allFFT.shape\n"
   ]
  },
  {
   "cell_type": "code",
   "execution_count": 19,
   "metadata": {},
   "outputs": [],
   "source": [
    "from sklearn.feature_selection import chi2\n",
    "chi2vals, pvals = chi2(allFFT, [datum[1] for datum in allData])\n",
    "pvals = np.nan_to_num(pvals, 1)\n",
    "len(pvals)\n",
    "(pvals < (0.001/len(pvals))).sum() / pvals.shape #percent of pvals that are signficant with bonferroni correction"
   ]
  },
  {
   "cell_type": "code",
   "execution_count": 20,
   "metadata": {},
   "outputs": [],
   "source": [
    "pvals = np.nan_to_num(pvals, 1)"
   ]
  },
  {
   "cell_type": "code",
   "execution_count": 21,
   "metadata": {},
   "outputs": [
    {
     "data": {
      "text/plain": [
       "array([0.86507937])"
      ]
     },
     "execution_count": 21,
     "metadata": {},
     "output_type": "execute_result"
    }
   ],
   "source": [
    "len(pvals)\n",
    "(pvals < (0.001/len(pvals))).sum() / pvals.shape #percent of pvals that are signficant with bonferroni correction"
   ]
  },
  {
   "cell_type": "code",
   "execution_count": 22,
   "metadata": {},
   "outputs": [
    {
     "data": {
      "text/plain": [
       "array([1.86010476e-119, 1.23489760e-109, 2.00880013e-042, 3.30915014e-103,\n",
       "       0.00000000e+000, 1.74055757e-057, 3.50507023e-035, 5.27731217e-146,\n",
       "       2.52986375e-057, 1.24097562e-008, 7.47745118e-159, 7.84390848e-006,\n",
       "       6.04204553e-238, 0.00000000e+000, 3.11658677e-119, 3.17132589e-005,\n",
       "       5.41979923e-169, 0.00000000e+000, 8.96885019e-199, 2.23239840e-114,\n",
       "       0.00000000e+000, 2.51508627e-078, 4.43614707e-102, 7.57643580e-042,\n",
       "       0.00000000e+000, 0.00000000e+000, 6.70351952e-001, 8.15099766e-067,\n",
       "       2.46940125e-187, 1.49810981e-103, 5.57902166e-005, 5.66081568e-180,\n",
       "       3.23783879e-079, 5.76522955e-215, 0.00000000e+000, 2.40392299e-039,\n",
       "       5.76902948e-139, 3.85105702e-095, 8.60699714e-115, 1.84023851e-021,\n",
       "       0.00000000e+000, 1.20530586e-042, 0.00000000e+000, 3.71324344e-001,\n",
       "       0.00000000e+000, 0.00000000e+000, 0.00000000e+000, 0.00000000e+000,\n",
       "       1.19723173e-215, 0.00000000e+000, 0.00000000e+000, 1.22430100e-082,\n",
       "       0.00000000e+000, 0.00000000e+000, 0.00000000e+000, 0.00000000e+000,\n",
       "       2.51867145e-210, 0.00000000e+000, 0.00000000e+000, 0.00000000e+000,\n",
       "       2.27113503e-200, 0.00000000e+000, 0.00000000e+000, 1.26365177e-005,\n",
       "       7.44124950e-017, 8.17436834e-001, 0.00000000e+000, 3.71997448e-192,\n",
       "       6.44002289e-077, 6.91990437e-099, 2.06835654e-046, 2.77691491e-011,\n",
       "       1.08647342e-020, 1.31199193e-155, 9.82717093e-003, 9.21077134e-014,\n",
       "       0.00000000e+000, 1.81116657e-004, 9.74557889e-023, 1.81983498e-198,\n",
       "       5.02642064e-072, 5.73578704e-015, 2.12770195e-207, 0.00000000e+000,\n",
       "       1.46020139e-030, 1.49701820e-039, 0.00000000e+000, 2.69417165e-034,\n",
       "       1.19774988e-008, 1.54040177e-008, 1.94267108e-023, 3.42992870e-006,\n",
       "       0.00000000e+000, 5.49162814e-071, 4.61770742e-001, 3.26196765e-063,\n",
       "       4.35333584e-174, 1.08768760e-029, 2.02775340e-100, 1.09198192e-010,\n",
       "       9.24703523e-005, 3.84122444e-003, 1.56532074e-124, 1.18883707e-001,\n",
       "       3.10214642e-026, 5.20085464e-152, 3.91972094e-184, 0.00000000e+000,\n",
       "       1.57010009e-002, 5.76714977e-056, 5.64166617e-001, 3.83065798e-001,\n",
       "       1.01579743e-063, 0.00000000e+000, 3.93990968e-209, 5.64136073e-074,\n",
       "       3.65432933e-243, 0.00000000e+000, 9.80319166e-004, 1.20266677e-299,\n",
       "       4.08057019e-086, 8.63849685e-021, 2.03013699e-079, 0.00000000e+000,\n",
       "       4.54603986e-054, 4.66117252e-002])"
      ]
     },
     "execution_count": 22,
     "metadata": {},
     "output_type": "execute_result"
    }
   ],
   "source": [
    "pvals"
   ]
  },
  {
   "cell_type": "code",
   "execution_count": 23,
   "metadata": {
    "scrolled": true
   },
   "outputs": [
    {
     "data": {
      "text/plain": [
       "array([5.40027098e+02, 4.94881652e+02, 1.86332365e+02, 4.65340519e+02,\n",
       "       5.41259343e+03, 2.55384182e+02, 1.53176511e+02, 6.62078038e+02,\n",
       "       2.54639161e+02, 3.24216285e+01, 7.21163064e+02, 1.99755421e+01,\n",
       "       1.08499027e+03, 1.02881615e+04, 5.38996789e+02, 1.73122694e+01,\n",
       "       7.67795941e+02, 3.33576082e+03, 9.04779873e+02, 5.16680389e+02,\n",
       "       2.73510567e+03, 3.51040519e+02, 4.60160306e+02, 1.83691478e+02,\n",
       "       2.88557033e+03, 1.58314904e+03, 1.81190712e-01, 2.98194143e+02,\n",
       "       8.52157180e+02, 4.66922115e+02, 1.62404461e+01, 8.18302246e+02,\n",
       "       3.55128976e+02, 9.79267475e+02, 2.59140918e+03, 1.72235540e+02,\n",
       "       6.29713637e+02, 4.28278473e+02, 5.18582900e+02, 9.05102206e+01,\n",
       "       2.12531185e+03, 1.87348591e+02, 2.01689573e+03, 7.99227803e-01,\n",
       "       1.51157217e+03, 4.04579271e+03, 3.75078544e+03, 1.50091095e+03,\n",
       "       9.82407946e+02, 3.96921976e+03, 1.56179817e+03, 3.70846487e+02,\n",
       "       2.36331119e+03, 2.93601034e+03, 2.61461462e+03, 4.45656336e+03,\n",
       "       9.57919847e+02, 1.52619150e+03, 2.74829425e+03, 1.86464794e+03,\n",
       "       9.12123932e+02, 4.03884831e+03, 4.60396677e+03, 1.90646317e+01,\n",
       "       6.95523646e+01, 5.32884548e-02, 1.50604240e+03, 8.74337912e+02,\n",
       "       3.44573388e+02, 4.45487827e+02, 2.04602012e+02, 4.43281692e+01,\n",
       "       8.69977020e+01, 7.06243920e+02, 6.66595991e+00, 5.55286300e+01,\n",
       "       1.70539730e+03, 1.40175048e+01, 9.63257190e+01, 9.03366287e+02,\n",
       "       3.22110199e+02, 6.09902604e+01, 9.44455840e+02, 1.83352454e+03,\n",
       "       1.32048337e+02, 1.73177401e+02, 1.54577994e+03, 1.49124050e+02,\n",
       "       3.24905263e+01, 3.20016690e+01, 9.95192377e+01, 2.15596479e+01,\n",
       "       1.90365441e+03, 3.17342815e+02, 5.41599149e-01, 2.81661732e+02,\n",
       "       7.91230036e+02, 1.28062403e+02, 4.52532324e+02, 4.16494127e+01,\n",
       "       1.52845375e+01, 8.35738743e+00, 5.63355893e+02, 2.43196610e+00,\n",
       "       1.12280223e+02, 6.89697497e+02, 8.37434966e+02, 4.04934074e+03,\n",
       "       5.83605398e+00, 2.48410537e+02, 3.32541095e-01, 7.60839924e-01,\n",
       "       2.83986881e+02, 4.65238817e+03, 9.52425564e+02, 3.31062457e+02,\n",
       "       1.10899993e+03, 1.82308286e+03, 1.08643734e+01, 1.36890200e+03,\n",
       "       3.86817489e+02, 8.74512028e+01, 3.56059978e+02, 1.45565644e+03,\n",
       "       2.39711401e+02, 3.95934904e+00])"
      ]
     },
     "execution_count": 23,
     "metadata": {},
     "output_type": "execute_result"
    }
   ],
   "source": [
    "chi2vals"
   ]
  },
  {
   "cell_type": "markdown",
   "metadata": {},
   "source": [
    "## 1 Hz Bins"
   ]
  },
  {
   "cell_type": "code",
   "execution_count": 24,
   "metadata": {},
   "outputs": [],
   "source": [
    "freq_bins = [i*1 for i in range(30)]"
   ]
  },
  {
   "cell_type": "code",
   "execution_count": 25,
   "metadata": {},
   "outputs": [
    {
     "name": "stdout",
     "output_type": "stream",
     "text": [
      "Starting 20 processes\n",
      "retrieving: 0\n",
      "retrieving: 500\n",
      "retrieving: 1000\n",
      "retrieving: 1500\n",
      "retrieving: 2000\n",
      "retrieving: 2500\n",
      "retrieving: 3000\n",
      "retrieving: 3500\n",
      "retrieving: 4000\n",
      "retrieving: 4500\n",
      "retrieving: 5000\n",
      "retrieving: 5500\n",
      "retrieving: 6000\n",
      "retrieving: 6500\n",
      "retrieving: 7000\n",
      "retrieving: 7500\n",
      "retrieving: 8000\n",
      "retrieving: 8500\n",
      "retrieving: 9000\n",
      "retrieving: 9500\n",
      "retrieving: 10000\n",
      "retrieving: 10500\n",
      "retrieving: 11000\n",
      "retrieving: 11500\n",
      "retrieving: 12000\n",
      "retrieving: 12500\n",
      "retrieving: 13000\n",
      "retrieving: 13500\n",
      "retrieving: 14000\n",
      "retrieving: 14500\n",
      "retrieving: 15000\n",
      "retrieving: 15500\n",
      "retrieving: 16000\n",
      "retrieving: 16500\n",
      "retrieving: 17000\n",
      "retrieving: 17500\n",
      "retrieving: 18000\n",
      "retrieving: 18500\n",
      "retrieving: 19000\n",
      "retrieving: 19500\n",
      "retrieving: 20000\n",
      "retrieving: 20500\n",
      "retrieving: 21000\n",
      "retrieving: 21500\n",
      "retrieving: 22000\n",
      "retrieving: 22500\n",
      "retrieving: 23000\n",
      "retrieving: 23500\n",
      "retrieving: 24000\n",
      "retrieving: 24500\n",
      "retrieving: 25000\n",
      "retrieving: 25500\n",
      "retrieving: 26000\n",
      "retrieving: 26500\n",
      "retrieving: 27000\n",
      "retrieving: 27500\n",
      "retrieving: 28000\n",
      "retrieving: 28500\n",
      "retrieving: 29000\n",
      "retrieving: 29500\n",
      "retrieving: 30000\n",
      "retrieving: 30500\n",
      "retrieving: 31000\n",
      "retrieving: 31500\n",
      "retrieving: 32000\n",
      "retrieving: 32500\n",
      "retrieving: 33000\n",
      "retrieving: 33500\n",
      "retrieving: 34000\n",
      "retrieving: 34500\n",
      "retrieving: 35000\n",
      "retrieving: 35500\n",
      "retrieving: 36000\n",
      "retrieving: 36500\n",
      "retrieving: 37000\n",
      "retrieving: 37500\n",
      "retrieving: 38000\n",
      "retrieving: 38500\n",
      "retrieving: 39000\n",
      "retrieving: 39500\n",
      "retrieving: 40000\n",
      "retrieving: 40500\n",
      "retrieving: 41000\n",
      "retrieving: 41500\n",
      "retrieving: 42000\n",
      "retrieving: 42500\n",
      "retrieving: 43000\n",
      "retrieving: 43500\n",
      "retrieving: 44000\n",
      "retrieving: 44500\n",
      "retrieving: 45000\n",
      "retrieving: 45500\n",
      "retrieving: 46000\n",
      "retrieving: 46500\n",
      "retrieving: 47000\n",
      "retrieving: 47500\n",
      "retrieving: 48000\n",
      "retrieving: 48500\n",
      "retrieving: 49000\n",
      "retrieving: 49500\n",
      "retrieving: 50000\n",
      "retrieving: 50500\n",
      "retrieving: 51000\n",
      "retrieving: 51500\n",
      "retrieving: 52000\n",
      "retrieving: 52500\n",
      "retrieving: 53000\n",
      "retrieving: 53500\n",
      "retrieving: 54000\n",
      "retrieving: 54500\n",
      "retrieving: 55000\n",
      "retrieving: 55500\n",
      "retrieving: 56000\n",
      "retrieving: 56500\n",
      "retrieving: 57000\n"
     ]
    }
   ],
   "source": [
    "del maleFFTInputFullData\n",
    "del femaleFFTInputFullData\n",
    "maleFFTInputData = read.EdfFFTDatasetTransformer(maleInputData, n_process=20, is_tuple_data=False, is_pandas_data=False, freq_bins=freq_bins)\n",
    "maleFFTInputData.verbosity = 500\n",
    "maleFFTInputFullData = maleFFTInputData[:]"
   ]
  },
  {
   "cell_type": "code",
   "execution_count": 26,
   "metadata": {},
   "outputs": [
    {
     "name": "stdout",
     "output_type": "stream",
     "text": [
      "Starting 20 processes\n",
      "retrieving: 0\n",
      "retrieving: 500\n",
      "retrieving: 1000\n",
      "retrieving: 1500\n",
      "retrieving: 2000\n",
      "retrieving: 2500\n",
      "retrieving: 3000\n",
      "retrieving: 3500\n",
      "retrieving: 4000\n",
      "retrieving: 4500\n",
      "retrieving: 5000\n",
      "retrieving: 5500\n",
      "retrieving: 6000\n",
      "retrieving: 6500\n",
      "retrieving: 7000\n",
      "retrieving: 7500\n",
      "retrieving: 8000\n",
      "retrieving: 8500\n",
      "retrieving: 9000\n",
      "retrieving: 9500\n",
      "retrieving: 10000\n",
      "retrieving: 10500\n",
      "retrieving: 11000\n",
      "retrieving: 11500\n",
      "retrieving: 12000\n",
      "retrieving: 12500\n",
      "retrieving: 13000\n",
      "retrieving: 13500\n",
      "retrieving: 14000\n",
      "retrieving: 14500\n",
      "retrieving: 15000\n",
      "retrieving: 15500\n",
      "retrieving: 16000\n",
      "retrieving: 16500\n",
      "retrieving: 17000\n",
      "retrieving: 17500\n",
      "retrieving: 18000\n",
      "retrieving: 18500\n",
      "retrieving: 19000\n",
      "retrieving: 19500\n",
      "retrieving: 20000\n",
      "retrieving: 20500\n",
      "retrieving: 21000\n",
      "retrieving: 21500\n",
      "retrieving: 22000\n",
      "retrieving: 22500\n",
      "retrieving: 23000\n",
      "retrieving: 23500\n",
      "retrieving: 24000\n",
      "retrieving: 24500\n",
      "retrieving: 25000\n",
      "retrieving: 25500\n",
      "retrieving: 26000\n",
      "retrieving: 26500\n",
      "retrieving: 27000\n",
      "retrieving: 27500\n",
      "retrieving: 28000\n",
      "retrieving: 28500\n",
      "retrieving: 29000\n",
      "retrieving: 29500\n",
      "retrieving: 30000\n",
      "retrieving: 30500\n",
      "retrieving: 31000\n",
      "retrieving: 31500\n",
      "retrieving: 32000\n",
      "retrieving: 32500\n",
      "retrieving: 33000\n",
      "retrieving: 33500\n",
      "retrieving: 34000\n",
      "retrieving: 34500\n",
      "retrieving: 35000\n",
      "retrieving: 35500\n",
      "retrieving: 36000\n",
      "retrieving: 36500\n",
      "retrieving: 37000\n",
      "retrieving: 37500\n",
      "retrieving: 38000\n",
      "retrieving: 38500\n",
      "retrieving: 39000\n",
      "retrieving: 39500\n",
      "retrieving: 40000\n",
      "retrieving: 40500\n",
      "retrieving: 41000\n",
      "retrieving: 41500\n",
      "retrieving: 42000\n",
      "retrieving: 42500\n",
      "retrieving: 43000\n",
      "retrieving: 43500\n",
      "retrieving: 44000\n",
      "retrieving: 44500\n",
      "retrieving: 45000\n",
      "retrieving: 45500\n",
      "retrieving: 46000\n",
      "retrieving: 46500\n",
      "retrieving: 47000\n",
      "retrieving: 47500\n",
      "retrieving: 48000\n",
      "retrieving: 48500\n",
      "retrieving: 49000\n",
      "retrieving: 49500\n",
      "retrieving: 50000\n",
      "retrieving: 50500\n",
      "retrieving: 51000\n",
      "retrieving: 51500\n",
      "retrieving: 52000\n",
      "retrieving: 52500\n",
      "retrieving: 53000\n",
      "retrieving: 53500\n",
      "retrieving: 54000\n",
      "retrieving: 54500\n",
      "retrieving: 55000\n",
      "retrieving: 55500\n",
      "retrieving: 56000\n",
      "retrieving: 56500\n",
      "retrieving: 57000\n",
      "retrieving: 57500\n",
      "retrieving: 58000\n",
      "retrieving: 58500\n",
      "retrieving: 59000\n",
      "retrieving: 59500\n",
      "retrieving: 60000\n",
      "retrieving: 60500\n",
      "retrieving: 61000\n",
      "retrieving: 61500\n",
      "retrieving: 62000\n",
      "retrieving: 62500\n",
      "retrieving: 63000\n",
      "retrieving: 63500\n",
      "retrieving: 64000\n",
      "retrieving: 64500\n",
      "retrieving: 65000\n",
      "retrieving: 65500\n",
      "retrieving: 66000\n",
      "retrieving: 66500\n",
      "retrieving: 67000\n"
     ]
    }
   ],
   "source": [
    "femaleFFTInputData = read.EdfFFTDatasetTransformer(femaleInputData, n_process=20, is_tuple_data=False, is_pandas_data=False, freq_bins=freq_bins)\n",
    "femaleFFTInputData.verbosity = 500\n",
    "femaleFFTInputFullData = femaleFFTInputData[:]"
   ]
  },
  {
   "cell_type": "code",
   "execution_count": 27,
   "metadata": {},
   "outputs": [],
   "source": [
    "datum = maleFFTInputFullData[0]\n",
    "maleFFTPropData = [datum.sum(1)/datum.sum().sum() for datum in maleFFTInputFullData]"
   ]
  },
  {
   "cell_type": "code",
   "execution_count": 28,
   "metadata": {},
   "outputs": [
    {
     "data": {
      "image/png": "[encoded data removed]",
      "text/plain": [
       "<Figure size 648x648 with 1 Axes>"
      ]
     },
     "metadata": {
      "needs_background": "light"
     },
     "output_type": "display_data"
    }
   ],
   "source": [
    "fig = plt.figure(figsize=(9,9))\n",
    "plt.title(\"Male Freq. Bins using Pipeline Training Data\")\n",
    "plt.xlabel(\"Frequency Bins Across All Channels\")\n",
    "plt.ylabel(\"Proportion\")\n",
    "plt.bar(datum.sum(1).index, np.mean(maleFFTPropData, axis=0))\n",
    "plt.savefig(\"male_freq.png\", dpi=300)"
   ]
  },
  {
   "cell_type": "code",
   "execution_count": 29,
   "metadata": {},
   "outputs": [
    {
     "data": {
      "text/plain": [
       "array([0.26100284, 0.10729346, 0.06685369, 0.05130875, 0.04291683,\n",
       "       0.03740136, 0.03431417, 0.03326365, 0.03175603, 0.0292389 ,\n",
       "       0.02700198, 0.02417271, 0.02173264, 0.0198539 , 0.01843899,\n",
       "       0.01739931, 0.01692388, 0.01594065, 0.01482916, 0.01431472,\n",
       "       0.01355377, 0.01245068, 0.01205153, 0.01193325, 0.01137047,\n",
       "       0.01111255, 0.01118527, 0.01236946, 0.01801539])"
      ]
     },
     "execution_count": 29,
     "metadata": {},
     "output_type": "execute_result"
    }
   ],
   "source": [
    "np.mean(maleFFTPropData, axis=0)"
   ]
  },
  {
   "cell_type": "code",
   "execution_count": 30,
   "metadata": {},
   "outputs": [],
   "source": [
    "femaleFFTPropData = [datum.sum(1)/datum.sum().sum() for datum in femaleFFTInputFullData]"
   ]
  },
  {
   "cell_type": "code",
   "execution_count": 31,
   "metadata": {},
   "outputs": [
    {
     "data": {
      "text/plain": [
       "{29}"
      ]
     },
     "execution_count": 31,
     "metadata": {},
     "output_type": "execute_result"
    }
   ],
   "source": [
    "set([len(datum) for datum in femaleFFTPropData])"
   ]
  },
  {
   "cell_type": "code",
   "execution_count": 32,
   "metadata": {},
   "outputs": [
    {
     "data": {
      "text/plain": [
       "array([0.24269112, 0.10510101, 0.06722816, 0.05206528, 0.04375996,\n",
       "       0.03871228, 0.03610097, 0.03529424, 0.03337689, 0.03064878,\n",
       "       0.02779563, 0.02487121, 0.02226618, 0.02042021, 0.01895529,\n",
       "       0.01775532, 0.01712511, 0.01635171, 0.01541015, 0.01510305,\n",
       "       0.01398381, 0.01288631, 0.0124795 , 0.01241222, 0.0119102 ,\n",
       "       0.01161487, 0.01178726, 0.01299154, 0.01890175])"
      ]
     },
     "execution_count": 32,
     "metadata": {},
     "output_type": "execute_result"
    }
   ],
   "source": [
    "np.mean(femaleFFTPropData, axis=0)"
   ]
  },
  {
   "cell_type": "code",
   "execution_count": 33,
   "metadata": {},
   "outputs": [
    {
     "data": {
      "image/png": "[encoded data removed]",
      "text/plain": [
       "<Figure size 648x648 with 1 Axes>"
      ]
     },
     "metadata": {
      "needs_background": "light"
     },
     "output_type": "display_data"
    }
   ],
   "source": [
    "fig = plt.figure(figsize=(9,9))\n",
    "plt.title(\"Female Freq. Bins using Pipeline Training Data\")\n",
    "plt.xlabel(\"Frequency Bins Across All Channels\")\n",
    "plt.ylabel(\"Proportion\")\n",
    "plt.bar(datum.sum(1).index, np.mean(femaleFFTPropData, axis=0))\n",
    "plt.savefig(\"female_freq.png\", dpi=300)"
   ]
  },
  {
   "cell_type": "code",
   "execution_count": 34,
   "metadata": {},
   "outputs": [],
   "source": [
    "pkl.dump((maleFFTPropData, femaleFFTPropData), open(\"fft_prop.pkl\", \"wb\"))"
   ]
  },
  {
   "cell_type": "code",
   "execution_count": 35,
   "metadata": {},
   "outputs": [],
   "source": [
    "maleFFTPropData, femaleFFTPropData = pkl.load(open(\"fft_prop.pkl\", \"rb\"))"
   ]
  },
  {
   "cell_type": "code",
   "execution_count": 38,
   "metadata": {},
   "outputs": [
    {
     "data": {
      "text/plain": [
       "array([0.])"
      ]
     },
     "execution_count": 38,
     "metadata": {},
     "output_type": "execute_result"
    }
   ],
   "source": [
    "from sklearn.feature_selection import chi2\n",
    "allFFT = np.vstack([femaleFFTPropData, maleFFTPropData])\n",
    "chi2vals, pvals = chi2(allFFT, [datum[1] for datum in allData])\n",
    "pvals = np.nan_to_num(pvals, 1)\n",
    "len(pvals)\n",
    "(pvals < (0.001/len(pvals))).sum() / pvals.shape #percent of pvals that are signficant with bonferroni correction"
   ]
  },
  {
   "cell_type": "code",
   "execution_count": 39,
   "metadata": {},
   "outputs": [
    {
     "data": {
      "text/plain": [
       "array([0.20105994, 0.73712067, 0.72967674, 0.63886366, 0.59650331,\n",
       "       0.70690647, 0.72721515, 0.97147297, 0.77025515, 0.60300338,\n",
       "       0.73816083, 0.77450977, 0.98230756, 0.86233256, 0.9050509 ,\n",
       "       0.993915  , 0.87855564, 0.95346016, 0.98894053, 0.9644558 ,\n",
       "       0.68466244, 0.83634156, 0.85702856, 0.7925174 , 0.74537667,\n",
       "       0.77885047, 0.72396854, 0.57136295, 0.51351937])"
      ]
     },
     "execution_count": 39,
     "metadata": {},
     "output_type": "execute_result"
    }
   ],
   "source": [
    "pvals"
   ]
  },
  {
   "cell_type": "markdown",
   "metadata": {},
   "source": [
    "# 1 Samples for Individuals"
   ]
  },
  {
   "cell_type": "markdown",
   "metadata": {},
   "source": [
    "## 1 Hz Bins"
   ]
  },
  {
   "cell_type": "code",
   "execution_count": 40,
   "metadata": {},
   "outputs": [],
   "source": [
    "trainData = pkl.load(open(\"/n/scratch2/ms994/standardized_combined_simple_ensemble_train_data_1.pkl\", 'rb'))\n",
    "testData = pkl.load(open(\"/n/scratch2/ms994/standardized_combined_simple_ensemble_test_data_1.pkl\", 'rb'))\n",
    "validData = pkl.load(open(\"/n/scratch2/ms994/valid_standardized_combined_simple_ensemble_train_data_1.pkl\", 'rb'))\n",
    "allData = trainData + testData + validData\n",
    "allRawData = np.stack([datum[0][0:500] for datum in allData])\n",
    "freq_bins = [i*1 for i in range(30)]"
   ]
  },
  {
   "cell_type": "code",
   "execution_count": 41,
   "metadata": {},
   "outputs": [],
   "source": [
    "allLabels = np.array([datum[1] for datum in allData])\n",
    "maleInputData = allRawData[allLabels == 1]\n",
    "femaleInputData = allRawData[allLabels != 1]"
   ]
  },
  {
   "cell_type": "code",
   "execution_count": 42,
   "metadata": {},
   "outputs": [
    {
     "name": "stdout",
     "output_type": "stream",
     "text": [
      "Starting 20 processes\n",
      "retrieving: 0\n",
      "retrieving: 500\n",
      "retrieving: 1000\n",
      "retrieving: 1500\n",
      "retrieving: 2000\n",
      "retrieving: 2500\n",
      "retrieving: 3000\n",
      "retrieving: 3500\n",
      "retrieving: 4000\n",
      "retrieving: 4500\n",
      "retrieving: 5000\n",
      "retrieving: 5500\n",
      "retrieving: 6000\n",
      "retrieving: 6500\n",
      "retrieving: 7000\n",
      "retrieving: 7500\n",
      "retrieving: 8000\n",
      "retrieving: 8500\n",
      "retrieving: 9000\n",
      "retrieving: 9500\n",
      "retrieving: 10000\n",
      "retrieving: 10500\n",
      "retrieving: 11000\n",
      "retrieving: 11500\n"
     ]
    }
   ],
   "source": [
    "del maleFFTInputFullData\n",
    "del femaleFFTInputFullData\n",
    "maleFFTInputData = read.EdfFFTDatasetTransformer(maleInputData, n_process=20, is_tuple_data=False, is_pandas_data=False, freq_bins=freq_bins)\n",
    "maleFFTInputData.verbosity = 500\n",
    "maleFFTInputFullData = maleFFTInputData[:]"
   ]
  },
  {
   "cell_type": "code",
   "execution_count": 43,
   "metadata": {},
   "outputs": [
    {
     "name": "stdout",
     "output_type": "stream",
     "text": [
      "Starting 20 processes\n",
      "retrieving: 0\n",
      "retrieving: 500\n",
      "retrieving: 1000\n",
      "retrieving: 1500\n",
      "retrieving: 2000\n",
      "retrieving: 2500\n",
      "retrieving: 3000\n",
      "retrieving: 3500\n",
      "retrieving: 4000\n",
      "retrieving: 4500\n",
      "retrieving: 5000\n",
      "retrieving: 5500\n",
      "retrieving: 6000\n",
      "retrieving: 6500\n",
      "retrieving: 7000\n",
      "retrieving: 7500\n",
      "retrieving: 8000\n",
      "retrieving: 8500\n",
      "retrieving: 9000\n",
      "retrieving: 9500\n",
      "retrieving: 10000\n",
      "retrieving: 10500\n",
      "retrieving: 11000\n",
      "retrieving: 11500\n",
      "retrieving: 12000\n",
      "retrieving: 12500\n",
      "retrieving: 13000\n",
      "retrieving: 13500\n"
     ]
    }
   ],
   "source": [
    "femaleFFTInputData = read.EdfFFTDatasetTransformer(femaleInputData, n_process=20, is_tuple_data=False, is_pandas_data=False, freq_bins=freq_bins)\n",
    "femaleFFTInputData.verbosity = 500\n",
    "femaleFFTInputFullData = femaleFFTInputData[:]"
   ]
  },
  {
   "cell_type": "code",
   "execution_count": 44,
   "metadata": {},
   "outputs": [],
   "source": [
    "datum = maleFFTInputFullData[0]\n",
    "maleFFTPropData = [datum.sum(1)/datum.sum().sum() for datum in maleFFTInputFullData]"
   ]
  },
  {
   "cell_type": "code",
   "execution_count": 45,
   "metadata": {},
   "outputs": [
    {
     "data": {
      "image/png": "[encoded data removed]",
      "text/plain": [
       "<Figure size 648x648 with 1 Axes>"
      ]
     },
     "metadata": {
      "needs_background": "light"
     },
     "output_type": "display_data"
    }
   ],
   "source": [
    "fig = plt.figure(figsize=(9,9))\n",
    "plt.title(\"Male Freq. Bins using Pipeline Training Data\")\n",
    "plt.xlabel(\"Frequency Bins Across All Channels\")\n",
    "plt.ylabel(\"Proportion\")\n",
    "plt.bar(datum.sum(1).index, np.mean(maleFFTPropData, axis=0))\n",
    "plt.savefig(\"male_freq.png\", dpi=300)"
   ]
  },
  {
   "cell_type": "code",
   "execution_count": 46,
   "metadata": {},
   "outputs": [
    {
     "data": {
      "text/plain": [
       "array([0.26125059, 0.10765018, 0.06716519, 0.05145271, 0.04285484,\n",
       "       0.03738614, 0.03427576, 0.03316688, 0.03175373, 0.02925577,\n",
       "       0.02699255, 0.02423439, 0.02172268, 0.01978426, 0.01835177,\n",
       "       0.01739356, 0.01699766, 0.01590344, 0.01479357, 0.01426167,\n",
       "       0.01344416, 0.01237983, 0.01194977, 0.01188797, 0.01131058,\n",
       "       0.01105765, 0.01114145, 0.01233798, 0.01784326])"
      ]
     },
     "execution_count": 46,
     "metadata": {},
     "output_type": "execute_result"
    }
   ],
   "source": [
    "np.mean(maleFFTPropData, axis=0)"
   ]
  },
  {
   "cell_type": "code",
   "execution_count": 47,
   "metadata": {},
   "outputs": [],
   "source": [
    "femaleFFTPropData = [datum.sum(1)/datum.sum().sum() for datum in femaleFFTInputFullData]"
   ]
  },
  {
   "cell_type": "code",
   "execution_count": 48,
   "metadata": {},
   "outputs": [
    {
     "data": {
      "text/plain": [
       "{29}"
      ]
     },
     "execution_count": 48,
     "metadata": {},
     "output_type": "execute_result"
    }
   ],
   "source": [
    "set([len(datum) for datum in femaleFFTPropData])"
   ]
  },
  {
   "cell_type": "code",
   "execution_count": 49,
   "metadata": {},
   "outputs": [
    {
     "data": {
      "text/plain": [
       "array([0.24383406, 0.10500567, 0.06736672, 0.05207142, 0.04379217,\n",
       "       0.03860068, 0.03605412, 0.03521591, 0.03334924, 0.03055637,\n",
       "       0.0276758 , 0.02482824, 0.02221896, 0.02031368, 0.01895072,\n",
       "       0.01774018, 0.01717543, 0.01630951, 0.0153427 , 0.01503674,\n",
       "       0.01390434, 0.01286547, 0.0124206 , 0.01232677, 0.01185787,\n",
       "       0.01157368, 0.01173744, 0.01299336, 0.01888214])"
      ]
     },
     "execution_count": 49,
     "metadata": {},
     "output_type": "execute_result"
    }
   ],
   "source": [
    "np.mean(femaleFFTPropData, axis=0)"
   ]
  },
  {
   "cell_type": "code",
   "execution_count": 50,
   "metadata": {},
   "outputs": [
    {
     "data": {
      "image/png": "[encoded data removed]",
      "text/plain": [
       "<Figure size 648x648 with 1 Axes>"
      ]
     },
     "metadata": {
      "needs_background": "light"
     },
     "output_type": "display_data"
    }
   ],
   "source": [
    "fig = plt.figure(figsize=(9,9))\n",
    "plt.title(\"Female Freq. Bins using Pipeline Training Data\")\n",
    "plt.xlabel(\"Frequency Bins Across All Channels\")\n",
    "plt.ylabel(\"Proportion\")\n",
    "plt.bar(datum.sum(1).index, np.mean(femaleFFTPropData, axis=0))\n",
    "plt.savefig(\"female_freq.png\", dpi=300)"
   ]
  },
  {
   "cell_type": "code",
   "execution_count": 51,
   "metadata": {},
   "outputs": [],
   "source": [
    "pkl.dump((maleFFTPropData, femaleFFTPropData), open(\"fft_prop.pkl\", \"wb\"))"
   ]
  },
  {
   "cell_type": "code",
   "execution_count": 52,
   "metadata": {},
   "outputs": [],
   "source": [
    "maleFFTPropData, femaleFFTPropData = pkl.load(open(\"fft_prop.pkl\", \"rb\"))"
   ]
  },
  {
   "cell_type": "code",
   "execution_count": 61,
   "metadata": {},
   "outputs": [],
   "source": [
    "allFFT = np.vstack([[datum.values.flatten() for datum in femaleFFTInputFullData], [datum.values.flatten() for datum in maleFFTInputFullData]])"
   ]
  },
  {
   "cell_type": "code",
   "execution_count": 62,
   "metadata": {},
   "outputs": [
    {
     "data": {
      "text/plain": [
       "array([0.42692939])"
      ]
     },
     "execution_count": 62,
     "metadata": {},
     "output_type": "execute_result"
    }
   ],
   "source": [
    "from sklearn.feature_selection import chi2\n",
    "chi2vals, pvals = chi2(allFFT, [datum[1] for datum in allData])\n",
    "pvals = np.nan_to_num(pvals, 1)\n",
    "len(pvals)\n",
    "(pvals < (0.001/len(pvals))).sum() / pvals.shape #percent of pvals that are signficant with bonferroni correction"
   ]
  },
  {
   "cell_type": "markdown",
   "metadata": {},
   "source": [
    "# seizure comparison"
   ]
  },
  {
   "cell_type": "code",
   "execution_count": 33,
   "metadata": {},
   "outputs": [
    {
     "data": {
      "text/plain": [
       "<module 'data_reader' from '/home/ms994/dbmi_eeg_clustering/data_reader.py'>"
      ]
     },
     "execution_count": 33,
     "metadata": {},
     "output_type": "execute_result"
    }
   ],
   "source": [
    "util_funcs.config=None\n",
    "util_funcs.read_config()\n",
    "util_funcs.config.update(util_funcs.config[\"seizure_config\"])\n",
    "reload(read)"
   ]
  },
  {
   "cell_type": "code",
   "execution_count": 38,
   "metadata": {},
   "outputs": [],
   "source": [
    "rawData = read.EdfDataset(\"combined\", \"01_tcp_ar\", n_process=18)\n",
    "data = read.EdfFFTDatasetTransformer(rawData, freq_bins=[i for i in range(30)], n_process=20, window_size=pd.Timedelta(seconds=10), non_overlapping=True)\n",
    "data.verbosity = 500"
   ]
  },
  {
   "cell_type": "code",
   "execution_count": 39,
   "metadata": {},
   "outputs": [
    {
     "name": "stdout",
     "output_type": "stream",
     "text": [
      "Starting 20 processes\n",
      "retrieving: 0\n",
      "retrieving: 500\n",
      "retrieving: 1000\n",
      "retrieving: 1500\n",
      "retrieving: 2000\n",
      "retrieving: 2500\n",
      "retrieving: 3000\n",
      "retrieving: 3500\n",
      "retrieving: 4000\n"
     ]
    }
   ],
   "source": [
    "ten_second_bin_fft_data = data[:]"
   ]
  },
  {
   "cell_type": "code",
   "execution_count": 37,
   "metadata": {},
   "outputs": [
    {
     "data": {
      "text/plain": [
       "1    17\n",
       "dtype: int64"
      ]
     },
     "execution_count": 37,
     "metadata": {},
     "output_type": "execute_result"
    }
   ],
   "source": [
    "util_funcs.get_file_sizes(\"dev_test\", \"01_tcp_ar\").min()"
   ]
  },
  {
   "cell_type": "code",
   "execution_count": 40,
   "metadata": {},
   "outputs": [],
   "source": [
    "pkl.dump(ten_second_bin_fft_data, open(\"/n/scratch2/ms994/10_second_bin_fft.pkl\",\"wb\"))"
   ]
  },
  {
   "cell_type": "code",
   "execution_count": 2,
   "metadata": {},
   "outputs": [],
   "source": [
    "ten_second_bin_fft_data =  pkl.load(open(\"/n/scratch2/ms994/10_second_bin_fft.pkl\",\"rb\"))"
   ]
  },
  {
   "cell_type": "code",
   "execution_count": 3,
   "metadata": {},
   "outputs": [
    {
     "data": {
      "text/html": [
       "<div>\n",
       "<style scoped>\n",
       "    .dataframe tbody tr th:only-of-type {\n",
       "        vertical-align: middle;\n",
       "    }\n",
       "\n",
       "    .dataframe tbody tr th {\n",
       "        vertical-align: top;\n",
       "    }\n",
       "\n",
       "    .dataframe thead th {\n",
       "        text-align: right;\n",
       "    }\n",
       "</style>\n",
       "<table border=\"1\" class=\"dataframe\">\n",
       "  <thead>\n",
       "    <tr style=\"text-align: right;\">\n",
       "      <th></th>\n",
       "      <th>start</th>\n",
       "      <th>end</th>\n",
       "      <th>label</th>\n",
       "      <th>p</th>\n",
       "    </tr>\n",
       "  </thead>\n",
       "  <tbody>\n",
       "    <tr>\n",
       "      <th>0</th>\n",
       "      <td>0</td>\n",
       "      <td>334.062</td>\n",
       "      <td>bckg</td>\n",
       "      <td>1</td>\n",
       "    </tr>\n",
       "    <tr>\n",
       "      <th>1</th>\n",
       "      <td>334.062</td>\n",
       "      <td>402</td>\n",
       "      <td>tcsz</td>\n",
       "      <td>1</td>\n",
       "    </tr>\n",
       "    <tr>\n",
       "      <th>2</th>\n",
       "      <td>402</td>\n",
       "      <td>1390</td>\n",
       "      <td>bckg</td>\n",
       "      <td>1</td>\n",
       "    </tr>\n",
       "  </tbody>\n",
       "</table>\n",
       "</div>"
      ],
      "text/plain": [
       "     start      end label  p\n",
       "0        0  334.062  bckg  1\n",
       "1  334.062      402  tcsz  1\n",
       "2      402     1390  bckg  1"
      ]
     },
     "execution_count": 3,
     "metadata": {},
     "output_type": "execute_result"
    }
   ],
   "source": [
    "ten_second_bin_fft_data[600][1]"
   ]
  },
  {
   "cell_type": "code",
   "execution_count": 45,
   "metadata": {},
   "outputs": [],
   "source": [
    "fftDatum = ten_second_bin_fft_data[600][0]"
   ]
  },
  {
   "cell_type": "code",
   "execution_count": 49,
   "metadata": {},
   "outputs": [
    {
     "data": {
      "text/plain": [
       "(3, 4)"
      ]
     },
     "execution_count": 49,
     "metadata": {},
     "output_type": "execute_result"
    }
   ],
   "source": [
    "ten_second_bin_fft_data[600][1].shape"
   ]
  },
  {
   "cell_type": "code",
   "execution_count": 52,
   "metadata": {
    "scrolled": true
   },
   "outputs": [
    {
     "data": {
      "text/html": [
       "<div>\n",
       "<style scoped>\n",
       "    .dataframe tbody tr th:only-of-type {\n",
       "        vertical-align: middle;\n",
       "    }\n",
       "\n",
       "    .dataframe tbody tr th {\n",
       "        vertical-align: top;\n",
       "    }\n",
       "\n",
       "    .dataframe thead th {\n",
       "        text-align: right;\n",
       "    }\n",
       "</style>\n",
       "<table border=\"1\" class=\"dataframe\">\n",
       "  <thead>\n",
       "    <tr style=\"text-align: right;\">\n",
       "      <th></th>\n",
       "      <th>start</th>\n",
       "      <th>end</th>\n",
       "      <th>label</th>\n",
       "      <th>p</th>\n",
       "    </tr>\n",
       "  </thead>\n",
       "  <tbody>\n",
       "    <tr>\n",
       "      <th>0</th>\n",
       "      <td>0</td>\n",
       "      <td>334.062</td>\n",
       "      <td>bckg</td>\n",
       "      <td>1</td>\n",
       "    </tr>\n",
       "    <tr>\n",
       "      <th>1</th>\n",
       "      <td>334.062</td>\n",
       "      <td>402</td>\n",
       "      <td>tcsz</td>\n",
       "      <td>1</td>\n",
       "    </tr>\n",
       "    <tr>\n",
       "      <th>2</th>\n",
       "      <td>402</td>\n",
       "      <td>1390</td>\n",
       "      <td>bckg</td>\n",
       "      <td>1</td>\n",
       "    </tr>\n",
       "  </tbody>\n",
       "</table>\n",
       "</div>"
      ],
      "text/plain": [
       "     start      end label  p\n",
       "0        0  334.062  bckg  1\n",
       "1  334.062      402  tcsz  1\n",
       "2      402     1390  bckg  1"
      ]
     },
     "execution_count": 52,
     "metadata": {},
     "output_type": "execute_result"
    }
   ],
   "source": [
    "ann = ten_second_bin_fft_data[600][1]\n",
    "ann"
   ]
  },
  {
   "cell_type": "code",
   "execution_count": 55,
   "metadata": {},
   "outputs": [],
   "source": []
  },
  {
   "cell_type": "code",
   "execution_count": 38,
   "metadata": {},
   "outputs": [],
   "source": [
    "cummulative = pd.DataFrame(index=[i for i in range(29)], columns=util_funcs.get_annotation_types())"
   ]
  },
  {
   "cell_type": "code",
   "execution_count": 39,
   "metadata": {},
   "outputs": [],
   "source": [
    "cummulative = cummulative.fillna(0)"
   ]
  },
  {
   "cell_type": "code",
   "execution_count": 23,
   "metadata": {},
   "outputs": [
    {
     "data": {
      "text/plain": [
       "(29, 27)"
      ]
     },
     "execution_count": 23,
     "metadata": {},
     "output_type": "execute_result"
    }
   ],
   "source": [
    "cummulative.shape"
   ]
  },
  {
   "cell_type": "code",
   "execution_count": 40,
   "metadata": {},
   "outputs": [],
   "source": [
    "cummulativeSubComp = []\n",
    "for i in range(len(ten_second_bin_fft_data)):\n",
    "    ann = ten_second_bin_fft_data[i][1]\n",
    "    fftDatum = ten_second_bin_fft_data[i][0]\n",
    "    labels = ann.label.unique()\n",
    "    for label in labels:\n",
    "        annTemp = (ann[ann.label == label][[\"start\", \"end\"]]/10).astype(np.int).round(-1)\n",
    "        for i in annTemp.index:\n",
    "            summedFFTDatum = fftDatum[:,annTemp.loc[i][\"start\"]:annTemp.loc[i][\"end\"]+1].sum(0).sum(0)\n",
    "            if summedFFTDatum.sum() != 0:\n",
    "                cummulative[label] += summedFFTDatum / summedFFTDatum.sum()\n",
    "                cummulativeSubComp.append(summedFFTDatum / summedFFTDatum.sum())"
   ]
  },
  {
   "cell_type": "code",
   "execution_count": 30,
   "metadata": {},
   "outputs": [],
   "source": [
    "isNan = [np.isnan(cummulativeSubComp[i]).any() for i in range(len(cummulativeSubComp))]"
   ]
  },
  {
   "cell_type": "code",
   "execution_count": 32,
   "metadata": {},
   "outputs": [
    {
     "data": {
      "text/plain": [
       "2028"
      ]
     },
     "execution_count": 32,
     "metadata": {},
     "output_type": "execute_result"
    }
   ],
   "source": [
    "sum(isNan)"
   ]
  },
  {
   "cell_type": "code",
   "execution_count": 33,
   "metadata": {},
   "outputs": [
    {
     "data": {
      "text/plain": [
       "0.26489028213166144"
      ]
     },
     "execution_count": 33,
     "metadata": {},
     "output_type": "execute_result"
    }
   ],
   "source": [
    "sum(isNan)/len(isNan)"
   ]
  },
  {
   "cell_type": "code",
   "execution_count": 35,
   "metadata": {},
   "outputs": [
    {
     "data": {
      "text/plain": [
       "30379987.878137637"
      ]
     },
     "execution_count": 35,
     "metadata": {},
     "output_type": "execute_result"
    }
   ],
   "source": [
    "summedFFTDatum.sum()"
   ]
  },
  {
   "cell_type": "code",
   "execution_count": null,
   "metadata": {},
   "outputs": [],
   "source": []
  },
  {
   "cell_type": "code",
   "execution_count": 41,
   "metadata": {},
   "outputs": [],
   "source": [
    "cummulative.to_csv(\"cummulative.csv\")"
   ]
  },
  {
   "cell_type": "code",
   "execution_count": null,
   "metadata": {},
   "outputs": [],
   "source": [
    "np.array([comp.isnan().any() for comp in cummulativeSubComp])"
   ]
  },
  {
   "cell_type": "code",
   "execution_count": 59,
   "metadata": {},
   "outputs": [
    {
     "data": {
      "text/plain": [
       "Text(0, 0.5, 'Proportion of Distribution')"
      ]
     },
     "execution_count": 59,
     "metadata": {},
     "output_type": "execute_result"
    },
    {
     "data": {
      "image/png": "[encoded data removed]",
      "text/plain": [
       "<Figure size 1080x720 with 1 Axes>"
      ]
     },
     "metadata": {
      "needs_background": "light"
     },
     "output_type": "display_data"
    }
   ],
   "source": [
    "plt.figure(figsize=(15,10))\n",
    "legends = [\"bckg\"]\n",
    "\n",
    "for legend in legends:\n",
    "    plt.plot(cummulative[legend] / cummulative[legend].sum())\n",
    "\n",
    "\n",
    "plt.legend(legends)\n",
    "plt.title(\"Average Distribution of Different FFT Over ALL Channels and Patients\")\n",
    "plt.xlabel(\"Frequency Bins\")\n",
    "plt.ylabel(\"Proportion of Distribution\")"
   ]
  },
  {
   "cell_type": "code",
   "execution_count": 58,
   "metadata": {},
   "outputs": [
    {
     "data": {
      "text/plain": [
       "Text(0, 0.5, 'Proportion of Distribution')"
      ]
     },
     "execution_count": 58,
     "metadata": {},
     "output_type": "execute_result"
    },
    {
     "data": {
      "image/png": "[encoded data removed]",
      "text/plain": [
       "<Figure size 1080x720 with 1 Axes>"
      ]
     },
     "metadata": {
      "needs_background": "light"
     },
     "output_type": "display_data"
    }
   ],
   "source": [
    "plt.figure(figsize=(15,10))\n",
    "legends = [\"bckg\", \"fnsz\", \"gnsz\", \"spsz\", \"cpsz\", \"absz\", \"tnsz\", \"tcsz\", \"mysz\"]\n",
    "\n",
    "for legend in legends:\n",
    "    plt.plot(cummulative[legend] / cummulative[legend].sum())\n",
    "\n",
    "\n",
    "plt.legend(legends)\n",
    "plt.title(\"Average Distribution of Different FFT Over ALL Channels and Patients\")\n",
    "plt.xlabel(\"Frequency Bins\")\n",
    "plt.ylabel(\"Proportion of Distribution\")"
   ]
  },
  {
   "cell_type": "code",
   "execution_count": 50,
   "metadata": {},
   "outputs": [
    {
     "data": {
      "text/plain": [
       "null     True\n",
       "spsw     True\n",
       "gped     True\n",
       "pled     True\n",
       "eybl     True\n",
       "artf     True\n",
       "bckg    False\n",
       "seiz     True\n",
       "fnsz    False\n",
       "gnsz    False\n",
       "spsz    False\n",
       "cpsz    False\n",
       "absz    False\n",
       "tnsz    False\n",
       "cnsz     True\n",
       "tcsz    False\n",
       "atsz     True\n",
       "mysz    False\n",
       "nesz     True\n",
       "intr     True\n",
       "slow     True\n",
       "eyem     True\n",
       "chew     True\n",
       "shiv     True\n",
       "musc     True\n",
       "elpp     True\n",
       "elst     True\n",
       "dtype: bool"
      ]
     },
     "execution_count": 50,
     "metadata": {},
     "output_type": "execute_result"
    }
   ],
   "source": [
    "cummulative.sum(0) == 0"
   ]
  },
  {
   "cell_type": "code",
   "execution_count": 45,
   "metadata": {},
   "outputs": [
    {
     "data": {
      "text/html": [
       "<div>\n",
       "<style scoped>\n",
       "    .dataframe tbody tr th:only-of-type {\n",
       "        vertical-align: middle;\n",
       "    }\n",
       "\n",
       "    .dataframe tbody tr th {\n",
       "        vertical-align: top;\n",
       "    }\n",
       "\n",
       "    .dataframe thead th {\n",
       "        text-align: right;\n",
       "    }\n",
       "</style>\n",
       "<table border=\"1\" class=\"dataframe\">\n",
       "  <thead>\n",
       "    <tr style=\"text-align: right;\">\n",
       "      <th></th>\n",
       "      <th>null</th>\n",
       "      <th>spsw</th>\n",
       "      <th>gped</th>\n",
       "      <th>pled</th>\n",
       "      <th>eybl</th>\n",
       "      <th>artf</th>\n",
       "      <th>bckg</th>\n",
       "      <th>seiz</th>\n",
       "      <th>fnsz</th>\n",
       "      <th>gnsz</th>\n",
       "      <th>...</th>\n",
       "      <th>mysz</th>\n",
       "      <th>nesz</th>\n",
       "      <th>intr</th>\n",
       "      <th>slow</th>\n",
       "      <th>eyem</th>\n",
       "      <th>chew</th>\n",
       "      <th>shiv</th>\n",
       "      <th>musc</th>\n",
       "      <th>elpp</th>\n",
       "      <th>elst</th>\n",
       "    </tr>\n",
       "  </thead>\n",
       "  <tbody>\n",
       "    <tr>\n",
       "      <th>0</th>\n",
       "      <td>0</td>\n",
       "      <td>0</td>\n",
       "      <td>0</td>\n",
       "      <td>0</td>\n",
       "      <td>0</td>\n",
       "      <td>0</td>\n",
       "      <td>190.976582</td>\n",
       "      <td>0</td>\n",
       "      <td>31.496898</td>\n",
       "      <td>11.759319</td>\n",
       "      <td>...</td>\n",
       "      <td>0.010343</td>\n",
       "      <td>0</td>\n",
       "      <td>0</td>\n",
       "      <td>0</td>\n",
       "      <td>0</td>\n",
       "      <td>0</td>\n",
       "      <td>0</td>\n",
       "      <td>0</td>\n",
       "      <td>0</td>\n",
       "      <td>0</td>\n",
       "    </tr>\n",
       "    <tr>\n",
       "      <th>1</th>\n",
       "      <td>0</td>\n",
       "      <td>0</td>\n",
       "      <td>0</td>\n",
       "      <td>0</td>\n",
       "      <td>0</td>\n",
       "      <td>0</td>\n",
       "      <td>776.044503</td>\n",
       "      <td>0</td>\n",
       "      <td>135.357679</td>\n",
       "      <td>51.665095</td>\n",
       "      <td>...</td>\n",
       "      <td>0.063477</td>\n",
       "      <td>0</td>\n",
       "      <td>0</td>\n",
       "      <td>0</td>\n",
       "      <td>0</td>\n",
       "      <td>0</td>\n",
       "      <td>0</td>\n",
       "      <td>0</td>\n",
       "      <td>0</td>\n",
       "      <td>0</td>\n",
       "    </tr>\n",
       "    <tr>\n",
       "      <th>2</th>\n",
       "      <td>0</td>\n",
       "      <td>0</td>\n",
       "      <td>0</td>\n",
       "      <td>0</td>\n",
       "      <td>0</td>\n",
       "      <td>0</td>\n",
       "      <td>537.275505</td>\n",
       "      <td>0</td>\n",
       "      <td>100.868962</td>\n",
       "      <td>42.060129</td>\n",
       "      <td>...</td>\n",
       "      <td>0.075020</td>\n",
       "      <td>0</td>\n",
       "      <td>0</td>\n",
       "      <td>0</td>\n",
       "      <td>0</td>\n",
       "      <td>0</td>\n",
       "      <td>0</td>\n",
       "      <td>0</td>\n",
       "      <td>0</td>\n",
       "      <td>0</td>\n",
       "    </tr>\n",
       "    <tr>\n",
       "      <th>3</th>\n",
       "      <td>0</td>\n",
       "      <td>0</td>\n",
       "      <td>0</td>\n",
       "      <td>0</td>\n",
       "      <td>0</td>\n",
       "      <td>0</td>\n",
       "      <td>410.637605</td>\n",
       "      <td>0</td>\n",
       "      <td>79.991060</td>\n",
       "      <td>32.501082</td>\n",
       "      <td>...</td>\n",
       "      <td>0.064704</td>\n",
       "      <td>0</td>\n",
       "      <td>0</td>\n",
       "      <td>0</td>\n",
       "      <td>0</td>\n",
       "      <td>0</td>\n",
       "      <td>0</td>\n",
       "      <td>0</td>\n",
       "      <td>0</td>\n",
       "      <td>0</td>\n",
       "    </tr>\n",
       "    <tr>\n",
       "      <th>4</th>\n",
       "      <td>0</td>\n",
       "      <td>0</td>\n",
       "      <td>0</td>\n",
       "      <td>0</td>\n",
       "      <td>0</td>\n",
       "      <td>0</td>\n",
       "      <td>341.942080</td>\n",
       "      <td>0</td>\n",
       "      <td>68.011831</td>\n",
       "      <td>26.531319</td>\n",
       "      <td>...</td>\n",
       "      <td>0.044935</td>\n",
       "      <td>0</td>\n",
       "      <td>0</td>\n",
       "      <td>0</td>\n",
       "      <td>0</td>\n",
       "      <td>0</td>\n",
       "      <td>0</td>\n",
       "      <td>0</td>\n",
       "      <td>0</td>\n",
       "      <td>0</td>\n",
       "    </tr>\n",
       "    <tr>\n",
       "      <th>5</th>\n",
       "      <td>0</td>\n",
       "      <td>0</td>\n",
       "      <td>0</td>\n",
       "      <td>0</td>\n",
       "      <td>0</td>\n",
       "      <td>0</td>\n",
       "      <td>295.888559</td>\n",
       "      <td>0</td>\n",
       "      <td>58.276214</td>\n",
       "      <td>23.281273</td>\n",
       "      <td>...</td>\n",
       "      <td>0.038045</td>\n",
       "      <td>0</td>\n",
       "      <td>0</td>\n",
       "      <td>0</td>\n",
       "      <td>0</td>\n",
       "      <td>0</td>\n",
       "      <td>0</td>\n",
       "      <td>0</td>\n",
       "      <td>0</td>\n",
       "      <td>0</td>\n",
       "    </tr>\n",
       "    <tr>\n",
       "      <th>6</th>\n",
       "      <td>0</td>\n",
       "      <td>0</td>\n",
       "      <td>0</td>\n",
       "      <td>0</td>\n",
       "      <td>0</td>\n",
       "      <td>0</td>\n",
       "      <td>268.644062</td>\n",
       "      <td>0</td>\n",
       "      <td>52.025451</td>\n",
       "      <td>21.170794</td>\n",
       "      <td>...</td>\n",
       "      <td>0.045139</td>\n",
       "      <td>0</td>\n",
       "      <td>0</td>\n",
       "      <td>0</td>\n",
       "      <td>0</td>\n",
       "      <td>0</td>\n",
       "      <td>0</td>\n",
       "      <td>0</td>\n",
       "      <td>0</td>\n",
       "      <td>0</td>\n",
       "    </tr>\n",
       "    <tr>\n",
       "      <th>7</th>\n",
       "      <td>0</td>\n",
       "      <td>0</td>\n",
       "      <td>0</td>\n",
       "      <td>0</td>\n",
       "      <td>0</td>\n",
       "      <td>0</td>\n",
       "      <td>249.539467</td>\n",
       "      <td>0</td>\n",
       "      <td>46.826017</td>\n",
       "      <td>18.988436</td>\n",
       "      <td>...</td>\n",
       "      <td>0.041944</td>\n",
       "      <td>0</td>\n",
       "      <td>0</td>\n",
       "      <td>0</td>\n",
       "      <td>0</td>\n",
       "      <td>0</td>\n",
       "      <td>0</td>\n",
       "      <td>0</td>\n",
       "      <td>0</td>\n",
       "      <td>0</td>\n",
       "    </tr>\n",
       "    <tr>\n",
       "      <th>8</th>\n",
       "      <td>0</td>\n",
       "      <td>0</td>\n",
       "      <td>0</td>\n",
       "      <td>0</td>\n",
       "      <td>0</td>\n",
       "      <td>0</td>\n",
       "      <td>226.826107</td>\n",
       "      <td>0</td>\n",
       "      <td>42.157616</td>\n",
       "      <td>17.140862</td>\n",
       "      <td>...</td>\n",
       "      <td>0.067423</td>\n",
       "      <td>0</td>\n",
       "      <td>0</td>\n",
       "      <td>0</td>\n",
       "      <td>0</td>\n",
       "      <td>0</td>\n",
       "      <td>0</td>\n",
       "      <td>0</td>\n",
       "      <td>0</td>\n",
       "      <td>0</td>\n",
       "    </tr>\n",
       "    <tr>\n",
       "      <th>9</th>\n",
       "      <td>0</td>\n",
       "      <td>0</td>\n",
       "      <td>0</td>\n",
       "      <td>0</td>\n",
       "      <td>0</td>\n",
       "      <td>0</td>\n",
       "      <td>204.811031</td>\n",
       "      <td>0</td>\n",
       "      <td>37.957315</td>\n",
       "      <td>15.176612</td>\n",
       "      <td>...</td>\n",
       "      <td>0.036866</td>\n",
       "      <td>0</td>\n",
       "      <td>0</td>\n",
       "      <td>0</td>\n",
       "      <td>0</td>\n",
       "      <td>0</td>\n",
       "      <td>0</td>\n",
       "      <td>0</td>\n",
       "      <td>0</td>\n",
       "      <td>0</td>\n",
       "    </tr>\n",
       "    <tr>\n",
       "      <th>10</th>\n",
       "      <td>0</td>\n",
       "      <td>0</td>\n",
       "      <td>0</td>\n",
       "      <td>0</td>\n",
       "      <td>0</td>\n",
       "      <td>0</td>\n",
       "      <td>188.338313</td>\n",
       "      <td>0</td>\n",
       "      <td>34.712834</td>\n",
       "      <td>14.096710</td>\n",
       "      <td>...</td>\n",
       "      <td>0.031970</td>\n",
       "      <td>0</td>\n",
       "      <td>0</td>\n",
       "      <td>0</td>\n",
       "      <td>0</td>\n",
       "      <td>0</td>\n",
       "      <td>0</td>\n",
       "      <td>0</td>\n",
       "      <td>0</td>\n",
       "      <td>0</td>\n",
       "    </tr>\n",
       "    <tr>\n",
       "      <th>11</th>\n",
       "      <td>0</td>\n",
       "      <td>0</td>\n",
       "      <td>0</td>\n",
       "      <td>0</td>\n",
       "      <td>0</td>\n",
       "      <td>0</td>\n",
       "      <td>179.400562</td>\n",
       "      <td>0</td>\n",
       "      <td>33.803339</td>\n",
       "      <td>13.436225</td>\n",
       "      <td>...</td>\n",
       "      <td>0.032918</td>\n",
       "      <td>0</td>\n",
       "      <td>0</td>\n",
       "      <td>0</td>\n",
       "      <td>0</td>\n",
       "      <td>0</td>\n",
       "      <td>0</td>\n",
       "      <td>0</td>\n",
       "      <td>0</td>\n",
       "      <td>0</td>\n",
       "    </tr>\n",
       "    <tr>\n",
       "      <th>12</th>\n",
       "      <td>0</td>\n",
       "      <td>0</td>\n",
       "      <td>0</td>\n",
       "      <td>0</td>\n",
       "      <td>0</td>\n",
       "      <td>0</td>\n",
       "      <td>164.955380</td>\n",
       "      <td>0</td>\n",
       "      <td>30.663790</td>\n",
       "      <td>12.156639</td>\n",
       "      <td>...</td>\n",
       "      <td>0.024521</td>\n",
       "      <td>0</td>\n",
       "      <td>0</td>\n",
       "      <td>0</td>\n",
       "      <td>0</td>\n",
       "      <td>0</td>\n",
       "      <td>0</td>\n",
       "      <td>0</td>\n",
       "      <td>0</td>\n",
       "      <td>0</td>\n",
       "    </tr>\n",
       "    <tr>\n",
       "      <th>13</th>\n",
       "      <td>0</td>\n",
       "      <td>0</td>\n",
       "      <td>0</td>\n",
       "      <td>0</td>\n",
       "      <td>0</td>\n",
       "      <td>0</td>\n",
       "      <td>150.390268</td>\n",
       "      <td>0</td>\n",
       "      <td>27.250139</td>\n",
       "      <td>11.285268</td>\n",
       "      <td>...</td>\n",
       "      <td>0.025934</td>\n",
       "      <td>0</td>\n",
       "      <td>0</td>\n",
       "      <td>0</td>\n",
       "      <td>0</td>\n",
       "      <td>0</td>\n",
       "      <td>0</td>\n",
       "      <td>0</td>\n",
       "      <td>0</td>\n",
       "      <td>0</td>\n",
       "    </tr>\n",
       "    <tr>\n",
       "      <th>14</th>\n",
       "      <td>0</td>\n",
       "      <td>0</td>\n",
       "      <td>0</td>\n",
       "      <td>0</td>\n",
       "      <td>0</td>\n",
       "      <td>0</td>\n",
       "      <td>139.041126</td>\n",
       "      <td>0</td>\n",
       "      <td>24.723701</td>\n",
       "      <td>10.667712</td>\n",
       "      <td>...</td>\n",
       "      <td>0.036008</td>\n",
       "      <td>0</td>\n",
       "      <td>0</td>\n",
       "      <td>0</td>\n",
       "      <td>0</td>\n",
       "      <td>0</td>\n",
       "      <td>0</td>\n",
       "      <td>0</td>\n",
       "      <td>0</td>\n",
       "      <td>0</td>\n",
       "    </tr>\n",
       "    <tr>\n",
       "      <th>15</th>\n",
       "      <td>0</td>\n",
       "      <td>0</td>\n",
       "      <td>0</td>\n",
       "      <td>0</td>\n",
       "      <td>0</td>\n",
       "      <td>0</td>\n",
       "      <td>132.807170</td>\n",
       "      <td>0</td>\n",
       "      <td>23.723528</td>\n",
       "      <td>9.810981</td>\n",
       "      <td>...</td>\n",
       "      <td>0.029090</td>\n",
       "      <td>0</td>\n",
       "      <td>0</td>\n",
       "      <td>0</td>\n",
       "      <td>0</td>\n",
       "      <td>0</td>\n",
       "      <td>0</td>\n",
       "      <td>0</td>\n",
       "      <td>0</td>\n",
       "      <td>0</td>\n",
       "    </tr>\n",
       "    <tr>\n",
       "      <th>16</th>\n",
       "      <td>0</td>\n",
       "      <td>0</td>\n",
       "      <td>0</td>\n",
       "      <td>0</td>\n",
       "      <td>0</td>\n",
       "      <td>0</td>\n",
       "      <td>127.644254</td>\n",
       "      <td>0</td>\n",
       "      <td>22.990437</td>\n",
       "      <td>9.088624</td>\n",
       "      <td>...</td>\n",
       "      <td>0.032171</td>\n",
       "      <td>0</td>\n",
       "      <td>0</td>\n",
       "      <td>0</td>\n",
       "      <td>0</td>\n",
       "      <td>0</td>\n",
       "      <td>0</td>\n",
       "      <td>0</td>\n",
       "      <td>0</td>\n",
       "      <td>0</td>\n",
       "    </tr>\n",
       "    <tr>\n",
       "      <th>17</th>\n",
       "      <td>0</td>\n",
       "      <td>0</td>\n",
       "      <td>0</td>\n",
       "      <td>0</td>\n",
       "      <td>0</td>\n",
       "      <td>0</td>\n",
       "      <td>118.389357</td>\n",
       "      <td>0</td>\n",
       "      <td>20.304911</td>\n",
       "      <td>8.547728</td>\n",
       "      <td>...</td>\n",
       "      <td>0.033386</td>\n",
       "      <td>0</td>\n",
       "      <td>0</td>\n",
       "      <td>0</td>\n",
       "      <td>0</td>\n",
       "      <td>0</td>\n",
       "      <td>0</td>\n",
       "      <td>0</td>\n",
       "      <td>0</td>\n",
       "      <td>0</td>\n",
       "    </tr>\n",
       "    <tr>\n",
       "      <th>18</th>\n",
       "      <td>0</td>\n",
       "      <td>0</td>\n",
       "      <td>0</td>\n",
       "      <td>0</td>\n",
       "      <td>0</td>\n",
       "      <td>0</td>\n",
       "      <td>109.816495</td>\n",
       "      <td>0</td>\n",
       "      <td>19.029192</td>\n",
       "      <td>7.987094</td>\n",
       "      <td>...</td>\n",
       "      <td>0.027618</td>\n",
       "      <td>0</td>\n",
       "      <td>0</td>\n",
       "      <td>0</td>\n",
       "      <td>0</td>\n",
       "      <td>0</td>\n",
       "      <td>0</td>\n",
       "      <td>0</td>\n",
       "      <td>0</td>\n",
       "      <td>0</td>\n",
       "    </tr>\n",
       "    <tr>\n",
       "      <th>19</th>\n",
       "      <td>0</td>\n",
       "      <td>0</td>\n",
       "      <td>0</td>\n",
       "      <td>0</td>\n",
       "      <td>0</td>\n",
       "      <td>0</td>\n",
       "      <td>107.375591</td>\n",
       "      <td>0</td>\n",
       "      <td>18.219349</td>\n",
       "      <td>7.582945</td>\n",
       "      <td>...</td>\n",
       "      <td>0.033128</td>\n",
       "      <td>0</td>\n",
       "      <td>0</td>\n",
       "      <td>0</td>\n",
       "      <td>0</td>\n",
       "      <td>0</td>\n",
       "      <td>0</td>\n",
       "      <td>0</td>\n",
       "      <td>0</td>\n",
       "      <td>0</td>\n",
       "    </tr>\n",
       "    <tr>\n",
       "      <th>20</th>\n",
       "      <td>0</td>\n",
       "      <td>0</td>\n",
       "      <td>0</td>\n",
       "      <td>0</td>\n",
       "      <td>0</td>\n",
       "      <td>0</td>\n",
       "      <td>100.950058</td>\n",
       "      <td>0</td>\n",
       "      <td>16.793830</td>\n",
       "      <td>7.126653</td>\n",
       "      <td>...</td>\n",
       "      <td>0.026597</td>\n",
       "      <td>0</td>\n",
       "      <td>0</td>\n",
       "      <td>0</td>\n",
       "      <td>0</td>\n",
       "      <td>0</td>\n",
       "      <td>0</td>\n",
       "      <td>0</td>\n",
       "      <td>0</td>\n",
       "      <td>0</td>\n",
       "    </tr>\n",
       "    <tr>\n",
       "      <th>21</th>\n",
       "      <td>0</td>\n",
       "      <td>0</td>\n",
       "      <td>0</td>\n",
       "      <td>0</td>\n",
       "      <td>0</td>\n",
       "      <td>0</td>\n",
       "      <td>93.915143</td>\n",
       "      <td>0</td>\n",
       "      <td>15.126728</td>\n",
       "      <td>6.780538</td>\n",
       "      <td>...</td>\n",
       "      <td>0.029872</td>\n",
       "      <td>0</td>\n",
       "      <td>0</td>\n",
       "      <td>0</td>\n",
       "      <td>0</td>\n",
       "      <td>0</td>\n",
       "      <td>0</td>\n",
       "      <td>0</td>\n",
       "      <td>0</td>\n",
       "      <td>0</td>\n",
       "    </tr>\n",
       "    <tr>\n",
       "      <th>22</th>\n",
       "      <td>0</td>\n",
       "      <td>0</td>\n",
       "      <td>0</td>\n",
       "      <td>0</td>\n",
       "      <td>0</td>\n",
       "      <td>0</td>\n",
       "      <td>90.085185</td>\n",
       "      <td>0</td>\n",
       "      <td>14.285108</td>\n",
       "      <td>6.526968</td>\n",
       "      <td>...</td>\n",
       "      <td>0.020707</td>\n",
       "      <td>0</td>\n",
       "      <td>0</td>\n",
       "      <td>0</td>\n",
       "      <td>0</td>\n",
       "      <td>0</td>\n",
       "      <td>0</td>\n",
       "      <td>0</td>\n",
       "      <td>0</td>\n",
       "      <td>0</td>\n",
       "    </tr>\n",
       "    <tr>\n",
       "      <th>23</th>\n",
       "      <td>0</td>\n",
       "      <td>0</td>\n",
       "      <td>0</td>\n",
       "      <td>0</td>\n",
       "      <td>0</td>\n",
       "      <td>0</td>\n",
       "      <td>92.094452</td>\n",
       "      <td>0</td>\n",
       "      <td>14.464062</td>\n",
       "      <td>6.437948</td>\n",
       "      <td>...</td>\n",
       "      <td>0.027818</td>\n",
       "      <td>0</td>\n",
       "      <td>0</td>\n",
       "      <td>0</td>\n",
       "      <td>0</td>\n",
       "      <td>0</td>\n",
       "      <td>0</td>\n",
       "      <td>0</td>\n",
       "      <td>0</td>\n",
       "      <td>0</td>\n",
       "    </tr>\n",
       "    <tr>\n",
       "      <th>24</th>\n",
       "      <td>0</td>\n",
       "      <td>0</td>\n",
       "      <td>0</td>\n",
       "      <td>0</td>\n",
       "      <td>0</td>\n",
       "      <td>0</td>\n",
       "      <td>83.767872</td>\n",
       "      <td>0</td>\n",
       "      <td>13.157631</td>\n",
       "      <td>6.127855</td>\n",
       "      <td>...</td>\n",
       "      <td>0.022640</td>\n",
       "      <td>0</td>\n",
       "      <td>0</td>\n",
       "      <td>0</td>\n",
       "      <td>0</td>\n",
       "      <td>0</td>\n",
       "      <td>0</td>\n",
       "      <td>0</td>\n",
       "      <td>0</td>\n",
       "      <td>0</td>\n",
       "    </tr>\n",
       "    <tr>\n",
       "      <th>25</th>\n",
       "      <td>0</td>\n",
       "      <td>0</td>\n",
       "      <td>0</td>\n",
       "      <td>0</td>\n",
       "      <td>0</td>\n",
       "      <td>0</td>\n",
       "      <td>81.119659</td>\n",
       "      <td>0</td>\n",
       "      <td>12.677776</td>\n",
       "      <td>5.937995</td>\n",
       "      <td>...</td>\n",
       "      <td>0.015818</td>\n",
       "      <td>0</td>\n",
       "      <td>0</td>\n",
       "      <td>0</td>\n",
       "      <td>0</td>\n",
       "      <td>0</td>\n",
       "      <td>0</td>\n",
       "      <td>0</td>\n",
       "      <td>0</td>\n",
       "      <td>0</td>\n",
       "    </tr>\n",
       "    <tr>\n",
       "      <th>26</th>\n",
       "      <td>0</td>\n",
       "      <td>0</td>\n",
       "      <td>0</td>\n",
       "      <td>0</td>\n",
       "      <td>0</td>\n",
       "      <td>0</td>\n",
       "      <td>76.341406</td>\n",
       "      <td>0</td>\n",
       "      <td>11.764516</td>\n",
       "      <td>5.796615</td>\n",
       "      <td>...</td>\n",
       "      <td>0.023652</td>\n",
       "      <td>0</td>\n",
       "      <td>0</td>\n",
       "      <td>0</td>\n",
       "      <td>0</td>\n",
       "      <td>0</td>\n",
       "      <td>0</td>\n",
       "      <td>0</td>\n",
       "      <td>0</td>\n",
       "      <td>0</td>\n",
       "    </tr>\n",
       "    <tr>\n",
       "      <th>27</th>\n",
       "      <td>0</td>\n",
       "      <td>0</td>\n",
       "      <td>0</td>\n",
       "      <td>0</td>\n",
       "      <td>0</td>\n",
       "      <td>0</td>\n",
       "      <td>76.218124</td>\n",
       "      <td>0</td>\n",
       "      <td>11.788118</td>\n",
       "      <td>5.522838</td>\n",
       "      <td>...</td>\n",
       "      <td>0.018763</td>\n",
       "      <td>0</td>\n",
       "      <td>0</td>\n",
       "      <td>0</td>\n",
       "      <td>0</td>\n",
       "      <td>0</td>\n",
       "      <td>0</td>\n",
       "      <td>0</td>\n",
       "      <td>0</td>\n",
       "      <td>0</td>\n",
       "    </tr>\n",
       "    <tr>\n",
       "      <th>28</th>\n",
       "      <td>0</td>\n",
       "      <td>0</td>\n",
       "      <td>0</td>\n",
       "      <td>0</td>\n",
       "      <td>0</td>\n",
       "      <td>0</td>\n",
       "      <td>82.764082</td>\n",
       "      <td>0</td>\n",
       "      <td>12.551968</td>\n",
       "      <td>5.807744</td>\n",
       "      <td>...</td>\n",
       "      <td>0.019494</td>\n",
       "      <td>0</td>\n",
       "      <td>0</td>\n",
       "      <td>0</td>\n",
       "      <td>0</td>\n",
       "      <td>0</td>\n",
       "      <td>0</td>\n",
       "      <td>0</td>\n",
       "      <td>0</td>\n",
       "      <td>0</td>\n",
       "    </tr>\n",
       "  </tbody>\n",
       "</table>\n",
       "<p>29 rows × 27 columns</p>\n",
       "</div>"
      ],
      "text/plain": [
       "    null  spsw  gped  pled  eybl  artf        bckg  seiz        fnsz  \\\n",
       "0      0     0     0     0     0     0  190.976582     0   31.496898   \n",
       "1      0     0     0     0     0     0  776.044503     0  135.357679   \n",
       "2      0     0     0     0     0     0  537.275505     0  100.868962   \n",
       "3      0     0     0     0     0     0  410.637605     0   79.991060   \n",
       "4      0     0     0     0     0     0  341.942080     0   68.011831   \n",
       "5      0     0     0     0     0     0  295.888559     0   58.276214   \n",
       "6      0     0     0     0     0     0  268.644062     0   52.025451   \n",
       "7      0     0     0     0     0     0  249.539467     0   46.826017   \n",
       "8      0     0     0     0     0     0  226.826107     0   42.157616   \n",
       "9      0     0     0     0     0     0  204.811031     0   37.957315   \n",
       "10     0     0     0     0     0     0  188.338313     0   34.712834   \n",
       "11     0     0     0     0     0     0  179.400562     0   33.803339   \n",
       "12     0     0     0     0     0     0  164.955380     0   30.663790   \n",
       "13     0     0     0     0     0     0  150.390268     0   27.250139   \n",
       "14     0     0     0     0     0     0  139.041126     0   24.723701   \n",
       "15     0     0     0     0     0     0  132.807170     0   23.723528   \n",
       "16     0     0     0     0     0     0  127.644254     0   22.990437   \n",
       "17     0     0     0     0     0     0  118.389357     0   20.304911   \n",
       "18     0     0     0     0     0     0  109.816495     0   19.029192   \n",
       "19     0     0     0     0     0     0  107.375591     0   18.219349   \n",
       "20     0     0     0     0     0     0  100.950058     0   16.793830   \n",
       "21     0     0     0     0     0     0   93.915143     0   15.126728   \n",
       "22     0     0     0     0     0     0   90.085185     0   14.285108   \n",
       "23     0     0     0     0     0     0   92.094452     0   14.464062   \n",
       "24     0     0     0     0     0     0   83.767872     0   13.157631   \n",
       "25     0     0     0     0     0     0   81.119659     0   12.677776   \n",
       "26     0     0     0     0     0     0   76.341406     0   11.764516   \n",
       "27     0     0     0     0     0     0   76.218124     0   11.788118   \n",
       "28     0     0     0     0     0     0   82.764082     0   12.551968   \n",
       "\n",
       "         gnsz  ...      mysz  nesz  intr  slow  eyem  chew  shiv  musc  elpp  \\\n",
       "0   11.759319  ...  0.010343     0     0     0     0     0     0     0     0   \n",
       "1   51.665095  ...  0.063477     0     0     0     0     0     0     0     0   \n",
       "2   42.060129  ...  0.075020     0     0     0     0     0     0     0     0   \n",
       "3   32.501082  ...  0.064704     0     0     0     0     0     0     0     0   \n",
       "4   26.531319  ...  0.044935     0     0     0     0     0     0     0     0   \n",
       "5   23.281273  ...  0.038045     0     0     0     0     0     0     0     0   \n",
       "6   21.170794  ...  0.045139     0     0     0     0     0     0     0     0   \n",
       "7   18.988436  ...  0.041944     0     0     0     0     0     0     0     0   \n",
       "8   17.140862  ...  0.067423     0     0     0     0     0     0     0     0   \n",
       "9   15.176612  ...  0.036866     0     0     0     0     0     0     0     0   \n",
       "10  14.096710  ...  0.031970     0     0     0     0     0     0     0     0   \n",
       "11  13.436225  ...  0.032918     0     0     0     0     0     0     0     0   \n",
       "12  12.156639  ...  0.024521     0     0     0     0     0     0     0     0   \n",
       "13  11.285268  ...  0.025934     0     0     0     0     0     0     0     0   \n",
       "14  10.667712  ...  0.036008     0     0     0     0     0     0     0     0   \n",
       "15   9.810981  ...  0.029090     0     0     0     0     0     0     0     0   \n",
       "16   9.088624  ...  0.032171     0     0     0     0     0     0     0     0   \n",
       "17   8.547728  ...  0.033386     0     0     0     0     0     0     0     0   \n",
       "18   7.987094  ...  0.027618     0     0     0     0     0     0     0     0   \n",
       "19   7.582945  ...  0.033128     0     0     0     0     0     0     0     0   \n",
       "20   7.126653  ...  0.026597     0     0     0     0     0     0     0     0   \n",
       "21   6.780538  ...  0.029872     0     0     0     0     0     0     0     0   \n",
       "22   6.526968  ...  0.020707     0     0     0     0     0     0     0     0   \n",
       "23   6.437948  ...  0.027818     0     0     0     0     0     0     0     0   \n",
       "24   6.127855  ...  0.022640     0     0     0     0     0     0     0     0   \n",
       "25   5.937995  ...  0.015818     0     0     0     0     0     0     0     0   \n",
       "26   5.796615  ...  0.023652     0     0     0     0     0     0     0     0   \n",
       "27   5.522838  ...  0.018763     0     0     0     0     0     0     0     0   \n",
       "28   5.807744  ...  0.019494     0     0     0     0     0     0     0     0   \n",
       "\n",
       "    elst  \n",
       "0      0  \n",
       "1      0  \n",
       "2      0  \n",
       "3      0  \n",
       "4      0  \n",
       "5      0  \n",
       "6      0  \n",
       "7      0  \n",
       "8      0  \n",
       "9      0  \n",
       "10     0  \n",
       "11     0  \n",
       "12     0  \n",
       "13     0  \n",
       "14     0  \n",
       "15     0  \n",
       "16     0  \n",
       "17     0  \n",
       "18     0  \n",
       "19     0  \n",
       "20     0  \n",
       "21     0  \n",
       "22     0  \n",
       "23     0  \n",
       "24     0  \n",
       "25     0  \n",
       "26     0  \n",
       "27     0  \n",
       "28     0  \n",
       "\n",
       "[29 rows x 27 columns]"
      ]
     },
     "execution_count": 45,
     "metadata": {},
     "output_type": "execute_result"
    }
   ],
   "source": [
    "cummulative"
   ]
  },
  {
   "cell_type": "code",
   "execution_count": null,
   "metadata": {},
   "outputs": [],
   "source": [
    "plt.plot(cummulative[\"\"] / cummulative[\"\"].sum())"
   ]
  },
  {
   "cell_type": "code",
   "execution_count": null,
   "metadata": {},
   "outputs": [],
   "source": []
  },
  {
   "cell_type": "code",
   "execution_count": null,
   "metadata": {},
   "outputs": [],
   "source": [
    "%%bash\n",
    "scancel 50458750"
   ]
  },
  {
   "cell_type": "code",
   "execution_count": 62,
   "metadata": {},
   "outputs": [
    {
     "data": {
      "text/plain": [
       "10.0"
      ]
     },
     "execution_count": 62,
     "metadata": {},
     "output_type": "execute_result"
    }
   ],
   "source": [
    "np.round_(5.5, -1)"
   ]
  },
  {
   "cell_type": "code",
   "execution_count": null,
   "metadata": {},
   "outputs": [],
   "source": [
    "class FFTCharacterizer(util_funcs.MultiProcessingDataset):\n",
    "    "
   ]
  },
  {
   "cell_type": "code",
   "execution_count": 32,
   "metadata": {},
   "outputs": [
    {
     "data": {
      "text/plain": [
       "21"
      ]
     },
     "execution_count": 32,
     "metadata": {},
     "output_type": "execute_result"
    }
   ],
   "source": [
    "len(ten_second_bin_fft_data[0])"
   ]
  },
  {
   "cell_type": "code",
   "execution_count": 30,
   "metadata": {},
   "outputs": [
    {
     "ename": "KeyboardInterrupt",
     "evalue": "",
     "output_type": "error",
     "traceback": [
      "\u001b[0;31m---------------------------------------------------------------------------\u001b[0m",
      "\u001b[0;31mKeyboardInterrupt\u001b[0m                         Traceback (most recent call last)",
      "\u001b[0;32m~/miniconda3/envs/keras-redo/lib/python3.7/site-packages/pandas/core/groupby/generic.py\u001b[0m in \u001b[0;36m_cython_agg_blocks\u001b[0;34m(self, how, alt, numeric_only, min_count)\u001b[0m\n\u001b[1;32m    113\u001b[0m                 result, _ = self.grouper.aggregate(\n\u001b[0;32m--> 114\u001b[0;31m                     block.values, how, axis=agg_axis, min_count=min_count)\n\u001b[0m\u001b[1;32m    115\u001b[0m             \u001b[0;32mexcept\u001b[0m \u001b[0mNotImplementedError\u001b[0m\u001b[0;34m:\u001b[0m\u001b[0;34m\u001b[0m\u001b[0;34m\u001b[0m\u001b[0m\n",
      "\u001b[0;32m~/miniconda3/envs/keras-redo/lib/python3.7/site-packages/pandas/core/groupby/ops.py\u001b[0m in \u001b[0;36maggregate\u001b[0;34m(self, values, how, axis, min_count)\u001b[0m\n\u001b[1;32m    547\u001b[0m         return self._cython_operation('aggregate', values, how, axis,\n\u001b[0;32m--> 548\u001b[0;31m                                       min_count=min_count)\n\u001b[0m\u001b[1;32m    549\u001b[0m \u001b[0;34m\u001b[0m\u001b[0m\n",
      "\u001b[0;32m~/miniconda3/envs/keras-redo/lib/python3.7/site-packages/pandas/core/groupby/ops.py\u001b[0m in \u001b[0;36m_cython_operation\u001b[0;34m(self, kind, values, how, axis, min_count, **kwargs)\u001b[0m\n\u001b[1;32m    502\u001b[0m                 \u001b[0mresult\u001b[0m\u001b[0;34m,\u001b[0m \u001b[0mcounts\u001b[0m\u001b[0;34m,\u001b[0m \u001b[0mvalues\u001b[0m\u001b[0;34m,\u001b[0m \u001b[0mlabels\u001b[0m\u001b[0;34m,\u001b[0m \u001b[0mfunc\u001b[0m\u001b[0;34m,\u001b[0m \u001b[0mis_numeric\u001b[0m\u001b[0;34m,\u001b[0m\u001b[0;34m\u001b[0m\u001b[0;34m\u001b[0m\u001b[0m\n\u001b[0;32m--> 503\u001b[0;31m                 is_datetimelike, min_count)\n\u001b[0m\u001b[1;32m    504\u001b[0m         \u001b[0;32melif\u001b[0m \u001b[0mkind\u001b[0m \u001b[0;34m==\u001b[0m \u001b[0;34m'transform'\u001b[0m\u001b[0;34m:\u001b[0m\u001b[0;34m\u001b[0m\u001b[0;34m\u001b[0m\u001b[0m\n",
      "\u001b[0;32m~/miniconda3/envs/keras-redo/lib/python3.7/site-packages/pandas/core/groupby/ops.py\u001b[0m in \u001b[0;36m_aggregate\u001b[0;34m(self, result, counts, values, comp_ids, agg_func, is_numeric, is_datetimelike, min_count)\u001b[0m\n\u001b[1;32m    565\u001b[0m         \u001b[0;32melse\u001b[0m\u001b[0;34m:\u001b[0m\u001b[0;34m\u001b[0m\u001b[0;34m\u001b[0m\u001b[0m\n\u001b[0;32m--> 566\u001b[0;31m             \u001b[0magg_func\u001b[0m\u001b[0;34m(\u001b[0m\u001b[0mresult\u001b[0m\u001b[0;34m,\u001b[0m \u001b[0mcounts\u001b[0m\u001b[0;34m,\u001b[0m \u001b[0mvalues\u001b[0m\u001b[0;34m,\u001b[0m \u001b[0mcomp_ids\u001b[0m\u001b[0;34m,\u001b[0m \u001b[0mmin_count\u001b[0m\u001b[0;34m)\u001b[0m\u001b[0;34m\u001b[0m\u001b[0;34m\u001b[0m\u001b[0m\n\u001b[0m\u001b[1;32m    567\u001b[0m \u001b[0;34m\u001b[0m\u001b[0m\n",
      "\u001b[0;31mKeyboardInterrupt\u001b[0m: ",
      "\nDuring handling of the above exception, another exception occurred:\n",
      "\u001b[0;31mUnboundLocalError\u001b[0m                         Traceback (most recent call last)",
      "\u001b[0;32m~/miniconda3/envs/keras-redo/lib/python3.7/site-packages/pandas/core/groupby/groupby.py\u001b[0m in \u001b[0;36mmean\u001b[0;34m(self, *args, **kwargs)\u001b[0m\n\u001b[1;32m   1131\u001b[0m         \u001b[0;32mtry\u001b[0m\u001b[0;34m:\u001b[0m\u001b[0;34m\u001b[0m\u001b[0;34m\u001b[0m\u001b[0m\n\u001b[0;32m-> 1132\u001b[0;31m             \u001b[0;32mreturn\u001b[0m \u001b[0mself\u001b[0m\u001b[0;34m.\u001b[0m\u001b[0m_cython_agg_general\u001b[0m\u001b[0;34m(\u001b[0m\u001b[0;34m'mean'\u001b[0m\u001b[0;34m,\u001b[0m \u001b[0;34m**\u001b[0m\u001b[0mkwargs\u001b[0m\u001b[0;34m)\u001b[0m\u001b[0;34m\u001b[0m\u001b[0;34m\u001b[0m\u001b[0m\n\u001b[0m\u001b[1;32m   1133\u001b[0m         \u001b[0;32mexcept\u001b[0m \u001b[0mGroupByError\u001b[0m\u001b[0;34m:\u001b[0m\u001b[0;34m\u001b[0m\u001b[0;34m\u001b[0m\u001b[0m\n",
      "\u001b[0;32m~/miniconda3/envs/keras-redo/lib/python3.7/site-packages/pandas/core/groupby/generic.py\u001b[0m in \u001b[0;36m_cython_agg_general\u001b[0;34m(self, how, alt, numeric_only, min_count)\u001b[0m\n\u001b[1;32m     69\u001b[0m         new_items, new_blocks = self._cython_agg_blocks(\n\u001b[0;32m---> 70\u001b[0;31m             how, alt=alt, numeric_only=numeric_only, min_count=min_count)\n\u001b[0m\u001b[1;32m     71\u001b[0m         \u001b[0;32mreturn\u001b[0m \u001b[0mself\u001b[0m\u001b[0;34m.\u001b[0m\u001b[0m_wrap_agged_blocks\u001b[0m\u001b[0;34m(\u001b[0m\u001b[0mnew_items\u001b[0m\u001b[0;34m,\u001b[0m \u001b[0mnew_blocks\u001b[0m\u001b[0;34m)\u001b[0m\u001b[0;34m\u001b[0m\u001b[0;34m\u001b[0m\u001b[0m\n",
      "\u001b[0;32m~/miniconda3/envs/keras-redo/lib/python3.7/site-packages/pandas/core/groupby/generic.py\u001b[0m in \u001b[0;36m_cython_agg_blocks\u001b[0;34m(self, how, alt, numeric_only, min_count)\u001b[0m\n\u001b[1;32m    135\u001b[0m                 \u001b[0;31m# see if we can cast the block back to the original dtype\u001b[0m\u001b[0;34m\u001b[0m\u001b[0;34m\u001b[0m\u001b[0;34m\u001b[0m\u001b[0m\n\u001b[0;32m--> 136\u001b[0;31m                 \u001b[0mresult\u001b[0m \u001b[0;34m=\u001b[0m \u001b[0mblock\u001b[0m\u001b[0;34m.\u001b[0m\u001b[0m_try_coerce_and_cast_result\u001b[0m\u001b[0;34m(\u001b[0m\u001b[0mresult\u001b[0m\u001b[0;34m)\u001b[0m\u001b[0;34m\u001b[0m\u001b[0;34m\u001b[0m\u001b[0m\n\u001b[0m\u001b[1;32m    137\u001b[0m                 \u001b[0mnewb\u001b[0m \u001b[0;34m=\u001b[0m \u001b[0mblock\u001b[0m\u001b[0;34m.\u001b[0m\u001b[0mmake_block\u001b[0m\u001b[0;34m(\u001b[0m\u001b[0mresult\u001b[0m\u001b[0;34m)\u001b[0m\u001b[0;34m\u001b[0m\u001b[0;34m\u001b[0m\u001b[0m\n",
      "\u001b[0;31mUnboundLocalError\u001b[0m: local variable 'result' referenced before assignment",
      "\nDuring handling of the above exception, another exception occurred:\n",
      "\u001b[0;31mKeyboardInterrupt\u001b[0m                         Traceback (most recent call last)",
      "\u001b[0;32m<ipython-input-30-1c5b06b62c03>\u001b[0m in \u001b[0;36m<module>\u001b[0;34m\u001b[0m\n\u001b[0;32m----> 1\u001b[0;31m \u001b[0misSeizure\u001b[0m \u001b[0;34m=\u001b[0m \u001b[0;34m[\u001b[0m\u001b[0mdatum\u001b[0m\u001b[0;34m[\u001b[0m\u001b[0;36m1\u001b[0m\u001b[0;34m]\u001b[0m \u001b[0;32mfor\u001b[0m \u001b[0mdatum\u001b[0m \u001b[0;32min\u001b[0m \u001b[0mdata\u001b[0m\u001b[0;34m]\u001b[0m\u001b[0;34m\u001b[0m\u001b[0;34m\u001b[0m\u001b[0m\n\u001b[0m",
      "\u001b[0;32m<ipython-input-30-1c5b06b62c03>\u001b[0m in \u001b[0;36m<listcomp>\u001b[0;34m(.0)\u001b[0m\n\u001b[0;32m----> 1\u001b[0;31m \u001b[0misSeizure\u001b[0m \u001b[0;34m=\u001b[0m \u001b[0;34m[\u001b[0m\u001b[0mdatum\u001b[0m\u001b[0;34m[\u001b[0m\u001b[0;36m1\u001b[0m\u001b[0;34m]\u001b[0m \u001b[0;32mfor\u001b[0m \u001b[0mdatum\u001b[0m \u001b[0;32min\u001b[0m \u001b[0mdata\u001b[0m\u001b[0;34m]\u001b[0m\u001b[0;34m\u001b[0m\u001b[0;34m\u001b[0m\u001b[0m\n\u001b[0m",
      "\u001b[0;32m~/dbmi_eeg_clustering/data_reader.py\u001b[0m in \u001b[0;36m__getitem__\u001b[0;34m(self, i)\u001b[0m\n\u001b[1;32m    248\u001b[0m                     seconds=constants.COMMON_DELTA))\n\u001b[1;32m    249\u001b[0m \u001b[0;34m\u001b[0m\u001b[0m\n\u001b[0;32m--> 250\u001b[0;31m             \u001b[0moriginal_data_label\u001b[0m \u001b[0;34m=\u001b[0m \u001b[0mself\u001b[0m\u001b[0;34m.\u001b[0m\u001b[0medf_dataset\u001b[0m\u001b[0;34m[\u001b[0m\u001b[0mi\u001b[0m\u001b[0;34m]\u001b[0m\u001b[0;34m\u001b[0m\u001b[0;34m\u001b[0m\u001b[0m\n\u001b[0m\u001b[1;32m    251\u001b[0m             \u001b[0;32mif\u001b[0m \u001b[0mself\u001b[0m\u001b[0;34m.\u001b[0m\u001b[0mis_tuple_data\u001b[0m\u001b[0;34m:\u001b[0m\u001b[0;34m\u001b[0m\u001b[0;34m\u001b[0m\u001b[0m\n\u001b[1;32m    252\u001b[0m                 \u001b[0moriginal_data\u001b[0m\u001b[0;34m,\u001b[0m \u001b[0mlabel\u001b[0m \u001b[0;34m=\u001b[0m \u001b[0moriginal_data_label\u001b[0m\u001b[0;34m\u001b[0m\u001b[0;34m\u001b[0m\u001b[0m\n",
      "\u001b[0;32m~/dbmi_eeg_clustering/data_reader.py\u001b[0m in \u001b[0;36m__getitem__\u001b[0;34m(self, i)\u001b[0m\n\u001b[1;32m    366\u001b[0m             \u001b[0;32mreturn\u001b[0m \u001b[0mself\u001b[0m\u001b[0;34m.\u001b[0m\u001b[0mgetItemSlice\u001b[0m\u001b[0;34m(\u001b[0m\u001b[0mi\u001b[0m\u001b[0;34m)\u001b[0m\u001b[0;34m\u001b[0m\u001b[0;34m\u001b[0m\u001b[0m\n\u001b[1;32m    367\u001b[0m         data, ann = get_edf_data_and_label_ts_format(\n\u001b[0;32m--> 368\u001b[0;31m             self.edf_tokens[i], resample=self.resample, expand_tse=self.expand_tse, dtype=self.dtype, start=self.start_offset, max_length=self.max_length)\n\u001b[0m\u001b[1;32m    369\u001b[0m         \u001b[0;32mif\u001b[0m \u001b[0;34m(\u001b[0m\u001b[0mself\u001b[0m\u001b[0;34m.\u001b[0m\u001b[0mmax_length\u001b[0m \u001b[0;34m!=\u001b[0m \u001b[0;32mNone\u001b[0m \u001b[0;32mand\u001b[0m \u001b[0mmax\u001b[0m\u001b[0;34m(\u001b[0m\u001b[0mdata\u001b[0m\u001b[0;34m.\u001b[0m\u001b[0mindex\u001b[0m\u001b[0;34m)\u001b[0m \u001b[0;34m>\u001b[0m \u001b[0mself\u001b[0m\u001b[0;34m.\u001b[0m\u001b[0mmax_length\u001b[0m\u001b[0;34m)\u001b[0m\u001b[0;34m:\u001b[0m\u001b[0;34m\u001b[0m\u001b[0;34m\u001b[0m\u001b[0m\n\u001b[1;32m    370\u001b[0m             \u001b[0;32mif\u001b[0m \u001b[0mtype\u001b[0m\u001b[0;34m(\u001b[0m\u001b[0mself\u001b[0m\u001b[0;34m.\u001b[0m\u001b[0mmax_length\u001b[0m\u001b[0;34m)\u001b[0m \u001b[0;34m==\u001b[0m \u001b[0mpd\u001b[0m\u001b[0;34m.\u001b[0m\u001b[0mTimedelta\u001b[0m\u001b[0;34m:\u001b[0m\u001b[0;34m\u001b[0m\u001b[0;34m\u001b[0m\u001b[0m\n",
      "\u001b[0;32m~/dbmi_eeg_clustering/data_reader.py\u001b[0m in \u001b[0;36mget_edf_data_and_label_ts_format\u001b[0;34m(edf_path, expand_tse, resample, start, dtype, max_length)\u001b[0m\n\u001b[1;32m    404\u001b[0m         seconds=constants.COMMON_DELTA), start=pd.Timedelta(seconds=0), dtype=np.float32, max_length=None):\n\u001b[1;32m    405\u001b[0m     \u001b[0;32mtry\u001b[0m\u001b[0;34m:\u001b[0m\u001b[0;34m\u001b[0m\u001b[0;34m\u001b[0m\u001b[0m\n\u001b[0;32m--> 406\u001b[0;31m         \u001b[0medf_data\u001b[0m \u001b[0;34m=\u001b[0m \u001b[0medf_eeg_2_df\u001b[0m\u001b[0;34m(\u001b[0m\u001b[0medf_path\u001b[0m\u001b[0;34m,\u001b[0m \u001b[0mresample\u001b[0m\u001b[0;34m,\u001b[0m \u001b[0mdtype\u001b[0m\u001b[0;34m=\u001b[0m\u001b[0mdtype\u001b[0m\u001b[0;34m,\u001b[0m \u001b[0mstart\u001b[0m\u001b[0;34m=\u001b[0m\u001b[0mstart\u001b[0m\u001b[0;34m,\u001b[0m \u001b[0mmax_length\u001b[0m\u001b[0;34m=\u001b[0m\u001b[0mmax_length\u001b[0m\u001b[0;34m)\u001b[0m\u001b[0;34m\u001b[0m\u001b[0;34m\u001b[0m\u001b[0m\n\u001b[0m\u001b[1;32m    407\u001b[0m         \u001b[0mtse_data_path\u001b[0m \u001b[0;34m=\u001b[0m \u001b[0mconvert_edf_path_to_tse\u001b[0m\u001b[0;34m(\u001b[0m\u001b[0medf_path\u001b[0m\u001b[0;34m)\u001b[0m\u001b[0;34m\u001b[0m\u001b[0;34m\u001b[0m\u001b[0m\n\u001b[1;32m    408\u001b[0m         \u001b[0;32mif\u001b[0m \u001b[0mexpand_tse\u001b[0m\u001b[0;34m:\u001b[0m\u001b[0;34m\u001b[0m\u001b[0;34m\u001b[0m\u001b[0m\n",
      "\u001b[0;32m~/dbmi_eeg_clustering/data_reader.py\u001b[0m in \u001b[0;36medf_eeg_2_df\u001b[0;34m(path, resample, dtype, start, max_length)\u001b[0m\n\u001b[1;32m    548\u001b[0m     \u001b[0mdata\u001b[0m \u001b[0;34m=\u001b[0m \u001b[0mdata\u001b[0m\u001b[0;34m.\u001b[0m\u001b[0mastype\u001b[0m\u001b[0;34m(\u001b[0m\u001b[0mdtype\u001b[0m\u001b[0;34m)\u001b[0m\u001b[0;34m\u001b[0m\u001b[0;34m\u001b[0m\u001b[0m\n\u001b[1;32m    549\u001b[0m     \u001b[0;32mif\u001b[0m \u001b[0mresample\u001b[0m \u001b[0;32mis\u001b[0m \u001b[0;32mnot\u001b[0m \u001b[0;32mNone\u001b[0m\u001b[0;34m:\u001b[0m\u001b[0;34m\u001b[0m\u001b[0;34m\u001b[0m\u001b[0m\n\u001b[0;32m--> 550\u001b[0;31m         \u001b[0mdata\u001b[0m \u001b[0;34m=\u001b[0m \u001b[0mdata\u001b[0m\u001b[0;34m.\u001b[0m\u001b[0mresample\u001b[0m\u001b[0;34m(\u001b[0m\u001b[0mresample\u001b[0m\u001b[0;34m)\u001b[0m\u001b[0;34m.\u001b[0m\u001b[0mmean\u001b[0m\u001b[0;34m(\u001b[0m\u001b[0;34m)\u001b[0m\u001b[0;34m\u001b[0m\u001b[0;34m\u001b[0m\u001b[0m\n\u001b[0m\u001b[1;32m    551\u001b[0m     \u001b[0;32mreturn\u001b[0m \u001b[0mdata\u001b[0m\u001b[0;34m\u001b[0m\u001b[0;34m\u001b[0m\u001b[0m\n\u001b[1;32m    552\u001b[0m \u001b[0;34m\u001b[0m\u001b[0m\n",
      "\u001b[0;32m~/miniconda3/envs/keras-redo/lib/python3.7/site-packages/pandas/core/resample.py\u001b[0m in \u001b[0;36mf\u001b[0;34m(self, _method, *args, **kwargs)\u001b[0m\n\u001b[1;32m    863\u001b[0m     \u001b[0;32mdef\u001b[0m \u001b[0mf\u001b[0m\u001b[0;34m(\u001b[0m\u001b[0mself\u001b[0m\u001b[0;34m,\u001b[0m \u001b[0m_method\u001b[0m\u001b[0;34m=\u001b[0m\u001b[0mmethod\u001b[0m\u001b[0;34m,\u001b[0m \u001b[0;34m*\u001b[0m\u001b[0margs\u001b[0m\u001b[0;34m,\u001b[0m \u001b[0;34m**\u001b[0m\u001b[0mkwargs\u001b[0m\u001b[0;34m)\u001b[0m\u001b[0;34m:\u001b[0m\u001b[0;34m\u001b[0m\u001b[0;34m\u001b[0m\u001b[0m\n\u001b[1;32m    864\u001b[0m         \u001b[0mnv\u001b[0m\u001b[0;34m.\u001b[0m\u001b[0mvalidate_resampler_func\u001b[0m\u001b[0;34m(\u001b[0m\u001b[0m_method\u001b[0m\u001b[0;34m,\u001b[0m \u001b[0margs\u001b[0m\u001b[0;34m,\u001b[0m \u001b[0mkwargs\u001b[0m\u001b[0;34m)\u001b[0m\u001b[0;34m\u001b[0m\u001b[0;34m\u001b[0m\u001b[0m\n\u001b[0;32m--> 865\u001b[0;31m         \u001b[0;32mreturn\u001b[0m \u001b[0mself\u001b[0m\u001b[0;34m.\u001b[0m\u001b[0m_downsample\u001b[0m\u001b[0;34m(\u001b[0m\u001b[0m_method\u001b[0m\u001b[0;34m)\u001b[0m\u001b[0;34m\u001b[0m\u001b[0;34m\u001b[0m\u001b[0m\n\u001b[0m\u001b[1;32m    866\u001b[0m     \u001b[0mf\u001b[0m\u001b[0;34m.\u001b[0m\u001b[0m__doc__\u001b[0m \u001b[0;34m=\u001b[0m \u001b[0mgetattr\u001b[0m\u001b[0;34m(\u001b[0m\u001b[0mGroupBy\u001b[0m\u001b[0;34m,\u001b[0m \u001b[0mmethod\u001b[0m\u001b[0;34m)\u001b[0m\u001b[0;34m.\u001b[0m\u001b[0m__doc__\u001b[0m\u001b[0;34m\u001b[0m\u001b[0;34m\u001b[0m\u001b[0m\n\u001b[1;32m    867\u001b[0m     \u001b[0msetattr\u001b[0m\u001b[0;34m(\u001b[0m\u001b[0mResampler\u001b[0m\u001b[0;34m,\u001b[0m \u001b[0mmethod\u001b[0m\u001b[0;34m,\u001b[0m \u001b[0mf\u001b[0m\u001b[0;34m)\u001b[0m\u001b[0;34m\u001b[0m\u001b[0;34m\u001b[0m\u001b[0m\n",
      "\u001b[0;32m~/miniconda3/envs/keras-redo/lib/python3.7/site-packages/pandas/core/resample.py\u001b[0m in \u001b[0;36m_downsample\u001b[0;34m(self, how, **kwargs)\u001b[0m\n\u001b[1;32m   1018\u001b[0m         \u001b[0;31m# we want to call the actual grouper method here\u001b[0m\u001b[0;34m\u001b[0m\u001b[0;34m\u001b[0m\u001b[0;34m\u001b[0m\u001b[0m\n\u001b[1;32m   1019\u001b[0m         result = obj.groupby(\n\u001b[0;32m-> 1020\u001b[0;31m             self.grouper, axis=self.axis).aggregate(how, **kwargs)\n\u001b[0m\u001b[1;32m   1021\u001b[0m \u001b[0;34m\u001b[0m\u001b[0m\n\u001b[1;32m   1022\u001b[0m         \u001b[0mresult\u001b[0m \u001b[0;34m=\u001b[0m \u001b[0mself\u001b[0m\u001b[0;34m.\u001b[0m\u001b[0m_apply_loffset\u001b[0m\u001b[0;34m(\u001b[0m\u001b[0mresult\u001b[0m\u001b[0;34m)\u001b[0m\u001b[0;34m\u001b[0m\u001b[0;34m\u001b[0m\u001b[0m\n",
      "\u001b[0;32m~/miniconda3/envs/keras-redo/lib/python3.7/site-packages/pandas/core/groupby/generic.py\u001b[0m in \u001b[0;36maggregate\u001b[0;34m(self, arg, *args, **kwargs)\u001b[0m\n\u001b[1;32m   1313\u001b[0m     \u001b[0;34m@\u001b[0m\u001b[0mAppender\u001b[0m\u001b[0;34m(\u001b[0m\u001b[0m_shared_docs\u001b[0m\u001b[0;34m[\u001b[0m\u001b[0;34m'aggregate'\u001b[0m\u001b[0;34m]\u001b[0m\u001b[0;34m)\u001b[0m\u001b[0;34m\u001b[0m\u001b[0;34m\u001b[0m\u001b[0m\n\u001b[1;32m   1314\u001b[0m     \u001b[0;32mdef\u001b[0m \u001b[0maggregate\u001b[0m\u001b[0;34m(\u001b[0m\u001b[0mself\u001b[0m\u001b[0;34m,\u001b[0m \u001b[0marg\u001b[0m\u001b[0;34m,\u001b[0m \u001b[0;34m*\u001b[0m\u001b[0margs\u001b[0m\u001b[0;34m,\u001b[0m \u001b[0;34m**\u001b[0m\u001b[0mkwargs\u001b[0m\u001b[0;34m)\u001b[0m\u001b[0;34m:\u001b[0m\u001b[0;34m\u001b[0m\u001b[0;34m\u001b[0m\u001b[0m\n\u001b[0;32m-> 1315\u001b[0;31m         \u001b[0;32mreturn\u001b[0m \u001b[0msuper\u001b[0m\u001b[0;34m(\u001b[0m\u001b[0mDataFrameGroupBy\u001b[0m\u001b[0;34m,\u001b[0m \u001b[0mself\u001b[0m\u001b[0;34m)\u001b[0m\u001b[0;34m.\u001b[0m\u001b[0maggregate\u001b[0m\u001b[0;34m(\u001b[0m\u001b[0marg\u001b[0m\u001b[0;34m,\u001b[0m \u001b[0;34m*\u001b[0m\u001b[0margs\u001b[0m\u001b[0;34m,\u001b[0m \u001b[0;34m**\u001b[0m\u001b[0mkwargs\u001b[0m\u001b[0;34m)\u001b[0m\u001b[0;34m\u001b[0m\u001b[0;34m\u001b[0m\u001b[0m\n\u001b[0m\u001b[1;32m   1316\u001b[0m \u001b[0;34m\u001b[0m\u001b[0m\n\u001b[1;32m   1317\u001b[0m     \u001b[0magg\u001b[0m \u001b[0;34m=\u001b[0m \u001b[0maggregate\u001b[0m\u001b[0;34m\u001b[0m\u001b[0;34m\u001b[0m\u001b[0m\n",
      "\u001b[0;32m~/miniconda3/envs/keras-redo/lib/python3.7/site-packages/pandas/core/groupby/generic.py\u001b[0m in \u001b[0;36maggregate\u001b[0;34m(self, arg, *args, **kwargs)\u001b[0m\n\u001b[1;32m    184\u001b[0m \u001b[0;34m\u001b[0m\u001b[0m\n\u001b[1;32m    185\u001b[0m         \u001b[0m_level\u001b[0m \u001b[0;34m=\u001b[0m \u001b[0mkwargs\u001b[0m\u001b[0;34m.\u001b[0m\u001b[0mpop\u001b[0m\u001b[0;34m(\u001b[0m\u001b[0;34m'_level'\u001b[0m\u001b[0;34m,\u001b[0m \u001b[0;32mNone\u001b[0m\u001b[0;34m)\u001b[0m\u001b[0;34m\u001b[0m\u001b[0;34m\u001b[0m\u001b[0m\n\u001b[0;32m--> 186\u001b[0;31m         \u001b[0mresult\u001b[0m\u001b[0;34m,\u001b[0m \u001b[0mhow\u001b[0m \u001b[0;34m=\u001b[0m \u001b[0mself\u001b[0m\u001b[0;34m.\u001b[0m\u001b[0m_aggregate\u001b[0m\u001b[0;34m(\u001b[0m\u001b[0marg\u001b[0m\u001b[0;34m,\u001b[0m \u001b[0m_level\u001b[0m\u001b[0;34m=\u001b[0m\u001b[0m_level\u001b[0m\u001b[0;34m,\u001b[0m \u001b[0;34m*\u001b[0m\u001b[0margs\u001b[0m\u001b[0;34m,\u001b[0m \u001b[0;34m**\u001b[0m\u001b[0mkwargs\u001b[0m\u001b[0;34m)\u001b[0m\u001b[0;34m\u001b[0m\u001b[0;34m\u001b[0m\u001b[0m\n\u001b[0m\u001b[1;32m    187\u001b[0m         \u001b[0;32mif\u001b[0m \u001b[0mhow\u001b[0m \u001b[0;32mis\u001b[0m \u001b[0;32mNone\u001b[0m\u001b[0;34m:\u001b[0m\u001b[0;34m\u001b[0m\u001b[0;34m\u001b[0m\u001b[0m\n\u001b[1;32m    188\u001b[0m             \u001b[0;32mreturn\u001b[0m \u001b[0mresult\u001b[0m\u001b[0;34m\u001b[0m\u001b[0;34m\u001b[0m\u001b[0m\n",
      "\u001b[0;32m~/miniconda3/envs/keras-redo/lib/python3.7/site-packages/pandas/core/base.py\u001b[0m in \u001b[0;36m_aggregate\u001b[0;34m(self, arg, *args, **kwargs)\u001b[0m\n\u001b[1;32m    354\u001b[0m         \u001b[0;32mif\u001b[0m \u001b[0misinstance\u001b[0m\u001b[0;34m(\u001b[0m\u001b[0marg\u001b[0m\u001b[0;34m,\u001b[0m \u001b[0mcompat\u001b[0m\u001b[0;34m.\u001b[0m\u001b[0mstring_types\u001b[0m\u001b[0;34m)\u001b[0m\u001b[0;34m:\u001b[0m\u001b[0;34m\u001b[0m\u001b[0;34m\u001b[0m\u001b[0m\n\u001b[1;32m    355\u001b[0m             return self._try_aggregate_string_function(arg, *args,\n\u001b[0;32m--> 356\u001b[0;31m                                                        **kwargs), None\n\u001b[0m\u001b[1;32m    357\u001b[0m \u001b[0;34m\u001b[0m\u001b[0m\n\u001b[1;32m    358\u001b[0m         \u001b[0;32mif\u001b[0m \u001b[0misinstance\u001b[0m\u001b[0;34m(\u001b[0m\u001b[0marg\u001b[0m\u001b[0;34m,\u001b[0m \u001b[0mdict\u001b[0m\u001b[0;34m)\u001b[0m\u001b[0;34m:\u001b[0m\u001b[0;34m\u001b[0m\u001b[0;34m\u001b[0m\u001b[0m\n",
      "\u001b[0;32m~/miniconda3/envs/keras-redo/lib/python3.7/site-packages/pandas/core/base.py\u001b[0m in \u001b[0;36m_try_aggregate_string_function\u001b[0;34m(self, arg, *args, **kwargs)\u001b[0m\n\u001b[1;32m    310\u001b[0m         \u001b[0;32mif\u001b[0m \u001b[0mf\u001b[0m \u001b[0;32mis\u001b[0m \u001b[0;32mnot\u001b[0m \u001b[0;32mNone\u001b[0m\u001b[0;34m:\u001b[0m\u001b[0;34m\u001b[0m\u001b[0;34m\u001b[0m\u001b[0m\n\u001b[1;32m    311\u001b[0m             \u001b[0;32mif\u001b[0m \u001b[0mcallable\u001b[0m\u001b[0;34m(\u001b[0m\u001b[0mf\u001b[0m\u001b[0;34m)\u001b[0m\u001b[0;34m:\u001b[0m\u001b[0;34m\u001b[0m\u001b[0;34m\u001b[0m\u001b[0m\n\u001b[0;32m--> 312\u001b[0;31m                 \u001b[0;32mreturn\u001b[0m \u001b[0mf\u001b[0m\u001b[0;34m(\u001b[0m\u001b[0;34m*\u001b[0m\u001b[0margs\u001b[0m\u001b[0;34m,\u001b[0m \u001b[0;34m**\u001b[0m\u001b[0mkwargs\u001b[0m\u001b[0;34m)\u001b[0m\u001b[0;34m\u001b[0m\u001b[0;34m\u001b[0m\u001b[0m\n\u001b[0m\u001b[1;32m    313\u001b[0m \u001b[0;34m\u001b[0m\u001b[0m\n\u001b[1;32m    314\u001b[0m             \u001b[0;31m# people may try to aggregate on a non-callable attribute\u001b[0m\u001b[0;34m\u001b[0m\u001b[0;34m\u001b[0m\u001b[0;34m\u001b[0m\u001b[0m\n",
      "\u001b[0;32m~/miniconda3/envs/keras-redo/lib/python3.7/site-packages/pandas/core/groupby/groupby.py\u001b[0m in \u001b[0;36mmean\u001b[0;34m(self, *args, **kwargs)\u001b[0m\n\u001b[1;32m   1136\u001b[0m             \u001b[0;32mwith\u001b[0m \u001b[0m_group_selection_context\u001b[0m\u001b[0;34m(\u001b[0m\u001b[0mself\u001b[0m\u001b[0;34m)\u001b[0m\u001b[0;34m:\u001b[0m\u001b[0;34m\u001b[0m\u001b[0;34m\u001b[0m\u001b[0m\n\u001b[1;32m   1137\u001b[0m                 \u001b[0mf\u001b[0m \u001b[0;34m=\u001b[0m \u001b[0;32mlambda\u001b[0m \u001b[0mx\u001b[0m\u001b[0;34m:\u001b[0m \u001b[0mx\u001b[0m\u001b[0;34m.\u001b[0m\u001b[0mmean\u001b[0m\u001b[0;34m(\u001b[0m\u001b[0maxis\u001b[0m\u001b[0;34m=\u001b[0m\u001b[0mself\u001b[0m\u001b[0;34m.\u001b[0m\u001b[0maxis\u001b[0m\u001b[0;34m,\u001b[0m \u001b[0;34m**\u001b[0m\u001b[0mkwargs\u001b[0m\u001b[0;34m)\u001b[0m\u001b[0;34m\u001b[0m\u001b[0;34m\u001b[0m\u001b[0m\n\u001b[0;32m-> 1138\u001b[0;31m                 \u001b[0;32mreturn\u001b[0m \u001b[0mself\u001b[0m\u001b[0;34m.\u001b[0m\u001b[0m_python_agg_general\u001b[0m\u001b[0;34m(\u001b[0m\u001b[0mf\u001b[0m\u001b[0;34m)\u001b[0m\u001b[0;34m\u001b[0m\u001b[0;34m\u001b[0m\u001b[0m\n\u001b[0m\u001b[1;32m   1139\u001b[0m \u001b[0;34m\u001b[0m\u001b[0m\n\u001b[1;32m   1140\u001b[0m     \u001b[0;34m@\u001b[0m\u001b[0mSubstitution\u001b[0m\u001b[0;34m(\u001b[0m\u001b[0mname\u001b[0m\u001b[0;34m=\u001b[0m\u001b[0;34m'groupby'\u001b[0m\u001b[0;34m)\u001b[0m\u001b[0;34m\u001b[0m\u001b[0;34m\u001b[0m\u001b[0m\n",
      "\u001b[0;32m~/miniconda3/envs/keras-redo/lib/python3.7/site-packages/pandas/core/groupby/groupby.py\u001b[0m in \u001b[0;36m_python_agg_general\u001b[0;34m(self, func, *args, **kwargs)\u001b[0m\n\u001b[1;32m    848\u001b[0m         \u001b[0;32mfor\u001b[0m \u001b[0mname\u001b[0m\u001b[0;34m,\u001b[0m \u001b[0mobj\u001b[0m \u001b[0;32min\u001b[0m \u001b[0mself\u001b[0m\u001b[0;34m.\u001b[0m\u001b[0m_iterate_slices\u001b[0m\u001b[0;34m(\u001b[0m\u001b[0;34m)\u001b[0m\u001b[0;34m:\u001b[0m\u001b[0;34m\u001b[0m\u001b[0;34m\u001b[0m\u001b[0m\n\u001b[1;32m    849\u001b[0m             \u001b[0;32mtry\u001b[0m\u001b[0;34m:\u001b[0m\u001b[0;34m\u001b[0m\u001b[0;34m\u001b[0m\u001b[0m\n\u001b[0;32m--> 850\u001b[0;31m                 \u001b[0mresult\u001b[0m\u001b[0;34m,\u001b[0m \u001b[0mcounts\u001b[0m \u001b[0;34m=\u001b[0m \u001b[0mself\u001b[0m\u001b[0;34m.\u001b[0m\u001b[0mgrouper\u001b[0m\u001b[0;34m.\u001b[0m\u001b[0magg_series\u001b[0m\u001b[0;34m(\u001b[0m\u001b[0mobj\u001b[0m\u001b[0;34m,\u001b[0m \u001b[0mf\u001b[0m\u001b[0;34m)\u001b[0m\u001b[0;34m\u001b[0m\u001b[0;34m\u001b[0m\u001b[0m\n\u001b[0m\u001b[1;32m    851\u001b[0m                 \u001b[0moutput\u001b[0m\u001b[0;34m[\u001b[0m\u001b[0mname\u001b[0m\u001b[0;34m]\u001b[0m \u001b[0;34m=\u001b[0m \u001b[0mself\u001b[0m\u001b[0;34m.\u001b[0m\u001b[0m_try_cast\u001b[0m\u001b[0;34m(\u001b[0m\u001b[0mresult\u001b[0m\u001b[0;34m,\u001b[0m \u001b[0mobj\u001b[0m\u001b[0;34m,\u001b[0m \u001b[0mnumeric_only\u001b[0m\u001b[0;34m=\u001b[0m\u001b[0;32mTrue\u001b[0m\u001b[0;34m)\u001b[0m\u001b[0;34m\u001b[0m\u001b[0;34m\u001b[0m\u001b[0m\n\u001b[1;32m    852\u001b[0m             \u001b[0;32mexcept\u001b[0m \u001b[0mTypeError\u001b[0m\u001b[0;34m:\u001b[0m\u001b[0;34m\u001b[0m\u001b[0;34m\u001b[0m\u001b[0m\n",
      "\u001b[0;32m~/miniconda3/envs/keras-redo/lib/python3.7/site-packages/pandas/core/groupby/ops.py\u001b[0m in \u001b[0;36magg_series\u001b[0;34m(self, obj, func)\u001b[0m\n\u001b[1;32m    765\u001b[0m         \u001b[0mdummy\u001b[0m \u001b[0;34m=\u001b[0m \u001b[0mobj\u001b[0m\u001b[0;34m[\u001b[0m\u001b[0;34m:\u001b[0m\u001b[0;36m0\u001b[0m\u001b[0;34m]\u001b[0m\u001b[0;34m\u001b[0m\u001b[0;34m\u001b[0m\u001b[0m\n\u001b[1;32m    766\u001b[0m         \u001b[0mgrouper\u001b[0m \u001b[0;34m=\u001b[0m \u001b[0mreduction\u001b[0m\u001b[0;34m.\u001b[0m\u001b[0mSeriesBinGrouper\u001b[0m\u001b[0;34m(\u001b[0m\u001b[0mobj\u001b[0m\u001b[0;34m,\u001b[0m \u001b[0mfunc\u001b[0m\u001b[0;34m,\u001b[0m \u001b[0mself\u001b[0m\u001b[0;34m.\u001b[0m\u001b[0mbins\u001b[0m\u001b[0;34m,\u001b[0m \u001b[0mdummy\u001b[0m\u001b[0;34m)\u001b[0m\u001b[0;34m\u001b[0m\u001b[0;34m\u001b[0m\u001b[0m\n\u001b[0;32m--> 767\u001b[0;31m         \u001b[0;32mreturn\u001b[0m \u001b[0mgrouper\u001b[0m\u001b[0;34m.\u001b[0m\u001b[0mget_result\u001b[0m\u001b[0;34m(\u001b[0m\u001b[0;34m)\u001b[0m\u001b[0;34m\u001b[0m\u001b[0;34m\u001b[0m\u001b[0m\n\u001b[0m\u001b[1;32m    768\u001b[0m \u001b[0;34m\u001b[0m\u001b[0m\n\u001b[1;32m    769\u001b[0m \u001b[0;34m\u001b[0m\u001b[0m\n",
      "\u001b[0;32mpandas/_libs/reduction.pyx\u001b[0m in \u001b[0;36mpandas._libs.reduction.SeriesBinGrouper.get_result\u001b[0;34m()\u001b[0m\n",
      "\u001b[0;32mpandas/_libs/reduction.pyx\u001b[0m in \u001b[0;36mpandas._libs.reduction.SeriesBinGrouper.get_result\u001b[0;34m()\u001b[0m\n",
      "\u001b[0;32m~/miniconda3/envs/keras-redo/lib/python3.7/site-packages/pandas/core/groupby/groupby.py\u001b[0m in \u001b[0;36m<lambda>\u001b[0;34m(x)\u001b[0m\n\u001b[1;32m    842\u001b[0m     \u001b[0;32mdef\u001b[0m \u001b[0m_python_agg_general\u001b[0m\u001b[0;34m(\u001b[0m\u001b[0mself\u001b[0m\u001b[0;34m,\u001b[0m \u001b[0mfunc\u001b[0m\u001b[0;34m,\u001b[0m \u001b[0;34m*\u001b[0m\u001b[0margs\u001b[0m\u001b[0;34m,\u001b[0m \u001b[0;34m**\u001b[0m\u001b[0mkwargs\u001b[0m\u001b[0;34m)\u001b[0m\u001b[0;34m:\u001b[0m\u001b[0;34m\u001b[0m\u001b[0;34m\u001b[0m\u001b[0m\n\u001b[1;32m    843\u001b[0m         \u001b[0mfunc\u001b[0m \u001b[0;34m=\u001b[0m \u001b[0mself\u001b[0m\u001b[0;34m.\u001b[0m\u001b[0m_is_builtin_func\u001b[0m\u001b[0;34m(\u001b[0m\u001b[0mfunc\u001b[0m\u001b[0;34m)\u001b[0m\u001b[0;34m\u001b[0m\u001b[0;34m\u001b[0m\u001b[0m\n\u001b[0;32m--> 844\u001b[0;31m         \u001b[0mf\u001b[0m \u001b[0;34m=\u001b[0m \u001b[0;32mlambda\u001b[0m \u001b[0mx\u001b[0m\u001b[0;34m:\u001b[0m \u001b[0mfunc\u001b[0m\u001b[0;34m(\u001b[0m\u001b[0mx\u001b[0m\u001b[0;34m,\u001b[0m \u001b[0;34m*\u001b[0m\u001b[0margs\u001b[0m\u001b[0;34m,\u001b[0m \u001b[0;34m**\u001b[0m\u001b[0mkwargs\u001b[0m\u001b[0;34m)\u001b[0m\u001b[0;34m\u001b[0m\u001b[0;34m\u001b[0m\u001b[0m\n\u001b[0m\u001b[1;32m    845\u001b[0m \u001b[0;34m\u001b[0m\u001b[0m\n\u001b[1;32m    846\u001b[0m         \u001b[0;31m# iterate through \"columns\" ex exclusions to populate output dict\u001b[0m\u001b[0;34m\u001b[0m\u001b[0;34m\u001b[0m\u001b[0;34m\u001b[0m\u001b[0m\n",
      "\u001b[0;32m~/miniconda3/envs/keras-redo/lib/python3.7/site-packages/pandas/core/groupby/groupby.py\u001b[0m in \u001b[0;36m<lambda>\u001b[0;34m(x)\u001b[0m\n\u001b[1;32m   1135\u001b[0m         \u001b[0;32mexcept\u001b[0m \u001b[0mException\u001b[0m\u001b[0;34m:\u001b[0m  \u001b[0;31m# pragma: no cover\u001b[0m\u001b[0;34m\u001b[0m\u001b[0;34m\u001b[0m\u001b[0m\n\u001b[1;32m   1136\u001b[0m             \u001b[0;32mwith\u001b[0m \u001b[0m_group_selection_context\u001b[0m\u001b[0;34m(\u001b[0m\u001b[0mself\u001b[0m\u001b[0;34m)\u001b[0m\u001b[0;34m:\u001b[0m\u001b[0;34m\u001b[0m\u001b[0;34m\u001b[0m\u001b[0m\n\u001b[0;32m-> 1137\u001b[0;31m                 \u001b[0mf\u001b[0m \u001b[0;34m=\u001b[0m \u001b[0;32mlambda\u001b[0m \u001b[0mx\u001b[0m\u001b[0;34m:\u001b[0m \u001b[0mx\u001b[0m\u001b[0;34m.\u001b[0m\u001b[0mmean\u001b[0m\u001b[0;34m(\u001b[0m\u001b[0maxis\u001b[0m\u001b[0;34m=\u001b[0m\u001b[0mself\u001b[0m\u001b[0;34m.\u001b[0m\u001b[0maxis\u001b[0m\u001b[0;34m,\u001b[0m \u001b[0;34m**\u001b[0m\u001b[0mkwargs\u001b[0m\u001b[0;34m)\u001b[0m\u001b[0;34m\u001b[0m\u001b[0;34m\u001b[0m\u001b[0m\n\u001b[0m\u001b[1;32m   1138\u001b[0m                 \u001b[0;32mreturn\u001b[0m \u001b[0mself\u001b[0m\u001b[0;34m.\u001b[0m\u001b[0m_python_agg_general\u001b[0m\u001b[0;34m(\u001b[0m\u001b[0mf\u001b[0m\u001b[0;34m)\u001b[0m\u001b[0;34m\u001b[0m\u001b[0;34m\u001b[0m\u001b[0m\n\u001b[1;32m   1139\u001b[0m \u001b[0;34m\u001b[0m\u001b[0m\n",
      "\u001b[0;32m~/miniconda3/envs/keras-redo/lib/python3.7/site-packages/pandas/core/generic.py\u001b[0m in \u001b[0;36mstat_func\u001b[0;34m(self, axis, skipna, level, numeric_only, **kwargs)\u001b[0m\n\u001b[1;32m  10954\u001b[0m                                       skipna=skipna)\n\u001b[1;32m  10955\u001b[0m         return self._reduce(f, name, axis=axis, skipna=skipna,\n\u001b[0;32m> 10956\u001b[0;31m                             numeric_only=numeric_only)\n\u001b[0m\u001b[1;32m  10957\u001b[0m \u001b[0;34m\u001b[0m\u001b[0m\n\u001b[1;32m  10958\u001b[0m     \u001b[0;32mreturn\u001b[0m \u001b[0mset_function_name\u001b[0m\u001b[0;34m(\u001b[0m\u001b[0mstat_func\u001b[0m\u001b[0;34m,\u001b[0m \u001b[0mname\u001b[0m\u001b[0;34m,\u001b[0m \u001b[0mcls\u001b[0m\u001b[0;34m)\u001b[0m\u001b[0;34m\u001b[0m\u001b[0;34m\u001b[0m\u001b[0m\n",
      "\u001b[0;32m~/miniconda3/envs/keras-redo/lib/python3.7/site-packages/pandas/core/series.py\u001b[0m in \u001b[0;36m_reduce\u001b[0;34m(self, op, name, axis, skipna, numeric_only, filter_type, **kwds)\u001b[0m\n\u001b[1;32m   3628\u001b[0m                                           'numeric_only.'.format(name))\n\u001b[1;32m   3629\u001b[0m             \u001b[0;32mwith\u001b[0m \u001b[0mnp\u001b[0m\u001b[0;34m.\u001b[0m\u001b[0merrstate\u001b[0m\u001b[0;34m(\u001b[0m\u001b[0mall\u001b[0m\u001b[0;34m=\u001b[0m\u001b[0;34m'ignore'\u001b[0m\u001b[0;34m)\u001b[0m\u001b[0;34m:\u001b[0m\u001b[0;34m\u001b[0m\u001b[0;34m\u001b[0m\u001b[0m\n\u001b[0;32m-> 3630\u001b[0;31m                 \u001b[0;32mreturn\u001b[0m \u001b[0mop\u001b[0m\u001b[0;34m(\u001b[0m\u001b[0mdelegate\u001b[0m\u001b[0;34m,\u001b[0m \u001b[0mskipna\u001b[0m\u001b[0;34m=\u001b[0m\u001b[0mskipna\u001b[0m\u001b[0;34m,\u001b[0m \u001b[0;34m**\u001b[0m\u001b[0mkwds\u001b[0m\u001b[0;34m)\u001b[0m\u001b[0;34m\u001b[0m\u001b[0;34m\u001b[0m\u001b[0m\n\u001b[0m\u001b[1;32m   3631\u001b[0m \u001b[0;34m\u001b[0m\u001b[0m\n\u001b[1;32m   3632\u001b[0m         \u001b[0;31m# TODO(EA) dispatch to Index\u001b[0m\u001b[0;34m\u001b[0m\u001b[0;34m\u001b[0m\u001b[0;34m\u001b[0m\u001b[0m\n",
      "\u001b[0;32m~/miniconda3/envs/keras-redo/lib/python3.7/site-packages/pandas/core/nanops.py\u001b[0m in \u001b[0;36m_f\u001b[0;34m(*args, **kwargs)\u001b[0m\n\u001b[1;32m     72\u001b[0m                 \u001b[0mmsg\u001b[0m \u001b[0;34m=\u001b[0m \u001b[0;34m'reduction operation {name!r} not allowed for this dtype'\u001b[0m\u001b[0;34m\u001b[0m\u001b[0;34m\u001b[0m\u001b[0m\n\u001b[1;32m     73\u001b[0m                 \u001b[0;32mraise\u001b[0m \u001b[0mTypeError\u001b[0m\u001b[0;34m(\u001b[0m\u001b[0mmsg\u001b[0m\u001b[0;34m.\u001b[0m\u001b[0mformat\u001b[0m\u001b[0;34m(\u001b[0m\u001b[0mname\u001b[0m\u001b[0;34m=\u001b[0m\u001b[0mf\u001b[0m\u001b[0;34m.\u001b[0m\u001b[0m__name__\u001b[0m\u001b[0;34m.\u001b[0m\u001b[0mreplace\u001b[0m\u001b[0;34m(\u001b[0m\u001b[0;34m'nan'\u001b[0m\u001b[0;34m,\u001b[0m \u001b[0;34m''\u001b[0m\u001b[0;34m)\u001b[0m\u001b[0;34m)\u001b[0m\u001b[0;34m)\u001b[0m\u001b[0;34m\u001b[0m\u001b[0;34m\u001b[0m\u001b[0m\n\u001b[0;32m---> 74\u001b[0;31m             \u001b[0;32mtry\u001b[0m\u001b[0;34m:\u001b[0m\u001b[0;34m\u001b[0m\u001b[0;34m\u001b[0m\u001b[0m\n\u001b[0m\u001b[1;32m     75\u001b[0m                 \u001b[0;32mwith\u001b[0m \u001b[0mnp\u001b[0m\u001b[0;34m.\u001b[0m\u001b[0merrstate\u001b[0m\u001b[0;34m(\u001b[0m\u001b[0minvalid\u001b[0m\u001b[0;34m=\u001b[0m\u001b[0;34m'ignore'\u001b[0m\u001b[0;34m)\u001b[0m\u001b[0;34m:\u001b[0m\u001b[0;34m\u001b[0m\u001b[0;34m\u001b[0m\u001b[0m\n\u001b[1;32m     76\u001b[0m                     \u001b[0;32mreturn\u001b[0m \u001b[0mf\u001b[0m\u001b[0;34m(\u001b[0m\u001b[0;34m*\u001b[0m\u001b[0margs\u001b[0m\u001b[0;34m,\u001b[0m \u001b[0;34m**\u001b[0m\u001b[0mkwargs\u001b[0m\u001b[0;34m)\u001b[0m\u001b[0;34m\u001b[0m\u001b[0;34m\u001b[0m\u001b[0m\n",
      "\u001b[0;31mKeyboardInterrupt\u001b[0m: "
     ]
    }
   ],
   "source": [
    "isSeizure = [datum[1] for datum in data]"
   ]
  },
  {
   "cell_type": "code",
   "execution_count": null,
   "metadata": {},
   "outputs": [],
   "source": [
    "isSeizure[0]"
   ]
  },
  {
   "cell_type": "code",
   "execution_count": null,
   "metadata": {},
   "outputs": [],
   "source": [
    "np.array([(isSeizure[i].label == \"bckg\").all() for i in range(len(isSeizure))]).sum() #number of samples with no seizure"
   ]
  },
  {
   "cell_type": "code",
   "execution_count": null,
   "metadata": {},
   "outputs": [],
   "source": []
  }
 ],
 "metadata": {
  "kernelspec": {
   "display_name": "Python 3",
   "language": "python",
   "name": "python3"
  },
  "language_info": {
   "codemirror_mode": {
    "name": "ipython",
    "version": 3
   },
   "file_extension": ".py",
   "mimetype": "text/x-python",
   "name": "python",
   "nbconvert_exporter": "python",
   "pygments_lexer": "ipython3",
   "version": "3.7.3"
  },
  "varInspector": {
   "cols": {
    "lenName": 16,
    "lenType": 16,
    "lenVar": 40
   },
   "kernels_config": {
    "python": {
     "delete_cmd_postfix": "",
     "delete_cmd_prefix": "del ",
     "library": "var_list.py",
     "varRefreshCmd": "print(var_dic_list())"
    },
    "r": {
     "delete_cmd_postfix": ") ",
     "delete_cmd_prefix": "rm(",
     "library": "var_list.r",
     "varRefreshCmd": "cat(var_dic_list()) "
    }
   },
   "types_to_exclude": [
    "module",
    "function",
    "builtin_function_or_method",
    "instance",
    "_Feature"
   ],
   "window_display": false
  }
 },
 "nbformat": 4,
 "nbformat_minor": 2
}

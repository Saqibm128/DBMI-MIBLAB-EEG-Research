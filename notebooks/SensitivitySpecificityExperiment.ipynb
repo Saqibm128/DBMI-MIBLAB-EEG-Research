{
 "cells": [
  {
   "cell_type": "code",
   "execution_count": 1,
   "metadata": {},
   "outputs": [
    {
     "name": "stderr",
     "output_type": "stream",
     "text": [
      "Using TensorFlow backend.\n"
     ]
    }
   ],
   "source": [
    "import sys, os\n",
    "sys.path.append(os.path.realpath(\"..\"))\n",
    "\n",
    "import util_funcs\n",
    "from importlib import reload\n",
    "reload(util_funcs)\n",
    "from copy import deepcopy as cp\n",
    "\n",
    "import data_reader as read\n",
    "import pandas as pd\n",
    "import numpy as np\n",
    "import pickle as pkl\n",
    "import matplotlib.pyplot as plt\n",
    "import pywt\n",
    "import tsfresh.feature_extraction.feature_calculators as feats\n",
    "import constants\n",
    "import clinical_text_analysis as cta\n",
    "reload(cta)\n",
    "import tsfresh\n",
    "import ensembleReader as er\n",
    "from sklearn.metrics import roc_auc_score, accuracy_score, confusion_matrix, roc_curve, r2_score\n",
    "from os import path\n",
    "\n",
    "reload(read)\n",
    "import wf_analysis.datasets as wfdata\n",
    "import wf_analysis.filters as filt\n",
    "reload(filt)\n",
    "from addict import Dict\n",
    "import time\n",
    "import pickle as pkl\n",
    "import tsfresh.feature_extraction.feature_calculators as tsf\n",
    "import pyedflib as edf\n",
    "import keras_models.dataGen as dg "
   ]
  },
  {
   "cell_type": "code",
   "execution_count": 2,
   "metadata": {},
   "outputs": [],
   "source": [
    "from keras.models import load_model"
   ]
  },
  {
   "cell_type": "code",
   "execution_count": 3,
   "metadata": {},
   "outputs": [
    {
     "name": "stdout",
     "output_type": "stream",
     "text": [
      "WARNING:tensorflow:From /home/ms994/miniconda3/envs/keras-redo/lib/python3.7/site-packages/tensorflow/python/framework/op_def_library.py:263: colocate_with (from tensorflow.python.framework.ops) is deprecated and will be removed in a future version.\n",
      "Instructions for updating:\n",
      "Colocations handled automatically by placer.\n"
     ]
    },
    {
     "name": "stderr",
     "output_type": "stream",
     "text": [
      "WARNING:tensorflow:From /home/ms994/miniconda3/envs/keras-redo/lib/python3.7/site-packages/tensorflow/python/framework/op_def_library.py:263: colocate_with (from tensorflow.python.framework.ops) is deprecated and will be removed in a future version.\n",
      "Instructions for updating:\n",
      "Colocations handled automatically by placer.\n"
     ]
    },
    {
     "name": "stdout",
     "output_type": "stream",
     "text": [
      "WARNING:tensorflow:From /home/ms994/miniconda3/envs/keras-redo/lib/python3.7/site-packages/keras/backend/tensorflow_backend.py:3445: calling dropout (from tensorflow.python.ops.nn_ops) with keep_prob is deprecated and will be removed in a future version.\n",
      "Instructions for updating:\n",
      "Please use `rate` instead of `keep_prob`. Rate should be set to `rate = 1 - keep_prob`.\n"
     ]
    },
    {
     "name": "stderr",
     "output_type": "stream",
     "text": [
      "WARNING:tensorflow:From /home/ms994/miniconda3/envs/keras-redo/lib/python3.7/site-packages/keras/backend/tensorflow_backend.py:3445: calling dropout (from tensorflow.python.ops.nn_ops) with keep_prob is deprecated and will be removed in a future version.\n",
      "Instructions for updating:\n",
      "Please use `rate` instead of `keep_prob`. Rate should be set to `rate = 1 - keep_prob`.\n",
      "/home/ms994/miniconda3/envs/keras-redo/lib/python3.7/site-packages/keras/engine/saving.py:292: UserWarning: No training configuration found in save file: the model was *not* compiled. Compile it manually.\n",
      "  warnings.warn('No training configuration found in save file: '\n"
     ]
    }
   ],
   "source": [
    "model = load_model(\"/n/scratch2/ms994/out/OTHTYMOOILEALOIM.h5\")"
   ]
  },
  {
   "cell_type": "code",
   "execution_count": 4,
   "metadata": {},
   "outputs": [
    {
     "name": "stdout",
     "output_type": "stream",
     "text": [
      "__________________________________________________________________________________________________\n",
      "Layer (type)                    Output Shape         Param #     Connected to                     \n",
      "==================================================================================================\n",
      "input_1 (InputLayer)            (None, 1000, 21, 1)  0                                            \n",
      "__________________________________________________________________________________________________\n",
      "conv2d_1 (Conv2D)               (None, 1000, 21, 4)  68          input_1[0][0]                    \n",
      "__________________________________________________________________________________________________\n",
      "max_pooling2d_1 (MaxPooling2D)  (None, 500, 21, 4)   0           conv2d_1[0][0]                   \n",
      "__________________________________________________________________________________________________\n",
      "batch_normalization_1 (BatchNor (None, 500, 21, 4)   16          max_pooling2d_1[0][0]            \n",
      "__________________________________________________________________________________________________\n",
      "conv2d_2 (Conv2D)               (None, 500, 21, 4)   260         batch_normalization_1[0][0]      \n",
      "__________________________________________________________________________________________________\n",
      "max_pooling2d_2 (MaxPooling2D)  (None, 250, 21, 4)   0           conv2d_2[0][0]                   \n",
      "__________________________________________________________________________________________________\n",
      "batch_normalization_2 (BatchNor (None, 250, 21, 4)   16          max_pooling2d_2[0][0]            \n",
      "__________________________________________________________________________________________________\n",
      "conv2d_3 (Conv2D)               (None, 250, 21, 4)   260         batch_normalization_2[0][0]      \n",
      "__________________________________________________________________________________________________\n",
      "max_pooling2d_3 (MaxPooling2D)  (None, 125, 21, 4)   0           conv2d_3[0][0]                   \n",
      "__________________________________________________________________________________________________\n",
      "batch_normalization_3 (BatchNor (None, 125, 21, 4)   16          max_pooling2d_3[0][0]            \n",
      "__________________________________________________________________________________________________\n",
      "conv2d_4 (Conv2D)               (None, 125, 21, 4)   260         batch_normalization_3[0][0]      \n",
      "__________________________________________________________________________________________________\n",
      "max_pooling2d_4 (MaxPooling2D)  (None, 62, 21, 4)    0           conv2d_4[0][0]                   \n",
      "__________________________________________________________________________________________________\n",
      "batch_normalization_4 (BatchNor (None, 62, 21, 4)    16          max_pooling2d_4[0][0]            \n",
      "__________________________________________________________________________________________________\n",
      "conv2d_5 (Conv2D)               (None, 62, 21, 4)    260         batch_normalization_4[0][0]      \n",
      "__________________________________________________________________________________________________\n",
      "max_pooling2d_5 (MaxPooling2D)  (None, 31, 21, 4)    0           conv2d_5[0][0]                   \n",
      "__________________________________________________________________________________________________\n",
      "batch_normalization_5 (BatchNor (None, 31, 21, 4)    16          max_pooling2d_5[0][0]            \n",
      "__________________________________________________________________________________________________\n",
      "conv2d_6 (Conv2D)               (None, 31, 21, 4)    260         batch_normalization_5[0][0]      \n",
      "__________________________________________________________________________________________________\n",
      "max_pooling2d_6 (MaxPooling2D)  (None, 15, 21, 4)    0           conv2d_6[0][0]                   \n",
      "__________________________________________________________________________________________________\n",
      "batch_normalization_6 (BatchNor (None, 15, 21, 4)    16          max_pooling2d_6[0][0]            \n",
      "__________________________________________________________________________________________________\n",
      "conv2d_7 (Conv2D)               (None, 15, 21, 4)    260         batch_normalization_6[0][0]      \n",
      "__________________________________________________________________________________________________\n",
      "max_pooling2d_7 (MaxPooling2D)  (None, 7, 21, 4)     0           conv2d_7[0][0]                   \n",
      "__________________________________________________________________________________________________\n",
      "batch_normalization_7 (BatchNor (None, 7, 21, 4)     16          max_pooling2d_7[0][0]            \n",
      "__________________________________________________________________________________________________\n",
      "reshape_1 (Reshape)             (None, 7, 84)        0           batch_normalization_7[0][0]      \n",
      "__________________________________________________________________________________________________\n",
      "cu_dnnlstm_1 (CuDNNLSTM)        (None, 7, 64)        38400       reshape_1[0][0]                  \n",
      "__________________________________________________________________________________________________\n",
      "flatten_1 (Flatten)             (None, 448)          0           cu_dnnlstm_1[0][0]               \n",
      "__________________________________________________________________________________________________\n",
      "dense_1 (Dense)                 (None, 200)          89800       flatten_1[0][0]                  \n",
      "__________________________________________________________________________________________________\n",
      "dropout_1 (Dropout)             (None, 200)          0           dense_1[0][0]                    \n",
      "__________________________________________________________________________________________________\n",
      "dense_2 (Dense)                 (None, 200)          40200       dropout_1[0][0]                  \n",
      "__________________________________________________________________________________________________\n",
      "dropout_2 (Dropout)             (None, 200)          0           dense_2[0][0]                    \n",
      "__________________________________________________________________________________________________\n",
      "seizure (Dense)                 (None, 2)            402         dropout_2[0][0]                  \n",
      "__________________________________________________________________________________________________\n",
      "seizure_subtype (Dense)         (None, 11)           2211        dropout_2[0][0]                  \n",
      "==================================================================================================\n",
      "Total params: 172,753\n",
      "Trainable params: 172,697\n",
      "Non-trainable params: 56\n",
      "__________________________________________________________________________________________________\n"
     ]
    }
   ],
   "source": [
    "model.summary()"
   ]
  },
  {
   "cell_type": "code",
   "execution_count": 5,
   "metadata": {},
   "outputs": [],
   "source": [
    "test_edss = pkl.load(open(\"/n/scratch2/ms994/test_multiple_labels_sessions_seizure_data_4.pkl\", \"rb\"))\n",
    "test_seizure_labels = [datum[1][0] for datum in test_edss]\n",
    "test_session_labels = [datum[1][1] for datum in test_edss]\n",
    "test_subtype_labels = [datum[1][2] for datum in test_edss]\n"
   ]
  },
  {
   "cell_type": "code",
   "execution_count": 6,
   "metadata": {},
   "outputs": [
    {
     "data": {
      "text/plain": [
       "False"
      ]
     },
     "execution_count": 6,
     "metadata": {},
     "output_type": "execute_result"
    }
   ],
   "source": [
    "test_seizure_labels[0]"
   ]
  },
  {
   "cell_type": "code",
   "execution_count": 7,
   "metadata": {},
   "outputs": [],
   "source": [
    "test_edg = dg.DataGenMultipleLabels(test_edss, xy_tuple_form=False, precache=True, num_labels=2, labels=[test_seizure_labels, test_subtype_labels], shuffle=False, batch_size=512, n_classes=[2, 11])\n"
   ]
  },
  {
   "cell_type": "code",
   "execution_count": 8,
   "metadata": {},
   "outputs": [
    {
     "data": {
      "text/plain": [
       "(array([[[[-2.74984618e-01],\n",
       "          [-5.03682458e-01],\n",
       "          [-1.53816678e-02],\n",
       "          ...,\n",
       "          [ 3.55479694e-01],\n",
       "          [ 7.41793598e-01],\n",
       "          [-1.45183139e-01]],\n",
       " \n",
       "         [[-1.94639727e+00],\n",
       "          [-2.99914502e+00],\n",
       "          [-1.90416795e-01],\n",
       "          ...,\n",
       "          [ 2.09516847e+00],\n",
       "          [ 5.24539489e+00],\n",
       "          [-8.95338386e-01]],\n",
       " \n",
       "         [[-5.89382397e+00],\n",
       "          [-7.06159693e+00],\n",
       "          [-9.12675503e-01],\n",
       "          ...,\n",
       "          [ 5.12066200e+00],\n",
       "          [ 1.65775646e+01],\n",
       "          [-2.33252260e+00]],\n",
       " \n",
       "         ...,\n",
       " \n",
       "         [[-1.54814546e+01],\n",
       "          [-1.51913161e+01],\n",
       "          [ 1.78922163e+00],\n",
       "          ...,\n",
       "          [-3.78520039e+00],\n",
       "          [-1.46286671e+01],\n",
       "          [-2.39485638e+01]],\n",
       " \n",
       "         [[-1.80479270e+01],\n",
       "          [-1.73302179e+01],\n",
       "          [ 2.44939421e+00],\n",
       "          ...,\n",
       "          [-9.60268008e+00],\n",
       "          [-1.54674672e+01],\n",
       "          [-2.33075982e+01]],\n",
       " \n",
       "         [[-1.99131498e+01],\n",
       "          [-2.18157375e+01],\n",
       "          [ 1.43139426e+00],\n",
       "          ...,\n",
       "          [-1.07954714e+01],\n",
       "          [-1.54636044e+01],\n",
       "          [-2.52014565e+01]]],\n",
       " \n",
       " \n",
       "        [[[ 4.60557083e-01],\n",
       "          [ 1.88592070e-01],\n",
       "          [ 2.28768729e-01],\n",
       "          ...,\n",
       "          [ 2.38040251e-01],\n",
       "          [-6.17393371e-02],\n",
       "          [-2.44079501e-01]],\n",
       " \n",
       "         [[ 3.20607014e+00],\n",
       "          [ 1.33012113e+00],\n",
       "          [ 1.58789919e+00],\n",
       "          ...,\n",
       "          [ 1.75436558e+00],\n",
       "          [-4.60276073e-01],\n",
       "          [-1.53058204e+00]],\n",
       " \n",
       "         [[ 9.94206815e+00],\n",
       "          [ 4.23177414e+00],\n",
       "          [ 4.59402937e+00],\n",
       "          ...,\n",
       "          [ 5.82505236e+00],\n",
       "          [-1.52423964e+00],\n",
       "          [-3.69609233e+00]],\n",
       " \n",
       "         ...,\n",
       " \n",
       "         [[ 2.13009968e+00],\n",
       "          [-2.26886184e+00],\n",
       "          [-2.59185540e+00],\n",
       "          ...,\n",
       "          [ 1.25684859e+00],\n",
       "          [ 7.81011010e+00],\n",
       "          [-1.19608403e+00]],\n",
       " \n",
       "         [[ 5.06752295e+00],\n",
       "          [-1.28439658e-01],\n",
       "          [ 6.51618560e+00],\n",
       "          ...,\n",
       "          [ 3.80710938e+00],\n",
       "          [ 6.98089235e+00],\n",
       "          [-2.71562121e+00]],\n",
       " \n",
       "         [[ 5.29670808e+00],\n",
       "          [ 6.83079299e-01],\n",
       "          [ 8.43194808e+00],\n",
       "          ...,\n",
       "          [ 3.64963804e+00],\n",
       "          [ 4.18624821e+00],\n",
       "          [-8.32933888e+00]]],\n",
       " \n",
       " \n",
       "        [[[-6.17393371e-02],\n",
       "          [-2.22445924e-01],\n",
       "          [-6.79203597e-02],\n",
       "          ...,\n",
       "          [-8.64634274e-02],\n",
       "          [-2.31717465e-01],\n",
       "          [-2.59532050e-01]],\n",
       " \n",
       "         [[-5.18995794e-01],\n",
       "          [-1.58410340e+00],\n",
       "          [-5.40348609e-01],\n",
       "          ...,\n",
       "          [-6.60036263e-01],\n",
       "          [-1.75984144e+00],\n",
       "          [-1.91619398e+00]],\n",
       " \n",
       "         [[-1.97587760e+00],\n",
       "          [-5.02114804e+00],\n",
       "          [-2.24330859e+00],\n",
       "          ...,\n",
       "          [-2.26117537e+00],\n",
       "          [-5.99523779e+00],\n",
       "          [-6.27342196e+00]],\n",
       " \n",
       "         ...,\n",
       " \n",
       "         [[ 8.97193869e+00],\n",
       "          [ 6.18742118e-01],\n",
       "          [-3.67124168e+00],\n",
       "          ...,\n",
       "          [-1.35920864e-01],\n",
       "          [-1.23239780e+01],\n",
       "          [-4.97509608e+00]],\n",
       " \n",
       "         [[ 6.28791152e+00],\n",
       "          [-1.12698409e+00],\n",
       "          [-2.82156446e+00],\n",
       "          ...,\n",
       "          [-1.18692699e+00],\n",
       "          [-1.48814927e+01],\n",
       "          [-5.82785725e+00]],\n",
       " \n",
       "         [[ 5.23372725e+00],\n",
       "          [-2.06578368e+00],\n",
       "          [-2.80992668e-01],\n",
       "          ...,\n",
       "          [-1.88417863e+00],\n",
       "          [-1.52399879e+01],\n",
       "          [-6.51968760e+00]]],\n",
       " \n",
       " \n",
       "        ...,\n",
       " \n",
       " \n",
       "        [[[-1.27633619e+00],\n",
       "          [-1.89687193e-01],\n",
       "          [-1.49321415e+00],\n",
       "          ...,\n",
       "          [-8.73078697e-01],\n",
       "          [-1.18709992e+00],\n",
       "          [ 4.01079335e-01]],\n",
       " \n",
       "         [[-8.83684302e+00],\n",
       "          [-1.13789775e+00],\n",
       "          [-1.03790246e+01],\n",
       "          ...,\n",
       "          [-6.29498356e+00],\n",
       "          [-8.16145833e+00],\n",
       "          [ 2.95933776e+00]],\n",
       " \n",
       "         [[-2.73339632e+01],\n",
       "          [-2.87509917e+00],\n",
       "          [-3.19288100e+01],\n",
       "          ...,\n",
       "          [-2.03385951e+01],\n",
       "          [-2.51637283e+01],\n",
       "          [ 9.91976154e+00]],\n",
       " \n",
       "         ...,\n",
       " \n",
       "         [[ 3.26604232e+01],\n",
       "          [ 7.94597256e+00],\n",
       "          [ 2.95845145e+01],\n",
       "          ...,\n",
       "          [ 4.38859343e+01],\n",
       "          [ 8.81521328e+00],\n",
       "          [-3.90769454e+01]],\n",
       " \n",
       "         [[ 3.42989351e+01],\n",
       "          [ 8.48338088e+00],\n",
       "          [ 2.89015879e+01],\n",
       "          ...,\n",
       "          [ 4.92489881e+01],\n",
       "          [ 9.52694713e+00],\n",
       "          [-3.96132292e+01]],\n",
       " \n",
       "         [[ 3.64646556e+01],\n",
       "          [ 7.44331079e+00],\n",
       "          [ 2.37066390e+01],\n",
       "          ...,\n",
       "          [ 4.24398434e+01],\n",
       "          [ 6.19325102e+00],\n",
       "          [-3.90174229e+01]]],\n",
       " \n",
       " \n",
       "        [[[-5.73741932e-01],\n",
       "          [-6.36997987e-01],\n",
       "          [-6.18924856e-01],\n",
       "          ...,\n",
       "          [-7.22845504e-01],\n",
       "          [-7.88360763e-01],\n",
       "          [-7.96267765e-01]],\n",
       " \n",
       "         [[-3.91614534e+00],\n",
       "          [-4.42157966e+00],\n",
       "          [-4.25465926e+00],\n",
       "          ...,\n",
       "          [-5.00392839e+00],\n",
       "          [-5.45504097e+00],\n",
       "          [-5.64614438e+00]],\n",
       " \n",
       "         [[-1.17775213e+01],\n",
       "          [-1.37100895e+01],\n",
       "          [-1.30158978e+01],\n",
       "          ...,\n",
       "          [-1.50037432e+01],\n",
       "          [-1.67725596e+01],\n",
       "          [-1.80001555e+01]],\n",
       " \n",
       "         ...,\n",
       " \n",
       "         [[ 4.15636192e+00],\n",
       "          [-2.87674176e+00],\n",
       "          [-6.56495829e+00],\n",
       "          ...,\n",
       "          [-6.33066759e+00],\n",
       "          [ 3.54535729e+00],\n",
       "          [-9.17336148e+00]],\n",
       " \n",
       "         [[ 6.33242309e+00],\n",
       "          [-7.72749968e-01],\n",
       "          [-2.47018369e+00],\n",
       "          ...,\n",
       "          [-5.30497681e+00],\n",
       "          [ 4.78283423e+00],\n",
       "          [-8.36904136e+00]],\n",
       " \n",
       "         [[ 7.46469029e+00],\n",
       "          [ 2.43878378e+00],\n",
       "          [ 1.38450172e+00],\n",
       "          ...,\n",
       "          [-2.60021375e+00],\n",
       "          [ 6.54266426e+00],\n",
       "          [-8.74353233e+00]]],\n",
       " \n",
       " \n",
       "        [[[-6.79921745e-01],\n",
       "          [-3.28624636e-01],\n",
       "          [-8.26766190e-01],\n",
       "          ...,\n",
       "          [-3.83973728e-01],\n",
       "          [-6.76533074e-01],\n",
       "          [-9.36735186e-02]],\n",
       " \n",
       "         [[-4.88896739e+00],\n",
       "          [-2.41591098e+00],\n",
       "          [-6.41569217e+00],\n",
       "          ...,\n",
       "          [-2.85393034e+00],\n",
       "          [-4.83151337e+00],\n",
       "          [-7.77971823e-01]],\n",
       " \n",
       "         [[-1.56679709e+01],\n",
       "          [-7.86237053e+00],\n",
       "          [-2.17378948e+01],\n",
       "          ...,\n",
       "          [-9.26827288e+00],\n",
       "          [-1.54488797e+01],\n",
       "          [-2.79205981e+00]],\n",
       " \n",
       "         ...,\n",
       " \n",
       "         [[ 1.07599550e+00],\n",
       "          [ 1.57639045e+00],\n",
       "          [ 4.70203284e+00],\n",
       "          ...,\n",
       "          [-5.55525611e-01],\n",
       "          [-9.82330537e-01],\n",
       "          [-4.52126820e-01]],\n",
       " \n",
       "         [[-1.85363398e+00],\n",
       "          [-1.93742792e+00],\n",
       "          [ 5.62805265e+00],\n",
       "          ...,\n",
       "          [-4.49655353e+00],\n",
       "          [ 7.65708912e-01],\n",
       "          [-4.75496891e+00]],\n",
       " \n",
       "         [[-4.04395305e+00],\n",
       "          [-6.89757871e+00],\n",
       "          [ 4.76192119e+00],\n",
       "          ...,\n",
       "          [-5.81379840e+00],\n",
       "          [ 9.65949096e-01],\n",
       "          [-6.09121310e+00]]]]), [array([[1., 0.],\n",
       "         [1., 0.],\n",
       "         [1., 0.],\n",
       "         ...,\n",
       "         [1., 0.],\n",
       "         [1., 0.],\n",
       "         [1., 0.]], dtype=float32), array([[1., 0., 0., ..., 0., 0., 0.],\n",
       "         [1., 0., 0., ..., 0., 0., 0.],\n",
       "         [1., 0., 0., ..., 0., 0., 0.],\n",
       "         ...,\n",
       "         [1., 0., 0., ..., 0., 0., 0.],\n",
       "         [1., 0., 0., ..., 0., 0., 0.],\n",
       "         [1., 0., 0., ..., 0., 0., 0.]], dtype=float32)])"
      ]
     },
     "execution_count": 8,
     "metadata": {},
     "output_type": "execute_result"
    }
   ],
   "source": [
    "test_edg[0]"
   ]
  },
  {
   "cell_type": "code",
   "execution_count": 9,
   "metadata": {},
   "outputs": [],
   "source": [
    "pred = model.predict_generator(test_edg)"
   ]
  },
  {
   "cell_type": "code",
   "execution_count": 10,
   "metadata": {},
   "outputs": [
    {
     "data": {
      "text/plain": [
       "55345"
      ]
     },
     "execution_count": 10,
     "metadata": {},
     "output_type": "execute_result"
    }
   ],
   "source": [
    "len(pred[0])"
   ]
  },
  {
   "cell_type": "code",
   "execution_count": 11,
   "metadata": {},
   "outputs": [],
   "source": [
    "seiz_pred = pred[0]"
   ]
  },
  {
   "cell_type": "code",
   "execution_count": 12,
   "metadata": {},
   "outputs": [],
   "source": [
    "from sklearn.metrics import classification_report"
   ]
  },
  {
   "cell_type": "code",
   "execution_count": 13,
   "metadata": {},
   "outputs": [
    {
     "data": {
      "text/plain": [
       "array([0.5381996 , 0.46180043], dtype=float32)"
      ]
     },
     "execution_count": 13,
     "metadata": {},
     "output_type": "execute_result"
    }
   ],
   "source": [
    "seiz_pred[0]"
   ]
  },
  {
   "cell_type": "code",
   "execution_count": 20,
   "metadata": {},
   "outputs": [],
   "source": [
    "sens = []\n",
    "spec = []\n",
    "\n",
    "for i in range(1000):\n",
    "    clr = classification_report(test_seizure_labels, seiz_pred[:,0]<(i*1.0/1000), output_dict=True)\n",
    "    spec.append(clr['False'][\"recall\"])\n",
    "    sens.append(clr['True'][\"recall\"])    "
   ]
  },
  {
   "cell_type": "code",
   "execution_count": 23,
   "metadata": {},
   "outputs": [
    {
     "data": {
      "text/plain": [
       "[<matplotlib.lines.Line2D at 0x7f0b57cdae48>]"
      ]
     },
     "execution_count": 23,
     "metadata": {},
     "output_type": "execute_result"
    },
    {
     "data": {
      "image/png": "[encoded data removed]",
      "text/plain": [
       "<Figure size 432x288 with 1 Axes>"
      ]
     },
     "metadata": {
      "needs_background": "light"
     },
     "output_type": "display_data"
    }
   ],
   "source": [
    "plt.plot([1 -s for s in spec], sens, )\n",
    "plt.plot((0,1),[0,1])"
   ]
  },
  {
   "cell_type": "code",
   "execution_count": 24,
   "metadata": {},
   "outputs": [],
   "source": [
    "from sklearn.metrics import roc_curve"
   ]
  },
  {
   "cell_type": "code",
   "execution_count": 30,
   "metadata": {},
   "outputs": [],
   "source": [
    "res = roc_curve(test_seizure_labels, seiz_pred[:,1])"
   ]
  },
  {
   "cell_type": "code",
   "execution_count": 40,
   "metadata": {},
   "outputs": [
    {
     "data": {
      "text/plain": [
       "Text(0.5, 1.0, 'AUC-ROC Curve for Random Rescale(1.5) and Random Rearrange')"
      ]
     },
     "execution_count": 40,
     "metadata": {},
     "output_type": "execute_result"
    },
    {
     "data": {
      "image/png": "[encoded data removed]",
      "text/plain": [
       "<Figure size 432x288 with 1 Axes>"
      ]
     },
     "metadata": {
      "needs_background": "light"
     },
     "output_type": "display_data"
    }
   ],
   "source": [
    "plt.plot(res[0], res[1])\n",
    "plt.plot([0,1],[0,1], \"r\")\n",
    "plt.xlabel(\"FPR\")\n",
    "plt.ylabel(\"TPR\")\n",
    "plt.title(\"AUC-ROC Curve for Random Rescale(1.5) and Random Rearrange\")"
   ]
  },
  {
   "cell_type": "code",
   "execution_count": null,
   "metadata": {},
   "outputs": [],
   "source": [
    "model = load_model(\"/n/scratch2/ms994/out/XNOORNSEJYQOHMPI.h5\")"
   ]
  }
 ],
 "metadata": {
  "kernelspec": {
   "display_name": "Python 3",
   "language": "python",
   "name": "python3"
  },
  "language_info": {
   "codemirror_mode": {
    "name": "ipython",
    "version": 3
   },
   "file_extension": ".py",
   "mimetype": "text/x-python",
   "name": "python",
   "nbconvert_exporter": "python",
   "pygments_lexer": "ipython3",
   "version": "3.7.3"
  },
  "toc": {
   "base_numbering": 1,
   "nav_menu": {},
   "number_sections": true,
   "sideBar": true,
   "skip_h1_title": false,
   "title_cell": "Table of Contents",
   "title_sidebar": "Contents",
   "toc_cell": false,
   "toc_position": {},
   "toc_section_display": true,
   "toc_window_display": false
  }
 },
 "nbformat": 4,
 "nbformat_minor": 2
}

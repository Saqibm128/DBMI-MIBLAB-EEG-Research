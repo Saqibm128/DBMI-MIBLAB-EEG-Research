{
 "cells": [
  {
   "cell_type": "markdown",
   "metadata": {},
   "source": [
    "# Imports and setup"
   ]
  },
  {
   "cell_type": "code",
   "execution_count": 1,
   "metadata": {},
   "outputs": [
    {
     "name": "stderr",
     "output_type": "stream",
     "text": [
      "Using Theano backend.\n"
     ]
    }
   ],
   "source": [
    "import sys, os\n",
    "sys.path.append(os.path.realpath(\"..\"))\n",
    "os.environ[\"EEG_ROOT\"] = \"/home/ms994\"\n",
    "import util_funcs\n",
    "from importlib import reload\n",
    "reload(util_funcs)\n",
    "from copy import deepcopy as cp\n",
    "\n",
    "import data_reader as read\n",
    "import pandas as pd\n",
    "import numpy as np\n",
    "import pickle as pkl\n",
    "import matplotlib.pyplot as plt\n",
    "import pywt\n",
    "import tsfresh.feature_extraction.feature_calculators as feats\n",
    "import constants\n",
    "import clinical_text_analysis as cta\n",
    "import tsfresh\n",
    "import ensembleReader as er\n",
    "from sklearn.metrics import roc_auc_score, accuracy_score, confusion_matrix, roc_curve, r2_score\n",
    "from os import path\n",
    "\n",
    "import wf_analysis.datasets as wfdata\n",
    "import wf_analysis.filters as filt\n",
    "from addict import Dict\n",
    "import time\n",
    "import pickle as pkl\n",
    "import tsfresh.feature_extraction.feature_calculators as tsf\n",
    "import pyedflib as edf\n",
    "import seaborn as sns\n",
    "import multiprocessing as mp\n",
    "import numpy.random as random\n",
    "import statsmodels\n",
    "\n",
    "import keras_models.dataGen as dg"
   ]
  },
  {
   "cell_type": "code",
   "execution_count": 14,
   "metadata": {},
   "outputs": [
    {
     "data": {
      "text/plain": [
       "[(1, 6),\n",
       " (6, 10),\n",
       " (16, 14),\n",
       " (4, 12),\n",
       " (14, 18),\n",
       " (10, 12),\n",
       " (20, 13),\n",
       " (0, 11),\n",
       " (10, 3),\n",
       " (5, 1),\n",
       " (18, 0),\n",
       " (2, 18),\n",
       " (12, 8),\n",
       " (20, 4),\n",
       " (16, 5),\n",
       " (18, 1),\n",
       " (1, 9),\n",
       " (12, 19),\n",
       " (3, 7),\n",
       " (9, 11),\n",
       " (19, 7),\n",
       " (13, 10)]"
      ]
     },
     "execution_count": 14,
     "metadata": {},
     "output_type": "execute_result"
    }
   ],
   "source": [
    "[(util_funcs.get_common_channel_names().index(\"EEG {}-REF\".format(montage[:montage.index(\"-\")])), util_funcs.get_common_channel_names().index(\"EEG {}-REF\".format(montage[montage.index(\"-\") + 1:]))) for montage in constants.MONTAGE_COLUMNS]"
   ]
  },
  {
   "cell_type": "code",
   "execution_count": 15,
   "metadata": {},
   "outputs": [
    {
     "data": {
      "text/plain": [
       "21"
      ]
     },
     "execution_count": 15,
     "metadata": {},
     "output_type": "execute_result"
    }
   ],
   "source": [
    "len(util_funcs.get_common_channel_names())"
   ]
  },
  {
   "cell_type": "code",
   "execution_count": null,
   "metadata": {},
   "outputs": [],
   "source": [
    "reader = read.EdfDataset(\"train\", \"01_tcp_ar\", use_numpy=True, n_process=2)"
   ]
  },
  {
   "cell_type": "markdown",
   "metadata": {},
   "source": [
    "# List of ideas to try out\n",
    "Longer sequences. It appears that human observers are looking at up to 10+ minutes of EEG data at a time, im only doing 4 second windows in isolation.\n",
    "\n",
    "See first with hand engineered FFT and coherence features\n",
    "\n",
    "Also see if i can't include sequences of outputs i.e. t"
   ]
  },
  {
   "cell_type": "markdown",
   "metadata": {},
   "source": [
    "## Try just doing FNSZ and GNSZ seizure types"
   ]
  },
  {
   "cell_type": "code",
   "execution_count": null,
   "metadata": {},
   "outputs": [],
   "source": []
  },
  {
   "cell_type": "markdown",
   "metadata": {},
   "source": [
    "## Long sequence"
   ]
  },
  {
   "cell_type": "markdown",
   "metadata": {},
   "source": [
    "### FFT + Coherence"
   ]
  },
  {
   "cell_type": "code",
   "execution_count": null,
   "metadata": {},
   "outputs": [],
   "source": [
    "fft = read.EdfFFTDatasetTransformer(reader, is_pandas_data=False, freq_bins=constants.FREQ_BANDS, window_size=pd.Timedelta(seconds=0.5), )"
   ]
  },
  {
   "cell_type": "code",
   "execution_count": null,
   "metadata": {},
   "outputs": [],
   "source": [
    "fftData = fft[0][0]"
   ]
  },
  {
   "cell_type": "code",
   "execution_count": null,
   "metadata": {},
   "outputs": [],
   "source": [
    "fftData.shape"
   ]
  },
  {
   "cell_type": "code",
   "execution_count": null,
   "metadata": {},
   "outputs": [],
   "source": [
    "coherenceReader = wfdata.CoherenceTransformer(reader, is_pandas=False)"
   ]
  },
  {
   "cell_type": "markdown",
   "metadata": {},
   "source": [
    "### labels"
   ]
  },
  {
   "cell_type": "code",
   "execution_count": null,
   "metadata": {},
   "outputs": [],
   "source": [
    "%%bash\n",
    "cat /home/ms994/v1.5.0/edf/dev_test/01_tcp_ar/002/00000258/s002_2003_07_21/00000258_s002_t002.lbl"
   ]
  },
  {
   "cell_type": "code",
   "execution_count": null,
   "metadata": {},
   "outputs": [],
   "source": [
    "fn = \"/home/ms994/v1.5.0/edf/dev_test/01_tcp_ar/002/00000258/s002_2003_07_21/00000258_s002_t002.edf\"\n",
    "fn[:-4]+\".lbl\"\n"
   ]
  },
  {
   "cell_type": "markdown",
   "metadata": {},
   "source": [
    "##### TODO\n",
    "check that each lbl file has only one level\n",
    "check that each lbl file is consistent with the tse file"
   ]
  },
  {
   "cell_type": "code",
   "execution_count": null,
   "metadata": {},
   "outputs": [],
   "source": [
    "fn = \"/home/ms994/v1.5.0/edf/dev_test/01_tcp_ar/002/00000258/s002_2003_07_21/00000258_s002_t002.lbl\"\n",
    "def get_per_channel_annotation(fn):\n",
    "    with open(fn, \"rb\") as  open_label_file:\n",
    "        output = open_label_file.readlines()\n",
    "    montage_channel_dict = {}\n",
    "    start_montage_channel_assign = False\n",
    "    symbols = [None]\n",
    "    symbols_list = []\n",
    "    full_list = []\n",
    "    for line in output:\n",
    "        if \"montage = 0\" in str(line):\n",
    "            start_montage_channel_assign = True\n",
    "        if start_montage_channel_assign:\n",
    "            if b'\\n' == (line):\n",
    "                start_montage_channel_assign = False\n",
    "            else:\n",
    "                montage_channel_dict[int(line[10:str(line).index(',') - 2])] = (line[str(line).index(','):str(line).index(':') - 2]).decode(\"utf-8\") \n",
    "        elif \"symbols[0]\" in str(line):\n",
    "            #since we are using weird pseudocode, run the string through exec and get the symbols variable out\n",
    "            exec(line.decode(\"utf8\"))\n",
    "            symbols_dict = symbols\n",
    "            symbols_list = [symbols_dict[0][i] for i in range(len(symbols[0].keys()))]\n",
    "    #         print(symbols_list)\n",
    "        elif \"label =\" in str(line):\n",
    "#             print(line.decode(\"utf8\").replace(\"{\", \"[\").replace(\"}\", \"]\"))\n",
    "            #since we are using weird pseudocode, run the string through exec and get the label variable out\n",
    "            label = eval(line.decode(\"utf8\").replace(\"{\", \"[\").replace(\"}\", \"]\")[7:])\n",
    "            \n",
    "            curr_level = label[0]\n",
    "            curr_sublevel = label[1]\n",
    "            curr_start = label[2]\n",
    "            curr_end = label[3]\n",
    "            curr_mont_num = label[4]\n",
    "            curr_channel = montage_channel_dict[int(curr_mont_num)]\n",
    "            curr_label_probs = label[5]\n",
    "            curr_vals = pd.Series([curr_level, curr_sublevel, curr_start, curr_end, curr_channel, *curr_label_probs], index=[\"level\", \"sublevel\", \"start\", \"end\", \"channel\", *symbols_list])\n",
    "            full_list.append(curr_vals)\n",
    "#             del label\n",
    "\n",
    "\n",
    "    return pd.concat(full_list, axis=1).T"
   ]
  },
  {
   "cell_type": "code",
   "execution_count": null,
   "metadata": {},
   "outputs": [],
   "source": [
    "data = get_per_channel_annotation(fn)\n",
    "data"
   ]
  },
  {
   "cell_type": "code",
   "execution_count": null,
   "metadata": {},
   "outputs": [],
   "source": [
    "def gen_seizure_channel_labels(fn, width=pd.Timedelta(seconds=0.5)):\n",
    "    data = get_per_channel_annotation(fn)\n",
    "    max_time = pd.Timedelta(seconds=int(data.end.max()))\n",
    "    index = pd.timedelta_range(start=pd.Timedelta(0), end=max_time, freq=width)\n",
    "    columns = data.channel.unique()\n",
    "    expanded_is_seizure = pd.DataFrame(index=index, columns=columns).fillna(0)\n",
    "    for i, row in data.iterrows():\n",
    "        expanded_is_seizure.loc[pd.Timedelta(seconds=row.start):pd.Timedelta(seconds=row.end), row.channel] = 1 - row.bckg\n",
    "    return expanded_is_seizure"
   ]
  },
  {
   "cell_type": "code",
   "execution_count": null,
   "metadata": {},
   "outputs": [],
   "source": [
    "edf_files = read.get_all_token_file_names(\"train\", \"01_tcp_ar\")\n",
    "reload(read)\n",
    "lbl_files = [read.get_associated_lbl(fn) for fn in edf_files]"
   ]
  },
  {
   "cell_type": "code",
   "execution_count": null,
   "metadata": {},
   "outputs": [],
   "source": [
    "all_channels = set()\n",
    "len_channels = set()\n",
    "for lbl_fn in lbl_files:\n",
    "    all_channels = all_channels.union(read.get_per_channel_annotation(lbl_fn).channel.unique())\n",
    "    len_channels.add(len(read.get_per_channel_annotation(lbl_fn).channel.unique()))"
   ]
  },
  {
   "cell_type": "code",
   "execution_count": null,
   "metadata": {},
   "outputs": [],
   "source": [
    "edf_files = read.get_all_token_file_names(\"dev_test\", \"01_tcp_ar\")\n",
    "reload(read)\n",
    "lbl_files = [read.get_associated_lbl(fn) for fn in edf_files]\n",
    "for lbl_fn in lbl_files:\n",
    "    all_channels = all_channels.union(read.get_per_channel_annotation(lbl_fn).channel.unique())\n",
    "    len_channels.add(len(read.get_per_channel_annotation(lbl_fn).channel.unique()))"
   ]
  },
  {
   "cell_type": "code",
   "execution_count": null,
   "metadata": {},
   "outputs": [],
   "source": [
    "list(all_channels)"
   ]
  },
  {
   "cell_type": "code",
   "execution_count": null,
   "metadata": {},
   "outputs": [],
   "source": [
    "list(len_channels)"
   ]
  },
  {
   "cell_type": "code",
   "execution_count": null,
   "metadata": {},
   "outputs": [],
   "source": [
    "util_funcs.get_common_channel_names()"
   ]
  },
  {
   "cell_type": "code",
   "execution_count": null,
   "metadata": {},
   "outputs": [],
   "source": [
    "gen_seizure_channel_labels(fn).columns"
   ]
  },
  {
   "cell_type": "code",
   "execution_count": null,
   "metadata": {},
   "outputs": [],
   "source": [
    "data_x = reader[0][0]"
   ]
  },
  {
   "cell_type": "code",
   "execution_count": null,
   "metadata": {},
   "outputs": [],
   "source": [
    "constants.COMMON_DELTA"
   ]
  },
  {
   "cell_type": "markdown",
   "metadata": {},
   "source": [
    "### Data Binning"
   ]
  },
  {
   "cell_type": "code",
   "execution_count": null,
   "metadata": {},
   "outputs": [],
   "source": [
    "def time_distribute_x(data_x, width=pd.Timedelta(seconds=4), stride=pd.Timedelta(seconds=1)):\n",
    "    time_steps = []\n",
    "    literal_width = int(width/pd.Timedelta(seconds=constants.COMMON_DELTA))\n",
    "    literal_stride = int(stride/pd.Timedelta(seconds=constants.COMMON_DELTA))\n",
    "    for i in range(int(data_x.shape[0]/literal_stride - width/stride)):\n",
    "        time_steps.append(data_x[i*literal_stride:(i) * literal_stride + literal_width])\n",
    "    time_steps = np.array(time_steps)\n",
    "    return time_steps"
   ]
  },
  {
   "cell_type": "code",
   "execution_count": null,
   "metadata": {},
   "outputs": [],
   "source": [
    "time_distribute_x(data_x).shape"
   ]
  },
  {
   "cell_type": "code",
   "execution_count": null,
   "metadata": {},
   "outputs": [],
   "source": [
    "len(reader.edf_tokens)"
   ]
  },
  {
   "cell_type": "code",
   "execution_count": null,
   "metadata": {},
   "outputs": [],
   "source": [
    "modify_self()"
   ]
  },
  {
   "cell_type": "code",
   "execution_count": null,
   "metadata": {},
   "outputs": [],
   "source": [
    "class LSTMDataset(util_funcs.MultiProcessingDataset):\n",
    "    def __init__(self, reader, width=pd.Timedelta(seconds=4), stride=pd.Timedelta(seconds=2)):\n",
    "        self.width = width\n",
    "        self.stride = stride\n",
    "        self.reader = reader\n",
    "    def __len__(self):\n",
    "        return len(self.reader)\n",
    "    def __getitem__(self, i):\n",
    "        if self.should_use_mp(i):\n",
    "            return self.getItemSlice(i)\n",
    "        data_x, labels = self.reader[i]\n",
    "        data_x = read.time_distribute_x(data_x, width=self.width, stride=self.stride)\n",
    "        return data_x, read.expand_tse_file_seizure_only(labels, time_period=self.stride).iloc[0:data_x.shape[0]]\n",
    "        "
   ]
  },
  {
   "cell_type": "code",
   "execution_count": null,
   "metadata": {},
   "outputs": [],
   "source": [
    "reload(read)\n",
    "reload(lstm_model)\n",
    "import keras_models.LSTMModels as lstm_model\n",
    "lstm_data = lstm_model.LSTMDataset(reader)"
   ]
  },
  {
   "cell_type": "code",
   "execution_count": null,
   "metadata": {},
   "outputs": [],
   "source": [
    "reader[10][0].shape"
   ]
  },
  {
   "cell_type": "code",
   "execution_count": null,
   "metadata": {},
   "outputs": [],
   "source": [
    "150240/(250)/60"
   ]
  },
  {
   "cell_type": "code",
   "execution_count": null,
   "metadata": {},
   "outputs": [],
   "source": [
    "dp = lstm_data[10]"
   ]
  },
  {
   "cell_type": "code",
   "execution_count": null,
   "metadata": {},
   "outputs": [],
   "source": [
    "dp[0].shape"
   ]
  },
  {
   "cell_type": "code",
   "execution_count": null,
   "metadata": {},
   "outputs": [],
   "source": [
    "import sys\n",
    "\n",
    "sys.getsizeof(data[0])"
   ]
  },
  {
   "cell_type": "code",
   "execution_count": null,
   "metadata": {},
   "outputs": [],
   "source": [
    "stride = lstm_data.stride\n",
    "labels = reader[0][1]\n",
    "index = pd.timedelta_range(start=pd.Timedelta(0), end=pd.Timedelta(seconds=labels.end.max()), freq=stride)\n"
   ]
  },
  {
   "cell_type": "code",
   "execution_count": null,
   "metadata": {},
   "outputs": [],
   "source": [
    "reload(read)\n",
    "seiz_series = read.expand_tse_file_seizure_only(labels)"
   ]
  },
  {
   "cell_type": "markdown",
   "metadata": {},
   "source": [
    "# CNN + LSTM"
   ]
  },
  {
   "cell_type": "code",
   "execution_count": null,
   "metadata": {},
   "outputs": [],
   "source": [
    "from keras import optimizers\n",
    "from keras.layers import Masking, Dense, TimeDistributed, Input, Reshape, Dropout, LSTM, Flatten, MaxPool2D, Concatenate, CuDNNLSTM, Conv2D, BatchNormalization\n",
    "from keras.models import Model, load_model\n",
    "from keras.utils import multi_gpu_model"
   ]
  },
  {
   "cell_type": "code",
   "execution_count": null,
   "metadata": {},
   "outputs": [],
   "source": [
    "x = Input(shape=(None, 1000, 21, 1))\n",
    "y = x\n",
    "# y = Masking(edg.mask_value)(y)\n",
    "for i in range(6):\n",
    "    y = TimeDistributed(BatchNormalization())(y)\n",
    "    y = TimeDistributed(Conv2D(1, (4,4), activation=\"relu\"))(y)\n",
    "    y = TimeDistributed(MaxPool2D((2,1)))(y)\n",
    "y = Reshape((-1, y.shape[2].value * y.shape[3].value * y.shape[4].value))(y)\n",
    "y = CuDNNLSTM(y.shape[-1].value, return_sequences=True)(y)\n",
    "for i in range(1):\n",
    "    y = TimeDistributed(Dense(y.shape[-1].value, activation=\"relu\"))(y)\n",
    "    y = TimeDistributed(Dropout(0.5))(y)\n",
    "y = TimeDistributed(Dense(2, activation=\"relu\"))(y)\n",
    "y = Reshape((-1, 2, 1))(y)\n",
    "\n",
    "\n",
    "model = Model(inputs=x, outputs=[y])\n",
    "model.summary()"
   ]
  },
  {
   "cell_type": "code",
   "execution_count": null,
   "metadata": {},
   "outputs": [],
   "source": [
    "lstm_data[10][0].shape"
   ]
  },
  {
   "cell_type": "code",
   "execution_count": null,
   "metadata": {},
   "outputs": [],
   "source": [
    "lstm_data.use_mp = False"
   ]
  },
  {
   "cell_type": "code",
   "execution_count": null,
   "metadata": {},
   "outputs": [],
   "source": [
    "reload(dg)\n",
    "edg = dg.EdfDataGenerator(lstm_data, batch_size=16, n_classes=2, class_type=\"custom\")\n",
    "edg.transform_y = lambda ys: dg.three_dim_pad([y.values for y in ys], mask_value=edg.mask_value)"
   ]
  },
  {
   "cell_type": "code",
   "execution_count": null,
   "metadata": {},
   "outputs": [],
   "source": [
    "batch_1 = edg[0]"
   ]
  },
  {
   "cell_type": "code",
   "execution_count": null,
   "metadata": {},
   "outputs": [],
   "source": [
    "edg[0]"
   ]
  },
  {
   "cell_type": "code",
   "execution_count": null,
   "metadata": {},
   "outputs": [],
   "source": [
    "model.compile(\"adam\", loss=\"binary_crossentropy\")\n",
    "history = model.fit_generator(edg, steps_per_epoch=100, use_multiprocessing=True, workers=5, max_queue_size=4)"
   ]
  },
  {
   "cell_type": "code",
   "execution_count": null,
   "metadata": {},
   "outputs": [],
   "source": [
    "history.history"
   ]
  },
  {
   "cell_type": "code",
   "execution_count": null,
   "metadata": {},
   "outputs": [],
   "source": [
    "batch = edg[0]"
   ]
  },
  {
   "cell_type": "code",
   "execution_count": null,
   "metadata": {},
   "outputs": [],
   "source": [
    "lstm_data[1613][1].shape"
   ]
  },
  {
   "cell_type": "code",
   "execution_count": null,
   "metadata": {},
   "outputs": [],
   "source": [
    "batch[1].shape"
   ]
  },
  {
   "cell_type": "markdown",
   "metadata": {},
   "source": [
    "# Try doing some hand engineered features"
   ]
  },
  {
   "cell_type": "markdown",
   "metadata": {},
   "source": [
    "## Try pulling debug data and doing the hand-engineered features"
   ]
  },
  {
   "cell_type": "code",
   "execution_count": null,
   "metadata": {},
   "outputs": [],
   "source": [
    "debug_train = pkl.load(open(\"/home/ms994/debug_train_multiple_labels_seizure_data_4.pkl\", \"rb\"))"
   ]
  },
  {
   "cell_type": "code",
   "execution_count": null,
   "metadata": {},
   "outputs": [],
   "source": [
    "debug_train[0]"
   ]
  },
  {
   "cell_type": "code",
   "execution_count": null,
   "metadata": {},
   "outputs": [],
   "source": [
    "fftData = read.EdfFFTDatasetTransformer(debug_train, is_tuple_data=True, is_pandas_data=False, freq_bins=constants.FREQ_BANDS, window_size=pd.Timedelta(seconds=0.5), )"
   ]
  },
  {
   "cell_type": "code",
   "execution_count": null,
   "metadata": {},
   "outputs": [],
   "source": [
    "fftData[10].transpose((1, 0,2)).shape"
   ]
  },
  {
   "cell_type": "code",
   "execution_count": null,
   "metadata": {},
   "outputs": [],
   "source": [
    "fftData[0]."
   ]
  },
  {
   "cell_type": "code",
   "execution_count": null,
   "metadata": {},
   "outputs": [],
   "source": [
    "coherData.edfRawData[0][0].shape"
   ]
  },
  {
   "cell_type": "code",
   "execution_count": null,
   "metadata": {},
   "outputs": [],
   "source": [
    "reload(wfdata)\n",
    "coherData = wfdata.CoherenceTransformer(debug_train, is_pandas=False, is_tuple_data=True, average_coherence=False, coherence_bin=pd.Timedelta(seconds=0.5))"
   ]
  },
  {
   "cell_type": "code",
   "execution_count": null,
   "metadata": {},
   "outputs": [],
   "source": [
    "np.hstack([coherData[10][0], fftData[10][0].transpose((1, 0,2)).reshape((8, 21*4))]).shape"
   ]
  },
  {
   "cell_type": "code",
   "execution_count": null,
   "metadata": {},
   "outputs": [],
   "source": [
    "from scipy.signal import coherence"
   ]
  },
  {
   "cell_type": "code",
   "execution_count": null,
   "metadata": {},
   "outputs": [],
   "source": [
    "coherence(coherData.edfRawData[10][0][0:500,0], coherData.edfRawData[10][0][0:500,2])[1]"
   ]
  },
  {
   "cell_type": "code",
   "execution_count": null,
   "metadata": {},
   "outputs": [],
   "source": [
    "plt.subplot(2,1,1)\n",
    "plt.plot(coherData.edfRawData[10][0][0:250,0])\n",
    "plt.subplot(2,1,2)\n",
    "\n",
    "plt.plot(coherData.edfRawData[10][0][0:250,1])\n"
   ]
  },
  {
   "cell_type": "code",
   "execution_count": null,
   "metadata": {},
   "outputs": [],
   "source": [
    "datum"
   ]
  },
  {
   "cell_type": "code",
   "execution_count": null,
   "metadata": {},
   "outputs": [],
   "source": [
    "coherData[0].shape"
   ]
  },
  {
   "cell_type": "code",
   "execution_count": null,
   "metadata": {},
   "outputs": [],
   "source": [
    "fftData[0].shape"
   ]
  },
  {
   "cell_type": "code",
   "execution_count": null,
   "metadata": {},
   "outputs": [],
   "source": [
    "wfdata.ConcatenationDataset([fftData, coherData])[1]"
   ]
  },
  {
   "cell_type": "code",
   "execution_count": null,
   "metadata": {},
   "outputs": [],
   "source": [
    "coherData.coherence_bin / pd.Timedelta(seconds=constants.COMMON_DELTA)"
   ]
  },
  {
   "cell_type": "code",
   "execution_count": null,
   "metadata": {},
   "outputs": [],
   "source": [
    "debug_train[0][0].shape"
   ]
  },
  {
   "cell_type": "markdown",
   "metadata": {},
   "source": [
    "# Try to do some analysis on the data we process from the old multilabel script"
   ]
  },
  {
   "cell_type": "code",
   "execution_count": null,
   "metadata": {},
   "outputs": [],
   "source": [
    "import pickle as pkl\n",
    "train_data = pkl.load(open(\"/n/scratch2/ms994/processed_train_multiple_labels_seizure_data_4.pkl\", \"rb\"))\n",
    "valid_data = pkl.load(open(\"/n/scratch2/ms994/processed_valid_multiple_labels_seizure_data_4.pkl\", \"rb\"))\n",
    "test_data = pkl.load(open(\"/n/scratch2/ms994/processed_test_multiple_labels_seizure_data_4.pkl\", \"rb\"))"
   ]
  },
  {
   "cell_type": "code",
   "execution_count": null,
   "metadata": {},
   "outputs": [],
   "source": [
    "train_data[0][0].shape"
   ]
  },
  {
   "cell_type": "code",
   "execution_count": null,
   "metadata": {},
   "outputs": [],
   "source": [
    "from keras import layers\n",
    "from keras import Model\n",
    "from keras import optimizers"
   ]
  },
  {
   "cell_type": "code",
   "execution_count": null,
   "metadata": {},
   "outputs": [],
   "source": [
    "x = layers.Input((8,99))\n",
    "y = x\n",
    "y = layers.TimeDistributed(layers.Dense(100))(y)\n",
    "# y = layers.TimeDistributed(layers.Dropout(0.5))(y)\n",
    "\n",
    "for i in range(2):\n",
    "    y = layers.CuDNNLSTM(100, return_sequences=True)(y)\n",
    "    y = layers.Dropout(0.5)(y)\n",
    "y = layers.CuDNNLSTM(100)(y)\n",
    "for i in range(2):\n",
    "    y = layers.Dense(100, activation=\"relu\")(y)\n",
    "    y = layers.Dropout(0.5)(y)\n",
    "y = layers.Dense(2, activation=\"softmax\")(y)"
   ]
  },
  {
   "cell_type": "code",
   "execution_count": null,
   "metadata": {},
   "outputs": [],
   "source": [
    "model = Model(input=x, outputs=y)"
   ]
  },
  {
   "cell_type": "code",
   "execution_count": null,
   "metadata": {},
   "outputs": [],
   "source": [
    "model.summary()"
   ]
  },
  {
   "cell_type": "code",
   "execution_count": null,
   "metadata": {},
   "outputs": [],
   "source": [
    "train_data_x = [datum[0] for datum in train_data]\n",
    "train_data_y = [datum[1][0] for datum in train_data]"
   ]
  },
  {
   "cell_type": "code",
   "execution_count": null,
   "metadata": {},
   "outputs": [],
   "source": [
    "valid_data_x = [datum[0] for datum in valid_data]\n",
    "valid_data_y = [datum[1][0] for datum in valid_data]"
   ]
  },
  {
   "cell_type": "code",
   "execution_count": null,
   "metadata": {},
   "outputs": [],
   "source": [
    "test_data_x = [datum[0] for datum in test_data]\n",
    "test_data_y = [datum[1][0] for datum in test_data]"
   ]
  },
  {
   "cell_type": "code",
   "execution_count": null,
   "metadata": {},
   "outputs": [],
   "source": [
    "from keras_models.metrics import f1"
   ]
  },
  {
   "cell_type": "code",
   "execution_count": null,
   "metadata": {},
   "outputs": [],
   "source": [
    "model.compile(optimizers.Adam(0.0005), loss=\"categorical_crossentropy\", metrics=[\"binary_accuracy\", f1])"
   ]
  },
  {
   "cell_type": "code",
   "execution_count": null,
   "metadata": {},
   "outputs": [],
   "source": [
    "import tensorflow as tf\n",
    "tf.test.is_gpu_available() # True/False"
   ]
  },
  {
   "cell_type": "code",
   "execution_count": null,
   "metadata": {},
   "outputs": [],
   "source": [
    "train_data_y[0]"
   ]
  },
  {
   "cell_type": "code",
   "execution_count": null,
   "metadata": {},
   "outputs": [],
   "source": [
    "from keras.utils import to_categorical"
   ]
  },
  {
   "cell_type": "code",
   "execution_count": null,
   "metadata": {},
   "outputs": [],
   "source": [
    "reload(dg)\n",
    "hand_eng_edg = dg.HackDataGenNoChannels(dg.RULEdfDataGenerator(train_data_x, labels=train_data_y, n_classes=2, xy_tuple_form=False, separate_x_y=True, precache=True, batch_size=128))\n",
    "hand_eng_valid_edg = dg.HackDataGenNoChannels(dg.RULEdfDataGenerator(valid_data_x, labels=valid_data_y, n_classes=2, xy_tuple_form=False, separate_x_y=True, precache=True, batch_size=128))\n",
    "hand_eng_test_edg = dg.HackDataGenNoChannels(dg.EdfDataGenerator(test_data_x, labels=test_data_y, n_classes=2, xy_tuple_form=False, separate_x_y=True, precache=True, batch_size=128))\n"
   ]
  },
  {
   "cell_type": "code",
   "execution_count": null,
   "metadata": {},
   "outputs": [],
   "source": [
    "valid_edg[0][0].shape"
   ]
  },
  {
   "cell_type": "code",
   "execution_count": null,
   "metadata": {},
   "outputs": [],
   "source": [
    "from keras.callbacks import ModelCheckpoint, EarlyStopping"
   ]
  },
  {
   "cell_type": "code",
   "execution_count": null,
   "metadata": {},
   "outputs": [],
   "source": [
    "edg.datagenObj.dataset"
   ]
  },
  {
   "cell_type": "code",
   "execution_count": null,
   "metadata": {},
   "outputs": [],
   "source": [
    "history = model.fit_generator(edg, validation_data=valid_edg, steps_per_epoch=len(edg), callbacks=[ModelCheckpoint(\"lstm_test.h5\", save_best_only=True, ), EarlyStopping(patience=5)], epochs=100)"
   ]
  },
  {
   "cell_type": "code",
   "execution_count": null,
   "metadata": {},
   "outputs": [],
   "source": [
    "from keras.models import load_model"
   ]
  },
  {
   "cell_type": "code",
   "execution_count": null,
   "metadata": {},
   "outputs": [],
   "source": [
    "model = load_model(\"lstm_test.h5\", compile=False)"
   ]
  },
  {
   "cell_type": "code",
   "execution_count": null,
   "metadata": {},
   "outputs": [],
   "source": [
    "prediction = model.predict(np.array(test_data_x))"
   ]
  },
  {
   "cell_type": "code",
   "execution_count": null,
   "metadata": {},
   "outputs": [],
   "source": [
    "argMaxPred = prediction.argmax(-1)"
   ]
  },
  {
   "cell_type": "code",
   "execution_count": null,
   "metadata": {},
   "outputs": [],
   "source": [
    "from sklearn.metrics import f1_score, roc_auc_score, classification_report, log_loss"
   ]
  },
  {
   "cell_type": "code",
   "execution_count": null,
   "metadata": {},
   "outputs": [],
   "source": [
    "print(classification_report(argMaxPred, test_data_y))"
   ]
  },
  {
   "cell_type": "code",
   "execution_count": null,
   "metadata": {},
   "outputs": [],
   "source": [
    "history.history"
   ]
  },
  {
   "cell_type": "markdown",
   "metadata": {},
   "source": [
    "# try raw data and hand engineered stuff together???"
   ]
  },
  {
   "cell_type": "code",
   "execution_count": null,
   "metadata": {},
   "outputs": [],
   "source": [
    "# raw_train_data = pkl.load(open(\"/n/scratch2/ms994/train_multiple_labels_sessions_montage_seizure_data_4.pkl\", \"rb\"))\n",
    "# raw_valid_data = pkl.load(open(\"/n/scratch2/ms994/valid_multiple_labels_sessions_montage_seizure_data_4.pkl\", \"rb\"))\n",
    "raw_test_data = pkl.load(open(\"/n/scratch2/ms994/test_multiple_labels_sessions_montage_seizure_data_4.pkl\", \"rb\"))"
   ]
  },
  {
   "cell_type": "code",
   "execution_count": null,
   "metadata": {},
   "outputs": [],
   "source": [
    "raw_train_data[0][1]"
   ]
  },
  {
   "cell_type": "code",
   "execution_count": null,
   "metadata": {},
   "outputs": [],
   "source": [
    "len(train_data)"
   ]
  },
  {
   "cell_type": "code",
   "execution_count": null,
   "metadata": {},
   "outputs": [],
   "source": [
    "len(raw_train_data)"
   ]
  },
  {
   "cell_type": "code",
   "execution_count": null,
   "metadata": {},
   "outputs": [],
   "source": [
    "raw_train_y = [datum[1][0] for datum in raw_train_data]"
   ]
  },
  {
   "cell_type": "code",
   "execution_count": null,
   "metadata": {},
   "outputs": [],
   "source": [
    "raw_train_y == train_data_y"
   ]
  },
  {
   "cell_type": "code",
   "execution_count": null,
   "metadata": {},
   "outputs": [],
   "source": [
    "#lstm using the hand engineered features\n",
    "x_hand_engineered = layers.Input((8,99), name=\"hand_engineer_input\")\n",
    "y = x_hand_engineered\n",
    "y = layers.TimeDistributed(layers.Dense(100))(y)\n",
    "# y = layers.TimeDistributed(layers.Dropout(0.5))(y)\n",
    "\n",
    "for i in range(2):\n",
    "    y = layers.CuDNNLSTM(100, return_sequences=True)(y)\n",
    "    y = layers.Dropout(0.5)(y)\n",
    "y = layers.CuDNNLSTM(100)(y)\n",
    "for i in range(2):\n",
    "    y = layers.Dense(100, activation=\"relu\")(y)\n",
    "    y = layers.Dropout(0.5)(y)\n",
    "y_hand_engineered = y"
   ]
  },
  {
   "cell_type": "code",
   "execution_count": null,
   "metadata": {},
   "outputs": [],
   "source": [
    "#cnn for the raw features\n",
    "x_raw = layers.Input((1000, 21, 1), name=\"raw_input\")\n",
    "y = x_raw\n",
    "y = layers.GaussianNoise(1)(y)\n",
    "for i in range(6):\n",
    "    y = layers.BatchNormalization()(y)\n",
    "    y = layers.Convolution2D(4, (4,4), activation=\"relu\")(y)\n",
    "    y = layers.MaxPool2D((2,1))(y)\n",
    "# y = layers.Reshape((y.o))\n",
    "# y = layers.CuDNNLSTM(100)(y)\n",
    "y_raw_output = layers.Flatten()(y)"
   ]
  },
  {
   "cell_type": "code",
   "execution_count": null,
   "metadata": {},
   "outputs": [],
   "source": [
    "y_concatenate = layers.Concatenate()([y_hand_engineered, y_raw_output])"
   ]
  },
  {
   "cell_type": "code",
   "execution_count": null,
   "metadata": {},
   "outputs": [],
   "source": [
    "y = y_concatenate\n",
    "for i in range(3):\n",
    "    y = layers.Dense(100, activation=\"relu\")(y)\n",
    "    y = layers.Dropout(0.5)(y)"
   ]
  },
  {
   "cell_type": "code",
   "execution_count": null,
   "metadata": {},
   "outputs": [],
   "source": [
    "y_seizure = layers.Dense(2, activation=\"softmax\", name=\"seizure\")(y)\n",
    "y_subtype = layers.Dense(len(constants.SEIZURE_SUBTYPES), activation=\"softmax\", name=\"subtype\")(y)"
   ]
  },
  {
   "cell_type": "code",
   "execution_count": null,
   "metadata": {},
   "outputs": [],
   "source": [
    "model = Model(inputs=[x_raw, x_hand_engineered], outputs=[y_seizure, y_subtype])"
   ]
  },
  {
   "cell_type": "code",
   "execution_count": null,
   "metadata": {},
   "outputs": [],
   "source": [
    "model.summary()"
   ]
  },
  {
   "cell_type": "code",
   "execution_count": null,
   "metadata": {},
   "outputs": [],
   "source": [
    "model.compile(optimizer=optimizers.Adam(0.0005), loss=[\"categorical_crossentropy\", \"categorical_crossentropy\"], loss_weights=[1,1], metrics=[\"categorical_accuracy\", f1])"
   ]
  },
  {
   "cell_type": "code",
   "execution_count": null,
   "metadata": {},
   "outputs": [],
   "source": [
    "def drop_patient(data):\n",
    "    new_data = []\n",
    "    for datum in data:\n",
    "        new_data.append((datum[0], (datum[1][0], datum[1][2])))\n",
    "    return new_data"
   ]
  },
  {
   "cell_type": "code",
   "execution_count": null,
   "metadata": {},
   "outputs": [],
   "source": [
    "drop_patient_train = drop_patient(raw_train_data)\n",
    "drop_patient_valid = drop_patient(raw_valid_data)\n",
    "drop_patient_test = drop_patient(raw_test_data)\n"
   ]
  },
  {
   "cell_type": "code",
   "execution_count": null,
   "metadata": {},
   "outputs": [],
   "source": [
    "raw_train_edg = dg.RULDataGenMultipleLabels(drop_patient_train, labels=([datum[1][0] for datum in drop_patient_train], [datum[1][1] for datum in drop_patient_train]), num_labels=2, n_classes=(2,11), xy_tuple_form=True, precache=True, batch_size=128)\n",
    "raw_valid_edg = dg.RULDataGenMultipleLabels(drop_patient_valid, labels=([datum[1][0] for datum in drop_patient_valid], [datum[1][1] for datum in drop_patient_valid]), num_labels=2, n_classes=(2,11), xy_tuple_form=True, precache=True, batch_size=128)"
   ]
  },
  {
   "cell_type": "code",
   "execution_count": null,
   "metadata": {},
   "outputs": [],
   "source": [
    "reload(dg)"
   ]
  },
  {
   "cell_type": "code",
   "execution_count": null,
   "metadata": {},
   "outputs": [],
   "source": [
    "rescale_raw_train = dg.RescaleGenerator(raw_train_edg)\n",
    "rescale_raw_valid = dg.RescaleGenerator(raw_valid_edg)"
   ]
  },
  {
   "cell_type": "code",
   "execution_count": null,
   "metadata": {},
   "outputs": [],
   "source": []
  },
  {
   "cell_type": "code",
   "execution_count": null,
   "metadata": {},
   "outputs": [],
   "source": [
    "reload(dg)\n",
    "train_edg = dg.ConcatenateGenerator([rescale_raw_train, hand_eng_edg])\n",
    "valid_edg = dg.ConcatenateGenerator([rescale_raw_valid, hand_eng_valid_edg])"
   ]
  },
  {
   "cell_type": "code",
   "execution_count": null,
   "metadata": {},
   "outputs": [],
   "source": [
    "train_edg[0][0][1].shape"
   ]
  },
  {
   "cell_type": "code",
   "execution_count": null,
   "metadata": {},
   "outputs": [],
   "source": [
    "history = model.fit_generator(train_edg, validation_data=valid_edg, epochs=100, callbacks=[ModelCheckpoint(\"raw_hand_model.h5\", save_best_only=True), EarlyStopping(patience=5)])"
   ]
  },
  {
   "cell_type": "code",
   "execution_count": null,
   "metadata": {},
   "outputs": [],
   "source": [
    "history.history.keys()"
   ]
  },
  {
   "cell_type": "code",
   "execution_count": null,
   "metadata": {},
   "outputs": [],
   "source": [
    "plt.plot(history.history[\"seizure_loss\"])\n",
    "plt.plot(history.history[\"val_seizure_loss\"])\n",
    "plt.legend([\"train\", \"valid\"])"
   ]
  },
  {
   "cell_type": "code",
   "execution_count": null,
   "metadata": {},
   "outputs": [],
   "source": [
    "from keras.models import load_model\n",
    "model = load_model(\"raw_hand_model.h5\", compile=False)"
   ]
  },
  {
   "cell_type": "code",
   "execution_count": null,
   "metadata": {},
   "outputs": [],
   "source": [
    "raw_test_data[0]"
   ]
  },
  {
   "cell_type": "code",
   "execution_count": null,
   "metadata": {},
   "outputs": [],
   "source": [
    "pred = model.predict([np.array([datum[0] for datum in raw_test_data]).reshape((130663, 1000,21,1)), np.array(test_data_x)])"
   ]
  },
  {
   "cell_type": "code",
   "execution_count": null,
   "metadata": {},
   "outputs": [],
   "source": [
    "from sklearn.metrics import f1_score, classification_report"
   ]
  },
  {
   "cell_type": "code",
   "execution_count": null,
   "metadata": {},
   "outputs": [],
   "source": [
    "print(classification_report(test_data_y, pred[0].argmax(-1),))bbb"
   ]
  },
  {
   "cell_type": "code",
   "execution_count": null,
   "metadata": {},
   "outputs": [],
   "source": [
    "pred[0].argmax(-1).shapeb"
   ]
  },
  {
   "cell_type": "markdown",
   "metadata": {},
   "source": [
    "# look at montage"
   ]
  },
  {
   "cell_type": "code",
   "execution_count": 2,
   "metadata": {},
   "outputs": [],
   "source": [
    "data = pkl.load(open(\"/n/scratch2/ms994/valid_multiple_labels_sessions_montage_seizure_data_4.pkl\", \"rb\"))"
   ]
  },
  {
   "cell_type": "code",
   "execution_count": 8,
   "metadata": {},
   "outputs": [],
   "source": [
    "all_equal = [(datum[1][3].iloc[0] == datum[1][3]).all()  for datum in data]"
   ]
  },
  {
   "cell_type": "code",
   "execution_count": 11,
   "metadata": {},
   "outputs": [
    {
     "data": {
      "text/plain": [
       "0.9561379702503263"
      ]
     },
     "execution_count": 11,
     "metadata": {},
     "output_type": "execute_result"
    }
   ],
   "source": [
    "sum(all_equal)/len(all_equal)"
   ]
  },
  {
   "cell_type": "code",
   "execution_count": 12,
   "metadata": {},
   "outputs": [],
   "source": [
    "all_seizure = [(1 == datum[1][3]).all()  for datum in data]"
   ]
  },
  {
   "cell_type": "code",
   "execution_count": 13,
   "metadata": {},
   "outputs": [
    {
     "data": {
      "text/plain": [
       "0.0027009912250093695"
      ]
     },
     "execution_count": 13,
     "metadata": {},
     "output_type": "execute_result"
    }
   ],
   "source": [
    "sum(all_seizure)/len(all_seizure)"
   ]
  },
  {
   "cell_type": "code",
   "execution_count": 14,
   "metadata": {},
   "outputs": [],
   "source": [
    "all_healthy = [(0 == datum[1][3]).all()  for datum in data]"
   ]
  },
  {
   "cell_type": "code",
   "execution_count": 15,
   "metadata": {},
   "outputs": [
    {
     "data": {
      "text/plain": [
       "0.953436979025317"
      ]
     },
     "execution_count": 15,
     "metadata": {},
     "output_type": "execute_result"
    }
   ],
   "source": [
    "sum(all_healthy)/len(all_healthy)"
   ]
  },
  {
   "cell_type": "code",
   "execution_count": 18,
   "metadata": {},
   "outputs": [],
   "source": [
    "partial = [not (datum[1][3].iloc[0] == datum[1][3]).all()  for datum in data]"
   ]
  },
  {
   "cell_type": "code",
   "execution_count": 19,
   "metadata": {},
   "outputs": [
    {
     "data": {
      "text/plain": [
       "0.04386202974967368"
      ]
     },
     "execution_count": 19,
     "metadata": {},
     "output_type": "execute_result"
    }
   ],
   "source": [
    "sum(partial)/len(partial)"
   ]
  },
  {
   "cell_type": "code",
   "execution_count": 21,
   "metadata": {},
   "outputs": [],
   "source": [
    "proportion_seizure = [datum[1][3].sum()/22 for datum in data]"
   ]
  },
  {
   "cell_type": "code",
   "execution_count": 23,
   "metadata": {},
   "outputs": [
    {
     "data": {
      "text/plain": [
       "(array([7.4016e+04, 8.4500e+02, 3.6000e+02, 7.9500e+02, 5.0500e+02,\n",
       "        6.1000e+01, 6.0000e+01, 4.7000e+01, 6.8000e+01, 6.2200e+02]),\n",
       " array([0. , 0.1, 0.2, 0.3, 0.4, 0.5, 0.6, 0.7, 0.8, 0.9, 1. ]),\n",
       " <a list of 10 Patch objects>)"
      ]
     },
     "execution_count": 23,
     "metadata": {},
     "output_type": "execute_result"
    },
    {
     "data": {
      "image/png": "[encoded data removed]",
      "text/plain": [
       "<Figure size 432x288 with 1 Axes>"
      ]
     },
     "metadata": {
      "needs_background": "light"
     },
     "output_type": "display_data"
    }
   ],
   "source": [
    "plt.hist(proportion_seizure, bin)"
   ]
  }
 ],
 "metadata": {
  "kernelspec": {
   "display_name": "Python 3",
   "language": "python",
   "name": "python3"
  },
  "language_info": {
   "codemirror_mode": {
    "name": "ipython",
    "version": 3
   },
   "file_extension": ".py",
   "mimetype": "text/x-python",
   "name": "python",
   "nbconvert_exporter": "python",
   "pygments_lexer": "ipython3",
   "version": "3.7.3"
  },
  "toc": {
   "base_numbering": 1,
   "nav_menu": {},
   "number_sections": true,
   "sideBar": true,
   "skip_h1_title": false,
   "title_cell": "Table of Contents",
   "title_sidebar": "Contents",
   "toc_cell": false,
   "toc_position": {},
   "toc_section_display": true,
   "toc_window_display": true
  }
 },
 "nbformat": 4,
 "nbformat_minor": 2
}

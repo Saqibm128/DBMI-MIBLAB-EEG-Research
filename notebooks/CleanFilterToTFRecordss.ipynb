{
 "cells": [
  {
   "cell_type": "code",
   "execution_count": 1,
   "metadata": {},
   "outputs": [
    {
     "name": "stderr",
     "output_type": "stream",
     "text": [
      "Using TensorFlow backend.\n"
     ]
    }
   ],
   "source": [
    "import sys, os\n",
    "sys.path.append(os.path.realpath(\"..\"))\n",
    "os.environ[\"TF_XLA_FLAGS\"]=\"--tf_xla_cpu_global_jit\"\n",
    "\n",
    "import util_funcs\n",
    "from importlib import reload\n",
    "import data_reader as read\n",
    "import pandas as pd\n",
    "import numpy as np\n",
    "import pickle as pkl\n",
    "import matplotlib.pyplot as plt\n",
    "import constants\n",
    "import ensembleReader as er\n",
    "import clinical_text_analysis as cta\n",
    "import tsfresh\n",
    "from sklearn.metrics import roc_auc_score, accuracy_score, confusion_matrix, roc_curve\n",
    "from os import path\n",
    "# import predictSeizureConvExp as psce\n",
    "import keras_models.dataGen as dg\n",
    "from addict import Dict\n",
    "from pathlib import Path\n",
    "# reload(psce)\n",
    "from keras.utils import multi_gpu_model\n",
    "import keras\n",
    "import keras.optimizers\n",
    "import time\n",
    "from sklearn.metrics import confusion_matrix, roc_auc_score, accuracy_score, log_loss"
   ]
  },
  {
   "cell_type": "code",
   "execution_count": 2,
   "metadata": {},
   "outputs": [],
   "source": [
    "train_data = pkl.load(open(\"/n/scratch2/ms994/train_multiple_labels_sessions_montage_seizure_data_4.pkl\", \"rb\"))"
   ]
  },
  {
   "cell_type": "code",
   "execution_count": 3,
   "metadata": {},
   "outputs": [],
   "source": [
    "test_data =  pkl.load(open(\"/n/scratch2/ms994/test_multiple_labels_sessions_montage_seizure_data_4.pkl\", \"rb\"))"
   ]
  },
  {
   "cell_type": "code",
   "execution_count": 4,
   "metadata": {},
   "outputs": [],
   "source": [
    "valid_data = pkl.load(open(\"/n/scratch2/ms994/valid_multiple_labels_sessions_montage_seizure_data_4.pkl\", \"rb\"))"
   ]
  },
  {
   "cell_type": "code",
   "execution_count": 5,
   "metadata": {},
   "outputs": [
    {
     "data": {
      "text/plain": [
       "0.08077938064363824"
      ]
     },
     "execution_count": 5,
     "metadata": {},
     "output_type": "execute_result"
    }
   ],
   "source": [
    "sum([train_datum[1][0] for train_datum in train_data])/len(train_data)"
   ]
  },
  {
   "cell_type": "code",
   "execution_count": 6,
   "metadata": {},
   "outputs": [],
   "source": [
    "def patient_func(tkn_file_paths, session_instead_patient):\n",
    "        return [read.parse_edf_token_path_structure(tkn_file_path)[1] + \"/\" + read.parse_edf_token_path_structure(tkn_file_path)[2] for tkn_file_path in tkn_file_paths]"
   ]
  },
  {
   "cell_type": "code",
   "execution_count": 7,
   "metadata": {},
   "outputs": [],
   "source": [
    "seizureInfo = pd.read_csv(\"/home/ms994/dbmi_eeg_clustering/assets/seizures.csv\")"
   ]
  },
  {
   "cell_type": "code",
   "execution_count": 8,
   "metadata": {},
   "outputs": [
    {
     "data": {
      "text/plain": [
       "seizure_type\n",
       "ABSZ      99\n",
       "CPSZ     361\n",
       "FNSZ    1834\n",
       "GNSZ     585\n",
       "MYSZ       3\n",
       "SPSZ      52\n",
       "TCSZ      53\n",
       "TNSZ      68\n",
       "Name: seizure_type, dtype: int64"
      ]
     },
     "execution_count": 8,
     "metadata": {},
     "output_type": "execute_result"
    }
   ],
   "source": [
    "seizureInfo.groupby(\"seizure_type\")[\"seizure_type\"].count() "
   ]
  },
  {
   "cell_type": "markdown",
   "metadata": {},
   "source": [
    "Use the top 3 seizures only, CPSZ, FNSZ, and GNSZ. only include a patient if they are characterized by the seizure or have no seizure in the set. It is either unfair/incorrect/too hard to include the healthy state of patients not in this subpopulation"
   ]
  },
  {
   "cell_type": "code",
   "execution_count": 9,
   "metadata": {},
   "outputs": [],
   "source": [
    "noSeizureFiles = seizureInfo[pd.isnull(seizureInfo.seizure_type)].fn"
   ]
  },
  {
   "cell_type": "code",
   "execution_count": 10,
   "metadata": {},
   "outputs": [],
   "source": [
    "seizurePatientMap = seizureInfo.groupby([\"patient\", \"seizure_type\"])[\"patient\", \"seizure_type\"].count()"
   ]
  },
  {
   "cell_type": "code",
   "execution_count": 11,
   "metadata": {},
   "outputs": [],
   "source": [
    "seizurePatientMap.columns = [\"patient_cnt\", \"seizure_type_cnt\"]"
   ]
  },
  {
   "cell_type": "code",
   "execution_count": 12,
   "metadata": {},
   "outputs": [],
   "source": [
    "seizurePatientMap = seizurePatientMap.reset_index()"
   ]
  },
  {
   "cell_type": "code",
   "execution_count": 13,
   "metadata": {},
   "outputs": [],
   "source": [
    "matchingPatients = seizurePatientMap[seizurePatientMap.seizure_type.isin([\"CPSZ\", \"FNSZ\", \"GNSZ\"])].patient"
   ]
  },
  {
   "cell_type": "code",
   "execution_count": 14,
   "metadata": {},
   "outputs": [],
   "source": [
    "noSeizurepatients = [read.parse_edf_token_path_structure(file)[1] for file in noSeizureFiles]"
   ]
  },
  {
   "cell_type": "code",
   "execution_count": 15,
   "metadata": {},
   "outputs": [],
   "source": [
    "matchingPatients = matchingPatients.apply(lambda a: \"{:08d}\".format(int(a))).tolist()"
   ]
  },
  {
   "cell_type": "code",
   "execution_count": 16,
   "metadata": {},
   "outputs": [],
   "source": [
    "toFilterBy = noSeizurepatients + matchingPatients"
   ]
  },
  {
   "cell_type": "code",
   "execution_count": 17,
   "metadata": {},
   "outputs": [
    {
     "data": {
      "text/plain": [
       "'00000258/s002_2003_07_21'"
      ]
     },
     "execution_count": 17,
     "metadata": {},
     "output_type": "execute_result"
    }
   ],
   "source": [
    "\"{}/{}\".format(read.parse_edf_token_path_structure(noSeizureFiles[0])[1], read.parse_edf_token_path_structure(noSeizureFiles[0])[2])"
   ]
  },
  {
   "cell_type": "code",
   "execution_count": 18,
   "metadata": {},
   "outputs": [
    {
     "data": {
      "text/plain": [
       "False"
      ]
     },
     "execution_count": 18,
     "metadata": {},
     "output_type": "execute_result"
    }
   ],
   "source": [
    "(train_data[0][0].std(axis=0) > 100).any()"
   ]
  },
  {
   "cell_type": "code",
   "execution_count": 19,
   "metadata": {},
   "outputs": [],
   "source": [
    "def update_data(edss,  seizure_classes_to_use=[\"bckg\", \"gnsz\", \"fnsz\", \"cpsz\"], include_seizure_type=True, include_montage_channels=True, remove_outlier_by_std_thresh=100, zero_center_over_time=True, is_eval_set=False):\n",
    "    '''\n",
    "    since we store the full string of the session or the patient instead of the index, we update the data to use the int index\n",
    "    some of the tasks require different datasets and some filtering of the data i.e. only seizure classification or just some of the labels\n",
    "    is_eval_set: for use with valid and test set, since they shouldn't have patients from the train set and therefore predicting for them is wrong\n",
    "    '''\n",
    "\n",
    "    data = [datum[0] for datum in edss]\n",
    "    if is_eval_set:\n",
    "        patient_labels = [0 for i in range(len(edss))]\n",
    "        remove_outlier_by_std_thresh=None\n",
    "    else:\n",
    "        patients = [datum[1][1] for datum in edss]\n",
    "        allPatient = list(set(patients))\n",
    "        patient_labels = [allPatient.index(patient) for patient in patients]\n",
    "    seizure_detection_labels = [datum[1][0] for datum in edss]\n",
    "    if include_seizure_type:\n",
    "        seizure_class_labels = [datum[1][2] for datum in edss]\n",
    "    if include_montage_channels:\n",
    "        montage_channel_labels = [datum[1][3] for datum in edss]\n",
    "    keep_index = [True for i in range(len(data))]\n",
    "    if seizure_classes_to_use is not None:\n",
    "        for i, seizure_class_label in enumerate(seizure_class_labels):\n",
    "            if seizure_detection_labels[i] and constants.SEIZURE_SUBTYPES[seizure_class_label] not in seizure_classes_to_use: #it's a seizure detection class and it should be excluded\n",
    "                keep_index[i] = False\n",
    "    for i, patient_session in enumerate(patients):\n",
    "        if patient_session.split(\"/\")[0] not in toFilterBy:\n",
    "            keep_index[i] = False\n",
    "        \n",
    "\n",
    "    if zero_center_over_time:\n",
    "        for i, datum in enumerate(data):\n",
    "            data[i] = (datum.T - datum.mean(1)).T\n",
    "    if remove_outlier_by_std_thresh is not None:\n",
    "        removed = 0\n",
    "        for i, datum in enumerate(data):\n",
    "            if (np.std(datum, axis=0) > remove_outlier_by_std_thresh).any():\n",
    "                keep_index[i] = False\n",
    "                removed += 1\n",
    "        print(\"We removed {} because unclean by std\".format(removed))\n",
    "\n",
    "\n",
    "    data_to_keep = []\n",
    "    patient_labels_to_keep = []\n",
    "    seizure_detect_to_keep = []\n",
    "    seizure_class_labels_to_keep = []\n",
    "    montage_channel_labels_to_keep = []\n",
    "\n",
    "    for i, should_keep in enumerate(keep_index):\n",
    "        if should_keep:\n",
    "            data_to_keep.append(data[i])\n",
    "            patient_labels_to_keep.append(patient_labels[i])\n",
    "            seizure_detect_to_keep.append(seizure_detection_labels[i])\n",
    "            if include_montage_channels:\n",
    "                montage_channel_labels_to_keep.append(montage_channel_labels[i])\n",
    "            if include_seizure_type:\n",
    "                seizure_class_labels_to_keep.append(seizure_class_labels[i])\n",
    "    return [(data_to_keep[i], (seizure_detect_to_keep[i], patient_labels_to_keep[i], seizure_class_labels_to_keep[i], montage_channel_labels_to_keep[i].values)) for i in range(len(data_to_keep))], seizure_detect_to_keep, patient_labels_to_keep, seizure_class_labels_to_keep, montage_channel_labels_to_keep"
   ]
  },
  {
   "cell_type": "code",
   "execution_count": 20,
   "metadata": {},
   "outputs": [
    {
     "data": {
      "text/plain": [
       "['bckg',\n",
       " 'fnsz',\n",
       " 'gnsz',\n",
       " 'spsz',\n",
       " 'cpsz',\n",
       " 'absz',\n",
       " 'tnsz',\n",
       " 'cnsz',\n",
       " 'tcsz',\n",
       " 'atsz',\n",
       " 'mysz']"
      ]
     },
     "execution_count": 20,
     "metadata": {},
     "output_type": "execute_result"
    }
   ],
   "source": [
    "constants.SEIZURE_SUBTYPES"
   ]
  },
  {
   "cell_type": "code",
   "execution_count": 21,
   "metadata": {},
   "outputs": [
    {
     "name": "stdout",
     "output_type": "stream",
     "text": [
      "We removed 32959 because unclean by std\n"
     ]
    }
   ],
   "source": [
    "train_data = update_data(train_data)"
   ]
  },
  {
   "cell_type": "code",
   "execution_count": 22,
   "metadata": {},
   "outputs": [
    {
     "data": {
      "text/plain": [
       "15389"
      ]
     },
     "execution_count": 22,
     "metadata": {},
     "output_type": "execute_result"
    }
   ],
   "source": [
    "sum(train_data[1])"
   ]
  },
  {
   "cell_type": "code",
   "execution_count": 23,
   "metadata": {},
   "outputs": [],
   "source": [
    "train_data = train_data[0]"
   ]
  },
  {
   "cell_type": "code",
   "execution_count": 24,
   "metadata": {},
   "outputs": [
    {
     "data": {
      "text/plain": [
       "15389"
      ]
     },
     "execution_count": 24,
     "metadata": {},
     "output_type": "execute_result"
    }
   ],
   "source": [
    "sum([train_datum[1][0] for train_datum in train_data])"
   ]
  },
  {
   "cell_type": "code",
   "execution_count": 25,
   "metadata": {},
   "outputs": [],
   "source": [
    "valid_data = update_data(valid_data, remove_outlier_by_std_thresh=None)\n",
    "test_data = update_data(test_data, remove_outlier_by_std_thresh=None)"
   ]
  },
  {
   "cell_type": "code",
   "execution_count": 26,
   "metadata": {},
   "outputs": [],
   "source": [
    "valid_data = valid_data[0]\n",
    "test_data = test_data[0]"
   ]
  },
  {
   "cell_type": "code",
   "execution_count": 27,
   "metadata": {},
   "outputs": [
    {
     "data": {
      "text/plain": [
       "(4696, 12273)"
      ]
     },
     "execution_count": 27,
     "metadata": {},
     "output_type": "execute_result"
    }
   ],
   "source": [
    "sum([valid_datum[1][0] for valid_datum in valid_data]), sum([test_datum[1][0] for test_datum in test_data])"
   ]
  },
  {
   "cell_type": "code",
   "execution_count": 28,
   "metadata": {},
   "outputs": [],
   "source": [
    "from random import shuffle"
   ]
  },
  {
   "cell_type": "code",
   "execution_count": 29,
   "metadata": {},
   "outputs": [],
   "source": [
    "shuffle(train_data)\n",
    "shuffle(valid_data)\n",
    "shuffle(test_data)"
   ]
  },
  {
   "cell_type": "code",
   "execution_count": 30,
   "metadata": {},
   "outputs": [],
   "source": [
    "import tensorflow as tf\n",
    "# Helperfunctions to make your feature definition more readable\n",
    "def _int64_feature(value):\n",
    "    return tf.train.Feature(int64_list=tf.train.Int64List(value=[value]))\n",
    "\n",
    "def _int64_feature_list(value):\n",
    "    return tf.train.Feature(int64_list=tf.train.Int64List(value=value))\n",
    "# Helperfunctions to make your feature definition more readable\n",
    "def _float_feature(value):\n",
    "    return tf.train.Feature(float_list=tf.train.FloatList(value=[value]))\n",
    "\n",
    "def _float_feature_list(value):\n",
    "    return tf.train.Feature(float_list=tf.train.FloatList(value=value))"
   ]
  },
  {
   "cell_type": "code",
   "execution_count": 31,
   "metadata": {},
   "outputs": [
    {
     "data": {
      "text/plain": [
       "array([0, 0, 0, 0, 0, 0, 0, 0, 0, 0, 0, 0, 0, 0, 0, 0, 0, 0, 0, 0, 0, 0])"
      ]
     },
     "execution_count": 31,
     "metadata": {},
     "output_type": "execute_result"
    }
   ],
   "source": [
    "valid_data[0][1][3].astype(int)"
   ]
  },
  {
   "cell_type": "code",
   "execution_count": 32,
   "metadata": {},
   "outputs": [],
   "source": [
    "is_train = True\n",
    "def parse_datum(datum):\n",
    "    global is_train\n",
    "    xData = datum[0]\n",
    "    yData = datum[1]\n",
    "    \n",
    "    feature = { \\\n",
    "               'data': _float_feature_list(xData.reshape(-1)), \\\n",
    "               'label': _int64_feature_list([yData[0]]), \\\n",
    "               'subtypeLabel': _int64_feature_list([yData[2]]), \\\n",
    "               'session': _int64_feature(yData[1]), \\\n",
    "               'montage': _int64_feature_list(yData[3].astype(int))\n",
    "              }\n",
    "    return tf.train.Example(features=tf.train.Features(feature=feature))\n"
   ]
  },
  {
   "cell_type": "code",
   "execution_count": 34,
   "metadata": {},
   "outputs": [],
   "source": [
    "pkl.dump(train_data, open(\"/n/scratch2/ms994/train_montage_subtype.pkl\", \"wb\"))\n",
    "pkl.dump(valid_data, open(\"/n/scratch2/ms994/valid_montage_subtype.pkl\", \"wb\"))\n",
    "pkl.dump(test_data, open(\"/n/scratch2/ms994/test_montage_subtype.pkl\", \"wb\"))"
   ]
  },
  {
   "cell_type": "code",
   "execution_count": 38,
   "metadata": {},
   "outputs": [],
   "source": [
    "def get_gen(dataset):\n",
    "    def gen():\n",
    "        for i in range(len(dataset)):\n",
    "            yield parse_datum(dataset[i]).SerializeToString()\n",
    "    return gen"
   ]
  },
  {
   "cell_type": "code",
   "execution_count": 39,
   "metadata": {},
   "outputs": [],
   "source": [
    "dataset = tf.data.Dataset.from_generator(get_gen(train_data), output_types=tf.string,  output_shapes=(tf.TensorShape([])))"
   ]
  },
  {
   "cell_type": "code",
   "execution_count": 40,
   "metadata": {},
   "outputs": [],
   "source": [
    "\n",
    "dataset = tf.data.Dataset.from_generator(get_gen(train_data), output_types=tf.string,  output_shapes=(tf.TensorShape([])))\n",
    "writer = tf.data.experimental.TFRecordWriter(\"/n/scratch2/ms994/train_4s.tfr\")\n",
    "writer.write(dataset)"
   ]
  },
  {
   "cell_type": "code",
   "execution_count": 41,
   "metadata": {},
   "outputs": [],
   "source": [
    "dataset = tf.data.Dataset.from_generator(get_gen(valid_data), output_types=tf.string,  output_shapes=(tf.TensorShape([])))\n",
    "writer = tf.data.experimental.TFRecordWriter(\"/n/scratch2/ms994/valid_4s.tfr\")\n",
    "writer.write(dataset)"
   ]
  },
  {
   "cell_type": "code",
   "execution_count": 42,
   "metadata": {},
   "outputs": [],
   "source": [
    "dataset = tf.data.Dataset.from_generator(get_gen(test_data), output_types=tf.string,  output_shapes=(tf.TensorShape([])))\n",
    "writer = tf.data.experimental.TFRecordWriter(\"/n/scratch2/ms994/test_4s.tfr\")\n",
    "writer.write(dataset)"
   ]
  },
  {
   "cell_type": "markdown",
   "metadata": {},
   "source": [
    "# try to write an image file down"
   ]
  },
  {
   "cell_type": "code",
   "execution_count": 29,
   "metadata": {},
   "outputs": [],
   "source": [
    "del valid_data\n",
    "del test_data"
   ]
  },
  {
   "cell_type": "code",
   "execution_count": 30,
   "metadata": {},
   "outputs": [],
   "source": [
    "import math as m\n",
    "import numpy as np\n",
    "import scipy.io\n",
    "from scipy.interpolate import griddata\n",
    "from sklearn.preprocessing import scale\n",
    "from functools import reduce\n",
    "def gen_images(locs, features, n_gridpoints=32, normalize=True, edgeless=False):\n",
    "    \"\"\"\n",
    "    Generates EEG images given electrode locations in 2D space and multiple feature values for each electrode\n",
    "    :param locs: An array with shape [n_electrodes, 2] containing X, Y\n",
    "                        coordinates for each electrode.\n",
    "    :param features: Feature matrix as [n_samples, n_features]\n",
    "                                Features are as columns.\n",
    "                                Features corresponding to each frequency band are concatenated.\n",
    "                                (alpha1, alpha2, ..., beta1, beta2,...)\n",
    "    :param n_gridpoints: Number of pixels in the output images\n",
    "    :param normalize:   Flag for whether to normalize each band over all samples\n",
    "    :param edgeless:    If True generates edgeless images by adding artificial channels\n",
    "                        at four corners of the image with value = 0 (default=False).\n",
    "    :return:            Tensor of size [samples, colors, W, H] containing generated\n",
    "                        images.\n",
    "    \"\"\"\n",
    "    feat_array_temp = []\n",
    "    nElectrodes = locs.shape[0]     # Number of electrodes\n",
    "    # Test whether the feature vector length is divisible by number of electrodes\n",
    "    assert features.shape[1] % nElectrodes == 0\n",
    "    n_colors = features.shape[1] // nElectrodes\n",
    "    for c in range(n_colors):\n",
    "        feat_array_temp.append(features[:, c * nElectrodes : nElectrodes * (c+1)])  # features.shape为[samples, 3*nElectrodes]\n",
    "\n",
    "    nSamples = features.shape[0]    # sample number 2670\n",
    "    # Interpolate the values        # print(np.mgrid[-1:1:5j]) get [-1.  -0.5  0.   0.5  1. ]\n",
    "    grid_x, grid_y = np.mgrid[\n",
    "                     min(locs[:, 0]):max(locs[:, 0]):n_gridpoints*1j,\n",
    "                     min(locs[:, 1]):max(locs[:, 1]):n_gridpoints*1j\n",
    "                     ]\n",
    "    \n",
    "    temp_interp = []\n",
    "    for c in range(n_colors):\n",
    "        temp_interp.append(np.zeros([nSamples, n_gridpoints, n_gridpoints]))\n",
    "\n",
    "    \n",
    "    # Generate edgeless images\n",
    "    if edgeless:\n",
    "        min_x, min_y = np.min(locs, axis=0)\n",
    "        max_x, max_y = np.max(locs, axis=0)\n",
    "        locs = np.append(locs, np.array([[min_x, min_y], [min_x, max_y],[max_x, min_y],[max_x, max_y]]),axis=0)\n",
    "        for c in range(n_colors):\n",
    "            feat_array_temp[c] = np.append(feat_array_temp[c], np.zeros((nSamples, 4)), axis=1)\n",
    "    \n",
    "    # Interpolating\n",
    "    for i in range(nSamples):\n",
    "        for c in range(n_colors):\n",
    "            temp_interp[c][i, :, :] = griddata(locs, feat_array_temp[c][i, :], (grid_x, grid_y),    # cubic\n",
    "                                    method='cubic', fill_value=np.nan)\n",
    "    \n",
    "#     # Normalizing\n",
    "#     for c in range(n_colors):\n",
    "#         if normalize:\n",
    "#             temp_interp[c][~np.isnan(temp_interp[c])] = \\\n",
    "#                 scale(temp_interp[c][~np.isnan(temp_interp[c])])\n",
    "        \n",
    "#         temp_interp[c] = np.nan_to_num(temp_interp[c])\n",
    "        \n",
    "    temp_interp = np.swapaxes(np.asarray(temp_interp), 0, 1)     # swap axes to have [samples, colors, W, H] # WH xy\n",
    "    temp_interp = np.swapaxes(temp_interp, 1, 2)\n",
    "    temp_interp = np.swapaxes(temp_interp, 2, 3)    # [samples, W, H，colors]\n",
    "    return temp_interp\n",
    "def cart2sph(x, y, z):\n",
    "    \"\"\"\n",
    "    Transform Cartesian coordinates to spherical\n",
    "    :param x: X coordinate\n",
    "    :param y: Y coordinate\n",
    "    :param z: Z coordinate\n",
    "    :return: radius, elevation, azimuth\n",
    "    \"\"\"\n",
    "    x2_y2 = x**2 + y**2\n",
    "    r = m.sqrt(x2_y2 + z**2)                    # r     tant^(-1)(y/x)\n",
    "    elev = m.atan2(z, m.sqrt(x2_y2))            # Elevation\n",
    "    az = m.atan2(y, x)                          # Azimuth\n",
    "    return r, elev, az\n",
    "\n",
    "\n",
    "def pol2cart(theta, rho):\n",
    "    \"\"\"\n",
    "    Transform polar coordinates to Cartesian \n",
    "    :param theta: angle value\n",
    "    :param rho: radius value\n",
    "    :return: X, Y\n",
    "    \"\"\"\n",
    "    return rho * m.cos(theta), rho * m.sin(theta)\n",
    "\n",
    "def azim_proj(pos):\n",
    "    \"\"\"\n",
    "    Computes the Azimuthal Equidistant Projection of input point in 3D Cartesian Coordinates.\n",
    "    Imagine a plane being placed against (tangent to) a globe. If\n",
    "    a light source inside the globe projects the graticule onto\n",
    "    the plane the result would be a planar, or azimuthal, map\n",
    "    projection.\n",
    "    :param pos: position in 3D Cartesian coordinates    [x, y, z]\n",
    "    :return: projected coordinates using Azimuthal Equidistant Projection\n",
    "    \"\"\"\n",
    "    [r, elev, az] = cart2sph(pos[0], pos[1], pos[2])\n",
    "    return pol2cart(az, m.pi / 2 - elev)"
   ]
  },
  {
   "cell_type": "code",
   "execution_count": 31,
   "metadata": {},
   "outputs": [],
   "source": [
    "locations = pd.read_csv(\"../assets/3d_positions.csv\")"
   ]
  },
  {
   "cell_type": "code",
   "execution_count": 32,
   "metadata": {},
   "outputs": [],
   "source": [
    "projections = pd.DataFrame(locations[[\"x\", \"y\", \"z\"]].apply(lambda x: azim_proj(x), axis=1).tolist(), columns=[\"x_proj\", \"y_proj\"])"
   ]
  },
  {
   "cell_type": "code",
   "execution_count": 33,
   "metadata": {},
   "outputs": [],
   "source": [
    "projections.loc[:,\"channels\"] = locations.label"
   ]
  },
  {
   "cell_type": "code",
   "execution_count": 34,
   "metadata": {},
   "outputs": [],
   "source": [
    "def gen_image_from_snapshot(snapshot):\n",
    "    return np.nan_to_num(gen_images(projections[[\"x_proj\", \"y_proj\"]].values, snapshot.reshape(1,21),  n_gridpoints=16).reshape((16,16)))"
   ]
  },
  {
   "cell_type": "code",
   "execution_count": 35,
   "metadata": {},
   "outputs": [],
   "source": [
    "xDatum = train_data[0][0]"
   ]
  },
  {
   "cell_type": "code",
   "execution_count": 37,
   "metadata": {},
   "outputs": [
    {
     "data": {
      "text/plain": [
       "(16, 16)"
      ]
     },
     "execution_count": 37,
     "metadata": {},
     "output_type": "execute_result"
    }
   ],
   "source": [
    "gen_image_from_snapshot(xDatum[0]).shape"
   ]
  },
  {
   "cell_type": "code",
   "execution_count": 38,
   "metadata": {},
   "outputs": [],
   "source": []
  },
  {
   "cell_type": "code",
   "execution_count": 47,
   "metadata": {},
   "outputs": [],
   "source": [
    "from multiprocessing import Process, Manager\n",
    "m = Manager()\n",
    "toRunQ = m.Queue()\n",
    "toReturnQ = m.Queue()"
   ]
  },
  {
   "cell_type": "code",
   "execution_count": 48,
   "metadata": {},
   "outputs": [],
   "source": [
    "def transform_xy_to_image(toRunQ, toReturnQ):\n",
    "    for i in iter(toRunQ.get, None):\n",
    "        x, y = train_data[i]\n",
    "        x = np.apply_along_axis(gen_image_from_snapshot, 1, x)\n",
    "        toReturnQ.put((x,y))"
   ]
  },
  {
   "cell_type": "code",
   "execution_count": 49,
   "metadata": {},
   "outputs": [
    {
     "name": "stdout",
     "output_type": "stream",
     "text": [
      "setup\n"
     ]
    }
   ],
   "source": [
    "n_process = 12\n",
    "processes = [Process(target=transform_xy_to_image, args=(toRunQ, toReturnQ)) for i in range(n_process)]\n",
    "[toRunQ.put(i) for i in range(len(train_data))]\n",
    "[toRunQ.put(None) for i in range(n_process)]\n",
    "print(\"setup\")"
   ]
  },
  {
   "cell_type": "code",
   "execution_count": 50,
   "metadata": {},
   "outputs": [
    {
     "data": {
      "text/plain": [
       "[None, None, None, None, None, None, None, None, None, None, None, None]"
      ]
     },
     "execution_count": 50,
     "metadata": {},
     "output_type": "execute_result"
    },
    {
     "name": "stderr",
     "output_type": "stream",
     "text": [
      "Process Process-43:\n",
      "Process Process-46:\n",
      "Process Process-45:\n",
      "Process Process-44:\n",
      "Traceback (most recent call last):\n",
      "Traceback (most recent call last):\n",
      "Traceback (most recent call last):\n",
      "  File \"/home/ms994/miniconda3/envs/keras-redo/lib/python3.7/multiprocessing/process.py\", line 297, in _bootstrap\n",
      "    self.run()\n",
      "Traceback (most recent call last):\n",
      "  File \"/home/ms994/miniconda3/envs/keras-redo/lib/python3.7/multiprocessing/process.py\", line 297, in _bootstrap\n",
      "    self.run()\n",
      "  File \"/home/ms994/miniconda3/envs/keras-redo/lib/python3.7/multiprocessing/process.py\", line 99, in run\n",
      "    self._target(*self._args, **self._kwargs)\n",
      "  File \"/home/ms994/miniconda3/envs/keras-redo/lib/python3.7/multiprocessing/process.py\", line 297, in _bootstrap\n",
      "    self.run()\n",
      "  File \"/home/ms994/miniconda3/envs/keras-redo/lib/python3.7/multiprocessing/process.py\", line 99, in run\n",
      "    self._target(*self._args, **self._kwargs)\n",
      "  File \"<ipython-input-48-9f022432ee96>\", line 5, in transform_xy_to_image\n",
      "    toReturnQ.put((x,y))\n",
      "  File \"<ipython-input-48-9f022432ee96>\", line 5, in transform_xy_to_image\n",
      "    toReturnQ.put((x,y))\n",
      "  File \"/home/ms994/miniconda3/envs/keras-redo/lib/python3.7/multiprocessing/process.py\", line 99, in run\n",
      "    self._target(*self._args, **self._kwargs)\n",
      "  File \"<string>\", line 2, in put\n",
      "  File \"<string>\", line 2, in put\n",
      "  File \"/home/ms994/miniconda3/envs/keras-redo/lib/python3.7/multiprocessing/managers.py\", line 795, in _callmethod\n",
      "    conn.send((self._id, methodname, args, kwds))\n",
      "  File \"<ipython-input-48-9f022432ee96>\", line 5, in transform_xy_to_image\n",
      "    toReturnQ.put((x,y))\n",
      "  File \"/home/ms994/miniconda3/envs/keras-redo/lib/python3.7/multiprocessing/managers.py\", line 795, in _callmethod\n",
      "    conn.send((self._id, methodname, args, kwds))\n",
      "  File \"/home/ms994/miniconda3/envs/keras-redo/lib/python3.7/multiprocessing/connection.py\", line 206, in send\n",
      "    self._send_bytes(_ForkingPickler.dumps(obj))\n",
      "  File \"<string>\", line 2, in put\n",
      "  File \"/home/ms994/miniconda3/envs/keras-redo/lib/python3.7/multiprocessing/connection.py\", line 206, in send\n",
      "    self._send_bytes(_ForkingPickler.dumps(obj))\n",
      "  File \"/home/ms994/miniconda3/envs/keras-redo/lib/python3.7/multiprocessing/connection.py\", line 398, in _send_bytes\n",
      "    self._send(buf)\n",
      "  File \"/home/ms994/miniconda3/envs/keras-redo/lib/python3.7/multiprocessing/managers.py\", line 795, in _callmethod\n",
      "    conn.send((self._id, methodname, args, kwds))\n",
      "  File \"/home/ms994/miniconda3/envs/keras-redo/lib/python3.7/multiprocessing/connection.py\", line 398, in _send_bytes\n",
      "    self._send(buf)\n",
      "  File \"/home/ms994/miniconda3/envs/keras-redo/lib/python3.7/multiprocessing/connection.py\", line 368, in _send\n",
      "    n = write(self._handle, buf)\n",
      "  File \"/home/ms994/miniconda3/envs/keras-redo/lib/python3.7/multiprocessing/connection.py\", line 206, in send\n",
      "    self._send_bytes(_ForkingPickler.dumps(obj))\n",
      "  File \"/home/ms994/miniconda3/envs/keras-redo/lib/python3.7/multiprocessing/connection.py\", line 368, in _send\n",
      "    n = write(self._handle, buf)\n",
      "BrokenPipeError: [Errno 32] Broken pipe\n",
      "BrokenPipeError: [Errno 32] Broken pipe\n",
      "  File \"/home/ms994/miniconda3/envs/keras-redo/lib/python3.7/multiprocessing/process.py\", line 297, in _bootstrap\n",
      "    self.run()\n",
      "  File \"/home/ms994/miniconda3/envs/keras-redo/lib/python3.7/multiprocessing/process.py\", line 99, in run\n",
      "    self._target(*self._args, **self._kwargs)\n",
      "  File \"<ipython-input-48-9f022432ee96>\", line 5, in transform_xy_to_image\n",
      "    toReturnQ.put((x,y))\n",
      "  File \"<string>\", line 2, in put\n",
      "  File \"/home/ms994/miniconda3/envs/keras-redo/lib/python3.7/multiprocessing/managers.py\", line 795, in _callmethod\n",
      "    conn.send((self._id, methodname, args, kwds))\n",
      "  File \"/home/ms994/miniconda3/envs/keras-redo/lib/python3.7/multiprocessing/connection.py\", line 206, in send\n",
      "    self._send_bytes(_ForkingPickler.dumps(obj))\n",
      "  File \"/home/ms994/miniconda3/envs/keras-redo/lib/python3.7/multiprocessing/connection.py\", line 398, in _send_bytes\n",
      "    self._send(buf)\n",
      "  File \"/home/ms994/miniconda3/envs/keras-redo/lib/python3.7/multiprocessing/connection.py\", line 368, in _send\n",
      "    n = write(self._handle, buf)\n",
      "BrokenPipeError: [Errno 32] Broken pipe\n",
      "  File \"/home/ms994/miniconda3/envs/keras-redo/lib/python3.7/multiprocessing/connection.py\", line 398, in _send_bytes\n",
      "    self._send(buf)\n",
      "  File \"/home/ms994/miniconda3/envs/keras-redo/lib/python3.7/multiprocessing/connection.py\", line 368, in _send\n",
      "    n = write(self._handle, buf)\n",
      "BrokenPipeError: [Errno 32] Broken pipe\n",
      "Process Process-48:\n",
      "Process Process-42:\n",
      "Process Process-49:\n",
      "Process Process-50:\n",
      "Process Process-40:\n",
      "Process Process-47:\n",
      "Traceback (most recent call last):\n",
      "  File \"/home/ms994/miniconda3/envs/keras-redo/lib/python3.7/multiprocessing/process.py\", line 297, in _bootstrap\n",
      "    self.run()\n",
      "  File \"/home/ms994/miniconda3/envs/keras-redo/lib/python3.7/multiprocessing/process.py\", line 99, in run\n",
      "    self._target(*self._args, **self._kwargs)\n",
      "  File \"<ipython-input-48-9f022432ee96>\", line 5, in transform_xy_to_image\n",
      "    toReturnQ.put((x,y))\n",
      "  File \"<string>\", line 2, in put\n",
      "  File \"/home/ms994/miniconda3/envs/keras-redo/lib/python3.7/multiprocessing/managers.py\", line 795, in _callmethod\n",
      "    conn.send((self._id, methodname, args, kwds))\n",
      "Traceback (most recent call last):\n",
      "Traceback (most recent call last):\n",
      "Traceback (most recent call last):\n",
      "  File \"/home/ms994/miniconda3/envs/keras-redo/lib/python3.7/multiprocessing/process.py\", line 297, in _bootstrap\n",
      "    self.run()\n",
      "  File \"/home/ms994/miniconda3/envs/keras-redo/lib/python3.7/multiprocessing/process.py\", line 297, in _bootstrap\n",
      "    self.run()\n",
      "  File \"/home/ms994/miniconda3/envs/keras-redo/lib/python3.7/multiprocessing/process.py\", line 297, in _bootstrap\n",
      "    self.run()\n",
      "  File \"/home/ms994/miniconda3/envs/keras-redo/lib/python3.7/multiprocessing/process.py\", line 99, in run\n",
      "    self._target(*self._args, **self._kwargs)\n",
      "  File \"/home/ms994/miniconda3/envs/keras-redo/lib/python3.7/multiprocessing/process.py\", line 99, in run\n",
      "    self._target(*self._args, **self._kwargs)\n",
      "  File \"/home/ms994/miniconda3/envs/keras-redo/lib/python3.7/multiprocessing/process.py\", line 99, in run\n",
      "    self._target(*self._args, **self._kwargs)\n",
      "  File \"<ipython-input-48-9f022432ee96>\", line 5, in transform_xy_to_image\n",
      "    toReturnQ.put((x,y))\n",
      "  File \"<ipython-input-48-9f022432ee96>\", line 5, in transform_xy_to_image\n",
      "    toReturnQ.put((x,y))\n",
      "  File \"<ipython-input-48-9f022432ee96>\", line 5, in transform_xy_to_image\n",
      "    toReturnQ.put((x,y))\n",
      "  File \"<string>\", line 2, in put\n",
      "  File \"<string>\", line 2, in put\n",
      "  File \"<string>\", line 2, in put\n",
      "  File \"/home/ms994/miniconda3/envs/keras-redo/lib/python3.7/multiprocessing/managers.py\", line 795, in _callmethod\n",
      "    conn.send((self._id, methodname, args, kwds))\n",
      "  File \"/home/ms994/miniconda3/envs/keras-redo/lib/python3.7/multiprocessing/managers.py\", line 795, in _callmethod\n",
      "    conn.send((self._id, methodname, args, kwds))\n",
      "  File \"/home/ms994/miniconda3/envs/keras-redo/lib/python3.7/multiprocessing/managers.py\", line 795, in _callmethod\n",
      "    conn.send((self._id, methodname, args, kwds))\n",
      "  File \"/home/ms994/miniconda3/envs/keras-redo/lib/python3.7/multiprocessing/connection.py\", line 206, in send\n",
      "    self._send_bytes(_ForkingPickler.dumps(obj))\n",
      "  File \"/home/ms994/miniconda3/envs/keras-redo/lib/python3.7/multiprocessing/connection.py\", line 206, in send\n",
      "    self._send_bytes(_ForkingPickler.dumps(obj))\n",
      "  File \"/home/ms994/miniconda3/envs/keras-redo/lib/python3.7/multiprocessing/connection.py\", line 206, in send\n",
      "    self._send_bytes(_ForkingPickler.dumps(obj))\n",
      "  File \"/home/ms994/miniconda3/envs/keras-redo/lib/python3.7/multiprocessing/connection.py\", line 398, in _send_bytes\n",
      "    self._send(buf)\n",
      "  File \"/home/ms994/miniconda3/envs/keras-redo/lib/python3.7/multiprocessing/connection.py\", line 398, in _send_bytes\n",
      "    self._send(buf)\n",
      "  File \"/home/ms994/miniconda3/envs/keras-redo/lib/python3.7/multiprocessing/connection.py\", line 398, in _send_bytes\n",
      "    self._send(buf)\n",
      "  File \"/home/ms994/miniconda3/envs/keras-redo/lib/python3.7/multiprocessing/connection.py\", line 368, in _send\n",
      "    n = write(self._handle, buf)\n",
      "Process Process-51:\n",
      "  File \"/home/ms994/miniconda3/envs/keras-redo/lib/python3.7/multiprocessing/connection.py\", line 368, in _send\n",
      "    n = write(self._handle, buf)\n"
     ]
    },
    {
     "name": "stderr",
     "output_type": "stream",
     "text": [
      "BrokenPipeError: [Errno 32] Broken pipe\n",
      "Traceback (most recent call last):\n",
      "Traceback (most recent call last):\n",
      "  File \"/home/ms994/miniconda3/envs/keras-redo/lib/python3.7/multiprocessing/process.py\", line 297, in _bootstrap\n",
      "    self.run()\n",
      "  File \"/home/ms994/miniconda3/envs/keras-redo/lib/python3.7/multiprocessing/process.py\", line 297, in _bootstrap\n",
      "    self.run()\n",
      "  File \"/home/ms994/miniconda3/envs/keras-redo/lib/python3.7/multiprocessing/process.py\", line 99, in run\n",
      "    self._target(*self._args, **self._kwargs)\n",
      "  File \"/home/ms994/miniconda3/envs/keras-redo/lib/python3.7/multiprocessing/process.py\", line 99, in run\n",
      "    self._target(*self._args, **self._kwargs)\n",
      "  File \"<ipython-input-48-9f022432ee96>\", line 5, in transform_xy_to_image\n",
      "    toReturnQ.put((x,y))\n",
      "  File \"<ipython-input-48-9f022432ee96>\", line 5, in transform_xy_to_image\n",
      "    toReturnQ.put((x,y))\n",
      "  File \"<string>\", line 2, in put\n",
      "  File \"<string>\", line 2, in put\n",
      "  File \"/home/ms994/miniconda3/envs/keras-redo/lib/python3.7/multiprocessing/managers.py\", line 795, in _callmethod\n",
      "    conn.send((self._id, methodname, args, kwds))\n",
      "  File \"/home/ms994/miniconda3/envs/keras-redo/lib/python3.7/multiprocessing/managers.py\", line 796, in _callmethod\n",
      "    kind, result = conn.recv()\n",
      "  File \"/home/ms994/miniconda3/envs/keras-redo/lib/python3.7/multiprocessing/connection.py\", line 206, in send\n",
      "    self._send_bytes(_ForkingPickler.dumps(obj))\n",
      "  File \"/home/ms994/miniconda3/envs/keras-redo/lib/python3.7/multiprocessing/connection.py\", line 250, in recv\n",
      "    buf = self._recv_bytes()\n",
      "  File \"/home/ms994/miniconda3/envs/keras-redo/lib/python3.7/multiprocessing/connection.py\", line 398, in _send_bytes\n",
      "    self._send(buf)\n",
      "  File \"/home/ms994/miniconda3/envs/keras-redo/lib/python3.7/multiprocessing/connection.py\", line 407, in _recv_bytes\n",
      "    buf = self._recv(4)\n",
      "  File \"/home/ms994/miniconda3/envs/keras-redo/lib/python3.7/multiprocessing/connection.py\", line 368, in _send\n",
      "    n = write(self._handle, buf)\n",
      "  File \"/home/ms994/miniconda3/envs/keras-redo/lib/python3.7/multiprocessing/connection.py\", line 383, in _recv\n",
      "    raise EOFError\n",
      "BrokenPipeError: [Errno 32] Broken pipe\n",
      "  File \"/home/ms994/miniconda3/envs/keras-redo/lib/python3.7/multiprocessing/connection.py\", line 368, in _send\n",
      "    n = write(self._handle, buf)\n",
      "  File \"/home/ms994/miniconda3/envs/keras-redo/lib/python3.7/multiprocessing/connection.py\", line 206, in send\n",
      "    self._send_bytes(_ForkingPickler.dumps(obj))\n",
      "BrokenPipeError: [Errno 32] Broken pipe\n",
      "BrokenPipeError: [Errno 32] Broken pipe\n",
      "Traceback (most recent call last):\n",
      "  File \"/home/ms994/miniconda3/envs/keras-redo/lib/python3.7/multiprocessing/process.py\", line 297, in _bootstrap\n",
      "    self.run()\n",
      "  File \"/home/ms994/miniconda3/envs/keras-redo/lib/python3.7/multiprocessing/process.py\", line 99, in run\n",
      "    self._target(*self._args, **self._kwargs)\n",
      "  File \"<ipython-input-48-9f022432ee96>\", line 5, in transform_xy_to_image\n",
      "    toReturnQ.put((x,y))\n",
      "  File \"<string>\", line 2, in put\n",
      "  File \"/home/ms994/miniconda3/envs/keras-redo/lib/python3.7/multiprocessing/managers.py\", line 795, in _callmethod\n",
      "    conn.send((self._id, methodname, args, kwds))\n",
      "  File \"/home/ms994/miniconda3/envs/keras-redo/lib/python3.7/multiprocessing/connection.py\", line 206, in send\n",
      "    self._send_bytes(_ForkingPickler.dumps(obj))\n",
      "  File \"/home/ms994/miniconda3/envs/keras-redo/lib/python3.7/multiprocessing/connection.py\", line 398, in _send_bytes\n",
      "    self._send(buf)\n",
      "  File \"/home/ms994/miniconda3/envs/keras-redo/lib/python3.7/multiprocessing/connection.py\", line 368, in _send\n",
      "    n = write(self._handle, buf)\n",
      "BrokenPipeError: [Errno 32] Broken pipe\n",
      "EOFError\n",
      "  File \"/home/ms994/miniconda3/envs/keras-redo/lib/python3.7/multiprocessing/connection.py\", line 398, in _send_bytes\n",
      "    self._send(buf)\n",
      "  File \"/home/ms994/miniconda3/envs/keras-redo/lib/python3.7/multiprocessing/connection.py\", line 368, in _send\n",
      "    n = write(self._handle, buf)\n",
      "BrokenPipeError: [Errno 32] Broken pipe\n",
      "Process Process-41:\n",
      "Traceback (most recent call last):\n",
      "  File \"/home/ms994/miniconda3/envs/keras-redo/lib/python3.7/multiprocessing/process.py\", line 297, in _bootstrap\n",
      "    self.run()\n",
      "  File \"/home/ms994/miniconda3/envs/keras-redo/lib/python3.7/multiprocessing/process.py\", line 99, in run\n",
      "    self._target(*self._args, **self._kwargs)\n",
      "  File \"<ipython-input-48-9f022432ee96>\", line 5, in transform_xy_to_image\n",
      "    toReturnQ.put((x,y))\n",
      "  File \"<string>\", line 2, in put\n",
      "  File \"/home/ms994/miniconda3/envs/keras-redo/lib/python3.7/multiprocessing/managers.py\", line 795, in _callmethod\n",
      "    conn.send((self._id, methodname, args, kwds))\n",
      "  File \"/home/ms994/miniconda3/envs/keras-redo/lib/python3.7/multiprocessing/connection.py\", line 206, in send\n",
      "    self._send_bytes(_ForkingPickler.dumps(obj))\n",
      "  File \"/home/ms994/miniconda3/envs/keras-redo/lib/python3.7/multiprocessing/connection.py\", line 397, in _send_bytes\n",
      "    self._send(header)\n",
      "  File \"/home/ms994/miniconda3/envs/keras-redo/lib/python3.7/multiprocessing/connection.py\", line 368, in _send\n",
      "    n = write(self._handle, buf)\n",
      "BrokenPipeError: [Errno 32] Broken pipe\n"
     ]
    }
   ],
   "source": [
    "[p.start() for p in processes]"
   ]
  },
  {
   "cell_type": "code",
   "execution_count": 65,
   "metadata": {},
   "outputs": [
    {
     "data": {
      "text/plain": [
       "203689"
      ]
     },
     "execution_count": 65,
     "metadata": {},
     "output_type": "execute_result"
    }
   ],
   "source": [
    "toRunQ.qsize()"
   ]
  },
  {
   "cell_type": "code",
   "execution_count": 41,
   "metadata": {},
   "outputs": [],
   "source": [
    "is_train = True\n",
    "def parse_datum(datum):\n",
    "    global is_train\n",
    "    xData = datum[0]\n",
    "    xData = np.apply_along_axis(gen_image_from_snapshot, 1, xData)\n",
    "    yData = datum[1]\n",
    "    \n",
    "    feature = { \\\n",
    "               'data': _float_feature_list(xData.reshape(-1)), \\\n",
    "               'label': _int64_feature_list([yData[0]]), \\\n",
    "               'subtypeLabel': _int64_feature_list([yData[2]]), \\\n",
    "               'session': _int64_feature(yData[1]), \\\n",
    "               'montage': _int64_feature_list(yData[3].astype(int))\n",
    "              }\n",
    "    return tf.train.Example(features=tf.train.Features(feature=feature))\n"
   ]
  },
  {
   "cell_type": "code",
   "execution_count": 43,
   "metadata": {},
   "outputs": [],
   "source": [
    "def get_gen(dataset):\n",
    "    def gen():\n",
    "        for i in range(len(dataset)):\n",
    "            yield parse_datum(dataset[i]).SerializeToString()\n",
    "    return gen"
   ]
  },
  {
   "cell_type": "code",
   "execution_count": 44,
   "metadata": {},
   "outputs": [],
   "source": [
    "dataset = tf.data.Dataset.from_generator(get_gen(train_data), output_types=tf.string,  output_shapes=(tf.TensorShape([])))"
   ]
  },
  {
   "cell_type": "code",
   "execution_count": null,
   "metadata": {},
   "outputs": [],
   "source": [
    "\n",
    "dataset = tf.data.Dataset.from_generator(get_gen(train_data), output_types=tf.string,  output_shapes=(tf.TensorShape([])))\n",
    "writer = tf.data.experimental.TFRecordWriter(\"/n/scratch2/ms994/train_image_4s.tfr\")\n",
    "writer.write(dataset)"
   ]
  },
  {
   "cell_type": "code",
   "execution_count": null,
   "metadata": {},
   "outputs": [],
   "source": [
    "dataset = tf.data.Dataset.from_generator(get_gen(valid_data), output_types=tf.string,  output_shapes=(tf.TensorShape([])))\n",
    "writer = tf.data.experimental.TFRecordWriter(\"/n/scratch2/ms994/valid_image_4s.tfr\")\n",
    "writer.write(dataset)"
   ]
  },
  {
   "cell_type": "code",
   "execution_count": null,
   "metadata": {},
   "outputs": [],
   "source": [
    "dataset = tf.data.Dataset.from_generator(get_gen(test_data), output_types=tf.string,  output_shapes=(tf.TensorShape([])))\n",
    "writer = tf.data.experimental.TFRecordWriter(\"/n/scratch2/ms994/test_image_4s.tfr\")\n",
    "writer.write(dataset)"
   ]
  },
  {
   "cell_type": "code",
   "execution_count": null,
   "metadata": {},
   "outputs": [],
   "source": []
  },
  {
   "cell_type": "code",
   "execution_count": null,
   "metadata": {},
   "outputs": [],
   "source": [
    "%%bash\n",
    "scancel 2810482"
   ]
  }
 ],
 "metadata": {
  "kernelspec": {
   "display_name": "Python 3",
   "language": "python",
   "name": "python3"
  },
  "language_info": {
   "codemirror_mode": {
    "name": "ipython",
    "version": 3
   },
   "file_extension": ".py",
   "mimetype": "text/x-python",
   "name": "python",
   "nbconvert_exporter": "python",
   "pygments_lexer": "ipython3",
   "version": "3.7.3"
  },
  "toc": {
   "base_numbering": 1,
   "nav_menu": {},
   "number_sections": true,
   "sideBar": true,
   "skip_h1_title": false,
   "title_cell": "Table of Contents",
   "title_sidebar": "Contents",
   "toc_cell": false,
   "toc_position": {},
   "toc_section_display": true,
   "toc_window_display": false
  }
 },
 "nbformat": 4,
 "nbformat_minor": 2
}

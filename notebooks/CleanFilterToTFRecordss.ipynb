{
 "cells": [
  {
   "cell_type": "code",
   "execution_count": 1,
   "metadata": {},
   "outputs": [
    {
     "name": "stderr",
     "output_type": "stream",
     "text": [
      "Using TensorFlow backend.\n"
     ]
    }
   ],
   "source": [
    "import sys, os\n",
    "sys.path.append(os.path.realpath(\"..\"))\n",
    "os.environ[\"TF_XLA_FLAGS\"]=\"--tf_xla_cpu_global_jit\"\n",
    "\n",
    "import util_funcs\n",
    "from importlib import reload\n",
    "import data_reader as read\n",
    "import pandas as pd\n",
    "import numpy as np\n",
    "import pickle as pkl\n",
    "import matplotlib.pyplot as plt\n",
    "import constants\n",
    "import ensembleReader as er\n",
    "import clinical_text_analysis as cta\n",
    "import tsfresh\n",
    "from sklearn.metrics import roc_auc_score, accuracy_score, confusion_matrix, roc_curve\n",
    "from os import path\n",
    "# import predictSeizureConvExp as psce\n",
    "import keras_models.dataGen as dg\n",
    "from addict import Dict\n",
    "from pathlib import Path\n",
    "# reload(psce)\n",
    "from keras.utils import multi_gpu_model\n",
    "import keras\n",
    "import keras.optimizers\n",
    "import time\n",
    "from sklearn.metrics import confusion_matrix, roc_auc_score, accuracy_score, log_loss"
   ]
  },
  {
   "cell_type": "code",
   "execution_count": 2,
   "metadata": {},
   "outputs": [],
   "source": [
    "train_data = pkl.load(open(\"/n/scratch2/ms994/train_multiple_labels_sessions_montage_seizure_data_4.pkl\", \"rb\"))"
   ]
  },
  {
   "cell_type": "code",
   "execution_count": 28,
   "metadata": {},
   "outputs": [],
   "source": [
    "test_data =  pkl.load(open(\"/n/scratch2/ms994/test_multiple_labels_sessions_montage_seizure_data_4.pkl\", \"rb\"))"
   ]
  },
  {
   "cell_type": "code",
   "execution_count": 29,
   "metadata": {},
   "outputs": [],
   "source": [
    "valid_data = pkl.load(open(\"/n/scratch2/ms994/valid_multiple_labels_sessions_montage_seizure_data_4.pkl\", \"rb\"))"
   ]
  },
  {
   "cell_type": "code",
   "execution_count": 5,
   "metadata": {},
   "outputs": [],
   "source": [
    "def patient_func(tkn_file_paths, session_instead_patient):\n",
    "        return [read.parse_edf_token_path_structure(tkn_file_path)[1] + \"/\" + read.parse_edf_token_path_structure(tkn_file_path)[2] for tkn_file_path in tkn_file_paths]"
   ]
  },
  {
   "cell_type": "code",
   "execution_count": 6,
   "metadata": {},
   "outputs": [],
   "source": [
    "seizureInfo = pd.read_csv(\"/home/ms994/dbmi_eeg_clustering/assets/seizures.csv\")"
   ]
  },
  {
   "cell_type": "code",
   "execution_count": 7,
   "metadata": {},
   "outputs": [
    {
     "data": {
      "text/plain": [
       "seizure_type\n",
       "ABSZ      99\n",
       "CPSZ     361\n",
       "FNSZ    1834\n",
       "GNSZ     585\n",
       "MYSZ       3\n",
       "SPSZ      52\n",
       "TCSZ      53\n",
       "TNSZ      68\n",
       "Name: seizure_type, dtype: int64"
      ]
     },
     "execution_count": 7,
     "metadata": {},
     "output_type": "execute_result"
    }
   ],
   "source": [
    "seizureInfo.groupby(\"seizure_type\")[\"seizure_type\"].count() "
   ]
  },
  {
   "cell_type": "markdown",
   "metadata": {},
   "source": [
    "Use the top 3 seizures only, CPSZ, FNSZ, and GNSZ. only include a patient if they are characterized by the seizure or have no seizure in the set. It is either unfair/incorrect/too hard to include the healthy state of patients not in this subpopulation"
   ]
  },
  {
   "cell_type": "code",
   "execution_count": 8,
   "metadata": {},
   "outputs": [],
   "source": [
    "noSeizureFiles = seizureInfo[pd.isnull(seizureInfo.seizure_type)].fn"
   ]
  },
  {
   "cell_type": "code",
   "execution_count": 9,
   "metadata": {},
   "outputs": [],
   "source": [
    "seizurePatientMap = seizureInfo.groupby([\"patient\", \"seizure_type\"])[\"patient\", \"seizure_type\"].count()"
   ]
  },
  {
   "cell_type": "code",
   "execution_count": 10,
   "metadata": {},
   "outputs": [],
   "source": [
    "seizurePatientMap.columns = [\"patient_cnt\", \"seizure_type_cnt\"]"
   ]
  },
  {
   "cell_type": "code",
   "execution_count": 11,
   "metadata": {},
   "outputs": [],
   "source": [
    "seizurePatientMap = seizurePatientMap.reset_index()"
   ]
  },
  {
   "cell_type": "code",
   "execution_count": 12,
   "metadata": {},
   "outputs": [],
   "source": [
    "matchingPatients = seizurePatientMap[seizurePatientMap.seizure_type.isin([\"CPSZ\", \"FNSZ\", \"GNSZ\"])].patient"
   ]
  },
  {
   "cell_type": "code",
   "execution_count": 13,
   "metadata": {},
   "outputs": [],
   "source": [
    "noSeizurepatients = [read.parse_edf_token_path_structure(file)[1] for file in noSeizureFiles]"
   ]
  },
  {
   "cell_type": "code",
   "execution_count": 14,
   "metadata": {},
   "outputs": [],
   "source": [
    "matchingPatients = matchingPatients.apply(lambda a: \"{:08d}\".format(int(a))).tolist()"
   ]
  },
  {
   "cell_type": "code",
   "execution_count": 15,
   "metadata": {},
   "outputs": [],
   "source": [
    "toFilterBy = noSeizurepatients + matchingPatients"
   ]
  },
  {
   "cell_type": "code",
   "execution_count": 16,
   "metadata": {},
   "outputs": [
    {
     "data": {
      "text/plain": [
       "'00000258/s002_2003_07_21'"
      ]
     },
     "execution_count": 16,
     "metadata": {},
     "output_type": "execute_result"
    }
   ],
   "source": [
    "\"{}/{}\".format(read.parse_edf_token_path_structure(noSeizureFiles[0])[1], read.parse_edf_token_path_structure(noSeizureFiles[0])[2])"
   ]
  },
  {
   "cell_type": "code",
   "execution_count": 17,
   "metadata": {},
   "outputs": [
    {
     "data": {
      "text/plain": [
       "False"
      ]
     },
     "execution_count": 17,
     "metadata": {},
     "output_type": "execute_result"
    }
   ],
   "source": [
    "(train_data[0][0].std(axis=0) > 100).any()"
   ]
  },
  {
   "cell_type": "code",
   "execution_count": 18,
   "metadata": {},
   "outputs": [],
   "source": [
    "def update_data(edss,  seizure_classes_to_use=[\"GNSZ\", \"FNSZ\", \"CPSZ\"], include_seizure_type=True, include_montage_channels=True, remove_outlier_by_std_thresh=100, zero_center_over_time=True, is_eval_set=False):\n",
    "    '''\n",
    "    since we store the full string of the session or the patient instead of the index, we update the data to use the int index\n",
    "    some of the tasks require different datasets and some filtering of the data i.e. only seizure classification or just some of the labels\n",
    "    is_eval_set: for use with valid and test set, since they shouldn't have patients from the train set and therefore predicting for them is wrong\n",
    "    '''\n",
    "\n",
    "    data = [datum[0] for datum in edss]\n",
    "    if is_eval_set:\n",
    "        patient_labels = [0 for i in range(len(edss))]\n",
    "        remove_outlier_by_std_thresh=None\n",
    "    else:\n",
    "        patients = [datum[1][1] for datum in edss]\n",
    "        allPatient = list(set(patients))\n",
    "        patient_labels = [allPatient.index(patient) for patient in patients]\n",
    "    seizure_detection_labels = [datum[1][0] for datum in edss]\n",
    "    if include_seizure_type:\n",
    "        seizure_class_labels = [datum[1][2] for datum in edss]\n",
    "    if include_montage_channels:\n",
    "        montage_channel_labels = [datum[1][3] for datum in edss]\n",
    "    keep_index = [True for i in range(len(data))]\n",
    "    if seizure_classes_to_use is not None:\n",
    "        for i, seizure_class_label in enumerate(seizure_class_labels):\n",
    "            if seizure_detection_labels[i] and constants.SEIZURE_SUBTYPES[seizure_class_label] not in seizure_classes_to_use: #it's a seizure detection class and it should be excluded\n",
    "                keep_index[i] = False\n",
    "    for i, patient_session in enumerate(patients):\n",
    "        if patient_session.split(\"/\")[0] not in toFilterBy:\n",
    "            keep_index[i] = False\n",
    "        \n",
    "\n",
    "    if zero_center_over_time:\n",
    "        for i, datum in enumerate(data):\n",
    "            data[i] = (datum.T - datum.mean(1)).T\n",
    "    if remove_outlier_by_std_thresh is not None:\n",
    "        removed = 0\n",
    "        for i, datum in enumerate(data):\n",
    "            if (np.std(datum, axis=0) > remove_outlier_by_std_thresh).any():\n",
    "                keep_index[i] = False\n",
    "                removed += 1\n",
    "        print(\"We removed {} because unclean by std\".format(removed))\n",
    "\n",
    "\n",
    "    data_to_keep = []\n",
    "    patient_labels_to_keep = []\n",
    "    seizure_detect_to_keep = []\n",
    "    seizure_class_labels_to_keep = []\n",
    "    montage_channel_labels_to_keep = []\n",
    "\n",
    "    for i, should_keep in enumerate(keep_index):\n",
    "        if should_keep:\n",
    "            data_to_keep.append(data[i])\n",
    "            patient_labels_to_keep.append(patient_labels[i])\n",
    "            seizure_detect_to_keep.append(seizure_detection_labels[i])\n",
    "            if include_montage_channels:\n",
    "                montage_channel_labels_to_keep.append(montage_channel_labels[i])\n",
    "            if include_seizure_type:\n",
    "                seizure_class_labels_to_keep.append(seizure_class_labels[i])\n",
    "    return [(data_to_keep[i], (seizure_detect_to_keep[i], patient_labels_to_keep[i], seizure_class_labels_to_keep[i], montage_channel_labels_to_keep[i].values)) for i in range(len(data_to_keep))], seizure_detect_to_keep, patient_labels_to_keep, seizure_class_labels_to_keep, montage_channel_labels_to_keep"
   ]
  },
  {
   "cell_type": "code",
   "execution_count": 19,
   "metadata": {},
   "outputs": [
    {
     "name": "stdout",
     "output_type": "stream",
     "text": [
      "We removed 32959 because unclean by std\n",
      "We removed 4882 because unclean by std\n",
      "We removed 10631 because unclean by std\n"
     ]
    }
   ],
   "source": [
    "train_data = update_data(train_data)"
   ]
  },
  {
   "cell_type": "code",
   "execution_count": 26,
   "metadata": {},
   "outputs": [],
   "source": [
    "train_data = train_data[0]"
   ]
  },
  {
   "cell_type": "code",
   "execution_count": 30,
   "metadata": {},
   "outputs": [],
   "source": [
    "valid_data = update_data(valid_data, remove_outlier_by_std_thresh=None)\n",
    "test_data = update_data(test_data, remove_outlier_by_std_thresh=None)"
   ]
  },
  {
   "cell_type": "code",
   "execution_count": 31,
   "metadata": {},
   "outputs": [],
   "source": [
    "valid_data = valid_data[0]\n",
    "test_data = test_data[0]"
   ]
  },
  {
   "cell_type": "code",
   "execution_count": 27,
   "metadata": {},
   "outputs": [],
   "source": [
    "import tensorflow as tf\n",
    "# Helperfunctions to make your feature definition more readable\n",
    "def _int64_feature(value):\n",
    "    return tf.train.Feature(int64_list=tf.train.Int64List(value=[value]))\n",
    "\n",
    "def _int64_feature_list(value):\n",
    "    return tf.train.Feature(int64_list=tf.train.Int64List(value=value))\n",
    "# Helperfunctions to make your feature definition more readable\n",
    "def _float_feature(value):\n",
    "    return tf.train.Feature(float_list=tf.train.FloatList(value=[value]))\n",
    "\n",
    "def _float_feature_list(value):\n",
    "    return tf.train.Feature(float_list=tf.train.FloatList(value=value))"
   ]
  },
  {
   "cell_type": "code",
   "execution_count": 35,
   "metadata": {},
   "outputs": [
    {
     "data": {
      "text/plain": [
       "array([0, 0, 0, 0, 0, 0, 0, 0, 0, 0, 0, 0, 0, 0, 0, 0, 0, 0, 0, 0, 0, 0])"
      ]
     },
     "execution_count": 35,
     "metadata": {},
     "output_type": "execute_result"
    }
   ],
   "source": [
    "valid_data[0][1][3].astype(int)"
   ]
  },
  {
   "cell_type": "code",
   "execution_count": 36,
   "metadata": {},
   "outputs": [],
   "source": [
    "is_train = True\n",
    "def parse_datum(datum):\n",
    "    global is_train\n",
    "    xData = datum[0]\n",
    "    yData = datum[1]\n",
    "    \n",
    "    feature = { \\\n",
    "               'data': _float_feature_list(xData.reshape(-1)), \\\n",
    "               'label': _int64_feature_list([yData[0]]), \\\n",
    "               'subtypeLabel': _int64_feature_list([yData[2]]), \\\n",
    "               'session': _int64_feature(yData[1]), \\\n",
    "               'montage': _int64_feature_list(yData[3].astype(int))\n",
    "              }\n",
    "    return tf.train.Example(features=tf.train.Features(feature=feature))\n"
   ]
  },
  {
   "cell_type": "code",
   "execution_count": 47,
   "metadata": {},
   "outputs": [],
   "source": [
    "def get_gen(dataset):\n",
    "    def gen():\n",
    "        for i in range(len(dataset)):\n",
    "            yield parse_datum(dataset[i]).SerializeToString()\n",
    "    return gen"
   ]
  },
  {
   "cell_type": "code",
   "execution_count": 49,
   "metadata": {},
   "outputs": [],
   "source": [
    "dataset = tf.data.Dataset.from_generator(get_gen(train_data), output_types=tf.string,  output_shapes=(tf.TensorShape([])))"
   ]
  },
  {
   "cell_type": "code",
   "execution_count": 50,
   "metadata": {},
   "outputs": [],
   "source": [
    "dataset = tf.data.Dataset.from_generator(get_gen(train_data), output_types=tf.string,  output_shapes=(tf.TensorShape([])))\n",
    "writer = tf.data.experimental.TFRecordWriter(\"/n/scratch2/ms994/train_4s.tfr\")\n",
    "writer.write(dataset)"
   ]
  },
  {
   "cell_type": "code",
   "execution_count": 51,
   "metadata": {},
   "outputs": [],
   "source": [
    "dataset = tf.data.Dataset.from_generator(get_gen(valid_data), output_types=tf.string,  output_shapes=(tf.TensorShape([])))\n",
    "writer = tf.data.experimental.TFRecordWriter(\"/n/scratch2/ms994/valid_4s.tfr\")\n",
    "writer.write(dataset)"
   ]
  },
  {
   "cell_type": "code",
   "execution_count": 52,
   "metadata": {},
   "outputs": [],
   "source": [
    "dataset = tf.data.Dataset.from_generator(get_gen(test_data), output_types=tf.string,  output_shapes=(tf.TensorShape([])))\n",
    "writer = tf.data.experimental.TFRecordWriter(\"/n/scratch2/ms994/test_4s.tfr\")\n",
    "writer.write(dataset)"
   ]
  }
 ],
 "metadata": {
  "kernelspec": {
   "display_name": "Python 3",
   "language": "python",
   "name": "python3"
  },
  "language_info": {
   "codemirror_mode": {
    "name": "ipython",
    "version": 3
   },
   "file_extension": ".py",
   "mimetype": "text/x-python",
   "name": "python",
   "nbconvert_exporter": "python",
   "pygments_lexer": "ipython3",
   "version": "3.7.3"
  },
  "toc": {
   "base_numbering": 1,
   "nav_menu": {},
   "number_sections": true,
   "sideBar": true,
   "skip_h1_title": false,
   "title_cell": "Table of Contents",
   "title_sidebar": "Contents",
   "toc_cell": false,
   "toc_position": {},
   "toc_section_display": true,
   "toc_window_display": false
  }
 },
 "nbformat": 4,
 "nbformat_minor": 2
}

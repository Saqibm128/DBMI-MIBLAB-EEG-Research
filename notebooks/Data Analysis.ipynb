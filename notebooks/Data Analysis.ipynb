{
 "cells": [
  {
   "cell_type": "code",
   "execution_count": 1,
   "metadata": {},
   "outputs": [
    {
     "name": "stderr",
     "output_type": "stream",
     "text": [
      "Using Theano backend.\n"
     ]
    }
   ],
   "source": [
    "import sys, os\n",
    "sys.path.append(os.path.realpath(\"..\"))\n",
    "\n",
    "import util_funcs\n",
    "from importlib import reload\n",
    "reload(util_funcs)\n",
    "from copy import deepcopy as cp\n",
    "\n",
    "import data_reader as read\n",
    "import pandas as pd\n",
    "import numpy as np\n",
    "import pickle as pkl\n",
    "import matplotlib.pyplot as plt\n",
    "import pywt\n",
    "import tsfresh.feature_extraction.feature_calculators as feats\n",
    "import constants\n",
    "import clinical_text_analysis as cta\n",
    "reload(cta)\n",
    "import tsfresh\n",
    "import ensembleReader as er\n",
    "from sklearn.metrics import roc_auc_score, accuracy_score, confusion_matrix, roc_curve, r2_score, classification_report\n",
    "from os import path\n",
    "\n",
    "reload(read)\n",
    "import wf_analysis.datasets as wfdata\n",
    "import wf_analysis.filters as filt\n",
    "reload(filt)\n",
    "from addict import Dict\n",
    "import time\n",
    "import pickle as pkl\n",
    "import tsfresh.feature_extraction.feature_calculators as tsf\n",
    "import pyedflib as edf\n",
    "import keras_models.dataGen as dg "
   ]
  },
  {
   "cell_type": "code",
   "execution_count": 2,
   "metadata": {},
   "outputs": [
    {
     "name": "stdout",
     "output_type": "stream",
     "text": [
      "3d_positions.csv\n",
      "None_01_tcp_ar_file_lengths.csv\n",
      "channel_names.csv\n",
      "combined_01_tcp_ar_file_lengths.csv\n",
      "data_labels.csv\n",
      "dev_test_01_tcp_ar_file_lengths.csv\n",
      "seizures.csv\n",
      "train_01_tcp_ar_file_lengths.csv\n"
     ]
    }
   ],
   "source": [
    "%%bash\n",
    "ls /home/ms994/dbmi_eeg_clustering/assets"
   ]
  },
  {
   "cell_type": "code",
   "execution_count": 3,
   "metadata": {},
   "outputs": [],
   "source": [
    "labels = pd.read_csv(\"/home/ms994/dbmi_eeg_clustering/assets/data_labels.csv\")"
   ]
  },
  {
   "cell_type": "code",
   "execution_count": 4,
   "metadata": {},
   "outputs": [
    {
     "data": {
      "text/html": [
       "<div>\n",
       "<style scoped>\n",
       "    .dataframe tbody tr th:only-of-type {\n",
       "        vertical-align: middle;\n",
       "    }\n",
       "\n",
       "    .dataframe tbody tr th {\n",
       "        vertical-align: top;\n",
       "    }\n",
       "\n",
       "    .dataframe thead th {\n",
       "        text-align: right;\n",
       "    }\n",
       "</style>\n",
       "<table border=\"1\" class=\"dataframe\">\n",
       "  <thead>\n",
       "    <tr style=\"text-align: right;\">\n",
       "      <th></th>\n",
       "      <th>class_code</th>\n",
       "      <th>class_no</th>\n",
       "      <th>description</th>\n",
       "    </tr>\n",
       "  </thead>\n",
       "  <tbody>\n",
       "    <tr>\n",
       "      <th>0</th>\n",
       "      <td>NaN</td>\n",
       "      <td>0</td>\n",
       "      <td>No Event</td>\n",
       "    </tr>\n",
       "    <tr>\n",
       "      <th>1</th>\n",
       "      <td>SPSW</td>\n",
       "      <td>1</td>\n",
       "      <td>Spike/Sharp and Wave</td>\n",
       "    </tr>\n",
       "    <tr>\n",
       "      <th>2</th>\n",
       "      <td>GPED</td>\n",
       "      <td>2</td>\n",
       "      <td>Generalized Periodic Epileptiform Discharges</td>\n",
       "    </tr>\n",
       "    <tr>\n",
       "      <th>3</th>\n",
       "      <td>PLED</td>\n",
       "      <td>3</td>\n",
       "      <td>Periodic Lateralized Epileptiform Discharges</td>\n",
       "    </tr>\n",
       "    <tr>\n",
       "      <th>4</th>\n",
       "      <td>EYBL</td>\n",
       "      <td>4</td>\n",
       "      <td>Eye blink</td>\n",
       "    </tr>\n",
       "    <tr>\n",
       "      <th>5</th>\n",
       "      <td>ARTF</td>\n",
       "      <td>5</td>\n",
       "      <td>Artifacts (All)</td>\n",
       "    </tr>\n",
       "    <tr>\n",
       "      <th>6</th>\n",
       "      <td>BCKG</td>\n",
       "      <td>6</td>\n",
       "      <td>Background</td>\n",
       "    </tr>\n",
       "    <tr>\n",
       "      <th>7</th>\n",
       "      <td>SEIZ</td>\n",
       "      <td>7</td>\n",
       "      <td>Seizure</td>\n",
       "    </tr>\n",
       "    <tr>\n",
       "      <th>8</th>\n",
       "      <td>FNSZ</td>\n",
       "      <td>8</td>\n",
       "      <td>Focal Non-Specific Seizure</td>\n",
       "    </tr>\n",
       "    <tr>\n",
       "      <th>9</th>\n",
       "      <td>GNSZ</td>\n",
       "      <td>9</td>\n",
       "      <td>Generalized Non-Specific Seizure</td>\n",
       "    </tr>\n",
       "    <tr>\n",
       "      <th>10</th>\n",
       "      <td>SPSZ</td>\n",
       "      <td>10</td>\n",
       "      <td>Simple Partial Seizure</td>\n",
       "    </tr>\n",
       "    <tr>\n",
       "      <th>11</th>\n",
       "      <td>CPSZ</td>\n",
       "      <td>11</td>\n",
       "      <td>Complex Partial Seizure</td>\n",
       "    </tr>\n",
       "    <tr>\n",
       "      <th>12</th>\n",
       "      <td>ABSZ</td>\n",
       "      <td>12</td>\n",
       "      <td>Absence Seizure</td>\n",
       "    </tr>\n",
       "    <tr>\n",
       "      <th>13</th>\n",
       "      <td>TNSZ</td>\n",
       "      <td>13</td>\n",
       "      <td>Tonic Seizure</td>\n",
       "    </tr>\n",
       "    <tr>\n",
       "      <th>14</th>\n",
       "      <td>CNSZ</td>\n",
       "      <td>14</td>\n",
       "      <td>Clonic Seizure</td>\n",
       "    </tr>\n",
       "    <tr>\n",
       "      <th>15</th>\n",
       "      <td>TCSZ</td>\n",
       "      <td>15</td>\n",
       "      <td>Tonic Clonic Seizure</td>\n",
       "    </tr>\n",
       "    <tr>\n",
       "      <th>16</th>\n",
       "      <td>ATSZ</td>\n",
       "      <td>16</td>\n",
       "      <td>Atonic Seizure</td>\n",
       "    </tr>\n",
       "    <tr>\n",
       "      <th>17</th>\n",
       "      <td>MYSZ</td>\n",
       "      <td>17</td>\n",
       "      <td>Myoclonic Seizure</td>\n",
       "    </tr>\n",
       "    <tr>\n",
       "      <th>18</th>\n",
       "      <td>NESZ</td>\n",
       "      <td>18</td>\n",
       "      <td>Non-Epileptic Seizure</td>\n",
       "    </tr>\n",
       "    <tr>\n",
       "      <th>19</th>\n",
       "      <td>INTR</td>\n",
       "      <td>19</td>\n",
       "      <td>Interesting Patterns</td>\n",
       "    </tr>\n",
       "    <tr>\n",
       "      <th>20</th>\n",
       "      <td>SLOW</td>\n",
       "      <td>20</td>\n",
       "      <td>Slowing</td>\n",
       "    </tr>\n",
       "    <tr>\n",
       "      <th>21</th>\n",
       "      <td>EYEM</td>\n",
       "      <td>21</td>\n",
       "      <td>Eye Movement Artifact</td>\n",
       "    </tr>\n",
       "    <tr>\n",
       "      <th>22</th>\n",
       "      <td>CHEW</td>\n",
       "      <td>22</td>\n",
       "      <td>Chewing Artifact</td>\n",
       "    </tr>\n",
       "    <tr>\n",
       "      <th>23</th>\n",
       "      <td>SHIV</td>\n",
       "      <td>23</td>\n",
       "      <td>Shivering Artifact</td>\n",
       "    </tr>\n",
       "    <tr>\n",
       "      <th>24</th>\n",
       "      <td>MUSC</td>\n",
       "      <td>24</td>\n",
       "      <td>Muscle Artifact</td>\n",
       "    </tr>\n",
       "    <tr>\n",
       "      <th>25</th>\n",
       "      <td>ELPP</td>\n",
       "      <td>25</td>\n",
       "      <td>Electrode Pop Artifact</td>\n",
       "    </tr>\n",
       "    <tr>\n",
       "      <th>26</th>\n",
       "      <td>ELST</td>\n",
       "      <td>26</td>\n",
       "      <td>Electrostatic Artifact</td>\n",
       "    </tr>\n",
       "  </tbody>\n",
       "</table>\n",
       "</div>"
      ],
      "text/plain": [
       "   class_code  class_no                                   description\n",
       "0         NaN         0                                      No Event\n",
       "1        SPSW         1                          Spike/Sharp and Wave\n",
       "2        GPED         2  Generalized Periodic Epileptiform Discharges\n",
       "3        PLED         3  Periodic Lateralized Epileptiform Discharges\n",
       "4        EYBL         4                                     Eye blink\n",
       "5        ARTF         5                               Artifacts (All)\n",
       "6        BCKG         6                                    Background\n",
       "7        SEIZ         7                                       Seizure\n",
       "8        FNSZ         8                    Focal Non-Specific Seizure\n",
       "9        GNSZ         9              Generalized Non-Specific Seizure\n",
       "10       SPSZ        10                        Simple Partial Seizure\n",
       "11       CPSZ        11                       Complex Partial Seizure\n",
       "12       ABSZ        12                               Absence Seizure\n",
       "13       TNSZ        13                                 Tonic Seizure\n",
       "14       CNSZ        14                                Clonic Seizure\n",
       "15       TCSZ        15                          Tonic Clonic Seizure\n",
       "16       ATSZ        16                                Atonic Seizure\n",
       "17       MYSZ        17                             Myoclonic Seizure\n",
       "18       NESZ        18                         Non-Epileptic Seizure\n",
       "19       INTR        19                          Interesting Patterns\n",
       "20       SLOW        20                                       Slowing\n",
       "21       EYEM        21                         Eye Movement Artifact\n",
       "22       CHEW        22                              Chewing Artifact\n",
       "23       SHIV        23                            Shivering Artifact\n",
       "24       MUSC        24                               Muscle Artifact\n",
       "25       ELPP        25                        Electrode Pop Artifact\n",
       "26       ELST        26                        Electrostatic Artifact"
      ]
     },
     "execution_count": 4,
     "metadata": {},
     "output_type": "execute_result"
    }
   ],
   "source": [
    "labels"
   ]
  },
  {
   "cell_type": "code",
   "execution_count": 23,
   "metadata": {},
   "outputs": [],
   "source": [
    "seizure_data = pd.read_csv(\"/home/ms994/dbmi_eeg_clustering/assets/train_01_tcp_ar_file_lengths.csv\", header=None)"
   ]
  },
  {
   "cell_type": "code",
   "execution_count": 24,
   "metadata": {},
   "outputs": [
    {
     "data": {
      "text/html": [
       "<div>\n",
       "<style scoped>\n",
       "    .dataframe tbody tr th:only-of-type {\n",
       "        vertical-align: middle;\n",
       "    }\n",
       "\n",
       "    .dataframe tbody tr th {\n",
       "        vertical-align: top;\n",
       "    }\n",
       "\n",
       "    .dataframe thead th {\n",
       "        text-align: right;\n",
       "    }\n",
       "</style>\n",
       "<table border=\"1\" class=\"dataframe\">\n",
       "  <thead>\n",
       "    <tr style=\"text-align: right;\">\n",
       "      <th></th>\n",
       "      <th>0</th>\n",
       "      <th>1</th>\n",
       "    </tr>\n",
       "  </thead>\n",
       "  <tbody>\n",
       "    <tr>\n",
       "      <th>0</th>\n",
       "      <td>/home/ms994/v1.5.0/edf/train/01_tcp_ar/131/000...</td>\n",
       "      <td>1305</td>\n",
       "    </tr>\n",
       "    <tr>\n",
       "      <th>1</th>\n",
       "      <td>/home/ms994/v1.5.0/edf/train/01_tcp_ar/131/000...</td>\n",
       "      <td>601</td>\n",
       "    </tr>\n",
       "    <tr>\n",
       "      <th>2</th>\n",
       "      <td>/home/ms994/v1.5.0/edf/train/01_tcp_ar/131/000...</td>\n",
       "      <td>300</td>\n",
       "    </tr>\n",
       "    <tr>\n",
       "      <th>3</th>\n",
       "      <td>/home/ms994/v1.5.0/edf/train/01_tcp_ar/131/000...</td>\n",
       "      <td>601</td>\n",
       "    </tr>\n",
       "    <tr>\n",
       "      <th>4</th>\n",
       "      <td>/home/ms994/v1.5.0/edf/train/01_tcp_ar/131/000...</td>\n",
       "      <td>300</td>\n",
       "    </tr>\n",
       "    <tr>\n",
       "      <th>5</th>\n",
       "      <td>/home/ms994/v1.5.0/edf/train/01_tcp_ar/131/000...</td>\n",
       "      <td>300</td>\n",
       "    </tr>\n",
       "    <tr>\n",
       "      <th>6</th>\n",
       "      <td>/home/ms994/v1.5.0/edf/train/01_tcp_ar/131/000...</td>\n",
       "      <td>300</td>\n",
       "    </tr>\n",
       "    <tr>\n",
       "      <th>7</th>\n",
       "      <td>/home/ms994/v1.5.0/edf/train/01_tcp_ar/131/000...</td>\n",
       "      <td>601</td>\n",
       "    </tr>\n",
       "    <tr>\n",
       "      <th>8</th>\n",
       "      <td>/home/ms994/v1.5.0/edf/train/01_tcp_ar/131/000...</td>\n",
       "      <td>300</td>\n",
       "    </tr>\n",
       "    <tr>\n",
       "      <th>9</th>\n",
       "      <td>/home/ms994/v1.5.0/edf/train/01_tcp_ar/131/000...</td>\n",
       "      <td>601</td>\n",
       "    </tr>\n",
       "    <tr>\n",
       "      <th>10</th>\n",
       "      <td>/home/ms994/v1.5.0/edf/train/01_tcp_ar/131/000...</td>\n",
       "      <td>601</td>\n",
       "    </tr>\n",
       "    <tr>\n",
       "      <th>11</th>\n",
       "      <td>/home/ms994/v1.5.0/edf/train/01_tcp_ar/131/000...</td>\n",
       "      <td>601</td>\n",
       "    </tr>\n",
       "    <tr>\n",
       "      <th>12</th>\n",
       "      <td>/home/ms994/v1.5.0/edf/train/01_tcp_ar/131/000...</td>\n",
       "      <td>601</td>\n",
       "    </tr>\n",
       "    <tr>\n",
       "      <th>13</th>\n",
       "      <td>/home/ms994/v1.5.0/edf/train/01_tcp_ar/131/000...</td>\n",
       "      <td>601</td>\n",
       "    </tr>\n",
       "    <tr>\n",
       "      <th>14</th>\n",
       "      <td>/home/ms994/v1.5.0/edf/train/01_tcp_ar/131/000...</td>\n",
       "      <td>89</td>\n",
       "    </tr>\n",
       "    <tr>\n",
       "      <th>15</th>\n",
       "      <td>/home/ms994/v1.5.0/edf/train/01_tcp_ar/131/000...</td>\n",
       "      <td>25</td>\n",
       "    </tr>\n",
       "    <tr>\n",
       "      <th>16</th>\n",
       "      <td>/home/ms994/v1.5.0/edf/train/01_tcp_ar/131/000...</td>\n",
       "      <td>744</td>\n",
       "    </tr>\n",
       "    <tr>\n",
       "      <th>17</th>\n",
       "      <td>/home/ms994/v1.5.0/edf/train/01_tcp_ar/131/000...</td>\n",
       "      <td>186</td>\n",
       "    </tr>\n",
       "    <tr>\n",
       "      <th>18</th>\n",
       "      <td>/home/ms994/v1.5.0/edf/train/01_tcp_ar/131/000...</td>\n",
       "      <td>849</td>\n",
       "    </tr>\n",
       "    <tr>\n",
       "      <th>19</th>\n",
       "      <td>/home/ms994/v1.5.0/edf/train/01_tcp_ar/131/000...</td>\n",
       "      <td>601</td>\n",
       "    </tr>\n",
       "    <tr>\n",
       "      <th>20</th>\n",
       "      <td>/home/ms994/v1.5.0/edf/train/01_tcp_ar/131/000...</td>\n",
       "      <td>300</td>\n",
       "    </tr>\n",
       "    <tr>\n",
       "      <th>21</th>\n",
       "      <td>/home/ms994/v1.5.0/edf/train/01_tcp_ar/131/000...</td>\n",
       "      <td>300</td>\n",
       "    </tr>\n",
       "    <tr>\n",
       "      <th>22</th>\n",
       "      <td>/home/ms994/v1.5.0/edf/train/01_tcp_ar/131/000...</td>\n",
       "      <td>300</td>\n",
       "    </tr>\n",
       "    <tr>\n",
       "      <th>23</th>\n",
       "      <td>/home/ms994/v1.5.0/edf/train/01_tcp_ar/131/000...</td>\n",
       "      <td>601</td>\n",
       "    </tr>\n",
       "    <tr>\n",
       "      <th>24</th>\n",
       "      <td>/home/ms994/v1.5.0/edf/train/01_tcp_ar/131/000...</td>\n",
       "      <td>601</td>\n",
       "    </tr>\n",
       "    <tr>\n",
       "      <th>25</th>\n",
       "      <td>/home/ms994/v1.5.0/edf/train/01_tcp_ar/131/000...</td>\n",
       "      <td>601</td>\n",
       "    </tr>\n",
       "    <tr>\n",
       "      <th>26</th>\n",
       "      <td>/home/ms994/v1.5.0/edf/train/01_tcp_ar/131/000...</td>\n",
       "      <td>601</td>\n",
       "    </tr>\n",
       "    <tr>\n",
       "      <th>27</th>\n",
       "      <td>/home/ms994/v1.5.0/edf/train/01_tcp_ar/131/000...</td>\n",
       "      <td>601</td>\n",
       "    </tr>\n",
       "    <tr>\n",
       "      <th>28</th>\n",
       "      <td>/home/ms994/v1.5.0/edf/train/01_tcp_ar/131/000...</td>\n",
       "      <td>300</td>\n",
       "    </tr>\n",
       "    <tr>\n",
       "      <th>29</th>\n",
       "      <td>/home/ms994/v1.5.0/edf/train/01_tcp_ar/131/000...</td>\n",
       "      <td>300</td>\n",
       "    </tr>\n",
       "    <tr>\n",
       "      <th>...</th>\n",
       "      <td>...</td>\n",
       "      <td>...</td>\n",
       "    </tr>\n",
       "    <tr>\n",
       "      <th>3147</th>\n",
       "      <td>/home/ms994/v1.5.0/edf/train/01_tcp_ar/129/000...</td>\n",
       "      <td>300</td>\n",
       "    </tr>\n",
       "    <tr>\n",
       "      <th>3148</th>\n",
       "      <td>/home/ms994/v1.5.0/edf/train/01_tcp_ar/129/000...</td>\n",
       "      <td>601</td>\n",
       "    </tr>\n",
       "    <tr>\n",
       "      <th>3149</th>\n",
       "      <td>/home/ms994/v1.5.0/edf/train/01_tcp_ar/086/000...</td>\n",
       "      <td>1531</td>\n",
       "    </tr>\n",
       "    <tr>\n",
       "      <th>3150</th>\n",
       "      <td>/home/ms994/v1.5.0/edf/train/01_tcp_ar/086/000...</td>\n",
       "      <td>1449</td>\n",
       "    </tr>\n",
       "    <tr>\n",
       "      <th>3151</th>\n",
       "      <td>/home/ms994/v1.5.0/edf/train/01_tcp_ar/086/000...</td>\n",
       "      <td>1248</td>\n",
       "    </tr>\n",
       "    <tr>\n",
       "      <th>3152</th>\n",
       "      <td>/home/ms994/v1.5.0/edf/train/01_tcp_ar/086/000...</td>\n",
       "      <td>344</td>\n",
       "    </tr>\n",
       "    <tr>\n",
       "      <th>3153</th>\n",
       "      <td>/home/ms994/v1.5.0/edf/train/01_tcp_ar/086/000...</td>\n",
       "      <td>601</td>\n",
       "    </tr>\n",
       "    <tr>\n",
       "      <th>3154</th>\n",
       "      <td>/home/ms994/v1.5.0/edf/train/01_tcp_ar/086/000...</td>\n",
       "      <td>601</td>\n",
       "    </tr>\n",
       "    <tr>\n",
       "      <th>3155</th>\n",
       "      <td>/home/ms994/v1.5.0/edf/train/01_tcp_ar/086/000...</td>\n",
       "      <td>601</td>\n",
       "    </tr>\n",
       "    <tr>\n",
       "      <th>3156</th>\n",
       "      <td>/home/ms994/v1.5.0/edf/train/01_tcp_ar/086/000...</td>\n",
       "      <td>601</td>\n",
       "    </tr>\n",
       "    <tr>\n",
       "      <th>3157</th>\n",
       "      <td>/home/ms994/v1.5.0/edf/train/01_tcp_ar/086/000...</td>\n",
       "      <td>601</td>\n",
       "    </tr>\n",
       "    <tr>\n",
       "      <th>3158</th>\n",
       "      <td>/home/ms994/v1.5.0/edf/train/01_tcp_ar/086/000...</td>\n",
       "      <td>601</td>\n",
       "    </tr>\n",
       "    <tr>\n",
       "      <th>3159</th>\n",
       "      <td>/home/ms994/v1.5.0/edf/train/01_tcp_ar/086/000...</td>\n",
       "      <td>601</td>\n",
       "    </tr>\n",
       "    <tr>\n",
       "      <th>3160</th>\n",
       "      <td>/home/ms994/v1.5.0/edf/train/01_tcp_ar/086/000...</td>\n",
       "      <td>601</td>\n",
       "    </tr>\n",
       "    <tr>\n",
       "      <th>3161</th>\n",
       "      <td>/home/ms994/v1.5.0/edf/train/01_tcp_ar/086/000...</td>\n",
       "      <td>601</td>\n",
       "    </tr>\n",
       "    <tr>\n",
       "      <th>3162</th>\n",
       "      <td>/home/ms994/v1.5.0/edf/train/01_tcp_ar/086/000...</td>\n",
       "      <td>601</td>\n",
       "    </tr>\n",
       "    <tr>\n",
       "      <th>3163</th>\n",
       "      <td>/home/ms994/v1.5.0/edf/train/01_tcp_ar/086/000...</td>\n",
       "      <td>3337</td>\n",
       "    </tr>\n",
       "    <tr>\n",
       "      <th>3164</th>\n",
       "      <td>/home/ms994/v1.5.0/edf/train/01_tcp_ar/086/000...</td>\n",
       "      <td>1329</td>\n",
       "    </tr>\n",
       "    <tr>\n",
       "      <th>3165</th>\n",
       "      <td>/home/ms994/v1.5.0/edf/train/01_tcp_ar/086/000...</td>\n",
       "      <td>601</td>\n",
       "    </tr>\n",
       "    <tr>\n",
       "      <th>3166</th>\n",
       "      <td>/home/ms994/v1.5.0/edf/train/01_tcp_ar/086/000...</td>\n",
       "      <td>601</td>\n",
       "    </tr>\n",
       "    <tr>\n",
       "      <th>3167</th>\n",
       "      <td>/home/ms994/v1.5.0/edf/train/01_tcp_ar/086/000...</td>\n",
       "      <td>300</td>\n",
       "    </tr>\n",
       "    <tr>\n",
       "      <th>3168</th>\n",
       "      <td>/home/ms994/v1.5.0/edf/train/01_tcp_ar/086/000...</td>\n",
       "      <td>300</td>\n",
       "    </tr>\n",
       "    <tr>\n",
       "      <th>3169</th>\n",
       "      <td>/home/ms994/v1.5.0/edf/train/01_tcp_ar/086/000...</td>\n",
       "      <td>300</td>\n",
       "    </tr>\n",
       "    <tr>\n",
       "      <th>3170</th>\n",
       "      <td>/home/ms994/v1.5.0/edf/train/01_tcp_ar/086/000...</td>\n",
       "      <td>300</td>\n",
       "    </tr>\n",
       "    <tr>\n",
       "      <th>3171</th>\n",
       "      <td>/home/ms994/v1.5.0/edf/train/01_tcp_ar/086/000...</td>\n",
       "      <td>601</td>\n",
       "    </tr>\n",
       "    <tr>\n",
       "      <th>3172</th>\n",
       "      <td>/home/ms994/v1.5.0/edf/train/01_tcp_ar/086/000...</td>\n",
       "      <td>601</td>\n",
       "    </tr>\n",
       "    <tr>\n",
       "      <th>3173</th>\n",
       "      <td>/home/ms994/v1.5.0/edf/train/01_tcp_ar/086/000...</td>\n",
       "      <td>601</td>\n",
       "    </tr>\n",
       "    <tr>\n",
       "      <th>3174</th>\n",
       "      <td>/home/ms994/v1.5.0/edf/train/01_tcp_ar/086/000...</td>\n",
       "      <td>601</td>\n",
       "    </tr>\n",
       "    <tr>\n",
       "      <th>3175</th>\n",
       "      <td>/home/ms994/v1.5.0/edf/train/01_tcp_ar/086/000...</td>\n",
       "      <td>300</td>\n",
       "    </tr>\n",
       "    <tr>\n",
       "      <th>3176</th>\n",
       "      <td>/home/ms994/v1.5.0/edf/train/01_tcp_ar/086/000...</td>\n",
       "      <td>1410</td>\n",
       "    </tr>\n",
       "  </tbody>\n",
       "</table>\n",
       "<p>3177 rows × 2 columns</p>\n",
       "</div>"
      ],
      "text/plain": [
       "                                                      0     1\n",
       "0     /home/ms994/v1.5.0/edf/train/01_tcp_ar/131/000...  1305\n",
       "1     /home/ms994/v1.5.0/edf/train/01_tcp_ar/131/000...   601\n",
       "2     /home/ms994/v1.5.0/edf/train/01_tcp_ar/131/000...   300\n",
       "3     /home/ms994/v1.5.0/edf/train/01_tcp_ar/131/000...   601\n",
       "4     /home/ms994/v1.5.0/edf/train/01_tcp_ar/131/000...   300\n",
       "5     /home/ms994/v1.5.0/edf/train/01_tcp_ar/131/000...   300\n",
       "6     /home/ms994/v1.5.0/edf/train/01_tcp_ar/131/000...   300\n",
       "7     /home/ms994/v1.5.0/edf/train/01_tcp_ar/131/000...   601\n",
       "8     /home/ms994/v1.5.0/edf/train/01_tcp_ar/131/000...   300\n",
       "9     /home/ms994/v1.5.0/edf/train/01_tcp_ar/131/000...   601\n",
       "10    /home/ms994/v1.5.0/edf/train/01_tcp_ar/131/000...   601\n",
       "11    /home/ms994/v1.5.0/edf/train/01_tcp_ar/131/000...   601\n",
       "12    /home/ms994/v1.5.0/edf/train/01_tcp_ar/131/000...   601\n",
       "13    /home/ms994/v1.5.0/edf/train/01_tcp_ar/131/000...   601\n",
       "14    /home/ms994/v1.5.0/edf/train/01_tcp_ar/131/000...    89\n",
       "15    /home/ms994/v1.5.0/edf/train/01_tcp_ar/131/000...    25\n",
       "16    /home/ms994/v1.5.0/edf/train/01_tcp_ar/131/000...   744\n",
       "17    /home/ms994/v1.5.0/edf/train/01_tcp_ar/131/000...   186\n",
       "18    /home/ms994/v1.5.0/edf/train/01_tcp_ar/131/000...   849\n",
       "19    /home/ms994/v1.5.0/edf/train/01_tcp_ar/131/000...   601\n",
       "20    /home/ms994/v1.5.0/edf/train/01_tcp_ar/131/000...   300\n",
       "21    /home/ms994/v1.5.0/edf/train/01_tcp_ar/131/000...   300\n",
       "22    /home/ms994/v1.5.0/edf/train/01_tcp_ar/131/000...   300\n",
       "23    /home/ms994/v1.5.0/edf/train/01_tcp_ar/131/000...   601\n",
       "24    /home/ms994/v1.5.0/edf/train/01_tcp_ar/131/000...   601\n",
       "25    /home/ms994/v1.5.0/edf/train/01_tcp_ar/131/000...   601\n",
       "26    /home/ms994/v1.5.0/edf/train/01_tcp_ar/131/000...   601\n",
       "27    /home/ms994/v1.5.0/edf/train/01_tcp_ar/131/000...   601\n",
       "28    /home/ms994/v1.5.0/edf/train/01_tcp_ar/131/000...   300\n",
       "29    /home/ms994/v1.5.0/edf/train/01_tcp_ar/131/000...   300\n",
       "...                                                 ...   ...\n",
       "3147  /home/ms994/v1.5.0/edf/train/01_tcp_ar/129/000...   300\n",
       "3148  /home/ms994/v1.5.0/edf/train/01_tcp_ar/129/000...   601\n",
       "3149  /home/ms994/v1.5.0/edf/train/01_tcp_ar/086/000...  1531\n",
       "3150  /home/ms994/v1.5.0/edf/train/01_tcp_ar/086/000...  1449\n",
       "3151  /home/ms994/v1.5.0/edf/train/01_tcp_ar/086/000...  1248\n",
       "3152  /home/ms994/v1.5.0/edf/train/01_tcp_ar/086/000...   344\n",
       "3153  /home/ms994/v1.5.0/edf/train/01_tcp_ar/086/000...   601\n",
       "3154  /home/ms994/v1.5.0/edf/train/01_tcp_ar/086/000...   601\n",
       "3155  /home/ms994/v1.5.0/edf/train/01_tcp_ar/086/000...   601\n",
       "3156  /home/ms994/v1.5.0/edf/train/01_tcp_ar/086/000...   601\n",
       "3157  /home/ms994/v1.5.0/edf/train/01_tcp_ar/086/000...   601\n",
       "3158  /home/ms994/v1.5.0/edf/train/01_tcp_ar/086/000...   601\n",
       "3159  /home/ms994/v1.5.0/edf/train/01_tcp_ar/086/000...   601\n",
       "3160  /home/ms994/v1.5.0/edf/train/01_tcp_ar/086/000...   601\n",
       "3161  /home/ms994/v1.5.0/edf/train/01_tcp_ar/086/000...   601\n",
       "3162  /home/ms994/v1.5.0/edf/train/01_tcp_ar/086/000...   601\n",
       "3163  /home/ms994/v1.5.0/edf/train/01_tcp_ar/086/000...  3337\n",
       "3164  /home/ms994/v1.5.0/edf/train/01_tcp_ar/086/000...  1329\n",
       "3165  /home/ms994/v1.5.0/edf/train/01_tcp_ar/086/000...   601\n",
       "3166  /home/ms994/v1.5.0/edf/train/01_tcp_ar/086/000...   601\n",
       "3167  /home/ms994/v1.5.0/edf/train/01_tcp_ar/086/000...   300\n",
       "3168  /home/ms994/v1.5.0/edf/train/01_tcp_ar/086/000...   300\n",
       "3169  /home/ms994/v1.5.0/edf/train/01_tcp_ar/086/000...   300\n",
       "3170  /home/ms994/v1.5.0/edf/train/01_tcp_ar/086/000...   300\n",
       "3171  /home/ms994/v1.5.0/edf/train/01_tcp_ar/086/000...   601\n",
       "3172  /home/ms994/v1.5.0/edf/train/01_tcp_ar/086/000...   601\n",
       "3173  /home/ms994/v1.5.0/edf/train/01_tcp_ar/086/000...   601\n",
       "3174  /home/ms994/v1.5.0/edf/train/01_tcp_ar/086/000...   601\n",
       "3175  /home/ms994/v1.5.0/edf/train/01_tcp_ar/086/000...   300\n",
       "3176  /home/ms994/v1.5.0/edf/train/01_tcp_ar/086/000...  1410\n",
       "\n",
       "[3177 rows x 2 columns]"
      ]
     },
     "execution_count": 24,
     "metadata": {},
     "output_type": "execute_result"
    }
   ],
   "source": [
    "seizure_data"
   ]
  },
  {
   "cell_type": "code",
   "execution_count": 15,
   "metadata": {},
   "outputs": [],
   "source": [
    "seizure_count = pd.read_csv(\"/home/ms994/dbmi_eeg_clustering/assets/seizures.csv\")"
   ]
  },
  {
   "cell_type": "code",
   "execution_count": 20,
   "metadata": {},
   "outputs": [],
   "source": [
    "seizure_count = seizure_count.loc[ ~pd.isnull(seizure_count[\"seizure_start\"])]"
   ]
  },
  {
   "cell_type": "code",
   "execution_count": 23,
   "metadata": {},
   "outputs": [
    {
     "data": {
      "text/plain": [
       "229176.0688"
      ]
     },
     "execution_count": 23,
     "metadata": {},
     "output_type": "execute_result"
    }
   ],
   "source": [
    "(seizure_count.seizure_stop-seizure_count.seizure_start).sum()"
   ]
  },
  {
   "cell_type": "code",
   "execution_count": 2,
   "metadata": {},
   "outputs": [],
   "source": [
    "train_edss = pkl.load(open(\"/n/scratch2/ms994/train_multiple_labels_sessions_montage_seizure_data_4.pkl\", \"rb\"))"
   ]
  },
  {
   "cell_type": "code",
   "execution_count": 4,
   "metadata": {},
   "outputs": [
    {
     "data": {
      "text/plain": [
       "239325"
      ]
     },
     "execution_count": 4,
     "metadata": {},
     "output_type": "execute_result"
    }
   ],
   "source": [
    "len(train_edss)"
   ]
  },
  {
   "cell_type": "code",
   "execution_count": 5,
   "metadata": {},
   "outputs": [],
   "source": [
    "train_seizure_labels = [datum[1][0] for datum in train_edss]\n",
    "train_session_labels = [datum[1][1] for datum in train_edss]\n",
    "train_subtype_labels = [datum[1][2] for datum in train_edss]\n",
    "train_montage_labels = [datum[1][3] for datum in train_edss]"
   ]
  },
  {
   "cell_type": "code",
   "execution_count": 9,
   "metadata": {},
   "outputs": [],
   "source": [
    "montages = pd.concat(train_montage_labels, axis=1)"
   ]
  },
  {
   "cell_type": "code",
   "execution_count": 11,
   "metadata": {},
   "outputs": [],
   "source": [
    "montages = montages.T"
   ]
  },
  {
   "cell_type": "code",
   "execution_count": 12,
   "metadata": {},
   "outputs": [],
   "source": [
    "montages = montages.reset_index()"
   ]
  },
  {
   "cell_type": "code",
   "execution_count": 16,
   "metadata": {},
   "outputs": [],
   "source": [
    "montages = montages.drop([\"index\"], axis=1)"
   ]
  },
  {
   "cell_type": "code",
   "execution_count": 18,
   "metadata": {},
   "outputs": [],
   "source": [
    "seizure_montages = montages.loc[train_seizure_labels]"
   ]
  },
  {
   "cell_type": "code",
   "execution_count": 28,
   "metadata": {},
   "outputs": [
    {
     "data": {
      "text/plain": [
       "<BarContainer object of 22 artists>"
      ]
     },
     "execution_count": 28,
     "metadata": {},
     "output_type": "execute_result"
    },
    {
     "data": {
      "image/png": "[encoded data removed]",
      "text/plain": [
       "<Figure size 432x288 with 1 Axes>"
      ]
     },
     "metadata": {
      "needs_background": "light"
     },
     "output_type": "display_data"
    }
   ],
   "source": [
    "sum_all = seizure_montages.sum()\n",
    "sum_all = sum_all.sort_values()\n",
    "plt.title(\"Seizure Montage Level Annotations For Seizures\")\n",
    "plt.xlabel(\"Num Occurrences in Train Set (w/4 second segments)\")\n",
    "plt.ylabel(\"Montage\")\n",
    "plt.barh(y=sum_all.index, width=sum_all, )"
   ]
  },
  {
   "cell_type": "code",
   "execution_count": 36,
   "metadata": {},
   "outputs": [
    {
     "data": {
      "text/plain": [
       "(array([2462., 2121., 1945., 2382., 1440., 4145.,  678., 1324.,   55.,\n",
       "        3701.]),\n",
       " array([ 0. ,  2.2,  4.4,  6.6,  8.8, 11. , 13.2, 15.4, 17.6, 19.8, 22. ]),\n",
       " <a list of 10 Patch objects>)"
      ]
     },
     "execution_count": 36,
     "metadata": {},
     "output_type": "execute_result"
    },
    {
     "data": {
      "image/png": "[encoded data removed]",
      "text/plain": [
       "<Figure size 720x576 with 1 Axes>"
      ]
     },
     "metadata": {
      "needs_background": "light"
     },
     "output_type": "display_data"
    }
   ],
   "source": [
    "plt.figure(figsize=(10,8))\n",
    "plt.title(\"Num. Seizure Active Montage Channels (Among Seizure Subset)\")\n",
    "plt.ylabel(\"Num 4 Second Segments\")\n",
    "plt.hist(seizure_montages.sum(axis=1))"
   ]
  },
  {
   "cell_type": "code",
   "execution_count": 6,
   "metadata": {},
   "outputs": [
    {
     "data": {
      "text/plain": [
       "14.941495870360056"
      ]
     },
     "execution_count": 6,
     "metadata": {},
     "output_type": "execute_result"
    }
   ],
   "source": [
    "train_edss[0][0].std()"
   ]
  },
  {
   "cell_type": "code",
   "execution_count": 7,
   "metadata": {},
   "outputs": [],
   "source": [
    "stdTrainEds = [datum[0].std() for datum in train_edss]"
   ]
  },
  {
   "cell_type": "code",
   "execution_count": 15,
   "metadata": {},
   "outputs": [
    {
     "data": {
      "text/plain": [
       "239325"
      ]
     },
     "execution_count": 15,
     "metadata": {},
     "output_type": "execute_result"
    }
   ],
   "source": []
  },
  {
   "cell_type": "code",
   "execution_count": 16,
   "metadata": {},
   "outputs": [
    {
     "data": {
      "text/plain": [
       "0.08042202026532957"
      ]
     },
     "execution_count": 16,
     "metadata": {},
     "output_type": "execute_result"
    }
   ],
   "source": [
    "(pd.Series(stdTrainEds)>100).sum()/len(stdTrainEds)"
   ]
  },
  {
   "cell_type": "code",
   "execution_count": 17,
   "metadata": {},
   "outputs": [],
   "source": [
    "df = pd.DataFrame([stdTrainEds, train_seizure_labels], index=[\"std\", \"seiz\"] )"
   ]
  },
  {
   "cell_type": "code",
   "execution_count": 27,
   "metadata": {},
   "outputs": [
    {
     "data": {
      "text/plain": [
       "0.08283881169403576"
      ]
     },
     "execution_count": 27,
     "metadata": {},
     "output_type": "execute_result"
    }
   ],
   "source": [
    "df.T.loc[df.T[\"std\"] <= 100].seiz.mean()"
   ]
  },
  {
   "cell_type": "code",
   "execution_count": 2,
   "metadata": {},
   "outputs": [],
   "source": [
    "import pyprep\n",
    "import mne"
   ]
  },
  {
   "cell_type": "code",
   "execution_count": 4,
   "metadata": {},
   "outputs": [],
   "source": [
    "edf_files = read.get_all_token_file_names(\"train\", \"01_tcp_ar\")"
   ]
  },
  {
   "cell_type": "code",
   "execution_count": 1,
   "metadata": {},
   "outputs": [
    {
     "ename": "NameError",
     "evalue": "name 'data' is not defined",
     "output_type": "error",
     "traceback": [
      "\u001b[0;31m---------------------------------------------------------------------------\u001b[0m",
      "\u001b[0;31mNameError\u001b[0m                                 Traceback (most recent call last)",
      "\u001b[0;32m<ipython-input-1-88e8ac722ab4>\u001b[0m in \u001b[0;36m<module>\u001b[0;34m\u001b[0m\n\u001b[0;32m----> 1\u001b[0;31m \u001b[0mcroppedData\u001b[0m \u001b[0;34m=\u001b[0m \u001b[0mdata\u001b[0m\u001b[0;34m.\u001b[0m\u001b[0mcrop\u001b[0m\u001b[0;34m(\u001b[0m\u001b[0;36m0\u001b[0m\u001b[0;34m,\u001b[0m\u001b[0;36m10\u001b[0m\u001b[0;34m)\u001b[0m\u001b[0;34m\u001b[0m\u001b[0;34m\u001b[0m\u001b[0m\n\u001b[0m",
      "\u001b[0;31mNameError\u001b[0m: name 'data' is not defined"
     ]
    }
   ],
   "source": [
    "croppedData = data.crop(0,10)"
   ]
  },
  {
   "cell_type": "code",
   "execution_count": 3,
   "metadata": {},
   "outputs": [
    {
     "ename": "NameError",
     "evalue": "name 'data' is not defined",
     "output_type": "error",
     "traceback": [
      "\u001b[0;31m---------------------------------------------------------------------------\u001b[0m",
      "\u001b[0;31mNameError\u001b[0m                                 Traceback (most recent call last)",
      "\u001b[0;32m<ipython-input-3-9d6532da695e>\u001b[0m in \u001b[0;36m<module>\u001b[0;34m\u001b[0m\n\u001b[1;32m      1\u001b[0m \u001b[0;32mimport\u001b[0m \u001b[0mnumpy\u001b[0m \u001b[0;32mas\u001b[0m \u001b[0mnp\u001b[0m\u001b[0;34m\u001b[0m\u001b[0;34m\u001b[0m\u001b[0m\n\u001b[0;32m----> 2\u001b[0;31m \u001b[0mnp\u001b[0m\u001b[0;34m.\u001b[0m\u001b[0marange\u001b[0m\u001b[0;34m(\u001b[0m\u001b[0;36m60\u001b[0m\u001b[0;34m,\u001b[0m \u001b[0mdata\u001b[0m\u001b[0;34m.\u001b[0m\u001b[0minfo\u001b[0m\u001b[0;34m[\u001b[0m\u001b[0;34m\"sfreq\"\u001b[0m\u001b[0;34m]\u001b[0m\u001b[0;34m/\u001b[0m\u001b[0;36m2\u001b[0m\u001b[0;34m,\u001b[0m \u001b[0;36m60\u001b[0m\u001b[0;34m)\u001b[0m\u001b[0;34m\u001b[0m\u001b[0;34m\u001b[0m\u001b[0m\n\u001b[0m",
      "\u001b[0;31mNameError\u001b[0m: name 'data' is not defined"
     ]
    }
   ],
   "source": [
    "import numpy as np\n",
    "np.arange(60, data.info[\"sfreq\"]/2, 60)"
   ]
  },
  {
   "cell_type": "code",
   "execution_count": 16,
   "metadata": {},
   "outputs": [],
   "source": [
    "fails = 0\n",
    "success = 0"
   ]
  },
  {
   "cell_type": "code",
   "execution_count": 6,
   "metadata": {},
   "outputs": [
    {
     "ename": "NameError",
     "evalue": "name 'edf_files' is not defined",
     "output_type": "error",
     "traceback": [
      "\u001b[0;31m---------------------------------------------------------------------------\u001b[0m",
      "\u001b[0;31mNameError\u001b[0m                                 Traceback (most recent call last)",
      "\u001b[0;32m<ipython-input-6-41ea8ca4d750>\u001b[0m in \u001b[0;36m<module>\u001b[0;34m\u001b[0m\n\u001b[0;32m----> 1\u001b[0;31m \u001b[0mlen\u001b[0m\u001b[0;34m(\u001b[0m\u001b[0medf_files\u001b[0m\u001b[0;34m)\u001b[0m\u001b[0;34m\u001b[0m\u001b[0;34m\u001b[0m\u001b[0m\n\u001b[0m",
      "\u001b[0;31mNameError\u001b[0m: name 'edf_files' is not defined"
     ]
    }
   ],
   "source": [
    "len(edf_files)"
   ]
  },
  {
   "cell_type": "code",
   "execution_count": 4,
   "metadata": {},
   "outputs": [
    {
     "ename": "NameError",
     "evalue": "name 'mne' is not defined",
     "output_type": "error",
     "traceback": [
      "\u001b[0;31m---------------------------------------------------------------------------\u001b[0m",
      "\u001b[0;31mNameError\u001b[0m                                 Traceback (most recent call last)",
      "\u001b[0;32m<ipython-input-4-da6a069d7dcf>\u001b[0m in \u001b[0;36m<module>\u001b[0;34m\u001b[0m\n\u001b[1;32m      1\u001b[0m \u001b[0;32mfor\u001b[0m \u001b[0mi\u001b[0m \u001b[0;32min\u001b[0m \u001b[0mrange\u001b[0m\u001b[0;34m(\u001b[0m\u001b[0;36m400\u001b[0m\u001b[0;34m)\u001b[0m\u001b[0;34m:\u001b[0m\u001b[0;34m\u001b[0m\u001b[0;34m\u001b[0m\u001b[0m\n\u001b[0;32m----> 2\u001b[0;31m     \u001b[0mdata\u001b[0m \u001b[0;34m=\u001b[0m \u001b[0mmne\u001b[0m\u001b[0;34m.\u001b[0m\u001b[0mio\u001b[0m\u001b[0;34m.\u001b[0m\u001b[0mread_raw_edf\u001b[0m\u001b[0;34m(\u001b[0m\u001b[0medf_files\u001b[0m\u001b[0;34m[\u001b[0m\u001b[0;36m580\u001b[0m\u001b[0;34m]\u001b[0m\u001b[0;34m,\u001b[0m \u001b[0mpreload\u001b[0m\u001b[0;34m=\u001b[0m\u001b[0;32mTrue\u001b[0m\u001b[0;34m)\u001b[0m\u001b[0;34m\u001b[0m\u001b[0;34m\u001b[0m\u001b[0m\n\u001b[0m\u001b[1;32m      3\u001b[0m     \u001b[0mdata\u001b[0m \u001b[0;34m=\u001b[0m \u001b[0mdata\u001b[0m\u001b[0;34m.\u001b[0m\u001b[0mpick_channels\u001b[0m\u001b[0;34m(\u001b[0m\u001b[0mutil_funcs\u001b[0m\u001b[0;34m.\u001b[0m\u001b[0mget_common_channel_names\u001b[0m\u001b[0;34m(\u001b[0m\u001b[0;34m)\u001b[0m\u001b[0;34m)\u001b[0m\u001b[0;34m\u001b[0m\u001b[0;34m\u001b[0m\u001b[0m\n\u001b[1;32m      4\u001b[0m     \u001b[0mdata\u001b[0m\u001b[0;34m.\u001b[0m\u001b[0mrename_channels\u001b[0m\u001b[0;34m(\u001b[0m\u001b[0mconstants\u001b[0m\u001b[0;34m.\u001b[0m\u001b[0mMNE_CHANNEL_EDF_MAPPING\u001b[0m\u001b[0;34m)\u001b[0m\u001b[0;34m\u001b[0m\u001b[0;34m\u001b[0m\u001b[0m\n\u001b[1;32m      5\u001b[0m     \u001b[0mdata\u001b[0m\u001b[0;34m.\u001b[0m\u001b[0mset_montage\u001b[0m\u001b[0;34m(\u001b[0m\u001b[0;34m\"standard_1020\"\u001b[0m\u001b[0;34m)\u001b[0m\u001b[0;34m\u001b[0m\u001b[0;34m\u001b[0m\u001b[0m\n",
      "\u001b[0;31mNameError\u001b[0m: name 'mne' is not defined"
     ]
    }
   ],
   "source": [
    "for i in range(400):\n",
    "    data = mne.io.read_raw_edf(edf_files[580], preload=True)\n",
    "    data = data.pick_channels(util_funcs.get_common_channel_names())\n",
    "    data.rename_channels(constants.MNE_CHANNEL_EDF_MAPPING)\n",
    "    data.set_montage(\"standard_1020\")\n",
    "    data.resample(512)\n",
    "    montage_kind = \"standard_1020\"\n",
    "    prep_params = {'ref_chs': data.ch_names,\n",
    "                   'reref_chs': data.ch_names,\n",
    "                   'line_freqs': np.arange(60, data.info[\"sfreq\"]/2, 60)}\n",
    "    montage = mne.channels.make_standard_montage(montage_kind)\n",
    "    dataSubset = data.crop(i*10,i*10+30)\n",
    "    prep = pyprep.PrepPipeline(dataSubset, prep_params, montage, ransac=False)\n",
    "    try:\n",
    "        prep.fit()\n",
    "        success+=1\n",
    "    except Exception:\n",
    "        print(\"failure\")\n",
    "        fails += 1\n",
    "        "
   ]
  },
  {
   "cell_type": "code",
   "execution_count": 18,
   "metadata": {},
   "outputs": [
    {
     "data": {
      "text/plain": [
       "(13, 4)"
      ]
     },
     "execution_count": 18,
     "metadata": {},
     "output_type": "execute_result"
    }
   ],
   "source": [
    "success, fails"
   ]
  },
  {
   "cell_type": "code",
   "execution_count": 5,
   "metadata": {},
   "outputs": [
    {
     "ename": "NameError",
     "evalue": "name 'prep' is not defined",
     "output_type": "error",
     "traceback": [
      "\u001b[0;31m---------------------------------------------------------------------------\u001b[0m",
      "\u001b[0;31mNameError\u001b[0m                                 Traceback (most recent call last)",
      "\u001b[0;32m<ipython-input-5-985b33c03b0f>\u001b[0m in \u001b[0;36m<module>\u001b[0;34m\u001b[0m\n\u001b[0;32m----> 1\u001b[0;31m \u001b[0mdata\u001b[0m \u001b[0;34m=\u001b[0m \u001b[0mprep\u001b[0m\u001b[0;34m.\u001b[0m\u001b[0mraw\u001b[0m\u001b[0;34m.\u001b[0m\u001b[0mplot\u001b[0m\u001b[0;34m(\u001b[0m\u001b[0;34m)\u001b[0m\u001b[0;34m\u001b[0m\u001b[0;34m\u001b[0m\u001b[0m\n\u001b[0m",
      "\u001b[0;31mNameError\u001b[0m: name 'prep' is not defined"
     ]
    }
   ],
   "source": [
    "data = prep.raw.plot()"
   ]
  },
  {
   "cell_type": "code",
   "execution_count": 22,
   "metadata": {},
   "outputs": [
    {
     "data": {
      "text/plain": [
       "(21, 30001)"
      ]
     },
     "execution_count": 22,
     "metadata": {},
     "output_type": "execute_result"
    }
   ],
   "source": []
  },
  {
   "cell_type": "code",
   "execution_count": 30,
   "metadata": {},
   "outputs": [
    {
     "name": "stdout",
     "output_type": "stream",
     "text": [
      "Bad channels: ['A2', 'Pz']\n",
      "Bad channels original: []\n",
      "Bad channels after interpolation: ['A2']\n"
     ]
    }
   ],
   "source": [
    "print(\"Bad channels: {}\".format(prep.interpolated_channels))\n",
    "print(\"Bad channels original: {}\".format(prep.noisy_channels_original['bad_all']))\n",
    "print(\"Bad channels after interpolation: {}\".format(prep.still_noisy_channels))"
   ]
  },
  {
   "cell_type": "code",
   "execution_count": 2,
   "metadata": {},
   "outputs": [
    {
     "ename": "NameError",
     "evalue": "name 'mne' is not defined",
     "output_type": "error",
     "traceback": [
      "\u001b[0;31m---------------------------------------------------------------------------\u001b[0m",
      "\u001b[0;31mNameError\u001b[0m                                 Traceback (most recent call last)",
      "\u001b[0;32m<ipython-input-2-5c059ed5c151>\u001b[0m in \u001b[0;36m<module>\u001b[0;34m\u001b[0m\n\u001b[0;32m----> 1\u001b[0;31m \u001b[0mmne\u001b[0m\u001b[0;34m.\u001b[0m\u001b[0mEpochs\u001b[0m\u001b[0;34m(\u001b[0m\u001b[0mdata\u001b[0m\u001b[0;34m)\u001b[0m\u001b[0;34m\u001b[0m\u001b[0;34m\u001b[0m\u001b[0m\n\u001b[0m",
      "\u001b[0;31mNameError\u001b[0m: name 'mne' is not defined"
     ]
    }
   ],
   "source": [
    "mne.Epochs(data)"
   ]
  },
  {
   "cell_type": "code",
   "execution_count": 5,
   "metadata": {},
   "outputs": [
    {
     "name": "stdout",
     "output_type": "stream",
     "text": [
      "<DigMontage | 0 extras (headshape), 0 HPIs, 3 fiducials, 94 channels>\n"
     ]
    }
   ],
   "source": [
    "ten_twenty_montage = mne.channels.make_standard_montage('standard_1020')\n",
    "print(ten_twenty_montage)"
   ]
  },
  {
   "cell_type": "code",
   "execution_count": 8,
   "metadata": {},
   "outputs": [],
   "source": [
    "from importlib import reload"
   ]
  },
  {
   "cell_type": "code",
   "execution_count": 20,
   "metadata": {},
   "outputs": [
    {
     "data": {
      "text/plain": [
       "<module 'constants' from '/home/ms994/dbmi_eeg_clustering/constants.py'>"
      ]
     },
     "execution_count": 20,
     "metadata": {},
     "output_type": "execute_result"
    }
   ],
   "source": [
    "reload(constants)"
   ]
  },
  {
   "cell_type": "code",
   "execution_count": 34,
   "metadata": {},
   "outputs": [
    {
     "data": {
      "text/plain": [
       "<module 'preprocessing_v2' from '/home/ms994/dbmi_eeg_clustering/preprocessing_v2.py'>"
      ]
     },
     "execution_count": 34,
     "metadata": {},
     "output_type": "execute_result"
    }
   ],
   "source": [
    "import preprocessing_v2 as v2\n",
    "reload(v2)"
   ]
  },
  {
   "cell_type": "code",
   "execution_count": null,
   "metadata": {},
   "outputs": [],
   "source": [
    "extra_channels ="
   ]
  },
  {
   "cell_type": "code",
   "execution_count": 46,
   "metadata": {},
   "outputs": [
    {
     "ename": "AttributeError",
     "evalue": "'NoneType' object has no attribute 'ch_names'",
     "output_type": "error",
     "traceback": [
      "\u001b[0;31m---------------------------------------------------------------------------\u001b[0m",
      "\u001b[0;31mAttributeError\u001b[0m                            Traceback (most recent call last)",
      "\u001b[0;32m<ipython-input-46-c7d76eeb5b02>\u001b[0m in \u001b[0;36m<module>\u001b[0;34m\u001b[0m\n\u001b[0;32m----> 1\u001b[0;31m \u001b[0mdata\u001b[0m\u001b[0;34m.\u001b[0m\u001b[0mch_names\u001b[0m\u001b[0;34m\u001b[0m\u001b[0;34m\u001b[0m\u001b[0m\n\u001b[0m",
      "\u001b[0;31mAttributeError\u001b[0m: 'NoneType' object has no attribute 'ch_names'"
     ]
    }
   ],
   "source": [
    "data.ch_names"
   ]
  },
  {
   "cell_type": "code",
   "execution_count": 41,
   "metadata": {},
   "outputs": [
    {
     "ename": "ValueError",
     "evalue": "DigMontage is a only a subset of info. There are 9 channel positions not present it the DigMontage. The required channels are: {'EEG T2-REF', 'EEG EKG1-REF', 'SUPPR', 'EEG LOC-REF', 'PHOTIC-REF', 'EEG T1-REF', 'BURSTS', 'IBI', 'EEG ROC-REF'}.\nYou can use `raise_if_subset=False` in `set_montage` to avoid this ValueError and get a DeprecationWarning instead.",
     "output_type": "error",
     "traceback": [
      "\u001b[0;31m---------------------------------------------------------------------------\u001b[0m",
      "\u001b[0;31mValueError\u001b[0m                                Traceback (most recent call last)",
      "\u001b[0;32m<ipython-input-41-1d51165a36f1>\u001b[0m in \u001b[0;36m<module>\u001b[0;34m\u001b[0m\n\u001b[0;32m----> 1\u001b[0;31m \u001b[0mdata\u001b[0m\u001b[0;34m.\u001b[0m\u001b[0mset_montage\u001b[0m\u001b[0;34m(\u001b[0m\u001b[0;34m\"standard_1020\"\u001b[0m\u001b[0;34m)\u001b[0m\u001b[0;34m\u001b[0m\u001b[0;34m\u001b[0m\u001b[0m\n\u001b[0m",
      "\u001b[0;32m</home/ms994/miniconda3/envs/keras-redo/lib/python3.7/site-packages/mne/externals/decorator.py:decorator-gen-30>\u001b[0m in \u001b[0;36mset_montage\u001b[0;34m(self, montage, set_dig, raise_if_subset, verbose)\u001b[0m\n",
      "\u001b[0;32m~/miniconda3/envs/keras-redo/lib/python3.7/site-packages/mne/utils/_logging.py\u001b[0m in \u001b[0;36mwrapper\u001b[0;34m(*args, **kwargs)\u001b[0m\n\u001b[1;32m     88\u001b[0m             \u001b[0;32mwith\u001b[0m \u001b[0muse_log_level\u001b[0m\u001b[0;34m(\u001b[0m\u001b[0mverbose_level\u001b[0m\u001b[0;34m)\u001b[0m\u001b[0;34m:\u001b[0m\u001b[0;34m\u001b[0m\u001b[0;34m\u001b[0m\u001b[0m\n\u001b[1;32m     89\u001b[0m                 \u001b[0;32mreturn\u001b[0m \u001b[0mfunction\u001b[0m\u001b[0;34m(\u001b[0m\u001b[0;34m*\u001b[0m\u001b[0margs\u001b[0m\u001b[0;34m,\u001b[0m \u001b[0;34m**\u001b[0m\u001b[0mkwargs\u001b[0m\u001b[0;34m)\u001b[0m\u001b[0;34m\u001b[0m\u001b[0;34m\u001b[0m\u001b[0m\n\u001b[0;32m---> 90\u001b[0;31m         \u001b[0;32mreturn\u001b[0m \u001b[0mfunction\u001b[0m\u001b[0;34m(\u001b[0m\u001b[0;34m*\u001b[0m\u001b[0margs\u001b[0m\u001b[0;34m,\u001b[0m \u001b[0;34m**\u001b[0m\u001b[0mkwargs\u001b[0m\u001b[0;34m)\u001b[0m\u001b[0;34m\u001b[0m\u001b[0;34m\u001b[0m\u001b[0m\n\u001b[0m\u001b[1;32m     91\u001b[0m     return FunctionMaker.create(\n\u001b[1;32m     92\u001b[0m         \u001b[0mfunction\u001b[0m\u001b[0;34m,\u001b[0m \u001b[0;34m'return decfunc(%(signature)s)'\u001b[0m\u001b[0;34m,\u001b[0m\u001b[0;34m\u001b[0m\u001b[0;34m\u001b[0m\u001b[0m\n",
      "\u001b[0;32m~/miniconda3/envs/keras-redo/lib/python3.7/site-packages/mne/channels/channels.py\u001b[0m in \u001b[0;36mset_montage\u001b[0;34m(self, montage, set_dig, raise_if_subset, verbose)\u001b[0m\n\u001b[1;32m    486\u001b[0m         \u001b[0;32mfrom\u001b[0m \u001b[0;34m.\u001b[0m\u001b[0mmontage\u001b[0m \u001b[0;32mimport\u001b[0m \u001b[0m_set_montage\u001b[0m\u001b[0;34m\u001b[0m\u001b[0;34m\u001b[0m\u001b[0m\n\u001b[1;32m    487\u001b[0m         _set_montage(self.info, montage, update_ch_names=DEPRECATED_PARAM,\n\u001b[0;32m--> 488\u001b[0;31m                      set_dig=set_dig, raise_if_subset=raise_if_subset)\n\u001b[0m\u001b[1;32m    489\u001b[0m         \u001b[0;32mreturn\u001b[0m \u001b[0mself\u001b[0m\u001b[0;34m\u001b[0m\u001b[0;34m\u001b[0m\u001b[0m\n\u001b[1;32m    490\u001b[0m \u001b[0;34m\u001b[0m\u001b[0m\n",
      "\u001b[0;32m~/miniconda3/envs/keras-redo/lib/python3.7/site-packages/mne/channels/montage.py\u001b[0m in \u001b[0;36m_set_montage\u001b[0;34m(info, montage, update_ch_names, set_dig, raise_if_subset)\u001b[0m\n\u001b[1;32m   1563\u001b[0m             \u001b[0minfo_names\u001b[0m\u001b[0;34m=\u001b[0m\u001b[0mset\u001b[0m\u001b[0;34m(\u001b[0m\u001b[0;34m[\u001b[0m\u001b[0minfo\u001b[0m\u001b[0;34m[\u001b[0m\u001b[0;34m'ch_names'\u001b[0m\u001b[0;34m]\u001b[0m\u001b[0;34m[\u001b[0m\u001b[0mii\u001b[0m\u001b[0;34m]\u001b[0m \u001b[0;32mfor\u001b[0m \u001b[0mii\u001b[0m \u001b[0;32min\u001b[0m \u001b[0m_pick_chs\u001b[0m\u001b[0;34m(\u001b[0m\u001b[0minfo\u001b[0m\u001b[0;34m)\u001b[0m\u001b[0;34m]\u001b[0m\u001b[0;34m)\u001b[0m\u001b[0;34m,\u001b[0m\u001b[0;34m\u001b[0m\u001b[0;34m\u001b[0m\u001b[0m\n\u001b[1;32m   1564\u001b[0m             \u001b[0mmontage_names\u001b[0m\u001b[0;34m=\u001b[0m\u001b[0mset\u001b[0m\u001b[0;34m(\u001b[0m\u001b[0mch_pos\u001b[0m\u001b[0;34m)\u001b[0m\u001b[0;34m,\u001b[0m\u001b[0;34m\u001b[0m\u001b[0;34m\u001b[0m\u001b[0m\n\u001b[0;32m-> 1565\u001b[0;31m             \u001b[0mraise_if_subset\u001b[0m\u001b[0;34m=\u001b[0m\u001b[0m_raise\u001b[0m\u001b[0;34m,\u001b[0m  \u001b[0;31m# XXX: deprecated param to remove in 0.20\u001b[0m\u001b[0;34m\u001b[0m\u001b[0;34m\u001b[0m\u001b[0m\n\u001b[0m\u001b[1;32m   1566\u001b[0m         )\n\u001b[1;32m   1567\u001b[0m \u001b[0;34m\u001b[0m\u001b[0m\n",
      "\u001b[0;32m~/miniconda3/envs/keras-redo/lib/python3.7/site-packages/mne/channels/montage.py\u001b[0m in \u001b[0;36m_check_ch_names_are_compatible\u001b[0;34m(info_names, montage_names, raise_if_subset)\u001b[0m\n\u001b[1;32m     91\u001b[0m                 \u001b[0;34m'\\nYou can use `raise_if_subset=False` in `set_montage` to'\u001b[0m\u001b[0;34m\u001b[0m\u001b[0;34m\u001b[0m\u001b[0m\n\u001b[1;32m     92\u001b[0m                 \u001b[0;34m' avoid this ValueError and get a DeprecationWarning instead.'\u001b[0m\u001b[0;34m\u001b[0m\u001b[0;34m\u001b[0m\u001b[0m\n\u001b[0;32m---> 93\u001b[0;31m             ).format(n_ch=len(not_in_montage), ch_names=not_in_montage))\n\u001b[0m\u001b[1;32m     94\u001b[0m         \u001b[0;32melse\u001b[0m\u001b[0;34m:\u001b[0m\u001b[0;34m\u001b[0m\u001b[0;34m\u001b[0m\u001b[0m\n\u001b[1;32m     95\u001b[0m             \u001b[0;31m# XXX: deprecated. to remove in 0.20 (raise_if_subset, too)\u001b[0m\u001b[0;34m\u001b[0m\u001b[0;34m\u001b[0m\u001b[0;34m\u001b[0m\u001b[0m\n",
      "\u001b[0;31mValueError\u001b[0m: DigMontage is a only a subset of info. There are 9 channel positions not present it the DigMontage. The required channels are: {'EEG T2-REF', 'EEG EKG1-REF', 'SUPPR', 'EEG LOC-REF', 'PHOTIC-REF', 'EEG T1-REF', 'BURSTS', 'IBI', 'EEG ROC-REF'}.\nYou can use `raise_if_subset=False` in `set_montage` to avoid this ValueError and get a DeprecationWarning instead."
     ]
    }
   ],
   "source": []
  },
  {
   "cell_type": "code",
   "execution_count": null,
   "metadata": {},
   "outputs": [],
   "source": []
  },
  {
   "cell_type": "code",
   "execution_count": 37,
   "metadata": {},
   "outputs": [
    {
     "data": {
      "text/plain": [
       "mne.io.edf.edf.RawEDF"
      ]
     },
     "execution_count": 37,
     "metadata": {},
     "output_type": "execute_result"
    }
   ],
   "source": [
    "type(data)"
   ]
  },
  {
   "cell_type": "code",
   "execution_count": null,
   "metadata": {},
   "outputs": [],
   "source": [
    "ten_twenty_montage"
   ]
  },
  {
   "cell_type": "code",
   "execution_count": null,
   "metadata": {},
   "outputs": [],
   "source": [
    "data"
   ]
  },
  {
   "cell_type": "code",
   "execution_count": 37,
   "metadata": {},
   "outputs": [
    {
     "ename": "ModuleNotFoundError",
     "evalue": "spec not found for the module 'pyprep'",
     "output_type": "error",
     "traceback": [
      "\u001b[0;31m---------------------------------------------------------------------------\u001b[0m",
      "\u001b[0;31mModuleNotFoundError\u001b[0m                       Traceback (most recent call last)",
      "\u001b[0;32m<ipython-input-37-68038d55090c>\u001b[0m in \u001b[0;36m<module>\u001b[0;34m\u001b[0m\n\u001b[1;32m      1\u001b[0m \u001b[0;32mfrom\u001b[0m \u001b[0mimportlib\u001b[0m \u001b[0;32mimport\u001b[0m \u001b[0mreload\u001b[0m\u001b[0;34m\u001b[0m\u001b[0;34m\u001b[0m\u001b[0m\n\u001b[0;32m----> 2\u001b[0;31m \u001b[0mreload\u001b[0m\u001b[0;34m(\u001b[0m\u001b[0mpyprep\u001b[0m\u001b[0;34m)\u001b[0m\u001b[0;34m\u001b[0m\u001b[0;34m\u001b[0m\u001b[0m\n\u001b[0m",
      "\u001b[0;32m~/miniconda3/envs/keras-redo/lib/python3.7/importlib/__init__.py\u001b[0m in \u001b[0;36mreload\u001b[0;34m(module)\u001b[0m\n\u001b[1;32m    166\u001b[0m         \u001b[0mspec\u001b[0m \u001b[0;34m=\u001b[0m \u001b[0mmodule\u001b[0m\u001b[0;34m.\u001b[0m\u001b[0m__spec__\u001b[0m \u001b[0;34m=\u001b[0m \u001b[0m_bootstrap\u001b[0m\u001b[0;34m.\u001b[0m\u001b[0m_find_spec\u001b[0m\u001b[0;34m(\u001b[0m\u001b[0mname\u001b[0m\u001b[0;34m,\u001b[0m \u001b[0mpkgpath\u001b[0m\u001b[0;34m,\u001b[0m \u001b[0mtarget\u001b[0m\u001b[0;34m)\u001b[0m\u001b[0;34m\u001b[0m\u001b[0;34m\u001b[0m\u001b[0m\n\u001b[1;32m    167\u001b[0m         \u001b[0;32mif\u001b[0m \u001b[0mspec\u001b[0m \u001b[0;32mis\u001b[0m \u001b[0;32mNone\u001b[0m\u001b[0;34m:\u001b[0m\u001b[0;34m\u001b[0m\u001b[0;34m\u001b[0m\u001b[0m\n\u001b[0;32m--> 168\u001b[0;31m             \u001b[0;32mraise\u001b[0m \u001b[0mModuleNotFoundError\u001b[0m\u001b[0;34m(\u001b[0m\u001b[0;34mf\"spec not found for the module {name!r}\"\u001b[0m\u001b[0;34m,\u001b[0m \u001b[0mname\u001b[0m\u001b[0;34m=\u001b[0m\u001b[0mname\u001b[0m\u001b[0;34m)\u001b[0m\u001b[0;34m\u001b[0m\u001b[0;34m\u001b[0m\u001b[0m\n\u001b[0m\u001b[1;32m    169\u001b[0m         \u001b[0m_bootstrap\u001b[0m\u001b[0;34m.\u001b[0m\u001b[0m_exec\u001b[0m\u001b[0;34m(\u001b[0m\u001b[0mspec\u001b[0m\u001b[0;34m,\u001b[0m \u001b[0mmodule\u001b[0m\u001b[0;34m)\u001b[0m\u001b[0;34m\u001b[0m\u001b[0;34m\u001b[0m\u001b[0m\n\u001b[1;32m    170\u001b[0m         \u001b[0;31m# The module may have replaced itself in sys.modules!\u001b[0m\u001b[0;34m\u001b[0m\u001b[0;34m\u001b[0m\u001b[0;34m\u001b[0m\u001b[0m\n",
      "\u001b[0;31mModuleNotFoundError\u001b[0m: spec not found for the module 'pyprep'"
     ]
    }
   ],
   "source": [
    "from importlib import reload\n",
    "reload(pyprep)"
   ]
  },
  {
   "cell_type": "code",
   "execution_count": 2,
   "metadata": {},
   "outputs": [],
   "source": [
    "from pyedflib import EdfReader\n",
    "from pyprep.prep_pipeline import PrepPipeline"
   ]
  },
  {
   "cell_type": "code",
   "execution_count": 29,
   "metadata": {},
   "outputs": [
    {
     "name": "stdout",
     "output_type": "stream",
     "text": [
      "[1000 1000 1000 1000 1000 1000 1000 1000 1000 1000 1000 1000 1000 1000\n",
      " 1000 1000 1000 1000 1000 1000 1000 1000 1000 1000 1000 1000 1000    1\n",
      "    1    1]\n"
     ]
    }
   ],
   "source": [
    "reader = EdfReader(edf_files[580])\n",
    "print(reader.getSampleFrequencies())\n",
    "# reader.close()\n"
   ]
  },
  {
   "cell_type": "code",
   "execution_count": 34,
   "metadata": {},
   "outputs": [
    {
     "data": {
      "text/plain": [
       "(1380000,)"
      ]
     },
     "execution_count": 34,
     "metadata": {},
     "output_type": "execute_result"
    }
   ],
   "source": [
    "reader.readSignal(0).shape"
   ]
  },
  {
   "cell_type": "code",
   "execution_count": 18,
   "metadata": {},
   "outputs": [],
   "source": []
  }
 ],
 "metadata": {
  "kernelspec": {
   "display_name": "Python 3",
   "language": "python",
   "name": "python3"
  },
  "language_info": {
   "codemirror_mode": {
    "name": "ipython",
    "version": 3
   },
   "file_extension": ".py",
   "mimetype": "text/x-python",
   "name": "python",
   "nbconvert_exporter": "python",
   "pygments_lexer": "ipython3",
   "version": "3.7.3"
  },
  "toc": {
   "base_numbering": 1,
   "nav_menu": {},
   "number_sections": true,
   "sideBar": true,
   "skip_h1_title": false,
   "title_cell": "Table of Contents",
   "title_sidebar": "Contents",
   "toc_cell": false,
   "toc_position": {},
   "toc_section_display": true,
   "toc_window_display": false
  }
 },
 "nbformat": 4,
 "nbformat_minor": 2
}

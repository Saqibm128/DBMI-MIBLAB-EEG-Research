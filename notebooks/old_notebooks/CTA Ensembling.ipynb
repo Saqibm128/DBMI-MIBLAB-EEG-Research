{
 "cells": [
  {
   "cell_type": "code",
   "execution_count": 2,
   "metadata": {},
   "outputs": [],
   "source": [
    "import pandas as pd\n",
    "import sys, os\n",
    "sys.path.append(os.path.realpath(\"..\"))\n",
    "import numpy as np\n",
    "import util_funcs\n",
    "from importlib import reload\n",
    "import constants\n",
    "reload(util_funcs)\n",
    "import clinical_text_analysis as cta\n",
    "reload(cta)\n",
    "import time\n",
    "from addict import Dict\n"
   ]
  },
  {
   "cell_type": "code",
   "execution_count": 3,
   "metadata": {},
   "outputs": [
    {
     "data": {
      "text/plain": [
       "<module 'data_reader' from '/home/ms994/dbmi_eeg_clustering/data_reader.py'>"
      ]
     },
     "execution_count": 3,
     "metadata": {},
     "output_type": "execute_result"
    }
   ],
   "source": [
    "import data_reader as read\n",
    "reload(read)"
   ]
  },
  {
   "cell_type": "code",
   "execution_count": 4,
   "metadata": {},
   "outputs": [],
   "source": [
    "edfPaths, genders = cta.demux_to_tokens(cta.getGenderAndFileNames(\"train\", \"01_tcp_ar\", convert_gender_to_num=True))"
   ]
  },
  {
   "cell_type": "code",
   "execution_count": 19,
   "metadata": {},
   "outputs": [],
   "source": [
    "# import pdb; pdb.set_trace();\n",
    "data = read.EdfDatasetEnsembler(\"train\", \"01_tcp_ar\", max_num_samples=10, edf_tokens=edfPaths, labels=genders, n_process=6)\n",
    "# data.verbose=False\n",
    "data.verbosity=50"
   ]
  },
  {
   "cell_type": "code",
   "execution_count": 20,
   "metadata": {},
   "outputs": [
    {
     "data": {
      "text/plain": [
       "25938"
      ]
     },
     "execution_count": 20,
     "metadata": {},
     "output_type": "execute_result"
    }
   ],
   "source": [
    "len(data)"
   ]
  },
  {
   "cell_type": "code",
   "execution_count": 16,
   "metadata": {},
   "outputs": [],
   "source": [
    "# import pdb; pdb.set_trace();\n",
    "pvt = np.array(data.getEnsemblePrediction([np.array([1]) for i in range(1000) ]))"
   ]
  },
  {
   "cell_type": "code",
   "execution_count": 23,
   "metadata": {},
   "outputs": [
    {
     "data": {
      "text/plain": [
       "1.0"
      ]
     },
     "execution_count": 23,
     "metadata": {},
     "output_type": "execute_result"
    }
   ],
   "source": [
    "np.round(0.5000001)"
   ]
  },
  {
   "cell_type": "code",
   "execution_count": 78,
   "metadata": {},
   "outputs": [],
   "source": [
    "a = Dict()"
   ]
  },
  {
   "cell_type": "code",
   "execution_count": 79,
   "metadata": {},
   "outputs": [
    {
     "data": {
      "text/plain": [
       "True"
      ]
     },
     "execution_count": 79,
     "metadata": {},
     "output_type": "execute_result"
    }
   ],
   "source": [
    "isinstance(a[\"b\"], Dict)"
   ]
  },
  {
   "cell_type": "code",
   "execution_count": 59,
   "metadata": {},
   "outputs": [],
   "source": [
    "a = pd.DataFrame(index=[1,2,3], columns=['b'])"
   ]
  },
  {
   "cell_type": "code",
   "execution_count": 43,
   "metadata": {},
   "outputs": [],
   "source": [
    "a.loc[1, 'b'] = np.array([1,2,3])\n",
    "a.loc[2, 'b'] = np.array([1,5,3])\n",
    "a.loc[3, 'b'] = np.array([1,2,3])"
   ]
  },
  {
   "cell_type": "code",
   "execution_count": 53,
   "metadata": {},
   "outputs": [
    {
     "data": {
      "text/plain": [
       "{'b': [5]}"
      ]
     },
     "execution_count": 53,
     "metadata": {},
     "output_type": "execute_result"
    }
   ],
   "source": [
    "a = Dict()\n",
    "a.b = []; a.b.append(5)\n",
    "a"
   ]
  },
  {
   "cell_type": "code",
   "execution_count": 35,
   "metadata": {},
   "outputs": [
    {
     "data": {
      "text/plain": [
       "(Index(['label', 'sample_num', 'token_file_path', 'within_token_num'], dtype='object'),\n",
       " Int64Index([    0,     1,     2,     3,     4,     5,     6,     7,     8,\n",
       "                 9,\n",
       "             ...\n",
       "             51313, 51314, 51315, 51316, 51317, 51318, 51319, 51320, 51321,\n",
       "             51322],\n",
       "            dtype='int64', length=51323))"
      ]
     },
     "execution_count": 35,
     "metadata": {},
     "output_type": "execute_result"
    }
   ],
   "source": [
    "df.index, df.columns"
   ]
  },
  {
   "cell_type": "code",
   "execution_count": 13,
   "metadata": {},
   "outputs": [
    {
     "name": "stderr",
     "output_type": "stream",
     "text": [
      "Using TensorFlow backend.\n"
     ]
    }
   ],
   "source": [
    "from keras_models.dataGen import EdfDataGenerator\n",
    "from keras_models.vanPutten import vp_conv2d"
   ]
  },
  {
   "cell_type": "code",
   "execution_count": 14,
   "metadata": {},
   "outputs": [
    {
     "name": "stdout",
     "output_type": "stream",
     "text": [
      "Starting 6 processes\n",
      "retrieving: 0\n",
      "read 8, less than 9 requested!!!\n",
      "read 8, less than 9 requested!!!\n",
      "read 8, less than 9 requested!!!\n",
      "read 8, less than 9 requested!!!\n",
      "read 8, less than 9 requested!!!\n",
      "read 8, less than 9 requested!!!\n",
      "retrieving: 50\n",
      "read 5, less than 9 requested!!!\n",
      "read 5, less than 9 requested!!!\n",
      "read 5, less than 9 requested!!!\n",
      "retrieving: 100\n",
      "retrieving: 150\n",
      "read 5, less than 9 requested!!!\n",
      "read 5, less than 9 requested!!!\n",
      "read 5, less than 9 requested!!!\n",
      "retrieving: 200\n",
      "read 7, less than 9 requested!!!\n",
      "read 7, less than 9 requested!!!\n",
      "read 7, less than 9 requested!!!\n",
      "retrieving: 250\n",
      "retrieving: 300\n",
      "retrieving: 350\n",
      "read 7, less than 9 requested!!!\n",
      "read 7, less than 9 requested!!!\n",
      "read 7, less than 9 requested!!!\n",
      "retrieving: 400\n",
      "read 1020, less than 1030 requested!!!\n",
      "read 1020, less than 1030 requested!!!\n",
      "read 1020, less than 1030 requested!!!\n",
      "read 1020, less than 1030 requested!!!\n",
      "read 1020, less than 1030 requested!!!\n",
      "read 1020, less than 1030 requested!!!\n",
      "read 1020, less than 1030 requested!!!\n",
      "read 1020, less than 1030 requested!!!\n",
      "read 1020, less than 1030 requested!!!\n",
      "read 1020, less than 1030 requested!!!\n",
      "read 1020, less than 1030 requested!!!\n",
      "read 1020, less than 1030 requested!!!\n",
      "read 1020, less than 1030 requested!!!\n",
      "read 1020, less than 1030 requested!!!\n",
      "read 1020, less than 1030 requested!!!\n",
      "read 1020, less than 1030 requested!!!\n",
      "read 1020, less than 1030 requested!!!\n",
      "read 1020, less than 1030 requested!!!\n",
      "read 1020, less than 1030 requested!!!\n",
      "read 1020, less than 1030 requested!!!\n",
      "read 1020, less than 1030 requested!!!\n",
      "read 1020, less than 1030 requested!!!\n",
      "read 1020, less than 1030 requested!!!\n",
      "read 1020, less than 1030 requested!!!\n",
      "read 1020, less than 1030 requested!!!\n",
      "read 1020, less than 1030 requested!!!\n",
      "read 4, less than 9 requested!!!\n",
      "read 4, less than 9 requested!!!\n",
      "read 4, less than 9 requested!!!\n",
      "retrieving: 450\n",
      "20.930028438568115\n"
     ]
    }
   ],
   "source": [
    "start = time.time()\n",
    "dataGen = EdfDataGenerator(data, precache=True, batch_size=256, n_classes=2)\n",
    "print(time.time() - start)"
   ]
  },
  {
   "cell_type": "code",
   "execution_count": 31,
   "metadata": {},
   "outputs": [],
   "source": [
    "for i "
   ]
  },
  {
   "cell_type": "code",
   "execution_count": 36,
   "metadata": {},
   "outputs": [
    {
     "name": "stdout",
     "output_type": "stream",
     "text": [
      "False\n",
      "False\n",
      "False\n"
     ]
    }
   ],
   "source": [
    "for batch in dataGen:\n",
    "    print((batch[0] == -10000).any())"
   ]
  },
  {
   "cell_type": "code",
   "execution_count": null,
   "metadata": {},
   "outputs": [],
   "source": [
    "start = time.time()\n",
    "dataGen[0][1]\n",
    "time.time() - start"
   ]
  },
  {
   "cell_type": "code",
   "execution_count": null,
   "metadata": {},
   "outputs": [],
   "source": []
  }
 ],
 "metadata": {
  "kernelspec": {
   "display_name": "Python 3",
   "language": "python",
   "name": "python3"
  },
  "language_info": {
   "codemirror_mode": {
    "name": "ipython",
    "version": 3
   },
   "file_extension": ".py",
   "mimetype": "text/x-python",
   "name": "python",
   "nbconvert_exporter": "python",
   "pygments_lexer": "ipython3",
   "version": "3.7.3"
  }
 },
 "nbformat": 4,
 "nbformat_minor": 2
}

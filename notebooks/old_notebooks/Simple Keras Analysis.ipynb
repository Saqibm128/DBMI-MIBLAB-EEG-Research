{
 "cells": [
  {
   "cell_type": "code",
   "execution_count": 326,
   "metadata": {},
   "outputs": [],
   "source": [
    "import sys, os\n",
    "sys.path.append(os.path.realpath(\"..\"))\n",
    "\n",
    "import util_funcs\n",
    "from importlib import reload\n",
    "reload(util_funcs)\n",
    "from copy import deepcopy as cp\n",
    "\n",
    "import data_reader as read\n",
    "import pandas as pd\n",
    "import numpy as np\n",
    "import pickle as pkl\n",
    "import matplotlib.pyplot as plt\n",
    "import pywt\n",
    "import tsfresh.feature_extraction.feature_calculators as feats\n",
    "import constants\n",
    "import clinical_text_analysis as cta\n",
    "reload(cta)\n",
    "import tsfresh\n",
    "\n",
    "from os import path\n",
    "\n",
    "reload(read)\n",
    "import wf_analysis.datasets as wfdata\n",
    "import keras\n",
    "from keras.models import Sequential, load_model\n",
    "from keras.layers import Dense, Dropout\n",
    "from keras.utils import to_categorical\n",
    "from keras.callbacks import EarlyStopping, ModelCheckpoint\n",
    "from sklearn.preprocessing import StandardScaler"
   ]
  },
  {
   "cell_type": "code",
   "execution_count": 415,
   "metadata": {},
   "outputs": [],
   "source": [
    "from sklearn.metrics import accuracy_score, roc_auc_score, roc_curve, confusion_matrix"
   ]
  },
  {
   "cell_type": "code",
   "execution_count": 4,
   "metadata": {},
   "outputs": [],
   "source": [
    "trainData, trainGenders = pkl.load(open(\"../trainGenderData.pkl\", 'rb'))\n",
    "testData, testGenders = pkl.load(open(\"../testGenderData.pkl\", 'rb'))"
   ]
  },
  {
   "cell_type": "code",
   "execution_count": 308,
   "metadata": {},
   "outputs": [],
   "source": [
    "ss = StandardScaler()\n",
    "trainData = ss.fit_transform(trainData)\n",
    "testData = ss.fit_transform(testData)"
   ]
  },
  {
   "cell_type": "code",
   "execution_count": 230,
   "metadata": {},
   "outputs": [
    {
     "data": {
      "text/plain": [
       "69"
      ]
     },
     "execution_count": 230,
     "metadata": {},
     "output_type": "execute_result"
    }
   ],
   "source": [
    "trainData.shape[1]"
   ]
  },
  {
   "cell_type": "code",
   "execution_count": 406,
   "metadata": {},
   "outputs": [],
   "source": [
    "model = Sequential([Dense(trainData.shape[1]*10, activation='tanh'),Dense(trainData.shape[1]*10, activation='tanh'),Dropout(0.5), Dense(2, activation='sigmoid')])\n",
    "model.compile(optimizer='adam', loss=\"categorical_crossentropy\", metrics=[\"binary_accuracy\"])\n",
    "earlyStopping = EarlyStopping(monitor=\"val_binary_accuracy\", patience=50, mode='max', verbose=1)\n",
    "mc = ModelCheckpoint('best_model.h5', monitor='val_binary_accuracy', save_best_only=True, mode='max', verbose=1)\n"
   ]
  },
  {
   "cell_type": "code",
   "execution_count": 407,
   "metadata": {},
   "outputs": [
    {
     "name": "stdout",
     "output_type": "stream",
     "text": [
      "Train on 2356 samples, validate on 262 samples\n",
      "Epoch 1/500\n",
      "2356/2356 [==============================] - 4s 2ms/step - loss: 0.7132 - binary_accuracy: 0.5427 - val_loss: 0.6787 - val_binary_accuracy: 0.5420\n",
      "\n",
      "Epoch 00001: val_binary_accuracy improved from -inf to 0.54198, saving model to best_model.h5\n",
      "Epoch 2/500\n",
      "2356/2356 [==============================] - 1s 212us/step - loss: 0.6779 - binary_accuracy: 0.5380 - val_loss: 0.6829 - val_binary_accuracy: 0.5344\n",
      "\n",
      "Epoch 00002: val_binary_accuracy did not improve from 0.54198\n",
      "Epoch 3/500\n",
      "2356/2356 [==============================] - 0s 163us/step - loss: 0.6743 - binary_accuracy: 0.5484 - val_loss: 0.6980 - val_binary_accuracy: 0.5000\n",
      "\n",
      "Epoch 00003: val_binary_accuracy did not improve from 0.54198\n",
      "Epoch 4/500\n",
      "2356/2356 [==============================] - 0s 176us/step - loss: 0.6697 - binary_accuracy: 0.5308 - val_loss: 0.6170 - val_binary_accuracy: 0.5592\n",
      "\n",
      "Epoch 00004: val_binary_accuracy improved from 0.54198 to 0.55916, saving model to best_model.h5\n",
      "Epoch 5/500\n",
      "2356/2356 [==============================] - 0s 170us/step - loss: 0.6704 - binary_accuracy: 0.5367 - val_loss: 0.7306 - val_binary_accuracy: 0.5210\n",
      "\n",
      "Epoch 00005: val_binary_accuracy did not improve from 0.55916\n",
      "Epoch 6/500\n",
      "2356/2356 [==============================] - 0s 164us/step - loss: 0.6733 - binary_accuracy: 0.5244 - val_loss: 0.6800 - val_binary_accuracy: 0.5095\n",
      "\n",
      "Epoch 00006: val_binary_accuracy did not improve from 0.55916\n",
      "Epoch 7/500\n",
      "2356/2356 [==============================] - 0s 161us/step - loss: 0.6545 - binary_accuracy: 0.5412 - val_loss: 0.6553 - val_binary_accuracy: 0.5229\n",
      "\n",
      "Epoch 00007: val_binary_accuracy did not improve from 0.55916\n",
      "Epoch 8/500\n",
      "2356/2356 [==============================] - 0s 158us/step - loss: 0.6488 - binary_accuracy: 0.5444 - val_loss: 0.6095 - val_binary_accuracy: 0.5592\n",
      "\n",
      "Epoch 00008: val_binary_accuracy improved from 0.55916 to 0.55916, saving model to best_model.h5\n",
      "Epoch 9/500\n",
      "2356/2356 [==============================] - 0s 174us/step - loss: 0.6491 - binary_accuracy: 0.5528 - val_loss: 0.6436 - val_binary_accuracy: 0.5038\n",
      "\n",
      "Epoch 00009: val_binary_accuracy did not improve from 0.55916\n",
      "Epoch 10/500\n",
      "2356/2356 [==============================] - 0s 160us/step - loss: 0.6486 - binary_accuracy: 0.5359 - val_loss: 0.6329 - val_binary_accuracy: 0.5305\n",
      "\n",
      "Epoch 00010: val_binary_accuracy did not improve from 0.55916\n",
      "Epoch 11/500\n",
      "2356/2356 [==============================] - 1s 221us/step - loss: 0.6415 - binary_accuracy: 0.5427 - val_loss: 0.6383 - val_binary_accuracy: 0.5229\n",
      "\n",
      "Epoch 00011: val_binary_accuracy did not improve from 0.55916\n",
      "Epoch 12/500\n",
      "2356/2356 [==============================] - 0s 169us/step - loss: 0.6474 - binary_accuracy: 0.5437 - val_loss: 0.6472 - val_binary_accuracy: 0.5076\n",
      "\n",
      "Epoch 00012: val_binary_accuracy did not improve from 0.55916\n",
      "Epoch 13/500\n",
      "2356/2356 [==============================] - 0s 169us/step - loss: 0.6408 - binary_accuracy: 0.5475 - val_loss: 0.6348 - val_binary_accuracy: 0.5229\n",
      "\n",
      "Epoch 00013: val_binary_accuracy did not improve from 0.55916\n",
      "Epoch 14/500\n",
      "2356/2356 [==============================] - 0s 168us/step - loss: 0.6376 - binary_accuracy: 0.5458 - val_loss: 0.6837 - val_binary_accuracy: 0.5401\n",
      "\n",
      "Epoch 00014: val_binary_accuracy did not improve from 0.55916\n",
      "Epoch 15/500\n",
      "2356/2356 [==============================] - 0s 165us/step - loss: 0.6271 - binary_accuracy: 0.5533 - val_loss: 0.6475 - val_binary_accuracy: 0.5191\n",
      "\n",
      "Epoch 00015: val_binary_accuracy did not improve from 0.55916\n",
      "Epoch 16/500\n",
      "2356/2356 [==============================] - 0s 182us/step - loss: 0.6307 - binary_accuracy: 0.5458 - val_loss: 0.7856 - val_binary_accuracy: 0.5553\n",
      "\n",
      "Epoch 00016: val_binary_accuracy did not improve from 0.55916\n",
      "Epoch 17/500\n",
      "2356/2356 [==============================] - 0s 159us/step - loss: 0.6274 - binary_accuracy: 0.5503 - val_loss: 0.7162 - val_binary_accuracy: 0.5210\n",
      "\n",
      "Epoch 00017: val_binary_accuracy did not improve from 0.55916\n",
      "Epoch 18/500\n",
      "2356/2356 [==============================] - 0s 157us/step - loss: 0.6367 - binary_accuracy: 0.5480 - val_loss: 0.6099 - val_binary_accuracy: 0.5477\n",
      "\n",
      "Epoch 00018: val_binary_accuracy did not improve from 0.55916\n",
      "Epoch 19/500\n",
      "2356/2356 [==============================] - 0s 164us/step - loss: 0.6245 - binary_accuracy: 0.5605 - val_loss: 0.6452 - val_binary_accuracy: 0.5496\n",
      "\n",
      "Epoch 00019: val_binary_accuracy did not improve from 0.55916\n",
      "Epoch 20/500\n",
      "2356/2356 [==============================] - 0s 157us/step - loss: 0.6180 - binary_accuracy: 0.5641 - val_loss: 0.7348 - val_binary_accuracy: 0.5172\n",
      "\n",
      "Epoch 00020: val_binary_accuracy did not improve from 0.55916\n",
      "Epoch 21/500\n",
      "2356/2356 [==============================] - 0s 162us/step - loss: 0.6174 - binary_accuracy: 0.5601 - val_loss: 0.6336 - val_binary_accuracy: 0.5172\n",
      "\n",
      "Epoch 00021: val_binary_accuracy did not improve from 0.55916\n",
      "Epoch 22/500\n",
      "2356/2356 [==============================] - 0s 168us/step - loss: 0.6178 - binary_accuracy: 0.5592 - val_loss: 0.7101 - val_binary_accuracy: 0.5592\n",
      "\n",
      "Epoch 00022: val_binary_accuracy did not improve from 0.55916\n",
      "Epoch 23/500\n",
      "2356/2356 [==============================] - 0s 159us/step - loss: 0.6151 - binary_accuracy: 0.5622 - val_loss: 0.6890 - val_binary_accuracy: 0.5363\n",
      "\n",
      "Epoch 00023: val_binary_accuracy did not improve from 0.55916\n",
      "Epoch 24/500\n",
      "2356/2356 [==============================] - 0s 163us/step - loss: 0.6055 - binary_accuracy: 0.5669 - val_loss: 0.7071 - val_binary_accuracy: 0.5134\n",
      "\n",
      "Epoch 00024: val_binary_accuracy did not improve from 0.55916\n",
      "Epoch 25/500\n",
      "2356/2356 [==============================] - 0s 162us/step - loss: 0.6085 - binary_accuracy: 0.5717 - val_loss: 0.6499 - val_binary_accuracy: 0.5477\n",
      "\n",
      "Epoch 00025: val_binary_accuracy did not improve from 0.55916\n",
      "Epoch 26/500\n",
      "2356/2356 [==============================] - 0s 162us/step - loss: 0.6066 - binary_accuracy: 0.5628 - val_loss: 0.7050 - val_binary_accuracy: 0.5286\n",
      "\n",
      "Epoch 00026: val_binary_accuracy did not improve from 0.55916\n",
      "Epoch 27/500\n",
      "2356/2356 [==============================] - 0s 164us/step - loss: 0.5986 - binary_accuracy: 0.5685 - val_loss: 0.6767 - val_binary_accuracy: 0.5229\n",
      "\n",
      "Epoch 00027: val_binary_accuracy did not improve from 0.55916\n",
      "Epoch 28/500\n",
      "2356/2356 [==============================] - 0s 159us/step - loss: 0.6017 - binary_accuracy: 0.5641 - val_loss: 0.7605 - val_binary_accuracy: 0.5095\n",
      "\n",
      "Epoch 00028: val_binary_accuracy did not improve from 0.55916\n",
      "Epoch 29/500\n",
      "2356/2356 [==============================] - 0s 158us/step - loss: 0.6000 - binary_accuracy: 0.5732 - val_loss: 0.7169 - val_binary_accuracy: 0.5630\n",
      "\n",
      "Epoch 00029: val_binary_accuracy improved from 0.55916 to 0.56298, saving model to best_model.h5\n",
      "Epoch 30/500\n",
      "2356/2356 [==============================] - 0s 173us/step - loss: 0.5863 - binary_accuracy: 0.5747 - val_loss: 0.6821 - val_binary_accuracy: 0.5630\n",
      "\n",
      "Epoch 00030: val_binary_accuracy did not improve from 0.56298\n",
      "Epoch 31/500\n",
      "2356/2356 [==============================] - 0s 164us/step - loss: 0.5928 - binary_accuracy: 0.5785 - val_loss: 0.6663 - val_binary_accuracy: 0.5611\n",
      "\n",
      "Epoch 00031: val_binary_accuracy did not improve from 0.56298\n",
      "Epoch 32/500\n",
      "2356/2356 [==============================] - 0s 161us/step - loss: 0.5730 - binary_accuracy: 0.5915 - val_loss: 0.6775 - val_binary_accuracy: 0.5611\n",
      "\n",
      "Epoch 00032: val_binary_accuracy did not improve from 0.56298\n",
      "Epoch 33/500\n",
      "2356/2356 [==============================] - 0s 160us/step - loss: 0.5685 - binary_accuracy: 0.5887 - val_loss: 0.8451 - val_binary_accuracy: 0.5420\n",
      "\n",
      "Epoch 00033: val_binary_accuracy did not improve from 0.56298\n",
      "Epoch 34/500\n",
      "2356/2356 [==============================] - 0s 162us/step - loss: 0.5739 - binary_accuracy: 0.6012 - val_loss: 0.6959 - val_binary_accuracy: 0.5363\n",
      "\n",
      "Epoch 00034: val_binary_accuracy did not improve from 0.56298\n",
      "Epoch 35/500\n",
      "2356/2356 [==============================] - 0s 163us/step - loss: 0.5654 - binary_accuracy: 0.5987 - val_loss: 0.7224 - val_binary_accuracy: 0.5344\n",
      "\n",
      "Epoch 00035: val_binary_accuracy did not improve from 0.56298\n",
      "Epoch 36/500\n",
      "2356/2356 [==============================] - 0s 160us/step - loss: 0.5560 - binary_accuracy: 0.6029 - val_loss: 0.7361 - val_binary_accuracy: 0.5382\n"
     ]
    },
    {
     "name": "stdout",
     "output_type": "stream",
     "text": [
      "\n",
      "Epoch 00036: val_binary_accuracy did not improve from 0.56298\n",
      "Epoch 37/500\n",
      "2356/2356 [==============================] - 0s 157us/step - loss: 0.5537 - binary_accuracy: 0.6101 - val_loss: 0.7923 - val_binary_accuracy: 0.5477\n",
      "\n",
      "Epoch 00037: val_binary_accuracy did not improve from 0.56298\n",
      "Epoch 38/500\n",
      "2356/2356 [==============================] - 0s 157us/step - loss: 0.5442 - binary_accuracy: 0.6104 - val_loss: 0.7456 - val_binary_accuracy: 0.5363\n",
      "\n",
      "Epoch 00038: val_binary_accuracy did not improve from 0.56298\n",
      "Epoch 39/500\n",
      "2356/2356 [==============================] - 1s 216us/step - loss: 0.5441 - binary_accuracy: 0.6146 - val_loss: 0.6846 - val_binary_accuracy: 0.5649\n",
      "\n",
      "Epoch 00039: val_binary_accuracy improved from 0.56298 to 0.56489, saving model to best_model.h5\n",
      "Epoch 40/500\n",
      "2356/2356 [==============================] - 0s 178us/step - loss: 0.5542 - binary_accuracy: 0.6051 - val_loss: 0.7458 - val_binary_accuracy: 0.5401\n",
      "\n",
      "Epoch 00040: val_binary_accuracy did not improve from 0.56489\n",
      "Epoch 41/500\n",
      "2356/2356 [==============================] - 0s 162us/step - loss: 0.5512 - binary_accuracy: 0.6193 - val_loss: 0.6674 - val_binary_accuracy: 0.5477\n",
      "\n",
      "Epoch 00041: val_binary_accuracy did not improve from 0.56489\n",
      "Epoch 42/500\n",
      "2356/2356 [==============================] - 0s 163us/step - loss: 0.5381 - binary_accuracy: 0.6205 - val_loss: 0.6951 - val_binary_accuracy: 0.5954\n",
      "\n",
      "Epoch 00042: val_binary_accuracy improved from 0.56489 to 0.59542, saving model to best_model.h5\n",
      "Epoch 43/500\n",
      "2356/2356 [==============================] - 0s 169us/step - loss: 0.5289 - binary_accuracy: 0.6316 - val_loss: 0.7087 - val_binary_accuracy: 0.5324\n",
      "\n",
      "Epoch 00043: val_binary_accuracy did not improve from 0.59542\n",
      "Epoch 44/500\n",
      "2356/2356 [==============================] - 0s 174us/step - loss: 0.5350 - binary_accuracy: 0.6297 - val_loss: 0.7253 - val_binary_accuracy: 0.5458\n",
      "\n",
      "Epoch 00044: val_binary_accuracy did not improve from 0.59542\n",
      "Epoch 45/500\n",
      "2356/2356 [==============================] - 0s 175us/step - loss: 0.5336 - binary_accuracy: 0.6318 - val_loss: 0.7091 - val_binary_accuracy: 0.5458\n",
      "\n",
      "Epoch 00045: val_binary_accuracy did not improve from 0.59542\n",
      "Epoch 46/500\n",
      "2356/2356 [==============================] - 0s 165us/step - loss: 0.5261 - binary_accuracy: 0.6343 - val_loss: 0.7860 - val_binary_accuracy: 0.5248\n",
      "\n",
      "Epoch 00046: val_binary_accuracy did not improve from 0.59542\n",
      "Epoch 47/500\n",
      "2356/2356 [==============================] - 0s 167us/step - loss: 0.5176 - binary_accuracy: 0.6428 - val_loss: 0.7863 - val_binary_accuracy: 0.5229\n",
      "\n",
      "Epoch 00047: val_binary_accuracy did not improve from 0.59542\n",
      "Epoch 48/500\n",
      "2356/2356 [==============================] - 0s 171us/step - loss: 0.5107 - binary_accuracy: 0.6500 - val_loss: 0.7564 - val_binary_accuracy: 0.5019\n",
      "\n",
      "Epoch 00048: val_binary_accuracy did not improve from 0.59542\n",
      "Epoch 49/500\n",
      "2356/2356 [==============================] - 0s 176us/step - loss: 0.4985 - binary_accuracy: 0.6420 - val_loss: 0.7445 - val_binary_accuracy: 0.5286\n",
      "\n",
      "Epoch 00049: val_binary_accuracy did not improve from 0.59542\n",
      "Epoch 50/500\n",
      "2356/2356 [==============================] - 0s 162us/step - loss: 0.5039 - binary_accuracy: 0.6409 - val_loss: 0.7282 - val_binary_accuracy: 0.5305\n",
      "\n",
      "Epoch 00050: val_binary_accuracy did not improve from 0.59542\n",
      "Epoch 51/500\n",
      "2356/2356 [==============================] - 0s 162us/step - loss: 0.4988 - binary_accuracy: 0.6443 - val_loss: 0.7850 - val_binary_accuracy: 0.5324\n",
      "\n",
      "Epoch 00051: val_binary_accuracy did not improve from 0.59542\n",
      "Epoch 52/500\n",
      "2356/2356 [==============================] - 0s 161us/step - loss: 0.4894 - binary_accuracy: 0.6456 - val_loss: 0.7950 - val_binary_accuracy: 0.5057\n",
      "\n",
      "Epoch 00052: val_binary_accuracy did not improve from 0.59542\n",
      "Epoch 53/500\n",
      "2356/2356 [==============================] - 0s 157us/step - loss: 0.4791 - binary_accuracy: 0.6496 - val_loss: 0.8294 - val_binary_accuracy: 0.5000\n",
      "\n",
      "Epoch 00053: val_binary_accuracy did not improve from 0.59542\n",
      "Epoch 54/500\n",
      "2356/2356 [==============================] - 0s 174us/step - loss: 0.4880 - binary_accuracy: 0.6469 - val_loss: 0.7654 - val_binary_accuracy: 0.5420\n",
      "\n",
      "Epoch 00054: val_binary_accuracy did not improve from 0.59542\n",
      "Epoch 55/500\n",
      "2356/2356 [==============================] - 0s 182us/step - loss: 0.4763 - binary_accuracy: 0.6534 - val_loss: 0.8542 - val_binary_accuracy: 0.5248\n",
      "\n",
      "Epoch 00055: val_binary_accuracy did not improve from 0.59542\n",
      "Epoch 56/500\n",
      "2356/2356 [==============================] - 0s 158us/step - loss: 0.4625 - binary_accuracy: 0.6619 - val_loss: 0.8283 - val_binary_accuracy: 0.5344\n",
      "\n",
      "Epoch 00056: val_binary_accuracy did not improve from 0.59542\n",
      "Epoch 57/500\n",
      "2356/2356 [==============================] - 0s 166us/step - loss: 0.4798 - binary_accuracy: 0.6486 - val_loss: 0.7886 - val_binary_accuracy: 0.5267\n",
      "\n",
      "Epoch 00057: val_binary_accuracy did not improve from 0.59542\n",
      "Epoch 58/500\n",
      "2356/2356 [==============================] - 0s 177us/step - loss: 0.4580 - binary_accuracy: 0.6638 - val_loss: 0.9065 - val_binary_accuracy: 0.5153\n",
      "\n",
      "Epoch 00058: val_binary_accuracy did not improve from 0.59542\n",
      "Epoch 59/500\n",
      "2356/2356 [==============================] - 0s 168us/step - loss: 0.4690 - binary_accuracy: 0.6587 - val_loss: 0.7691 - val_binary_accuracy: 0.5172\n",
      "\n",
      "Epoch 00059: val_binary_accuracy did not improve from 0.59542\n",
      "Epoch 60/500\n",
      "2356/2356 [==============================] - 0s 167us/step - loss: 0.4577 - binary_accuracy: 0.6677 - val_loss: 0.8909 - val_binary_accuracy: 0.4981\n",
      "\n",
      "Epoch 00060: val_binary_accuracy did not improve from 0.59542\n",
      "Epoch 61/500\n",
      "2356/2356 [==============================] - 0s 190us/step - loss: 0.4569 - binary_accuracy: 0.6655 - val_loss: 0.9330 - val_binary_accuracy: 0.5038\n",
      "\n",
      "Epoch 00061: val_binary_accuracy did not improve from 0.59542\n",
      "Epoch 62/500\n",
      "2356/2356 [==============================] - 0s 179us/step - loss: 0.4464 - binary_accuracy: 0.6732 - val_loss: 0.8242 - val_binary_accuracy: 0.5134\n",
      "\n",
      "Epoch 00062: val_binary_accuracy did not improve from 0.59542\n",
      "Epoch 63/500\n",
      "2356/2356 [==============================] - 0s 174us/step - loss: 0.4505 - binary_accuracy: 0.6734 - val_loss: 0.8419 - val_binary_accuracy: 0.5172\n",
      "\n",
      "Epoch 00063: val_binary_accuracy did not improve from 0.59542\n",
      "Epoch 64/500\n",
      "2356/2356 [==============================] - 0s 177us/step - loss: 0.4531 - binary_accuracy: 0.6776 - val_loss: 0.8171 - val_binary_accuracy: 0.5095\n",
      "\n",
      "Epoch 00064: val_binary_accuracy did not improve from 0.59542\n",
      "Epoch 65/500\n",
      "2356/2356 [==============================] - 0s 176us/step - loss: 0.4543 - binary_accuracy: 0.6730 - val_loss: 0.8723 - val_binary_accuracy: 0.5095\n",
      "\n",
      "Epoch 00065: val_binary_accuracy did not improve from 0.59542\n",
      "Epoch 66/500\n",
      "2356/2356 [==============================] - 0s 173us/step - loss: 0.4319 - binary_accuracy: 0.6793 - val_loss: 0.8590 - val_binary_accuracy: 0.5210\n",
      "\n",
      "Epoch 00066: val_binary_accuracy did not improve from 0.59542\n",
      "Epoch 67/500\n",
      "2356/2356 [==============================] - 0s 172us/step - loss: 0.4395 - binary_accuracy: 0.6812 - val_loss: 0.9319 - val_binary_accuracy: 0.5115\n",
      "\n",
      "Epoch 00067: val_binary_accuracy did not improve from 0.59542\n",
      "Epoch 68/500\n",
      "2356/2356 [==============================] - 0s 166us/step - loss: 0.4392 - binary_accuracy: 0.6821 - val_loss: 0.8844 - val_binary_accuracy: 0.4981\n",
      "\n",
      "Epoch 00068: val_binary_accuracy did not improve from 0.59542\n",
      "Epoch 69/500\n",
      "2356/2356 [==============================] - 0s 165us/step - loss: 0.4218 - binary_accuracy: 0.6823 - val_loss: 0.8933 - val_binary_accuracy: 0.5019\n",
      "\n",
      "Epoch 00069: val_binary_accuracy did not improve from 0.59542\n",
      "Epoch 70/500\n",
      "2356/2356 [==============================] - 0s 149us/step - loss: 0.4287 - binary_accuracy: 0.6882 - val_loss: 0.8685 - val_binary_accuracy: 0.5057\n",
      "\n",
      "Epoch 00070: val_binary_accuracy did not improve from 0.59542\n",
      "Epoch 71/500\n",
      "2356/2356 [==============================] - 0s 159us/step - loss: 0.4330 - binary_accuracy: 0.6806 - val_loss: 1.0493 - val_binary_accuracy: 0.4905\n",
      "\n",
      "Epoch 00071: val_binary_accuracy did not improve from 0.59542\n",
      "Epoch 72/500\n",
      "2356/2356 [==============================] - 0s 162us/step - loss: 0.4192 - binary_accuracy: 0.6908 - val_loss: 0.9137 - val_binary_accuracy: 0.4924\n",
      "\n",
      "Epoch 00072: val_binary_accuracy did not improve from 0.59542\n",
      "Epoch 73/500\n"
     ]
    },
    {
     "name": "stdout",
     "output_type": "stream",
     "text": [
      "2356/2356 [==============================] - 0s 168us/step - loss: 0.4129 - binary_accuracy: 0.6842 - val_loss: 0.8961 - val_binary_accuracy: 0.4943\n",
      "\n",
      "Epoch 00073: val_binary_accuracy did not improve from 0.59542\n",
      "Epoch 74/500\n",
      "2356/2356 [==============================] - 0s 164us/step - loss: 0.4090 - binary_accuracy: 0.6944 - val_loss: 0.9877 - val_binary_accuracy: 0.4943\n",
      "\n",
      "Epoch 00074: val_binary_accuracy did not improve from 0.59542\n",
      "Epoch 75/500\n",
      "2356/2356 [==============================] - 0s 165us/step - loss: 0.3987 - binary_accuracy: 0.6906 - val_loss: 1.0199 - val_binary_accuracy: 0.5000\n",
      "\n",
      "Epoch 00075: val_binary_accuracy did not improve from 0.59542\n",
      "Epoch 76/500\n",
      "2356/2356 [==============================] - 0s 172us/step - loss: 0.3992 - binary_accuracy: 0.6916 - val_loss: 0.9860 - val_binary_accuracy: 0.4714\n",
      "\n",
      "Epoch 00076: val_binary_accuracy did not improve from 0.59542\n",
      "Epoch 77/500\n",
      "2356/2356 [==============================] - 0s 178us/step - loss: 0.4128 - binary_accuracy: 0.7018 - val_loss: 0.8707 - val_binary_accuracy: 0.5076\n",
      "\n",
      "Epoch 00077: val_binary_accuracy did not improve from 0.59542\n",
      "Epoch 78/500\n",
      "2356/2356 [==============================] - 0s 177us/step - loss: 0.4009 - binary_accuracy: 0.6995 - val_loss: 1.0601 - val_binary_accuracy: 0.4905\n",
      "\n",
      "Epoch 00078: val_binary_accuracy did not improve from 0.59542\n",
      "Epoch 79/500\n",
      "2356/2356 [==============================] - 0s 169us/step - loss: 0.3883 - binary_accuracy: 0.7033 - val_loss: 0.9944 - val_binary_accuracy: 0.5019\n",
      "\n",
      "Epoch 00079: val_binary_accuracy did not improve from 0.59542\n",
      "Epoch 80/500\n",
      "2356/2356 [==============================] - 0s 168us/step - loss: 0.4095 - binary_accuracy: 0.7039 - val_loss: 0.9242 - val_binary_accuracy: 0.5019\n",
      "\n",
      "Epoch 00080: val_binary_accuracy did not improve from 0.59542\n",
      "Epoch 81/500\n",
      "2356/2356 [==============================] - 0s 171us/step - loss: 0.3777 - binary_accuracy: 0.7122 - val_loss: 1.1301 - val_binary_accuracy: 0.4809\n",
      "\n",
      "Epoch 00081: val_binary_accuracy did not improve from 0.59542\n",
      "Epoch 82/500\n",
      "2356/2356 [==============================] - 0s 165us/step - loss: 0.3843 - binary_accuracy: 0.7016 - val_loss: 1.0953 - val_binary_accuracy: 0.5076\n",
      "\n",
      "Epoch 00082: val_binary_accuracy did not improve from 0.59542\n",
      "Epoch 83/500\n",
      "2356/2356 [==============================] - 0s 169us/step - loss: 0.3660 - binary_accuracy: 0.7131 - val_loss: 0.9444 - val_binary_accuracy: 0.5038\n",
      "\n",
      "Epoch 00083: val_binary_accuracy did not improve from 0.59542\n",
      "Epoch 84/500\n",
      "2356/2356 [==============================] - 0s 173us/step - loss: 0.3912 - binary_accuracy: 0.7133 - val_loss: 1.1576 - val_binary_accuracy: 0.5115\n",
      "\n",
      "Epoch 00084: val_binary_accuracy did not improve from 0.59542\n",
      "Epoch 85/500\n",
      "2356/2356 [==============================] - 0s 185us/step - loss: 0.3791 - binary_accuracy: 0.7169 - val_loss: 0.9304 - val_binary_accuracy: 0.5115\n",
      "\n",
      "Epoch 00085: val_binary_accuracy did not improve from 0.59542\n",
      "Epoch 86/500\n",
      "2356/2356 [==============================] - 0s 161us/step - loss: 0.3759 - binary_accuracy: 0.7124 - val_loss: 0.9303 - val_binary_accuracy: 0.5229\n",
      "\n",
      "Epoch 00086: val_binary_accuracy did not improve from 0.59542\n",
      "Epoch 87/500\n",
      "2356/2356 [==============================] - 0s 175us/step - loss: 0.3556 - binary_accuracy: 0.7254 - val_loss: 1.0136 - val_binary_accuracy: 0.4943\n",
      "\n",
      "Epoch 00087: val_binary_accuracy did not improve from 0.59542\n",
      "Epoch 88/500\n",
      "2356/2356 [==============================] - 0s 160us/step - loss: 0.3635 - binary_accuracy: 0.7245 - val_loss: 1.0633 - val_binary_accuracy: 0.4885\n",
      "\n",
      "Epoch 00088: val_binary_accuracy did not improve from 0.59542\n",
      "Epoch 89/500\n",
      "2356/2356 [==============================] - 0s 168us/step - loss: 0.3679 - binary_accuracy: 0.7218 - val_loss: 1.0610 - val_binary_accuracy: 0.4885\n",
      "\n",
      "Epoch 00089: val_binary_accuracy did not improve from 0.59542\n",
      "Epoch 90/500\n",
      "2356/2356 [==============================] - 0s 173us/step - loss: 0.3639 - binary_accuracy: 0.7358 - val_loss: 1.0631 - val_binary_accuracy: 0.5019\n",
      "\n",
      "Epoch 00090: val_binary_accuracy did not improve from 0.59542\n",
      "Epoch 91/500\n",
      "2356/2356 [==============================] - 0s 167us/step - loss: 0.3593 - binary_accuracy: 0.7264 - val_loss: 1.1294 - val_binary_accuracy: 0.4962\n",
      "\n",
      "Epoch 00091: val_binary_accuracy did not improve from 0.59542\n",
      "Epoch 92/500\n",
      "2356/2356 [==============================] - 0s 173us/step - loss: 0.3731 - binary_accuracy: 0.7226 - val_loss: 0.9312 - val_binary_accuracy: 0.4981\n",
      "\n",
      "Epoch 00092: val_binary_accuracy did not improve from 0.59542\n",
      "Epoch 00092: early stopping\n"
     ]
    }
   ],
   "source": [
    "history=model.fit(trainData, to_categorical(trainGenders), epochs=500, validation_split=0.1, callbacks=[earlyStopping, mc])"
   ]
  },
  {
   "cell_type": "code",
   "execution_count": 408,
   "metadata": {},
   "outputs": [],
   "source": [
    "model = load_model('best_model.h5')"
   ]
  },
  {
   "cell_type": "markdown",
   "metadata": {},
   "source": [
    "# Evaluating Model\n",
    "On both train to see if we learned and test to see performance"
   ]
  },
  {
   "cell_type": "code",
   "execution_count": 409,
   "metadata": {},
   "outputs": [],
   "source": [
    "y_pred = model.predict(trainData)"
   ]
  },
  {
   "cell_type": "code",
   "execution_count": 410,
   "metadata": {},
   "outputs": [
    {
     "data": {
      "text/plain": [
       "0.6684491978609626"
      ]
     },
     "execution_count": 410,
     "metadata": {},
     "output_type": "execute_result"
    }
   ],
   "source": [
    "accuracy_score(trainGenders, y_pred.argmax(axis=1))"
   ]
  },
  {
   "cell_type": "code",
   "execution_count": 411,
   "metadata": {},
   "outputs": [
    {
     "data": {
      "text/plain": [
       "0.6679891400771307"
      ]
     },
     "execution_count": 411,
     "metadata": {},
     "output_type": "execute_result"
    }
   ],
   "source": [
    "roc_auc_score(trainGenders, y_pred.argmax(axis=1))"
   ]
  },
  {
   "cell_type": "markdown",
   "metadata": {},
   "source": [
    "Looking at test performance"
   ]
  },
  {
   "cell_type": "code",
   "execution_count": 412,
   "metadata": {},
   "outputs": [],
   "source": [
    "y_pred = model.predict(testData)"
   ]
  },
  {
   "cell_type": "code",
   "execution_count": 413,
   "metadata": {},
   "outputs": [
    {
     "data": {
      "text/plain": [
       "0.7290575916230366"
      ]
     },
     "execution_count": 413,
     "metadata": {},
     "output_type": "execute_result"
    }
   ],
   "source": [
    "accuracy_score(testGenders, y_pred.argmax(axis=1))"
   ]
  },
  {
   "cell_type": "code",
   "execution_count": 414,
   "metadata": {},
   "outputs": [
    {
     "data": {
      "text/plain": [
       "0.6739243220807969"
      ]
     },
     "execution_count": 414,
     "metadata": {},
     "output_type": "execute_result"
    }
   ],
   "source": [
    "roc_auc_score(testGenders, y_pred.argmax(axis=1))"
   ]
  },
  {
   "cell_type": "code",
   "execution_count": 418,
   "metadata": {},
   "outputs": [
    {
     "data": {
      "text/html": [
       "<div>\n",
       "<style scoped>\n",
       "    .dataframe tbody tr th:only-of-type {\n",
       "        vertical-align: middle;\n",
       "    }\n",
       "\n",
       "    .dataframe tbody tr th {\n",
       "        vertical-align: top;\n",
       "    }\n",
       "\n",
       "    .dataframe thead th {\n",
       "        text-align: right;\n",
       "    }\n",
       "</style>\n",
       "<table border=\"1\" class=\"dataframe\">\n",
       "  <thead>\n",
       "    <tr style=\"text-align: right;\">\n",
       "      <th></th>\n",
       "      <th>Predict Female</th>\n",
       "      <th>Predict Male</th>\n",
       "    </tr>\n",
       "  </thead>\n",
       "  <tbody>\n",
       "    <tr>\n",
       "      <th>Female</th>\n",
       "      <td>115</td>\n",
       "      <td>93</td>\n",
       "    </tr>\n",
       "    <tr>\n",
       "      <th>Male</th>\n",
       "      <td>114</td>\n",
       "      <td>442</td>\n",
       "    </tr>\n",
       "  </tbody>\n",
       "</table>\n",
       "</div>"
      ],
      "text/plain": [
       "        Predict Female  Predict Male\n",
       "Female             115            93\n",
       "Male               114           442"
      ]
     },
     "execution_count": 418,
     "metadata": {},
     "output_type": "execute_result"
    }
   ],
   "source": [
    "pd.DataFrame(confusion_matrix(testGenders, y_pred.argmax(axis=1)), index=[\"Female\", \"Male\"], columns=[\"Predict Female\", \"Predict Male\"])"
   ]
  }
 ],
 "metadata": {
  "kernelspec": {
   "display_name": "Python 3",
   "language": "python",
   "name": "python3"
  },
  "language_info": {
   "codemirror_mode": {
    "name": "ipython",
    "version": 3
   },
   "file_extension": ".py",
   "mimetype": "text/x-python",
   "name": "python",
   "nbconvert_exporter": "python",
   "pygments_lexer": "ipython3",
   "version": "3.7.3"
  }
 },
 "nbformat": 4,
 "nbformat_minor": 2
}

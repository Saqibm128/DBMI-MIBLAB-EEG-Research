{
 "cells": [
  {
   "cell_type": "code",
   "execution_count": 10,
   "metadata": {},
   "outputs": [],
   "source": [
    "import sys, os\n",
    "sys.path.append(os.path.realpath(\"..\"))\n",
    "\n",
    "import util_funcs\n",
    "from importlib import reload\n",
    "reload(util_funcs)\n",
    "from copy import deepcopy as cp\n",
    "\n",
    "import data_reader as read\n",
    "import pandas as pd\n",
    "import numpy as np\n",
    "import pickle as pkl\n",
    "import matplotlib.pyplot as plt\n",
    "import pywt\n",
    "import tsfresh.feature_extraction.feature_calculators as feats\n",
    "import constants\n",
    "import clinical_text_analysis as cta\n",
    "reload(cta)\n",
    "import tsfresh\n",
    "from sklearn.metrics import roc_auc_score, accuracy_score, confusion_matrix, roc_curve, r2_score\n",
    "from os import path\n",
    "\n",
    "reload(read)\n",
    "import wf_analysis.datasets as wfdata\n",
    "import wf_analysis.filters as filt\n",
    "reload(filt)\n",
    "from addict import Dict\n",
    "import time\n",
    "import pyedflib as edf"
   ]
  },
  {
   "cell_type": "code",
   "execution_count": 11,
   "metadata": {},
   "outputs": [],
   "source": [
    "file_dict = Dict()\n",
    "#v1.1 of tuh_eeg data subset\n",
    "util_funcs.read_config() #load basics in, then override\n",
    "util_funcs.config[\"data_dir_root\"] = \"/n/scratch2/ms994/tuh_files/tuh_eeg/v1.1.0/edf\"\n",
    "util_funcs.config['train_01_tcp_ar'] ='/n/scratch2/ms994/tuh_files/tuh_eeg/v1.1.0/edf/train/01_tcp_ar/'\n",
    "util_funcs.config['combined_01_tcp_ar'] ='/n/scratch2/ms994/tuh_files/tuh_eeg/v1.1.0/edf/combined/01_tcp_ar/'\n",
    "util_funcs.config['dev_test_01_tcp_ar'] ='/n/scratch2/ms994/tuh_files/tuh_eeg/v1.1.0/edf/dev_test/01_tcp_ar/'\n",
    "util_funcs.config['train_02_tcp_le'] ='/n/scratch2/ms994/tuh_files/tuh_eeg/v1.1.0/edf/train/02_tcp_le/'\n",
    "util_funcs.config['dev_test_02_tcp_le'] ='/n/scratch2/ms994/tuh_files/tuh_eeg/v1.1.0/edf/dev_test/02_tcp_le/'\n",
    "util_funcs.config['train_03_tcp_ar_a'] ='/n/scratch2/ms994/tuh_files/tuh_eeg/v1.1.0/edf/dev_test/03_tcp_ar_a/'\n",
    "util_funcs.config['dev_test_03_tcp_ar_a'] ='/n/scratch2/ms994/tuh_files/tuh_eeg/v1.1.0/edf/train/03_tcp_ar_a/'"
   ]
  },
  {
   "cell_type": "code",
   "execution_count": 12,
   "metadata": {},
   "outputs": [],
   "source": [
    "reload(read)\n",
    "all_files_v1 = read.get_all_token_file_names(None, \"01_tcp_ar\")\n",
    "all_sessions_v1 = read.get_session_dir_names(None, \"01_tcp_ar\")"
   ]
  },
  {
   "cell_type": "code",
   "execution_count": 13,
   "metadata": {},
   "outputs": [],
   "source": [
    "# files = read.get_all_token_file_names(None, \"01_tcp_ar\")"
   ]
  },
  {
   "cell_type": "code",
   "execution_count": 14,
   "metadata": {},
   "outputs": [],
   "source": [
    "# file_lens = pd.Series(index=files)"
   ]
  },
  {
   "cell_type": "code",
   "execution_count": 16,
   "metadata": {},
   "outputs": [
    {
     "name": "stdout",
     "output_type": "stream",
     "text": [
      "401\n"
     ]
    }
   ],
   "source": [
    "# with edf.EdfReader(files[0]) as r:\n",
    "#     print(r.file_duration)"
   ]
  },
  {
   "cell_type": "code",
   "execution_count": 17,
   "metadata": {},
   "outputs": [],
   "source": [
    "# file_lens = pd.Series(index=files)"
   ]
  },
  {
   "cell_type": "code",
   "execution_count": 18,
   "metadata": {},
   "outputs": [],
   "source": [
    "# def get_fd(file):\n",
    "#     with edf.EdfReader(file, check_file_size=edf.DO_NOT_CHECK_FILE_SIZE) as reader:\n",
    "#             return file, reader.file_duration, reader.getSignalLabels()"
   ]
  },
  {
   "cell_type": "code",
   "execution_count": 19,
   "metadata": {},
   "outputs": [
    {
     "data": {
      "text/plain": [
       "('/n/scratch2/ms994/tuh_files/tuh_eeg/v1.1.0/edf/01_tcp_ar/011/00001180/s002_2012_05_02/00001180_s002_t001.edf',\n",
       " 401,\n",
       " ['EEG FP1-REF',\n",
       "  'EEG FP2-REF',\n",
       "  'EEG F3-REF',\n",
       "  'EEG F4-REF',\n",
       "  'EEG C3-REF',\n",
       "  'EEG C4-REF',\n",
       "  'EEG P3-REF',\n",
       "  'EEG P4-REF',\n",
       "  'EEG O1-REF',\n",
       "  'EEG O2-REF',\n",
       "  'EEG F7-REF',\n",
       "  'EEG F8-REF',\n",
       "  'EEG T3-REF',\n",
       "  'EEG T4-REF',\n",
       "  'EEG T5-REF',\n",
       "  'EEG T6-REF',\n",
       "  'EEG A1-REF',\n",
       "  'EEG A2-REF',\n",
       "  'EEG FZ-REF',\n",
       "  'EEG CZ-REF',\n",
       "  'EEG PZ-REF',\n",
       "  'EEG ROC-REF',\n",
       "  'EEG LOC-REF',\n",
       "  'EEG EKG1-REF',\n",
       "  'EEG T1-REF',\n",
       "  'EEG T2-REF',\n",
       "  'PHOTIC-REF',\n",
       "  'IBI',\n",
       "  'BURSTS',\n",
       "  'SUPPR'])"
      ]
     },
     "execution_count": 19,
     "metadata": {},
     "output_type": "execute_result"
    }
   ],
   "source": [
    "# get_fd(files[0])"
   ]
  },
  {
   "cell_type": "code",
   "execution_count": 20,
   "metadata": {},
   "outputs": [],
   "source": [
    "# def run_q(torun, toret):\n",
    "#     for i in iter(torun.get, None):\n",
    "#             toret.put(get_fd(i))\n",
    "# from multiprocessing import Process, Manager\n",
    "# m = Manager()\n",
    "# toRun = m.Queue()\n",
    "# toReturn = m.Queue()\n"
   ]
  },
  {
   "cell_type": "code",
   "execution_count": 21,
   "metadata": {},
   "outputs": [],
   "source": [
    "# processes = [Process(target=run_q, args=(toRun, toReturn)) for i in range(20)]"
   ]
  },
  {
   "cell_type": "code",
   "execution_count": 22,
   "metadata": {
    "scrolled": true
   },
   "outputs": [],
   "source": [
    "# res = [toRun.put(file) for file in files]"
   ]
  },
  {
   "cell_type": "code",
   "execution_count": 23,
   "metadata": {},
   "outputs": [],
   "source": [
    "# res = [toRun.put(None) for i in range(16)]"
   ]
  },
  {
   "cell_type": "code",
   "execution_count": 24,
   "metadata": {},
   "outputs": [
    {
     "data": {
      "text/plain": [
       "[None,\n",
       " None,\n",
       " None,\n",
       " None,\n",
       " None,\n",
       " None,\n",
       " None,\n",
       " None,\n",
       " None,\n",
       " None,\n",
       " None,\n",
       " None,\n",
       " None,\n",
       " None,\n",
       " None,\n",
       " None,\n",
       " None,\n",
       " None,\n",
       " None,\n",
       " None]"
      ]
     },
     "execution_count": 24,
     "metadata": {},
     "output_type": "execute_result"
    }
   ],
   "source": [
    "# [p.start() for p in processes]"
   ]
  },
  {
   "cell_type": "code",
   "execution_count": 29,
   "metadata": {},
   "outputs": [
    {
     "data": {
      "text/plain": [
       "(25425, 9195)"
      ]
     },
     "execution_count": 29,
     "metadata": {},
     "output_type": "execute_result"
    }
   ],
   "source": [
    "# toRun.qsize(), toReturn.qsize()"
   ]
  },
  {
   "cell_type": "code",
   "execution_count": 30,
   "metadata": {},
   "outputs": [],
   "source": [
    "# channelList = []\n",
    "# fileList = []\n",
    "# for i in range(toReturn.qsize()):\n",
    "#     file, length, channels = toReturn.get()\n",
    "#     file_lens[file] = length\n",
    "#     fileList.append(file)\n",
    "#     channelList.append(channels)"
   ]
  },
  {
   "cell_type": "code",
   "execution_count": 31,
   "metadata": {},
   "outputs": [],
   "source": [
    "# commonChannels = set(channelList[0])\n",
    "# for channels in channelList:\n",
    "#     commonChannels = commonChannels.intersection(set(channels))"
   ]
  },
  {
   "cell_type": "code",
   "execution_count": 32,
   "metadata": {},
   "outputs": [
    {
     "data": {
      "text/plain": [
       "21"
      ]
     },
     "execution_count": 32,
     "metadata": {},
     "output_type": "execute_result"
    }
   ],
   "source": [
    "# len(commonChannels)"
   ]
  },
  {
   "cell_type": "code",
   "execution_count": 33,
   "metadata": {},
   "outputs": [
    {
     "data": {
      "text/plain": [
       "10639"
      ]
     },
     "execution_count": 33,
     "metadata": {},
     "output_type": "execute_result"
    }
   ],
   "source": [
    "# len(channelList)"
   ]
  },
  {
   "cell_type": "code",
   "execution_count": 35,
   "metadata": {},
   "outputs": [
    {
     "data": {
      "text/plain": [
       "10639"
      ]
     },
     "execution_count": 35,
     "metadata": {},
     "output_type": "execute_result"
    }
   ],
   "source": [
    "# len(fileList)"
   ]
  },
  {
   "cell_type": "code",
   "execution_count": 34,
   "metadata": {},
   "outputs": [],
   "source": [
    "# common_subset = set(util_funcs.get_common_channel_names())"
   ]
  },
  {
   "cell_type": "code",
   "execution_count": 75,
   "metadata": {},
   "outputs": [
    {
     "name": "stdout",
     "output_type": "stream",
     "text": [
      "/n/scratch2/ms994/tuh_files/tuh_eeg/all//01_tcp_ar/117/00011700/s001_2014_06_11/00011700_s001_t000.edf\n",
      "/n/scratch2/ms994/tuh_files/tuh_eeg/all//01_tcp_ar/114/00011488/s002_2014_06_06/00011488_s002_t001.edf\n"
     ]
    }
   ],
   "source": [
    "# count = 0\n",
    "# for i in range(len(channelList)):\n",
    "    \n",
    "#     if len(common_subset.intersection(set(channelList[i]))) == 21:\n",
    "#         count += 1\n",
    "#     else:\n",
    "#         print(fileList[i])"
   ]
  },
  {
   "cell_type": "code",
   "execution_count": 54,
   "metadata": {},
   "outputs": [],
   "source": [
    "#v1.2 of tuh_eeg data subset\n",
    "util_funcs.read_config()\n",
    "util_funcs.config[\"data_dir_root\"] = \"/n/scratch2/ms994/tuh_files/tuh_eeg/v1.2.0/edf\"\n",
    "util_funcs.config['train_01_tcp_ar'] ='/n/scratch2/ms994/tuh_files/tuh_eeg/v1.2.0/edf/train/01_tcp_ar/'\n",
    "util_funcs.config['combined_01_tcp_ar'] ='/n/scratch2/ms994/tuh_files/tuh_eeg/v1.2.0/edf/combined/01_tcp_ar/'\n",
    "util_funcs.config['dev_test_01_tcp_ar'] ='/n/scratch2/ms994/tuh_files/tuh_eeg/v1.2.0/edf/dev_test/01_tcp_ar/'\n",
    "util_funcs.config['train_02_tcp_le'] ='/n/scratch2/ms994/tuh_files/tuh_eeg/v1.2.0/edf/train/02_tcp_le/'\n",
    "util_funcs.config['dev_test_02_tcp_le'] ='/n/scratch2/ms994/tuh_files/tuh_eeg/v1.2.0/edf/dev_test/02_tcp_le/'\n",
    "util_funcs.config['train_03_tcp_ar_a'] ='/n/scratch2/ms994/tuh_files/tuh_eeg/v1.2.0/edf/dev_test/03_tcp_ar_a/'\n",
    "util_funcs.config['dev_test_03_tcp_ar_a'] ='/n/scratch2/ms994/tuh_files/tuh_eeg/v1.2.0/edf/train/03_tcp_ar_a/'"
   ]
  },
  {
   "cell_type": "code",
   "execution_count": 55,
   "metadata": {},
   "outputs": [],
   "source": [
    "reload(read)\n",
    "all_files_v2 = read.get_all_token_file_names(None, \"01_tcp_ar\")\n",
    "all_sessions_v2 = read.get_session_dir_names(None, \"01_tcp_ar\")"
   ]
  },
  {
   "cell_type": "code",
   "execution_count": 56,
   "metadata": {},
   "outputs": [
    {
     "data": {
      "text/plain": [
       "(34625, 15727)"
      ]
     },
     "execution_count": 56,
     "metadata": {},
     "output_type": "execute_result"
    }
   ],
   "source": [
    "len(all_files_v1), len(all_files_v2)"
   ]
  },
  {
   "cell_type": "code",
   "execution_count": 5,
   "metadata": {},
   "outputs": [],
   "source": [
    "patient_session_tuples_v1=[]\n",
    "for file in all_files_v1:\n",
    "    _, patient, session, _ = read.parse_edf_token_path_structure(file)\n",
    "    patient_session_tuples_v1.append(patient + session)\n",
    "    \n",
    "    \n",
    "patient_session_tuples_v2=[]\n",
    "for file in all_files_v2:\n",
    "    _, patient, session, _ = read.parse_edf_token_path_structure(file)\n",
    "    patient_session_tuples_v2.append(patient + session)"
   ]
  },
  {
   "cell_type": "code",
   "execution_count": 6,
   "metadata": {},
   "outputs": [
    {
     "data": {
      "text/plain": [
       "(34623, 12905)"
      ]
     },
     "execution_count": 6,
     "metadata": {},
     "output_type": "execute_result"
    }
   ],
   "source": [
    "len(patient_session_tuples_v1), len(set(patient_session_tuples_v1))"
   ]
  },
  {
   "cell_type": "code",
   "execution_count": 7,
   "metadata": {},
   "outputs": [
    {
     "ename": "NameError",
     "evalue": "name 'patient_session_tuples_v2' is not defined",
     "output_type": "error",
     "traceback": [
      "\u001b[0;31m---------------------------------------------------------------------------\u001b[0m",
      "\u001b[0;31mNameError\u001b[0m                                 Traceback (most recent call last)",
      "\u001b[0;32m<ipython-input-7-42f9a11c047f>\u001b[0m in \u001b[0;36m<module>\u001b[0;34m\u001b[0m\n\u001b[0;32m----> 1\u001b[0;31m \u001b[0mlen\u001b[0m\u001b[0;34m(\u001b[0m\u001b[0mpatient_session_tuples_v2\u001b[0m\u001b[0;34m)\u001b[0m\u001b[0;34m,\u001b[0m \u001b[0mlen\u001b[0m\u001b[0;34m(\u001b[0m\u001b[0mset\u001b[0m\u001b[0;34m(\u001b[0m\u001b[0mpatient_session_tuples_v2\u001b[0m\u001b[0;34m)\u001b[0m\u001b[0;34m)\u001b[0m\u001b[0;34m\u001b[0m\u001b[0;34m\u001b[0m\u001b[0m\n\u001b[0m",
      "\u001b[0;31mNameError\u001b[0m: name 'patient_session_tuples_v2' is not defined"
     ]
    }
   ],
   "source": [
    "len(patient_session_tuples_v2), len(set(patient_session_tuples_v2))"
   ]
  },
  {
   "cell_type": "code",
   "execution_count": null,
   "metadata": {},
   "outputs": [],
   "source": [
    "all_sess"
   ]
  },
  {
   "cell_type": "code",
   "execution_count": 8,
   "metadata": {},
   "outputs": [
    {
     "ename": "FileExistsError",
     "evalue": "[Errno 17] File exists: '/n/scratch2/ms994/tuh_files/tuh_eeg/v1.1.0/edf/01_tcp_ar/011/00001180/s002_2012_05_02' -> '/n/scratch2/ms994/tuh_files/tuh_eeg/all/01_tcp_ar/011/00001180/s002_2012_05_02'",
     "output_type": "error",
     "traceback": [
      "\u001b[0;31m---------------------------------------------------------------------------\u001b[0m",
      "\u001b[0;31mFileExistsError\u001b[0m                           Traceback (most recent call last)",
      "\u001b[0;32m<ipython-input-8-db27e804805d>\u001b[0m in \u001b[0;36m<module>\u001b[0;34m\u001b[0m\n\u001b[1;32m      7\u001b[0m     \u001b[0;32mif\u001b[0m \u001b[0;32mnot\u001b[0m \u001b[0mos\u001b[0m\u001b[0;34m.\u001b[0m\u001b[0mpath\u001b[0m\u001b[0;34m.\u001b[0m\u001b[0mexists\u001b[0m\u001b[0;34m(\u001b[0m\u001b[0mroot_path\u001b[0m\u001b[0;34m)\u001b[0m\u001b[0;34m:\u001b[0m\u001b[0;34m\u001b[0m\u001b[0;34m\u001b[0m\u001b[0m\n\u001b[1;32m      8\u001b[0m         \u001b[0mos\u001b[0m\u001b[0;34m.\u001b[0m\u001b[0mmkdir\u001b[0m\u001b[0;34m(\u001b[0m\u001b[0mroot_path\u001b[0m\u001b[0;34m,\u001b[0m \u001b[0;34m)\u001b[0m\u001b[0;34m\u001b[0m\u001b[0;34m\u001b[0m\u001b[0m\n\u001b[0;32m----> 9\u001b[0;31m     \u001b[0mos\u001b[0m\u001b[0;34m.\u001b[0m\u001b[0msymlink\u001b[0m\u001b[0;34m(\u001b[0m\u001b[0msession_file\u001b[0m\u001b[0;34m,\u001b[0m \u001b[0mroot_path\u001b[0m \u001b[0;34m+\u001b[0m \u001b[0;34m\"/\"\u001b[0m \u001b[0;34m+\u001b[0m\u001b[0msession\u001b[0m\u001b[0;34m)\u001b[0m\u001b[0;34m\u001b[0m\u001b[0;34m\u001b[0m\u001b[0m\n\u001b[0m",
      "\u001b[0;31mFileExistsError\u001b[0m: [Errno 17] File exists: '/n/scratch2/ms994/tuh_files/tuh_eeg/v1.1.0/edf/01_tcp_ar/011/00001180/s002_2012_05_02' -> '/n/scratch2/ms994/tuh_files/tuh_eeg/all/01_tcp_ar/011/00001180/s002_2012_05_02'"
     ]
    }
   ],
   "source": [
    "for session_file in all_sessions_v1 + all_sessions_v2:\n",
    "    _, patient_prefix, patient, session = read.parse_edf_token_path_structure(session_file)\n",
    "    patient_prefix = \"/n/scratch2/ms994/tuh_files/tuh_eeg/all/01_tcp_ar/\" + patient_prefix\n",
    "    root_path =  patient_prefix + \"/\" + patient\n",
    "    if not os.path.exists(patient_prefix):\n",
    "        os.mkdir(patient_prefix)\n",
    "    if not os.path.exists(root_path):\n",
    "        os.mkdir(root_path, )\n",
    "    os.symlink(session_file, root_path + \"/\" +session)"
   ]
  },
  {
   "cell_type": "code",
   "execution_count": 84,
   "metadata": {},
   "outputs": [],
   "source": [
    "#v1.2 of tuh_eeg data subset\n",
    "util_funcs.read_config()\n",
    "util_funcs.config[\"data_dir_root\"] = \"/n/scratch2/ms994/tuh_files/tuh_eeg/all/\"\n",
    "util_funcs.config['train_01_tcp_ar'] ='/n/scratch2/ms994/tuh_files/tuh_eeg/all/train/01_tcp_ar/'\n",
    "util_funcs.config['combined_01_tcp_ar'] ='/n/scratch2/ms994/tuh_files/tuh_eeg/all/combined/01_tcp_ar/'\n",
    "util_funcs.config['dev_test_01_tcp_ar'] ='/n/scratch2/ms994/tuh_files/tuh_eeg/all/dev_test/01_tcp_ar/'\n",
    "util_funcs.config['train_02_tcp_le'] ='/n/scratch2/ms994/tuh_files/tuh_eeg/all/train/02_tcp_le/'\n",
    "util_funcs.config['dev_test_02_tcp_le'] ='/n/scratch2/ms994/tuh_files/tuh_eeg/all/dev_test/02_tcp_le/'\n",
    "util_funcs.config['train_03_tcp_ar_a'] ='/n/scratch2/ms994/tuh_files/tuh_eeg/all/dev_test/03_tcp_ar_a/'\n",
    "util_funcs.config['dev_test_03_tcp_ar_a'] ='/n/scratch2/ms994/tuh_files/tuh_eeg/all/train/03_tcp_ar_a/'"
   ]
  },
  {
   "cell_type": "code",
   "execution_count": 85,
   "metadata": {},
   "outputs": [],
   "source": [
    "all_sessions = read.get_session_dir_names(None, \"01_tcp_ar\")"
   ]
  },
  {
   "cell_type": "code",
   "execution_count": 76,
   "metadata": {},
   "outputs": [],
   "source": [
    "files = read.get_all_token_file_names(None, \"01_tcp_ar\")"
   ]
  },
  {
   "cell_type": "code",
   "execution_count": 3,
   "metadata": {},
   "outputs": [],
   "source": [
    "file_lens = pd.Series(index=files)"
   ]
  },
  {
   "cell_type": "code",
   "execution_count": 4,
   "metadata": {},
   "outputs": [
    {
     "data": {
      "text/plain": [
       "'/n/scratch2/ms994/tuh_files/tuh_eeg/all//01_tcp_ar/011/00001180/s002_2012_05_02/00001180_s002_t001.edf'"
      ]
     },
     "execution_count": 4,
     "metadata": {},
     "output_type": "execute_result"
    }
   ],
   "source": [
    "files[0]"
   ]
  },
  {
   "cell_type": "code",
   "execution_count": 9,
   "metadata": {},
   "outputs": [
    {
     "ename": "NameError",
     "evalue": "name 'files' is not defined",
     "output_type": "error",
     "traceback": [
      "\u001b[0;31m---------------------------------------------------------------------------\u001b[0m",
      "\u001b[0;31mNameError\u001b[0m                                 Traceback (most recent call last)",
      "\u001b[0;32m<ipython-input-9-db4e6461bc23>\u001b[0m in \u001b[0;36m<module>\u001b[0;34m\u001b[0m\n\u001b[0;32m----> 1\u001b[0;31m \u001b[0;32mwith\u001b[0m \u001b[0medf\u001b[0m\u001b[0;34m.\u001b[0m\u001b[0mEdfReader\u001b[0m\u001b[0;34m(\u001b[0m\u001b[0mfiles\u001b[0m\u001b[0;34m[\u001b[0m\u001b[0;36m0\u001b[0m\u001b[0;34m]\u001b[0m\u001b[0;34m)\u001b[0m \u001b[0;32mas\u001b[0m \u001b[0mr\u001b[0m\u001b[0;34m:\u001b[0m\u001b[0;34m\u001b[0m\u001b[0;34m\u001b[0m\u001b[0m\n\u001b[0m\u001b[1;32m      2\u001b[0m     \u001b[0mprint\u001b[0m\u001b[0;34m(\u001b[0m\u001b[0mr\u001b[0m\u001b[0;34m.\u001b[0m\u001b[0mfile_duration\u001b[0m\u001b[0;34m)\u001b[0m\u001b[0;34m\u001b[0m\u001b[0;34m\u001b[0m\u001b[0m\n",
      "\u001b[0;31mNameError\u001b[0m: name 'files' is not defined"
     ]
    }
   ],
   "source": [
    "with edf.EdfReader(files[0]) as r:\n",
    "    print(r.file_duration)"
   ]
  },
  {
   "cell_type": "code",
   "execution_count": 5,
   "metadata": {},
   "outputs": [],
   "source": [
    "file_lens = pd.Series(index=files)"
   ]
  },
  {
   "cell_type": "code",
   "execution_count": 4,
   "metadata": {},
   "outputs": [],
   "source": [
    "def get_fd(file):\n",
    "    with edf.EdfReader(file, check_file_size=edf.DO_NOT_CHECK_FILE_SIZE) as reader:\n",
    "            return file, reader.file_duration, reader.getSignalLabels()"
   ]
  },
  {
   "cell_type": "code",
   "execution_count": 8,
   "metadata": {},
   "outputs": [
    {
     "data": {
      "text/plain": [
       "('/n/scratch2/ms994/tuh_files/tuh_eeg/all//01_tcp_ar/011/00001180/s002_2012_05_02/00001180_s002_t001.edf',\n",
       " 401)"
      ]
     },
     "execution_count": 8,
     "metadata": {},
     "output_type": "execute_result"
    }
   ],
   "source": [
    "get_fd(files[0])"
   ]
  },
  {
   "cell_type": "code",
   "execution_count": 77,
   "metadata": {},
   "outputs": [],
   "source": [
    "def run_q(torun, toret):\n",
    "    for i in iter(torun.get, None):\n",
    "            toret.put(get_fd(i))\n",
    "from multiprocessing import Process, Manager\n",
    "m = Manager()\n",
    "toRun = m.Queue()\n",
    "toReturn = m.Queue()\n"
   ]
  },
  {
   "cell_type": "code",
   "execution_count": 78,
   "metadata": {},
   "outputs": [],
   "source": [
    "processes = [Process(target=run_q, args=(toRun, toReturn)) for i in range(16)]"
   ]
  },
  {
   "cell_type": "code",
   "execution_count": 79,
   "metadata": {
    "scrolled": true
   },
   "outputs": [],
   "source": [
    "res = [toRun.put(file) for file in files]"
   ]
  },
  {
   "cell_type": "code",
   "execution_count": 80,
   "metadata": {},
   "outputs": [],
   "source": [
    "res = [toRun.put(None) for i in range(16)]"
   ]
  },
  {
   "cell_type": "code",
   "execution_count": 81,
   "metadata": {},
   "outputs": [
    {
     "data": {
      "text/plain": [
       "[None,\n",
       " None,\n",
       " None,\n",
       " None,\n",
       " None,\n",
       " None,\n",
       " None,\n",
       " None,\n",
       " None,\n",
       " None,\n",
       " None,\n",
       " None,\n",
       " None,\n",
       " None,\n",
       " None,\n",
       " None]"
      ]
     },
     "execution_count": 81,
     "metadata": {},
     "output_type": "execute_result"
    }
   ],
   "source": [
    "[p.start() for p in processes]"
   ]
  },
  {
   "cell_type": "code",
   "execution_count": 83,
   "metadata": {},
   "outputs": [
    {
     "data": {
      "text/plain": [
       "(0, 50350)"
      ]
     },
     "execution_count": 83,
     "metadata": {},
     "output_type": "execute_result"
    }
   ],
   "source": [
    "toRun.qsize(), toReturn.qsize()"
   ]
  },
  {
   "cell_type": "code",
   "execution_count": 84,
   "metadata": {},
   "outputs": [],
   "source": [
    "channelList = []\n",
    "fileList = []\n",
    "for i in range(toReturn.qsize()):\n",
    "    file, length, channels = toReturn.get()\n",
    "    file_lens[file] = length\n",
    "    fileList.append(file)\n",
    "    channelList.append(channels)"
   ]
  },
  {
   "cell_type": "code",
   "execution_count": 85,
   "metadata": {},
   "outputs": [],
   "source": [
    "commonChannels = set(channelList[0])\n",
    "for channels in channelList:\n",
    "    commonChannels = commonChannels.intersection(set(channels))"
   ]
  },
  {
   "cell_type": "code",
   "execution_count": 86,
   "metadata": {},
   "outputs": [
    {
     "data": {
      "text/plain": [
       "21"
      ]
     },
     "execution_count": 86,
     "metadata": {},
     "output_type": "execute_result"
    }
   ],
   "source": [
    "len(commonChannels)"
   ]
  },
  {
   "cell_type": "code",
   "execution_count": 87,
   "metadata": {},
   "outputs": [
    {
     "data": {
      "text/plain": [
       "50350"
      ]
     },
     "execution_count": 87,
     "metadata": {},
     "output_type": "execute_result"
    }
   ],
   "source": [
    "len(channelList)"
   ]
  },
  {
   "cell_type": "code",
   "execution_count": 31,
   "metadata": {},
   "outputs": [],
   "source": [
    "common_subset = set(util_funcs.get_common_channel_names())"
   ]
  },
  {
   "cell_type": "code",
   "execution_count": 75,
   "metadata": {},
   "outputs": [
    {
     "name": "stdout",
     "output_type": "stream",
     "text": [
      "/n/scratch2/ms994/tuh_files/tuh_eeg/all//01_tcp_ar/117/00011700/s001_2014_06_11/00011700_s001_t000.edf\n",
      "/n/scratch2/ms994/tuh_files/tuh_eeg/all//01_tcp_ar/114/00011488/s002_2014_06_06/00011488_s002_t001.edf\n"
     ]
    }
   ],
   "source": [
    "count = 0\n",
    "for i in range(len(channelList)):\n",
    "    \n",
    "    if len(common_subset.intersection(set(channelList[i]))) == 21:\n",
    "        count += 1\n",
    "    else:\n",
    "        print(fileList[i])"
   ]
  },
  {
   "cell_type": "code",
   "execution_count": 73,
   "metadata": {},
   "outputs": [
    {
     "data": {
      "text/plain": [
       "50350"
      ]
     },
     "execution_count": 73,
     "metadata": {},
     "output_type": "execute_result"
    }
   ],
   "source": [
    "count"
   ]
  },
  {
   "cell_type": "code",
   "execution_count": 74,
   "metadata": {},
   "outputs": [
    {
     "data": {
      "text/plain": [
       "50352"
      ]
     },
     "execution_count": 74,
     "metadata": {},
     "output_type": "execute_result"
    }
   ],
   "source": [
    "len(channelList)"
   ]
  },
  {
   "cell_type": "code",
   "execution_count": 34,
   "metadata": {},
   "outputs": [
    {
     "data": {
      "text/plain": [
       "{'BURSTS',\n",
       " 'EEG A1-REF',\n",
       " 'EEG A2-REF',\n",
       " 'EEG C3-REF',\n",
       " 'EEG C4-REF',\n",
       " 'EEG CZ-REF',\n",
       " 'EEG EKG1-REF',\n",
       " 'EEG F3-REF',\n",
       " 'EEG F4-REF',\n",
       " 'EEG F7-REF',\n",
       " 'EEG F8-REF',\n",
       " 'EEG FP1-REF',\n",
       " 'EEG FP2-REF',\n",
       " 'EEG FZ-REF',\n",
       " 'EEG LOC-REF',\n",
       " 'EEG O1-REF',\n",
       " 'EEG O2-REF',\n",
       " 'EEG P3-REF',\n",
       " 'EEG P4-REF',\n",
       " 'EEG PZ-REF',\n",
       " 'EEG ROC-REF',\n",
       " 'EEG T1-REF',\n",
       " 'EEG T2-REF',\n",
       " 'EEG T3-REF',\n",
       " 'EEG T4-REF',\n",
       " 'EEG T5-REF',\n",
       " 'EEG T6-REF',\n",
       " 'IBI',\n",
       " 'PHOTIC-REF',\n",
       " 'SUPPR'}"
      ]
     },
     "execution_count": 34,
     "metadata": {},
     "output_type": "execute_result"
    }
   ],
   "source": [
    "set(channelList[0])"
   ]
  },
  {
   "cell_type": "code",
   "execution_count": 84,
   "metadata": {},
   "outputs": [
    {
     "data": {
      "text/plain": [
       "401"
      ]
     },
     "execution_count": 84,
     "metadata": {},
     "output_type": "execute_result"
    }
   ],
   "source": [
    "file_lens[file] = length\n",
    "length"
   ]
  },
  {
   "cell_type": "code",
   "execution_count": 107,
   "metadata": {},
   "outputs": [
    {
     "data": {
      "text/plain": [
       "0.418235621226565"
      ]
     },
     "execution_count": 107,
     "metadata": {},
     "output_type": "execute_result"
    }
   ],
   "source": [
    "file_lens.isna().sum() / len(file_lens)"
   ]
  },
  {
   "cell_type": "code",
   "execution_count": 91,
   "metadata": {},
   "outputs": [
    {
     "name": "stderr",
     "output_type": "stream",
     "text": [
      "/home/ms994/miniconda3/envs/keras-redo/lib/python3.7/site-packages/ipykernel_launcher.py:1: FutureWarning: The signature of `Series.to_csv` was aligned to that of `DataFrame.to_csv`, and argument 'header' will change its default value from False to True: please pass an explicit value to suppress this warning.\n",
      "  \"\"\"Entry point for launching an IPython kernel.\n"
     ]
    }
   ],
   "source": [
    "file_lens[files].to_csv(\"None_01_tcp_ar_file_lengths.csv\")"
   ]
  }
 ],
 "metadata": {
  "kernelspec": {
   "display_name": "Python 3",
   "language": "python",
   "name": "python3"
  }
 },
 "nbformat": 4,
 "nbformat_minor": 2
}

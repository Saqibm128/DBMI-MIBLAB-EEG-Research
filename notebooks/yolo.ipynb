{
 "cells": [
  {
   "cell_type": "code",
   "execution_count": 1,
   "metadata": {},
   "outputs": [],
   "source": [
    "import sys, os\n",
    "sys.path.append(os.path.realpath(\"..\"))"
   ]
  },
  {
   "cell_type": "code",
   "execution_count": 6,
   "metadata": {},
   "outputs": [],
   "source": [
    "import tensorflow as tf\n",
    "from keras_models.metrics import f1, sensitivity, specificity"
   ]
  },
  {
   "cell_type": "code",
   "execution_count": 13,
   "metadata": {},
   "outputs": [],
   "source": [
    "def get_read_tfrecord(multilabel=False):\n",
    "    def read_tfrecord(example):\n",
    "        features = {'original_index': tf.io.FixedLenFeature([1], tf.int64, ),\\\n",
    "                   'data':  tf.io.FixedLenFeature([9*21*1000], tf.float32,),\\\n",
    "                   'label':  tf.io.FixedLenFeature([10], tf.int64, [0 for i in range(10)]),\\\n",
    "                   'subtypeLabel':  tf.io.FixedLenFeature([10], tf.int64, [0 for i in range(10)]),\\\n",
    "                   'patient':  tf.io.FixedLenFeature([1], tf.int64,), \\\n",
    "                   'session':  tf.io.FixedLenFeature([1], tf.int64,),\n",
    "                           }\n",
    "        # decode the TFRecord\n",
    "        example = tf.io.parse_single_example(example, features)\n",
    "    #     return example\n",
    "\n",
    "        data = tf.reshape(example['data'], [9,21,1000,1])\n",
    "        # data = (example['data'])\n",
    "\n",
    "        class_label = tf.cast(example['label'], tf.int32)\n",
    "\n",
    "        if multilabel:\n",
    "            return data, (tf.one_hot(class_label[:9], 2), tf.one_hot(tf.cast(tf.reduce_any(tf.cast(class_label[:9], tf.bool)), tf.int32), 2))\n",
    "        else:\n",
    "            return data, tf.one_hot(class_label[:9], 2)\n",
    "    return read_tfrecord\n",
    "def get_batched_dataset(filenames, batch_size=4, use_fft=False, max_queue_size=100, max_std=100, n_process=4, is_train=True):\n",
    "    option_no_order = tf.data.Options()\n",
    "    option_no_order.experimental_deterministic = False\n",
    "\n",
    "    dataset = tf.data.Dataset.list_files(filenames)\n",
    "    dataset = dataset.with_options(option_no_order)\n",
    "    dataset = dataset.interleave(tf.data.TFRecordDataset, cycle_length=16, num_parallel_calls=n_process)\n",
    "    dataset = dataset.map(get_read_tfrecord(), num_parallel_calls=n_process)\n",
    "    if is_train and max_std != None:\n",
    "        dataset = dataset.filter(lambda x, y: tf.reduce_all(tf.math.reduce_std(x, axis=0) < max_std))\n",
    "    if use_fft:\n",
    "        dataset = dataset.map(lambda x, y: ( \\\n",
    "                                            tf.cast(tf.signal.fft( tf.cast(x, tf.complex64)), tf.float64), \\\n",
    "                                            y), num_parallel_calls=n_process)\n",
    "#     dataset = dataset.cache() # IF this dataset fits in RAM\n",
    "    dataset = dataset.repeat()\n",
    "    if is_train:\n",
    "        dataset = dataset.shuffle(2048)\n",
    "    dataset = dataset.batch(batch_size, drop_remainder=True)\n",
    "    dataset = dataset.prefetch(max_queue_size)\n",
    "    return dataset\n",
    "test_filenames=[\"/n/scratch2/ms994/medium_size/test_1.tfrecords\",\"/n/scratch2/ms994/medium_size/test_2.tfrecords\",\"/n/scratch2/ms994/medium_size/test_3.tfrecords\",\"/n/scratch2/ms994/medium_size/test_0.tfrecords\"]\n",
    "def get_test_dataset(test_filenames=test_filenames):\n",
    "    return get_batched_dataset(test_filenames, is_train=False)\n",
    "train_filenames=[\"/n/scratch2/ms994/medium_size/train_1.tfrecords\",\"/n/scratch2/ms994/medium_size/train_2.tfrecords\",\"/n/scratch2/ms994/medium_size/train_3.tfrecords\",\"/n/scratch2/ms994/medium_size/train_0.tfrecords\"]\n",
    "def get_train_dataset(test_filenames=train_filenames):\n",
    "    return get_batched_dataset(test_filenames, is_train=False)"
   ]
  },
  {
   "cell_type": "code",
   "execution_count": 7,
   "metadata": {},
   "outputs": [
    {
     "name": "stdout",
     "output_type": "stream",
     "text": [
      "WARNING:tensorflow:From /home/ms994/miniconda3/envs/keras-redo/lib/python3.7/site-packages/tensorflow/python/ops/control_flow_ops.py:423: colocate_with (from tensorflow.python.framework.ops) is deprecated and will be removed in a future version.\n",
      "Instructions for updating:\n",
      "Colocations handled automatically by placer.\n",
      "WARNING:tensorflow:From /home/ms994/miniconda3/envs/keras-redo/lib/python3.7/site-packages/tensorflow/python/keras/layers/core.py:143: calling dropout (from tensorflow.python.ops.nn_ops) with keep_prob is deprecated and will be removed in a future version.\n",
      "Instructions for updating:\n",
      "Please use `rate` instead of `keep_prob`. Rate should be set to `rate = 1 - keep_prob`.\n",
      "WARNING:tensorflow:From /home/ms994/miniconda3/envs/keras-redo/lib/python3.7/site-packages/tensorflow/python/ops/math_ops.py:3066: to_int32 (from tensorflow.python.ops.math_ops) is deprecated and will be removed in a future version.\n",
      "Instructions for updating:\n",
      "Use tf.cast instead.\n"
     ]
    }
   ],
   "source": [
    "model = tf.keras.models.load_model(\"/n/scratch2/ms994/out/WGBYHTDBVOQAXBVX.h5\", custom_objects={\"f1\":f1,\"sensitivity\":sensitivity,\"specificity\":specificity})"
   ]
  },
  {
   "cell_type": "code",
   "execution_count": 10,
   "metadata": {},
   "outputs": [],
   "source": [
    "test = get_test_dataset()"
   ]
  },
  {
   "cell_type": "code",
   "execution_count": 14,
   "metadata": {},
   "outputs": [],
   "source": [
    "predictions = model.predict(test, steps=100)"
   ]
  },
  {
   "cell_type": "code",
   "execution_count": 19,
   "metadata": {},
   "outputs": [
    {
     "data": {
      "text/plain": [
       "(400, 9, 2)"
      ]
     },
     "execution_count": 19,
     "metadata": {},
     "output_type": "execute_result"
    }
   ],
   "source": [
    "predictions.shape"
   ]
  },
  {
   "cell_type": "code",
   "execution_count": 20,
   "metadata": {},
   "outputs": [
    {
     "data": {
      "text/plain": [
       "3600"
      ]
     },
     "execution_count": 20,
     "metadata": {},
     "output_type": "execute_result"
    }
   ],
   "source": [
    "400*9"
   ]
  },
  {
   "cell_type": "code",
   "execution_count": 18,
   "metadata": {},
   "outputs": [
    {
     "data": {
      "text/plain": [
       "615"
      ]
     },
     "execution_count": 18,
     "metadata": {},
     "output_type": "execute_result"
    }
   ],
   "source": [
    "predictions.argmax(2).sum()"
   ]
  }
 ],
 "metadata": {
  "kernelspec": {
   "display_name": "Python 3",
   "language": "python",
   "name": "python3"
  },
  "language_info": {
   "codemirror_mode": {
    "name": "ipython",
    "version": 3
   },
   "file_extension": ".py",
   "mimetype": "text/x-python",
   "name": "python",
   "nbconvert_exporter": "python",
   "pygments_lexer": "ipython3",
   "version": "3.7.3"
  },
  "toc": {
   "base_numbering": 1,
   "nav_menu": {},
   "number_sections": true,
   "sideBar": true,
   "skip_h1_title": false,
   "title_cell": "Table of Contents",
   "title_sidebar": "Contents",
   "toc_cell": false,
   "toc_position": {},
   "toc_section_display": true,
   "toc_window_display": false
  }
 },
 "nbformat": 4,
 "nbformat_minor": 2
}

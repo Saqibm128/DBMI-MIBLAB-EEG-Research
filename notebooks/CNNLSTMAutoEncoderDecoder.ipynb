{
 "cells": [
  {
   "cell_type": "code",
   "execution_count": 1,
   "metadata": {},
   "outputs": [
    {
     "name": "stderr",
     "output_type": "stream",
     "text": [
      "Using TensorFlow backend.\n"
     ]
    }
   ],
   "source": [
    "import sys, os\n",
    "sys.path.append(os.path.realpath(\"..\"))\n",
    "os.environ[\"TF_XLA_FLAGS\"]=\"--tf_xla_cpu_global_jit\"\n",
    "\n",
    "import tensorflow as tf\n",
    "tf.enable_eager_execution()\n",
    "# tf.enable_v2_behavior()\n",
    "# sess = tf.InteractiveSession()\n",
    "# sess.as_default()\n",
    "\n",
    "import util_funcs\n",
    "from importlib import reload\n",
    "import data_reader as read\n",
    "import pandas as pd\n",
    "import numpy as np\n",
    "import pickle as pkl\n",
    "import matplotlib.pyplot as plt\n",
    "import constants\n",
    "import clinical_text_analysis as cta\n",
    "import tsfresh\n",
    "from sklearn.metrics import roc_auc_score, accuracy_score, confusion_matrix, roc_curve\n",
    "from os import path\n",
    "import predictSeizureConvExp as psce\n",
    "import keras_models.dataGen as dg\n",
    "from addict import Dict\n",
    "reload(psce)\n",
    "from keras.utils import multi_gpu_model\n",
    "import keras.optimizers\n",
    "import ensembleReader as er\n",
    "import time\n",
    "from sklearn.metrics import confusion_matrix, roc_auc_score, accuracy_score, log_loss\n",
    "from functools import lru_cache"
   ]
  },
  {
   "cell_type": "code",
   "execution_count": 2,
   "metadata": {},
   "outputs": [],
   "source": [
    "import tensorflow as tf\n",
    "#https://androidkt.com/feed-tfrecord-to-keras/\n",
    "def read_tfrecord(example):\n",
    "    features = {'original_index': tf.io.FixedLenFeature([1], tf.int64, ),\\\n",
    "               'data':  tf.FixedLenFeature([9*21*1000], tf.float32,),\\\n",
    "               'label':  tf.FixedLenFeature([10], tf.int64, [0 for i in range(10)]),\\\n",
    "               'subtypeLabel':  tf.FixedLenFeature([10], tf.int64, [0 for i in range(10)]),\\\n",
    "               'patient':  tf.FixedLenFeature([1], tf.int64,), \\\n",
    "               'session':  tf.FixedLenFeature([1], tf.int64,),\n",
    "                       }\n",
    "    # decode the TFRecord\n",
    "    example = tf.io.parse_single_example(example, features)\n",
    "#     return example\n",
    "    data = tf.reshape(example['data'], [9,21,1000,1])\n",
    "#     data = (example['data'])\n",
    "    class_label = tf.cast(example['label'], tf.int32)\n",
    "    \n",
    "    paddings = tf.constant([[0,0],[0,0,], [42, 42], [0,0]])\n",
    "    # 'constant_values' is 0.\n",
    "    # rank of 't' is 2.\n",
    "    data_decoder = tf.pad(data, paddings, \"CONSTANT\")\n",
    "    \n",
    "    return data, (tf.one_hot(class_label, 2)[0:9], data_decoder)\n",
    "def get_batched_dataset(filenames):\n",
    "    BATCH_SIZE=32\n",
    "    \n",
    "    option_no_order = tf.data.Options()\n",
    "    option_no_order.experimental_deterministic = False\n",
    "\n",
    "    dataset = tf.data.Dataset.list_files(filenames)\n",
    "    dataset = dataset.with_options(option_no_order)\n",
    "    dataset = dataset.interleave(tf.data.TFRecordDataset, cycle_length=16, num_parallel_calls=4)\n",
    "    dataset = dataset.map(read_tfrecord, num_parallel_calls=4)\n",
    "\n",
    "#     dataset = dataset.cache() # This dataset fits in RAM\n",
    "    dataset = dataset.repeat()\n",
    "    dataset = dataset.shuffle(256)\n",
    "    dataset = dataset.batch(BATCH_SIZE, drop_remainder=True) \n",
    "    dataset = dataset.prefetch(20) #\n",
    "\n",
    "    return dataset\n",
    "# featureData = read_tfrecord(allData[1])\n",
    "import tensorflow as tf\n",
    "def get_training_dataset():\n",
    "    training_filenames = [\"/n/scratch2/ms994/medium_size/train_1.tfrecords\",\"/n/scratch2/ms994/medium_size/train_2.tfrecords\",\"/n/scratch2/ms994/medium_size/train_3.tfrecords\",\"/n/scratch2/ms994/medium_size/train_0.tfrecords\"]\n",
    "    return get_batched_dataset(training_filenames)\n",
    "\n",
    "def get_validation_dataset():\n",
    "    validation_filenames=[\"/n/scratch2/ms994/medium_size/valid_1.tfrecords\",\"/n/scratch2/ms994/medium_size/valid_2.tfrecords\",\"/n/scratch2/ms994/medium_size/valid_3.tfrecords\",\"/n/scratch2/ms994/medium_size/valid_0.tfrecords\"]\n",
    "    return get_batched_dataset(validation_filenames)\n",
    "\n",
    "def get_test_dataset():\n",
    "    test_filenames=[\"/n/scratch2/ms994/medium_size/test_1.tfrecords\",\"/n/scratch2/ms994/medium_size/test_2.tfrecords\",\"/n/scratch2/ms994/medium_size/test_3.tfrecords\",\"/n/scratch2/ms994/medium_size/test_0.tfrecords\"]\n",
    "    return get_batched_dataset(test_filenames)\n",
    "negative_train_filenames =  [\"/n/scratch2/ms994/medium_size/train_neg_1.tfrecords\",\"/n/scratch2/ms994/medium_size/train_neg_2.tfrecords\",\"/n/scratch2/ms994/medium_size/train_neg_3.tfrecords\",\"/n/scratch2/ms994/medium_size/train_neg_0.tfrecords\"]\n",
    "positive_train_filenames =  [\"/n/scratch2/ms994/medium_size/train_pos_1.tfrecords\",\"/n/scratch2/ms994/medium_size/train_pos_2.tfrecords\",\"/n/scratch2/ms994/medium_size/train_pos_3.tfrecords\",\"/n/scratch2/ms994/medium_size/train_pos_0.tfrecords\"]\n",
    "    \n",
    "def get_positive_train_dataset():\n",
    "    return get_batched_dataset(positive_train_filenames)\n",
    "\n",
    "def get_negative_train_dataset():\n",
    "    return get_batched_dataset(negative_train_filenames)\n",
    "\n",
    "def get_balanced_train_dataset(batch_size=64, max_queue_size=10):\n",
    "    pos_ds = get_positive_train_dataset()\n",
    "    neg_ds = get_negative_train_dataset()\n",
    "    resampled_ds = tf.data.experimental.sample_from_datasets([pos_ds, neg_ds], weights=[0.5, 0.5])\n",
    "\n",
    "    return resampled_ds\n"
   ]
  },
  {
   "cell_type": "code",
   "execution_count": 3,
   "metadata": {},
   "outputs": [],
   "source": [
    "train = get_balanced_train_dataset()\n",
    "valid = get_validation_dataset()\n",
    "test = get_test_dataset()"
   ]
  },
  {
   "cell_type": "code",
   "execution_count": 4,
   "metadata": {},
   "outputs": [
    {
     "name": "stdout",
     "output_type": "stream",
     "text": [
      "WARNING:tensorflow:From /home/ms994/miniconda3/envs/keras-redo/lib/python3.7/site-packages/tensorflow/python/ops/resource_variable_ops.py:642: colocate_with (from tensorflow.python.framework.ops) is deprecated and will be removed in a future version.\n",
      "Instructions for updating:\n",
      "Colocations handled automatically by placer.\n"
     ]
    },
    {
     "name": "stderr",
     "output_type": "stream",
     "text": [
      "WARNING:tensorflow:From /home/ms994/miniconda3/envs/keras-redo/lib/python3.7/site-packages/tensorflow/python/ops/resource_variable_ops.py:642: colocate_with (from tensorflow.python.framework.ops) is deprecated and will be removed in a future version.\n",
      "Instructions for updating:\n",
      "Colocations handled automatically by placer.\n"
     ]
    },
    {
     "name": "stdout",
     "output_type": "stream",
     "text": [
      "WARNING:tensorflow:From /home/ms994/miniconda3/envs/keras-redo/lib/python3.7/site-packages/tensorflow/python/keras/layers/core.py:143: calling dropout (from tensorflow.python.ops.nn_ops) with keep_prob is deprecated and will be removed in a future version.\n",
      "Instructions for updating:\n",
      "Please use `rate` instead of `keep_prob`. Rate should be set to `rate = 1 - keep_prob`.\n"
     ]
    },
    {
     "name": "stderr",
     "output_type": "stream",
     "text": [
      "WARNING:tensorflow:From /home/ms994/miniconda3/envs/keras-redo/lib/python3.7/site-packages/tensorflow/python/keras/layers/core.py:143: calling dropout (from tensorflow.python.ops.nn_ops) with keep_prob is deprecated and will be removed in a future version.\n",
      "Instructions for updating:\n",
      "Please use `rate` instead of `keep_prob`. Rate should be set to `rate = 1 - keep_prob`.\n"
     ]
    },
    {
     "name": "stdout",
     "output_type": "stream",
     "text": [
      "WARNING:tensorflow:From /home/ms994/miniconda3/envs/keras-redo/lib/python3.7/site-packages/tensorflow/python/keras/utils/losses_utils.py:170: to_float (from tensorflow.python.ops.math_ops) is deprecated and will be removed in a future version.\n",
      "Instructions for updating:\n",
      "Use tf.cast instead.\n"
     ]
    },
    {
     "name": "stderr",
     "output_type": "stream",
     "text": [
      "WARNING:tensorflow:From /home/ms994/miniconda3/envs/keras-redo/lib/python3.7/site-packages/tensorflow/python/keras/utils/losses_utils.py:170: to_float (from tensorflow.python.ops.math_ops) is deprecated and will be removed in a future version.\n",
      "Instructions for updating:\n",
      "Use tf.cast instead.\n"
     ]
    }
   ],
   "source": [
    "from keras_models.metrics import f1, sensitivity, specificity\n",
    "inputX = tf.keras.layers.Input((9,21,1000,1))\n",
    "x = inputX\n",
    "# inputX = tf.keras.Input((21*1000*1,))\n",
    "# x = tf.keras.GaussianNoise(4)(inputX)\n",
    "# x = tf.keras.layers.Reshape((9,21,1000,1))(inputX)\n",
    "#encoder\n",
    "for i in range(6):\n",
    "    x = tf.keras.layers.TimeDistributed(tf.keras.layers.BatchNormalization())(x)\n",
    "    if i > 3:\n",
    "        num_filters=4\n",
    "    else:\n",
    "        num_filters=8\n",
    "    x = tf.keras.layers.TimeDistributed(tf.keras.layers.Conv2D(num_filters, (3,3), activation=\"relu\"))(x)\n",
    "    x = tf.keras.layers.TimeDistributed(tf.keras.layers.MaxPool2D((1,2)))(x)\n",
    "decoder_reshape_shape =  tf.keras.backend.int_shape(x)\n",
    "x = tf.keras.layers.TimeDistributed(tf.keras.layers.Flatten())(x)\n",
    "decoder_lstm_out_shape = tf.keras.backend.int_shape(x)\n",
    "x = tf.keras.layers.TimeDistributed(tf.keras.layers.BatchNormalization())(x)\n",
    "x = tf.keras.layers.CuDNNLSTM(128, return_sequences=True)(x)\n",
    "x = tf.keras.layers.Activation(\"relu\")(x)\n",
    "x = tf.keras.layers.TimeDistributed(tf.keras.layers.BatchNormalization())(x)\n",
    "x = tf.keras.layers.CuDNNLSTM(64, return_sequences=True)(x)\n",
    "x = tf.keras.layers.Activation(\"relu\")(x)\n",
    "x = tf.keras.layers.TimeDistributed(tf.keras.layers.BatchNormalization())(x)\n",
    "x = tf.keras.layers.TimeDistributed(tf.keras.layers.Dense(128, activation=\"relu\"))(x)\n",
    "encoder_out = x\n",
    "#seizure detection\n",
    "x = tf.keras.layers.TimeDistributed(tf.keras.layers.Dropout(0.5))(x)\n",
    "y = tf.keras.layers.TimeDistributed(tf.keras.layers.Dense(2, activation=\"relu\"), name=\"seizure_detection\")(x)\n",
    "\n",
    "#decoder\n",
    "x = tf.keras.layers.CuDNNLSTM(decoder_lstm_out_shape[2], return_sequences=True)(encoder_out)\n",
    "x = tf.keras.layers.Activation(\"relu\")(x)\n",
    "x = tf.keras.layers.Reshape(decoder_reshape_shape[1:])(x)\n",
    "for i in range(6):\n",
    "    x = tf.keras.layers.TimeDistributed(tf.keras.layers.BatchNormalization())(x)\n",
    "    if i > 3:\n",
    "        num_filters=8\n",
    "    else:\n",
    "        num_filters=4\n",
    "    x = tf.keras.layers.TimeDistributed(tf.keras.layers.Conv2DTranspose(num_filters, (3,3), activation=\"relu\"))(x)\n",
    "    x = tf.keras.layers.TimeDistributed(tf.keras.layers.UpSampling2D((1,2)))(x)\n",
    "\n",
    "y_decoder = tf.keras.layers.TimeDistributed(tf.keras.layers.Conv2DTranspose(1, (1,1), activation=\"relu\"), name=\"upsample\")(x)\n",
    "# y_decoder.name = x\n",
    "# y_decoder = tf.keras.layers.Reshape((9,21,1000,1), name=\"decoder\")(x)\n",
    "\n",
    "model = tf.keras.Model(inputs=[inputX], outputs=[y, y_decoder])\n",
    "model.compile(tf.keras.optimizers.Adam(lr=0.0001), loss={\"seizure_detection\":\"categorical_crossentropy\",\"upsample\":\"mse\"}, metrics={\"seizure_detection\":[\"binary_accuracy\", f1, sensitivity, specificity],\"upsample\":[]}, )"
   ]
  },
  {
   "cell_type": "code",
   "execution_count": 5,
   "metadata": {},
   "outputs": [
    {
     "name": "stdout",
     "output_type": "stream",
     "text": [
      "__________________________________________________________________________________________________\n",
      "Layer (type)                    Output Shape         Param #     Connected to                     \n",
      "==================================================================================================\n",
      "input_1 (InputLayer)            (None, 9, 21, 1000,  0                                            \n",
      "__________________________________________________________________________________________________\n",
      "time_distributed (TimeDistribut (None, 9, 21, 1000,  4           input_1[0][0]                    \n",
      "__________________________________________________________________________________________________\n",
      "time_distributed_1 (TimeDistrib (None, 9, 19, 998, 8 80          time_distributed[0][0]           \n",
      "__________________________________________________________________________________________________\n",
      "time_distributed_2 (TimeDistrib (None, 9, 19, 499, 8 0           time_distributed_1[0][0]         \n",
      "__________________________________________________________________________________________________\n",
      "time_distributed_3 (TimeDistrib (None, 9, 19, 499, 8 32          time_distributed_2[0][0]         \n",
      "__________________________________________________________________________________________________\n",
      "time_distributed_4 (TimeDistrib (None, 9, 17, 497, 8 584         time_distributed_3[0][0]         \n",
      "__________________________________________________________________________________________________\n",
      "time_distributed_5 (TimeDistrib (None, 9, 17, 248, 8 0           time_distributed_4[0][0]         \n",
      "__________________________________________________________________________________________________\n",
      "time_distributed_6 (TimeDistrib (None, 9, 17, 248, 8 32          time_distributed_5[0][0]         \n",
      "__________________________________________________________________________________________________\n",
      "time_distributed_7 (TimeDistrib (None, 9, 15, 246, 8 584         time_distributed_6[0][0]         \n",
      "__________________________________________________________________________________________________\n",
      "time_distributed_8 (TimeDistrib (None, 9, 15, 123, 8 0           time_distributed_7[0][0]         \n",
      "__________________________________________________________________________________________________\n",
      "time_distributed_9 (TimeDistrib (None, 9, 15, 123, 8 32          time_distributed_8[0][0]         \n",
      "__________________________________________________________________________________________________\n",
      "time_distributed_10 (TimeDistri (None, 9, 13, 121, 8 584         time_distributed_9[0][0]         \n",
      "__________________________________________________________________________________________________\n",
      "time_distributed_11 (TimeDistri (None, 9, 13, 60, 8) 0           time_distributed_10[0][0]        \n",
      "__________________________________________________________________________________________________\n",
      "time_distributed_12 (TimeDistri (None, 9, 13, 60, 8) 32          time_distributed_11[0][0]        \n",
      "__________________________________________________________________________________________________\n",
      "time_distributed_13 (TimeDistri (None, 9, 11, 58, 4) 292         time_distributed_12[0][0]        \n",
      "__________________________________________________________________________________________________\n",
      "time_distributed_14 (TimeDistri (None, 9, 11, 29, 4) 0           time_distributed_13[0][0]        \n",
      "__________________________________________________________________________________________________\n",
      "time_distributed_15 (TimeDistri (None, 9, 11, 29, 4) 16          time_distributed_14[0][0]        \n",
      "__________________________________________________________________________________________________\n",
      "time_distributed_16 (TimeDistri (None, 9, 9, 27, 4)  148         time_distributed_15[0][0]        \n",
      "__________________________________________________________________________________________________\n",
      "time_distributed_17 (TimeDistri (None, 9, 9, 13, 4)  0           time_distributed_16[0][0]        \n",
      "__________________________________________________________________________________________________\n",
      "time_distributed_18 (TimeDistri (None, 9, 468)       0           time_distributed_17[0][0]        \n",
      "__________________________________________________________________________________________________\n",
      "time_distributed_19 (TimeDistri (None, 9, 468)       1872        time_distributed_18[0][0]        \n",
      "__________________________________________________________________________________________________\n",
      "cu_dnnlstm (CuDNNLSTM)          (None, 9, 128)       306176      time_distributed_19[0][0]        \n",
      "__________________________________________________________________________________________________\n",
      "activation (Activation)         (None, 9, 128)       0           cu_dnnlstm[0][0]                 \n",
      "__________________________________________________________________________________________________\n",
      "time_distributed_20 (TimeDistri (None, 9, 128)       512         activation[0][0]                 \n",
      "__________________________________________________________________________________________________\n",
      "cu_dnnlstm_1 (CuDNNLSTM)        (None, 9, 64)        49664       time_distributed_20[0][0]        \n",
      "__________________________________________________________________________________________________\n",
      "activation_1 (Activation)       (None, 9, 64)        0           cu_dnnlstm_1[0][0]               \n",
      "__________________________________________________________________________________________________\n",
      "time_distributed_21 (TimeDistri (None, 9, 64)        256         activation_1[0][0]               \n",
      "__________________________________________________________________________________________________\n",
      "time_distributed_22 (TimeDistri (None, 9, 128)       8320        time_distributed_21[0][0]        \n",
      "__________________________________________________________________________________________________\n",
      "cu_dnnlstm_2 (CuDNNLSTM)        (None, 9, 468)       1119456     time_distributed_22[0][0]        \n",
      "__________________________________________________________________________________________________\n",
      "activation_2 (Activation)       (None, 9, 468)       0           cu_dnnlstm_2[0][0]               \n",
      "__________________________________________________________________________________________________\n",
      "reshape (Reshape)               (None, 9, 9, 13, 4)  0           activation_2[0][0]               \n",
      "__________________________________________________________________________________________________\n",
      "time_distributed_24 (TimeDistri (None, 9, 9, 13, 4)  16          reshape[0][0]                    \n",
      "__________________________________________________________________________________________________\n",
      "time_distributed_25 (TimeDistri (None, 9, 11, 15, 4) 148         time_distributed_24[0][0]        \n",
      "__________________________________________________________________________________________________\n",
      "time_distributed_26 (TimeDistri (None, 9, 11, 30, 4) 0           time_distributed_25[0][0]        \n",
      "__________________________________________________________________________________________________\n",
      "time_distributed_27 (TimeDistri (None, 9, 11, 30, 4) 16          time_distributed_26[0][0]        \n",
      "__________________________________________________________________________________________________\n",
      "time_distributed_28 (TimeDistri (None, 9, 13, 32, 4) 148         time_distributed_27[0][0]        \n",
      "__________________________________________________________________________________________________\n",
      "time_distributed_29 (TimeDistri (None, 9, 13, 64, 4) 0           time_distributed_28[0][0]        \n",
      "__________________________________________________________________________________________________\n",
      "time_distributed_30 (TimeDistri (None, 9, 13, 64, 4) 16          time_distributed_29[0][0]        \n",
      "__________________________________________________________________________________________________\n",
      "time_distributed_31 (TimeDistri (None, 9, 15, 66, 4) 148         time_distributed_30[0][0]        \n",
      "__________________________________________________________________________________________________\n",
      "time_distributed_32 (TimeDistri (None, 9, 15, 132, 4 0           time_distributed_31[0][0]        \n",
      "__________________________________________________________________________________________________\n",
      "time_distributed_33 (TimeDistri (None, 9, 15, 132, 4 16          time_distributed_32[0][0]        \n",
      "__________________________________________________________________________________________________\n",
      "time_distributed_34 (TimeDistri (None, 9, 17, 134, 4 148         time_distributed_33[0][0]        \n",
      "__________________________________________________________________________________________________\n",
      "time_distributed_35 (TimeDistri (None, 9, 17, 268, 4 0           time_distributed_34[0][0]        \n",
      "__________________________________________________________________________________________________\n",
      "time_distributed_36 (TimeDistri (None, 9, 17, 268, 4 16          time_distributed_35[0][0]        \n",
      "__________________________________________________________________________________________________\n",
      "time_distributed_37 (TimeDistri (None, 9, 19, 270, 8 296         time_distributed_36[0][0]        \n",
      "__________________________________________________________________________________________________\n",
      "time_distributed_38 (TimeDistri (None, 9, 19, 540, 8 0           time_distributed_37[0][0]        \n",
      "__________________________________________________________________________________________________\n",
      "time_distributed_39 (TimeDistri (None, 9, 19, 540, 8 32          time_distributed_38[0][0]        \n",
      "__________________________________________________________________________________________________\n",
      "time_distributed_40 (TimeDistri (None, 9, 21, 542, 8 584         time_distributed_39[0][0]        \n",
      "__________________________________________________________________________________________________\n",
      "time_distributed_23 (TimeDistri (None, 9, 128)       0           time_distributed_22[0][0]        \n",
      "__________________________________________________________________________________________________\n",
      "time_distributed_41 (TimeDistri (None, 9, 21, 1084,  0           time_distributed_40[0][0]        \n",
      "__________________________________________________________________________________________________\n",
      "seizure_detection (TimeDistribu (None, 9, 2)         258         time_distributed_23[0][0]        \n",
      "__________________________________________________________________________________________________\n",
      "upsample (TimeDistributed)      (None, 9, 21, 1084,  9           time_distributed_41[0][0]        \n",
      "==================================================================================================\n",
      "Total params: 1,490,527\n",
      "Trainable params: 1,489,077\n",
      "Non-trainable params: 1,450\n",
      "__________________________________________________________________________________________________\n"
     ]
    }
   ],
   "source": [
    "model.summary()"
   ]
  },
  {
   "cell_type": "code",
   "execution_count": 6,
   "metadata": {},
   "outputs": [],
   "source": [
    "cb = [tf.keras.callbacks.EarlyStopping(monitor=\"val_seizure_detection_f1\", mode=\"max\", patience=10, verbose=True), ] #tf.keras.callbacks.ModelCheckpoint(\"/home/ms994/lstm_1.h5\", monitor=\"val_seizure_detection_f1\", mode=\"max\", save_best_only=True, verbose=True)"
   ]
  },
  {
   "cell_type": "code",
   "execution_count": 7,
   "metadata": {},
   "outputs": [
    {
     "name": "stdout",
     "output_type": "stream",
     "text": [
      "Epoch 1/30\n",
      "WARNING:tensorflow:From /home/ms994/miniconda3/envs/keras-redo/lib/python3.7/site-packages/tensorflow/python/ops/math_ops.py:3066: to_int32 (from tensorflow.python.ops.math_ops) is deprecated and will be removed in a future version.\n",
      "Instructions for updating:\n",
      "Use tf.cast instead.\n"
     ]
    },
    {
     "name": "stderr",
     "output_type": "stream",
     "text": [
      "WARNING:tensorflow:From /home/ms994/miniconda3/envs/keras-redo/lib/python3.7/site-packages/tensorflow/python/ops/math_ops.py:3066: to_int32 (from tensorflow.python.ops.math_ops) is deprecated and will be removed in a future version.\n",
      "Instructions for updating:\n",
      "Use tf.cast instead.\n"
     ]
    },
    {
     "name": "stdout",
     "output_type": "stream",
     "text": [
      "100/100 [==============================] - 19s 186ms/step - loss: 0.9797 - seizure_detection_loss: 0.9797 - upsample_loss: 3.1196e-05 - seizure_detection_binary_accuracy: 0.4475 - seizure_detection_f1: 0.0502 - seizure_detection_sensitivity: 0.4500 - seizure_detection_specificity: 0.0000e+00\n",
      "200/200 [==============================] - 133s 666ms/step - loss: 4.4444 - seizure_detection_loss: 4.4161 - upsample_loss: 0.0283 - seizure_detection_binary_accuracy: 0.4947 - seizure_detection_f1: 0.4038 - seizure_detection_sensitivity: 0.3537 - seizure_detection_specificity: 0.5332 - val_loss: 0.9797 - val_seizure_detection_loss: 0.9797 - val_upsample_loss: 3.1196e-05 - val_seizure_detection_binary_accuracy: 0.4475 - val_seizure_detection_f1: 0.0502 - val_seizure_detection_sensitivity: 0.4500 - val_seizure_detection_specificity: 0.0000e+00\n",
      "Epoch 2/30\n",
      "100/100 [==============================] - 18s 179ms/step - loss: 0.7736 - seizure_detection_loss: 0.7734 - upsample_loss: 1.3507e-04 - seizure_detection_binary_accuracy: 0.4479 - seizure_detection_f1: 0.0512 - seizure_detection_sensitivity: 0.4600 - seizure_detection_specificity: 0.1200\n",
      "200/200 [==============================] - 121s 603ms/step - loss: 4.2180 - seizure_detection_loss: 4.2174 - upsample_loss: 5.8352e-04 - seizure_detection_binary_accuracy: 0.4708 - seizure_detection_f1: 0.3177 - seizure_detection_sensitivity: 0.2765 - seizure_detection_specificity: 0.6368 - val_loss: 0.7736 - val_seizure_detection_loss: 0.7734 - val_upsample_loss: 1.3507e-04 - val_seizure_detection_binary_accuracy: 0.4479 - val_seizure_detection_f1: 0.0512 - val_seizure_detection_sensitivity: 0.4600 - val_seizure_detection_specificity: 0.1200\n",
      "Epoch 3/30\n",
      "100/100 [==============================] - 18s 177ms/step - loss: 0.8992 - seizure_detection_loss: 0.8991 - upsample_loss: 9.6766e-05 - seizure_detection_binary_accuracy: 0.4990 - seizure_detection_f1: 0.0495 - seizure_detection_sensitivity: 0.3973 - seizure_detection_specificity: 0.9330\n",
      "200/200 [==============================] - 120s 601ms/step - loss: 3.1378 - seizure_detection_loss: 3.1376 - upsample_loss: 1.5804e-04 - seizure_detection_binary_accuracy: 0.4913 - seizure_detection_f1: 0.3582 - seizure_detection_sensitivity: 0.3071 - seizure_detection_specificity: 0.5790 - val_loss: 0.8992 - val_seizure_detection_loss: 0.8991 - val_upsample_loss: 9.6766e-05 - val_seizure_detection_binary_accuracy: 0.4990 - val_seizure_detection_f1: 0.0495 - val_seizure_detection_sensitivity: 0.3973 - val_seizure_detection_specificity: 0.9330\n",
      "Epoch 4/30\n",
      "100/100 [==============================] - 18s 178ms/step - loss: 0.7394 - seizure_detection_loss: 0.7393 - upsample_loss: 5.6617e-05 - seizure_detection_binary_accuracy: 0.4983 - seizure_detection_f1: 0.0255 - seizure_detection_sensitivity: 0.1788 - seizure_detection_specificity: 0.9540\n",
      "200/200 [==============================] - 120s 601ms/step - loss: 2.5789 - seizure_detection_loss: 2.5789 - upsample_loss: 6.4188e-05 - seizure_detection_binary_accuracy: 0.4913 - seizure_detection_f1: 0.3161 - seizure_detection_sensitivity: 0.2633 - seizure_detection_specificity: 0.6075 - val_loss: 0.7394 - val_seizure_detection_loss: 0.7393 - val_upsample_loss: 5.6617e-05 - val_seizure_detection_binary_accuracy: 0.4983 - val_seizure_detection_f1: 0.0255 - val_seizure_detection_sensitivity: 0.1788 - val_seizure_detection_specificity: 0.9540\n",
      "Epoch 5/30\n",
      "100/100 [==============================] - 18s 177ms/step - loss: 0.7070 - seizure_detection_loss: 0.7070 - upsample_loss: 3.7223e-05 - seizure_detection_binary_accuracy: 0.4989 - seizure_detection_f1: 0.0313 - seizure_detection_sensitivity: 0.1686 - seizure_detection_specificity: 0.9608\n",
      "200/200 [==============================] - 121s 603ms/step - loss: 2.0382 - seizure_detection_loss: 2.0381 - upsample_loss: 3.3870e-05 - seizure_detection_binary_accuracy: 0.4961 - seizure_detection_f1: 0.3521 - seizure_detection_sensitivity: 0.2913 - seizure_detection_specificity: 0.5592 - val_loss: 0.7070 - val_seizure_detection_loss: 0.7070 - val_upsample_loss: 3.7223e-05 - val_seizure_detection_binary_accuracy: 0.4989 - val_seizure_detection_f1: 0.0313 - val_seizure_detection_sensitivity: 0.1686 - val_seizure_detection_specificity: 0.9608\n",
      "Epoch 6/30\n",
      "100/100 [==============================] - 18s 179ms/step - loss: 0.7193 - seizure_detection_loss: 0.7193 - upsample_loss: 2.6571e-05 - seizure_detection_binary_accuracy: 0.4990 - seizure_detection_f1: 0.0599 - seizure_detection_sensitivity: 0.3315 - seizure_detection_specificity: 0.9799\n",
      "200/200 [==============================] - 121s 605ms/step - loss: 1.6208 - seizure_detection_loss: 1.6207 - upsample_loss: 2.1058e-05 - seizure_detection_binary_accuracy: 0.4970 - seizure_detection_f1: 0.2927 - seizure_detection_sensitivity: 0.2397 - seizure_detection_specificity: 0.6240 - val_loss: 0.7193 - val_seizure_detection_loss: 0.7193 - val_upsample_loss: 2.6571e-05 - val_seizure_detection_binary_accuracy: 0.4990 - val_seizure_detection_f1: 0.0599 - val_seizure_detection_sensitivity: 0.3315 - val_seizure_detection_specificity: 0.9799\n",
      "Epoch 7/30\n",
      "100/100 [==============================] - 18s 177ms/step - loss: 0.6212 - seizure_detection_loss: 0.6212 - upsample_loss: 1.0228e-05 - seizure_detection_binary_accuracy: 0.5001 - seizure_detection_f1: 0.0738 - seizure_detection_sensitivity: 0.1659 - seizure_detection_specificity: 0.9789\n",
      "200/200 [==============================] - 120s 602ms/step - loss: 1.4035 - seizure_detection_loss: 1.4035 - upsample_loss: 1.3985e-05 - seizure_detection_binary_accuracy: 0.4990 - seizure_detection_f1: 0.3083 - seizure_detection_sensitivity: 0.2432 - seizure_detection_specificity: 0.5787 - val_loss: 0.6212 - val_seizure_detection_loss: 0.6212 - val_upsample_loss: 1.0228e-05 - val_seizure_detection_binary_accuracy: 0.5001 - val_seizure_detection_f1: 0.0738 - val_seizure_detection_sensitivity: 0.1659 - val_seizure_detection_specificity: 0.9789\n",
      "Epoch 8/30\n",
      "100/100 [==============================] - 18s 176ms/step - loss: 0.6464 - seizure_detection_loss: 0.6464 - upsample_loss: 7.8031e-06 - seizure_detection_binary_accuracy: 0.4994 - seizure_detection_f1: 0.0814 - seizure_detection_sensitivity: 0.2176 - seizure_detection_specificity: 0.9827\n",
      "200/200 [==============================] - 120s 602ms/step - loss: 1.1969 - seizure_detection_loss: 1.1969 - upsample_loss: 9.8540e-06 - seizure_detection_binary_accuracy: 0.5029 - seizure_detection_f1: 0.3641 - seizure_detection_sensitivity: 0.2891 - seizure_detection_specificity: 0.5191 - val_loss: 0.6464 - val_seizure_detection_loss: 0.6464 - val_upsample_loss: 7.8031e-06 - val_seizure_detection_binary_accuracy: 0.4994 - val_seizure_detection_f1: 0.0814 - val_seizure_detection_sensitivity: 0.2176 - val_seizure_detection_specificity: 0.9827\n",
      "Epoch 9/30\n",
      "100/100 [==============================] - 18s 178ms/step - loss: 0.5990 - seizure_detection_loss: 0.5990 - upsample_loss: 5.1536e-06 - seizure_detection_binary_accuracy: 0.4999 - seizure_detection_f1: 0.1330 - seizure_detection_sensitivity: 0.2188 - seizure_detection_specificity: 0.9858\n",
      "200/200 [==============================] - 121s 603ms/step - loss: 1.1517 - seizure_detection_loss: 1.1517 - upsample_loss: 7.4323e-06 - seizure_detection_binary_accuracy: 0.4975 - seizure_detection_f1: 0.3392 - seizure_detection_sensitivity: 0.2724 - seizure_detection_specificity: 0.5633 - val_loss: 0.5990 - val_seizure_detection_loss: 0.5990 - val_upsample_loss: 5.1536e-06 - val_seizure_detection_binary_accuracy: 0.4999 - val_seizure_detection_f1: 0.1330 - val_seizure_detection_sensitivity: 0.2188 - val_seizure_detection_specificity: 0.9858\n",
      "Epoch 10/30\n",
      "100/100 [==============================] - 18s 179ms/step - loss: 0.6174 - seizure_detection_loss: 0.6174 - upsample_loss: 3.9350e-06 - seizure_detection_binary_accuracy: 0.5000 - seizure_detection_f1: 0.1102 - seizure_detection_sensitivity: 0.2232 - seizure_detection_specificity: 0.9831\n",
      "200/200 [==============================] - 120s 601ms/step - loss: 1.1296 - seizure_detection_loss: 1.1296 - upsample_loss: 5.6717e-06 - seizure_detection_binary_accuracy: 0.4984 - seizure_detection_f1: 0.3460 - seizure_detection_sensitivity: 0.2752 - seizure_detection_specificity: 0.5428 - val_loss: 0.6174 - val_seizure_detection_loss: 0.6174 - val_upsample_loss: 3.9350e-06 - val_seizure_detection_binary_accuracy: 0.5000 - val_seizure_detection_f1: 0.1102 - val_seizure_detection_sensitivity: 0.2232 - val_seizure_detection_specificity: 0.9831\n"
     ]
    },
    {
     "name": "stdout",
     "output_type": "stream",
     "text": [
      "Epoch 11/30\n",
      "100/100 [==============================] - 18s 177ms/step - loss: 0.5811 - seizure_detection_loss: 0.5811 - upsample_loss: 2.8055e-06 - seizure_detection_binary_accuracy: 0.5000 - seizure_detection_f1: 0.1425 - seizure_detection_sensitivity: 0.1812 - seizure_detection_specificity: 0.9845\n",
      "200/200 [==============================] - 120s 600ms/step - loss: 1.0366 - seizure_detection_loss: 1.0366 - upsample_loss: 4.3176e-06 - seizure_detection_binary_accuracy: 0.4981 - seizure_detection_f1: 0.3340 - seizure_detection_sensitivity: 0.2616 - seizure_detection_specificity: 0.5489 - val_loss: 0.5811 - val_seizure_detection_loss: 0.5811 - val_upsample_loss: 2.8055e-06 - val_seizure_detection_binary_accuracy: 0.5000 - val_seizure_detection_f1: 0.1425 - val_seizure_detection_sensitivity: 0.1812 - val_seizure_detection_specificity: 0.9845\n",
      "Epoch 12/30\n",
      "100/100 [==============================] - 18s 179ms/step - loss: 0.5693 - seizure_detection_loss: 0.5693 - upsample_loss: 2.2759e-06 - seizure_detection_binary_accuracy: 0.5000 - seizure_detection_f1: 0.1602 - seizure_detection_sensitivity: 0.1916 - seizure_detection_specificity: 0.98512s - loss: 0.5679 - seizure_detection_loss: 0.5679 - upsample_loss: 2.2805e-06 - seizure_detection_binary_accuracy: 0.5000 - seizure_detection_f1: 0.1758 - seizure_detection_sensitivity: 0.2056 - seizure_detection_spec\n",
      "200/200 [==============================] - 121s 605ms/step - loss: 0.9599 - seizure_detection_loss: 0.9599 - upsample_loss: 3.4015e-06 - seizure_detection_binary_accuracy: 0.5004 - seizure_detection_f1: 0.3069 - seizure_detection_sensitivity: 0.2385 - seizure_detection_specificity: 0.5853 - val_loss: 0.5693 - val_seizure_detection_loss: 0.5693 - val_upsample_loss: 2.2759e-06 - val_seizure_detection_binary_accuracy: 0.5000 - val_seizure_detection_f1: 0.1602 - val_seizure_detection_sensitivity: 0.1916 - val_seizure_detection_specificity: 0.9851\n",
      "Epoch 13/30\n",
      "100/100 [==============================] - 18s 180ms/step - loss: 0.5634 - seizure_detection_loss: 0.5634 - upsample_loss: 1.6996e-06 - seizure_detection_binary_accuracy: 0.5000 - seizure_detection_f1: 0.1391 - seizure_detection_sensitivity: 0.1611 - seizure_detection_specificity: 0.9812\n",
      "200/200 [==============================] - 121s 605ms/step - loss: 0.9342 - seizure_detection_loss: 0.9342 - upsample_loss: 2.7183e-06 - seizure_detection_binary_accuracy: 0.5002 - seizure_detection_f1: 0.2942 - seizure_detection_sensitivity: 0.2265 - seizure_detection_specificity: 0.5899 - val_loss: 0.5634 - val_seizure_detection_loss: 0.5634 - val_upsample_loss: 1.6996e-06 - val_seizure_detection_binary_accuracy: 0.5000 - val_seizure_detection_f1: 0.1391 - val_seizure_detection_sensitivity: 0.1611 - val_seizure_detection_specificity: 0.9812\n",
      "Epoch 14/30\n",
      "100/100 [==============================] - 18s 177ms/step - loss: 0.5381 - seizure_detection_loss: 0.5381 - upsample_loss: 1.3868e-06 - seizure_detection_binary_accuracy: 0.5000 - seizure_detection_f1: 0.1062 - seizure_detection_sensitivity: 0.0856 - seizure_detection_specificity: 0.9772\n",
      "200/200 [==============================] - 120s 601ms/step - loss: 0.8663 - seizure_detection_loss: 0.8663 - upsample_loss: 2.1672e-06 - seizure_detection_binary_accuracy: 0.5003 - seizure_detection_f1: 0.2948 - seizure_detection_sensitivity: 0.2222 - seizure_detection_specificity: 0.5785 - val_loss: 0.5381 - val_seizure_detection_loss: 0.5381 - val_upsample_loss: 1.3868e-06 - val_seizure_detection_binary_accuracy: 0.5000 - val_seizure_detection_f1: 0.1062 - val_seizure_detection_sensitivity: 0.0856 - val_seizure_detection_specificity: 0.9772\n",
      "Epoch 15/30\n",
      "100/100 [==============================] - 18s 181ms/step - loss: 0.5544 - seizure_detection_loss: 0.5544 - upsample_loss: 1.2018e-06 - seizure_detection_binary_accuracy: 0.5000 - seizure_detection_f1: 0.1336 - seizure_detection_sensitivity: 0.1632 - seizure_detection_specificity: 0.9822\n",
      "200/200 [==============================] - 120s 602ms/step - loss: 0.8589 - seizure_detection_loss: 0.8589 - upsample_loss: 1.8440e-06 - seizure_detection_binary_accuracy: 0.5002 - seizure_detection_f1: 0.2787 - seizure_detection_sensitivity: 0.2059 - seizure_detection_specificity: 0.5867 - val_loss: 0.5544 - val_seizure_detection_loss: 0.5544 - val_upsample_loss: 1.2018e-06 - val_seizure_detection_binary_accuracy: 0.5000 - val_seizure_detection_f1: 0.1336 - val_seizure_detection_sensitivity: 0.1632 - val_seizure_detection_specificity: 0.9822\n",
      "Epoch 16/30\n",
      "100/100 [==============================] - 18s 176ms/step - loss: 0.5532 - seizure_detection_loss: 0.5532 - upsample_loss: 9.5514e-07 - seizure_detection_binary_accuracy: 0.5000 - seizure_detection_f1: 0.1334 - seizure_detection_sensitivity: 0.1481 - seizure_detection_specificity: 0.9812\n",
      "200/200 [==============================] - 120s 600ms/step - loss: 0.8171 - seizure_detection_loss: 0.8171 - upsample_loss: 1.4288e-06 - seizure_detection_binary_accuracy: 0.5009 - seizure_detection_f1: 0.2873 - seizure_detection_sensitivity: 0.2142 - seizure_detection_specificity: 0.5819 - val_loss: 0.5532 - val_seizure_detection_loss: 0.5532 - val_upsample_loss: 9.5514e-07 - val_seizure_detection_binary_accuracy: 0.5000 - val_seizure_detection_f1: 0.1334 - val_seizure_detection_sensitivity: 0.1481 - val_seizure_detection_specificity: 0.9812\n",
      "Epoch 17/30\n",
      "100/100 [==============================] - 18s 177ms/step - loss: 0.5275 - seizure_detection_loss: 0.5275 - upsample_loss: 6.0967e-07 - seizure_detection_binary_accuracy: 0.5000 - seizure_detection_f1: 0.1590 - seizure_detection_sensitivity: 0.1713 - seizure_detection_specificity: 0.9821\n",
      "200/200 [==============================] - 120s 600ms/step - loss: 0.8204 - seizure_detection_loss: 0.8204 - upsample_loss: 1.2260e-06 - seizure_detection_binary_accuracy: 0.5007 - seizure_detection_f1: 0.2826 - seizure_detection_sensitivity: 0.2110 - seizure_detection_specificity: 0.5893 - val_loss: 0.5275 - val_seizure_detection_loss: 0.5275 - val_upsample_loss: 6.0967e-07 - val_seizure_detection_binary_accuracy: 0.5000 - val_seizure_detection_f1: 0.1590 - val_seizure_detection_sensitivity: 0.1713 - val_seizure_detection_specificity: 0.9821\n",
      "Epoch 18/30\n",
      "100/100 [==============================] - 18s 180ms/step - loss: 0.5563 - seizure_detection_loss: 0.5563 - upsample_loss: 5.3041e-07 - seizure_detection_binary_accuracy: 0.5000 - seizure_detection_f1: 0.0956 - seizure_detection_sensitivity: 0.1151 - seizure_detection_specificity: 0.9795\n",
      "200/200 [==============================] - 120s 600ms/step - loss: 0.8045 - seizure_detection_loss: 0.8045 - upsample_loss: 1.0111e-06 - seizure_detection_binary_accuracy: 0.5004 - seizure_detection_f1: 0.2839 - seizure_detection_sensitivity: 0.2066 - seizure_detection_specificity: 0.5682 - val_loss: 0.5563 - val_seizure_detection_loss: 0.5563 - val_upsample_loss: 5.3041e-07 - val_seizure_detection_binary_accuracy: 0.5000 - val_seizure_detection_f1: 0.0956 - val_seizure_detection_sensitivity: 0.1151 - val_seizure_detection_specificity: 0.9795\n",
      "Epoch 19/30\n",
      "100/100 [==============================] - 18s 177ms/step - loss: 0.5305 - seizure_detection_loss: 0.5305 - upsample_loss: 6.2374e-07 - seizure_detection_binary_accuracy: 0.5000 - seizure_detection_f1: 0.1557 - seizure_detection_sensitivity: 0.1520 - seizure_detection_specificity: 0.9832\n",
      "200/200 [==============================] - 120s 602ms/step - loss: 0.7820 - seizure_detection_loss: 0.7820 - upsample_loss: 8.7953e-07 - seizure_detection_binary_accuracy: 0.5005 - seizure_detection_f1: 0.2988 - seizure_detection_sensitivity: 0.2174 - seizure_detection_specificity: 0.5440 - val_loss: 0.5305 - val_seizure_detection_loss: 0.5305 - val_upsample_loss: 6.2374e-07 - val_seizure_detection_binary_accuracy: 0.5000 - val_seizure_detection_f1: 0.1557 - val_seizure_detection_sensitivity: 0.1520 - val_seizure_detection_specificity: 0.9832\n",
      "Epoch 20/30\n",
      "100/100 [==============================] - 18s 179ms/step - loss: 0.5476 - seizure_detection_loss: 0.5476 - upsample_loss: 4.2056e-07 - seizure_detection_binary_accuracy: 0.5000 - seizure_detection_f1: 0.1205 - seizure_detection_sensitivity: 0.1242 - seizure_detection_specificity: 0.9818\n",
      "200/200 [==============================] - 120s 602ms/step - loss: 0.7869 - seizure_detection_loss: 0.7869 - upsample_loss: 7.1437e-07 - seizure_detection_binary_accuracy: 0.5001 - seizure_detection_f1: 0.2680 - seizure_detection_sensitivity: 0.1944 - seizure_detection_specificity: 0.5861 - val_loss: 0.5476 - val_seizure_detection_loss: 0.5476 - val_upsample_loss: 4.2056e-07 - val_seizure_detection_binary_accuracy: 0.5000 - val_seizure_detection_f1: 0.1205 - val_seizure_detection_sensitivity: 0.1242 - val_seizure_detection_specificity: 0.9818\n"
     ]
    },
    {
     "name": "stdout",
     "output_type": "stream",
     "text": [
      "Epoch 21/30\n",
      "100/100 [==============================] - 18s 179ms/step - loss: 0.5452 - seizure_detection_loss: 0.5452 - upsample_loss: 2.9888e-07 - seizure_detection_binary_accuracy: 0.5000 - seizure_detection_f1: 0.1052 - seizure_detection_sensitivity: 0.1018 - seizure_detection_specificity: 0.9776\n",
      "200/200 [==============================] - 121s 603ms/step - loss: 0.7689 - seizure_detection_loss: 0.7689 - upsample_loss: 6.0673e-07 - seizure_detection_binary_accuracy: 0.5007 - seizure_detection_f1: 0.2223 - seizure_detection_sensitivity: 0.1594 - seizure_detection_specificity: 0.6490 - val_loss: 0.5452 - val_seizure_detection_loss: 0.5452 - val_upsample_loss: 2.9888e-07 - val_seizure_detection_binary_accuracy: 0.5000 - val_seizure_detection_f1: 0.1052 - val_seizure_detection_sensitivity: 0.1018 - val_seizure_detection_specificity: 0.9776\n",
      "Epoch 22/30\n",
      "100/100 [==============================] - 18s 179ms/step - loss: 0.5381 - seizure_detection_loss: 0.5381 - upsample_loss: 2.3666e-07 - seizure_detection_binary_accuracy: 0.5000 - seizure_detection_f1: 0.0877 - seizure_detection_sensitivity: 0.0795 - seizure_detection_specificity: 0.9773\n",
      "200/200 [==============================] - 120s 602ms/step - loss: 0.7667 - seizure_detection_loss: 0.7667 - upsample_loss: 5.2962e-07 - seizure_detection_binary_accuracy: 0.5002 - seizure_detection_f1: 0.2258 - seizure_detection_sensitivity: 0.1593 - seizure_detection_specificity: 0.6246 - val_loss: 0.5381 - val_seizure_detection_loss: 0.5381 - val_upsample_loss: 2.3666e-07 - val_seizure_detection_binary_accuracy: 0.5000 - val_seizure_detection_f1: 0.0877 - val_seizure_detection_sensitivity: 0.0795 - val_seizure_detection_specificity: 0.9773\n",
      "Epoch 00022: early stopping\n"
     ]
    }
   ],
   "source": [
    "history = model.fit(train, steps_per_epoch=200, validation_data=valid,  validation_steps=100, epochs=30, callbacks=cb)"
   ]
  },
  {
   "cell_type": "code",
   "execution_count": 66,
   "metadata": {},
   "outputs": [
    {
     "data": {
      "text/plain": [
       "((None, 9, 3744), (None, 9, 9, 13, 32))"
      ]
     },
     "execution_count": 66,
     "metadata": {},
     "output_type": "execute_result"
    }
   ],
   "source": [
    "decoder_lstm_out_shape, decoder_reshape_shape"
   ]
  },
  {
   "cell_type": "code",
   "execution_count": 59,
   "metadata": {},
   "outputs": [
    {
     "name": "stdout",
     "output_type": "stream",
     "text": [
      "_________________________________________________________________\n",
      "Layer (type)                 Output Shape              Param #   \n",
      "=================================================================\n",
      "input_25 (InputLayer)        (None, 9, 21, 1000, 1)    0         \n",
      "_________________________________________________________________\n",
      "time_distributed_400 (TimeDi (None, 9, 21, 1000, 1)    4         \n",
      "_________________________________________________________________\n",
      "time_distributed_401 (TimeDi (None, 9, 19, 998, 1)     10        \n",
      "_________________________________________________________________\n",
      "time_distributed_402 (TimeDi (None, 9, 19, 499, 1)     0         \n",
      "_________________________________________________________________\n",
      "time_distributed_403 (TimeDi (None, 9, 19, 499, 1)     4         \n",
      "_________________________________________________________________\n",
      "time_distributed_404 (TimeDi (None, 9, 17, 497, 2)     20        \n",
      "_________________________________________________________________\n",
      "time_distributed_405 (TimeDi (None, 9, 17, 248, 2)     0         \n",
      "_________________________________________________________________\n",
      "time_distributed_406 (TimeDi (None, 9, 17, 248, 2)     8         \n",
      "_________________________________________________________________\n",
      "time_distributed_407 (TimeDi (None, 9, 15, 246, 4)     76        \n",
      "_________________________________________________________________\n",
      "time_distributed_408 (TimeDi (None, 9, 15, 123, 4)     0         \n",
      "_________________________________________________________________\n",
      "time_distributed_409 (TimeDi (None, 9, 15, 123, 4)     16        \n",
      "_________________________________________________________________\n",
      "time_distributed_410 (TimeDi (None, 9, 13, 121, 8)     296       \n",
      "_________________________________________________________________\n",
      "time_distributed_411 (TimeDi (None, 9, 13, 60, 8)      0         \n",
      "_________________________________________________________________\n",
      "time_distributed_412 (TimeDi (None, 9, 13, 60, 8)      32        \n",
      "_________________________________________________________________\n",
      "time_distributed_413 (TimeDi (None, 9, 11, 58, 16)     1168      \n",
      "_________________________________________________________________\n",
      "time_distributed_414 (TimeDi (None, 9, 11, 29, 16)     0         \n",
      "_________________________________________________________________\n",
      "time_distributed_415 (TimeDi (None, 9, 11, 29, 16)     64        \n",
      "_________________________________________________________________\n",
      "time_distributed_416 (TimeDi (None, 9, 9, 27, 32)      4640      \n",
      "_________________________________________________________________\n",
      "time_distributed_417 (TimeDi (None, 9, 9, 13, 32)      0         \n",
      "_________________________________________________________________\n",
      "time_distributed_418 (TimeDi (None, 9, 3744)           0         \n",
      "_________________________________________________________________\n",
      "cu_dnnlstm_16 (CuDNNLSTM)    (None, 9, 256)            4098048   \n",
      "_________________________________________________________________\n",
      "activation_11 (Activation)   (None, 9, 256)            0         \n",
      "_________________________________________________________________\n",
      "cu_dnnlstm_17 (CuDNNLSTM)    (None, 9, 128)            197632    \n",
      "_________________________________________________________________\n",
      "activation_12 (Activation)   (None, 9, 128)            0         \n",
      "_________________________________________________________________\n",
      "time_distributed_419 (TimeDi (None, 9, 128)            512       \n",
      "_________________________________________________________________\n",
      "time_distributed_420 (TimeDi (None, 9, 128)            16512     \n",
      "_________________________________________________________________\n",
      "time_distributed_421 (TimeDi (None, 9, 128)            0         \n",
      "_________________________________________________________________\n",
      "time_distributed_422 (TimeDi (None, 9, 2)              258       \n",
      "=================================================================\n",
      "Total params: 4,319,300\n",
      "Trainable params: 4,318,980\n",
      "Non-trainable params: 320\n",
      "_________________________________________________________________\n"
     ]
    }
   ],
   "source": [
    "model.summary()"
   ]
  },
  {
   "cell_type": "code",
   "execution_count": 56,
   "metadata": {},
   "outputs": [
    {
     "name": "stdout",
     "output_type": "stream",
     "text": [
      "100/100 [==============================] - 23s 226ms/step - loss: 2.7102 - binary_accuracy: 0.6417\n"
     ]
    },
    {
     "data": {
      "text/plain": [
       "<tensorflow.python.keras.callbacks.History at 0x7f850780c240>"
      ]
     },
     "execution_count": 56,
     "metadata": {},
     "output_type": "execute_result"
    }
   ],
   "source": [
    "model.fit(train, steps_per_epoch=100)"
   ]
  }
 ],
 "metadata": {
  "kernelspec": {
   "display_name": "Python 3",
   "language": "python",
   "name": "python3"
  },
  "language_info": {
   "codemirror_mode": {
    "name": "ipython",
    "version": 3
   },
   "file_extension": ".py",
   "mimetype": "text/x-python",
   "name": "python",
   "nbconvert_exporter": "python",
   "pygments_lexer": "ipython3",
   "version": "3.7.3"
  },
  "toc": {
   "base_numbering": 1,
   "nav_menu": {},
   "number_sections": true,
   "sideBar": true,
   "skip_h1_title": false,
   "title_cell": "Table of Contents",
   "title_sidebar": "Contents",
   "toc_cell": false,
   "toc_position": {},
   "toc_section_display": true,
   "toc_window_display": false
  }
 },
 "nbformat": 4,
 "nbformat_minor": 2
}

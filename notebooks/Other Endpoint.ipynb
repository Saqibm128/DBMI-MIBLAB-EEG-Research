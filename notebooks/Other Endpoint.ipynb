{
 "cells": [
  {
   "cell_type": "code",
   "execution_count": 6,
   "metadata": {},
   "outputs": [
    {
     "data": {
      "text/plain": [
       "<module 'clinical_text_analysis' from '/home/ms994/secondDbmi/clinical_text_analysis.py'>"
      ]
     },
     "execution_count": 6,
     "metadata": {},
     "output_type": "execute_result"
    }
   ],
   "source": [
    "import sys, os\n",
    "sys.path.append(os.path.realpath(\"..\"))\n",
    "\n",
    "import util_funcs\n",
    "from importlib import reload\n",
    "import data_reader as read\n",
    "import pandas as pd\n",
    "import numpy as np\n",
    "import pickle as pkl\n",
    "import matplotlib.pyplot as plt\n",
    "import constants\n",
    "import clinical_text_analysis as cta\n",
    "reload(cta)"
   ]
  },
  {
   "cell_type": "code",
   "execution_count": 2,
   "metadata": {},
   "outputs": [],
   "source": [
    "import ensembleReader as er"
   ]
  },
  {
   "cell_type": "code",
   "execution_count": 92,
   "metadata": {},
   "outputs": [],
   "source": [
    "reload(er)\n",
    "dataReader = er.EdfDatasetEnsembler(\"dev_test\", \"01_tcp_ar\",)"
   ]
  },
  {
   "cell_type": "code",
   "execution_count": 93,
   "metadata": {},
   "outputs": [],
   "source": [
    "reload(read)\n",
    "slr = read.SeizureLabelReader(sampleInfo=dataReader.sampleInfo)"
   ]
  },
  {
   "cell_type": "code",
   "execution_count": 88,
   "metadata": {},
   "outputs": [],
   "source": [
    "seizInfo = slr[0]"
   ]
  },
  {
   "cell_type": "code",
   "execution_count": 94,
   "metadata": {},
   "outputs": [
    {
     "name": "stdout",
     "output_type": "stream",
     "text": [
      "Starting 4 processes\n",
      "retrieving: 0\n",
      "retrieving: 100\n",
      "retrieving: 200\n",
      "retrieving: 300\n",
      "retrieving: 400\n",
      "retrieving: 500\n",
      "retrieving: 600\n",
      "retrieving: 700\n",
      "retrieving: 800\n",
      "retrieving: 900\n",
      "retrieving: 1000\n",
      "retrieving: 1100\n",
      "retrieving: 1200\n",
      "retrieving: 1300\n",
      "retrieving: 1400\n",
      "retrieving: 1500\n",
      "retrieving: 1600\n",
      "retrieving: 1700\n",
      "retrieving: 1800\n",
      "retrieving: 1900\n",
      "retrieving: 2000\n",
      "retrieving: 2100\n",
      "retrieving: 2200\n",
      "retrieving: 2300\n",
      "retrieving: 2400\n",
      "retrieving: 2500\n",
      "retrieving: 2600\n",
      "retrieving: 2700\n",
      "retrieving: 2800\n",
      "retrieving: 2900\n",
      "retrieving: 3000\n",
      "retrieving: 3100\n",
      "retrieving: 3200\n",
      "retrieving: 3300\n",
      "retrieving: 3400\n",
      "retrieving: 3500\n",
      "retrieving: 3600\n",
      "retrieving: 3700\n",
      "retrieving: 3800\n",
      "retrieving: 3900\n",
      "retrieving: 4000\n",
      "retrieving: 4100\n",
      "retrieving: 4200\n",
      "retrieving: 4300\n",
      "retrieving: 4400\n",
      "retrieving: 4500\n",
      "retrieving: 4600\n",
      "retrieving: 4700\n",
      "retrieving: 4800\n",
      "retrieving: 4900\n",
      "retrieving: 5000\n",
      "retrieving: 5100\n",
      "retrieving: 5200\n",
      "retrieving: 5300\n",
      "retrieving: 5400\n",
      "retrieving: 5500\n",
      "retrieving: 5600\n",
      "retrieving: 5700\n",
      "retrieving: 5800\n",
      "retrieving: 5900\n",
      "retrieving: 6000\n",
      "retrieving: 6100\n",
      "retrieving: 6200\n",
      "retrieving: 6300\n",
      "retrieving: 6400\n",
      "retrieving: 6500\n",
      "retrieving: 6600\n",
      "retrieving: 6700\n",
      "retrieving: 6800\n",
      "retrieving: 6900\n",
      "retrieving: 7000\n",
      "retrieving: 7100\n",
      "retrieving: 7200\n",
      "retrieving: 7300\n",
      "retrieving: 7400\n",
      "retrieving: 7500\n",
      "retrieving: 7600\n",
      "retrieving: 7700\n",
      "retrieving: 7800\n",
      "retrieving: 7900\n",
      "retrieving: 8000\n",
      "retrieving: 8100\n",
      "retrieving: 8200\n",
      "retrieving: 8300\n",
      "retrieving: 8400\n",
      "retrieving: 8500\n",
      "retrieving: 8600\n",
      "retrieving: 8700\n",
      "retrieving: 8800\n",
      "retrieving: 8900\n",
      "retrieving: 9000\n",
      "retrieving: 9100\n",
      "retrieving: 9200\n",
      "retrieving: 9300\n",
      "retrieving: 9400\n",
      "retrieving: 9500\n",
      "retrieving: 9600\n",
      "retrieving: 9700\n",
      "retrieving: 9800\n",
      "retrieving: 9900\n",
      "retrieving: 10000\n",
      "retrieving: 10100\n",
      "retrieving: 10200\n",
      "retrieving: 10300\n",
      "retrieving: 10400\n",
      "retrieving: 10500\n",
      "retrieving: 10600\n",
      "retrieving: 10700\n",
      "retrieving: 10800\n",
      "retrieving: 10900\n",
      "retrieving: 11000\n",
      "retrieving: 11100\n",
      "retrieving: 11200\n",
      "retrieving: 11300\n",
      "retrieving: 11400\n",
      "retrieving: 11500\n",
      "retrieving: 11600\n",
      "retrieving: 11700\n",
      "retrieving: 11800\n",
      "retrieving: 11900\n",
      "retrieving: 12000\n",
      "retrieving: 12100\n",
      "retrieving: 12200\n",
      "retrieving: 12300\n",
      "retrieving: 12400\n",
      "retrieving: 12500\n",
      "retrieving: 12600\n",
      "retrieving: 12700\n",
      "retrieving: 12800\n",
      "retrieving: 12900\n",
      "retrieving: 13000\n",
      "retrieving: 13100\n",
      "retrieving: 13200\n",
      "retrieving: 13300\n",
      "retrieving: 13400\n",
      "retrieving: 13500\n",
      "retrieving: 13600\n",
      "retrieving: 13700\n",
      "retrieving: 13800\n",
      "retrieving: 13900\n",
      "retrieving: 14000\n",
      "retrieving: 14100\n",
      "retrieving: 14200\n",
      "retrieving: 14300\n",
      "retrieving: 14400\n",
      "retrieving: 14500\n",
      "retrieving: 14600\n",
      "retrieving: 14700\n",
      "retrieving: 14800\n",
      "retrieving: 14900\n",
      "retrieving: 15000\n",
      "retrieving: 15100\n",
      "retrieving: 15200\n",
      "retrieving: 15300\n",
      "retrieving: 15400\n",
      "retrieving: 15500\n",
      "retrieving: 15600\n",
      "retrieving: 15700\n",
      "retrieving: 15800\n",
      "retrieving: 15900\n",
      "retrieving: 16000\n",
      "retrieving: 16100\n",
      "retrieving: 16200\n",
      "retrieving: 16300\n",
      "retrieving: 16400\n",
      "retrieving: 16500\n",
      "retrieving: 16600\n",
      "retrieving: 16700\n",
      "retrieving: 16800\n",
      "retrieving: 16900\n",
      "retrieving: 17000\n",
      "retrieving: 17100\n",
      "retrieving: 17200\n",
      "retrieving: 17300\n",
      "retrieving: 17400\n",
      "retrieving: 17500\n",
      "retrieving: 17600\n"
     ]
    }
   ],
   "source": [
    "total = slr[:]"
   ]
  },
  {
   "cell_type": "code",
   "execution_count": 96,
   "metadata": {},
   "outputs": [
    {
     "data": {
      "text/plain": [
       "0.0686496267812712"
      ]
     },
     "execution_count": 96,
     "metadata": {},
     "output_type": "execute_result"
    }
   ],
   "source": [
    "sum(total)/len(total)"
   ]
  },
  {
   "cell_type": "code",
   "execution_count": null,
   "metadata": {},
   "outputs": [],
   "source": []
  },
  {
   "cell_type": "code",
   "execution_count": null,
   "metadata": {},
   "outputs": [],
   "source": [
    "total.sum"
   ]
  },
  {
   "cell_type": "code",
   "execution_count": 25,
   "metadata": {},
   "outputs": [
    {
     "data": {
      "text/plain": [
       "{'token_file_path': '/home/ms994/v1.5.0/edf/dev_test/01_tcp_ar/069/00006986/s001_2010_09_30/00006986_s001_t001.edf',\n",
       " 'sample_num': 267,\n",
       " 'within_token_num': 0,\n",
       " 'sample_width': Timedelta('0 days 00:00:04')}"
      ]
     },
     "execution_count": 25,
     "metadata": {},
     "output_type": "execute_result"
    }
   ],
   "source": [
    "dataReader.sampleInfo[0]"
   ]
  },
  {
   "cell_type": "code",
   "execution_count": 27,
   "metadata": {},
   "outputs": [],
   "source": [
    "res = dataReader.sampleInfo[0].sample_width * dataReader.sampleInfo[0].sample_num"
   ]
  },
  {
   "cell_type": "code",
   "execution_count": 34,
   "metadata": {},
   "outputs": [],
   "source": [
    "start = pd.Timedelta(res).seconds"
   ]
  },
  {
   "cell_type": "code",
   "execution_count": 35,
   "metadata": {},
   "outputs": [],
   "source": [
    "end = pd.Timedelta(res + dataReader.sampleInfo[0].sample_width).seconds"
   ]
  },
  {
   "cell_type": "code",
   "execution_count": 63,
   "metadata": {},
   "outputs": [
    {
     "data": {
      "text/plain": [
       "(1068, 1072)"
      ]
     },
     "execution_count": 63,
     "metadata": {},
     "output_type": "execute_result"
    }
   ],
   "source": [
    "start, end"
   ]
  },
  {
   "cell_type": "code",
   "execution_count": 45,
   "metadata": {},
   "outputs": [
    {
     "data": {
      "text/html": [
       "<div>\n",
       "<style scoped>\n",
       "    .dataframe tbody tr th:only-of-type {\n",
       "        vertical-align: middle;\n",
       "    }\n",
       "\n",
       "    .dataframe tbody tr th {\n",
       "        vertical-align: top;\n",
       "    }\n",
       "\n",
       "    .dataframe thead th {\n",
       "        text-align: right;\n",
       "    }\n",
       "</style>\n",
       "<table border=\"1\" class=\"dataframe\">\n",
       "  <thead>\n",
       "    <tr style=\"text-align: right;\">\n",
       "      <th></th>\n",
       "      <th>start</th>\n",
       "      <th>end</th>\n",
       "      <th>label</th>\n",
       "      <th>p</th>\n",
       "    </tr>\n",
       "  </thead>\n",
       "  <tbody>\n",
       "    <tr>\n",
       "      <th>0</th>\n",
       "      <td>0</td>\n",
       "      <td>1</td>\n",
       "      <td>bckg</td>\n",
       "      <td>1</td>\n",
       "    </tr>\n",
       "    <tr>\n",
       "      <th>1</th>\n",
       "      <td>1</td>\n",
       "      <td>62.28</td>\n",
       "      <td>cpsz</td>\n",
       "      <td>1</td>\n",
       "    </tr>\n",
       "    <tr>\n",
       "      <th>2</th>\n",
       "      <td>62.28</td>\n",
       "      <td>1196</td>\n",
       "      <td>bckg</td>\n",
       "      <td>1</td>\n",
       "    </tr>\n",
       "  </tbody>\n",
       "</table>\n",
       "</div>"
      ],
      "text/plain": [
       "   start    end label  p\n",
       "0      0      1  bckg  1\n",
       "1      1  62.28  cpsz  1\n",
       "2  62.28   1196  bckg  1"
      ]
     },
     "execution_count": 45,
     "metadata": {},
     "output_type": "execute_result"
    }
   ],
   "source": [
    "seizInfo"
   ]
  },
  {
   "cell_type": "code",
   "execution_count": 66,
   "metadata": {},
   "outputs": [
    {
     "data": {
      "text/plain": [
       "0    False\n",
       "1    False\n",
       "2    False\n",
       "Name: start, dtype: bool"
      ]
     },
     "execution_count": 66,
     "metadata": {},
     "output_type": "execute_result"
    }
   ],
   "source": [
    "seizInfo.start > start"
   ]
  },
  {
   "cell_type": "code",
   "execution_count": 72,
   "metadata": {},
   "outputs": [],
   "source": [
    "seizSlice = seizInfo.loc[(seizInfo.end > start) & ((seizInfo.end <= end)).shift(1)]"
   ]
  },
  {
   "cell_type": "code",
   "execution_count": 76,
   "metadata": {},
   "outputs": [
    {
     "data": {
      "text/plain": [
       "False"
      ]
     },
     "execution_count": 76,
     "metadata": {},
     "output_type": "execute_result"
    }
   ],
   "source": [
    "(seizSlice.label != \"bckg\").any()"
   ]
  },
  {
   "cell_type": "code",
   "execution_count": 17,
   "metadata": {
    "scrolled": true
   },
   "outputs": [
    {
     "data": {
      "text/plain": [
       "array([[ -8.20419609,   1.67389091,  -5.08097727, ...,  -6.46100384,\n",
       "         -1.15879583,  -7.11470127],\n",
       "       [ -9.88747804,   6.41976591,  -8.43739631, ...,  -4.98027789,\n",
       "          0.53376398,  -2.58960629],\n",
       "       [ -8.29999841,   6.97976468, -11.63903722, ...,  -0.54031085,\n",
       "         -0.85139844,  -5.96522476],\n",
       "       ...,\n",
       "       [ 15.19887989,  -0.93114334,  10.4655374 , ...,   9.99249828,\n",
       "         29.96026345, -10.51160814],\n",
       "       [ 16.99928043,   2.44134432,  10.78463447, ...,  10.63653747,\n",
       "         31.29970288,  -9.44407936],\n",
       "       [ 18.0702209 ,   5.99205425,  18.85250359, ...,  12.6842008 ,\n",
       "         34.04422281,  -1.23419783]])"
      ]
     },
     "execution_count": 17,
     "metadata": {},
     "output_type": "execute_result"
    }
   ],
   "source": [
    "dataReader[len(dataReader) - 1]"
   ]
  },
  {
   "cell_type": "code",
   "execution_count": 26,
   "metadata": {},
   "outputs": [],
   "source": [
    "genderFiles = cta.demux_to_tokens(cta.getGenderAndFileNames(\"dev_test\", \"01_tcp_ar\", convert_gender_to_num=True))"
   ]
  },
  {
   "cell_type": "code",
   "execution_count": 4,
   "metadata": {},
   "outputs": [],
   "source": [
    "samplingInfo = pkl.load(open(\"../test_standardized_edf_ensemble_sample_info.pkl\",\"rb\"))"
   ]
  },
  {
   "cell_type": "code",
   "execution_count": 5,
   "metadata": {},
   "outputs": [],
   "source": [
    "reload(er)\n",
    "ale = er.AdditionalLabelEndpoints(\"combined\", \"01_tcp_ar\", sampleInfo=samplingInfo)"
   ]
  },
  {
   "cell_type": "code",
   "execution_count": 6,
   "metadata": {},
   "outputs": [
    {
     "ename": "KeyError",
     "evalue": "'/home/ms994/v1.5.0/edf/combined/01_tcp_ar/000/00007475/s003_2013_03_22/00007475_s003_t000.edf'",
     "output_type": "error",
     "traceback": [
      "\u001b[0;31m---------------------------------------------------------------------------\u001b[0m",
      "\u001b[0;31mKeyError\u001b[0m                                  Traceback (most recent call last)",
      "\u001b[0;32m<ipython-input-6-b021dba460f2>\u001b[0m in \u001b[0;36m<module>\u001b[0;34m\u001b[0m\n\u001b[0;32m----> 1\u001b[0;31m \u001b[0mgends\u001b[0m \u001b[0;34m=\u001b[0m \u001b[0male\u001b[0m\u001b[0;34m.\u001b[0m\u001b[0mget_genders\u001b[0m\u001b[0;34m(\u001b[0m\u001b[0;34m)\u001b[0m\u001b[0;34m\u001b[0m\u001b[0;34m\u001b[0m\u001b[0m\n\u001b[0m",
      "\u001b[0;32m~/dbmi_eeg_clustering/ensembleReader.py\u001b[0m in \u001b[0;36mget_genders\u001b[0;34m(self)\u001b[0m\n\u001b[1;32m    207\u001b[0m         \u001b[0;32mfor\u001b[0m \u001b[0mi\u001b[0m \u001b[0;32min\u001b[0m \u001b[0mrange\u001b[0m\u001b[0;34m(\u001b[0m\u001b[0mlen\u001b[0m\u001b[0;34m(\u001b[0m\u001b[0mself\u001b[0m\u001b[0;34m.\u001b[0m\u001b[0msampleInfo\u001b[0m\u001b[0;34m)\u001b[0m\u001b[0;34m)\u001b[0m\u001b[0;34m:\u001b[0m\u001b[0;34m\u001b[0m\u001b[0;34m\u001b[0m\u001b[0m\n\u001b[1;32m    208\u001b[0m             \u001b[0mtokenFile\u001b[0m \u001b[0;34m=\u001b[0m \u001b[0mself\u001b[0m\u001b[0;34m.\u001b[0m\u001b[0msampleInfo\u001b[0m\u001b[0;34m[\u001b[0m\u001b[0mi\u001b[0m\u001b[0;34m]\u001b[0m\u001b[0;34m.\u001b[0m\u001b[0mtoken_file_path\u001b[0m\u001b[0;34m\u001b[0m\u001b[0;34m\u001b[0m\u001b[0m\n\u001b[0;32m--> 209\u001b[0;31m             \u001b[0mgenders\u001b[0m\u001b[0;34m.\u001b[0m\u001b[0mappend\u001b[0m\u001b[0;34m(\u001b[0m\u001b[0mgenderDict\u001b[0m\u001b[0;34m[\u001b[0m\u001b[0mtokenFile\u001b[0m\u001b[0;34m]\u001b[0m\u001b[0;34m)\u001b[0m\u001b[0;34m\u001b[0m\u001b[0;34m\u001b[0m\u001b[0m\n\u001b[0m\u001b[1;32m    210\u001b[0m             \u001b[0mself\u001b[0m\u001b[0;34m.\u001b[0m\u001b[0msampleInfo\u001b[0m\u001b[0;34m[\u001b[0m\u001b[0mi\u001b[0m\u001b[0;34m]\u001b[0m\u001b[0;34m.\u001b[0m\u001b[0mlabel\u001b[0m \u001b[0;34m=\u001b[0m \u001b[0mgenderDict\u001b[0m\u001b[0;34m[\u001b[0m\u001b[0mtokenFile\u001b[0m\u001b[0;34m]\u001b[0m\u001b[0;34m\u001b[0m\u001b[0;34m\u001b[0m\u001b[0m\n\u001b[1;32m    211\u001b[0m         \u001b[0;32mreturn\u001b[0m \u001b[0mgenders\u001b[0m\u001b[0;34m\u001b[0m\u001b[0;34m\u001b[0m\u001b[0m\n",
      "\u001b[0;31mKeyError\u001b[0m: '/home/ms994/v1.5.0/edf/combined/01_tcp_ar/000/00007475/s003_2013_03_22/00007475_s003_t000.edf'"
     ]
    }
   ],
   "source": [
    "gends = ale.get_genders()"
   ]
  },
  {
   "cell_type": "code",
   "execution_count": null,
   "metadata": {},
   "outputs": [],
   "source": [
    "agesDictItems = cta.demux_to_tokens(cta.getAgesAndFileNames(self.split, self.ref))\n",
    "agesDict = {}\n",
    "for index in range(len(agesDictItems)):\n",
    "    key = agesDictItems[0][index]\n",
    "    val = agesDictItems[1][index]\n",
    "    agesDict[key] = val"
   ]
  },
  {
   "cell_type": "code",
   "execution_count": 3,
   "metadata": {},
   "outputs": [
    {
     "name": "stderr",
     "output_type": "stream",
     "text": [
      "Using TensorFlow backend.\n"
     ]
    }
   ],
   "source": [
    "import keras\n",
    "import pickle as pkl"
   ]
  },
  {
   "cell_type": "code",
   "execution_count": 4,
   "metadata": {},
   "outputs": [],
   "source": [
    "testData = pkl.load(open(\"../standardized_combined_simple_ensemble_test_data.pkl\", 'rb'))\n",
    "def generate_x_y(data):\n",
    "    x_data = np.stack([datum[0] for datum in data])\n",
    "    x_data = x_data.reshape((*x_data.shape, 1))\n",
    "    x_data.transpose(0, 2, 1, 3)\n",
    "    y_data = np.array([datum[1] for datum in data])\n",
    "    y_data = keras.utils.to_categorical(y_data)\n",
    "    return x_data, y_data\n",
    "testDataX, testDataY = generate_x_y(testData)\n",
    "del testData"
   ]
  },
  {
   "cell_type": "code",
   "execution_count": 5,
   "metadata": {},
   "outputs": [
    {
     "name": "stdout",
     "output_type": "stream",
     "text": [
      "WARNING:tensorflow:From /home/ms994/miniconda3/envs/keras-redo/lib/python3.7/site-packages/tensorflow/python/framework/op_def_library.py:263: colocate_with (from tensorflow.python.framework.ops) is deprecated and will be removed in a future version.\n",
      "Instructions for updating:\n",
      "Colocations handled automatically by placer.\n",
      "WARNING:tensorflow:From /home/ms994/miniconda3/envs/keras-redo/lib/python3.7/site-packages/keras/backend/tensorflow_backend.py:3445: calling dropout (from tensorflow.python.ops.nn_ops) with keep_prob is deprecated and will be removed in a future version.\n",
      "Instructions for updating:\n",
      "Please use `rate` instead of `keep_prob`. Rate should be set to `rate = 1 - keep_prob`.\n",
      "WARNING:tensorflow:From /home/ms994/miniconda3/envs/keras-redo/lib/python3.7/site-packages/tensorflow/python/ops/math_ops.py:3066: to_int32 (from tensorflow.python.ops.math_ops) is deprecated and will be removed in a future version.\n",
      "Instructions for updating:\n",
      "Use tf.cast instead.\n"
     ]
    }
   ],
   "source": [
    "model = keras.models.load_model(\"../ZIERFTVVDCSJGPLD.h5\")"
   ]
  },
  {
   "cell_type": "code",
   "execution_count": 6,
   "metadata": {},
   "outputs": [],
   "source": [
    "from keras.utils import multi_gpu_model"
   ]
  },
  {
   "cell_type": "code",
   "execution_count": 7,
   "metadata": {},
   "outputs": [],
   "source": [
    "model = multi_gpu_model(model, 2)"
   ]
  },
  {
   "cell_type": "code",
   "execution_count": null,
   "metadata": {},
   "outputs": [],
   "source": [
    "y_pred = model.predict(testDataX.transpose(0, 2, 1, 3))"
   ]
  },
  {
   "cell_type": "code",
   "execution_count": 11,
   "metadata": {},
   "outputs": [],
   "source": [
    "from sklearn.metrics import roc_auc_score"
   ]
  },
  {
   "cell_type": "code",
   "execution_count": 12,
   "metadata": {},
   "outputs": [
    {
     "data": {
      "text/plain": [
       "0.5630877449014666"
      ]
     },
     "execution_count": 12,
     "metadata": {},
     "output_type": "execute_result"
    }
   ],
   "source": [
    "roc_auc_score(testDataY.argmax(axis=1), y_pred.argmax(axis=1))"
   ]
  },
  {
   "cell_type": "code",
   "execution_count": 29,
   "metadata": {},
   "outputs": [],
   "source": [
    "log_pred = np.log(y_pred + 1)"
   ]
  },
  {
   "cell_type": "code",
   "execution_count": 14,
   "metadata": {},
   "outputs": [],
   "source": [
    "samplingInfo = pkl.load(open(\"../test_standardized_edf_ensemble_sample_info.pkl\",\"rb\"))"
   ]
  },
  {
   "cell_type": "code",
   "execution_count": 15,
   "metadata": {},
   "outputs": [
    {
     "data": {
      "text/plain": [
       "<module 'data_reader' from '/home/ms994/dbmi_eeg_clustering/data_reader.py'>"
      ]
     },
     "execution_count": 15,
     "metadata": {},
     "output_type": "execute_result"
    }
   ],
   "source": [
    "reload(read)"
   ]
  },
  {
   "cell_type": "code",
   "execution_count": 16,
   "metadata": {},
   "outputs": [],
   "source": [
    "edf_tokens = list(set([samplingInfo[key][\"token_file_path\"] for key in samplingInfo.keys()]))"
   ]
  },
  {
   "cell_type": "code",
   "execution_count": 17,
   "metadata": {},
   "outputs": [],
   "source": [
    "import ensembleReader as er\n",
    "ensembler = er.EdfDatasetEnsembler(\"combined\", \"01_tcp_ar\", generate_sample_info=False, edf_tokens=edf_tokens)"
   ]
  },
  {
   "cell_type": "code",
   "execution_count": null,
   "metadata": {},
   "outputs": [],
   "source": [
    "len(edf_tokens)"
   ]
  },
  {
   "cell_type": "code",
   "execution_count": 18,
   "metadata": {},
   "outputs": [],
   "source": [
    "ensembler.sampleInfo = samplingInfo\n",
    "ensembler.labels = testDataY.argmax(axis=1)\n",
    "ensembler.edf_tokens = edf_tokens"
   ]
  },
  {
   "cell_type": "code",
   "execution_count": null,
   "metadata": {},
   "outputs": [],
   "source": [
    "from addict import Dict"
   ]
  },
  {
   "cell_type": "code",
   "execution_count": 32,
   "metadata": {},
   "outputs": [],
   "source": [
    "trueLabel, pred = ensembler.getEnsemblePrediction(log_pred, mode=er.EdfDatasetEnsembler.ENSEMBLE_PREDICTION_EQUAL_VOTE)"
   ]
  },
  {
   "cell_type": "code",
   "execution_count": 38,
   "metadata": {},
   "outputs": [
    {
     "data": {
      "text/plain": [
       "array([0.2667956 , 0.73320466], dtype=float32)"
      ]
     },
     "execution_count": 38,
     "metadata": {},
     "output_type": "execute_result"
    }
   ],
   "source": [
    "y_pred.sum(0) / y_pred.sum()"
   ]
  },
  {
   "cell_type": "code",
   "execution_count": 37,
   "metadata": {},
   "outputs": [
    {
     "data": {
      "text/plain": [
       "array([0.38224864, 0.61775136], dtype=float32)"
      ]
     },
     "execution_count": 37,
     "metadata": {},
     "output_type": "execute_result"
    }
   ],
   "source": [
    "testDataY.sum(0) / (testDataY.sum())"
   ]
  },
  {
   "cell_type": "code",
   "execution_count": 33,
   "metadata": {},
   "outputs": [
    {
     "data": {
      "text/plain": [
       "0.5993215389900377"
      ]
     },
     "execution_count": 33,
     "metadata": {},
     "output_type": "execute_result"
    }
   ],
   "source": [
    "roc_auc_score(trueLabel, pred)"
   ]
  },
  {
   "cell_type": "code",
   "execution_count": 45,
   "metadata": {},
   "outputs": [],
   "source": [
    "reload(er)\n",
    "ale = er.AdditionalLabelEndpoints(\"combined\", \"01_tcp_ar\", ensembler=ensembler)"
   ]
  },
  {
   "cell_type": "code",
   "execution_count": 46,
   "metadata": {},
   "outputs": [
    {
     "ename": "KeyError",
     "evalue": "'/home/ms994/v1.5.0/edf/combined/01_tcp_ar/000/00007475/s003_2013_03_22/00007475_s003_t000.edf'",
     "output_type": "error",
     "traceback": [
      "\u001b[0;31m---------------------------------------------------------------------------\u001b[0m",
      "\u001b[0;31mKeyError\u001b[0m                                  Traceback (most recent call last)",
      "\u001b[0;32m<ipython-input-46-e5c2f0fd8c9d>\u001b[0m in \u001b[0;36m<module>\u001b[0;34m\u001b[0m\n\u001b[0;32m----> 1\u001b[0;31m \u001b[0male\u001b[0m\u001b[0;34m.\u001b[0m\u001b[0mget_ages\u001b[0m\u001b[0;34m(\u001b[0m\u001b[0;34m)\u001b[0m\u001b[0;34m\u001b[0m\u001b[0;34m\u001b[0m\u001b[0m\n\u001b[0m",
      "\u001b[0;32m~/dbmi_eeg_clustering/ensembleReader.py\u001b[0m in \u001b[0;36mget_ages\u001b[0;34m(self)\u001b[0m\n\u001b[1;32m    220\u001b[0m         \u001b[0;32mfor\u001b[0m \u001b[0mi\u001b[0m \u001b[0;32min\u001b[0m \u001b[0mrange\u001b[0m\u001b[0;34m(\u001b[0m\u001b[0mlen\u001b[0m\u001b[0;34m(\u001b[0m\u001b[0mself\u001b[0m\u001b[0;34m.\u001b[0m\u001b[0msampleInfo\u001b[0m\u001b[0;34m)\u001b[0m\u001b[0;34m)\u001b[0m\u001b[0;34m:\u001b[0m\u001b[0;34m\u001b[0m\u001b[0;34m\u001b[0m\u001b[0m\n\u001b[1;32m    221\u001b[0m             \u001b[0mtokenFile\u001b[0m \u001b[0;34m=\u001b[0m \u001b[0mself\u001b[0m\u001b[0;34m.\u001b[0m\u001b[0msampleInfo\u001b[0m\u001b[0;34m[\u001b[0m\u001b[0mi\u001b[0m\u001b[0;34m]\u001b[0m\u001b[0;34m.\u001b[0m\u001b[0mtoken_file_path\u001b[0m\u001b[0;34m\u001b[0m\u001b[0;34m\u001b[0m\u001b[0m\n\u001b[0;32m--> 222\u001b[0;31m             \u001b[0mages\u001b[0m\u001b[0;34m.\u001b[0m\u001b[0mappend\u001b[0m\u001b[0;34m(\u001b[0m\u001b[0magesDict\u001b[0m\u001b[0;34m[\u001b[0m\u001b[0mtokenFile\u001b[0m\u001b[0;34m]\u001b[0m\u001b[0;34m)\u001b[0m\u001b[0;34m\u001b[0m\u001b[0;34m\u001b[0m\u001b[0m\n\u001b[0m\u001b[1;32m    223\u001b[0m             \u001b[0mself\u001b[0m\u001b[0;34m.\u001b[0m\u001b[0msampleInfo\u001b[0m\u001b[0;34m[\u001b[0m\u001b[0mi\u001b[0m\u001b[0;34m]\u001b[0m\u001b[0;34m.\u001b[0m\u001b[0mlabel\u001b[0m \u001b[0;34m=\u001b[0m \u001b[0magesDict\u001b[0m\u001b[0;34m[\u001b[0m\u001b[0mtokenFile\u001b[0m\u001b[0;34m]\u001b[0m\u001b[0;34m\u001b[0m\u001b[0;34m\u001b[0m\u001b[0m\n\u001b[1;32m    224\u001b[0m         \u001b[0;32mreturn\u001b[0m \u001b[0mages\u001b[0m\u001b[0;34m\u001b[0m\u001b[0;34m\u001b[0m\u001b[0m\n",
      "\u001b[0;31mKeyError\u001b[0m: '/home/ms994/v1.5.0/edf/combined/01_tcp_ar/000/00007475/s003_2013_03_22/00007475_s003_t000.edf'"
     ]
    }
   ],
   "source": [
    "ale.get_ages()"
   ]
  }
 ],
 "metadata": {
  "kernelspec": {
   "display_name": "Python 3",
   "language": "python",
   "name": "python3"
  },
  "language_info": {
   "codemirror_mode": {
    "name": "ipython",
    "version": 3
   },
   "file_extension": ".py",
   "mimetype": "text/x-python",
   "name": "python",
   "nbconvert_exporter": "python",
   "pygments_lexer": "ipython3",
   "version": "3.7.3"
  }
 },
 "nbformat": 4,
 "nbformat_minor": 2
}

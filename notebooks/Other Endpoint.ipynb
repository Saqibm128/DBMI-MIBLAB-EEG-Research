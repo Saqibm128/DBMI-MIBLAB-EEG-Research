{
 "cells": [
  {
   "cell_type": "code",
   "execution_count": 10,
   "metadata": {},
   "outputs": [],
   "source": [
    "import sys, os\n",
    "sys.path.append(os.path.realpath(\"..\"))\n",
    "\n",
    "import util_funcs\n",
    "from importlib import reload\n",
    "import data_reader as read\n",
    "import pandas as pd\n",
    "import numpy as np\n",
    "import pickle as pkl\n",
    "import matplotlib.pyplot as plt\n",
    "import constants\n",
    "import clinical_text_analysis as cta"
   ]
  },
  {
   "cell_type": "code",
   "execution_count": 7,
   "metadata": {},
   "outputs": [],
   "source": [
    "import ensembleReader as er"
   ]
  },
  {
   "cell_type": "code",
   "execution_count": 11,
   "metadata": {},
   "outputs": [],
   "source": [
    "reload(er)\n",
    "dataReader = er.EdfDatasetEnsembler(\"dev_test\", \"01_tcp_ar\",)"
   ]
  },
  {
   "cell_type": "code",
   "execution_count": 13,
   "metadata": {},
   "outputs": [
    {
     "data": {
      "text/plain": [
       "(500, 21)"
      ]
     },
     "execution_count": 13,
     "metadata": {},
     "output_type": "execute_result"
    }
   ],
   "source": [
    "dataReader[0].shape"
   ]
  },
  {
   "cell_type": "code",
   "execution_count": 14,
   "metadata": {},
   "outputs": [
    {
     "data": {
      "text/plain": [
       "17684"
      ]
     },
     "execution_count": 14,
     "metadata": {},
     "output_type": "execute_result"
    }
   ],
   "source": [
    "len(dataReader)"
   ]
  },
  {
   "cell_type": "code",
   "execution_count": 17,
   "metadata": {},
   "outputs": [
    {
     "data": {
      "text/plain": [
       "array([[ -8.20419609,   1.67389091,  -5.08097727, ...,  -6.46100384,\n",
       "         -1.15879583,  -7.11470127],\n",
       "       [ -9.88747804,   6.41976591,  -8.43739631, ...,  -4.98027789,\n",
       "          0.53376398,  -2.58960629],\n",
       "       [ -8.29999841,   6.97976468, -11.63903722, ...,  -0.54031085,\n",
       "         -0.85139844,  -5.96522476],\n",
       "       ...,\n",
       "       [ 15.19887989,  -0.93114334,  10.4655374 , ...,   9.99249828,\n",
       "         29.96026345, -10.51160814],\n",
       "       [ 16.99928043,   2.44134432,  10.78463447, ...,  10.63653747,\n",
       "         31.29970288,  -9.44407936],\n",
       "       [ 18.0702209 ,   5.99205425,  18.85250359, ...,  12.6842008 ,\n",
       "         34.04422281,  -1.23419783]])"
      ]
     },
     "execution_count": 17,
     "metadata": {},
     "output_type": "execute_result"
    }
   ],
   "source": [
    "dataReader[len(dataReader) - 1]"
   ]
  }
 ],
 "metadata": {
  "kernelspec": {
   "display_name": "Python 3",
   "language": "python",
   "name": "python3"
  },
  "language_info": {
   "codemirror_mode": {
    "name": "ipython",
    "version": 3
   },
   "file_extension": ".py",
   "mimetype": "text/x-python",
   "name": "python",
   "nbconvert_exporter": "python",
   "pygments_lexer": "ipython3",
   "version": "3.7.3"
  }
 },
 "nbformat": 4,
 "nbformat_minor": 2
}

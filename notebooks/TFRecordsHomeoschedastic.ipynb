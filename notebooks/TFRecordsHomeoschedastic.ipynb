{
 "cells": [
  {
   "cell_type": "markdown",
   "metadata": {},
   "source": [
    "# Setup"
   ]
  },
  {
   "cell_type": "code",
   "execution_count": 1,
   "metadata": {},
   "outputs": [
    {
     "name": "stderr",
     "output_type": "stream",
     "text": [
      "Using TensorFlow backend.\n"
     ]
    }
   ],
   "source": [
    "import sys, os\n",
    "sys.path.append(os.path.realpath(\"..\"))\n",
    "import sys, os\n",
    "sys.path.append(os.path.realpath(\"..\"))\n",
    "os.environ[\"TF_XLA_FLAGS\"]=\"--tf_xla_cpu_global_jit\"\n",
    "from sacred.observers import MongoObserver\n",
    "import pickle as pkl\n",
    "from addict import Dict\n",
    "from sklearn.pipeline import Pipeline\n",
    "import clinical_text_analysis as cta\n",
    "import pandas as pd\n",
    "import numpy as np\n",
    "import random\n",
    "from os import path\n",
    "import tensorflow as tf\n",
    "tf.compat.v1.disable_eager_execution()\n",
    "# tf.enable_eager_execution()\n",
    "import data_reader as read\n",
    "import util_funcs\n",
    "import string\n",
    "\n",
    "from addict import Dict\n",
    "import sacred\n",
    "import preprocessingV2.preprocessingV2 as ppv2\n",
    "from keras_models.metrics import f1, sensitivity, specificity, auc\n",
    "from sklearn.metrics import f1_score, roc_auc_score, classification_report\n"
   ]
  },
  {
   "cell_type": "code",
   "execution_count": 2,
   "metadata": {},
   "outputs": [],
   "source": [
    "def read_tfrecord(example):\n",
    "    features = { \\\n",
    "               'data':  tf.io.FixedLenFeature([21*1000], tf.float32,),\\\n",
    "               'label':  tf.io.FixedLenFeature([1], tf.int64,),\\\n",
    "               'subtypeLabel':  tf.io.FixedLenFeature([1], tf.int64,),\\\n",
    "               'session':  tf.io.FixedLenFeature([1], tf.int64,), \\\n",
    "               'montage':  tf.io.FixedLenFeature([22], tf.int64,)}\n",
    "\n",
    "    # decode the TFRecord\n",
    "    example = tf.io.parse_single_example(example, features)\n",
    "#     return example\n",
    "\n",
    "    data = tf.reshape(example['data'], [1000,21,1])\n",
    "    # data = (example['data'])\n",
    "\n",
    "    class_label = tf.cast(example['label'], tf.int32)\n",
    "\n",
    "    # del example\n",
    "    return data, tf.one_hot(class_label[0], 2)"
   ]
  },
  {
   "cell_type": "code",
   "execution_count": 18,
   "metadata": {},
   "outputs": [],
   "source": [
    "\n",
    "def get_batched_dataset(filenames, batch_size, max_queue_size=10,  n_process=4, is_train=False):\n",
    "    option_no_order = tf.data.Options()\n",
    "    option_no_order.experimental_deterministic = False\n",
    "\n",
    "    dataset = tf.data.Dataset.list_files(filenames)\n",
    "    dataset = dataset.with_options(option_no_order)\n",
    "    dataset = dataset.interleave(tf.data.TFRecordDataset, cycle_length=16, num_parallel_calls=n_process)\n",
    "#     \n",
    "    dataset = dataset.map(read_tfrecord, num_parallel_calls=n_process)\n",
    "    \n",
    "#     dataset = dataset.cache() # IF this dataset fits in RAM\n",
    "    dataset = dataset.repeat()\n",
    "#     if is_train:\n",
    "#         resampler = tf.data.experimental.rejection_resample(lambda x, y: y, target_dist=[1, 1])\n",
    "#         dataset = dataset.apply(resampler)\n",
    "    if is_train:\n",
    "        dataset = dataset.shuffle(256)\n",
    "    dataset = dataset.batch(batch_size, drop_remainder=True)\n",
    "    if is_train:\n",
    "        dataset = dataset.prefetch(max_queue_size)\n",
    "    else:\n",
    "        dataset = dataset.prefetch(int(max_queue_size/4)) #store a lot less for the other sets to avoid wasting memory\n",
    "\n",
    "    return dataset\n",
    "\n",
    "def get_positive_train_dataset(filenames,  max_queue_size=5, n_process=4, is_train=True):\n",
    "    option_no_order = tf.data.Options()\n",
    "    option_no_order.experimental_deterministic = False\n",
    "\n",
    "    dataset = tf.data.Dataset.list_files(filenames)\n",
    "    dataset = dataset.with_options(option_no_order)\n",
    "    dataset = dataset.interleave(tf.data.TFRecordDataset, cycle_length=16, num_parallel_calls=n_process)\n",
    "#     \n",
    "    dataset = dataset.map(read_tfrecord, num_parallel_calls=n_process)\n",
    "    \n",
    "    dataset = dataset.filter(lambda x, y: tf.equal(tf.argmax(tf.cast(y, tf.int32), 0), 1))\n",
    "\n",
    "    \n",
    "#     dataset = dataset.cache() # IF this dataset fits in RAM\n",
    "    dataset = dataset.repeat()\n",
    "#     if is_train:\n",
    "#         resampler = tf.data.experimental.rejection_resample(lambda x, y: y, target_dist=[1, 1])\n",
    "#         dataset = dataset.apply(resampler)\n",
    "    if is_train:\n",
    "        dataset = dataset.shuffle(256)\n",
    "#     dataset = dataset.batch(batch_size, drop_remainder=True)\n",
    "    if is_train:\n",
    "        dataset = dataset.prefetch(max_queue_size)\n",
    "    else:\n",
    "        dataset = dataset.prefetch(int(max_queue_size/4)) #store a lot less for the other sets to avoid wasting memory\n",
    "\n",
    "    return dataset\n",
    "\n",
    "def get_negative_train_dataset(filenames, max_queue_size=10, n_process=4, is_train=True):\n",
    "    option_no_order = tf.data.Options()\n",
    "    option_no_order.experimental_deterministic = False\n",
    "\n",
    "    dataset = tf.data.Dataset.list_files(filenames)\n",
    "    dataset = dataset.with_options(option_no_order)\n",
    "    dataset = dataset.interleave(tf.data.TFRecordDataset, cycle_length=16, num_parallel_calls=n_process)\n",
    "#     \n",
    "    dataset = dataset.map(read_tfrecord, num_parallel_calls=n_process)\n",
    "   \n",
    "    \n",
    "    dataset = dataset.filter(lambda x, y: tf.equal(tf.argmax(tf.cast(y, tf.int32), 0), 0))\n",
    "\n",
    "    \n",
    "#     dataset = dataset.cache() # IF this dataset fits in RAM\n",
    "    dataset = dataset.repeat()\n",
    "#     if is_train:\n",
    "#         resampler = tf.data.experimental.rejection_resample(lambda x, y: y, target_dist=[1, 1])\n",
    "#         dataset = dataset.apply(resampler)\n",
    "    if is_train:\n",
    "        dataset = dataset.shuffle(256)\n",
    "#     dataset = dataset.batch(batch_size, drop_remainder=True)\n",
    "    if is_train:\n",
    "        dataset = dataset.prefetch(max_queue_size)\n",
    "    else:\n",
    "        dataset = dataset.prefetch(int(max_queue_size/4)) #store a lot less for the other sets to avoid wasting memory\n",
    "    return dataset\n",
    "\n",
    "def get_balanced_dataset(filenames, batch_size, max_queue_size=10, n_process=4, is_train=True):\n",
    "    pos_ds = get_positive_train_dataset(filenames)\n",
    "    neg_ds = get_negative_train_dataset(filenames)   \n",
    "    dataset = tf.data.experimental.sample_from_datasets([neg_ds, pos_ds], [0.5, 0.5])\n",
    "    if is_train:\n",
    "        dataset = dataset.shuffle(256)\n",
    "    dataset = dataset.batch(batch_size, drop_remainder=True)\n",
    "    return dataset.prefetch(max_queue_size)"
   ]
  },
  {
   "cell_type": "code",
   "execution_count": 20,
   "metadata": {},
   "outputs": [],
   "source": [
    "batch_size=64\n",
    "# train_data = get_balanced_dataset([\"/n/scratch2/ms994/train_4s.tfr\"], batch_size, is_train=True)\n",
    "train_unbalanced = get_batched_dataset([\"/n/scratch2/ms994/train_4s.tfr\"], batch_size, is_train=True)\n",
    "valid_data = get_batched_dataset([\"/n/scratch2/ms994/valid_4s.tfr\"], batch_size, is_train=False)\n",
    "test_data = get_batched_dataset([\"/n/scratch2/ms994/test_4s.tfr\"], batch_size, is_train=False)"
   ]
  },
  {
   "cell_type": "code",
   "execution_count": 4,
   "metadata": {},
   "outputs": [
    {
     "ename": "TypeError",
     "evalue": "'Iterator' object is not iterable",
     "output_type": "error",
     "traceback": [
      "\u001b[0;31m---------------------------------------------------------------------------\u001b[0m",
      "\u001b[0;31mTypeError\u001b[0m                                 Traceback (most recent call last)",
      "\u001b[0;32m<ipython-input-4-41b9171743da>\u001b[0m in \u001b[0;36m<module>\u001b[0;34m\u001b[0m\n\u001b[1;32m      2\u001b[0m \u001b[0mcaught\u001b[0m \u001b[0;34m=\u001b[0m \u001b[0;34m[\u001b[0m\u001b[0;34m]\u001b[0m\u001b[0;34m\u001b[0m\u001b[0;34m\u001b[0m\u001b[0m\n\u001b[1;32m      3\u001b[0m \u001b[0mtaken\u001b[0m \u001b[0;34m=\u001b[0m \u001b[0mtaken\u001b[0m\u001b[0;34m.\u001b[0m\u001b[0mmake_one_shot_iterator\u001b[0m\u001b[0;34m(\u001b[0m\u001b[0;34m)\u001b[0m\u001b[0;34m\u001b[0m\u001b[0;34m\u001b[0m\u001b[0m\n\u001b[0;32m----> 4\u001b[0;31m \u001b[0;32mfor\u001b[0m \u001b[0mval\u001b[0m \u001b[0;32min\u001b[0m \u001b[0mtaken\u001b[0m\u001b[0;34m:\u001b[0m\u001b[0;34m\u001b[0m\u001b[0;34m\u001b[0m\u001b[0m\n\u001b[0m\u001b[1;32m      5\u001b[0m     \u001b[0mcaught\u001b[0m\u001b[0;34m.\u001b[0m\u001b[0mappend\u001b[0m\u001b[0;34m(\u001b[0m\u001b[0mval\u001b[0m\u001b[0;34m[\u001b[0m\u001b[0;36m1\u001b[0m\u001b[0;34m]\u001b[0m\u001b[0;34m)\u001b[0m\u001b[0;34m\u001b[0m\u001b[0;34m\u001b[0m\u001b[0m\n",
      "\u001b[0;31mTypeError\u001b[0m: 'Iterator' object is not iterable"
     ]
    }
   ],
   "source": [
    "taken = train_data.take(10)\n",
    "caught = []\n",
    "taken = taken.make_one_shot_iterator()\n",
    "for val in taken:\n",
    "    caught.append(val[1])"
   ]
  },
  {
   "cell_type": "code",
   "execution_count": null,
   "metadata": {},
   "outputs": [],
   "source": [
    "caught[0][0]"
   ]
  },
  {
   "cell_type": "code",
   "execution_count": null,
   "metadata": {},
   "outputs": [],
   "source": [
    "taken = valid_data.take(10)\n",
    "valid_caught = []\n",
    "taken = taken.make_one_shot_iterator()\n",
    "for val in taken:\n",
    "    valid_caught.append(val)"
   ]
  },
  {
   "cell_type": "code",
   "execution_count": null,
   "metadata": {},
   "outputs": [],
   "source": [
    "caught[0][1]"
   ]
  },
  {
   "cell_type": "code",
   "execution_count": 21,
   "metadata": {},
   "outputs": [],
   "source": [
    "def auc(y_true, y_pred):\n",
    "    auc = tf.metrics.auc(y_true, y_pred)[1]\n",
    "    tf.keras.backend.get_session().run(tf.local_variables_initializer())\n",
    "    return auc\n",
    "\n",
    "# model.compile(loss=\"binary_crossentropy\", optimizer='adam', metrics=[auc])"
   ]
  },
  {
   "cell_type": "code",
   "execution_count": 2,
   "metadata": {},
   "outputs": [
    {
     "name": "stdout",
     "output_type": "stream",
     "text": [
      "WARNING:tensorflow:From <ipython-input-2-3f0519baf75a>:2: tf_record_iterator (from tensorflow.python.lib.io.tf_record) is deprecated and will be removed in a future version.\n",
      "Instructions for updating:\n",
      "Use eager execution and: \n",
      "`tf.data.TFRecordDataset(path)`\n"
     ]
    },
    {
     "name": "stderr",
     "output_type": "stream",
     "text": [
      "WARNING:tensorflow:From <ipython-input-2-3f0519baf75a>:2: tf_record_iterator (from tensorflow.python.lib.io.tf_record) is deprecated and will be removed in a future version.\n",
      "Instructions for updating:\n",
      "Use eager execution and: \n",
      "`tf.data.TFRecordDataset(path)`\n"
     ]
    }
   ],
   "source": [
    "num_train = 0\n",
    "for record in tf.python_io.tf_record_iterator(\"/n/scratch2/ms994/train_4s.tfr\"):\n",
    "     num_train += 1\n",
    "num_valid = 0\n",
    "for record in tf.python_io.tf_record_iterator(\"/n/scratch2/ms994/valid_4s.tfr\"):\n",
    "     num_valid += 1\n",
    "num_test = 0\n",
    "for record in tf.python_io.tf_record_iterator(\"/n/scratch2/ms994/test_4s.tfr\"):\n",
    "     num_test += 1"
   ]
  },
  {
   "cell_type": "code",
   "execution_count": 3,
   "metadata": {},
   "outputs": [
    {
     "data": {
      "text/plain": [
       "(203894, 81251, 129670)"
      ]
     },
     "execution_count": 3,
     "metadata": {},
     "output_type": "execute_result"
    }
   ],
   "source": [
    "num_train, num_valid, num_test"
   ]
  },
  {
   "cell_type": "code",
   "execution_count": 13,
   "metadata": {},
   "outputs": [],
   "source": [
    "num_cnn_layers = 4\n",
    "num_lstm_layers = 2\n",
    "num_lin_layers= 4\n",
    "inputLayer = tf.keras.layers.Input((1000,21, 1))\n",
    "x = inputLayer\n",
    "for i in range(num_cnn_layers):\n",
    "    x = tf.keras.layers.TimeDistributed(tf.keras.layers.BatchNormalization())(x)\n",
    "    x = tf.keras.layers.Conv2D(4, (3,3))(x)\n",
    "    x = tf.keras.layers.LeakyReLU()(x)\n",
    "    x = tf.keras.layers.MaxPool2D((2,1))(x)\n",
    "x = tf.keras.layers.Reshape((int(x.shape[1]), int(x.shape[2]) * int(x.shape[3])))(x)\n",
    "for j in range(num_lstm_layers):\n",
    "    x = tf.keras.layers.TimeDistributed(tf.keras.layers.BatchNormalization())(x)\n",
    "    x = tf.keras.layers.CuDNNLSTM(32, return_sequences=True)(x)\n",
    "x = tf.keras.layers.Flatten()(x)\n",
    "for k in range(num_lin_layers):\n",
    "    x = tf.keras.layers.BatchNormalization()(x)\n",
    "    x = tf.keras.layers.Dense(100)(x)\n",
    "    x = tf.keras.layers.LeakyReLU()(x)\n",
    "    x = tf.keras.layers.Dropout(0.5)(x)\n",
    "x = tf.keras.layers.Dense(2, name=\"seizure\", activation=\"softmax\")(x)\n",
    "model = tf.keras.Model(inputs=inputLayer, outputs=x)"
   ]
  },
  {
   "cell_type": "code",
   "execution_count": 14,
   "metadata": {},
   "outputs": [
    {
     "name": "stdout",
     "output_type": "stream",
     "text": [
      "_________________________________________________________________\n",
      "Layer (type)                 Output Shape              Param #   \n",
      "=================================================================\n",
      "input_2 (InputLayer)         (None, 1000, 21, 1)       0         \n",
      "_________________________________________________________________\n",
      "time_distributed_6 (TimeDist (None, 1000, 21, 1)       4         \n",
      "_________________________________________________________________\n",
      "conv2d_4 (Conv2D)            (None, 998, 19, 4)        40        \n",
      "_________________________________________________________________\n",
      "leaky_re_lu_8 (LeakyReLU)    (None, 998, 19, 4)        0         \n",
      "_________________________________________________________________\n",
      "max_pooling2d_4 (MaxPooling2 (None, 499, 19, 4)        0         \n",
      "_________________________________________________________________\n",
      "time_distributed_7 (TimeDist (None, 499, 19, 4)        16        \n",
      "_________________________________________________________________\n",
      "conv2d_5 (Conv2D)            (None, 497, 17, 4)        148       \n",
      "_________________________________________________________________\n",
      "leaky_re_lu_9 (LeakyReLU)    (None, 497, 17, 4)        0         \n",
      "_________________________________________________________________\n",
      "max_pooling2d_5 (MaxPooling2 (None, 248, 17, 4)        0         \n",
      "_________________________________________________________________\n",
      "time_distributed_8 (TimeDist (None, 248, 17, 4)        16        \n",
      "_________________________________________________________________\n",
      "conv2d_6 (Conv2D)            (None, 246, 15, 4)        148       \n",
      "_________________________________________________________________\n",
      "leaky_re_lu_10 (LeakyReLU)   (None, 246, 15, 4)        0         \n",
      "_________________________________________________________________\n",
      "max_pooling2d_6 (MaxPooling2 (None, 123, 15, 4)        0         \n",
      "_________________________________________________________________\n",
      "time_distributed_9 (TimeDist (None, 123, 15, 4)        16        \n",
      "_________________________________________________________________\n",
      "conv2d_7 (Conv2D)            (None, 121, 13, 4)        148       \n",
      "_________________________________________________________________\n",
      "leaky_re_lu_11 (LeakyReLU)   (None, 121, 13, 4)        0         \n",
      "_________________________________________________________________\n",
      "max_pooling2d_7 (MaxPooling2 (None, 60, 13, 4)         0         \n",
      "_________________________________________________________________\n",
      "reshape_1 (Reshape)          (None, 60, 52)            0         \n",
      "_________________________________________________________________\n",
      "time_distributed_10 (TimeDis (None, 60, 52)            208       \n",
      "_________________________________________________________________\n",
      "cu_dnnlstm_2 (CuDNNLSTM)     (None, 60, 32)            11008     \n",
      "_________________________________________________________________\n",
      "time_distributed_11 (TimeDis (None, 60, 32)            128       \n",
      "_________________________________________________________________\n",
      "cu_dnnlstm_3 (CuDNNLSTM)     (None, 60, 32)            8448      \n",
      "_________________________________________________________________\n",
      "flatten_1 (Flatten)          (None, 1920)              0         \n",
      "_________________________________________________________________\n",
      "batch_normalization_v1_16 (B (None, 1920)              7680      \n",
      "_________________________________________________________________\n",
      "dense_4 (Dense)              (None, 100)               192100    \n",
      "_________________________________________________________________\n",
      "leaky_re_lu_12 (LeakyReLU)   (None, 100)               0         \n",
      "_________________________________________________________________\n",
      "dropout_4 (Dropout)          (None, 100)               0         \n",
      "_________________________________________________________________\n",
      "batch_normalization_v1_17 (B (None, 100)               400       \n",
      "_________________________________________________________________\n",
      "dense_5 (Dense)              (None, 100)               10100     \n",
      "_________________________________________________________________\n",
      "leaky_re_lu_13 (LeakyReLU)   (None, 100)               0         \n",
      "_________________________________________________________________\n",
      "dropout_5 (Dropout)          (None, 100)               0         \n",
      "_________________________________________________________________\n",
      "batch_normalization_v1_18 (B (None, 100)               400       \n",
      "_________________________________________________________________\n",
      "dense_6 (Dense)              (None, 100)               10100     \n",
      "_________________________________________________________________\n",
      "leaky_re_lu_14 (LeakyReLU)   (None, 100)               0         \n",
      "_________________________________________________________________\n",
      "dropout_6 (Dropout)          (None, 100)               0         \n",
      "_________________________________________________________________\n",
      "batch_normalization_v1_19 (B (None, 100)               400       \n",
      "_________________________________________________________________\n",
      "dense_7 (Dense)              (None, 100)               10100     \n",
      "_________________________________________________________________\n",
      "leaky_re_lu_15 (LeakyReLU)   (None, 100)               0         \n",
      "_________________________________________________________________\n",
      "dropout_7 (Dropout)          (None, 100)               0         \n",
      "_________________________________________________________________\n",
      "seizure (Dense)              (None, 2)                 202       \n",
      "=================================================================\n",
      "Total params: 251,810\n",
      "Trainable params: 247,176\n",
      "Non-trainable params: 4,634\n",
      "_________________________________________________________________\n"
     ]
    }
   ],
   "source": [
    "model.summary()"
   ]
  },
  {
   "cell_type": "code",
   "execution_count": 15,
   "metadata": {},
   "outputs": [],
   "source": [
    "from keras_models.metrics import f1, sensitivity, specificity\n",
    "model.compile(tf.keras.optimizers.Adam(lr=0.00001), loss=\"categorical_crossentropy\", metrics=[\"accuracy\", f1, sensitivity, specificity])"
   ]
  },
  {
   "cell_type": "code",
   "execution_count": null,
   "metadata": {},
   "outputs": [],
   "source": [
    "int(num_valid/batch_size)"
   ]
  },
  {
   "cell_type": "code",
   "execution_count": 16,
   "metadata": {},
   "outputs": [
    {
     "name": "stdout",
     "output_type": "stream",
     "text": [
      "Epoch 1/100\n",
      "600/600 [==============================] - 69s 115ms/step - loss: 0.9317 - acc: 0.5301 - f1: 0.0628 - sensitivity: 0.1723 - specificity: 0.9628 - val_loss: 0.7330 - val_acc: 0.4527 - val_f1: 0.0586 - val_sensitivity: 0.1328 - val_specificity: 0.9608\n",
      "Epoch 2/100\n",
      "600/600 [==============================] - 55s 91ms/step - loss: 0.7399 - acc: 0.6163 - f1: 0.0468 - sensitivity: 0.1774 - specificity: 0.9735 - val_loss: 0.5047 - val_acc: 0.8882 - val_f1: 0.0261 - val_sensitivity: 0.0230 - val_specificity: 0.9632\n",
      "Epoch 3/100\n",
      "600/600 [==============================] - 55s 91ms/step - loss: 0.5944 - acc: 0.7016 - f1: 0.0516 - sensitivity: 0.1427 - specificity: 0.9704 - val_loss: 0.5202 - val_acc: 0.8478 - val_f1: 0.0643 - val_sensitivity: 0.0703 - val_specificity: 0.9255\n",
      "Epoch 4/100\n",
      "600/600 [==============================] - 55s 91ms/step - loss: 0.5065 - acc: 0.7575 - f1: 0.0578 - sensitivity: 0.1066 - specificity: 0.9576 - val_loss: 0.3829 - val_acc: 0.9452 - val_f1: 0.0119 - val_sensitivity: 0.0075 - val_specificity: 0.9582\n",
      "Epoch 5/100\n",
      "600/600 [==============================] - 55s 91ms/step - loss: 0.4277 - acc: 0.8099 - f1: 0.0601 - sensitivity: 0.0988 - specificity: 0.9598 - val_loss: 0.4293 - val_acc: 0.9079 - val_f1: 0.0463 - val_sensitivity: 0.0380 - val_specificity: 0.9314\n",
      "Epoch 6/100\n",
      "600/600 [==============================] - 55s 91ms/step - loss: 0.3890 - acc: 0.8398 - f1: 0.0773 - sensitivity: 0.1124 - specificity: 0.9473 - val_loss: 0.2736 - val_acc: 0.9421 - val_f1: 0.0089 - val_sensitivity: 0.0055 - val_specificity: 0.9506\n",
      "Epoch 7/100\n",
      "600/600 [==============================] - 55s 91ms/step - loss: 0.3163 - acc: 0.8788 - f1: 0.0371 - sensitivity: 0.0481 - specificity: 0.9682 - val_loss: 0.3003 - val_acc: 0.9465 - val_f1: 0.0027 - val_sensitivity: 0.0018 - val_specificity: 0.9464\n",
      "Epoch 8/100\n",
      "600/600 [==============================] - 55s 92ms/step - loss: 0.2668 - acc: 0.9104 - f1: 0.0346 - sensitivity: 0.0419 - specificity: 0.9744 - val_loss: 0.2551 - val_acc: 0.9344 - val_f1: 0.0000e+00 - val_sensitivity: 0.0000e+00 - val_specificity: 0.9344\n",
      "Epoch 9/100\n",
      "600/600 [==============================] - 55s 91ms/step - loss: 0.2202 - acc: 0.9336 - f1: 0.0224 - sensitivity: 0.0271 - specificity: 0.9803 - val_loss: 0.2309 - val_acc: 0.9468 - val_f1: 0.0000e+00 - val_sensitivity: 0.0000e+00 - val_specificity: 0.9468\n",
      "Epoch 10/100\n",
      "600/600 [==============================] - 55s 91ms/step - loss: 0.2421 - acc: 0.9270 - f1: 0.0249 - sensitivity: 0.0212 - specificity: 0.9609 - val_loss: 0.2182 - val_acc: 0.9463 - val_f1: 0.0000e+00 - val_sensitivity: 0.0000e+00 - val_specificity: 0.9463\n",
      "Epoch 11/100\n",
      "600/600 [==============================] - 55s 92ms/step - loss: 0.3190 - acc: 0.9006 - f1: 0.0450 - sensitivity: 0.0378 - specificity: 0.9271 - val_loss: 0.2431 - val_acc: 0.9330 - val_f1: 0.0000e+00 - val_sensitivity: 0.0000e+00 - val_specificity: 0.9330\n",
      "Epoch 12/100\n",
      "600/600 [==============================] - 55s 92ms/step - loss: 0.1525 - acc: 0.9628 - f1: 0.0080 - sensitivity: 0.0067 - specificity: 0.9895 - val_loss: 0.1756 - val_acc: 0.9601 - val_f1: 0.0000e+00 - val_sensitivity: 0.0000e+00 - val_specificity: 0.9601\n",
      "Epoch 13/100\n",
      "600/600 [==============================] - 55s 91ms/step - loss: 0.2035 - acc: 0.9491 - f1: 0.0191 - sensitivity: 0.0177 - specificity: 0.9670 - val_loss: 0.2485 - val_acc: 0.9176 - val_f1: 0.0000e+00 - val_sensitivity: 0.0000e+00 - val_specificity: 0.9176\n"
     ]
    }
   ],
   "source": [
    "batch_size=64\n",
    "history = model.fit(train_data, steps_per_epoch=(600), validation_data=valid_data, validation_steps=(600), epochs=100, callbacks=[tf.keras.callbacks.EarlyStopping(monitor=\"val_f1\", mode=\"max\", patience=10)])"
   ]
  },
  {
   "cell_type": "code",
   "execution_count": 23,
   "metadata": {},
   "outputs": [
    {
     "data": {
      "image/png": "[encoded data removed]",
      "text/plain": [
       "<Figure size 432x288 with 1 Axes>"
      ]
     },
     "metadata": {
      "needs_background": "light"
     },
     "output_type": "display_data"
    }
   ],
   "source": [
    "import matplotlib.pyplot as plt\n",
    "from addict import Dict\n",
    "history = Dict(history.history)"
   ]
  },
  {
   "cell_type": "code",
   "execution_count": 28,
   "metadata": {},
   "outputs": [
    {
     "data": {
      "image/png": "[encoded data removed]",
      "text/plain": [
       "<Figure size 432x288 with 1 Axes>"
      ]
     },
     "metadata": {
      "needs_background": "light"
     },
     "output_type": "display_data"
    },
    {
     "data": {
      "image/png": "[encoded data removed]",
      "text/plain": [
       "<Figure size 432x288 with 1 Axes>"
      ]
     },
     "metadata": {
      "needs_background": "light"
     },
     "output_type": "display_data"
    }
   ],
   "source": [
    "from addict import Dict\n",
    "history = Dict(history.history)\n",
    "plt.title(\"F1 Score\")\n",
    "plt.subplot(3,1,1)\n",
    "plt.plot(history.f1)\n",
    "plt.plot(history.val_f1)\n",
    "plt.legend([\"Training\", \"Validation\"])\n",
    "plt.show()\n",
    "\n",
    "plt.subplot(3,1,2)\n",
    "plt.plot(history.acc)\n",
    "plt.plot(history.val_acc)\n",
    "plt.legend([\"Training\", \"Validation\"])\n",
    "plt.show()\n",
    "\n"
   ]
  },
  {
   "cell_type": "markdown",
   "metadata": {},
   "source": [
    "Appears to be overfitting rn. Gonna try to do with no balance"
   ]
  },
  {
   "cell_type": "code",
   "execution_count": 30,
   "metadata": {},
   "outputs": [],
   "source": [
    "num_cnn_layers = 4\n",
    "num_lstm_layers = 2\n",
    "num_lin_layers= 4\n",
    "inputLayer = tf.keras.layers.Input((1000,21, 1))\n",
    "x = inputLayer\n",
    "for i in range(num_cnn_layers):\n",
    "    x = tf.keras.layers.TimeDistributed(tf.keras.layers.BatchNormalization())(x)\n",
    "    x = tf.keras.layers.Conv2D(4, (3,3))(x)\n",
    "    x = tf.keras.layers.LeakyReLU()(x)\n",
    "    x = tf.keras.layers.MaxPool2D((2,1))(x)\n",
    "x = tf.keras.layers.Reshape((int(x.shape[1]), int(x.shape[2]) * int(x.shape[3])))(x)\n",
    "for j in range(num_lstm_layers):\n",
    "    x = tf.keras.layers.TimeDistributed(tf.keras.layers.BatchNormalization())(x)\n",
    "    x = tf.keras.layers.CuDNNLSTM(32, return_sequences=True)(x)\n",
    "x = tf.keras.layers.Flatten()(x)\n",
    "for k in range(num_lin_layers):\n",
    "    x = tf.keras.layers.BatchNormalization()(x)\n",
    "    x = tf.keras.layers.Dense(100)(x)\n",
    "    x = tf.keras.layers.LeakyReLU()(x)\n",
    "    x = tf.keras.layers.Dropout(0.5)(x)\n",
    "x = tf.keras.layers.Dense(2, name=\"seizure\", activation=\"softmax\")(x)\n",
    "model = tf.keras.Model(inputs=inputLayer, outputs=x)"
   ]
  },
  {
   "cell_type": "code",
   "execution_count": 31,
   "metadata": {},
   "outputs": [],
   "source": [
    "from keras_models.metrics import f1, sensitivity, specificity\n",
    "model.compile(tf.keras.optimizers.Adam(lr=0.000005), loss=\"categorical_crossentropy\", metrics=[\"accuracy\", f1, sensitivity, specificity])"
   ]
  },
  {
   "cell_type": "code",
   "execution_count": 33,
   "metadata": {},
   "outputs": [
    {
     "name": "stdout",
     "output_type": "stream",
     "text": [
      "Epoch 1/100\n",
      "1000/1000 [==============================] - 102s 102ms/step - loss: 0.8417 - acc: 0.6011 - f1: 0.0848 - sensitivity: 0.1881 - specificity: 0.9346 - val_loss: 0.5170 - val_acc: 0.7813 - val_f1: 0.0382 - val_sensitivity: 0.0549 - val_specificity: 0.9631\n",
      "Epoch 2/100\n",
      "1000/1000 [==============================] - 84s 84ms/step - loss: 0.7269 - acc: 0.6536 - f1: 0.1124 - sensitivity: 0.1869 - specificity: 0.9111 - val_loss: 0.3304 - val_acc: 0.9092 - val_f1: 0.0340 - val_sensitivity: 0.0297 - val_specificity: 0.9653\n",
      "Epoch 3/100\n",
      "1000/1000 [==============================] - 83s 83ms/step - loss: 0.6051 - acc: 0.7187 - f1: 0.0723 - sensitivity: 0.1236 - specificity: 0.9510 - val_loss: 0.4715 - val_acc: 0.8594 - val_f1: 0.0156 - val_sensitivity: 0.0154 - val_specificity: 0.9216\n",
      "Epoch 4/100\n",
      "1000/1000 [==============================] - 84s 84ms/step - loss: 0.5521 - acc: 0.7515 - f1: 0.0811 - sensitivity: 0.1273 - specificity: 0.9293 - val_loss: 0.2991 - val_acc: 0.9508 - val_f1: 0.0055 - val_sensitivity: 0.0038 - val_specificity: 0.9576\n",
      "Epoch 5/100\n",
      "1000/1000 [==============================] - 83s 83ms/step - loss: 0.5318 - acc: 0.7726 - f1: 0.0877 - sensitivity: 0.1143 - specificity: 0.9094 - val_loss: 0.3262 - val_acc: 0.9251 - val_f1: 0.0016 - val_sensitivity: 0.0012 - val_specificity: 0.9279\n",
      "Epoch 6/100\n",
      "1000/1000 [==============================] - 84s 84ms/step - loss: 0.4140 - acc: 0.8276 - f1: 0.0501 - sensitivity: 0.0699 - specificity: 0.9537 - val_loss: 0.2674 - val_acc: 0.9492 - val_f1: 5.8974e-04 - val_sensitivity: 3.4722e-04 - val_specificity: 0.9500\n",
      "Epoch 7/100\n",
      "1000/1000 [==============================] - 84s 84ms/step - loss: 0.4510 - acc: 0.8213 - f1: 0.0716 - sensitivity: 0.0828 - specificity: 0.9140 - val_loss: 0.2524 - val_acc: 0.9463 - val_f1: 0.0000e+00 - val_sensitivity: 0.0000e+00 - val_specificity: 0.9463\n",
      "Epoch 8/100\n",
      "1000/1000 [==============================] - 84s 84ms/step - loss: 0.4021 - acc: 0.8489 - f1: 0.0619 - sensitivity: 0.0702 - specificity: 0.9294 - val_loss: 0.2592 - val_acc: 0.9344 - val_f1: 0.0000e+00 - val_sensitivity: 0.0000e+00 - val_specificity: 0.9344\n",
      "Epoch 9/100\n",
      "1000/1000 [==============================] - 84s 84ms/step - loss: 0.3908 - acc: 0.8565 - f1: 0.0564 - sensitivity: 0.0634 - specificity: 0.9258 - val_loss: 0.2551 - val_acc: 0.9468 - val_f1: 0.0000e+00 - val_sensitivity: 0.0000e+00 - val_specificity: 0.9468\n",
      "Epoch 10/100\n",
      "1000/1000 [==============================] - 84s 84ms/step - loss: 0.3799 - acc: 0.8673 - f1: 0.0458 - sensitivity: 0.0427 - specificity: 0.9247 - val_loss: 0.2167 - val_acc: 0.9463 - val_f1: 0.0000e+00 - val_sensitivity: 0.0000e+00 - val_specificity: 0.9463\n",
      "Epoch 11/100\n",
      "1000/1000 [==============================] - 84s 84ms/step - loss: 0.3617 - acc: 0.8785 - f1: 0.0448 - sensitivity: 0.0432 - specificity: 0.9301 - val_loss: 0.2480 - val_acc: 0.9329 - val_f1: 0.0000e+00 - val_sensitivity: 0.0000e+00 - val_specificity: 0.9329\n"
     ]
    }
   ],
   "source": [
    "batch_size=64\n",
    "history = model.fit(train_unbalanced, steps_per_epoch=(1000), class_weight=[1,12], validation_data=valid_data, validation_steps=(600), epochs=100, callbacks=[tf.keras.callbacks.EarlyStopping(monitor=\"val_f1\", mode=\"max\", patience=10)])"
   ]
  },
  {
   "cell_type": "code",
   "execution_count": 34,
   "metadata": {},
   "outputs": [
    {
     "data": {
      "image/png": "[encoded data removed]",
      "text/plain": [
       "<Figure size 432x288 with 1 Axes>"
      ]
     },
     "metadata": {
      "needs_background": "light"
     },
     "output_type": "display_data"
    },
    {
     "data": {
      "image/png": "[encoded data removed]",
      "text/plain": [
       "<Figure size 432x288 with 1 Axes>"
      ]
     },
     "metadata": {
      "needs_background": "light"
     },
     "output_type": "display_data"
    }
   ],
   "source": [
    "from addict import Dict\n",
    "history = Dict(history.history)\n",
    "plt.title(\"F1 Score\")\n",
    "plt.subplot(3,1,1)\n",
    "plt.plot(history.f1)\n",
    "plt.plot(history.val_f1)\n",
    "plt.legend([\"Training\", \"Validation\"])\n",
    "plt.show()\n",
    "\n",
    "plt.subplot(3,1,2)\n",
    "plt.plot(history.acc)\n",
    "plt.plot(history.val_acc)\n",
    "plt.legend([\"Training\", \"Validation\"])\n",
    "plt.show()\n",
    "\n"
   ]
  },
  {
   "cell_type": "markdown",
   "metadata": {},
   "source": [
    "Let's try some random arrange"
   ]
  },
  {
   "cell_type": "code",
   "execution_count": 37,
   "metadata": {},
   "outputs": [],
   "source": [
    "num_cnn_layers = 4\n",
    "num_lstm_layers = 2\n",
    "num_lin_layers= 4\n",
    "inputLayer = tf.keras.layers.Input((1000,21, 1))\n",
    "x = inputLayer\n",
    "x = tf.keras.layers.Reshape((1000,21))(x)\n",
    "\n",
    "x = tf.keras.layers.Lambda(lambda x: tf.transpose(tf.random.shuffle(tf.transpose(x))), output_shape=(1000,21))(x)\n",
    "x = tf.keras.layers.Reshape((1000,21, 1))(x)\n",
    "\n",
    "for i in range(num_cnn_layers):\n",
    "    x = tf.keras.layers.TimeDistributed(tf.keras.layers.BatchNormalization())(x)\n",
    "    x = tf.keras.layers.Conv2D(4, (3,3))(x)\n",
    "    x = tf.keras.layers.LeakyReLU()(x)\n",
    "    x = tf.keras.layers.MaxPool2D((2,1))(x)\n",
    "x = tf.keras.layers.Reshape((int(x.shape[1]), int(x.shape[2]) * int(x.shape[3])))(x)\n",
    "for j in range(num_lstm_layers):\n",
    "    x = tf.keras.layers.TimeDistributed(tf.keras.layers.BatchNormalization())(x)\n",
    "    x = tf.keras.layers.CuDNNLSTM(32, return_sequences=True)(x)\n",
    "x = tf.keras.layers.Flatten()(x)\n",
    "\n",
    "for k in range(num_lin_layers):\n",
    "    x = tf.keras.layers.BatchNormalization()(x)\n",
    "    x = tf.keras.layers.Dense(100)(x)\n",
    "    x = tf.keras.layers.LeakyReLU()(x)\n",
    "    x = tf.keras.layers.Dropout(0.5)(x)\n",
    "x = tf.keras.layers.Dense(2, name=\"seizure\", activation=\"softmax\")(x)\n",
    "model = tf.keras.Model(inputs=inputLayer, outputs=x)"
   ]
  },
  {
   "cell_type": "code",
   "execution_count": 38,
   "metadata": {},
   "outputs": [
    {
     "name": "stdout",
     "output_type": "stream",
     "text": [
      "Epoch 1/100\n",
      "600/600 [==============================] - 73s 122ms/step - loss: 1.5851 - acc: 0.3586 - f1: 0.0652 - sensitivity: 0.2201 - specificity: 0.9630 - val_loss: 0.7406 - val_acc: 0.4771 - val_f1: 0.0480 - val_sensitivity: 0.1006 - val_specificity: 0.9569\n",
      "Epoch 2/100\n",
      "600/600 [==============================] - 60s 99ms/step - loss: 1.2798 - acc: 0.4299 - f1: 0.0479 - sensitivity: 0.2528 - specificity: 0.9730 - val_loss: 0.5130 - val_acc: 0.8552 - val_f1: 0.0329 - val_sensitivity: 0.0373 - val_specificity: 0.9638\n",
      "Epoch 3/100\n",
      "600/600 [==============================] - 60s 99ms/step - loss: 1.0192 - acc: 0.5183 - f1: 0.0548 - sensitivity: 0.2322 - specificity: 0.9712 - val_loss: 0.5321 - val_acc: 0.8223 - val_f1: 0.0508 - val_sensitivity: 0.0521 - val_specificity: 0.9248\n",
      "Epoch 4/100\n",
      "600/600 [==============================] - 60s 99ms/step - loss: 0.8361 - acc: 0.5959 - f1: 0.0698 - sensitivity: 0.1796 - specificity: 0.9591 - val_loss: 0.3766 - val_acc: 0.9534 - val_f1: 0.0035 - val_sensitivity: 0.0020 - val_specificity: 0.9575\n",
      "Epoch 5/100\n",
      "600/600 [==============================] - 59s 99ms/step - loss: 0.6855 - acc: 0.6711 - f1: 0.0668 - sensitivity: 0.1569 - specificity: 0.9604 - val_loss: 0.4131 - val_acc: 0.9176 - val_f1: 0.0102 - val_sensitivity: 0.0067 - val_specificity: 0.9282\n",
      "Epoch 6/100\n",
      "600/600 [==============================] - 59s 99ms/step - loss: 0.5828 - acc: 0.7288 - f1: 0.0904 - sensitivity: 0.1946 - specificity: 0.9498 - val_loss: 0.2833 - val_acc: 0.9481 - val_f1: 0.0056 - val_sensitivity: 0.0042 - val_specificity: 0.9501\n",
      "Epoch 7/100\n",
      "600/600 [==============================] - 59s 99ms/step - loss: 0.4809 - acc: 0.7815 - f1: 0.0507 - sensitivity: 0.1087 - specificity: 0.9696 - val_loss: 0.3005 - val_acc: 0.9463 - val_f1: 0.0000e+00 - val_sensitivity: 0.0000e+00 - val_specificity: 0.9463\n",
      "Epoch 8/100\n",
      "600/600 [==============================] - 59s 98ms/step - loss: 0.3933 - acc: 0.8373 - f1: 0.0388 - sensitivity: 0.0622 - specificity: 0.9743 - val_loss: 0.2685 - val_acc: 0.9344 - val_f1: 0.0000e+00 - val_sensitivity: 0.0000e+00 - val_specificity: 0.9344\n",
      "Epoch 9/100\n",
      "600/600 [==============================] - 59s 99ms/step - loss: 0.3259 - acc: 0.8737 - f1: 0.0267 - sensitivity: 0.0539 - specificity: 0.9807 - val_loss: 0.2408 - val_acc: 0.9468 - val_f1: 0.0000e+00 - val_sensitivity: 0.0000e+00 - val_specificity: 0.9468\n",
      "Epoch 10/100\n",
      "600/600 [==============================] - 59s 99ms/step - loss: 0.3193 - acc: 0.8857 - f1: 0.0374 - sensitivity: 0.0472 - specificity: 0.9632 - val_loss: 0.2248 - val_acc: 0.9463 - val_f1: 0.0000e+00 - val_sensitivity: 0.0000e+00 - val_specificity: 0.9463\n",
      "Epoch 11/100\n",
      "600/600 [==============================] - 59s 99ms/step - loss: 0.3846 - acc: 0.8654 - f1: 0.0570 - sensitivity: 0.0570 - specificity: 0.9237 - val_loss: 0.2450 - val_acc: 0.9329 - val_f1: 0.0000e+00 - val_sensitivity: 0.0000e+00 - val_specificity: 0.9329\n",
      "Epoch 12/100\n",
      "600/600 [==============================] - 60s 99ms/step - loss: 0.2104 - acc: 0.9341 - f1: 0.0086 - sensitivity: 0.0116 - specificity: 0.9910 - val_loss: 0.1795 - val_acc: 0.9601 - val_f1: 0.0000e+00 - val_sensitivity: 0.0000e+00 - val_specificity: 0.9601\n",
      "Epoch 13/100\n",
      "600/600 [==============================] - 59s 99ms/step - loss: 0.2413 - acc: 0.9291 - f1: 0.0300 - sensitivity: 0.0310 - specificity: 0.9677 - val_loss: 0.2618 - val_acc: 0.9176 - val_f1: 0.0000e+00 - val_sensitivity: 0.0000e+00 - val_specificity: 0.9176\n"
     ]
    }
   ],
   "source": [
    "from keras_models.metrics import f1, sensitivity, specificity\n",
    "model.compile(tf.keras.optimizers.Adam(lr=0.00001), loss=\"categorical_crossentropy\", metrics=[\"accuracy\", f1, sensitivity, specificity])\n",
    "batch_size=64\n",
    "history = model.fit(train_data, steps_per_epoch=(600), validation_data=valid_data, validation_steps=(600), epochs=100, callbacks=[tf.keras.callbacks.EarlyStopping(monitor=\"val_f1\", mode=\"max\", patience=10)])"
   ]
  },
  {
   "cell_type": "code",
   "execution_count": 39,
   "metadata": {},
   "outputs": [
    {
     "data": {
      "image/png": "[encoded data removed]",
      "text/plain": [
       "<Figure size 432x288 with 1 Axes>"
      ]
     },
     "metadata": {
      "needs_background": "light"
     },
     "output_type": "display_data"
    },
    {
     "data": {
      "image/png": "[encoded data removed]",
      "text/plain": [
       "<Figure size 432x288 with 1 Axes>"
      ]
     },
     "metadata": {
      "needs_background": "light"
     },
     "output_type": "display_data"
    }
   ],
   "source": [
    "from addict import Dict\n",
    "history = Dict(history.history)\n",
    "plt.title(\"F1 Score\")\n",
    "plt.subplot(3,1,1)\n",
    "plt.plot(history.f1)\n",
    "plt.plot(history.val_f1)\n",
    "plt.legend([\"Training\", \"Validation\"])\n",
    "plt.show()\n",
    "\n",
    "plt.subplot(3,1,2)\n",
    "plt.plot(history.acc)\n",
    "plt.plot(history.val_acc)\n",
    "plt.legend([\"Training\", \"Validation\"])\n",
    "plt.show()\n",
    "\n"
   ]
  },
  {
   "cell_type": "code",
   "execution_count": 40,
   "metadata": {},
   "outputs": [
    {
     "name": "stdout",
     "output_type": "stream",
     "text": [
      "_________________________________________________________________\n",
      "Layer (type)                 Output Shape              Param #   \n",
      "=================================================================\n",
      "input_6 (InputLayer)         (None, 1000, 21, 1)       0         \n",
      "_________________________________________________________________\n",
      "reshape_5 (Reshape)          (None, 1000, 21)          0         \n",
      "_________________________________________________________________\n",
      "lambda_1 (Lambda)            (None, 1000, 21)          0         \n",
      "_________________________________________________________________\n",
      "reshape_6 (Reshape)          (None, 1000, 21, 1)       0         \n",
      "_________________________________________________________________\n",
      "time_distributed_25 (TimeDis (None, 1000, 21, 1)       4         \n",
      "_________________________________________________________________\n",
      "conv2d_17 (Conv2D)           (None, 998, 19, 4)        40        \n",
      "_________________________________________________________________\n",
      "leaky_re_lu_32 (LeakyReLU)   (None, 998, 19, 4)        0         \n",
      "_________________________________________________________________\n",
      "max_pooling2d_16 (MaxPooling (None, 499, 19, 4)        0         \n",
      "_________________________________________________________________\n",
      "time_distributed_26 (TimeDis (None, 499, 19, 4)        16        \n",
      "_________________________________________________________________\n",
      "conv2d_18 (Conv2D)           (None, 497, 17, 4)        148       \n",
      "_________________________________________________________________\n",
      "leaky_re_lu_33 (LeakyReLU)   (None, 497, 17, 4)        0         \n",
      "_________________________________________________________________\n",
      "max_pooling2d_17 (MaxPooling (None, 248, 17, 4)        0         \n",
      "_________________________________________________________________\n",
      "time_distributed_27 (TimeDis (None, 248, 17, 4)        16        \n",
      "_________________________________________________________________\n",
      "conv2d_19 (Conv2D)           (None, 246, 15, 4)        148       \n",
      "_________________________________________________________________\n",
      "leaky_re_lu_34 (LeakyReLU)   (None, 246, 15, 4)        0         \n",
      "_________________________________________________________________\n",
      "max_pooling2d_18 (MaxPooling (None, 123, 15, 4)        0         \n",
      "_________________________________________________________________\n",
      "time_distributed_28 (TimeDis (None, 123, 15, 4)        16        \n",
      "_________________________________________________________________\n",
      "conv2d_20 (Conv2D)           (None, 121, 13, 4)        148       \n",
      "_________________________________________________________________\n",
      "leaky_re_lu_35 (LeakyReLU)   (None, 121, 13, 4)        0         \n",
      "_________________________________________________________________\n",
      "max_pooling2d_19 (MaxPooling (None, 60, 13, 4)         0         \n",
      "_________________________________________________________________\n",
      "reshape_7 (Reshape)          (None, 60, 52)            0         \n",
      "_________________________________________________________________\n",
      "time_distributed_29 (TimeDis (None, 60, 52)            208       \n",
      "_________________________________________________________________\n",
      "cu_dnnlstm_8 (CuDNNLSTM)     (None, 60, 32)            11008     \n",
      "_________________________________________________________________\n",
      "time_distributed_30 (TimeDis (None, 60, 32)            128       \n",
      "_________________________________________________________________\n",
      "cu_dnnlstm_9 (CuDNNLSTM)     (None, 60, 32)            8448      \n",
      "_________________________________________________________________\n",
      "flatten_4 (Flatten)          (None, 1920)              0         \n",
      "_________________________________________________________________\n",
      "batch_normalization_v1_47 (B (None, 1920)              7680      \n",
      "_________________________________________________________________\n",
      "dense_16 (Dense)             (None, 100)               192100    \n",
      "_________________________________________________________________\n",
      "leaky_re_lu_36 (LeakyReLU)   (None, 100)               0         \n",
      "_________________________________________________________________\n",
      "dropout_16 (Dropout)         (None, 100)               0         \n",
      "_________________________________________________________________\n",
      "batch_normalization_v1_48 (B (None, 100)               400       \n",
      "_________________________________________________________________\n",
      "dense_17 (Dense)             (None, 100)               10100     \n",
      "_________________________________________________________________\n",
      "leaky_re_lu_37 (LeakyReLU)   (None, 100)               0         \n",
      "_________________________________________________________________\n",
      "dropout_17 (Dropout)         (None, 100)               0         \n",
      "_________________________________________________________________\n",
      "batch_normalization_v1_49 (B (None, 100)               400       \n",
      "_________________________________________________________________\n",
      "dense_18 (Dense)             (None, 100)               10100     \n",
      "_________________________________________________________________\n",
      "leaky_re_lu_38 (LeakyReLU)   (None, 100)               0         \n",
      "_________________________________________________________________\n",
      "dropout_18 (Dropout)         (None, 100)               0         \n",
      "_________________________________________________________________\n",
      "batch_normalization_v1_50 (B (None, 100)               400       \n",
      "_________________________________________________________________\n",
      "dense_19 (Dense)             (None, 100)               10100     \n",
      "_________________________________________________________________\n",
      "leaky_re_lu_39 (LeakyReLU)   (None, 100)               0         \n",
      "_________________________________________________________________\n",
      "dropout_19 (Dropout)         (None, 100)               0         \n",
      "_________________________________________________________________\n",
      "seizure (Dense)              (None, 2)                 202       \n",
      "=================================================================\n",
      "Total params: 251,810\n",
      "Trainable params: 247,176\n",
      "Non-trainable params: 4,634\n",
      "_________________________________________________________________\n"
     ]
    }
   ],
   "source": [
    "model.summary()"
   ]
  },
  {
   "cell_type": "markdown",
   "metadata": {},
   "source": [
    "# Go multitask"
   ]
  },
  {
   "cell_type": "code",
   "execution_count": 6,
   "metadata": {},
   "outputs": [],
   "source": [
    "def read_tfrecord(example):\n",
    "    features = { \\\n",
    "               'data':  tf.io.FixedLenFeature([21*1000], tf.float32,),\\\n",
    "               'label':  tf.io.FixedLenFeature([1], tf.int64,),\\\n",
    "               'subtypeLabel':  tf.io.FixedLenFeature([1], tf.int64,),\\\n",
    "               'session':  tf.io.FixedLenFeature([1], tf.int64,), \\\n",
    "               'montage':  tf.io.FixedLenFeature([22], tf.int64,)}\n",
    "\n",
    "    # decode the TFRecord\n",
    "    example = tf.io.parse_single_example(example, features)\n",
    "#     return example\n",
    "\n",
    "    data = tf.reshape(example['data'], [1000,21,1])\n",
    "    # data = (example['data'])\n",
    "\n",
    "    class_label = tf.cast(example['label'], tf.int32)\n",
    "\n",
    "    # del example\n",
    "    return data, (tf.one_hot(class_label[0], 2), tf.one_hot(example[\"subtypeLabel\"][0], 4),  example[\"montage\"], data)"
   ]
  },
  {
   "cell_type": "code",
   "execution_count": null,
   "metadata": {},
   "outputs": [],
   "source": []
  },
  {
   "cell_type": "code",
   "execution_count": null,
   "metadata": {},
   "outputs": [],
   "source": []
  },
  {
   "cell_type": "code",
   "execution_count": 13,
   "metadata": {},
   "outputs": [],
   "source": [
    "num_cnn_layers = 3\n",
    "num_lstm_layers = 2\n",
    "num_lin_layers= 4\n",
    "inputLayer = tf.keras.layers.Input((1000,21, 1))\n",
    "x = inputLayer\n",
    "\n",
    "\n",
    "for i in range(num_cnn_layers):\n",
    "    x = tf.keras.layers.BatchNormalization()(x)\n",
    "    x = tf.keras.layers.Conv2D(2**i, (3,3), padding=\"same\")(x)\n",
    "    x = tf.keras.layers.LeakyReLU()(x)\n",
    "    x = tf.keras.layers.MaxPool2D((2,1))(x)\n",
    "old_x_shape = (x).get_shape().as_list()\n",
    "x = tf.keras.layers.Reshape((int(x.shape[1]), int(x.shape[2]) * int(x.shape[3])), name=\"LSTM_Reshape\")(x)\n",
    "for j in range(num_lstm_layers):\n",
    "    x = tf.keras.layers.TimeDistributed(tf.keras.layers.BatchNormalization())(x)\n",
    "    x = tf.keras.layers.CuDNNLSTM(32, return_sequences=True)(x)\n",
    "\n",
    "x_shared = x\n",
    "x = tf.keras.layers.Flatten(name=\"flatten_encoder_lstm\")(x)\n",
    "x_shared_flattened = x\n",
    "\n",
    "#seizure detect\n",
    "x = x_shared_flattened \n",
    "for k in range(num_lin_layers):\n",
    "    x = tf.keras.layers.BatchNormalization()(x)\n",
    "    x = tf.keras.layers.Dense(100)(x)\n",
    "    x = tf.keras.layers.LeakyReLU()(x)\n",
    "    x = tf.keras.layers.Dropout(0.5)(x)\n",
    "x_detect = tf.keras.layers.Dense(2, name=\"detect\", activation=\"softmax\")(x)\n",
    "\n",
    "\n",
    "#seizure classify\n",
    "x = x_shared_flattened \n",
    "for k in range(num_lin_layers):\n",
    "    x = tf.keras.layers.BatchNormalization()(x)\n",
    "    x = tf.keras.layers.Dense(100)(x)\n",
    "    x = tf.keras.layers.LeakyReLU()(x)\n",
    "    x = tf.keras.layers.Dropout(0.5)(x)\n",
    "x_classify = tf.keras.layers.Dense(4, name=\"classify\", activation=\"softmax\")(x)\n",
    "\n",
    "#montage classify\n",
    "x = x_shared_flattened \n",
    "for k in range(num_lin_layers):\n",
    "    x = tf.keras.layers.BatchNormalization()(x)\n",
    "    x = tf.keras.layers.Dense(100)(x)\n",
    "    x = tf.keras.layers.LeakyReLU()(x)\n",
    "    x = tf.keras.layers.Dropout(0.5)(x)\n",
    "x_montage = tf.keras.layers.Dense(22, name=\"montage\", activation=\"sigmoid\")(x)\n",
    "\n",
    "#decoder\n",
    "x = x_shared\n",
    "x = tf.keras.layers.CuDNNLSTM(old_x_shape[2]*old_x_shape[3], return_sequences=True, name=\"lstm_decode\")(x)\n",
    "x = tf.keras.layers.BatchNormalization()(x)\n",
    "x = tf.keras.layers.Reshape(old_x_shape[1:], name=\"reshape_decode\")(x)\n",
    "for i in range(num_cnn_layers):\n",
    "    x = tf.keras.layers.BatchNormalization()(x)\n",
    "    x = tf.keras.layers.Conv2D(2**(2-i), (3,3), padding=\"same\")(x)\n",
    "    x = tf.keras.layers.UpSampling2D((2,1))(x)\n",
    "    x = tf.keras.layers.LeakyReLU()(x)\n",
    "x = tf.keras.layers.Conv2D(1, (3,3), padding=\"same\")(x)\n",
    "x = tf.keras.layers.LeakyReLU()(x)\n",
    "\n",
    "x_decode = tf.keras.layers.Reshape((int(x.shape[1]), int(x.shape[2]), int(x.shape[3])), name=\"decode\")(x)\n",
    "\n",
    "model = tf.keras.Model(inputs=inputLayer, outputs=[x_detect, x_classify, x_montage, x_decode])"
   ]
  },
  {
   "cell_type": "code",
   "execution_count": 7,
   "metadata": {},
   "outputs": [],
   "source": [
    "\n",
    "def get_batched_dataset(filenames, batch_size, max_queue_size=10,  n_process=4, is_train=False):\n",
    "    option_no_order = tf.data.Options()\n",
    "    option_no_order.experimental_deterministic = False\n",
    "\n",
    "    dataset = tf.data.Dataset.list_files(filenames)\n",
    "    dataset = dataset.with_options(option_no_order)\n",
    "    dataset = dataset.interleave(tf.data.TFRecordDataset, cycle_length=16, num_parallel_calls=n_process)\n",
    "#     \n",
    "    dataset = dataset.map(read_tfrecord, num_parallel_calls=n_process)\n",
    "    \n",
    "#     dataset = dataset.cache() # IF this dataset fits in RAM\n",
    "    dataset = dataset.repeat()\n",
    "#     if is_train:\n",
    "#         resampler = tf.data.experimental.rejection_resample(lambda x, y: y, target_dist=[1, 1])\n",
    "#         dataset = dataset.apply(resampler)\n",
    "    if is_train:\n",
    "        dataset = dataset.shuffle(256)\n",
    "    dataset = dataset.batch(batch_size, drop_remainder=True)\n",
    "    if is_train:\n",
    "        dataset = dataset.prefetch(max_queue_size)\n",
    "    else:\n",
    "        dataset = dataset.prefetch(int(max_queue_size/4)) #store a lot less for the other sets to avoid wasting memory\n",
    "\n",
    "    return dataset\n",
    "\n",
    "def get_positive_train_dataset(filenames,  max_queue_size=5, n_process=4, is_train=True):\n",
    "    option_no_order = tf.data.Options()\n",
    "    option_no_order.experimental_deterministic = False\n",
    "\n",
    "    dataset = tf.data.Dataset.list_files(filenames)\n",
    "    dataset = dataset.with_options(option_no_order)\n",
    "    dataset = dataset.interleave(tf.data.TFRecordDataset, cycle_length=16, num_parallel_calls=n_process)\n",
    "#     \n",
    "    dataset = dataset.map(read_tfrecord, num_parallel_calls=n_process)\n",
    "    \n",
    "    dataset = dataset.filter(lambda x, y: tf.equal(tf.argmax(y[0], 0), 1))\n",
    "\n",
    "    \n",
    "#     dataset = dataset.cache() # IF this dataset fits in RAM\n",
    "    dataset = dataset.repeat()\n",
    "#     if is_train:\n",
    "#         resampler = tf.data.experimental.rejection_resample(lambda x, y: y, target_dist=[1, 1])\n",
    "#         dataset = dataset.apply(resampler)\n",
    "    if is_train:\n",
    "        dataset = dataset.shuffle(256)\n",
    "#     dataset = dataset.batch(batch_size, drop_remainder=True)\n",
    "    if is_train:\n",
    "        dataset = dataset.prefetch(max_queue_size)\n",
    "    else:\n",
    "        dataset = dataset.prefetch(int(max_queue_size/4)) #store a lot less for the other sets to avoid wasting memory\n",
    "\n",
    "    return dataset\n",
    "\n",
    "def get_negative_train_dataset(filenames, max_queue_size=10, n_process=4, is_train=True):\n",
    "    option_no_order = tf.data.Options()\n",
    "    option_no_order.experimental_deterministic = False\n",
    "\n",
    "    dataset = tf.data.Dataset.list_files(filenames)\n",
    "    dataset = dataset.with_options(option_no_order)\n",
    "    dataset = dataset.interleave(tf.data.TFRecordDataset, cycle_length=16, num_parallel_calls=n_process)\n",
    "#     \n",
    "    dataset = dataset.map(read_tfrecord, num_parallel_calls=n_process)\n",
    "   \n",
    "    \n",
    "    dataset = dataset.filter(lambda x, y: tf.equal(tf.argmax(y[0], 0), 0))\n",
    "\n",
    "    \n",
    "#     dataset = dataset.cache() # IF this dataset fits in RAM\n",
    "    dataset = dataset.repeat()\n",
    "#     if is_train:\n",
    "#         resampler = tf.data.experimental.rejection_resample(lambda x, y: y, target_dist=[1, 1])\n",
    "#         dataset = dataset.apply(resampler)\n",
    "    if is_train:\n",
    "        dataset = dataset.shuffle(256)\n",
    "#     dataset = dataset.batch(batch_size, drop_remainder=True)\n",
    "    if is_train:\n",
    "        dataset = dataset.prefetch(max_queue_size)\n",
    "    else:\n",
    "        dataset = dataset.prefetch(int(max_queue_size/4)) #store a lot less for the other sets to avoid wasting memory\n",
    "    return dataset\n",
    "\n",
    "def get_balanced_dataset(filenames, batch_size, max_queue_size=10, n_process=4, is_train=True):\n",
    "    pos_ds = get_positive_train_dataset(filenames)\n",
    "    neg_ds = get_negative_train_dataset(filenames)   \n",
    "    dataset = tf.data.experimental.sample_from_datasets([neg_ds, pos_ds], [0.5, 0.5])\n",
    "    if is_train:\n",
    "        dataset = dataset.shuffle(256)\n",
    "    dataset = dataset.batch(batch_size, drop_remainder=True)\n",
    "    return dataset.prefetch(max_queue_size)"
   ]
  },
  {
   "cell_type": "code",
   "execution_count": 8,
   "metadata": {},
   "outputs": [],
   "source": [
    "batch_size=64\n",
    "train_data = get_balanced_dataset([\"/n/scratch2/ms994/train_4s.tfr\"], batch_size, is_train=True)\n",
    "train_unbalanced = get_batched_dataset([\"/n/scratch2/ms994/train_4s.tfr\"], batch_size, is_train=True)\n",
    "valid_data = get_batched_dataset([\"/n/scratch2/ms994/valid_4s.tfr\"], batch_size, is_train=False)\n",
    "test_data = get_batched_dataset([\"/n/scratch2/ms994/test_4s.tfr\"], batch_size, is_train=False)"
   ]
  },
  {
   "cell_type": "code",
   "execution_count": 82,
   "metadata": {},
   "outputs": [
    {
     "name": "stdout",
     "output_type": "stream",
     "text": [
      "__________________________________________________________________________________________________\n",
      "Layer (type)                    Output Shape         Param #     Connected to                     \n",
      "==================================================================================================\n",
      "input_23 (InputLayer)           (None, 1000, 21, 1)  0                                            \n",
      "__________________________________________________________________________________________________\n",
      "batch_normalization_v1_367 (Bat (None, 1000, 21, 1)  4           input_23[0][0]                   \n",
      "__________________________________________________________________________________________________\n",
      "conv2d_120 (Conv2D)             (None, 1000, 21, 1)  10          batch_normalization_v1_367[0][0] \n",
      "__________________________________________________________________________________________________\n",
      "leaky_re_lu_313 (LeakyReLU)     (None, 1000, 21, 1)  0           conv2d_120[0][0]                 \n",
      "__________________________________________________________________________________________________\n",
      "max_pooling2d_72 (MaxPooling2D) (None, 500, 21, 1)   0           leaky_re_lu_313[0][0]            \n",
      "__________________________________________________________________________________________________\n",
      "batch_normalization_v1_368 (Bat (None, 500, 21, 1)   4           max_pooling2d_72[0][0]           \n",
      "__________________________________________________________________________________________________\n",
      "conv2d_121 (Conv2D)             (None, 500, 21, 2)   20          batch_normalization_v1_368[0][0] \n",
      "__________________________________________________________________________________________________\n",
      "leaky_re_lu_314 (LeakyReLU)     (None, 500, 21, 2)   0           conv2d_121[0][0]                 \n",
      "__________________________________________________________________________________________________\n",
      "max_pooling2d_73 (MaxPooling2D) (None, 250, 21, 2)   0           leaky_re_lu_314[0][0]            \n",
      "__________________________________________________________________________________________________\n",
      "batch_normalization_v1_369 (Bat (None, 250, 21, 2)   8           max_pooling2d_73[0][0]           \n",
      "__________________________________________________________________________________________________\n",
      "conv2d_122 (Conv2D)             (None, 250, 21, 4)   76          batch_normalization_v1_369[0][0] \n",
      "__________________________________________________________________________________________________\n",
      "leaky_re_lu_315 (LeakyReLU)     (None, 250, 21, 4)   0           conv2d_122[0][0]                 \n",
      "__________________________________________________________________________________________________\n",
      "max_pooling2d_74 (MaxPooling2D) (None, 125, 21, 4)   0           leaky_re_lu_315[0][0]            \n",
      "__________________________________________________________________________________________________\n",
      "LSTM_Reshape (Reshape)          (None, 125, 84)      0           max_pooling2d_74[0][0]           \n",
      "__________________________________________________________________________________________________\n",
      "time_distributed_71 (TimeDistri (None, 125, 84)      336         LSTM_Reshape[0][0]               \n",
      "__________________________________________________________________________________________________\n",
      "cu_dnnlstm_53 (CuDNNLSTM)       (None, 125, 32)      15104       time_distributed_71[0][0]        \n",
      "__________________________________________________________________________________________________\n",
      "time_distributed_72 (TimeDistri (None, 125, 32)      128         cu_dnnlstm_53[0][0]              \n",
      "__________________________________________________________________________________________________\n",
      "cu_dnnlstm_54 (CuDNNLSTM)       (None, 125, 32)      8448        time_distributed_72[0][0]        \n",
      "__________________________________________________________________________________________________\n",
      "flatten_encoder_lstm (Flatten)  (None, 4000)         0           cu_dnnlstm_54[0][0]              \n",
      "__________________________________________________________________________________________________\n",
      "lstm_decode (CuDNNLSTM)         (None, 84)           39648       cu_dnnlstm_54[0][0]              \n",
      "__________________________________________________________________________________________________\n",
      "batch_normalization_v1_372 (Bat (None, 4000)         16000       flatten_encoder_lstm[0][0]       \n",
      "__________________________________________________________________________________________________\n",
      "batch_normalization_v1_376 (Bat (None, 4000)         16000       flatten_encoder_lstm[0][0]       \n",
      "__________________________________________________________________________________________________\n",
      "batch_normalization_v1_380 (Bat (None, 4000)         16000       flatten_encoder_lstm[0][0]       \n",
      "__________________________________________________________________________________________________\n",
      "batch_normalization_v1_384 (Bat (None, 84)           336         lstm_decode[0][0]                \n",
      "__________________________________________________________________________________________________\n",
      "dense_200 (Dense)               (None, 100)          400100      batch_normalization_v1_372[0][0] \n",
      "__________________________________________________________________________________________________\n",
      "dense_204 (Dense)               (None, 100)          400100      batch_normalization_v1_376[0][0] \n",
      "__________________________________________________________________________________________________\n",
      "dense_208 (Dense)               (None, 100)          400100      batch_normalization_v1_380[0][0] \n",
      "__________________________________________________________________________________________________\n",
      "reshape_decode (Reshape)        (None, 125, 21, 4)   0           batch_normalization_v1_384[0][0] \n",
      "__________________________________________________________________________________________________\n",
      "leaky_re_lu_316 (LeakyReLU)     (None, 100)          0           dense_200[0][0]                  \n",
      "__________________________________________________________________________________________________\n",
      "leaky_re_lu_320 (LeakyReLU)     (None, 100)          0           dense_204[0][0]                  \n",
      "__________________________________________________________________________________________________\n",
      "leaky_re_lu_324 (LeakyReLU)     (None, 100)          0           dense_208[0][0]                  \n",
      "__________________________________________________________________________________________________\n",
      "batch_normalization_v1_385 (Bat (None, 125, 21, 4)   16          reshape_decode[0][0]             \n",
      "__________________________________________________________________________________________________\n",
      "dropout_200 (Dropout)           (None, 100)          0           leaky_re_lu_316[0][0]            \n",
      "__________________________________________________________________________________________________\n",
      "dropout_204 (Dropout)           (None, 100)          0           leaky_re_lu_320[0][0]            \n",
      "__________________________________________________________________________________________________\n",
      "dropout_208 (Dropout)           (None, 100)          0           leaky_re_lu_324[0][0]            \n",
      "__________________________________________________________________________________________________\n",
      "conv2d_123 (Conv2D)             (None, 125, 21, 4)   148         batch_normalization_v1_385[0][0] \n",
      "__________________________________________________________________________________________________\n",
      "batch_normalization_v1_373 (Bat (None, 100)          400         dropout_200[0][0]                \n",
      "__________________________________________________________________________________________________\n",
      "batch_normalization_v1_377 (Bat (None, 100)          400         dropout_204[0][0]                \n",
      "__________________________________________________________________________________________________\n",
      "batch_normalization_v1_381 (Bat (None, 100)          400         dropout_208[0][0]                \n",
      "__________________________________________________________________________________________________\n",
      "up_sampling2d_36 (UpSampling2D) (None, 250, 21, 4)   0           conv2d_123[0][0]                 \n",
      "__________________________________________________________________________________________________\n",
      "dense_201 (Dense)               (None, 100)          10100       batch_normalization_v1_373[0][0] \n",
      "__________________________________________________________________________________________________\n",
      "dense_205 (Dense)               (None, 100)          10100       batch_normalization_v1_377[0][0] \n",
      "__________________________________________________________________________________________________\n",
      "dense_209 (Dense)               (None, 100)          10100       batch_normalization_v1_381[0][0] \n",
      "__________________________________________________________________________________________________\n",
      "leaky_re_lu_328 (LeakyReLU)     (None, 250, 21, 4)   0           up_sampling2d_36[0][0]           \n",
      "__________________________________________________________________________________________________\n",
      "leaky_re_lu_317 (LeakyReLU)     (None, 100)          0           dense_201[0][0]                  \n",
      "__________________________________________________________________________________________________\n",
      "leaky_re_lu_321 (LeakyReLU)     (None, 100)          0           dense_205[0][0]                  \n",
      "__________________________________________________________________________________________________\n",
      "leaky_re_lu_325 (LeakyReLU)     (None, 100)          0           dense_209[0][0]                  \n",
      "__________________________________________________________________________________________________\n",
      "batch_normalization_v1_386 (Bat (None, 250, 21, 4)   16          leaky_re_lu_328[0][0]            \n",
      "__________________________________________________________________________________________________\n",
      "dropout_201 (Dropout)           (None, 100)          0           leaky_re_lu_317[0][0]            \n",
      "__________________________________________________________________________________________________\n",
      "dropout_205 (Dropout)           (None, 100)          0           leaky_re_lu_321[0][0]            \n",
      "__________________________________________________________________________________________________\n",
      "dropout_209 (Dropout)           (None, 100)          0           leaky_re_lu_325[0][0]            \n",
      "__________________________________________________________________________________________________\n",
      "conv2d_124 (Conv2D)             (None, 250, 21, 2)   74          batch_normalization_v1_386[0][0] \n",
      "__________________________________________________________________________________________________\n",
      "batch_normalization_v1_374 (Bat (None, 100)          400         dropout_201[0][0]                \n",
      "__________________________________________________________________________________________________\n",
      "batch_normalization_v1_378 (Bat (None, 100)          400         dropout_205[0][0]                \n",
      "__________________________________________________________________________________________________\n",
      "batch_normalization_v1_382 (Bat (None, 100)          400         dropout_209[0][0]                \n",
      "__________________________________________________________________________________________________\n",
      "up_sampling2d_37 (UpSampling2D) (None, 500, 21, 2)   0           conv2d_124[0][0]                 \n",
      "__________________________________________________________________________________________________\n",
      "dense_202 (Dense)               (None, 100)          10100       batch_normalization_v1_374[0][0] \n",
      "__________________________________________________________________________________________________\n",
      "dense_206 (Dense)               (None, 100)          10100       batch_normalization_v1_378[0][0] \n",
      "__________________________________________________________________________________________________\n",
      "dense_210 (Dense)               (None, 100)          10100       batch_normalization_v1_382[0][0] \n",
      "__________________________________________________________________________________________________\n",
      "leaky_re_lu_329 (LeakyReLU)     (None, 500, 21, 2)   0           up_sampling2d_37[0][0]           \n",
      "__________________________________________________________________________________________________\n",
      "leaky_re_lu_318 (LeakyReLU)     (None, 100)          0           dense_202[0][0]                  \n",
      "__________________________________________________________________________________________________\n",
      "leaky_re_lu_322 (LeakyReLU)     (None, 100)          0           dense_206[0][0]                  \n",
      "__________________________________________________________________________________________________\n",
      "leaky_re_lu_326 (LeakyReLU)     (None, 100)          0           dense_210[0][0]                  \n",
      "__________________________________________________________________________________________________\n",
      "batch_normalization_v1_387 (Bat (None, 500, 21, 2)   8           leaky_re_lu_329[0][0]            \n",
      "__________________________________________________________________________________________________\n",
      "dropout_202 (Dropout)           (None, 100)          0           leaky_re_lu_318[0][0]            \n",
      "__________________________________________________________________________________________________\n",
      "dropout_206 (Dropout)           (None, 100)          0           leaky_re_lu_322[0][0]            \n",
      "__________________________________________________________________________________________________\n",
      "dropout_210 (Dropout)           (None, 100)          0           leaky_re_lu_326[0][0]            \n",
      "__________________________________________________________________________________________________\n",
      "conv2d_125 (Conv2D)             (None, 500, 21, 1)   19          batch_normalization_v1_387[0][0] \n",
      "__________________________________________________________________________________________________\n",
      "batch_normalization_v1_375 (Bat (None, 100)          400         dropout_202[0][0]                \n",
      "__________________________________________________________________________________________________\n",
      "batch_normalization_v1_379 (Bat (None, 100)          400         dropout_206[0][0]                \n",
      "__________________________________________________________________________________________________\n",
      "batch_normalization_v1_383 (Bat (None, 100)          400         dropout_210[0][0]                \n",
      "__________________________________________________________________________________________________\n",
      "up_sampling2d_38 (UpSampling2D) (None, 1000, 21, 1)  0           conv2d_125[0][0]                 \n",
      "__________________________________________________________________________________________________\n",
      "dense_203 (Dense)               (None, 100)          10100       batch_normalization_v1_375[0][0] \n",
      "__________________________________________________________________________________________________\n",
      "dense_207 (Dense)               (None, 100)          10100       batch_normalization_v1_379[0][0] \n",
      "__________________________________________________________________________________________________\n",
      "dense_211 (Dense)               (None, 100)          10100       batch_normalization_v1_383[0][0] \n",
      "__________________________________________________________________________________________________\n",
      "leaky_re_lu_330 (LeakyReLU)     (None, 1000, 21, 1)  0           up_sampling2d_38[0][0]           \n",
      "__________________________________________________________________________________________________\n",
      "leaky_re_lu_319 (LeakyReLU)     (None, 100)          0           dense_203[0][0]                  \n",
      "__________________________________________________________________________________________________\n",
      "leaky_re_lu_323 (LeakyReLU)     (None, 100)          0           dense_207[0][0]                  \n",
      "__________________________________________________________________________________________________\n",
      "leaky_re_lu_327 (LeakyReLU)     (None, 100)          0           dense_211[0][0]                  \n",
      "__________________________________________________________________________________________________\n",
      "conv2d_126 (Conv2D)             (None, 1000, 21, 1)  10          leaky_re_lu_330[0][0]            \n",
      "__________________________________________________________________________________________________\n",
      "dropout_203 (Dropout)           (None, 100)          0           leaky_re_lu_319[0][0]            \n",
      "__________________________________________________________________________________________________\n",
      "dropout_207 (Dropout)           (None, 100)          0           leaky_re_lu_323[0][0]            \n",
      "__________________________________________________________________________________________________\n",
      "dropout_211 (Dropout)           (None, 100)          0           leaky_re_lu_327[0][0]            \n",
      "__________________________________________________________________________________________________\n",
      "leaky_re_lu_331 (LeakyReLU)     (None, 1000, 21, 1)  0           conv2d_126[0][0]                 \n",
      "__________________________________________________________________________________________________\n",
      "detect (Dense)                  (None, 2)            202         dropout_203[0][0]                \n",
      "__________________________________________________________________________________________________\n",
      "classify (Dense)                (None, 4)            404         dropout_207[0][0]                \n",
      "__________________________________________________________________________________________________\n",
      "montage (Dense)                 (None, 22)           2222        dropout_211[0][0]                \n",
      "__________________________________________________________________________________________________\n",
      "decode (Reshape)                (None, 1000, 21, 1)  0           leaky_re_lu_331[0][0]            \n",
      "==================================================================================================\n",
      "Total params: 1,410,041\n",
      "Trainable params: 1,383,813\n",
      "Non-trainable params: 26,228\n",
      "__________________________________________________________________________________________________\n"
     ]
    }
   ],
   "source": [
    "model.summary()"
   ]
  },
  {
   "cell_type": "code",
   "execution_count": null,
   "metadata": {},
   "outputs": [
    {
     "name": "stdout",
     "output_type": "stream",
     "text": [
      "Epoch 1/100\n",
      "600/600 [==============================] - 235s 392ms/step - loss: 233.2290 - detect_loss: 0.8793 - classify_loss: 1.9082 - montage_loss: 0.8166 - decode_loss: 229.6249 - detect_acc: 0.5825 - detect_f1: 0.5265 - detect_sensitivity: 0.4736 - detect_specificity: 0.5701 - classify_acc: 0.2454 - montage_binary_accuracy: 0.5390 - val_loss: 9727.1349 - val_detect_loss: 0.5636 - val_classify_loss: 1.3468 - val_montage_loss: 0.6233 - val_decode_loss: 9724.6025 - val_detect_acc: 0.7038 - val_detect_f1: 0.0495 - val_detect_sensitivity: 0.0942 - val_detect_specificity: 0.9379 - val_classify_acc: 0.5195 - val_montage_binary_accuracy: 0.6836\n",
      "Epoch 2/100\n",
      "600/600 [==============================] - 194s 324ms/step - loss: 195.4683 - detect_loss: 0.7522 - classify_loss: 1.6106 - montage_loss: 0.7551 - decode_loss: 192.3504 - detect_acc: 0.6524 - detect_f1: 0.6239 - detect_sensitivity: 0.5863 - detect_specificity: 0.6367 - classify_acc: 0.3295 - montage_binary_accuracy: 0.5751 - val_loss: 17359.5327 - val_detect_loss: 0.3473 - val_classify_loss: 0.6883 - val_montage_loss: 0.4528 - val_decode_loss: 17358.0410 - val_detect_acc: 0.8605 - val_detect_f1: 0.0466 - val_detect_sensitivity: 0.0468 - val_detect_specificity: 0.9637 - val_classify_acc: 0.8280 - val_montage_binary_accuracy: 0.8553\n",
      "Epoch 3/100\n",
      "600/600 [==============================] - 196s 326ms/step - loss: 218.1771 - detect_loss: 0.6578 - classify_loss: 1.3829 - montage_loss: 0.7073 - decode_loss: 215.4292 - detect_acc: 0.7018 - detect_f1: 0.6849 - detect_sensitivity: 0.6586 - detect_specificity: 0.6872 - classify_acc: 0.4181 - montage_binary_accuracy: 0.6046 - val_loss: 11286.5712 - val_detect_loss: 0.6346 - val_classify_loss: 1.0186 - val_montage_loss: 0.5403 - val_decode_loss: 11284.3730 - val_detect_acc: 0.6965 - val_detect_f1: 0.0837 - val_detect_sensitivity: 0.1232 - val_detect_specificity: 0.8810 - val_classify_acc: 0.6683 - val_montage_binary_accuracy: 0.7362\n",
      "Epoch 4/100\n",
      "600/600 [==============================] - 193s 322ms/step - loss: 219.9181 - detect_loss: 0.6961 - classify_loss: 1.3445 - montage_loss: 0.6719 - decode_loss: 217.2054 - detect_acc: 0.6872 - detect_f1: 0.6761 - detect_sensitivity: 0.6618 - detect_specificity: 0.6786 - classify_acc: 0.4471 - montage_binary_accuracy: 0.6262 - val_loss: 17116.7746 - val_detect_loss: 0.3472 - val_classify_loss: 0.5452 - val_montage_loss: 0.3660 - val_decode_loss: 17115.5117 - val_detect_acc: 0.8606 - val_detect_f1: 0.0527 - val_detect_sensitivity: 0.0544 - val_detect_specificity: 0.9655 - val_classify_acc: 0.8616 - val_montage_binary_accuracy: 0.9045\n",
      "Epoch 5/100\n",
      "600/600 [==============================] - 198s 330ms/step - loss: 190.2009 - detect_loss: 0.5813 - classify_loss: 1.1438 - montage_loss: 0.6222 - decode_loss: 187.8536 - detect_acc: 0.7435 - detect_f1: 0.7351 - detect_sensitivity: 0.7202 - detect_specificity: 0.7312 - classify_acc: 0.5201 - montage_binary_accuracy: 0.6618 - val_loss: 6701.4136 - val_detect_loss: 0.7044 - val_classify_loss: 0.9381 - val_montage_loss: 0.4622 - val_decode_loss: 6699.3091 - val_detect_acc: 0.6675 - val_detect_f1: 0.0810 - val_detect_sensitivity: 0.1239 - val_detect_specificity: 0.8799 - val_classify_acc: 0.6768 - val_montage_binary_accuracy: 0.7499\n",
      "Epoch 6/100\n",
      "600/600 [==============================] - 197s 328ms/step - loss: 188.6260 - detect_loss: 0.5771 - classify_loss: 1.1101 - montage_loss: 0.5993 - decode_loss: 186.3393 - detect_acc: 0.7516 - detect_f1: 0.7508 - detect_sensitivity: 0.7504 - detect_specificity: 0.7470 - classify_acc: 0.5564 - montage_binary_accuracy: 0.6736 - val_loss: 22382.7276 - val_detect_loss: 0.4380 - val_classify_loss: 0.5894 - val_montage_loss: 0.3084 - val_decode_loss: 22381.3926 - val_detect_acc: 0.8248 - val_detect_f1: 0.0576 - val_detect_sensitivity: 0.0676 - val_detect_specificity: 0.9397 - val_classify_acc: 0.8388 - val_montage_binary_accuracy: 0.8770\n",
      "Epoch 7/100\n",
      "600/600 [==============================] - 198s 330ms/step - loss: 222.6884 - detect_loss: 0.5861 - classify_loss: 1.0985 - montage_loss: 0.5825 - decode_loss: 220.4212 - detect_acc: 0.7513 - detect_f1: 0.7507 - detect_sensitivity: 0.7514 - detect_specificity: 0.7463 - classify_acc: 0.5589 - montage_binary_accuracy: 0.6882 - val_loss: 6735.2124 - val_detect_loss: 0.6583 - val_classify_loss: 0.7559 - val_montage_loss: 0.3841 - val_decode_loss: 6733.4141 - val_detect_acc: 0.6773 - val_detect_f1: 0.0581 - val_detect_sensitivity: 0.0939 - val_detect_specificity: 0.9138 - val_classify_acc: 0.7198 - val_montage_binary_accuracy: 0.8141\n",
      "Epoch 8/100\n",
      "600/600 [==============================] - 195s 325ms/step - loss: 176.0602 - detect_loss: 0.5099 - classify_loss: 0.9711 - montage_loss: 0.5491 - decode_loss: 174.0301 - detect_acc: 0.7859 - detect_f1: 0.7852 - detect_sensitivity: 0.7935 - detect_specificity: 0.7900 - classify_acc: 0.5968 - montage_binary_accuracy: 0.7100 - val_loss: 8343.6964 - val_detect_loss: 0.4287 - val_classify_loss: 0.5413 - val_montage_loss: 0.2948 - val_decode_loss: 8342.4248 - val_detect_acc: 0.8307 - val_detect_f1: 0.0668 - val_detect_sensitivity: 0.0810 - val_detect_specificity: 0.9177 - val_classify_acc: 0.8522 - val_montage_binary_accuracy: 0.8891\n",
      "Epoch 9/100\n",
      "600/600 [==============================] - 195s 325ms/step - loss: 185.3115 - detect_loss: 0.5071 - classify_loss: 0.9646 - montage_loss: 0.5349 - decode_loss: 183.3051 - detect_acc: 0.7877 - detect_f1: 0.7879 - detect_sensitivity: 0.7933 - detect_specificity: 0.7881 - classify_acc: 0.6155 - montage_binary_accuracy: 0.7162 - val_loss: 18297.9823 - val_detect_loss: 0.7017 - val_classify_loss: 0.7636 - val_montage_loss: 0.3485 - val_decode_loss: 18296.1738 - val_detect_acc: 0.6774 - val_detect_f1: 0.0647 - val_detect_sensitivity: 0.0828 - val_detect_specificity: 0.9108 - val_classify_acc: 0.7063 - val_montage_binary_accuracy: 0.8023\n",
      "Epoch 10/100\n",
      "600/600 [==============================] - 200s 333ms/step - loss: 182.1818 - detect_loss: 0.5560 - classify_loss: 0.9961 - montage_loss: 0.5331 - decode_loss: 180.0966 - detect_acc: 0.7746 - detect_f1: 0.7758 - detect_sensitivity: 0.7848 - detect_specificity: 0.7778 - classify_acc: 0.6087 - montage_binary_accuracy: 0.7244 - val_loss: 10126.4013 - val_detect_loss: 0.3507 - val_classify_loss: 0.4069 - val_montage_loss: 0.2732 - val_decode_loss: 10125.3662 - val_detect_acc: 0.8758 - val_detect_f1: 0.0428 - val_detect_sensitivity: 0.0519 - val_detect_specificity: 0.9355 - val_classify_acc: 0.8951 - val_montage_binary_accuracy: 0.9248\n",
      "Epoch 11/100\n",
      "600/600 [==============================] - 195s 325ms/step - loss: 201.6953 - detect_loss: 0.5015 - classify_loss: 0.9255 - montage_loss: 0.5167 - decode_loss: 199.7517 - detect_acc: 0.7942 - detect_f1: 0.7934 - detect_sensitivity: 0.7978 - detect_specificity: 0.7936 - classify_acc: 0.6269 - montage_binary_accuracy: 0.7317 - val_loss: 18516.7179 - val_detect_loss: 0.5173 - val_classify_loss: 0.5187 - val_montage_loss: 0.2505 - val_decode_loss: 18515.4375 - val_detect_acc: 0.7664 - val_detect_f1: 0.0590 - val_detect_sensitivity: 0.0557 - val_detect_specificity: 0.9274 - val_classify_acc: 0.7925 - val_montage_binary_accuracy: 0.8812\n",
      "Epoch 12/100\n",
      "600/600 [==============================] - 196s 327ms/step - loss: 167.5362 - detect_loss: 0.5774 - classify_loss: 0.9593 - montage_loss: 0.5112 - decode_loss: 165.4883 - detect_acc: 0.7580 - detect_f1: 0.7539 - detect_sensitivity: 0.7507 - detect_specificity: 0.7533 - classify_acc: 0.6027 - montage_binary_accuracy: 0.7450 - val_loss: 9190.2943 - val_detect_loss: 0.4581 - val_classify_loss: 0.4942 - val_montage_loss: 0.2807 - val_decode_loss: 9189.0654 - val_detect_acc: 0.8135 - val_detect_f1: 0.0574 - val_detect_sensitivity: 0.0873 - val_detect_specificity: 0.9332 - val_classify_acc: 0.8508 - val_montage_binary_accuracy: 0.9079\n",
      "Epoch 13/100\n",
      "599/600 [============================>.] - ETA: 0s - loss: 182.8850 - detect_loss: 0.5135 - classify_loss: 0.9190 - montage_loss: 0.5048 - decode_loss: 180.9477 - detect_acc: 0.7868 - detect_f1: 0.7873 - detect_sensitivity: 0.7920 - detect_specificity: 0.7856 - classify_acc: 0.6264 - montage_binary_accuracy: 0.7403"
     ]
    }
   ],
   "source": [
    "from keras_models.metrics import f1, sensitivity, specificity\n",
    "model.compile(tf.keras.optimizers.Adam(lr=0.00001), loss=[\"categorical_crossentropy\", \"categorical_crossentropy\", \"binary_crossentropy\", \"mean_squared_error\"], metrics={\"detect\":[\"accuracy\", f1, sensitivity, specificity], \"classify\":[\"accuracy\"], \"montage\":[\"binary_accuracy\"]})\n",
    "batch_size=64\n",
    "history = model.fit(train_data, steps_per_epoch=(600), validation_data=valid_data, validation_steps=(600), epochs=100, callbacks=[tf.keras.callbacks.EarlyStopping(monitor=\"val_detect_f1\", mode=\"max\", patience=10)])"
   ]
  },
  {
   "cell_type": "code",
   "execution_count": null,
   "metadata": {},
   "outputs": [],
   "source": [
    "import pickle as pkl\n",
    "try:\n",
    "    pkl.dump(history.history, open(\"/n/scratch2/ms994/history.pkl\", \"rb\"))\n",
    "except:\n",
    "    print(\"whoops\")"
   ]
  },
  {
   "cell_type": "code",
   "execution_count": 5,
   "metadata": {},
   "outputs": [
    {
     "ename": "FileNotFoundError",
     "evalue": "[Errno 2] No such file or directory: '/n/scratch2/ms994/history.pkl'",
     "output_type": "error",
     "traceback": [
      "\u001b[0;31m---------------------------------------------------------------------------\u001b[0m",
      "\u001b[0;31mFileNotFoundError\u001b[0m                         Traceback (most recent call last)",
      "\u001b[0;32m<ipython-input-5-1243ba6a72de>\u001b[0m in \u001b[0;36m<module>\u001b[0;34m\u001b[0m\n\u001b[1;32m      1\u001b[0m \u001b[0;32mimport\u001b[0m \u001b[0mpickle\u001b[0m \u001b[0;32mas\u001b[0m \u001b[0mpkl\u001b[0m\u001b[0;34m\u001b[0m\u001b[0;34m\u001b[0m\u001b[0m\n\u001b[0;32m----> 2\u001b[0;31m \u001b[0mhistory\u001b[0m \u001b[0;34m=\u001b[0m \u001b[0mpkl\u001b[0m\u001b[0;34m.\u001b[0m\u001b[0mload\u001b[0m\u001b[0;34m(\u001b[0m\u001b[0mopen\u001b[0m\u001b[0;34m(\u001b[0m\u001b[0;34m\"/n/scratch2/ms994/history.pkl\"\u001b[0m\u001b[0;34m,\u001b[0m \u001b[0;34m\"rb\"\u001b[0m\u001b[0;34m)\u001b[0m\u001b[0;34m)\u001b[0m\u001b[0;34m\u001b[0m\u001b[0;34m\u001b[0m\u001b[0m\n\u001b[0m",
      "\u001b[0;31mFileNotFoundError\u001b[0m: [Errno 2] No such file or directory: '/n/scratch2/ms994/history.pkl'"
     ]
    }
   ],
   "source": [
    "import pickle as pkl\n",
    "history = pkl.load(open(\"/n/scratch2/ms994/history.pkl\", \"rb\"))"
   ]
  },
  {
   "cell_type": "markdown",
   "metadata": {},
   "source": [
    "# try all the regularization! :D"
   ]
  },
  {
   "cell_type": "code",
   "execution_count": 10,
   "metadata": {},
   "outputs": [],
   "source": [
    "num_cnn_layers = 3\n",
    "num_lstm_layers = 2\n",
    "num_lin_layers= 4\n",
    "inputLayer = tf.keras.layers.Input((1000,21, 1))\n",
    "x = inputLayer\n",
    "\n",
    "x = tf.keras.layers.GaussianNoise(2)(x)\n",
    "for i in range(num_cnn_layers):\n",
    "    x = tf.keras.layers.BatchNormalization()(x)\n",
    "    x = tf.keras.layers.Conv2D(2**i, (3,3), padding=\"same\", kernel_regularizer=tf.keras.regularizers.L1L2(l1=0.01))(x)\n",
    "    x = tf.keras.layers.LeakyReLU()(x)\n",
    "    x = tf.keras.layers.MaxPool2D((2,1))(x)\n",
    "old_x_shape = (x).get_shape().as_list()\n",
    "x = tf.keras.layers.Reshape((int(x.shape[1]), int(x.shape[2]) * int(x.shape[3])), name=\"LSTM_Reshape\")(x)\n",
    "for j in range(num_lstm_layers):\n",
    "    x = tf.keras.layers.TimeDistributed(tf.keras.layers.BatchNormalization())(x)\n",
    "    x = tf.keras.layers.CuDNNLSTM(32, return_sequences=True, kernel_regularizer=tf.keras.regularizers.L1L2(l1=0.01))(x)\n",
    "\n",
    "x_shared = x\n",
    "x = tf.keras.layers.Flatten(name=\"flatten_encoder_lstm\")(x)\n",
    "x_shared_flattened = x\n",
    "\n",
    "#seizure detect\n",
    "x = x_shared_flattened \n",
    "for k in range(num_lin_layers):\n",
    "    x = tf.keras.layers.BatchNormalization()(x)\n",
    "    x = tf.keras.layers.Dense(100)(x)\n",
    "    x = tf.keras.layers.LeakyReLU()(x)\n",
    "    x = tf.keras.layers.Dropout(0.5)(x)\n",
    "x_detect = tf.keras.layers.Dense(2, name=\"detect\", activation=\"softmax\")(x)\n",
    "\n",
    "\n",
    "#seizure classify\n",
    "x = x_shared_flattened \n",
    "for k in range(num_lin_layers):\n",
    "    x = tf.keras.layers.BatchNormalization()(x)\n",
    "    x = tf.keras.layers.Dense(100)(x)\n",
    "    x = tf.keras.layers.LeakyReLU()(x)\n",
    "    x = tf.keras.layers.Dropout(0.5)(x)\n",
    "x_classify = tf.keras.layers.Dense(4, name=\"classify\", activation=\"softmax\")(x)\n",
    "\n",
    "#montage classify\n",
    "x = x_shared_flattened \n",
    "for k in range(num_lin_layers):\n",
    "    x = tf.keras.layers.BatchNormalization()(x)\n",
    "    x = tf.keras.layers.Dense(100)(x)\n",
    "    x = tf.keras.layers.LeakyReLU()(x)\n",
    "    x = tf.keras.layers.Dropout(0.5)(x)\n",
    "x_montage = tf.keras.layers.Dense(22, name=\"montage\", activation=\"sigmoid\")(x)\n",
    "\n",
    "#decoder\n",
    "x = x_shared\n",
    "x = tf.keras.layers.CuDNNLSTM(old_x_shape[2]*old_x_shape[3], return_sequences=True, name=\"lstm_decode\")(x)\n",
    "x = tf.keras.layers.BatchNormalization()(x)\n",
    "x = tf.keras.layers.Reshape(old_x_shape[1:], name=\"reshape_decode\")(x)\n",
    "for i in range(num_cnn_layers):\n",
    "    x = tf.keras.layers.BatchNormalization()(x)\n",
    "    x = tf.keras.layers.Conv2D(2**(2-i), (3,3), padding=\"same\")(x)\n",
    "    x = tf.keras.layers.UpSampling2D((2,1))(x)\n",
    "    x = tf.keras.layers.LeakyReLU()(x)\n",
    "x = tf.keras.layers.Conv2D(1, (3,3), padding=\"same\")(x)\n",
    "x = tf.keras.layers.LeakyReLU()(x)\n",
    "\n",
    "x_decode = tf.keras.layers.Reshape((int(x.shape[1]), int(x.shape[2]), int(x.shape[3])), name=\"decode\")(x)\n",
    "\n",
    "model = tf.keras.Model(inputs=inputLayer, outputs=[x_detect, x_classify, x_montage, x_decode])"
   ]
  },
  {
   "cell_type": "code",
   "execution_count": 11,
   "metadata": {},
   "outputs": [
    {
     "name": "stdout",
     "output_type": "stream",
     "text": [
      "WARNING:tensorflow:From /home/ms994/miniconda3/envs/keras-redo/lib/python3.7/site-packages/tensorflow/python/keras/utils/losses_utils.py:170: to_float (from tensorflow.python.ops.math_ops) is deprecated and will be removed in a future version.\n",
      "Instructions for updating:\n",
      "Use tf.cast instead.\n"
     ]
    },
    {
     "name": "stderr",
     "output_type": "stream",
     "text": [
      "WARNING:tensorflow:From /home/ms994/miniconda3/envs/keras-redo/lib/python3.7/site-packages/tensorflow/python/keras/utils/losses_utils.py:170: to_float (from tensorflow.python.ops.math_ops) is deprecated and will be removed in a future version.\n",
      "Instructions for updating:\n",
      "Use tf.cast instead.\n"
     ]
    },
    {
     "name": "stdout",
     "output_type": "stream",
     "text": [
      "WARNING:tensorflow:From /home/ms994/miniconda3/envs/keras-redo/lib/python3.7/site-packages/tensorflow/python/ops/math_ops.py:3066: to_int32 (from tensorflow.python.ops.math_ops) is deprecated and will be removed in a future version.\n",
      "Instructions for updating:\n",
      "Use tf.cast instead.\n"
     ]
    },
    {
     "name": "stderr",
     "output_type": "stream",
     "text": [
      "WARNING:tensorflow:From /home/ms994/miniconda3/envs/keras-redo/lib/python3.7/site-packages/tensorflow/python/ops/math_ops.py:3066: to_int32 (from tensorflow.python.ops.math_ops) is deprecated and will be removed in a future version.\n",
      "Instructions for updating:\n",
      "Use tf.cast instead.\n"
     ]
    },
    {
     "name": "stdout",
     "output_type": "stream",
     "text": [
      "Epoch 1/100\n",
      "600/600 [==============================] - 83s 139ms/step - loss: 243.5788 - detect_loss: 0.9359 - classify_loss: 1.7769 - montage_loss: 0.8351 - decode_loss: 227.0840 - detect_acc: 0.5849 - detect_f1: 0.5336 - detect_sensitivity: 0.4886 - detect_specificity: 0.5771 - classify_acc: 0.3046 - montage_binary_accuracy: 0.5220 - val_loss: 9739.1744 - val_detect_loss: 0.5855 - val_classify_loss: 0.9700 - val_montage_loss: 0.6061 - val_decode_loss: 9724.2422 - val_detect_acc: 0.6973 - val_detect_f1: 0.0497 - val_detect_sensitivity: 0.0863 - val_detect_specificity: 0.9388 - val_classify_acc: 0.6655 - val_montage_binary_accuracy: 0.7241\n",
      "Epoch 2/100\n",
      "600/600 [==============================] - 73s 122ms/step - loss: 208.0871 - detect_loss: 0.8182 - classify_loss: 1.5491 - montage_loss: 0.7832 - decode_loss: 192.3384 - detect_acc: 0.6397 - detect_f1: 0.6114 - detect_sensitivity: 0.5812 - detect_specificity: 0.6302 - classify_acc: 0.3881 - montage_binary_accuracy: 0.5526 - val_loss: 17371.0631 - val_detect_loss: 0.3383 - val_classify_loss: 0.5326 - val_montage_loss: 0.4489 - val_decode_loss: 17357.3164 - val_detect_acc: 0.8496 - val_detect_f1: 0.0450 - val_detect_sensitivity: 0.0537 - val_detect_specificity: 0.9599 - val_classify_acc: 0.8409 - val_montage_binary_accuracy: 0.8855\n",
      "Epoch 3/100\n",
      "600/600 [==============================] - 74s 124ms/step - loss: 230.2470 - detect_loss: 0.6889 - classify_loss: 1.3273 - montage_loss: 0.7269 - decode_loss: 215.2627 - detect_acc: 0.6921 - detect_f1: 0.6783 - detect_sensitivity: 0.6571 - detect_specificity: 0.6787 - classify_acc: 0.4618 - montage_binary_accuracy: 0.5898 - val_loss: 11299.3246 - val_detect_loss: 0.6828 - val_classify_loss: 0.7950 - val_montage_loss: 0.5083 - val_decode_loss: 11285.2783 - val_detect_acc: 0.6757 - val_detect_f1: 0.0738 - val_detect_sensitivity: 0.1073 - val_detect_specificity: 0.8811 - val_classify_acc: 0.7063 - val_montage_binary_accuracy: 0.8148\n",
      "Epoch 4/100\n",
      "600/600 [==============================] - 73s 122ms/step - loss: 233.9196 - detect_loss: 0.7921 - classify_loss: 1.3789 - montage_loss: 0.6983 - decode_loss: 219.1577 - detect_acc: 0.6504 - detect_f1: 0.6390 - detect_sensitivity: 0.6320 - detect_specificity: 0.6486 - classify_acc: 0.4429 - montage_binary_accuracy: 0.6087 - val_loss: 17128.7036 - val_detect_loss: 0.3250 - val_classify_loss: 0.4550 - val_montage_loss: 0.3474 - val_decode_loss: 17115.8535 - val_detect_acc: 0.8790 - val_detect_f1: 0.0599 - val_detect_sensitivity: 0.0597 - val_detect_specificity: 0.9583 - val_classify_acc: 0.8896 - val_montage_binary_accuracy: 0.9235\n",
      "Epoch 5/100\n",
      "600/600 [==============================] - 75s 125ms/step - loss: 203.2480 - detect_loss: 0.6294 - classify_loss: 1.1876 - montage_loss: 0.6421 - decode_loss: 189.2213 - detect_acc: 0.7205 - detect_f1: 0.7139 - detect_sensitivity: 0.7053 - detect_specificity: 0.7135 - classify_acc: 0.5204 - montage_binary_accuracy: 0.6512 - val_loss: 6715.1129 - val_detect_loss: 0.6605 - val_classify_loss: 0.6912 - val_montage_loss: 0.4142 - val_decode_loss: 6701.9360 - val_detect_acc: 0.6925 - val_detect_f1: 0.0733 - val_detect_sensitivity: 0.1106 - val_detect_specificity: 0.8917 - val_classify_acc: 0.7414 - val_montage_binary_accuracy: 0.8107\n",
      "Epoch 6/100\n",
      "600/600 [==============================] - 73s 122ms/step - loss: 202.1528 - detect_loss: 0.6153 - classify_loss: 1.1063 - montage_loss: 0.6141 - decode_loss: 188.5607 - detect_acc: 0.7284 - detect_f1: 0.7282 - detect_sensitivity: 0.7342 - detect_specificity: 0.7295 - classify_acc: 0.5509 - montage_binary_accuracy: 0.6671 - val_loss: 22394.7292 - val_detect_loss: 0.4271 - val_classify_loss: 0.4882 - val_montage_loss: 0.2665 - val_decode_loss: 22382.4473 - val_detect_acc: 0.8378 - val_detect_f1: 0.0647 - val_detect_sensitivity: 0.0676 - val_detect_specificity: 0.9390 - val_classify_acc: 0.8551 - val_montage_binary_accuracy: 0.9075\n",
      "Epoch 7/100\n",
      "600/600 [==============================] - 74s 124ms/step - loss: 234.5041 - detect_loss: 0.6423 - classify_loss: 1.1154 - montage_loss: 0.5969 - decode_loss: 221.1868 - detect_acc: 0.7219 - detect_f1: 0.7196 - detect_sensitivity: 0.7250 - detect_specificity: 0.7244 - classify_acc: 0.5497 - montage_binary_accuracy: 0.6823 - val_loss: 6750.1501 - val_detect_loss: 0.6611 - val_classify_loss: 0.6377 - val_montage_loss: 0.3341 - val_decode_loss: 6737.6948 - val_detect_acc: 0.6839 - val_detect_f1: 0.0436 - val_detect_sensitivity: 0.0748 - val_detect_specificity: 0.9082 - val_classify_acc: 0.7569 - val_montage_binary_accuracy: 0.8675\n",
      "Epoch 8/100\n",
      "520/600 [=========================>....] - ETA: 8s - loss: 196.2112 - detect_loss: 0.5230 - classify_loss: 0.9564 - montage_loss: 0.5552 - decode_loss: 183.4747 - detect_acc: 0.7804 - detect_f1: 0.7791 - detect_sensitivity: 0.7885 - detect_specificity: 0.7860 - classify_acc: 0.6030 - montage_binary_accuracy: 0.7087"
     ]
    },
    {
     "ename": "KeyboardInterrupt",
     "evalue": "",
     "output_type": "error",
     "traceback": [
      "\u001b[0;31m---------------------------------------------------------------------------\u001b[0m",
      "\u001b[0;31mKeyboardInterrupt\u001b[0m                         Traceback (most recent call last)",
      "\u001b[0;32m<ipython-input-11-c54492f4ccee>\u001b[0m in \u001b[0;36m<module>\u001b[0;34m\u001b[0m\n\u001b[1;32m      2\u001b[0m \u001b[0mmodel\u001b[0m\u001b[0;34m.\u001b[0m\u001b[0mcompile\u001b[0m\u001b[0;34m(\u001b[0m\u001b[0mtf\u001b[0m\u001b[0;34m.\u001b[0m\u001b[0mkeras\u001b[0m\u001b[0;34m.\u001b[0m\u001b[0moptimizers\u001b[0m\u001b[0;34m.\u001b[0m\u001b[0mAdam\u001b[0m\u001b[0;34m(\u001b[0m\u001b[0mlr\u001b[0m\u001b[0;34m=\u001b[0m\u001b[0;36m0.00001\u001b[0m\u001b[0;34m)\u001b[0m\u001b[0;34m,\u001b[0m \u001b[0mloss\u001b[0m\u001b[0;34m=\u001b[0m\u001b[0;34m[\u001b[0m\u001b[0;34m\"categorical_crossentropy\"\u001b[0m\u001b[0;34m,\u001b[0m \u001b[0;34m\"categorical_crossentropy\"\u001b[0m\u001b[0;34m,\u001b[0m \u001b[0;34m\"binary_crossentropy\"\u001b[0m\u001b[0;34m,\u001b[0m \u001b[0;34m\"mean_squared_error\"\u001b[0m\u001b[0;34m]\u001b[0m\u001b[0;34m,\u001b[0m \u001b[0mmetrics\u001b[0m\u001b[0;34m=\u001b[0m\u001b[0;34m{\u001b[0m\u001b[0;34m\"detect\"\u001b[0m\u001b[0;34m:\u001b[0m\u001b[0;34m[\u001b[0m\u001b[0;34m\"accuracy\"\u001b[0m\u001b[0;34m,\u001b[0m \u001b[0mf1\u001b[0m\u001b[0;34m,\u001b[0m \u001b[0msensitivity\u001b[0m\u001b[0;34m,\u001b[0m \u001b[0mspecificity\u001b[0m\u001b[0;34m]\u001b[0m\u001b[0;34m,\u001b[0m \u001b[0;34m\"classify\"\u001b[0m\u001b[0;34m:\u001b[0m\u001b[0;34m[\u001b[0m\u001b[0;34m\"accuracy\"\u001b[0m\u001b[0;34m]\u001b[0m\u001b[0;34m,\u001b[0m \u001b[0;34m\"montage\"\u001b[0m\u001b[0;34m:\u001b[0m\u001b[0;34m[\u001b[0m\u001b[0;34m\"binary_accuracy\"\u001b[0m\u001b[0;34m]\u001b[0m\u001b[0;34m}\u001b[0m\u001b[0;34m)\u001b[0m\u001b[0;34m\u001b[0m\u001b[0;34m\u001b[0m\u001b[0m\n\u001b[1;32m      3\u001b[0m \u001b[0mbatch_size\u001b[0m\u001b[0;34m=\u001b[0m\u001b[0;36m64\u001b[0m\u001b[0;34m\u001b[0m\u001b[0;34m\u001b[0m\u001b[0m\n\u001b[0;32m----> 4\u001b[0;31m \u001b[0mhistory\u001b[0m \u001b[0;34m=\u001b[0m \u001b[0mmodel\u001b[0m\u001b[0;34m.\u001b[0m\u001b[0mfit\u001b[0m\u001b[0;34m(\u001b[0m\u001b[0mtrain_data\u001b[0m\u001b[0;34m,\u001b[0m \u001b[0msteps_per_epoch\u001b[0m\u001b[0;34m=\u001b[0m\u001b[0;34m(\u001b[0m\u001b[0;36m600\u001b[0m\u001b[0;34m)\u001b[0m\u001b[0;34m,\u001b[0m \u001b[0mvalidation_data\u001b[0m\u001b[0;34m=\u001b[0m\u001b[0mvalid_data\u001b[0m\u001b[0;34m,\u001b[0m \u001b[0mvalidation_steps\u001b[0m\u001b[0;34m=\u001b[0m\u001b[0;34m(\u001b[0m\u001b[0;36m600\u001b[0m\u001b[0;34m)\u001b[0m\u001b[0;34m,\u001b[0m \u001b[0mepochs\u001b[0m\u001b[0;34m=\u001b[0m\u001b[0;36m100\u001b[0m\u001b[0;34m,\u001b[0m \u001b[0mcallbacks\u001b[0m\u001b[0;34m=\u001b[0m\u001b[0;34m[\u001b[0m\u001b[0mtf\u001b[0m\u001b[0;34m.\u001b[0m\u001b[0mkeras\u001b[0m\u001b[0;34m.\u001b[0m\u001b[0mcallbacks\u001b[0m\u001b[0;34m.\u001b[0m\u001b[0mEarlyStopping\u001b[0m\u001b[0;34m(\u001b[0m\u001b[0mmonitor\u001b[0m\u001b[0;34m=\u001b[0m\u001b[0;34m\"val_detect_f1\"\u001b[0m\u001b[0;34m,\u001b[0m \u001b[0mmode\u001b[0m\u001b[0;34m=\u001b[0m\u001b[0;34m\"max\"\u001b[0m\u001b[0;34m,\u001b[0m \u001b[0mpatience\u001b[0m\u001b[0;34m=\u001b[0m\u001b[0;36m10\u001b[0m\u001b[0;34m)\u001b[0m\u001b[0;34m]\u001b[0m\u001b[0;34m)\u001b[0m\u001b[0;34m\u001b[0m\u001b[0;34m\u001b[0m\u001b[0m\n\u001b[0m",
      "\u001b[0;32m~/miniconda3/envs/keras-redo/lib/python3.7/site-packages/tensorflow/python/keras/engine/training.py\u001b[0m in \u001b[0;36mfit\u001b[0;34m(self, x, y, batch_size, epochs, verbose, callbacks, validation_split, validation_data, shuffle, class_weight, sample_weight, initial_epoch, steps_per_epoch, validation_steps, max_queue_size, workers, use_multiprocessing, **kwargs)\u001b[0m\n\u001b[1;32m    878\u001b[0m           \u001b[0minitial_epoch\u001b[0m\u001b[0;34m=\u001b[0m\u001b[0minitial_epoch\u001b[0m\u001b[0;34m,\u001b[0m\u001b[0;34m\u001b[0m\u001b[0;34m\u001b[0m\u001b[0m\n\u001b[1;32m    879\u001b[0m           \u001b[0msteps_per_epoch\u001b[0m\u001b[0;34m=\u001b[0m\u001b[0msteps_per_epoch\u001b[0m\u001b[0;34m,\u001b[0m\u001b[0;34m\u001b[0m\u001b[0;34m\u001b[0m\u001b[0m\n\u001b[0;32m--> 880\u001b[0;31m           validation_steps=validation_steps)\n\u001b[0m\u001b[1;32m    881\u001b[0m \u001b[0;34m\u001b[0m\u001b[0m\n\u001b[1;32m    882\u001b[0m   def evaluate(self,\n",
      "\u001b[0;32m~/miniconda3/envs/keras-redo/lib/python3.7/site-packages/tensorflow/python/keras/engine/training_arrays.py\u001b[0m in \u001b[0;36mmodel_iteration\u001b[0;34m(model, inputs, targets, sample_weights, batch_size, epochs, verbose, callbacks, val_inputs, val_targets, val_sample_weights, shuffle, initial_epoch, steps_per_epoch, validation_steps, mode, validation_in_fit, **kwargs)\u001b[0m\n\u001b[1;32m    264\u001b[0m           \u001b[0;31m# `ins` can be callable in DistributionStrategy + eager case.\u001b[0m\u001b[0;34m\u001b[0m\u001b[0;34m\u001b[0m\u001b[0;34m\u001b[0m\u001b[0m\n\u001b[1;32m    265\u001b[0m           \u001b[0mactual_inputs\u001b[0m \u001b[0;34m=\u001b[0m \u001b[0mins\u001b[0m\u001b[0;34m(\u001b[0m\u001b[0;34m)\u001b[0m \u001b[0;32mif\u001b[0m \u001b[0mcallable\u001b[0m\u001b[0;34m(\u001b[0m\u001b[0mins\u001b[0m\u001b[0;34m)\u001b[0m \u001b[0;32melse\u001b[0m \u001b[0mins\u001b[0m\u001b[0;34m\u001b[0m\u001b[0;34m\u001b[0m\u001b[0m\n\u001b[0;32m--> 266\u001b[0;31m           \u001b[0mbatch_outs\u001b[0m \u001b[0;34m=\u001b[0m \u001b[0mf\u001b[0m\u001b[0;34m(\u001b[0m\u001b[0mactual_inputs\u001b[0m\u001b[0;34m)\u001b[0m\u001b[0;34m\u001b[0m\u001b[0;34m\u001b[0m\u001b[0m\n\u001b[0m\u001b[1;32m    267\u001b[0m         \u001b[0;32mexcept\u001b[0m \u001b[0merrors\u001b[0m\u001b[0;34m.\u001b[0m\u001b[0mOutOfRangeError\u001b[0m\u001b[0;34m:\u001b[0m\u001b[0;34m\u001b[0m\u001b[0;34m\u001b[0m\u001b[0m\n\u001b[1;32m    268\u001b[0m           logging.warning('Your dataset iterator ran out of data; '\n",
      "\u001b[0;32m~/miniconda3/envs/keras-redo/lib/python3.7/site-packages/tensorflow/python/keras/backend.py\u001b[0m in \u001b[0;36m__call__\u001b[0;34m(self, inputs)\u001b[0m\n\u001b[1;32m   3074\u001b[0m \u001b[0;34m\u001b[0m\u001b[0m\n\u001b[1;32m   3075\u001b[0m     fetched = self._callable_fn(*array_vals,\n\u001b[0;32m-> 3076\u001b[0;31m                                 run_metadata=self.run_metadata)\n\u001b[0m\u001b[1;32m   3077\u001b[0m     \u001b[0mself\u001b[0m\u001b[0;34m.\u001b[0m\u001b[0m_call_fetch_callbacks\u001b[0m\u001b[0;34m(\u001b[0m\u001b[0mfetched\u001b[0m\u001b[0;34m[\u001b[0m\u001b[0;34m-\u001b[0m\u001b[0mlen\u001b[0m\u001b[0;34m(\u001b[0m\u001b[0mself\u001b[0m\u001b[0;34m.\u001b[0m\u001b[0m_fetches\u001b[0m\u001b[0;34m)\u001b[0m\u001b[0;34m:\u001b[0m\u001b[0;34m]\u001b[0m\u001b[0;34m)\u001b[0m\u001b[0;34m\u001b[0m\u001b[0;34m\u001b[0m\u001b[0m\n\u001b[1;32m   3078\u001b[0m     return nest.pack_sequence_as(self._outputs_structure,\n",
      "\u001b[0;32m~/miniconda3/envs/keras-redo/lib/python3.7/site-packages/tensorflow/python/client/session.py\u001b[0m in \u001b[0;36m__call__\u001b[0;34m(self, *args, **kwargs)\u001b[0m\n\u001b[1;32m   1437\u001b[0m           ret = tf_session.TF_SessionRunCallable(\n\u001b[1;32m   1438\u001b[0m               \u001b[0mself\u001b[0m\u001b[0;34m.\u001b[0m\u001b[0m_session\u001b[0m\u001b[0;34m.\u001b[0m\u001b[0m_session\u001b[0m\u001b[0;34m,\u001b[0m \u001b[0mself\u001b[0m\u001b[0;34m.\u001b[0m\u001b[0m_handle\u001b[0m\u001b[0;34m,\u001b[0m \u001b[0margs\u001b[0m\u001b[0;34m,\u001b[0m \u001b[0mstatus\u001b[0m\u001b[0;34m,\u001b[0m\u001b[0;34m\u001b[0m\u001b[0;34m\u001b[0m\u001b[0m\n\u001b[0;32m-> 1439\u001b[0;31m               run_metadata_ptr)\n\u001b[0m\u001b[1;32m   1440\u001b[0m         \u001b[0;32mif\u001b[0m \u001b[0mrun_metadata\u001b[0m\u001b[0;34m:\u001b[0m\u001b[0;34m\u001b[0m\u001b[0;34m\u001b[0m\u001b[0m\n\u001b[1;32m   1441\u001b[0m           \u001b[0mproto_data\u001b[0m \u001b[0;34m=\u001b[0m \u001b[0mtf_session\u001b[0m\u001b[0;34m.\u001b[0m\u001b[0mTF_GetBuffer\u001b[0m\u001b[0;34m(\u001b[0m\u001b[0mrun_metadata_ptr\u001b[0m\u001b[0;34m)\u001b[0m\u001b[0;34m\u001b[0m\u001b[0;34m\u001b[0m\u001b[0m\n",
      "\u001b[0;31mKeyboardInterrupt\u001b[0m: "
     ]
    }
   ],
   "source": [
    "from keras_models.metrics import f1, sensitivity, specificity\n",
    "model.compile(tf.keras.optimizers.Adam(lr=0.00001), loss=[\"categorical_crossentropy\", \"categorical_crossentropy\", \"binary_crossentropy\", \"mean_squared_error\"], metrics={\"detect\":[\"accuracy\", f1, sensitivity, specificity], \"classify\":[\"accuracy\"], \"montage\":[\"binary_accuracy\"]})\n",
    "batch_size=64\n",
    "history = model.fit(train_data, steps_per_epoch=(600), validation_data=valid_data, validation_steps=(600), epochs=100, callbacks=[tf.keras.callbacks.EarlyStopping(monitor=\"val_detect_f1\", mode=\"max\", patience=10)])"
   ]
  },
  {
   "cell_type": "markdown",
   "metadata": {},
   "source": [
    "# Try removing regularization on CNN layers"
   ]
  },
  {
   "cell_type": "code",
   "execution_count": 14,
   "metadata": {},
   "outputs": [],
   "source": [
    "num_cnn_layers = 3\n",
    "num_lstm_layers = 2\n",
    "num_lin_layers= 4\n",
    "inputLayer = tf.keras.layers.Input((1000,21, 1))\n",
    "x = inputLayer\n",
    "\n",
    "x = tf.keras.layers.GaussianNoise(2)(x)\n",
    "for i in range(num_cnn_layers):\n",
    "#     x = tf.keras.layers.BatchNormalization()(x)\n",
    "    x = tf.keras.layers.Conv2D(2**i, (3,3), padding=\"same\")(x)\n",
    "    x = tf.keras.layers.LeakyReLU()(x)\n",
    "    x = tf.keras.layers.MaxPool2D((2,1))(x)\n",
    "old_x_shape = (x).get_shape().as_list()\n",
    "x = tf.keras.layers.Reshape((int(x.shape[1]), int(x.shape[2]) * int(x.shape[3])), name=\"LSTM_Reshape\")(x)\n",
    "for j in range(num_lstm_layers):\n",
    "    x = tf.keras.layers.TimeDistributed(tf.keras.layers.BatchNormalization())(x)\n",
    "    x = tf.keras.layers.CuDNNLSTM(32, return_sequences=True, kernel_regularizer=tf.keras.regularizers.L1L2(l1=0.01))(x)\n",
    "    x = tf.keras.layers.LeakyReLU()(x)\n",
    "x_shared = x\n",
    "x = tf.keras.layers.Flatten(name=\"flatten_encoder_lstm\")(x)\n",
    "x_shared_flattened = x\n",
    "\n",
    "#seizure detect\n",
    "x = x_shared_flattened \n",
    "for k in range(num_lin_layers):\n",
    "    x = tf.keras.layers.BatchNormalization()(x)\n",
    "    x = tf.keras.layers.Dense(100)(x)\n",
    "    x = tf.keras.layers.LeakyReLU()(x)\n",
    "    x = tf.keras.layers.Dropout(0.5)(x)\n",
    "x_detect = tf.keras.layers.Dense(2, name=\"detect\", activation=\"softmax\")(x)\n",
    "\n",
    "\n",
    "#seizure classify\n",
    "x = x_shared_flattened \n",
    "for k in range(num_lin_layers):\n",
    "    x = tf.keras.layers.BatchNormalization()(x)\n",
    "    x = tf.keras.layers.Dense(100)(x)\n",
    "    x = tf.keras.layers.LeakyReLU()(x)\n",
    "    x = tf.keras.layers.Dropout(0.5)(x)\n",
    "x_classify = tf.keras.layers.Dense(4, name=\"classify\", activation=\"softmax\")(x)\n",
    "\n",
    "#montage classify\n",
    "x = x_shared_flattened \n",
    "for k in range(num_lin_layers):\n",
    "    x = tf.keras.layers.BatchNormalization()(x)\n",
    "    x = tf.keras.layers.Dense(100)(x)\n",
    "    x = tf.keras.layers.LeakyReLU()(x)\n",
    "    x = tf.keras.layers.Dropout(0.5)(x)\n",
    "x_montage = tf.keras.layers.Dense(22, name=\"montage\", activation=\"sigmoid\")(x)\n",
    "\n",
    "#decoder\n",
    "x = x_shared\n",
    "x = tf.keras.layers.CuDNNLSTM(old_x_shape[2]*old_x_shape[3], return_sequences=True, name=\"lstm_decode\")(x)\n",
    "x = tf.keras.layers.BatchNormalization()(x)\n",
    "x = tf.keras.layers.Reshape(old_x_shape[1:], name=\"reshape_decode\")(x)\n",
    "for i in range(num_cnn_layers):\n",
    "    x = tf.keras.layers.BatchNormalization()(x)\n",
    "    x = tf.keras.layers.Conv2D(2**(2-i), (3,3), padding=\"same\")(x)\n",
    "    x = tf.keras.layers.UpSampling2D((2,1))(x)\n",
    "    x = tf.keras.layers.LeakyReLU()(x)\n",
    "x = tf.keras.layers.Conv2D(1, (3,3), padding=\"same\")(x)\n",
    "x = tf.keras.layers.LeakyReLU()(x)\n",
    "\n",
    "x_decode = tf.keras.layers.Reshape((int(x.shape[1]), int(x.shape[2]), int(x.shape[3])), name=\"decode\")(x)\n",
    "\n",
    "model = tf.keras.Model(inputs=inputLayer, outputs=[x_detect, x_classify, x_montage, x_decode])"
   ]
  },
  {
   "cell_type": "code",
   "execution_count": 16,
   "metadata": {},
   "outputs": [
    {
     "name": "stdout",
     "output_type": "stream",
     "text": [
      "Epoch 1/100\n",
      "400/400 [==============================] - 61s 152ms/step - loss: 239.3475 - detect_loss: 1.0249 - classify_loss: 1.8496 - montage_loss: 0.8623 - decode_loss: 222.7139 - detect_acc: 0.5598 - detect_f1: 0.6007 - detect_sensitivity: 0.6739 - detect_specificity: 0.5807 - classify_acc: 0.2831 - montage_binary_accuracy: 0.5113 - val_loss: 9739.6119 - val_detect_loss: 0.5643 - val_classify_loss: 1.1782 - val_montage_loss: 0.6640 - val_decode_loss: 9724.3984 - val_detect_acc: 0.6982 - val_detect_f1: 0.0508 - val_detect_sensitivity: 0.0849 - val_detect_specificity: 0.9517 - val_classify_acc: 0.5518 - val_montage_binary_accuracy: 0.6196\n",
      "Epoch 2/100\n",
      "400/400 [==============================] - 65s 162ms/step - loss: 245.4228 - detect_loss: 0.9186 - classify_loss: 1.7101 - montage_loss: 0.8260 - decode_loss: 229.2516 - detect_acc: 0.6019 - detect_f1: 0.6342 - detect_sensitivity: 0.7015 - detect_specificity: 0.6287 - classify_acc: 0.3366 - montage_binary_accuracy: 0.5285 - val_loss: 17371.7843 - val_detect_loss: 0.3255 - val_classify_loss: 0.6922 - val_montage_loss: 0.5548 - val_decode_loss: 17357.5918 - val_detect_acc: 0.8490 - val_detect_f1: 0.0555 - val_detect_sensitivity: 0.0645 - val_detect_specificity: 0.9695 - val_classify_acc: 0.7896 - val_montage_binary_accuracy: 0.7913\n",
      "Epoch 3/100\n",
      "400/400 [==============================] - 54s 134ms/step - loss: 193.3502 - detect_loss: 0.8594 - classify_loss: 1.5958 - montage_loss: 0.7869 - decode_loss: 177.5794 - detect_acc: 0.6263 - detect_f1: 0.6485 - detect_sensitivity: 0.6997 - detect_specificity: 0.6496 - classify_acc: 0.3722 - montage_binary_accuracy: 0.5508 - val_loss: 11300.5155 - val_detect_loss: 0.5353 - val_classify_loss: 0.8527 - val_montage_loss: 0.5669 - val_decode_loss: 11286.1270 - val_detect_acc: 0.7279 - val_detect_f1: 0.0732 - val_detect_sensitivity: 0.0965 - val_detect_specificity: 0.9198 - val_classify_acc: 0.6727 - val_montage_binary_accuracy: 0.7419\n",
      "Epoch 4/100\n",
      "400/400 [==============================] - 53s 132ms/step - loss: 226.3414 - detect_loss: 0.7574 - classify_loss: 1.4322 - montage_loss: 0.7526 - decode_loss: 211.0609 - detect_acc: 0.6737 - detect_f1: 0.6843 - detect_sensitivity: 0.7218 - detect_specificity: 0.6965 - classify_acc: 0.4233 - montage_binary_accuracy: 0.5703 - val_loss: 17130.1220 - val_detect_loss: 0.3408 - val_classify_loss: 0.5998 - val_montage_loss: 0.4411 - val_decode_loss: 17116.4941 - val_detect_acc: 0.8421 - val_detect_f1: 0.0660 - val_detect_sensitivity: 0.0727 - val_detect_specificity: 0.9603 - val_classify_acc: 0.7957 - val_montage_binary_accuracy: 0.8515\n",
      "Epoch 5/100\n",
      "400/400 [==============================] - 52s 131ms/step - loss: 221.2973 - detect_loss: 0.6546 - classify_loss: 1.3086 - montage_loss: 0.7176 - decode_loss: 206.4648 - detect_acc: 0.7182 - detect_f1: 0.7239 - detect_sensitivity: 0.7516 - detect_specificity: 0.7351 - classify_acc: 0.4727 - montage_binary_accuracy: 0.5925 - val_loss: 6717.8977 - val_detect_loss: 0.5231 - val_classify_loss: 0.8783 - val_montage_loss: 0.5403 - val_decode_loss: 6703.8970 - val_detect_acc: 0.7271 - val_detect_f1: 0.0675 - val_detect_sensitivity: 0.0863 - val_detect_specificity: 0.9218 - val_classify_acc: 0.6498 - val_montage_binary_accuracy: 0.7608\n",
      "Epoch 6/100\n",
      "400/400 [==============================] - 51s 128ms/step - loss: 245.8346 - detect_loss: 0.8998 - classify_loss: 1.5077 - montage_loss: 0.7194 - decode_loss: 230.7317 - detect_acc: 0.6131 - detect_f1: 0.6269 - detect_sensitivity: 0.6564 - detect_specificity: 0.6234 - classify_acc: 0.4093 - montage_binary_accuracy: 0.5906 - val_loss: 22396.7235 - val_detect_loss: 0.2932 - val_classify_loss: 0.5100 - val_montage_loss: 0.3691 - val_decode_loss: 22383.6543 - val_detect_acc: 0.8863 - val_detect_f1: 0.0465 - val_detect_sensitivity: 0.0414 - val_detect_specificity: 0.9500 - val_classify_acc: 0.8507 - val_montage_binary_accuracy: 0.9038\n",
      "Epoch 7/100\n",
      "400/400 [==============================] - 54s 134ms/step - loss: 217.6131 - detect_loss: 0.6546 - classify_loss: 1.2490 - montage_loss: 0.6652 - decode_loss: 203.2352 - detect_acc: 0.7013 - detect_f1: 0.7059 - detect_sensitivity: 0.7265 - detect_specificity: 0.7112 - classify_acc: 0.4850 - montage_binary_accuracy: 0.6276 - val_loss: 6753.8336 - val_detect_loss: 0.5467 - val_classify_loss: 0.7835 - val_montage_loss: 0.4580 - val_decode_loss: 6740.3149 - val_detect_acc: 0.7149 - val_detect_f1: 0.0471 - val_detect_sensitivity: 0.0685 - val_detect_specificity: 0.9399 - val_classify_acc: 0.6520 - val_montage_binary_accuracy: 0.7877\n",
      "Epoch 8/100\n",
      "400/400 [==============================] - 50s 126ms/step - loss: 194.3026 - detect_loss: 0.6621 - classify_loss: 1.2290 - montage_loss: 0.6432 - decode_loss: 180.1229 - detect_acc: 0.7202 - detect_f1: 0.7235 - detect_sensitivity: 0.7420 - detect_specificity: 0.7306 - classify_acc: 0.5175 - montage_binary_accuracy: 0.6398 - val_loss: 8360.1989 - val_detect_loss: 0.3026 - val_classify_loss: 0.4796 - val_montage_loss: 0.2825 - val_decode_loss: 8347.5674 - val_detect_acc: 0.8824 - val_detect_f1: 0.0699 - val_detect_sensitivity: 0.0716 - val_detect_specificity: 0.9433 - val_classify_acc: 0.8422 - val_montage_binary_accuracy: 0.8993\n",
      "Epoch 9/100\n",
      "400/400 [==============================] - 55s 137ms/step - loss: 192.0082 - detect_loss: 0.6335 - classify_loss: 1.1621 - montage_loss: 0.6208 - decode_loss: 178.1082 - detect_acc: 0.7258 - detect_f1: 0.7292 - detect_sensitivity: 0.7442 - detect_specificity: 0.7318 - classify_acc: 0.5294 - montage_binary_accuracy: 0.6562 - val_loss: 18320.7995 - val_detect_loss: 0.5027 - val_classify_loss: 0.7181 - val_montage_loss: 0.4123 - val_decode_loss: 18307.7578 - val_detect_acc: 0.7258 - val_detect_f1: 0.0479 - val_detect_sensitivity: 0.0476 - val_detect_specificity: 0.9251 - val_classify_acc: 0.6722 - val_montage_binary_accuracy: 0.7969\n",
      "Epoch 10/100\n",
      "400/400 [==============================] - 53s 132ms/step - loss: 233.8271 - detect_loss: 0.7120 - classify_loss: 1.2277 - montage_loss: 0.6259 - decode_loss: 219.9379 - detect_acc: 0.6957 - detect_f1: 0.6999 - detect_sensitivity: 0.7124 - detect_specificity: 0.6985 - classify_acc: 0.5030 - montage_binary_accuracy: 0.6552 - val_loss: 10145.8750 - val_detect_loss: 0.2872 - val_classify_loss: 0.4738 - val_montage_loss: 0.2952 - val_decode_loss: 10133.5684 - val_detect_acc: 0.8808 - val_detect_f1: 0.0582 - val_detect_sensitivity: 0.0681 - val_detect_specificity: 0.9454 - val_classify_acc: 0.8403 - val_montage_binary_accuracy: 0.9147\n",
      "Epoch 11/100\n",
      "400/400 [==============================] - 53s 132ms/step - loss: 212.9650 - detect_loss: 0.5771 - classify_loss: 1.0432 - montage_loss: 0.5714 - decode_loss: 199.6061 - detect_acc: 0.7490 - detect_f1: 0.7504 - detect_sensitivity: 0.7642 - detect_specificity: 0.7552 - classify_acc: 0.5611 - montage_binary_accuracy: 0.6883 - val_loss: 18540.4832 - val_detect_loss: 0.4073 - val_classify_loss: 0.5590 - val_montage_loss: 0.3151 - val_decode_loss: 18528.1152 - val_detect_acc: 0.7993 - val_detect_f1: 0.0467 - val_detect_sensitivity: 0.0357 - val_detect_specificity: 0.9268 - val_classify_acc: 0.7603 - val_montage_binary_accuracy: 0.8850\n",
      "Epoch 12/100\n",
      "400/400 [==============================] - 52s 129ms/step - loss: 195.0730 - detect_loss: 0.5424 - classify_loss: 1.0179 - montage_loss: 0.5627 - decode_loss: 181.9397 - detect_acc: 0.7753 - detect_f1: 0.7767 - detect_sensitivity: 0.7876 - detect_specificity: 0.7796 - classify_acc: 0.5875 - montage_binary_accuracy: 0.6954 - val_loss: 9214.0808 - val_detect_loss: 0.4965 - val_classify_loss: 0.7017 - val_montage_loss: 0.3471 - val_decode_loss: 9201.5996 - val_detect_acc: 0.7677 - val_detect_f1: 0.0559 - val_detect_sensitivity: 0.0934 - val_detect_specificity: 0.9280 - val_classify_acc: 0.7289 - val_montage_binary_accuracy: 0.8547\n",
      "Epoch 13/100\n",
      "400/400 [==============================] - 54s 135ms/step - loss: 220.1504 - detect_loss: 0.5589 - classify_loss: 1.0123 - montage_loss: 0.5595 - decode_loss: 207.1663 - detect_acc: 0.7695 - detect_f1: 0.7685 - detect_sensitivity: 0.7730 - detect_specificity: 0.7688 - classify_acc: 0.5792 - montage_binary_accuracy: 0.6981 - val_loss: 19889.0082 - val_detect_loss: 0.4773 - val_classify_loss: 0.5589 - val_montage_loss: 0.2691 - val_decode_loss: 19876.9434 - val_detect_acc: 0.7750 - val_detect_f1: 0.0643 - val_detect_sensitivity: 0.0522 - val_detect_specificity: 0.9130 - val_classify_acc: 0.7578 - val_montage_binary_accuracy: 0.8744\n"
     ]
    }
   ],
   "source": [
    "from keras_models.metrics import f1, sensitivity, specificity\n",
    "model.compile(tf.keras.optimizers.Adam(lr=0.00001), loss=[\"categorical_crossentropy\", \"categorical_crossentropy\", \"binary_crossentropy\", \"mean_squared_error\"], metrics={\"detect\":[\"accuracy\", f1, sensitivity, specificity], \"classify\":[\"accuracy\"], \"montage\":[\"binary_accuracy\"]})\n",
    "batch_size=128\n",
    "history = model.fit(train_data, steps_per_epoch=(400), validation_data=valid_data, validation_steps=(600), epochs=100, callbacks=[tf.keras.callbacks.EarlyStopping(monitor=\"val_detect_f1\", mode=\"max\", patience=10)])"
   ]
  },
  {
   "cell_type": "code",
   "execution_count": 20,
   "metadata": {},
   "outputs": [
    {
     "data": {
      "text/plain": [
       "{}"
      ]
     },
     "execution_count": 20,
     "metadata": {},
     "output_type": "execute_result"
    }
   ],
   "source": [
    "\n",
    "history"
   ]
  },
  {
   "cell_type": "code",
   "execution_count": 24,
   "metadata": {},
   "outputs": [],
   "source": [
    "num_cnn_layers = 3\n",
    "num_lstm_layers = 1\n",
    "num_lin_layers= 4\n",
    "inputLayer = tf.keras.layers.Input((1000,21, 1))\n",
    "x = inputLayer\n",
    "\n",
    "x = tf.keras.layers.GaussianNoise(2)(x)\n",
    "for i in range(num_cnn_layers):\n",
    "#     x = tf.keras.layers.BatchNormalization()(x)\n",
    "    x = tf.keras.layers.Conv2D(2**i, (3,3), padding=\"same\")(x)\n",
    "    x = tf.keras.layers.LeakyReLU()(x)\n",
    "    x = tf.keras.layers.MaxPool2D((2,1))(x)\n",
    "old_x_shape = (x).get_shape().as_list()\n",
    "x = tf.keras.layers.Reshape((int(x.shape[1]), int(x.shape[2]) * int(x.shape[3])), name=\"LSTM_Reshape\")(x)\n",
    "for j in range(num_lstm_layers):\n",
    "    x = tf.keras.layers.TimeDistributed(tf.keras.layers.BatchNormalization())(x)\n",
    "    x = tf.keras.layers.CuDNNLSTM(32, return_sequences=True, kernel_regularizer=tf.keras.regularizers.L1L2(l1=0.1, l2=0.1))(x)\n",
    "    x = tf.keras.layers.LeakyReLU()(x)\n",
    "x_shared = x\n",
    "x = tf.keras.layers.Flatten(name=\"flatten_encoder_lstm\")(x)\n",
    "x_shared_flattened = x\n",
    "\n",
    "#seizure detect\n",
    "x = x_shared_flattened \n",
    "for k in range(num_lin_layers):\n",
    "    x = tf.keras.layers.BatchNormalization()(x)\n",
    "    x = tf.keras.layers.Dense(100)(x)\n",
    "    x = tf.keras.layers.LeakyReLU()(x)\n",
    "    x = tf.keras.layers.Dropout(0.5)(x)\n",
    "x_detect = tf.keras.layers.Dense(2, name=\"detect\", activation=\"softmax\")(x)\n",
    "\n",
    "\n",
    "#seizure classify\n",
    "x = x_shared_flattened \n",
    "for k in range(num_lin_layers):\n",
    "    x = tf.keras.layers.BatchNormalization()(x)\n",
    "    x = tf.keras.layers.Dense(100)(x)\n",
    "    x = tf.keras.layers.LeakyReLU()(x)\n",
    "    x = tf.keras.layers.Dropout(0.5)(x)\n",
    "x_classify = tf.keras.layers.Dense(4, name=\"classify\", activation=\"softmax\")(x)\n",
    "\n",
    "#montage classify\n",
    "x = x_shared_flattened \n",
    "for k in range(num_lin_layers):\n",
    "    x = tf.keras.layers.BatchNormalization()(x)\n",
    "    x = tf.keras.layers.Dense(100)(x)\n",
    "    x = tf.keras.layers.LeakyReLU()(x)\n",
    "    x = tf.keras.layers.Dropout(0.5)(x)\n",
    "x_montage = tf.keras.layers.Dense(22, name=\"montage\", activation=\"sigmoid\")(x)\n",
    "\n",
    "#decoder\n",
    "x = x_shared\n",
    "x = tf.keras.layers.CuDNNLSTM(old_x_shape[2]*old_x_shape[3], return_sequences=True, name=\"lstm_decode\")(x)\n",
    "x = tf.keras.layers.BatchNormalization()(x)\n",
    "x = tf.keras.layers.Reshape(old_x_shape[1:], name=\"reshape_decode\")(x)\n",
    "for i in range(num_cnn_layers):\n",
    "    x = tf.keras.layers.BatchNormalization()(x)\n",
    "    x = tf.keras.layers.Conv2D(2**(2-i), (3,3), padding=\"same\")(x)\n",
    "    x = tf.keras.layers.UpSampling2D((2,1))(x)\n",
    "    x = tf.keras.layers.LeakyReLU()(x)\n",
    "x = tf.keras.layers.Conv2D(1, (3,3), padding=\"same\")(x)\n",
    "x = tf.keras.layers.LeakyReLU()(x)\n",
    "\n",
    "x_decode = tf.keras.layers.Reshape((int(x.shape[1]), int(x.shape[2]), int(x.shape[3])), name=\"decode\")(x)\n",
    "\n",
    "model = tf.keras.Model(inputs=inputLayer, outputs=[x_detect, x_classify, x_montage, x_decode])"
   ]
  },
  {
   "cell_type": "code",
   "execution_count": 25,
   "metadata": {},
   "outputs": [
    {
     "name": "stdout",
     "output_type": "stream",
     "text": [
      "Epoch 1/100\n",
      "400/400 [==============================] - 62s 154ms/step - loss: 324.7246 - detect_loss: 1.0065 - classify_loss: 1.8519 - montage_loss: 0.8586 - decode_loss: 222.0489 - detect_acc: 0.5470 - detect_f1: 0.5302 - detect_sensitivity: 0.5166 - detect_specificity: 0.5434 - classify_acc: 0.2592 - montage_binary_accuracy: 0.5118 - val_loss: 9822.9542 - val_detect_loss: 0.4278 - val_classify_loss: 1.0551 - val_montage_loss: 0.6659 - val_decode_loss: 9724.1455 - val_detect_acc: 0.8403 - val_detect_f1: 0.0226 - val_detect_sensitivity: 0.0354 - val_detect_specificity: 0.9588 - val_classify_acc: 0.7629 - val_montage_binary_accuracy: 0.5826\n",
      "Epoch 2/100\n",
      "400/400 [==============================] - 54s 135ms/step - loss: 326.5561 - detect_loss: 0.9374 - classify_loss: 1.7659 - montage_loss: 0.8266 - decode_loss: 228.6016 - detect_acc: 0.5670 - detect_f1: 0.5503 - detect_sensitivity: 0.5364 - detect_specificity: 0.5633 - classify_acc: 0.2900 - montage_binary_accuracy: 0.5283 - val_loss: 17450.8232 - val_detect_loss: 0.3366 - val_classify_loss: 0.8175 - val_montage_loss: 0.6106 - val_decode_loss: 17356.8594 - val_detect_acc: 0.8789 - val_detect_f1: 0.0448 - val_detect_sensitivity: 0.0446 - val_detect_specificity: 0.9720 - val_classify_acc: 0.8632 - val_montage_binary_accuracy: 0.7254\n",
      "Epoch 3/100\n",
      "400/400 [==============================] - 56s 140ms/step - loss: 269.5486 - detect_loss: 0.9657 - classify_loss: 1.6836 - montage_loss: 0.8047 - decode_loss: 176.0614 - detect_acc: 0.5555 - detect_f1: 0.5406 - detect_sensitivity: 0.5277 - detect_specificity: 0.5511 - classify_acc: 0.3043 - montage_binary_accuracy: 0.5412 - val_loss: 11373.5282 - val_detect_loss: 0.4649 - val_classify_loss: 0.7919 - val_montage_loss: 0.5913 - val_decode_loss: 11283.8027 - val_detect_acc: 0.8033 - val_detect_f1: 0.0215 - val_detect_sensitivity: 0.0385 - val_detect_specificity: 0.9177 - val_classify_acc: 0.8461 - val_montage_binary_accuracy: 0.7548\n",
      "Epoch 4/100\n",
      "400/400 [==============================] - 50s 124ms/step - loss: 297.1841 - detect_loss: 0.8677 - classify_loss: 1.5215 - montage_loss: 0.7747 - decode_loss: 208.2480 - detect_acc: 0.5941 - detect_f1: 0.5781 - detect_sensitivity: 0.5672 - detect_specificity: 0.5924 - classify_acc: 0.3562 - montage_binary_accuracy: 0.5596 - val_loss: 17200.1439 - val_detect_loss: 0.3316 - val_classify_loss: 0.6525 - val_montage_loss: 0.5166 - val_decode_loss: 17114.9688 - val_detect_acc: 0.8713 - val_detect_f1: 0.0499 - val_detect_sensitivity: 0.0503 - val_detect_specificity: 0.9631 - val_classify_acc: 0.8552 - val_montage_binary_accuracy: 0.8283\n",
      "Epoch 5/100\n",
      "400/400 [==============================] - 49s 123ms/step - loss: 289.2278 - detect_loss: 0.7606 - classify_loss: 1.3961 - montage_loss: 0.7438 - decode_loss: 204.6949 - detect_acc: 0.6446 - detect_f1: 0.6316 - detect_sensitivity: 0.6177 - detect_specificity: 0.6378 - classify_acc: 0.4105 - montage_binary_accuracy: 0.5800 - val_loss: 6782.0656 - val_detect_loss: 0.4858 - val_classify_loss: 0.7200 - val_montage_loss: 0.5417 - val_decode_loss: 6700.7261 - val_detect_acc: 0.7639 - val_detect_f1: 0.0327 - val_detect_sensitivity: 0.0485 - val_detect_specificity: 0.9226 - val_classify_acc: 0.8137 - val_montage_binary_accuracy: 0.7964\n",
      "Epoch 6/100\n",
      "400/400 [==============================] - 48s 120ms/step - loss: 307.0095 - detect_loss: 0.8933 - classify_loss: 1.4754 - montage_loss: 0.7247 - decode_loss: 226.3000 - detect_acc: 0.5925 - detect_f1: 0.5796 - detect_sensitivity: 0.5718 - detect_specificity: 0.5913 - classify_acc: 0.3840 - montage_binary_accuracy: 0.5925 - val_loss: 22458.7052 - val_detect_loss: 0.4155 - val_classify_loss: 0.6431 - val_montage_loss: 0.4689 - val_decode_loss: 22381.5254 - val_detect_acc: 0.8389 - val_detect_f1: 0.0594 - val_detect_sensitivity: 0.0670 - val_detect_specificity: 0.9501 - val_classify_acc: 0.8617 - val_montage_binary_accuracy: 0.8689\n",
      "Epoch 7/100\n",
      "400/400 [==============================] - 51s 127ms/step - loss: 277.1350 - detect_loss: 0.7445 - classify_loss: 1.2808 - montage_loss: 0.6928 - decode_loss: 200.6994 - detect_acc: 0.6462 - detect_f1: 0.6340 - detect_sensitivity: 0.6235 - detect_specificity: 0.6411 - classify_acc: 0.4486 - montage_binary_accuracy: 0.6172 - val_loss: 6810.6510 - val_detect_loss: 0.5345 - val_classify_loss: 0.7039 - val_montage_loss: 0.4886 - val_decode_loss: 6737.1235 - val_detect_acc: 0.7478 - val_detect_f1: 0.0276 - val_detect_sensitivity: 0.0546 - val_detect_specificity: 0.9310 - val_classify_acc: 0.8097 - val_montage_binary_accuracy: 0.8293\n",
      "Epoch 8/100\n",
      "400/400 [==============================] - 47s 117ms/step - loss: 250.0544 - detect_loss: 0.7248 - classify_loss: 1.2700 - montage_loss: 0.6648 - decode_loss: 177.4784 - detect_acc: 0.6651 - detect_f1: 0.6523 - detect_sensitivity: 0.6392 - detect_specificity: 0.6590 - classify_acc: 0.4786 - montage_binary_accuracy: 0.6368 - val_loss: 8415.1493 - val_detect_loss: 0.3292 - val_classify_loss: 0.4455 - val_montage_loss: 0.3320 - val_decode_loss: 8345.9932 - val_detect_acc: 0.8662 - val_detect_f1: 0.0580 - val_detect_sensitivity: 0.0579 - val_detect_specificity: 0.9335 - val_classify_acc: 0.8733 - val_montage_binary_accuracy: 0.9186\n",
      "Epoch 9/100\n",
      "400/400 [==============================] - 53s 132ms/step - loss: 243.5641 - detect_loss: 0.6680 - classify_loss: 1.1763 - montage_loss: 0.6412 - decode_loss: 174.8587 - detect_acc: 0.6918 - detect_f1: 0.6819 - detect_sensitivity: 0.6688 - detect_specificity: 0.6829 - classify_acc: 0.5079 - montage_binary_accuracy: 0.6520 - val_loss: 18370.6218 - val_detect_loss: 0.5341 - val_classify_loss: 0.6273 - val_montage_loss: 0.4189 - val_decode_loss: 18304.6426 - val_detect_acc: 0.7378 - val_detect_f1: 0.0352 - val_detect_sensitivity: 0.0500 - val_detect_specificity: 0.9379 - val_classify_acc: 0.8045 - val_montage_binary_accuracy: 0.8397\n",
      "Epoch 10/100\n",
      "400/400 [==============================] - 78s 196ms/step - loss: 282.6886 - detect_loss: 0.7077 - classify_loss: 1.1979 - montage_loss: 0.6347 - decode_loss: 217.5174 - detect_acc: 0.6816 - detect_f1: 0.6742 - detect_sensitivity: 0.6668 - detect_specificity: 0.6756 - classify_acc: 0.4926 - montage_binary_accuracy: 0.6590 - val_loss: 10194.1365 - val_detect_loss: 0.3771 - val_classify_loss: 0.5058 - val_montage_loss: 0.3196 - val_decode_loss: 10132.0635 - val_detect_acc: 0.8438 - val_detect_f1: 0.0651 - val_detect_sensitivity: 0.0736 - val_detect_specificity: 0.9426 - val_classify_acc: 0.8507 - val_montage_binary_accuracy: 0.9005\n",
      "Epoch 11/100\n",
      "400/400 [==============================] - 70s 174ms/step - loss: 258.6406 - detect_loss: 0.6668 - classify_loss: 1.1180 - montage_loss: 0.6020 - decode_loss: 197.0990 - detect_acc: 0.7013 - detect_f1: 0.6903 - detect_sensitivity: 0.6794 - detect_specificity: 0.6971 - classify_acc: 0.5266 - montage_binary_accuracy: 0.6794 - val_loss: 18583.7501 - val_detect_loss: 0.4496 - val_classify_loss: 0.5053 - val_montage_loss: 0.3328 - val_decode_loss: 18525.0195 - val_detect_acc: 0.8049 - val_detect_f1: 0.0234 - val_detect_sensitivity: 0.0268 - val_detect_specificity: 0.9281 - val_classify_acc: 0.8652 - val_montage_binary_accuracy: 0.8957\n",
      "Epoch 12/100\n",
      "400/400 [==============================] - 68s 171ms/step - loss: 238.1078 - detect_loss: 0.6316 - classify_loss: 1.0886 - montage_loss: 0.5749 - decode_loss: 180.0258 - detect_acc: 0.7243 - detect_f1: 0.7146 - detect_sensitivity: 0.6996 - detect_specificity: 0.7135 - classify_acc: 0.5434 - montage_binary_accuracy: 0.7032 - val_loss: 9255.1783 - val_detect_loss: 0.4592 - val_classify_loss: 0.5834 - val_montage_loss: 0.3277 - val_decode_loss: 9199.6680 - val_detect_acc: 0.8105 - val_detect_f1: 0.0538 - val_detect_sensitivity: 0.0844 - val_detect_specificity: 0.9431 - val_classify_acc: 0.8317 - val_montage_binary_accuracy: 0.8946\n",
      "Epoch 13/100\n",
      "400/400 [==============================] - 73s 183ms/step - loss: 258.1510 - detect_loss: 0.5991 - classify_loss: 1.0486 - montage_loss: 0.5736 - decode_loss: 203.3869 - detect_acc: 0.7343 - detect_f1: 0.7260 - detect_sensitivity: 0.7108 - detect_specificity: 0.7221 - classify_acc: 0.5538 - montage_binary_accuracy: 0.6999 - val_loss: 19927.6256 - val_detect_loss: 0.4723 - val_classify_loss: 0.5072 - val_montage_loss: 0.2942 - val_decode_loss: 19875.4043 - val_detect_acc: 0.7769 - val_detect_f1: 0.0369 - val_detect_sensitivity: 0.0411 - val_detect_specificity: 0.9141 - val_classify_acc: 0.8316 - val_montage_binary_accuracy: 0.8932\n",
      "Epoch 14/100\n",
      "400/400 [==============================] - 66s 165ms/step - loss: 214.4973 - detect_loss: 0.5219 - classify_loss: 0.9740 - montage_loss: 0.5371 - decode_loss: 163.0412 - detect_acc: 0.7696 - detect_f1: 0.7633 - detect_sensitivity: 0.7523 - detect_specificity: 0.7597 - classify_acc: 0.5954 - montage_binary_accuracy: 0.7220 - val_loss: 9257.9111 - val_detect_loss: 0.3981 - val_classify_loss: 0.4754 - val_montage_loss: 0.2478 - val_decode_loss: 9208.8877 - val_detect_acc: 0.8442 - val_detect_f1: 0.0375 - val_detect_sensitivity: 0.0536 - val_detect_specificity: 0.9397 - val_classify_acc: 0.8564 - val_montage_binary_accuracy: 0.9113\n",
      "Epoch 15/100\n",
      "400/400 [==============================] - 76s 189ms/step - loss: 238.8667 - detect_loss: 0.6749 - classify_loss: 1.0831 - montage_loss: 0.5495 - decode_loss: 190.1276 - detect_acc: 0.7024 - detect_f1: 0.6941 - detect_sensitivity: 0.6901 - detect_specificity: 0.7003 - classify_acc: 0.5436 - montage_binary_accuracy: 0.7216 - val_loss: 19312.7927 - val_detect_loss: 0.4107 - val_classify_loss: 0.3868 - val_montage_loss: 0.2340 - val_decode_loss: 19266.7871 - val_detect_acc: 0.8352 - val_detect_f1: 0.0379 - val_detect_sensitivity: 0.0408 - val_detect_specificity: 0.9169 - val_classify_acc: 0.8778 - val_montage_binary_accuracy: 0.9101\n",
      "Epoch 16/100\n",
      "400/400 [==============================] - 71s 179ms/step - loss: 254.4460 - detect_loss: 0.5489 - classify_loss: 0.9791 - montage_loss: 0.5350 - decode_loss: 208.8078 - detect_acc: 0.7594 - detect_f1: 0.7521 - detect_sensitivity: 0.7328 - detect_specificity: 0.7422 - classify_acc: 0.5804 - montage_binary_accuracy: 0.7277 - val_loss: 9866.3327 - val_detect_loss: 0.4787 - val_classify_loss: 0.6011 - val_montage_loss: 0.2953 - val_decode_loss: 9822.7734 - val_detect_acc: 0.7926 - val_detect_f1: 0.0384 - val_detect_sensitivity: 0.0607 - val_detect_specificity: 0.9502 - val_classify_acc: 0.8189 - val_montage_binary_accuracy: 0.9115\n",
      "Epoch 17/100\n",
      "400/400 [==============================] - 71s 177ms/step - loss: 228.2514 - detect_loss: 0.4821 - classify_loss: 0.8949 - montage_loss: 0.5056 - decode_loss: 185.5262 - detect_acc: 0.7941 - detect_f1: 0.7872 - detect_sensitivity: 0.7706 - detect_specificity: 0.7796 - classify_acc: 0.6195 - montage_binary_accuracy: 0.7468 - val_loss: 19227.1164 - val_detect_loss: 0.4570 - val_classify_loss: 0.4449 - val_montage_loss: 0.2442 - val_decode_loss: 19186.4629 - val_detect_acc: 0.8064 - val_detect_f1: 0.0513 - val_detect_sensitivity: 0.0559 - val_detect_specificity: 0.9112 - val_classify_acc: 0.8416 - val_montage_binary_accuracy: 0.8975\n",
      "Epoch 18/100\n",
      "400/400 [==============================] - 71s 177ms/step - loss: 217.4623 - detect_loss: 0.7246 - classify_loss: 1.1200 - montage_loss: 0.5429 - decode_loss: 176.8414 - detect_acc: 0.6848 - detect_f1: 0.6765 - detect_sensitivity: 0.6563 - detect_specificity: 0.6682 - classify_acc: 0.5350 - montage_binary_accuracy: 0.7428 - val_loss: 9908.2091 - val_detect_loss: 0.4218 - val_classify_loss: 0.4881 - val_montage_loss: 0.2289 - val_decode_loss: 9870.1016 - val_detect_acc: 0.8435 - val_detect_f1: 0.0290 - val_detect_sensitivity: 0.0421 - val_detect_specificity: 0.9440 - val_classify_acc: 0.8549 - val_montage_binary_accuracy: 0.9145\n",
      "Epoch 19/100\n",
      "400/400 [==============================] - 73s 183ms/step - loss: 224.8013 - detect_loss: 0.5964 - classify_loss: 0.9710 - montage_loss: 0.5161 - decode_loss: 186.9842 - detect_acc: 0.7404 - detect_f1: 0.7335 - detect_sensitivity: 0.7149 - detect_specificity: 0.7245 - classify_acc: 0.5877 - montage_binary_accuracy: 0.7444 - val_loss: 17263.4634 - val_detect_loss: 0.3277 - val_classify_loss: 0.3488 - val_montage_loss: 0.1682 - val_decode_loss: 17228.0977 - val_detect_acc: 0.8770 - val_detect_f1: 0.0378 - val_detect_sensitivity: 0.0392 - val_detect_specificity: 0.9497 - val_classify_acc: 0.8944 - val_montage_binary_accuracy: 0.9338\n",
      "Epoch 20/100\n",
      "400/400 [==============================] - 65s 161ms/step - loss: 227.2865 - detect_loss: 0.5451 - classify_loss: 0.9434 - montage_loss: 0.5062 - decode_loss: 191.9389 - detect_acc: 0.7631 - detect_f1: 0.7588 - detect_sensitivity: 0.7512 - detect_specificity: 0.7555 - classify_acc: 0.5979 - montage_binary_accuracy: 0.7434 - val_loss: 11305.8963 - val_detect_loss: 0.4838 - val_classify_loss: 0.4977 - val_montage_loss: 0.2346 - val_decode_loss: 11272.4600 - val_detect_acc: 0.8231 - val_detect_f1: 0.0321 - val_detect_sensitivity: 0.0475 - val_detect_specificity: 0.9153 - val_classify_acc: 0.8545 - val_montage_binary_accuracy: 0.9185\n"
     ]
    }
   ],
   "source": [
    "from keras_models.metrics import f1, sensitivity, specificity\n",
    "model.compile(tf.keras.optimizers.Adam(lr=0.00001), loss=[\"categorical_crossentropy\", \"categorical_crossentropy\", \"binary_crossentropy\", \"mean_squared_error\"], metrics={\"detect\":[\"accuracy\", f1, sensitivity, specificity], \"classify\":[\"accuracy\"], \"montage\":[\"binary_accuracy\"]})\n",
    "batch_size=128\n",
    "history = model.fit(train_data, steps_per_epoch=(400), validation_data=valid_data, validation_steps=(600), epochs=100, callbacks=[tf.keras.callbacks.EarlyStopping(monitor=\"val_detect_f1\", mode=\"max\", patience=10)])"
   ]
  },
  {
   "cell_type": "code",
   "execution_count": 26,
   "metadata": {},
   "outputs": [],
   "source": [
    "history = Dict(history.history)"
   ]
  },
  {
   "cell_type": "code",
   "execution_count": 27,
   "metadata": {},
   "outputs": [
    {
     "data": {
      "text/plain": [
       "dict_keys(['loss', 'detect_loss', 'classify_loss', 'montage_loss', 'decode_loss', 'detect_acc', 'detect_f1', 'detect_sensitivity', 'detect_specificity', 'classify_acc', 'montage_binary_accuracy', 'val_loss', 'val_detect_loss', 'val_classify_loss', 'val_montage_loss', 'val_decode_loss', 'val_detect_acc', 'val_detect_f1', 'val_detect_sensitivity', 'val_detect_specificity', 'val_classify_acc', 'val_montage_binary_accuracy'])"
      ]
     },
     "execution_count": 27,
     "metadata": {},
     "output_type": "execute_result"
    }
   ],
   "source": [
    "history.keys()"
   ]
  },
  {
   "cell_type": "code",
   "execution_count": 30,
   "metadata": {},
   "outputs": [
    {
     "data": {
      "text/plain": [
       "<matplotlib.legend.Legend at 0x7fc1e269d898>"
      ]
     },
     "execution_count": 30,
     "metadata": {},
     "output_type": "execute_result"
    },
    {
     "data": {
      "image/png": "[encoded data removed]",
      "text/plain": [
       "<Figure size 432x288 with 1 Axes>"
      ]
     },
     "metadata": {
      "needs_background": "light"
     },
     "output_type": "display_data"
    }
   ],
   "source": [
    "plt.plot(history.detect_f1)\n",
    "plt.plot(history.val_detect_f1)\n",
    "plt.legend([\"Train\", \"Valid\"])"
   ]
  },
  {
   "cell_type": "code",
   "execution_count": null,
   "metadata": {},
   "outputs": [],
   "source": [
    "plt.plot(history.detect_f1)\n",
    "plt.plot(history.val_detect_f1)\n",
    "plt.legend([\"Train\", \"Valid\"])"
   ]
  },
  {
   "cell_type": "markdown",
   "metadata": {},
   "source": [
    "# try multitask learning with session"
   ]
  },
  {
   "cell_type": "code",
   "execution_count": 20,
   "metadata": {},
   "outputs": [],
   "source": [
    "def read_tfrecord(example):\n",
    "    features = { \\\n",
    "               'data':  tf.io.FixedLenFeature([21*1000], tf.float32,),\\\n",
    "               'label':  tf.io.FixedLenFeature([1], tf.int64,),\\\n",
    "               'subtypeLabel':  tf.io.FixedLenFeature([1], tf.int64,),\\\n",
    "               'session':  tf.io.FixedLenFeature([1], tf.int64,), \\\n",
    "               'montage':  tf.io.FixedLenFeature([22], tf.int64,)}\n",
    "\n",
    "    # decode the TFRecord\n",
    "    example = tf.io.parse_single_example(example, features)\n",
    "#     return example\n",
    "\n",
    "    data = tf.reshape(example['data'], [1000,21,1])\n",
    "    # data = (example['data'])\n",
    "\n",
    "    class_label = tf.cast(example['label'], tf.int32)\n",
    "\n",
    "    # del example\n",
    "    return data, (tf.one_hot(class_label[0], 2), tf.one_hot(example[\"subtypeLabel\"][0], 4),  example[\"montage\"], tf.one_hot(example[\"session\"][0], 575), data)\n",
    "\n",
    "def get_batched_dataset(filenames, batch_size, max_queue_size=10,  n_process=4, is_train=False):\n",
    "    option_no_order = tf.data.Options()\n",
    "    option_no_order.experimental_deterministic = False\n",
    "\n",
    "    dataset = tf.data.Dataset.list_files(filenames)\n",
    "    dataset = dataset.with_options(option_no_order)\n",
    "    dataset = dataset.interleave(tf.data.TFRecordDataset, cycle_length=1, num_parallel_calls=1)\n",
    "#     \n",
    "    dataset = dataset.map(read_tfrecord, num_parallel_calls=n_process)\n",
    "    \n",
    "#     dataset = dataset.cache() # IF this dataset fits in RAM\n",
    "    dataset = dataset.repeat()\n",
    "#     if is_train:\n",
    "#         resampler = tf.data.experimental.rejection_resample(lambda x, y: y, target_dist=[1, 1])\n",
    "#         dataset = dataset.apply(resampler)\n",
    "    if is_train:\n",
    "        dataset = dataset.shuffle(256)\n",
    "    dataset = dataset.batch(batch_size, drop_remainder=True)\n",
    "    if is_train:\n",
    "        dataset = dataset.prefetch(max_queue_size)\n",
    "    else:\n",
    "        dataset = dataset.prefetch(int(max_queue_size/4)) #store a lot less for the other sets to avoid wasting memory\n",
    "\n",
    "    return dataset\n",
    "\n",
    "def get_positive_train_dataset(filenames,  max_queue_size=5, n_process=4, is_train=True):\n",
    "    option_no_order = tf.data.Options()\n",
    "    option_no_order.experimental_deterministic = False\n",
    "\n",
    "    dataset = tf.data.Dataset.list_files(filenames)\n",
    "    dataset = dataset.with_options(option_no_order)\n",
    "    dataset = dataset.interleave(tf.data.TFRecordDataset, cycle_length=1, num_parallel_calls=1)\n",
    "#     \n",
    "    dataset = dataset.map(read_tfrecord, num_parallel_calls=n_process)\n",
    "    \n",
    "    dataset = dataset.filter(lambda x, y: tf.equal(tf.argmax(y[0], 0), 1))\n",
    "\n",
    "    \n",
    "#     dataset = dataset.cache() # IF this dataset fits in RAM\n",
    "    dataset = dataset.repeat()\n",
    "#     if is_train:\n",
    "#         resampler = tf.data.experimental.rejection_resample(lambda x, y: y, target_dist=[1, 1])\n",
    "#         dataset = dataset.apply(resampler)\n",
    "    if is_train:\n",
    "        dataset = dataset.shuffle(256)\n",
    "#     dataset = dataset.batch(batch_size, drop_remainder=True)\n",
    "    if is_train:\n",
    "        dataset = dataset.prefetch(max_queue_size)\n",
    "    else:\n",
    "        dataset = dataset.prefetch(int(max_queue_size/4)) #store a lot less for the other sets to avoid wasting memory\n",
    "\n",
    "    return dataset\n",
    "\n",
    "def get_negative_train_dataset(filenames, max_queue_size=10, n_process=4, is_train=True):\n",
    "    option_no_order = tf.data.Options()\n",
    "    option_no_order.experimental_deterministic = False\n",
    "\n",
    "    dataset = tf.data.Dataset.list_files(filenames)\n",
    "    dataset = dataset.with_options(option_no_order)\n",
    "    dataset = dataset.interleave(tf.data.TFRecordDataset, cycle_length=1, num_parallel_calls=1)\n",
    "#     \n",
    "    dataset = dataset.map(read_tfrecord, num_parallel_calls=n_process)\n",
    "   \n",
    "    \n",
    "    dataset = dataset.filter(lambda x, y: tf.equal(tf.argmax(y[0], 0), 0))\n",
    "\n",
    "    \n",
    "#     dataset = dataset.cache() # IF this dataset fits in RAM\n",
    "    dataset = dataset.repeat()\n",
    "#     if is_train:\n",
    "#         resampler = tf.data.experimental.rejection_resample(lambda x, y: y, target_dist=[1, 1])\n",
    "#         dataset = dataset.apply(resampler)\n",
    "    if is_train:\n",
    "        dataset = dataset.shuffle(256)\n",
    "#     dataset = dataset.batch(batch_size, drop_remainder=True)\n",
    "    if is_train:\n",
    "        dataset = dataset.prefetch(max_queue_size)\n",
    "    else:\n",
    "        dataset = dataset.prefetch(int(max_queue_size/4)) #store a lot less for the other sets to avoid wasting memory\n",
    "    return dataset\n",
    "\n",
    "def get_balanced_dataset(filenames, batch_size, max_queue_size=10, n_process=4, is_train=True):\n",
    "    pos_ds = get_positive_train_dataset(filenames)\n",
    "    neg_ds = get_negative_train_dataset(filenames)   \n",
    "    dataset = tf.data.experimental.sample_from_datasets([neg_ds, pos_ds], [0.5, 0.5])\n",
    "    if is_train:\n",
    "        dataset = dataset.shuffle(256)\n",
    "    dataset = dataset.batch(batch_size, drop_remainder=True)\n",
    "    return dataset.prefetch(max_queue_size)"
   ]
  },
  {
   "cell_type": "markdown",
   "metadata": {},
   "source": [
    "## session multitask learning"
   ]
  },
  {
   "cell_type": "code",
   "execution_count": 3,
   "metadata": {},
   "outputs": [
    {
     "name": "stderr",
     "output_type": "stream",
     "text": [
      "WARNING: Logging before flag parsing goes to stderr.\n",
      "W0330 23:21:51.713369 140287959897920 deprecation.py:506] From /home/ms994/miniconda3/envs/keras-v2/lib/python3.7/site-packages/tensorflow_core/python/ops/resource_variable_ops.py:1635: calling BaseResourceVariable.__init__ (from tensorflow.python.ops.resource_variable_ops) with constraint is deprecated and will be removed in a future version.\n",
      "Instructions for updating:\n",
      "If using Keras pass *_constraint arguments to layers.\n"
     ]
    },
    {
     "ename": "AttributeError",
     "evalue": "module 'tensorflow_core.keras.layers' has no attribute 'CuDNNLSTM'",
     "output_type": "error",
     "traceback": [
      "\u001b[0;31m---------------------------------------------------------------------------\u001b[0m",
      "\u001b[0;31mAttributeError\u001b[0m                            Traceback (most recent call last)",
      "\u001b[0;32m<ipython-input-3-7361f9007523>\u001b[0m in \u001b[0;36m<module>\u001b[0;34m\u001b[0m\n\u001b[1;32m     15\u001b[0m \u001b[0;32mfor\u001b[0m \u001b[0mj\u001b[0m \u001b[0;32min\u001b[0m \u001b[0mrange\u001b[0m\u001b[0;34m(\u001b[0m\u001b[0mnum_lstm_layers\u001b[0m\u001b[0;34m)\u001b[0m\u001b[0;34m:\u001b[0m\u001b[0;34m\u001b[0m\u001b[0;34m\u001b[0m\u001b[0m\n\u001b[1;32m     16\u001b[0m     \u001b[0mx\u001b[0m \u001b[0;34m=\u001b[0m \u001b[0mtf\u001b[0m\u001b[0;34m.\u001b[0m\u001b[0mkeras\u001b[0m\u001b[0;34m.\u001b[0m\u001b[0mlayers\u001b[0m\u001b[0;34m.\u001b[0m\u001b[0mTimeDistributed\u001b[0m\u001b[0;34m(\u001b[0m\u001b[0mtf\u001b[0m\u001b[0;34m.\u001b[0m\u001b[0mkeras\u001b[0m\u001b[0;34m.\u001b[0m\u001b[0mlayers\u001b[0m\u001b[0;34m.\u001b[0m\u001b[0mBatchNormalization\u001b[0m\u001b[0;34m(\u001b[0m\u001b[0;34m)\u001b[0m\u001b[0;34m)\u001b[0m\u001b[0;34m(\u001b[0m\u001b[0mx\u001b[0m\u001b[0;34m)\u001b[0m\u001b[0;34m\u001b[0m\u001b[0;34m\u001b[0m\u001b[0m\n\u001b[0;32m---> 17\u001b[0;31m     \u001b[0mx\u001b[0m \u001b[0;34m=\u001b[0m \u001b[0mtf\u001b[0m\u001b[0;34m.\u001b[0m\u001b[0mkeras\u001b[0m\u001b[0;34m.\u001b[0m\u001b[0mlayers\u001b[0m\u001b[0;34m.\u001b[0m\u001b[0mCuDNNLSTM\u001b[0m\u001b[0;34m(\u001b[0m\u001b[0;36m32\u001b[0m\u001b[0;34m,\u001b[0m \u001b[0mreturn_sequences\u001b[0m\u001b[0;34m=\u001b[0m\u001b[0;32mTrue\u001b[0m\u001b[0;34m,\u001b[0m \u001b[0mkernel_regularizer\u001b[0m\u001b[0;34m=\u001b[0m\u001b[0mtf\u001b[0m\u001b[0;34m.\u001b[0m\u001b[0mkeras\u001b[0m\u001b[0;34m.\u001b[0m\u001b[0mregularizers\u001b[0m\u001b[0;34m.\u001b[0m\u001b[0mL1L2\u001b[0m\u001b[0;34m(\u001b[0m\u001b[0ml1\u001b[0m\u001b[0;34m=\u001b[0m\u001b[0;36m0.1\u001b[0m\u001b[0;34m,\u001b[0m \u001b[0ml2\u001b[0m\u001b[0;34m=\u001b[0m\u001b[0;36m0.1\u001b[0m\u001b[0;34m)\u001b[0m\u001b[0;34m)\u001b[0m\u001b[0;34m(\u001b[0m\u001b[0mx\u001b[0m\u001b[0;34m)\u001b[0m\u001b[0;34m\u001b[0m\u001b[0;34m\u001b[0m\u001b[0m\n\u001b[0m\u001b[1;32m     18\u001b[0m     \u001b[0mx\u001b[0m \u001b[0;34m=\u001b[0m \u001b[0mtf\u001b[0m\u001b[0;34m.\u001b[0m\u001b[0mkeras\u001b[0m\u001b[0;34m.\u001b[0m\u001b[0mlayers\u001b[0m\u001b[0;34m.\u001b[0m\u001b[0mLeakyReLU\u001b[0m\u001b[0;34m(\u001b[0m\u001b[0;34m)\u001b[0m\u001b[0;34m(\u001b[0m\u001b[0mx\u001b[0m\u001b[0;34m)\u001b[0m\u001b[0;34m\u001b[0m\u001b[0;34m\u001b[0m\u001b[0m\n\u001b[1;32m     19\u001b[0m \u001b[0mx_shared\u001b[0m \u001b[0;34m=\u001b[0m \u001b[0mx\u001b[0m\u001b[0;34m\u001b[0m\u001b[0;34m\u001b[0m\u001b[0m\n",
      "\u001b[0;31mAttributeError\u001b[0m: module 'tensorflow_core.keras.layers' has no attribute 'CuDNNLSTM'"
     ]
    }
   ],
   "source": [
    "num_cnn_layers = 3\n",
    "num_lstm_layers = 1\n",
    "num_lin_layers= 4\n",
    "inputLayer = tf.keras.layers.Input((1000,21, 1))\n",
    "x = inputLayer\n",
    "\n",
    "x = tf.keras.layers.GaussianNoise(10)(x)\n",
    "for i in range(num_cnn_layers):\n",
    "#     x = tf.keras.layers.BatchNormalization()(x)\n",
    "    x = tf.keras.layers.Conv2D(2**i, (3,3), padding=\"same\")(x)\n",
    "    x = tf.keras.layers.LeakyReLU()(x)\n",
    "    x = tf.keras.layers.MaxPool2D((2,1))(x)\n",
    "old_x_shape = (x).get_shape().as_list()\n",
    "x = tf.keras.layers.Reshape((int(x.shape[1]), int(x.shape[2]) * int(x.shape[3])), name=\"LSTM_Reshape\")(x)\n",
    "for j in range(num_lstm_layers):\n",
    "    x = tf.keras.layers.TimeDistributed(tf.keras.layers.BatchNormalization())(x)\n",
    "    x = tf.keras.layers.CuDNNLSTM(32, return_sequences=True, kernel_regularizer=tf.keras.regularizers.L1L2(l1=0.1, l2=0.1))(x)\n",
    "    x = tf.keras.layers.LeakyReLU()(x)\n",
    "x_shared = x\n",
    "x = tf.keras.layers.Flatten(name=\"flatten_encoder_lstm\")(x)\n",
    "x_shared_flattened = x\n",
    "\n",
    "#seizure detect\n",
    "x = x_shared_flattened \n",
    "for k in range(num_lin_layers):\n",
    "    x = tf.keras.layers.BatchNormalization()(x)\n",
    "    x = tf.keras.layers.Dense(100)(x)\n",
    "    x = tf.keras.layers.LeakyReLU()(x)\n",
    "    x = tf.keras.layers.Dropout(0.5)(x)\n",
    "x_detect = tf.keras.layers.Dense(2, name=\"detect\", activation=\"softmax\")(x)\n",
    "\n",
    "\n",
    "#seizure classify\n",
    "x = x_shared_flattened \n",
    "for k in range(num_lin_layers):\n",
    "    x = tf.keras.layers.BatchNormalization()(x)\n",
    "    x = tf.keras.layers.Dense(100)(x)\n",
    "    x = tf.keras.layers.LeakyReLU()(x)\n",
    "    x = tf.keras.layers.Dropout(0.5)(x)\n",
    "x_classify = tf.keras.layers.Dense(4, name=\"classify\", activation=\"softmax\")(x)\n",
    "\n",
    "#montage classify\n",
    "x = x_shared_flattened \n",
    "for k in range(num_lin_layers):\n",
    "    x = tf.keras.layers.BatchNormalization()(x)\n",
    "    x = tf.keras.layers.Dense(100)(x)\n",
    "    x = tf.keras.layers.LeakyReLU()(x)\n",
    "    x = tf.keras.layers.Dropout(0.5)(x)\n",
    "x_montage = tf.keras.layers.Dense(22, name=\"montage\", activation=\"sigmoid\")(x)\n",
    "\n",
    "#patient measurement\n",
    "x = x_shared_flattened \n",
    "for k in range(num_lin_layers):\n",
    "    x = tf.keras.layers.BatchNormalization()(x)\n",
    "    x = tf.keras.layers.Dense(100)(x)\n",
    "    x = tf.keras.layers.LeakyReLU()(x)\n",
    "    x = tf.keras.layers.Dropout(0.5)(x)\n",
    "x_pre_patient = x\n",
    "x_patient = tf.keras.layers.Dense(575, name=\"patient\", activation=\"softmax\")(x)\n",
    "\n",
    "#decoder\n",
    "x = x_shared\n",
    "x = tf.keras.layers.CuDNNLSTM(old_x_shape[2]*old_x_shape[3], return_sequences=True, name=\"lstm_decode\")(x)\n",
    "x = tf.keras.layers.BatchNormalization()(x)\n",
    "x = tf.keras.layers.Reshape(old_x_shape[1:], name=\"reshape_decode\")(x)\n",
    "for i in range(num_cnn_layers):\n",
    "    x = tf.keras.layers.BatchNormalization()(x)\n",
    "    x = tf.keras.layers.Conv2D(2**(2-i), (3,3), padding=\"same\")(x)\n",
    "    x = tf.keras.layers.UpSampling2D((2,1))(x)\n",
    "    x = tf.keras.layers.LeakyReLU()(x)\n",
    "x = tf.keras.layers.Conv2D(1, (3,3), padding=\"same\")(x)\n",
    "x = tf.keras.layers.LeakyReLU()(x)\n",
    "\n",
    "x_decode = tf.keras.layers.Reshape((int(x.shape[1]), int(x.shape[2]), int(x.shape[3])), name=\"decode\")(x)\n",
    "\n",
    "model = tf.keras.Model(inputs=inputLayer, outputs=[x_detect, x_classify, x_montage, x_patient, x_decode])\n",
    "from keras_models.metrics import f1, sensitivity, specificity\n",
    "model.compile(tf.keras.optimizers.Adam(lr=0.00001), loss=[\"categorical_crossentropy\", \"categorical_crossentropy\", \"binary_crossentropy\", \"categorical_crossentropy\", \"mean_squared_error\"], metrics={\"detect\":[\"accuracy\", f1, sensitivity, specificity], \"classify\":[\"accuracy\"], \"montage\":[\"binary_accuracy\"], \"patient\": [\"accuracy\"]})\n",
    "batch_size=128\n"
   ]
  },
  {
   "cell_type": "code",
   "execution_count": null,
   "metadata": {},
   "outputs": [
    {
     "name": "stdout",
     "output_type": "stream",
     "text": [
      "WARNING:tensorflow:From /home/ms994/miniconda3/envs/keras-redo/lib/python3.7/site-packages/tensorflow/python/ops/math_ops.py:3066: to_int32 (from tensorflow.python.ops.math_ops) is deprecated and will be removed in a future version.\n",
      "Instructions for updating:\n",
      "Use tf.cast instead.\n"
     ]
    },
    {
     "name": "stderr",
     "output_type": "stream",
     "text": [
      "WARNING:tensorflow:From /home/ms994/miniconda3/envs/keras-redo/lib/python3.7/site-packages/tensorflow/python/ops/math_ops.py:3066: to_int32 (from tensorflow.python.ops.math_ops) is deprecated and will be removed in a future version.\n",
      "Instructions for updating:\n",
      "Use tf.cast instead.\n"
     ]
    },
    {
     "name": "stdout",
     "output_type": "stream",
     "text": [
      "Epoch 1/100\n",
      "400/400 [==============================] - 126s 316ms/step - loss: 336.0696 - detect_loss: 0.9859 - classify_loss: 1.8558 - montage_loss: 0.8382 - patient_loss: 6.4759 - decode_loss: 226.9110 - detect_acc: 0.5143 - detect_f1: 0.5206 - detect_sensitivity: 0.5297 - detect_specificity: 0.5134 - classify_acc: 0.2649 - montage_binary_accuracy: 0.5181 - patient_acc: 0.0020 - val_loss: 13646.1721 - val_detect_loss: 0.3810 - val_classify_loss: 0.9039 - val_montage_loss: 0.6159 - val_patient_loss: 6.3608 - val_decode_loss: 13541.2959 - val_detect_acc: 0.9138 - val_detect_f1: 0.0188 - val_detect_sensitivity: 0.0283 - val_detect_specificity: 0.9627 - val_classify_acc: 0.8432 - val_montage_binary_accuracy: 0.7267 - val_patient_acc: 4.9479e-04\n",
      "Epoch 2/100\n",
      "400/400 [==============================] - 117s 292ms/step - loss: 299.8096 - detect_loss: 0.9170 - classify_loss: 1.7228 - montage_loss: 0.8059 - patient_loss: 6.4336 - decode_loss: 195.6473 - detect_acc: 0.5347 - detect_f1: 0.5350 - detect_sensitivity: 0.5449 - detect_specificity: 0.5409 - classify_acc: 0.2945 - montage_binary_accuracy: 0.5374 - patient_acc: 0.0034 - val_loss: 14302.9687 - val_detect_loss: 0.3014 - val_classify_loss: 0.5502 - val_montage_loss: 0.5328 - val_patient_loss: 6.3890 - val_decode_loss: 14203.2314 - val_detect_acc: 0.8874 - val_detect_f1: 0.0247 - val_detect_sensitivity: 0.0414 - val_detect_specificity: 0.9375 - val_classify_acc: 0.8874 - val_montage_binary_accuracy: 0.8110 - val_patient_acc: 7.6823e-04\n",
      "Epoch 3/100\n",
      "400/400 [==============================] - 116s 290ms/step - loss: 321.0404 - detect_loss: 0.8664 - classify_loss: 1.5895 - montage_loss: 0.7741 - patient_loss: 6.4216 - decode_loss: 221.6825 - detect_acc: 0.5655 - detect_f1: 0.5632 - detect_sensitivity: 0.5653 - detect_specificity: 0.5669 - classify_acc: 0.3325 - montage_binary_accuracy: 0.5576 - patient_acc: 0.0029 - val_loss: 14641.2084 - val_detect_loss: 0.2856 - val_classify_loss: 0.4503 - val_montage_loss: 0.4551 - val_patient_loss: 6.3846 - val_decode_loss: 14546.1670 - val_detect_acc: 0.8979 - val_detect_f1: 0.0267 - val_detect_sensitivity: 0.0344 - val_detect_specificity: 0.9419 - val_classify_acc: 0.9009 - val_montage_binary_accuracy: 0.8800 - val_patient_acc: 0.0012\n",
      "Epoch 4/100\n",
      "400/400 [==============================] - 115s 288ms/step - loss: 291.7283 - detect_loss: 0.8084 - classify_loss: 1.4807 - montage_loss: 0.7430 - patient_loss: 6.3800 - decode_loss: 197.0278 - detect_acc: 0.5914 - detect_f1: 0.5900 - detect_sensitivity: 0.5912 - detect_specificity: 0.5910 - classify_acc: 0.3762 - montage_binary_accuracy: 0.5814 - patient_acc: 0.0041 - val_loss: 7637.5883 - val_detect_loss: 0.2807 - val_classify_loss: 0.3149 - val_montage_loss: 0.3516 - val_patient_loss: 6.3893 - val_decode_loss: 7547.1294 - val_detect_acc: 0.8990 - val_detect_f1: 0.0258 - val_detect_sensitivity: 0.0394 - val_detect_specificity: 0.9436 - val_classify_acc: 0.9105 - val_montage_binary_accuracy: 0.9339 - val_patient_acc: 1.0417e-04\n",
      "Epoch 5/100\n",
      "400/400 [==============================] - 122s 304ms/step - loss: 295.0921 - detect_loss: 0.7758 - classify_loss: 1.3885 - montage_loss: 0.7177 - patient_loss: 6.3842 - decode_loss: 204.8067 - detect_acc: 0.6118 - detect_f1: 0.6084 - detect_sensitivity: 0.6081 - detect_specificity: 0.6117 - classify_acc: 0.4095 - montage_binary_accuracy: 0.6007 - patient_acc: 0.0052 - val_loss: 14311.1461 - val_detect_loss: 0.2887 - val_classify_loss: 0.2875 - val_montage_loss: 0.2654 - val_patient_loss: 6.3852 - val_decode_loss: 14224.9854 - val_detect_acc: 0.9011 - val_detect_f1: 0.0263 - val_detect_sensitivity: 0.0421 - val_detect_specificity: 0.9481 - val_classify_acc: 0.9174 - val_montage_binary_accuracy: 0.9476 - val_patient_acc: 0.0014\n",
      "Epoch 6/100\n",
      "400/400 [==============================] - 118s 296ms/step - loss: 283.5712 - detect_loss: 0.7141 - classify_loss: 1.2895 - montage_loss: 0.6811 - patient_loss: 6.3874 - decode_loss: 197.6100 - detect_acc: 0.6559 - detect_f1: 0.6537 - detect_sensitivity: 0.6504 - detect_specificity: 0.6522 - classify_acc: 0.4481 - montage_binary_accuracy: 0.6302 - patient_acc: 0.0047 - val_loss: 13951.9349 - val_detect_loss: 0.3081 - val_classify_loss: 0.2954 - val_montage_loss: 0.2212 - val_patient_loss: 6.3823 - val_decode_loss: 13869.8672 - val_detect_acc: 0.8961 - val_detect_f1: 0.0205 - val_detect_sensitivity: 0.0337 - val_detect_specificity: 0.9419 - val_classify_acc: 0.9160 - val_montage_binary_accuracy: 0.9497 - val_patient_acc: 0.0014\n",
      "Epoch 7/100\n",
      "400/400 [==============================] - 122s 305ms/step - loss: 275.7403 - detect_loss: 0.6494 - classify_loss: 1.2048 - montage_loss: 0.6498 - patient_loss: 6.3252 - decode_loss: 194.0217 - detect_acc: 0.6896 - detect_f1: 0.6870 - detect_sensitivity: 0.6852 - detect_specificity: 0.6875 - classify_acc: 0.4893 - montage_binary_accuracy: 0.6522 - patient_acc: 0.0066 - val_loss: 14628.2219 - val_detect_loss: 0.3488 - val_classify_loss: 0.3438 - val_montage_loss: 0.1980 - val_patient_loss: 6.3768 - val_decode_loss: 14550.0332 - val_detect_acc: 0.8859 - val_detect_f1: 0.0241 - val_detect_sensitivity: 0.0382 - val_detect_specificity: 0.9373 - val_classify_acc: 0.9035 - val_montage_binary_accuracy: 0.9390 - val_patient_acc: 0.0015\n",
      "Epoch 8/100\n",
      "400/400 [==============================] - 125s 312ms/step - loss: 286.9927 - detect_loss: 0.7406 - classify_loss: 1.2387 - montage_loss: 0.6393 - patient_loss: 6.1991 - decode_loss: 209.1471 - detect_acc: 0.6559 - detect_f1: 0.6540 - detect_sensitivity: 0.6519 - detect_specificity: 0.6529 - classify_acc: 0.4783 - montage_binary_accuracy: 0.6627 - patient_acc: 0.0088 - val_loss: 14627.9018 - val_detect_loss: 0.3334 - val_classify_loss: 0.3398 - val_montage_loss: 0.1805 - val_patient_loss: 6.3821 - val_decode_loss: 14553.5195 - val_detect_acc: 0.8861 - val_detect_f1: 0.0269 - val_detect_sensitivity: 0.0374 - val_detect_specificity: 0.9399 - val_classify_acc: 0.9041 - val_montage_binary_accuracy: 0.9381 - val_patient_acc: 0.0026\n",
      "Epoch 9/100\n",
      "400/400 [==============================] - 130s 326ms/step - loss: 266.1762 - detect_loss: 0.6590 - classify_loss: 1.1547 - montage_loss: 0.6041 - patient_loss: 6.1392 - decode_loss: 192.3126 - detect_acc: 0.6921 - detect_f1: 0.6885 - detect_sensitivity: 0.6859 - detect_specificity: 0.6898 - classify_acc: 0.5084 - montage_binary_accuracy: 0.6886 - patient_acc: 0.0099 - val_loss: 14609.0978 - val_detect_loss: 0.3554 - val_classify_loss: 0.3659 - val_montage_loss: 0.1699 - val_patient_loss: 6.3851 - val_decode_loss: 14538.3369 - val_detect_acc: 0.8818 - val_detect_f1: 0.0299 - val_detect_sensitivity: 0.0412 - val_detect_specificity: 0.9390 - val_classify_acc: 0.8997 - val_montage_binary_accuracy: 0.9362 - val_patient_acc: 0.0013\n",
      "Epoch 10/100\n",
      "400/400 [==============================] - 118s 294ms/step - loss: 272.4755 - detect_loss: 0.5910 - classify_loss: 1.0789 - montage_loss: 0.5798 - patient_loss: 6.1228 - decode_loss: 202.4099 - detect_acc: 0.7207 - detect_f1: 0.7188 - detect_sensitivity: 0.7127 - detect_specificity: 0.7139 - classify_acc: 0.5358 - montage_binary_accuracy: 0.7022 - patient_acc: 0.0096 - val_loss: 14328.4222 - val_detect_loss: 0.3534 - val_classify_loss: 0.3583 - val_montage_loss: 0.1666 - val_patient_loss: 6.3876 - val_decode_loss: 14261.2305 - val_detect_acc: 0.8815 - val_detect_f1: 0.0288 - val_detect_sensitivity: 0.0411 - val_detect_specificity: 0.9381 - val_classify_acc: 0.8995 - val_montage_binary_accuracy: 0.9353 - val_patient_acc: 0.0017\n",
      "Epoch 11/100\n",
      "400/400 [==============================] - 131s 326ms/step - loss: 261.2594 - detect_loss: 0.6214 - classify_loss: 1.0725 - montage_loss: 0.5765 - patient_loss: 6.1470 - decode_loss: 194.6279 - detect_acc: 0.7163 - detect_f1: 0.7138 - detect_sensitivity: 0.7054 - detect_specificity: 0.7083 - classify_acc: 0.5437 - montage_binary_accuracy: 0.7073 - patient_acc: 0.0104 - val_loss: 13240.1939 - val_detect_loss: 0.3538 - val_classify_loss: 0.3523 - val_montage_loss: 0.1533 - val_patient_loss: 6.4007 - val_decode_loss: 13176.4258 - val_detect_acc: 0.8845 - val_detect_f1: 0.0351 - val_detect_sensitivity: 0.0436 - val_detect_specificity: 0.9453 - val_classify_acc: 0.9023 - val_montage_binary_accuracy: 0.9386 - val_patient_acc: 5.7292e-04\n"
     ]
    },
    {
     "name": "stdout",
     "output_type": "stream",
     "text": [
      "Epoch 12/100\n",
      "400/400 [==============================] - 127s 317ms/step - loss: 256.6632 - detect_loss: 0.6158 - classify_loss: 1.0641 - montage_loss: 0.5579 - patient_loss: 6.1497 - decode_loss: 193.4266 - detect_acc: 0.7312 - detect_f1: 0.7290 - detect_sensitivity: 0.7215 - detect_specificity: 0.7236 - classify_acc: 0.5533 - montage_binary_accuracy: 0.7210 - patient_acc: 0.0106 - val_loss: 13314.2102 - val_detect_loss: 0.3734 - val_classify_loss: 0.3735 - val_montage_loss: 0.1631 - val_patient_loss: 6.3853 - val_decode_loss: 13253.7100 - val_detect_acc: 0.8786 - val_detect_f1: 0.0370 - val_detect_sensitivity: 0.0459 - val_detect_specificity: 0.9363 - val_classify_acc: 0.8963 - val_montage_binary_accuracy: 0.9331 - val_patient_acc: 6.5104e-04\n",
      "Epoch 13/100\n",
      "400/400 [==============================] - 120s 299ms/step - loss: 255.4974 - detect_loss: 0.5441 - classify_loss: 0.9893 - montage_loss: 0.5414 - patient_loss: 6.1389 - decode_loss: 195.6887 - detect_acc: 0.7565 - detect_f1: 0.7556 - detect_sensitivity: 0.7551 - detect_specificity: 0.7545 - classify_acc: 0.5771 - montage_binary_accuracy: 0.7261 - patient_acc: 0.0122 - val_loss: 14440.0908 - val_detect_loss: 0.3630 - val_classify_loss: 0.3686 - val_montage_loss: 0.1643 - val_patient_loss: 6.3858 - val_decode_loss: 14382.8037 - val_detect_acc: 0.8727 - val_detect_f1: 0.0319 - val_detect_sensitivity: 0.0426 - val_detect_specificity: 0.9474 - val_classify_acc: 0.8923 - val_montage_binary_accuracy: 0.9379 - val_patient_acc: 3.3854e-04\n",
      "Epoch 14/100\n",
      "400/400 [==============================] - 124s 309ms/step - loss: 234.7653 - detect_loss: 0.5252 - classify_loss: 0.9456 - montage_loss: 0.5263 - patient_loss: 6.1315 - decode_loss: 178.1883 - detect_acc: 0.7738 - detect_f1: 0.7715 - detect_sensitivity: 0.7667 - detect_specificity: 0.7690 - classify_acc: 0.5953 - montage_binary_accuracy: 0.7352 - patient_acc: 0.0135 - val_loss: 13549.3774 - val_detect_loss: 0.4209 - val_classify_loss: 0.4276 - val_montage_loss: 0.1817 - val_patient_loss: 6.3938 - val_decode_loss: 13495.0596 - val_detect_acc: 0.8508 - val_detect_f1: 0.0498 - val_detect_sensitivity: 0.0587 - val_detect_specificity: 0.9408 - val_classify_acc: 0.8680 - val_montage_binary_accuracy: 0.9246 - val_patient_acc: 2.8646e-04\n",
      "Epoch 15/100\n",
      "400/400 [==============================] - 114s 286ms/step - loss: 239.8180 - detect_loss: 0.5520 - classify_loss: 0.9655 - montage_loss: 0.5213 - patient_loss: 6.0363 - decode_loss: 186.3303 - detect_acc: 0.7649 - detect_f1: 0.7629 - detect_sensitivity: 0.7565 - detect_specificity: 0.7580 - classify_acc: 0.5859 - montage_binary_accuracy: 0.7427 - patient_acc: 0.0141 - val_loss: 14372.2601 - val_detect_loss: 0.3667 - val_classify_loss: 0.3742 - val_montage_loss: 0.1617 - val_patient_loss: 6.4070 - val_decode_loss: 14321.0264 - val_detect_acc: 0.8764 - val_detect_f1: 0.0491 - val_detect_sensitivity: 0.0570 - val_detect_specificity: 0.9429 - val_classify_acc: 0.8928 - val_montage_binary_accuracy: 0.9376 - val_patient_acc: 4.5573e-04\n",
      "Epoch 16/100\n",
      "400/400 [==============================] - 116s 290ms/step - loss: 247.1144 - detect_loss: 0.5046 - classify_loss: 0.9193 - montage_loss: 0.5072 - patient_loss: 5.9541 - decode_loss: 196.7190 - detect_acc: 0.7843 - detect_f1: 0.7812 - detect_sensitivity: 0.7789 - detect_specificity: 0.7823 - classify_acc: 0.6098 - montage_binary_accuracy: 0.7480 - patient_acc: 0.0156 - val_loss: 14270.1906 - val_detect_loss: 0.4363 - val_classify_loss: 0.4315 - val_montage_loss: 0.1771 - val_patient_loss: 6.3882 - val_decode_loss: 14221.6631 - val_detect_acc: 0.8540 - val_detect_f1: 0.0495 - val_detect_sensitivity: 0.0620 - val_detect_specificity: 0.9368 - val_classify_acc: 0.8719 - val_montage_binary_accuracy: 0.9298 - val_patient_acc: 4.4271e-04\n",
      "Epoch 17/100\n",
      "400/400 [==============================] - 127s 318ms/step - loss: 229.9109 - detect_loss: 0.5800 - classify_loss: 0.9794 - montage_loss: 0.5184 - patient_loss: 5.9173 - decode_loss: 182.1890 - detect_acc: 0.7483 - detect_f1: 0.7438 - detect_sensitivity: 0.7413 - detect_specificity: 0.7471 - classify_acc: 0.5868 - montage_binary_accuracy: 0.7519 - patient_acc: 0.0159 - val_loss: 14584.5992 - val_detect_loss: 0.4694 - val_classify_loss: 0.4794 - val_montage_loss: 0.1946 - val_patient_loss: 6.4113 - val_decode_loss: 14538.6797 - val_detect_acc: 0.8423 - val_detect_f1: 0.0548 - val_detect_sensitivity: 0.0677 - val_detect_specificity: 0.9366 - val_classify_acc: 0.8580 - val_montage_binary_accuracy: 0.9255 - val_patient_acc: 3.1250e-04\n",
      "Epoch 18/100\n",
      "400/400 [==============================] - 118s 296ms/step - loss: 247.2453 - detect_loss: 0.5423 - classify_loss: 0.9279 - montage_loss: 0.4972 - patient_loss: 5.9443 - decode_loss: 202.2601 - detect_acc: 0.7626 - detect_f1: 0.7609 - detect_sensitivity: 0.7565 - detect_specificity: 0.7577 - classify_acc: 0.5963 - montage_binary_accuracy: 0.7568 - patient_acc: 0.0154 - val_loss: 14561.1585 - val_detect_loss: 0.5265 - val_classify_loss: 0.5287 - val_montage_loss: 0.2037 - val_patient_loss: 6.4160 - val_decode_loss: 14517.6914 - val_detect_acc: 0.8250 - val_detect_f1: 0.0610 - val_detect_sensitivity: 0.0785 - val_detect_specificity: 0.9341 - val_classify_acc: 0.8420 - val_montage_binary_accuracy: 0.9258 - val_patient_acc: 2.9948e-04\n",
      "Epoch 19/100\n",
      "400/400 [==============================] - 114s 284ms/step - loss: 209.1214 - detect_loss: 0.5159 - classify_loss: 0.9107 - montage_loss: 0.4936 - patient_loss: 5.9127 - decode_loss: 166.7481 - detect_acc: 0.7850 - detect_f1: 0.7812 - detect_sensitivity: 0.7701 - detect_specificity: 0.7756 - classify_acc: 0.6151 - montage_binary_accuracy: 0.7604 - patient_acc: 0.0186 - val_loss: 13587.7145 - val_detect_loss: 0.3588 - val_classify_loss: 0.4009 - val_montage_loss: 0.1420 - val_patient_loss: 6.3981 - val_decode_loss: 13547.1113 - val_detect_acc: 0.8860 - val_detect_f1: 0.0377 - val_detect_sensitivity: 0.0464 - val_detect_specificity: 0.9589 - val_classify_acc: 0.8852 - val_montage_binary_accuracy: 0.9452 - val_patient_acc: 1.3021e-04\n",
      "Epoch 20/100\n",
      "400/400 [==============================] - 129s 322ms/step - loss: 231.8620 - detect_loss: 0.5338 - classify_loss: 0.9089 - montage_loss: 0.4978 - patient_loss: 5.9664 - decode_loss: 191.8300 - detect_acc: 0.7712 - detect_f1: 0.7685 - detect_sensitivity: 0.7605 - detect_specificity: 0.7639 - classify_acc: 0.6075 - montage_binary_accuracy: 0.7593 - patient_acc: 0.0164 - val_loss: 14303.1796 - val_detect_loss: 0.4712 - val_classify_loss: 0.4820 - val_montage_loss: 0.1776 - val_patient_loss: 6.4187 - val_decode_loss: 14264.6846 - val_detect_acc: 0.8479 - val_detect_f1: 0.0554 - val_detect_sensitivity: 0.0708 - val_detect_specificity: 0.9339 - val_classify_acc: 0.8613 - val_montage_binary_accuracy: 0.9344 - val_patient_acc: 3.9063e-04\n",
      "Epoch 21/100\n",
      "400/400 [==============================] - 116s 290ms/step - loss: 217.9979 - detect_loss: 0.5097 - classify_loss: 0.8851 - montage_loss: 0.4836 - patient_loss: 5.9407 - decode_loss: 180.3624 - detect_acc: 0.7927 - detect_f1: 0.7916 - detect_sensitivity: 0.7842 - detect_specificity: 0.7840 - classify_acc: 0.6148 - montage_binary_accuracy: 0.7602 - patient_acc: 0.0154 - val_loss: 14471.8658 - val_detect_loss: 0.4971 - val_classify_loss: 0.5230 - val_montage_loss: 0.1810 - val_patient_loss: 6.4152 - val_decode_loss: 14435.5420 - val_detect_acc: 0.8325 - val_detect_f1: 0.0567 - val_detect_sensitivity: 0.0772 - val_detect_specificity: 0.9324 - val_classify_acc: 0.8433 - val_montage_binary_accuracy: 0.9350 - val_patient_acc: 2.8646e-04\n",
      "Epoch 22/100\n",
      "400/400 [==============================] - 115s 289ms/step - loss: 200.7144 - detect_loss: 0.4134 - classify_loss: 0.7861 - montage_loss: 0.4606 - patient_loss: 5.8408 - decode_loss: 165.5945 - detect_acc: 0.8367 - detect_f1: 0.8313 - detect_sensitivity: 0.8216 - detect_specificity: 0.8295 - classify_acc: 0.6616 - montage_binary_accuracy: 0.7707 - patient_acc: 0.0206 - val_loss: 7554.2624 - val_detect_loss: 0.4430 - val_classify_loss: 0.4484 - val_montage_loss: 0.1670 - val_patient_loss: 6.4059 - val_decode_loss: 7520.2524 - val_detect_acc: 0.8555 - val_detect_f1: 0.0457 - val_detect_sensitivity: 0.0565 - val_detect_specificity: 0.9332 - val_classify_acc: 0.8703 - val_montage_binary_accuracy: 0.9375 - val_patient_acc: 1.4323e-04\n"
     ]
    },
    {
     "name": "stdout",
     "output_type": "stream",
     "text": [
      "Epoch 23/100\n",
      "400/400 [==============================] - 118s 294ms/step - loss: 225.9492 - detect_loss: 0.5449 - classify_loss: 0.8954 - montage_loss: 0.4834 - patient_loss: 5.8232 - decode_loss: 192.6586 - detect_acc: 0.7751 - detect_f1: 0.7725 - detect_sensitivity: 0.7685 - detect_specificity: 0.7713 - classify_acc: 0.6173 - montage_binary_accuracy: 0.7658 - patient_acc: 0.0191 - val_loss: 14224.3943 - val_detect_loss: 0.4654 - val_classify_loss: 0.4877 - val_montage_loss: 0.1795 - val_patient_loss: 6.4308 - val_decode_loss: 14192.2920 - val_detect_acc: 0.8459 - val_detect_f1: 0.0556 - val_detect_sensitivity: 0.0661 - val_detect_specificity: 0.9373 - val_classify_acc: 0.8573 - val_montage_binary_accuracy: 0.9343 - val_patient_acc: 1.3021e-04\n",
      "Epoch 24/100\n",
      "400/400 [==============================] - 122s 306ms/step - loss: 199.7537 - detect_loss: 0.5436 - classify_loss: 0.9131 - montage_loss: 0.4770 - patient_loss: 5.7564 - decode_loss: 168.4770 - detect_acc: 0.7671 - detect_f1: 0.7642 - detect_sensitivity: 0.7541 - detect_specificity: 0.7577 - classify_acc: 0.6085 - montage_binary_accuracy: 0.7754 - patient_acc: 0.0200 - val_loss: 14579.8855 - val_detect_loss: 0.4431 - val_classify_loss: 0.4301 - val_montage_loss: 0.1540 - val_patient_loss: 6.4414 - val_decode_loss: 14549.7881 - val_detect_acc: 0.8677 - val_detect_f1: 0.0382 - val_detect_sensitivity: 0.0457 - val_detect_specificity: 0.9399 - val_classify_acc: 0.8852 - val_montage_binary_accuracy: 0.9452 - val_patient_acc: 1.3021e-04\n",
      "Epoch 25/100\n",
      "400/400 [==============================] - 114s 285ms/step - loss: 224.7843 - detect_loss: 0.4701 - classify_loss: 0.8407 - montage_loss: 0.4690 - patient_loss: 5.7389 - decode_loss: 195.5255 - detect_acc: 0.7955 - detect_f1: 0.7953 - detect_sensitivity: 0.7987 - detect_specificity: 0.7972 - classify_acc: 0.6246 - montage_binary_accuracy: 0.7713 - patient_acc: 0.0210 - val_loss: 13853.9683 - val_detect_loss: 0.4286 - val_classify_loss: 0.4315 - val_montage_loss: 0.1721 - val_patient_loss: 6.4458 - val_decode_loss: 13825.6221 - val_detect_acc: 0.8689 - val_detect_f1: 0.0356 - val_detect_sensitivity: 0.0438 - val_detect_specificity: 0.9385 - val_classify_acc: 0.8852 - val_montage_binary_accuracy: 0.9413 - val_patient_acc: 2.3437e-04\n",
      "Epoch 26/100\n",
      "342/400 [========================>.....] - ETA: 12s - loss: 188.7121 - detect_loss: 0.4515 - classify_loss: 0.7988 - montage_loss: 0.4604 - patient_loss: 5.7919 - decode_loss: 161.0877 - detect_acc: 0.8155 - detect_f1: 0.8089 - detect_sensitivity: 0.7910 - detect_specificity: 0.8022 - classify_acc: 0.6468 - montage_binary_accuracy: 0.7789 - patient_acc: 0.0190 - ETA: 1:16 - loss: 208.5599 - detect_loss: 0.6666 - classify_loss: 1.0121 - montage_loss: 0.5322 - patient_lo"
     ]
    }
   ],
   "source": [
    "batch_size=128\n",
    "train_data = get_balanced_dataset([\"/n/scratch2/ms994/train_4s.tfr\"], batch_size, is_train=True)\n",
    "train_unbalanced = get_batched_dataset([\"/n/scratch2/ms994/train_4s.tfr\"], batch_size, is_train=True)\n",
    "valid_data = get_batched_dataset([\"/n/scratch2/ms994/valid_4s.tfr\"], batch_size, is_train=False)\n",
    "test_data = get_batched_dataset([\"/n/scratch2/ms994/test_4s.tfr\"], batch_size, is_train=False)\n",
    "history = model.fit(train_data, steps_per_epoch=(400), validation_data=valid_data, validation_steps=(600), epochs=100, callbacks=[tf.keras.callbacks.EarlyStopping(monitor=\"val_detect_f1\", mode=\"max\", patience=10)])"
   ]
  },
  {
   "cell_type": "code",
   "execution_count": 42,
   "metadata": {},
   "outputs": [],
   "source": [
    "history = Dict(history.history)"
   ]
  },
  {
   "cell_type": "code",
   "execution_count": 47,
   "metadata": {},
   "outputs": [
    {
     "data": {
      "text/plain": [
       "<matplotlib.legend.Legend at 0x7fc18e309f60>"
      ]
     },
     "execution_count": 47,
     "metadata": {},
     "output_type": "execute_result"
    },
    {
     "data": {
      "image/png": "[encoded data removed]",
      "text/plain": [
       "<Figure size 432x288 with 1 Axes>"
      ]
     },
     "metadata": {
      "needs_background": "light"
     },
     "output_type": "display_data"
    }
   ],
   "source": [
    "plt.plot(history.detect_f1)\n",
    "plt.plot(history.val_detect_f1)\n",
    "plt.plot((np.log(history.patient_acc) + 6)/2 )\n",
    "plt.legend([\"Train F1\", \"Valid F1\", \"Log-Scaled Patient Acc\"])"
   ]
  },
  {
   "cell_type": "markdown",
   "metadata": {},
   "source": [
    "# Try to remove the l1/l2 regularization and see effect on patient acc"
   ]
  },
  {
   "cell_type": "code",
   "execution_count": 48,
   "metadata": {},
   "outputs": [],
   "source": [
    "num_cnn_layers = 3\n",
    "num_lstm_layers = 1\n",
    "num_lin_layers= 4\n",
    "inputLayer = tf.keras.layers.Input((1000,21, 1))\n",
    "x = inputLayer\n",
    "\n",
    "x = tf.keras.layers.GaussianNoise(2)(x)\n",
    "for i in range(num_cnn_layers):\n",
    "#     x = tf.keras.layers.BatchNormalization()(x)\n",
    "    x = tf.keras.layers.Conv2D(2**i, (3,3), padding=\"same\")(x)\n",
    "    x = tf.keras.layers.LeakyReLU()(x)\n",
    "    x = tf.keras.layers.MaxPool2D((2,1))(x)\n",
    "old_x_shape = (x).get_shape().as_list()\n",
    "x = tf.keras.layers.Reshape((int(x.shape[1]), int(x.shape[2]) * int(x.shape[3])), name=\"LSTM_Reshape\")(x)\n",
    "for j in range(num_lstm_layers):\n",
    "    x = tf.keras.layers.TimeDistributed(tf.keras.layers.BatchNormalization())(x)\n",
    "    x = tf.keras.layers.CuDNNLSTM(32, return_sequences=True)(x)\n",
    "    x = tf.keras.layers.LeakyReLU()(x)\n",
    "x_shared = x\n",
    "x = tf.keras.layers.Flatten(name=\"flatten_encoder_lstm\")(x)\n",
    "x_shared_flattened = x\n",
    "\n",
    "#seizure detect\n",
    "x = x_shared_flattened \n",
    "for k in range(num_lin_layers):\n",
    "    x = tf.keras.layers.BatchNormalization()(x)\n",
    "    x = tf.keras.layers.Dense(100)(x)\n",
    "    x = tf.keras.layers.LeakyReLU()(x)\n",
    "    x = tf.keras.layers.Dropout(0.5)(x)\n",
    "x_detect = tf.keras.layers.Dense(2, name=\"detect\", activation=\"softmax\")(x)\n",
    "\n",
    "\n",
    "#seizure classify\n",
    "x = x_shared_flattened \n",
    "for k in range(num_lin_layers):\n",
    "    x = tf.keras.layers.BatchNormalization()(x)\n",
    "    x = tf.keras.layers.Dense(100)(x)\n",
    "    x = tf.keras.layers.LeakyReLU()(x)\n",
    "    x = tf.keras.layers.Dropout(0.5)(x)\n",
    "x_classify = tf.keras.layers.Dense(4, name=\"classify\", activation=\"softmax\")(x)\n",
    "\n",
    "#montage classify\n",
    "x = x_shared_flattened \n",
    "for k in range(num_lin_layers):\n",
    "    x = tf.keras.layers.BatchNormalization()(x)\n",
    "    x = tf.keras.layers.Dense(100)(x)\n",
    "    x = tf.keras.layers.LeakyReLU()(x)\n",
    "    x = tf.keras.layers.Dropout(0.5)(x)\n",
    "x_montage = tf.keras.layers.Dense(22, name=\"montage\", activation=\"sigmoid\")(x)\n",
    "\n",
    "#patient measurement\n",
    "x = x_shared_flattened \n",
    "for k in range(num_lin_layers):\n",
    "    x = tf.keras.layers.BatchNormalization()(x)\n",
    "    x = tf.keras.layers.Dense(100)(x)\n",
    "    x = tf.keras.layers.LeakyReLU()(x)\n",
    "    x = tf.keras.layers.Dropout(0.5)(x)\n",
    "x_pre_patient = x\n",
    "x_patient = tf.keras.layers.Dense(575, name=\"patient\", activation=\"softmax\")(x)\n",
    "\n",
    "#decoder\n",
    "x = x_shared\n",
    "x = tf.keras.layers.CuDNNLSTM(old_x_shape[2]*old_x_shape[3], return_sequences=True, name=\"lstm_decode\")(x)\n",
    "x = tf.keras.layers.BatchNormalization()(x)\n",
    "x = tf.keras.layers.Reshape(old_x_shape[1:], name=\"reshape_decode\")(x)\n",
    "for i in range(num_cnn_layers):\n",
    "    x = tf.keras.layers.BatchNormalization()(x)\n",
    "    x = tf.keras.layers.Conv2D(2**(2-i), (3,3), padding=\"same\")(x)\n",
    "    x = tf.keras.layers.UpSampling2D((2,1))(x)\n",
    "    x = tf.keras.layers.LeakyReLU()(x)\n",
    "x = tf.keras.layers.Conv2D(1, (3,3), padding=\"same\")(x)\n",
    "x = tf.keras.layers.LeakyReLU()(x)\n",
    "\n",
    "x_decode = tf.keras.layers.Reshape((int(x.shape[1]), int(x.shape[2]), int(x.shape[3])), name=\"decode\")(x)\n",
    "\n",
    "model = tf.keras.Model(inputs=inputLayer, outputs=[x_detect, x_classify, x_montage, x_patient, x_decode])\n",
    "from keras_models.metrics import f1, sensitivity, specificity\n",
    "model.compile(tf.keras.optimizers.Adam(lr=0.00001), loss=[\"categorical_crossentropy\", \"categorical_crossentropy\", \"binary_crossentropy\", \"categorical_crossentropy\", \"mean_squared_error\"], metrics={\"detect\":[\"accuracy\", f1, sensitivity, specificity], \"classify\":[\"accuracy\"], \"montage\":[\"binary_accuracy\"], \"patient\": [\"accuracy\"]})\n",
    "batch_size=128\n"
   ]
  },
  {
   "cell_type": "code",
   "execution_count": 49,
   "metadata": {},
   "outputs": [
    {
     "name": "stdout",
     "output_type": "stream",
     "text": [
      "Epoch 1/100\n",
      "400/400 [==============================] - 139s 347ms/step - loss: 236.7190 - detect_loss: 0.9920 - classify_loss: 2.0229 - montage_loss: 0.8937 - patient_loss: 6.4789 - decode_loss: 226.3316 - detect_acc: 0.5445 - detect_f1: 0.4998 - detect_sensitivity: 0.4568 - detect_specificity: 0.5364 - classify_acc: 0.2459 - montage_binary_accuracy: 0.4826 - patient_acc: 0.0022 - val_loss: 13549.6912 - val_detect_loss: 0.5154 - val_classify_loss: 1.1861 - val_montage_loss: 0.6939 - val_patient_loss: 6.3630 - val_decode_loss: 13540.9297 - val_detect_acc: 0.6956 - val_detect_f1: 0.0603 - val_detect_sensitivity: 0.1052 - val_detect_specificity: 0.9716 - val_classify_acc: 0.6439 - val_montage_binary_accuracy: 0.5268 - val_patient_acc: 0.0010\n",
      "Epoch 2/100\n",
      "400/400 [==============================] - 137s 341ms/step - loss: 204.9252 - detect_loss: 0.8752 - classify_loss: 1.7950 - montage_loss: 0.8532 - patient_loss: 6.4502 - decode_loss: 194.9516 - detect_acc: 0.5957 - detect_f1: 0.5673 - detect_sensitivity: 0.5355 - detect_specificity: 0.5870 - classify_acc: 0.2907 - montage_binary_accuracy: 0.5034 - patient_acc: 0.0029 - val_loss: 14209.7545 - val_detect_loss: 0.5321 - val_classify_loss: 0.9856 - val_montage_loss: 0.6554 - val_patient_loss: 6.3599 - val_decode_loss: 14201.2197 - val_detect_acc: 0.6982 - val_detect_f1: 0.0848 - val_detect_sensitivity: 0.1276 - val_detect_specificity: 0.9490 - val_classify_acc: 0.6757 - val_montage_binary_accuracy: 0.6156 - val_patient_acc: 0.0012\n",
      "Epoch 3/100\n",
      "400/400 [==============================] - 139s 347ms/step - loss: 230.9625 - detect_loss: 0.8312 - classify_loss: 1.6602 - montage_loss: 0.8206 - patient_loss: 6.4083 - decode_loss: 221.2421 - detect_acc: 0.6160 - detect_f1: 0.6008 - detect_sensitivity: 0.5792 - detect_specificity: 0.6062 - classify_acc: 0.3426 - montage_binary_accuracy: 0.5225 - patient_acc: 0.0036 - val_loss: 14552.6218 - val_detect_loss: 0.5645 - val_classify_loss: 0.8979 - val_montage_loss: 0.6165 - val_patient_loss: 6.3591 - val_decode_loss: 14544.1836 - val_detect_acc: 0.6798 - val_detect_f1: 0.0771 - val_detect_sensitivity: 0.1182 - val_detect_specificity: 0.9306 - val_classify_acc: 0.7110 - val_montage_binary_accuracy: 0.7132 - val_patient_acc: 9.6354e-04\n",
      "Epoch 4/100\n",
      "400/400 [==============================] - 139s 347ms/step - loss: 204.6670 - detect_loss: 0.7007 - classify_loss: 1.4746 - montage_loss: 0.7833 - patient_loss: 6.3730 - decode_loss: 195.3354 - detect_acc: 0.6742 - detect_f1: 0.6661 - detect_sensitivity: 0.6513 - detect_specificity: 0.6651 - classify_acc: 0.4066 - montage_binary_accuracy: 0.5481 - patient_acc: 0.0047 - val_loss: 7553.3564 - val_detect_loss: 0.5461 - val_classify_loss: 0.7157 - val_montage_loss: 0.5673 - val_patient_loss: 6.3554 - val_decode_loss: 7545.1719 - val_detect_acc: 0.7245 - val_detect_f1: 0.0861 - val_detect_sensitivity: 0.1277 - val_detect_specificity: 0.9308 - val_classify_acc: 0.7598 - val_montage_binary_accuracy: 0.7763 - val_patient_acc: 8.8542e-04\n",
      "Epoch 5/100\n",
      "400/400 [==============================] - 140s 351ms/step - loss: 211.6325 - detect_loss: 0.7262 - classify_loss: 1.4180 - montage_loss: 0.7565 - patient_loss: 6.3832 - decode_loss: 202.3488 - detect_acc: 0.6708 - detect_f1: 0.6676 - detect_sensitivity: 0.6675 - detect_specificity: 0.6712 - classify_acc: 0.4383 - montage_binary_accuracy: 0.5644 - patient_acc: 0.0053 - val_loss: 14231.1489 - val_detect_loss: 0.5797 - val_classify_loss: 0.7472 - val_montage_loss: 0.5337 - val_patient_loss: 6.3523 - val_decode_loss: 14222.9336 - val_detect_acc: 0.6904 - val_detect_f1: 0.0790 - val_detect_sensitivity: 0.1167 - val_detect_specificity: 0.9247 - val_classify_acc: 0.7494 - val_montage_binary_accuracy: 0.8088 - val_patient_acc: 0.0013\n",
      "Epoch 6/100\n",
      "400/400 [==============================] - 136s 339ms/step - loss: 206.4029 - detect_loss: 0.6119 - classify_loss: 1.2555 - montage_loss: 0.7223 - patient_loss: 6.3727 - decode_loss: 197.4406 - detect_acc: 0.7256 - detect_f1: 0.7249 - detect_sensitivity: 0.7277 - detect_specificity: 0.7265 - classify_acc: 0.4973 - montage_binary_accuracy: 0.5900 - patient_acc: 0.0057 - val_loss: 13875.9752 - val_detect_loss: 0.6863 - val_classify_loss: 0.8227 - val_montage_loss: 0.5138 - val_patient_loss: 6.3670 - val_decode_loss: 13867.5840 - val_detect_acc: 0.6565 - val_detect_f1: 0.0722 - val_detect_sensitivity: 0.1168 - val_detect_specificity: 0.9016 - val_classify_acc: 0.7191 - val_montage_binary_accuracy: 0.8235 - val_patient_acc: 6.6406e-04\n",
      "Epoch 7/100\n",
      "400/400 [==============================] - 138s 346ms/step - loss: 202.8249 - detect_loss: 0.5504 - classify_loss: 1.1546 - montage_loss: 0.6859 - patient_loss: 6.3145 - decode_loss: 194.1195 - detect_acc: 0.7542 - detect_f1: 0.7537 - detect_sensitivity: 0.7605 - detect_specificity: 0.7593 - classify_acc: 0.5477 - montage_binary_accuracy: 0.6158 - patient_acc: 0.0080 - val_loss: 14555.9158 - val_detect_loss: 0.6312 - val_classify_loss: 0.6928 - val_montage_loss: 0.4487 - val_patient_loss: 6.3608 - val_decode_loss: 14547.7764 - val_detect_acc: 0.7055 - val_detect_f1: 0.0762 - val_detect_sensitivity: 0.1176 - val_detect_specificity: 0.9104 - val_classify_acc: 0.7697 - val_montage_binary_accuracy: 0.8338 - val_patient_acc: 6.6406e-04\n",
      "Epoch 8/100\n",
      "400/400 [==============================] - 141s 353ms/step - loss: 217.8451 - detect_loss: 0.6928 - classify_loss: 1.2442 - montage_loss: 0.6722 - patient_loss: 6.2209 - decode_loss: 209.0149 - detect_acc: 0.7050 - detect_f1: 0.7050 - detect_sensitivity: 0.7113 - detect_specificity: 0.7089 - classify_acc: 0.5179 - montage_binary_accuracy: 0.6272 - patient_acc: 0.0087 - val_loss: 14559.2168 - val_detect_loss: 0.6924 - val_classify_loss: 0.7887 - val_montage_loss: 0.4388 - val_patient_loss: 6.3593 - val_decode_loss: 14550.9453 - val_detect_acc: 0.6659 - val_detect_f1: 0.0666 - val_detect_sensitivity: 0.0985 - val_detect_specificity: 0.8994 - val_classify_acc: 0.7387 - val_montage_binary_accuracy: 0.8473 - val_patient_acc: 5.5990e-04\n",
      "Epoch 9/100\n",
      "400/400 [==============================] - 141s 352ms/step - loss: 201.3704 - detect_loss: 0.6013 - classify_loss: 1.1159 - montage_loss: 0.6372 - patient_loss: 6.1223 - decode_loss: 192.8935 - detect_acc: 0.7442 - detect_f1: 0.7418 - detect_sensitivity: 0.7429 - detect_specificity: 0.7447 - classify_acc: 0.5608 - montage_binary_accuracy: 0.6547 - patient_acc: 0.0112 - val_loss: 14543.8304 - val_detect_loss: 0.5939 - val_classify_loss: 0.6440 - val_montage_loss: 0.3658 - val_patient_loss: 6.3624 - val_decode_loss: 14535.8721 - val_detect_acc: 0.7325 - val_detect_f1: 0.0680 - val_detect_sensitivity: 0.0964 - val_detect_specificity: 0.9220 - val_classify_acc: 0.7983 - val_montage_binary_accuracy: 0.8565 - val_patient_acc: 5.9896e-04\n",
      "Epoch 10/100\n",
      "400/400 [==============================] - 137s 343ms/step - loss: 210.7154 - detect_loss: 0.5863 - classify_loss: 1.1183 - montage_loss: 0.6177 - patient_loss: 6.1329 - decode_loss: 202.2602 - detect_acc: 0.7496 - detect_f1: 0.7508 - detect_sensitivity: 0.7595 - detect_specificity: 0.7546 - classify_acc: 0.5655 - montage_binary_accuracy: 0.6675 - patient_acc: 0.0114 - val_loss: 14266.7645 - val_detect_loss: 0.5570 - val_classify_loss: 0.5829 - val_montage_loss: 0.3459 - val_patient_loss: 6.3641 - val_decode_loss: 14258.9131 - val_detect_acc: 0.7299 - val_detect_f1: 0.0658 - val_detect_sensitivity: 0.0936 - val_detect_specificity: 0.9266 - val_classify_acc: 0.8084 - val_montage_binary_accuracy: 0.8737 - val_patient_acc: 4.2969e-04\n",
      "Epoch 11/100\n",
      "400/400 [==============================] - 148s 370ms/step - loss: 204.5396 - detect_loss: 0.6069 - classify_loss: 1.0875 - montage_loss: 0.6045 - patient_loss: 6.1460 - decode_loss: 196.0948 - detect_acc: 0.7347 - detect_f1: 0.7353 - detect_sensitivity: 0.7354 - detect_specificity: 0.7315 - classify_acc: 0.5641 - montage_binary_accuracy: 0.6803 - patient_acc: 0.0107 - val_loss: 13187.8474 - val_detect_loss: 0.5850 - val_classify_loss: 0.6103 - val_montage_loss: 0.3123 - val_patient_loss: 6.3677 - val_decode_loss: 13179.9697 - val_detect_acc: 0.7495 - val_detect_f1: 0.0762 - val_detect_sensitivity: 0.1066 - val_detect_specificity: 0.9296 - val_classify_acc: 0.8026 - val_montage_binary_accuracy: 0.8441 - val_patient_acc: 3.1250e-04\n"
     ]
    },
    {
     "name": "stdout",
     "output_type": "stream",
     "text": [
      "Epoch 12/100\n",
      "400/400 [==============================] - 141s 352ms/step - loss: 205.1951 - detect_loss: 0.5728 - classify_loss: 1.0513 - montage_loss: 0.5799 - patient_loss: 6.1310 - decode_loss: 196.8601 - detect_acc: 0.7600 - detect_f1: 0.7625 - detect_sensitivity: 0.7693 - detect_specificity: 0.7617 - classify_acc: 0.5839 - montage_binary_accuracy: 0.6936 - patient_acc: 0.0126 - val_loss: 13252.5506 - val_detect_loss: 0.5640 - val_classify_loss: 0.5722 - val_montage_loss: 0.3129 - val_patient_loss: 6.3620 - val_decode_loss: 13244.7344 - val_detect_acc: 0.7327 - val_detect_f1: 0.0757 - val_detect_sensitivity: 0.1095 - val_detect_specificity: 0.9116 - val_classify_acc: 0.8013 - val_montage_binary_accuracy: 0.8781 - val_patient_acc: 2.3437e-04\n",
      "Epoch 13/100\n",
      "400/400 [==============================] - 139s 347ms/step - loss: 201.7252 - detect_loss: 0.4779 - classify_loss: 0.9464 - montage_loss: 0.5542 - patient_loss: 6.1457 - decode_loss: 193.6011 - detect_acc: 0.7941 - detect_f1: 0.7960 - detect_sensitivity: 0.8097 - detect_specificity: 0.8032 - classify_acc: 0.6175 - montage_binary_accuracy: 0.7067 - patient_acc: 0.0144 - val_loss: 14387.6338 - val_detect_loss: 0.5963 - val_classify_loss: 0.5823 - val_montage_loss: 0.3015 - val_patient_loss: 6.3626 - val_decode_loss: 14379.7900 - val_detect_acc: 0.7202 - val_detect_f1: 0.0640 - val_detect_sensitivity: 0.0822 - val_detect_specificity: 0.9169 - val_classify_acc: 0.7921 - val_montage_binary_accuracy: 0.8848 - val_patient_acc: 1.6927e-04\n",
      "Epoch 14/100\n",
      "400/400 [==============================] - 141s 353ms/step - loss: 189.3238 - detect_loss: 0.4770 - classify_loss: 0.9269 - montage_loss: 0.5400 - patient_loss: 6.1203 - decode_loss: 181.2596 - detect_acc: 0.8027 - detect_f1: 0.8032 - detect_sensitivity: 0.8134 - detect_specificity: 0.8096 - classify_acc: 0.6300 - montage_binary_accuracy: 0.7196 - patient_acc: 0.0141 - val_loss: 13499.8296 - val_detect_loss: 0.6354 - val_classify_loss: 0.6270 - val_montage_loss: 0.2975 - val_patient_loss: 6.3638 - val_decode_loss: 13491.9121 - val_detect_acc: 0.7254 - val_detect_f1: 0.0795 - val_detect_sensitivity: 0.0889 - val_detect_specificity: 0.9121 - val_classify_acc: 0.7875 - val_montage_binary_accuracy: 0.8629 - val_patient_acc: 1.9531e-04\n",
      "Epoch 00014: early stopping\n"
     ]
    }
   ],
   "source": [
    "batch_size=128\n",
    "train_data = get_balanced_dataset([\"/n/scratch2/ms994/train_4s.tfr\"], batch_size, is_train=True)\n",
    "train_unbalanced = get_batched_dataset([\"/n/scratch2/ms994/train_4s.tfr\"], batch_size, is_train=True)\n",
    "valid_data = get_batched_dataset([\"/n/scratch2/ms994/valid_4s.tfr\"], batch_size, is_train=False)\n",
    "test_data = get_batched_dataset([\"/n/scratch2/ms994/test_4s.tfr\"], batch_size, is_train=False)\n",
    "history = model.fit(train_data, steps_per_epoch=(400), validation_data=valid_data, validation_steps=(600), epochs=100, callbacks=[tf.keras.callbacks.EarlyStopping(monitor=\"val_detect_f1\", mode=\"max\", patience=10, verbose=True)])"
   ]
  },
  {
   "cell_type": "code",
   "execution_count": 51,
   "metadata": {},
   "outputs": [],
   "source": [
    "history = Dict(history.history)"
   ]
  },
  {
   "cell_type": "code",
   "execution_count": 52,
   "metadata": {},
   "outputs": [
    {
     "data": {
      "text/plain": [
       "<matplotlib.legend.Legend at 0x7fc128526d68>"
      ]
     },
     "execution_count": 52,
     "metadata": {},
     "output_type": "execute_result"
    },
    {
     "data": {
      "image/png": "[encoded data removed]",
      "text/plain": [
       "<Figure size 432x288 with 1 Axes>"
      ]
     },
     "metadata": {
      "needs_background": "light"
     },
     "output_type": "display_data"
    }
   ],
   "source": [
    "plt.plot(history.detect_f1)\n",
    "plt.plot(history.val_detect_f1)\n",
    "plt.plot((np.log(history.patient_acc) + 6)/2 )\n",
    "plt.legend([\"Train F1\", \"Valid F1\", \"Log-Scaled Patient Acc\"])"
   ]
  },
  {
   "cell_type": "markdown",
   "metadata": {},
   "source": [
    "# Try multitask learning with session and higher lr"
   ]
  },
  {
   "cell_type": "code",
   "execution_count": null,
   "metadata": {},
   "outputs": [],
   "source": [
    "from tensorflow import control_flow_ops"
   ]
  },
  {
   "cell_type": "code",
   "execution_count": 60,
   "metadata": {},
   "outputs": [
    {
     "ename": "NameError",
     "evalue": "name 'control_flow_opts' is not defined",
     "output_type": "error",
     "traceback": [
      "\u001b[0;31m---------------------------------------------------------------------------\u001b[0m",
      "\u001b[0;31mNameError\u001b[0m                                 Traceback (most recent call last)",
      "\u001b[0;32m<ipython-input-60-41b60a947293>\u001b[0m in \u001b[0;36m<module>\u001b[0;34m\u001b[0m\n\u001b[0;32m----> 1\u001b[0;31m \u001b[0mcontrol_flow_opts\u001b[0m\u001b[0;34m\u001b[0m\u001b[0;34m\u001b[0m\u001b[0m\n\u001b[0m",
      "\u001b[0;31mNameError\u001b[0m: name 'control_flow_opts' is not defined"
     ]
    }
   ],
   "source": [
    "control_flow_opts"
   ]
  },
  {
   "cell_type": "code",
   "execution_count": 4,
   "metadata": {},
   "outputs": [],
   "source": [
    "def auc_roc(y_true, y_pred):\n",
    "    # any tensorflow metric\n",
    "    value, update_op = tf.contrib.metrics.streaming_auc(y_pred, y_true)\n",
    "\n",
    "    # find all variables created for this metric\n",
    "    metric_vars = [i for i in tf.local_variables() if 'auc_roc' in i.name.split('/')[1]]\n",
    "\n",
    "    # Add metric variables to GLOBAL_VARIABLES collection.\n",
    "    # They will be initialized for new session.\n",
    "    for v in metric_vars:\n",
    "        tf.add_to_collection(tf.GraphKeys.GLOBAL_VARIABLES, v)\n",
    "\n",
    "    # force to update metric values\n",
    "    with tf.control_dependencies([update_op]):\n",
    "        value = tf.identity(value)\n",
    "        return value"
   ]
  },
  {
   "cell_type": "code",
   "execution_count": 23,
   "metadata": {},
   "outputs": [],
   "source": [
    "num_cnn_layers = 3\n",
    "num_lstm_layers = 1\n",
    "num_lin_layers= 4\n",
    "inputLayer = tf.keras.layers.Input((1000,21, 1))\n",
    "x = inputLayer\n",
    "\n",
    "x = tf.keras.layers.GaussianNoise(2)(x)\n",
    "for i in range(num_cnn_layers):\n",
    "#     x = tf.keras.layers.BatchNormalization()(x)\n",
    "    x = tf.keras.layers.Conv2D(2, (3,3), padding=\"same\")(x)\n",
    "    x = tf.keras.layers.LeakyReLU()(x)\n",
    "    x = tf.keras.layers.MaxPool2D((2,1))(x)\n",
    "old_x_shape = (x).get_shape().as_list()\n",
    "x = tf.keras.layers.Reshape((int(x.shape[1]), int(x.shape[2]) * int(x.shape[3])), name=\"LSTM_Reshape\")(x)\n",
    "for j in range(num_lstm_layers):\n",
    "    x = tf.keras.layers.TimeDistributed(tf.keras.layers.BatchNormalization())(x)\n",
    "    x = tf.keras.layers.CuDNNLSTM(32, return_sequences=True)(x)\n",
    "    x = tf.keras.layers.LeakyReLU()(x)\n",
    "x_shared = x\n",
    "x = tf.keras.layers.Flatten(name=\"flatten_encoder_lstm\")(x)\n",
    "x_shared_flattened = x\n",
    "\n",
    "#seizure detect\n",
    "x = x_shared_flattened \n",
    "for k in range(num_lin_layers):\n",
    "    x = tf.keras.layers.BatchNormalization()(x)\n",
    "    x = tf.keras.layers.Dense(100)(x)\n",
    "    x = tf.keras.layers.LeakyReLU()(x)\n",
    "    x = tf.keras.layers.Dropout(0.5)(x)\n",
    "x_detect = tf.keras.layers.Dense(2, name=\"detect\", activation=\"softmax\")(x)\n",
    "\n",
    "\n",
    "#seizure classify\n",
    "x = x_shared_flattened \n",
    "for k in range(num_lin_layers):\n",
    "    x = tf.keras.layers.BatchNormalization()(x)\n",
    "    x = tf.keras.layers.Dense(100)(x)\n",
    "    x = tf.keras.layers.LeakyReLU()(x)\n",
    "    x = tf.keras.layers.Dropout(0.5)(x)\n",
    "x_classify = tf.keras.layers.Dense(4, name=\"classify\", activation=\"softmax\")(x)\n",
    "\n",
    "#montage classify\n",
    "x = x_shared_flattened \n",
    "for k in range(num_lin_layers):\n",
    "    x = tf.keras.layers.BatchNormalization()(x)\n",
    "    x = tf.keras.layers.Dense(100)(x)\n",
    "    x = tf.keras.layers.LeakyReLU()(x)\n",
    "    x = tf.keras.layers.Dropout(0.5)(x)\n",
    "x_montage = tf.keras.layers.Dense(22, name=\"montage\", activation=\"sigmoid\")(x)\n",
    "\n",
    "#patient measurement\n",
    "x = x_shared_flattened \n",
    "for k in range(num_lin_layers):\n",
    "    x = tf.keras.layers.BatchNormalization()(x)\n",
    "    x = tf.keras.layers.Dense(100)(x)\n",
    "    x = tf.keras.layers.LeakyReLU()(x)\n",
    "    x = tf.keras.layers.Dropout(0.5)(x)\n",
    "x_pre_patient = x\n",
    "x_patient = tf.keras.layers.Dense(575, name=\"patient\", activation=\"softmax\")(x)\n",
    "\n",
    "#decoder\n",
    "x = x_shared\n",
    "x = tf.keras.layers.CuDNNLSTM(old_x_shape[2]*old_x_shape[3], return_sequences=True, name=\"lstm_decode\")(x)\n",
    "x = tf.keras.layers.BatchNormalization()(x)\n",
    "x = tf.keras.layers.Reshape(old_x_shape[1:], name=\"reshape_decode\")(x)\n",
    "for i in range(num_cnn_layers):\n",
    "    x = tf.keras.layers.BatchNormalization()(x)\n",
    "    x = tf.keras.layers.Conv2D(2, (3,3), padding=\"same\")(x)\n",
    "    x = tf.keras.layers.UpSampling2D((2,1))(x)\n",
    "    x = tf.keras.layers.LeakyReLU()(x)\n",
    "x = tf.keras.layers.Conv2D(1, (3,3), padding=\"same\")(x)\n",
    "x = tf.keras.layers.LeakyReLU()(x)\n",
    "\n",
    "x_decode = tf.keras.layers.Reshape((int(x.shape[1]), int(x.shape[2]), int(x.shape[3])), name=\"decode\")(x)\n",
    "\n",
    "model = tf.keras.Model(inputs=inputLayer, outputs=[x_detect, x_classify, x_montage, x_patient, x_decode])\n",
    "from keras_models.metrics import f1, sensitivity, specificity\n",
    "model.compile(tf.keras.optimizers.Adam(lr=0.0001), loss=[\"categorical_crossentropy\", \"categorical_crossentropy\", \"binary_crossentropy\", \"categorical_crossentropy\", \"mean_squared_error\"], metrics={\"detect\":[\"accuracy\", auc, f1, sensitivity, specificity], \"classify\":[\"accuracy\"], \"montage\":[\"binary_accuracy\"], \"patient\": [\"accuracy\"]})\n",
    "batch_size=128\n"
   ]
  },
  {
   "cell_type": "code",
   "execution_count": 5,
   "metadata": {},
   "outputs": [
    {
     "data": {
      "text/plain": [
       "['/device:GPU:0', '/device:GPU:1', '/device:GPU:2', '/device:GPU:3']"
      ]
     },
     "execution_count": 5,
     "metadata": {},
     "output_type": "execute_result"
    }
   ],
   "source": [
    "from tensorflow.python.client import device_lib\n",
    "\n",
    "def get_available_gpus():\n",
    "    local_device_protos = device_lib.list_local_devices()\n",
    "    return [x.name for x in local_device_protos if x.device_type == 'GPU']\n",
    "get_available_gpus()"
   ]
  },
  {
   "cell_type": "code",
   "execution_count": 24,
   "metadata": {},
   "outputs": [],
   "source": [
    "batch_size=128\n",
    "train_data = get_balanced_dataset([\"/n/scratch2/ms994/train_4s.tfr\"], batch_size, is_train=True)\n",
    "train_unbalanced = get_batched_dataset([\"/n/scratch2/ms994/train_4s.tfr\"], batch_size, is_train=True)\n",
    "valid_data = get_batched_dataset([\"/n/scratch2/ms994/valid_4s.tfr\"], batch_size, is_train=False)\n",
    "test_data = get_batched_dataset([\"/n/scratch2/ms994/test_4s.tfr\"], batch_size, is_train=False)"
   ]
  },
  {
   "cell_type": "code",
   "execution_count": 8,
   "metadata": {},
   "outputs": [
    {
     "name": "stdout",
     "output_type": "stream",
     "text": [
      "Epoch 1/100\n",
      "400/400 [==============================] - 70s 175ms/step - loss: 233.3886 - detect_loss: 0.7621 - classify_loss: 1.2865 - montage_loss: 0.7050 - patient_loss: 6.3680 - decode_loss: 224.2671 - detect_acc: 0.6371 - detect_auc: 0.6416 - detect_f1: 0.6463 - detect_sensitivity: 0.6627 - detect_specificity: 0.6408 - classify_acc: 0.4717 - montage_binary_accuracy: 0.6032 - patient_acc: 0.0052 - val_loss: 13546.7966 - val_detect_loss: 0.4367 - val_classify_loss: 0.5574 - val_montage_loss: 0.2933 - val_patient_loss: 6.3778 - val_decode_loss: 13539.1279 - val_detect_acc: 0.7797 - val_detect_auc: 0.7701 - val_detect_f1: 0.0571 - val_detect_sensitivity: 0.0827 - val_detect_specificity: 0.9715 - val_classify_acc: 0.8021 - val_montage_binary_accuracy: 0.8682 - val_patient_acc: 2.0833e-04\n",
      "Epoch 2/100\n",
      "400/400 [==============================] - 43s 109ms/step - loss: 185.7047 - detect_loss: 0.6590 - classify_loss: 1.0491 - montage_loss: 0.5515 - patient_loss: 5.9828 - decode_loss: 177.4622 - detect_acc: 0.6982 - detect_auc: 0.8115 - detect_f1: 0.6949 - detect_sensitivity: 0.6886 - detect_specificity: 0.6926 - classify_acc: 0.5570 - montage_binary_accuracy: 0.7232 - patient_acc: 0.0208 - val_loss: 14187.4101 - val_detect_loss: 0.4058 - val_classify_loss: 0.4517 - val_montage_loss: 0.2507 - val_patient_loss: 6.4510 - val_decode_loss: 14179.8486 - val_detect_acc: 0.8118 - val_detect_auc: 0.8150 - val_detect_f1: 0.0652 - val_detect_sensitivity: 0.0903 - val_detect_specificity: 0.9494 - val_classify_acc: 0.8517 - val_montage_binary_accuracy: 0.9181 - val_patient_acc: 2.8646e-04\n",
      "Epoch 3/100\n",
      "400/400 [==============================] - 44s 111ms/step - loss: 190.2074 - detect_loss: 0.5479 - classify_loss: 0.8960 - montage_loss: 0.4870 - patient_loss: 5.9588 - decode_loss: 182.3178 - detect_acc: 0.7634 - detect_auc: 0.8333 - detect_f1: 0.7623 - detect_sensitivity: 0.7597 - detect_specificity: 0.7591 - classify_acc: 0.6091 - montage_binary_accuracy: 0.7600 - patient_acc: 0.0175 - val_loss: 14506.0292 - val_detect_loss: 0.6249 - val_classify_loss: 0.7405 - val_montage_loss: 0.2577 - val_patient_loss: 6.5957 - val_decode_loss: 14497.8135 - val_detect_acc: 0.6709 - val_detect_auc: 0.8169 - val_detect_f1: 0.0770 - val_detect_sensitivity: 0.1123 - val_detect_specificity: 0.9216 - val_classify_acc: 0.6894 - val_montage_binary_accuracy: 0.9069 - val_patient_acc: 0.0014\n",
      "Epoch 4/100\n",
      "400/400 [==============================] - 43s 108ms/step - loss: 148.2906 - detect_loss: 0.4140 - classify_loss: 0.7626 - montage_loss: 0.4465 - patient_loss: 5.7761 - decode_loss: 140.8913 - detect_acc: 0.8379 - detect_auc: 0.8195 - detect_f1: 0.8335 - detect_sensitivity: 0.8185 - detect_specificity: 0.8260 - classify_acc: 0.6686 - montage_binary_accuracy: 0.7807 - patient_acc: 0.0256 - val_loss: 7488.0278 - val_detect_loss: 0.5315 - val_classify_loss: 0.5509 - val_montage_loss: 0.2202 - val_patient_loss: 6.6747 - val_decode_loss: 7480.0518 - val_detect_acc: 0.7902 - val_detect_auc: 0.8260 - val_detect_f1: 0.0678 - val_detect_sensitivity: 0.0937 - val_detect_specificity: 0.9389 - val_classify_acc: 0.7907 - val_montage_binary_accuracy: 0.8992 - val_patient_acc: 1.9531e-04\n",
      "Epoch 5/100\n",
      "400/400 [==============================] - 44s 109ms/step - loss: 146.1332 - detect_loss: 0.4476 - classify_loss: 0.7630 - montage_loss: 0.4464 - patient_loss: 5.7558 - decode_loss: 138.7205 - detect_acc: 0.8195 - detect_auc: 0.8351 - detect_f1: 0.8172 - detect_sensitivity: 0.8069 - detect_specificity: 0.8095 - classify_acc: 0.6618 - montage_binary_accuracy: 0.7804 - patient_acc: 0.0229 - val_loss: 14131.3031 - val_detect_loss: 0.6999 - val_classify_loss: 0.6857 - val_montage_loss: 0.2636 - val_patient_loss: 6.8279 - val_decode_loss: 14122.8213 - val_detect_acc: 0.6717 - val_detect_auc: 0.8292 - val_detect_f1: 0.0747 - val_detect_sensitivity: 0.0901 - val_detect_specificity: 0.9538 - val_classify_acc: 0.7357 - val_montage_binary_accuracy: 0.9177 - val_patient_acc: 0.0024\n",
      "Epoch 6/100\n",
      "400/400 [==============================] - 48s 119ms/step - loss: 133.6831 - detect_loss: 0.4173 - classify_loss: 0.7241 - montage_loss: 0.4330 - patient_loss: 5.7391 - decode_loss: 126.3696 - detect_acc: 0.8393 - detect_auc: 0.8274 - detect_f1: 0.8400 - detect_sensitivity: 0.8312 - detect_specificity: 0.8281 - classify_acc: 0.6779 - montage_binary_accuracy: 0.7840 - patient_acc: 0.0181 - val_loss: 13762.4667 - val_detect_loss: 0.5350 - val_classify_loss: 0.5581 - val_montage_loss: 0.1993 - val_patient_loss: 6.5975 - val_decode_loss: 13754.5801 - val_detect_acc: 0.7476 - val_detect_auc: 0.8287 - val_detect_f1: 0.0621 - val_detect_sensitivity: 0.0838 - val_detect_specificity: 0.9350 - val_classify_acc: 0.7582 - val_montage_binary_accuracy: 0.9515 - val_patient_acc: 0.0023\n",
      "Epoch 7/100\n",
      "400/400 [==============================] - 46s 114ms/step - loss: 124.9253 - detect_loss: 0.3465 - classify_loss: 0.6410 - montage_loss: 0.4136 - patient_loss: 5.5575 - decode_loss: 117.9666 - detect_acc: 0.8713 - detect_auc: 0.8314 - detect_f1: 0.8704 - detect_sensitivity: 0.8657 - detect_specificity: 0.8659 - classify_acc: 0.7191 - montage_binary_accuracy: 0.7903 - patient_acc: 0.0264 - val_loss: 14418.8150 - val_detect_loss: 0.6630 - val_classify_loss: 0.6377 - val_montage_loss: 0.2024 - val_patient_loss: 6.7459 - val_decode_loss: 14410.5703 - val_detect_acc: 0.7449 - val_detect_auc: 0.8346 - val_detect_f1: 0.0694 - val_detect_sensitivity: 0.0876 - val_detect_specificity: 0.9369 - val_classify_acc: 0.7366 - val_montage_binary_accuracy: 0.9249 - val_patient_acc: 0.0022\n",
      "Epoch 8/100\n",
      "400/400 [==============================] - 44s 109ms/step - loss: 130.4123 - detect_loss: 0.4649 - classify_loss: 0.7401 - montage_loss: 0.4222 - patient_loss: 5.5343 - decode_loss: 123.2509 - detect_acc: 0.8145 - detect_auc: 0.8347 - detect_f1: 0.8160 - detect_sensitivity: 0.8188 - detect_specificity: 0.8140 - classify_acc: 0.6674 - montage_binary_accuracy: 0.7956 - patient_acc: 0.0293 - val_loss: 14398.6549 - val_detect_loss: 0.5373 - val_classify_loss: 0.5393 - val_montage_loss: 0.2436 - val_patient_loss: 6.6426 - val_decode_loss: 14390.6865 - val_detect_acc: 0.7636 - val_detect_auc: 0.8360 - val_detect_f1: 0.0561 - val_detect_sensitivity: 0.0581 - val_detect_specificity: 0.9488 - val_classify_acc: 0.7918 - val_montage_binary_accuracy: 0.9431 - val_patient_acc: 0.0025\n",
      "Epoch 9/100\n",
      "400/400 [==============================] - 44s 109ms/step - loss: 116.1551 - detect_loss: 0.4248 - classify_loss: 0.7092 - montage_loss: 0.4242 - patient_loss: 5.1525 - decode_loss: 109.4445 - detect_acc: 0.8343 - detect_auc: 0.8379 - detect_f1: 0.8319 - detect_sensitivity: 0.8133 - detect_specificity: 0.8170 - classify_acc: 0.6900 - montage_binary_accuracy: 0.7989 - patient_acc: 0.0352 - val_loss: 14374.5158 - val_detect_loss: 0.4192 - val_classify_loss: 0.3923 - val_montage_loss: 0.1662 - val_patient_loss: 6.9879 - val_decode_loss: 14366.5479 - val_detect_acc: 0.8371 - val_detect_auc: 0.8412 - val_detect_f1: 0.0507 - val_detect_sensitivity: 0.0617 - val_detect_specificity: 0.9489 - val_classify_acc: 0.8764 - val_montage_binary_accuracy: 0.9535 - val_patient_acc: 0.0014\n",
      "Epoch 10/100\n",
      "400/400 [==============================] - 45s 112ms/step - loss: 118.3354 - detect_loss: 0.4060 - classify_loss: 0.6790 - montage_loss: 0.4111 - patient_loss: 5.3321 - decode_loss: 111.5072 - detect_acc: 0.8393 - detect_auc: 0.8434 - detect_f1: 0.8378 - detect_sensitivity: 0.8245 - detect_specificity: 0.8262 - classify_acc: 0.7014 - montage_binary_accuracy: 0.8007 - patient_acc: 0.0309 - val_loss: 14082.2311 - val_detect_loss: 0.3928 - val_classify_loss: 0.3682 - val_montage_loss: 0.1643 - val_patient_loss: 6.7868 - val_decode_loss: 14074.5088 - val_detect_acc: 0.8397 - val_detect_auc: 0.8484 - val_detect_f1: 0.0499 - val_detect_sensitivity: 0.0544 - val_detect_specificity: 0.9520 - val_classify_acc: 0.8655 - val_montage_binary_accuracy: 0.9544 - val_patient_acc: 0.0012\n",
      "Epoch 11/100\n",
      "400/400 [==============================] - 59s 148ms/step - loss: 109.9748 - detect_loss: 0.3544 - classify_loss: 0.6168 - montage_loss: 0.3966 - patient_loss: 5.4282 - decode_loss: 103.1788 - detect_acc: 0.8669 - detect_auc: 0.8507 - detect_f1: 0.8624 - detect_sensitivity: 0.8394 - detect_specificity: 0.8480 - classify_acc: 0.7248 - montage_binary_accuracy: 0.8091 - patient_acc: 0.0322 - val_loss: 12976.0075 - val_detect_loss: 0.6563 - val_classify_loss: 0.6114 - val_montage_loss: 0.2067 - val_patient_loss: 6.9594 - val_decode_loss: 12967.5664 - val_detect_acc: 0.7604 - val_detect_auc: 0.8538 - val_detect_f1: 0.0720 - val_detect_sensitivity: 0.0970 - val_detect_specificity: 0.9462 - val_classify_acc: 0.7583 - val_montage_binary_accuracy: 0.9316 - val_patient_acc: 5.8594e-04\n",
      "Epoch 12/100\n",
      "400/400 [==============================] - 48s 120ms/step - loss: 102.4984 - detect_loss: 0.3797 - classify_loss: 0.6382 - montage_loss: 0.4086 - patient_loss: 5.4347 - decode_loss: 95.6373 - detect_acc: 0.8580 - detect_auc: 0.8514 - detect_f1: 0.8565 - detect_sensitivity: 0.8526 - detect_specificity: 0.8545 - classify_acc: 0.7191 - montage_binary_accuracy: 0.8003 - patient_acc: 0.0323 - val_loss: 13046.8858 - val_detect_loss: 0.4415 - val_classify_loss: 0.3807 - val_montage_loss: 0.1546 - val_patient_loss: 6.6916 - val_decode_loss: 13039.2197 - val_detect_acc: 0.8183 - val_detect_auc: 0.8549 - val_detect_f1: 0.0519 - val_detect_sensitivity: 0.0549 - val_detect_specificity: 0.9453 - val_classify_acc: 0.8505 - val_montage_binary_accuracy: 0.9551 - val_patient_acc: 0.0020\n",
      "Epoch 13/100\n",
      "400/400 [==============================] - 44s 110ms/step - loss: 100.3859 - detect_loss: 0.3115 - classify_loss: 0.5716 - montage_loss: 0.3932 - patient_loss: 5.4075 - decode_loss: 93.7021 - detect_acc: 0.8821 - detect_auc: 0.8567 - detect_f1: 0.8827 - detect_sensitivity: 0.8857 - detect_specificity: 0.8828 - classify_acc: 0.7575 - montage_binary_accuracy: 0.8039 - patient_acc: 0.0364 - val_loss: 14131.0728 - val_detect_loss: 0.5193 - val_classify_loss: 0.4687 - val_montage_loss: 0.1724 - val_patient_loss: 6.7517 - val_decode_loss: 14123.1650 - val_detect_acc: 0.7906 - val_detect_auc: 0.8595 - val_detect_f1: 0.0470 - val_detect_sensitivity: 0.0488 - val_detect_specificity: 0.9471 - val_classify_acc: 0.8108 - val_montage_binary_accuracy: 0.9457 - val_patient_acc: 0.0021\n",
      "Epoch 00013: early stopping\n"
     ]
    }
   ],
   "source": [
    "history = model.fit(train_data, steps_per_epoch=(400), validation_data=valid_data, validation_steps=(600), epochs=100, callbacks=[tf.keras.callbacks.EarlyStopping(monitor=\"val_detect_f1\", mode=\"max\", patience=10, verbose=True)])"
   ]
  },
  {
   "cell_type": "code",
   "execution_count": 9,
   "metadata": {},
   "outputs": [],
   "source": [
    "history = Dict(history.history)"
   ]
  },
  {
   "cell_type": "code",
   "execution_count": 11,
   "metadata": {},
   "outputs": [
    {
     "data": {
      "text/plain": [
       "<matplotlib.legend.Legend at 0x7f35445595f8>"
      ]
     },
     "execution_count": 11,
     "metadata": {},
     "output_type": "execute_result"
    },
    {
     "data": {
      "image/png": "[encoded data removed]",
      "text/plain": [
       "<Figure size 432x288 with 1 Axes>"
      ]
     },
     "metadata": {
      "needs_background": "light"
     },
     "output_type": "display_data"
    }
   ],
   "source": [
    "import matplotlib.pyplot as plt\n",
    "plt.plot(history.detect_f1)\n",
    "plt.plot(history.val_detect_f1)\n",
    "plt.plot((np.log(history.patient_acc) + 6)/2 )\n",
    "plt.legend([\"Train F1\", \"Valid F1\", \"Log-Scaled Patient Acc\"])"
   ]
  },
  {
   "cell_type": "code",
   "execution_count": 12,
   "metadata": {},
   "outputs": [
    {
     "data": {
      "text/plain": [
       "[<matplotlib.lines.Line2D at 0x7f35442702b0>]"
      ]
     },
     "execution_count": 12,
     "metadata": {},
     "output_type": "execute_result"
    },
    {
     "data": {
      "image/png": "[encoded data removed]",
      "text/plain": [
       "<Figure size 432x288 with 1 Axes>"
      ]
     },
     "metadata": {
      "needs_background": "light"
     },
     "output_type": "display_data"
    }
   ],
   "source": [
    "plt.plot(history.detect_auc)\n",
    "plt.plot(history.val_detect_auc)"
   ]
  },
  {
   "cell_type": "markdown",
   "metadata": {},
   "source": [
    "# try increasing gaussian noise"
   ]
  },
  {
   "cell_type": "code",
   "execution_count": 8,
   "metadata": {},
   "outputs": [],
   "source": [
    "def auc(y_true, y_pred):\n",
    "    auc = tf.metrics.auc(y_true, y_pred)[1]\n",
    "    tf.keras.backend.get_session().run(tf.local_variables_initializer())\n",
    "    return auc"
   ]
  },
  {
   "cell_type": "code",
   "execution_count": 9,
   "metadata": {},
   "outputs": [],
   "source": [
    "num_cnn_layers = 3\n",
    "num_lstm_layers = 1\n",
    "num_lin_layers= 4\n",
    "inputLayer = tf.keras.layers.Input((1000,21, 1))\n",
    "x = inputLayer\n",
    "\n",
    "x = tf.keras.layers.GaussianNoise(10)(x)\n",
    "for i in range(num_cnn_layers):\n",
    "#     x = tf.keras.layers.BatchNormalization()(x)\n",
    "    x = tf.keras.layers.Conv2D(2, (3,3), padding=\"same\")(x)\n",
    "    x = tf.keras.layers.LeakyReLU()(x)\n",
    "    x = tf.keras.layers.MaxPool2D((2,1))(x)\n",
    "old_x_shape = (x).get_shape().as_list()\n",
    "x = tf.keras.layers.Reshape((int(x.shape[1]), int(x.shape[2]) * int(x.shape[3])), name=\"LSTM_Reshape\")(x)\n",
    "for j in range(num_lstm_layers):\n",
    "    x = tf.keras.layers.TimeDistributed(tf.keras.layers.BatchNormalization())(x)\n",
    "    x = tf.keras.layers.CuDNNLSTM(32, return_sequences=True)(x)\n",
    "    x = tf.keras.layers.LeakyReLU()(x)\n",
    "x_shared = x\n",
    "x = tf.keras.layers.Flatten(name=\"flatten_encoder_lstm\")(x)\n",
    "x_shared_flattened = x\n",
    "\n",
    "#seizure detect\n",
    "x = x_shared_flattened \n",
    "for k in range(num_lin_layers):\n",
    "    x = tf.keras.layers.BatchNormalization()(x)\n",
    "    x = tf.keras.layers.Dense(100)(x)\n",
    "    x = tf.keras.layers.LeakyReLU()(x)\n",
    "    x = tf.keras.layers.Dropout(0.5)(x)\n",
    "x_detect = tf.keras.layers.Dense(2, name=\"detect\", activation=\"softmax\")(x)\n",
    "\n",
    "\n",
    "#seizure classify\n",
    "x = x_shared_flattened \n",
    "for k in range(num_lin_layers):\n",
    "    x = tf.keras.layers.BatchNormalization()(x)\n",
    "    x = tf.keras.layers.Dense(100)(x)\n",
    "    x = tf.keras.layers.LeakyReLU()(x)\n",
    "    x = tf.keras.layers.Dropout(0.5)(x)\n",
    "x_classify = tf.keras.layers.Dense(4, name=\"classify\", activation=\"softmax\")(x)\n",
    "\n",
    "#montage classify\n",
    "x = x_shared_flattened \n",
    "for k in range(num_lin_layers):\n",
    "    x = tf.keras.layers.BatchNormalization()(x)\n",
    "    x = tf.keras.layers.Dense(100)(x)\n",
    "    x = tf.keras.layers.LeakyReLU()(x)\n",
    "    x = tf.keras.layers.Dropout(0.5)(x)\n",
    "x_montage = tf.keras.layers.Dense(22, name=\"montage\", activation=\"sigmoid\")(x)\n",
    "\n",
    "#patient measurement\n",
    "x = x_shared_flattened \n",
    "for k in range(num_lin_layers):\n",
    "    x = tf.keras.layers.BatchNormalization()(x)\n",
    "    x = tf.keras.layers.Dense(100)(x)\n",
    "    x = tf.keras.layers.LeakyReLU()(x)\n",
    "    x = tf.keras.layers.Dropout(0.5)(x)\n",
    "x_pre_patient = x\n",
    "x_patient = tf.keras.layers.Dense(575, name=\"patient\", activation=\"softmax\")(x)\n",
    "\n",
    "#decoder\n",
    "x = x_shared\n",
    "x = tf.keras.layers.CuDNNLSTM(old_x_shape[2]*old_x_shape[3], return_sequences=True, name=\"lstm_decode\")(x)\n",
    "x = tf.keras.layers.BatchNormalization()(x)\n",
    "x = tf.keras.layers.Reshape(old_x_shape[1:], name=\"reshape_decode\")(x)\n",
    "for i in range(num_cnn_layers):\n",
    "    x = tf.keras.layers.BatchNormalization()(x)\n",
    "    x = tf.keras.layers.Conv2D(2, (3,3), padding=\"same\")(x)\n",
    "    x = tf.keras.layers.UpSampling2D((2,1))(x)\n",
    "    x = tf.keras.layers.LeakyReLU()(x)\n",
    "x = tf.keras.layers.Conv2D(1, (3,3), padding=\"same\")(x)\n",
    "x = tf.keras.layers.LeakyReLU()(x)\n",
    "\n",
    "x_decode = tf.keras.layers.Reshape((int(x.shape[1]), int(x.shape[2]), int(x.shape[3])), name=\"decode\")(x)\n",
    "\n",
    "model = tf.keras.Model(inputs=inputLayer, outputs=[x_detect, x_classify, x_montage, x_patient, x_decode])\n",
    "from keras_models.metrics import f1, sensitivity, specificity\n",
    "model.compile(tf.keras.optimizers.Adam(lr=0.0001), loss=[\"categorical_crossentropy\", \"categorical_crossentropy\", \"binary_crossentropy\", \"categorical_crossentropy\", \"mean_squared_error\"], metrics={\"detect\":[\"accuracy\", auc, f1, sensitivity, specificity], \"classify\":[\"accuracy\"], \"montage\":[\"binary_accuracy\"], \"patient\": [\"accuracy\"]})\n",
    "batch_size=128\n"
   ]
  },
  {
   "cell_type": "code",
   "execution_count": 5,
   "metadata": {},
   "outputs": [
    {
     "data": {
      "text/plain": [
       "['/device:GPU:0', '/device:GPU:1', '/device:GPU:2', '/device:GPU:3']"
      ]
     },
     "execution_count": 5,
     "metadata": {},
     "output_type": "execute_result"
    }
   ],
   "source": [
    "from tensorflow.python.client import device_lib\n",
    "\n",
    "def get_available_gpus():\n",
    "    local_device_protos = device_lib.list_local_devices()\n",
    "    return [x.name for x in local_device_protos if x.device_type == 'GPU']\n",
    "get_available_gpus()"
   ]
  },
  {
   "cell_type": "code",
   "execution_count": 10,
   "metadata": {},
   "outputs": [],
   "source": [
    "batch_size=128\n",
    "train_data = get_balanced_dataset([\"/n/scratch2/ms994/train_4s.tfr\"], batch_size, is_train=True)\n",
    "train_unbalanced = get_batched_dataset([\"/n/scratch2/ms994/train_4s.tfr\"], batch_size, is_train=True)\n",
    "valid_data = get_batched_dataset([\"/n/scratch2/ms994/valid_4s.tfr\"], batch_size, is_train=False)\n",
    "test_data = get_batched_dataset([\"/n/scratch2/ms994/test_4s.tfr\"], batch_size, is_train=False)"
   ]
  },
  {
   "cell_type": "code",
   "execution_count": 11,
   "metadata": {},
   "outputs": [
    {
     "name": "stdout",
     "output_type": "stream",
     "text": [
      "Epoch 1/100\n",
      "400/400 [==============================] - 117s 292ms/step - loss: 227.8837 - detect_loss: 0.6857 - classify_loss: 1.2841 - montage_loss: 0.6994 - patient_loss: 6.4035 - decode_loss: 218.8109 - detect_acc: 0.6725 - detect_auc: 0.6558 - detect_f1: 0.6618 - detect_sensitivity: 0.6499 - detect_specificity: 0.6680 - classify_acc: 0.4753 - montage_binary_accuracy: 0.6147 - patient_acc: 0.0032 - val_loss: 13543.3041 - val_detect_loss: 0.3510 - val_classify_loss: 0.4624 - val_montage_loss: 0.1882 - val_patient_loss: 6.3846 - val_decode_loss: 13535.9180 - val_detect_acc: 0.8767 - val_detect_auc: 0.8347 - val_detect_f1: 0.0417 - val_detect_sensitivity: 0.0476 - val_detect_specificity: 0.9681 - val_classify_acc: 0.8679 - val_montage_binary_accuracy: 0.9242 - val_patient_acc: 2.6042e-05\n",
      "Epoch 2/100\n",
      "400/400 [==============================] - 86s 215ms/step - loss: 179.1062 - detect_loss: 0.6127 - classify_loss: 1.0315 - montage_loss: 0.5494 - patient_loss: 6.0178 - decode_loss: 170.8948 - detect_acc: 0.7272 - detect_auc: 0.8704 - detect_f1: 0.7195 - detect_sensitivity: 0.7034 - detect_specificity: 0.7163 - classify_acc: 0.5697 - montage_binary_accuracy: 0.7302 - patient_acc: 0.0153 - val_loss: 14181.6588 - val_detect_loss: 0.3267 - val_classify_loss: 0.3368 - val_montage_loss: 0.1435 - val_patient_loss: 6.4083 - val_decode_loss: 14174.4463 - val_detect_acc: 0.8907 - val_detect_auc: 0.8705 - val_detect_f1: 0.0422 - val_detect_sensitivity: 0.0509 - val_detect_specificity: 0.9428 - val_classify_acc: 0.9113 - val_montage_binary_accuracy: 0.9527 - val_patient_acc: 0.0000e+00\n",
      "Epoch 3/100\n",
      "400/400 [==============================] - 86s 214ms/step - loss: 186.1286 - detect_loss: 0.5465 - classify_loss: 0.9061 - montage_loss: 0.4952 - patient_loss: 5.9249 - decode_loss: 178.2560 - detect_acc: 0.7550 - detect_auc: 0.8803 - detect_f1: 0.7517 - detect_sensitivity: 0.7415 - detect_specificity: 0.7463 - classify_acc: 0.5977 - montage_binary_accuracy: 0.7579 - patient_acc: 0.0129 - val_loss: 14497.7454 - val_detect_loss: 0.4409 - val_classify_loss: 0.4187 - val_montage_loss: 0.1625 - val_patient_loss: 6.4499 - val_decode_loss: 14490.2734 - val_detect_acc: 0.8244 - val_detect_auc: 0.8734 - val_detect_f1: 0.0601 - val_detect_sensitivity: 0.0708 - val_detect_specificity: 0.9431 - val_classify_acc: 0.8556 - val_montage_binary_accuracy: 0.9368 - val_patient_acc: 1.3021e-05\n",
      "Epoch 4/100\n",
      "400/400 [==============================] - 86s 214ms/step - loss: 146.6191 - detect_loss: 0.4447 - classify_loss: 0.8064 - montage_loss: 0.4560 - patient_loss: 5.7731 - decode_loss: 139.1387 - detect_acc: 0.8188 - detect_auc: 0.8779 - detect_f1: 0.8152 - detect_sensitivity: 0.7990 - detect_specificity: 0.8051 - classify_acc: 0.6472 - montage_binary_accuracy: 0.7763 - patient_acc: 0.0170 - val_loss: 7480.3876 - val_detect_loss: 0.3584 - val_classify_loss: 0.3379 - val_montage_loss: 0.1541 - val_patient_loss: 6.7181 - val_decode_loss: 7472.8257 - val_detect_acc: 0.8965 - val_detect_auc: 0.8842 - val_detect_f1: 0.0290 - val_detect_sensitivity: 0.0343 - val_detect_specificity: 0.9436 - val_classify_acc: 0.9178 - val_montage_binary_accuracy: 0.9495 - val_patient_acc: 5.4688e-04\n",
      "Epoch 5/100\n",
      "400/400 [==============================] - 90s 226ms/step - loss: 143.2499 - detect_loss: 0.4691 - classify_loss: 0.7964 - montage_loss: 0.4588 - patient_loss: 5.8033 - decode_loss: 135.7222 - detect_acc: 0.8122 - detect_auc: 0.8908 - detect_f1: 0.8102 - detect_sensitivity: 0.8013 - detect_specificity: 0.8032 - classify_acc: 0.6469 - montage_binary_accuracy: 0.7761 - patient_acc: 0.0174 - val_loss: 14112.1071 - val_detect_loss: 0.3231 - val_classify_loss: 0.2900 - val_montage_loss: 0.1405 - val_patient_loss: 6.6100 - val_decode_loss: 14104.7383 - val_detect_acc: 0.8809 - val_detect_auc: 0.8930 - val_detect_f1: 0.0469 - val_detect_sensitivity: 0.0519 - val_detect_specificity: 0.9522 - val_classify_acc: 0.9064 - val_montage_binary_accuracy: 0.9519 - val_patient_acc: 2.7344e-04\n",
      "Epoch 6/100\n",
      "400/400 [==============================] - 128s 320ms/step - loss: 128.4956 - detect_loss: 0.4072 - classify_loss: 0.7278 - montage_loss: 0.4326 - patient_loss: 5.7425 - decode_loss: 121.1855 - detect_acc: 0.8414 - detect_auc: 0.8974 - detect_f1: 0.8395 - detect_sensitivity: 0.8314 - detect_specificity: 0.8337 - classify_acc: 0.6687 - montage_binary_accuracy: 0.7853 - patient_acc: 0.0154 - val_loss: 13739.4966 - val_detect_loss: 0.3289 - val_classify_loss: 0.2874 - val_montage_loss: 0.1249 - val_patient_loss: 6.6198 - val_decode_loss: 13732.1455 - val_detect_acc: 0.8839 - val_detect_auc: 0.8994 - val_detect_f1: 0.0356 - val_detect_sensitivity: 0.0420 - val_detect_specificity: 0.9469 - val_classify_acc: 0.9107 - val_montage_binary_accuracy: 0.9601 - val_patient_acc: 3.9062e-05\n",
      "Epoch 7/100\n",
      "400/400 [==============================] - 87s 218ms/step - loss: 116.6276 - detect_loss: 0.3539 - classify_loss: 0.6705 - montage_loss: 0.4192 - patient_loss: 5.6129 - decode_loss: 109.5711 - detect_acc: 0.8666 - detect_auc: 0.9027 - detect_f1: 0.8651 - detect_sensitivity: 0.8553 - detect_specificity: 0.8575 - classify_acc: 0.7022 - montage_binary_accuracy: 0.7882 - patient_acc: 0.0219 - val_loss: 14389.9409 - val_detect_loss: 0.5230 - val_classify_loss: 0.4751 - val_montage_loss: 0.1960 - val_patient_loss: 6.8207 - val_decode_loss: 14381.9287 - val_detect_acc: 0.8908 - val_detect_auc: 0.9048 - val_detect_f1: 0.0364 - val_detect_sensitivity: 0.0417 - val_detect_specificity: 0.9448 - val_classify_acc: 0.9075 - val_montage_binary_accuracy: 0.9466 - val_patient_acc: 2.6042e-05\n",
      "Epoch 8/100\n",
      "400/400 [==============================] - 90s 224ms/step - loss: 122.2688 - detect_loss: 0.4617 - classify_loss: 0.7592 - montage_loss: 0.4410 - patient_loss: 5.5430 - decode_loss: 115.0637 - detect_acc: 0.8149 - detect_auc: 0.9062 - detect_f1: 0.8148 - detect_sensitivity: 0.8117 - detect_specificity: 0.8105 - classify_acc: 0.6599 - montage_binary_accuracy: 0.7819 - patient_acc: 0.0265 - val_loss: 14365.3505 - val_detect_loss: 0.4377 - val_classify_loss: 0.4066 - val_montage_loss: 0.1999 - val_patient_loss: 6.6351 - val_decode_loss: 14357.6680 - val_detect_acc: 0.8586 - val_detect_auc: 0.9066 - val_detect_f1: 0.0498 - val_detect_sensitivity: 0.0596 - val_detect_specificity: 0.9506 - val_classify_acc: 0.8783 - val_montage_binary_accuracy: 0.9325 - val_patient_acc: 1.3021e-05\n",
      "Epoch 9/100\n",
      "400/400 [==============================] - 100s 249ms/step - loss: 104.2602 - detect_loss: 0.4431 - classify_loss: 0.7410 - montage_loss: 0.4243 - patient_loss: 5.2454 - decode_loss: 97.4065 - detect_acc: 0.8237 - detect_auc: 0.9070 - detect_f1: 0.8183 - detect_sensitivity: 0.7945 - detect_specificity: 0.8047 - classify_acc: 0.6644 - montage_binary_accuracy: 0.7998 - patient_acc: 0.0308 - val_loss: 14348.4759 - val_detect_loss: 0.3481 - val_classify_loss: 0.3149 - val_montage_loss: 0.1716 - val_patient_loss: 7.8957 - val_decode_loss: 14339.7451 - val_detect_acc: 0.8967 - val_detect_auc: 0.9077 - val_detect_f1: 0.0326 - val_detect_sensitivity: 0.0402 - val_detect_specificity: 0.9405 - val_classify_acc: 0.9237 - val_montage_binary_accuracy: 0.9505 - val_patient_acc: 1.3021e-05\n",
      "Epoch 10/100\n",
      "400/400 [==============================] - 86s 216ms/step - loss: 106.4246 - detect_loss: 0.4556 - classify_loss: 0.7497 - montage_loss: 0.4276 - patient_loss: 5.3728 - decode_loss: 99.4188 - detect_acc: 0.8085 - detect_auc: 0.9078 - detect_f1: 0.8020 - detect_sensitivity: 0.7818 - detect_specificity: 0.7935 - classify_acc: 0.6575 - montage_binary_accuracy: 0.7916 - patient_acc: 0.0271 - val_loss: 14042.9962 - val_detect_loss: 0.3625 - val_classify_loss: 0.3248 - val_montage_loss: 0.1785 - val_patient_loss: 6.6900 - val_decode_loss: 14035.4404 - val_detect_acc: 0.8955 - val_detect_auc: 0.9093 - val_detect_f1: 0.0354 - val_detect_sensitivity: 0.0388 - val_detect_specificity: 0.9452 - val_classify_acc: 0.9225 - val_montage_binary_accuracy: 0.9497 - val_patient_acc: 1.3021e-05\n",
      "Epoch 11/100\n",
      "400/400 [==============================] - 92s 231ms/step - loss: 94.7401 - detect_loss: 0.3792 - classify_loss: 0.6626 - montage_loss: 0.4125 - patient_loss: 5.5031 - decode_loss: 87.7827 - detect_acc: 0.8511 - detect_auc: 0.9098 - detect_f1: 0.8461 - detect_sensitivity: 0.8221 - detect_specificity: 0.8320 - classify_acc: 0.6951 - montage_binary_accuracy: 0.7950 - patient_acc: 0.0260 - val_loss: 12939.6086 - val_detect_loss: 0.4318 - val_classify_loss: 0.3819 - val_montage_loss: 0.1707 - val_patient_loss: 6.9494 - val_decode_loss: 12931.6797 - val_detect_acc: 0.8651 - val_detect_auc: 0.9113 - val_detect_f1: 0.0494 - val_detect_sensitivity: 0.0559 - val_detect_specificity: 0.9497 - val_classify_acc: 0.8875 - val_montage_binary_accuracy: 0.9383 - val_patient_acc: 0.0000e+00\n",
      "Epoch 12/100\n",
      "400/400 [==============================] - 90s 224ms/step - loss: 93.7304 - detect_loss: 0.4167 - classify_loss: 0.7013 - montage_loss: 0.4241 - patient_loss: 5.5255 - decode_loss: 86.6627 - detect_acc: 0.8353 - detect_auc: 0.9105 - detect_f1: 0.8345 - detect_sensitivity: 0.8283 - detect_specificity: 0.8286 - classify_acc: 0.6829 - montage_binary_accuracy: 0.7924 - patient_acc: 0.0227 - val_loss: 12988.2781 - val_detect_loss: 0.9472 - val_classify_loss: 0.8536 - val_montage_loss: 0.2354 - val_patient_loss: 7.1534 - val_decode_loss: 12979.0752 - val_detect_acc: 0.4408 - val_detect_auc: 0.9051 - val_detect_f1: 0.0882 - val_detect_sensitivity: 0.1787 - val_detect_specificity: 0.9224 - val_classify_acc: 0.4842 - val_montage_binary_accuracy: 0.9490 - val_patient_acc: 1.5625e-04\n",
      "Epoch 13/100\n",
      "400/400 [==============================] - 89s 223ms/step - loss: 85.5366 - detect_loss: 0.3677 - classify_loss: 0.6494 - montage_loss: 0.4101 - patient_loss: 5.4961 - decode_loss: 78.6132 - detect_acc: 0.8531 - detect_auc: 0.8990 - detect_f1: 0.8531 - detect_sensitivity: 0.8481 - detect_specificity: 0.8469 - classify_acc: 0.7080 - montage_binary_accuracy: 0.7930 - patient_acc: 0.0346 - val_loss: 14081.2679 - val_detect_loss: 0.4599 - val_classify_loss: 0.3954 - val_montage_loss: 0.1882 - val_patient_loss: 6.8443 - val_decode_loss: 14073.3818 - val_detect_acc: 0.8683 - val_detect_auc: 0.9005 - val_detect_f1: 0.0281 - val_detect_sensitivity: 0.0292 - val_detect_specificity: 0.9488 - val_classify_acc: 0.8898 - val_montage_binary_accuracy: 0.9428 - val_patient_acc: 4.6875e-04\n",
      "Epoch 14/100\n",
      "400/400 [==============================] - 93s 232ms/step - loss: 77.5948 - detect_loss: 0.4066 - classify_loss: 0.6744 - montage_loss: 0.4242 - patient_loss: 5.5026 - decode_loss: 70.5870 - detect_acc: 0.8488 - detect_auc: 0.9006 - detect_f1: 0.8498 - detect_sensitivity: 0.8449 - detect_specificity: 0.8416 - classify_acc: 0.7039 - montage_binary_accuracy: 0.7877 - patient_acc: 0.0331 - val_loss: 13190.8816 - val_detect_loss: 0.5430 - val_classify_loss: 0.4690 - val_montage_loss: 0.2150 - val_patient_loss: 6.8457 - val_decode_loss: 13182.8076 - val_detect_acc: 0.8368 - val_detect_auc: 0.9012 - val_detect_f1: 0.0538 - val_detect_sensitivity: 0.0568 - val_detect_specificity: 0.9472 - val_classify_acc: 0.8565 - val_montage_binary_accuracy: 0.9272 - val_patient_acc: 3.9062e-05\n",
      "Epoch 15/100\n",
      "400/400 [==============================] - 90s 226ms/step - loss: 77.4523 - detect_loss: 0.3915 - classify_loss: 0.6557 - montage_loss: 0.4053 - patient_loss: 5.3707 - decode_loss: 70.6292 - detect_acc: 0.8464 - detect_auc: 0.9010 - detect_f1: 0.8467 - detect_sensitivity: 0.8465 - detect_specificity: 0.8443 - classify_acc: 0.7053 - montage_binary_accuracy: 0.8029 - patient_acc: 0.0318 - val_loss: 13980.6039 - val_detect_loss: 0.3061 - val_classify_loss: 0.2703 - val_montage_loss: 0.1636 - val_patient_loss: 6.9168 - val_decode_loss: 13972.9541 - val_detect_acc: 0.9039 - val_detect_auc: 0.9022 - val_detect_f1: 0.0378 - val_detect_sensitivity: 0.0417 - val_detect_specificity: 0.9436 - val_classify_acc: 0.9304 - val_montage_binary_accuracy: 0.9579 - val_patient_acc: 1.3021e-05\n",
      "Epoch 16/100\n",
      "400/400 [==============================] - 89s 223ms/step - loss: 81.5471 - detect_loss: 0.3633 - classify_loss: 0.6293 - montage_loss: 0.4055 - patient_loss: 5.1657 - decode_loss: 74.9832 - detect_acc: 0.8603 - detect_auc: 0.9035 - detect_f1: 0.8622 - detect_sensitivity: 0.8600 - detect_specificity: 0.8556 - classify_acc: 0.7224 - montage_binary_accuracy: 0.7993 - patient_acc: 0.0436 - val_loss: 13871.9552 - val_detect_loss: 0.5048 - val_classify_loss: 0.4470 - val_montage_loss: 0.2328 - val_patient_loss: 8.1793 - val_decode_loss: 13862.5869 - val_detect_acc: 0.8835 - val_detect_auc: 0.9042 - val_detect_f1: 0.0383 - val_detect_sensitivity: 0.0445 - val_detect_specificity: 0.9407 - val_classify_acc: 0.9052 - val_montage_binary_accuracy: 0.9321 - val_patient_acc: 0.0000e+00\n",
      "Epoch 17/100\n",
      "400/400 [==============================] - 93s 233ms/step - loss: 77.9775 - detect_loss: 0.4756 - classify_loss: 0.7284 - montage_loss: 0.4379 - patient_loss: 5.0290 - decode_loss: 71.3067 - detect_acc: 0.8039 - detect_auc: 0.9042 - detect_f1: 0.7944 - detect_sensitivity: 0.7646 - detect_specificity: 0.7827 - classify_acc: 0.6804 - montage_binary_accuracy: 0.7986 - patient_acc: 0.0512 - val_loss: 14156.9912 - val_detect_loss: 0.3650 - val_classify_loss: 0.4150 - val_montage_loss: 0.1766 - val_patient_loss: 8.0041 - val_decode_loss: 14148.0352 - val_detect_acc: 0.8692 - val_detect_auc: 0.9040 - val_detect_f1: 0.0386 - val_detect_sensitivity: 0.0437 - val_detect_specificity: 0.9417 - val_classify_acc: 0.8686 - val_montage_binary_accuracy: 0.9453 - val_patient_acc: 0.0000e+00\n",
      "Epoch 18/100\n",
      "400/400 [==============================] - 91s 227ms/step - loss: 86.2207 - detect_loss: 0.3883 - classify_loss: 0.6466 - montage_loss: 0.4035 - patient_loss: 5.2176 - decode_loss: 79.5647 - detect_acc: 0.8404 - detect_auc: 0.9043 - detect_f1: 0.8365 - detect_sensitivity: 0.8154 - detect_specificity: 0.8221 - classify_acc: 0.7015 - montage_binary_accuracy: 0.8063 - patient_acc: 0.0322 - val_loss: 14120.3044 - val_detect_loss: 0.3749 - val_classify_loss: 0.3687 - val_montage_loss: 0.1885 - val_patient_loss: 7.4244 - val_decode_loss: 14111.9482 - val_detect_acc: 0.8722 - val_detect_auc: 0.9048 - val_detect_f1: 0.0403 - val_detect_sensitivity: 0.0479 - val_detect_specificity: 0.9479 - val_classify_acc: 0.8916 - val_montage_binary_accuracy: 0.9411 - val_patient_acc: 5.9896e-04\n",
      "Epoch 19/100\n",
      "400/400 [==============================] - 88s 220ms/step - loss: 65.2902 - detect_loss: 0.3643 - classify_loss: 0.6115 - montage_loss: 0.4030 - patient_loss: 5.2755 - decode_loss: 58.6359 - detect_acc: 0.8596 - detect_auc: 0.9053 - detect_f1: 0.8571 - detect_sensitivity: 0.8443 - detect_specificity: 0.8485 - classify_acc: 0.7358 - montage_binary_accuracy: 0.8018 - patient_acc: 0.0434 - val_loss: 13226.8350 - val_detect_loss: 0.3201 - val_classify_loss: 0.3655 - val_montage_loss: 0.1718 - val_patient_loss: 7.0534 - val_decode_loss: 13218.9277 - val_detect_acc: 0.9032 - val_detect_auc: 0.9062 - val_detect_f1: 0.0328 - val_detect_sensitivity: 0.0407 - val_detect_specificity: 0.9686 - val_classify_acc: 0.9053 - val_montage_binary_accuracy: 0.9473 - val_patient_acc: 1.3021e-05\n",
      "Epoch 20/100\n",
      "400/400 [==============================] - 93s 233ms/step - loss: 80.9948 - detect_loss: 0.3914 - classify_loss: 0.6310 - montage_loss: 0.4066 - patient_loss: 5.3775 - decode_loss: 74.1883 - detect_acc: 0.8463 - detect_auc: 0.9071 - detect_f1: 0.8446 - detect_sensitivity: 0.8344 - detect_specificity: 0.8360 - classify_acc: 0.7221 - montage_binary_accuracy: 0.8044 - patient_acc: 0.0449 - val_loss: 13871.9441 - val_detect_loss: 0.4303 - val_classify_loss: 0.4471 - val_montage_loss: 0.1873 - val_patient_loss: 6.9901 - val_decode_loss: 13863.8887 - val_detect_acc: 0.8462 - val_detect_auc: 0.9067 - val_detect_f1: 0.0487 - val_detect_sensitivity: 0.0553 - val_detect_specificity: 0.9459 - val_classify_acc: 0.8510 - val_montage_binary_accuracy: 0.9435 - val_patient_acc: 0.0029\n",
      "Epoch 21/100\n"
     ]
    },
    {
     "name": "stdout",
     "output_type": "stream",
     "text": [
      "400/400 [==============================] - 92s 230ms/step - loss: 71.7082 - detect_loss: 0.3867 - classify_loss: 0.6233 - montage_loss: 0.4008 - patient_loss: 5.2981 - decode_loss: 64.9993 - detect_acc: 0.8462 - detect_auc: 0.9074 - detect_f1: 0.8477 - detect_sensitivity: 0.8447 - detect_specificity: 0.8398 - classify_acc: 0.7299 - montage_binary_accuracy: 0.8080 - patient_acc: 0.0373 - val_loss: 14021.9567 - val_detect_loss: 0.3969 - val_classify_loss: 0.4830 - val_montage_loss: 0.1685 - val_patient_loss: 7.0250 - val_decode_loss: 14013.8848 - val_detect_acc: 0.8367 - val_detect_auc: 0.9068 - val_detect_f1: 0.0429 - val_detect_sensitivity: 0.0472 - val_detect_specificity: 0.9472 - val_classify_acc: 0.8269 - val_montage_binary_accuracy: 0.9556 - val_patient_acc: 1.4323e-04\n",
      "Epoch 22/100\n",
      "400/400 [==============================] - 90s 224ms/step - loss: 65.7011 - detect_loss: 0.2855 - classify_loss: 0.5320 - montage_loss: 0.3729 - patient_loss: 5.0915 - decode_loss: 59.4192 - detect_acc: 0.9018 - detect_auc: 0.9075 - detect_f1: 0.8998 - detect_sensitivity: 0.8918 - detect_specificity: 0.8944 - classify_acc: 0.7764 - montage_binary_accuracy: 0.8170 - patient_acc: 0.0550 - val_loss: 7179.1306 - val_detect_loss: 0.4529 - val_classify_loss: 0.3996 - val_montage_loss: 0.2075 - val_patient_loss: 7.3531 - val_decode_loss: 7170.7207 - val_detect_acc: 0.8482 - val_detect_auc: 0.9077 - val_detect_f1: 0.0388 - val_detect_sensitivity: 0.0492 - val_detect_specificity: 0.9442 - val_classify_acc: 0.8741 - val_montage_binary_accuracy: 0.9417 - val_patient_acc: 0.0000e+00\n",
      "Epoch 00022: early stopping\n"
     ]
    }
   ],
   "source": [
    "history = model.fit(train_data, steps_per_epoch=(400), validation_data=valid_data, validation_steps=(600), epochs=100, callbacks=[tf.keras.callbacks.EarlyStopping(monitor=\"val_detect_f1\", mode=\"max\", patience=10, verbose=True)])"
   ]
  },
  {
   "cell_type": "code",
   "execution_count": 12,
   "metadata": {},
   "outputs": [],
   "source": [
    "history = Dict(history.history)"
   ]
  },
  {
   "cell_type": "code",
   "execution_count": 13,
   "metadata": {},
   "outputs": [
    {
     "data": {
      "text/plain": [
       "<matplotlib.legend.Legend at 0x7fc8145882e8>"
      ]
     },
     "execution_count": 13,
     "metadata": {},
     "output_type": "execute_result"
    },
    {
     "data": {
      "image/png": "[encoded data removed]",
      "text/plain": [
       "<Figure size 432x288 with 1 Axes>"
      ]
     },
     "metadata": {
      "needs_background": "light"
     },
     "output_type": "display_data"
    }
   ],
   "source": [
    "import matplotlib.pyplot as plt\n",
    "plt.plot(history.detect_f1)\n",
    "plt.plot(history.val_detect_f1)\n",
    "plt.plot((np.log(history.patient_acc) + 6)/2 )\n",
    "plt.legend([\"Train F1\", \"Valid F1\", \"Log-Scaled Patient Acc\"])"
   ]
  },
  {
   "cell_type": "code",
   "execution_count": 14,
   "metadata": {},
   "outputs": [
    {
     "data": {
      "text/plain": [
       "[<matplotlib.lines.Line2D at 0x7fc814471cc0>]"
      ]
     },
     "execution_count": 14,
     "metadata": {},
     "output_type": "execute_result"
    },
    {
     "data": {
      "image/png": "[encoded data removed]",
      "text/plain": [
       "<Figure size 432x288 with 1 Axes>"
      ]
     },
     "metadata": {
      "needs_background": "light"
     },
     "output_type": "display_data"
    }
   ],
   "source": [
    "plt.plot(history.detect_auc)\n",
    "plt.plot(history.val_detect_auc)"
   ]
  },
  {
   "cell_type": "markdown",
   "metadata": {},
   "source": [
    "# try randomly rearranging channels, even though montage accuracy will suffer"
   ]
  },
  {
   "cell_type": "code",
   "execution_count": 24,
   "metadata": {},
   "outputs": [],
   "source": [
    "def read_tfrecord(example):\n",
    "    features = { \\\n",
    "               'data':  tf.io.FixedLenFeature([21*1000], tf.float32,),\\\n",
    "               'label':  tf.io.FixedLenFeature([1], tf.int64,),\\\n",
    "               'subtypeLabel':  tf.io.FixedLenFeature([1], tf.int64,),\\\n",
    "               'session':  tf.io.FixedLenFeature([1], tf.int64,), \\\n",
    "               'montage':  tf.io.FixedLenFeature([22], tf.int64,)}\n",
    "\n",
    "    # decode the TFRecord\n",
    "    example = tf.io.parse_single_example(example, features)\n",
    "#     return example\n",
    "\n",
    "    data = tf.reshape(example['data'], [1000,21])\n",
    "    data = tf.transpose(tf.random.shuffle(tf.transpose(data)))\n",
    "    data = tf.reshape(data, [1000,21,1])\n",
    "    # data = (example['data'])\n",
    "\n",
    "    class_label = tf.cast(example['label'], tf.int32)\n",
    "\n",
    "    # del example\n",
    "    return data, (tf.one_hot(class_label[0], 2), tf.one_hot(example[\"subtypeLabel\"][0], 4),  example[\"montage\"], tf.one_hot(example[\"session\"][0], 575), data)\n",
    "\n",
    "def get_batched_dataset(filenames, batch_size, max_queue_size=10,  n_process=4, is_train=False):\n",
    "    option_no_order = tf.data.Options()\n",
    "    option_no_order.experimental_deterministic = False\n",
    "\n",
    "    dataset = tf.data.Dataset.list_files(filenames)\n",
    "    dataset = dataset.with_options(option_no_order)\n",
    "    dataset = dataset.interleave(tf.data.TFRecordDataset, cycle_length=1, num_parallel_calls=1)\n",
    "#     \n",
    "    dataset = dataset.map(read_tfrecord, num_parallel_calls=n_process)\n",
    "    \n",
    "#     dataset = dataset.cache() # IF this dataset fits in RAM\n",
    "    dataset = dataset.repeat()\n",
    "#     if is_train:\n",
    "#         resampler = tf.data.experimental.rejection_resample(lambda x, y: y, target_dist=[1, 1])\n",
    "#         dataset = dataset.apply(resampler)\n",
    "    if is_train:\n",
    "        dataset = dataset.shuffle(256)\n",
    "    dataset = dataset.batch(batch_size, drop_remainder=True)\n",
    "    if is_train:\n",
    "        dataset = dataset.prefetch(max_queue_size)\n",
    "    else:\n",
    "        dataset = dataset.prefetch(int(max_queue_size/4)) #store a lot less for the other sets to avoid wasting memory\n",
    "\n",
    "    return dataset\n",
    "\n",
    "def get_positive_train_dataset(filenames,  max_queue_size=5, n_process=4, is_train=True):\n",
    "    option_no_order = tf.data.Options()\n",
    "    option_no_order.experimental_deterministic = False\n",
    "\n",
    "    dataset = tf.data.Dataset.list_files(filenames)\n",
    "    dataset = dataset.with_options(option_no_order)\n",
    "    dataset = dataset.interleave(tf.data.TFRecordDataset, cycle_length=1, num_parallel_calls=1)\n",
    "#     \n",
    "    dataset = dataset.map(read_tfrecord, num_parallel_calls=n_process)\n",
    "    \n",
    "    dataset = dataset.filter(lambda x, y: tf.equal(tf.argmax(y[0], 0), 1))\n",
    "\n",
    "    \n",
    "#     dataset = dataset.cache() # IF this dataset fits in RAM\n",
    "    dataset = dataset.repeat()\n",
    "#     if is_train:\n",
    "#         resampler = tf.data.experimental.rejection_resample(lambda x, y: y, target_dist=[1, 1])\n",
    "#         dataset = dataset.apply(resampler)\n",
    "    if is_train:\n",
    "        dataset = dataset.shuffle(256)\n",
    "#     dataset = dataset.batch(batch_size, drop_remainder=True)\n",
    "    if is_train:\n",
    "        dataset = dataset.prefetch(max_queue_size)\n",
    "    else:\n",
    "        dataset = dataset.prefetch(int(max_queue_size/4)) #store a lot less for the other sets to avoid wasting memory\n",
    "\n",
    "    return dataset\n",
    "\n",
    "def get_negative_train_dataset(filenames, max_queue_size=10, n_process=4, is_train=True):\n",
    "    option_no_order = tf.data.Options()\n",
    "    option_no_order.experimental_deterministic = False\n",
    "\n",
    "    dataset = tf.data.Dataset.list_files(filenames)\n",
    "    dataset = dataset.with_options(option_no_order)\n",
    "    dataset = dataset.interleave(tf.data.TFRecordDataset, cycle_length=1, num_parallel_calls=1)\n",
    "#     \n",
    "    dataset = dataset.map(read_tfrecord, num_parallel_calls=n_process)\n",
    "   \n",
    "    \n",
    "    dataset = dataset.filter(lambda x, y: tf.equal(tf.argmax(y[0], 0), 0))\n",
    "\n",
    "    \n",
    "#     dataset = dataset.cache() # IF this dataset fits in RAM\n",
    "    dataset = dataset.repeat()\n",
    "#     if is_train:\n",
    "#         resampler = tf.data.experimental.rejection_resample(lambda x, y: y, target_dist=[1, 1])\n",
    "#         dataset = dataset.apply(resampler)\n",
    "    if is_train:\n",
    "        dataset = dataset.shuffle(256)\n",
    "#     dataset = dataset.batch(batch_size, drop_remainder=True)\n",
    "    if is_train:\n",
    "        dataset = dataset.prefetch(max_queue_size)\n",
    "    else:\n",
    "        dataset = dataset.prefetch(int(max_queue_size/4)) #store a lot less for the other sets to avoid wasting memory\n",
    "    return dataset\n",
    "\n",
    "def get_balanced_dataset(filenames, batch_size, max_queue_size=10, n_process=4, is_train=True):\n",
    "    pos_ds = get_positive_train_dataset(filenames)\n",
    "    neg_ds = get_negative_train_dataset(filenames)   \n",
    "    dataset = tf.data.experimental.sample_from_datasets([neg_ds, pos_ds], [0.5, 0.5])\n",
    "    if is_train:\n",
    "        dataset = dataset.shuffle(256)\n",
    "    dataset = dataset.batch(batch_size, drop_remainder=True)\n",
    "    return dataset.prefetch(max_queue_size)"
   ]
  },
  {
   "cell_type": "code",
   "execution_count": 21,
   "metadata": {},
   "outputs": [],
   "source": [
    "num_cnn_layers = 3\n",
    "num_lstm_layers = 1\n",
    "num_lin_layers= 4\n",
    "inputLayer = tf.keras.layers.Input((1000,21, 1))\n",
    "x = inputLayer\n",
    "\n",
    "x = tf.keras.layers.GaussianNoise(10)(x)\n",
    "for i in range(num_cnn_layers):\n",
    "#     x = tf.keras.layers.BatchNormalization()(x)\n",
    "    x = tf.keras.layers.Conv2D(2, (3,3), padding=\"same\")(x)\n",
    "    x = tf.keras.layers.LeakyReLU()(x)\n",
    "    x = tf.keras.layers.MaxPool2D((2,1))(x)\n",
    "old_x_shape = (x).get_shape().as_list()\n",
    "x = tf.keras.layers.Reshape((int(x.shape[1]), int(x.shape[2]) * int(x.shape[3])), name=\"LSTM_Reshape\")(x)\n",
    "for j in range(num_lstm_layers):\n",
    "    x = tf.keras.layers.TimeDistributed(tf.keras.layers.BatchNormalization())(x)\n",
    "    x = tf.keras.layers.CuDNNLSTM(32, return_sequences=True)(x)\n",
    "    x = tf.keras.layers.LeakyReLU()(x)\n",
    "x_shared = x\n",
    "x = tf.keras.layers.Flatten(name=\"flatten_encoder_lstm\")(x)\n",
    "x_shared_flattened = x\n",
    "\n",
    "#seizure detect\n",
    "x = x_shared_flattened \n",
    "for k in range(num_lin_layers):\n",
    "    x = tf.keras.layers.BatchNormalization()(x)\n",
    "    x = tf.keras.layers.Dense(100)(x)\n",
    "    x = tf.keras.layers.LeakyReLU()(x)\n",
    "    x = tf.keras.layers.Dropout(0.5)(x)\n",
    "x_detect = tf.keras.layers.Dense(2, name=\"detect\", activation=\"softmax\")(x)\n",
    "\n",
    "\n",
    "#seizure classify\n",
    "x = x_shared_flattened \n",
    "for k in range(num_lin_layers):\n",
    "    x = tf.keras.layers.BatchNormalization()(x)\n",
    "    x = tf.keras.layers.Dense(100)(x)\n",
    "    x = tf.keras.layers.LeakyReLU()(x)\n",
    "    x = tf.keras.layers.Dropout(0.5)(x)\n",
    "x_classify = tf.keras.layers.Dense(4, name=\"classify\", activation=\"softmax\")(x)\n",
    "\n",
    "#montage classify\n",
    "x = x_shared_flattened \n",
    "for k in range(num_lin_layers):\n",
    "    x = tf.keras.layers.BatchNormalization()(x)\n",
    "    x = tf.keras.layers.Dense(100)(x)\n",
    "    x = tf.keras.layers.LeakyReLU()(x)\n",
    "    x = tf.keras.layers.Dropout(0.5)(x)\n",
    "x_montage = tf.keras.layers.Dense(22, name=\"montage\", activation=\"sigmoid\")(x)\n",
    "\n",
    "#patient measurement\n",
    "x = x_shared_flattened \n",
    "for k in range(num_lin_layers):\n",
    "    x = tf.keras.layers.BatchNormalization()(x)\n",
    "    x = tf.keras.layers.Dense(100)(x)\n",
    "    x = tf.keras.layers.LeakyReLU()(x)\n",
    "    x = tf.keras.layers.Dropout(0.5)(x)\n",
    "x_pre_patient = x\n",
    "x_patient = tf.keras.layers.Dense(575, name=\"patient\", activation=\"softmax\")(x)\n",
    "\n",
    "#decoder\n",
    "x = x_shared\n",
    "x = tf.keras.layers.CuDNNLSTM(old_x_shape[2]*old_x_shape[3], return_sequences=True, name=\"lstm_decode\")(x)\n",
    "x = tf.keras.layers.BatchNormalization()(x)\n",
    "x = tf.keras.layers.Reshape(old_x_shape[1:], name=\"reshape_decode\")(x)\n",
    "for i in range(num_cnn_layers):\n",
    "    x = tf.keras.layers.BatchNormalization()(x)\n",
    "    x = tf.keras.layers.Conv2D(2, (3,3), padding=\"same\")(x)\n",
    "    x = tf.keras.layers.UpSampling2D((2,1))(x)\n",
    "    x = tf.keras.layers.LeakyReLU()(x)\n",
    "x = tf.keras.layers.Conv2D(1, (3,3), padding=\"same\")(x)\n",
    "x = tf.keras.layers.LeakyReLU()(x)\n",
    "\n",
    "x_decode = tf.keras.layers.Reshape((int(x.shape[1]), int(x.shape[2]), int(x.shape[3])), name=\"decode\")(x)\n",
    "\n",
    "model = tf.keras.Model(inputs=inputLayer, outputs=[x_detect, x_classify, x_montage, x_patient, x_decode])\n",
    "from keras_models.metrics import f1, sensitivity, specificity\n",
    "model.compile(tf.keras.optimizers.Adam(lr=0.0001), loss=[\"categorical_crossentropy\", \"categorical_crossentropy\", \"binary_crossentropy\", \"categorical_crossentropy\", \"mean_squared_error\"], metrics={\"detect\":[\"accuracy\", auc, f1, sensitivity, specificity], \"classify\":[\"accuracy\"], \"montage\":[\"binary_accuracy\"], \"patient\": [\"accuracy\"]})\n",
    "batch_size=128\n"
   ]
  },
  {
   "cell_type": "code",
   "execution_count": 5,
   "metadata": {},
   "outputs": [
    {
     "data": {
      "text/plain": [
       "['/device:GPU:0', '/device:GPU:1', '/device:GPU:2', '/device:GPU:3']"
      ]
     },
     "execution_count": 5,
     "metadata": {},
     "output_type": "execute_result"
    }
   ],
   "source": [
    "from tensorflow.python.client import device_lib\n",
    "\n",
    "def get_available_gpus():\n",
    "    local_device_protos = device_lib.list_local_devices()\n",
    "    return [x.name for x in local_device_protos if x.device_type == 'GPU']\n",
    "get_available_gpus()"
   ]
  },
  {
   "cell_type": "code",
   "execution_count": 25,
   "metadata": {},
   "outputs": [],
   "source": [
    "batch_size=128\n",
    "train_data = get_balanced_dataset([\"/n/scratch2/ms994/train_4s.tfr\"], batch_size, is_train=True)\n",
    "train_unbalanced = get_batched_dataset([\"/n/scratch2/ms994/train_4s.tfr\"], batch_size, is_train=True)\n",
    "valid_data = get_batched_dataset([\"/n/scratch2/ms994/valid_4s.tfr\"], batch_size, is_train=False)\n",
    "test_data = get_batched_dataset([\"/n/scratch2/ms994/test_4s.tfr\"], batch_size, is_train=False)"
   ]
  },
  {
   "cell_type": "code",
   "execution_count": 26,
   "metadata": {},
   "outputs": [
    {
     "name": "stdout",
     "output_type": "stream",
     "text": [
      "Epoch 1/100\n",
      "400/400 [==============================] - 121s 302ms/step - loss: 232.1201 - detect_loss: 0.7610 - classify_loss: 1.3218 - montage_loss: 0.6874 - patient_loss: 6.3275 - decode_loss: 223.0224 - detect_acc: 0.6304 - detect_auc: 0.6133 - detect_f1: 0.6350 - detect_sensitivity: 0.6500 - detect_specificity: 0.6380 - classify_acc: 0.4625 - montage_binary_accuracy: 0.6142 - patient_acc: 0.0053 - val_loss: 13543.2780 - val_detect_loss: 0.3570 - val_classify_loss: 0.4677 - val_montage_loss: 0.2255 - val_patient_loss: 6.3844 - val_decode_loss: 13535.8438 - val_detect_acc: 0.8286 - val_detect_auc: 0.7733 - val_detect_f1: 0.0476 - val_detect_sensitivity: 0.0739 - val_detect_specificity: 0.9717 - val_classify_acc: 0.8450 - val_montage_binary_accuracy: 0.9003 - val_patient_acc: 7.8125e-05\n",
      "Epoch 2/100\n",
      "400/400 [==============================] - 114s 286ms/step - loss: 184.8003 - detect_loss: 0.6788 - classify_loss: 1.0900 - montage_loss: 0.5699 - patient_loss: 6.0045 - decode_loss: 176.4572 - detect_acc: 0.6790 - detect_auc: 0.8250 - detect_f1: 0.6781 - detect_sensitivity: 0.6803 - detect_specificity: 0.6796 - classify_acc: 0.5350 - montage_binary_accuracy: 0.7144 - patient_acc: 0.0188 - val_loss: 14167.5540 - val_detect_loss: 0.4017 - val_classify_loss: 0.4570 - val_montage_loss: 0.2165 - val_patient_loss: 6.4408 - val_decode_loss: 14160.0400 - val_detect_acc: 0.8236 - val_detect_auc: 0.8211 - val_detect_f1: 0.0501 - val_detect_sensitivity: 0.0712 - val_detect_specificity: 0.9443 - val_classify_acc: 0.8604 - val_montage_binary_accuracy: 0.9208 - val_patient_acc: 0.0000e+00\n",
      "Epoch 3/100\n",
      "400/400 [==============================] - 113s 284ms/step - loss: 188.5499 - detect_loss: 0.5916 - classify_loss: 0.9663 - montage_loss: 0.5179 - patient_loss: 6.0165 - decode_loss: 180.4575 - detect_acc: 0.7281 - detect_auc: 0.8346 - detect_f1: 0.7280 - detect_sensitivity: 0.7335 - detect_specificity: 0.7312 - classify_acc: 0.5705 - montage_binary_accuracy: 0.7414 - patient_acc: 0.0100 - val_loss: 14458.4267 - val_detect_loss: 0.6762 - val_classify_loss: 0.7548 - val_montage_loss: 0.3286 - val_patient_loss: 6.6076 - val_decode_loss: 14450.0566 - val_detect_acc: 0.6408 - val_detect_auc: 0.8128 - val_detect_f1: 0.0694 - val_detect_sensitivity: 0.1174 - val_detect_specificity: 0.9107 - val_classify_acc: 0.6959 - val_montage_binary_accuracy: 0.8782 - val_patient_acc: 6.5104e-05\n",
      "Epoch 4/100\n",
      "400/400 [==============================] - 115s 288ms/step - loss: 143.9612 - detect_loss: 0.5147 - classify_loss: 0.8808 - montage_loss: 0.4894 - patient_loss: 5.8609 - decode_loss: 136.2155 - detect_acc: 0.7756 - detect_auc: 0.8085 - detect_f1: 0.7715 - detect_sensitivity: 0.7648 - detect_specificity: 0.7712 - classify_acc: 0.6113 - montage_binary_accuracy: 0.7590 - patient_acc: 0.0171 - val_loss: 7410.7524 - val_detect_loss: 0.7662 - val_classify_loss: 0.8400 - val_montage_loss: 0.3206 - val_patient_loss: 6.7460 - val_decode_loss: 7402.0781 - val_detect_acc: 0.7039 - val_detect_auc: 0.8034 - val_detect_f1: 0.0588 - val_detect_sensitivity: 0.0962 - val_detect_specificity: 0.9269 - val_classify_acc: 0.7242 - val_montage_binary_accuracy: 0.8628 - val_patient_acc: 7.8125e-05\n",
      "Epoch 5/100\n",
      "400/400 [==============================] - 120s 301ms/step - loss: 139.5610 - detect_loss: 0.5559 - classify_loss: 0.8870 - montage_loss: 0.4990 - patient_loss: 5.9240 - decode_loss: 131.6951 - detect_acc: 0.7582 - detect_auc: 0.8047 - detect_f1: 0.7570 - detect_sensitivity: 0.7554 - detect_specificity: 0.7556 - classify_acc: 0.6016 - montage_binary_accuracy: 0.7550 - patient_acc: 0.0159 - val_loss: 13991.4745 - val_detect_loss: 0.5821 - val_classify_loss: 0.6564 - val_montage_loss: 0.2865 - val_patient_loss: 6.6320 - val_decode_loss: 13983.3203 - val_detect_acc: 0.7280 - val_detect_auc: 0.8024 - val_detect_f1: 0.0589 - val_detect_sensitivity: 0.0909 - val_detect_specificity: 0.9363 - val_classify_acc: 0.7674 - val_montage_binary_accuracy: 0.8925 - val_patient_acc: 1.4323e-04\n",
      "Epoch 6/100\n",
      "400/400 [==============================] - 117s 292ms/step - loss: 121.9568 - detect_loss: 0.5012 - classify_loss: 0.8253 - montage_loss: 0.4635 - patient_loss: 5.8735 - decode_loss: 114.2933 - detect_acc: 0.7892 - detect_auc: 0.8044 - detect_f1: 0.7897 - detect_sensitivity: 0.7979 - detect_specificity: 0.7946 - classify_acc: 0.6206 - montage_binary_accuracy: 0.7674 - patient_acc: 0.0131 - val_loss: 13578.2095 - val_detect_loss: 0.5851 - val_classify_loss: 0.6268 - val_montage_loss: 0.2594 - val_patient_loss: 6.6422 - val_decode_loss: 13570.0986 - val_detect_acc: 0.7374 - val_detect_auc: 0.8061 - val_detect_f1: 0.0528 - val_detect_sensitivity: 0.0863 - val_detect_specificity: 0.9358 - val_classify_acc: 0.7701 - val_montage_binary_accuracy: 0.9026 - val_patient_acc: 1.1719e-04\n",
      "Epoch 7/100\n",
      "400/400 [==============================] - 116s 290ms/step - loss: 107.6254 - detect_loss: 0.4595 - classify_loss: 0.7909 - montage_loss: 0.4674 - patient_loss: 5.7509 - decode_loss: 100.1567 - detect_acc: 0.8158 - detect_auc: 0.8079 - detect_f1: 0.8176 - detect_sensitivity: 0.8271 - detect_specificity: 0.8217 - classify_acc: 0.6497 - montage_binary_accuracy: 0.7618 - patient_acc: 0.0171 - val_loss: 14145.6070 - val_detect_loss: 0.8037 - val_classify_loss: 0.8732 - val_montage_loss: 0.3428 - val_patient_loss: 6.7389 - val_decode_loss: 14136.8496 - val_detect_acc: 0.7136 - val_detect_auc: 0.8096 - val_detect_f1: 0.0489 - val_detect_sensitivity: 0.0888 - val_detect_specificity: 0.9189 - val_classify_acc: 0.7305 - val_montage_binary_accuracy: 0.8663 - val_patient_acc: 3.7760e-04\n",
      "Epoch 8/100\n",
      "400/400 [==============================] - 122s 304ms/step - loss: 111.2265 - detect_loss: 0.5671 - classify_loss: 0.8722 - montage_loss: 0.4888 - patient_loss: 5.6524 - decode_loss: 103.6461 - detect_acc: 0.7480 - detect_auc: 0.8077 - detect_f1: 0.7508 - detect_sensitivity: 0.7597 - detect_specificity: 0.7521 - classify_acc: 0.5989 - montage_binary_accuracy: 0.7618 - patient_acc: 0.0215 - val_loss: 14106.6422 - val_detect_loss: 0.5375 - val_classify_loss: 0.5796 - val_montage_loss: 0.2584 - val_patient_loss: 6.6681 - val_decode_loss: 14098.5918 - val_detect_acc: 0.7337 - val_detect_auc: 0.8079 - val_detect_f1: 0.0455 - val_detect_sensitivity: 0.0780 - val_detect_specificity: 0.9372 - val_classify_acc: 0.7919 - val_montage_binary_accuracy: 0.9123 - val_patient_acc: 1.6927e-04\n",
      "Epoch 9/100\n",
      "400/400 [==============================] - 118s 296ms/step - loss: 92.7326 - detect_loss: 0.5018 - classify_loss: 0.8094 - montage_loss: 0.4562 - patient_loss: 5.2484 - decode_loss: 85.7168 - detect_acc: 0.7851 - detect_auc: 0.8081 - detect_f1: 0.7865 - detect_sensitivity: 0.7928 - detect_specificity: 0.7879 - classify_acc: 0.6237 - montage_binary_accuracy: 0.7803 - patient_acc: 0.0278 - val_loss: 14055.1704 - val_detect_loss: 0.6167 - val_classify_loss: 0.6741 - val_montage_loss: 0.3288 - val_patient_loss: 7.7363 - val_decode_loss: 14045.8115 - val_detect_acc: 0.7996 - val_detect_auc: 0.8112 - val_detect_f1: 0.0418 - val_detect_sensitivity: 0.0667 - val_detect_specificity: 0.9349 - val_classify_acc: 0.8230 - val_montage_binary_accuracy: 0.8950 - val_patient_acc: 0.0000e+00\n",
      "Epoch 10/100\n",
      "400/400 [==============================] - 115s 286ms/step - loss: 94.9452 - detect_loss: 0.5424 - classify_loss: 0.8552 - montage_loss: 0.4743 - patient_loss: 5.4752 - decode_loss: 87.5981 - detect_acc: 0.7603 - detect_auc: 0.8108 - detect_f1: 0.7588 - detect_sensitivity: 0.7562 - detect_specificity: 0.7569 - classify_acc: 0.6110 - montage_binary_accuracy: 0.7681 - patient_acc: 0.0240 - val_loss: 13723.6285 - val_detect_loss: 0.5616 - val_classify_loss: 0.6170 - val_montage_loss: 0.2911 - val_patient_loss: 6.9606 - val_decode_loss: 13715.2021 - val_detect_acc: 0.8045 - val_detect_auc: 0.8139 - val_detect_f1: 0.0389 - val_detect_sensitivity: 0.0654 - val_detect_specificity: 0.9348 - val_classify_acc: 0.8338 - val_montage_binary_accuracy: 0.9114 - val_patient_acc: 2.6042e-05\n",
      "Epoch 11/100\n",
      "400/400 [==============================] - 121s 304ms/step - loss: 85.6173 - detect_loss: 0.5295 - classify_loss: 0.8261 - montage_loss: 0.4735 - patient_loss: 5.6514 - decode_loss: 78.1368 - detect_acc: 0.7661 - detect_auc: 0.8133 - detect_f1: 0.7607 - detect_sensitivity: 0.7473 - detect_specificity: 0.7560 - classify_acc: 0.6182 - montage_binary_accuracy: 0.7705 - patient_acc: 0.0200 - val_loss: 12627.1044 - val_detect_loss: 0.7054 - val_classify_loss: 0.7112 - val_montage_loss: 0.3709 - val_patient_loss: 7.0027 - val_decode_loss: 12618.3145 - val_detect_acc: 0.8090 - val_detect_auc: 0.8165 - val_detect_f1: 0.0405 - val_detect_sensitivity: 0.0680 - val_detect_specificity: 0.9346 - val_classify_acc: 0.8340 - val_montage_binary_accuracy: 0.8931 - val_patient_acc: 1.3021e-05\n",
      "Epoch 12/100\n",
      "400/400 [==============================] - 120s 299ms/step - loss: 83.6896 - detect_loss: 0.5197 - classify_loss: 0.8107 - montage_loss: 0.4584 - patient_loss: 5.6639 - decode_loss: 76.2370 - detect_acc: 0.7742 - detect_auc: 0.8170 - detect_f1: 0.7744 - detect_sensitivity: 0.7732 - detect_specificity: 0.7708 - classify_acc: 0.6154 - montage_binary_accuracy: 0.7735 - patient_acc: 0.0171 - val_loss: 12668.6097 - val_detect_loss: 0.5351 - val_classify_loss: 0.5829 - val_montage_loss: 0.2557 - val_patient_loss: 6.7342 - val_decode_loss: 12660.4980 - val_detect_acc: 0.7754 - val_detect_auc: 0.8175 - val_detect_f1: 0.0473 - val_detect_sensitivity: 0.0768 - val_detect_specificity: 0.9332 - val_classify_acc: 0.8350 - val_montage_binary_accuracy: 0.9309 - val_patient_acc: 0.0000e+00\n",
      "Epoch 13/100\n",
      "400/400 [==============================] - 116s 290ms/step - loss: 78.5967 - detect_loss: 0.4703 - classify_loss: 0.7702 - montage_loss: 0.4509 - patient_loss: 5.6615 - decode_loss: 71.2438 - detect_acc: 0.8034 - detect_auc: 0.8167 - detect_f1: 0.8068 - detect_sensitivity: 0.8232 - detect_specificity: 0.8150 - classify_acc: 0.6411 - montage_binary_accuracy: 0.7711 - patient_acc: 0.0274 - val_loss: 13725.0429 - val_detect_loss: 0.6196 - val_classify_loss: 0.6505 - val_montage_loss: 0.3039 - val_patient_loss: 6.8526 - val_decode_loss: 13716.6152 - val_detect_acc: 0.7873 - val_detect_auc: 0.8194 - val_detect_f1: 0.0360 - val_detect_sensitivity: 0.0604 - val_detect_specificity: 0.9350 - val_classify_acc: 0.8238 - val_montage_binary_accuracy: 0.9059 - val_patient_acc: 0.0095\n",
      "Epoch 00013: early stopping\n"
     ]
    }
   ],
   "source": [
    "history = model.fit(train_data, steps_per_epoch=(400), validation_data=valid_data, validation_steps=(600), epochs=100, callbacks=[tf.keras.callbacks.EarlyStopping(monitor=\"val_detect_f1\", mode=\"max\", patience=10, verbose=True)])"
   ]
  },
  {
   "cell_type": "code",
   "execution_count": 27,
   "metadata": {},
   "outputs": [],
   "source": [
    "history = Dict(history.history)"
   ]
  },
  {
   "cell_type": "code",
   "execution_count": 28,
   "metadata": {},
   "outputs": [
    {
     "data": {
      "text/plain": [
       "<matplotlib.legend.Legend at 0x7fc8148316d8>"
      ]
     },
     "execution_count": 28,
     "metadata": {},
     "output_type": "execute_result"
    },
    {
     "data": {
      "image/png": "[encoded data removed]",
      "text/plain": [
       "<Figure size 432x288 with 1 Axes>"
      ]
     },
     "metadata": {
      "needs_background": "light"
     },
     "output_type": "display_data"
    }
   ],
   "source": [
    "import matplotlib.pyplot as plt\n",
    "plt.plot(history.detect_f1)\n",
    "plt.plot(history.val_detect_f1)\n",
    "plt.plot((np.log(history.patient_acc) + 6)/2 )\n",
    "plt.legend([\"Train F1\", \"Valid F1\", \"Log-Scaled Patient Acc\"])"
   ]
  },
  {
   "cell_type": "code",
   "execution_count": 29,
   "metadata": {},
   "outputs": [
    {
     "data": {
      "text/plain": [
       "[<matplotlib.lines.Line2D at 0x7fc814854860>]"
      ]
     },
     "execution_count": 29,
     "metadata": {},
     "output_type": "execute_result"
    },
    {
     "data": {
      "image/png": "[encoded data removed]",
      "text/plain": [
       "<Figure size 432x288 with 1 Axes>"
      ]
     },
     "metadata": {
      "needs_background": "light"
     },
     "output_type": "display_data"
    }
   ],
   "source": [
    "plt.plot(history.detect_auc)\n",
    "plt.plot(history.val_detect_auc)"
   ]
  },
  {
   "cell_type": "markdown",
   "metadata": {},
   "source": [
    "# Try less noise but still keep random rearrange"
   ]
  },
  {
   "cell_type": "code",
   "execution_count": 30,
   "metadata": {},
   "outputs": [],
   "source": [
    "def read_tfrecord(example):\n",
    "    features = { \\\n",
    "               'data':  tf.io.FixedLenFeature([21*1000], tf.float32,),\\\n",
    "               'label':  tf.io.FixedLenFeature([1], tf.int64,),\\\n",
    "               'subtypeLabel':  tf.io.FixedLenFeature([1], tf.int64,),\\\n",
    "               'session':  tf.io.FixedLenFeature([1], tf.int64,), \\\n",
    "               'montage':  tf.io.FixedLenFeature([22], tf.int64,)}\n",
    "\n",
    "    # decode the TFRecord\n",
    "    example = tf.io.parse_single_example(example, features)\n",
    "#     return example\n",
    "\n",
    "    data = tf.reshape(example['data'], [1000,21])\n",
    "    data = tf.transpose(tf.random.shuffle(tf.transpose(data)))\n",
    "    data = tf.reshape(data, [1000,21,1])\n",
    "    # data = (example['data'])\n",
    "\n",
    "    class_label = tf.cast(example['label'], tf.int32)\n",
    "\n",
    "    # del example\n",
    "    return data, (tf.one_hot(class_label[0], 2), tf.one_hot(example[\"subtypeLabel\"][0], 4),  example[\"montage\"], tf.one_hot(example[\"session\"][0], 575), data)\n",
    "\n",
    "def get_batched_dataset(filenames, batch_size, max_queue_size=10,  n_process=4, is_train=False):\n",
    "    option_no_order = tf.data.Options()\n",
    "    option_no_order.experimental_deterministic = False\n",
    "\n",
    "    dataset = tf.data.Dataset.list_files(filenames)\n",
    "    dataset = dataset.with_options(option_no_order)\n",
    "    dataset = dataset.interleave(tf.data.TFRecordDataset, cycle_length=1, num_parallel_calls=1)\n",
    "#     \n",
    "    dataset = dataset.map(read_tfrecord, num_parallel_calls=n_process)\n",
    "    \n",
    "#     dataset = dataset.cache() # IF this dataset fits in RAM\n",
    "    dataset = dataset.repeat()\n",
    "#     if is_train:\n",
    "#         resampler = tf.data.experimental.rejection_resample(lambda x, y: y, target_dist=[1, 1])\n",
    "#         dataset = dataset.apply(resampler)\n",
    "    if is_train:\n",
    "        dataset = dataset.shuffle(256)\n",
    "    dataset = dataset.batch(batch_size, drop_remainder=True)\n",
    "    if is_train:\n",
    "        dataset = dataset.prefetch(max_queue_size)\n",
    "    else:\n",
    "        dataset = dataset.prefetch(int(max_queue_size/4)) #store a lot less for the other sets to avoid wasting memory\n",
    "\n",
    "    return dataset\n",
    "\n",
    "def get_positive_train_dataset(filenames,  max_queue_size=5, n_process=4, is_train=True):\n",
    "    option_no_order = tf.data.Options()\n",
    "    option_no_order.experimental_deterministic = False\n",
    "\n",
    "    dataset = tf.data.Dataset.list_files(filenames)\n",
    "    dataset = dataset.with_options(option_no_order)\n",
    "    dataset = dataset.interleave(tf.data.TFRecordDataset, cycle_length=1, num_parallel_calls=1)\n",
    "#     \n",
    "    dataset = dataset.map(read_tfrecord, num_parallel_calls=n_process)\n",
    "    \n",
    "    dataset = dataset.filter(lambda x, y: tf.equal(tf.argmax(y[0], 0), 1))\n",
    "\n",
    "    \n",
    "#     dataset = dataset.cache() # IF this dataset fits in RAM\n",
    "    dataset = dataset.repeat()\n",
    "#     if is_train:\n",
    "#         resampler = tf.data.experimental.rejection_resample(lambda x, y: y, target_dist=[1, 1])\n",
    "#         dataset = dataset.apply(resampler)\n",
    "    if is_train:\n",
    "        dataset = dataset.shuffle(256)\n",
    "#     dataset = dataset.batch(batch_size, drop_remainder=True)\n",
    "    if is_train:\n",
    "        dataset = dataset.prefetch(max_queue_size)\n",
    "    else:\n",
    "        dataset = dataset.prefetch(int(max_queue_size/4)) #store a lot less for the other sets to avoid wasting memory\n",
    "\n",
    "    return dataset\n",
    "\n",
    "def get_negative_train_dataset(filenames, max_queue_size=10, n_process=4, is_train=True):\n",
    "    option_no_order = tf.data.Options()\n",
    "    option_no_order.experimental_deterministic = False\n",
    "\n",
    "    dataset = tf.data.Dataset.list_files(filenames)\n",
    "    dataset = dataset.with_options(option_no_order)\n",
    "    dataset = dataset.interleave(tf.data.TFRecordDataset, cycle_length=1, num_parallel_calls=1)\n",
    "#     \n",
    "    dataset = dataset.map(read_tfrecord, num_parallel_calls=n_process)\n",
    "   \n",
    "    \n",
    "    dataset = dataset.filter(lambda x, y: tf.equal(tf.argmax(y[0], 0), 0))\n",
    "\n",
    "    \n",
    "#     dataset = dataset.cache() # IF this dataset fits in RAM\n",
    "    dataset = dataset.repeat()\n",
    "#     if is_train:\n",
    "#         resampler = tf.data.experimental.rejection_resample(lambda x, y: y, target_dist=[1, 1])\n",
    "#         dataset = dataset.apply(resampler)\n",
    "    if is_train:\n",
    "        dataset = dataset.shuffle(256)\n",
    "#     dataset = dataset.batch(batch_size, drop_remainder=True)\n",
    "    if is_train:\n",
    "        dataset = dataset.prefetch(max_queue_size)\n",
    "    else:\n",
    "        dataset = dataset.prefetch(int(max_queue_size/4)) #store a lot less for the other sets to avoid wasting memory\n",
    "    return dataset\n",
    "\n",
    "def get_balanced_dataset(filenames, batch_size, max_queue_size=10, n_process=4, is_train=True):\n",
    "    pos_ds = get_positive_train_dataset(filenames)\n",
    "    neg_ds = get_negative_train_dataset(filenames)   \n",
    "    dataset = tf.data.experimental.sample_from_datasets([neg_ds, pos_ds], [0.5, 0.5])\n",
    "    if is_train:\n",
    "        dataset = dataset.shuffle(256)\n",
    "    dataset = dataset.batch(batch_size, drop_remainder=True)\n",
    "    return dataset.prefetch(max_queue_size)"
   ]
  },
  {
   "cell_type": "code",
   "execution_count": 32,
   "metadata": {},
   "outputs": [],
   "source": [
    "num_cnn_layers = 3\n",
    "num_lstm_layers = 1\n",
    "num_lin_layers= 4\n",
    "inputLayer = tf.keras.layers.Input((1000,21, 1))\n",
    "x = inputLayer\n",
    "\n",
    "x = tf.keras.layers.GaussianNoise(5)(x)\n",
    "for i in range(num_cnn_layers):\n",
    "#     x = tf.keras.layers.BatchNormalization()(x)\n",
    "    x = tf.keras.layers.Conv2D(2, (3,3), padding=\"same\")(x)\n",
    "    x = tf.keras.layers.LeakyReLU()(x)\n",
    "    x = tf.keras.layers.MaxPool2D((2,1))(x)\n",
    "old_x_shape = (x).get_shape().as_list()\n",
    "x = tf.keras.layers.Reshape((int(x.shape[1]), int(x.shape[2]) * int(x.shape[3])), name=\"LSTM_Reshape\")(x)\n",
    "for j in range(num_lstm_layers):\n",
    "    x = tf.keras.layers.TimeDistributed(tf.keras.layers.BatchNormalization())(x)\n",
    "    x = tf.keras.layers.CuDNNLSTM(32, return_sequences=True)(x)\n",
    "    x = tf.keras.layers.LeakyReLU()(x)\n",
    "x_shared = x\n",
    "x = tf.keras.layers.Flatten(name=\"flatten_encoder_lstm\")(x)\n",
    "x_shared_flattened = x\n",
    "\n",
    "#seizure detect\n",
    "x = x_shared_flattened \n",
    "for k in range(num_lin_layers):\n",
    "    x = tf.keras.layers.BatchNormalization()(x)\n",
    "    x = tf.keras.layers.Dense(100)(x)\n",
    "    x = tf.keras.layers.LeakyReLU()(x)\n",
    "    x = tf.keras.layers.Dropout(0.5)(x)\n",
    "x_detect = tf.keras.layers.Dense(2, name=\"detect\", activation=\"softmax\")(x)\n",
    "\n",
    "\n",
    "#seizure classify\n",
    "x = x_shared_flattened \n",
    "for k in range(num_lin_layers):\n",
    "    x = tf.keras.layers.BatchNormalization()(x)\n",
    "    x = tf.keras.layers.Dense(100)(x)\n",
    "    x = tf.keras.layers.LeakyReLU()(x)\n",
    "    x = tf.keras.layers.Dropout(0.5)(x)\n",
    "x_classify = tf.keras.layers.Dense(4, name=\"classify\", activation=\"softmax\")(x)\n",
    "\n",
    "#montage classify\n",
    "x = x_shared_flattened \n",
    "for k in range(num_lin_layers):\n",
    "    x = tf.keras.layers.BatchNormalization()(x)\n",
    "    x = tf.keras.layers.Dense(100)(x)\n",
    "    x = tf.keras.layers.LeakyReLU()(x)\n",
    "    x = tf.keras.layers.Dropout(0.5)(x)\n",
    "x_montage = tf.keras.layers.Dense(22, name=\"montage\", activation=\"sigmoid\")(x)\n",
    "\n",
    "#patient measurement\n",
    "x = x_shared_flattened \n",
    "for k in range(num_lin_layers):\n",
    "    x = tf.keras.layers.BatchNormalization()(x)\n",
    "    x = tf.keras.layers.Dense(100)(x)\n",
    "    x = tf.keras.layers.LeakyReLU()(x)\n",
    "    x = tf.keras.layers.Dropout(0.5)(x)\n",
    "x_pre_patient = x\n",
    "x_patient = tf.keras.layers.Dense(575, name=\"patient\", activation=\"softmax\")(x)\n",
    "\n",
    "#decoder\n",
    "x = x_shared\n",
    "x = tf.keras.layers.CuDNNLSTM(old_x_shape[2]*old_x_shape[3], return_sequences=True, name=\"lstm_decode\")(x)\n",
    "x = tf.keras.layers.BatchNormalization()(x)\n",
    "x = tf.keras.layers.Reshape(old_x_shape[1:], name=\"reshape_decode\")(x)\n",
    "for i in range(num_cnn_layers):\n",
    "    x = tf.keras.layers.BatchNormalization()(x)\n",
    "    x = tf.keras.layers.Conv2D(2, (3,3), padding=\"same\")(x)\n",
    "    x = tf.keras.layers.UpSampling2D((2,1))(x)\n",
    "    x = tf.keras.layers.LeakyReLU()(x)\n",
    "x = tf.keras.layers.Conv2D(1, (3,3), padding=\"same\")(x)\n",
    "x = tf.keras.layers.LeakyReLU()(x)\n",
    "\n",
    "x_decode = tf.keras.layers.Reshape((int(x.shape[1]), int(x.shape[2]), int(x.shape[3])), name=\"decode\")(x)\n",
    "\n",
    "model = tf.keras.Model(inputs=inputLayer, outputs=[x_detect, x_classify, x_montage, x_patient, x_decode])\n",
    "from keras_models.metrics import f1, sensitivity, specificity\n",
    "model.compile(tf.keras.optimizers.Adam(lr=0.0001), loss=[\"categorical_crossentropy\", \"categorical_crossentropy\", \"binary_crossentropy\", \"categorical_crossentropy\", \"mean_squared_error\"], metrics={\"detect\":[\"accuracy\", auc, f1, sensitivity, specificity], \"classify\":[\"accuracy\"], \"montage\":[\"binary_accuracy\"], \"patient\": [\"accuracy\"]})\n",
    "batch_size=128\n"
   ]
  },
  {
   "cell_type": "code",
   "execution_count": 33,
   "metadata": {},
   "outputs": [
    {
     "data": {
      "text/plain": [
       "['/device:GPU:0']"
      ]
     },
     "execution_count": 33,
     "metadata": {},
     "output_type": "execute_result"
    }
   ],
   "source": [
    "from tensorflow.python.client import device_lib\n",
    "\n",
    "def get_available_gpus():\n",
    "    local_device_protos = device_lib.list_local_devices()\n",
    "    return [x.name for x in local_device_protos if x.device_type == 'GPU']\n",
    "get_available_gpus()"
   ]
  },
  {
   "cell_type": "code",
   "execution_count": 34,
   "metadata": {},
   "outputs": [],
   "source": [
    "batch_size=128\n",
    "train_data = get_balanced_dataset([\"/n/scratch2/ms994/train_4s.tfr\"], batch_size, is_train=True)\n",
    "train_unbalanced = get_batched_dataset([\"/n/scratch2/ms994/train_4s.tfr\"], batch_size, is_train=True)\n",
    "valid_data = get_batched_dataset([\"/n/scratch2/ms994/valid_4s.tfr\"], batch_size, is_train=False)\n",
    "test_data = get_batched_dataset([\"/n/scratch2/ms994/test_4s.tfr\"], batch_size, is_train=False)"
   ]
  },
  {
   "cell_type": "code",
   "execution_count": 35,
   "metadata": {},
   "outputs": [
    {
     "name": "stdout",
     "output_type": "stream",
     "text": [
      "Epoch 1/100\n",
      "400/400 [==============================] - 180s 451ms/step - loss: 231.8195 - detect_loss: 0.7563 - classify_loss: 1.3749 - montage_loss: 0.7240 - patient_loss: 6.3912 - decode_loss: 222.5733 - detect_acc: 0.6472 - detect_auc: 0.6356 - detect_f1: 0.6621 - detect_sensitivity: 0.6892 - detect_specificity: 0.6547 - classify_acc: 0.4314 - montage_binary_accuracy: 0.5934 - patient_acc: 0.0044 - val_loss: 13543.5105 - val_detect_loss: 0.4376 - val_classify_loss: 0.6768 - val_montage_loss: 0.3264 - val_patient_loss: 6.3951 - val_decode_loss: 13535.6729 - val_detect_acc: 0.7971 - val_detect_auc: 0.7653 - val_detect_f1: 0.0422 - val_detect_sensitivity: 0.0708 - val_detect_specificity: 0.9671 - val_classify_acc: 0.7558 - val_montage_binary_accuracy: 0.8646 - val_patient_acc: 2.7344e-04\n",
      "Epoch 2/100\n",
      "400/400 [==============================] - 134s 335ms/step - loss: 181.6173 - detect_loss: 0.6475 - classify_loss: 1.0916 - montage_loss: 0.5800 - patient_loss: 6.0530 - decode_loss: 173.2451 - detect_acc: 0.7048 - detect_auc: 0.8103 - detect_f1: 0.6983 - detect_sensitivity: 0.6842 - detect_specificity: 0.6946 - classify_acc: 0.5449 - montage_binary_accuracy: 0.7072 - patient_acc: 0.0146 - val_loss: 14163.5821 - val_detect_loss: 0.5297 - val_classify_loss: 0.6160 - val_montage_loss: 0.2856 - val_patient_loss: 6.4711 - val_decode_loss: 14155.6768 - val_detect_acc: 0.7717 - val_detect_auc: 0.7969 - val_detect_f1: 0.0634 - val_detect_sensitivity: 0.0955 - val_detect_specificity: 0.9401 - val_classify_acc: 0.7764 - val_montage_binary_accuracy: 0.8763 - val_patient_acc: 1.6927e-04\n",
      "Epoch 3/100\n",
      "400/400 [==============================] - 183s 457ms/step - loss: 185.7827 - detect_loss: 0.5607 - classify_loss: 0.9371 - montage_loss: 0.5162 - patient_loss: 5.9620 - decode_loss: 177.8066 - detect_acc: 0.7518 - detect_auc: 0.8082 - detect_f1: 0.7477 - detect_sensitivity: 0.7375 - detect_specificity: 0.7437 - classify_acc: 0.5839 - montage_binary_accuracy: 0.7428 - patient_acc: 0.0129 - val_loss: 14453.7073 - val_detect_loss: 0.6073 - val_classify_loss: 0.6950 - val_montage_loss: 0.2925 - val_patient_loss: 6.6053 - val_decode_loss: 14445.5098 - val_detect_acc: 0.7007 - val_detect_auc: 0.7961 - val_detect_f1: 0.0724 - val_detect_sensitivity: 0.1125 - val_detect_specificity: 0.9163 - val_classify_acc: 0.7087 - val_montage_binary_accuracy: 0.8954 - val_patient_acc: 0.0046\n",
      "Epoch 4/100\n",
      "400/400 [==============================] - 150s 374ms/step - loss: 147.2425 - detect_loss: 0.4677 - classify_loss: 0.8317 - montage_loss: 0.4811 - patient_loss: 5.8445 - decode_loss: 139.6176 - detect_acc: 0.8066 - detect_auc: 0.8015 - detect_f1: 0.8006 - detect_sensitivity: 0.7795 - detect_specificity: 0.7899 - classify_acc: 0.6333 - montage_binary_accuracy: 0.7611 - patient_acc: 0.0161 - val_loss: 7421.6711 - val_detect_loss: 0.5191 - val_classify_loss: 0.5452 - val_montage_loss: 0.2107 - val_patient_loss: 6.6474 - val_decode_loss: 7413.7476 - val_detect_acc: 0.8064 - val_detect_auc: 0.8091 - val_detect_f1: 0.0587 - val_detect_sensitivity: 0.0789 - val_detect_specificity: 0.9404 - val_classify_acc: 0.8034 - val_montage_binary_accuracy: 0.9030 - val_patient_acc: 0.0000e+00\n",
      "Epoch 5/100\n",
      "400/400 [==============================] - 132s 330ms/step - loss: 147.0501 - detect_loss: 0.5424 - classify_loss: 0.8658 - montage_loss: 0.4893 - patient_loss: 5.9016 - decode_loss: 139.2509 - detect_acc: 0.7671 - detect_auc: 0.8176 - detect_f1: 0.7612 - detect_sensitivity: 0.7458 - detect_specificity: 0.7556 - classify_acc: 0.6115 - montage_binary_accuracy: 0.7602 - patient_acc: 0.0152 - val_loss: 14035.9922 - val_detect_loss: 0.4255 - val_classify_loss: 0.4582 - val_montage_loss: 0.1948 - val_patient_loss: 6.5880 - val_decode_loss: 14028.3184 - val_detect_acc: 0.8229 - val_detect_auc: 0.8209 - val_detect_f1: 0.0588 - val_detect_sensitivity: 0.0737 - val_detect_specificity: 0.9544 - val_classify_acc: 0.8351 - val_montage_binary_accuracy: 0.9316 - val_patient_acc: 1.3021e-05\n",
      "Epoch 6/100\n",
      "400/400 [==============================] - 128s 320ms/step - loss: 134.9109 - detect_loss: 0.4916 - classify_loss: 0.8131 - montage_loss: 0.4650 - patient_loss: 5.8612 - decode_loss: 127.2801 - detect_acc: 0.7959 - detect_auc: 0.8265 - detect_f1: 0.7920 - detect_sensitivity: 0.7830 - detect_specificity: 0.7891 - classify_acc: 0.6274 - montage_binary_accuracy: 0.7653 - patient_acc: 0.0123 - val_loss: 13656.7297 - val_detect_loss: 0.5053 - val_classify_loss: 0.5369 - val_montage_loss: 0.2074 - val_patient_loss: 6.6322 - val_decode_loss: 13648.8496 - val_detect_acc: 0.7573 - val_detect_auc: 0.8282 - val_detect_f1: 0.0633 - val_detect_sensitivity: 0.0915 - val_detect_specificity: 0.9467 - val_classify_acc: 0.7679 - val_montage_binary_accuracy: 0.9284 - val_patient_acc: 1.3021e-05\n",
      "Epoch 7/100\n",
      "400/400 [==============================] - 117s 293ms/step - loss: 123.5119 - detect_loss: 0.4259 - classify_loss: 0.7527 - montage_loss: 0.4553 - patient_loss: 5.7194 - decode_loss: 116.1586 - detect_acc: 0.8324 - detect_auc: 0.8298 - detect_f1: 0.8316 - detect_sensitivity: 0.8280 - detect_specificity: 0.8278 - classify_acc: 0.6637 - montage_binary_accuracy: 0.7650 - patient_acc: 0.0172 - val_loss: 14275.4089 - val_detect_loss: 0.6540 - val_classify_loss: 0.6616 - val_montage_loss: 0.2399 - val_patient_loss: 6.7976 - val_decode_loss: 14267.0596 - val_detect_acc: 0.7492 - val_detect_auc: 0.8324 - val_detect_f1: 0.0555 - val_detect_sensitivity: 0.0853 - val_detect_specificity: 0.9324 - val_classify_acc: 0.7369 - val_montage_binary_accuracy: 0.8919 - val_patient_acc: 1.3021e-05\n",
      "Epoch 8/100\n",
      "400/400 [==============================] - 121s 302ms/step - loss: 128.1818 - detect_loss: 0.5477 - classify_loss: 0.8485 - montage_loss: 0.4815 - patient_loss: 5.6863 - decode_loss: 120.6178 - detect_acc: 0.7596 - detect_auc: 0.8310 - detect_f1: 0.7559 - detect_sensitivity: 0.7529 - detect_specificity: 0.7579 - classify_acc: 0.6096 - montage_binary_accuracy: 0.7674 - patient_acc: 0.0181 - val_loss: 14255.8828 - val_detect_loss: 0.5214 - val_classify_loss: 0.5631 - val_montage_loss: 0.2358 - val_patient_loss: 6.6663 - val_decode_loss: 14247.8916 - val_detect_acc: 0.7539 - val_detect_auc: 0.8309 - val_detect_f1: 0.0571 - val_detect_sensitivity: 0.0817 - val_detect_specificity: 0.9438 - val_classify_acc: 0.7740 - val_montage_binary_accuracy: 0.9223 - val_patient_acc: 0.0000e+00\n",
      "Epoch 9/100\n",
      "400/400 [==============================] - 119s 299ms/step - loss: 110.4884 - detect_loss: 0.5051 - classify_loss: 0.8247 - montage_loss: 0.4662 - patient_loss: 5.3249 - decode_loss: 103.3676 - detect_acc: 0.7833 - detect_auc: 0.8309 - detect_f1: 0.7768 - detect_sensitivity: 0.7585 - detect_specificity: 0.7700 - classify_acc: 0.6222 - montage_binary_accuracy: 0.7753 - patient_acc: 0.0179 - val_loss: 14229.4483 - val_detect_loss: 0.3967 - val_classify_loss: 0.4032 - val_montage_loss: 0.1776 - val_patient_loss: 7.4305 - val_decode_loss: 14221.0430 - val_detect_acc: 0.8599 - val_detect_auc: 0.8338 - val_detect_f1: 0.0429 - val_detect_sensitivity: 0.0561 - val_detect_specificity: 0.9459 - val_classify_acc: 0.8872 - val_montage_binary_accuracy: 0.9452 - val_patient_acc: 0.0000e+00\n",
      "Epoch 10/100\n",
      "400/400 [==============================] - 118s 295ms/step - loss: 112.3612 - detect_loss: 0.4911 - classify_loss: 0.8014 - montage_loss: 0.4660 - patient_loss: 5.4341 - decode_loss: 105.1687 - detect_acc: 0.7898 - detect_auc: 0.8356 - detect_f1: 0.7854 - detect_sensitivity: 0.7718 - detect_specificity: 0.7792 - classify_acc: 0.6311 - montage_binary_accuracy: 0.7698 - patient_acc: 0.0220 - val_loss: 13905.7579 - val_detect_loss: 0.5331 - val_classify_loss: 0.5572 - val_montage_loss: 0.2209 - val_patient_loss: 7.0285 - val_decode_loss: 13897.4180 - val_detect_acc: 0.7532 - val_detect_auc: 0.8381 - val_detect_f1: 0.0593 - val_detect_sensitivity: 0.0861 - val_detect_specificity: 0.9468 - val_classify_acc: 0.7685 - val_montage_binary_accuracy: 0.9257 - val_patient_acc: 1.6927e-04\n",
      "Epoch 11/100\n",
      "400/400 [==============================] - 126s 315ms/step - loss: 102.0349 - detect_loss: 0.4509 - classify_loss: 0.7475 - montage_loss: 0.4567 - patient_loss: 5.6182 - decode_loss: 94.7615 - detect_acc: 0.8167 - detect_auc: 0.8361 - detect_f1: 0.8107 - detect_sensitivity: 0.7918 - detect_specificity: 0.8030 - classify_acc: 0.6596 - montage_binary_accuracy: 0.7737 - patient_acc: 0.0177 - val_loss: 12802.1864 - val_detect_loss: 0.3697 - val_classify_loss: 0.3677 - val_montage_loss: 0.1642 - val_patient_loss: 6.8622 - val_decode_loss: 12794.4141 - val_detect_acc: 0.8662 - val_detect_auc: 0.8418 - val_detect_f1: 0.0573 - val_detect_sensitivity: 0.0706 - val_detect_specificity: 0.9555 - val_classify_acc: 0.8687 - val_montage_binary_accuracy: 0.9376 - val_patient_acc: 0.0000e+00\n",
      "Epoch 12/100\n",
      "400/400 [==============================] - 119s 297ms/step - loss: 97.4880 - detect_loss: 0.5062 - classify_loss: 0.7991 - montage_loss: 0.4562 - patient_loss: 5.6725 - decode_loss: 90.0539 - detect_acc: 0.7882 - detect_auc: 0.8438 - detect_f1: 0.7852 - detect_sensitivity: 0.7752 - detect_specificity: 0.7801 - classify_acc: 0.6264 - montage_binary_accuracy: 0.7747 - patient_acc: 0.0159 - val_loss: 12849.4865 - val_detect_loss: 0.6416 - val_classify_loss: 0.6890 - val_montage_loss: 0.2658 - val_patient_loss: 6.9253 - val_decode_loss: 12840.9600 - val_detect_acc: 0.6629 - val_detect_auc: 0.8427 - val_detect_f1: 0.0783 - val_detect_sensitivity: 0.1259 - val_detect_specificity: 0.9163 - val_classify_acc: 0.6822 - val_montage_binary_accuracy: 0.9120 - val_patient_acc: 1.3021e-05\n",
      "Epoch 13/100\n",
      "400/400 [==============================] - 118s 294ms/step - loss: 89.2936 - detect_loss: 0.4597 - classify_loss: 0.7563 - montage_loss: 0.4468 - patient_loss: 5.6734 - decode_loss: 81.9573 - detect_acc: 0.8093 - detect_auc: 0.8389 - detect_f1: 0.8083 - detect_sensitivity: 0.8171 - detect_specificity: 0.8173 - classify_acc: 0.6498 - montage_binary_accuracy: 0.7741 - patient_acc: 0.0231 - val_loss: 13915.0980 - val_detect_loss: 0.5461 - val_classify_loss: 0.5473 - val_montage_loss: 0.2101 - val_patient_loss: 6.8420 - val_decode_loss: 13906.9561 - val_detect_acc: 0.7496 - val_detect_auc: 0.8407 - val_detect_f1: 0.0565 - val_detect_sensitivity: 0.0758 - val_detect_specificity: 0.9420 - val_classify_acc: 0.7638 - val_montage_binary_accuracy: 0.9147 - val_patient_acc: 2.9948e-04\n",
      "Epoch 14/100\n",
      "400/400 [==============================] - 128s 321ms/step - loss: 80.5979 - detect_loss: 0.4583 - classify_loss: 0.7503 - montage_loss: 0.4608 - patient_loss: 5.6763 - decode_loss: 73.2521 - detect_acc: 0.8186 - detect_auc: 0.8395 - detect_f1: 0.8188 - detect_sensitivity: 0.8167 - detect_specificity: 0.8150 - classify_acc: 0.6630 - montage_binary_accuracy: 0.7709 - patient_acc: 0.0210 - val_loss: 13011.6000 - val_detect_loss: 0.5967 - val_classify_loss: 0.5652 - val_montage_loss: 0.2129 - val_patient_loss: 6.7813 - val_decode_loss: 13003.4443 - val_detect_acc: 0.7348 - val_detect_auc: 0.8399 - val_detect_f1: 0.0666 - val_detect_sensitivity: 0.0794 - val_detect_specificity: 0.9361 - val_classify_acc: 0.7515 - val_montage_binary_accuracy: 0.9073 - val_patient_acc: 0.0000e+00\n",
      "Epoch 15/100\n",
      "400/400 [==============================] - 125s 313ms/step - loss: 79.6416 - detect_loss: 0.4521 - classify_loss: 0.7429 - montage_loss: 0.4434 - patient_loss: 5.5297 - decode_loss: 72.4736 - detect_acc: 0.8126 - detect_auc: 0.8396 - detect_f1: 0.8150 - detect_sensitivity: 0.8218 - detect_specificity: 0.8152 - classify_acc: 0.6553 - montage_binary_accuracy: 0.7785 - patient_acc: 0.0176 - val_loss: 13791.0550 - val_detect_loss: 0.4708 - val_classify_loss: 0.4690 - val_montage_loss: 0.1771 - val_patient_loss: 6.7858 - val_decode_loss: 13783.1523 - val_detect_acc: 0.7789 - val_detect_auc: 0.8397 - val_detect_f1: 0.0651 - val_detect_sensitivity: 0.0883 - val_detect_specificity: 0.9426 - val_classify_acc: 0.8138 - val_montage_binary_accuracy: 0.9427 - val_patient_acc: 1.3021e-05\n",
      "Epoch 16/100\n",
      "400/400 [==============================] - 120s 300ms/step - loss: 83.2376 - detect_loss: 0.4670 - classify_loss: 0.7584 - montage_loss: 0.4499 - patient_loss: 5.2993 - decode_loss: 76.2629 - detect_acc: 0.8098 - detect_auc: 0.8406 - detect_f1: 0.8103 - detect_sensitivity: 0.8172 - detect_specificity: 0.8135 - classify_acc: 0.6468 - montage_binary_accuracy: 0.7728 - patient_acc: 0.0240 - val_loss: 13650.6379 - val_detect_loss: 0.4587 - val_classify_loss: 0.4403 - val_montage_loss: 0.1847 - val_patient_loss: 7.8123 - val_decode_loss: 13641.7432 - val_detect_acc: 0.8333 - val_detect_auc: 0.8416 - val_detect_f1: 0.0541 - val_detect_sensitivity: 0.0721 - val_detect_specificity: 0.9480 - val_classify_acc: 0.8460 - val_montage_binary_accuracy: 0.9270 - val_patient_acc: 1.3021e-05\n",
      "Epoch 17/100\n",
      "400/400 [==============================] - 128s 320ms/step - loss: 77.9169 - detect_loss: 0.5041 - classify_loss: 0.7916 - montage_loss: 0.4672 - patient_loss: 5.1933 - decode_loss: 70.9608 - detect_acc: 0.7863 - detect_auc: 0.8435 - detect_f1: 0.7769 - detect_sensitivity: 0.7537 - detect_specificity: 0.7716 - classify_acc: 0.6434 - montage_binary_accuracy: 0.7756 - patient_acc: 0.0263 - val_loss: 13926.6419 - val_detect_loss: 0.6025 - val_classify_loss: 0.5888 - val_montage_loss: 0.2272 - val_patient_loss: 7.3212 - val_decode_loss: 13917.9004 - val_detect_acc: 0.7535 - val_detect_auc: 0.8417 - val_detect_f1: 0.0673 - val_detect_sensitivity: 0.0973 - val_detect_specificity: 0.9331 - val_classify_acc: 0.7720 - val_montage_binary_accuracy: 0.8974 - val_patient_acc: 0.0000e+00\n",
      "Epoch 18/100\n",
      "400/400 [==============================] - 124s 309ms/step - loss: 87.8565 - detect_loss: 0.4744 - classify_loss: 0.7556 - montage_loss: 0.4435 - patient_loss: 5.3839 - decode_loss: 80.7991 - detect_acc: 0.7995 - detect_auc: 0.8424 - detect_f1: 0.7936 - detect_sensitivity: 0.7849 - detect_specificity: 0.7950 - classify_acc: 0.6426 - montage_binary_accuracy: 0.7811 - patient_acc: 0.0168 - val_loss: 13867.3186 - val_detect_loss: 0.5009 - val_classify_loss: 0.5020 - val_montage_loss: 0.1989 - val_patient_loss: 7.0920 - val_decode_loss: 13859.0215 - val_detect_acc: 0.7835 - val_detect_auc: 0.8419 - val_detect_f1: 0.0666 - val_detect_sensitivity: 0.0860 - val_detect_specificity: 0.9504 - val_classify_acc: 0.8118 - val_montage_binary_accuracy: 0.9334 - val_patient_acc: 5.2083e-05\n",
      "Epoch 19/100\n",
      "400/400 [==============================] - 120s 301ms/step - loss: 65.0014 - detect_loss: 0.4242 - classify_loss: 0.7172 - montage_loss: 0.4398 - patient_loss: 5.4345 - decode_loss: 57.9857 - detect_acc: 0.8298 - detect_auc: 0.8431 - detect_f1: 0.8242 - detect_sensitivity: 0.8036 - detect_specificity: 0.8138 - classify_acc: 0.6717 - montage_binary_accuracy: 0.7781 - patient_acc: 0.0230 - val_loss: 13028.1817 - val_detect_loss: 0.5017 - val_classify_loss: 0.5318 - val_montage_loss: 0.1946 - val_patient_loss: 6.9286 - val_decode_loss: 13020.0273 - val_detect_acc: 0.7920 - val_detect_auc: 0.8432 - val_detect_f1: 0.0448 - val_detect_sensitivity: 0.0727 - val_detect_specificity: 0.9590 - val_classify_acc: 0.8102 - val_montage_binary_accuracy: 0.9242 - val_patient_acc: 1.3021e-05\n",
      "Epoch 20/100\n",
      "400/400 [==============================] - 128s 321ms/step - loss: 79.9817 - detect_loss: 0.5013 - classify_loss: 0.7768 - montage_loss: 0.4570 - patient_loss: 5.6197 - decode_loss: 72.6269 - detect_acc: 0.7854 - detect_auc: 0.8439 - detect_f1: 0.7787 - detect_sensitivity: 0.7630 - detect_specificity: 0.7745 - classify_acc: 0.6376 - montage_binary_accuracy: 0.7781 - patient_acc: 0.0215 - val_loss: 13612.1099 - val_detect_loss: 0.5651 - val_classify_loss: 0.5546 - val_montage_loss: 0.2088 - val_patient_loss: 6.8865 - val_decode_loss: 13603.8926 - val_detect_acc: 0.7363 - val_detect_auc: 0.8425 - val_detect_f1: 0.0682 - val_detect_sensitivity: 0.0946 - val_detect_specificity: 0.9410 - val_classify_acc: 0.7724 - val_montage_binary_accuracy: 0.9204 - val_patient_acc: 1.3021e-05\n",
      "Epoch 21/100\n"
     ]
    },
    {
     "name": "stdout",
     "output_type": "stream",
     "text": [
      "400/400 [==============================] - 124s 309ms/step - loss: 72.1260 - detect_loss: 0.4421 - classify_loss: 0.7248 - montage_loss: 0.4381 - patient_loss: 5.5385 - decode_loss: 64.9825 - detect_acc: 0.8227 - detect_auc: 0.8431 - detect_f1: 0.8225 - detect_sensitivity: 0.8233 - detect_specificity: 0.8224 - classify_acc: 0.6603 - montage_binary_accuracy: 0.7785 - patient_acc: 0.0197 - val_loss: 13721.4655 - val_detect_loss: 0.5507 - val_classify_loss: 0.5795 - val_montage_loss: 0.2152 - val_patient_loss: 6.8220 - val_decode_loss: 13713.2959 - val_detect_acc: 0.7263 - val_detect_auc: 0.8422 - val_detect_f1: 0.0672 - val_detect_sensitivity: 0.0999 - val_detect_specificity: 0.9409 - val_classify_acc: 0.7586 - val_montage_binary_accuracy: 0.9424 - val_patient_acc: 1.3021e-05\n",
      "Epoch 22/100\n",
      "400/400 [==============================] - 122s 305ms/step - loss: 63.7482 - detect_loss: 0.3367 - classify_loss: 0.6300 - montage_loss: 0.4183 - patient_loss: 5.3967 - decode_loss: 56.9666 - detect_acc: 0.8754 - detect_auc: 0.8431 - detect_f1: 0.8734 - detect_sensitivity: 0.8654 - detect_specificity: 0.8678 - classify_acc: 0.7158 - montage_binary_accuracy: 0.7818 - patient_acc: 0.0260 - val_loss: 6966.7213 - val_detect_loss: 0.6483 - val_classify_loss: 0.6403 - val_montage_loss: 0.2204 - val_patient_loss: 7.0004 - val_decode_loss: 6958.2065 - val_detect_acc: 0.7386 - val_detect_auc: 0.8426 - val_detect_f1: 0.0612 - val_detect_sensitivity: 0.0927 - val_detect_specificity: 0.9329 - val_classify_acc: 0.7448 - val_montage_binary_accuracy: 0.9037 - val_patient_acc: 2.6042e-05\n",
      "Epoch 00022: early stopping\n"
     ]
    }
   ],
   "source": [
    "history = model.fit(train_data, steps_per_epoch=(400), validation_data=valid_data, validation_steps=(600), epochs=100, callbacks=[tf.keras.callbacks.EarlyStopping(monitor=\"val_detect_f1\", mode=\"max\", patience=10, verbose=True)])"
   ]
  },
  {
   "cell_type": "code",
   "execution_count": 36,
   "metadata": {},
   "outputs": [],
   "source": [
    "history = Dict(history.history)"
   ]
  },
  {
   "cell_type": "code",
   "execution_count": 37,
   "metadata": {},
   "outputs": [
    {
     "data": {
      "text/plain": [
       "<matplotlib.legend.Legend at 0x7fc6dc297828>"
      ]
     },
     "execution_count": 37,
     "metadata": {},
     "output_type": "execute_result"
    },
    {
     "data": {
      "image/png": "[encoded data removed]",
      "text/plain": [
       "<Figure size 432x288 with 1 Axes>"
      ]
     },
     "metadata": {
      "needs_background": "light"
     },
     "output_type": "display_data"
    }
   ],
   "source": [
    "import matplotlib.pyplot as plt\n",
    "plt.plot(history.detect_f1)\n",
    "plt.plot(history.val_detect_f1)\n",
    "plt.plot((np.log(history.patient_acc) + 6)/2 )\n",
    "plt.legend([\"Train F1\", \"Valid F1\", \"Log-Scaled Patient Acc\"])"
   ]
  },
  {
   "cell_type": "code",
   "execution_count": 38,
   "metadata": {},
   "outputs": [
    {
     "data": {
      "text/plain": [
       "[<matplotlib.lines.Line2D at 0x7fc7e01c4518>]"
      ]
     },
     "execution_count": 38,
     "metadata": {},
     "output_type": "execute_result"
    },
    {
     "data": {
      "image/png": "[encoded data removed]",
      "text/plain": [
       "<Figure size 432x288 with 1 Axes>"
      ]
     },
     "metadata": {
      "needs_background": "light"
     },
     "output_type": "display_data"
    }
   ],
   "source": [
    "plt.plot(history.detect_auc)\n",
    "plt.plot(history.val_detect_auc)"
   ]
  },
  {
   "cell_type": "code",
   "execution_count": null,
   "metadata": {},
   "outputs": [],
   "source": []
  },
  {
   "cell_type": "markdown",
   "metadata": {},
   "source": [
    "# Make one of the outputs (session identification) adversarial"
   ]
  },
  {
   "cell_type": "code",
   "execution_count": 26,
   "metadata": {},
   "outputs": [],
   "source": [
    "num_cnn_layers = 3\n",
    "num_lstm_layers = 1\n",
    "num_lin_layers= 4\n",
    "inputLayer = tf.keras.layers.Input((1000,21, 1))\n",
    "x = inputLayer\n",
    "\n",
    "x = tf.keras.layers.GaussianNoise(2)(x)\n",
    "for i in range(num_cnn_layers):\n",
    "#     x = tf.keras.layers.BatchNormalization()(x)\n",
    "    x = tf.keras.layers.Conv2D(2, (3,3), padding=\"same\")(x)\n",
    "    x = tf.keras.layers.LeakyReLU()(x)\n",
    "    x = tf.keras.layers.MaxPool2D((2,1))(x)\n",
    "old_x_shape = (x).get_shape().as_list()\n",
    "x = tf.keras.layers.Reshape((int(x.shape[1]), int(x.shape[2]) * int(x.shape[3])), name=\"LSTM_Reshape\")(x)\n",
    "for j in range(num_lstm_layers):\n",
    "    x = tf.keras.layers.TimeDistributed(tf.keras.layers.BatchNormalization())(x)\n",
    "    x = tf.keras.layers.CuDNNLSTM(32, return_sequences=True)(x)\n",
    "    x = tf.keras.layers.LeakyReLU()(x)\n",
    "x_shared = x\n",
    "x = tf.keras.layers.Flatten(name=\"flatten_encoder_lstm\")(x)\n",
    "x_shared_flattened = x\n",
    "\n",
    "#seizure detect\n",
    "x = x_shared_flattened \n",
    "for k in range(num_lin_layers):\n",
    "    x = tf.keras.layers.BatchNormalization()(x)\n",
    "    x = tf.keras.layers.Dense(100)(x)\n",
    "    x = tf.keras.layers.LeakyReLU()(x)\n",
    "    x = tf.keras.layers.Dropout(0.5)(x)\n",
    "x_detect = tf.keras.layers.Dense(2, name=\"detect\", activation=\"softmax\")(x)\n",
    "\n",
    "\n",
    "#seizure classify\n",
    "x = x_shared_flattened \n",
    "for k in range(num_lin_layers):\n",
    "    x = tf.keras.layers.BatchNormalization()(x)\n",
    "    x = tf.keras.layers.Dense(100)(x)\n",
    "    x = tf.keras.layers.LeakyReLU()(x)\n",
    "    x = tf.keras.layers.Dropout(0.5)(x)\n",
    "x_classify = tf.keras.layers.Dense(4, name=\"classify\", activation=\"softmax\")(x)\n",
    "\n",
    "#montage classify\n",
    "x = x_shared_flattened \n",
    "for k in range(num_lin_layers):\n",
    "    x = tf.keras.layers.BatchNormalization()(x)\n",
    "    x = tf.keras.layers.Dense(100)(x)\n",
    "    x = tf.keras.layers.LeakyReLU()(x)\n",
    "    x = tf.keras.layers.Dropout(0.5)(x)\n",
    "x_montage = tf.keras.layers.Dense(22, name=\"montage\", activation=\"sigmoid\")(x)\n",
    "\n",
    "#session measurement\n",
    "x = x_shared_flattened \n",
    "for k in range(num_lin_layers):\n",
    "    x = tf.keras.layers.BatchNormalization()(x)\n",
    "    x = tf.keras.layers.Dense(100)(x)\n",
    "    x = tf.keras.layers.LeakyReLU()(x)\n",
    "    x = tf.keras.layers.Dropout(0.5)(x)\n",
    "x_pre_patient = x\n",
    "x_patient = tf.keras.layers.Dense(575, name=\"patient\", activation=\"softmax\")(x)\n",
    "\n",
    "#decoder\n",
    "x = x_shared\n",
    "x = tf.keras.layers.CuDNNLSTM(old_x_shape[2]*old_x_shape[3], return_sequences=True, name=\"lstm_decode\")(x)\n",
    "x = tf.keras.layers.BatchNormalization()(x)\n",
    "x = tf.keras.layers.Reshape(old_x_shape[1:], name=\"reshape_decode\")(x)\n",
    "for i in range(num_cnn_layers):\n",
    "    x = tf.keras.layers.BatchNormalization()(x)\n",
    "    x = tf.keras.layers.Conv2D(2, (3,3), padding=\"same\")(x)\n",
    "    x = tf.keras.layers.UpSampling2D((2,1))(x)\n",
    "    x = tf.keras.layers.LeakyReLU()(x)\n",
    "x = tf.keras.layers.Conv2D(1, (3,3), padding=\"same\")(x)\n",
    "x = tf.keras.layers.LeakyReLU()(x)\n",
    "\n",
    "x_decode = tf.keras.layers.Reshape((int(x.shape[1]), int(x.shape[2]), int(x.shape[3])), name=\"decode\")(x)\n",
    "\n",
    "model = tf.keras.Model(inputs=inputLayer, outputs=[x_detect, x_classify, x_montage, x_patient, x_decode])\n",
    "from keras_models.metrics import f1, sensitivity, specificity\n",
    "model.compile(tf.keras.optimizers.Adam(lr=0.0001), loss_weights=[1,1,1,-1,1], loss=[\"categorical_crossentropy\", \"categorical_crossentropy\", \"binary_crossentropy\", \"categorical_crossentropy\", \"mean_squared_error\"], metrics={\"detect\":[\"accuracy\", auc, f1, sensitivity, specificity], \"classify\":[\"accuracy\"], \"montage\":[\"binary_accuracy\"], \"patient\": [\"accuracy\"]})\n",
    "\n",
    "\n",
    "#adversarial patient measurement\n",
    "x = x_shared_flattened \n",
    "for k in range(num_lin_layers):\n",
    "    x = tf.keras.layers.BatchNormalization()(x)\n",
    "    x = tf.keras.layers.Dense(100)(x)\n",
    "    x = tf.keras.layers.LeakyReLU()(x)\n",
    "    x = tf.keras.layers.Dropout(0.5)(x)\n",
    "x_pre_patient = x\n",
    "x_patient = tf.keras.layers.Dense(575, name=\"patient\", activation=\"softmax\")(x)\n",
    "patient_model = tf.keras.Model(inputs=inputLayer, outputs=x_patient)\n",
    "patient_model.compile(tf.keras.optimizers.Adam(lr=0.0001), loss=\"categorical_crossentropy\", metrics=[\"accuracy\"])\n",
    "\n",
    "#seizure only model\n",
    "seizure_model = tf.keras.Model()"
   ]
  },
  {
   "cell_type": "code",
   "execution_count": 27,
   "metadata": {},
   "outputs": [],
   "source": [
    "train_iterator = train_unbalanced.make_one_shot_iterator()"
   ]
  },
  {
   "cell_type": "code",
   "execution_count": 28,
   "metadata": {},
   "outputs": [
    {
     "data": {
      "text/plain": [
       "(<tf.Tensor 'IteratorGetNext_4:0' shape=(128, 1000, 21, 1) dtype=float32>,\n",
       " (<tf.Tensor 'IteratorGetNext_4:1' shape=(128, 2) dtype=float32>,\n",
       "  <tf.Tensor 'IteratorGetNext_4:2' shape=(128, 4) dtype=float32>,\n",
       "  <tf.Tensor 'IteratorGetNext_4:3' shape=(128, 22) dtype=int64>,\n",
       "  <tf.Tensor 'IteratorGetNext_4:4' shape=(128, 575) dtype=float32>,\n",
       "  <tf.Tensor 'IteratorGetNext_4:5' shape=(128, 1000, 21, 1) dtype=float32>))"
      ]
     },
     "execution_count": 28,
     "metadata": {},
     "output_type": "execute_result"
    }
   ],
   "source": [
    "oldPatientWeights = patient_model.layers[-1].get_weights()\n",
    "oldNonPatientWeights = [layer.get_weights() for layer in seizure_model.layers[:-1]]\n",
    "\n",
    "for epochs in range(1):\n",
    "    for batch in range(4):\n",
    "        toTrainOn = train_iterator.get_next()\n",
    "        \n",
    "        #old patient weights are trying to predict for patient, try to do the prediction!\n",
    "        patient_model.layers[-1].set_weights(oldPatientWeights)\n",
    "        #keep the other nonpatient weights which try not to predict for patient!\n",
    "        oldNonPatientWeights = [layer.get_weights() for layer in seizure_model.layers[:-1]]\n",
    "        patient_model.train_on_batch(train_batch[0], train_batch[1][1])\n",
    "#         patient_accs_epoch.append(patient_acc)\n",
    "        #get weights that try to predict for patient\n",
    "        oldPatientWeights = patient_model.layers[-1].get_weights()"
   ]
  }
 ],
 "metadata": {
  "kernelspec": {
   "display_name": "Python 3",
   "language": "python",
   "name": "python3"
  },
  "language_info": {
   "codemirror_mode": {
    "name": "ipython",
    "version": 3
   },
   "file_extension": ".py",
   "mimetype": "text/x-python",
   "name": "python",
   "nbconvert_exporter": "python",
   "pygments_lexer": "ipython3",
   "version": "3.7.3"
  },
  "toc": {
   "base_numbering": 1,
   "nav_menu": {},
   "number_sections": true,
   "sideBar": true,
   "skip_h1_title": false,
   "title_cell": "Table of Contents",
   "title_sidebar": "Contents",
   "toc_cell": false,
   "toc_position": {},
   "toc_section_display": true,
   "toc_window_display": true
  }
 },
 "nbformat": 4,
 "nbformat_minor": 2
}

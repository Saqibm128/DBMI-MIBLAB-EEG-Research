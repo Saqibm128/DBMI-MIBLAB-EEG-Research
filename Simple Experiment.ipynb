{
 "cells": [
  {
   "cell_type": "code",
   "execution_count": 27,
   "metadata": {},
   "outputs": [],
   "source": [
    "import sys, os\n",
    "sys.path.append(os.path.realpath(\"/home/ms994/miniconda3/envs/keras-redo/lib/python3.7/site-packages\"))\n",
    "\n",
    "import util_funcs\n",
    "from importlib import reload\n",
    "reload(util_funcs)\n",
    "from copy import deepcopy as cp\n",
    "\n",
    "import data_reader as read\n",
    "import pandas as pd\n",
    "import numpy as np\n",
    "import matplotlib.pyplot as plt\n",
    "import pywt\n",
    "import tsfresh.feature_extraction.feature_calculators as feats\n",
    "\n",
    "import tsfresh\n",
    "\n",
    "from os import path\n",
    "\n",
    "reload(read)\n",
    "\n",
    "edfRawData = read.EdfDataset(\"train\", \"01_tcp_ar\", n_process=7, filter=False)"
   ]
  },
  {
   "cell_type": "code",
   "execution_count": 22,
   "metadata": {},
   "outputs": [],
   "source": [
    "res = read.getAgesAndFileNames(\"train\", \"01_tcp_ar\")\n",
    "singAges = [datum[1] for datum in res]\n",
    "fn = [datum[0] for datum in res]\n",
    "ages = []\n",
    "#associate first token file with each session for now\n",
    "tokenFiles = []\n",
    "for i, session_file in enumerate(fn):\n",
    "    session_dir = path.dirname(session_file)\n",
    "    session_tkn_files = read.get_token_file_names(session_dir)\n",
    "    session_tkn_files.sort()\n",
    "    tokenFiles += (session_tkn_files)\n",
    "    ages += [singAges[i] for j in session_tkn_files]\n",
    "edfRawData.edf_tokens=tokenFiles"
   ]
  },
  {
   "cell_type": "code",
   "execution_count": 28,
   "metadata": {},
   "outputs": [],
   "source": [
    "class HandEngineeredDataset(util_funcs.MultiProcessingDataset):\n",
    "    # ndim = None\n",
    "    # shape = None\n",
    "    def __init__(self, edfRawData, n_process=None, features = [], f_names = [], max_size=None, vectorize=None):\n",
    "        assert len(features) == len(f_names)\n",
    "        self.edfRawData = edfRawData\n",
    "        self.n_process = n_process\n",
    "        if n_process is None:\n",
    "            self.n_process = mp.cpu_count()\n",
    "        self.features = features\n",
    "        self.f_names = f_names\n",
    "        self.max_size = max_size\n",
    "        self.vectorize = vectorize\n",
    "        # self.shape = np.asarray(self[0][0]).shape\n",
    "        # self.ndim = len(self.shape)\n",
    "        # self.shape = (len(self), *self.shape)\n",
    "\n",
    "    def __len__(self):\n",
    "        return len(self.edfRawData)\n",
    "\n",
    "    def __getitem__(self, i):\n",
    "        if type(i) == slice:\n",
    "            return self.getItemSlice(i)\n",
    "        fftData, ann = self.edfRawData[i]\n",
    "        if self.max_size is not None and max(fftData.index) < self.max_size:\n",
    "            fftData = fftData[:self.max_size]\n",
    "        handEngineeredData = pd.DataFrame(index=fftData.columns, columns=self.f_names)\n",
    "        \n",
    "        for i, feature in enumerate(self.features):\n",
    "            handEngineeredData[self.f_names[i]] = fftData.apply(lambda x: feature(x))\n",
    "        if self.vectorize == \"full\":\n",
    "            return handEngineeredData.values.reshape(-1)\n",
    "        if self.vectorize == \"mean\":\n",
    "            return handEngineeredData.values.mean()\n",
    "        return handEngineeredData"
   ]
  },
  {
   "cell_type": "code",
   "execution_count": 4,
   "metadata": {},
   "outputs": [],
   "source": [
    "def norm_num_peaks_func(n):\n",
    "    return lambda x: feats.number_peaks(x, n) / len(x)\n",
    "\n",
    "def norm_num_vals_func(n):\n",
    "    return lambda x: feats.number_peaks(-x, n) / len(x)\n",
    "\n"
   ]
  },
  {
   "cell_type": "code",
   "execution_count": 48,
   "metadata": {},
   "outputs": [],
   "source": [
    "hedDf = HandEngineeredDataset(edfRawData, vectorize=None, max_size=pd.Timedelta(minutes=2), n_process = 4, features=[feats.abs_energy, max, min, norm_num_peaks_func(20), norm_num_vals_func(20)], f_names=[\"abs_energy\", \"max\", \"min\", \"num_peaks\", \"num_valleys\"])\n",
    "hed = HandEngineeredDataset(edfRawData, vectorize=\"mean\", max_size=pd.Timedelta(minutes=2), n_process = 4, features=[feats.abs_energy, max, min, norm_num_peaks_func(20), norm_num_vals_func(20)], f_names=[\"abs_energy\", \"max\", \"min\", \"num_peaks\", \"num_valleys\"])"
   ]
  },
  {
   "cell_type": "code",
   "execution_count": 45,
   "metadata": {},
   "outputs": [],
   "source": [
    "datum = hedDf[0]"
   ]
  },
  {
   "cell_type": "code",
   "execution_count": 50,
   "metadata": {},
   "outputs": [
    {
     "name": "stdout",
     "output_type": "stream",
     "text": [
      "Starting 4 processes\n",
      "retrievings: 0\n",
      "retrievings: 5\n",
      "retrievings: 10\n",
      "retrievings: 15\n",
      "retrievings: 20\n",
      "retrievings: 25\n",
      "retrievings: 30\n",
      "retrievings: 35\n",
      "retrievings: 40\n",
      "retrievings: 45\n",
      "retrievings: 50\n",
      "retrievings: 55\n",
      "retrievings: 60\n",
      "retrievings: 65\n",
      "retrievings: 70\n",
      "retrievings: 75\n",
      "retrievings: 80\n",
      "retrievings: 85\n",
      "retrievings: 90\n",
      "retrievings: 95\n",
      "Process completed\n",
      "Process completed\n",
      "Process completed\n",
      "Process completed\n"
     ]
    }
   ],
   "source": [
    "# import pdb; pdb.set_trace()\n",
    "allHandEngineeredData = hed[:100]\n"
   ]
  },
  {
   "cell_type": "code",
   "execution_count": 51,
   "metadata": {},
   "outputs": [],
   "source": [
    "from sklearn.linear_model import LinearRegression\n",
    "from sklearn.metrics import r2_score\n",
    "from sklearn.feature_selection import chi2\n",
    "from sklearn.preprocessing import MinMaxScaler\n",
    "mm = MinMaxScaler()\n",
    "lr = LinearRegression()"
   ]
  },
  {
   "cell_type": "code",
   "execution_count": 52,
   "metadata": {},
   "outputs": [
    {
     "data": {
      "text/plain": [
       "0"
      ]
     },
     "execution_count": 52,
     "metadata": {},
     "output_type": "execute_result"
    }
   ],
   "source": [
    "sum([type(datum) == int for datum in allHandEngineeredData])"
   ]
  },
  {
   "cell_type": "code",
   "execution_count": 54,
   "metadata": {},
   "outputs": [
    {
     "data": {
      "text/plain": [
       "(50, 105)"
      ]
     },
     "execution_count": 54,
     "metadata": {},
     "output_type": "execute_result"
    }
   ],
   "source": [
    "trainData = (mm.fit_transform(np.stack(allHandEngineeredData[0:50])))\n",
    "testData = (mm.fit_transform(np.stack(allHandEngineeredData[50:100])))\n",
    "testAges = (np.array(ages[50:100]).reshape(-1,1))\n",
    "trainAges = (np.array(ages[0:50]).reshape(-1,1))\n",
    "trainData.shape"
   ]
  },
  {
   "cell_type": "code",
   "execution_count": null,
   "metadata": {},
   "outputs": [],
   "source": [
    "np.isnan(trainData).any().any(), np.isnan(trainData).any().any()"
   ]
  },
  {
   "cell_type": "code",
   "execution_count": 68,
   "metadata": {},
   "outputs": [],
   "source": [
    "feat_sel = chi2(trainData, trainAges)[1] < 0.5\n",
    "# feat_sel = slice(-1)"
   ]
  },
  {
   "cell_type": "code",
   "execution_count": 73,
   "metadata": {},
   "outputs": [
    {
     "data": {
      "text/plain": [
       "-3.4431766860537323"
      ]
     },
     "execution_count": 73,
     "metadata": {},
     "output_type": "execute_result"
    }
   ],
   "source": [
    "lr.fit(trainData[:], trainAges)\n",
    "y_pred = lr.predict(testData[:])\n",
    "y_pred[y_pred < 20] = 20\n",
    "y_pred[y_pred > 90] = 90\n",
    "r2_score(y_pred, testAges)"
   ]
  },
  {
   "cell_type": "code",
   "execution_count": 75,
   "metadata": {},
   "outputs": [
    {
     "data": {
      "text/plain": [
       "Text(0, 0.5, 'Actual')"
      ]
     },
     "execution_count": 75,
     "metadata": {},
     "output_type": "execute_result"
    },
    {
     "data": {
      "image/png": "[encoded data removed]",
      "text/plain": [
       "<Figure size 432x288 with 1 Axes>"
      ]
     },
     "metadata": {
      "needs_background": "light"
     },
     "output_type": "display_data"
    }
   ],
   "source": [
    "plt.plot(y_pred, testAges, \"*\")\n",
    "plt.xlabel(\"Prediction\")\n",
    "plt.ylabel(\"Actual\")"
   ]
  },
  {
   "cell_type": "code",
   "execution_count": 49,
   "metadata": {},
   "outputs": [
    {
     "ename": "AttributeError",
     "evalue": "'list' object has no attribute 'mean'",
     "output_type": "error",
     "traceback": [
      "\u001b[0;31m---------------------------------------------------------------------------\u001b[0m",
      "\u001b[0;31mAttributeError\u001b[0m                            Traceback (most recent call last)",
      "\u001b[0;32m<ipython-input-49-4eb2caddbdfa>\u001b[0m in \u001b[0;36m<module>\u001b[0;34m\u001b[0m\n\u001b[0;32m----> 1\u001b[0;31m \u001b[0mtestAges\u001b[0m\u001b[0;34m.\u001b[0m\u001b[0mmean\u001b[0m\u001b[0;34m(\u001b[0m\u001b[0;34m)\u001b[0m\u001b[0;34m\u001b[0m\u001b[0;34m\u001b[0m\u001b[0m\n\u001b[0m",
      "\u001b[0;31mAttributeError\u001b[0m: 'list' object has no attribute 'mean'"
     ]
    }
   ],
   "source": [
    "testAges.mean()"
   ]
  }
 ],
 "metadata": {
  "kernelspec": {
   "display_name": "Python 3",
   "language": "python",
   "name": "python3"
  },
  "language_info": {
   "codemirror_mode": {
    "name": "ipython",
    "version": 3
   },
   "file_extension": ".py",
   "mimetype": "text/x-python",
   "name": "python",
   "nbconvert_exporter": "python",
   "pygments_lexer": "ipython3",
   "version": "3.7.3"
  }
 },
 "nbformat": 4,
 "nbformat_minor": 2
}

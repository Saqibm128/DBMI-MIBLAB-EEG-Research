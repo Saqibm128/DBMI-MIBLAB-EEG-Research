{
 "cells": [
  {
   "cell_type": "code",
   "execution_count": 1,
   "metadata": {},
   "outputs": [
    {
     "data": {
      "text/plain": [
       "<module 'data_reader' from '/home/ms994/dbmi_eeg_clustering/data_reader.py'>"
      ]
     },
     "execution_count": 1,
     "metadata": {},
     "output_type": "execute_result"
    }
   ],
   "source": [
    "import sys, os\n",
    "sys.path.append(os.path.realpath(\"/home/ms994/miniconda3/envs/keras-redo/lib/python3.7/site-packages\"))\n",
    "\n",
    "import util_funcs\n",
    "from importlib import reload\n",
    "reload(util_funcs)\n",
    "from copy import deepcopy as cp\n",
    "\n",
    "import data_reader as read\n",
    "import pandas as pd\n",
    "import numpy as np\n",
    "import matplotlib.pyplot as plt\n",
    "import pywt\n",
    "import tsfresh.feature_extraction.feature_calculators as feats\n",
    "import constants\n",
    "import clinical_text_analysis as cta\n",
    "reload(cta)\n",
    "import tsfresh\n",
    "\n",
    "from os import path\n",
    "\n",
    "reload(read)\n",
    "\n"
   ]
  },
  {
   "cell_type": "markdown",
   "metadata": {},
   "source": [
    "# Age predictions"
   ]
  },
  {
   "cell_type": "code",
   "execution_count": 2,
   "metadata": {
    "scrolled": true
   },
   "outputs": [
    {
     "data": {
      "text/plain": [
       "['EEG T5-REF',\n",
       " 'EEG C3-REF',\n",
       " 'EEG A1-REF',\n",
       " 'EEG P4-REF',\n",
       " 'EEG F8-REF',\n",
       " 'EEG F3-REF',\n",
       " 'EEG CZ-REF',\n",
       " 'EEG O2-REF',\n",
       " 'EEG A2-REF',\n",
       " 'EEG P3-REF',\n",
       " 'EEG C4-REF',\n",
       " 'EEG O1-REF',\n",
       " 'EEG T4-REF',\n",
       " 'EEG F4-REF',\n",
       " 'EEG F7-REF',\n",
       " 'EEG PZ-REF',\n",
       " 'EEG FP1-REF',\n",
       " 'EEG FZ-REF',\n",
       " 'EEG T3-REF',\n",
       " 'EEG T6-REF',\n",
       " 'EEG FP2-REF']"
      ]
     },
     "execution_count": 2,
     "metadata": {},
     "output_type": "execute_result"
    }
   ],
   "source": [
    "allColumns = util_funcs.get_common_channel_names()\n",
    "allColumns"
   ]
  },
  {
   "cell_type": "code",
   "execution_count": 9,
   "metadata": {},
   "outputs": [],
   "source": [
    "edfRawData = read.EdfDataset(\"train\", \"01_tcp_ar\", n_process=8, filter=False)"
   ]
  },
  {
   "cell_type": "code",
   "execution_count": 20,
   "metadata": {},
   "outputs": [],
   "source": [
    "#based on https://www.ers-education.org/lrmedia/2016/pdf/298830.pdf\n",
    "columns_to_use = ['EEG F4-REF','EEG C4-REF','EEG O2-REF',]\n",
    "edfRawData = read.EdfDataset(\"train\", \"01_tcp_ar\", n_process=7, filter=False, columns_to_use=columns_to_use)\n",
    "edfABTGData = read.EdfFFTDatasetTransformer(edfRawData, freq_bins=constants.FREQ_BANDS) #gamma, theta, alpha, beta"
   ]
  },
  {
   "cell_type": "code",
   "execution_count": 17,
   "metadata": {},
   "outputs": [],
   "source": [
    "res = cta.getAgesAndFileNames(\"train\", \"01_tcp_ar\")\n",
    "singAges = [datum[1] for datum in res]\n",
    "fn = [datum[0] for datum in res]\n",
    "ages = []\n",
    "#associate first token file with each session for now\n",
    "tokenFiles = []\n",
    "for i, session_file in enumerate(fn):\n",
    "    session_dir = path.dirname(session_file)\n",
    "    session_tkn_files = read.get_token_file_names(session_dir)\n",
    "    session_tkn_files.sort()\n",
    "    tokenFiles += (session_tkn_files)\n",
    "    ages += [singAges[i] for j in session_tkn_files]\n",
    "edfRawData.edf_tokens=tokenFiles"
   ]
  },
  {
   "cell_type": "code",
   "execution_count": 21,
   "metadata": {},
   "outputs": [
    {
     "data": {
      "text/plain": [
       "88"
      ]
     },
     "execution_count": 21,
     "metadata": {},
     "output_type": "execute_result"
    }
   ],
   "source": [
    "max(ages)"
   ]
  },
  {
   "cell_type": "code",
   "execution_count": 22,
   "metadata": {},
   "outputs": [],
   "source": [
    "def norm_num_peaks_func(n):\n",
    "    return lambda x: feats.number_peaks(x, n) / len(x)\n",
    "\n",
    "def norm_num_vals_func(n):\n",
    "    return lambda x: feats.number_peaks(-x, n) / len(x)\n",
    "\n",
    "def autocorrelation(lag):\n",
    "    return lambda x: feats.autocorrelation(x, lag)\n"
   ]
  },
  {
   "cell_type": "code",
   "execution_count": 15,
   "metadata": {},
   "outputs": [],
   "source": [
    "reload(read)\n",
    "hedDf = read.SimpleHandEngineeredDataset(edfRawData, vectorize=None, max_size=pd.Timedelta(minutes=2), n_process = 4, features=[feats.abs_energy, max, min, norm_num_peaks_func(20), norm_num_vals_func(20), autocorrelation(60), feats.skewness, feats.standard_deviation], f_names=[\"abs_energy\", \"max\", \"min\", \"num_peaks\", \"num_valleys\", \"autocorrelation\", \"skewness\", \"stdev\"])\n",
    "hed = read.SimpleHandEngineeredDataset(edfRawData, vectorize=\"full\", max_size=pd.Timedelta(minutes=2), n_process = 6, features=[feats.abs_energy, max, min, norm_num_peaks_func(20), norm_num_vals_func(20), autocorrelation(60), feats.skewness, feats.standard_deviation], f_names=[\"abs_energy\", \"max\", \"min\", \"num_peaks\", \"num_valleys\", \"autocorrelation\", \"skewness\", \"stdev\"])"
   ]
  },
  {
   "cell_type": "code",
   "execution_count": 14,
   "metadata": {},
   "outputs": [
    {
     "data": {
      "text/html": [
       "<div>\n",
       "<style scoped>\n",
       "    .dataframe tbody tr th:only-of-type {\n",
       "        vertical-align: middle;\n",
       "    }\n",
       "\n",
       "    .dataframe tbody tr th {\n",
       "        vertical-align: top;\n",
       "    }\n",
       "\n",
       "    .dataframe thead th {\n",
       "        text-align: right;\n",
       "    }\n",
       "</style>\n",
       "<table border=\"1\" class=\"dataframe\">\n",
       "  <thead>\n",
       "    <tr style=\"text-align: right;\">\n",
       "      <th></th>\n",
       "      <th>abs_energy</th>\n",
       "      <th>max</th>\n",
       "      <th>min</th>\n",
       "      <th>num_peaks</th>\n",
       "      <th>num_valleys</th>\n",
       "      <th>autocorrelation</th>\n",
       "      <th>skewness</th>\n",
       "      <th>stdev</th>\n",
       "    </tr>\n",
       "  </thead>\n",
       "  <tbody>\n",
       "    <tr>\n",
       "      <th>EEG T5-REF</th>\n",
       "      <td>2.257518e+08</td>\n",
       "      <td>262.702422</td>\n",
       "      <td>-246.311310</td>\n",
       "      <td>0.021333</td>\n",
       "      <td>0.020383</td>\n",
       "      <td>0.637449</td>\n",
       "      <td>-0.147412</td>\n",
       "      <td>37.200712</td>\n",
       "    </tr>\n",
       "    <tr>\n",
       "      <th>EEG C3-REF</th>\n",
       "      <td>1.900837e+08</td>\n",
       "      <td>283.168256</td>\n",
       "      <td>-292.144861</td>\n",
       "      <td>0.020812</td>\n",
       "      <td>0.020512</td>\n",
       "      <td>0.906437</td>\n",
       "      <td>0.729655</td>\n",
       "      <td>34.135892</td>\n",
       "    </tr>\n",
       "    <tr>\n",
       "      <th>EEG A1-REF</th>\n",
       "      <td>5.770426e+08</td>\n",
       "      <td>593.722518</td>\n",
       "      <td>-541.034590</td>\n",
       "      <td>0.020837</td>\n",
       "      <td>0.020346</td>\n",
       "      <td>0.779434</td>\n",
       "      <td>0.820138</td>\n",
       "      <td>59.476262</td>\n",
       "    </tr>\n",
       "    <tr>\n",
       "      <th>EEG P4-REF</th>\n",
       "      <td>1.259029e+08</td>\n",
       "      <td>211.337563</td>\n",
       "      <td>-233.169688</td>\n",
       "      <td>0.020641</td>\n",
       "      <td>0.020549</td>\n",
       "      <td>0.764491</td>\n",
       "      <td>-0.893534</td>\n",
       "      <td>27.781471</td>\n",
       "    </tr>\n",
       "    <tr>\n",
       "      <th>EEG F8-REF</th>\n",
       "      <td>4.945970e+08</td>\n",
       "      <td>355.227831</td>\n",
       "      <td>-414.100638</td>\n",
       "      <td>0.018458</td>\n",
       "      <td>0.019175</td>\n",
       "      <td>0.824403</td>\n",
       "      <td>-0.043648</td>\n",
       "      <td>55.063427</td>\n",
       "    </tr>\n",
       "    <tr>\n",
       "      <th>EEG F3-REF</th>\n",
       "      <td>4.282366e+08</td>\n",
       "      <td>930.369288</td>\n",
       "      <td>-350.242655</td>\n",
       "      <td>0.019126</td>\n",
       "      <td>0.019053</td>\n",
       "      <td>0.851090</td>\n",
       "      <td>3.094298</td>\n",
       "      <td>51.236745</td>\n",
       "    </tr>\n",
       "    <tr>\n",
       "      <th>EEG CZ-REF</th>\n",
       "      <td>5.256018e+07</td>\n",
       "      <td>127.776685</td>\n",
       "      <td>-108.886948</td>\n",
       "      <td>0.020297</td>\n",
       "      <td>0.020175</td>\n",
       "      <td>0.918033</td>\n",
       "      <td>-0.065100</td>\n",
       "      <td>17.949732</td>\n",
       "    </tr>\n",
       "    <tr>\n",
       "      <th>EEG O2-REF</th>\n",
       "      <td>2.197932e+08</td>\n",
       "      <td>236.323811</td>\n",
       "      <td>-262.828936</td>\n",
       "      <td>0.020812</td>\n",
       "      <td>0.020696</td>\n",
       "      <td>0.565049</td>\n",
       "      <td>-0.665764</td>\n",
       "      <td>36.706585</td>\n",
       "    </tr>\n",
       "    <tr>\n",
       "      <th>EEG A2-REF</th>\n",
       "      <td>2.684374e+08</td>\n",
       "      <td>340.655699</td>\n",
       "      <td>-337.482503</td>\n",
       "      <td>0.020573</td>\n",
       "      <td>0.020647</td>\n",
       "      <td>0.742202</td>\n",
       "      <td>0.446701</td>\n",
       "      <td>40.565733</td>\n",
       "    </tr>\n",
       "    <tr>\n",
       "      <th>EEG P3-REF</th>\n",
       "      <td>1.792142e+08</td>\n",
       "      <td>320.113571</td>\n",
       "      <td>-349.441570</td>\n",
       "      <td>0.021168</td>\n",
       "      <td>0.020500</td>\n",
       "      <td>0.763361</td>\n",
       "      <td>-1.278316</td>\n",
       "      <td>33.145376</td>\n",
       "    </tr>\n",
       "    <tr>\n",
       "      <th>EEG C4-REF</th>\n",
       "      <td>1.603189e+08</td>\n",
       "      <td>270.770500</td>\n",
       "      <td>-252.662776</td>\n",
       "      <td>0.020616</td>\n",
       "      <td>0.020696</td>\n",
       "      <td>0.908971</td>\n",
       "      <td>0.286217</td>\n",
       "      <td>31.349540</td>\n",
       "    </tr>\n",
       "    <tr>\n",
       "      <th>EEG O1-REF</th>\n",
       "      <td>3.749005e+08</td>\n",
       "      <td>400.489179</td>\n",
       "      <td>-317.493505</td>\n",
       "      <td>0.020812</td>\n",
       "      <td>0.020518</td>\n",
       "      <td>0.698618</td>\n",
       "      <td>0.293639</td>\n",
       "      <td>47.939901</td>\n",
       "    </tr>\n",
       "    <tr>\n",
       "      <th>EEG T4-REF</th>\n",
       "      <td>2.081658e+08</td>\n",
       "      <td>274.089284</td>\n",
       "      <td>-394.645697</td>\n",
       "      <td>0.020426</td>\n",
       "      <td>0.020947</td>\n",
       "      <td>0.776523</td>\n",
       "      <td>-0.020929</td>\n",
       "      <td>35.722566</td>\n",
       "    </tr>\n",
       "    <tr>\n",
       "      <th>EEG F4-REF</th>\n",
       "      <td>2.773857e+08</td>\n",
       "      <td>327.399637</td>\n",
       "      <td>-253.578302</td>\n",
       "      <td>0.019188</td>\n",
       "      <td>0.019556</td>\n",
       "      <td>0.874913</td>\n",
       "      <td>0.748545</td>\n",
       "      <td>41.236292</td>\n",
       "    </tr>\n",
       "    <tr>\n",
       "      <th>EEG F7-REF</th>\n",
       "      <td>4.916259e+08</td>\n",
       "      <td>336.631197</td>\n",
       "      <td>-417.152393</td>\n",
       "      <td>0.018360</td>\n",
       "      <td>0.018667</td>\n",
       "      <td>0.821795</td>\n",
       "      <td>0.101551</td>\n",
       "      <td>54.897895</td>\n",
       "    </tr>\n",
       "    <tr>\n",
       "      <th>EEG PZ-REF</th>\n",
       "      <td>3.267696e+08</td>\n",
       "      <td>366.290445</td>\n",
       "      <td>-330.463466</td>\n",
       "      <td>0.020457</td>\n",
       "      <td>0.019966</td>\n",
       "      <td>0.910221</td>\n",
       "      <td>-0.041946</td>\n",
       "      <td>44.756939</td>\n",
       "    </tr>\n",
       "    <tr>\n",
       "      <th>EEG FP1-REF</th>\n",
       "      <td>1.043825e+10</td>\n",
       "      <td>4999.789780</td>\n",
       "      <td>-4925.491608</td>\n",
       "      <td>0.016435</td>\n",
       "      <td>0.016638</td>\n",
       "      <td>0.517529</td>\n",
       "      <td>7.852050</td>\n",
       "      <td>252.943910</td>\n",
       "    </tr>\n",
       "    <tr>\n",
       "      <th>EEG FZ-REF</th>\n",
       "      <td>2.996535e+08</td>\n",
       "      <td>278.075640</td>\n",
       "      <td>-361.724885</td>\n",
       "      <td>0.019402</td>\n",
       "      <td>0.019672</td>\n",
       "      <td>0.963109</td>\n",
       "      <td>-1.083605</td>\n",
       "      <td>42.859712</td>\n",
       "    </tr>\n",
       "    <tr>\n",
       "      <th>EEG T3-REF</th>\n",
       "      <td>2.171944e+08</td>\n",
       "      <td>373.824466</td>\n",
       "      <td>-414.939870</td>\n",
       "      <td>0.021076</td>\n",
       "      <td>0.020837</td>\n",
       "      <td>0.725881</td>\n",
       "      <td>0.606065</td>\n",
       "      <td>36.489076</td>\n",
       "    </tr>\n",
       "    <tr>\n",
       "      <th>EEG T6-REF</th>\n",
       "      <td>2.459979e+08</td>\n",
       "      <td>322.059065</td>\n",
       "      <td>-271.564586</td>\n",
       "      <td>0.020322</td>\n",
       "      <td>0.020138</td>\n",
       "      <td>0.691558</td>\n",
       "      <td>0.448423</td>\n",
       "      <td>38.833247</td>\n",
       "    </tr>\n",
       "    <tr>\n",
       "      <th>EEG FP2-REF</th>\n",
       "      <td>3.456364e+09</td>\n",
       "      <td>2092.706636</td>\n",
       "      <td>-855.918529</td>\n",
       "      <td>0.016552</td>\n",
       "      <td>0.016601</td>\n",
       "      <td>0.845398</td>\n",
       "      <td>2.733637</td>\n",
       "      <td>145.562476</td>\n",
       "    </tr>\n",
       "  </tbody>\n",
       "</table>\n",
       "</div>"
      ],
      "text/plain": [
       "               abs_energy          max          min  num_peaks  num_valleys  \\\n",
       "EEG T5-REF   2.257518e+08   262.702422  -246.311310   0.021333     0.020383   \n",
       "EEG C3-REF   1.900837e+08   283.168256  -292.144861   0.020812     0.020512   \n",
       "EEG A1-REF   5.770426e+08   593.722518  -541.034590   0.020837     0.020346   \n",
       "EEG P4-REF   1.259029e+08   211.337563  -233.169688   0.020641     0.020549   \n",
       "EEG F8-REF   4.945970e+08   355.227831  -414.100638   0.018458     0.019175   \n",
       "EEG F3-REF   4.282366e+08   930.369288  -350.242655   0.019126     0.019053   \n",
       "EEG CZ-REF   5.256018e+07   127.776685  -108.886948   0.020297     0.020175   \n",
       "EEG O2-REF   2.197932e+08   236.323811  -262.828936   0.020812     0.020696   \n",
       "EEG A2-REF   2.684374e+08   340.655699  -337.482503   0.020573     0.020647   \n",
       "EEG P3-REF   1.792142e+08   320.113571  -349.441570   0.021168     0.020500   \n",
       "EEG C4-REF   1.603189e+08   270.770500  -252.662776   0.020616     0.020696   \n",
       "EEG O1-REF   3.749005e+08   400.489179  -317.493505   0.020812     0.020518   \n",
       "EEG T4-REF   2.081658e+08   274.089284  -394.645697   0.020426     0.020947   \n",
       "EEG F4-REF   2.773857e+08   327.399637  -253.578302   0.019188     0.019556   \n",
       "EEG F7-REF   4.916259e+08   336.631197  -417.152393   0.018360     0.018667   \n",
       "EEG PZ-REF   3.267696e+08   366.290445  -330.463466   0.020457     0.019966   \n",
       "EEG FP1-REF  1.043825e+10  4999.789780 -4925.491608   0.016435     0.016638   \n",
       "EEG FZ-REF   2.996535e+08   278.075640  -361.724885   0.019402     0.019672   \n",
       "EEG T3-REF   2.171944e+08   373.824466  -414.939870   0.021076     0.020837   \n",
       "EEG T6-REF   2.459979e+08   322.059065  -271.564586   0.020322     0.020138   \n",
       "EEG FP2-REF  3.456364e+09  2092.706636  -855.918529   0.016552     0.016601   \n",
       "\n",
       "             autocorrelation  skewness       stdev  \n",
       "EEG T5-REF          0.637449 -0.147412   37.200712  \n",
       "EEG C3-REF          0.906437  0.729655   34.135892  \n",
       "EEG A1-REF          0.779434  0.820138   59.476262  \n",
       "EEG P4-REF          0.764491 -0.893534   27.781471  \n",
       "EEG F8-REF          0.824403 -0.043648   55.063427  \n",
       "EEG F3-REF          0.851090  3.094298   51.236745  \n",
       "EEG CZ-REF          0.918033 -0.065100   17.949732  \n",
       "EEG O2-REF          0.565049 -0.665764   36.706585  \n",
       "EEG A2-REF          0.742202  0.446701   40.565733  \n",
       "EEG P3-REF          0.763361 -1.278316   33.145376  \n",
       "EEG C4-REF          0.908971  0.286217   31.349540  \n",
       "EEG O1-REF          0.698618  0.293639   47.939901  \n",
       "EEG T4-REF          0.776523 -0.020929   35.722566  \n",
       "EEG F4-REF          0.874913  0.748545   41.236292  \n",
       "EEG F7-REF          0.821795  0.101551   54.897895  \n",
       "EEG PZ-REF          0.910221 -0.041946   44.756939  \n",
       "EEG FP1-REF         0.517529  7.852050  252.943910  \n",
       "EEG FZ-REF          0.963109 -1.083605   42.859712  \n",
       "EEG T3-REF          0.725881  0.606065   36.489076  \n",
       "EEG T6-REF          0.691558  0.448423   38.833247  \n",
       "EEG FP2-REF         0.845398  2.733637  145.562476  "
      ]
     },
     "execution_count": 14,
     "metadata": {},
     "output_type": "execute_result"
    }
   ],
   "source": [
    "datum = hedDf[0]\n",
    "datum"
   ]
  },
  {
   "cell_type": "code",
   "execution_count": 56,
   "metadata": {},
   "outputs": [
    {
     "name": "stdout",
     "output_type": "stream",
     "text": [
      "2584\n",
      "Starting 6 processes\n",
      "retrieving: 0\n",
      "retrieving: 5\n",
      "retrieving: 10\n",
      "retrieving: 15\n",
      "retrieving: 20\n",
      "retrieving: 25\n",
      "retrieving: 30\n",
      "retrieving: 35\n",
      "retrieving: 40\n",
      "retrieving: 45\n",
      "retrieving: 50\n",
      "retrieving: 55\n",
      "retrieving: 60\n",
      "retrieving: 65\n",
      "retrieving: 70\n",
      "retrieving: 75\n",
      "retrieving: 80\n",
      "retrieving: 85\n",
      "retrieving: 90\n",
      "retrieving: 95\n",
      "retrieving: 100\n",
      "retrieving: 105\n",
      "retrieving: 110\n",
      "retrieving: 115\n",
      "retrieving: 120\n",
      "retrieving: 125\n",
      "retrieving: 130\n",
      "retrieving: 135\n",
      "retrieving: 140\n",
      "retrieving: 145\n",
      "retrieving: 150\n",
      "retrieving: 155\n",
      "retrieving: 160\n",
      "retrieving: 165\n",
      "retrieving: 170\n",
      "retrieving: 175\n",
      "retrieving: 180\n",
      "retrieving: 185\n",
      "retrieving: 190\n",
      "retrieving: 195\n",
      "retrieving: 200\n",
      "retrieving: 205\n",
      "retrieving: 210\n",
      "retrieving: 215\n",
      "retrieving: 220\n",
      "retrieving: 225\n",
      "retrieving: 230\n",
      "retrieving: 235\n",
      "retrieving: 240\n",
      "retrieving: 245\n",
      "retrieving: 250\n",
      "retrieving: 255\n",
      "retrieving: 260\n",
      "retrieving: 265\n",
      "retrieving: 270\n",
      "retrieving: 275\n",
      "retrieving: 280\n",
      "retrieving: 285\n",
      "retrieving: 290\n",
      "retrieving: 295\n",
      "retrieving: 300\n",
      "retrieving: 305\n",
      "retrieving: 310\n",
      "retrieving: 315\n",
      "retrieving: 320\n",
      "retrieving: 325\n",
      "retrieving: 330\n",
      "retrieving: 335\n",
      "retrieving: 340\n",
      "retrieving: 345\n",
      "retrieving: 350\n",
      "retrieving: 355\n",
      "retrieving: 360\n",
      "retrieving: 365\n",
      "retrieving: 370\n",
      "retrieving: 375\n",
      "retrieving: 380\n",
      "retrieving: 385\n",
      "retrieving: 390\n",
      "retrieving: 395\n",
      "retrieving: 400\n",
      "retrieving: 405\n",
      "retrieving: 410\n",
      "retrieving: 415\n",
      "retrieving: 420\n",
      "retrieving: 425\n",
      "retrieving: 430\n",
      "retrieving: 435\n",
      "retrieving: 440\n",
      "retrieving: 445\n",
      "retrieving: 450\n",
      "retrieving: 455\n",
      "retrieving: 460\n",
      "retrieving: 465\n",
      "retrieving: 470\n",
      "retrieving: 475\n",
      "retrieving: 480\n",
      "retrieving: 485\n",
      "retrieving: 490\n",
      "retrieving: 495\n",
      "retrieving: 500\n",
      "retrieving: 505\n",
      "retrieving: 510\n",
      "retrieving: 515\n",
      "retrieving: 520\n",
      "retrieving: 525\n",
      "retrieving: 530\n",
      "retrieving: 535\n",
      "retrieving: 540\n",
      "retrieving: 545\n",
      "retrieving: 550\n",
      "retrieving: 555\n",
      "retrieving: 560\n",
      "retrieving: 565\n",
      "retrieving: 570\n",
      "retrieving: 575\n",
      "retrieving: 580\n",
      "retrieving: 585\n",
      "retrieving: 590\n",
      "retrieving: 595\n",
      "retrieving: 600\n",
      "retrieving: 605\n",
      "retrieving: 610\n",
      "retrieving: 615\n",
      "retrieving: 620\n",
      "retrieving: 625\n",
      "retrieving: 630\n",
      "retrieving: 635\n",
      "retrieving: 640\n",
      "retrieving: 645\n",
      "retrieving: 650\n",
      "retrieving: 655\n",
      "retrieving: 660\n",
      "retrieving: 665\n",
      "retrieving: 670\n",
      "retrieving: 675\n",
      "retrieving: 680\n",
      "retrieving: 685\n",
      "retrieving: 690\n",
      "retrieving: 695\n",
      "retrieving: 700\n",
      "retrieving: 705\n",
      "retrieving: 710\n",
      "retrieving: 715\n",
      "retrieving: 720\n",
      "retrieving: 725\n",
      "retrieving: 730\n",
      "retrieving: 735\n",
      "retrieving: 740\n",
      "retrieving: 745\n",
      "retrieving: 750\n",
      "retrieving: 755\n",
      "retrieving: 760\n",
      "retrieving: 765\n",
      "retrieving: 770\n",
      "retrieving: 775\n",
      "retrieving: 780\n",
      "retrieving: 785\n",
      "retrieving: 790\n",
      "retrieving: 795\n",
      "retrieving: 800\n",
      "retrieving: 805\n",
      "retrieving: 810\n",
      "retrieving: 815\n",
      "retrieving: 820\n",
      "retrieving: 825\n",
      "retrieving: 830\n",
      "retrieving: 835\n",
      "retrieving: 840\n",
      "retrieving: 845\n",
      "retrieving: 850\n",
      "retrieving: 855\n",
      "retrieving: 860\n",
      "retrieving: 865\n",
      "retrieving: 870\n",
      "retrieving: 875\n",
      "retrieving: 880\n",
      "retrieving: 885\n",
      "retrieving: 890\n",
      "retrieving: 895\n",
      "retrieving: 900\n",
      "retrieving: 905\n",
      "retrieving: 910\n",
      "retrieving: 915\n",
      "retrieving: 920\n",
      "retrieving: 925\n",
      "retrieving: 930\n",
      "retrieving: 935\n",
      "retrieving: 940\n",
      "retrieving: 945\n",
      "retrieving: 950\n",
      "retrieving: 955\n",
      "retrieving: 960\n",
      "retrieving: 965\n",
      "retrieving: 970\n",
      "retrieving: 975\n",
      "retrieving: 980\n",
      "retrieving: 985\n",
      "retrieving: 990\n",
      "retrieving: 995\n",
      "retrieving: 1000\n",
      "retrieving: 1005\n",
      "retrieving: 1010\n",
      "retrieving: 1015\n",
      "retrieving: 1020\n",
      "retrieving: 1025\n",
      "retrieving: 1030\n",
      "retrieving: 1035\n",
      "retrieving: 1040\n",
      "retrieving: 1045\n",
      "retrieving: 1050\n",
      "retrieving: 1055\n",
      "retrieving: 1060\n",
      "retrieving: 1065\n",
      "retrieving: 1070\n",
      "retrieving: 1075\n",
      "retrieving: 1080\n",
      "retrieving: 1085\n",
      "retrieving: 1090\n",
      "retrieving: 1095\n",
      "retrieving: 1100\n",
      "retrieving: 1105\n",
      "retrieving: 1110\n",
      "retrieving: 1115\n",
      "retrieving: 1120\n",
      "retrieving: 1125\n",
      "retrieving: 1130\n",
      "retrieving: 1135\n",
      "retrieving: 1140\n",
      "retrieving: 1145\n",
      "retrieving: 1150\n",
      "retrieving: 1155\n",
      "retrieving: 1160\n",
      "retrieving: 1165\n",
      "retrieving: 1170\n",
      "retrieving: 1175\n",
      "retrieving: 1180\n",
      "retrieving: 1185\n",
      "retrieving: 1190\n",
      "retrieving: 1195\n",
      "retrieving: 1200\n",
      "retrieving: 1205\n",
      "retrieving: 1210\n",
      "retrieving: 1215\n",
      "retrieving: 1220\n",
      "retrieving: 1225\n",
      "retrieving: 1230\n",
      "retrieving: 1235\n",
      "retrieving: 1240\n",
      "retrieving: 1245\n",
      "retrieving: 1250\n",
      "retrieving: 1255\n",
      "retrieving: 1260\n",
      "retrieving: 1265\n",
      "retrieving: 1270\n",
      "retrieving: 1275\n",
      "retrieving: 1280\n",
      "retrieving: 1285\n",
      "retrieving: 1290\n",
      "retrieving: 1295\n",
      "retrieving: 1300\n",
      "retrieving: 1305\n",
      "retrieving: 1310\n",
      "retrieving: 1315\n",
      "retrieving: 1320\n",
      "retrieving: 1325\n",
      "retrieving: 1330\n",
      "retrieving: 1335\n",
      "retrieving: 1340\n",
      "retrieving: 1345\n",
      "retrieving: 1350\n",
      "retrieving: 1355\n",
      "retrieving: 1360\n",
      "retrieving: 1365\n",
      "retrieving: 1370\n",
      "retrieving: 1375\n",
      "retrieving: 1380\n",
      "retrieving: 1385\n",
      "retrieving: 1390\n",
      "retrieving: 1395\n",
      "retrieving: 1400\n",
      "retrieving: 1405\n",
      "retrieving: 1410\n",
      "retrieving: 1415\n",
      "retrieving: 1420\n",
      "retrieving: 1425\n",
      "retrieving: 1430\n",
      "retrieving: 1435\n",
      "retrieving: 1440\n",
      "retrieving: 1445\n",
      "retrieving: 1450\n",
      "retrieving: 1455\n",
      "retrieving: 1460\n",
      "retrieving: 1465\n",
      "retrieving: 1470\n",
      "retrieving: 1475\n",
      "retrieving: 1480\n",
      "retrieving: 1485\n",
      "retrieving: 1490\n",
      "retrieving: 1495\n",
      "retrieving: 1500\n",
      "retrieving: 1505\n",
      "retrieving: 1510\n",
      "retrieving: 1515\n",
      "retrieving: 1520\n",
      "retrieving: 1525\n",
      "retrieving: 1530\n",
      "retrieving: 1535\n",
      "retrieving: 1540\n",
      "retrieving: 1545\n",
      "retrieving: 1550\n",
      "retrieving: 1555\n",
      "retrieving: 1560\n",
      "retrieving: 1565\n",
      "retrieving: 1570\n",
      "retrieving: 1575\n",
      "retrieving: 1580\n",
      "retrieving: 1585\n",
      "retrieving: 1590\n",
      "retrieving: 1595\n",
      "retrieving: 1600\n",
      "retrieving: 1605\n",
      "retrieving: 1610\n",
      "retrieving: 1615\n",
      "retrieving: 1620\n",
      "retrieving: 1625\n",
      "retrieving: 1630\n",
      "retrieving: 1635\n",
      "retrieving: 1640\n",
      "retrieving: 1645\n",
      "retrieving: 1650\n",
      "retrieving: 1655\n",
      "retrieving: 1660\n",
      "retrieving: 1665\n",
      "retrieving: 1670\n",
      "retrieving: 1675\n",
      "retrieving: 1680\n",
      "retrieving: 1685\n",
      "retrieving: 1690\n",
      "retrieving: 1695\n",
      "retrieving: 1700\n",
      "retrieving: 1705\n",
      "retrieving: 1710\n",
      "retrieving: 1715\n",
      "retrieving: 1720\n",
      "retrieving: 1725\n",
      "retrieving: 1730\n",
      "retrieving: 1735\n",
      "retrieving: 1740\n",
      "retrieving: 1745\n",
      "retrieving: 1750\n",
      "retrieving: 1755\n",
      "retrieving: 1760\n",
      "retrieving: 1765\n",
      "retrieving: 1770\n",
      "retrieving: 1775\n",
      "retrieving: 1780\n",
      "retrieving: 1785\n",
      "retrieving: 1790\n",
      "retrieving: 1795\n",
      "retrieving: 1800\n",
      "retrieving: 1805\n",
      "retrieving: 1810\n",
      "retrieving: 1815\n",
      "retrieving: 1820\n",
      "retrieving: 1825\n",
      "retrieving: 1830\n",
      "retrieving: 1835\n",
      "retrieving: 1840\n",
      "retrieving: 1845\n",
      "retrieving: 1850\n",
      "retrieving: 1855\n",
      "retrieving: 1860\n",
      "retrieving: 1865\n",
      "retrieving: 1870\n",
      "retrieving: 1875\n",
      "retrieving: 1880\n",
      "retrieving: 1885\n",
      "retrieving: 1890\n",
      "retrieving: 1895\n",
      "retrieving: 1900\n",
      "retrieving: 1905\n",
      "retrieving: 1910\n",
      "retrieving: 1915\n",
      "retrieving: 1920\n",
      "retrieving: 1925\n",
      "retrieving: 1930\n",
      "retrieving: 1935\n",
      "retrieving: 1940\n",
      "retrieving: 1945\n",
      "retrieving: 1950\n",
      "retrieving: 1955\n",
      "retrieving: 1960\n",
      "retrieving: 1965\n",
      "retrieving: 1970\n",
      "retrieving: 1975\n",
      "retrieving: 1980\n",
      "retrieving: 1985\n",
      "retrieving: 1990\n",
      "retrieving: 1995\n",
      "retrieving: 2000\n",
      "retrieving: 2005\n",
      "retrieving: 2010\n",
      "retrieving: 2015\n",
      "retrieving: 2020\n",
      "retrieving: 2025\n",
      "retrieving: 2030\n",
      "retrieving: 2035\n",
      "retrieving: 2040\n",
      "retrieving: 2045\n",
      "retrieving: 2050\n",
      "retrieving: 2055\n",
      "retrieving: 2060\n",
      "retrieving: 2065\n",
      "retrieving: 2070\n",
      "retrieving: 2075\n",
      "retrieving: 2080\n",
      "retrieving: 2085\n",
      "retrieving: 2090\n",
      "retrieving: 2095\n",
      "retrieving: 2100\n",
      "retrieving: 2105\n",
      "retrieving: 2110\n",
      "retrieving: 2115\n",
      "retrieving: 2120\n",
      "retrieving: 2125\n",
      "retrieving: 2130\n",
      "retrieving: 2135\n",
      "retrieving: 2140\n",
      "retrieving: 2145\n",
      "retrieving: 2150\n",
      "retrieving: 2155\n",
      "retrieving: 2160\n",
      "retrieving: 2165\n",
      "retrieving: 2170\n",
      "retrieving: 2175\n",
      "retrieving: 2180\n",
      "retrieving: 2185\n",
      "retrieving: 2190\n",
      "retrieving: 2195\n",
      "retrieving: 2200\n",
      "retrieving: 2205\n",
      "retrieving: 2210\n",
      "retrieving: 2215\n",
      "retrieving: 2220\n",
      "retrieving: 2225\n",
      "retrieving: 2230\n",
      "retrieving: 2235\n",
      "retrieving: 2240\n",
      "retrieving: 2245\n",
      "retrieving: 2250\n",
      "retrieving: 2255\n",
      "retrieving: 2260\n",
      "retrieving: 2265\n",
      "retrieving: 2270\n",
      "retrieving: 2275\n",
      "retrieving: 2280\n",
      "retrieving: 2285\n",
      "retrieving: 2290\n",
      "retrieving: 2295\n",
      "retrieving: 2300\n",
      "retrieving: 2305\n",
      "retrieving: 2310\n",
      "retrieving: 2315\n",
      "retrieving: 2320\n",
      "retrieving: 2325\n",
      "retrieving: 2330\n",
      "retrieving: 2335\n",
      "retrieving: 2340\n",
      "retrieving: 2345\n",
      "retrieving: 2350\n",
      "retrieving: 2355\n",
      "retrieving: 2360\n",
      "retrieving: 2365\n",
      "retrieving: 2370\n",
      "retrieving: 2375\n",
      "retrieving: 2380\n",
      "retrieving: 2385\n",
      "retrieving: 2390\n",
      "retrieving: 2395\n",
      "retrieving: 2400\n",
      "retrieving: 2405\n",
      "retrieving: 2410\n",
      "retrieving: 2415\n",
      "retrieving: 2420\n",
      "retrieving: 2425\n",
      "retrieving: 2430\n",
      "retrieving: 2435\n",
      "retrieving: 2440\n",
      "retrieving: 2445\n",
      "retrieving: 2450\n",
      "retrieving: 2455\n",
      "retrieving: 2460\n",
      "retrieving: 2465\n"
     ]
    },
    {
     "name": "stdout",
     "output_type": "stream",
     "text": [
      "retrieving: 2470\n",
      "retrieving: 2475\n",
      "retrieving: 2480\n",
      "retrieving: 2485\n",
      "retrieving: 2490\n",
      "retrieving: 2495\n",
      "retrieving: 2500\n",
      "retrieving: 2505\n",
      "retrieving: 2510\n",
      "retrieving: 2515\n",
      "retrieving: 2520\n",
      "retrieving: 2525\n",
      "retrieving: 2530\n",
      "retrieving: 2535\n",
      "retrieving: 2540\n",
      "retrieving: 2545\n",
      "retrieving: 2550\n",
      "retrieving: 2555\n",
      "retrieving: 2560\n",
      "retrieving: 2565\n",
      "retrieving: 2570\n",
      "retrieving: 2575\n",
      "retrieving: 2580\n",
      "Process completed\n",
      "Process completed\n",
      "Process completed\n",
      "Process completed\n",
      "Process completed\n"
     ]
    }
   ],
   "source": [
    "# import all the data!\n",
    "max_size = len(hed)\n",
    "print(max_size)\n",
    "allHandEngineeredData = hed[:max_size]\n"
   ]
  },
  {
   "cell_type": "code",
   "execution_count": 57,
   "metadata": {},
   "outputs": [],
   "source": [
    "from sklearn.linear_model import LinearRegression\n",
    "from sklearn.metrics import r2_score\n",
    "from sklearn.feature_selection import chi2\n",
    "from sklearn.preprocessing import MinMaxScaler\n",
    "mm = MinMaxScaler()\n",
    "lr = LinearRegression()"
   ]
  },
  {
   "cell_type": "code",
   "execution_count": 58,
   "metadata": {},
   "outputs": [
    {
     "data": {
      "text/plain": [
       "1"
      ]
     },
     "execution_count": 58,
     "metadata": {},
     "output_type": "execute_result"
    }
   ],
   "source": [
    "sum([type(datum) == int for datum in allHandEngineeredData])"
   ]
  },
  {
   "cell_type": "code",
   "execution_count": 70,
   "metadata": {},
   "outputs": [
    {
     "data": {
      "text/plain": [
       "(100, 168)"
      ]
     },
     "execution_count": 70,
     "metadata": {},
     "output_type": "execute_result"
    }
   ],
   "source": [
    "trainSlice = slice(max_size - 100)\n",
    "testSlice = slice(-100, None)\n",
    "allHandEngineeredData = np.nan_to_num(allHandEngineeredData)\n",
    "trainData = (mm.fit_transform(np.stack(allHandEngineeredData[trainSlice])))\n",
    "testData = (mm.fit_transform(np.stack(allHandEngineeredData[testSlice])))\n",
    "trainAges = (np.array(ages[trainSlice]).reshape(-1,1))\n",
    "testAges = (np.array(ages[testSlice]).reshape(-1,1))\n",
    "trainData.shape\n",
    "testData.shape"
   ]
  },
  {
   "cell_type": "code",
   "execution_count": 69,
   "metadata": {},
   "outputs": [],
   "source": [
    "max_size = 500"
   ]
  },
  {
   "cell_type": "code",
   "execution_count": 71,
   "metadata": {},
   "outputs": [
    {
     "data": {
      "text/plain": [
       "(True, True)"
      ]
     },
     "execution_count": 71,
     "metadata": {},
     "output_type": "execute_result"
    }
   ],
   "source": [
    "np.isnan(trainData).any().any(), np.isnan(trainData).any().any()"
   ]
  },
  {
   "cell_type": "code",
   "execution_count": 64,
   "metadata": {},
   "outputs": [
    {
     "ename": "ValueError",
     "evalue": "Input contains NaN, infinity or a value too large for dtype('float64').",
     "output_type": "error",
     "traceback": [
      "\u001b[0;31m---------------------------------------------------------------------------\u001b[0m",
      "\u001b[0;31mValueError\u001b[0m                                Traceback (most recent call last)",
      "\u001b[0;32m<ipython-input-64-57467de3ebb0>\u001b[0m in \u001b[0;36m<module>\u001b[0;34m\u001b[0m\n\u001b[0;32m----> 1\u001b[0;31m \u001b[0mfeat_sel\u001b[0m \u001b[0;34m=\u001b[0m \u001b[0mchi2\u001b[0m\u001b[0;34m(\u001b[0m\u001b[0mtrainData\u001b[0m\u001b[0;34m,\u001b[0m \u001b[0mtrainAges\u001b[0m\u001b[0;34m)\u001b[0m\u001b[0;34m[\u001b[0m\u001b[0;36m1\u001b[0m\u001b[0;34m]\u001b[0m \u001b[0;34m<\u001b[0m \u001b[0;36m0.5\u001b[0m\u001b[0;34m\u001b[0m\u001b[0;34m\u001b[0m\u001b[0m\n\u001b[0m\u001b[1;32m      2\u001b[0m \u001b[0moriginalTrainData\u001b[0m \u001b[0;34m=\u001b[0m \u001b[0mtrainData\u001b[0m\u001b[0;34m\u001b[0m\u001b[0;34m\u001b[0m\u001b[0m\n\u001b[1;32m      3\u001b[0m \u001b[0moriginalTestData\u001b[0m \u001b[0;34m=\u001b[0m \u001b[0mtestData\u001b[0m\u001b[0;34m\u001b[0m\u001b[0;34m\u001b[0m\u001b[0m\n\u001b[1;32m      4\u001b[0m \u001b[0mtrainData\u001b[0m\u001b[0;34m=\u001b[0m \u001b[0mtrainData\u001b[0m\u001b[0;34m[\u001b[0m\u001b[0;34m:\u001b[0m\u001b[0;34m,\u001b[0m\u001b[0mfeat_sel\u001b[0m\u001b[0;34m]\u001b[0m\u001b[0;34m\u001b[0m\u001b[0;34m\u001b[0m\u001b[0m\n\u001b[1;32m      5\u001b[0m \u001b[0mtestData\u001b[0m \u001b[0;34m=\u001b[0m \u001b[0mtestData\u001b[0m\u001b[0;34m[\u001b[0m\u001b[0;34m:\u001b[0m\u001b[0;34m,\u001b[0m\u001b[0mfeat_sel\u001b[0m\u001b[0;34m]\u001b[0m\u001b[0;34m\u001b[0m\u001b[0;34m\u001b[0m\u001b[0m\n",
      "\u001b[0;32m~/miniconda3/envs/keras-redo/lib/python3.7/site-packages/sklearn/feature_selection/univariate_selection.py\u001b[0m in \u001b[0;36mchi2\u001b[0;34m(X, y)\u001b[0m\n\u001b[1;32m    212\u001b[0m     \u001b[0;31m# XXX: we might want to do some of the following in logspace instead for\u001b[0m\u001b[0;34m\u001b[0m\u001b[0;34m\u001b[0m\u001b[0;34m\u001b[0m\u001b[0m\n\u001b[1;32m    213\u001b[0m     \u001b[0;31m# numerical stability.\u001b[0m\u001b[0;34m\u001b[0m\u001b[0;34m\u001b[0m\u001b[0;34m\u001b[0m\u001b[0m\n\u001b[0;32m--> 214\u001b[0;31m     \u001b[0mX\u001b[0m \u001b[0;34m=\u001b[0m \u001b[0mcheck_array\u001b[0m\u001b[0;34m(\u001b[0m\u001b[0mX\u001b[0m\u001b[0;34m,\u001b[0m \u001b[0maccept_sparse\u001b[0m\u001b[0;34m=\u001b[0m\u001b[0;34m'csr'\u001b[0m\u001b[0;34m)\u001b[0m\u001b[0;34m\u001b[0m\u001b[0;34m\u001b[0m\u001b[0m\n\u001b[0m\u001b[1;32m    215\u001b[0m     \u001b[0;32mif\u001b[0m \u001b[0mnp\u001b[0m\u001b[0;34m.\u001b[0m\u001b[0many\u001b[0m\u001b[0;34m(\u001b[0m\u001b[0;34m(\u001b[0m\u001b[0mX\u001b[0m\u001b[0;34m.\u001b[0m\u001b[0mdata\u001b[0m \u001b[0;32mif\u001b[0m \u001b[0missparse\u001b[0m\u001b[0;34m(\u001b[0m\u001b[0mX\u001b[0m\u001b[0;34m)\u001b[0m \u001b[0;32melse\u001b[0m \u001b[0mX\u001b[0m\u001b[0;34m)\u001b[0m \u001b[0;34m<\u001b[0m \u001b[0;36m0\u001b[0m\u001b[0;34m)\u001b[0m\u001b[0;34m:\u001b[0m\u001b[0;34m\u001b[0m\u001b[0;34m\u001b[0m\u001b[0m\n\u001b[1;32m    216\u001b[0m         \u001b[0;32mraise\u001b[0m \u001b[0mValueError\u001b[0m\u001b[0;34m(\u001b[0m\u001b[0;34m\"Input X must be non-negative.\"\u001b[0m\u001b[0;34m)\u001b[0m\u001b[0;34m\u001b[0m\u001b[0;34m\u001b[0m\u001b[0m\n",
      "\u001b[0;32m~/miniconda3/envs/keras-redo/lib/python3.7/site-packages/sklearn/utils/validation.py\u001b[0m in \u001b[0;36mcheck_array\u001b[0;34m(array, accept_sparse, accept_large_sparse, dtype, order, copy, force_all_finite, ensure_2d, allow_nd, ensure_min_samples, ensure_min_features, warn_on_dtype, estimator)\u001b[0m\n\u001b[1;32m    540\u001b[0m         \u001b[0;32mif\u001b[0m \u001b[0mforce_all_finite\u001b[0m\u001b[0;34m:\u001b[0m\u001b[0;34m\u001b[0m\u001b[0;34m\u001b[0m\u001b[0m\n\u001b[1;32m    541\u001b[0m             _assert_all_finite(array,\n\u001b[0;32m--> 542\u001b[0;31m                                allow_nan=force_all_finite == 'allow-nan')\n\u001b[0m\u001b[1;32m    543\u001b[0m \u001b[0;34m\u001b[0m\u001b[0m\n\u001b[1;32m    544\u001b[0m     \u001b[0;32mif\u001b[0m \u001b[0mensure_min_samples\u001b[0m \u001b[0;34m>\u001b[0m \u001b[0;36m0\u001b[0m\u001b[0;34m:\u001b[0m\u001b[0;34m\u001b[0m\u001b[0;34m\u001b[0m\u001b[0m\n",
      "\u001b[0;32m~/miniconda3/envs/keras-redo/lib/python3.7/site-packages/sklearn/utils/validation.py\u001b[0m in \u001b[0;36m_assert_all_finite\u001b[0;34m(X, allow_nan)\u001b[0m\n\u001b[1;32m     54\u001b[0m                 not allow_nan and not np.isfinite(X).all()):\n\u001b[1;32m     55\u001b[0m             \u001b[0mtype_err\u001b[0m \u001b[0;34m=\u001b[0m \u001b[0;34m'infinity'\u001b[0m \u001b[0;32mif\u001b[0m \u001b[0mallow_nan\u001b[0m \u001b[0;32melse\u001b[0m \u001b[0;34m'NaN, infinity'\u001b[0m\u001b[0;34m\u001b[0m\u001b[0;34m\u001b[0m\u001b[0m\n\u001b[0;32m---> 56\u001b[0;31m             \u001b[0;32mraise\u001b[0m \u001b[0mValueError\u001b[0m\u001b[0;34m(\u001b[0m\u001b[0mmsg_err\u001b[0m\u001b[0;34m.\u001b[0m\u001b[0mformat\u001b[0m\u001b[0;34m(\u001b[0m\u001b[0mtype_err\u001b[0m\u001b[0;34m,\u001b[0m \u001b[0mX\u001b[0m\u001b[0;34m.\u001b[0m\u001b[0mdtype\u001b[0m\u001b[0;34m)\u001b[0m\u001b[0;34m)\u001b[0m\u001b[0;34m\u001b[0m\u001b[0;34m\u001b[0m\u001b[0m\n\u001b[0m\u001b[1;32m     57\u001b[0m     \u001b[0;31m# for object dtype data, we only check for NaNs (GH-13254)\u001b[0m\u001b[0;34m\u001b[0m\u001b[0;34m\u001b[0m\u001b[0;34m\u001b[0m\u001b[0m\n\u001b[1;32m     58\u001b[0m     \u001b[0;32melif\u001b[0m \u001b[0mX\u001b[0m\u001b[0;34m.\u001b[0m\u001b[0mdtype\u001b[0m \u001b[0;34m==\u001b[0m \u001b[0mnp\u001b[0m\u001b[0;34m.\u001b[0m\u001b[0mdtype\u001b[0m\u001b[0;34m(\u001b[0m\u001b[0;34m'object'\u001b[0m\u001b[0;34m)\u001b[0m \u001b[0;32mand\u001b[0m \u001b[0;32mnot\u001b[0m \u001b[0mallow_nan\u001b[0m\u001b[0;34m:\u001b[0m\u001b[0;34m\u001b[0m\u001b[0;34m\u001b[0m\u001b[0m\n",
      "\u001b[0;31mValueError\u001b[0m: Input contains NaN, infinity or a value too large for dtype('float64')."
     ]
    }
   ],
   "source": [
    "feat_sel = chi2(trainData, trainAges)[1] < 0.5\n",
    "originalTrainData = trainData\n",
    "originalTestData = testData\n",
    "trainData= trainData[:,feat_sel]\n",
    "testData = testData[:,feat_sel]\n",
    "\n",
    "# feat_sel = slice(-1)"
   ]
  },
  {
   "cell_type": "code",
   "execution_count": null,
   "metadata": {},
   "outputs": [],
   "source": [
    "lr.fit(trainData[:], trainAges)\n",
    "y_pred = lr.predict(testData[:])\n",
    "y_pred[y_pred < 20] = 20\n",
    "y_pred[y_pred > 90] = 90\n",
    "r2_score(y_pred, testAges)"
   ]
  },
  {
   "cell_type": "code",
   "execution_count": null,
   "metadata": {},
   "outputs": [],
   "source": [
    "from scipy.stats import pearsonr\n",
    "testAgesR = mm.fit_transform(testAges)\n",
    "y_predR = mm.transform(y_pred.reshape(-1, 1))\n",
    "print('adjusted r^2 score', r2_score(y_predR, testAgesR))\n",
    "print('r score ', pearsonr(y_predR.reshape(-1), testAgesR.reshape(-1)))\n",
    "print('r^2 score ', pearsonr(y_predR.reshape(-1), testAgesR.reshape(-1))[0]**2)\n",
    "plt.plot(y_pred, testAges, \"*\")\n",
    "plt.xlabel(\"Prediction\")\n",
    "plt.ylabel(\"Actual\")"
   ]
  },
  {
   "cell_type": "code",
   "execution_count": null,
   "metadata": {
    "scrolled": true
   },
   "outputs": [],
   "source": [
    "from sklearn.ensemble import RandomForestClassifier as RF\n",
    "from scipy.stats.stats import pearsonr\n",
    "rf = RF(n_estimators=10, max_depth=3)\n",
    "rf.fit(np.nan_to_num(trainData), trainAges)\n",
    "y_pred = rf.predict(testData)\n",
    "plt.plot(y_pred, testAges, \"*\")\n",
    "print('adjusted r^2 score', r2_score(y_pred, testAges))\n",
    "print('r score ', pearsonr(y_pred, testAges.reshape(-1)))\n",
    "print('r^2 score ', pearsonr(y_pred, testAges.reshape(-1))[0]**2)\n",
    "\n",
    "plt.xlabel(\"Prediction\")\n",
    "plt.ylabel(\"Actual\")"
   ]
  },
  {
   "cell_type": "markdown",
   "metadata": {},
   "source": [
    "# BPM predictions"
   ]
  },
  {
   "cell_type": "code",
   "execution_count": 128,
   "metadata": {
    "scrolled": true
   },
   "outputs": [
    {
     "data": {
      "text/plain": [
       "['EEG T5-REF',\n",
       " 'EEG C3-REF',\n",
       " 'EEG A1-REF',\n",
       " 'EEG P4-REF',\n",
       " 'EEG F8-REF',\n",
       " 'EEG F3-REF',\n",
       " 'EEG CZ-REF',\n",
       " 'EEG O2-REF',\n",
       " 'EEG A2-REF',\n",
       " 'EEG P3-REF',\n",
       " 'EEG C4-REF',\n",
       " 'EEG O1-REF',\n",
       " 'EEG T4-REF',\n",
       " 'EEG F4-REF',\n",
       " 'EEG F7-REF',\n",
       " 'EEG PZ-REF',\n",
       " 'EEG FP1-REF',\n",
       " 'EEG FZ-REF',\n",
       " 'EEG T3-REF',\n",
       " 'EEG T6-REF',\n",
       " 'EEG FP2-REF']"
      ]
     },
     "execution_count": 128,
     "metadata": {},
     "output_type": "execute_result"
    }
   ],
   "source": [
    "allColumns = util_funcs.get_common_channel_names()\n",
    "allColumns"
   ]
  },
  {
   "cell_type": "code",
   "execution_count": 35,
   "metadata": {},
   "outputs": [],
   "source": [
    "#based on https://www.ers-education.org/lrmedia/2016/pdf/298830.pdf\n",
    "columns_to_use = ['EEG F4-REF','EEG C4-REF','EEG O2-REF',]"
   ]
  },
  {
   "cell_type": "code",
   "execution_count": 129,
   "metadata": {},
   "outputs": [],
   "source": [
    "edfRawDataBPM = read.EdfDataset(\"train\", \"01_tcp_ar\", n_process=7, filter=False, columns_to_use=columns_to_use)\n",
    "# edfRawDataBPM = read.EdfDataset(\"train\", \"01_tcp_ar\", n_process=8, filter=False)"
   ]
  },
  {
   "cell_type": "code",
   "execution_count": 131,
   "metadata": {},
   "outputs": [],
   "source": [
    "resBPM = cta.getAgesAndFileNames(\"train\", \"01_tcp_ar\")\n",
    "singBPM = [datum[1] for datum in resBPM]\n",
    "fn = [datum[0] for datum in resBPM]\n",
    "bpms = []\n",
    "#associate first token file with each session for now\n",
    "tokenFiles = []\n",
    "for i, session_file in enumerate(fn):\n",
    "    session_dir = path.dirname(session_file)\n",
    "    session_tkn_files = read.get_token_file_names(session_dir)\n",
    "    session_tkn_files.sort()\n",
    "    tokenFiles += (session_tkn_files)\n",
    "    bpms += [singBPM[i] for j in session_tkn_files]\n",
    "edfRawDataBPM.edf_tokens=tokenFiles"
   ]
  },
  {
   "cell_type": "code",
   "execution_count": 168,
   "metadata": {},
   "outputs": [
    {
     "data": {
      "image/png": "[encoded data removed]",
      "text/plain": [
       "<Figure size 432x288 with 1 Axes>"
      ]
     },
     "metadata": {
      "needs_background": "light"
     },
     "output_type": "display_data"
    }
   ],
   "source": [
    "num, bins, fig = plt.hist(bpms)"
   ]
  },
  {
   "cell_type": "markdown",
   "metadata": {},
   "source": [
    "Maybe we can just try to \"cheat\" and look for ECG residual noise and pulse artifact noise as data to predict BPM"
   ]
  },
  {
   "cell_type": "code",
   "execution_count": 214,
   "metadata": {},
   "outputs": [
    {
     "name": "stderr",
     "output_type": "stream",
     "text": [
      "/home/ms994/miniconda3/envs/keras-redo/lib/python3.7/site-packages/sklearn/preprocessing/_discretization.py:193: UserWarning: Bins whose width are too small (i.e., <= 1e-8) in feature 0 are removed. Consider decreasing the number of bins.\n",
      "  'decreasing the number of bins.' % jj)\n"
     ]
    },
    {
     "data": {
      "text/plain": [
       "KBinsDiscretizer(encode='onehot', n_bins=20, strategy='quantile')"
      ]
     },
     "execution_count": 214,
     "metadata": {},
     "output_type": "execute_result"
    }
   ],
   "source": [
    "from sklearn.preprocessing import KBinsDiscretizer\n",
    "kbins = KBinsDiscretizer(20)\n",
    "max_size = 500\n",
    "kbins.fit(np.array(bpms[:max_size]).reshape(-1,1))"
   ]
  },
  {
   "cell_type": "code",
   "execution_count": 217,
   "metadata": {},
   "outputs": [
    {
     "data": {
      "text/plain": [
       "array([19.  , 28.  , 33.  , 42.  , 42.8 , 49.  , 52.  , 53.  , 54.  ,\n",
       "       59.25, 61.  , 62.  , 62.1 , 75.  , 82.  ])"
      ]
     },
     "execution_count": 217,
     "metadata": {},
     "output_type": "execute_result"
    }
   ],
   "source": [
    "bins = kbins.bin_edges_[0]\n",
    "bins"
   ]
  },
  {
   "cell_type": "code",
   "execution_count": 218,
   "metadata": {},
   "outputs": [],
   "source": [
    "freq = [bpmbin/60 for bpmbin in [10] + bins + [100]]"
   ]
  },
  {
   "cell_type": "code",
   "execution_count": 38,
   "metadata": {},
   "outputs": [],
   "source": [
    "def norm_num_peaks_func(n):\n",
    "    return lambda x: feats.number_peaks(x, n) / len(x)\n",
    "\n",
    "def norm_num_vals_func(n):\n",
    "    return lambda x: feats.number_peaks(-x, n) / len(x)\n",
    "\n",
    "def autocorrelation(lag):\n",
    "    return lambda x: feats.autocorrelation(x, lag)\n"
   ]
  },
  {
   "cell_type": "code",
   "execution_count": 219,
   "metadata": {},
   "outputs": [],
   "source": [
    "reload(read)\n",
    "hedBPM = read.EdfFFTDatasetTransformer(edfRawDataBPM, freq_bins=freq, return_ann=False, n_process=7)\n",
    "# hedDfBPM = read.SimpleHandEngineeredDataset(edfRawDataBPM, vectorize=None, max_size=pd.Timedelta(minutes=2), n_process = 4, features=[feats.abs_energy, max, min, norm_num_peaks_func(20), norm_num_vals_func(20), autocorrelation(60), feats.skewness, feats.standard_deviation], f_names=[\"abs_energy\", \"max\", \"min\", \"num_peaks\", \"num_valleys\", \"autocorrelation\", \"skewness\", \"stdev\"])\n",
    "# hedBPM = read.SimpleHandEngineeredDataset(edfRawDataBPM, vectorize=\"full\", max_size=pd.Timedelta(minutes=2), n_process = 8, features=[feats.abs_energy, max, min, norm_num_peaks_func(20), norm_num_vals_func(20), autocorrelation(60), feats.skewness, feats.standard_deviation], f_names=[\"abs_energy\", \"max\", \"min\", \"num_peaks\", \"num_valleys\", \"autocorrelation\", \"skewness\", \"stdev\"])"
   ]
  },
  {
   "cell_type": "code",
   "execution_count": 221,
   "metadata": {},
   "outputs": [
    {
     "name": "stdout",
     "output_type": "stream",
     "text": [
      "Starting 7 processes\n",
      "retrieving: 0\n",
      "retrieving: 5\n",
      "retrieving: 10\n",
      "retrieving: 15\n",
      "retrieving: 20\n",
      "retrieving: 25\n",
      "retrieving: 30\n",
      "retrieving: 35\n",
      "retrieving: 40\n",
      "retrieving: 45\n",
      "retrieving: 50\n",
      "retrieving: 55\n",
      "retrieving: 60\n",
      "retrieving: 65\n",
      "retrieving: 70\n",
      "retrieving: 75\n",
      "retrieving: 80\n",
      "retrieving: 85\n",
      "retrieving: 90\n",
      "retrieving: 95\n",
      "retrieving: 100\n",
      "retrieving: 105\n",
      "retrieving: 110\n",
      "retrieving: 115\n",
      "retrieving: 120\n",
      "retrieving: 125\n",
      "retrieving: 130\n",
      "retrieving: 135\n",
      "retrieving: 140\n",
      "retrieving: 145\n",
      "retrieving: 150\n",
      "retrieving: 155\n",
      "retrieving: 160\n",
      "retrieving: 165\n",
      "retrieving: 170\n",
      "retrieving: 175\n",
      "retrieving: 180\n",
      "retrieving: 185\n",
      "retrieving: 190\n",
      "retrieving: 195\n",
      "retrieving: 200\n",
      "retrieving: 205\n",
      "retrieving: 210\n",
      "retrieving: 215\n",
      "retrieving: 220\n",
      "retrieving: 225\n",
      "retrieving: 230\n",
      "retrieving: 235\n",
      "retrieving: 240\n",
      "retrieving: 245\n",
      "retrieving: 250\n",
      "retrieving: 255\n",
      "retrieving: 260\n",
      "retrieving: 265\n",
      "retrieving: 270\n",
      "retrieving: 275\n",
      "retrieving: 280\n",
      "retrieving: 285\n",
      "retrieving: 290\n",
      "retrieving: 295\n",
      "retrieving: 300\n",
      "retrieving: 305\n",
      "retrieving: 310\n",
      "retrieving: 315\n",
      "retrieving: 320\n",
      "retrieving: 325\n",
      "retrieving: 330\n",
      "retrieving: 335\n",
      "retrieving: 340\n",
      "retrieving: 345\n",
      "retrieving: 350\n",
      "retrieving: 355\n",
      "retrieving: 360\n",
      "retrieving: 365\n",
      "retrieving: 370\n",
      "retrieving: 375\n",
      "retrieving: 380\n",
      "retrieving: 385\n",
      "retrieving: 390\n",
      "retrieving: 395\n",
      "retrieving: 400\n",
      "retrieving: 405\n",
      "retrieving: 410\n",
      "retrieving: 415\n",
      "retrieving: 420\n",
      "retrieving: 425\n",
      "retrieving: 430\n",
      "retrieving: 435\n",
      "retrieving: 440\n",
      "retrieving: 445\n",
      "retrieving: 450\n",
      "retrieving: 455\n",
      "retrieving: 460\n",
      "retrieving: 465\n",
      "retrieving: 470\n",
      "retrieving: 475\n",
      "retrieving: 480\n",
      "retrieving: 485\n",
      "retrieving: 490\n",
      "retrieving: 495\n",
      "Process completed\n",
      "Process completed\n",
      "Process completed\n",
      "Process completed\n",
      "Process completed\n",
      "Process completed\n",
      "Process completed\n"
     ]
    }
   ],
   "source": [
    "# import all the data!\n",
    "\n",
    "allHandEngineeredDataBPM = hedBPM[:max_size]\n"
   ]
  },
  {
   "cell_type": "code",
   "execution_count": 222,
   "metadata": {},
   "outputs": [],
   "source": [
    "from sklearn.linear_model import LinearRegression\n",
    "from sklearn.metrics import r2_score\n",
    "from sklearn.feature_selection import chi2\n",
    "from sklearn.preprocessing import MinMaxScaler\n",
    "from sklearn.model_selection import train_test_split\n",
    "mm = MinMaxScaler()\n",
    "lr = LinearRegression()"
   ]
  },
  {
   "cell_type": "code",
   "execution_count": 223,
   "metadata": {},
   "outputs": [
    {
     "data": {
      "text/plain": [
       "0"
      ]
     },
     "execution_count": 223,
     "metadata": {},
     "output_type": "execute_result"
    }
   ],
   "source": [
    "sum([type(datum) == int for datum in allHandEngineeredDataBPM])"
   ]
  },
  {
   "cell_type": "code",
   "execution_count": 224,
   "metadata": {},
   "outputs": [],
   "source": [
    "trainDataBPM, testDataBPM, trainBPM, testBPM = train_test_split(allHandEngineeredDataBPM, bpms[:max_size])\n",
    "# trainSliceBPM = slice(max_size - 100)\n",
    "# testSliceBPM = slice(-100, None)\n",
    "# allHandEngineeredData = np.nan_to_num(allHandEngineeredDataBPM)\n",
    "# trainDataBPM = (mm.fit_transform(np.stack(allHandEngineeredDataBPM[trainSlice])))\n",
    "# testDataBPM = (mm.fit_transform(np.stack(allHandEngineeredDataBPM[testSlice])))\n",
    "# trainAgesBPM = (np.array(bpms[trainSlice]).reshape(-1,1))\n",
    "# testAgesBPM = (np.array(bpms[testSlice]).reshape(-1,1))\n",
    "# trainDataBPM.shape\n",
    "# testDataBPM.shape"
   ]
  },
  {
   "cell_type": "code",
   "execution_count": 233,
   "metadata": {},
   "outputs": [],
   "source": [
    "\n",
    "flattenedTrainDataBPM = mm.fit_transform([datum.values.reshape(-1) for datum in trainDataBPM])\n",
    "flattenedTestDataBPM = mm.fit_transform([datum.values.reshape(-1) for datum in testDataBPM])\n"
   ]
  },
  {
   "cell_type": "code",
   "execution_count": 239,
   "metadata": {},
   "outputs": [
    {
     "data": {
      "text/plain": [
       "-0.9567294617615354"
      ]
     },
     "execution_count": 239,
     "metadata": {},
     "output_type": "execute_result"
    }
   ],
   "source": [
    "lr.fit(flattenedTrainDataBPM, trainBPM)\n",
    "y_pred = lr.predict(flattenedTestDataBPM)\n",
    "y_pred[y_pred < 10] = 10\n",
    "y_pred[y_pred > 90] = 90\n",
    "r2_score(y_pred, testBPM)"
   ]
  },
  {
   "cell_type": "code",
   "execution_count": 240,
   "metadata": {},
   "outputs": [
    {
     "name": "stdout",
     "output_type": "stream",
     "text": [
      "adjusted r^2 score -0.9567294617615354\n",
      "r score  (0.16560851861386308, 0.06493217995374931)\n",
      "r^2 score  0.027426181437478235\n"
     ]
    },
    {
     "data": {
      "text/plain": [
       "Text(0, 0.5, 'Actual')"
      ]
     },
     "execution_count": 240,
     "metadata": {},
     "output_type": "execute_result"
    },
    {
     "data": {
      "image/png": "[encoded data removed]",
      "text/plain": [
       "<Figure size 432x288 with 1 Axes>"
      ]
     },
     "metadata": {
      "needs_background": "light"
     },
     "output_type": "display_data"
    }
   ],
   "source": [
    "from scipy.stats import pearsonr\n",
    "print('adjusted r^2 score', r2_score(y_pred, testBPM))\n",
    "print('r score ', pearsonr(y_pred.reshape(-1), testBPM))\n",
    "print('r^2 score ', pearsonr(y_pred.reshape(-1), testBPM)[0]**2)\n",
    "plt.plot(y_pred, testBPM, \"*\")\n",
    "plt.xlabel(\"Prediction\")\n",
    "plt.ylabel(\"Actual\")"
   ]
  },
  {
   "cell_type": "code",
   "execution_count": 248,
   "metadata": {},
   "outputs": [
    {
     "data": {
      "text/plain": [
       "(array([ 15.,  16.,   9.,  39.,  42., 145.,  83.,   5.,  20.,   1.]),\n",
       " array([19. , 25.3, 31.6, 37.9, 44.2, 50.5, 56.8, 63.1, 69.4, 75.7, 82. ]),\n",
       " <a list of 10 Patch objects>)"
      ]
     },
     "execution_count": 248,
     "metadata": {},
     "output_type": "execute_result"
    },
    {
     "data": {
      "image/png": "[encoded data removed]",
      "text/plain": [
       "<Figure size 432x288 with 1 Axes>"
      ]
     },
     "metadata": {
      "needs_background": "light"
     },
     "output_type": "display_data"
    }
   ],
   "source": [
    "plt.hist(trainBPM)"
   ]
  },
  {
   "cell_type": "code",
   "execution_count": 250,
   "metadata": {},
   "outputs": [
    {
     "data": {
      "text/plain": [
       "(array([ 7.,  5.,  1., 10.,  5., 35., 26., 25.,  2.,  9.]),\n",
       " array([19. , 24.8, 30.6, 36.4, 42.2, 48. , 53.8, 59.6, 65.4, 71.2, 77. ]),\n",
       " <a list of 10 Patch objects>)"
      ]
     },
     "execution_count": 250,
     "metadata": {},
     "output_type": "execute_result"
    },
    {
     "data": {
      "image/png": "[encoded data removed]",
      "text/plain": [
       "<Figure size 432x288 with 1 Axes>"
      ]
     },
     "metadata": {
      "needs_background": "light"
     },
     "output_type": "display_data"
    }
   ],
   "source": [
    "plt.hist(testBPM)"
   ]
  },
  {
   "cell_type": "code",
   "execution_count": 247,
   "metadata": {
    "scrolled": true
   },
   "outputs": [
    {
     "name": "stdout",
     "output_type": "stream",
     "text": [
      "adjusted r^2 score -2.0090505859546384\n",
      "r score  (0.3508744804312407, 6.025753922801626e-05)\n",
      "r^2 score  0.12311290101789311\n"
     ]
    },
    {
     "data": {
      "text/plain": [
       "Text(0, 0.5, 'Actual')"
      ]
     },
     "execution_count": 247,
     "metadata": {},
     "output_type": "execute_result"
    },
    {
     "data": {
      "image/png": "[encoded data removed]",
      "text/plain": [
       "<Figure size 432x288 with 1 Axes>"
      ]
     },
     "metadata": {
      "needs_background": "light"
     },
     "output_type": "display_data"
    }
   ],
   "source": [
    "from sklearn.ensemble import RandomForestClassifier as RF\n",
    "from scipy.stats.stats import pearsonr\n",
    "rf = RF(n_estimators=10, max_depth=6)\n",
    "rf.fit(np.nan_to_num(flattenedTrainDataBPM), trainBPM)\n",
    "y_pred = rf.predict(flattenedTestDataBPM)\n",
    "plt.plot(y_pred, testBPM, \"*\")\n",
    "print('adjusted r^2 score', r2_score(y_pred, testBPM))\n",
    "print('r score ', pearsonr(y_pred, testBPM))\n",
    "print('r^2 score ', pearsonr(y_pred, testBPM)[0]**2)\n",
    "\n",
    "plt.xlabel(\"Prediction\")\n",
    "plt.ylabel(\"Actual\")"
   ]
  },
  {
   "cell_type": "markdown",
   "metadata": {},
   "source": [
    "# Gender"
   ]
  },
  {
   "cell_type": "code",
   "execution_count": 12,
   "metadata": {},
   "outputs": [],
   "source": [
    "reload(read)\n",
    "res = cta.getGenderAndFileNames(\"train\", \"01_tcp_ar\")\n",
    "singGenders = [datum[1] for datum in res]\n",
    "fn = [datum[0] for datum in res]\n",
    "genders = []\n",
    "#associate first token file with each session for now\n",
    "tokenFiles = []\n",
    "for i, session_file in enumerate(fn):\n",
    "    session_dir = path.dirname(session_file)\n",
    "    session_tkn_files = read.get_token_file_names(session_dir)\n",
    "    session_tkn_files.sort()\n",
    "    tokenFiles += (session_tkn_files)\n",
    "    genders += [singGenders[i] for j in session_tkn_files]\n"
   ]
  },
  {
   "cell_type": "code",
   "execution_count": 38,
   "metadata": {},
   "outputs": [
    {
     "data": {
      "text/plain": [
       "0.8730385164051355"
      ]
     },
     "execution_count": 38,
     "metadata": {},
     "output_type": "execute_result"
    }
   ],
   "source": [
    "#percentage of genders recovered\n",
    "len(singGenders)/ len(read.get_session_dir_names(\"train\", \"01_tcp_ar\"))"
   ]
  },
  {
   "cell_type": "code",
   "execution_count": 105,
   "metadata": {},
   "outputs": [],
   "source": [
    "\n",
    "#based on https://www.ers-education.org/lrmedia/2016/pdf/298830.pdf\n",
    "columns_to_use = ['EEG F4-REF','EEG C4-REF','EEG O2-REF',]\n",
    "edfRawData = read.EdfDataset(\"train\", \"01_tcp_ar\", n_process=7, filter=False, columns_to_use=columns_to_use, expand_tse=False)\n",
    "edfRawData.edf_tokens=tokenFiles\n",
    "edfABTGData = read.EdfFFTDatasetTransformer(edfRawData, freq_bins=[0,3.5,6,7.5,14,40], return_ann=False, n_process=7) #gamma, theta, alpha, beta"
   ]
  },
  {
   "cell_type": "code",
   "execution_count": 98,
   "metadata": {},
   "outputs": [
    {
     "data": {
      "text/plain": [
       "['EEG F4-REF', 'EEG C4-REF', 'EEG O2-REF']"
      ]
     },
     "execution_count": 98,
     "metadata": {},
     "output_type": "execute_result"
    }
   ],
   "source": [
    "edfABTGData.edf_dataset.columns_to_use"
   ]
  },
  {
   "cell_type": "code",
   "execution_count": 112,
   "metadata": {},
   "outputs": [
    {
     "name": "stdout",
     "output_type": "stream",
     "text": [
      "Starting 7 processes\n",
      "retrieving: 0\n",
      "retrieving: 5\n",
      "retrieving: 10\n",
      "retrieving: 15\n",
      "retrieving: 20\n",
      "retrieving: 25\n",
      "retrieving: 30\n",
      "retrieving: 35\n",
      "retrieving: 40\n",
      "retrieving: 45\n",
      "retrieving: 50\n",
      "retrieving: 55\n",
      "retrieving: 60\n",
      "retrieving: 65\n",
      "retrieving: 70\n",
      "retrieving: 75\n",
      "retrieving: 80\n",
      "retrieving: 85\n",
      "retrieving: 90\n",
      "retrieving: 95\n",
      "retrieving: 100\n",
      "retrieving: 105\n",
      "retrieving: 110\n",
      "retrieving: 115\n",
      "retrieving: 120\n",
      "retrieving: 125\n",
      "retrieving: 130\n",
      "retrieving: 135\n",
      "retrieving: 140\n",
      "retrieving: 145\n",
      "retrieving: 150\n",
      "retrieving: 155\n",
      "retrieving: 160\n",
      "retrieving: 165\n",
      "retrieving: 170\n",
      "retrieving: 175\n",
      "retrieving: 180\n",
      "retrieving: 185\n",
      "retrieving: 190\n",
      "retrieving: 195\n",
      "retrieving: 200\n",
      "retrieving: 205\n",
      "retrieving: 210\n",
      "retrieving: 215\n",
      "retrieving: 220\n",
      "retrieving: 225\n",
      "retrieving: 230\n",
      "retrieving: 235\n",
      "retrieving: 240\n",
      "retrieving: 245\n",
      "retrieving: 250\n",
      "retrieving: 255\n",
      "retrieving: 260\n",
      "retrieving: 265\n",
      "retrieving: 270\n",
      "retrieving: 275\n",
      "retrieving: 280\n",
      "retrieving: 285\n",
      "retrieving: 290\n",
      "retrieving: 295\n",
      "retrieving: 300\n",
      "retrieving: 305\n",
      "retrieving: 310\n",
      "retrieving: 315\n",
      "retrieving: 320\n",
      "retrieving: 325\n",
      "retrieving: 330\n",
      "retrieving: 335\n",
      "retrieving: 340\n",
      "retrieving: 345\n",
      "retrieving: 350\n",
      "retrieving: 355\n",
      "retrieving: 360\n",
      "retrieving: 365\n",
      "retrieving: 370\n",
      "retrieving: 375\n",
      "retrieving: 380\n",
      "retrieving: 385\n",
      "retrieving: 390\n",
      "retrieving: 395\n",
      "retrieving: 400\n",
      "retrieving: 405\n",
      "retrieving: 410\n",
      "retrieving: 415\n",
      "retrieving: 420\n",
      "retrieving: 425\n",
      "retrieving: 430\n",
      "retrieving: 435\n",
      "retrieving: 440\n",
      "retrieving: 445\n",
      "retrieving: 450\n",
      "retrieving: 455\n",
      "retrieving: 460\n",
      "retrieving: 465\n",
      "retrieving: 470\n",
      "retrieving: 475\n",
      "retrieving: 480\n",
      "retrieving: 485\n",
      "retrieving: 490\n",
      "retrieving: 495\n",
      "retrieving: 500\n",
      "retrieving: 505\n",
      "retrieving: 510\n",
      "retrieving: 515\n",
      "retrieving: 520\n",
      "retrieving: 525\n",
      "retrieving: 530\n",
      "retrieving: 535\n",
      "retrieving: 540\n",
      "retrieving: 545\n",
      "retrieving: 550\n",
      "retrieving: 555\n",
      "retrieving: 560\n",
      "retrieving: 565\n",
      "retrieving: 570\n",
      "retrieving: 575\n",
      "retrieving: 580\n",
      "retrieving: 585\n",
      "retrieving: 590\n",
      "retrieving: 595\n",
      "retrieving: 600\n",
      "retrieving: 605\n",
      "retrieving: 610\n",
      "retrieving: 615\n",
      "retrieving: 620\n",
      "retrieving: 625\n",
      "retrieving: 630\n",
      "retrieving: 635\n",
      "retrieving: 640\n",
      "retrieving: 645\n",
      "retrieving: 650\n",
      "retrieving: 655\n",
      "retrieving: 660\n",
      "retrieving: 665\n",
      "retrieving: 670\n",
      "retrieving: 675\n",
      "retrieving: 680\n",
      "retrieving: 685\n",
      "retrieving: 690\n",
      "retrieving: 695\n",
      "retrieving: 700\n",
      "retrieving: 705\n",
      "retrieving: 710\n",
      "retrieving: 715\n",
      "retrieving: 720\n",
      "retrieving: 725\n",
      "retrieving: 730\n",
      "retrieving: 735\n",
      "retrieving: 740\n",
      "retrieving: 745\n",
      "retrieving: 750\n",
      "retrieving: 755\n",
      "retrieving: 760\n",
      "retrieving: 765\n",
      "retrieving: 770\n",
      "retrieving: 775\n",
      "retrieving: 780\n",
      "retrieving: 785\n",
      "retrieving: 790\n",
      "retrieving: 795\n",
      "Process completed\n",
      "Process completed\n",
      "Process completed\n",
      "Process completed\n",
      "Process completed\n",
      "Process completed\n",
      "Process completed\n"
     ]
    }
   ],
   "source": [
    "max_size = 800\n",
    "data = edfABTGData[:max_size]"
   ]
  },
  {
   "cell_type": "code",
   "execution_count": 113,
   "metadata": {},
   "outputs": [],
   "source": [
    "allData = np.stack([datum.values.reshape(-1) for datum in data])"
   ]
  },
  {
   "cell_type": "code",
   "execution_count": 92,
   "metadata": {},
   "outputs": [
    {
     "data": {
      "text/plain": [
       "False"
      ]
     },
     "execution_count": 92,
     "metadata": {},
     "output_type": "execute_result"
    }
   ],
   "source": [
    "np.isnan(allData).any().any()"
   ]
  },
  {
   "cell_type": "code",
   "execution_count": 115,
   "metadata": {},
   "outputs": [
    {
     "name": "stdout",
     "output_type": "stream",
     "text": [
      "800\n"
     ]
    }
   ],
   "source": [
    "from sklearn.preprocessing import MinMaxScaler\n",
    "from sklearn.linear_model import LogisticRegression\n",
    "from sklearn.metrics import accuracy_score\n",
    "from sklearn.model_selection import train_test_split\n",
    "\n",
    "mm = MinMaxScaler()\n",
    "numericGenders = np.array([1 if gend=='m' else 0 for gend in genders])\n",
    "trainSliceG = slice(max_size - 100)\n",
    "testSliceG = slice(-100, None)\n",
    "\n",
    "print(max_size)\n",
    "trainDataG, testDataG, trainGenders, testGenders = train_test_split(allData, numericGenders[:max_size], stratify=numericGenders[:max_size], test_size=0.25)\n",
    "\n",
    "# trainDataG = ((np.stack(allData[trainSliceG])))\n",
    "# testDataG = ((np.stack(allData[testSliceG])))\n",
    "# trainGenders = (np.array(numericGenders[trainSliceG]).reshape(-1,1))\n",
    "# testGenders = (np.array(numericGenders[testSliceG]).reshape(-1,1))\n",
    "# trainDataG.shape\n",
    "# testDataG.shape\n",
    "# trainGenders.shape"
   ]
  },
  {
   "cell_type": "code",
   "execution_count": null,
   "metadata": {
    "scrolled": true
   },
   "outputs": [],
   "source": [
    "lr = LogisticRegression()\n",
    "lr.fit(trainDataG, trainGenders)\n",
    "y_pred = lr.predict(testDataG[:])\n",
    "# r2_score(y_pred, testGenders)\n",
    "from sklearn.metrics import auc, f1_score\n",
    "y_pred = [1 if pred > 0.5 else 0 for pred in y_pred]\n",
    "print(f1_score(testGenders, y_pred), accuracy_score(testGenders, y_pred))\n",
    "\n",
    "# r2_score(y_pred, trainGenders)\n",
    "\n",
    "# sum(trainGenders), sum(testGenders), len(trainGenders)"
   ]
  },
  {
   "cell_type": "code",
   "execution_count": 127,
   "metadata": {
    "scrolled": false
   },
   "outputs": [
    {
     "name": "stdout",
     "output_type": "stream",
     "text": [
      "accuracy 0.705\n",
      "f1 score 0.43809523809523815\n",
      "accuracy 0.68\n",
      "f1 score 0.38461538461538464\n",
      "accuracy 0.72\n",
      "f1 score 0.47169811320754707\n",
      "accuracy 0.71\n",
      "f1 score 0.4629629629629629\n",
      "accuracy 0.705\n",
      "f1 score 0.4587155963302752\n",
      "0.704\n",
      "0.44321745904228155\n"
     ]
    }
   ],
   "source": [
    "from sklearn.ensemble import RandomForestClassifier as RF\n",
    "from scipy.stats.stats import pearsonr\n",
    "from sklearn.metrics import f1_score\n",
    "accuracies = []\n",
    "f1_scores = []\n",
    "for i in range(5):\n",
    "    rf = RF(n_estimators=200, max_depth=10)\n",
    "    rf.fit(np.nan_to_num(trainDataG), trainGenders)\n",
    "    y_pred = rf.predict(testDataG)\n",
    "#     plt.plot(y_pred, testGenders, \"*\")\n",
    "# print('adjusted r^2 score', r2_score(y_pred, trainGenders))\n",
    "# print('r score ', pearsonr(y_pred, testAgesBPM.reshape(-1)))\n",
    "# print('r^2 score ', pearsonr(y_pred, testAgesBPM.reshape(-1))[0]**2)\n",
    "    print('accuracy', accuracy_score(y_pred, testGenders))\n",
    "    accuracies.append(accuracy_score(y_pred, testGenders))\n",
    "    print('f1 score', f1_score(y_pred, testGenders))\n",
    "    f1_scores.append(f1_score(y_pred, testGenders))\n",
    "print(np.mean(accuracies))\n",
    "print(np.mean(f1_scores))\n",
    "# plt.xlabel(\"Prediction\")\n",
    "# plt.ylabel(\"Actual\")"
   ]
  },
  {
   "cell_type": "code",
   "execution_count": 252,
   "metadata": {},
   "outputs": [
    {
     "data": {
      "text/plain": [
       "0.645"
      ]
     },
     "execution_count": 252,
     "metadata": {},
     "output_type": "execute_result"
    }
   ],
   "source": [
    "1 - sum(testGenders) / len(testGenders)"
   ]
  },
  {
   "cell_type": "markdown",
   "metadata": {},
   "source": [
    "### Going to try to do analysis on the freq band now\n",
    "https://www.nature.com/articles/s41598-018-21495-7\n",
    "https://www.sciencedirect.com/science/article/pii/S0028393210004100?via%3Dihub"
   ]
  },
  {
   "cell_type": "code",
   "execution_count": null,
   "metadata": {},
   "outputs": [],
   "source": []
  }
 ],
 "metadata": {
  "kernelspec": {
   "display_name": "Python 3",
   "language": "python",
   "name": "python3"
  },
  "language_info": {
   "codemirror_mode": {
    "name": "ipython",
    "version": 3
   },
   "file_extension": ".py",
   "mimetype": "text/x-python",
   "name": "python",
   "nbconvert_exporter": "python",
   "pygments_lexer": "ipython3",
   "version": "3.7.3"
  }
 },
 "nbformat": 4,
 "nbformat_minor": 2
}
